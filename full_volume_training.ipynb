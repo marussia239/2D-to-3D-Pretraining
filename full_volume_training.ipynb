{
 "cells": [
  {
   "cell_type": "markdown",
   "metadata": {},
   "source": [
    "# Medical Image Classification"
   ]
  },
  {
   "cell_type": "code",
   "execution_count": 60,
   "metadata": {
    "jupyter": {
     "is_executing": true
    }
   },
   "outputs": [
    {
     "name": "stdout",
     "output_type": "stream",
     "text": [
      "MONAI version: 1.4.dev2441\n",
      "Numpy version: 1.26.3\n",
      "Pytorch version: 2.2.1\n",
      "MONAI flags: HAS_EXT = False, USE_COMPILED = False, USE_META_DICT = False\n",
      "MONAI rev id: cf815ed4e44a5b8ce67e894ab0bc2765279a1a59\n",
      "MONAI __file__: /mnt/hdd/<username>/.local/lib/python3.10/site-packages/monai/__init__.py\n",
      "\n",
      "Optional dependencies:\n",
      "Pytorch Ignite version: NOT INSTALLED or UNKNOWN VERSION.\n",
      "ITK version: NOT INSTALLED or UNKNOWN VERSION.\n",
      "Nibabel version: NOT INSTALLED or UNKNOWN VERSION.\n",
      "scikit-image version: 0.25.1\n",
      "scipy version: 1.15.1\n",
      "Pillow version: 10.2.0\n",
      "Tensorboard version: 2.18.0\n",
      "gdown version: NOT INSTALLED or UNKNOWN VERSION.\n",
      "TorchVision version: 0.17.1\n",
      "tqdm version: 4.67.1\n",
      "lmdb version: NOT INSTALLED or UNKNOWN VERSION.\n",
      "psutil version: 5.9.0\n",
      "pandas version: 2.2.3\n",
      "einops version: 0.8.0\n",
      "transformers version: 4.48.2\n",
      "mlflow version: NOT INSTALLED or UNKNOWN VERSION.\n",
      "pynrrd version: NOT INSTALLED or UNKNOWN VERSION.\n",
      "clearml version: NOT INSTALLED or UNKNOWN VERSION.\n",
      "\n",
      "For details about installing the optional dependencies, please visit:\n",
      "    https://docs.monai.io/en/latest/installation.html#installing-the-recommended-dependencies\n",
      "\n"
     ]
    }
   ],
   "source": [
    "from tqdm import tqdm\n",
    "import glob\n",
    "import numpy as np\n",
    "import pandas as pd\n",
    "import os\n",
    "import PIL\n",
    "import time\n",
    "import psutil\n",
    "import shutil\n",
    "import tempfile\n",
    "import matplotlib.pyplot as plt\n",
    "import torch\n",
    "import torch.nn as nn\n",
    "import torch.optim as optim\n",
    "import torch.utils.data as data\n",
    "import torchvision.transforms as transforms\n",
    "import torchvision.models as models\n",
    "from torch.utils.tensorboard import SummaryWriter\n",
    "from sklearn.metrics import classification_report\n",
    "\n",
    "import medmnist\n",
    "from medmnist import INFO, Evaluator\n",
    "\n",
    "from monai.apps import download_and_extract\n",
    "from monai.config import print_config\n",
    "from monai.data import decollate_batch, DataLoader, Dataset\n",
    "from monai.metrics import ROCAUCMetric\n",
    "import monai.networks.nets as nets\n",
    "from monai.transforms import (\n",
    "    Activations,\n",
    "    EnsureChannelFirst,\n",
    "    AsDiscrete,\n",
    "    EnsureChannelFirst,\n",
    "    Compose,\n",
    "    LoadImage,\n",
    "    RandFlip,\n",
    "    RandRotate,\n",
    "    RandZoom,\n",
    "    RandGaussianNoise,\n",
    "    RandAdjustContrast,\n",
    "    ScaleIntensity, \n",
    "    Transform,\n",
    "    ToTensor,\n",
    "    EnsureType,\n",
    ")\n",
    "from monai.utils import set_determinism\n",
    "\n",
    "print_config()"
   ]
  },
  {
   "cell_type": "code",
   "execution_count": 61,
   "metadata": {},
   "outputs": [],
   "source": [
    "seed = 4\n",
    "np.random.seed(seed)"
   ]
  },
  {
   "cell_type": "markdown",
   "metadata": {},
   "source": [
    "## Continue working with OrganMNIST3d 64x64x64"
   ]
  },
  {
   "cell_type": "code",
   "execution_count": 62,
   "metadata": {},
   "outputs": [
    {
     "name": "stdout",
     "output_type": "stream",
     "text": [
      "Using downloaded and verified file: /mnt/hdd/marina/.medmnist/organmnist3d_64.npz\n",
      "Using downloaded and verified file: /mnt/hdd/marina/.medmnist/organmnist3d_64.npz\n",
      "Using downloaded and verified file: /mnt/hdd/marina/.medmnist/organmnist3d_64.npz\n"
     ]
    }
   ],
   "source": [
    "data_flag = 'organmnist3d'\n",
    "download = True\n",
    "\n",
    "NUM_EPOCHS = 20\n",
    "BATCH_SIZE = 8\n",
    "lr = 0.001\n",
    "\n",
    "info = INFO[data_flag]\n",
    "task = info['task']\n",
    "n_channels = info['n_channels']\n",
    "n_classes = len(info['label'])\n",
    "\n",
    "DataClass = getattr(medmnist, info['python_class'])\n",
    "\n",
    "# load the data\n",
    "train_dataset = DataClass(split='train', download=download, size=64)\n",
    "val_dataset = DataClass(split='val', download=download, size=64)\n",
    "test_dataset = DataClass(split='test', download=download, size=64)"
   ]
  },
  {
   "cell_type": "code",
   "execution_count": 87,
   "metadata": {},
   "outputs": [],
   "source": [
    "root_dir = '/mnt/hdd/marina/.medmnist/'\n",
    "reports_dir = 'reports/'"
   ]
  },
  {
   "cell_type": "code",
   "execution_count": 64,
   "metadata": {},
   "outputs": [
    {
     "data": {
      "text/plain": [
       "Dataset OrganMNIST3D of size 64 (organmnist3d_64)\n",
       "    Number of datapoints: 971\n",
       "    Root location: /mnt/hdd/marina/.medmnist\n",
       "    Split: train\n",
       "    Task: multi-class\n",
       "    Number of channels: 1\n",
       "    Meaning of labels: {'0': 'liver', '1': 'kidney-right', '2': 'kidney-left', '3': 'femur-right', '4': 'femur-left', '5': 'bladder', '6': 'heart', '7': 'lung-right', '8': 'lung-left', '9': 'spleen', '10': 'pancreas'}\n",
       "    Number of samples: {'train': 971, 'val': 161, 'test': 610}\n",
       "    Description: The source of the OrganMNIST3D is the same as that of the Organ{A,C,S}MNIST. Instead of 2D images, we directly use the 3D bounding boxes and process the images into 28×28×28 to perform multi-class classification of 11 body organs. The same 115 and 16 CT scans as the Organ{A,C,S}MNIST from the source training set are used as training and validation set, respectively, and the same 70 CT scans as the Organ{A,C,S}MNIST from the source test set are treated as the test set.\n",
       "    License: CC BY 4.0"
      ]
     },
     "execution_count": 64,
     "metadata": {},
     "output_type": "execute_result"
    }
   ],
   "source": [
    "train_dataset"
   ]
  },
  {
   "cell_type": "markdown",
   "metadata": {},
   "source": [
    "## Define transforms"
   ]
  },
  {
   "cell_type": "code",
   "execution_count": 65,
   "metadata": {},
   "outputs": [],
   "source": [
    "train_transforms = Compose(\n",
    "    [\n",
    "        ScaleIntensity(),\n",
    "        RandGaussianNoise(prob=0.5, mean=0.0, std=0.05),\n",
    "        RandAdjustContrast(gamma=(0.7, 1.3), prob=0.5),\n",
    "        RandRotate(range_x=np.pi / 12, prob=0.5, keep_size=True),\n",
    "        RandFlip(spatial_axis=0, prob=0.5),\n",
    "        RandZoom(min_zoom=0.9, max_zoom=1.1, prob=0.5),\n",
    "        ToTensor(),\n",
    "        EnsureType(),\n",
    "    ]\n",
    ")\n",
    "\n",
    "val_transforms = Compose([\n",
    "    ScaleIntensity(),\n",
    "    ToTensor(),\n",
    "    EnsureType(),\n",
    "])\n",
    "\n",
    "test_transforms = Compose([\n",
    "    ScaleIntensity(),\n",
    "    ToTensor(),\n",
    "    EnsureType(),\n",
    "])\n",
    "\n",
    "y_pred_trans = Compose([Activations(softmax=True)])\n",
    "y_trans = Compose([AsDiscrete(to_onehot=n_classes)])"
   ]
  },
  {
   "cell_type": "markdown",
   "metadata": {},
   "source": [
    "## Extract 2d slices"
   ]
  },
  {
   "cell_type": "code",
   "execution_count": 66,
   "metadata": {},
   "outputs": [],
   "source": [
    "class Extract2DSlices(Dataset):\n",
    "    def __init__(self, dataset, transform=None):\n",
    "        self.dataset = dataset\n",
    "        self.transform = transform\n",
    "\n",
    "    def __len__(self):\n",
    "        return len(self.dataset)\n",
    "\n",
    "    def __getitem__(self, idx):\n",
    "        volume, label = self.dataset[idx]\n",
    "        volume = torch.tensor(volume, dtype=torch.float32)\n",
    "\n",
    "        axial, coronal, sagittal = self.extract_2d_slices(volume)\n",
    "\n",
    "        if self.transform:\n",
    "            axial = self.transform(axial)\n",
    "            coronal = self.transform(coronal)\n",
    "            sagittal = self.transform(sagittal)\n",
    "\n",
    "        data = {'axial': axial, 'coronal': coronal, 'sagittal': sagittal}\n",
    "        \n",
    "        return {'images': (data['axial'], data['coronal'], data['sagittal']), 'label': label}\n",
    "\n",
    "    @staticmethod\n",
    "    def extract_2d_slices(volume):\n",
    "        axial = volume.permute(1, 0, 2, 3).flatten(0, 1)\n",
    "        coronal = volume.permute(2, 0, 1, 3).flatten(0, 1)\n",
    "        sagittal = volume.permute(3, 0, 1, 2).flatten(0, 1)\n",
    "\n",
    "        return axial, sagittal, coronal\n"
   ]
  },
  {
   "cell_type": "code",
   "execution_count": 67,
   "metadata": {},
   "outputs": [],
   "source": [
    "train_dataset_ = Extract2DSlices(train_dataset, transform=train_transforms)\n",
    "val_dataset_ = Extract2DSlices(val_dataset, transform=val_transforms)\n",
    "test_dataset_ = Extract2DSlices(test_dataset, transform=test_transforms)\n",
    "\n",
    "# Create data loaders\n",
    "train_loader = DataLoader(train_dataset_, batch_size=BATCH_SIZE, shuffle=True)\n",
    "val_loader = DataLoader(val_dataset_, batch_size=BATCH_SIZE, shuffle=True)\n",
    "test_loader = DataLoader(test_dataset_, batch_size=BATCH_SIZE, shuffle=False)"
   ]
  },
  {
   "cell_type": "markdown",
   "metadata": {},
   "source": [
    "# Axial part"
   ]
  },
  {
   "cell_type": "markdown",
   "metadata": {},
   "source": [
    "## Pretrained"
   ]
  },
  {
   "cell_type": "code",
   "execution_count": 72,
   "metadata": {},
   "outputs": [],
   "source": [
    "auc_metric = ROCAUCMetric()"
   ]
  },
  {
   "cell_type": "code",
   "execution_count": 73,
   "metadata": {},
   "outputs": [],
   "source": [
    "device = torch.device(\"cuda\" if torch.cuda.is_available() else \"cpu\")\n",
    "\n",
    "model = models.resnet18(pretrained=True).to(device)\n",
    "model.conv1 = nn.Conv2d(64, 64, kernel_size=7, stride=2, padding=3, bias=False)\n",
    "model.fc = nn.Linear(model.fc.in_features, n_classes)\n",
    "model = model.to(device)\n",
    "\n",
    "loss_function = torch.nn.CrossEntropyLoss()\n",
    "optimizer = torch.optim.Adam(model.parameters(), 0.00005)\n",
    "max_epochs = 40\n",
    "val_interval = 1"
   ]
  },
  {
   "cell_type": "code",
   "execution_count": 74,
   "metadata": {},
   "outputs": [
    {
     "name": "stdout",
     "output_type": "stream",
     "text": [
      "ResNet(\n",
      "  (conv1): Conv2d(64, 64, kernel_size=(7, 7), stride=(2, 2), padding=(3, 3), bias=False)\n",
      "  (bn1): BatchNorm2d(64, eps=1e-05, momentum=0.1, affine=True, track_running_stats=True)\n",
      "  (relu): ReLU(inplace=True)\n",
      "  (maxpool): MaxPool2d(kernel_size=3, stride=2, padding=1, dilation=1, ceil_mode=False)\n",
      "  (layer1): Sequential(\n",
      "    (0): BasicBlock(\n",
      "      (conv1): Conv2d(64, 64, kernel_size=(3, 3), stride=(1, 1), padding=(1, 1), bias=False)\n",
      "      (bn1): BatchNorm2d(64, eps=1e-05, momentum=0.1, affine=True, track_running_stats=True)\n",
      "      (relu): ReLU(inplace=True)\n",
      "      (conv2): Conv2d(64, 64, kernel_size=(3, 3), stride=(1, 1), padding=(1, 1), bias=False)\n",
      "      (bn2): BatchNorm2d(64, eps=1e-05, momentum=0.1, affine=True, track_running_stats=True)\n",
      "    )\n",
      "    (1): BasicBlock(\n",
      "      (conv1): Conv2d(64, 64, kernel_size=(3, 3), stride=(1, 1), padding=(1, 1), bias=False)\n",
      "      (bn1): BatchNorm2d(64, eps=1e-05, momentum=0.1, affine=True, track_running_stats=True)\n",
      "      (relu): ReLU(inplace=True)\n",
      "      (conv2): Conv2d(64, 64, kernel_size=(3, 3), stride=(1, 1), padding=(1, 1), bias=False)\n",
      "      (bn2): BatchNorm2d(64, eps=1e-05, momentum=0.1, affine=True, track_running_stats=True)\n",
      "    )\n",
      "  )\n",
      "  (layer2): Sequential(\n",
      "    (0): BasicBlock(\n",
      "      (conv1): Conv2d(64, 128, kernel_size=(3, 3), stride=(2, 2), padding=(1, 1), bias=False)\n",
      "      (bn1): BatchNorm2d(128, eps=1e-05, momentum=0.1, affine=True, track_running_stats=True)\n",
      "      (relu): ReLU(inplace=True)\n",
      "      (conv2): Conv2d(128, 128, kernel_size=(3, 3), stride=(1, 1), padding=(1, 1), bias=False)\n",
      "      (bn2): BatchNorm2d(128, eps=1e-05, momentum=0.1, affine=True, track_running_stats=True)\n",
      "      (downsample): Sequential(\n",
      "        (0): Conv2d(64, 128, kernel_size=(1, 1), stride=(2, 2), bias=False)\n",
      "        (1): BatchNorm2d(128, eps=1e-05, momentum=0.1, affine=True, track_running_stats=True)\n",
      "      )\n",
      "    )\n",
      "    (1): BasicBlock(\n",
      "      (conv1): Conv2d(128, 128, kernel_size=(3, 3), stride=(1, 1), padding=(1, 1), bias=False)\n",
      "      (bn1): BatchNorm2d(128, eps=1e-05, momentum=0.1, affine=True, track_running_stats=True)\n",
      "      (relu): ReLU(inplace=True)\n",
      "      (conv2): Conv2d(128, 128, kernel_size=(3, 3), stride=(1, 1), padding=(1, 1), bias=False)\n",
      "      (bn2): BatchNorm2d(128, eps=1e-05, momentum=0.1, affine=True, track_running_stats=True)\n",
      "    )\n",
      "  )\n",
      "  (layer3): Sequential(\n",
      "    (0): BasicBlock(\n",
      "      (conv1): Conv2d(128, 256, kernel_size=(3, 3), stride=(2, 2), padding=(1, 1), bias=False)\n",
      "      (bn1): BatchNorm2d(256, eps=1e-05, momentum=0.1, affine=True, track_running_stats=True)\n",
      "      (relu): ReLU(inplace=True)\n",
      "      (conv2): Conv2d(256, 256, kernel_size=(3, 3), stride=(1, 1), padding=(1, 1), bias=False)\n",
      "      (bn2): BatchNorm2d(256, eps=1e-05, momentum=0.1, affine=True, track_running_stats=True)\n",
      "      (downsample): Sequential(\n",
      "        (0): Conv2d(128, 256, kernel_size=(1, 1), stride=(2, 2), bias=False)\n",
      "        (1): BatchNorm2d(256, eps=1e-05, momentum=0.1, affine=True, track_running_stats=True)\n",
      "      )\n",
      "    )\n",
      "    (1): BasicBlock(\n",
      "      (conv1): Conv2d(256, 256, kernel_size=(3, 3), stride=(1, 1), padding=(1, 1), bias=False)\n",
      "      (bn1): BatchNorm2d(256, eps=1e-05, momentum=0.1, affine=True, track_running_stats=True)\n",
      "      (relu): ReLU(inplace=True)\n",
      "      (conv2): Conv2d(256, 256, kernel_size=(3, 3), stride=(1, 1), padding=(1, 1), bias=False)\n",
      "      (bn2): BatchNorm2d(256, eps=1e-05, momentum=0.1, affine=True, track_running_stats=True)\n",
      "    )\n",
      "  )\n",
      "  (layer4): Sequential(\n",
      "    (0): BasicBlock(\n",
      "      (conv1): Conv2d(256, 512, kernel_size=(3, 3), stride=(2, 2), padding=(1, 1), bias=False)\n",
      "      (bn1): BatchNorm2d(512, eps=1e-05, momentum=0.1, affine=True, track_running_stats=True)\n",
      "      (relu): ReLU(inplace=True)\n",
      "      (conv2): Conv2d(512, 512, kernel_size=(3, 3), stride=(1, 1), padding=(1, 1), bias=False)\n",
      "      (bn2): BatchNorm2d(512, eps=1e-05, momentum=0.1, affine=True, track_running_stats=True)\n",
      "      (downsample): Sequential(\n",
      "        (0): Conv2d(256, 512, kernel_size=(1, 1), stride=(2, 2), bias=False)\n",
      "        (1): BatchNorm2d(512, eps=1e-05, momentum=0.1, affine=True, track_running_stats=True)\n",
      "      )\n",
      "    )\n",
      "    (1): BasicBlock(\n",
      "      (conv1): Conv2d(512, 512, kernel_size=(3, 3), stride=(1, 1), padding=(1, 1), bias=False)\n",
      "      (bn1): BatchNorm2d(512, eps=1e-05, momentum=0.1, affine=True, track_running_stats=True)\n",
      "      (relu): ReLU(inplace=True)\n",
      "      (conv2): Conv2d(512, 512, kernel_size=(3, 3), stride=(1, 1), padding=(1, 1), bias=False)\n",
      "      (bn2): BatchNorm2d(512, eps=1e-05, momentum=0.1, affine=True, track_running_stats=True)\n",
      "    )\n",
      "  )\n",
      "  (avgpool): AdaptiveAvgPool2d(output_size=(1, 1))\n",
      "  (fc): Linear(in_features=512, out_features=11, bias=True)\n",
      ")\n"
     ]
    }
   ],
   "source": [
    "print(model)"
   ]
  },
  {
   "cell_type": "code",
   "execution_count": 75,
   "metadata": {
    "scrolled": true
   },
   "outputs": [
    {
     "name": "stderr",
     "output_type": "stream",
     "text": [
      "Epochs:   0%|          | 0/40 [00:00<?, ?it/s]"
     ]
    },
    {
     "name": "stdout",
     "output_type": "stream",
     "text": [
      "----------\n",
      "epoch 1/40\n",
      "epoch 1 average loss: 1.8254\n",
      "1\n"
     ]
    },
    {
     "name": "stderr",
     "output_type": "stream",
     "text": [
      "Epochs:   2%|▎         | 1/40 [00:17<11:15, 17.31s/it]"
     ]
    },
    {
     "name": "stdout",
     "output_type": "stream",
     "text": [
      "saved new best metric model\n",
      "current epoch: 1 current AUC: 0.9727 current accuracy: 0.7826 best AUC: 0.9727 at epoch: 1\n",
      "----------\n",
      "epoch 2/40\n",
      "epoch 2 average loss: 1.0707\n",
      "1\n"
     ]
    },
    {
     "name": "stderr",
     "output_type": "stream",
     "text": [
      "Epochs:   5%|▌         | 2/40 [00:34<10:56, 17.28s/it]"
     ]
    },
    {
     "name": "stdout",
     "output_type": "stream",
     "text": [
      "saved new best metric model\n",
      "current epoch: 2 current AUC: 0.9953 current accuracy: 0.9317 best AUC: 0.9953 at epoch: 2\n",
      "----------\n",
      "epoch 3/40\n",
      "epoch 3 average loss: 0.7829\n",
      "1\n"
     ]
    },
    {
     "name": "stderr",
     "output_type": "stream",
     "text": [
      "Epochs:   8%|▊         | 3/40 [00:52<10:42, 17.36s/it]"
     ]
    },
    {
     "name": "stdout",
     "output_type": "stream",
     "text": [
      "saved new best metric model\n",
      "current epoch: 3 current AUC: 0.9996 current accuracy: 0.9752 best AUC: 0.9996 at epoch: 3\n",
      "----------\n",
      "epoch 4/40\n",
      "epoch 4 average loss: 0.6436\n",
      "1\n"
     ]
    },
    {
     "name": "stderr",
     "output_type": "stream",
     "text": [
      "Epochs:  10%|█         | 4/40 [01:09<10:21, 17.26s/it]"
     ]
    },
    {
     "name": "stdout",
     "output_type": "stream",
     "text": [
      "saved new best metric model\n",
      "current epoch: 4 current AUC: 1.0000 current accuracy: 0.9689 best AUC: 1.0000 at epoch: 4\n",
      "----------\n",
      "epoch 5/40\n",
      "epoch 5 average loss: 0.5588\n"
     ]
    },
    {
     "name": "stderr",
     "output_type": "stream",
     "text": [
      "Epochs:  12%|█▎        | 5/40 [01:26<10:00, 17.14s/it]"
     ]
    },
    {
     "name": "stdout",
     "output_type": "stream",
     "text": [
      "1\n",
      "current epoch: 5 current AUC: 0.9995 current accuracy: 0.9565 best AUC: 1.0000 at epoch: 4\n",
      "----------\n",
      "epoch 6/40\n",
      "epoch 6 average loss: 0.5454\n"
     ]
    },
    {
     "name": "stderr",
     "output_type": "stream",
     "text": [
      "Epochs:  15%|█▌        | 6/40 [01:43<09:40, 17.08s/it]"
     ]
    },
    {
     "name": "stdout",
     "output_type": "stream",
     "text": [
      "1\n",
      "current epoch: 6 current AUC: 0.9992 current accuracy: 0.9689 best AUC: 1.0000 at epoch: 4\n",
      "----------\n",
      "epoch 7/40\n",
      "epoch 7 average loss: 0.4607\n"
     ]
    },
    {
     "name": "stderr",
     "output_type": "stream",
     "text": [
      "Epochs:  18%|█▊        | 7/40 [02:00<09:23, 17.08s/it]"
     ]
    },
    {
     "name": "stdout",
     "output_type": "stream",
     "text": [
      "1\n",
      "current epoch: 7 current AUC: 0.9996 current accuracy: 0.9565 best AUC: 1.0000 at epoch: 4\n",
      "----------\n",
      "epoch 8/40\n",
      "epoch 8 average loss: 0.3542\n",
      "1\n"
     ]
    },
    {
     "name": "stderr",
     "output_type": "stream",
     "text": [
      "Epochs:  20%|██        | 8/40 [02:17<09:09, 17.17s/it]"
     ]
    },
    {
     "name": "stdout",
     "output_type": "stream",
     "text": [
      "saved new best metric model\n",
      "current epoch: 8 current AUC: 1.0000 current accuracy: 0.9752 best AUC: 1.0000 at epoch: 8\n",
      "----------\n",
      "epoch 9/40\n",
      "epoch 9 average loss: 0.3458\n"
     ]
    },
    {
     "name": "stderr",
     "output_type": "stream",
     "text": [
      "Epochs:  22%|██▎       | 9/40 [02:34<08:50, 17.12s/it]"
     ]
    },
    {
     "name": "stdout",
     "output_type": "stream",
     "text": [
      "1\n",
      "current epoch: 9 current AUC: 0.9999 current accuracy: 0.9689 best AUC: 1.0000 at epoch: 8\n",
      "----------\n",
      "epoch 10/40\n",
      "epoch 10 average loss: 0.3069\n"
     ]
    },
    {
     "name": "stderr",
     "output_type": "stream",
     "text": [
      "Epochs:  25%|██▌       | 10/40 [02:51<08:34, 17.15s/it]"
     ]
    },
    {
     "name": "stdout",
     "output_type": "stream",
     "text": [
      "1\n",
      "current epoch: 10 current AUC: 0.9999 current accuracy: 0.9814 best AUC: 1.0000 at epoch: 8\n",
      "----------\n",
      "epoch 11/40\n",
      "epoch 11 average loss: 0.2649\n"
     ]
    },
    {
     "name": "stderr",
     "output_type": "stream",
     "text": [
      "Epochs:  28%|██▊       | 11/40 [03:08<08:14, 17.05s/it]"
     ]
    },
    {
     "name": "stdout",
     "output_type": "stream",
     "text": [
      "1\n",
      "current epoch: 11 current AUC: 0.9995 current accuracy: 0.9565 best AUC: 1.0000 at epoch: 8\n",
      "----------\n",
      "epoch 12/40\n",
      "epoch 12 average loss: 0.3176\n"
     ]
    },
    {
     "name": "stderr",
     "output_type": "stream",
     "text": [
      "Epochs:  30%|███       | 12/40 [03:25<07:56, 17.01s/it]"
     ]
    },
    {
     "name": "stdout",
     "output_type": "stream",
     "text": [
      "1\n",
      "current epoch: 12 current AUC: 0.9998 current accuracy: 0.9814 best AUC: 1.0000 at epoch: 8\n",
      "----------\n",
      "epoch 13/40\n",
      "epoch 13 average loss: 0.2562\n"
     ]
    },
    {
     "name": "stderr",
     "output_type": "stream",
     "text": [
      "Epochs:  32%|███▎      | 13/40 [03:42<07:38, 16.97s/it]"
     ]
    },
    {
     "name": "stdout",
     "output_type": "stream",
     "text": [
      "1\n",
      "current epoch: 13 current AUC: 0.9994 current accuracy: 0.9689 best AUC: 1.0000 at epoch: 8\n",
      "----------\n",
      "epoch 14/40\n",
      "epoch 14 average loss: 0.2471\n"
     ]
    },
    {
     "name": "stderr",
     "output_type": "stream",
     "text": [
      "Epochs:  35%|███▌      | 14/40 [03:59<07:21, 16.98s/it]"
     ]
    },
    {
     "name": "stdout",
     "output_type": "stream",
     "text": [
      "1\n",
      "current epoch: 14 current AUC: 0.9997 current accuracy: 0.9752 best AUC: 1.0000 at epoch: 8\n",
      "----------\n",
      "epoch 15/40\n",
      "epoch 15 average loss: 0.2402\n"
     ]
    },
    {
     "name": "stderr",
     "output_type": "stream",
     "text": [
      "Epochs:  38%|███▊      | 15/40 [04:16<07:03, 16.92s/it]"
     ]
    },
    {
     "name": "stdout",
     "output_type": "stream",
     "text": [
      "1\n",
      "current epoch: 15 current AUC: 1.0000 current accuracy: 0.9689 best AUC: 1.0000 at epoch: 8\n",
      "----------\n",
      "epoch 16/40\n",
      "epoch 16 average loss: 0.1901\n",
      "1\n"
     ]
    },
    {
     "name": "stderr",
     "output_type": "stream",
     "text": [
      "Epochs:  40%|████      | 16/40 [04:33<06:48, 17.04s/it]"
     ]
    },
    {
     "name": "stdout",
     "output_type": "stream",
     "text": [
      "saved new best metric model\n",
      "current epoch: 16 current AUC: 1.0000 current accuracy: 0.9876 best AUC: 1.0000 at epoch: 16\n",
      "----------\n",
      "epoch 17/40\n",
      "epoch 17 average loss: 0.1494\n"
     ]
    },
    {
     "name": "stderr",
     "output_type": "stream",
     "text": [
      "Epochs:  42%|████▎     | 17/40 [04:50<06:29, 16.93s/it]"
     ]
    },
    {
     "name": "stdout",
     "output_type": "stream",
     "text": [
      "1\n",
      "current epoch: 17 current AUC: 0.9999 current accuracy: 0.9814 best AUC: 1.0000 at epoch: 16\n",
      "----------\n",
      "epoch 18/40\n",
      "epoch 18 average loss: 0.1585\n"
     ]
    },
    {
     "name": "stderr",
     "output_type": "stream",
     "text": [
      "Epochs:  45%|████▌     | 18/40 [05:07<06:13, 16.96s/it]"
     ]
    },
    {
     "name": "stdout",
     "output_type": "stream",
     "text": [
      "1\n",
      "current epoch: 18 current AUC: 1.0000 current accuracy: 0.9876 best AUC: 1.0000 at epoch: 16\n",
      "----------\n",
      "epoch 19/40\n",
      "epoch 19 average loss: 0.1472\n"
     ]
    },
    {
     "name": "stderr",
     "output_type": "stream",
     "text": [
      "Epochs:  48%|████▊     | 19/40 [05:24<05:55, 16.94s/it]"
     ]
    },
    {
     "name": "stdout",
     "output_type": "stream",
     "text": [
      "1\n",
      "current epoch: 19 current AUC: 0.9999 current accuracy: 0.9876 best AUC: 1.0000 at epoch: 16\n",
      "----------\n",
      "epoch 20/40\n",
      "epoch 20 average loss: 0.1417\n"
     ]
    },
    {
     "name": "stderr",
     "output_type": "stream",
     "text": [
      "Epochs:  50%|█████     | 20/40 [05:41<05:40, 17.00s/it]"
     ]
    },
    {
     "name": "stdout",
     "output_type": "stream",
     "text": [
      "1\n",
      "current epoch: 20 current AUC: 0.9999 current accuracy: 0.9938 best AUC: 1.0000 at epoch: 16\n",
      "----------\n",
      "epoch 21/40\n",
      "epoch 21 average loss: 0.1225\n"
     ]
    },
    {
     "name": "stderr",
     "output_type": "stream",
     "text": [
      "Epochs:  52%|█████▎    | 21/40 [05:58<05:23, 17.01s/it]"
     ]
    },
    {
     "name": "stdout",
     "output_type": "stream",
     "text": [
      "1\n",
      "current epoch: 21 current AUC: 1.0000 current accuracy: 0.9876 best AUC: 1.0000 at epoch: 16\n",
      "----------\n",
      "epoch 22/40\n",
      "epoch 22 average loss: 0.1580\n"
     ]
    },
    {
     "name": "stderr",
     "output_type": "stream",
     "text": [
      "Epochs:  55%|█████▌    | 22/40 [06:15<05:06, 17.02s/it]"
     ]
    },
    {
     "name": "stdout",
     "output_type": "stream",
     "text": [
      "1\n",
      "current epoch: 22 current AUC: 1.0000 current accuracy: 0.9689 best AUC: 1.0000 at epoch: 16\n",
      "----------\n",
      "epoch 23/40\n",
      "epoch 23 average loss: 0.1331\n"
     ]
    },
    {
     "name": "stderr",
     "output_type": "stream",
     "text": [
      "Epochs:  57%|█████▊    | 23/40 [06:31<04:47, 16.90s/it]"
     ]
    },
    {
     "name": "stdout",
     "output_type": "stream",
     "text": [
      "1\n",
      "current epoch: 23 current AUC: 0.9999 current accuracy: 0.9814 best AUC: 1.0000 at epoch: 16\n",
      "----------\n",
      "epoch 24/40\n",
      "epoch 24 average loss: 0.1356\n"
     ]
    },
    {
     "name": "stderr",
     "output_type": "stream",
     "text": [
      "Epochs:  60%|██████    | 24/40 [06:48<04:30, 16.92s/it]"
     ]
    },
    {
     "name": "stdout",
     "output_type": "stream",
     "text": [
      "1\n",
      "current epoch: 24 current AUC: 1.0000 current accuracy: 0.9938 best AUC: 1.0000 at epoch: 16\n",
      "----------\n",
      "epoch 25/40\n",
      "epoch 25 average loss: 0.1129\n"
     ]
    },
    {
     "name": "stderr",
     "output_type": "stream",
     "text": [
      "Epochs:  62%|██████▎   | 25/40 [07:05<04:13, 16.92s/it]"
     ]
    },
    {
     "name": "stdout",
     "output_type": "stream",
     "text": [
      "1\n",
      "current epoch: 25 current AUC: 0.9999 current accuracy: 0.9627 best AUC: 1.0000 at epoch: 16\n",
      "----------\n",
      "epoch 26/40\n",
      "epoch 26 average loss: 0.0999\n"
     ]
    },
    {
     "name": "stderr",
     "output_type": "stream",
     "text": [
      "Epochs:  65%|██████▌   | 26/40 [07:22<03:56, 16.90s/it]"
     ]
    },
    {
     "name": "stdout",
     "output_type": "stream",
     "text": [
      "1\n",
      "current epoch: 26 current AUC: 0.9999 current accuracy: 0.9752 best AUC: 1.0000 at epoch: 16\n",
      "----------\n",
      "epoch 27/40\n",
      "epoch 27 average loss: 0.0910\n"
     ]
    },
    {
     "name": "stderr",
     "output_type": "stream",
     "text": [
      "Epochs:  68%|██████▊   | 27/40 [07:39<03:39, 16.92s/it]"
     ]
    },
    {
     "name": "stdout",
     "output_type": "stream",
     "text": [
      "1\n",
      "current epoch: 27 current AUC: 0.9999 current accuracy: 0.9814 best AUC: 1.0000 at epoch: 16\n",
      "----------\n",
      "epoch 28/40\n",
      "epoch 28 average loss: 0.0866\n"
     ]
    },
    {
     "name": "stderr",
     "output_type": "stream",
     "text": [
      "Epochs:  70%|███████   | 28/40 [07:56<03:22, 16.88s/it]"
     ]
    },
    {
     "name": "stdout",
     "output_type": "stream",
     "text": [
      "1\n",
      "current epoch: 28 current AUC: 0.9998 current accuracy: 0.9627 best AUC: 1.0000 at epoch: 16\n",
      "----------\n",
      "epoch 29/40\n",
      "epoch 29 average loss: 0.0973\n"
     ]
    },
    {
     "name": "stderr",
     "output_type": "stream",
     "text": [
      "Epochs:  72%|███████▎  | 29/40 [08:13<03:05, 16.88s/it]"
     ]
    },
    {
     "name": "stdout",
     "output_type": "stream",
     "text": [
      "1\n",
      "current epoch: 29 current AUC: 1.0000 current accuracy: 0.9814 best AUC: 1.0000 at epoch: 16\n",
      "----------\n",
      "epoch 30/40\n",
      "epoch 30 average loss: 0.1097\n"
     ]
    },
    {
     "name": "stderr",
     "output_type": "stream",
     "text": [
      "Epochs:  75%|███████▌  | 30/40 [08:30<02:48, 16.90s/it]"
     ]
    },
    {
     "name": "stdout",
     "output_type": "stream",
     "text": [
      "1\n",
      "current epoch: 30 current AUC: 1.0000 current accuracy: 0.9938 best AUC: 1.0000 at epoch: 16\n",
      "----------\n",
      "epoch 31/40\n",
      "epoch 31 average loss: 0.1041\n"
     ]
    },
    {
     "name": "stderr",
     "output_type": "stream",
     "text": [
      "Epochs:  78%|███████▊  | 31/40 [08:47<02:32, 16.93s/it]"
     ]
    },
    {
     "name": "stdout",
     "output_type": "stream",
     "text": [
      "1\n",
      "current epoch: 31 current AUC: 1.0000 current accuracy: 0.9814 best AUC: 1.0000 at epoch: 16\n",
      "----------\n",
      "epoch 32/40\n",
      "epoch 32 average loss: 0.0929\n"
     ]
    },
    {
     "name": "stderr",
     "output_type": "stream",
     "text": [
      "Epochs:  80%|████████  | 32/40 [09:04<02:15, 16.97s/it]"
     ]
    },
    {
     "name": "stdout",
     "output_type": "stream",
     "text": [
      "1\n",
      "current epoch: 32 current AUC: 1.0000 current accuracy: 0.9814 best AUC: 1.0000 at epoch: 16\n",
      "----------\n",
      "epoch 33/40\n",
      "epoch 33 average loss: 0.0832\n"
     ]
    },
    {
     "name": "stderr",
     "output_type": "stream",
     "text": [
      "Epochs:  82%|████████▎ | 33/40 [09:21<01:59, 17.04s/it]"
     ]
    },
    {
     "name": "stdout",
     "output_type": "stream",
     "text": [
      "1\n",
      "current epoch: 33 current AUC: 0.9998 current accuracy: 0.9503 best AUC: 1.0000 at epoch: 16\n",
      "----------\n",
      "epoch 34/40\n",
      "epoch 34 average loss: 0.0862\n"
     ]
    },
    {
     "name": "stderr",
     "output_type": "stream",
     "text": [
      "Epochs:  85%|████████▌ | 34/40 [09:38<01:41, 16.98s/it]"
     ]
    },
    {
     "name": "stdout",
     "output_type": "stream",
     "text": [
      "1\n",
      "current epoch: 34 current AUC: 0.9998 current accuracy: 0.9627 best AUC: 1.0000 at epoch: 16\n",
      "----------\n",
      "epoch 35/40\n",
      "epoch 35 average loss: 0.1091\n"
     ]
    },
    {
     "name": "stderr",
     "output_type": "stream",
     "text": [
      "Epochs:  88%|████████▊ | 35/40 [09:55<01:25, 17.01s/it]"
     ]
    },
    {
     "name": "stdout",
     "output_type": "stream",
     "text": [
      "1\n",
      "current epoch: 35 current AUC: 0.9999 current accuracy: 0.9752 best AUC: 1.0000 at epoch: 16\n",
      "----------\n",
      "epoch 36/40\n",
      "epoch 36 average loss: 0.1179\n"
     ]
    },
    {
     "name": "stderr",
     "output_type": "stream",
     "text": [
      "Epochs:  90%|█████████ | 36/40 [10:12<01:07, 16.93s/it]"
     ]
    },
    {
     "name": "stdout",
     "output_type": "stream",
     "text": [
      "1\n",
      "current epoch: 36 current AUC: 1.0000 current accuracy: 0.9752 best AUC: 1.0000 at epoch: 16\n",
      "----------\n",
      "epoch 37/40\n",
      "epoch 37 average loss: 0.1107\n"
     ]
    },
    {
     "name": "stderr",
     "output_type": "stream",
     "text": [
      "Epochs:  92%|█████████▎| 37/40 [10:29<00:50, 16.99s/it]"
     ]
    },
    {
     "name": "stdout",
     "output_type": "stream",
     "text": [
      "1\n",
      "current epoch: 37 current AUC: 1.0000 current accuracy: 0.9814 best AUC: 1.0000 at epoch: 16\n",
      "----------\n",
      "epoch 38/40\n",
      "epoch 38 average loss: 0.0643\n"
     ]
    },
    {
     "name": "stderr",
     "output_type": "stream",
     "text": [
      "Epochs:  95%|█████████▌| 38/40 [10:46<00:33, 16.95s/it]"
     ]
    },
    {
     "name": "stdout",
     "output_type": "stream",
     "text": [
      "1\n",
      "current epoch: 38 current AUC: 1.0000 current accuracy: 0.9876 best AUC: 1.0000 at epoch: 16\n",
      "----------\n",
      "epoch 39/40\n",
      "epoch 39 average loss: 0.0828\n"
     ]
    },
    {
     "name": "stderr",
     "output_type": "stream",
     "text": [
      "Epochs:  98%|█████████▊| 39/40 [11:02<00:16, 16.92s/it]"
     ]
    },
    {
     "name": "stdout",
     "output_type": "stream",
     "text": [
      "1\n",
      "current epoch: 39 current AUC: 1.0000 current accuracy: 0.9938 best AUC: 1.0000 at epoch: 16\n",
      "----------\n",
      "epoch 40/40\n",
      "epoch 40 average loss: 0.0513\n"
     ]
    },
    {
     "name": "stderr",
     "output_type": "stream",
     "text": [
      "Epochs: 100%|██████████| 40/40 [11:19<00:00, 17.00s/it]"
     ]
    },
    {
     "name": "stdout",
     "output_type": "stream",
     "text": [
      "1\n",
      "current epoch: 40 current AUC: 1.0000 current accuracy: 0.9938 best AUC: 1.0000 at epoch: 16\n",
      "train completed, best_metric: 1.0000 at epoch: 16\n"
     ]
    },
    {
     "name": "stderr",
     "output_type": "stream",
     "text": [
      "\n"
     ]
    }
   ],
   "source": [
    "best_metric = -1\n",
    "best_metric_epoch = -1\n",
    "epoch_loss_values = []\n",
    "metric_values = []\n",
    "writer = SummaryWriter()\n",
    "\n",
    "start_time = time.time()\n",
    "process = psutil.Process()\n",
    "start_cpu = process.cpu_times()\n",
    "start_mem = process.memory_info().rss / 1024**2  # В MB\n",
    "\n",
    "if device.type == \"cuda\":\n",
    "    torch.cuda.synchronize()\n",
    "    torch.cuda.reset_peak_memory_stats()\n",
    "\n",
    "for epoch in tqdm(range(max_epochs), desc=\"Epochs\"):\n",
    "    print(\"-\" * 10)\n",
    "    print(f\"epoch {epoch + 1}/{max_epochs}\")\n",
    "    model.train()\n",
    "    epoch_loss = 0\n",
    "    step = 0\n",
    "    \n",
    "    for batch_data in train_loader:\n",
    "        step += 1\n",
    "        images, labels = batch_data['images'], batch_data['label'][:, 0].type(torch.LongTensor).to(device)\n",
    "        axial, coronal, sagittal = images\n",
    "\n",
    "        optimizer.zero_grad()\n",
    "        outputs = model(axial.to(device))\n",
    "        loss = loss_function(outputs, labels)\n",
    "        loss.backward()\n",
    "        optimizer.step()\n",
    "        \n",
    "        epoch_loss += loss.item()\n",
    "        epoch_len = len(train_dataset) // train_loader.batch_size\n",
    "        writer.add_scalar(\"train_loss\", loss.item(), epoch_len * epoch + step)\n",
    "        \n",
    "    epoch_loss /= step\n",
    "    epoch_loss_values.append(epoch_loss)\n",
    "    print(f\"epoch {epoch + 1} average loss: {epoch_loss:.4f}\")\n",
    "\n",
    "    if (epoch + 1) % val_interval == 0:\n",
    "        model.eval()\n",
    "        with torch.no_grad():\n",
    "            y_pred = torch.tensor([], dtype=torch.float32, device=device)\n",
    "            y = torch.tensor([], dtype=torch.long, device=device)\n",
    "            for val_data in val_loader:\n",
    "                val_images, val_labels = (\n",
    "                    val_data['images'],\n",
    "                    val_data['label'][:, 0].type(torch.LongTensor).to(device),\n",
    "                )\n",
    "                val_axial, val_coronal, val_sagittal = val_images\n",
    "                y_pred = torch.cat([y_pred, model(val_axial.to(device))], dim=0)\n",
    "                y = torch.cat([y, val_labels], dim=0)\n",
    "            y_onehot = [y_trans(i) for i in decollate_batch(y, detach=False)]\n",
    "            print('1')\n",
    "            y_pred_act = [y_pred_trans(i) for i in decollate_batch(y_pred)]\n",
    "            auc_metric(y_pred_act, y_onehot)\n",
    "            result = auc_metric.aggregate()\n",
    "            auc_metric.reset()\n",
    "            del y_pred_act, y_onehot\n",
    "            metric_values.append(result)\n",
    "            acc_value = torch.eq(y_pred.argmax(dim=1), y)\n",
    "            acc_metric = acc_value.sum().item() / len(acc_value)\n",
    "            if result > best_metric:\n",
    "                best_metric = result\n",
    "                best_metric_epoch = epoch + 1\n",
    "                torch.save(model.state_dict(), os.path.join(root_dir, \"axial_full_pretrained.pth\"))\n",
    "                print(\"saved new best metric model\")\n",
    "            print(\n",
    "                f\"current epoch: {epoch + 1} current AUC: {result:.4f}\"\n",
    "                f\" current accuracy: {acc_metric:.4f}\"\n",
    "                f\" best AUC: {best_metric:.4f}\"\n",
    "                f\" at epoch: {best_metric_epoch}\"\n",
    "            )\n",
    "            writer.add_scalar(\"val_accuracy\", acc_metric, epoch + 1)\n",
    "\n",
    "print(f\"train completed, best_metric: {best_metric:.4f} \" f\"at epoch: {best_metric_epoch}\")\n",
    "writer.close()"
   ]
  },
  {
   "cell_type": "code",
   "execution_count": 18,
   "metadata": {},
   "outputs": [
    {
     "name": "stdout",
     "output_type": "stream",
     "text": [
      "Training time: 684.08 seconds\n",
      "CPU time used: 8160.01 seconds\n",
      "Memory used: 4072.25 MB\n",
      "GPU Memory Used: 194.12 MB\n",
      "Max GPU Memory Used: 239.13 MB\n"
     ]
    }
   ],
   "source": [
    "end_time = time.time()\n",
    "end_cpu = process.cpu_times()\n",
    "end_mem = process.memory_info().rss / 1024**2\n",
    "\n",
    "cpu_time = (end_cpu.user + end_cpu.system) - (start_cpu.user + start_cpu.system)\n",
    "memory_used = end_mem - start_mem\n",
    "\n",
    "print(f\"Training time: {end_time - start_time:.2f} seconds\")\n",
    "print(f\"CPU time used: {cpu_time:.2f} seconds\")\n",
    "print(f\"Memory used: {memory_used:.2f} MB\")\n",
    "\n",
    "if device.type == \"cuda\":\n",
    "    torch.cuda.synchronize()\n",
    "    print(f\"GPU Memory Used: {torch.cuda.memory_allocated() / 1024**2:.2f} MB\")\n",
    "    print(f\"Max GPU Memory Used: {torch.cuda.max_memory_allocated() / 1024**2:.2f} MB\")\n"
   ]
  },
  {
   "cell_type": "code",
   "execution_count": 19,
   "metadata": {},
   "outputs": [
    {
     "data": {
      "image/png": "[encoded data removed]",
      "text/plain": [
       "<Figure size 1200x600 with 2 Axes>"
      ]
     },
     "metadata": {},
     "output_type": "display_data"
    }
   ],
   "source": [
    "plt.figure(\"train\", (12, 6))\n",
    "plt.subplot(1, 2, 1)\n",
    "plt.title(\"Epoch Average Loss\")\n",
    "x = [i + 1 for i in range(len(epoch_loss_values))]\n",
    "y = epoch_loss_values\n",
    "plt.xlabel(\"epoch\")\n",
    "plt.plot(x, y)\n",
    "plt.subplot(1, 2, 2)\n",
    "plt.title(\"Val AUC\")\n",
    "x = [val_interval * (i + 1) for i in range(len(metric_values))]\n",
    "y = metric_values\n",
    "plt.xlabel(\"epoch\")\n",
    "plt.plot(x, y)\n",
    "plt.show()"
   ]
  },
  {
   "cell_type": "code",
   "execution_count": 20,
   "metadata": {},
   "outputs": [
    {
     "name": "stdout",
     "output_type": "stream",
     "text": [
      "VRAM currently used: 194.11 MB\n",
      "Max VRAM used during training: 239.13 MB\n"
     ]
    }
   ],
   "source": [
    "if device.type == \"cuda\":\n",
    "    torch.cuda.synchronize()\n",
    "    vram_used = torch.cuda.memory_allocated() / 1024**2\n",
    "    vram_max_used = torch.cuda.max_memory_allocated() / 1024**2\n",
    "\n",
    "    print(f\"VRAM currently used: {vram_used:.2f} MB\")\n",
    "    print(f\"Max VRAM used during training: {vram_max_used:.2f} MB\")\n"
   ]
  },
  {
   "cell_type": "markdown",
   "metadata": {},
   "source": [
    "### Evaluation"
   ]
  },
  {
   "cell_type": "code",
   "execution_count": 21,
   "metadata": {},
   "outputs": [],
   "source": [
    "model.load_state_dict(torch.load(os.path.join(root_dir, \"axial_full_pretrained.pth\"), weights_only=True))\n",
    "model.eval()\n",
    "y_true = []\n",
    "y_pred = []\n",
    "example_axial = []\n",
    "example_coronal = []\n",
    "example_sagittal = []\n",
    "example_preds = []\n",
    "example_labels = []\n",
    "\n",
    "with torch.no_grad():\n",
    "    for test_data in test_loader:\n",
    "        test_images, test_labels = (\n",
    "            test_data['images'],\n",
    "            test_data['label'][:, 0].type(torch.LongTensor).to(device),\n",
    "        )\n",
    "        test_axial, test_coronal, test_sagittal = test_images\n",
    "        pred = model(test_axial.to(device)).argmax(dim=1)\n",
    "        for i in range(len(pred)):\n",
    "            y_true.append(test_labels[i].item())\n",
    "            y_pred.append(pred[i].item())\n",
    "\n",
    "        if len(example_axial) < 10:\n",
    "            example_axial.append(test_axial)\n",
    "            example_coronal.append(test_coronal)\n",
    "            example_sagittal.append(test_sagittal)\n",
    "            example_preds.append(pred)\n",
    "            example_labels.append(test_labels)"
   ]
  },
  {
   "cell_type": "code",
   "execution_count": 22,
   "metadata": {},
   "outputs": [
    {
     "name": "stdout",
     "output_type": "stream",
     "text": [
      "VRAM currently used: 194.12 MB\n",
      "Max VRAM used during training: 239.18 MB\n"
     ]
    }
   ],
   "source": [
    "if device.type == \"cuda\":\n",
    "    torch.cuda.synchronize()\n",
    "    vram_used = torch.cuda.memory_allocated() / 1024**2\n",
    "    vram_max_used = torch.cuda.max_memory_allocated() / 1024**2\n",
    "\n",
    "    print(f\"VRAM currently used: {vram_used:.2f} MB\")\n",
    "    print(f\"Max VRAM used during training: {vram_max_used:.2f} MB\")\n"
   ]
  },
  {
   "cell_type": "code",
   "execution_count": 274,
   "metadata": {
    "scrolled": true
   },
   "outputs": [],
   "source": [
    "report = classification_report(y_true, y_pred, target_names=info['label'], digits=4, output_dict=True)"
   ]
  },
  {
   "cell_type": "code",
   "execution_count": 275,
   "metadata": {},
   "outputs": [],
   "source": [
    "import pandas as pd\n",
    "df = pd.DataFrame(report).transpose()\n",
    "df.to_csv(f'axial_full_pretrained_seed{seed}.csv')"
   ]
  },
  {
   "cell_type": "code",
   "execution_count": 23,
   "metadata": {},
   "outputs": [
    {
     "name": "stdout",
     "output_type": "stream",
     "text": [
      "              precision    recall  f1-score   support\n",
      "\n",
      "           0     1.0000    0.9855    0.9927        69\n",
      "           1     0.9464    0.7794    0.8548        68\n",
      "           2     0.7917    0.8261    0.8085        69\n",
      "           3     0.9273    0.7846    0.8500        65\n",
      "           4     0.7403    0.8769    0.8028        65\n",
      "           5     0.9833    0.8939    0.9365        66\n",
      "           6     1.0000    0.9643    0.9818        28\n",
      "           7     1.0000    1.0000    1.0000        21\n",
      "           8     0.9545    1.0000    0.9767        21\n",
      "           9     0.8243    0.8841    0.8531        69\n",
      "          10     0.7692    0.8696    0.8163        69\n",
      "\n",
      "    accuracy                         0.8770       610\n",
      "   macro avg     0.9034    0.8968    0.8976       610\n",
      "weighted avg     0.8857    0.8770    0.8784       610\n",
      "\n"
     ]
    }
   ],
   "source": [
    "print(classification_report(y_true, y_pred, target_names=info['label'], digits=4))"
   ]
  },
  {
   "cell_type": "markdown",
   "metadata": {},
   "source": [
    "## Unpretrained"
   ]
  },
  {
   "cell_type": "code",
   "execution_count": 24,
   "metadata": {},
   "outputs": [],
   "source": [
    "device = torch.device(\"cuda\" if torch.cuda.is_available() else \"cpu\")\n",
    "model = nets.resnet18(pretrained=False, spatial_dims=2, n_input_channels=64, num_classes=n_classes).to(device)\n",
    "loss_function = torch.nn.CrossEntropyLoss()\n",
    "optimizer = torch.optim.Adam(model.parameters(), 0.00005)\n",
    "max_epochs = 40\n",
    "val_interval = 1\n",
    "auc_metric = ROCAUCMetric()"
   ]
  },
  {
   "cell_type": "code",
   "execution_count": 25,
   "metadata": {
    "scrolled": true
   },
   "outputs": [
    {
     "name": "stderr",
     "output_type": "stream",
     "text": [
      "Epochs:   0%|          | 0/40 [00:00<?, ?it/s]"
     ]
    },
    {
     "name": "stdout",
     "output_type": "stream",
     "text": [
      "----------\n",
      "epoch 1/40\n",
      "epoch 1 average loss: 1.8043\n",
      "1\n"
     ]
    },
    {
     "name": "stderr",
     "output_type": "stream",
     "text": [
      "Epochs:   2%|▎         | 1/40 [00:17<11:15, 17.32s/it]"
     ]
    },
    {
     "name": "stdout",
     "output_type": "stream",
     "text": [
      "saved new best metric model\n",
      "current epoch: 1 current AUC: 0.9928 current accuracy: 0.8447 best AUC: 0.9928 at epoch: 1\n",
      "----------\n",
      "epoch 2/40\n",
      "epoch 2 average loss: 1.0266\n",
      "1\n"
     ]
    },
    {
     "name": "stderr",
     "output_type": "stream",
     "text": [
      "Epochs:   5%|▌         | 2/40 [00:34<11:02, 17.43s/it]"
     ]
    },
    {
     "name": "stdout",
     "output_type": "stream",
     "text": [
      "saved new best metric model\n",
      "current epoch: 2 current AUC: 0.9964 current accuracy: 0.8882 best AUC: 0.9964 at epoch: 2\n",
      "----------\n",
      "epoch 3/40\n",
      "epoch 3 average loss: 0.7228\n",
      "1\n"
     ]
    },
    {
     "name": "stderr",
     "output_type": "stream",
     "text": [
      "Epochs:   8%|▊         | 3/40 [00:52<10:46, 17.48s/it]"
     ]
    },
    {
     "name": "stdout",
     "output_type": "stream",
     "text": [
      "saved new best metric model\n",
      "current epoch: 3 current AUC: 1.0000 current accuracy: 0.9752 best AUC: 1.0000 at epoch: 3\n",
      "----------\n",
      "epoch 4/40\n",
      "epoch 4 average loss: 0.6000\n"
     ]
    },
    {
     "name": "stderr",
     "output_type": "stream",
     "text": [
      "Epochs:  10%|█         | 4/40 [01:09<10:26, 17.42s/it]"
     ]
    },
    {
     "name": "stdout",
     "output_type": "stream",
     "text": [
      "1\n",
      "current epoch: 4 current AUC: 0.9998 current accuracy: 0.9876 best AUC: 1.0000 at epoch: 3\n",
      "----------\n",
      "epoch 5/40\n",
      "epoch 5 average loss: 0.5014\n"
     ]
    },
    {
     "name": "stderr",
     "output_type": "stream",
     "text": [
      "Epochs:  12%|█▎        | 5/40 [01:26<10:08, 17.37s/it]"
     ]
    },
    {
     "name": "stdout",
     "output_type": "stream",
     "text": [
      "1\n",
      "current epoch: 5 current AUC: 0.9989 current accuracy: 0.9627 best AUC: 1.0000 at epoch: 3\n",
      "----------\n",
      "epoch 6/40\n",
      "epoch 6 average loss: 0.4766\n"
     ]
    },
    {
     "name": "stderr",
     "output_type": "stream",
     "text": [
      "Epochs:  15%|█▌        | 6/40 [01:44<09:46, 17.26s/it]"
     ]
    },
    {
     "name": "stdout",
     "output_type": "stream",
     "text": [
      "1\n",
      "current epoch: 6 current AUC: 0.9988 current accuracy: 0.9193 best AUC: 1.0000 at epoch: 3\n",
      "----------\n",
      "epoch 7/40\n",
      "epoch 7 average loss: 0.4806\n"
     ]
    },
    {
     "name": "stderr",
     "output_type": "stream",
     "text": [
      "Epochs:  18%|█▊        | 7/40 [02:01<09:28, 17.23s/it]"
     ]
    },
    {
     "name": "stdout",
     "output_type": "stream",
     "text": [
      "1\n",
      "current epoch: 7 current AUC: 0.9951 current accuracy: 0.8944 best AUC: 1.0000 at epoch: 3\n",
      "----------\n",
      "epoch 8/40\n",
      "epoch 8 average loss: 0.3824\n"
     ]
    },
    {
     "name": "stderr",
     "output_type": "stream",
     "text": [
      "Epochs:  20%|██        | 8/40 [02:18<09:09, 17.19s/it]"
     ]
    },
    {
     "name": "stdout",
     "output_type": "stream",
     "text": [
      "1\n",
      "current epoch: 8 current AUC: 0.9991 current accuracy: 0.9503 best AUC: 1.0000 at epoch: 3\n",
      "----------\n",
      "epoch 9/40\n",
      "epoch 9 average loss: 0.3814\n"
     ]
    },
    {
     "name": "stderr",
     "output_type": "stream",
     "text": [
      "Epochs:  22%|██▎       | 9/40 [02:35<08:51, 17.14s/it]"
     ]
    },
    {
     "name": "stdout",
     "output_type": "stream",
     "text": [
      "1\n",
      "current epoch: 9 current AUC: 0.9995 current accuracy: 0.9441 best AUC: 1.0000 at epoch: 3\n",
      "----------\n",
      "epoch 10/40\n",
      "epoch 10 average loss: 0.3137\n"
     ]
    },
    {
     "name": "stderr",
     "output_type": "stream",
     "text": [
      "Epochs:  25%|██▌       | 10/40 [02:52<08:33, 17.11s/it]"
     ]
    },
    {
     "name": "stdout",
     "output_type": "stream",
     "text": [
      "1\n",
      "current epoch: 10 current AUC: 0.9996 current accuracy: 0.9752 best AUC: 1.0000 at epoch: 3\n",
      "----------\n",
      "epoch 11/40\n",
      "epoch 11 average loss: 0.2683\n"
     ]
    },
    {
     "name": "stderr",
     "output_type": "stream",
     "text": [
      "Epochs:  28%|██▊       | 11/40 [03:09<08:17, 17.14s/it]"
     ]
    },
    {
     "name": "stdout",
     "output_type": "stream",
     "text": [
      "1\n",
      "current epoch: 11 current AUC: 0.9992 current accuracy: 0.9565 best AUC: 1.0000 at epoch: 3\n",
      "----------\n",
      "epoch 12/40\n",
      "epoch 12 average loss: 0.2361\n"
     ]
    },
    {
     "name": "stderr",
     "output_type": "stream",
     "text": [
      "Epochs:  30%|███       | 12/40 [03:26<07:58, 17.09s/it]"
     ]
    },
    {
     "name": "stdout",
     "output_type": "stream",
     "text": [
      "1\n",
      "current epoch: 12 current AUC: 0.9999 current accuracy: 0.9752 best AUC: 1.0000 at epoch: 3\n",
      "----------\n",
      "epoch 13/40\n",
      "epoch 13 average loss: 0.2025\n"
     ]
    },
    {
     "name": "stderr",
     "output_type": "stream",
     "text": [
      "Epochs:  32%|███▎      | 13/40 [03:43<07:42, 17.12s/it]"
     ]
    },
    {
     "name": "stdout",
     "output_type": "stream",
     "text": [
      "1\n",
      "current epoch: 13 current AUC: 0.9995 current accuracy: 0.9689 best AUC: 1.0000 at epoch: 3\n",
      "----------\n",
      "epoch 14/40\n",
      "epoch 14 average loss: 0.2142\n"
     ]
    },
    {
     "name": "stderr",
     "output_type": "stream",
     "text": [
      "Epochs:  35%|███▌      | 14/40 [04:00<07:24, 17.10s/it]"
     ]
    },
    {
     "name": "stdout",
     "output_type": "stream",
     "text": [
      "1\n",
      "current epoch: 14 current AUC: 0.9999 current accuracy: 0.9876 best AUC: 1.0000 at epoch: 3\n",
      "----------\n",
      "epoch 15/40\n",
      "epoch 15 average loss: 0.1803\n"
     ]
    },
    {
     "name": "stderr",
     "output_type": "stream",
     "text": [
      "Epochs:  38%|███▊      | 15/40 [04:17<07:07, 17.08s/it]"
     ]
    },
    {
     "name": "stdout",
     "output_type": "stream",
     "text": [
      "1\n",
      "current epoch: 15 current AUC: 1.0000 current accuracy: 0.9876 best AUC: 1.0000 at epoch: 3\n",
      "----------\n",
      "epoch 16/40\n",
      "epoch 16 average loss: 0.1816\n"
     ]
    },
    {
     "name": "stderr",
     "output_type": "stream",
     "text": [
      "Epochs:  40%|████      | 16/40 [04:34<06:50, 17.11s/it]"
     ]
    },
    {
     "name": "stdout",
     "output_type": "stream",
     "text": [
      "1\n",
      "current epoch: 16 current AUC: 1.0000 current accuracy: 0.9752 best AUC: 1.0000 at epoch: 3\n",
      "----------\n",
      "epoch 17/40\n",
      "epoch 17 average loss: 0.1817\n"
     ]
    },
    {
     "name": "stderr",
     "output_type": "stream",
     "text": [
      "Epochs:  42%|████▎     | 17/40 [04:52<06:34, 17.15s/it]"
     ]
    },
    {
     "name": "stdout",
     "output_type": "stream",
     "text": [
      "1\n",
      "current epoch: 17 current AUC: 0.9996 current accuracy: 0.9565 best AUC: 1.0000 at epoch: 3\n",
      "----------\n",
      "epoch 18/40\n",
      "epoch 18 average loss: 0.1842\n"
     ]
    },
    {
     "name": "stderr",
     "output_type": "stream",
     "text": [
      "Epochs:  45%|████▌     | 18/40 [05:09<06:17, 17.17s/it]"
     ]
    },
    {
     "name": "stdout",
     "output_type": "stream",
     "text": [
      "1\n",
      "current epoch: 18 current AUC: 1.0000 current accuracy: 0.9814 best AUC: 1.0000 at epoch: 3\n",
      "----------\n",
      "epoch 19/40\n",
      "epoch 19 average loss: 0.1522\n"
     ]
    },
    {
     "name": "stderr",
     "output_type": "stream",
     "text": [
      "Epochs:  48%|████▊     | 19/40 [05:26<05:59, 17.14s/it]"
     ]
    },
    {
     "name": "stdout",
     "output_type": "stream",
     "text": [
      "1\n",
      "current epoch: 19 current AUC: 0.9997 current accuracy: 0.9752 best AUC: 1.0000 at epoch: 3\n",
      "----------\n",
      "epoch 20/40\n",
      "epoch 20 average loss: 0.1443\n"
     ]
    },
    {
     "name": "stderr",
     "output_type": "stream",
     "text": [
      "Epochs:  50%|█████     | 20/40 [05:43<05:41, 17.09s/it]"
     ]
    },
    {
     "name": "stdout",
     "output_type": "stream",
     "text": [
      "1\n",
      "current epoch: 20 current AUC: 0.9999 current accuracy: 0.9689 best AUC: 1.0000 at epoch: 3\n",
      "----------\n",
      "epoch 21/40\n",
      "epoch 21 average loss: 0.1511\n",
      "1\n"
     ]
    },
    {
     "name": "stderr",
     "output_type": "stream",
     "text": [
      "Epochs:  52%|█████▎    | 21/40 [06:01<05:27, 17.22s/it]"
     ]
    },
    {
     "name": "stdout",
     "output_type": "stream",
     "text": [
      "saved new best metric model\n",
      "current epoch: 21 current AUC: 1.0000 current accuracy: 0.9565 best AUC: 1.0000 at epoch: 21\n",
      "----------\n",
      "epoch 22/40\n",
      "epoch 22 average loss: 0.1200\n"
     ]
    },
    {
     "name": "stderr",
     "output_type": "stream",
     "text": [
      "Epochs:  55%|█████▌    | 22/40 [06:17<05:08, 17.13s/it]"
     ]
    },
    {
     "name": "stdout",
     "output_type": "stream",
     "text": [
      "1\n",
      "current epoch: 22 current AUC: 0.9999 current accuracy: 0.9814 best AUC: 1.0000 at epoch: 21\n",
      "----------\n",
      "epoch 23/40\n",
      "epoch 23 average loss: 0.1069\n"
     ]
    },
    {
     "name": "stderr",
     "output_type": "stream",
     "text": [
      "Epochs:  57%|█████▊    | 23/40 [06:34<04:50, 17.10s/it]"
     ]
    },
    {
     "name": "stdout",
     "output_type": "stream",
     "text": [
      "1\n",
      "current epoch: 23 current AUC: 0.9999 current accuracy: 0.9938 best AUC: 1.0000 at epoch: 21\n",
      "----------\n",
      "epoch 24/40\n",
      "epoch 24 average loss: 0.0796\n"
     ]
    },
    {
     "name": "stderr",
     "output_type": "stream",
     "text": [
      "Epochs:  60%|██████    | 24/40 [06:51<04:32, 17.06s/it]"
     ]
    },
    {
     "name": "stdout",
     "output_type": "stream",
     "text": [
      "1\n",
      "current epoch: 24 current AUC: 0.9999 current accuracy: 0.9938 best AUC: 1.0000 at epoch: 21\n",
      "----------\n",
      "epoch 25/40\n",
      "epoch 25 average loss: 0.1375\n"
     ]
    },
    {
     "name": "stderr",
     "output_type": "stream",
     "text": [
      "Epochs:  62%|██████▎   | 25/40 [07:09<04:16, 17.09s/it]"
     ]
    },
    {
     "name": "stdout",
     "output_type": "stream",
     "text": [
      "1\n",
      "current epoch: 25 current AUC: 1.0000 current accuracy: 0.9814 best AUC: 1.0000 at epoch: 21\n",
      "----------\n",
      "epoch 26/40\n",
      "epoch 26 average loss: 0.1513\n"
     ]
    },
    {
     "name": "stderr",
     "output_type": "stream",
     "text": [
      "Epochs:  65%|██████▌   | 26/40 [07:26<04:00, 17.16s/it]"
     ]
    },
    {
     "name": "stdout",
     "output_type": "stream",
     "text": [
      "1\n",
      "current epoch: 26 current AUC: 1.0000 current accuracy: 0.9876 best AUC: 1.0000 at epoch: 21\n",
      "----------\n",
      "epoch 27/40\n",
      "epoch 27 average loss: 0.0853\n"
     ]
    },
    {
     "name": "stderr",
     "output_type": "stream",
     "text": [
      "Epochs:  68%|██████▊   | 27/40 [07:43<03:43, 17.19s/it]"
     ]
    },
    {
     "name": "stdout",
     "output_type": "stream",
     "text": [
      "1\n",
      "current epoch: 27 current AUC: 1.0000 current accuracy: 0.9876 best AUC: 1.0000 at epoch: 21\n",
      "----------\n",
      "epoch 28/40\n",
      "epoch 28 average loss: 0.1112\n"
     ]
    },
    {
     "name": "stderr",
     "output_type": "stream",
     "text": [
      "Epochs:  70%|███████   | 28/40 [08:00<03:25, 17.14s/it]"
     ]
    },
    {
     "name": "stdout",
     "output_type": "stream",
     "text": [
      "1\n",
      "current epoch: 28 current AUC: 0.9999 current accuracy: 0.9752 best AUC: 1.0000 at epoch: 21\n",
      "----------\n",
      "epoch 29/40\n",
      "epoch 29 average loss: 0.0800\n"
     ]
    },
    {
     "name": "stderr",
     "output_type": "stream",
     "text": [
      "Epochs:  72%|███████▎  | 29/40 [08:17<03:06, 17.00s/it]"
     ]
    },
    {
     "name": "stdout",
     "output_type": "stream",
     "text": [
      "1\n",
      "current epoch: 29 current AUC: 0.9998 current accuracy: 0.9752 best AUC: 1.0000 at epoch: 21\n",
      "----------\n",
      "epoch 30/40\n",
      "epoch 30 average loss: 0.0829\n"
     ]
    },
    {
     "name": "stderr",
     "output_type": "stream",
     "text": [
      "Epochs:  75%|███████▌  | 30/40 [08:34<02:50, 17.05s/it]"
     ]
    },
    {
     "name": "stdout",
     "output_type": "stream",
     "text": [
      "1\n",
      "current epoch: 30 current AUC: 0.9999 current accuracy: 0.9752 best AUC: 1.0000 at epoch: 21\n",
      "----------\n",
      "epoch 31/40\n",
      "epoch 31 average loss: 0.0897\n"
     ]
    },
    {
     "name": "stderr",
     "output_type": "stream",
     "text": [
      "Epochs:  78%|███████▊  | 31/40 [08:51<02:32, 16.99s/it]"
     ]
    },
    {
     "name": "stdout",
     "output_type": "stream",
     "text": [
      "1\n",
      "current epoch: 31 current AUC: 0.9999 current accuracy: 0.9814 best AUC: 1.0000 at epoch: 21\n",
      "----------\n",
      "epoch 32/40\n",
      "epoch 32 average loss: 0.1414\n"
     ]
    },
    {
     "name": "stderr",
     "output_type": "stream",
     "text": [
      "Epochs:  80%|████████  | 32/40 [09:08<02:15, 17.00s/it]"
     ]
    },
    {
     "name": "stdout",
     "output_type": "stream",
     "text": [
      "1\n",
      "current epoch: 32 current AUC: 0.9999 current accuracy: 0.9876 best AUC: 1.0000 at epoch: 21\n",
      "----------\n",
      "epoch 33/40\n",
      "epoch 33 average loss: 0.1024\n"
     ]
    },
    {
     "name": "stderr",
     "output_type": "stream",
     "text": [
      "Epochs:  82%|████████▎ | 33/40 [09:25<01:58, 16.99s/it]"
     ]
    },
    {
     "name": "stdout",
     "output_type": "stream",
     "text": [
      "1\n",
      "current epoch: 33 current AUC: 1.0000 current accuracy: 0.9689 best AUC: 1.0000 at epoch: 21\n",
      "----------\n",
      "epoch 34/40\n",
      "epoch 34 average loss: 0.0912\n"
     ]
    },
    {
     "name": "stderr",
     "output_type": "stream",
     "text": [
      "Epochs:  85%|████████▌ | 34/40 [09:42<01:42, 17.07s/it]"
     ]
    },
    {
     "name": "stdout",
     "output_type": "stream",
     "text": [
      "1\n",
      "current epoch: 34 current AUC: 1.0000 current accuracy: 0.9938 best AUC: 1.0000 at epoch: 21\n",
      "----------\n",
      "epoch 35/40\n",
      "epoch 35 average loss: 0.0532\n"
     ]
    },
    {
     "name": "stderr",
     "output_type": "stream",
     "text": [
      "Epochs:  88%|████████▊ | 35/40 [09:59<01:24, 16.99s/it]"
     ]
    },
    {
     "name": "stdout",
     "output_type": "stream",
     "text": [
      "1\n",
      "current epoch: 35 current AUC: 0.9998 current accuracy: 0.9814 best AUC: 1.0000 at epoch: 21\n",
      "----------\n",
      "epoch 36/40\n",
      "epoch 36 average loss: 0.1034\n"
     ]
    },
    {
     "name": "stderr",
     "output_type": "stream",
     "text": [
      "Epochs:  90%|█████████ | 36/40 [10:16<01:08, 17.01s/it]"
     ]
    },
    {
     "name": "stdout",
     "output_type": "stream",
     "text": [
      "1\n",
      "current epoch: 36 current AUC: 0.9980 current accuracy: 0.8758 best AUC: 1.0000 at epoch: 21\n",
      "----------\n",
      "epoch 37/40\n",
      "epoch 37 average loss: 0.0882\n"
     ]
    },
    {
     "name": "stderr",
     "output_type": "stream",
     "text": [
      "Epochs:  92%|█████████▎| 37/40 [10:33<00:51, 17.02s/it]"
     ]
    },
    {
     "name": "stdout",
     "output_type": "stream",
     "text": [
      "1\n",
      "current epoch: 37 current AUC: 0.9999 current accuracy: 0.9814 best AUC: 1.0000 at epoch: 21\n",
      "----------\n",
      "epoch 38/40\n",
      "epoch 38 average loss: 0.1085\n"
     ]
    },
    {
     "name": "stderr",
     "output_type": "stream",
     "text": [
      "Epochs:  95%|█████████▌| 38/40 [10:50<00:34, 17.05s/it]"
     ]
    },
    {
     "name": "stdout",
     "output_type": "stream",
     "text": [
      "1\n",
      "current epoch: 38 current AUC: 0.9998 current accuracy: 0.9627 best AUC: 1.0000 at epoch: 21\n",
      "----------\n",
      "epoch 39/40\n",
      "epoch 39 average loss: 0.0651\n"
     ]
    },
    {
     "name": "stderr",
     "output_type": "stream",
     "text": [
      "Epochs:  98%|█████████▊| 39/40 [11:07<00:17, 17.08s/it]"
     ]
    },
    {
     "name": "stdout",
     "output_type": "stream",
     "text": [
      "1\n",
      "current epoch: 39 current AUC: 1.0000 current accuracy: 0.9938 best AUC: 1.0000 at epoch: 21\n",
      "----------\n",
      "epoch 40/40\n",
      "epoch 40 average loss: 0.0442\n"
     ]
    },
    {
     "name": "stderr",
     "output_type": "stream",
     "text": [
      "Epochs: 100%|██████████| 40/40 [11:24<00:00, 17.12s/it]"
     ]
    },
    {
     "name": "stdout",
     "output_type": "stream",
     "text": [
      "1\n",
      "current epoch: 40 current AUC: 1.0000 current accuracy: 0.9938 best AUC: 1.0000 at epoch: 21\n",
      "train completed, best_metric: 1.0000 at epoch: 21\n"
     ]
    },
    {
     "name": "stderr",
     "output_type": "stream",
     "text": [
      "\n"
     ]
    }
   ],
   "source": [
    "best_metric = -1\n",
    "best_metric_epoch = -1\n",
    "epoch_loss_values = []\n",
    "metric_values = []\n",
    "writer = SummaryWriter()\n",
    "\n",
    "start_time = time.time()\n",
    "process = psutil.Process()\n",
    "start_cpu = process.cpu_times()\n",
    "start_mem = process.memory_info().rss / 1024**2  # В MB\n",
    "\n",
    "if device.type == \"cuda\":\n",
    "    torch.cuda.synchronize()\n",
    "    torch.cuda.reset_peak_memory_stats()\n",
    "\n",
    "for epoch in tqdm(range(max_epochs), desc=\"Epochs\"):\n",
    "    print(\"-\" * 10)\n",
    "    print(f\"epoch {epoch + 1}/{max_epochs}\")\n",
    "    model.train()\n",
    "    epoch_loss = 0\n",
    "    step = 0\n",
    "    \n",
    "    for batch_data in train_loader:\n",
    "        step += 1\n",
    "        images, labels = batch_data['images'], batch_data['label'][:, 0].type(torch.LongTensor).to(device)\n",
    "        axial, coronal, sagittal = images\n",
    "\n",
    "        optimizer.zero_grad()\n",
    "        outputs = model(axial.to(device))\n",
    "        loss = loss_function(outputs, labels)\n",
    "        loss.backward()\n",
    "        optimizer.step()\n",
    "        \n",
    "        epoch_loss += loss.item()\n",
    "        epoch_len = len(train_dataset) // train_loader.batch_size\n",
    "        writer.add_scalar(\"train_loss\", loss.item(), epoch_len * epoch + step)\n",
    "        \n",
    "    epoch_loss /= step\n",
    "    epoch_loss_values.append(epoch_loss)\n",
    "    print(f\"epoch {epoch + 1} average loss: {epoch_loss:.4f}\")\n",
    "\n",
    "    if (epoch + 1) % val_interval == 0:\n",
    "        model.eval()\n",
    "        with torch.no_grad():\n",
    "            y_pred = torch.tensor([], dtype=torch.float32, device=device)\n",
    "            y = torch.tensor([], dtype=torch.long, device=device)\n",
    "            for val_data in val_loader:\n",
    "                val_images, val_labels = (\n",
    "                    val_data['images'],\n",
    "                    val_data['label'][:, 0].type(torch.LongTensor).to(device),\n",
    "                )\n",
    "                val_axial, val_coronal, val_sagittal = val_images\n",
    "                y_pred = torch.cat([y_pred, model(val_axial.to(device))], dim=0)\n",
    "                y = torch.cat([y, val_labels], dim=0)\n",
    "            y_onehot = [y_trans(i) for i in decollate_batch(y, detach=False)]\n",
    "            print('1')\n",
    "            y_pred_act = [y_pred_trans(i) for i in decollate_batch(y_pred)]\n",
    "            auc_metric(y_pred_act, y_onehot)\n",
    "            result = auc_metric.aggregate()\n",
    "            auc_metric.reset()\n",
    "            del y_pred_act, y_onehot\n",
    "            metric_values.append(result)\n",
    "            acc_value = torch.eq(y_pred.argmax(dim=1), y)\n",
    "            acc_metric = acc_value.sum().item() / len(acc_value)\n",
    "            if result > best_metric:\n",
    "                best_metric = result\n",
    "                best_metric_epoch = epoch + 1\n",
    "                torch.save(model.state_dict(), os.path.join(root_dir, \"axial_full_unpretrained.pth\"))\n",
    "                print(\"saved new best metric model\")\n",
    "            print(\n",
    "                f\"current epoch: {epoch + 1} current AUC: {result:.4f}\"\n",
    "                f\" current accuracy: {acc_metric:.4f}\"\n",
    "                f\" best AUC: {best_metric:.4f}\"\n",
    "                f\" at epoch: {best_metric_epoch}\"\n",
    "            )\n",
    "            writer.add_scalar(\"val_accuracy\", acc_metric, epoch + 1)\n",
    "\n",
    "print(f\"train completed, best_metric: {best_metric:.4f} \" f\"at epoch: {best_metric_epoch}\")\n",
    "writer.close()"
   ]
  },
  {
   "cell_type": "code",
   "execution_count": 26,
   "metadata": {},
   "outputs": [
    {
     "name": "stdout",
     "output_type": "stream",
     "text": [
      "Training time: 684.86 seconds\n",
      "CPU time used: 8198.15 seconds\n",
      "Memory used: 127.70 MB\n",
      "GPU Memory Used: 194.14 MB\n",
      "Max GPU Memory Used: 255.69 MB\n"
     ]
    }
   ],
   "source": [
    "end_time = time.time()\n",
    "end_cpu = process.cpu_times()\n",
    "end_mem = process.memory_info().rss / 1024**2\n",
    "\n",
    "cpu_time = (end_cpu.user + end_cpu.system) - (start_cpu.user + start_cpu.system)\n",
    "memory_used = end_mem - start_mem\n",
    "\n",
    "print(f\"Training time: {end_time - start_time:.2f} seconds\")\n",
    "print(f\"CPU time used: {cpu_time:.2f} seconds\")\n",
    "print(f\"Memory used: {memory_used:.2f} MB\")\n",
    "\n",
    "if device.type == \"cuda\":\n",
    "    torch.cuda.synchronize()\n",
    "    print(f\"GPU Memory Used: {torch.cuda.memory_allocated() / 1024**2:.2f} MB\")\n",
    "    print(f\"Max GPU Memory Used: {torch.cuda.max_memory_allocated() / 1024**2:.2f} MB\")\n"
   ]
  },
  {
   "cell_type": "code",
   "execution_count": 27,
   "metadata": {},
   "outputs": [
    {
     "data": {
      "image/png": "[encoded data removed]",
      "text/plain": [
       "<Figure size 1200x600 with 2 Axes>"
      ]
     },
     "metadata": {},
     "output_type": "display_data"
    }
   ],
   "source": [
    "plt.figure(\"train\", (12, 6))\n",
    "plt.subplot(1, 2, 1)\n",
    "plt.title(\"Epoch Average Loss\")\n",
    "x = [i + 1 for i in range(len(epoch_loss_values))]\n",
    "y = epoch_loss_values\n",
    "plt.xlabel(\"epoch\")\n",
    "plt.plot(x, y)\n",
    "plt.subplot(1, 2, 2)\n",
    "plt.title(\"Val AUC\")\n",
    "x = [val_interval * (i + 1) for i in range(len(metric_values))]\n",
    "y = metric_values\n",
    "plt.xlabel(\"epoch\")\n",
    "plt.plot(x, y)\n",
    "plt.show()"
   ]
  },
  {
   "cell_type": "code",
   "execution_count": 28,
   "metadata": {},
   "outputs": [
    {
     "name": "stdout",
     "output_type": "stream",
     "text": [
      "VRAM currently used: 194.14 MB\n",
      "Max VRAM used during training: 255.69 MB\n"
     ]
    }
   ],
   "source": [
    "if device.type == \"cuda\":\n",
    "    torch.cuda.synchronize()\n",
    "    vram_used = torch.cuda.memory_allocated() / 1024**2\n",
    "    vram_max_used = torch.cuda.max_memory_allocated() / 1024**2\n",
    "\n",
    "    print(f\"VRAM currently used: {vram_used:.2f} MB\")\n",
    "    print(f\"Max VRAM used during training: {vram_max_used:.2f} MB\")\n"
   ]
  },
  {
   "cell_type": "markdown",
   "metadata": {},
   "source": [
    "### Evaluation"
   ]
  },
  {
   "cell_type": "code",
   "execution_count": 29,
   "metadata": {},
   "outputs": [],
   "source": [
    "model.load_state_dict(torch.load(os.path.join(root_dir, \"axial_full_unpretrained.pth\"), weights_only=True))\n",
    "model.eval()\n",
    "y_true = []\n",
    "y_pred = []\n",
    "example_axial = []\n",
    "example_coronal = []\n",
    "example_sagittal = []\n",
    "example_preds = []\n",
    "example_labels = []\n",
    "\n",
    "with torch.no_grad():\n",
    "    for test_data in test_loader:\n",
    "        test_images, test_labels = (\n",
    "            test_data['images'],\n",
    "            test_data['label'][:, 0].type(torch.LongTensor).to(device),\n",
    "        )\n",
    "        test_axial, test_coronal, test_sagittal = test_images\n",
    "        pred = model(test_axial.to(device)).argmax(dim=1)\n",
    "        for i in range(len(pred)):\n",
    "            y_true.append(test_labels[i].item())\n",
    "            y_pred.append(pred[i].item())\n",
    "\n",
    "        if len(example_axial) < 10:\n",
    "            example_axial.append(test_axial)\n",
    "            example_coronal.append(test_coronal)\n",
    "            example_sagittal.append(test_sagittal)\n",
    "            example_preds.append(pred)\n",
    "            example_labels.append(test_labels)"
   ]
  },
  {
   "cell_type": "code",
   "execution_count": 281,
   "metadata": {
    "scrolled": true
   },
   "outputs": [],
   "source": [
    "report = classification_report(y_true, y_pred, target_names=info['label'], digits=4, output_dict=True)"
   ]
  },
  {
   "cell_type": "code",
   "execution_count": 282,
   "metadata": {},
   "outputs": [],
   "source": [
    "df = pd.DataFrame(report).transpose()\n",
    "df.to_csv(f'axial_full_unpretrained_seed{seed}.csv')"
   ]
  },
  {
   "cell_type": "code",
   "execution_count": 30,
   "metadata": {},
   "outputs": [
    {
     "name": "stdout",
     "output_type": "stream",
     "text": [
      "              precision    recall  f1-score   support\n",
      "\n",
      "           0     0.9853    0.9710    0.9781        69\n",
      "           1     0.6914    0.8235    0.7517        68\n",
      "           2     0.7183    0.7391    0.7286        69\n",
      "           3     0.7195    0.9077    0.8027        65\n",
      "           4     0.9333    0.8615    0.8960        65\n",
      "           5     0.8939    0.8939    0.8939        66\n",
      "           6     1.0000    0.9286    0.9630        28\n",
      "           7     1.0000    1.0000    1.0000        21\n",
      "           8     1.0000    1.0000    1.0000        21\n",
      "           9     0.9206    0.8406    0.8788        69\n",
      "          10     1.0000    0.7391    0.8500        69\n",
      "\n",
      "    accuracy                         0.8607       610\n",
      "   macro avg     0.8966    0.8823    0.8857       610\n",
      "weighted avg     0.8746    0.8607    0.8632       610\n",
      "\n"
     ]
    }
   ],
   "source": [
    "print(classification_report(y_true, y_pred, target_names=info['label'], digits=4))"
   ]
  },
  {
   "cell_type": "code",
   "execution_count": 31,
   "metadata": {},
   "outputs": [
    {
     "name": "stdout",
     "output_type": "stream",
     "text": [
      "VRAM currently used: 194.13 MB\n",
      "Max VRAM used during training: 255.69 MB\n"
     ]
    }
   ],
   "source": [
    "if device.type == \"cuda\":\n",
    "    torch.cuda.synchronize()\n",
    "    vram_used = torch.cuda.memory_allocated() / 1024**2\n",
    "    vram_max_used = torch.cuda.max_memory_allocated() / 1024**2\n",
    "\n",
    "    print(f\"VRAM currently used: {vram_used:.2f} MB\")\n",
    "    print(f\"Max VRAM used during training: {vram_max_used:.2f} MB\")\n"
   ]
  },
  {
   "cell_type": "markdown",
   "metadata": {},
   "source": [
    "# Coronal and sagittal parts"
   ]
  },
  {
   "cell_type": "markdown",
   "metadata": {},
   "source": [
    "## Training cycle for the coronal part"
   ]
  },
  {
   "cell_type": "markdown",
   "metadata": {},
   "source": [
    "## Pretrained"
   ]
  },
  {
   "cell_type": "code",
   "execution_count": 76,
   "metadata": {},
   "outputs": [],
   "source": [
    "device = torch.device(\"cuda\" if torch.cuda.is_available() else \"cpu\")\n",
    "\n",
    "model = models.resnet18(pretrained=True).to(device)\n",
    "model.conv1 = nn.Conv2d(64, 64, kernel_size=7, stride=2, padding=3, bias=False)\n",
    "model.fc = nn.Linear(model.fc.in_features, n_classes)\n",
    "model = model.to(device)\n",
    "\n",
    "loss_function = torch.nn.CrossEntropyLoss()\n",
    "optimizer = torch.optim.Adam(model.parameters(), 0.00005)\n",
    "max_epochs = 40\n",
    "val_interval = 1\n",
    "auc_metric = ROCAUCMetric()"
   ]
  },
  {
   "cell_type": "code",
   "execution_count": 77,
   "metadata": {
    "scrolled": true
   },
   "outputs": [
    {
     "name": "stderr",
     "output_type": "stream",
     "text": [
      "Epochs:   0%|          | 0/40 [00:00<?, ?it/s]"
     ]
    },
    {
     "name": "stdout",
     "output_type": "stream",
     "text": [
      "----------\n",
      "epoch 1/40\n",
      "epoch 1 average loss: 1.9455\n"
     ]
    },
    {
     "name": "stderr",
     "output_type": "stream",
     "text": [
      "Epochs:   2%|▎         | 1/40 [00:16<10:53, 16.75s/it]"
     ]
    },
    {
     "name": "stdout",
     "output_type": "stream",
     "text": [
      "1\n",
      "current epoch: 1 current AUC: 0.9472 current accuracy: 0.6770 best AUC: 1.0000 at epoch: 16\n",
      "----------\n",
      "epoch 2/40\n",
      "epoch 2 average loss: 1.2327\n"
     ]
    },
    {
     "name": "stderr",
     "output_type": "stream",
     "text": [
      "Epochs:   5%|▌         | 2/40 [00:33<10:37, 16.79s/it]"
     ]
    },
    {
     "name": "stdout",
     "output_type": "stream",
     "text": [
      "1\n",
      "current epoch: 2 current AUC: 0.9637 current accuracy: 0.6770 best AUC: 1.0000 at epoch: 16\n",
      "----------\n",
      "epoch 3/40\n",
      "epoch 3 average loss: 0.9499\n"
     ]
    },
    {
     "name": "stderr",
     "output_type": "stream",
     "text": [
      "Epochs:   8%|▊         | 3/40 [00:50<10:21, 16.80s/it]"
     ]
    },
    {
     "name": "stdout",
     "output_type": "stream",
     "text": [
      "1\n",
      "current epoch: 3 current AUC: 0.9729 current accuracy: 0.7578 best AUC: 1.0000 at epoch: 16\n",
      "----------\n",
      "epoch 4/40\n",
      "epoch 4 average loss: 0.8049\n"
     ]
    },
    {
     "name": "stderr",
     "output_type": "stream",
     "text": [
      "Epochs:  10%|█         | 4/40 [01:07<10:02, 16.74s/it]"
     ]
    },
    {
     "name": "stdout",
     "output_type": "stream",
     "text": [
      "1\n",
      "current epoch: 4 current AUC: 0.9861 current accuracy: 0.8075 best AUC: 1.0000 at epoch: 16\n",
      "----------\n",
      "epoch 5/40\n",
      "epoch 5 average loss: 0.7257\n"
     ]
    },
    {
     "name": "stderr",
     "output_type": "stream",
     "text": [
      "Epochs:  12%|█▎        | 5/40 [01:24<09:51, 16.90s/it]"
     ]
    },
    {
     "name": "stdout",
     "output_type": "stream",
     "text": [
      "1\n",
      "current epoch: 5 current AUC: 0.9789 current accuracy: 0.7391 best AUC: 1.0000 at epoch: 16\n",
      "----------\n",
      "epoch 6/40\n",
      "epoch 6 average loss: 0.6667\n"
     ]
    },
    {
     "name": "stderr",
     "output_type": "stream",
     "text": [
      "Epochs:  15%|█▌        | 6/40 [01:41<09:36, 16.96s/it]"
     ]
    },
    {
     "name": "stdout",
     "output_type": "stream",
     "text": [
      "1\n",
      "current epoch: 6 current AUC: 0.9897 current accuracy: 0.8634 best AUC: 1.0000 at epoch: 16\n",
      "----------\n",
      "epoch 7/40\n",
      "epoch 7 average loss: 0.6181\n"
     ]
    },
    {
     "name": "stderr",
     "output_type": "stream",
     "text": [
      "Epochs:  18%|█▊        | 7/40 [01:58<09:17, 16.89s/it]"
     ]
    },
    {
     "name": "stdout",
     "output_type": "stream",
     "text": [
      "1\n",
      "current epoch: 7 current AUC: 0.9910 current accuracy: 0.8944 best AUC: 1.0000 at epoch: 16\n",
      "----------\n",
      "epoch 8/40\n",
      "epoch 8 average loss: 0.5931\n"
     ]
    },
    {
     "name": "stderr",
     "output_type": "stream",
     "text": [
      "Epochs:  20%|██        | 8/40 [02:15<09:03, 16.99s/it]"
     ]
    },
    {
     "name": "stdout",
     "output_type": "stream",
     "text": [
      "1\n",
      "current epoch: 8 current AUC: 0.9935 current accuracy: 0.8634 best AUC: 1.0000 at epoch: 16\n",
      "----------\n",
      "epoch 9/40\n",
      "epoch 9 average loss: 0.5532\n"
     ]
    },
    {
     "name": "stderr",
     "output_type": "stream",
     "text": [
      "Epochs:  22%|██▎       | 9/40 [02:31<08:44, 16.92s/it]"
     ]
    },
    {
     "name": "stdout",
     "output_type": "stream",
     "text": [
      "1\n",
      "current epoch: 9 current AUC: 0.9864 current accuracy: 0.8012 best AUC: 1.0000 at epoch: 16\n",
      "----------\n",
      "epoch 10/40\n",
      "epoch 10 average loss: 0.4916\n"
     ]
    },
    {
     "name": "stderr",
     "output_type": "stream",
     "text": [
      "Epochs:  25%|██▌       | 10/40 [02:48<08:27, 16.91s/it]"
     ]
    },
    {
     "name": "stdout",
     "output_type": "stream",
     "text": [
      "1\n",
      "current epoch: 10 current AUC: 0.9966 current accuracy: 0.8634 best AUC: 1.0000 at epoch: 16\n",
      "----------\n",
      "epoch 11/40\n",
      "epoch 11 average loss: 0.4457\n"
     ]
    },
    {
     "name": "stderr",
     "output_type": "stream",
     "text": [
      "Epochs:  28%|██▊       | 11/40 [03:05<08:09, 16.87s/it]"
     ]
    },
    {
     "name": "stdout",
     "output_type": "stream",
     "text": [
      "1\n",
      "current epoch: 11 current AUC: 0.9899 current accuracy: 0.8571 best AUC: 1.0000 at epoch: 16\n",
      "----------\n",
      "epoch 12/40\n",
      "epoch 12 average loss: 0.4038\n"
     ]
    },
    {
     "name": "stderr",
     "output_type": "stream",
     "text": [
      "Epochs:  30%|███       | 12/40 [03:22<07:52, 16.89s/it]"
     ]
    },
    {
     "name": "stdout",
     "output_type": "stream",
     "text": [
      "1\n",
      "current epoch: 12 current AUC: 0.9949 current accuracy: 0.9068 best AUC: 1.0000 at epoch: 16\n",
      "----------\n",
      "epoch 13/40\n",
      "epoch 13 average loss: 0.4061\n"
     ]
    },
    {
     "name": "stderr",
     "output_type": "stream",
     "text": [
      "Epochs:  32%|███▎      | 13/40 [03:39<07:34, 16.83s/it]"
     ]
    },
    {
     "name": "stdout",
     "output_type": "stream",
     "text": [
      "1\n",
      "current epoch: 13 current AUC: 0.9857 current accuracy: 0.8261 best AUC: 1.0000 at epoch: 16\n",
      "----------\n",
      "epoch 14/40\n",
      "epoch 14 average loss: 0.3946\n"
     ]
    },
    {
     "name": "stderr",
     "output_type": "stream",
     "text": [
      "Epochs:  35%|███▌      | 14/40 [03:56<07:20, 16.94s/it]"
     ]
    },
    {
     "name": "stdout",
     "output_type": "stream",
     "text": [
      "1\n",
      "current epoch: 14 current AUC: 0.9934 current accuracy: 0.8758 best AUC: 1.0000 at epoch: 16\n",
      "----------\n",
      "epoch 15/40\n",
      "epoch 15 average loss: 0.3291\n"
     ]
    },
    {
     "name": "stderr",
     "output_type": "stream",
     "text": [
      "Epochs:  38%|███▊      | 15/40 [04:13<07:03, 16.94s/it]"
     ]
    },
    {
     "name": "stdout",
     "output_type": "stream",
     "text": [
      "1\n",
      "current epoch: 15 current AUC: 0.9979 current accuracy: 0.9193 best AUC: 1.0000 at epoch: 16\n",
      "----------\n",
      "epoch 16/40\n",
      "epoch 16 average loss: 0.3503\n"
     ]
    },
    {
     "name": "stderr",
     "output_type": "stream",
     "text": [
      "Epochs:  40%|████      | 16/40 [04:30<06:47, 16.97s/it]"
     ]
    },
    {
     "name": "stdout",
     "output_type": "stream",
     "text": [
      "1\n",
      "current epoch: 16 current AUC: 0.9923 current accuracy: 0.8634 best AUC: 1.0000 at epoch: 16\n",
      "----------\n",
      "epoch 17/40\n",
      "epoch 17 average loss: 0.3483\n"
     ]
    },
    {
     "name": "stderr",
     "output_type": "stream",
     "text": [
      "Epochs:  42%|████▎     | 17/40 [04:47<06:29, 16.95s/it]"
     ]
    },
    {
     "name": "stdout",
     "output_type": "stream",
     "text": [
      "1\n",
      "current epoch: 17 current AUC: 0.9929 current accuracy: 0.8882 best AUC: 1.0000 at epoch: 16\n",
      "----------\n",
      "epoch 18/40\n",
      "epoch 18 average loss: 0.2838\n"
     ]
    },
    {
     "name": "stderr",
     "output_type": "stream",
     "text": [
      "Epochs:  45%|████▌     | 18/40 [05:04<06:11, 16.89s/it]"
     ]
    },
    {
     "name": "stdout",
     "output_type": "stream",
     "text": [
      "1\n",
      "current epoch: 18 current AUC: 0.9863 current accuracy: 0.8509 best AUC: 1.0000 at epoch: 16\n",
      "----------\n",
      "epoch 19/40\n",
      "epoch 19 average loss: 0.2991\n"
     ]
    },
    {
     "name": "stderr",
     "output_type": "stream",
     "text": [
      "Epochs:  48%|████▊     | 19/40 [05:21<05:55, 16.95s/it]"
     ]
    },
    {
     "name": "stdout",
     "output_type": "stream",
     "text": [
      "1\n",
      "current epoch: 19 current AUC: 0.9964 current accuracy: 0.9068 best AUC: 1.0000 at epoch: 16\n",
      "----------\n",
      "epoch 20/40\n",
      "epoch 20 average loss: 0.2910\n"
     ]
    },
    {
     "name": "stderr",
     "output_type": "stream",
     "text": [
      "Epochs:  50%|█████     | 20/40 [05:37<05:36, 16.82s/it]"
     ]
    },
    {
     "name": "stdout",
     "output_type": "stream",
     "text": [
      "1\n",
      "current epoch: 20 current AUC: 0.9850 current accuracy: 0.8571 best AUC: 1.0000 at epoch: 16\n",
      "----------\n",
      "epoch 21/40\n",
      "epoch 21 average loss: 0.2822\n"
     ]
    },
    {
     "name": "stderr",
     "output_type": "stream",
     "text": [
      "Epochs:  52%|█████▎    | 21/40 [05:54<05:21, 16.91s/it]"
     ]
    },
    {
     "name": "stdout",
     "output_type": "stream",
     "text": [
      "1\n",
      "current epoch: 21 current AUC: 0.9845 current accuracy: 0.8447 best AUC: 1.0000 at epoch: 16\n",
      "----------\n",
      "epoch 22/40\n",
      "epoch 22 average loss: 0.2770\n"
     ]
    },
    {
     "name": "stderr",
     "output_type": "stream",
     "text": [
      "Epochs:  55%|█████▌    | 22/40 [06:11<05:03, 16.86s/it]"
     ]
    },
    {
     "name": "stdout",
     "output_type": "stream",
     "text": [
      "1\n",
      "current epoch: 22 current AUC: 0.9855 current accuracy: 0.8509 best AUC: 1.0000 at epoch: 16\n",
      "----------\n",
      "epoch 23/40\n",
      "epoch 23 average loss: 0.2465\n"
     ]
    },
    {
     "name": "stderr",
     "output_type": "stream",
     "text": [
      "Epochs:  57%|█████▊    | 23/40 [06:28<04:47, 16.92s/it]"
     ]
    },
    {
     "name": "stdout",
     "output_type": "stream",
     "text": [
      "1\n",
      "current epoch: 23 current AUC: 0.9864 current accuracy: 0.8385 best AUC: 1.0000 at epoch: 16\n",
      "----------\n",
      "epoch 24/40\n",
      "epoch 24 average loss: 0.2609\n"
     ]
    },
    {
     "name": "stderr",
     "output_type": "stream",
     "text": [
      "Epochs:  60%|██████    | 24/40 [06:45<04:31, 16.94s/it]"
     ]
    },
    {
     "name": "stdout",
     "output_type": "stream",
     "text": [
      "1\n",
      "current epoch: 24 current AUC: 0.9954 current accuracy: 0.8882 best AUC: 1.0000 at epoch: 16\n",
      "----------\n",
      "epoch 25/40\n",
      "epoch 25 average loss: 0.2416\n"
     ]
    },
    {
     "name": "stderr",
     "output_type": "stream",
     "text": [
      "Epochs:  62%|██████▎   | 25/40 [07:02<04:13, 16.90s/it]"
     ]
    },
    {
     "name": "stdout",
     "output_type": "stream",
     "text": [
      "1\n",
      "current epoch: 25 current AUC: 0.9896 current accuracy: 0.8820 best AUC: 1.0000 at epoch: 16\n",
      "----------\n",
      "epoch 26/40\n",
      "epoch 26 average loss: 0.2415\n"
     ]
    },
    {
     "name": "stderr",
     "output_type": "stream",
     "text": [
      "Epochs:  65%|██████▌   | 26/40 [07:19<03:56, 16.89s/it]"
     ]
    },
    {
     "name": "stdout",
     "output_type": "stream",
     "text": [
      "1\n",
      "current epoch: 26 current AUC: 0.9910 current accuracy: 0.8571 best AUC: 1.0000 at epoch: 16\n",
      "----------\n",
      "epoch 27/40\n",
      "epoch 27 average loss: 0.2437\n"
     ]
    },
    {
     "name": "stderr",
     "output_type": "stream",
     "text": [
      "Epochs:  68%|██████▊   | 27/40 [07:36<03:39, 16.91s/it]"
     ]
    },
    {
     "name": "stdout",
     "output_type": "stream",
     "text": [
      "1\n",
      "current epoch: 27 current AUC: 0.9928 current accuracy: 0.9006 best AUC: 1.0000 at epoch: 16\n",
      "----------\n",
      "epoch 28/40\n",
      "epoch 28 average loss: 0.1766\n"
     ]
    },
    {
     "name": "stderr",
     "output_type": "stream",
     "text": [
      "Epochs:  70%|███████   | 28/40 [07:53<03:22, 16.87s/it]"
     ]
    },
    {
     "name": "stdout",
     "output_type": "stream",
     "text": [
      "1\n",
      "current epoch: 28 current AUC: 0.9894 current accuracy: 0.8509 best AUC: 1.0000 at epoch: 16\n",
      "----------\n",
      "epoch 29/40\n",
      "epoch 29 average loss: 0.1922\n"
     ]
    },
    {
     "name": "stderr",
     "output_type": "stream",
     "text": [
      "Epochs:  72%|███████▎  | 29/40 [08:09<03:05, 16.83s/it]"
     ]
    },
    {
     "name": "stdout",
     "output_type": "stream",
     "text": [
      "1\n",
      "current epoch: 29 current AUC: 0.9976 current accuracy: 0.8944 best AUC: 1.0000 at epoch: 16\n",
      "----------\n",
      "epoch 30/40\n",
      "epoch 30 average loss: 0.1842\n"
     ]
    },
    {
     "name": "stderr",
     "output_type": "stream",
     "text": [
      "Epochs:  75%|███████▌  | 30/40 [08:26<02:48, 16.89s/it]"
     ]
    },
    {
     "name": "stdout",
     "output_type": "stream",
     "text": [
      "1\n",
      "current epoch: 30 current AUC: 0.9950 current accuracy: 0.9317 best AUC: 1.0000 at epoch: 16\n",
      "----------\n",
      "epoch 31/40\n",
      "epoch 31 average loss: 0.2149\n"
     ]
    },
    {
     "name": "stderr",
     "output_type": "stream",
     "text": [
      "Epochs:  78%|███████▊  | 31/40 [08:44<02:32, 16.98s/it]"
     ]
    },
    {
     "name": "stdout",
     "output_type": "stream",
     "text": [
      "1\n",
      "current epoch: 31 current AUC: 0.9809 current accuracy: 0.8447 best AUC: 1.0000 at epoch: 16\n",
      "----------\n",
      "epoch 32/40\n",
      "epoch 32 average loss: 0.1707\n"
     ]
    },
    {
     "name": "stderr",
     "output_type": "stream",
     "text": [
      "Epochs:  80%|████████  | 32/40 [09:01<02:15, 16.98s/it]"
     ]
    },
    {
     "name": "stdout",
     "output_type": "stream",
     "text": [
      "1\n",
      "current epoch: 32 current AUC: 0.9880 current accuracy: 0.8758 best AUC: 1.0000 at epoch: 16\n",
      "----------\n",
      "epoch 33/40\n",
      "epoch 33 average loss: 0.1497\n"
     ]
    },
    {
     "name": "stderr",
     "output_type": "stream",
     "text": [
      "Epochs:  82%|████████▎ | 33/40 [09:17<01:58, 16.94s/it]"
     ]
    },
    {
     "name": "stdout",
     "output_type": "stream",
     "text": [
      "1\n",
      "current epoch: 33 current AUC: 0.9964 current accuracy: 0.9317 best AUC: 1.0000 at epoch: 16\n",
      "----------\n",
      "epoch 34/40\n",
      "epoch 34 average loss: 0.1900\n"
     ]
    },
    {
     "name": "stderr",
     "output_type": "stream",
     "text": [
      "Epochs:  85%|████████▌ | 34/40 [09:34<01:41, 16.92s/it]"
     ]
    },
    {
     "name": "stdout",
     "output_type": "stream",
     "text": [
      "1\n",
      "current epoch: 34 current AUC: 0.9888 current accuracy: 0.8634 best AUC: 1.0000 at epoch: 16\n",
      "----------\n",
      "epoch 35/40\n",
      "epoch 35 average loss: 0.1651\n"
     ]
    },
    {
     "name": "stderr",
     "output_type": "stream",
     "text": [
      "Epochs:  88%|████████▊ | 35/40 [09:51<01:24, 16.92s/it]"
     ]
    },
    {
     "name": "stdout",
     "output_type": "stream",
     "text": [
      "1\n",
      "current epoch: 35 current AUC: 0.9927 current accuracy: 0.9006 best AUC: 1.0000 at epoch: 16\n",
      "----------\n",
      "epoch 36/40\n",
      "epoch 36 average loss: 0.2062\n"
     ]
    },
    {
     "name": "stderr",
     "output_type": "stream",
     "text": [
      "Epochs:  90%|█████████ | 36/40 [10:08<01:07, 16.93s/it]"
     ]
    },
    {
     "name": "stdout",
     "output_type": "stream",
     "text": [
      "1\n",
      "current epoch: 36 current AUC: 0.9807 current accuracy: 0.8199 best AUC: 1.0000 at epoch: 16\n",
      "----------\n",
      "epoch 37/40\n",
      "epoch 37 average loss: 0.1981\n"
     ]
    },
    {
     "name": "stderr",
     "output_type": "stream",
     "text": [
      "Epochs:  92%|█████████▎| 37/40 [10:25<00:50, 16.92s/it]"
     ]
    },
    {
     "name": "stdout",
     "output_type": "stream",
     "text": [
      "1\n",
      "current epoch: 37 current AUC: 0.9806 current accuracy: 0.8571 best AUC: 1.0000 at epoch: 16\n",
      "----------\n",
      "epoch 38/40\n",
      "epoch 38 average loss: 0.1520\n"
     ]
    },
    {
     "name": "stderr",
     "output_type": "stream",
     "text": [
      "Epochs:  95%|█████████▌| 38/40 [10:42<00:33, 16.94s/it]"
     ]
    },
    {
     "name": "stdout",
     "output_type": "stream",
     "text": [
      "1\n",
      "current epoch: 38 current AUC: 0.9960 current accuracy: 0.9255 best AUC: 1.0000 at epoch: 16\n",
      "----------\n",
      "epoch 39/40\n",
      "epoch 39 average loss: 0.1396\n"
     ]
    },
    {
     "name": "stderr",
     "output_type": "stream",
     "text": [
      "Epochs:  98%|█████████▊| 39/40 [10:59<00:16, 16.98s/it]"
     ]
    },
    {
     "name": "stdout",
     "output_type": "stream",
     "text": [
      "1\n",
      "current epoch: 39 current AUC: 0.9944 current accuracy: 0.9130 best AUC: 1.0000 at epoch: 16\n",
      "----------\n",
      "epoch 40/40\n",
      "epoch 40 average loss: 0.1310\n"
     ]
    },
    {
     "name": "stderr",
     "output_type": "stream",
     "text": [
      "Epochs: 100%|██████████| 40/40 [11:16<00:00, 16.92s/it]"
     ]
    },
    {
     "name": "stdout",
     "output_type": "stream",
     "text": [
      "1\n",
      "current epoch: 40 current AUC: 0.9915 current accuracy: 0.8696 best AUC: 1.0000 at epoch: 16\n",
      "train completed, best_metric: 1.0000 at epoch: 16\n"
     ]
    },
    {
     "name": "stderr",
     "output_type": "stream",
     "text": [
      "\n"
     ]
    }
   ],
   "source": [
    "# best_metric = -1\n",
    "# best_metric_epoch = -1\n",
    "# epoch_loss_values = []\n",
    "# metric_values = []\n",
    "# writer = SummaryWriter()\n",
    "\n",
    "# start_time = time.time()\n",
    "# process = psutil.Process()\n",
    "# start_cpu = process.cpu_times()\n",
    "# start_mem = process.memory_info().rss / 1024**2\n",
    "\n",
    "if device.type == \"cuda\":\n",
    "    torch.cuda.synchronize()\n",
    "    torch.cuda.reset_peak_memory_stats()\n",
    "\n",
    "for epoch in tqdm(range(max_epochs), desc=\"Epochs\"):\n",
    "    print(\"-\" * 10)\n",
    "    print(f\"epoch {epoch + 1}/{max_epochs}\")\n",
    "    model.train()\n",
    "    epoch_loss = 0\n",
    "    step = 0\n",
    "    \n",
    "    for batch_data in train_loader:\n",
    "        step += 1\n",
    "        images, labels = batch_data['images'], batch_data['label'][:, 0].type(torch.LongTensor).to(device)\n",
    "        axial, coronal, sagittal = images\n",
    "        optimizer.zero_grad()\n",
    "        outputs = model(coronal.to(device))\n",
    "        loss = loss_function(outputs, labels)\n",
    "        loss.backward()\n",
    "        optimizer.step()\n",
    "        epoch_loss += loss.item()\n",
    "        epoch_len = len(train_dataset) // train_loader.batch_size\n",
    "        writer.add_scalar(\"train_loss\", loss.item(), epoch_len * epoch + step)\n",
    "        \n",
    "    epoch_loss /= step\n",
    "    epoch_loss_values.append(epoch_loss)\n",
    "    print(f\"epoch {epoch + 1} average loss: {epoch_loss:.4f}\")\n",
    "\n",
    "    if (epoch + 1) % val_interval == 0:\n",
    "        model.eval()\n",
    "        with torch.no_grad():\n",
    "            y_pred = torch.tensor([], dtype=torch.float32, device=device)\n",
    "            y = torch.tensor([], dtype=torch.long, device=device)\n",
    "            for val_data in val_loader:\n",
    "                val_images, val_labels = (\n",
    "                    val_data['images'],\n",
    "                    val_data['label'][:, 0].type(torch.LongTensor).to(device),\n",
    "                )\n",
    "                val_axial, val_coronal, val_sagittal = val_images\n",
    "                y_pred = torch.cat([y_pred, model(val_coronal.to(device))], dim=0)\n",
    "                y = torch.cat([y, val_labels], dim=0)\n",
    "            y_onehot = [y_trans(i) for i in decollate_batch(y, detach=False)]\n",
    "            print('1')\n",
    "            y_pred_act = [y_pred_trans(i) for i in decollate_batch(y_pred)]\n",
    "            auc_metric(y_pred_act, y_onehot)\n",
    "            result = auc_metric.aggregate()\n",
    "            auc_metric.reset()\n",
    "            del y_pred_act, y_onehot\n",
    "            metric_values.append(result)\n",
    "            acc_value = torch.eq(y_pred.argmax(dim=1), y)\n",
    "            acc_metric = acc_value.sum().item() / len(acc_value)\n",
    "            if result > best_metric:\n",
    "                best_metric = result\n",
    "                best_metric_epoch = epoch + 1\n",
    "                torch.save(model.state_dict(), os.path.join(root_dir, \"coronal_full_pretrained.pth\"))\n",
    "                print(\"saved new best metric model\")\n",
    "            print(\n",
    "                f\"current epoch: {epoch + 1} current AUC: {result:.4f}\"\n",
    "                f\" current accuracy: {acc_metric:.4f}\"\n",
    "                f\" best AUC: {best_metric:.4f}\"\n",
    "                f\" at epoch: {best_metric_epoch}\"\n",
    "            )\n",
    "            writer.add_scalar(\"val_accuracy\", acc_metric, epoch + 1)\n",
    "\n",
    "print(f\"train completed, best_metric: {best_metric:.4f} \" f\"at epoch: {best_metric_epoch}\")\n",
    "writer.close()"
   ]
  },
  {
   "cell_type": "code",
   "execution_count": 34,
   "metadata": {},
   "outputs": [
    {
     "data": {
      "image/png": "[encoded data removed]",
      "text/plain": [
       "<Figure size 1200x600 with 2 Axes>"
      ]
     },
     "metadata": {},
     "output_type": "display_data"
    }
   ],
   "source": [
    "plt.figure(\"train\", (12, 6))\n",
    "plt.subplot(1, 2, 1)\n",
    "plt.title(\"Epoch Average Loss\")\n",
    "x = [i + 1 for i in range(len(epoch_loss_values))]\n",
    "y = epoch_loss_values\n",
    "plt.xlabel(\"epoch\")\n",
    "plt.plot(x, y)\n",
    "plt.subplot(1, 2, 2)\n",
    "plt.title(\"Val AUC\")\n",
    "x = [val_interval * (i + 1) for i in range(len(metric_values))]\n",
    "y = metric_values\n",
    "plt.xlabel(\"epoch\")\n",
    "plt.plot(x, y)\n",
    "plt.show()"
   ]
  },
  {
   "cell_type": "code",
   "execution_count": 35,
   "metadata": {},
   "outputs": [
    {
     "name": "stdout",
     "output_type": "stream",
     "text": [
      "Training time: 678.44 seconds\n",
      "CPU time used: 8110.50 seconds\n",
      "Memory used: -44.46 MB\n",
      "GPU Memory Used: 194.25 MB\n",
      "Max GPU Memory Used: 238.64 MB\n"
     ]
    }
   ],
   "source": [
    "end_time = time.time()\n",
    "end_cpu = process.cpu_times()\n",
    "end_mem = process.memory_info().rss / 1024**2\n",
    "\n",
    "cpu_time = (end_cpu.user + end_cpu.system) - (start_cpu.user + start_cpu.system)\n",
    "memory_used = end_mem - start_mem\n",
    "\n",
    "print(f\"Training time: {end_time - start_time:.2f} seconds\")\n",
    "print(f\"CPU time used: {cpu_time:.2f} seconds\")\n",
    "print(f\"Memory used: {memory_used:.2f} MB\")\n",
    "\n",
    "if device.type == \"cuda\":\n",
    "    torch.cuda.synchronize()\n",
    "    print(f\"GPU Memory Used: {torch.cuda.memory_allocated() / 1024**2:.2f} MB\")\n",
    "    print(f\"Max GPU Memory Used: {torch.cuda.max_memory_allocated() / 1024**2:.2f} MB\")\n"
   ]
  },
  {
   "cell_type": "code",
   "execution_count": 36,
   "metadata": {},
   "outputs": [
    {
     "name": "stdout",
     "output_type": "stream",
     "text": [
      "VRAM currently used: 194.25 MB\n",
      "Max VRAM used during training: 238.64 MB\n"
     ]
    }
   ],
   "source": [
    "if device.type == \"cuda\":\n",
    "    torch.cuda.synchronize()\n",
    "    vram_used = torch.cuda.memory_allocated() / 1024**2\n",
    "    vram_max_used = torch.cuda.max_memory_allocated() / 1024**2\n",
    "\n",
    "    print(f\"VRAM currently used: {vram_used:.2f} MB\")\n",
    "    print(f\"Max VRAM used during training: {vram_max_used:.2f} MB\")\n"
   ]
  },
  {
   "cell_type": "markdown",
   "metadata": {},
   "source": [
    "### Evaluation"
   ]
  },
  {
   "cell_type": "code",
   "execution_count": 37,
   "metadata": {},
   "outputs": [],
   "source": [
    "model.load_state_dict(torch.load(os.path.join(root_dir, \"coronal_full_pretrained.pth\"), weights_only=True))\n",
    "model.eval()\n",
    "y_true = []\n",
    "y_pred = []\n",
    "example_axial = []\n",
    "example_coronal = []\n",
    "example_sagittal = []\n",
    "example_preds = []\n",
    "example_labels = []\n",
    "\n",
    "with torch.no_grad():\n",
    "    for test_data in test_loader:\n",
    "        test_images, test_labels = (\n",
    "            test_data['images'],\n",
    "            test_data['label'][:, 0].type(torch.LongTensor).to(device),\n",
    "        )\n",
    "        test_axial, test_coronal, test_sagittal = test_images\n",
    "        pred = model(test_coronal.to(device)).argmax(dim=1)\n",
    "        for i in range(len(pred)):\n",
    "            y_true.append(test_labels[i].item())\n",
    "            y_pred.append(pred[i].item())\n",
    "\n",
    "        if len(example_axial) < 10:\n",
    "            example_axial.append(test_axial)\n",
    "            example_coronal.append(test_coronal)\n",
    "            example_sagittal.append(test_sagittal)\n",
    "            example_preds.append(pred)\n",
    "            example_labels.append(test_labels)"
   ]
  },
  {
   "cell_type": "code",
   "execution_count": 38,
   "metadata": {
    "scrolled": true
   },
   "outputs": [
    {
     "name": "stdout",
     "output_type": "stream",
     "text": [
      "              precision    recall  f1-score   support\n",
      "\n",
      "           0     0.9857    1.0000    0.9928        69\n",
      "           1     0.6786    0.5588    0.6129        68\n",
      "           2     0.6364    0.6087    0.6222        69\n",
      "           3     0.5591    0.8000    0.6582        65\n",
      "           4     0.6829    0.4308    0.5283        65\n",
      "           5     0.8228    0.9848    0.8966        66\n",
      "           6     0.9655    1.0000    0.9825        28\n",
      "           7     1.0000    0.9524    0.9756        21\n",
      "           8     0.9130    1.0000    0.9545        21\n",
      "           9     0.8657    0.8406    0.8529        69\n",
      "          10     0.9848    0.9420    0.9630        69\n",
      "\n",
      "    accuracy                         0.7967       610\n",
      "   macro avg     0.8268    0.8289    0.8218       610\n",
      "weighted avg     0.8000    0.7967    0.7914       610\n",
      "\n"
     ]
    }
   ],
   "source": [
    "report = classification_report(y_true, y_pred, target_names=info['label'], digits=4, output_dict=True)\n",
    "print(classification_report(y_true, y_pred, target_names=info['label'], digits=4))"
   ]
  },
  {
   "cell_type": "code",
   "execution_count": 289,
   "metadata": {},
   "outputs": [],
   "source": [
    "df = pd.DataFrame(report).transpose()\n",
    "df.to_csv(f'coronal_full_pretrained_seed{seed}.csv')"
   ]
  },
  {
   "cell_type": "code",
   "execution_count": 39,
   "metadata": {},
   "outputs": [
    {
     "name": "stdout",
     "output_type": "stream",
     "text": [
      "VRAM currently used: 194.24 MB\n",
      "Max VRAM used during training: 238.69 MB\n"
     ]
    }
   ],
   "source": [
    "if device.type == \"cuda\":\n",
    "    torch.cuda.synchronize()\n",
    "    vram_used = torch.cuda.memory_allocated() / 1024**2\n",
    "    vram_max_used = torch.cuda.max_memory_allocated() / 1024**2\n",
    "\n",
    "    print(f\"VRAM currently used: {vram_used:.2f} MB\")\n",
    "    print(f\"Max VRAM used during training: {vram_max_used:.2f} MB\")\n"
   ]
  },
  {
   "cell_type": "markdown",
   "metadata": {},
   "source": [
    "## Unpretrained"
   ]
  },
  {
   "cell_type": "code",
   "execution_count": 40,
   "metadata": {},
   "outputs": [],
   "source": [
    "device = torch.device(\"cuda\" if torch.cuda.is_available() else \"cpu\")\n",
    "model = nets.resnet18(pretrained=False, spatial_dims=2, n_input_channels=64, num_classes=n_classes).to(device)\n",
    "loss_function = torch.nn.CrossEntropyLoss()\n",
    "optimizer = torch.optim.Adam(model.parameters(), 0.00005)\n",
    "max_epochs = 40\n",
    "val_interval = 1\n",
    "auc_metric = ROCAUCMetric()"
   ]
  },
  {
   "cell_type": "code",
   "execution_count": 41,
   "metadata": {
    "scrolled": true
   },
   "outputs": [
    {
     "name": "stderr",
     "output_type": "stream",
     "text": [
      "Epochs:   0%|          | 0/40 [00:00<?, ?it/s]"
     ]
    },
    {
     "name": "stdout",
     "output_type": "stream",
     "text": [
      "----------\n",
      "epoch 1/40\n",
      "epoch 1 average loss: 1.8091\n",
      "1\n"
     ]
    },
    {
     "name": "stderr",
     "output_type": "stream",
     "text": [
      "Epochs:   2%|▎         | 1/40 [00:17<11:14, 17.29s/it]"
     ]
    },
    {
     "name": "stdout",
     "output_type": "stream",
     "text": [
      "saved new best metric model\n",
      "current epoch: 1 current AUC: 0.9579 current accuracy: 0.5217 best AUC: 0.9579 at epoch: 1\n",
      "----------\n",
      "epoch 2/40\n",
      "epoch 2 average loss: 1.2000\n",
      "1\n"
     ]
    },
    {
     "name": "stderr",
     "output_type": "stream",
     "text": [
      "Epochs:   5%|▌         | 2/40 [00:34<10:59, 17.36s/it]"
     ]
    },
    {
     "name": "stdout",
     "output_type": "stream",
     "text": [
      "saved new best metric model\n",
      "current epoch: 2 current AUC: 0.9803 current accuracy: 0.6708 best AUC: 0.9803 at epoch: 2\n",
      "----------\n",
      "epoch 3/40\n",
      "epoch 3 average loss: 1.0431\n",
      "1\n"
     ]
    },
    {
     "name": "stderr",
     "output_type": "stream",
     "text": [
      "Epochs:   8%|▊         | 3/40 [00:52<10:43, 17.38s/it]"
     ]
    },
    {
     "name": "stdout",
     "output_type": "stream",
     "text": [
      "saved new best metric model\n",
      "current epoch: 3 current AUC: 0.9898 current accuracy: 0.7950 best AUC: 0.9898 at epoch: 3\n",
      "----------\n",
      "epoch 4/40\n",
      "epoch 4 average loss: 0.8842\n"
     ]
    },
    {
     "name": "stderr",
     "output_type": "stream",
     "text": [
      "Epochs:  10%|█         | 4/40 [01:08<10:18, 17.17s/it]"
     ]
    },
    {
     "name": "stdout",
     "output_type": "stream",
     "text": [
      "1\n",
      "current epoch: 4 current AUC: 0.9858 current accuracy: 0.6708 best AUC: 0.9898 at epoch: 3\n",
      "----------\n",
      "epoch 5/40\n",
      "epoch 5 average loss: 0.7898\n",
      "1\n"
     ]
    },
    {
     "name": "stderr",
     "output_type": "stream",
     "text": [
      "Epochs:  12%|█▎        | 5/40 [01:26<10:06, 17.32s/it]"
     ]
    },
    {
     "name": "stdout",
     "output_type": "stream",
     "text": [
      "saved new best metric model\n",
      "current epoch: 5 current AUC: 0.9904 current accuracy: 0.7516 best AUC: 0.9904 at epoch: 5\n",
      "----------\n",
      "epoch 6/40\n",
      "epoch 6 average loss: 0.6889\n",
      "1\n"
     ]
    },
    {
     "name": "stderr",
     "output_type": "stream",
     "text": [
      "Epochs:  15%|█▌        | 6/40 [01:43<09:50, 17.36s/it]"
     ]
    },
    {
     "name": "stdout",
     "output_type": "stream",
     "text": [
      "saved new best metric model\n",
      "current epoch: 6 current AUC: 0.9950 current accuracy: 0.8571 best AUC: 0.9950 at epoch: 6\n",
      "----------\n",
      "epoch 7/40\n",
      "epoch 7 average loss: 0.6649\n"
     ]
    },
    {
     "name": "stderr",
     "output_type": "stream",
     "text": [
      "Epochs:  18%|█▊        | 7/40 [02:00<09:25, 17.15s/it]"
     ]
    },
    {
     "name": "stdout",
     "output_type": "stream",
     "text": [
      "1\n",
      "current epoch: 7 current AUC: 0.9905 current accuracy: 0.8261 best AUC: 0.9950 at epoch: 6\n",
      "----------\n",
      "epoch 8/40\n",
      "epoch 8 average loss: 0.6245\n"
     ]
    },
    {
     "name": "stderr",
     "output_type": "stream",
     "text": [
      "Epochs:  20%|██        | 8/40 [02:17<09:08, 17.13s/it]"
     ]
    },
    {
     "name": "stdout",
     "output_type": "stream",
     "text": [
      "1\n",
      "current epoch: 8 current AUC: 0.9836 current accuracy: 0.7702 best AUC: 0.9950 at epoch: 6\n",
      "----------\n",
      "epoch 9/40\n",
      "epoch 9 average loss: 0.5699\n"
     ]
    },
    {
     "name": "stderr",
     "output_type": "stream",
     "text": [
      "Epochs:  22%|██▎       | 9/40 [02:34<08:49, 17.08s/it]"
     ]
    },
    {
     "name": "stdout",
     "output_type": "stream",
     "text": [
      "1\n",
      "current epoch: 9 current AUC: 0.9855 current accuracy: 0.8261 best AUC: 0.9950 at epoch: 6\n",
      "----------\n",
      "epoch 10/40\n",
      "epoch 10 average loss: 0.5462\n"
     ]
    },
    {
     "name": "stderr",
     "output_type": "stream",
     "text": [
      "Epochs:  25%|██▌       | 10/40 [02:51<08:30, 17.01s/it]"
     ]
    },
    {
     "name": "stdout",
     "output_type": "stream",
     "text": [
      "1\n",
      "current epoch: 10 current AUC: 0.9882 current accuracy: 0.8012 best AUC: 0.9950 at epoch: 6\n",
      "----------\n",
      "epoch 11/40\n",
      "epoch 11 average loss: 0.5255\n"
     ]
    },
    {
     "name": "stderr",
     "output_type": "stream",
     "text": [
      "Epochs:  28%|██▊       | 11/40 [03:08<08:12, 16.98s/it]"
     ]
    },
    {
     "name": "stdout",
     "output_type": "stream",
     "text": [
      "1\n",
      "current epoch: 11 current AUC: 0.9897 current accuracy: 0.8261 best AUC: 0.9950 at epoch: 6\n",
      "----------\n",
      "epoch 12/40\n",
      "epoch 12 average loss: 0.4475\n"
     ]
    },
    {
     "name": "stderr",
     "output_type": "stream",
     "text": [
      "Epochs:  30%|███       | 12/40 [03:25<07:54, 16.96s/it]"
     ]
    },
    {
     "name": "stdout",
     "output_type": "stream",
     "text": [
      "1\n",
      "current epoch: 12 current AUC: 0.9869 current accuracy: 0.8261 best AUC: 0.9950 at epoch: 6\n",
      "----------\n",
      "epoch 13/40\n",
      "epoch 13 average loss: 0.4056\n"
     ]
    },
    {
     "name": "stderr",
     "output_type": "stream",
     "text": [
      "Epochs:  32%|███▎      | 13/40 [03:42<07:36, 16.90s/it]"
     ]
    },
    {
     "name": "stdout",
     "output_type": "stream",
     "text": [
      "1\n",
      "current epoch: 13 current AUC: 0.9884 current accuracy: 0.8447 best AUC: 0.9950 at epoch: 6\n",
      "----------\n",
      "epoch 14/40\n",
      "epoch 14 average loss: 0.3860\n"
     ]
    },
    {
     "name": "stderr",
     "output_type": "stream",
     "text": [
      "Epochs:  35%|███▌      | 14/40 [03:59<07:20, 16.96s/it]"
     ]
    },
    {
     "name": "stdout",
     "output_type": "stream",
     "text": [
      "1\n",
      "current epoch: 14 current AUC: 0.9887 current accuracy: 0.8509 best AUC: 0.9950 at epoch: 6\n",
      "----------\n",
      "epoch 15/40\n",
      "epoch 15 average loss: 0.3703\n"
     ]
    },
    {
     "name": "stderr",
     "output_type": "stream",
     "text": [
      "Epochs:  38%|███▊      | 15/40 [04:16<07:02, 16.89s/it]"
     ]
    },
    {
     "name": "stdout",
     "output_type": "stream",
     "text": [
      "1\n",
      "current epoch: 15 current AUC: 0.9912 current accuracy: 0.8199 best AUC: 0.9950 at epoch: 6\n",
      "----------\n",
      "epoch 16/40\n",
      "epoch 16 average loss: 0.3843\n"
     ]
    },
    {
     "name": "stderr",
     "output_type": "stream",
     "text": [
      "Epochs:  40%|████      | 16/40 [04:33<06:46, 16.96s/it]"
     ]
    },
    {
     "name": "stdout",
     "output_type": "stream",
     "text": [
      "1\n",
      "current epoch: 16 current AUC: 0.9875 current accuracy: 0.8323 best AUC: 0.9950 at epoch: 6\n",
      "----------\n",
      "epoch 17/40\n",
      "epoch 17 average loss: 0.3196\n"
     ]
    },
    {
     "name": "stderr",
     "output_type": "stream",
     "text": [
      "Epochs:  42%|████▎     | 17/40 [04:50<06:31, 17.01s/it]"
     ]
    },
    {
     "name": "stdout",
     "output_type": "stream",
     "text": [
      "1\n",
      "current epoch: 17 current AUC: 0.9920 current accuracy: 0.8323 best AUC: 0.9950 at epoch: 6\n",
      "----------\n",
      "epoch 18/40\n",
      "epoch 18 average loss: 0.3367\n"
     ]
    },
    {
     "name": "stderr",
     "output_type": "stream",
     "text": [
      "Epochs:  45%|████▌     | 18/40 [05:07<06:12, 16.95s/it]"
     ]
    },
    {
     "name": "stdout",
     "output_type": "stream",
     "text": [
      "1\n",
      "current epoch: 18 current AUC: 0.9861 current accuracy: 0.8075 best AUC: 0.9950 at epoch: 6\n",
      "----------\n",
      "epoch 19/40\n",
      "epoch 19 average loss: 0.3568\n"
     ]
    },
    {
     "name": "stderr",
     "output_type": "stream",
     "text": [
      "Epochs:  48%|████▊     | 19/40 [05:23<05:55, 16.92s/it]"
     ]
    },
    {
     "name": "stdout",
     "output_type": "stream",
     "text": [
      "1\n",
      "current epoch: 19 current AUC: 0.9915 current accuracy: 0.8571 best AUC: 0.9950 at epoch: 6\n",
      "----------\n",
      "epoch 20/40\n",
      "epoch 20 average loss: 0.3301\n"
     ]
    },
    {
     "name": "stderr",
     "output_type": "stream",
     "text": [
      "Epochs:  50%|█████     | 20/40 [05:40<05:36, 16.84s/it]"
     ]
    },
    {
     "name": "stdout",
     "output_type": "stream",
     "text": [
      "1\n",
      "current epoch: 20 current AUC: 0.9926 current accuracy: 0.8323 best AUC: 0.9950 at epoch: 6\n",
      "----------\n",
      "epoch 21/40\n",
      "epoch 21 average loss: 0.3039\n"
     ]
    },
    {
     "name": "stderr",
     "output_type": "stream",
     "text": [
      "Epochs:  52%|█████▎    | 21/40 [05:57<05:20, 16.89s/it]"
     ]
    },
    {
     "name": "stdout",
     "output_type": "stream",
     "text": [
      "1\n",
      "current epoch: 21 current AUC: 0.9884 current accuracy: 0.8323 best AUC: 0.9950 at epoch: 6\n",
      "----------\n",
      "epoch 22/40\n",
      "epoch 22 average loss: 0.2880\n"
     ]
    },
    {
     "name": "stderr",
     "output_type": "stream",
     "text": [
      "Epochs:  55%|█████▌    | 22/40 [06:14<05:05, 16.99s/it]"
     ]
    },
    {
     "name": "stdout",
     "output_type": "stream",
     "text": [
      "1\n",
      "current epoch: 22 current AUC: 0.9925 current accuracy: 0.8509 best AUC: 0.9950 at epoch: 6\n",
      "----------\n",
      "epoch 23/40\n",
      "epoch 23 average loss: 0.3028\n"
     ]
    },
    {
     "name": "stderr",
     "output_type": "stream",
     "text": [
      "Epochs:  57%|█████▊    | 23/40 [06:31<04:48, 16.96s/it]"
     ]
    },
    {
     "name": "stdout",
     "output_type": "stream",
     "text": [
      "1\n",
      "current epoch: 23 current AUC: 0.9921 current accuracy: 0.8509 best AUC: 0.9950 at epoch: 6\n",
      "----------\n",
      "epoch 24/40\n",
      "epoch 24 average loss: 0.2577\n"
     ]
    },
    {
     "name": "stderr",
     "output_type": "stream",
     "text": [
      "Epochs:  60%|██████    | 24/40 [06:48<04:30, 16.93s/it]"
     ]
    },
    {
     "name": "stdout",
     "output_type": "stream",
     "text": [
      "1\n",
      "current epoch: 24 current AUC: 0.9890 current accuracy: 0.8323 best AUC: 0.9950 at epoch: 6\n",
      "----------\n",
      "epoch 25/40\n",
      "epoch 25 average loss: 0.2360\n"
     ]
    },
    {
     "name": "stderr",
     "output_type": "stream",
     "text": [
      "Epochs:  62%|██████▎   | 25/40 [07:05<04:13, 16.93s/it]"
     ]
    },
    {
     "name": "stdout",
     "output_type": "stream",
     "text": [
      "1\n",
      "current epoch: 25 current AUC: 0.9873 current accuracy: 0.8323 best AUC: 0.9950 at epoch: 6\n",
      "----------\n",
      "epoch 26/40\n",
      "epoch 26 average loss: 0.2019\n"
     ]
    },
    {
     "name": "stderr",
     "output_type": "stream",
     "text": [
      "Epochs:  65%|██████▌   | 26/40 [07:22<03:58, 17.02s/it]"
     ]
    },
    {
     "name": "stdout",
     "output_type": "stream",
     "text": [
      "1\n",
      "current epoch: 26 current AUC: 0.9900 current accuracy: 0.8509 best AUC: 0.9950 at epoch: 6\n",
      "----------\n",
      "epoch 27/40\n",
      "epoch 27 average loss: 0.2595\n"
     ]
    },
    {
     "name": "stderr",
     "output_type": "stream",
     "text": [
      "Epochs:  68%|██████▊   | 27/40 [07:39<03:41, 17.05s/it]"
     ]
    },
    {
     "name": "stdout",
     "output_type": "stream",
     "text": [
      "1\n",
      "current epoch: 27 current AUC: 0.9894 current accuracy: 0.8696 best AUC: 0.9950 at epoch: 6\n",
      "----------\n",
      "epoch 28/40\n",
      "epoch 28 average loss: 0.2194\n"
     ]
    },
    {
     "name": "stderr",
     "output_type": "stream",
     "text": [
      "Epochs:  70%|███████   | 28/40 [07:56<03:24, 17.00s/it]"
     ]
    },
    {
     "name": "stdout",
     "output_type": "stream",
     "text": [
      "1\n",
      "current epoch: 28 current AUC: 0.9881 current accuracy: 0.8447 best AUC: 0.9950 at epoch: 6\n",
      "----------\n",
      "epoch 29/40\n",
      "epoch 29 average loss: 0.1869\n"
     ]
    },
    {
     "name": "stderr",
     "output_type": "stream",
     "text": [
      "Epochs:  72%|███████▎  | 29/40 [08:13<03:06, 16.93s/it]"
     ]
    },
    {
     "name": "stdout",
     "output_type": "stream",
     "text": [
      "1\n",
      "current epoch: 29 current AUC: 0.9871 current accuracy: 0.8447 best AUC: 0.9950 at epoch: 6\n",
      "----------\n",
      "epoch 30/40\n",
      "epoch 30 average loss: 0.1973\n"
     ]
    },
    {
     "name": "stderr",
     "output_type": "stream",
     "text": [
      "Epochs:  75%|███████▌  | 30/40 [08:30<02:48, 16.90s/it]"
     ]
    },
    {
     "name": "stdout",
     "output_type": "stream",
     "text": [
      "1\n",
      "current epoch: 30 current AUC: 0.9857 current accuracy: 0.8137 best AUC: 0.9950 at epoch: 6\n",
      "----------\n",
      "epoch 31/40\n",
      "epoch 31 average loss: 0.2211\n"
     ]
    },
    {
     "name": "stderr",
     "output_type": "stream",
     "text": [
      "Epochs:  78%|███████▊  | 31/40 [08:47<02:31, 16.87s/it]"
     ]
    },
    {
     "name": "stdout",
     "output_type": "stream",
     "text": [
      "1\n",
      "current epoch: 31 current AUC: 0.9871 current accuracy: 0.8323 best AUC: 0.9950 at epoch: 6\n",
      "----------\n",
      "epoch 32/40\n",
      "epoch 32 average loss: 0.1870\n"
     ]
    },
    {
     "name": "stderr",
     "output_type": "stream",
     "text": [
      "Epochs:  80%|████████  | 32/40 [09:03<02:14, 16.84s/it]"
     ]
    },
    {
     "name": "stdout",
     "output_type": "stream",
     "text": [
      "1\n",
      "current epoch: 32 current AUC: 0.9931 current accuracy: 0.9130 best AUC: 0.9950 at epoch: 6\n",
      "----------\n",
      "epoch 33/40\n",
      "epoch 33 average loss: 0.1428\n",
      "1\n"
     ]
    },
    {
     "name": "stderr",
     "output_type": "stream",
     "text": [
      "Epochs:  82%|████████▎ | 33/40 [09:21<01:59, 17.03s/it]"
     ]
    },
    {
     "name": "stdout",
     "output_type": "stream",
     "text": [
      "saved new best metric model\n",
      "current epoch: 33 current AUC: 0.9952 current accuracy: 0.9130 best AUC: 0.9952 at epoch: 33\n",
      "----------\n",
      "epoch 34/40\n",
      "epoch 34 average loss: 0.1714\n",
      "1\n"
     ]
    },
    {
     "name": "stderr",
     "output_type": "stream",
     "text": [
      "Epochs:  85%|████████▌ | 34/40 [09:38<01:42, 17.16s/it]"
     ]
    },
    {
     "name": "stdout",
     "output_type": "stream",
     "text": [
      "saved new best metric model\n",
      "current epoch: 34 current AUC: 0.9956 current accuracy: 0.9006 best AUC: 0.9956 at epoch: 34\n",
      "----------\n",
      "epoch 35/40\n",
      "epoch 35 average loss: 0.1761\n"
     ]
    },
    {
     "name": "stderr",
     "output_type": "stream",
     "text": [
      "Epochs:  88%|████████▊ | 35/40 [09:56<01:25, 17.17s/it]"
     ]
    },
    {
     "name": "stdout",
     "output_type": "stream",
     "text": [
      "1\n",
      "current epoch: 35 current AUC: 0.9896 current accuracy: 0.8820 best AUC: 0.9956 at epoch: 34\n",
      "----------\n",
      "epoch 36/40\n",
      "epoch 36 average loss: 0.1373\n"
     ]
    },
    {
     "name": "stderr",
     "output_type": "stream",
     "text": [
      "Epochs:  90%|█████████ | 36/40 [10:12<01:08, 17.01s/it]"
     ]
    },
    {
     "name": "stdout",
     "output_type": "stream",
     "text": [
      "1\n",
      "current epoch: 36 current AUC: 0.9919 current accuracy: 0.8571 best AUC: 0.9956 at epoch: 34\n",
      "----------\n",
      "epoch 37/40\n",
      "epoch 37 average loss: 0.1701\n"
     ]
    },
    {
     "name": "stderr",
     "output_type": "stream",
     "text": [
      "Epochs:  92%|█████████▎| 37/40 [10:29<00:51, 17.04s/it]"
     ]
    },
    {
     "name": "stdout",
     "output_type": "stream",
     "text": [
      "1\n",
      "current epoch: 37 current AUC: 0.9935 current accuracy: 0.9006 best AUC: 0.9956 at epoch: 34\n",
      "----------\n",
      "epoch 38/40\n",
      "epoch 38 average loss: 0.1443\n"
     ]
    },
    {
     "name": "stderr",
     "output_type": "stream",
     "text": [
      "Epochs:  95%|█████████▌| 38/40 [10:46<00:34, 17.05s/it]"
     ]
    },
    {
     "name": "stdout",
     "output_type": "stream",
     "text": [
      "1\n",
      "current epoch: 38 current AUC: 0.9894 current accuracy: 0.8571 best AUC: 0.9956 at epoch: 34\n",
      "----------\n",
      "epoch 39/40\n",
      "epoch 39 average loss: 0.1230\n"
     ]
    },
    {
     "name": "stderr",
     "output_type": "stream",
     "text": [
      "Epochs:  98%|█████████▊| 39/40 [11:03<00:17, 17.05s/it]"
     ]
    },
    {
     "name": "stdout",
     "output_type": "stream",
     "text": [
      "1\n",
      "current epoch: 39 current AUC: 0.9901 current accuracy: 0.8509 best AUC: 0.9956 at epoch: 34\n",
      "----------\n",
      "epoch 40/40\n",
      "epoch 40 average loss: 0.1618\n"
     ]
    },
    {
     "name": "stderr",
     "output_type": "stream",
     "text": [
      "Epochs: 100%|██████████| 40/40 [11:20<00:00, 17.02s/it]"
     ]
    },
    {
     "name": "stdout",
     "output_type": "stream",
     "text": [
      "1\n",
      "current epoch: 40 current AUC: 0.9902 current accuracy: 0.8447 best AUC: 0.9956 at epoch: 34\n",
      "train completed, best_metric: 0.9956 at epoch: 34\n"
     ]
    },
    {
     "name": "stderr",
     "output_type": "stream",
     "text": [
      "\n"
     ]
    }
   ],
   "source": [
    "best_metric = -1\n",
    "best_metric_epoch = -1\n",
    "epoch_loss_values = []\n",
    "metric_values = []\n",
    "writer = SummaryWriter()\n",
    "\n",
    "start_time = time.time()\n",
    "process = psutil.Process()\n",
    "start_cpu = process.cpu_times()\n",
    "start_mem = process.memory_info().rss / 1024**2  # В MB\n",
    "\n",
    "if device.type == \"cuda\":\n",
    "    torch.cuda.synchronize()\n",
    "    torch.cuda.reset_peak_memory_stats()\n",
    "\n",
    "for epoch in tqdm(range(max_epochs), desc=\"Epochs\"):\n",
    "    print(\"-\" * 10)\n",
    "    print(f\"epoch {epoch + 1}/{max_epochs}\")\n",
    "    model.train()\n",
    "    epoch_loss = 0\n",
    "    step = 0\n",
    "    \n",
    "    for batch_data in train_loader:\n",
    "        step += 1\n",
    "        images, labels = batch_data['images'], batch_data['label'][:, 0].type(torch.LongTensor).to(device)\n",
    "        axial, coronal, sagittal = images\n",
    "        optimizer.zero_grad()\n",
    "        outputs = model(coronal.to(device))\n",
    "        loss = loss_function(outputs, labels)\n",
    "        loss.backward()\n",
    "        optimizer.step()\n",
    "        epoch_loss += loss.item()\n",
    "        epoch_len = len(train_dataset) // train_loader.batch_size\n",
    "        writer.add_scalar(\"train_loss\", loss.item(), epoch_len * epoch + step)\n",
    "        \n",
    "    epoch_loss /= step\n",
    "    epoch_loss_values.append(epoch_loss)\n",
    "    print(f\"epoch {epoch + 1} average loss: {epoch_loss:.4f}\")\n",
    "\n",
    "    if (epoch + 1) % val_interval == 0:\n",
    "        model.eval()\n",
    "        with torch.no_grad():\n",
    "            y_pred = torch.tensor([], dtype=torch.float32, device=device)\n",
    "            y = torch.tensor([], dtype=torch.long, device=device)\n",
    "            for val_data in val_loader:\n",
    "                val_images, val_labels = (\n",
    "                    val_data['images'],\n",
    "                    val_data['label'][:, 0].type(torch.LongTensor).to(device),\n",
    "                )\n",
    "                val_axial, val_coronal, val_sagittal = val_images\n",
    "                y_pred = torch.cat([y_pred, model(val_coronal.to(device))], dim=0)\n",
    "                y = torch.cat([y, val_labels], dim=0)\n",
    "            y_onehot = [y_trans(i) for i in decollate_batch(y, detach=False)]\n",
    "            print('1')\n",
    "            y_pred_act = [y_pred_trans(i) for i in decollate_batch(y_pred)]\n",
    "            auc_metric(y_pred_act, y_onehot)\n",
    "            result = auc_metric.aggregate()\n",
    "            auc_metric.reset()\n",
    "            del y_pred_act, y_onehot\n",
    "            metric_values.append(result)\n",
    "            acc_value = torch.eq(y_pred.argmax(dim=1), y)\n",
    "            acc_metric = acc_value.sum().item() / len(acc_value)\n",
    "            if result > best_metric:\n",
    "                best_metric = result\n",
    "                best_metric_epoch = epoch + 1\n",
    "                torch.save(model.state_dict(), os.path.join(root_dir, \"coronal_full_unpretrained.pth\"))\n",
    "                print(\"saved new best metric model\")\n",
    "            print(\n",
    "                f\"current epoch: {epoch + 1} current AUC: {result:.4f}\"\n",
    "                f\" current accuracy: {acc_metric:.4f}\"\n",
    "                f\" best AUC: {best_metric:.4f}\"\n",
    "                f\" at epoch: {best_metric_epoch}\"\n",
    "            )\n",
    "            writer.add_scalar(\"val_accuracy\", acc_metric, epoch + 1)\n",
    "\n",
    "print(f\"train completed, best_metric: {best_metric:.4f} \" f\"at epoch: {best_metric_epoch}\")\n",
    "writer.close()"
   ]
  },
  {
   "cell_type": "code",
   "execution_count": 42,
   "metadata": {},
   "outputs": [
    {
     "name": "stdout",
     "output_type": "stream",
     "text": [
      "Training time: 680.61 seconds\n",
      "CPU time used: 8136.81 seconds\n",
      "Memory used: 1.50 MB\n",
      "GPU Memory Used: 193.39 MB\n",
      "Max GPU Memory Used: 251.94 MB\n"
     ]
    }
   ],
   "source": [
    "end_time = time.time()\n",
    "end_cpu = process.cpu_times()\n",
    "end_mem = process.memory_info().rss / 1024**2\n",
    "\n",
    "cpu_time = (end_cpu.user + end_cpu.system) - (start_cpu.user + start_cpu.system)\n",
    "memory_used = end_mem - start_mem\n",
    "\n",
    "print(f\"Training time: {end_time - start_time:.2f} seconds\")\n",
    "print(f\"CPU time used: {cpu_time:.2f} seconds\")\n",
    "print(f\"Memory used: {memory_used:.2f} MB\")\n",
    "\n",
    "if device.type == \"cuda\":\n",
    "    torch.cuda.synchronize()\n",
    "    print(f\"GPU Memory Used: {torch.cuda.memory_allocated() / 1024**2:.2f} MB\")\n",
    "    print(f\"Max GPU Memory Used: {torch.cuda.max_memory_allocated() / 1024**2:.2f} MB\")\n"
   ]
  },
  {
   "cell_type": "code",
   "execution_count": 43,
   "metadata": {},
   "outputs": [
    {
     "data": {
      "image/png": "[encoded data removed]",
      "text/plain": [
       "<Figure size 1200x600 with 2 Axes>"
      ]
     },
     "metadata": {},
     "output_type": "display_data"
    }
   ],
   "source": [
    "plt.figure(\"train\", (12, 6))\n",
    "plt.subplot(1, 2, 1)\n",
    "plt.title(\"Epoch Average Loss\")\n",
    "x = [i + 1 for i in range(len(epoch_loss_values))]\n",
    "y = epoch_loss_values\n",
    "plt.xlabel(\"epoch\")\n",
    "plt.plot(x, y)\n",
    "plt.subplot(1, 2, 2)\n",
    "plt.title(\"Val AUC\")\n",
    "x = [val_interval * (i + 1) for i in range(len(metric_values))]\n",
    "y = metric_values\n",
    "plt.xlabel(\"epoch\")\n",
    "plt.plot(x, y)\n",
    "plt.show()"
   ]
  },
  {
   "cell_type": "markdown",
   "metadata": {},
   "source": [
    "### Evaluation"
   ]
  },
  {
   "cell_type": "code",
   "execution_count": 44,
   "metadata": {},
   "outputs": [],
   "source": [
    "model.load_state_dict(torch.load(os.path.join(root_dir, \"coronal_full_unpretrained.pth\"), weights_only=True))\n",
    "model.eval()\n",
    "y_true = []\n",
    "y_pred = []\n",
    "example_axial = []\n",
    "example_coronal = []\n",
    "example_sagittal = []\n",
    "example_preds = []\n",
    "example_labels = []\n",
    "\n",
    "with torch.no_grad():\n",
    "    for test_data in test_loader:\n",
    "        test_images, test_labels = (\n",
    "            test_data['images'],\n",
    "            test_data['label'][:, 0].type(torch.LongTensor).to(device),\n",
    "        )\n",
    "        test_axial, test_coronal, test_sagittal = test_images\n",
    "        pred = model(test_axial.to(device)).argmax(dim=1)\n",
    "        for i in range(len(pred)):\n",
    "            y_true.append(test_labels[i].item())\n",
    "            y_pred.append(pred[i].item())\n",
    "\n",
    "        if len(example_axial) < 10:\n",
    "            example_axial.append(test_axial)\n",
    "            example_coronal.append(test_coronal)\n",
    "            example_sagittal.append(test_sagittal)\n",
    "            example_preds.append(pred)\n",
    "            example_labels.append(test_labels)"
   ]
  },
  {
   "cell_type": "code",
   "execution_count": 45,
   "metadata": {
    "scrolled": true
   },
   "outputs": [
    {
     "name": "stdout",
     "output_type": "stream",
     "text": [
      "              precision    recall  f1-score   support\n",
      "\n",
      "           0     0.0455    0.0145    0.0220        69\n",
      "           1     0.2459    0.2206    0.2326        68\n",
      "           2     0.1889    0.2464    0.2138        69\n",
      "           3     0.2500    0.0769    0.1176        65\n",
      "           4     0.3333    0.0308    0.0563        65\n",
      "           5     0.3571    0.8333    0.5000        66\n",
      "           6     0.0000    0.0000    0.0000        28\n",
      "           7     0.0000    0.0000    0.0000        21\n",
      "           8     0.5172    0.7143    0.6000        21\n",
      "           9     0.1768    0.5072    0.2622        69\n",
      "          10     0.0370    0.0145    0.0208        69\n",
      "\n",
      "    accuracy                         0.2393       610\n",
      "   macro avg     0.1956    0.2417    0.1841       610\n",
      "weighted avg     0.1967    0.2393    0.1779       610\n",
      "\n"
     ]
    }
   ],
   "source": [
    "report = classification_report(y_true, y_pred, target_names=info['label'], digits=4, output_dict=True)\n",
    "print(classification_report(y_true, y_pred, target_names=info['label'], digits=4))"
   ]
  },
  {
   "cell_type": "code",
   "execution_count": 295,
   "metadata": {},
   "outputs": [],
   "source": [
    "df = pd.DataFrame(report).transpose()\n",
    "df.to_csv(f'coronal_full_unpretrained_seed{seed}.csv')"
   ]
  },
  {
   "cell_type": "code",
   "execution_count": 46,
   "metadata": {},
   "outputs": [
    {
     "name": "stdout",
     "output_type": "stream",
     "text": [
      "VRAM currently used: 193.38 MB\n",
      "Max VRAM used during training: 251.94 MB\n"
     ]
    }
   ],
   "source": [
    "if device.type == \"cuda\":\n",
    "    torch.cuda.synchronize()\n",
    "    vram_used = torch.cuda.memory_allocated() / 1024**2\n",
    "    vram_max_used = torch.cuda.max_memory_allocated() / 1024**2\n",
    "\n",
    "    print(f\"VRAM currently used: {vram_used:.2f} MB\")\n",
    "    print(f\"Max VRAM used during training: {vram_max_used:.2f} MB\")\n"
   ]
  },
  {
   "cell_type": "markdown",
   "metadata": {},
   "source": [
    "## Training cycle for the sagittal part"
   ]
  },
  {
   "cell_type": "markdown",
   "metadata": {},
   "source": [
    "## Pretrained"
   ]
  },
  {
   "cell_type": "code",
   "execution_count": 78,
   "metadata": {},
   "outputs": [],
   "source": [
    "device = torch.device(\"cuda\" if torch.cuda.is_available() else \"cpu\")\n",
    "\n",
    "model = models.resnet18(pretrained=True).to(device)\n",
    "model.conv1 = nn.Conv2d(64, 64, kernel_size=7, stride=2, padding=3, bias=False)\n",
    "model.fc = nn.Linear(model.fc.in_features, n_classes)\n",
    "model = model.to(device)\n",
    "\n",
    "loss_function = torch.nn.CrossEntropyLoss()\n",
    "optimizer = torch.optim.Adam(model.parameters(), 0.00005)\n",
    "max_epochs = 40\n",
    "val_interval = 1\n",
    "auc_metric = ROCAUCMetric()"
   ]
  },
  {
   "cell_type": "code",
   "execution_count": 79,
   "metadata": {
    "scrolled": true
   },
   "outputs": [
    {
     "name": "stderr",
     "output_type": "stream",
     "text": [
      "Epochs:   0%|          | 0/40 [00:00<?, ?it/s]"
     ]
    },
    {
     "name": "stdout",
     "output_type": "stream",
     "text": [
      "----------\n",
      "epoch 1/40\n",
      "epoch 1 average loss: 1.9710\n"
     ]
    },
    {
     "name": "stderr",
     "output_type": "stream",
     "text": [
      "Epochs:   2%|▎         | 1/40 [00:16<10:55, 16.80s/it]"
     ]
    },
    {
     "name": "stdout",
     "output_type": "stream",
     "text": [
      "1\n",
      "current epoch: 1 current AUC: 0.9593 current accuracy: 0.5901 best AUC: 1.0000 at epoch: 16\n",
      "----------\n",
      "epoch 2/40\n",
      "epoch 2 average loss: 1.2531\n"
     ]
    },
    {
     "name": "stderr",
     "output_type": "stream",
     "text": [
      "Epochs:   5%|▌         | 2/40 [00:33<10:40, 16.85s/it]"
     ]
    },
    {
     "name": "stdout",
     "output_type": "stream",
     "text": [
      "1\n",
      "current epoch: 2 current AUC: 0.9762 current accuracy: 0.7702 best AUC: 1.0000 at epoch: 16\n",
      "----------\n",
      "epoch 3/40\n",
      "epoch 3 average loss: 1.0119\n"
     ]
    },
    {
     "name": "stderr",
     "output_type": "stream",
     "text": [
      "Epochs:   8%|▊         | 3/40 [00:50<10:25, 16.92s/it]"
     ]
    },
    {
     "name": "stdout",
     "output_type": "stream",
     "text": [
      "1\n",
      "current epoch: 3 current AUC: 0.9898 current accuracy: 0.8385 best AUC: 1.0000 at epoch: 16\n",
      "----------\n",
      "epoch 4/40\n",
      "epoch 4 average loss: 0.9193\n"
     ]
    },
    {
     "name": "stderr",
     "output_type": "stream",
     "text": [
      "Epochs:  10%|█         | 4/40 [01:07<10:09, 16.93s/it]"
     ]
    },
    {
     "name": "stdout",
     "output_type": "stream",
     "text": [
      "1\n",
      "current epoch: 4 current AUC: 0.9628 current accuracy: 0.8199 best AUC: 1.0000 at epoch: 16\n",
      "----------\n",
      "epoch 5/40\n",
      "epoch 5 average loss: 0.8107\n"
     ]
    },
    {
     "name": "stderr",
     "output_type": "stream",
     "text": [
      "Epochs:  12%|█▎        | 5/40 [01:24<09:52, 16.92s/it]"
     ]
    },
    {
     "name": "stdout",
     "output_type": "stream",
     "text": [
      "1\n",
      "current epoch: 5 current AUC: 0.9885 current accuracy: 0.8323 best AUC: 1.0000 at epoch: 16\n",
      "----------\n",
      "epoch 6/40\n",
      "epoch 6 average loss: 0.7133\n"
     ]
    },
    {
     "name": "stderr",
     "output_type": "stream",
     "text": [
      "Epochs:  15%|█▌        | 6/40 [01:41<09:35, 16.94s/it]"
     ]
    },
    {
     "name": "stdout",
     "output_type": "stream",
     "text": [
      "1\n",
      "current epoch: 6 current AUC: 0.9775 current accuracy: 0.7640 best AUC: 1.0000 at epoch: 16\n",
      "----------\n",
      "epoch 7/40\n",
      "epoch 7 average loss: 0.6812\n"
     ]
    },
    {
     "name": "stderr",
     "output_type": "stream",
     "text": [
      "Epochs:  18%|█▊        | 7/40 [01:58<09:18, 16.92s/it]"
     ]
    },
    {
     "name": "stdout",
     "output_type": "stream",
     "text": [
      "1\n",
      "current epoch: 7 current AUC: 0.9932 current accuracy: 0.8634 best AUC: 1.0000 at epoch: 16\n",
      "----------\n",
      "epoch 8/40\n",
      "epoch 8 average loss: 0.6155\n"
     ]
    },
    {
     "name": "stderr",
     "output_type": "stream",
     "text": [
      "Epochs:  20%|██        | 8/40 [02:15<09:01, 16.91s/it]"
     ]
    },
    {
     "name": "stdout",
     "output_type": "stream",
     "text": [
      "1\n",
      "current epoch: 8 current AUC: 0.9830 current accuracy: 0.8137 best AUC: 1.0000 at epoch: 16\n",
      "----------\n",
      "epoch 9/40\n",
      "epoch 9 average loss: 0.5949\n"
     ]
    },
    {
     "name": "stderr",
     "output_type": "stream",
     "text": [
      "Epochs:  22%|██▎       | 9/40 [02:32<08:44, 16.92s/it]"
     ]
    },
    {
     "name": "stdout",
     "output_type": "stream",
     "text": [
      "1\n",
      "current epoch: 9 current AUC: 0.9861 current accuracy: 0.8199 best AUC: 1.0000 at epoch: 16\n",
      "----------\n",
      "epoch 10/40\n",
      "epoch 10 average loss: 0.5228\n"
     ]
    },
    {
     "name": "stderr",
     "output_type": "stream",
     "text": [
      "Epochs:  25%|██▌       | 10/40 [02:49<08:29, 16.98s/it]"
     ]
    },
    {
     "name": "stdout",
     "output_type": "stream",
     "text": [
      "1\n",
      "current epoch: 10 current AUC: 0.9888 current accuracy: 0.8509 best AUC: 1.0000 at epoch: 16\n",
      "----------\n",
      "epoch 11/40\n",
      "epoch 11 average loss: 0.4427\n"
     ]
    },
    {
     "name": "stderr",
     "output_type": "stream",
     "text": [
      "Epochs:  28%|██▊       | 11/40 [03:06<08:12, 16.99s/it]"
     ]
    },
    {
     "name": "stdout",
     "output_type": "stream",
     "text": [
      "1\n",
      "current epoch: 11 current AUC: 0.9938 current accuracy: 0.9006 best AUC: 1.0000 at epoch: 16\n",
      "----------\n",
      "epoch 12/40\n",
      "epoch 12 average loss: 0.4528\n"
     ]
    },
    {
     "name": "stderr",
     "output_type": "stream",
     "text": [
      "Epochs:  30%|███       | 12/40 [03:23<07:54, 16.96s/it]"
     ]
    },
    {
     "name": "stdout",
     "output_type": "stream",
     "text": [
      "1\n",
      "current epoch: 12 current AUC: 0.9926 current accuracy: 0.8696 best AUC: 1.0000 at epoch: 16\n",
      "----------\n",
      "epoch 13/40\n",
      "epoch 13 average loss: 0.4085\n"
     ]
    },
    {
     "name": "stderr",
     "output_type": "stream",
     "text": [
      "Epochs:  32%|███▎      | 13/40 [03:40<07:39, 17.00s/it]"
     ]
    },
    {
     "name": "stdout",
     "output_type": "stream",
     "text": [
      "1\n",
      "current epoch: 13 current AUC: 0.9924 current accuracy: 0.8882 best AUC: 1.0000 at epoch: 16\n",
      "----------\n",
      "epoch 14/40\n",
      "epoch 14 average loss: 0.3941\n"
     ]
    },
    {
     "name": "stderr",
     "output_type": "stream",
     "text": [
      "Epochs:  35%|███▌      | 14/40 [03:57<07:21, 16.98s/it]"
     ]
    },
    {
     "name": "stdout",
     "output_type": "stream",
     "text": [
      "1\n",
      "current epoch: 14 current AUC: 0.9796 current accuracy: 0.8447 best AUC: 1.0000 at epoch: 16\n",
      "----------\n",
      "epoch 15/40\n",
      "epoch 15 average loss: 0.4302\n"
     ]
    },
    {
     "name": "stderr",
     "output_type": "stream",
     "text": [
      "Epochs:  38%|███▊      | 15/40 [04:14<07:02, 16.92s/it]"
     ]
    },
    {
     "name": "stdout",
     "output_type": "stream",
     "text": [
      "1\n",
      "current epoch: 15 current AUC: 0.9930 current accuracy: 0.8696 best AUC: 1.0000 at epoch: 16\n",
      "----------\n",
      "epoch 16/40\n",
      "epoch 16 average loss: 0.3460\n"
     ]
    },
    {
     "name": "stderr",
     "output_type": "stream",
     "text": [
      "Epochs:  40%|████      | 16/40 [04:30<06:45, 16.88s/it]"
     ]
    },
    {
     "name": "stdout",
     "output_type": "stream",
     "text": [
      "1\n",
      "current epoch: 16 current AUC: 0.9883 current accuracy: 0.8571 best AUC: 1.0000 at epoch: 16\n",
      "----------\n",
      "epoch 17/40\n",
      "epoch 17 average loss: 0.3660\n"
     ]
    },
    {
     "name": "stderr",
     "output_type": "stream",
     "text": [
      "Epochs:  42%|████▎     | 17/40 [04:47<06:28, 16.90s/it]"
     ]
    },
    {
     "name": "stdout",
     "output_type": "stream",
     "text": [
      "1\n",
      "current epoch: 17 current AUC: 0.9880 current accuracy: 0.8758 best AUC: 1.0000 at epoch: 16\n",
      "----------\n",
      "epoch 18/40\n",
      "epoch 18 average loss: 0.3300\n"
     ]
    },
    {
     "name": "stderr",
     "output_type": "stream",
     "text": [
      "Epochs:  45%|████▌     | 18/40 [05:04<06:10, 16.86s/it]"
     ]
    },
    {
     "name": "stdout",
     "output_type": "stream",
     "text": [
      "1\n",
      "current epoch: 18 current AUC: 0.9893 current accuracy: 0.8758 best AUC: 1.0000 at epoch: 16\n",
      "----------\n",
      "epoch 19/40\n",
      "epoch 19 average loss: 0.2730\n"
     ]
    },
    {
     "name": "stderr",
     "output_type": "stream",
     "text": [
      "Epochs:  48%|████▊     | 19/40 [05:21<05:55, 16.95s/it]"
     ]
    },
    {
     "name": "stdout",
     "output_type": "stream",
     "text": [
      "1\n",
      "current epoch: 19 current AUC: 0.9918 current accuracy: 0.8820 best AUC: 1.0000 at epoch: 16\n",
      "----------\n",
      "epoch 20/40\n",
      "epoch 20 average loss: 0.3209\n"
     ]
    },
    {
     "name": "stderr",
     "output_type": "stream",
     "text": [
      "Epochs:  50%|█████     | 20/40 [05:38<05:39, 16.96s/it]"
     ]
    },
    {
     "name": "stdout",
     "output_type": "stream",
     "text": [
      "1\n",
      "current epoch: 20 current AUC: 0.9831 current accuracy: 0.8261 best AUC: 1.0000 at epoch: 16\n",
      "----------\n",
      "epoch 21/40\n",
      "epoch 21 average loss: 0.2814\n"
     ]
    },
    {
     "name": "stderr",
     "output_type": "stream",
     "text": [
      "Epochs:  52%|█████▎    | 21/40 [05:55<05:22, 16.98s/it]"
     ]
    },
    {
     "name": "stdout",
     "output_type": "stream",
     "text": [
      "1\n",
      "current epoch: 21 current AUC: 0.9931 current accuracy: 0.8882 best AUC: 1.0000 at epoch: 16\n",
      "----------\n",
      "epoch 22/40\n",
      "epoch 22 average loss: 0.2551\n"
     ]
    },
    {
     "name": "stderr",
     "output_type": "stream",
     "text": [
      "Epochs:  55%|█████▌    | 22/40 [06:12<05:05, 16.96s/it]"
     ]
    },
    {
     "name": "stdout",
     "output_type": "stream",
     "text": [
      "1\n",
      "current epoch: 22 current AUC: 0.9915 current accuracy: 0.8634 best AUC: 1.0000 at epoch: 16\n",
      "----------\n",
      "epoch 23/40\n",
      "epoch 23 average loss: 0.2976\n"
     ]
    },
    {
     "name": "stderr",
     "output_type": "stream",
     "text": [
      "Epochs:  57%|█████▊    | 23/40 [06:29<04:48, 16.95s/it]"
     ]
    },
    {
     "name": "stdout",
     "output_type": "stream",
     "text": [
      "1\n",
      "current epoch: 23 current AUC: 0.9935 current accuracy: 0.8820 best AUC: 1.0000 at epoch: 16\n",
      "----------\n",
      "epoch 24/40\n",
      "epoch 24 average loss: 0.2456\n"
     ]
    },
    {
     "name": "stderr",
     "output_type": "stream",
     "text": [
      "Epochs:  60%|██████    | 24/40 [06:46<04:31, 16.98s/it]"
     ]
    },
    {
     "name": "stdout",
     "output_type": "stream",
     "text": [
      "1\n",
      "current epoch: 24 current AUC: 0.9975 current accuracy: 0.9255 best AUC: 1.0000 at epoch: 16\n",
      "----------\n",
      "epoch 25/40\n",
      "epoch 25 average loss: 0.2569\n"
     ]
    },
    {
     "name": "stderr",
     "output_type": "stream",
     "text": [
      "Epochs:  62%|██████▎   | 25/40 [07:03<04:13, 16.93s/it]"
     ]
    },
    {
     "name": "stdout",
     "output_type": "stream",
     "text": [
      "1\n",
      "current epoch: 25 current AUC: 0.9966 current accuracy: 0.9441 best AUC: 1.0000 at epoch: 16\n",
      "----------\n",
      "epoch 26/40\n",
      "epoch 26 average loss: 0.2466\n"
     ]
    },
    {
     "name": "stderr",
     "output_type": "stream",
     "text": [
      "Epochs:  65%|██████▌   | 26/40 [07:20<03:57, 16.97s/it]"
     ]
    },
    {
     "name": "stdout",
     "output_type": "stream",
     "text": [
      "1\n",
      "current epoch: 26 current AUC: 0.9849 current accuracy: 0.8571 best AUC: 1.0000 at epoch: 16\n",
      "----------\n",
      "epoch 27/40\n",
      "epoch 27 average loss: 0.2238\n"
     ]
    },
    {
     "name": "stderr",
     "output_type": "stream",
     "text": [
      "Epochs:  68%|██████▊   | 27/40 [07:37<03:39, 16.91s/it]"
     ]
    },
    {
     "name": "stdout",
     "output_type": "stream",
     "text": [
      "1\n",
      "current epoch: 27 current AUC: 0.9886 current accuracy: 0.8758 best AUC: 1.0000 at epoch: 16\n",
      "----------\n",
      "epoch 28/40\n",
      "epoch 28 average loss: 0.2133\n"
     ]
    },
    {
     "name": "stderr",
     "output_type": "stream",
     "text": [
      "Epochs:  70%|███████   | 28/40 [07:54<03:22, 16.91s/it]"
     ]
    },
    {
     "name": "stdout",
     "output_type": "stream",
     "text": [
      "1\n",
      "current epoch: 28 current AUC: 0.9856 current accuracy: 0.8571 best AUC: 1.0000 at epoch: 16\n",
      "----------\n",
      "epoch 29/40\n",
      "epoch 29 average loss: 0.1958\n"
     ]
    },
    {
     "name": "stderr",
     "output_type": "stream",
     "text": [
      "Epochs:  72%|███████▎  | 29/40 [08:11<03:05, 16.90s/it]"
     ]
    },
    {
     "name": "stdout",
     "output_type": "stream",
     "text": [
      "1\n",
      "current epoch: 29 current AUC: 0.9807 current accuracy: 0.7888 best AUC: 1.0000 at epoch: 16\n",
      "----------\n",
      "epoch 30/40\n",
      "epoch 30 average loss: 0.2014\n"
     ]
    },
    {
     "name": "stderr",
     "output_type": "stream",
     "text": [
      "Epochs:  75%|███████▌  | 30/40 [08:27<02:49, 16.91s/it]"
     ]
    },
    {
     "name": "stdout",
     "output_type": "stream",
     "text": [
      "1\n",
      "current epoch: 30 current AUC: 0.9972 current accuracy: 0.9503 best AUC: 1.0000 at epoch: 16\n",
      "----------\n",
      "epoch 31/40\n",
      "epoch 31 average loss: 0.2413\n"
     ]
    },
    {
     "name": "stderr",
     "output_type": "stream",
     "text": [
      "Epochs:  78%|███████▊  | 31/40 [08:44<02:31, 16.87s/it]"
     ]
    },
    {
     "name": "stdout",
     "output_type": "stream",
     "text": [
      "1\n",
      "current epoch: 31 current AUC: 0.9916 current accuracy: 0.8758 best AUC: 1.0000 at epoch: 16\n",
      "----------\n",
      "epoch 32/40\n",
      "epoch 32 average loss: 0.2164\n"
     ]
    },
    {
     "name": "stderr",
     "output_type": "stream",
     "text": [
      "Epochs:  80%|████████  | 32/40 [09:01<02:14, 16.83s/it]"
     ]
    },
    {
     "name": "stdout",
     "output_type": "stream",
     "text": [
      "1\n",
      "current epoch: 32 current AUC: 0.9848 current accuracy: 0.8509 best AUC: 1.0000 at epoch: 16\n",
      "----------\n",
      "epoch 33/40\n",
      "epoch 33 average loss: 0.1983\n"
     ]
    },
    {
     "name": "stderr",
     "output_type": "stream",
     "text": [
      "Epochs:  82%|████████▎ | 33/40 [09:18<01:58, 16.90s/it]"
     ]
    },
    {
     "name": "stdout",
     "output_type": "stream",
     "text": [
      "1\n",
      "current epoch: 33 current AUC: 0.9867 current accuracy: 0.8696 best AUC: 1.0000 at epoch: 16\n",
      "----------\n",
      "epoch 34/40\n",
      "epoch 34 average loss: 0.1817\n"
     ]
    },
    {
     "name": "stderr",
     "output_type": "stream",
     "text": [
      "Epochs:  85%|████████▌ | 34/40 [09:35<01:41, 16.88s/it]"
     ]
    },
    {
     "name": "stdout",
     "output_type": "stream",
     "text": [
      "1\n",
      "current epoch: 34 current AUC: 0.9982 current accuracy: 0.9006 best AUC: 1.0000 at epoch: 16\n",
      "----------\n",
      "epoch 35/40\n",
      "epoch 35 average loss: 0.1592\n"
     ]
    },
    {
     "name": "stderr",
     "output_type": "stream",
     "text": [
      "Epochs:  88%|████████▊ | 35/40 [09:52<01:24, 16.84s/it]"
     ]
    },
    {
     "name": "stdout",
     "output_type": "stream",
     "text": [
      "1\n",
      "current epoch: 35 current AUC: 0.9844 current accuracy: 0.8261 best AUC: 1.0000 at epoch: 16\n",
      "----------\n",
      "epoch 36/40\n",
      "epoch 36 average loss: 0.1512\n"
     ]
    },
    {
     "name": "stderr",
     "output_type": "stream",
     "text": [
      "Epochs:  90%|█████████ | 36/40 [10:09<01:07, 16.87s/it]"
     ]
    },
    {
     "name": "stdout",
     "output_type": "stream",
     "text": [
      "1\n",
      "current epoch: 36 current AUC: 0.9916 current accuracy: 0.8820 best AUC: 1.0000 at epoch: 16\n",
      "----------\n",
      "epoch 37/40\n",
      "epoch 37 average loss: 0.1603\n"
     ]
    },
    {
     "name": "stderr",
     "output_type": "stream",
     "text": [
      "Epochs:  92%|█████████▎| 37/40 [10:26<00:50, 16.89s/it]"
     ]
    },
    {
     "name": "stdout",
     "output_type": "stream",
     "text": [
      "1\n",
      "current epoch: 37 current AUC: 0.9925 current accuracy: 0.9130 best AUC: 1.0000 at epoch: 16\n",
      "----------\n",
      "epoch 38/40\n",
      "epoch 38 average loss: 0.1652\n"
     ]
    },
    {
     "name": "stderr",
     "output_type": "stream",
     "text": [
      "Epochs:  95%|█████████▌| 38/40 [10:42<00:33, 16.86s/it]"
     ]
    },
    {
     "name": "stdout",
     "output_type": "stream",
     "text": [
      "1\n",
      "current epoch: 38 current AUC: 0.9865 current accuracy: 0.8509 best AUC: 1.0000 at epoch: 16\n",
      "----------\n",
      "epoch 39/40\n",
      "epoch 39 average loss: 0.1540\n"
     ]
    },
    {
     "name": "stderr",
     "output_type": "stream",
     "text": [
      "Epochs:  98%|█████████▊| 39/40 [10:59<00:16, 16.87s/it]"
     ]
    },
    {
     "name": "stdout",
     "output_type": "stream",
     "text": [
      "1\n",
      "current epoch: 39 current AUC: 0.9936 current accuracy: 0.9006 best AUC: 1.0000 at epoch: 16\n",
      "----------\n",
      "epoch 40/40\n",
      "epoch 40 average loss: 0.1650\n"
     ]
    },
    {
     "name": "stderr",
     "output_type": "stream",
     "text": [
      "Epochs: 100%|██████████| 40/40 [11:16<00:00, 16.91s/it]"
     ]
    },
    {
     "name": "stdout",
     "output_type": "stream",
     "text": [
      "1\n",
      "current epoch: 40 current AUC: 0.9923 current accuracy: 0.9068 best AUC: 1.0000 at epoch: 16\n",
      "train completed, best_metric: 1.0000 at epoch: 16\n"
     ]
    },
    {
     "name": "stderr",
     "output_type": "stream",
     "text": [
      "\n"
     ]
    }
   ],
   "source": [
    "# best_metric = -1\n",
    "# best_metric_epoch = -1\n",
    "# epoch_loss_values = []\n",
    "# metric_values = []\n",
    "# writer = SummaryWriter()\n",
    "\n",
    "# start_time = time.time()\n",
    "# process = psutil.Process()\n",
    "# start_cpu = process.cpu_times()\n",
    "# start_mem = process.memory_info().rss / 1024**2  # В MB\n",
    "\n",
    "if device.type == \"cuda\":\n",
    "    torch.cuda.synchronize()\n",
    "    torch.cuda.reset_peak_memory_stats()\n",
    "\n",
    "for epoch in tqdm(range(max_epochs), desc=\"Epochs\"):\n",
    "    print(\"-\" * 10)\n",
    "    print(f\"epoch {epoch + 1}/{max_epochs}\")\n",
    "    model.train()\n",
    "    epoch_loss = 0\n",
    "    step = 0\n",
    "    \n",
    "    for batch_data in train_loader:\n",
    "        step += 1\n",
    "        images, labels = batch_data['images'], batch_data['label'][:, 0].type(torch.LongTensor).to(device)\n",
    "        axial, coronal, sagittal = images\n",
    "        optimizer.zero_grad()\n",
    "        outputs = model(sagittal.to(device))\n",
    "        loss = loss_function(outputs, labels)\n",
    "        loss.backward()\n",
    "        optimizer.step()\n",
    "        epoch_loss += loss.item()\n",
    "        epoch_len = len(train_dataset) // train_loader.batch_size\n",
    "        writer.add_scalar(\"train_loss\", loss.item(), epoch_len * epoch + step)\n",
    "        \n",
    "    epoch_loss /= step\n",
    "    epoch_loss_values.append(epoch_loss)\n",
    "    print(f\"epoch {epoch + 1} average loss: {epoch_loss:.4f}\")\n",
    "\n",
    "    if (epoch + 1) % val_interval == 0:\n",
    "        model.eval()\n",
    "        with torch.no_grad():\n",
    "            y_pred = torch.tensor([], dtype=torch.float32, device=device)\n",
    "            y = torch.tensor([], dtype=torch.long, device=device)\n",
    "            for val_data in val_loader:\n",
    "                val_images, val_labels = (\n",
    "                    val_data['images'],\n",
    "                    val_data['label'][:, 0].type(torch.LongTensor).to(device),\n",
    "                )\n",
    "                val_axial, val_coronal, val_sagittal = val_images\n",
    "                y_pred = torch.cat([y_pred, model(val_sagittal.to(device))], dim=0)\n",
    "                y = torch.cat([y, val_labels], dim=0)\n",
    "            y_onehot = [y_trans(i) for i in decollate_batch(y, detach=False)]\n",
    "            print('1')\n",
    "            y_pred_act = [y_pred_trans(i) for i in decollate_batch(y_pred)]\n",
    "            auc_metric(y_pred_act, y_onehot)\n",
    "            result = auc_metric.aggregate()\n",
    "            auc_metric.reset()\n",
    "            del y_pred_act, y_onehot\n",
    "            metric_values.append(result)\n",
    "            acc_value = torch.eq(y_pred.argmax(dim=1), y)\n",
    "            acc_metric = acc_value.sum().item() / len(acc_value)\n",
    "            if result > best_metric:\n",
    "                best_metric = result\n",
    "                best_metric_epoch = epoch + 1\n",
    "                torch.save(model.state_dict(), os.path.join(root_dir, \"sagittal_full_pretrained.pth\"))\n",
    "                print(\"saved new best metric model\")\n",
    "            print(\n",
    "                f\"current epoch: {epoch + 1} current AUC: {result:.4f}\"\n",
    "                f\" current accuracy: {acc_metric:.4f}\"\n",
    "                f\" best AUC: {best_metric:.4f}\"\n",
    "                f\" at epoch: {best_metric_epoch}\"\n",
    "            )\n",
    "            writer.add_scalar(\"val_accuracy\", acc_metric, epoch + 1)\n",
    "\n",
    "print(f\"train completed, best_metric: {best_metric:.4f} \" f\"at epoch: {best_metric_epoch}\")\n",
    "writer.close()"
   ]
  },
  {
   "cell_type": "code",
   "execution_count": 49,
   "metadata": {},
   "outputs": [
    {
     "name": "stdout",
     "output_type": "stream",
     "text": [
      "Training time: 679.73 seconds\n",
      "CPU time used: 8122.72 seconds\n",
      "Memory used: 286.50 MB\n",
      "GPU Memory Used: 191.75 MB\n",
      "Max GPU Memory Used: 236.64 MB\n"
     ]
    }
   ],
   "source": [
    "end_time = time.time()\n",
    "end_cpu = process.cpu_times()\n",
    "end_mem = process.memory_info().rss / 1024**2\n",
    "\n",
    "cpu_time = (end_cpu.user + end_cpu.system) - (start_cpu.user + start_cpu.system)\n",
    "memory_used = end_mem - start_mem\n",
    "\n",
    "print(f\"Training time: {end_time - start_time:.2f} seconds\")\n",
    "print(f\"CPU time used: {cpu_time:.2f} seconds\")\n",
    "print(f\"Memory used: {memory_used:.2f} MB\")\n",
    "\n",
    "if device.type == \"cuda\":\n",
    "    torch.cuda.synchronize()\n",
    "    print(f\"GPU Memory Used: {torch.cuda.memory_allocated() / 1024**2:.2f} MB\")\n",
    "    print(f\"Max GPU Memory Used: {torch.cuda.max_memory_allocated() / 1024**2:.2f} MB\")\n"
   ]
  },
  {
   "cell_type": "code",
   "execution_count": 50,
   "metadata": {},
   "outputs": [
    {
     "data": {
      "image/png": "[encoded data removed]",
      "text/plain": [
       "<Figure size 1200x600 with 2 Axes>"
      ]
     },
     "metadata": {},
     "output_type": "display_data"
    }
   ],
   "source": [
    "plt.figure(\"train\", (12, 6))\n",
    "plt.subplot(1, 2, 1)\n",
    "plt.title(\"Epoch Average Loss\")\n",
    "x = [i + 1 for i in range(len(epoch_loss_values))]\n",
    "y = epoch_loss_values\n",
    "plt.xlabel(\"epoch\")\n",
    "plt.plot(x, y)\n",
    "plt.subplot(1, 2, 2)\n",
    "plt.title(\"Val AUC\")\n",
    "x = [val_interval * (i + 1) for i in range(len(metric_values))]\n",
    "y = metric_values\n",
    "plt.xlabel(\"epoch\")\n",
    "plt.plot(x, y)\n",
    "plt.show()"
   ]
  },
  {
   "cell_type": "markdown",
   "metadata": {},
   "source": [
    "### Evaluation"
   ]
  },
  {
   "cell_type": "code",
   "execution_count": 51,
   "metadata": {},
   "outputs": [],
   "source": [
    "model.load_state_dict(torch.load(os.path.join(root_dir, \"sagittal_full_pretrained.pth\"), weights_only=True))\n",
    "model.eval()\n",
    "y_true = []\n",
    "y_pred = []\n",
    "example_axial = []\n",
    "example_coronal = []\n",
    "example_sagittal = []\n",
    "example_preds = []\n",
    "example_labels = []\n",
    "\n",
    "with torch.no_grad():\n",
    "    for test_data in test_loader:\n",
    "        test_images, test_labels = (\n",
    "            test_data['images'],\n",
    "            test_data['label'][:, 0].type(torch.LongTensor).to(device),\n",
    "        )\n",
    "        test_axial, test_coronal, test_sagittal = test_images\n",
    "        pred = model(test_sagittal.to(device)).argmax(dim=1)\n",
    "        for i in range(len(pred)):\n",
    "            y_true.append(test_labels[i].item())\n",
    "            y_pred.append(pred[i].item())\n",
    "\n",
    "        if len(example_axial) < 10:\n",
    "            example_axial.append(test_axial)\n",
    "            example_coronal.append(test_coronal)\n",
    "            example_sagittal.append(test_sagittal)\n",
    "            example_preds.append(pred)\n",
    "            example_labels.append(test_labels)"
   ]
  },
  {
   "cell_type": "code",
   "execution_count": 52,
   "metadata": {
    "scrolled": true
   },
   "outputs": [
    {
     "name": "stdout",
     "output_type": "stream",
     "text": [
      "              precision    recall  f1-score   support\n",
      "\n",
      "           0     0.9857    1.0000    0.9928        69\n",
      "           1     0.6207    0.5294    0.5714        68\n",
      "           2     0.5733    0.6232    0.5972        69\n",
      "           3     0.5063    0.6154    0.5556        65\n",
      "           4     0.5593    0.5077    0.5323        65\n",
      "           5     0.8986    0.9394    0.9185        66\n",
      "           6     1.0000    0.8929    0.9434        28\n",
      "           7     1.0000    0.9048    0.9500        21\n",
      "           8     0.9048    0.9048    0.9048        21\n",
      "           9     0.9242    0.8841    0.9037        69\n",
      "          10     0.9275    0.9275    0.9275        69\n",
      "\n",
      "    accuracy                         0.7721       610\n",
      "   macro avg     0.8091    0.7935    0.7997       610\n",
      "weighted avg     0.7773    0.7721    0.7731       610\n",
      "\n"
     ]
    }
   ],
   "source": [
    "report = classification_report(y_true, y_pred, target_names=info['label'], digits=4, output_dict=True)\n",
    "print(classification_report(y_true, y_pred, target_names=info['label'], digits=4))"
   ]
  },
  {
   "cell_type": "code",
   "execution_count": 301,
   "metadata": {},
   "outputs": [],
   "source": [
    "df = pd.DataFrame(report).transpose()\n",
    "df.to_csv(f'sagittal_full_pretrained_seed{seed}.csv')"
   ]
  },
  {
   "cell_type": "code",
   "execution_count": 53,
   "metadata": {},
   "outputs": [
    {
     "name": "stdout",
     "output_type": "stream",
     "text": [
      "VRAM currently used: 191.74 MB\n",
      "Max VRAM used during training: 236.69 MB\n"
     ]
    }
   ],
   "source": [
    "if device.type == \"cuda\":\n",
    "    torch.cuda.synchronize()\n",
    "    vram_used = torch.cuda.memory_allocated() / 1024**2\n",
    "    vram_max_used = torch.cuda.max_memory_allocated() / 1024**2\n",
    "\n",
    "    print(f\"VRAM currently used: {vram_used:.2f} MB\")\n",
    "    print(f\"Max VRAM used during training: {vram_max_used:.2f} MB\")\n"
   ]
  },
  {
   "cell_type": "markdown",
   "metadata": {},
   "source": [
    "## Unpretrained"
   ]
  },
  {
   "cell_type": "code",
   "execution_count": 54,
   "metadata": {},
   "outputs": [],
   "source": [
    "device = torch.device(\"cuda\" if torch.cuda.is_available() else \"cpu\")\n",
    "model = nets.resnet18(pretrained=False, spatial_dims=2, n_input_channels=64, num_classes=n_classes).to(device)\n",
    "loss_function = torch.nn.CrossEntropyLoss()\n",
    "optimizer = torch.optim.Adam(model.parameters(), 0.00005)\n",
    "max_epochs = 40\n",
    "val_interval = 1\n",
    "auc_metric = ROCAUCMetric()"
   ]
  },
  {
   "cell_type": "code",
   "execution_count": 55,
   "metadata": {
    "scrolled": true
   },
   "outputs": [
    {
     "name": "stderr",
     "output_type": "stream",
     "text": [
      "Epochs:   0%|          | 0/40 [00:00<?, ?it/s]"
     ]
    },
    {
     "name": "stdout",
     "output_type": "stream",
     "text": [
      "----------\n",
      "epoch 1/40\n",
      "epoch 1 average loss: 1.8226\n",
      "1\n"
     ]
    },
    {
     "name": "stderr",
     "output_type": "stream",
     "text": [
      "Epochs:   2%|▎         | 1/40 [00:17<11:19, 17.43s/it]"
     ]
    },
    {
     "name": "stdout",
     "output_type": "stream",
     "text": [
      "saved new best metric model\n",
      "current epoch: 1 current AUC: 0.9776 current accuracy: 0.6957 best AUC: 0.9776 at epoch: 1\n",
      "----------\n",
      "epoch 2/40\n",
      "epoch 2 average loss: 1.2632\n",
      "1\n"
     ]
    },
    {
     "name": "stderr",
     "output_type": "stream",
     "text": [
      "Epochs:   5%|▌         | 2/40 [00:34<11:05, 17.51s/it]"
     ]
    },
    {
     "name": "stdout",
     "output_type": "stream",
     "text": [
      "saved new best metric model\n",
      "current epoch: 2 current AUC: 0.9864 current accuracy: 0.7143 best AUC: 0.9864 at epoch: 2\n",
      "----------\n",
      "epoch 3/40\n",
      "epoch 3 average loss: 1.0032\n",
      "1\n"
     ]
    },
    {
     "name": "stderr",
     "output_type": "stream",
     "text": [
      "Epochs:   8%|▊         | 3/40 [00:52<10:48, 17.53s/it]"
     ]
    },
    {
     "name": "stdout",
     "output_type": "stream",
     "text": [
      "saved new best metric model\n",
      "current epoch: 3 current AUC: 0.9900 current accuracy: 0.7950 best AUC: 0.9900 at epoch: 3\n",
      "----------\n",
      "epoch 4/40\n",
      "epoch 4 average loss: 0.9177\n"
     ]
    },
    {
     "name": "stderr",
     "output_type": "stream",
     "text": [
      "Epochs:  10%|█         | 4/40 [01:09<10:21, 17.25s/it]"
     ]
    },
    {
     "name": "stdout",
     "output_type": "stream",
     "text": [
      "1\n",
      "current epoch: 4 current AUC: 0.9844 current accuracy: 0.7764 best AUC: 0.9900 at epoch: 3\n",
      "----------\n",
      "epoch 5/40\n",
      "epoch 5 average loss: 0.7968\n"
     ]
    },
    {
     "name": "stderr",
     "output_type": "stream",
     "text": [
      "Epochs:  12%|█▎        | 5/40 [01:26<09:59, 17.12s/it]"
     ]
    },
    {
     "name": "stdout",
     "output_type": "stream",
     "text": [
      "1\n",
      "current epoch: 5 current AUC: 0.9845 current accuracy: 0.7950 best AUC: 0.9900 at epoch: 3\n",
      "----------\n",
      "epoch 6/40\n",
      "epoch 6 average loss: 0.7519\n"
     ]
    },
    {
     "name": "stderr",
     "output_type": "stream",
     "text": [
      "Epochs:  15%|█▌        | 6/40 [01:43<09:38, 17.01s/it]"
     ]
    },
    {
     "name": "stdout",
     "output_type": "stream",
     "text": [
      "1\n",
      "current epoch: 6 current AUC: 0.9835 current accuracy: 0.8199 best AUC: 0.9900 at epoch: 3\n",
      "----------\n",
      "epoch 7/40\n",
      "epoch 7 average loss: 0.6692\n"
     ]
    },
    {
     "name": "stderr",
     "output_type": "stream",
     "text": [
      "Epochs:  18%|█▊        | 7/40 [02:00<09:22, 17.05s/it]"
     ]
    },
    {
     "name": "stdout",
     "output_type": "stream",
     "text": [
      "1\n",
      "current epoch: 7 current AUC: 0.9868 current accuracy: 0.8012 best AUC: 0.9900 at epoch: 3\n",
      "----------\n",
      "epoch 8/40\n",
      "epoch 8 average loss: 0.6004\n"
     ]
    },
    {
     "name": "stderr",
     "output_type": "stream",
     "text": [
      "Epochs:  20%|██        | 8/40 [02:17<09:04, 17.02s/it]"
     ]
    },
    {
     "name": "stdout",
     "output_type": "stream",
     "text": [
      "1\n",
      "current epoch: 8 current AUC: 0.9854 current accuracy: 0.8261 best AUC: 0.9900 at epoch: 3\n",
      "----------\n",
      "epoch 9/40\n",
      "epoch 9 average loss: 0.5470\n"
     ]
    },
    {
     "name": "stderr",
     "output_type": "stream",
     "text": [
      "Epochs:  22%|██▎       | 9/40 [02:34<08:47, 17.01s/it]"
     ]
    },
    {
     "name": "stdout",
     "output_type": "stream",
     "text": [
      "1\n",
      "current epoch: 9 current AUC: 0.9860 current accuracy: 0.8323 best AUC: 0.9900 at epoch: 3\n",
      "----------\n",
      "epoch 10/40\n",
      "epoch 10 average loss: 0.5717\n"
     ]
    },
    {
     "name": "stderr",
     "output_type": "stream",
     "text": [
      "Epochs:  25%|██▌       | 10/40 [02:50<08:28, 16.93s/it]"
     ]
    },
    {
     "name": "stdout",
     "output_type": "stream",
     "text": [
      "1\n",
      "current epoch: 10 current AUC: 0.9803 current accuracy: 0.8075 best AUC: 0.9900 at epoch: 3\n",
      "----------\n",
      "epoch 11/40\n",
      "epoch 11 average loss: 0.5196\n"
     ]
    },
    {
     "name": "stderr",
     "output_type": "stream",
     "text": [
      "Epochs:  28%|██▊       | 11/40 [03:07<08:10, 16.93s/it]"
     ]
    },
    {
     "name": "stdout",
     "output_type": "stream",
     "text": [
      "1\n",
      "current epoch: 11 current AUC: 0.9868 current accuracy: 0.7950 best AUC: 0.9900 at epoch: 3\n",
      "----------\n",
      "epoch 12/40\n",
      "epoch 12 average loss: 0.4941\n",
      "1\n"
     ]
    },
    {
     "name": "stderr",
     "output_type": "stream",
     "text": [
      "Epochs:  30%|███       | 12/40 [03:25<07:59, 17.12s/it]"
     ]
    },
    {
     "name": "stdout",
     "output_type": "stream",
     "text": [
      "saved new best metric model\n",
      "current epoch: 12 current AUC: 0.9917 current accuracy: 0.8199 best AUC: 0.9917 at epoch: 12\n",
      "----------\n",
      "epoch 13/40\n",
      "epoch 13 average loss: 0.4587\n"
     ]
    },
    {
     "name": "stderr",
     "output_type": "stream",
     "text": [
      "Epochs:  32%|███▎      | 13/40 [03:42<07:41, 17.08s/it]"
     ]
    },
    {
     "name": "stdout",
     "output_type": "stream",
     "text": [
      "1\n",
      "current epoch: 13 current AUC: 0.9869 current accuracy: 0.8137 best AUC: 0.9917 at epoch: 12\n",
      "----------\n",
      "epoch 14/40\n",
      "epoch 14 average loss: 0.4223\n"
     ]
    },
    {
     "name": "stderr",
     "output_type": "stream",
     "text": [
      "Epochs:  35%|███▌      | 14/40 [03:59<07:23, 17.05s/it]"
     ]
    },
    {
     "name": "stdout",
     "output_type": "stream",
     "text": [
      "1\n",
      "current epoch: 14 current AUC: 0.9879 current accuracy: 0.7640 best AUC: 0.9917 at epoch: 12\n",
      "----------\n",
      "epoch 15/40\n",
      "epoch 15 average loss: 0.4129\n",
      "1\n"
     ]
    },
    {
     "name": "stderr",
     "output_type": "stream",
     "text": [
      "Epochs:  38%|███▊      | 15/40 [04:16<07:09, 17.16s/it]"
     ]
    },
    {
     "name": "stdout",
     "output_type": "stream",
     "text": [
      "saved new best metric model\n",
      "current epoch: 15 current AUC: 0.9944 current accuracy: 0.9006 best AUC: 0.9944 at epoch: 15\n",
      "----------\n",
      "epoch 16/40\n",
      "epoch 16 average loss: 0.3779\n"
     ]
    },
    {
     "name": "stderr",
     "output_type": "stream",
     "text": [
      "Epochs:  40%|████      | 16/40 [04:33<06:50, 17.10s/it]"
     ]
    },
    {
     "name": "stdout",
     "output_type": "stream",
     "text": [
      "1\n",
      "current epoch: 16 current AUC: 0.9871 current accuracy: 0.8447 best AUC: 0.9944 at epoch: 15\n",
      "----------\n",
      "epoch 17/40\n",
      "epoch 17 average loss: 0.3451\n"
     ]
    },
    {
     "name": "stderr",
     "output_type": "stream",
     "text": [
      "Epochs:  42%|████▎     | 17/40 [04:50<06:33, 17.11s/it]"
     ]
    },
    {
     "name": "stdout",
     "output_type": "stream",
     "text": [
      "1\n",
      "current epoch: 17 current AUC: 0.9850 current accuracy: 0.8199 best AUC: 0.9944 at epoch: 15\n",
      "----------\n",
      "epoch 18/40\n",
      "epoch 18 average loss: 0.2831\n"
     ]
    },
    {
     "name": "stderr",
     "output_type": "stream",
     "text": [
      "Epochs:  45%|████▌     | 18/40 [05:08<06:16, 17.12s/it]"
     ]
    },
    {
     "name": "stdout",
     "output_type": "stream",
     "text": [
      "1\n",
      "current epoch: 18 current AUC: 0.9920 current accuracy: 0.8758 best AUC: 0.9944 at epoch: 15\n",
      "----------\n",
      "epoch 19/40\n",
      "epoch 19 average loss: 0.3265\n"
     ]
    },
    {
     "name": "stderr",
     "output_type": "stream",
     "text": [
      "Epochs:  48%|████▊     | 19/40 [05:25<06:00, 17.16s/it]"
     ]
    },
    {
     "name": "stdout",
     "output_type": "stream",
     "text": [
      "1\n",
      "current epoch: 19 current AUC: 0.9912 current accuracy: 0.8509 best AUC: 0.9944 at epoch: 15\n",
      "----------\n",
      "epoch 20/40\n",
      "epoch 20 average loss: 0.2668\n",
      "1\n"
     ]
    },
    {
     "name": "stderr",
     "output_type": "stream",
     "text": [
      "Epochs:  50%|█████     | 20/40 [05:42<05:45, 17.26s/it]"
     ]
    },
    {
     "name": "stdout",
     "output_type": "stream",
     "text": [
      "saved new best metric model\n",
      "current epoch: 20 current AUC: 0.9948 current accuracy: 0.8758 best AUC: 0.9948 at epoch: 20\n",
      "----------\n",
      "epoch 21/40\n",
      "epoch 21 average loss: 0.2971\n"
     ]
    },
    {
     "name": "stderr",
     "output_type": "stream",
     "text": [
      "Epochs:  52%|█████▎    | 21/40 [05:59<05:27, 17.22s/it]"
     ]
    },
    {
     "name": "stdout",
     "output_type": "stream",
     "text": [
      "1\n",
      "current epoch: 21 current AUC: 0.9811 current accuracy: 0.7826 best AUC: 0.9948 at epoch: 20\n",
      "----------\n",
      "epoch 22/40\n",
      "epoch 22 average loss: 0.2473\n"
     ]
    },
    {
     "name": "stderr",
     "output_type": "stream",
     "text": [
      "Epochs:  55%|█████▌    | 22/40 [06:16<05:09, 17.18s/it]"
     ]
    },
    {
     "name": "stdout",
     "output_type": "stream",
     "text": [
      "1\n",
      "current epoch: 22 current AUC: 0.9885 current accuracy: 0.8385 best AUC: 0.9948 at epoch: 20\n",
      "----------\n",
      "epoch 23/40\n",
      "epoch 23 average loss: 0.2831\n",
      "1\n"
     ]
    },
    {
     "name": "stderr",
     "output_type": "stream",
     "text": [
      "Epochs:  57%|█████▊    | 23/40 [06:34<04:53, 17.26s/it]"
     ]
    },
    {
     "name": "stdout",
     "output_type": "stream",
     "text": [
      "saved new best metric model\n",
      "current epoch: 23 current AUC: 0.9973 current accuracy: 0.9006 best AUC: 0.9973 at epoch: 23\n",
      "----------\n",
      "epoch 24/40\n",
      "epoch 24 average loss: 0.2804\n"
     ]
    },
    {
     "name": "stderr",
     "output_type": "stream",
     "text": [
      "Epochs:  60%|██████    | 24/40 [06:51<04:34, 17.14s/it]"
     ]
    },
    {
     "name": "stdout",
     "output_type": "stream",
     "text": [
      "1\n",
      "current epoch: 24 current AUC: 0.9941 current accuracy: 0.8820 best AUC: 0.9973 at epoch: 23\n",
      "----------\n",
      "epoch 25/40\n",
      "epoch 25 average loss: 0.2707\n"
     ]
    },
    {
     "name": "stderr",
     "output_type": "stream",
     "text": [
      "Epochs:  62%|██████▎   | 25/40 [07:08<04:17, 17.14s/it]"
     ]
    },
    {
     "name": "stdout",
     "output_type": "stream",
     "text": [
      "1\n",
      "current epoch: 25 current AUC: 0.9940 current accuracy: 0.9006 best AUC: 0.9973 at epoch: 23\n",
      "----------\n",
      "epoch 26/40\n",
      "epoch 26 average loss: 0.2093\n"
     ]
    },
    {
     "name": "stderr",
     "output_type": "stream",
     "text": [
      "Epochs:  65%|██████▌   | 26/40 [07:25<03:59, 17.09s/it]"
     ]
    },
    {
     "name": "stdout",
     "output_type": "stream",
     "text": [
      "1\n",
      "current epoch: 26 current AUC: 0.9852 current accuracy: 0.8634 best AUC: 0.9973 at epoch: 23\n",
      "----------\n",
      "epoch 27/40\n",
      "epoch 27 average loss: 0.2086\n",
      "1\n"
     ]
    },
    {
     "name": "stderr",
     "output_type": "stream",
     "text": [
      "Epochs:  68%|██████▊   | 27/40 [07:42<03:43, 17.20s/it]"
     ]
    },
    {
     "name": "stdout",
     "output_type": "stream",
     "text": [
      "saved new best metric model\n",
      "current epoch: 27 current AUC: 0.9976 current accuracy: 0.9068 best AUC: 0.9976 at epoch: 27\n",
      "----------\n",
      "epoch 28/40\n",
      "epoch 28 average loss: 0.2121\n"
     ]
    },
    {
     "name": "stderr",
     "output_type": "stream",
     "text": [
      "Epochs:  70%|███████   | 28/40 [07:59<03:25, 17.13s/it]"
     ]
    },
    {
     "name": "stdout",
     "output_type": "stream",
     "text": [
      "1\n",
      "current epoch: 28 current AUC: 0.9886 current accuracy: 0.8385 best AUC: 0.9976 at epoch: 27\n",
      "----------\n",
      "epoch 29/40\n",
      "epoch 29 average loss: 0.1896\n"
     ]
    },
    {
     "name": "stderr",
     "output_type": "stream",
     "text": [
      "Epochs:  72%|███████▎  | 29/40 [08:16<03:07, 17.07s/it]"
     ]
    },
    {
     "name": "stdout",
     "output_type": "stream",
     "text": [
      "1\n",
      "current epoch: 29 current AUC: 0.9926 current accuracy: 0.8758 best AUC: 0.9976 at epoch: 27\n",
      "----------\n",
      "epoch 30/40\n",
      "epoch 30 average loss: 0.2132\n"
     ]
    },
    {
     "name": "stderr",
     "output_type": "stream",
     "text": [
      "Epochs:  75%|███████▌  | 30/40 [08:33<02:50, 17.08s/it]"
     ]
    },
    {
     "name": "stdout",
     "output_type": "stream",
     "text": [
      "1\n",
      "current epoch: 30 current AUC: 0.9824 current accuracy: 0.8261 best AUC: 0.9976 at epoch: 27\n",
      "----------\n",
      "epoch 31/40\n",
      "epoch 31 average loss: 0.2260\n"
     ]
    },
    {
     "name": "stderr",
     "output_type": "stream",
     "text": [
      "Epochs:  78%|███████▊  | 31/40 [08:50<02:32, 16.98s/it]"
     ]
    },
    {
     "name": "stdout",
     "output_type": "stream",
     "text": [
      "1\n",
      "current epoch: 31 current AUC: 0.9813 current accuracy: 0.8447 best AUC: 0.9976 at epoch: 27\n",
      "----------\n",
      "epoch 32/40\n",
      "epoch 32 average loss: 0.1440\n"
     ]
    },
    {
     "name": "stderr",
     "output_type": "stream",
     "text": [
      "Epochs:  80%|████████  | 32/40 [09:07<02:15, 16.95s/it]"
     ]
    },
    {
     "name": "stdout",
     "output_type": "stream",
     "text": [
      "1\n",
      "current epoch: 32 current AUC: 0.9873 current accuracy: 0.8137 best AUC: 0.9976 at epoch: 27\n",
      "----------\n",
      "epoch 33/40\n",
      "epoch 33 average loss: 0.1695\n"
     ]
    },
    {
     "name": "stderr",
     "output_type": "stream",
     "text": [
      "Epochs:  82%|████████▎ | 33/40 [09:24<01:58, 16.96s/it]"
     ]
    },
    {
     "name": "stdout",
     "output_type": "stream",
     "text": [
      "1\n",
      "current epoch: 33 current AUC: 0.9837 current accuracy: 0.8385 best AUC: 0.9976 at epoch: 27\n",
      "----------\n",
      "epoch 34/40\n",
      "epoch 34 average loss: 0.1829\n"
     ]
    },
    {
     "name": "stderr",
     "output_type": "stream",
     "text": [
      "Epochs:  85%|████████▌ | 34/40 [09:41<01:41, 16.96s/it]"
     ]
    },
    {
     "name": "stdout",
     "output_type": "stream",
     "text": [
      "1\n",
      "current epoch: 34 current AUC: 0.9848 current accuracy: 0.8323 best AUC: 0.9976 at epoch: 27\n",
      "----------\n",
      "epoch 35/40\n",
      "epoch 35 average loss: 0.1647\n"
     ]
    },
    {
     "name": "stderr",
     "output_type": "stream",
     "text": [
      "Epochs:  88%|████████▊ | 35/40 [09:58<01:24, 16.93s/it]"
     ]
    },
    {
     "name": "stdout",
     "output_type": "stream",
     "text": [
      "1\n",
      "current epoch: 35 current AUC: 0.9878 current accuracy: 0.8447 best AUC: 0.9976 at epoch: 27\n",
      "----------\n",
      "epoch 36/40\n",
      "epoch 36 average loss: 0.1583\n"
     ]
    },
    {
     "name": "stderr",
     "output_type": "stream",
     "text": [
      "Epochs:  90%|█████████ | 36/40 [10:15<01:07, 16.91s/it]"
     ]
    },
    {
     "name": "stdout",
     "output_type": "stream",
     "text": [
      "1\n",
      "current epoch: 36 current AUC: 0.9835 current accuracy: 0.8447 best AUC: 0.9976 at epoch: 27\n",
      "----------\n",
      "epoch 37/40\n",
      "epoch 37 average loss: 0.1635\n"
     ]
    },
    {
     "name": "stderr",
     "output_type": "stream",
     "text": [
      "Epochs:  92%|█████████▎| 37/40 [10:31<00:50, 16.86s/it]"
     ]
    },
    {
     "name": "stdout",
     "output_type": "stream",
     "text": [
      "1\n",
      "current epoch: 37 current AUC: 0.9963 current accuracy: 0.9130 best AUC: 0.9976 at epoch: 27\n",
      "----------\n",
      "epoch 38/40\n",
      "epoch 38 average loss: 0.1728\n"
     ]
    },
    {
     "name": "stderr",
     "output_type": "stream",
     "text": [
      "Epochs:  95%|█████████▌| 38/40 [10:48<00:33, 16.90s/it]"
     ]
    },
    {
     "name": "stdout",
     "output_type": "stream",
     "text": [
      "1\n",
      "current epoch: 38 current AUC: 0.9902 current accuracy: 0.8634 best AUC: 0.9976 at epoch: 27\n",
      "----------\n",
      "epoch 39/40\n",
      "epoch 39 average loss: 0.1453\n"
     ]
    },
    {
     "name": "stderr",
     "output_type": "stream",
     "text": [
      "Epochs:  98%|█████████▊| 39/40 [11:05<00:16, 16.96s/it]"
     ]
    },
    {
     "name": "stdout",
     "output_type": "stream",
     "text": [
      "1\n",
      "current epoch: 39 current AUC: 0.9860 current accuracy: 0.8447 best AUC: 0.9976 at epoch: 27\n",
      "----------\n",
      "epoch 40/40\n",
      "epoch 40 average loss: 0.1626\n",
      "1\n"
     ]
    },
    {
     "name": "stderr",
     "output_type": "stream",
     "text": [
      "Epochs: 100%|██████████| 40/40 [11:23<00:00, 17.08s/it]"
     ]
    },
    {
     "name": "stdout",
     "output_type": "stream",
     "text": [
      "saved new best metric model\n",
      "current epoch: 40 current AUC: 0.9981 current accuracy: 0.9193 best AUC: 0.9981 at epoch: 40\n",
      "train completed, best_metric: 0.9981 at epoch: 40\n"
     ]
    },
    {
     "name": "stderr",
     "output_type": "stream",
     "text": [
      "\n"
     ]
    }
   ],
   "source": [
    "best_metric = -1\n",
    "best_metric_epoch = -1\n",
    "epoch_loss_values = []\n",
    "metric_values = []\n",
    "writer = SummaryWriter()\n",
    "\n",
    "start_time = time.time()\n",
    "process = psutil.Process()\n",
    "start_cpu = process.cpu_times()\n",
    "start_mem = process.memory_info().rss / 1024**2  # В MB\n",
    "\n",
    "if device.type == \"cuda\":\n",
    "    torch.cuda.synchronize()\n",
    "    torch.cuda.reset_peak_memory_stats()\n",
    "\n",
    "for epoch in tqdm(range(max_epochs), desc=\"Epochs\"):\n",
    "    print(\"-\" * 10)\n",
    "    print(f\"epoch {epoch + 1}/{max_epochs}\")\n",
    "    model.train()\n",
    "    epoch_loss = 0\n",
    "    step = 0\n",
    "    \n",
    "    for batch_data in train_loader:\n",
    "        step += 1\n",
    "        images, labels = batch_data['images'], batch_data['label'][:, 0].type(torch.LongTensor).to(device)\n",
    "        axial, coronal, sagittal = images\n",
    "        optimizer.zero_grad()\n",
    "        outputs = model(sagittal.to(device))\n",
    "        loss = loss_function(outputs, labels)\n",
    "        loss.backward()\n",
    "        optimizer.step()\n",
    "        epoch_loss += loss.item()\n",
    "        epoch_len = len(train_dataset) // train_loader.batch_size\n",
    "        writer.add_scalar(\"train_loss\", loss.item(), epoch_len * epoch + step)\n",
    "        \n",
    "    epoch_loss /= step\n",
    "    epoch_loss_values.append(epoch_loss)\n",
    "    print(f\"epoch {epoch + 1} average loss: {epoch_loss:.4f}\")\n",
    "\n",
    "    if (epoch + 1) % val_interval == 0:\n",
    "        model.eval()\n",
    "        with torch.no_grad():\n",
    "            y_pred = torch.tensor([], dtype=torch.float32, device=device)\n",
    "            y = torch.tensor([], dtype=torch.long, device=device)\n",
    "            for val_data in val_loader:\n",
    "                val_images, val_labels = (\n",
    "                    val_data['images'],\n",
    "                    val_data['label'][:, 0].type(torch.LongTensor).to(device),\n",
    "                )\n",
    "                val_axial, val_coronal, val_sagittal = val_images\n",
    "                y_pred = torch.cat([y_pred, model(val_sagittal.to(device))], dim=0)\n",
    "                y = torch.cat([y, val_labels], dim=0)\n",
    "            y_onehot = [y_trans(i) for i in decollate_batch(y, detach=False)]\n",
    "            print('1')\n",
    "            y_pred_act = [y_pred_trans(i) for i in decollate_batch(y_pred)]\n",
    "            auc_metric(y_pred_act, y_onehot)\n",
    "            result = auc_metric.aggregate()\n",
    "            auc_metric.reset()\n",
    "            del y_pred_act, y_onehot\n",
    "            metric_values.append(result)\n",
    "            acc_value = torch.eq(y_pred.argmax(dim=1), y)\n",
    "            acc_metric = acc_value.sum().item() / len(acc_value)\n",
    "            if result > best_metric:\n",
    "                best_metric = result\n",
    "                best_metric_epoch = epoch + 1\n",
    "                torch.save(model.state_dict(), os.path.join(root_dir, \"sagittal_full_unpretrained.pth\"))\n",
    "                print(\"saved new best metric model\")\n",
    "            print(\n",
    "                f\"current epoch: {epoch + 1} current AUC: {result:.4f}\"\n",
    "                f\" current accuracy: {acc_metric:.4f}\"\n",
    "                f\" best AUC: {best_metric:.4f}\"\n",
    "                f\" at epoch: {best_metric_epoch}\"\n",
    "            )\n",
    "            writer.add_scalar(\"val_accuracy\", acc_metric, epoch + 1)\n",
    "\n",
    "print(f\"train completed, best_metric: {best_metric:.4f} \" f\"at epoch: {best_metric_epoch}\")\n",
    "writer.close()"
   ]
  },
  {
   "cell_type": "code",
   "execution_count": 56,
   "metadata": {},
   "outputs": [
    {
     "name": "stdout",
     "output_type": "stream",
     "text": [
      "Training time: 683.38 seconds\n",
      "CPU time used: 8162.74 seconds\n",
      "Memory used: 277.59 MB\n",
      "GPU Memory Used: 194.89 MB\n",
      "Max GPU Memory Used: 255.69 MB\n"
     ]
    }
   ],
   "source": [
    "end_time = time.time()\n",
    "end_cpu = process.cpu_times()\n",
    "end_mem = process.memory_info().rss / 1024**2\n",
    "\n",
    "cpu_time = (end_cpu.user + end_cpu.system) - (start_cpu.user + start_cpu.system)\n",
    "memory_used = end_mem - start_mem\n",
    "\n",
    "print(f\"Training time: {end_time - start_time:.2f} seconds\")\n",
    "print(f\"CPU time used: {cpu_time:.2f} seconds\")\n",
    "print(f\"Memory used: {memory_used:.2f} MB\")\n",
    "\n",
    "if device.type == \"cuda\":\n",
    "    torch.cuda.synchronize()\n",
    "    print(f\"GPU Memory Used: {torch.cuda.memory_allocated() / 1024**2:.2f} MB\")\n",
    "    print(f\"Max GPU Memory Used: {torch.cuda.max_memory_allocated() / 1024**2:.2f} MB\")"
   ]
  },
  {
   "cell_type": "code",
   "execution_count": 57,
   "metadata": {},
   "outputs": [
    {
     "data": {
      "image/png": "[encoded data removed]",
      "text/plain": [
       "<Figure size 1200x600 with 2 Axes>"
      ]
     },
     "metadata": {},
     "output_type": "display_data"
    }
   ],
   "source": [
    "plt.figure(\"train\", (12, 6))\n",
    "plt.subplot(1, 2, 1)\n",
    "plt.title(\"Epoch Average Loss\")\n",
    "x = [i + 1 for i in range(len(epoch_loss_values))]\n",
    "y = epoch_loss_values\n",
    "plt.xlabel(\"epoch\")\n",
    "plt.plot(x, y)\n",
    "plt.subplot(1, 2, 2)\n",
    "plt.title(\"Val AUC\")\n",
    "x = [val_interval * (i + 1) for i in range(len(metric_values))]\n",
    "y = metric_values\n",
    "plt.xlabel(\"epoch\")\n",
    "plt.plot(x, y)\n",
    "plt.show()"
   ]
  },
  {
   "cell_type": "markdown",
   "metadata": {},
   "source": [
    "### Evaluation"
   ]
  },
  {
   "cell_type": "code",
   "execution_count": 58,
   "metadata": {},
   "outputs": [],
   "source": [
    "model.load_state_dict(torch.load(os.path.join(root_dir, \"sagittal_full_unpretrained.pth\"), weights_only=True))\n",
    "model.eval()\n",
    "y_true = []\n",
    "y_pred = []\n",
    "example_axial = []\n",
    "example_coronal = []\n",
    "example_sagittal = []\n",
    "example_preds = []\n",
    "example_labels = []\n",
    "\n",
    "with torch.no_grad():\n",
    "    for test_data in test_loader:\n",
    "        test_images, test_labels = (\n",
    "            test_data['images'],\n",
    "            test_data['label'][:, 0].type(torch.LongTensor).to(device),\n",
    "        )\n",
    "        test_axial, test_coronal, test_sagittal = test_images\n",
    "        pred = model(test_axial.to(device)).argmax(dim=1)\n",
    "        for i in range(len(pred)):\n",
    "            y_true.append(test_labels[i].item())\n",
    "            y_pred.append(pred[i].item())\n",
    "\n",
    "        if len(example_axial) < 10:\n",
    "            example_axial.append(test_axial)\n",
    "            example_coronal.append(test_coronal)\n",
    "            example_sagittal.append(test_sagittal)\n",
    "            example_preds.append(pred)\n",
    "            example_labels.append(test_labels)"
   ]
  },
  {
   "cell_type": "code",
   "execution_count": 59,
   "metadata": {
    "scrolled": true
   },
   "outputs": [
    {
     "name": "stdout",
     "output_type": "stream",
     "text": [
      "              precision    recall  f1-score   support\n",
      "\n",
      "           0     0.6238    0.9130    0.7412        69\n",
      "           1     0.4861    0.5147    0.5000        68\n",
      "           2     0.4706    0.3478    0.4000        69\n",
      "           3     0.3667    0.3385    0.3520        65\n",
      "           4     0.3636    0.1846    0.2449        65\n",
      "           5     0.6173    0.7576    0.6803        66\n",
      "           6     0.3200    0.2857    0.3019        28\n",
      "           7     0.8889    0.3810    0.5333        21\n",
      "           8     0.7333    0.5238    0.6111        21\n",
      "           9     0.5625    0.7826    0.6545        69\n",
      "          10     0.4179    0.4058    0.4118        69\n",
      "\n",
      "    accuracy                         0.5164       610\n",
      "   macro avg     0.5319    0.4941    0.4937       610\n",
      "weighted avg     0.5040    0.5164    0.4959       610\n",
      "\n"
     ]
    }
   ],
   "source": [
    "report = classification_report(y_true, y_pred, target_names=info['label'], digits=4, output_dict=True)\n",
    "print(classification_report(y_true, y_pred, target_names=info['label'], digits=4))"
   ]
  },
  {
   "cell_type": "code",
   "execution_count": 307,
   "metadata": {},
   "outputs": [],
   "source": [
    "df = pd.DataFrame(report).transpose()\n",
    "df.to_csv(f'sagittal_full_unpretrained_seed{seed}.csv')"
   ]
  },
  {
   "cell_type": "code",
   "execution_count": 60,
   "metadata": {},
   "outputs": [
    {
     "name": "stdout",
     "output_type": "stream",
     "text": [
      "VRAM currently used: 194.88 MB\n",
      "Max VRAM used during training: 255.69 MB\n"
     ]
    }
   ],
   "source": [
    "if device.type == \"cuda\":\n",
    "    torch.cuda.synchronize()\n",
    "    vram_used = torch.cuda.memory_allocated() / 1024**2\n",
    "    vram_max_used = torch.cuda.max_memory_allocated() / 1024**2\n",
    "\n",
    "    print(f\"VRAM currently used: {vram_used:.2f} MB\")\n",
    "    print(f\"Max VRAM used during training: {vram_max_used:.2f} MB\")\n"
   ]
  },
  {
   "cell_type": "markdown",
   "metadata": {},
   "source": [
    "# Using 2d models as a backbone"
   ]
  },
  {
   "cell_type": "code",
   "execution_count": 61,
   "metadata": {},
   "outputs": [
    {
     "data": {
      "text/plain": [
       "<All keys matched successfully>"
      ]
     },
     "execution_count": 61,
     "metadata": {},
     "output_type": "execute_result"
    }
   ],
   "source": [
    "# Load the pretrained models for each slice direction\n",
    "model_axial = nets.resnet18(pretrained=False, spatial_dims=2, n_input_channels=64, num_classes=n_classes).to(device)\n",
    "model_coronal = nets.resnet18(pretrained=False, spatial_dims=2, n_input_channels=64, num_classes=n_classes).to(device)\n",
    "model_sagittal = nets.resnet18(pretrained=False, spatial_dims=2, n_input_channels=64, num_classes=n_classes).to(device)\n",
    "\n",
    "# Load the trained weights for each model\n",
    "model_axial.load_state_dict(torch.load(os.path.join(root_dir, \"axial_full_unpretrained.pth\"), weights_only=True))\n",
    "model_coronal.load_state_dict(torch.load(os.path.join(root_dir, \"coronal_full_unpretrained.pth\"), weights_only=True))\n",
    "model_sagittal.load_state_dict(torch.load(os.path.join(root_dir, \"sagittal_full_unpretrained.pth\"), weights_only=True))"
   ]
  },
  {
   "cell_type": "code",
   "execution_count": 62,
   "metadata": {},
   "outputs": [],
   "source": [
    "class CombinedResNetModel(nn.Module):\n",
    "    def __init__(self, model_axial, model_coronal, model_sagittal, num_classes=n_classes):\n",
    "        super(CombinedResNetModel, self).__init__()\n",
    "        \n",
    "        # Load pretrained 2D models (without their final classification layers)\n",
    "        self.model_axial = nn.Sequential(*list(model_axial.children())[:-1])\n",
    "        self.model_coronal = nn.Sequential(*list(model_coronal.children())[:-1])\n",
    "        self.model_sagittal = nn.Sequential(*list(model_sagittal.children())[:-1])\n",
    "\n",
    "        # Assuming each model outputs a 512-dimension feature vector (from ResNet18)\n",
    "        combined_feature_size = 512 * 3  # Concatenating features from all three directions\n",
    "        \n",
    "        # Final fully connected layer to classify the combined features\n",
    "        self.fc = nn.Linear(combined_feature_size, num_classes)\n",
    "\n",
    "    def forward(self, x):\n",
    "\n",
    "        axial = x[:, 0].to(torch.float32)\n",
    "        coronal = x[:, 0].permute(0, 2, 3, 1).to(torch.float32)\n",
    "        sagittal = x[:, 0].permute(0, 3, 1, 2).to(torch.float32)\n",
    "\n",
    "        axial_features = self.model_axial(axial)  # Output: [batch_size, 512, 1, 1]\n",
    "        coronal_features = self.model_coronal(coronal)\n",
    "        sagittal_features = self.model_sagittal(sagittal)\n",
    "\n",
    "        axial_features = axial_features.view(axial_features.size(0), -1)  # [batch_size, 512]\n",
    "        coronal_features = coronal_features.view(coronal_features.size(0), -1)\n",
    "        sagittal_features = sagittal_features.view(sagittal_features.size(0), -1)\n",
    "\n",
    "        # Concatenate the features from all three slices\n",
    "        combined_features = torch.cat([axial_features, coronal_features, sagittal_features], dim=1)\n",
    "\n",
    "        # Final classification\n",
    "        out = self.fc(combined_features)\n",
    "        return out"
   ]
  },
  {
   "cell_type": "markdown",
   "metadata": {},
   "source": [
    "## Evaluation on a 3d dataset"
   ]
  },
  {
   "cell_type": "code",
   "execution_count": 21,
   "metadata": {},
   "outputs": [],
   "source": [
    "device = torch.device(\"cuda\" if torch.cuda.is_available() else \"cpu\")"
   ]
  },
  {
   "cell_type": "code",
   "execution_count": 64,
   "metadata": {},
   "outputs": [],
   "source": [
    "train_loader_3d = DataLoader(train_dataset, batch_size=32, shuffle=True)\n",
    "val_loader_3d = DataLoader(val_dataset, batch_size=32, shuffle=True)\n",
    "test_loader_3d = DataLoader(test_dataset, batch_size=32, shuffle=False)"
   ]
  },
  {
   "cell_type": "code",
   "execution_count": 65,
   "metadata": {},
   "outputs": [],
   "source": [
    "combined_model = CombinedResNetModel(model_axial, model_coronal, model_sagittal, num_classes=n_classes).to(device)\n",
    "\n",
    "loss_function = torch.nn.CrossEntropyLoss()\n",
    "optimizer = torch.optim.Adam(combined_model.fc.parameters(), lr=0.00005)"
   ]
  },
  {
   "cell_type": "code",
   "execution_count": 66,
   "metadata": {},
   "outputs": [
    {
     "name": "stdout",
     "output_type": "stream",
     "text": [
      "Epoch 1, Loss: 2.216112836714714\n",
      "Epoch 2, Loss: 1.730905125218053\n",
      "Epoch 3, Loss: 1.3667570852464246\n",
      "Epoch 4, Loss: 1.0863025323037179\n",
      "Epoch 5, Loss: 0.878275946263344\n",
      "Epoch 6, Loss: 0.7226675018187492\n",
      "Epoch 7, Loss: 0.6219286620616913\n",
      "Epoch 8, Loss: 0.5166788005059765\n",
      "Epoch 9, Loss: 0.44633019355035597\n",
      "Epoch 10, Loss: 0.40707952360953054\n",
      "Epoch 11, Loss: 0.3628287959483362\n",
      "Epoch 12, Loss: 0.3195643987386457\n",
      "Epoch 13, Loss: 0.2994483411312103\n",
      "Epoch 14, Loss: 0.26817760928984613\n",
      "Epoch 15, Loss: 0.23897707318106004\n",
      "Epoch 16, Loss: 0.24199412763118744\n",
      "Epoch 17, Loss: 0.2088637299114658\n",
      "Epoch 18, Loss: 0.19227267753693364\n",
      "Epoch 19, Loss: 0.1820040378839739\n",
      "Epoch 20, Loss: 0.17333398543057904\n",
      "Epoch 21, Loss: 0.16261031743018858\n",
      "Epoch 22, Loss: 0.15429093496453378\n",
      "Epoch 23, Loss: 0.14306058302041022\n",
      "Epoch 24, Loss: 0.14009309872504203\n",
      "Epoch 25, Loss: 0.12320786690519701\n",
      "Epoch 26, Loss: 0.12418246461499122\n",
      "Epoch 27, Loss: 0.12107958836901572\n",
      "Epoch 28, Loss: 0.11307240109289846\n",
      "Epoch 29, Loss: 0.11034905778304223\n",
      "Epoch 30, Loss: 0.10891305547087424\n"
     ]
    }
   ],
   "source": [
    "start_time = time.time()\n",
    "process = psutil.Process()\n",
    "start_cpu = process.cpu_times()\n",
    "start_mem = process.memory_info().rss / 1024**2  # В MB\n",
    "\n",
    "if device.type == \"cuda\":\n",
    "    torch.cuda.synchronize()\n",
    "    torch.cuda.reset_peak_memory_stats()\n",
    "\n",
    "for epoch in range(30):\n",
    "    combined_model.train()\n",
    "    running_loss = 0.0\n",
    "    for data in train_loader_3d:\n",
    "        images, labels = data\n",
    "        images, labels = images.to(device), labels.type(torch.LongTensor).to(device)\n",
    "\n",
    "        optimizer.zero_grad()\n",
    "\n",
    "        outputs = combined_model(images)\n",
    "        loss = loss_function(outputs, labels[:, 0])\n",
    "\n",
    "        loss.backward()\n",
    "        optimizer.step()\n",
    "\n",
    "        running_loss += loss.item()\n",
    "\n",
    "    print(f\"Epoch {epoch+1}, Loss: {running_loss/len(train_loader_3d)}\")"
   ]
  },
  {
   "cell_type": "code",
   "execution_count": 67,
   "metadata": {},
   "outputs": [
    {
     "name": "stdout",
     "output_type": "stream",
     "text": [
      "Training time: 57.38 seconds\n",
      "CPU time used: 687.89 seconds\n",
      "Memory used: 67.11 MB\n",
      "GPU Memory Used: 398.54 MB\n",
      "Max GPU Memory Used: 1206.10 MB\n"
     ]
    }
   ],
   "source": [
    "end_time = time.time()\n",
    "end_cpu = process.cpu_times()\n",
    "end_mem = process.memory_info().rss / 1024**2\n",
    "\n",
    "cpu_time = (end_cpu.user + end_cpu.system) - (start_cpu.user + start_cpu.system)\n",
    "memory_used = end_mem - start_mem\n",
    "\n",
    "print(f\"Training time: {end_time - start_time:.2f} seconds\")\n",
    "print(f\"CPU time used: {cpu_time:.2f} seconds\")\n",
    "print(f\"Memory used: {memory_used:.2f} MB\")\n",
    "\n",
    "if device.type == \"cuda\":\n",
    "    torch.cuda.synchronize()\n",
    "    print(f\"GPU Memory Used: {torch.cuda.memory_allocated() / 1024**2:.2f} MB\")\n",
    "    print(f\"Max GPU Memory Used: {torch.cuda.max_memory_allocated() / 1024**2:.2f} MB\")\n"
   ]
  },
  {
   "cell_type": "code",
   "execution_count": 68,
   "metadata": {},
   "outputs": [
    {
     "name": "stdout",
     "output_type": "stream",
     "text": [
      "VRAM currently used: 398.54 MB\n",
      "Max VRAM used during training: 1206.10 MB\n"
     ]
    }
   ],
   "source": [
    "if device.type == \"cuda\":\n",
    "    torch.cuda.synchronize()\n",
    "    vram_used = torch.cuda.memory_allocated() / 1024**2\n",
    "    vram_max_used = torch.cuda.max_memory_allocated() / 1024**2\n",
    "\n",
    "    print(f\"VRAM currently used: {vram_used:.2f} MB\")\n",
    "    print(f\"Max VRAM used during training: {vram_max_used:.2f} MB\")\n"
   ]
  },
  {
   "cell_type": "code",
   "execution_count": 69,
   "metadata": {},
   "outputs": [
    {
     "name": "stdout",
     "output_type": "stream",
     "text": [
      "Validation AUC: 1.0000\n"
     ]
    }
   ],
   "source": [
    "combined_model.eval()\n",
    "with torch.no_grad():\n",
    "    y_pred = torch.tensor([], dtype=torch.float32, device=device)\n",
    "    y = torch.tensor([], dtype=torch.long, device=device)\n",
    "    for val_data in val_loader_3d:\n",
    "        val_images, val_labels = val_data\n",
    "\n",
    "        output = combined_model(val_images.to(device))\n",
    "        \n",
    "        y_pred = torch.cat([y_pred, output], dim=0)\n",
    "        y = torch.cat([y, val_labels.to(device)], dim=0)\n",
    "\n",
    "    # Evaluate AUC and accuracy\n",
    "    y_onehot = [y_trans(i) for i in decollate_batch(y, detach=False)]\n",
    "    y_pred_act = [y_pred_trans(i) for i in decollate_batch(y_pred)]\n",
    "    auc_metric(y_pred_act, y_onehot)\n",
    "    result = auc_metric.aggregate()\n",
    "    auc_metric.reset()\n",
    "\n",
    "    print(f\"Validation AUC: {result:.4f}\")"
   ]
  },
  {
   "cell_type": "code",
   "execution_count": 70,
   "metadata": {},
   "outputs": [
    {
     "name": "stdout",
     "output_type": "stream",
     "text": [
      "Test AUC: 0.9923\n"
     ]
    }
   ],
   "source": [
    "combined_model.eval()\n",
    "y_true = []\n",
    "y_predicted = []\n",
    "example_image = []\n",
    "example_preds = []\n",
    "example_labels = []\n",
    "\n",
    "with torch.no_grad():\n",
    "    y_pred = torch.tensor([], dtype=torch.float32, device=device)\n",
    "    y = torch.tensor([], dtype=torch.long, device=device)\n",
    "    for test_data in test_loader_3d:\n",
    "        test_images, test_labels = test_data\n",
    "\n",
    "        output = combined_model(test_images.to(device))\n",
    "        pred = output.argmax(dim=1)\n",
    "        \n",
    "        for i in range(len(pred)):\n",
    "            y_true.append(test_labels[i].item())\n",
    "            y_predicted.append(pred[i].item())\n",
    "\n",
    "        y_pred = torch.cat([y_pred, output], dim=0)\n",
    "        y = torch.cat([y, test_labels.to(device)], dim=0)\n",
    "\n",
    "    # Evaluate AUC and accuracy\n",
    "    y_onehot = [y_trans(i) for i in decollate_batch(y, detach=False)]\n",
    "    y_pred_act = [y_pred_trans(i) for i in decollate_batch(y_pred)]\n",
    "    auc_metric(y_pred_act, y_onehot)\n",
    "    result = auc_metric.aggregate()\n",
    "    auc_metric.reset()\n",
    "\n",
    "    print(f\"Test AUC: {result:.4f}\")"
   ]
  },
  {
   "cell_type": "code",
   "execution_count": 71,
   "metadata": {
    "scrolled": true
   },
   "outputs": [
    {
     "name": "stdout",
     "output_type": "stream",
     "text": [
      "              precision    recall  f1-score   support\n",
      "\n",
      "           0     1.0000    0.9710    0.9853        69\n",
      "           1     0.8730    0.8088    0.8397        68\n",
      "           2     0.7647    0.7536    0.7591        69\n",
      "           3     0.8636    0.8769    0.8702        65\n",
      "           4     0.8710    0.8308    0.8504        65\n",
      "           5     0.7342    0.8788    0.8000        66\n",
      "           6     1.0000    0.8929    0.9434        28\n",
      "           7     1.0000    1.0000    1.0000        21\n",
      "           8     1.0000    1.0000    1.0000        21\n",
      "           9     0.8923    0.8406    0.8657        69\n",
      "          10     0.9041    0.9565    0.9296        69\n",
      "\n",
      "    accuracy                         0.8754       610\n",
      "   macro avg     0.9003    0.8918    0.8949       610\n",
      "weighted avg     0.8792    0.8754    0.8761       610\n",
      "\n"
     ]
    }
   ],
   "source": [
    "report = classification_report(y_true, y_predicted, target_names=info['label'], digits=4, output_dict=True)\n",
    "report.update({\"AUC\": f\"{result:.4f}\"})\n",
    "print(classification_report(y_true, y_predicted, target_names=info['label'], digits=4))"
   ]
  },
  {
   "cell_type": "code",
   "execution_count": 317,
   "metadata": {},
   "outputs": [],
   "source": [
    "df = pd.DataFrame(report).transpose()\n",
    "df.to_csv(f'combined_unpretrained_full_seed{seed}.csv')"
   ]
  },
  {
   "cell_type": "code",
   "execution_count": 72,
   "metadata": {},
   "outputs": [
    {
     "name": "stdout",
     "output_type": "stream",
     "text": [
      "VRAM currently used: 399.16 MB\n",
      "Max VRAM used during training: 1206.10 MB\n"
     ]
    }
   ],
   "source": [
    "if device.type == \"cuda\":\n",
    "    torch.cuda.synchronize()\n",
    "    vram_used = torch.cuda.memory_allocated() / 1024**2\n",
    "    vram_max_used = torch.cuda.max_memory_allocated() / 1024**2\n",
    "\n",
    "    print(f\"VRAM currently used: {vram_used:.2f} MB\")\n",
    "    print(f\"Max VRAM used during training: {vram_max_used:.2f} MB\")\n"
   ]
  },
  {
   "cell_type": "markdown",
   "metadata": {},
   "source": [
    "### Pretrained"
   ]
  },
  {
   "cell_type": "code",
   "execution_count": 73,
   "metadata": {},
   "outputs": [],
   "source": [
    "train_loader_3d = DataLoader(train_dataset, batch_size=32, shuffle=True)\n",
    "val_loader_3d = DataLoader(val_dataset, batch_size=32, shuffle=True)\n",
    "test_loader_3d = DataLoader(test_dataset, batch_size=32, shuffle=False)"
   ]
  },
  {
   "cell_type": "code",
   "execution_count": 74,
   "metadata": {},
   "outputs": [
    {
     "name": "stderr",
     "output_type": "stream",
     "text": [
      "/opt/conda/lib/python3.10/site-packages/torchvision/models/_utils.py:208: UserWarning: The parameter 'pretrained' is deprecated since 0.13 and may be removed in the future, please use 'weights' instead.\n",
      "  warnings.warn(\n",
      "/opt/conda/lib/python3.10/site-packages/torchvision/models/_utils.py:223: UserWarning: Arguments other than a weight enum or `None` for 'weights' are deprecated since 0.13 and may be removed in the future. The current behavior is equivalent to passing `weights=ResNet18_Weights.IMAGENET1K_V1`. You can also use `weights=ResNet18_Weights.DEFAULT` to get the most up-to-date weights.\n",
      "  warnings.warn(msg)\n"
     ]
    },
    {
     "data": {
      "text/plain": [
       "<All keys matched successfully>"
      ]
     },
     "execution_count": 74,
     "metadata": {},
     "output_type": "execute_result"
    }
   ],
   "source": [
    "model = models.resnet18(pretrained=True).to(device)\n",
    "model.conv1 = nn.Conv2d(64, 64, kernel_size=7, stride=2, padding=3, bias=False)\n",
    "model.fc = nn.Linear(model.fc.in_features, n_classes)\n",
    "model_axial = model.to(device)\n",
    "model_coronal = model.to(device)\n",
    "model_sagittal = model.to(device)\n",
    "\n",
    "model_axial.load_state_dict(torch.load(os.path.join(root_dir, \"axial_full_pretrained.pth\"), weights_only=True))\n",
    "model_coronal.load_state_dict(torch.load(os.path.join(root_dir, \"coronal_full_pretrained.pth\"), weights_only=True))\n",
    "model_sagittal.load_state_dict(torch.load(os.path.join(root_dir, \"sagittal_full_pretrained.pth\"), weights_only=True))"
   ]
  },
  {
   "cell_type": "code",
   "execution_count": 75,
   "metadata": {},
   "outputs": [],
   "source": [
    "combined_model = CombinedResNetModel(model_axial, model_coronal, model_sagittal, num_classes=n_classes).to(device)\n",
    "\n",
    "loss_function = torch.nn.CrossEntropyLoss()\n",
    "optimizer = torch.optim.Adam(combined_model.fc.parameters(), lr=0.00005)"
   ]
  },
  {
   "cell_type": "code",
   "execution_count": 76,
   "metadata": {},
   "outputs": [
    {
     "name": "stderr",
     "output_type": "stream",
     "text": [
      "Epochs:   3%|▎         | 1/30 [00:01<00:43,  1.50s/it]"
     ]
    },
    {
     "name": "stdout",
     "output_type": "stream",
     "text": [
      "Epoch 1, Loss: 2.352969954090734\n"
     ]
    },
    {
     "name": "stderr",
     "output_type": "stream",
     "text": [
      "Epochs:   7%|▋         | 2/30 [00:02<00:39,  1.42s/it]"
     ]
    },
    {
     "name": "stdout",
     "output_type": "stream",
     "text": [
      "Epoch 2, Loss: 1.8668698610798005\n"
     ]
    },
    {
     "name": "stderr",
     "output_type": "stream",
     "text": [
      "Epochs:  10%|█         | 3/30 [00:04<00:37,  1.40s/it]"
     ]
    },
    {
     "name": "stdout",
     "output_type": "stream",
     "text": [
      "Epoch 3, Loss: 1.4945671712198565\n"
     ]
    },
    {
     "name": "stderr",
     "output_type": "stream",
     "text": [
      "Epochs:  13%|█▎        | 4/30 [00:05<00:35,  1.38s/it]"
     ]
    },
    {
     "name": "stdout",
     "output_type": "stream",
     "text": [
      "Epoch 4, Loss: 1.2415438467456448\n"
     ]
    },
    {
     "name": "stderr",
     "output_type": "stream",
     "text": [
      "Epochs:  17%|█▋        | 5/30 [00:06<00:34,  1.38s/it]"
     ]
    },
    {
     "name": "stdout",
     "output_type": "stream",
     "text": [
      "Epoch 5, Loss: 1.0417762225674045\n"
     ]
    },
    {
     "name": "stderr",
     "output_type": "stream",
     "text": [
      "Epochs:  20%|██        | 6/30 [00:08<00:32,  1.37s/it]"
     ]
    },
    {
     "name": "stdout",
     "output_type": "stream",
     "text": [
      "Epoch 6, Loss: 0.9030197993401559\n"
     ]
    },
    {
     "name": "stderr",
     "output_type": "stream",
     "text": [
      "Epochs:  23%|██▎       | 7/30 [00:09<00:31,  1.37s/it]"
     ]
    },
    {
     "name": "stdout",
     "output_type": "stream",
     "text": [
      "Epoch 7, Loss: 0.8155144895276716\n"
     ]
    },
    {
     "name": "stderr",
     "output_type": "stream",
     "text": [
      "Epochs:  27%|██▋       | 8/30 [00:11<00:30,  1.37s/it]"
     ]
    },
    {
     "name": "stdout",
     "output_type": "stream",
     "text": [
      "Epoch 8, Loss: 0.7394945236944384\n"
     ]
    },
    {
     "name": "stderr",
     "output_type": "stream",
     "text": [
      "Epochs:  30%|███       | 9/30 [00:12<00:28,  1.37s/it]"
     ]
    },
    {
     "name": "stdout",
     "output_type": "stream",
     "text": [
      "Epoch 9, Loss: 0.6556063823161586\n"
     ]
    },
    {
     "name": "stderr",
     "output_type": "stream",
     "text": [
      "Epochs:  33%|███▎      | 10/30 [00:13<00:27,  1.37s/it]"
     ]
    },
    {
     "name": "stdout",
     "output_type": "stream",
     "text": [
      "Epoch 10, Loss: 0.6265564022525665\n"
     ]
    },
    {
     "name": "stderr",
     "output_type": "stream",
     "text": [
      "Epochs:  37%|███▋      | 11/30 [00:15<00:26,  1.37s/it]"
     ]
    },
    {
     "name": "stdout",
     "output_type": "stream",
     "text": [
      "Epoch 11, Loss: 0.6028657843989711\n"
     ]
    },
    {
     "name": "stderr",
     "output_type": "stream",
     "text": [
      "Epochs:  40%|████      | 12/30 [00:16<00:24,  1.37s/it]"
     ]
    },
    {
     "name": "stdout",
     "output_type": "stream",
     "text": [
      "Epoch 12, Loss: 0.5593404500715194\n"
     ]
    },
    {
     "name": "stderr",
     "output_type": "stream",
     "text": [
      "Epochs:  43%|████▎     | 13/30 [00:17<00:23,  1.37s/it]"
     ]
    },
    {
     "name": "stdout",
     "output_type": "stream",
     "text": [
      "Epoch 13, Loss: 0.5197487223532892\n"
     ]
    },
    {
     "name": "stderr",
     "output_type": "stream",
     "text": [
      "Epochs:  47%|████▋     | 14/30 [00:19<00:21,  1.37s/it]"
     ]
    },
    {
     "name": "stdout",
     "output_type": "stream",
     "text": [
      "Epoch 14, Loss: 0.4998627910690923\n"
     ]
    },
    {
     "name": "stderr",
     "output_type": "stream",
     "text": [
      "Epochs:  50%|█████     | 15/30 [00:20<00:20,  1.37s/it]"
     ]
    },
    {
     "name": "stdout",
     "output_type": "stream",
     "text": [
      "Epoch 15, Loss: 0.4829869914439417\n"
     ]
    },
    {
     "name": "stderr",
     "output_type": "stream",
     "text": [
      "Epochs:  53%|█████▎    | 16/30 [00:22<00:19,  1.37s/it]"
     ]
    },
    {
     "name": "stdout",
     "output_type": "stream",
     "text": [
      "Epoch 16, Loss: 0.4545632793057349\n"
     ]
    },
    {
     "name": "stderr",
     "output_type": "stream",
     "text": [
      "Epochs:  57%|█████▋    | 17/30 [00:23<00:17,  1.37s/it]"
     ]
    },
    {
     "name": "stdout",
     "output_type": "stream",
     "text": [
      "Epoch 17, Loss: 0.43483640301612114\n"
     ]
    },
    {
     "name": "stderr",
     "output_type": "stream",
     "text": [
      "Epochs:  60%|██████    | 18/30 [00:24<00:16,  1.37s/it]"
     ]
    },
    {
     "name": "stdout",
     "output_type": "stream",
     "text": [
      "Epoch 18, Loss: 0.4174547858776585\n"
     ]
    },
    {
     "name": "stderr",
     "output_type": "stream",
     "text": [
      "Epochs:  63%|██████▎   | 19/30 [00:26<00:15,  1.37s/it]"
     ]
    },
    {
     "name": "stdout",
     "output_type": "stream",
     "text": [
      "Epoch 19, Loss: 0.4029086160082971\n"
     ]
    },
    {
     "name": "stderr",
     "output_type": "stream",
     "text": [
      "Epochs:  67%|██████▋   | 20/30 [00:27<00:13,  1.37s/it]"
     ]
    },
    {
     "name": "stdout",
     "output_type": "stream",
     "text": [
      "Epoch 20, Loss: 0.39748052964287417\n"
     ]
    },
    {
     "name": "stderr",
     "output_type": "stream",
     "text": [
      "Epochs:  70%|███████   | 21/30 [00:28<00:12,  1.37s/it]"
     ]
    },
    {
     "name": "stdout",
     "output_type": "stream",
     "text": [
      "Epoch 21, Loss: 0.39242559767538504\n"
     ]
    },
    {
     "name": "stderr",
     "output_type": "stream",
     "text": [
      "Epochs:  73%|███████▎  | 22/30 [00:30<00:10,  1.36s/it]"
     ]
    },
    {
     "name": "stdout",
     "output_type": "stream",
     "text": [
      "Epoch 22, Loss: 0.35819785921804365\n"
     ]
    },
    {
     "name": "stderr",
     "output_type": "stream",
     "text": [
      "Epochs:  77%|███████▋  | 23/30 [00:31<00:09,  1.36s/it]"
     ]
    },
    {
     "name": "stdout",
     "output_type": "stream",
     "text": [
      "Epoch 23, Loss: 0.36661058327844065\n"
     ]
    },
    {
     "name": "stderr",
     "output_type": "stream",
     "text": [
      "Epochs:  80%|████████  | 24/30 [00:32<00:08,  1.36s/it]"
     ]
    },
    {
     "name": "stdout",
     "output_type": "stream",
     "text": [
      "Epoch 24, Loss: 0.35242813681402513\n"
     ]
    },
    {
     "name": "stderr",
     "output_type": "stream",
     "text": [
      "Epochs:  83%|████████▎ | 25/30 [00:34<00:06,  1.36s/it]"
     ]
    },
    {
     "name": "stdout",
     "output_type": "stream",
     "text": [
      "Epoch 25, Loss: 0.32825248039537863\n"
     ]
    },
    {
     "name": "stderr",
     "output_type": "stream",
     "text": [
      "Epochs:  87%|████████▋ | 26/30 [00:35<00:05,  1.36s/it]"
     ]
    },
    {
     "name": "stdout",
     "output_type": "stream",
     "text": [
      "Epoch 26, Loss: 0.33076654374599457\n"
     ]
    },
    {
     "name": "stderr",
     "output_type": "stream",
     "text": [
      "Epochs:  90%|█████████ | 27/30 [00:37<00:04,  1.36s/it]"
     ]
    },
    {
     "name": "stdout",
     "output_type": "stream",
     "text": [
      "Epoch 27, Loss: 0.3030235623159716\n"
     ]
    },
    {
     "name": "stderr",
     "output_type": "stream",
     "text": [
      "Epochs:  93%|█████████▎| 28/30 [00:38<00:02,  1.36s/it]"
     ]
    },
    {
     "name": "stdout",
     "output_type": "stream",
     "text": [
      "Epoch 28, Loss: 0.3143963462883426\n"
     ]
    },
    {
     "name": "stderr",
     "output_type": "stream",
     "text": [
      "Epochs:  97%|█████████▋| 29/30 [00:39<00:01,  1.36s/it]"
     ]
    },
    {
     "name": "stdout",
     "output_type": "stream",
     "text": [
      "Epoch 29, Loss: 0.3104210231573351\n"
     ]
    },
    {
     "name": "stderr",
     "output_type": "stream",
     "text": [
      "Epochs: 100%|██████████| 30/30 [00:41<00:00,  1.37s/it]"
     ]
    },
    {
     "name": "stdout",
     "output_type": "stream",
     "text": [
      "Epoch 30, Loss: 0.29421213125028917\n"
     ]
    },
    {
     "name": "stderr",
     "output_type": "stream",
     "text": [
      "\n"
     ]
    }
   ],
   "source": [
    "start_time = time.time()\n",
    "process = psutil.Process()\n",
    "start_cpu = process.cpu_times()\n",
    "start_mem = process.memory_info().rss / 1024**2  # В MB\n",
    "\n",
    "if device.type == \"cuda\":\n",
    "    torch.cuda.synchronize()\n",
    "    torch.cuda.reset_peak_memory_stats()\n",
    "\n",
    "for epoch in tqdm(range(30), desc=\"Epochs\"):\n",
    "    combined_model.train()\n",
    "    running_loss = 0.0\n",
    "    for data in train_loader_3d:\n",
    "        images, labels = data\n",
    "        images, labels = images.to(device), labels.type(torch.LongTensor).to(device)\n",
    "\n",
    "        optimizer.zero_grad()\n",
    "\n",
    "        outputs = combined_model(images)\n",
    "        loss = loss_function(outputs, labels[:, 0])\n",
    "\n",
    "        loss.backward()\n",
    "        optimizer.step()\n",
    "\n",
    "        running_loss += loss.item()\n",
    "\n",
    "    print(f\"Epoch {epoch+1}, Loss: {running_loss/len(train_loader_3d)}\")"
   ]
  },
  {
   "cell_type": "code",
   "execution_count": 77,
   "metadata": {},
   "outputs": [
    {
     "name": "stdout",
     "output_type": "stream",
     "text": [
      "Training time: 41.10 seconds\n",
      "CPU time used: 492.54 seconds\n",
      "Memory used: 39.88 MB\n",
      "GPU Memory Used: 128.44 MB\n",
      "Max GPU Memory Used: 679.60 MB\n"
     ]
    }
   ],
   "source": [
    "end_time = time.time()\n",
    "end_cpu = process.cpu_times()\n",
    "end_mem = process.memory_info().rss / 1024**2\n",
    "\n",
    "cpu_time = (end_cpu.user + end_cpu.system) - (start_cpu.user + start_cpu.system)\n",
    "memory_used = end_mem - start_mem\n",
    "\n",
    "print(f\"Training time: {end_time - start_time:.2f} seconds\")\n",
    "print(f\"CPU time used: {cpu_time:.2f} seconds\")\n",
    "print(f\"Memory used: {memory_used:.2f} MB\")\n",
    "\n",
    "if device.type == \"cuda\":\n",
    "    torch.cuda.synchronize()\n",
    "    print(f\"GPU Memory Used: {torch.cuda.memory_allocated() / 1024**2:.2f} MB\")\n",
    "    print(f\"Max GPU Memory Used: {torch.cuda.max_memory_allocated() / 1024**2:.2f} MB\")\n"
   ]
  },
  {
   "cell_type": "code",
   "execution_count": 78,
   "metadata": {},
   "outputs": [
    {
     "name": "stdout",
     "output_type": "stream",
     "text": [
      "VRAM currently used: 128.44 MB\n",
      "Max VRAM used during training: 679.60 MB\n"
     ]
    }
   ],
   "source": [
    "if device.type == \"cuda\":\n",
    "    torch.cuda.synchronize()\n",
    "    vram_used = torch.cuda.memory_allocated() / 1024**2\n",
    "    vram_max_used = torch.cuda.max_memory_allocated() / 1024**2\n",
    "\n",
    "    print(f\"VRAM currently used: {vram_used:.2f} MB\")\n",
    "    print(f\"Max VRAM used during training: {vram_max_used:.2f} MB\")\n"
   ]
  },
  {
   "cell_type": "code",
   "execution_count": 79,
   "metadata": {},
   "outputs": [
    {
     "name": "stdout",
     "output_type": "stream",
     "text": [
      "Validation AUC: 0.9992\n"
     ]
    }
   ],
   "source": [
    "combined_model.eval()\n",
    "with torch.no_grad():\n",
    "    y_pred = torch.tensor([], dtype=torch.float32, device=device)\n",
    "    y = torch.tensor([], dtype=torch.long, device=device)\n",
    "    for val_data in val_loader_3d:\n",
    "        val_images, val_labels = val_data\n",
    "\n",
    "        output = combined_model(val_images.to(device))\n",
    "        \n",
    "        y_pred = torch.cat([y_pred, output], dim=0)\n",
    "        y = torch.cat([y, val_labels.to(device)], dim=0)\n",
    "\n",
    "    # Evaluate AUC and accuracy\n",
    "    y_onehot = [y_trans(i) for i in decollate_batch(y, detach=False)]\n",
    "    y_pred_act = [y_pred_trans(i) for i in decollate_batch(y_pred)]\n",
    "    auc_metric(y_pred_act, y_onehot)\n",
    "    result = auc_metric.aggregate()\n",
    "    auc_metric.reset()\n",
    "\n",
    "    print(f\"Validation AUC: {result:.4f}\")"
   ]
  },
  {
   "cell_type": "code",
   "execution_count": 80,
   "metadata": {},
   "outputs": [
    {
     "name": "stdout",
     "output_type": "stream",
     "text": [
      "Test AUC: 0.9835\n"
     ]
    }
   ],
   "source": [
    "combined_model.eval()\n",
    "y_true = []\n",
    "y_predicted = []\n",
    "example_image = []\n",
    "example_preds = []\n",
    "example_labels = []\n",
    "\n",
    "with torch.no_grad():\n",
    "    y_pred = torch.tensor([], dtype=torch.float32, device=device)\n",
    "    y = torch.tensor([], dtype=torch.long, device=device)\n",
    "    for test_data in test_loader_3d:\n",
    "        test_images, test_labels = test_data\n",
    "\n",
    "        output = combined_model(test_images.to(device))\n",
    "        pred = output.argmax(dim=1)\n",
    "        \n",
    "        for i in range(len(pred)):\n",
    "            y_true.append(test_labels[i].item())\n",
    "            y_predicted.append(pred[i].item())\n",
    "\n",
    "        y_pred = torch.cat([y_pred, output], dim=0)\n",
    "        y = torch.cat([y, test_labels.to(device)], dim=0)\n",
    "\n",
    "    # Evaluate AUC and accuracy\n",
    "    y_onehot = [y_trans(i) for i in decollate_batch(y, detach=False)]\n",
    "    y_pred_act = [y_pred_trans(i) for i in decollate_batch(y_pred)]\n",
    "    auc_metric(y_pred_act, y_onehot)\n",
    "    result = auc_metric.aggregate()\n",
    "    auc_metric.reset()\n",
    "\n",
    "    print(f\"Test AUC: {result:.4f}\")"
   ]
  },
  {
   "cell_type": "code",
   "execution_count": 81,
   "metadata": {
    "scrolled": true
   },
   "outputs": [
    {
     "name": "stdout",
     "output_type": "stream",
     "text": [
      "              precision    recall  f1-score   support\n",
      "\n",
      "           0     0.9324    1.0000    0.9650        69\n",
      "           1     0.7619    0.7059    0.7328        68\n",
      "           2     0.8302    0.6377    0.7213        69\n",
      "           3     0.7833    0.7231    0.7520        65\n",
      "           4     0.7160    0.8923    0.7945        65\n",
      "           5     0.8406    0.8788    0.8593        66\n",
      "           6     1.0000    0.8571    0.9231        28\n",
      "           7     1.0000    1.0000    1.0000        21\n",
      "           8     0.9130    1.0000    0.9545        21\n",
      "           9     0.8955    0.8696    0.8824        69\n",
      "          10     0.8533    0.9275    0.8889        69\n",
      "\n",
      "    accuracy                         0.8426       610\n",
      "   macro avg     0.8660    0.8629    0.8613       610\n",
      "weighted avg     0.8446    0.8426    0.8402       610\n",
      "\n"
     ]
    }
   ],
   "source": [
    "report = classification_report(y_true, y_predicted, target_names=info['label'], digits=4, output_dict=True)\n",
    "report.update({\"AUC\": f\"{result:.4f}\"})\n",
    "print(classification_report(y_true, y_predicted, target_names=info['label'], digits=4))"
   ]
  },
  {
   "cell_type": "code",
   "execution_count": 325,
   "metadata": {},
   "outputs": [],
   "source": [
    "df = pd.DataFrame(report).transpose()\n",
    "df.to_csv(f'combined_pretrained_full_seed{seed}.csv')"
   ]
  },
  {
   "cell_type": "code",
   "execution_count": 82,
   "metadata": {},
   "outputs": [
    {
     "name": "stdout",
     "output_type": "stream",
     "text": [
      "VRAM currently used: 128.44 MB\n",
      "Max VRAM used during training: 679.60 MB\n"
     ]
    }
   ],
   "source": [
    "if device.type == \"cuda\":\n",
    "    torch.cuda.synchronize()\n",
    "    vram_used = torch.cuda.memory_allocated() / 1024**2\n",
    "    vram_max_used = torch.cuda.max_memory_allocated() / 1024**2\n",
    "\n",
    "    print(f\"VRAM currently used: {vram_used:.2f} MB\")\n",
    "    print(f\"Max VRAM used during training: {vram_max_used:.2f} MB\")\n"
   ]
  },
  {
   "cell_type": "markdown",
   "metadata": {},
   "source": [
    "## Balanced concatenation"
   ]
  },
  {
   "cell_type": "code",
   "execution_count": 14,
   "metadata": {},
   "outputs": [],
   "source": [
    "def extract_metrics(file_path, has_auc=False):\n",
    "    df = pd.read_csv(file_path)\n",
    "    metrics = df.loc[df.index[-3], 'precision']\n",
    "    return metrics"
   ]
  },
  {
   "cell_type": "code",
   "execution_count": 15,
   "metadata": {},
   "outputs": [],
   "source": [
    "model_names = ['axial_full_unpretrained', 'coronal_full_unpretrained', 'sagittal_full_unpretrained']\n",
    "csv_files = {\n",
    "    model: glob.glob(f\"{model}_seed{seed}.csv\")\n",
    "    for model in model_names\n",
    "}"
   ]
  },
  {
   "cell_type": "code",
   "execution_count": 16,
   "metadata": {},
   "outputs": [],
   "source": [
    "results = {}\n",
    "for model, files in csv_files.items():\n",
    "    model_metrics = []\n",
    "    for file in files:\n",
    "        metrics = extract_metrics(file)\n",
    "    results[model] = metrics"
   ]
  },
  {
   "cell_type": "code",
   "execution_count": 17,
   "metadata": {},
   "outputs": [
    {
     "data": {
      "text/plain": [
       "{'axial_full_unpretrained': 0.8147540983606557,\n",
       " 'coronal_full_unpretrained': 0.2770491803278688,\n",
       " 'sagittal_full_unpretrained': 0.5836065573770491}"
      ]
     },
     "execution_count": 17,
     "metadata": {},
     "output_type": "execute_result"
    }
   ],
   "source": [
    "results"
   ]
  },
  {
   "cell_type": "code",
   "execution_count": 23,
   "metadata": {},
   "outputs": [
    {
     "name": "stdout",
     "output_type": "stream",
     "text": [
      "[0.48630136986301364, 0.1653620352250489, 0.34833659491193736]\n"
     ]
    }
   ],
   "source": [
    "accuracies = list(results.values())\n",
    "total_acc = sum(accuracies)\n",
    "print([acc / total_acc for acc in accuracies])"
   ]
  },
  {
   "cell_type": "code",
   "execution_count": 33,
   "metadata": {},
   "outputs": [],
   "source": [
    "class BalancedResNetModel(nn.Module):\n",
    "    def __init__(self, model_axial, model_coronal, model_sagittal, accuracies, num_classes=n_classes):\n",
    "        super(BalancedResNetModel, self).__init__()\n",
    "        \n",
    "        # Load pretrained 2D models (without their final classification layers)\n",
    "        self.model_axial = nn.Sequential(*list(model_axial.children())[:-1])\n",
    "        self.model_coronal = nn.Sequential(*list(model_coronal.children())[:-1])\n",
    "        self.model_sagittal = nn.Sequential(*list(model_sagittal.children())[:-1])\n",
    "\n",
    "        total_acc = sum(accuracies)\n",
    "        self.weights = [acc / total_acc for acc in accuracies]\n",
    "        \n",
    "        # Final fully connected layer to classify the combined features\n",
    "        self.fc = nn.Linear(512, num_classes)\n",
    "\n",
    "    def forward(self, x):\n",
    "\n",
    "        axial = x[:, 0].to(torch.float32)\n",
    "        coronal = x[:, 0].permute(0, 2, 3, 1).to(torch.float32)\n",
    "        sagittal = x[:, 0].permute(0, 3, 1, 2).to(torch.float32)\n",
    "\n",
    "        axial_features = self.model_axial(axial)  # Output: [batch_size, 512, 1, 1]\n",
    "        coronal_features = self.model_coronal(coronal)\n",
    "        sagittal_features = self.model_sagittal(sagittal)\n",
    "\n",
    "        axial_features = axial_features.view(axial_features.size(0), -1)  # [batch_size, 512]\n",
    "        coronal_features = coronal_features.view(coronal_features.size(0), -1)\n",
    "        sagittal_features = sagittal_features.view(sagittal_features.size(0), -1)\n",
    "\n",
    "        # Weights balancing\n",
    "        weighted_features = (self.weights[0] * axial_features + self.weights[1] * coronal_features + \n",
    "                             self.weights[2] * sagittal_features)\n",
    "\n",
    "        # Final classification\n",
    "        out = self.fc(weighted_features)\n",
    "        return out"
   ]
  },
  {
   "cell_type": "code",
   "execution_count": 34,
   "metadata": {},
   "outputs": [
    {
     "data": {
      "text/plain": [
       "<All keys matched successfully>"
      ]
     },
     "execution_count": 34,
     "metadata": {},
     "output_type": "execute_result"
    }
   ],
   "source": [
    "# Load the pretrained models for each slice direction\n",
    "model_axial = nets.resnet18(pretrained=False, spatial_dims=2, n_input_channels=64, num_classes=n_classes).to(device)\n",
    "model_coronal = nets.resnet18(pretrained=False, spatial_dims=2, n_input_channels=64, num_classes=n_classes).to(device)\n",
    "model_sagittal = nets.resnet18(pretrained=False, spatial_dims=2, n_input_channels=64, num_classes=n_classes).to(device)\n",
    "\n",
    "# Load the trained weights for each model\n",
    "model_axial.load_state_dict(torch.load(os.path.join(root_dir, \"axial_full_unpretrained.pth\"), weights_only=True))\n",
    "model_coronal.load_state_dict(torch.load(os.path.join(root_dir, \"coronal_full_unpretrained.pth\"), weights_only=True))\n",
    "model_sagittal.load_state_dict(torch.load(os.path.join(root_dir, \"sagittal_full_unpretrained.pth\"), weights_only=True))"
   ]
  },
  {
   "cell_type": "code",
   "execution_count": 35,
   "metadata": {},
   "outputs": [],
   "source": [
    "train_loader_3d = DataLoader(train_dataset, batch_size=32, shuffle=True)\n",
    "val_loader_3d = DataLoader(val_dataset, batch_size=32, shuffle=True)\n",
    "test_loader_3d = DataLoader(test_dataset, batch_size=32, shuffle=False)"
   ]
  },
  {
   "cell_type": "code",
   "execution_count": 36,
   "metadata": {},
   "outputs": [],
   "source": [
    "balanced_model = BalancedResNetModel(model_axial, model_coronal, model_sagittal, accuracies=list(results.values()),\n",
    "                                     num_classes=n_classes).to(device)\n",
    "\n",
    "loss_function = torch.nn.CrossEntropyLoss()\n",
    "optimizer = torch.optim.Adam(balanced_model.fc.parameters(), lr=0.0005)"
   ]
  },
  {
   "cell_type": "code",
   "execution_count": 37,
   "metadata": {},
   "outputs": [
    {
     "name": "stdout",
     "output_type": "stream",
     "text": [
      "Epoch 1, Loss: 1.8999605563379103\n",
      "Epoch 2, Loss: 1.033922710726338\n",
      "Epoch 3, Loss: 0.5847124236245309\n",
      "Epoch 4, Loss: 0.40552124092655795\n",
      "Epoch 5, Loss: 0.2923865323105166\n",
      "Epoch 6, Loss: 0.23711171025230038\n",
      "Epoch 7, Loss: 0.1923451716861417\n",
      "Epoch 8, Loss: 0.16534753888845444\n",
      "Epoch 9, Loss: 0.14588562495285465\n",
      "Epoch 10, Loss: 0.12212084714443452\n",
      "Epoch 11, Loss: 0.1148696419212126\n",
      "Epoch 12, Loss: 0.10458903255001191\n",
      "Epoch 13, Loss: 0.09205593973878891\n",
      "Epoch 14, Loss: 0.08712759818280896\n",
      "Epoch 15, Loss: 0.0905728408646199\n",
      "Epoch 16, Loss: 0.07334738753495677\n",
      "Epoch 17, Loss: 0.07251184878330078\n",
      "Epoch 18, Loss: 0.06793098259837396\n",
      "Epoch 19, Loss: 0.060248824437299085\n",
      "Epoch 20, Loss: 0.058020730773287434\n",
      "Epoch 21, Loss: 0.052121152860983726\n",
      "Epoch 22, Loss: 0.05692808456238239\n",
      "Epoch 23, Loss: 0.052042908515901334\n",
      "Epoch 24, Loss: 0.05057350233677895\n",
      "Epoch 25, Loss: 0.04543881247481031\n",
      "Epoch 26, Loss: 0.042955998811990984\n",
      "Epoch 27, Loss: 0.043787294277741064\n",
      "Epoch 28, Loss: 0.042398351545055064\n",
      "Epoch 29, Loss: 0.039162885307544665\n",
      "Epoch 30, Loss: 0.04379543851340009\n"
     ]
    }
   ],
   "source": [
    "start_time = time.time()\n",
    "process = psutil.Process()\n",
    "start_cpu = process.cpu_times()\n",
    "start_mem = process.memory_info().rss / 1024**2  # В MB\n",
    "\n",
    "if device.type == \"cuda\":\n",
    "    torch.cuda.synchronize()\n",
    "    torch.cuda.reset_peak_memory_stats()\n",
    "\n",
    "for epoch in range(30):\n",
    "    balanced_model.train()\n",
    "    running_loss = 0.0\n",
    "    for data in train_loader_3d:\n",
    "        images, labels = data\n",
    "        images, labels = images.to(device), labels.type(torch.LongTensor).to(device)\n",
    "\n",
    "        optimizer.zero_grad()\n",
    "\n",
    "        outputs = balanced_model(images)\n",
    "        loss = loss_function(outputs, labels[:, 0])\n",
    "\n",
    "        loss.backward()\n",
    "        optimizer.step()\n",
    "\n",
    "        running_loss += loss.item()\n",
    "\n",
    "    print(f\"Epoch {epoch+1}, Loss: {running_loss/len(train_loader_3d)}\")"
   ]
  },
  {
   "cell_type": "code",
   "execution_count": 38,
   "metadata": {},
   "outputs": [
    {
     "name": "stdout",
     "output_type": "stream",
     "text": [
      "Training time: 60.50 seconds\n",
      "CPU time used: 725.00 seconds\n",
      "Memory used: -63.76 MB\n",
      "GPU Memory Used: 506.31 MB\n",
      "Max GPU Memory Used: 1440.64 MB\n"
     ]
    }
   ],
   "source": [
    "end_time = time.time()\n",
    "end_cpu = process.cpu_times()\n",
    "end_mem = process.memory_info().rss / 1024**2\n",
    "\n",
    "cpu_time = (end_cpu.user + end_cpu.system) - (start_cpu.user + start_cpu.system)\n",
    "memory_used = end_mem - start_mem\n",
    "\n",
    "print(f\"Training time: {end_time - start_time:.2f} seconds\")\n",
    "print(f\"CPU time used: {cpu_time:.2f} seconds\")\n",
    "print(f\"Memory used: {memory_used:.2f} MB\")\n",
    "\n",
    "if device.type == \"cuda\":\n",
    "    torch.cuda.synchronize()\n",
    "    print(f\"GPU Memory Used: {torch.cuda.memory_allocated() / 1024**2:.2f} MB\")\n",
    "    print(f\"Max GPU Memory Used: {torch.cuda.max_memory_allocated() / 1024**2:.2f} MB\")\n"
   ]
  },
  {
   "cell_type": "code",
   "execution_count": 39,
   "metadata": {},
   "outputs": [
    {
     "name": "stdout",
     "output_type": "stream",
     "text": [
      "VRAM currently used: 506.31 MB\n",
      "Max VRAM used during training: 1440.64 MB\n"
     ]
    }
   ],
   "source": [
    "if device.type == \"cuda\":\n",
    "    torch.cuda.synchronize()\n",
    "    vram_used = torch.cuda.memory_allocated() / 1024**2\n",
    "    vram_max_used = torch.cuda.max_memory_allocated() / 1024**2\n",
    "\n",
    "    print(f\"VRAM currently used: {vram_used:.2f} MB\")\n",
    "    print(f\"Max VRAM used during training: {vram_max_used:.2f} MB\")\n"
   ]
  },
  {
   "cell_type": "code",
   "execution_count": 40,
   "metadata": {},
   "outputs": [
    {
     "name": "stdout",
     "output_type": "stream",
     "text": [
      "Validation AUC: 1.0000\n"
     ]
    }
   ],
   "source": [
    "balanced_model.eval()\n",
    "with torch.no_grad():\n",
    "    y_pred = torch.tensor([], dtype=torch.float32, device=device)\n",
    "    y = torch.tensor([], dtype=torch.long, device=device)\n",
    "    for val_data in val_loader_3d:\n",
    "        val_images, val_labels = val_data\n",
    "\n",
    "        output = balanced_model(val_images.to(device), )\n",
    "        \n",
    "        y_pred = torch.cat([y_pred, output], dim=0)\n",
    "        y = torch.cat([y, val_labels.to(device)], dim=0)\n",
    "\n",
    "    # Evaluate AUC and accuracy\n",
    "    y_onehot = [y_trans(i) for i in decollate_batch(y, detach=False)]\n",
    "    y_pred_act = [y_pred_trans(i) for i in decollate_batch(y_pred)]\n",
    "    auc_metric(y_pred_act, y_onehot)\n",
    "    result = auc_metric.aggregate()\n",
    "    auc_metric.reset()\n",
    "\n",
    "    print(f\"Validation AUC: {result:.4f}\")"
   ]
  },
  {
   "cell_type": "code",
   "execution_count": 41,
   "metadata": {},
   "outputs": [
    {
     "name": "stdout",
     "output_type": "stream",
     "text": [
      "Test AUC: 0.9920\n"
     ]
    }
   ],
   "source": [
    "balanced_model.eval()\n",
    "y_true = []\n",
    "y_predicted = []\n",
    "example_image = []\n",
    "example_preds = []\n",
    "example_labels = []\n",
    "\n",
    "with torch.no_grad():\n",
    "    y_pred = torch.tensor([], dtype=torch.float32, device=device)\n",
    "    y = torch.tensor([], dtype=torch.long, device=device)\n",
    "    for test_data in test_loader_3d:\n",
    "        test_images, test_labels = test_data\n",
    "\n",
    "        output = balanced_model(test_images.to(device))\n",
    "        pred = output.argmax(dim=1)\n",
    "        \n",
    "        for i in range(len(pred)):\n",
    "            y_true.append(test_labels[i].item())\n",
    "            y_predicted.append(pred[i].item())\n",
    "\n",
    "        y_pred = torch.cat([y_pred, output], dim=0)\n",
    "        y = torch.cat([y, test_labels.to(device)], dim=0)\n",
    "\n",
    "    # Evaluate AUC and accuracy\n",
    "    y_onehot = [y_trans(i) for i in decollate_batch(y, detach=False)]\n",
    "    y_pred_act = [y_pred_trans(i) for i in decollate_batch(y_pred)]\n",
    "    auc_metric(y_pred_act, y_onehot)\n",
    "    result = auc_metric.aggregate()\n",
    "    auc_metric.reset()\n",
    "\n",
    "    print(f\"Test AUC: {result:.4f}\")"
   ]
  },
  {
   "cell_type": "code",
   "execution_count": 42,
   "metadata": {
    "scrolled": true
   },
   "outputs": [
    {
     "name": "stdout",
     "output_type": "stream",
     "text": [
      "              precision    recall  f1-score   support\n",
      "\n",
      "           0     0.9853    0.9710    0.9781        69\n",
      "           1     0.8209    0.8088    0.8148        68\n",
      "           2     0.7778    0.7101    0.7424        69\n",
      "           3     0.8529    0.8923    0.8722        65\n",
      "           4     0.9180    0.8615    0.8889        65\n",
      "           5     0.8194    0.8939    0.8551        66\n",
      "           6     1.0000    0.9286    0.9630        28\n",
      "           7     1.0000    1.0000    1.0000        21\n",
      "           8     1.0000    1.0000    1.0000        21\n",
      "           9     0.9091    0.8696    0.8889        69\n",
      "          10     0.8571    0.9565    0.9041        69\n",
      "\n",
      "    accuracy                         0.8820       610\n",
      "   macro avg     0.9037    0.8993    0.9007       610\n",
      "weighted avg     0.8829    0.8820    0.8815       610\n",
      "\n"
     ]
    }
   ],
   "source": [
    "report = classification_report(y_true, y_predicted, target_names=info['label'], digits=4, output_dict=True)\n",
    "report.update({\"AUC\": f\"{result:.4f}\"})\n",
    "print(classification_report(y_true, y_predicted, target_names=info['label'], digits=4))"
   ]
  },
  {
   "cell_type": "code",
   "execution_count": 43,
   "metadata": {},
   "outputs": [],
   "source": [
    "df = pd.DataFrame(report).transpose()\n",
    "df.to_csv(f'balanced_unpretrained_full_seed{seed}.csv')"
   ]
  },
  {
   "cell_type": "code",
   "execution_count": 44,
   "metadata": {},
   "outputs": [
    {
     "name": "stdout",
     "output_type": "stream",
     "text": [
      "VRAM currently used: 506.93 MB\n",
      "Max VRAM used during training: 1440.64 MB\n"
     ]
    }
   ],
   "source": [
    "if device.type == \"cuda\":\n",
    "    torch.cuda.synchronize()\n",
    "    vram_used = torch.cuda.memory_allocated() / 1024**2\n",
    "    vram_max_used = torch.cuda.max_memory_allocated() / 1024**2\n",
    "\n",
    "    print(f\"VRAM currently used: {vram_used:.2f} MB\")\n",
    "    print(f\"Max VRAM used during training: {vram_max_used:.2f} MB\")\n"
   ]
  },
  {
   "cell_type": "markdown",
   "metadata": {},
   "source": [
    "### Pretrained"
   ]
  },
  {
   "cell_type": "code",
   "execution_count": 45,
   "metadata": {},
   "outputs": [],
   "source": [
    "model_names = ['axial_full_pretrained', 'coronal_full_pretrained', 'sagittal_full_pretrained']\n",
    "csv_files = {\n",
    "    model: glob.glob(f\"{model}_seed{seed}.csv\")\n",
    "    for model in model_names\n",
    "}"
   ]
  },
  {
   "cell_type": "code",
   "execution_count": 46,
   "metadata": {},
   "outputs": [],
   "source": [
    "results = {}\n",
    "for model, files in csv_files.items():\n",
    "    model_metrics = []\n",
    "    for file in files:\n",
    "        metrics = extract_metrics(file)\n",
    "    results[model] = metrics"
   ]
  },
  {
   "cell_type": "code",
   "execution_count": 47,
   "metadata": {},
   "outputs": [
    {
     "data": {
      "text/plain": [
       "{'axial_full_pretrained': 0.8918032786885246,\n",
       " 'coronal_full_pretrained': 0.7573770491803279,\n",
       " 'sagittal_full_pretrained': 0.7475409836065574}"
      ]
     },
     "execution_count": 47,
     "metadata": {},
     "output_type": "execute_result"
    }
   ],
   "source": [
    "results"
   ]
  },
  {
   "cell_type": "code",
   "execution_count": 48,
   "metadata": {},
   "outputs": [
    {
     "name": "stdout",
     "output_type": "stream",
     "text": [
      "[0.37209302325581395, 0.31600547195622436, 0.3119015047879617]\n"
     ]
    }
   ],
   "source": [
    "accuracies = list(results.values())\n",
    "total_acc = sum(accuracies)\n",
    "print([acc / total_acc for acc in accuracies])"
   ]
  },
  {
   "cell_type": "code",
   "execution_count": 49,
   "metadata": {},
   "outputs": [
    {
     "name": "stderr",
     "output_type": "stream",
     "text": [
      "/opt/conda/lib/python3.10/site-packages/torchvision/models/_utils.py:208: UserWarning: The parameter 'pretrained' is deprecated since 0.13 and may be removed in the future, please use 'weights' instead.\n",
      "  warnings.warn(\n",
      "/opt/conda/lib/python3.10/site-packages/torchvision/models/_utils.py:223: UserWarning: Arguments other than a weight enum or `None` for 'weights' are deprecated since 0.13 and may be removed in the future. The current behavior is equivalent to passing `weights=ResNet18_Weights.IMAGENET1K_V1`. You can also use `weights=ResNet18_Weights.DEFAULT` to get the most up-to-date weights.\n",
      "  warnings.warn(msg)\n"
     ]
    },
    {
     "data": {
      "text/plain": [
       "<All keys matched successfully>"
      ]
     },
     "execution_count": 49,
     "metadata": {},
     "output_type": "execute_result"
    }
   ],
   "source": [
    "# Load the pretrained models for each slice direction\n",
    "model = models.resnet18(pretrained=True).to(device)\n",
    "model.conv1 = nn.Conv2d(64, 64, kernel_size=7, stride=2, padding=3, bias=False)\n",
    "model.fc = nn.Linear(model.fc.in_features, n_classes)\n",
    "model_axial = model.to(device)\n",
    "model_coronal = model.to(device)\n",
    "model_sagittal = model.to(device)\n",
    "\n",
    "# Load the trained weights for each model\n",
    "model_axial.load_state_dict(torch.load(os.path.join(root_dir, \"axial_full_pretrained.pth\"), weights_only=True))\n",
    "model_coronal.load_state_dict(torch.load(os.path.join(root_dir, \"coronal_full_pretrained.pth\"), weights_only=True))\n",
    "model_sagittal.load_state_dict(torch.load(os.path.join(root_dir, \"sagittal_full_pretrained.pth\"), weights_only=True))"
   ]
  },
  {
   "cell_type": "code",
   "execution_count": 50,
   "metadata": {},
   "outputs": [],
   "source": [
    "train_loader_3d = DataLoader(train_dataset, batch_size=32, shuffle=True)\n",
    "val_loader_3d = DataLoader(val_dataset, batch_size=32, shuffle=True)\n",
    "test_loader_3d = DataLoader(test_dataset, batch_size=32, shuffle=False)"
   ]
  },
  {
   "cell_type": "code",
   "execution_count": 51,
   "metadata": {},
   "outputs": [],
   "source": [
    "balanced_model = BalancedResNetModel(model_axial, model_coronal, model_sagittal, accuracies=list(results.values()),\n",
    "                                     num_classes=n_classes).to(device)\n",
    "\n",
    "loss_function = torch.nn.CrossEntropyLoss()\n",
    "optimizer = torch.optim.Adam(balanced_model.fc.parameters(), lr=0.0005)"
   ]
  },
  {
   "cell_type": "code",
   "execution_count": 52,
   "metadata": {},
   "outputs": [
    {
     "name": "stdout",
     "output_type": "stream",
     "text": [
      "Epoch 1, Loss: 1.9417573751941803\n",
      "Epoch 2, Loss: 1.2543087986207777\n",
      "Epoch 3, Loss: 0.9944763548912541\n",
      "Epoch 4, Loss: 0.8658871593013886\n",
      "Epoch 5, Loss: 0.7898576413431475\n",
      "Epoch 6, Loss: 0.7455700635910034\n",
      "Epoch 7, Loss: 0.7062094067373583\n",
      "Epoch 8, Loss: 0.6266705191904499\n",
      "Epoch 9, Loss: 0.6203342926117682\n",
      "Epoch 10, Loss: 0.5863010633376337\n",
      "Epoch 11, Loss: 0.5898904579301034\n",
      "Epoch 12, Loss: 0.5521371604934815\n",
      "Epoch 13, Loss: 0.5388854097935462\n",
      "Epoch 14, Loss: 0.5413991347435982\n",
      "Epoch 15, Loss: 0.5115275344540996\n",
      "Epoch 16, Loss: 0.5025590562051342\n",
      "Epoch 17, Loss: 0.4994135816251078\n",
      "Epoch 18, Loss: 0.48591208169537203\n",
      "Epoch 19, Loss: 0.4537108819330892\n",
      "Epoch 20, Loss: 0.4539449541799484\n",
      "Epoch 21, Loss: 0.4323970358217916\n",
      "Epoch 22, Loss: 0.46259064972400665\n",
      "Epoch 23, Loss: 0.4131197092994567\n",
      "Epoch 24, Loss: 0.4149175771782475\n",
      "Epoch 25, Loss: 0.39626111955411975\n",
      "Epoch 26, Loss: 0.4140382423516243\n",
      "Epoch 27, Loss: 0.409736939014927\n",
      "Epoch 28, Loss: 0.39236398569999204\n",
      "Epoch 29, Loss: 0.38797207705436215\n",
      "Epoch 30, Loss: 0.3916533810477103\n"
     ]
    }
   ],
   "source": [
    "start_time = time.time()\n",
    "process = psutil.Process()\n",
    "start_cpu = process.cpu_times()\n",
    "start_mem = process.memory_info().rss / 1024**2  # В MB\n",
    "\n",
    "if device.type == \"cuda\":\n",
    "    torch.cuda.synchronize()\n",
    "    torch.cuda.reset_peak_memory_stats()\n",
    "\n",
    "for epoch in range(30):\n",
    "    balanced_model.train()\n",
    "    running_loss = 0.0\n",
    "    for data in train_loader_3d:\n",
    "        images, labels = data\n",
    "        images, labels = images.to(device), labels.type(torch.LongTensor).to(device)\n",
    "\n",
    "        optimizer.zero_grad()\n",
    "\n",
    "        outputs = balanced_model(images)\n",
    "        loss = loss_function(outputs, labels[:, 0])\n",
    "\n",
    "        loss.backward()\n",
    "        optimizer.step()\n",
    "\n",
    "        running_loss += loss.item()\n",
    "\n",
    "    print(f\"Epoch {epoch+1}, Loss: {running_loss/len(train_loader_3d)}\")"
   ]
  },
  {
   "cell_type": "code",
   "execution_count": 53,
   "metadata": {},
   "outputs": [
    {
     "name": "stdout",
     "output_type": "stream",
     "text": [
      "Training time: 45.84 seconds\n",
      "CPU time used: 549.08 seconds\n",
      "Memory used: 14.22 MB\n",
      "GPU Memory Used: 325.43 MB\n",
      "Max GPU Memory Used: 872.50 MB\n"
     ]
    }
   ],
   "source": [
    "end_time = time.time()\n",
    "end_cpu = process.cpu_times()\n",
    "end_mem = process.memory_info().rss / 1024**2\n",
    "\n",
    "cpu_time = (end_cpu.user + end_cpu.system) - (start_cpu.user + start_cpu.system)\n",
    "memory_used = end_mem - start_mem\n",
    "\n",
    "print(f\"Training time: {end_time - start_time:.2f} seconds\")\n",
    "print(f\"CPU time used: {cpu_time:.2f} seconds\")\n",
    "print(f\"Memory used: {memory_used:.2f} MB\")\n",
    "\n",
    "if device.type == \"cuda\":\n",
    "    torch.cuda.synchronize()\n",
    "    print(f\"GPU Memory Used: {torch.cuda.memory_allocated() / 1024**2:.2f} MB\")\n",
    "    print(f\"Max GPU Memory Used: {torch.cuda.max_memory_allocated() / 1024**2:.2f} MB\")\n"
   ]
  },
  {
   "cell_type": "code",
   "execution_count": 54,
   "metadata": {},
   "outputs": [
    {
     "name": "stdout",
     "output_type": "stream",
     "text": [
      "VRAM currently used: 325.43 MB\n",
      "Max VRAM used during training: 872.50 MB\n"
     ]
    }
   ],
   "source": [
    "if device.type == \"cuda\":\n",
    "    torch.cuda.synchronize()\n",
    "    vram_used = torch.cuda.memory_allocated() / 1024**2\n",
    "    vram_max_used = torch.cuda.max_memory_allocated() / 1024**2\n",
    "\n",
    "    print(f\"VRAM currently used: {vram_used:.2f} MB\")\n",
    "    print(f\"Max VRAM used during training: {vram_max_used:.2f} MB\")\n"
   ]
  },
  {
   "cell_type": "code",
   "execution_count": 55,
   "metadata": {},
   "outputs": [
    {
     "name": "stdout",
     "output_type": "stream",
     "text": [
      "Validation AUC: 0.9981\n"
     ]
    }
   ],
   "source": [
    "balanced_model.eval()\n",
    "with torch.no_grad():\n",
    "    y_pred = torch.tensor([], dtype=torch.float32, device=device)\n",
    "    y = torch.tensor([], dtype=torch.long, device=device)\n",
    "    for val_data in val_loader_3d:\n",
    "        val_images, val_labels = val_data\n",
    "\n",
    "        output = balanced_model(val_images.to(device), )\n",
    "        \n",
    "        y_pred = torch.cat([y_pred, output], dim=0)\n",
    "        y = torch.cat([y, val_labels.to(device)], dim=0)\n",
    "\n",
    "    # Evaluate AUC and accuracy\n",
    "    y_onehot = [y_trans(i) for i in decollate_batch(y, detach=False)]\n",
    "    y_pred_act = [y_pred_trans(i) for i in decollate_batch(y_pred)]\n",
    "    auc_metric(y_pred_act, y_onehot)\n",
    "    result = auc_metric.aggregate()\n",
    "    auc_metric.reset()\n",
    "\n",
    "    print(f\"Validation AUC: {result:.4f}\")"
   ]
  },
  {
   "cell_type": "code",
   "execution_count": 56,
   "metadata": {},
   "outputs": [
    {
     "name": "stdout",
     "output_type": "stream",
     "text": [
      "Test AUC: 0.9719\n"
     ]
    }
   ],
   "source": [
    "balanced_model.eval()\n",
    "y_true = []\n",
    "y_predicted = []\n",
    "example_image = []\n",
    "example_preds = []\n",
    "example_labels = []\n",
    "\n",
    "with torch.no_grad():\n",
    "    y_pred = torch.tensor([], dtype=torch.float32, device=device)\n",
    "    y = torch.tensor([], dtype=torch.long, device=device)\n",
    "    for test_data in test_loader_3d:\n",
    "        test_images, test_labels = test_data\n",
    "\n",
    "        output = balanced_model(test_images.to(device))\n",
    "        pred = output.argmax(dim=1)\n",
    "        \n",
    "        for i in range(len(pred)):\n",
    "            y_true.append(test_labels[i].item())\n",
    "            y_predicted.append(pred[i].item())\n",
    "\n",
    "        y_pred = torch.cat([y_pred, output], dim=0)\n",
    "        y = torch.cat([y, test_labels.to(device)], dim=0)\n",
    "\n",
    "    # Evaluate AUC and accuracy\n",
    "    y_onehot = [y_trans(i) for i in decollate_batch(y, detach=False)]\n",
    "    y_pred_act = [y_pred_trans(i) for i in decollate_batch(y_pred)]\n",
    "    auc_metric(y_pred_act, y_onehot)\n",
    "    result = auc_metric.aggregate()\n",
    "    auc_metric.reset()\n",
    "\n",
    "    print(f\"Test AUC: {result:.4f}\")"
   ]
  },
  {
   "cell_type": "code",
   "execution_count": 57,
   "metadata": {
    "scrolled": true
   },
   "outputs": [
    {
     "name": "stdout",
     "output_type": "stream",
     "text": [
      "              precision    recall  f1-score   support\n",
      "\n",
      "           0     0.9571    0.9710    0.9640        69\n",
      "           1     0.7241    0.6176    0.6667        68\n",
      "           2     0.7045    0.4493    0.5487        69\n",
      "           3     0.7333    0.8462    0.7857        65\n",
      "           4     0.9038    0.7231    0.8034        65\n",
      "           5     0.7436    0.8788    0.8056        66\n",
      "           6     0.9643    0.9643    0.9643        28\n",
      "           7     0.9130    1.0000    0.9545        21\n",
      "           8     1.0000    0.9048    0.9500        21\n",
      "           9     0.7973    0.8551    0.8252        69\n",
      "          10     0.6966    0.8986    0.7848        69\n",
      "\n",
      "    accuracy                         0.8000       610\n",
      "   macro avg     0.8307    0.8281    0.8230       610\n",
      "weighted avg     0.8027    0.8000    0.7939       610\n",
      "\n"
     ]
    }
   ],
   "source": [
    "report = classification_report(y_true, y_predicted, target_names=info['label'], digits=4, output_dict=True)\n",
    "report.update({\"AUC\": f\"{result:.4f}\"})\n",
    "print(classification_report(y_true, y_predicted, target_names=info['label'], digits=4))"
   ]
  },
  {
   "cell_type": "code",
   "execution_count": 58,
   "metadata": {},
   "outputs": [],
   "source": [
    "df = pd.DataFrame(report).transpose()\n",
    "df.to_csv(f'balanced_pretrained_full_seed{seed}.csv')"
   ]
  },
  {
   "cell_type": "code",
   "execution_count": 59,
   "metadata": {},
   "outputs": [
    {
     "name": "stdout",
     "output_type": "stream",
     "text": [
      "VRAM currently used: 325.43 MB\n",
      "Max VRAM used during training: 872.50 MB\n"
     ]
    }
   ],
   "source": [
    "if device.type == \"cuda\":\n",
    "    torch.cuda.synchronize()\n",
    "    vram_used = torch.cuda.memory_allocated() / 1024**2\n",
    "    vram_max_used = torch.cuda.max_memory_allocated() / 1024**2\n",
    "\n",
    "    print(f\"VRAM currently used: {vram_used:.2f} MB\")\n",
    "    print(f\"Max VRAM used during training: {vram_max_used:.2f} MB\")\n"
   ]
  },
  {
   "cell_type": "markdown",
   "metadata": {},
   "source": [
    "## Weighted concatenation"
   ]
  },
  {
   "cell_type": "code",
   "execution_count": 80,
   "metadata": {},
   "outputs": [],
   "source": [
    "class HyperNetwork(nn.Module):\n",
    "    def __init__(self, model_axial, model_coronal, model_sagittal, num_classes=11):\n",
    "        super(HyperNetwork, self).__init__()\n",
    "        \n",
    "        # Load pretrained 2D models (without their final classification layers)\n",
    "        self.model_axial = nn.Sequential(*list(model_axial.children())[:-1])\n",
    "        self.model_coronal = nn.Sequential(*list(model_coronal.children())[:-1])\n",
    "        self.model_sagittal = nn.Sequential(*list(model_sagittal.children())[:-1])\n",
    "        \n",
    "        # Hypernetwork for weighting the features\n",
    "        self.hyper_fc = nn.Sequential(\n",
    "            nn.Linear(512 * 3, 256),\n",
    "            nn.ReLU(),\n",
    "            nn.Linear(256, 512 * 3),\n",
    "            nn.Sigmoid()\n",
    "        )\n",
    "        \n",
    "        # Final classification layer\n",
    "        self.fc = nn.Linear(512 * 3, num_classes)\n",
    "\n",
    "    def forward(self, x):\n",
    "\n",
    "        axial = x[:, 0].to(torch.float32)\n",
    "        coronal = x[:, 0].permute(0, 2, 3, 1).to(torch.float32)\n",
    "        sagittal = x[:, 0].permute(0, 3, 1, 2).to(torch.float32)\n",
    "        \n",
    "        features_axial = self.model_axial(axial).flatten(1)\n",
    "        features_coronal = self.model_coronal(coronal).flatten(1)\n",
    "        features_sagittal = self.model_sagittal(sagittal).flatten(1)\n",
    "        \n",
    "        combined_features = torch.cat([features_axial, features_coronal, features_sagittal], dim=1)\n",
    "        \n",
    "        # Apply hypernetwork to decide weights\n",
    "        weights = self.hyper_fc(combined_features)\n",
    "        combined_weighted_features = combined_features * weights\n",
    "        \n",
    "        # Final classification\n",
    "        out = self.fc(combined_weighted_features)\n",
    "        return out"
   ]
  },
  {
   "cell_type": "code",
   "execution_count": 81,
   "metadata": {},
   "outputs": [],
   "source": [
    "train_loader_3d = DataLoader(train_dataset, batch_size=32, shuffle=True)\n",
    "val_loader_3d = DataLoader(val_dataset, batch_size=32, shuffle=True)\n",
    "test_loader_3d = DataLoader(test_dataset, batch_size=32, shuffle=False)"
   ]
  },
  {
   "cell_type": "code",
   "execution_count": 85,
   "metadata": {},
   "outputs": [],
   "source": [
    "device = torch.device(\"cuda\" if torch.cuda.is_available() else \"cpu\")"
   ]
  },
  {
   "cell_type": "code",
   "execution_count": 86,
   "metadata": {},
   "outputs": [
    {
     "data": {
      "text/plain": [
       "<All keys matched successfully>"
      ]
     },
     "execution_count": 86,
     "metadata": {},
     "output_type": "execute_result"
    }
   ],
   "source": [
    "# Load the pretrained models for each slice direction\n",
    "model_axial = nets.resnet18(pretrained=False, spatial_dims=2, n_input_channels=64, num_classes=n_classes).to(device)\n",
    "model_coronal = nets.resnet18(pretrained=False, spatial_dims=2, n_input_channels=64, num_classes=n_classes).to(device)\n",
    "model_sagittal = nets.resnet18(pretrained=False, spatial_dims=2, n_input_channels=64, num_classes=n_classes).to(device)\n",
    "\n",
    "# Load the trained weights for each model\n",
    "model_axial.load_state_dict(torch.load(os.path.join(root_dir, \"axial_full_unpretrained.pth\"), weights_only=True))\n",
    "model_coronal.load_state_dict(torch.load(os.path.join(root_dir, \"coronal_full_unpretrained.pth\"), weights_only=True))\n",
    "model_sagittal.load_state_dict(torch.load(os.path.join(root_dir, \"sagittal_full_unpretrained.pth\"), weights_only=True))"
   ]
  },
  {
   "cell_type": "code",
   "execution_count": 87,
   "metadata": {},
   "outputs": [],
   "source": [
    "# Initialize the hypernetwork\n",
    "hypernetwork = HyperNetwork(model_axial, model_coronal, model_sagittal, num_classes=11).to(device)\n",
    "\n",
    "loss_function = torch.nn.CrossEntropyLoss()\n",
    "optimizer = torch.optim.Adam(hypernetwork.fc.parameters(), lr=0.00005)"
   ]
  },
  {
   "cell_type": "code",
   "execution_count": 88,
   "metadata": {},
   "outputs": [
    {
     "name": "stderr",
     "output_type": "stream",
     "text": [
      "Epochs:   3%|▎         | 1/30 [00:01<00:54,  1.87s/it]"
     ]
    },
    {
     "name": "stdout",
     "output_type": "stream",
     "text": [
      "Epoch 1, Loss: 2.302512691866967\n"
     ]
    },
    {
     "name": "stderr",
     "output_type": "stream",
     "text": [
      "Epochs:   7%|▋         | 2/30 [00:03<00:52,  1.87s/it]"
     ]
    },
    {
     "name": "stdout",
     "output_type": "stream",
     "text": [
      "Epoch 2, Loss: 2.022342512684484\n"
     ]
    },
    {
     "name": "stderr",
     "output_type": "stream",
     "text": [
      "Epochs:  10%|█         | 3/30 [00:05<00:50,  1.87s/it]"
     ]
    },
    {
     "name": "stdout",
     "output_type": "stream",
     "text": [
      "Epoch 3, Loss: 1.7834560755760438\n"
     ]
    },
    {
     "name": "stderr",
     "output_type": "stream",
     "text": [
      "Epochs:  13%|█▎        | 4/30 [00:07<00:48,  1.87s/it]"
     ]
    },
    {
     "name": "stdout",
     "output_type": "stream",
     "text": [
      "Epoch 4, Loss: 1.581845921854819\n"
     ]
    },
    {
     "name": "stderr",
     "output_type": "stream",
     "text": [
      "Epochs:  17%|█▋        | 5/30 [00:09<00:46,  1.87s/it]"
     ]
    },
    {
     "name": "stdout",
     "output_type": "stream",
     "text": [
      "Epoch 5, Loss: 1.3964135762183898\n"
     ]
    },
    {
     "name": "stderr",
     "output_type": "stream",
     "text": [
      "Epochs:  20%|██        | 6/30 [00:11<00:44,  1.87s/it]"
     ]
    },
    {
     "name": "stdout",
     "output_type": "stream",
     "text": [
      "Epoch 6, Loss: 1.2340184642422585\n"
     ]
    },
    {
     "name": "stderr",
     "output_type": "stream",
     "text": [
      "Epochs:  23%|██▎       | 7/30 [00:13<00:43,  1.87s/it]"
     ]
    },
    {
     "name": "stdout",
     "output_type": "stream",
     "text": [
      "Epoch 7, Loss: 1.0929150312177596\n"
     ]
    },
    {
     "name": "stderr",
     "output_type": "stream",
     "text": [
      "Epochs:  27%|██▋       | 8/30 [00:14<00:41,  1.87s/it]"
     ]
    },
    {
     "name": "stdout",
     "output_type": "stream",
     "text": [
      "Epoch 8, Loss: 0.9831543141795743\n"
     ]
    },
    {
     "name": "stderr",
     "output_type": "stream",
     "text": [
      "Epochs:  30%|███       | 9/30 [00:16<00:39,  1.87s/it]"
     ]
    },
    {
     "name": "stdout",
     "output_type": "stream",
     "text": [
      "Epoch 9, Loss: 0.882766185268279\n"
     ]
    },
    {
     "name": "stderr",
     "output_type": "stream",
     "text": [
      "Epochs:  33%|███▎      | 10/30 [00:18<00:37,  1.87s/it]"
     ]
    },
    {
     "name": "stdout",
     "output_type": "stream",
     "text": [
      "Epoch 10, Loss: 0.7968504890318839\n"
     ]
    },
    {
     "name": "stderr",
     "output_type": "stream",
     "text": [
      "Epochs:  37%|███▋      | 11/30 [00:20<00:35,  1.87s/it]"
     ]
    },
    {
     "name": "stdout",
     "output_type": "stream",
     "text": [
      "Epoch 11, Loss: 0.7272400529153885\n"
     ]
    },
    {
     "name": "stderr",
     "output_type": "stream",
     "text": [
      "Epochs:  40%|████      | 12/30 [00:22<00:33,  1.87s/it]"
     ]
    },
    {
     "name": "stdout",
     "output_type": "stream",
     "text": [
      "Epoch 12, Loss: 0.6669195121334445\n"
     ]
    },
    {
     "name": "stderr",
     "output_type": "stream",
     "text": [
      "Epochs:  43%|████▎     | 13/30 [00:24<00:31,  1.87s/it]"
     ]
    },
    {
     "name": "stdout",
     "output_type": "stream",
     "text": [
      "Epoch 13, Loss: 0.6075377964204357\n"
     ]
    },
    {
     "name": "stderr",
     "output_type": "stream",
     "text": [
      "Epochs:  47%|████▋     | 14/30 [00:26<00:29,  1.87s/it]"
     ]
    },
    {
     "name": "stdout",
     "output_type": "stream",
     "text": [
      "Epoch 14, Loss: 0.5686536690881175\n"
     ]
    },
    {
     "name": "stderr",
     "output_type": "stream",
     "text": [
      "Epochs:  50%|█████     | 15/30 [00:28<00:28,  1.87s/it]"
     ]
    },
    {
     "name": "stdout",
     "output_type": "stream",
     "text": [
      "Epoch 15, Loss: 0.5105906359611019\n"
     ]
    },
    {
     "name": "stderr",
     "output_type": "stream",
     "text": [
      "Epochs:  53%|█████▎    | 16/30 [00:29<00:26,  1.87s/it]"
     ]
    },
    {
     "name": "stdout",
     "output_type": "stream",
     "text": [
      "Epoch 16, Loss: 0.48668938106106174\n"
     ]
    },
    {
     "name": "stderr",
     "output_type": "stream",
     "text": [
      "Epochs:  57%|█████▋    | 17/30 [00:31<00:24,  1.87s/it]"
     ]
    },
    {
     "name": "stdout",
     "output_type": "stream",
     "text": [
      "Epoch 17, Loss: 0.4470180869102478\n"
     ]
    },
    {
     "name": "stderr",
     "output_type": "stream",
     "text": [
      "Epochs:  60%|██████    | 18/30 [00:33<00:22,  1.87s/it]"
     ]
    },
    {
     "name": "stdout",
     "output_type": "stream",
     "text": [
      "Epoch 18, Loss: 0.43006606832627325\n"
     ]
    },
    {
     "name": "stderr",
     "output_type": "stream",
     "text": [
      "Epochs:  63%|██████▎   | 19/30 [00:35<00:20,  1.87s/it]"
     ]
    },
    {
     "name": "stdout",
     "output_type": "stream",
     "text": [
      "Epoch 19, Loss: 0.4007972142388744\n"
     ]
    },
    {
     "name": "stderr",
     "output_type": "stream",
     "text": [
      "Epochs:  67%|██████▋   | 20/30 [00:37<00:18,  1.87s/it]"
     ]
    },
    {
     "name": "stdout",
     "output_type": "stream",
     "text": [
      "Epoch 20, Loss: 0.3746545680107609\n"
     ]
    },
    {
     "name": "stderr",
     "output_type": "stream",
     "text": [
      "Epochs:  70%|███████   | 21/30 [00:39<00:16,  1.87s/it]"
     ]
    },
    {
     "name": "stdout",
     "output_type": "stream",
     "text": [
      "Epoch 21, Loss: 0.3578737108938156\n"
     ]
    },
    {
     "name": "stderr",
     "output_type": "stream",
     "text": [
      "Epochs:  73%|███████▎  | 22/30 [00:41<00:14,  1.87s/it]"
     ]
    },
    {
     "name": "stdout",
     "output_type": "stream",
     "text": [
      "Epoch 22, Loss: 0.33222713874232385\n"
     ]
    },
    {
     "name": "stderr",
     "output_type": "stream",
     "text": [
      "Epochs:  77%|███████▋  | 23/30 [00:43<00:13,  1.87s/it]"
     ]
    },
    {
     "name": "stdout",
     "output_type": "stream",
     "text": [
      "Epoch 23, Loss: 0.3274696954796391\n"
     ]
    },
    {
     "name": "stderr",
     "output_type": "stream",
     "text": [
      "Epochs:  80%|████████  | 24/30 [00:44<00:11,  1.87s/it]"
     ]
    },
    {
     "name": "stdout",
     "output_type": "stream",
     "text": [
      "Epoch 24, Loss: 0.2898466053508943\n"
     ]
    },
    {
     "name": "stderr",
     "output_type": "stream",
     "text": [
      "Epochs:  83%|████████▎ | 25/30 [00:46<00:09,  1.87s/it]"
     ]
    },
    {
     "name": "stdout",
     "output_type": "stream",
     "text": [
      "Epoch 25, Loss: 0.2877325194497262\n"
     ]
    },
    {
     "name": "stderr",
     "output_type": "stream",
     "text": [
      "Epochs:  87%|████████▋ | 26/30 [00:48<00:07,  1.87s/it]"
     ]
    },
    {
     "name": "stdout",
     "output_type": "stream",
     "text": [
      "Epoch 26, Loss: 0.2739486732790547\n"
     ]
    },
    {
     "name": "stderr",
     "output_type": "stream",
     "text": [
      "Epochs:  90%|█████████ | 27/30 [00:50<00:05,  1.87s/it]"
     ]
    },
    {
     "name": "stdout",
     "output_type": "stream",
     "text": [
      "Epoch 27, Loss: 0.2697911555728605\n"
     ]
    },
    {
     "name": "stderr",
     "output_type": "stream",
     "text": [
      "Epochs:  93%|█████████▎| 28/30 [00:52<00:03,  1.87s/it]"
     ]
    },
    {
     "name": "stdout",
     "output_type": "stream",
     "text": [
      "Epoch 28, Loss: 0.2561555274071232\n"
     ]
    },
    {
     "name": "stderr",
     "output_type": "stream",
     "text": [
      "Epochs:  97%|█████████▋| 29/30 [00:54<00:01,  1.87s/it]"
     ]
    },
    {
     "name": "stdout",
     "output_type": "stream",
     "text": [
      "Epoch 29, Loss: 0.23541015723059255\n"
     ]
    },
    {
     "name": "stderr",
     "output_type": "stream",
     "text": [
      "Epochs: 100%|██████████| 30/30 [00:56<00:00,  1.87s/it]"
     ]
    },
    {
     "name": "stdout",
     "output_type": "stream",
     "text": [
      "Epoch 30, Loss: 0.2336195409297943\n"
     ]
    },
    {
     "name": "stderr",
     "output_type": "stream",
     "text": [
      "\n"
     ]
    }
   ],
   "source": [
    "start_time = time.time()\n",
    "process = psutil.Process()\n",
    "start_cpu = process.cpu_times()\n",
    "start_mem = process.memory_info().rss / 1024**2  # В MB\n",
    "\n",
    "if device.type == \"cuda\":\n",
    "    torch.cuda.synchronize()\n",
    "    torch.cuda.reset_peak_memory_stats()\n",
    "\n",
    "for epoch in tqdm(range(30), desc=\"Epochs\"):\n",
    "    hypernetwork.train()\n",
    "    running_loss = 0.0\n",
    "    for data in train_loader_3d:\n",
    "        images, labels = data\n",
    "        images, labels = images, labels.type(torch.LongTensor)\n",
    "\n",
    "        optimizer.zero_grad()\n",
    "\n",
    "        outputs = hypernetwork(images.to(torch.float32).to(device))\n",
    "        loss = loss_function(outputs, labels[:, 0].to(device))\n",
    "\n",
    "        loss.backward()\n",
    "        optimizer.step()\n",
    "\n",
    "        running_loss += loss.item()\n",
    "\n",
    "    print(f\"Epoch {epoch+1}, Loss: {running_loss/len(train_loader_3d)}\")"
   ]
  },
  {
   "cell_type": "code",
   "execution_count": 89,
   "metadata": {},
   "outputs": [
    {
     "name": "stdout",
     "output_type": "stream",
     "text": [
      "Training time: 56.17 seconds\n",
      "CPU time used: 673.18 seconds\n",
      "Memory used: 33.42 MB\n",
      "GPU Memory Used: 382.77 MB\n",
      "Max GPU Memory Used: 1082.58 MB\n"
     ]
    }
   ],
   "source": [
    "end_time = time.time()\n",
    "end_cpu = process.cpu_times()\n",
    "end_mem = process.memory_info().rss / 1024**2\n",
    "\n",
    "cpu_time = (end_cpu.user + end_cpu.system) - (start_cpu.user + start_cpu.system)\n",
    "memory_used = end_mem - start_mem\n",
    "\n",
    "print(f\"Training time: {end_time - start_time:.2f} seconds\")\n",
    "print(f\"CPU time used: {cpu_time:.2f} seconds\")\n",
    "print(f\"Memory used: {memory_used:.2f} MB\")\n",
    "\n",
    "if device.type == \"cuda\":\n",
    "    torch.cuda.synchronize()\n",
    "    print(f\"GPU Memory Used: {torch.cuda.memory_allocated() / 1024**2:.2f} MB\")\n",
    "    print(f\"Max GPU Memory Used: {torch.cuda.max_memory_allocated() / 1024**2:.2f} MB\")\n"
   ]
  },
  {
   "cell_type": "code",
   "execution_count": 90,
   "metadata": {},
   "outputs": [
    {
     "name": "stdout",
     "output_type": "stream",
     "text": [
      "VRAM currently used: 382.77 MB\n",
      "Max VRAM used during training: 1082.58 MB\n"
     ]
    }
   ],
   "source": [
    "if device.type == \"cuda\":\n",
    "    torch.cuda.synchronize()\n",
    "    vram_used = torch.cuda.memory_allocated() / 1024**2\n",
    "    vram_max_used = torch.cuda.max_memory_allocated() / 1024**2\n",
    "\n",
    "    print(f\"VRAM currently used: {vram_used:.2f} MB\")\n",
    "    print(f\"Max VRAM used during training: {vram_max_used:.2f} MB\")\n"
   ]
  },
  {
   "cell_type": "code",
   "execution_count": 91,
   "metadata": {},
   "outputs": [
    {
     "name": "stdout",
     "output_type": "stream",
     "text": [
      "Validation AUC: 1.0000\n"
     ]
    }
   ],
   "source": [
    "hypernetwork.eval()\n",
    "with torch.no_grad():\n",
    "    y_pred = torch.tensor([], dtype=torch.float32, device=device)\n",
    "    y = torch.tensor([], dtype=torch.long, device=device)\n",
    "    for val_data in val_loader_3d:\n",
    "        val_images, val_labels = val_data\n",
    "\n",
    "        output = hypernetwork(val_images.to(torch.float32).to(device))\n",
    "        \n",
    "        y_pred = torch.cat([y_pred, output], dim=0)\n",
    "        y = torch.cat([y, val_labels.to(device)], dim=0)\n",
    "\n",
    "    # Evaluate AUC and accuracy\n",
    "    y_onehot = [y_trans(i) for i in decollate_batch(y, detach=False)]\n",
    "    y_pred_act = [y_pred_trans(i) for i in decollate_batch(y_pred)]\n",
    "    auc_metric = ROCAUCMetric()\n",
    "    auc_metric(y_pred_act, y_onehot)\n",
    "    result = auc_metric.aggregate()\n",
    "    auc_metric.reset()\n",
    "\n",
    "    print(f\"Validation AUC: {result:.4f}\")"
   ]
  },
  {
   "cell_type": "code",
   "execution_count": 92,
   "metadata": {},
   "outputs": [
    {
     "name": "stdout",
     "output_type": "stream",
     "text": [
      "Test AUC: 0.9915\n"
     ]
    }
   ],
   "source": [
    "hypernetwork.eval()\n",
    "y_true = []\n",
    "y_predicted = []\n",
    "example_image = []\n",
    "example_preds = []\n",
    "example_labels = []\n",
    "\n",
    "with torch.no_grad():\n",
    "    y_pred = torch.tensor([], dtype=torch.float32, device=device)\n",
    "    y = torch.tensor([], dtype=torch.long, device=device)\n",
    "    for test_data in test_loader_3d:\n",
    "        test_images, test_labels = test_data\n",
    "\n",
    "        output = hypernetwork(test_images.to(device))\n",
    "        pred = output.argmax(dim=1)\n",
    "        \n",
    "        for i in range(len(pred)):\n",
    "            y_true.append(test_labels[i].item())\n",
    "            y_predicted.append(pred[i].item())\n",
    "\n",
    "        y_pred = torch.cat([y_pred, output], dim=0)\n",
    "        y = torch.cat([y, test_labels.to(device)], dim=0)\n",
    "\n",
    "    # Evaluate AUC and accuracy\n",
    "    y_onehot = [y_trans(i) for i in decollate_batch(y, detach=False)]\n",
    "    y_pred_act = [y_pred_trans(i) for i in decollate_batch(y_pred)]\n",
    "    auc_metric(y_pred_act, y_onehot)\n",
    "    result = auc_metric.aggregate()\n",
    "    auc_metric.reset()\n",
    "\n",
    "    print(f\"Test AUC: {result:.4f}\")"
   ]
  },
  {
   "cell_type": "code",
   "execution_count": 93,
   "metadata": {
    "scrolled": true
   },
   "outputs": [
    {
     "name": "stdout",
     "output_type": "stream",
     "text": [
      "              precision    recall  f1-score   support\n",
      "\n",
      "           0     0.9855    0.9855    0.9855        69\n",
      "           1     0.8793    0.7500    0.8095        68\n",
      "           2     0.7429    0.7536    0.7482        69\n",
      "           3     0.8636    0.8769    0.8702        65\n",
      "           4     0.9286    0.8000    0.8595        65\n",
      "           5     0.6860    0.8939    0.7763        66\n",
      "           6     1.0000    0.8571    0.9231        28\n",
      "           7     0.9545    1.0000    0.9767        21\n",
      "           8     1.0000    1.0000    1.0000        21\n",
      "           9     0.9062    0.8406    0.8722        69\n",
      "          10     0.9054    0.9710    0.9371        69\n",
      "\n",
      "    accuracy                         0.8689       610\n",
      "   macro avg     0.8956    0.8844    0.8871       610\n",
      "weighted avg     0.8768    0.8689    0.8697       610\n",
      "\n"
     ]
    }
   ],
   "source": [
    "report = classification_report(y_true, y_predicted, target_names=info['label'], digits=4, output_dict = True)\n",
    "report.update({\"AUC\": f\"{result:.4f}\"})\n",
    "print(classification_report(y_true, y_predicted, target_names=info['label'], digits=4))"
   ]
  },
  {
   "cell_type": "code",
   "execution_count": 41,
   "metadata": {},
   "outputs": [],
   "source": [
    "df = pd.DataFrame(report).transpose()\n",
    "df.to_csv(f'weighted_unpretrained_full_seed{seed}.csv')"
   ]
  },
  {
   "cell_type": "code",
   "execution_count": 94,
   "metadata": {},
   "outputs": [
    {
     "name": "stdout",
     "output_type": "stream",
     "text": [
      "VRAM currently used: 382.77 MB\n",
      "Max VRAM used during training: 1082.58 MB\n"
     ]
    }
   ],
   "source": [
    "if device.type == \"cuda\":\n",
    "    torch.cuda.synchronize()\n",
    "    vram_used = torch.cuda.memory_allocated() / 1024**2\n",
    "    vram_max_used = torch.cuda.max_memory_allocated() / 1024**2\n",
    "\n",
    "    print(f\"VRAM currently used: {vram_used:.2f} MB\")\n",
    "    print(f\"Max VRAM used during training: {vram_max_used:.2f} MB\")\n"
   ]
  },
  {
   "cell_type": "markdown",
   "metadata": {},
   "source": [
    "### Pretrained"
   ]
  },
  {
   "cell_type": "code",
   "execution_count": 82,
   "metadata": {},
   "outputs": [
    {
     "data": {
      "text/plain": [
       "<All keys matched successfully>"
      ]
     },
     "execution_count": 82,
     "metadata": {},
     "output_type": "execute_result"
    }
   ],
   "source": [
    "model = models.resnet18(pretrained=True).to(device)\n",
    "model.conv1 = nn.Conv2d(64, 64, kernel_size=7, stride=2, padding=3, bias=False)\n",
    "model.fc = nn.Linear(model.fc.in_features, n_classes)\n",
    "model_axial = model.to(device)\n",
    "model_coronal = model.to(device)\n",
    "model_sagittal = model.to(device)\n",
    "\n",
    "model_axial.load_state_dict(torch.load(os.path.join(root_dir, \"axial_full_pretrained.pth\"), weights_only=True))\n",
    "model_coronal.load_state_dict(torch.load(os.path.join(root_dir, \"coronal_full_pretrained.pth\"), weights_only=True))\n",
    "model_sagittal.load_state_dict(torch.load(os.path.join(root_dir, \"sagittal_full_pretrained.pth\"), weights_only=True))"
   ]
  },
  {
   "cell_type": "code",
   "execution_count": 83,
   "metadata": {},
   "outputs": [],
   "source": [
    "# Initialize the hypernetwork\n",
    "hypernetwork = HyperNetwork(model_axial, model_coronal, model_sagittal, num_classes=11).to(device)\n",
    "\n",
    "loss_function = torch.nn.CrossEntropyLoss()\n",
    "optimizer = torch.optim.Adam(hypernetwork.fc.parameters(), lr=0.00005)"
   ]
  },
  {
   "cell_type": "code",
   "execution_count": 84,
   "metadata": {},
   "outputs": [
    {
     "name": "stderr",
     "output_type": "stream",
     "text": [
      "Epochs:   3%|▎         | 1/30 [00:01<00:40,  1.38s/it]"
     ]
    },
    {
     "name": "stdout",
     "output_type": "stream",
     "text": [
      "Epoch 1, Loss: 2.2869581560934744\n"
     ]
    },
    {
     "name": "stderr",
     "output_type": "stream",
     "text": [
      "Epochs:   7%|▋         | 2/30 [00:02<00:38,  1.38s/it]"
     ]
    },
    {
     "name": "stdout",
     "output_type": "stream",
     "text": [
      "Epoch 2, Loss: 1.9932609219704904\n"
     ]
    },
    {
     "name": "stderr",
     "output_type": "stream",
     "text": [
      "Epochs:  10%|█         | 3/30 [00:04<00:37,  1.38s/it]"
     ]
    },
    {
     "name": "stdout",
     "output_type": "stream",
     "text": [
      "Epoch 3, Loss: 1.7728565585228704\n"
     ]
    },
    {
     "name": "stderr",
     "output_type": "stream",
     "text": [
      "Epochs:  13%|█▎        | 4/30 [00:05<00:36,  1.39s/it]"
     ]
    },
    {
     "name": "stdout",
     "output_type": "stream",
     "text": [
      "Epoch 4, Loss: 1.569939944051927\n"
     ]
    },
    {
     "name": "stderr",
     "output_type": "stream",
     "text": [
      "Epochs:  17%|█▋        | 5/30 [00:06<00:34,  1.39s/it]"
     ]
    },
    {
     "name": "stdout",
     "output_type": "stream",
     "text": [
      "Epoch 5, Loss: 1.421576407647902\n"
     ]
    },
    {
     "name": "stderr",
     "output_type": "stream",
     "text": [
      "Epochs:  20%|██        | 6/30 [00:08<00:33,  1.39s/it]"
     ]
    },
    {
     "name": "stdout",
     "output_type": "stream",
     "text": [
      "Epoch 6, Loss: 1.266111220082929\n"
     ]
    },
    {
     "name": "stderr",
     "output_type": "stream",
     "text": [
      "Epochs:  23%|██▎       | 7/30 [00:09<00:31,  1.39s/it]"
     ]
    },
    {
     "name": "stdout",
     "output_type": "stream",
     "text": [
      "Epoch 7, Loss: 1.1549558947163243\n"
     ]
    },
    {
     "name": "stderr",
     "output_type": "stream",
     "text": [
      "Epochs:  27%|██▋       | 8/30 [00:11<00:30,  1.39s/it]"
     ]
    },
    {
     "name": "stdout",
     "output_type": "stream",
     "text": [
      "Epoch 8, Loss: 1.0666554474061536\n"
     ]
    },
    {
     "name": "stderr",
     "output_type": "stream",
     "text": [
      "Epochs:  30%|███       | 9/30 [00:12<00:29,  1.39s/it]"
     ]
    },
    {
     "name": "stdout",
     "output_type": "stream",
     "text": [
      "Epoch 9, Loss: 0.9807772078821736\n"
     ]
    },
    {
     "name": "stderr",
     "output_type": "stream",
     "text": [
      "Epochs:  33%|███▎      | 10/30 [00:13<00:27,  1.39s/it]"
     ]
    },
    {
     "name": "stdout",
     "output_type": "stream",
     "text": [
      "Epoch 10, Loss: 0.9107878496569972\n"
     ]
    },
    {
     "name": "stderr",
     "output_type": "stream",
     "text": [
      "Epochs:  37%|███▋      | 11/30 [00:15<00:26,  1.39s/it]"
     ]
    },
    {
     "name": "stdout",
     "output_type": "stream",
     "text": [
      "Epoch 11, Loss: 0.8534549359352358\n"
     ]
    },
    {
     "name": "stderr",
     "output_type": "stream",
     "text": [
      "Epochs:  40%|████      | 12/30 [00:16<00:25,  1.39s/it]"
     ]
    },
    {
     "name": "stdout",
     "output_type": "stream",
     "text": [
      "Epoch 12, Loss: 0.8095048896728023\n"
     ]
    },
    {
     "name": "stderr",
     "output_type": "stream",
     "text": [
      "Epochs:  43%|████▎     | 13/30 [00:18<00:23,  1.39s/it]"
     ]
    },
    {
     "name": "stdout",
     "output_type": "stream",
     "text": [
      "Epoch 13, Loss: 0.7628990738622604\n"
     ]
    },
    {
     "name": "stderr",
     "output_type": "stream",
     "text": [
      "Epochs:  47%|████▋     | 14/30 [00:19<00:22,  1.39s/it]"
     ]
    },
    {
     "name": "stdout",
     "output_type": "stream",
     "text": [
      "Epoch 14, Loss: 0.7256015904488102\n"
     ]
    },
    {
     "name": "stderr",
     "output_type": "stream",
     "text": [
      "Epochs:  50%|█████     | 15/30 [00:20<00:20,  1.39s/it]"
     ]
    },
    {
     "name": "stdout",
     "output_type": "stream",
     "text": [
      "Epoch 15, Loss: 0.6949542049438723\n"
     ]
    },
    {
     "name": "stderr",
     "output_type": "stream",
     "text": [
      "Epochs:  53%|█████▎    | 16/30 [00:22<00:19,  1.39s/it]"
     ]
    },
    {
     "name": "stdout",
     "output_type": "stream",
     "text": [
      "Epoch 16, Loss: 0.6627045321849084\n"
     ]
    },
    {
     "name": "stderr",
     "output_type": "stream",
     "text": [
      "Epochs:  57%|█████▋    | 17/30 [00:23<00:18,  1.39s/it]"
     ]
    },
    {
     "name": "stdout",
     "output_type": "stream",
     "text": [
      "Epoch 17, Loss: 0.6354636175017203\n"
     ]
    },
    {
     "name": "stderr",
     "output_type": "stream",
     "text": [
      "Epochs:  60%|██████    | 18/30 [00:25<00:16,  1.40s/it]"
     ]
    },
    {
     "name": "stdout",
     "output_type": "stream",
     "text": [
      "Epoch 18, Loss: 0.6239103040387554\n"
     ]
    },
    {
     "name": "stderr",
     "output_type": "stream",
     "text": [
      "Epochs:  63%|██████▎   | 19/30 [00:26<00:15,  1.40s/it]"
     ]
    },
    {
     "name": "stdout",
     "output_type": "stream",
     "text": [
      "Epoch 19, Loss: 0.5988518970627938\n"
     ]
    },
    {
     "name": "stderr",
     "output_type": "stream",
     "text": [
      "Epochs:  67%|██████▋   | 20/30 [00:27<00:13,  1.39s/it]"
     ]
    },
    {
     "name": "stdout",
     "output_type": "stream",
     "text": [
      "Epoch 20, Loss: 0.5625177016181331\n"
     ]
    },
    {
     "name": "stderr",
     "output_type": "stream",
     "text": [
      "Epochs:  70%|███████   | 21/30 [00:29<00:12,  1.39s/it]"
     ]
    },
    {
     "name": "stdout",
     "output_type": "stream",
     "text": [
      "Epoch 21, Loss: 0.5448219910744698\n"
     ]
    },
    {
     "name": "stderr",
     "output_type": "stream",
     "text": [
      "Epochs:  73%|███████▎  | 22/30 [00:30<00:11,  1.39s/it]"
     ]
    },
    {
     "name": "stdout",
     "output_type": "stream",
     "text": [
      "Epoch 22, Loss: 0.521432493002184\n"
     ]
    },
    {
     "name": "stderr",
     "output_type": "stream",
     "text": [
      "Epochs:  77%|███████▋  | 23/30 [00:32<00:09,  1.40s/it]"
     ]
    },
    {
     "name": "stdout",
     "output_type": "stream",
     "text": [
      "Epoch 23, Loss: 0.5192329018346725\n"
     ]
    },
    {
     "name": "stderr",
     "output_type": "stream",
     "text": [
      "Epochs:  80%|████████  | 24/30 [00:33<00:08,  1.40s/it]"
     ]
    },
    {
     "name": "stdout",
     "output_type": "stream",
     "text": [
      "Epoch 24, Loss: 0.48214767632945893\n"
     ]
    },
    {
     "name": "stderr",
     "output_type": "stream",
     "text": [
      "Epochs:  83%|████████▎ | 25/30 [00:34<00:06,  1.39s/it]"
     ]
    },
    {
     "name": "stdout",
     "output_type": "stream",
     "text": [
      "Epoch 25, Loss: 0.508502536243008\n"
     ]
    },
    {
     "name": "stderr",
     "output_type": "stream",
     "text": [
      "Epochs:  87%|████████▋ | 26/30 [00:36<00:05,  1.39s/it]"
     ]
    },
    {
     "name": "stdout",
     "output_type": "stream",
     "text": [
      "Epoch 26, Loss: 0.4692178532000511\n"
     ]
    },
    {
     "name": "stderr",
     "output_type": "stream",
     "text": [
      "Epochs:  90%|█████████ | 27/30 [00:37<00:04,  1.39s/it]"
     ]
    },
    {
     "name": "stdout",
     "output_type": "stream",
     "text": [
      "Epoch 27, Loss: 0.4621356225782825\n"
     ]
    },
    {
     "name": "stderr",
     "output_type": "stream",
     "text": [
      "Epochs:  93%|█████████▎| 28/30 [00:38<00:02,  1.39s/it]"
     ]
    },
    {
     "name": "stdout",
     "output_type": "stream",
     "text": [
      "Epoch 28, Loss: 0.4504379216701754\n"
     ]
    },
    {
     "name": "stderr",
     "output_type": "stream",
     "text": [
      "Epochs:  97%|█████████▋| 29/30 [00:40<00:01,  1.39s/it]"
     ]
    },
    {
     "name": "stdout",
     "output_type": "stream",
     "text": [
      "Epoch 29, Loss: 0.44349864413661344\n"
     ]
    },
    {
     "name": "stderr",
     "output_type": "stream",
     "text": [
      "Epochs: 100%|██████████| 30/30 [00:41<00:00,  1.39s/it]"
     ]
    },
    {
     "name": "stdout",
     "output_type": "stream",
     "text": [
      "Epoch 30, Loss: 0.41668378537701023\n"
     ]
    },
    {
     "name": "stderr",
     "output_type": "stream",
     "text": [
      "\n"
     ]
    }
   ],
   "source": [
    "# start_time = time.time()\n",
    "# process = psutil.Process()\n",
    "# start_cpu = process.cpu_times()\n",
    "# start_mem = process.memory_info().rss / 1024**2  # В MB\n",
    "\n",
    "# if device.type == \"cuda\":\n",
    "#     torch.cuda.synchronize()\n",
    "#     torch.cuda.reset_peak_memory_stats()\n",
    "\n",
    "for epoch in tqdm(range(30), desc=\"Epochs\"):\n",
    "    hypernetwork.train()\n",
    "    running_loss = 0.0\n",
    "    for data in train_loader_3d:\n",
    "        images, labels = data\n",
    "        images, labels = images, labels.type(torch.LongTensor)\n",
    "\n",
    "        optimizer.zero_grad()\n",
    "\n",
    "        outputs = hypernetwork(images.to(torch.float32).to(device))\n",
    "        loss = loss_function(outputs, labels[:, 0].to(device))\n",
    "\n",
    "        loss.backward()\n",
    "        optimizer.step()\n",
    "\n",
    "        running_loss += loss.item()\n",
    "\n",
    "    print(f\"Epoch {epoch+1}, Loss: {running_loss/len(train_loader_3d)}\")"
   ]
  },
  {
   "cell_type": "code",
   "execution_count": 85,
   "metadata": {},
   "outputs": [
    {
     "name": "stdout",
     "output_type": "stream",
     "text": [
      "Training time: 2075.39 seconds\n",
      "CPU time used: 24865.72 seconds\n",
      "Memory used: -188.41 MB\n",
      "GPU Memory Used: 203.92 MB\n",
      "Max GPU Memory Used: 475.12 MB\n"
     ]
    }
   ],
   "source": [
    "end_time = time.time()\n",
    "end_cpu = process.cpu_times()\n",
    "end_mem = process.memory_info().rss / 1024**2\n",
    "\n",
    "cpu_time = (end_cpu.user + end_cpu.system) - (start_cpu.user + start_cpu.system)\n",
    "memory_used = end_mem - start_mem\n",
    "\n",
    "print(f\"Training time: {end_time - start_time:.2f} seconds\")\n",
    "print(f\"CPU time used: {cpu_time:.2f} seconds\")\n",
    "print(f\"Memory used: {memory_used:.2f} MB\")\n",
    "\n",
    "if device.type == \"cuda\":\n",
    "    torch.cuda.synchronize()\n",
    "    print(f\"GPU Memory Used: {torch.cuda.memory_allocated() / 1024**2:.2f} MB\")\n",
    "    print(f\"Max GPU Memory Used: {torch.cuda.max_memory_allocated() / 1024**2:.2f} MB\")\n"
   ]
  },
  {
   "cell_type": "code",
   "execution_count": 86,
   "metadata": {},
   "outputs": [
    {
     "name": "stdout",
     "output_type": "stream",
     "text": [
      "VRAM currently used: 203.92 MB\n",
      "Max VRAM used during training: 475.12 MB\n"
     ]
    }
   ],
   "source": [
    "if device.type == \"cuda\":\n",
    "    torch.cuda.synchronize()\n",
    "    vram_used = torch.cuda.memory_allocated() / 1024**2\n",
    "    vram_max_used = torch.cuda.max_memory_allocated() / 1024**2\n",
    "\n",
    "    print(f\"VRAM currently used: {vram_used:.2f} MB\")\n",
    "    print(f\"Max VRAM used during training: {vram_max_used:.2f} MB\")\n"
   ]
  },
  {
   "cell_type": "code",
   "execution_count": 100,
   "metadata": {},
   "outputs": [
    {
     "name": "stdout",
     "output_type": "stream",
     "text": [
      "Validation AUC: 0.9991\n"
     ]
    }
   ],
   "source": [
    "hypernetwork.eval()\n",
    "with torch.no_grad():\n",
    "    y_pred = torch.tensor([], dtype=torch.float32, device=device)\n",
    "    y = torch.tensor([], dtype=torch.long, device=device)\n",
    "    for val_data in val_loader_3d:\n",
    "        val_images, val_labels = val_data\n",
    "\n",
    "        output = hypernetwork(val_images.to(torch.float32).to(device))\n",
    "        \n",
    "        y_pred = torch.cat([y_pred, output], dim=0)\n",
    "        y = torch.cat([y, val_labels.to(device)], dim=0)\n",
    "\n",
    "    # Evaluate AUC and accuracy\n",
    "    y_onehot = [y_trans(i) for i in decollate_batch(y, detach=False)]\n",
    "    y_pred_act = [y_pred_trans(i) for i in decollate_batch(y_pred)]\n",
    "    auc_metric(y_pred_act, y_onehot)\n",
    "    result = auc_metric.aggregate()\n",
    "    auc_metric.reset()\n",
    "\n",
    "    print(f\"Validation AUC: {result:.4f}\")"
   ]
  },
  {
   "cell_type": "code",
   "execution_count": 101,
   "metadata": {},
   "outputs": [
    {
     "name": "stdout",
     "output_type": "stream",
     "text": [
      "Validation AUC: 0.9841\n"
     ]
    }
   ],
   "source": [
    "hypernetwork.eval()\n",
    "y_true = []\n",
    "y_predicted = []\n",
    "example_image = []\n",
    "example_preds = []\n",
    "example_labels = []\n",
    "\n",
    "with torch.no_grad():\n",
    "    y_pred = torch.tensor([], dtype=torch.float32, device=device)\n",
    "    y = torch.tensor([], dtype=torch.long, device=device)\n",
    "    for test_data in test_loader_3d:\n",
    "        test_images, test_labels = test_data\n",
    "\n",
    "        output = hypernetwork(test_images.to(device))\n",
    "        pred = output.argmax(dim=1)\n",
    "        \n",
    "        for i in range(len(pred)):\n",
    "            y_true.append(test_labels[i].item())\n",
    "            y_predicted.append(pred[i].item())\n",
    "\n",
    "        y_pred = torch.cat([y_pred, output], dim=0)\n",
    "        y = torch.cat([y, test_labels.to(device)], dim=0)\n",
    "\n",
    "    # Evaluate AUC and accuracy\n",
    "    y_onehot = [y_trans(i) for i in decollate_batch(y, detach=False)]\n",
    "    y_pred_act = [y_pred_trans(i) for i in decollate_batch(y_pred)]\n",
    "    auc_metric(y_pred_act, y_onehot)\n",
    "    result = auc_metric.aggregate()\n",
    "    auc_metric.reset()\n",
    "\n",
    "    print(f\"Validation AUC: {result:.4f}\")"
   ]
  },
  {
   "cell_type": "code",
   "execution_count": 102,
   "metadata": {},
   "outputs": [
    {
     "name": "stdout",
     "output_type": "stream",
     "text": [
      "              precision    recall  f1-score   support\n",
      "\n",
      "           0     0.8961    1.0000    0.9452        69\n",
      "           1     0.7143    0.7353    0.7246        68\n",
      "           2     0.8269    0.6232    0.7107        69\n",
      "           3     0.7391    0.7846    0.7612        65\n",
      "           4     0.7794    0.8154    0.7970        65\n",
      "           5     0.8507    0.8636    0.8571        66\n",
      "           6     1.0000    0.9286    0.9630        28\n",
      "           7     1.0000    0.9048    0.9500        21\n",
      "           8     0.9500    0.9048    0.9268        21\n",
      "           9     0.8889    0.8116    0.8485        69\n",
      "          10     0.8481    0.9710    0.9054        69\n",
      "\n",
      "    accuracy                         0.8361       610\n",
      "   macro avg     0.8631    0.8493    0.8536       610\n",
      "weighted avg     0.8379    0.8361    0.8341       610\n",
      "\n"
     ]
    }
   ],
   "source": [
    "report = classification_report(y_true, y_predicted, target_names=info['label'], digits=4, output_dict = True)\n",
    "report.update({\"AUC\": f\"{result:.4f}\"})\n",
    "print(classification_report(y_true, y_predicted, target_names=info['label'], digits=4))"
   ]
  },
  {
   "cell_type": "code",
   "execution_count": 342,
   "metadata": {},
   "outputs": [],
   "source": [
    "df = pd.DataFrame(report).transpose()\n",
    "df.to_csv(f'weighted_pretrained_full_seed{seed}.csv')"
   ]
  },
  {
   "cell_type": "code",
   "execution_count": 103,
   "metadata": {},
   "outputs": [
    {
     "name": "stdout",
     "output_type": "stream",
     "text": [
      "VRAM currently used: 204.50 MB\n",
      "Max VRAM used during training: 645.53 MB\n"
     ]
    }
   ],
   "source": [
    "if device.type == \"cuda\":\n",
    "    torch.cuda.synchronize()\n",
    "    vram_used = torch.cuda.memory_allocated() / 1024**2\n",
    "    vram_max_used = torch.cuda.max_memory_allocated() / 1024**2\n",
    "\n",
    "    print(f\"VRAM currently used: {vram_used:.2f} MB\")\n",
    "    print(f\"Max VRAM used during training: {vram_max_used:.2f} MB\")\n"
   ]
  },
  {
   "cell_type": "code",
   "execution_count": null,
   "metadata": {},
   "outputs": [],
   "source": []
  }
 ],
 "metadata": {
  "colab": {
   "provenance": []
  },
  "kernelspec": {
   "display_name": "Python 3 (ipykernel)",
   "language": "python",
   "name": "python3"
  },
  "language_info": {
   "codemirror_mode": {
    "name": "ipython",
    "version": 3
   },
   "file_extension": ".py",
   "mimetype": "text/x-python",
   "name": "python",
   "nbconvert_exporter": "python",
   "pygments_lexer": "ipython3",
   "version": "3.10.13"
  }
 },
 "nbformat": 4,
 "nbformat_minor": 4
}
