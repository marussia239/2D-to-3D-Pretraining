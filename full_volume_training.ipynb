{
 "cells": [
  {
   "cell_type": "markdown",
   "metadata": {},
   "source": [
    "# Medical Image Classification"
   ]
  },
  {
   "cell_type": "code",
   "execution_count": 1,
   "metadata": {
    "jupyter": {
     "is_executing": true
    }
   },
   "outputs": [
    {
     "name": "stderr",
     "output_type": "stream",
     "text": [
      "/opt/conda/lib/python3.10/site-packages/tqdm/auto.py:21: TqdmWarning: IProgress not found. Please update jupyter and ipywidgets. See https://ipywidgets.readthedocs.io/en/stable/user_install.html\n",
      "  from .autonotebook import tqdm as notebook_tqdm\n"
     ]
    },
    {
     "name": "stdout",
     "output_type": "stream",
     "text": [
      "MONAI version: 1.4.dev2441\n",
      "Numpy version: 1.26.3\n",
      "Pytorch version: 2.2.1\n",
      "MONAI flags: HAS_EXT = False, USE_COMPILED = False, USE_META_DICT = False\n",
      "MONAI rev id: cf815ed4e44a5b8ce67e894ab0bc2765279a1a59\n",
      "MONAI __file__: /mnt/hdd/<username>/.local/lib/python3.10/site-packages/monai/__init__.py\n",
      "\n",
      "Optional dependencies:\n",
      "Pytorch Ignite version: NOT INSTALLED or UNKNOWN VERSION.\n",
      "ITK version: NOT INSTALLED or UNKNOWN VERSION.\n",
      "Nibabel version: NOT INSTALLED or UNKNOWN VERSION.\n",
      "scikit-image version: 0.25.2\n",
      "scipy version: 1.15.2\n",
      "Pillow version: 10.2.0\n",
      "Tensorboard version: 2.19.0\n",
      "gdown version: NOT INSTALLED or UNKNOWN VERSION.\n",
      "TorchVision version: 0.17.1\n",
      "tqdm version: 4.67.1\n",
      "lmdb version: NOT INSTALLED or UNKNOWN VERSION.\n",
      "psutil version: 5.9.0\n",
      "pandas version: 2.2.3\n",
      "einops version: 0.8.1\n",
      "transformers version: 4.49.0\n",
      "mlflow version: NOT INSTALLED or UNKNOWN VERSION.\n",
      "pynrrd version: NOT INSTALLED or UNKNOWN VERSION.\n",
      "clearml version: NOT INSTALLED or UNKNOWN VERSION.\n",
      "\n",
      "For details about installing the optional dependencies, please visit:\n",
      "    https://docs.monai.io/en/latest/installation.html#installing-the-recommended-dependencies\n",
      "\n"
     ]
    }
   ],
   "source": [
    "from tqdm import tqdm\n",
    "import glob\n",
    "import numpy as np\n",
    "import pandas as pd\n",
    "import os\n",
    "import PIL\n",
    "import time\n",
    "import psutil\n",
    "import shutil\n",
    "import tempfile\n",
    "import matplotlib.pyplot as plt\n",
    "import torch\n",
    "import torch.nn as nn\n",
    "import torch.optim as optim\n",
    "import torch.utils.data as data\n",
    "import torchvision.transforms as transforms\n",
    "import torchvision.models as models\n",
    "from torch.utils.tensorboard import SummaryWriter\n",
    "from sklearn.metrics import classification_report\n",
    "\n",
    "import medmnist\n",
    "from medmnist import INFO, Evaluator\n",
    "\n",
    "from monai.apps import download_and_extract\n",
    "from monai.config import print_config\n",
    "from monai.data import decollate_batch, DataLoader, Dataset\n",
    "from monai.metrics import ROCAUCMetric\n",
    "import monai.networks.nets as nets\n",
    "from monai.transforms import (\n",
    "    Activations,\n",
    "    EnsureChannelFirst,\n",
    "    AsDiscrete,\n",
    "    EnsureChannelFirst,\n",
    "    Compose,\n",
    "    LoadImage,\n",
    "    RandFlip,\n",
    "    RandRotate,\n",
    "    RandZoom,\n",
    "    RandGaussianNoise,\n",
    "    RandAdjustContrast,\n",
    "    ScaleIntensity, \n",
    "    Transform,\n",
    "    ToTensor,\n",
    "    EnsureType,\n",
    ")\n",
    "from monai.utils import set_determinism\n",
    "\n",
    "print_config()"
   ]
  },
  {
   "cell_type": "code",
   "execution_count": 2,
   "metadata": {},
   "outputs": [],
   "source": [
    "seed = 4\n",
    "np.random.seed(seed)"
   ]
  },
  {
   "cell_type": "markdown",
   "metadata": {},
   "source": [
    "## Continue working with OrganMNIST3d 64x64x64"
   ]
  },
  {
   "cell_type": "code",
   "execution_count": 3,
   "metadata": {},
   "outputs": [
    {
     "name": "stdout",
     "output_type": "stream",
     "text": [
      "Using downloaded and verified file: /mnt/hdd/marina/.medmnist/organmnist3d_64.npz\n",
      "Using downloaded and verified file: /mnt/hdd/marina/.medmnist/organmnist3d_64.npz\n",
      "Using downloaded and verified file: /mnt/hdd/marina/.medmnist/organmnist3d_64.npz\n"
     ]
    }
   ],
   "source": [
    "data_flag = 'organmnist3d'\n",
    "download = True\n",
    "\n",
    "NUM_EPOCHS = 20\n",
    "BATCH_SIZE = 8\n",
    "lr = 0.001\n",
    "\n",
    "info = INFO[data_flag]\n",
    "task = info['task']\n",
    "n_channels = info['n_channels']\n",
    "n_classes = len(info['label'])\n",
    "\n",
    "DataClass = getattr(medmnist, info['python_class'])\n",
    "\n",
    "# load the data\n",
    "train_dataset = DataClass(split='train', download=download, size=64)\n",
    "val_dataset = DataClass(split='val', download=download, size=64)\n",
    "test_dataset = DataClass(split='test', download=download, size=64)"
   ]
  },
  {
   "cell_type": "code",
   "execution_count": 4,
   "metadata": {},
   "outputs": [],
   "source": [
    "root_dir = '/mnt/hdd/marina/.medmnist/'\n",
    "reports_dir = 'reports/'"
   ]
  },
  {
   "cell_type": "code",
   "execution_count": 5,
   "metadata": {},
   "outputs": [
    {
     "data": {
      "text/plain": [
       "Dataset OrganMNIST3D of size 64 (organmnist3d_64)\n",
       "    Number of datapoints: 971\n",
       "    Root location: /mnt/hdd/marina/.medmnist\n",
       "    Split: train\n",
       "    Task: multi-class\n",
       "    Number of channels: 1\n",
       "    Meaning of labels: {'0': 'liver', '1': 'kidney-right', '2': 'kidney-left', '3': 'femur-right', '4': 'femur-left', '5': 'bladder', '6': 'heart', '7': 'lung-right', '8': 'lung-left', '9': 'spleen', '10': 'pancreas'}\n",
       "    Number of samples: {'train': 971, 'val': 161, 'test': 610}\n",
       "    Description: The source of the OrganMNIST3D is the same as that of the Organ{A,C,S}MNIST. Instead of 2D images, we directly use the 3D bounding boxes and process the images into 28×28×28 to perform multi-class classification of 11 body organs. The same 115 and 16 CT scans as the Organ{A,C,S}MNIST from the source training set are used as training and validation set, respectively, and the same 70 CT scans as the Organ{A,C,S}MNIST from the source test set are treated as the test set.\n",
       "    License: CC BY 4.0"
      ]
     },
     "execution_count": 5,
     "metadata": {},
     "output_type": "execute_result"
    }
   ],
   "source": [
    "train_dataset"
   ]
  },
  {
   "cell_type": "markdown",
   "metadata": {},
   "source": [
    "## Define transforms"
   ]
  },
  {
   "cell_type": "code",
   "execution_count": 6,
   "metadata": {},
   "outputs": [],
   "source": [
    "train_transforms = Compose(\n",
    "    [\n",
    "        ScaleIntensity(),\n",
    "        RandGaussianNoise(prob=0.5, mean=0.0, std=0.05),\n",
    "        RandAdjustContrast(gamma=(0.7, 1.3), prob=0.5),\n",
    "        RandRotate(range_x=np.pi / 12, prob=0.5, keep_size=True),\n",
    "        RandFlip(spatial_axis=0, prob=0.5),\n",
    "        RandZoom(min_zoom=0.9, max_zoom=1.1, prob=0.5),\n",
    "        ToTensor(),\n",
    "        EnsureType(),\n",
    "    ]\n",
    ")\n",
    "\n",
    "val_transforms = Compose([\n",
    "    ScaleIntensity(),\n",
    "    ToTensor(),\n",
    "    EnsureType(),\n",
    "])\n",
    "\n",
    "test_transforms = Compose([\n",
    "    ScaleIntensity(),\n",
    "    ToTensor(),\n",
    "    EnsureType(),\n",
    "])\n",
    "\n",
    "y_pred_trans = Compose([Activations(softmax=True)])\n",
    "y_trans = Compose([AsDiscrete(to_onehot=n_classes)])"
   ]
  },
  {
   "cell_type": "markdown",
   "metadata": {},
   "source": [
    "## Extract 2d slices"
   ]
  },
  {
   "cell_type": "code",
   "execution_count": 7,
   "metadata": {},
   "outputs": [],
   "source": [
    "class Extract2DSlices(Dataset):\n",
    "    def __init__(self, dataset, transform=None):\n",
    "        self.dataset = dataset\n",
    "        self.transform = transform\n",
    "\n",
    "    def __len__(self):\n",
    "        return len(self.dataset)\n",
    "\n",
    "    def __getitem__(self, idx):\n",
    "        volume, label = self.dataset[idx]\n",
    "        volume = torch.tensor(volume, dtype=torch.float32)\n",
    "\n",
    "        axial, coronal, sagittal = self.extract_2d_slices(volume)\n",
    "\n",
    "        if self.transform:\n",
    "            axial = self.transform(axial)\n",
    "            coronal = self.transform(coronal)\n",
    "            sagittal = self.transform(sagittal)\n",
    "\n",
    "        data = {'axial': axial, 'coronal': coronal, 'sagittal': sagittal}\n",
    "        \n",
    "        return {'images': (data['axial'], data['coronal'], data['sagittal']), 'label': label}\n",
    "\n",
    "    @staticmethod\n",
    "    def extract_2d_slices(volume):\n",
    "        axial = volume.permute(1, 0, 2, 3).flatten(0, 1)\n",
    "        coronal = volume.permute(2, 0, 1, 3).flatten(0, 1)\n",
    "        sagittal = volume.permute(3, 0, 1, 2).flatten(0, 1)\n",
    "\n",
    "        return axial, sagittal, coronal\n"
   ]
  },
  {
   "cell_type": "code",
   "execution_count": 8,
   "metadata": {},
   "outputs": [],
   "source": [
    "train_dataset_ = Extract2DSlices(train_dataset, transform=train_transforms)\n",
    "val_dataset_ = Extract2DSlices(val_dataset, transform=val_transforms)\n",
    "test_dataset_ = Extract2DSlices(test_dataset, transform=test_transforms)\n",
    "\n",
    "# Create data loaders\n",
    "train_loader = DataLoader(train_dataset_, batch_size=BATCH_SIZE, shuffle=True)\n",
    "val_loader = DataLoader(val_dataset_, batch_size=BATCH_SIZE, shuffle=True)\n",
    "test_loader = DataLoader(test_dataset_, batch_size=BATCH_SIZE, shuffle=False)"
   ]
  },
  {
   "cell_type": "markdown",
   "metadata": {},
   "source": [
    "# Axial part"
   ]
  },
  {
   "cell_type": "markdown",
   "metadata": {},
   "source": [
    "## Pretrained"
   ]
  },
  {
   "cell_type": "code",
   "execution_count": 9,
   "metadata": {},
   "outputs": [],
   "source": [
    "auc_metric = ROCAUCMetric()"
   ]
  },
  {
   "cell_type": "code",
   "execution_count": 10,
   "metadata": {},
   "outputs": [
    {
     "name": "stderr",
     "output_type": "stream",
     "text": [
      "/opt/conda/lib/python3.10/site-packages/torchvision/models/_utils.py:208: UserWarning: The parameter 'pretrained' is deprecated since 0.13 and may be removed in the future, please use 'weights' instead.\n",
      "  warnings.warn(\n",
      "/opt/conda/lib/python3.10/site-packages/torchvision/models/_utils.py:223: UserWarning: Arguments other than a weight enum or `None` for 'weights' are deprecated since 0.13 and may be removed in the future. The current behavior is equivalent to passing `weights=ResNet18_Weights.IMAGENET1K_V1`. You can also use `weights=ResNet18_Weights.DEFAULT` to get the most up-to-date weights.\n",
      "  warnings.warn(msg)\n"
     ]
    }
   ],
   "source": [
    "device = torch.device(\"cuda\" if torch.cuda.is_available() else \"cpu\")\n",
    "\n",
    "model = models.resnet18(pretrained=True).to(device)\n",
    "model.conv1 = nn.Conv2d(64, 64, kernel_size=7, stride=2, padding=3, bias=False)\n",
    "model.fc = nn.Linear(model.fc.in_features, n_classes)\n",
    "model = model.to(device)\n",
    "\n",
    "loss_function = torch.nn.CrossEntropyLoss()\n",
    "optimizer = torch.optim.Adam(model.parameters(), 0.00005)\n",
    "max_epochs = 70\n",
    "val_interval = 1"
   ]
  },
  {
   "cell_type": "code",
   "execution_count": 11,
   "metadata": {},
   "outputs": [
    {
     "name": "stdout",
     "output_type": "stream",
     "text": [
      "ResNet(\n",
      "  (conv1): Conv2d(64, 64, kernel_size=(7, 7), stride=(2, 2), padding=(3, 3), bias=False)\n",
      "  (bn1): BatchNorm2d(64, eps=1e-05, momentum=0.1, affine=True, track_running_stats=True)\n",
      "  (relu): ReLU(inplace=True)\n",
      "  (maxpool): MaxPool2d(kernel_size=3, stride=2, padding=1, dilation=1, ceil_mode=False)\n",
      "  (layer1): Sequential(\n",
      "    (0): BasicBlock(\n",
      "      (conv1): Conv2d(64, 64, kernel_size=(3, 3), stride=(1, 1), padding=(1, 1), bias=False)\n",
      "      (bn1): BatchNorm2d(64, eps=1e-05, momentum=0.1, affine=True, track_running_stats=True)\n",
      "      (relu): ReLU(inplace=True)\n",
      "      (conv2): Conv2d(64, 64, kernel_size=(3, 3), stride=(1, 1), padding=(1, 1), bias=False)\n",
      "      (bn2): BatchNorm2d(64, eps=1e-05, momentum=0.1, affine=True, track_running_stats=True)\n",
      "    )\n",
      "    (1): BasicBlock(\n",
      "      (conv1): Conv2d(64, 64, kernel_size=(3, 3), stride=(1, 1), padding=(1, 1), bias=False)\n",
      "      (bn1): BatchNorm2d(64, eps=1e-05, momentum=0.1, affine=True, track_running_stats=True)\n",
      "      (relu): ReLU(inplace=True)\n",
      "      (conv2): Conv2d(64, 64, kernel_size=(3, 3), stride=(1, 1), padding=(1, 1), bias=False)\n",
      "      (bn2): BatchNorm2d(64, eps=1e-05, momentum=0.1, affine=True, track_running_stats=True)\n",
      "    )\n",
      "  )\n",
      "  (layer2): Sequential(\n",
      "    (0): BasicBlock(\n",
      "      (conv1): Conv2d(64, 128, kernel_size=(3, 3), stride=(2, 2), padding=(1, 1), bias=False)\n",
      "      (bn1): BatchNorm2d(128, eps=1e-05, momentum=0.1, affine=True, track_running_stats=True)\n",
      "      (relu): ReLU(inplace=True)\n",
      "      (conv2): Conv2d(128, 128, kernel_size=(3, 3), stride=(1, 1), padding=(1, 1), bias=False)\n",
      "      (bn2): BatchNorm2d(128, eps=1e-05, momentum=0.1, affine=True, track_running_stats=True)\n",
      "      (downsample): Sequential(\n",
      "        (0): Conv2d(64, 128, kernel_size=(1, 1), stride=(2, 2), bias=False)\n",
      "        (1): BatchNorm2d(128, eps=1e-05, momentum=0.1, affine=True, track_running_stats=True)\n",
      "      )\n",
      "    )\n",
      "    (1): BasicBlock(\n",
      "      (conv1): Conv2d(128, 128, kernel_size=(3, 3), stride=(1, 1), padding=(1, 1), bias=False)\n",
      "      (bn1): BatchNorm2d(128, eps=1e-05, momentum=0.1, affine=True, track_running_stats=True)\n",
      "      (relu): ReLU(inplace=True)\n",
      "      (conv2): Conv2d(128, 128, kernel_size=(3, 3), stride=(1, 1), padding=(1, 1), bias=False)\n",
      "      (bn2): BatchNorm2d(128, eps=1e-05, momentum=0.1, affine=True, track_running_stats=True)\n",
      "    )\n",
      "  )\n",
      "  (layer3): Sequential(\n",
      "    (0): BasicBlock(\n",
      "      (conv1): Conv2d(128, 256, kernel_size=(3, 3), stride=(2, 2), padding=(1, 1), bias=False)\n",
      "      (bn1): BatchNorm2d(256, eps=1e-05, momentum=0.1, affine=True, track_running_stats=True)\n",
      "      (relu): ReLU(inplace=True)\n",
      "      (conv2): Conv2d(256, 256, kernel_size=(3, 3), stride=(1, 1), padding=(1, 1), bias=False)\n",
      "      (bn2): BatchNorm2d(256, eps=1e-05, momentum=0.1, affine=True, track_running_stats=True)\n",
      "      (downsample): Sequential(\n",
      "        (0): Conv2d(128, 256, kernel_size=(1, 1), stride=(2, 2), bias=False)\n",
      "        (1): BatchNorm2d(256, eps=1e-05, momentum=0.1, affine=True, track_running_stats=True)\n",
      "      )\n",
      "    )\n",
      "    (1): BasicBlock(\n",
      "      (conv1): Conv2d(256, 256, kernel_size=(3, 3), stride=(1, 1), padding=(1, 1), bias=False)\n",
      "      (bn1): BatchNorm2d(256, eps=1e-05, momentum=0.1, affine=True, track_running_stats=True)\n",
      "      (relu): ReLU(inplace=True)\n",
      "      (conv2): Conv2d(256, 256, kernel_size=(3, 3), stride=(1, 1), padding=(1, 1), bias=False)\n",
      "      (bn2): BatchNorm2d(256, eps=1e-05, momentum=0.1, affine=True, track_running_stats=True)\n",
      "    )\n",
      "  )\n",
      "  (layer4): Sequential(\n",
      "    (0): BasicBlock(\n",
      "      (conv1): Conv2d(256, 512, kernel_size=(3, 3), stride=(2, 2), padding=(1, 1), bias=False)\n",
      "      (bn1): BatchNorm2d(512, eps=1e-05, momentum=0.1, affine=True, track_running_stats=True)\n",
      "      (relu): ReLU(inplace=True)\n",
      "      (conv2): Conv2d(512, 512, kernel_size=(3, 3), stride=(1, 1), padding=(1, 1), bias=False)\n",
      "      (bn2): BatchNorm2d(512, eps=1e-05, momentum=0.1, affine=True, track_running_stats=True)\n",
      "      (downsample): Sequential(\n",
      "        (0): Conv2d(256, 512, kernel_size=(1, 1), stride=(2, 2), bias=False)\n",
      "        (1): BatchNorm2d(512, eps=1e-05, momentum=0.1, affine=True, track_running_stats=True)\n",
      "      )\n",
      "    )\n",
      "    (1): BasicBlock(\n",
      "      (conv1): Conv2d(512, 512, kernel_size=(3, 3), stride=(1, 1), padding=(1, 1), bias=False)\n",
      "      (bn1): BatchNorm2d(512, eps=1e-05, momentum=0.1, affine=True, track_running_stats=True)\n",
      "      (relu): ReLU(inplace=True)\n",
      "      (conv2): Conv2d(512, 512, kernel_size=(3, 3), stride=(1, 1), padding=(1, 1), bias=False)\n",
      "      (bn2): BatchNorm2d(512, eps=1e-05, momentum=0.1, affine=True, track_running_stats=True)\n",
      "    )\n",
      "  )\n",
      "  (avgpool): AdaptiveAvgPool2d(output_size=(1, 1))\n",
      "  (fc): Linear(in_features=512, out_features=11, bias=True)\n",
      ")\n"
     ]
    }
   ],
   "source": [
    "print(model)"
   ]
  },
  {
   "cell_type": "code",
   "execution_count": 12,
   "metadata": {
    "scrolled": true
   },
   "outputs": [
    {
     "name": "stderr",
     "output_type": "stream",
     "text": [
      "Epochs:   0%|          | 0/70 [00:00<?, ?it/s]"
     ]
    },
    {
     "name": "stdout",
     "output_type": "stream",
     "text": [
      "----------\n",
      "epoch 1/70\n",
      "epoch 1 average loss: 1.9634\n"
     ]
    },
    {
     "name": "stderr",
     "output_type": "stream",
     "text": [
      "Epochs:   1%|▏         | 1/70 [00:18<21:41, 18.86s/it]"
     ]
    },
    {
     "name": "stdout",
     "output_type": "stream",
     "text": [
      "1\n",
      "saved new best metric model\n",
      "current epoch: 1 current AUC: 0.9317 current accuracy: 0.6584 best AUC: 0.9317 at epoch: 1\n",
      "----------\n",
      "epoch 2/70\n",
      "epoch 2 average loss: 1.1446\n"
     ]
    },
    {
     "name": "stderr",
     "output_type": "stream",
     "text": [
      "Epochs:   3%|▎         | 2/70 [00:36<20:20, 17.94s/it]"
     ]
    },
    {
     "name": "stdout",
     "output_type": "stream",
     "text": [
      "1\n",
      "saved new best metric model\n",
      "current epoch: 2 current AUC: 0.9836 current accuracy: 0.7578 best AUC: 0.9836 at epoch: 2\n",
      "----------\n",
      "epoch 3/70\n",
      "epoch 3 average loss: 0.8949\n"
     ]
    },
    {
     "name": "stderr",
     "output_type": "stream",
     "text": [
      "Epochs:   4%|▍         | 3/70 [00:53<19:44, 17.68s/it]"
     ]
    },
    {
     "name": "stdout",
     "output_type": "stream",
     "text": [
      "1\n",
      "saved new best metric model\n",
      "current epoch: 3 current AUC: 0.9920 current accuracy: 0.8323 best AUC: 0.9920 at epoch: 3\n",
      "----------\n",
      "epoch 4/70\n",
      "epoch 4 average loss: 0.7084\n"
     ]
    },
    {
     "name": "stderr",
     "output_type": "stream",
     "text": [
      "Epochs:   6%|▌         | 4/70 [01:11<19:22, 17.61s/it]"
     ]
    },
    {
     "name": "stdout",
     "output_type": "stream",
     "text": [
      "1\n",
      "saved new best metric model\n",
      "current epoch: 4 current AUC: 0.9953 current accuracy: 0.9193 best AUC: 0.9953 at epoch: 4\n",
      "----------\n",
      "epoch 5/70\n",
      "epoch 5 average loss: 0.6325\n"
     ]
    },
    {
     "name": "stderr",
     "output_type": "stream",
     "text": [
      "Epochs:   7%|▋         | 5/70 [01:28<19:01, 17.56s/it]"
     ]
    },
    {
     "name": "stdout",
     "output_type": "stream",
     "text": [
      "1\n",
      "saved new best metric model\n",
      "current epoch: 5 current AUC: 0.9989 current accuracy: 0.9193 best AUC: 0.9989 at epoch: 5\n",
      "----------\n",
      "epoch 6/70\n",
      "epoch 6 average loss: 0.5580\n"
     ]
    },
    {
     "name": "stderr",
     "output_type": "stream",
     "text": [
      "Epochs:   9%|▊         | 6/70 [01:45<18:38, 17.47s/it]"
     ]
    },
    {
     "name": "stdout",
     "output_type": "stream",
     "text": [
      "1\n",
      "current epoch: 6 current AUC: 0.9977 current accuracy: 0.9503 best AUC: 0.9989 at epoch: 5\n",
      "----------\n",
      "epoch 7/70\n",
      "epoch 7 average loss: 0.4619\n"
     ]
    },
    {
     "name": "stderr",
     "output_type": "stream",
     "text": [
      "Epochs:  10%|█         | 7/70 [02:03<18:15, 17.39s/it]"
     ]
    },
    {
     "name": "stdout",
     "output_type": "stream",
     "text": [
      "1\n",
      "saved new best metric model\n",
      "current epoch: 7 current AUC: 0.9998 current accuracy: 0.9689 best AUC: 0.9998 at epoch: 7\n",
      "----------\n",
      "epoch 8/70\n",
      "epoch 8 average loss: 0.4422\n"
     ]
    },
    {
     "name": "stderr",
     "output_type": "stream",
     "text": [
      "Epochs:  11%|█▏        | 8/70 [02:20<17:57, 17.39s/it]"
     ]
    },
    {
     "name": "stdout",
     "output_type": "stream",
     "text": [
      "1\n",
      "saved new best metric model\n",
      "current epoch: 8 current AUC: 1.0000 current accuracy: 0.9752 best AUC: 1.0000 at epoch: 8\n",
      "----------\n",
      "epoch 9/70\n",
      "epoch 9 average loss: 0.3907\n"
     ]
    },
    {
     "name": "stderr",
     "output_type": "stream",
     "text": [
      "Epochs:  13%|█▎        | 9/70 [02:37<17:34, 17.29s/it]"
     ]
    },
    {
     "name": "stdout",
     "output_type": "stream",
     "text": [
      "1\n",
      "current epoch: 9 current AUC: 0.9994 current accuracy: 0.9441 best AUC: 1.0000 at epoch: 8\n",
      "----------\n",
      "epoch 10/70\n",
      "epoch 10 average loss: 0.3386\n"
     ]
    },
    {
     "name": "stderr",
     "output_type": "stream",
     "text": [
      "Epochs:  14%|█▍        | 10/70 [02:54<17:15, 17.25s/it]"
     ]
    },
    {
     "name": "stdout",
     "output_type": "stream",
     "text": [
      "1\n",
      "current epoch: 10 current AUC: 0.9999 current accuracy: 0.9938 best AUC: 1.0000 at epoch: 8\n",
      "----------\n",
      "epoch 11/70\n",
      "epoch 11 average loss: 0.3386\n"
     ]
    },
    {
     "name": "stderr",
     "output_type": "stream",
     "text": [
      "Epochs:  16%|█▌        | 11/70 [03:11<16:56, 17.24s/it]"
     ]
    },
    {
     "name": "stdout",
     "output_type": "stream",
     "text": [
      "1\n",
      "current epoch: 11 current AUC: 0.9996 current accuracy: 0.9441 best AUC: 1.0000 at epoch: 8\n",
      "----------\n",
      "epoch 12/70\n",
      "epoch 12 average loss: 0.3084\n"
     ]
    },
    {
     "name": "stderr",
     "output_type": "stream",
     "text": [
      "Epochs:  17%|█▋        | 12/70 [03:28<16:35, 17.16s/it]"
     ]
    },
    {
     "name": "stdout",
     "output_type": "stream",
     "text": [
      "1\n",
      "current epoch: 12 current AUC: 0.9998 current accuracy: 0.9876 best AUC: 1.0000 at epoch: 8\n",
      "----------\n",
      "epoch 13/70\n",
      "epoch 13 average loss: 0.2814\n"
     ]
    },
    {
     "name": "stderr",
     "output_type": "stream",
     "text": [
      "Epochs:  19%|█▊        | 13/70 [03:46<16:18, 17.17s/it]"
     ]
    },
    {
     "name": "stdout",
     "output_type": "stream",
     "text": [
      "1\n",
      "current epoch: 13 current AUC: 0.9999 current accuracy: 0.9814 best AUC: 1.0000 at epoch: 8\n",
      "----------\n",
      "epoch 14/70\n",
      "epoch 14 average loss: 0.2561\n"
     ]
    },
    {
     "name": "stderr",
     "output_type": "stream",
     "text": [
      "Epochs:  20%|██        | 14/70 [04:03<16:02, 17.18s/it]"
     ]
    },
    {
     "name": "stdout",
     "output_type": "stream",
     "text": [
      "1\n",
      "current epoch: 14 current AUC: 0.9999 current accuracy: 0.9565 best AUC: 1.0000 at epoch: 8\n",
      "----------\n",
      "epoch 15/70\n",
      "epoch 15 average loss: 0.2381\n"
     ]
    },
    {
     "name": "stderr",
     "output_type": "stream",
     "text": [
      "Epochs:  21%|██▏       | 15/70 [04:20<15:46, 17.20s/it]"
     ]
    },
    {
     "name": "stdout",
     "output_type": "stream",
     "text": [
      "1\n",
      "current epoch: 15 current AUC: 0.9996 current accuracy: 0.9627 best AUC: 1.0000 at epoch: 8\n",
      "----------\n",
      "epoch 16/70\n",
      "epoch 16 average loss: 0.1920\n"
     ]
    },
    {
     "name": "stderr",
     "output_type": "stream",
     "text": [
      "Epochs:  23%|██▎       | 16/70 [04:37<15:28, 17.19s/it]"
     ]
    },
    {
     "name": "stdout",
     "output_type": "stream",
     "text": [
      "1\n",
      "current epoch: 16 current AUC: 0.9998 current accuracy: 0.9689 best AUC: 1.0000 at epoch: 8\n",
      "----------\n",
      "epoch 17/70\n",
      "epoch 17 average loss: 0.1604\n"
     ]
    },
    {
     "name": "stderr",
     "output_type": "stream",
     "text": [
      "Epochs:  24%|██▍       | 17/70 [04:54<15:12, 17.21s/it]"
     ]
    },
    {
     "name": "stdout",
     "output_type": "stream",
     "text": [
      "1\n",
      "current epoch: 17 current AUC: 0.9990 current accuracy: 0.9565 best AUC: 1.0000 at epoch: 8\n",
      "----------\n",
      "epoch 18/70\n",
      "epoch 18 average loss: 0.1502\n"
     ]
    },
    {
     "name": "stderr",
     "output_type": "stream",
     "text": [
      "Epochs:  26%|██▌       | 18/70 [05:12<14:55, 17.22s/it]"
     ]
    },
    {
     "name": "stdout",
     "output_type": "stream",
     "text": [
      "1\n",
      "current epoch: 18 current AUC: 0.9998 current accuracy: 0.9814 best AUC: 1.0000 at epoch: 8\n",
      "----------\n",
      "epoch 19/70\n",
      "epoch 19 average loss: 0.1430\n"
     ]
    },
    {
     "name": "stderr",
     "output_type": "stream",
     "text": [
      "Epochs:  27%|██▋       | 19/70 [05:29<14:41, 17.28s/it]"
     ]
    },
    {
     "name": "stdout",
     "output_type": "stream",
     "text": [
      "1\n",
      "current epoch: 19 current AUC: 0.9996 current accuracy: 0.9689 best AUC: 1.0000 at epoch: 8\n",
      "----------\n",
      "epoch 20/70\n",
      "epoch 20 average loss: 0.1720\n"
     ]
    },
    {
     "name": "stderr",
     "output_type": "stream",
     "text": [
      "Epochs:  29%|██▊       | 20/70 [05:46<14:25, 17.32s/it]"
     ]
    },
    {
     "name": "stdout",
     "output_type": "stream",
     "text": [
      "1\n",
      "current epoch: 20 current AUC: 0.9999 current accuracy: 0.9752 best AUC: 1.0000 at epoch: 8\n",
      "----------\n",
      "epoch 21/70\n",
      "epoch 21 average loss: 0.1385\n"
     ]
    },
    {
     "name": "stderr",
     "output_type": "stream",
     "text": [
      "Epochs:  30%|███       | 21/70 [06:04<14:09, 17.34s/it]"
     ]
    },
    {
     "name": "stdout",
     "output_type": "stream",
     "text": [
      "1\n",
      "current epoch: 21 current AUC: 0.9999 current accuracy: 0.9752 best AUC: 1.0000 at epoch: 8\n",
      "----------\n",
      "epoch 22/70\n",
      "epoch 22 average loss: 0.1688\n"
     ]
    },
    {
     "name": "stderr",
     "output_type": "stream",
     "text": [
      "Epochs:  31%|███▏      | 22/70 [06:21<13:55, 17.40s/it]"
     ]
    },
    {
     "name": "stdout",
     "output_type": "stream",
     "text": [
      "1\n",
      "current epoch: 22 current AUC: 0.9998 current accuracy: 0.9752 best AUC: 1.0000 at epoch: 8\n",
      "----------\n",
      "epoch 23/70\n",
      "epoch 23 average loss: 0.1377\n"
     ]
    },
    {
     "name": "stderr",
     "output_type": "stream",
     "text": [
      "Epochs:  33%|███▎      | 23/70 [06:39<13:41, 17.48s/it]"
     ]
    },
    {
     "name": "stdout",
     "output_type": "stream",
     "text": [
      "1\n",
      "current epoch: 23 current AUC: 0.9994 current accuracy: 0.9627 best AUC: 1.0000 at epoch: 8\n",
      "----------\n",
      "epoch 24/70\n",
      "epoch 24 average loss: 0.1412\n"
     ]
    },
    {
     "name": "stderr",
     "output_type": "stream",
     "text": [
      "Epochs:  34%|███▍      | 24/70 [06:57<13:24, 17.49s/it]"
     ]
    },
    {
     "name": "stdout",
     "output_type": "stream",
     "text": [
      "1\n",
      "current epoch: 24 current AUC: 0.9997 current accuracy: 0.9752 best AUC: 1.0000 at epoch: 8\n",
      "----------\n",
      "epoch 25/70\n",
      "epoch 25 average loss: 0.1504\n"
     ]
    },
    {
     "name": "stderr",
     "output_type": "stream",
     "text": [
      "Epochs:  36%|███▌      | 25/70 [07:14<13:08, 17.52s/it]"
     ]
    },
    {
     "name": "stdout",
     "output_type": "stream",
     "text": [
      "1\n",
      "current epoch: 25 current AUC: 0.9998 current accuracy: 0.9752 best AUC: 1.0000 at epoch: 8\n",
      "----------\n",
      "epoch 26/70\n",
      "epoch 26 average loss: 0.1148\n"
     ]
    },
    {
     "name": "stderr",
     "output_type": "stream",
     "text": [
      "Epochs:  37%|███▋      | 26/70 [07:32<12:52, 17.56s/it]"
     ]
    },
    {
     "name": "stdout",
     "output_type": "stream",
     "text": [
      "1\n",
      "current epoch: 26 current AUC: 0.9998 current accuracy: 0.9689 best AUC: 1.0000 at epoch: 8\n",
      "----------\n",
      "epoch 27/70\n",
      "epoch 27 average loss: 0.1126\n"
     ]
    },
    {
     "name": "stderr",
     "output_type": "stream",
     "text": [
      "Epochs:  39%|███▊      | 27/70 [07:49<12:34, 17.54s/it]"
     ]
    },
    {
     "name": "stdout",
     "output_type": "stream",
     "text": [
      "1\n",
      "current epoch: 27 current AUC: 0.9996 current accuracy: 0.9627 best AUC: 1.0000 at epoch: 8\n",
      "----------\n",
      "epoch 28/70\n",
      "epoch 28 average loss: 0.0891\n"
     ]
    },
    {
     "name": "stderr",
     "output_type": "stream",
     "text": [
      "Epochs:  40%|████      | 28/70 [08:07<12:15, 17.52s/it]"
     ]
    },
    {
     "name": "stdout",
     "output_type": "stream",
     "text": [
      "1\n",
      "current epoch: 28 current AUC: 0.9998 current accuracy: 0.9814 best AUC: 1.0000 at epoch: 8\n",
      "----------\n",
      "epoch 29/70\n",
      "epoch 29 average loss: 0.0986\n"
     ]
    },
    {
     "name": "stderr",
     "output_type": "stream",
     "text": [
      "Epochs:  41%|████▏     | 29/70 [08:24<11:59, 17.54s/it]"
     ]
    },
    {
     "name": "stdout",
     "output_type": "stream",
     "text": [
      "1\n",
      "current epoch: 29 current AUC: 0.9990 current accuracy: 0.9379 best AUC: 1.0000 at epoch: 8\n",
      "----------\n",
      "epoch 30/70\n",
      "epoch 30 average loss: 0.1114\n"
     ]
    },
    {
     "name": "stderr",
     "output_type": "stream",
     "text": [
      "Epochs:  43%|████▎     | 30/70 [08:42<11:42, 17.56s/it]"
     ]
    },
    {
     "name": "stdout",
     "output_type": "stream",
     "text": [
      "1\n",
      "current epoch: 30 current AUC: 0.9997 current accuracy: 0.9503 best AUC: 1.0000 at epoch: 8\n",
      "----------\n",
      "epoch 31/70\n",
      "epoch 31 average loss: 0.0887\n"
     ]
    },
    {
     "name": "stderr",
     "output_type": "stream",
     "text": [
      "Epochs:  44%|████▍     | 31/70 [08:59<11:21, 17.47s/it]"
     ]
    },
    {
     "name": "stdout",
     "output_type": "stream",
     "text": [
      "1\n",
      "current epoch: 31 current AUC: 0.9992 current accuracy: 0.9503 best AUC: 1.0000 at epoch: 8\n",
      "----------\n",
      "epoch 32/70\n",
      "epoch 32 average loss: 0.0544\n"
     ]
    },
    {
     "name": "stderr",
     "output_type": "stream",
     "text": [
      "Epochs:  46%|████▌     | 32/70 [09:17<11:03, 17.46s/it]"
     ]
    },
    {
     "name": "stdout",
     "output_type": "stream",
     "text": [
      "1\n",
      "current epoch: 32 current AUC: 0.9999 current accuracy: 0.9752 best AUC: 1.0000 at epoch: 8\n",
      "----------\n",
      "epoch 33/70\n",
      "epoch 33 average loss: 0.0998\n"
     ]
    },
    {
     "name": "stderr",
     "output_type": "stream",
     "text": [
      "Epochs:  47%|████▋     | 33/70 [09:34<10:46, 17.47s/it]"
     ]
    },
    {
     "name": "stdout",
     "output_type": "stream",
     "text": [
      "1\n",
      "current epoch: 33 current AUC: 0.9993 current accuracy: 0.9689 best AUC: 1.0000 at epoch: 8\n",
      "----------\n",
      "epoch 34/70\n",
      "epoch 34 average loss: 0.1137\n"
     ]
    },
    {
     "name": "stderr",
     "output_type": "stream",
     "text": [
      "Epochs:  49%|████▊     | 34/70 [09:52<10:29, 17.50s/it]"
     ]
    },
    {
     "name": "stdout",
     "output_type": "stream",
     "text": [
      "1\n",
      "current epoch: 34 current AUC: 0.9995 current accuracy: 0.9565 best AUC: 1.0000 at epoch: 8\n",
      "----------\n",
      "epoch 35/70\n",
      "epoch 35 average loss: 0.0598\n"
     ]
    },
    {
     "name": "stderr",
     "output_type": "stream",
     "text": [
      "Epochs:  50%|█████     | 35/70 [10:09<10:09, 17.42s/it]"
     ]
    },
    {
     "name": "stdout",
     "output_type": "stream",
     "text": [
      "1\n",
      "current epoch: 35 current AUC: 0.9999 current accuracy: 0.9627 best AUC: 1.0000 at epoch: 8\n",
      "----------\n",
      "epoch 36/70\n",
      "epoch 36 average loss: 0.0690\n"
     ]
    },
    {
     "name": "stderr",
     "output_type": "stream",
     "text": [
      "Epochs:  51%|█████▏    | 36/70 [10:27<09:54, 17.47s/it]"
     ]
    },
    {
     "name": "stdout",
     "output_type": "stream",
     "text": [
      "1\n",
      "current epoch: 36 current AUC: 0.9999 current accuracy: 0.9814 best AUC: 1.0000 at epoch: 8\n",
      "----------\n",
      "epoch 37/70\n",
      "epoch 37 average loss: 0.0602\n"
     ]
    },
    {
     "name": "stderr",
     "output_type": "stream",
     "text": [
      "Epochs:  53%|█████▎    | 37/70 [10:44<09:38, 17.52s/it]"
     ]
    },
    {
     "name": "stdout",
     "output_type": "stream",
     "text": [
      "1\n",
      "current epoch: 37 current AUC: 1.0000 current accuracy: 1.0000 best AUC: 1.0000 at epoch: 8\n",
      "----------\n",
      "epoch 38/70\n",
      "epoch 38 average loss: 0.0787\n"
     ]
    },
    {
     "name": "stderr",
     "output_type": "stream",
     "text": [
      "Epochs:  54%|█████▍    | 38/70 [11:02<09:19, 17.48s/it]"
     ]
    },
    {
     "name": "stdout",
     "output_type": "stream",
     "text": [
      "1\n",
      "current epoch: 38 current AUC: 0.9999 current accuracy: 0.9752 best AUC: 1.0000 at epoch: 8\n",
      "----------\n",
      "epoch 39/70\n",
      "epoch 39 average loss: 0.0647\n"
     ]
    },
    {
     "name": "stderr",
     "output_type": "stream",
     "text": [
      "Epochs:  56%|█████▌    | 39/70 [11:19<09:02, 17.51s/it]"
     ]
    },
    {
     "name": "stdout",
     "output_type": "stream",
     "text": [
      "1\n",
      "current epoch: 39 current AUC: 0.9999 current accuracy: 0.9814 best AUC: 1.0000 at epoch: 8\n",
      "----------\n",
      "epoch 40/70\n",
      "epoch 40 average loss: 0.0941\n"
     ]
    },
    {
     "name": "stderr",
     "output_type": "stream",
     "text": [
      "Epochs:  57%|█████▋    | 40/70 [11:37<08:44, 17.47s/it]"
     ]
    },
    {
     "name": "stdout",
     "output_type": "stream",
     "text": [
      "1\n",
      "current epoch: 40 current AUC: 0.9998 current accuracy: 0.9627 best AUC: 1.0000 at epoch: 8\n",
      "----------\n",
      "epoch 41/70\n",
      "epoch 41 average loss: 0.0947\n"
     ]
    },
    {
     "name": "stderr",
     "output_type": "stream",
     "text": [
      "Epochs:  59%|█████▊    | 41/70 [11:54<08:27, 17.51s/it]"
     ]
    },
    {
     "name": "stdout",
     "output_type": "stream",
     "text": [
      "1\n",
      "current epoch: 41 current AUC: 0.9999 current accuracy: 0.9752 best AUC: 1.0000 at epoch: 8\n",
      "----------\n",
      "epoch 42/70\n",
      "epoch 42 average loss: 0.0699\n"
     ]
    },
    {
     "name": "stderr",
     "output_type": "stream",
     "text": [
      "Epochs:  60%|██████    | 42/70 [12:12<08:09, 17.49s/it]"
     ]
    },
    {
     "name": "stdout",
     "output_type": "stream",
     "text": [
      "1\n",
      "current epoch: 42 current AUC: 0.9999 current accuracy: 0.9752 best AUC: 1.0000 at epoch: 8\n",
      "----------\n",
      "epoch 43/70\n",
      "epoch 43 average loss: 0.0427\n"
     ]
    },
    {
     "name": "stderr",
     "output_type": "stream",
     "text": [
      "Epochs:  61%|██████▏   | 43/70 [12:29<07:50, 17.43s/it]"
     ]
    },
    {
     "name": "stdout",
     "output_type": "stream",
     "text": [
      "1\n",
      "current epoch: 43 current AUC: 0.9999 current accuracy: 0.9814 best AUC: 1.0000 at epoch: 8\n",
      "----------\n",
      "epoch 44/70\n",
      "epoch 44 average loss: 0.0565\n"
     ]
    },
    {
     "name": "stderr",
     "output_type": "stream",
     "text": [
      "Epochs:  63%|██████▎   | 44/70 [12:46<07:34, 17.47s/it]"
     ]
    },
    {
     "name": "stdout",
     "output_type": "stream",
     "text": [
      "1\n",
      "current epoch: 44 current AUC: 0.9997 current accuracy: 0.9689 best AUC: 1.0000 at epoch: 8\n",
      "----------\n",
      "epoch 45/70\n",
      "epoch 45 average loss: 0.0774\n"
     ]
    },
    {
     "name": "stderr",
     "output_type": "stream",
     "text": [
      "Epochs:  64%|██████▍   | 45/70 [13:04<07:17, 17.52s/it]"
     ]
    },
    {
     "name": "stdout",
     "output_type": "stream",
     "text": [
      "1\n",
      "current epoch: 45 current AUC: 0.9999 current accuracy: 0.9814 best AUC: 1.0000 at epoch: 8\n",
      "----------\n",
      "epoch 46/70\n",
      "epoch 46 average loss: 0.0581\n"
     ]
    },
    {
     "name": "stderr",
     "output_type": "stream",
     "text": [
      "Epochs:  66%|██████▌   | 46/70 [13:22<07:01, 17.55s/it]"
     ]
    },
    {
     "name": "stdout",
     "output_type": "stream",
     "text": [
      "1\n",
      "current epoch: 46 current AUC: 0.9999 current accuracy: 0.9814 best AUC: 1.0000 at epoch: 8\n",
      "----------\n",
      "epoch 47/70\n",
      "epoch 47 average loss: 0.0690\n"
     ]
    },
    {
     "name": "stderr",
     "output_type": "stream",
     "text": [
      "Epochs:  67%|██████▋   | 47/70 [13:39<06:43, 17.53s/it]"
     ]
    },
    {
     "name": "stdout",
     "output_type": "stream",
     "text": [
      "1\n",
      "current epoch: 47 current AUC: 0.9999 current accuracy: 0.9752 best AUC: 1.0000 at epoch: 8\n",
      "----------\n",
      "epoch 48/70\n",
      "epoch 48 average loss: 0.0726\n"
     ]
    },
    {
     "name": "stderr",
     "output_type": "stream",
     "text": [
      "Epochs:  69%|██████▊   | 48/70 [13:57<06:25, 17.54s/it]"
     ]
    },
    {
     "name": "stdout",
     "output_type": "stream",
     "text": [
      "1\n",
      "current epoch: 48 current AUC: 0.9999 current accuracy: 0.9814 best AUC: 1.0000 at epoch: 8\n",
      "----------\n",
      "epoch 49/70\n",
      "epoch 49 average loss: 0.0891\n"
     ]
    },
    {
     "name": "stderr",
     "output_type": "stream",
     "text": [
      "Epochs:  70%|███████   | 49/70 [14:14<06:08, 17.55s/it]"
     ]
    },
    {
     "name": "stdout",
     "output_type": "stream",
     "text": [
      "1\n",
      "current epoch: 49 current AUC: 0.9987 current accuracy: 0.9627 best AUC: 1.0000 at epoch: 8\n",
      "----------\n",
      "epoch 50/70\n",
      "epoch 50 average loss: 0.0864\n"
     ]
    },
    {
     "name": "stderr",
     "output_type": "stream",
     "text": [
      "Epochs:  71%|███████▏  | 50/70 [14:32<05:50, 17.52s/it]"
     ]
    },
    {
     "name": "stdout",
     "output_type": "stream",
     "text": [
      "1\n",
      "current epoch: 50 current AUC: 0.9997 current accuracy: 0.9627 best AUC: 1.0000 at epoch: 8\n",
      "----------\n",
      "epoch 51/70\n",
      "epoch 51 average loss: 0.0564\n"
     ]
    },
    {
     "name": "stderr",
     "output_type": "stream",
     "text": [
      "Epochs:  73%|███████▎  | 51/70 [14:49<05:33, 17.56s/it]"
     ]
    },
    {
     "name": "stdout",
     "output_type": "stream",
     "text": [
      "1\n",
      "current epoch: 51 current AUC: 0.9998 current accuracy: 0.9814 best AUC: 1.0000 at epoch: 8\n",
      "----------\n",
      "epoch 52/70\n",
      "epoch 52 average loss: 0.1159\n"
     ]
    },
    {
     "name": "stderr",
     "output_type": "stream",
     "text": [
      "Epochs:  74%|███████▍  | 52/70 [15:07<05:15, 17.53s/it]"
     ]
    },
    {
     "name": "stdout",
     "output_type": "stream",
     "text": [
      "1\n",
      "current epoch: 52 current AUC: 0.9997 current accuracy: 0.9814 best AUC: 1.0000 at epoch: 8\n",
      "----------\n",
      "epoch 53/70\n",
      "epoch 53 average loss: 0.0427\n"
     ]
    },
    {
     "name": "stderr",
     "output_type": "stream",
     "text": [
      "Epochs:  76%|███████▌  | 53/70 [15:25<04:59, 17.60s/it]"
     ]
    },
    {
     "name": "stdout",
     "output_type": "stream",
     "text": [
      "1\n",
      "current epoch: 53 current AUC: 1.0000 current accuracy: 0.9814 best AUC: 1.0000 at epoch: 8\n",
      "----------\n",
      "epoch 54/70\n",
      "epoch 54 average loss: 0.0467\n"
     ]
    },
    {
     "name": "stderr",
     "output_type": "stream",
     "text": [
      "Epochs:  77%|███████▋  | 54/70 [15:42<04:40, 17.55s/it]"
     ]
    },
    {
     "name": "stdout",
     "output_type": "stream",
     "text": [
      "1\n",
      "current epoch: 54 current AUC: 1.0000 current accuracy: 0.9689 best AUC: 1.0000 at epoch: 8\n",
      "----------\n",
      "epoch 55/70\n",
      "epoch 55 average loss: 0.0479\n"
     ]
    },
    {
     "name": "stderr",
     "output_type": "stream",
     "text": [
      "Epochs:  79%|███████▊  | 55/70 [16:00<04:22, 17.53s/it]"
     ]
    },
    {
     "name": "stdout",
     "output_type": "stream",
     "text": [
      "1\n",
      "current epoch: 55 current AUC: 0.9997 current accuracy: 0.9752 best AUC: 1.0000 at epoch: 8\n",
      "----------\n",
      "epoch 56/70\n",
      "epoch 56 average loss: 0.0713\n"
     ]
    },
    {
     "name": "stderr",
     "output_type": "stream",
     "text": [
      "Epochs:  80%|████████  | 56/70 [16:17<04:04, 17.48s/it]"
     ]
    },
    {
     "name": "stdout",
     "output_type": "stream",
     "text": [
      "1\n",
      "current epoch: 56 current AUC: 0.9998 current accuracy: 0.9814 best AUC: 1.0000 at epoch: 8\n",
      "----------\n",
      "epoch 57/70\n",
      "epoch 57 average loss: 0.0440\n"
     ]
    },
    {
     "name": "stderr",
     "output_type": "stream",
     "text": [
      "Epochs:  81%|████████▏ | 57/70 [16:35<03:47, 17.53s/it]"
     ]
    },
    {
     "name": "stdout",
     "output_type": "stream",
     "text": [
      "1\n",
      "current epoch: 57 current AUC: 1.0000 current accuracy: 0.9814 best AUC: 1.0000 at epoch: 8\n",
      "----------\n",
      "epoch 58/70\n",
      "epoch 58 average loss: 0.0514\n"
     ]
    },
    {
     "name": "stderr",
     "output_type": "stream",
     "text": [
      "Epochs:  83%|████████▎ | 58/70 [16:52<03:30, 17.57s/it]"
     ]
    },
    {
     "name": "stdout",
     "output_type": "stream",
     "text": [
      "1\n",
      "current epoch: 58 current AUC: 1.0000 current accuracy: 0.9814 best AUC: 1.0000 at epoch: 8\n",
      "----------\n",
      "epoch 59/70\n",
      "epoch 59 average loss: 0.0270\n"
     ]
    },
    {
     "name": "stderr",
     "output_type": "stream",
     "text": [
      "Epochs:  84%|████████▍ | 59/70 [17:10<03:12, 17.51s/it]"
     ]
    },
    {
     "name": "stdout",
     "output_type": "stream",
     "text": [
      "1\n",
      "current epoch: 59 current AUC: 0.9999 current accuracy: 0.9814 best AUC: 1.0000 at epoch: 8\n",
      "----------\n",
      "epoch 60/70\n",
      "epoch 60 average loss: 0.0714\n"
     ]
    },
    {
     "name": "stderr",
     "output_type": "stream",
     "text": [
      "Epochs:  86%|████████▌ | 60/70 [17:27<02:55, 17.52s/it]"
     ]
    },
    {
     "name": "stdout",
     "output_type": "stream",
     "text": [
      "1\n",
      "current epoch: 60 current AUC: 0.9998 current accuracy: 0.9814 best AUC: 1.0000 at epoch: 8\n",
      "----------\n",
      "epoch 61/70\n",
      "epoch 61 average loss: 0.0410\n"
     ]
    },
    {
     "name": "stderr",
     "output_type": "stream",
     "text": [
      "Epochs:  87%|████████▋ | 61/70 [17:45<02:38, 17.57s/it]"
     ]
    },
    {
     "name": "stdout",
     "output_type": "stream",
     "text": [
      "1\n",
      "current epoch: 61 current AUC: 0.9995 current accuracy: 0.9814 best AUC: 1.0000 at epoch: 8\n",
      "----------\n",
      "epoch 62/70\n",
      "epoch 62 average loss: 0.0586\n"
     ]
    },
    {
     "name": "stderr",
     "output_type": "stream",
     "text": [
      "Epochs:  89%|████████▊ | 62/70 [18:02<02:19, 17.48s/it]"
     ]
    },
    {
     "name": "stdout",
     "output_type": "stream",
     "text": [
      "1\n",
      "current epoch: 62 current AUC: 0.9996 current accuracy: 0.9814 best AUC: 1.0000 at epoch: 8\n",
      "----------\n",
      "epoch 63/70\n",
      "epoch 63 average loss: 0.0329\n"
     ]
    },
    {
     "name": "stderr",
     "output_type": "stream",
     "text": [
      "Epochs:  90%|█████████ | 63/70 [18:20<02:02, 17.52s/it]"
     ]
    },
    {
     "name": "stdout",
     "output_type": "stream",
     "text": [
      "1\n",
      "current epoch: 63 current AUC: 0.9999 current accuracy: 0.9689 best AUC: 1.0000 at epoch: 8\n",
      "----------\n",
      "epoch 64/70\n",
      "epoch 64 average loss: 0.0336\n"
     ]
    },
    {
     "name": "stderr",
     "output_type": "stream",
     "text": [
      "Epochs:  91%|█████████▏| 64/70 [18:37<01:45, 17.53s/it]"
     ]
    },
    {
     "name": "stdout",
     "output_type": "stream",
     "text": [
      "1\n",
      "current epoch: 64 current AUC: 1.0000 current accuracy: 0.9876 best AUC: 1.0000 at epoch: 8\n",
      "----------\n",
      "epoch 65/70\n",
      "epoch 65 average loss: 0.0360\n"
     ]
    },
    {
     "name": "stderr",
     "output_type": "stream",
     "text": [
      "Epochs:  93%|█████████▎| 65/70 [18:55<01:27, 17.54s/it]"
     ]
    },
    {
     "name": "stdout",
     "output_type": "stream",
     "text": [
      "1\n",
      "current epoch: 65 current AUC: 1.0000 current accuracy: 0.9689 best AUC: 1.0000 at epoch: 8\n",
      "----------\n",
      "epoch 66/70\n",
      "epoch 66 average loss: 0.0561\n"
     ]
    },
    {
     "name": "stderr",
     "output_type": "stream",
     "text": [
      "Epochs:  94%|█████████▍| 66/70 [19:12<01:10, 17.56s/it]"
     ]
    },
    {
     "name": "stdout",
     "output_type": "stream",
     "text": [
      "1\n",
      "current epoch: 66 current AUC: 1.0000 current accuracy: 0.9627 best AUC: 1.0000 at epoch: 8\n",
      "----------\n",
      "epoch 67/70\n",
      "epoch 67 average loss: 0.0517\n"
     ]
    },
    {
     "name": "stderr",
     "output_type": "stream",
     "text": [
      "Epochs:  96%|█████████▌| 67/70 [19:30<00:52, 17.53s/it]"
     ]
    },
    {
     "name": "stdout",
     "output_type": "stream",
     "text": [
      "1\n",
      "current epoch: 67 current AUC: 1.0000 current accuracy: 0.9752 best AUC: 1.0000 at epoch: 8\n",
      "----------\n",
      "epoch 68/70\n",
      "epoch 68 average loss: 0.0275\n"
     ]
    },
    {
     "name": "stderr",
     "output_type": "stream",
     "text": [
      "Epochs:  97%|█████████▋| 68/70 [19:47<00:35, 17.53s/it]"
     ]
    },
    {
     "name": "stdout",
     "output_type": "stream",
     "text": [
      "1\n",
      "current epoch: 68 current AUC: 0.9999 current accuracy: 0.9689 best AUC: 1.0000 at epoch: 8\n",
      "----------\n",
      "epoch 69/70\n",
      "epoch 69 average loss: 0.0394\n"
     ]
    },
    {
     "name": "stderr",
     "output_type": "stream",
     "text": [
      "Epochs:  99%|█████████▊| 69/70 [20:05<00:17, 17.47s/it]"
     ]
    },
    {
     "name": "stdout",
     "output_type": "stream",
     "text": [
      "1\n",
      "current epoch: 69 current AUC: 0.9991 current accuracy: 0.9565 best AUC: 1.0000 at epoch: 8\n",
      "----------\n",
      "epoch 70/70\n",
      "epoch 70 average loss: 0.0684\n"
     ]
    },
    {
     "name": "stderr",
     "output_type": "stream",
     "text": [
      "Epochs: 100%|██████████| 70/70 [20:22<00:00, 17.47s/it]"
     ]
    },
    {
     "name": "stdout",
     "output_type": "stream",
     "text": [
      "1\n",
      "current epoch: 70 current AUC: 0.9999 current accuracy: 0.9627 best AUC: 1.0000 at epoch: 8\n",
      "train completed, best_metric: 1.0000 at epoch: 8\n"
     ]
    },
    {
     "name": "stderr",
     "output_type": "stream",
     "text": [
      "\n"
     ]
    }
   ],
   "source": [
    "best_metric = -1\n",
    "best_metric_epoch = -1\n",
    "epoch_loss_values = []\n",
    "metric_values = []\n",
    "writer = SummaryWriter()\n",
    "\n",
    "start_time = time.time()\n",
    "process = psutil.Process()\n",
    "start_cpu = process.cpu_times()\n",
    "start_mem = process.memory_info().rss / 1024**2  # В MB\n",
    "\n",
    "if device.type == \"cuda\":\n",
    "    torch.cuda.synchronize()\n",
    "    torch.cuda.reset_peak_memory_stats()\n",
    "\n",
    "for epoch in tqdm(range(max_epochs), desc=\"Epochs\"):\n",
    "    print(\"-\" * 10)\n",
    "    print(f\"epoch {epoch + 1}/{max_epochs}\")\n",
    "    model.train()\n",
    "    epoch_loss = 0\n",
    "    step = 0\n",
    "    \n",
    "    for batch_data in train_loader:\n",
    "        step += 1\n",
    "        images, labels = batch_data['images'], batch_data['label'][:, 0].type(torch.LongTensor).to(device)\n",
    "        axial, coronal, sagittal = images\n",
    "\n",
    "        optimizer.zero_grad()\n",
    "        outputs = model(axial.to(device))\n",
    "        loss = loss_function(outputs, labels)\n",
    "        loss.backward()\n",
    "        optimizer.step()\n",
    "        \n",
    "        epoch_loss += loss.item()\n",
    "        epoch_len = len(train_dataset) // train_loader.batch_size\n",
    "        writer.add_scalar(\"train_loss\", loss.item(), epoch_len * epoch + step)\n",
    "        \n",
    "    epoch_loss /= step\n",
    "    epoch_loss_values.append(epoch_loss)\n",
    "    print(f\"epoch {epoch + 1} average loss: {epoch_loss:.4f}\")\n",
    "\n",
    "    if (epoch + 1) % val_interval == 0:\n",
    "        model.eval()\n",
    "        with torch.no_grad():\n",
    "            y_pred = torch.tensor([], dtype=torch.float32, device=device)\n",
    "            y = torch.tensor([], dtype=torch.long, device=device)\n",
    "            for val_data in val_loader:\n",
    "                val_images, val_labels = (\n",
    "                    val_data['images'],\n",
    "                    val_data['label'][:, 0].type(torch.LongTensor).to(device),\n",
    "                )\n",
    "                val_axial, val_coronal, val_sagittal = val_images\n",
    "                y_pred = torch.cat([y_pred, model(val_axial.to(device))], dim=0)\n",
    "                y = torch.cat([y, val_labels], dim=0)\n",
    "            y_onehot = [y_trans(i) for i in decollate_batch(y, detach=False)]\n",
    "            print('1')\n",
    "            y_pred_act = [y_pred_trans(i) for i in decollate_batch(y_pred)]\n",
    "            auc_metric(y_pred_act, y_onehot)\n",
    "            result = auc_metric.aggregate()\n",
    "            auc_metric.reset()\n",
    "            del y_pred_act, y_onehot\n",
    "            metric_values.append(result)\n",
    "            acc_value = torch.eq(y_pred.argmax(dim=1), y)\n",
    "            acc_metric = acc_value.sum().item() / len(acc_value)\n",
    "            if result > best_metric:\n",
    "                best_metric = result\n",
    "                best_metric_epoch = epoch + 1\n",
    "                torch.save(model.state_dict(), os.path.join(root_dir, \"axial_full_pretrained.pth\"))\n",
    "                print(\"saved new best metric model\")\n",
    "            print(\n",
    "                f\"current epoch: {epoch + 1} current AUC: {result:.4f}\"\n",
    "                f\" current accuracy: {acc_metric:.4f}\"\n",
    "                f\" best AUC: {best_metric:.4f}\"\n",
    "                f\" at epoch: {best_metric_epoch}\"\n",
    "            )\n",
    "            writer.add_scalar(\"val_accuracy\", acc_metric, epoch + 1)\n",
    "\n",
    "print(f\"train completed, best_metric: {best_metric:.4f} \" f\"at epoch: {best_metric_epoch}\")\n",
    "writer.close()"
   ]
  },
  {
   "cell_type": "code",
   "execution_count": 13,
   "metadata": {},
   "outputs": [
    {
     "name": "stdout",
     "output_type": "stream",
     "text": [
      "Training time: 1222.69 seconds\n",
      "CPU time used: 14643.00 seconds\n",
      "Memory used: 3550.26 MB\n",
      "GPU Memory Used: 192.62 MB\n",
      "Max GPU Memory Used: 237.87 MB\n"
     ]
    }
   ],
   "source": [
    "end_time = time.time()\n",
    "end_cpu = process.cpu_times()\n",
    "end_mem = process.memory_info().rss / 1024**2\n",
    "\n",
    "cpu_time = (end_cpu.user + end_cpu.system) - (start_cpu.user + start_cpu.system)\n",
    "memory_used = end_mem - start_mem\n",
    "\n",
    "print(f\"Training time: {end_time - start_time:.2f} seconds\")\n",
    "print(f\"CPU time used: {cpu_time:.2f} seconds\")\n",
    "print(f\"Memory used: {memory_used:.2f} MB\")\n",
    "\n",
    "if device.type == \"cuda\":\n",
    "    torch.cuda.synchronize()\n",
    "    print(f\"GPU Memory Used: {torch.cuda.memory_allocated() / 1024**2:.2f} MB\")\n",
    "    print(f\"Max GPU Memory Used: {torch.cuda.max_memory_allocated() / 1024**2:.2f} MB\")\n"
   ]
  },
  {
   "cell_type": "code",
   "execution_count": 14,
   "metadata": {},
   "outputs": [
    {
     "data": {
      "image/png": "[encoded data removed]",
      "text/plain": [
       "<Figure size 1200x600 with 2 Axes>"
      ]
     },
     "metadata": {},
     "output_type": "display_data"
    }
   ],
   "source": [
    "plt.figure(\"train\", (12, 6))\n",
    "plt.subplot(1, 2, 1)\n",
    "plt.title(\"Epoch Average Loss\")\n",
    "x = [i + 1 for i in range(len(epoch_loss_values))]\n",
    "y = epoch_loss_values\n",
    "plt.xlabel(\"epoch\")\n",
    "plt.plot(x, y)\n",
    "plt.subplot(1, 2, 2)\n",
    "plt.title(\"Val AUC\")\n",
    "x = [val_interval * (i + 1) for i in range(len(metric_values))]\n",
    "y = metric_values\n",
    "plt.xlabel(\"epoch\")\n",
    "plt.plot(x, y)\n",
    "plt.show()"
   ]
  },
  {
   "cell_type": "code",
   "execution_count": 15,
   "metadata": {},
   "outputs": [
    {
     "name": "stdout",
     "output_type": "stream",
     "text": [
      "VRAM currently used: 192.61 MB\n",
      "Max VRAM used during training: 237.87 MB\n"
     ]
    }
   ],
   "source": [
    "if device.type == \"cuda\":\n",
    "    torch.cuda.synchronize()\n",
    "    vram_used = torch.cuda.memory_allocated() / 1024**2\n",
    "    vram_max_used = torch.cuda.max_memory_allocated() / 1024**2\n",
    "\n",
    "    print(f\"VRAM currently used: {vram_used:.2f} MB\")\n",
    "    print(f\"Max VRAM used during training: {vram_max_used:.2f} MB\")\n"
   ]
  },
  {
   "cell_type": "markdown",
   "metadata": {},
   "source": [
    "### Evaluation"
   ]
  },
  {
   "cell_type": "code",
   "execution_count": 16,
   "metadata": {},
   "outputs": [],
   "source": [
    "model.load_state_dict(torch.load(os.path.join(root_dir, \"axial_full_pretrained.pth\"), weights_only=True))\n",
    "model.eval()\n",
    "y_true = []\n",
    "y_pred = []\n",
    "example_axial = []\n",
    "example_coronal = []\n",
    "example_sagittal = []\n",
    "example_preds = []\n",
    "example_labels = []\n",
    "\n",
    "with torch.no_grad():\n",
    "    for test_data in test_loader:\n",
    "        test_images, test_labels = (\n",
    "            test_data['images'],\n",
    "            test_data['label'][:, 0].type(torch.LongTensor).to(device),\n",
    "        )\n",
    "        test_axial, test_coronal, test_sagittal = test_images\n",
    "        pred = model(test_axial.to(device)).argmax(dim=1)\n",
    "        for i in range(len(pred)):\n",
    "            y_true.append(test_labels[i].item())\n",
    "            y_pred.append(pred[i].item())\n",
    "\n",
    "        if len(example_axial) < 10:\n",
    "            example_axial.append(test_axial)\n",
    "            example_coronal.append(test_coronal)\n",
    "            example_sagittal.append(test_sagittal)\n",
    "            example_preds.append(pred)\n",
    "            example_labels.append(test_labels)"
   ]
  },
  {
   "cell_type": "code",
   "execution_count": 17,
   "metadata": {},
   "outputs": [
    {
     "name": "stdout",
     "output_type": "stream",
     "text": [
      "VRAM currently used: 192.62 MB\n",
      "Max VRAM used during training: 237.87 MB\n"
     ]
    }
   ],
   "source": [
    "if device.type == \"cuda\":\n",
    "    torch.cuda.synchronize()\n",
    "    vram_used = torch.cuda.memory_allocated() / 1024**2\n",
    "    vram_max_used = torch.cuda.max_memory_allocated() / 1024**2\n",
    "\n",
    "    print(f\"VRAM currently used: {vram_used:.2f} MB\")\n",
    "    print(f\"Max VRAM used during training: {vram_max_used:.2f} MB\")\n"
   ]
  },
  {
   "cell_type": "code",
   "execution_count": 18,
   "metadata": {
    "scrolled": true
   },
   "outputs": [],
   "source": [
    "report = classification_report(y_true, y_pred, target_names=info['label'], digits=4, output_dict=True)"
   ]
  },
  {
   "cell_type": "code",
   "execution_count": 19,
   "metadata": {},
   "outputs": [],
   "source": [
    "import pandas as pd\n",
    "df = pd.DataFrame(report).transpose()\n",
    "df.to_csv(f'axial_full_pretrained_seed{seed}.csv')"
   ]
  },
  {
   "cell_type": "code",
   "execution_count": 20,
   "metadata": {},
   "outputs": [
    {
     "name": "stdout",
     "output_type": "stream",
     "text": [
      "              precision    recall  f1-score   support\n",
      "\n",
      "           0     0.9718    1.0000    0.9857        69\n",
      "           1     0.7302    0.6765    0.7023        68\n",
      "           2     0.6866    0.6667    0.6765        69\n",
      "           3     0.7368    0.8615    0.7943        65\n",
      "           4     0.7857    0.8462    0.8148        65\n",
      "           5     0.8493    0.9394    0.8921        66\n",
      "           6     1.0000    0.9286    0.9630        28\n",
      "           7     1.0000    1.0000    1.0000        21\n",
      "           8     1.0000    1.0000    1.0000        21\n",
      "           9     0.9474    0.7826    0.8571        69\n",
      "          10     0.8615    0.8116    0.8358        69\n",
      "\n",
      "    accuracy                         0.8393       610\n",
      "   macro avg     0.8699    0.8648    0.8656       610\n",
      "weighted avg     0.8425    0.8393    0.8388       610\n",
      "\n"
     ]
    }
   ],
   "source": [
    "print(classification_report(y_true, y_pred, target_names=info['label'], digits=4))"
   ]
  },
  {
   "cell_type": "markdown",
   "metadata": {},
   "source": [
    "## Unpretrained"
   ]
  },
  {
   "cell_type": "code",
   "execution_count": 21,
   "metadata": {},
   "outputs": [],
   "source": [
    "device = torch.device(\"cuda\" if torch.cuda.is_available() else \"cpu\")\n",
    "model = nets.resnet18(pretrained=False, spatial_dims=2, n_input_channels=64, num_classes=n_classes).to(device)\n",
    "loss_function = torch.nn.CrossEntropyLoss()\n",
    "optimizer = torch.optim.Adam(model.parameters(), 0.00005)\n",
    "max_epochs = 70\n",
    "val_interval = 1\n",
    "auc_metric = ROCAUCMetric()"
   ]
  },
  {
   "cell_type": "code",
   "execution_count": 22,
   "metadata": {
    "scrolled": true
   },
   "outputs": [
    {
     "name": "stderr",
     "output_type": "stream",
     "text": [
      "Epochs:   0%|          | 0/70 [00:00<?, ?it/s]"
     ]
    },
    {
     "name": "stdout",
     "output_type": "stream",
     "text": [
      "----------\n",
      "epoch 1/70\n",
      "epoch 1 average loss: 1.7959\n"
     ]
    },
    {
     "name": "stderr",
     "output_type": "stream",
     "text": [
      "Epochs:   1%|▏         | 1/70 [00:17<20:30, 17.83s/it]"
     ]
    },
    {
     "name": "stdout",
     "output_type": "stream",
     "text": [
      "1\n",
      "saved new best metric model\n",
      "current epoch: 1 current AUC: 0.9800 current accuracy: 0.8261 best AUC: 0.9800 at epoch: 1\n",
      "----------\n",
      "epoch 2/70\n",
      "epoch 2 average loss: 1.0269\n"
     ]
    },
    {
     "name": "stderr",
     "output_type": "stream",
     "text": [
      "Epochs:   3%|▎         | 2/70 [00:35<20:08, 17.77s/it]"
     ]
    },
    {
     "name": "stdout",
     "output_type": "stream",
     "text": [
      "1\n",
      "saved new best metric model\n",
      "current epoch: 2 current AUC: 0.9985 current accuracy: 0.9441 best AUC: 0.9985 at epoch: 2\n",
      "----------\n",
      "epoch 3/70\n",
      "epoch 3 average loss: 0.7502\n"
     ]
    },
    {
     "name": "stderr",
     "output_type": "stream",
     "text": [
      "Epochs:   4%|▍         | 3/70 [00:53<19:53, 17.81s/it]"
     ]
    },
    {
     "name": "stdout",
     "output_type": "stream",
     "text": [
      "1\n",
      "saved new best metric model\n",
      "current epoch: 3 current AUC: 1.0000 current accuracy: 0.9752 best AUC: 1.0000 at epoch: 3\n",
      "----------\n",
      "epoch 4/70\n",
      "epoch 4 average loss: 0.6159\n"
     ]
    },
    {
     "name": "stderr",
     "output_type": "stream",
     "text": [
      "Epochs:   6%|▌         | 4/70 [01:10<19:25, 17.66s/it]"
     ]
    },
    {
     "name": "stdout",
     "output_type": "stream",
     "text": [
      "1\n",
      "saved new best metric model\n",
      "current epoch: 4 current AUC: 1.0000 current accuracy: 0.9752 best AUC: 1.0000 at epoch: 4\n",
      "----------\n",
      "epoch 5/70\n",
      "epoch 5 average loss: 0.5658\n"
     ]
    },
    {
     "name": "stderr",
     "output_type": "stream",
     "text": [
      "Epochs:   7%|▋         | 5/70 [01:28<19:07, 17.66s/it]"
     ]
    },
    {
     "name": "stdout",
     "output_type": "stream",
     "text": [
      "1\n",
      "current epoch: 5 current AUC: 0.9998 current accuracy: 0.9441 best AUC: 1.0000 at epoch: 4\n",
      "----------\n",
      "epoch 6/70\n",
      "epoch 6 average loss: 0.4749\n"
     ]
    },
    {
     "name": "stderr",
     "output_type": "stream",
     "text": [
      "Epochs:   9%|▊         | 6/70 [01:46<18:51, 17.68s/it]"
     ]
    },
    {
     "name": "stdout",
     "output_type": "stream",
     "text": [
      "1\n",
      "current epoch: 6 current AUC: 0.9998 current accuracy: 0.9627 best AUC: 1.0000 at epoch: 4\n",
      "----------\n",
      "epoch 7/70\n",
      "epoch 7 average loss: 0.4333\n"
     ]
    },
    {
     "name": "stderr",
     "output_type": "stream",
     "text": [
      "Epochs:  10%|█         | 7/70 [02:03<18:31, 17.65s/it]"
     ]
    },
    {
     "name": "stdout",
     "output_type": "stream",
     "text": [
      "1\n",
      "current epoch: 7 current AUC: 1.0000 current accuracy: 0.9814 best AUC: 1.0000 at epoch: 4\n",
      "----------\n",
      "epoch 8/70\n",
      "epoch 8 average loss: 0.3808\n"
     ]
    },
    {
     "name": "stderr",
     "output_type": "stream",
     "text": [
      "Epochs:  11%|█▏        | 8/70 [02:21<18:11, 17.60s/it]"
     ]
    },
    {
     "name": "stdout",
     "output_type": "stream",
     "text": [
      "1\n",
      "current epoch: 8 current AUC: 1.0000 current accuracy: 1.0000 best AUC: 1.0000 at epoch: 4\n",
      "----------\n",
      "epoch 9/70\n",
      "epoch 9 average loss: 0.3697\n"
     ]
    },
    {
     "name": "stderr",
     "output_type": "stream",
     "text": [
      "Epochs:  13%|█▎        | 9/70 [02:38<17:50, 17.55s/it]"
     ]
    },
    {
     "name": "stdout",
     "output_type": "stream",
     "text": [
      "1\n",
      "current epoch: 9 current AUC: 0.9998 current accuracy: 0.9627 best AUC: 1.0000 at epoch: 4\n",
      "----------\n",
      "epoch 10/70\n",
      "epoch 10 average loss: 0.3427\n"
     ]
    },
    {
     "name": "stderr",
     "output_type": "stream",
     "text": [
      "Epochs:  14%|█▍        | 10/70 [02:56<17:35, 17.60s/it]"
     ]
    },
    {
     "name": "stdout",
     "output_type": "stream",
     "text": [
      "1\n",
      "current epoch: 10 current AUC: 0.9999 current accuracy: 0.9876 best AUC: 1.0000 at epoch: 4\n",
      "----------\n",
      "epoch 11/70\n",
      "epoch 11 average loss: 0.3028\n"
     ]
    },
    {
     "name": "stderr",
     "output_type": "stream",
     "text": [
      "Epochs:  16%|█▌        | 11/70 [03:13<17:15, 17.56s/it]"
     ]
    },
    {
     "name": "stdout",
     "output_type": "stream",
     "text": [
      "1\n",
      "current epoch: 11 current AUC: 1.0000 current accuracy: 0.9938 best AUC: 1.0000 at epoch: 4\n",
      "----------\n",
      "epoch 12/70\n",
      "epoch 12 average loss: 0.2736\n"
     ]
    },
    {
     "name": "stderr",
     "output_type": "stream",
     "text": [
      "Epochs:  17%|█▋        | 12/70 [03:31<16:59, 17.58s/it]"
     ]
    },
    {
     "name": "stdout",
     "output_type": "stream",
     "text": [
      "1\n",
      "current epoch: 12 current AUC: 1.0000 current accuracy: 0.9876 best AUC: 1.0000 at epoch: 4\n",
      "----------\n",
      "epoch 13/70\n",
      "epoch 13 average loss: 0.2147\n"
     ]
    },
    {
     "name": "stderr",
     "output_type": "stream",
     "text": [
      "Epochs:  19%|█▊        | 13/70 [03:49<16:47, 17.68s/it]"
     ]
    },
    {
     "name": "stdout",
     "output_type": "stream",
     "text": [
      "1\n",
      "current epoch: 13 current AUC: 0.9998 current accuracy: 0.9627 best AUC: 1.0000 at epoch: 4\n",
      "----------\n",
      "epoch 14/70\n",
      "epoch 14 average loss: 0.1787\n"
     ]
    },
    {
     "name": "stderr",
     "output_type": "stream",
     "text": [
      "Epochs:  20%|██        | 14/70 [04:07<16:28, 17.66s/it]"
     ]
    },
    {
     "name": "stdout",
     "output_type": "stream",
     "text": [
      "1\n",
      "current epoch: 14 current AUC: 0.9999 current accuracy: 0.9689 best AUC: 1.0000 at epoch: 4\n",
      "----------\n",
      "epoch 15/70\n",
      "epoch 15 average loss: 0.2178\n"
     ]
    },
    {
     "name": "stderr",
     "output_type": "stream",
     "text": [
      "Epochs:  21%|██▏       | 15/70 [04:24<16:08, 17.60s/it]"
     ]
    },
    {
     "name": "stdout",
     "output_type": "stream",
     "text": [
      "1\n",
      "current epoch: 15 current AUC: 0.9997 current accuracy: 0.9689 best AUC: 1.0000 at epoch: 4\n",
      "----------\n",
      "epoch 16/70\n",
      "epoch 16 average loss: 0.1948\n"
     ]
    },
    {
     "name": "stderr",
     "output_type": "stream",
     "text": [
      "Epochs:  23%|██▎       | 16/70 [04:42<15:50, 17.60s/it]"
     ]
    },
    {
     "name": "stdout",
     "output_type": "stream",
     "text": [
      "1\n",
      "current epoch: 16 current AUC: 0.9999 current accuracy: 0.9689 best AUC: 1.0000 at epoch: 4\n",
      "----------\n",
      "epoch 17/70\n",
      "epoch 17 average loss: 0.1964\n"
     ]
    },
    {
     "name": "stderr",
     "output_type": "stream",
     "text": [
      "Epochs:  24%|██▍       | 17/70 [04:59<15:31, 17.58s/it]"
     ]
    },
    {
     "name": "stdout",
     "output_type": "stream",
     "text": [
      "1\n",
      "current epoch: 17 current AUC: 0.9999 current accuracy: 0.9752 best AUC: 1.0000 at epoch: 4\n",
      "----------\n",
      "epoch 18/70\n",
      "epoch 18 average loss: 0.1583\n"
     ]
    },
    {
     "name": "stderr",
     "output_type": "stream",
     "text": [
      "Epochs:  26%|██▌       | 18/70 [05:17<15:11, 17.53s/it]"
     ]
    },
    {
     "name": "stdout",
     "output_type": "stream",
     "text": [
      "1\n",
      "current epoch: 18 current AUC: 1.0000 current accuracy: 0.9814 best AUC: 1.0000 at epoch: 4\n",
      "----------\n",
      "epoch 19/70\n",
      "epoch 19 average loss: 0.1181\n"
     ]
    },
    {
     "name": "stderr",
     "output_type": "stream",
     "text": [
      "Epochs:  27%|██▋       | 19/70 [05:34<14:53, 17.52s/it]"
     ]
    },
    {
     "name": "stdout",
     "output_type": "stream",
     "text": [
      "1\n",
      "current epoch: 19 current AUC: 0.9999 current accuracy: 0.9876 best AUC: 1.0000 at epoch: 4\n",
      "----------\n",
      "epoch 20/70\n",
      "epoch 20 average loss: 0.1704\n"
     ]
    },
    {
     "name": "stderr",
     "output_type": "stream",
     "text": [
      "Epochs:  29%|██▊       | 20/70 [05:51<14:31, 17.43s/it]"
     ]
    },
    {
     "name": "stdout",
     "output_type": "stream",
     "text": [
      "1\n",
      "current epoch: 20 current AUC: 0.9998 current accuracy: 0.9689 best AUC: 1.0000 at epoch: 4\n",
      "----------\n",
      "epoch 21/70\n",
      "epoch 21 average loss: 0.1446\n"
     ]
    },
    {
     "name": "stderr",
     "output_type": "stream",
     "text": [
      "Epochs:  30%|███       | 21/70 [06:09<14:14, 17.43s/it]"
     ]
    },
    {
     "name": "stdout",
     "output_type": "stream",
     "text": [
      "1\n",
      "current epoch: 21 current AUC: 0.9998 current accuracy: 0.9627 best AUC: 1.0000 at epoch: 4\n",
      "----------\n",
      "epoch 22/70\n",
      "epoch 22 average loss: 0.1618\n"
     ]
    },
    {
     "name": "stderr",
     "output_type": "stream",
     "text": [
      "Epochs:  31%|███▏      | 22/70 [06:26<14:00, 17.50s/it]"
     ]
    },
    {
     "name": "stdout",
     "output_type": "stream",
     "text": [
      "1\n",
      "current epoch: 22 current AUC: 0.9999 current accuracy: 0.9876 best AUC: 1.0000 at epoch: 4\n",
      "----------\n",
      "epoch 23/70\n",
      "epoch 23 average loss: 0.1360\n"
     ]
    },
    {
     "name": "stderr",
     "output_type": "stream",
     "text": [
      "Epochs:  33%|███▎      | 23/70 [06:44<13:45, 17.57s/it]"
     ]
    },
    {
     "name": "stdout",
     "output_type": "stream",
     "text": [
      "1\n",
      "current epoch: 23 current AUC: 0.9999 current accuracy: 0.9689 best AUC: 1.0000 at epoch: 4\n",
      "----------\n",
      "epoch 24/70\n",
      "epoch 24 average loss: 0.1365\n"
     ]
    },
    {
     "name": "stderr",
     "output_type": "stream",
     "text": [
      "Epochs:  34%|███▍      | 24/70 [07:02<13:27, 17.55s/it]"
     ]
    },
    {
     "name": "stdout",
     "output_type": "stream",
     "text": [
      "1\n",
      "current epoch: 24 current AUC: 1.0000 current accuracy: 0.9876 best AUC: 1.0000 at epoch: 4\n",
      "----------\n",
      "epoch 25/70\n",
      "epoch 25 average loss: 0.1032\n"
     ]
    },
    {
     "name": "stderr",
     "output_type": "stream",
     "text": [
      "Epochs:  36%|███▌      | 25/70 [07:19<13:12, 17.61s/it]"
     ]
    },
    {
     "name": "stdout",
     "output_type": "stream",
     "text": [
      "1\n",
      "current epoch: 25 current AUC: 0.9999 current accuracy: 0.9814 best AUC: 1.0000 at epoch: 4\n",
      "----------\n",
      "epoch 26/70\n",
      "epoch 26 average loss: 0.1028\n"
     ]
    },
    {
     "name": "stderr",
     "output_type": "stream",
     "text": [
      "Epochs:  37%|███▋      | 26/70 [07:37<12:55, 17.63s/it]"
     ]
    },
    {
     "name": "stdout",
     "output_type": "stream",
     "text": [
      "1\n",
      "current epoch: 26 current AUC: 1.0000 current accuracy: 0.9876 best AUC: 1.0000 at epoch: 4\n",
      "----------\n",
      "epoch 27/70\n",
      "epoch 27 average loss: 0.0819\n"
     ]
    },
    {
     "name": "stderr",
     "output_type": "stream",
     "text": [
      "Epochs:  39%|███▊      | 27/70 [07:54<12:35, 17.58s/it]"
     ]
    },
    {
     "name": "stdout",
     "output_type": "stream",
     "text": [
      "1\n",
      "current epoch: 27 current AUC: 1.0000 current accuracy: 0.9814 best AUC: 1.0000 at epoch: 4\n",
      "----------\n",
      "epoch 28/70\n",
      "epoch 28 average loss: 0.0987\n"
     ]
    },
    {
     "name": "stderr",
     "output_type": "stream",
     "text": [
      "Epochs:  40%|████      | 28/70 [08:12<12:18, 17.59s/it]"
     ]
    },
    {
     "name": "stdout",
     "output_type": "stream",
     "text": [
      "1\n",
      "current epoch: 28 current AUC: 0.9999 current accuracy: 0.9503 best AUC: 1.0000 at epoch: 4\n",
      "----------\n",
      "epoch 29/70\n",
      "epoch 29 average loss: 0.1036\n"
     ]
    },
    {
     "name": "stderr",
     "output_type": "stream",
     "text": [
      "Epochs:  41%|████▏     | 29/70 [08:29<11:58, 17.52s/it]"
     ]
    },
    {
     "name": "stdout",
     "output_type": "stream",
     "text": [
      "1\n",
      "current epoch: 29 current AUC: 0.9995 current accuracy: 0.9565 best AUC: 1.0000 at epoch: 4\n",
      "----------\n",
      "epoch 30/70\n",
      "epoch 30 average loss: 0.0783\n"
     ]
    },
    {
     "name": "stderr",
     "output_type": "stream",
     "text": [
      "Epochs:  43%|████▎     | 30/70 [08:47<11:38, 17.47s/it]"
     ]
    },
    {
     "name": "stdout",
     "output_type": "stream",
     "text": [
      "1\n",
      "current epoch: 30 current AUC: 1.0000 current accuracy: 0.9938 best AUC: 1.0000 at epoch: 4\n",
      "----------\n",
      "epoch 31/70\n",
      "epoch 31 average loss: 0.0792\n"
     ]
    },
    {
     "name": "stderr",
     "output_type": "stream",
     "text": [
      "Epochs:  44%|████▍     | 31/70 [09:04<11:18, 17.41s/it]"
     ]
    },
    {
     "name": "stdout",
     "output_type": "stream",
     "text": [
      "1\n",
      "current epoch: 31 current AUC: 1.0000 current accuracy: 0.9814 best AUC: 1.0000 at epoch: 4\n",
      "----------\n",
      "epoch 32/70\n",
      "epoch 32 average loss: 0.1134\n"
     ]
    },
    {
     "name": "stderr",
     "output_type": "stream",
     "text": [
      "Epochs:  46%|████▌     | 32/70 [09:22<11:03, 17.47s/it]"
     ]
    },
    {
     "name": "stdout",
     "output_type": "stream",
     "text": [
      "1\n",
      "current epoch: 32 current AUC: 1.0000 current accuracy: 0.9689 best AUC: 1.0000 at epoch: 4\n",
      "----------\n",
      "epoch 33/70\n",
      "epoch 33 average loss: 0.0693\n"
     ]
    },
    {
     "name": "stderr",
     "output_type": "stream",
     "text": [
      "Epochs:  47%|████▋     | 33/70 [09:39<10:47, 17.51s/it]"
     ]
    },
    {
     "name": "stdout",
     "output_type": "stream",
     "text": [
      "1\n",
      "current epoch: 33 current AUC: 0.9999 current accuracy: 0.9876 best AUC: 1.0000 at epoch: 4\n",
      "----------\n",
      "epoch 34/70\n",
      "epoch 34 average loss: 0.0592\n"
     ]
    },
    {
     "name": "stderr",
     "output_type": "stream",
     "text": [
      "Epochs:  49%|████▊     | 34/70 [09:57<10:31, 17.54s/it]"
     ]
    },
    {
     "name": "stdout",
     "output_type": "stream",
     "text": [
      "1\n",
      "current epoch: 34 current AUC: 1.0000 current accuracy: 0.9876 best AUC: 1.0000 at epoch: 4\n",
      "----------\n",
      "epoch 35/70\n",
      "epoch 35 average loss: 0.0481\n"
     ]
    },
    {
     "name": "stderr",
     "output_type": "stream",
     "text": [
      "Epochs:  50%|█████     | 35/70 [10:14<10:13, 17.54s/it]"
     ]
    },
    {
     "name": "stdout",
     "output_type": "stream",
     "text": [
      "1\n",
      "current epoch: 35 current AUC: 1.0000 current accuracy: 0.9752 best AUC: 1.0000 at epoch: 4\n",
      "----------\n",
      "epoch 36/70\n",
      "epoch 36 average loss: 0.0581\n"
     ]
    },
    {
     "name": "stderr",
     "output_type": "stream",
     "text": [
      "Epochs:  51%|█████▏    | 36/70 [10:32<09:57, 17.57s/it]"
     ]
    },
    {
     "name": "stdout",
     "output_type": "stream",
     "text": [
      "1\n",
      "current epoch: 36 current AUC: 0.9999 current accuracy: 0.9814 best AUC: 1.0000 at epoch: 4\n",
      "----------\n",
      "epoch 37/70\n",
      "epoch 37 average loss: 0.0923\n"
     ]
    },
    {
     "name": "stderr",
     "output_type": "stream",
     "text": [
      "Epochs:  53%|█████▎    | 37/70 [10:50<09:38, 17.54s/it]"
     ]
    },
    {
     "name": "stdout",
     "output_type": "stream",
     "text": [
      "1\n",
      "current epoch: 37 current AUC: 0.9998 current accuracy: 0.9876 best AUC: 1.0000 at epoch: 4\n",
      "----------\n",
      "epoch 38/70\n",
      "epoch 38 average loss: 0.0849\n"
     ]
    },
    {
     "name": "stderr",
     "output_type": "stream",
     "text": [
      "Epochs:  54%|█████▍    | 38/70 [11:07<09:21, 17.54s/it]"
     ]
    },
    {
     "name": "stdout",
     "output_type": "stream",
     "text": [
      "1\n",
      "current epoch: 38 current AUC: 1.0000 current accuracy: 0.9814 best AUC: 1.0000 at epoch: 4\n",
      "----------\n",
      "epoch 39/70\n",
      "epoch 39 average loss: 0.1009\n"
     ]
    },
    {
     "name": "stderr",
     "output_type": "stream",
     "text": [
      "Epochs:  56%|█████▌    | 39/70 [11:25<09:04, 17.56s/it]"
     ]
    },
    {
     "name": "stdout",
     "output_type": "stream",
     "text": [
      "1\n",
      "current epoch: 39 current AUC: 0.9999 current accuracy: 0.9876 best AUC: 1.0000 at epoch: 4\n",
      "----------\n",
      "epoch 40/70\n",
      "epoch 40 average loss: 0.0834\n"
     ]
    },
    {
     "name": "stderr",
     "output_type": "stream",
     "text": [
      "Epochs:  57%|█████▋    | 40/70 [11:42<08:46, 17.55s/it]"
     ]
    },
    {
     "name": "stdout",
     "output_type": "stream",
     "text": [
      "1\n",
      "current epoch: 40 current AUC: 1.0000 current accuracy: 0.9938 best AUC: 1.0000 at epoch: 4\n",
      "----------\n",
      "epoch 41/70\n",
      "epoch 41 average loss: 0.0903\n"
     ]
    },
    {
     "name": "stderr",
     "output_type": "stream",
     "text": [
      "Epochs:  59%|█████▊    | 41/70 [12:00<08:31, 17.65s/it]"
     ]
    },
    {
     "name": "stdout",
     "output_type": "stream",
     "text": [
      "1\n",
      "current epoch: 41 current AUC: 1.0000 current accuracy: 0.9689 best AUC: 1.0000 at epoch: 4\n",
      "----------\n",
      "epoch 42/70\n",
      "epoch 42 average loss: 0.0513\n"
     ]
    },
    {
     "name": "stderr",
     "output_type": "stream",
     "text": [
      "Epochs:  60%|██████    | 42/70 [12:18<08:13, 17.64s/it]"
     ]
    },
    {
     "name": "stdout",
     "output_type": "stream",
     "text": [
      "1\n",
      "current epoch: 42 current AUC: 1.0000 current accuracy: 0.9814 best AUC: 1.0000 at epoch: 4\n",
      "----------\n",
      "epoch 43/70\n",
      "epoch 43 average loss: 0.0433\n"
     ]
    },
    {
     "name": "stderr",
     "output_type": "stream",
     "text": [
      "Epochs:  61%|██████▏   | 43/70 [12:35<07:56, 17.63s/it]"
     ]
    },
    {
     "name": "stdout",
     "output_type": "stream",
     "text": [
      "1\n",
      "current epoch: 43 current AUC: 0.9999 current accuracy: 0.9752 best AUC: 1.0000 at epoch: 4\n",
      "----------\n",
      "epoch 44/70\n",
      "epoch 44 average loss: 0.0519\n"
     ]
    },
    {
     "name": "stderr",
     "output_type": "stream",
     "text": [
      "Epochs:  63%|██████▎   | 44/70 [12:53<07:37, 17.60s/it]"
     ]
    },
    {
     "name": "stdout",
     "output_type": "stream",
     "text": [
      "1\n",
      "current epoch: 44 current AUC: 1.0000 current accuracy: 0.9814 best AUC: 1.0000 at epoch: 4\n",
      "----------\n",
      "epoch 45/70\n",
      "epoch 45 average loss: 0.0828\n"
     ]
    },
    {
     "name": "stderr",
     "output_type": "stream",
     "text": [
      "Epochs:  64%|██████▍   | 45/70 [13:11<07:20, 17.61s/it]"
     ]
    },
    {
     "name": "stdout",
     "output_type": "stream",
     "text": [
      "1\n",
      "current epoch: 45 current AUC: 0.9999 current accuracy: 0.9876 best AUC: 1.0000 at epoch: 4\n",
      "----------\n",
      "epoch 46/70\n",
      "epoch 46 average loss: 0.0508\n"
     ]
    },
    {
     "name": "stderr",
     "output_type": "stream",
     "text": [
      "Epochs:  66%|██████▌   | 46/70 [13:28<07:03, 17.63s/it]"
     ]
    },
    {
     "name": "stdout",
     "output_type": "stream",
     "text": [
      "1\n",
      "current epoch: 46 current AUC: 1.0000 current accuracy: 0.9752 best AUC: 1.0000 at epoch: 4\n",
      "----------\n",
      "epoch 47/70\n",
      "epoch 47 average loss: 0.0574\n"
     ]
    },
    {
     "name": "stderr",
     "output_type": "stream",
     "text": [
      "Epochs:  67%|██████▋   | 47/70 [13:46<06:47, 17.70s/it]"
     ]
    },
    {
     "name": "stdout",
     "output_type": "stream",
     "text": [
      "1\n",
      "current epoch: 47 current AUC: 0.9999 current accuracy: 0.9876 best AUC: 1.0000 at epoch: 4\n",
      "----------\n",
      "epoch 48/70\n",
      "epoch 48 average loss: 0.0623\n"
     ]
    },
    {
     "name": "stderr",
     "output_type": "stream",
     "text": [
      "Epochs:  69%|██████▊   | 48/70 [14:04<06:29, 17.71s/it]"
     ]
    },
    {
     "name": "stdout",
     "output_type": "stream",
     "text": [
      "1\n",
      "current epoch: 48 current AUC: 0.9997 current accuracy: 0.9689 best AUC: 1.0000 at epoch: 4\n",
      "----------\n",
      "epoch 49/70\n",
      "epoch 49 average loss: 0.0931\n"
     ]
    },
    {
     "name": "stderr",
     "output_type": "stream",
     "text": [
      "Epochs:  70%|███████   | 49/70 [14:21<06:11, 17.68s/it]"
     ]
    },
    {
     "name": "stdout",
     "output_type": "stream",
     "text": [
      "1\n",
      "current epoch: 49 current AUC: 0.9995 current accuracy: 0.9565 best AUC: 1.0000 at epoch: 4\n",
      "----------\n",
      "epoch 50/70\n",
      "epoch 50 average loss: 0.0715\n"
     ]
    },
    {
     "name": "stderr",
     "output_type": "stream",
     "text": [
      "Epochs:  71%|███████▏  | 50/70 [14:39<05:52, 17.60s/it]"
     ]
    },
    {
     "name": "stdout",
     "output_type": "stream",
     "text": [
      "1\n",
      "current epoch: 50 current AUC: 0.9995 current accuracy: 0.9689 best AUC: 1.0000 at epoch: 4\n",
      "----------\n",
      "epoch 51/70\n",
      "epoch 51 average loss: 0.0588\n"
     ]
    },
    {
     "name": "stderr",
     "output_type": "stream",
     "text": [
      "Epochs:  73%|███████▎  | 51/70 [14:56<05:34, 17.62s/it]"
     ]
    },
    {
     "name": "stdout",
     "output_type": "stream",
     "text": [
      "1\n",
      "current epoch: 51 current AUC: 1.0000 current accuracy: 0.9814 best AUC: 1.0000 at epoch: 4\n",
      "----------\n",
      "epoch 52/70\n",
      "epoch 52 average loss: 0.0685\n"
     ]
    },
    {
     "name": "stderr",
     "output_type": "stream",
     "text": [
      "Epochs:  74%|███████▍  | 52/70 [15:14<05:17, 17.61s/it]"
     ]
    },
    {
     "name": "stdout",
     "output_type": "stream",
     "text": [
      "1\n",
      "current epoch: 52 current AUC: 0.9999 current accuracy: 0.9876 best AUC: 1.0000 at epoch: 4\n",
      "----------\n",
      "epoch 53/70\n",
      "epoch 53 average loss: 0.0485\n"
     ]
    },
    {
     "name": "stderr",
     "output_type": "stream",
     "text": [
      "Epochs:  76%|███████▌  | 53/70 [15:32<05:01, 17.71s/it]"
     ]
    },
    {
     "name": "stdout",
     "output_type": "stream",
     "text": [
      "1\n",
      "current epoch: 53 current AUC: 0.9998 current accuracy: 0.9752 best AUC: 1.0000 at epoch: 4\n",
      "----------\n",
      "epoch 54/70\n",
      "epoch 54 average loss: 0.0646\n"
     ]
    },
    {
     "name": "stderr",
     "output_type": "stream",
     "text": [
      "Epochs:  77%|███████▋  | 54/70 [15:50<04:43, 17.70s/it]"
     ]
    },
    {
     "name": "stdout",
     "output_type": "stream",
     "text": [
      "1\n",
      "current epoch: 54 current AUC: 0.9997 current accuracy: 0.9752 best AUC: 1.0000 at epoch: 4\n",
      "----------\n",
      "epoch 55/70\n",
      "epoch 55 average loss: 0.0366\n"
     ]
    },
    {
     "name": "stderr",
     "output_type": "stream",
     "text": [
      "Epochs:  79%|███████▊  | 55/70 [16:07<04:25, 17.71s/it]"
     ]
    },
    {
     "name": "stdout",
     "output_type": "stream",
     "text": [
      "1\n",
      "current epoch: 55 current AUC: 1.0000 current accuracy: 0.9938 best AUC: 1.0000 at epoch: 4\n",
      "----------\n",
      "epoch 56/70\n",
      "epoch 56 average loss: 0.0549\n"
     ]
    },
    {
     "name": "stderr",
     "output_type": "stream",
     "text": [
      "Epochs:  80%|████████  | 56/70 [16:25<04:06, 17.63s/it]"
     ]
    },
    {
     "name": "stdout",
     "output_type": "stream",
     "text": [
      "1\n",
      "current epoch: 56 current AUC: 1.0000 current accuracy: 0.9876 best AUC: 1.0000 at epoch: 4\n",
      "----------\n",
      "epoch 57/70\n",
      "epoch 57 average loss: 0.0547\n"
     ]
    },
    {
     "name": "stderr",
     "output_type": "stream",
     "text": [
      "Epochs:  81%|████████▏ | 57/70 [16:43<03:49, 17.65s/it]"
     ]
    },
    {
     "name": "stdout",
     "output_type": "stream",
     "text": [
      "1\n",
      "current epoch: 57 current AUC: 1.0000 current accuracy: 0.9814 best AUC: 1.0000 at epoch: 4\n",
      "----------\n",
      "epoch 58/70\n",
      "epoch 58 average loss: 0.0401\n"
     ]
    },
    {
     "name": "stderr",
     "output_type": "stream",
     "text": [
      "Epochs:  83%|████████▎ | 58/70 [17:01<03:33, 17.75s/it]"
     ]
    },
    {
     "name": "stdout",
     "output_type": "stream",
     "text": [
      "1\n",
      "current epoch: 58 current AUC: 1.0000 current accuracy: 0.9814 best AUC: 1.0000 at epoch: 4\n",
      "----------\n",
      "epoch 59/70\n",
      "epoch 59 average loss: 0.0396\n"
     ]
    },
    {
     "name": "stderr",
     "output_type": "stream",
     "text": [
      "Epochs:  84%|████████▍ | 59/70 [17:18<03:14, 17.72s/it]"
     ]
    },
    {
     "name": "stdout",
     "output_type": "stream",
     "text": [
      "1\n",
      "current epoch: 59 current AUC: 0.9999 current accuracy: 0.9627 best AUC: 1.0000 at epoch: 4\n",
      "----------\n",
      "epoch 60/70\n",
      "epoch 60 average loss: 0.0956\n"
     ]
    },
    {
     "name": "stderr",
     "output_type": "stream",
     "text": [
      "Epochs:  86%|████████▌ | 60/70 [17:36<02:56, 17.63s/it]"
     ]
    },
    {
     "name": "stdout",
     "output_type": "stream",
     "text": [
      "1\n",
      "current epoch: 60 current AUC: 0.9999 current accuracy: 0.9689 best AUC: 1.0000 at epoch: 4\n",
      "----------\n",
      "epoch 61/70\n",
      "epoch 61 average loss: 0.0633\n"
     ]
    },
    {
     "name": "stderr",
     "output_type": "stream",
     "text": [
      "Epochs:  87%|████████▋ | 61/70 [17:54<02:39, 17.78s/it]"
     ]
    },
    {
     "name": "stdout",
     "output_type": "stream",
     "text": [
      "1\n",
      "current epoch: 61 current AUC: 0.9998 current accuracy: 0.9814 best AUC: 1.0000 at epoch: 4\n",
      "----------\n",
      "epoch 62/70\n",
      "epoch 62 average loss: 0.0363\n"
     ]
    },
    {
     "name": "stderr",
     "output_type": "stream",
     "text": [
      "Epochs:  89%|████████▊ | 62/70 [18:11<02:21, 17.69s/it]"
     ]
    },
    {
     "name": "stdout",
     "output_type": "stream",
     "text": [
      "1\n",
      "current epoch: 62 current AUC: 1.0000 current accuracy: 0.9876 best AUC: 1.0000 at epoch: 4\n",
      "----------\n",
      "epoch 63/70\n",
      "epoch 63 average loss: 0.0525\n"
     ]
    },
    {
     "name": "stderr",
     "output_type": "stream",
     "text": [
      "Epochs:  90%|█████████ | 63/70 [18:29<02:03, 17.68s/it]"
     ]
    },
    {
     "name": "stdout",
     "output_type": "stream",
     "text": [
      "1\n",
      "current epoch: 63 current AUC: 1.0000 current accuracy: 0.9814 best AUC: 1.0000 at epoch: 4\n",
      "----------\n",
      "epoch 64/70\n",
      "epoch 64 average loss: 0.0362\n"
     ]
    },
    {
     "name": "stderr",
     "output_type": "stream",
     "text": [
      "Epochs:  91%|█████████▏| 64/70 [18:47<01:45, 17.66s/it]"
     ]
    },
    {
     "name": "stdout",
     "output_type": "stream",
     "text": [
      "1\n",
      "current epoch: 64 current AUC: 1.0000 current accuracy: 0.9752 best AUC: 1.0000 at epoch: 4\n",
      "----------\n",
      "epoch 65/70\n",
      "epoch 65 average loss: 0.0470\n"
     ]
    },
    {
     "name": "stderr",
     "output_type": "stream",
     "text": [
      "Epochs:  93%|█████████▎| 65/70 [19:04<01:28, 17.69s/it]"
     ]
    },
    {
     "name": "stdout",
     "output_type": "stream",
     "text": [
      "1\n",
      "current epoch: 65 current AUC: 0.9998 current accuracy: 0.9689 best AUC: 1.0000 at epoch: 4\n",
      "----------\n",
      "epoch 66/70\n",
      "epoch 66 average loss: 0.0280\n"
     ]
    },
    {
     "name": "stderr",
     "output_type": "stream",
     "text": [
      "Epochs:  94%|█████████▍| 66/70 [19:22<01:10, 17.63s/it]"
     ]
    },
    {
     "name": "stdout",
     "output_type": "stream",
     "text": [
      "1\n",
      "current epoch: 66 current AUC: 1.0000 current accuracy: 0.9503 best AUC: 1.0000 at epoch: 4\n",
      "----------\n",
      "epoch 67/70\n",
      "epoch 67 average loss: 0.0428\n"
     ]
    },
    {
     "name": "stderr",
     "output_type": "stream",
     "text": [
      "Epochs:  96%|█████████▌| 67/70 [19:39<00:52, 17.62s/it]"
     ]
    },
    {
     "name": "stdout",
     "output_type": "stream",
     "text": [
      "1\n",
      "current epoch: 67 current AUC: 1.0000 current accuracy: 0.9752 best AUC: 1.0000 at epoch: 4\n",
      "----------\n",
      "epoch 68/70\n",
      "epoch 68 average loss: 0.0670\n"
     ]
    },
    {
     "name": "stderr",
     "output_type": "stream",
     "text": [
      "Epochs:  97%|█████████▋| 68/70 [19:57<00:35, 17.68s/it]"
     ]
    },
    {
     "name": "stdout",
     "output_type": "stream",
     "text": [
      "1\n",
      "current epoch: 68 current AUC: 1.0000 current accuracy: 0.9814 best AUC: 1.0000 at epoch: 4\n",
      "----------\n",
      "epoch 69/70\n",
      "epoch 69 average loss: 0.0470\n"
     ]
    },
    {
     "name": "stderr",
     "output_type": "stream",
     "text": [
      "Epochs:  99%|█████████▊| 69/70 [20:15<00:17, 17.64s/it]"
     ]
    },
    {
     "name": "stdout",
     "output_type": "stream",
     "text": [
      "1\n",
      "current epoch: 69 current AUC: 1.0000 current accuracy: 0.9814 best AUC: 1.0000 at epoch: 4\n",
      "----------\n",
      "epoch 70/70\n",
      "epoch 70 average loss: 0.0531\n"
     ]
    },
    {
     "name": "stderr",
     "output_type": "stream",
     "text": [
      "Epochs: 100%|██████████| 70/70 [20:32<00:00, 17.61s/it]"
     ]
    },
    {
     "name": "stdout",
     "output_type": "stream",
     "text": [
      "1\n",
      "current epoch: 70 current AUC: 1.0000 current accuracy: 1.0000 best AUC: 1.0000 at epoch: 4\n",
      "train completed, best_metric: 1.0000 at epoch: 4\n"
     ]
    },
    {
     "name": "stderr",
     "output_type": "stream",
     "text": [
      "\n"
     ]
    }
   ],
   "source": [
    "best_metric = -1\n",
    "best_metric_epoch = -1\n",
    "epoch_loss_values = []\n",
    "metric_values = []\n",
    "writer = SummaryWriter()\n",
    "\n",
    "start_time = time.time()\n",
    "process = psutil.Process()\n",
    "start_cpu = process.cpu_times()\n",
    "start_mem = process.memory_info().rss / 1024**2  # В MB\n",
    "\n",
    "if device.type == \"cuda\":\n",
    "    torch.cuda.synchronize()\n",
    "    torch.cuda.reset_peak_memory_stats()\n",
    "\n",
    "for epoch in tqdm(range(max_epochs), desc=\"Epochs\"):\n",
    "    print(\"-\" * 10)\n",
    "    print(f\"epoch {epoch + 1}/{max_epochs}\")\n",
    "    model.train()\n",
    "    epoch_loss = 0\n",
    "    step = 0\n",
    "    \n",
    "    for batch_data in train_loader:\n",
    "        step += 1\n",
    "        images, labels = batch_data['images'], batch_data['label'][:, 0].type(torch.LongTensor).to(device)\n",
    "        axial, coronal, sagittal = images\n",
    "\n",
    "        optimizer.zero_grad()\n",
    "        outputs = model(axial.to(device))\n",
    "        loss = loss_function(outputs, labels)\n",
    "        loss.backward()\n",
    "        optimizer.step()\n",
    "        \n",
    "        epoch_loss += loss.item()\n",
    "        epoch_len = len(train_dataset) // train_loader.batch_size\n",
    "        writer.add_scalar(\"train_loss\", loss.item(), epoch_len * epoch + step)\n",
    "        \n",
    "    epoch_loss /= step\n",
    "    epoch_loss_values.append(epoch_loss)\n",
    "    print(f\"epoch {epoch + 1} average loss: {epoch_loss:.4f}\")\n",
    "\n",
    "    if (epoch + 1) % val_interval == 0:\n",
    "        model.eval()\n",
    "        with torch.no_grad():\n",
    "            y_pred = torch.tensor([], dtype=torch.float32, device=device)\n",
    "            y = torch.tensor([], dtype=torch.long, device=device)\n",
    "            for val_data in val_loader:\n",
    "                val_images, val_labels = (\n",
    "                    val_data['images'],\n",
    "                    val_data['label'][:, 0].type(torch.LongTensor).to(device),\n",
    "                )\n",
    "                val_axial, val_coronal, val_sagittal = val_images\n",
    "                y_pred = torch.cat([y_pred, model(val_axial.to(device))], dim=0)\n",
    "                y = torch.cat([y, val_labels], dim=0)\n",
    "            y_onehot = [y_trans(i) for i in decollate_batch(y, detach=False)]\n",
    "            print('1')\n",
    "            y_pred_act = [y_pred_trans(i) for i in decollate_batch(y_pred)]\n",
    "            auc_metric(y_pred_act, y_onehot)\n",
    "            result = auc_metric.aggregate()\n",
    "            auc_metric.reset()\n",
    "            del y_pred_act, y_onehot\n",
    "            metric_values.append(result)\n",
    "            acc_value = torch.eq(y_pred.argmax(dim=1), y)\n",
    "            acc_metric = acc_value.sum().item() / len(acc_value)\n",
    "            if result > best_metric:\n",
    "                best_metric = result\n",
    "                best_metric_epoch = epoch + 1\n",
    "                torch.save(model.state_dict(), os.path.join(root_dir, \"axial_full_unpretrained.pth\"))\n",
    "                print(\"saved new best metric model\")\n",
    "            print(\n",
    "                f\"current epoch: {epoch + 1} current AUC: {result:.4f}\"\n",
    "                f\" current accuracy: {acc_metric:.4f}\"\n",
    "                f\" best AUC: {best_metric:.4f}\"\n",
    "                f\" at epoch: {best_metric_epoch}\"\n",
    "            )\n",
    "            writer.add_scalar(\"val_accuracy\", acc_metric, epoch + 1)\n",
    "\n",
    "print(f\"train completed, best_metric: {best_metric:.4f} \" f\"at epoch: {best_metric_epoch}\")\n",
    "writer.close()"
   ]
  },
  {
   "cell_type": "code",
   "execution_count": 23,
   "metadata": {},
   "outputs": [
    {
     "name": "stdout",
     "output_type": "stream",
     "text": [
      "Training time: 1232.88 seconds\n",
      "CPU time used: 14779.40 seconds\n",
      "Memory used: 491.09 MB\n",
      "GPU Memory Used: 193.52 MB\n",
      "Max GPU Memory Used: 251.94 MB\n"
     ]
    }
   ],
   "source": [
    "end_time = time.time()\n",
    "end_cpu = process.cpu_times()\n",
    "end_mem = process.memory_info().rss / 1024**2\n",
    "\n",
    "cpu_time = (end_cpu.user + end_cpu.system) - (start_cpu.user + start_cpu.system)\n",
    "memory_used = end_mem - start_mem\n",
    "\n",
    "print(f\"Training time: {end_time - start_time:.2f} seconds\")\n",
    "print(f\"CPU time used: {cpu_time:.2f} seconds\")\n",
    "print(f\"Memory used: {memory_used:.2f} MB\")\n",
    "\n",
    "if device.type == \"cuda\":\n",
    "    torch.cuda.synchronize()\n",
    "    print(f\"GPU Memory Used: {torch.cuda.memory_allocated() / 1024**2:.2f} MB\")\n",
    "    print(f\"Max GPU Memory Used: {torch.cuda.max_memory_allocated() / 1024**2:.2f} MB\")\n"
   ]
  },
  {
   "cell_type": "code",
   "execution_count": 24,
   "metadata": {},
   "outputs": [
    {
     "data": {
      "image/png": "[encoded data removed]",
      "text/plain": [
       "<Figure size 1200x600 with 2 Axes>"
      ]
     },
     "metadata": {},
     "output_type": "display_data"
    }
   ],
   "source": [
    "plt.figure(\"train\", (12, 6))\n",
    "plt.subplot(1, 2, 1)\n",
    "plt.title(\"Epoch Average Loss\")\n",
    "x = [i + 1 for i in range(len(epoch_loss_values))]\n",
    "y = epoch_loss_values\n",
    "plt.xlabel(\"epoch\")\n",
    "plt.plot(x, y)\n",
    "plt.subplot(1, 2, 2)\n",
    "plt.title(\"Val AUC\")\n",
    "x = [val_interval * (i + 1) for i in range(len(metric_values))]\n",
    "y = metric_values\n",
    "plt.xlabel(\"epoch\")\n",
    "plt.plot(x, y)\n",
    "plt.show()"
   ]
  },
  {
   "cell_type": "code",
   "execution_count": 25,
   "metadata": {},
   "outputs": [
    {
     "name": "stdout",
     "output_type": "stream",
     "text": [
      "VRAM currently used: 193.51 MB\n",
      "Max VRAM used during training: 251.94 MB\n"
     ]
    }
   ],
   "source": [
    "if device.type == \"cuda\":\n",
    "    torch.cuda.synchronize()\n",
    "    vram_used = torch.cuda.memory_allocated() / 1024**2\n",
    "    vram_max_used = torch.cuda.max_memory_allocated() / 1024**2\n",
    "\n",
    "    print(f\"VRAM currently used: {vram_used:.2f} MB\")\n",
    "    print(f\"Max VRAM used during training: {vram_max_used:.2f} MB\")\n"
   ]
  },
  {
   "cell_type": "markdown",
   "metadata": {},
   "source": [
    "### Evaluation"
   ]
  },
  {
   "cell_type": "code",
   "execution_count": 26,
   "metadata": {},
   "outputs": [],
   "source": [
    "model.load_state_dict(torch.load(os.path.join(root_dir, \"axial_full_unpretrained.pth\"), weights_only=True))\n",
    "model.eval()\n",
    "y_true = []\n",
    "y_pred = []\n",
    "example_axial = []\n",
    "example_coronal = []\n",
    "example_sagittal = []\n",
    "example_preds = []\n",
    "example_labels = []\n",
    "\n",
    "with torch.no_grad():\n",
    "    for test_data in test_loader:\n",
    "        test_images, test_labels = (\n",
    "            test_data['images'],\n",
    "            test_data['label'][:, 0].type(torch.LongTensor).to(device),\n",
    "        )\n",
    "        test_axial, test_coronal, test_sagittal = test_images\n",
    "        pred = model(test_axial.to(device)).argmax(dim=1)\n",
    "        for i in range(len(pred)):\n",
    "            y_true.append(test_labels[i].item())\n",
    "            y_pred.append(pred[i].item())\n",
    "\n",
    "        if len(example_axial) < 10:\n",
    "            example_axial.append(test_axial)\n",
    "            example_coronal.append(test_coronal)\n",
    "            example_sagittal.append(test_sagittal)\n",
    "            example_preds.append(pred)\n",
    "            example_labels.append(test_labels)"
   ]
  },
  {
   "cell_type": "code",
   "execution_count": 27,
   "metadata": {
    "scrolled": true
   },
   "outputs": [],
   "source": [
    "report = classification_report(y_true, y_pred, target_names=info['label'], digits=4, output_dict=True)"
   ]
  },
  {
   "cell_type": "code",
   "execution_count": 28,
   "metadata": {},
   "outputs": [],
   "source": [
    "df = pd.DataFrame(report).transpose()\n",
    "df.to_csv(f'axial_full_unpretrained_seed{seed}.csv')"
   ]
  },
  {
   "cell_type": "code",
   "execution_count": 29,
   "metadata": {},
   "outputs": [
    {
     "name": "stdout",
     "output_type": "stream",
     "text": [
      "              precision    recall  f1-score   support\n",
      "\n",
      "           0     1.0000    0.9565    0.9778        69\n",
      "           1     0.5196    0.7794    0.6235        68\n",
      "           2     0.6452    0.5797    0.6107        69\n",
      "           3     0.6875    0.6769    0.6822        65\n",
      "           4     0.7286    0.7846    0.7556        65\n",
      "           5     1.0000    0.7879    0.8814        66\n",
      "           6     1.0000    0.8214    0.9020        28\n",
      "           7     0.9130    1.0000    0.9545        21\n",
      "           8     0.8750    1.0000    0.9333        21\n",
      "           9     0.7250    0.8406    0.7785        69\n",
      "          10     0.9545    0.6087    0.7434        69\n",
      "\n",
      "    accuracy                         0.7721       610\n",
      "   macro avg     0.8226    0.8033    0.8039       610\n",
      "weighted avg     0.8005    0.7721    0.7763       610\n",
      "\n"
     ]
    }
   ],
   "source": [
    "print(classification_report(y_true, y_pred, target_names=info['label'], digits=4))"
   ]
  },
  {
   "cell_type": "code",
   "execution_count": 30,
   "metadata": {},
   "outputs": [
    {
     "name": "stdout",
     "output_type": "stream",
     "text": [
      "VRAM currently used: 193.51 MB\n",
      "Max VRAM used during training: 251.94 MB\n"
     ]
    }
   ],
   "source": [
    "if device.type == \"cuda\":\n",
    "    torch.cuda.synchronize()\n",
    "    vram_used = torch.cuda.memory_allocated() / 1024**2\n",
    "    vram_max_used = torch.cuda.max_memory_allocated() / 1024**2\n",
    "\n",
    "    print(f\"VRAM currently used: {vram_used:.2f} MB\")\n",
    "    print(f\"Max VRAM used during training: {vram_max_used:.2f} MB\")\n"
   ]
  },
  {
   "cell_type": "markdown",
   "metadata": {},
   "source": [
    "# Coronal and sagittal parts"
   ]
  },
  {
   "cell_type": "markdown",
   "metadata": {},
   "source": [
    "## Training cycle for the coronal part"
   ]
  },
  {
   "cell_type": "markdown",
   "metadata": {},
   "source": [
    "## Pretrained"
   ]
  },
  {
   "cell_type": "code",
   "execution_count": 31,
   "metadata": {},
   "outputs": [
    {
     "name": "stderr",
     "output_type": "stream",
     "text": [
      "/opt/conda/lib/python3.10/site-packages/torchvision/models/_utils.py:208: UserWarning: The parameter 'pretrained' is deprecated since 0.13 and may be removed in the future, please use 'weights' instead.\n",
      "  warnings.warn(\n",
      "/opt/conda/lib/python3.10/site-packages/torchvision/models/_utils.py:223: UserWarning: Arguments other than a weight enum or `None` for 'weights' are deprecated since 0.13 and may be removed in the future. The current behavior is equivalent to passing `weights=ResNet18_Weights.IMAGENET1K_V1`. You can also use `weights=ResNet18_Weights.DEFAULT` to get the most up-to-date weights.\n",
      "  warnings.warn(msg)\n"
     ]
    }
   ],
   "source": [
    "device = torch.device(\"cuda\" if torch.cuda.is_available() else \"cpu\")\n",
    "\n",
    "model = models.resnet18(pretrained=True).to(device)\n",
    "model.conv1 = nn.Conv2d(64, 64, kernel_size=7, stride=2, padding=3, bias=False)\n",
    "model.fc = nn.Linear(model.fc.in_features, n_classes)\n",
    "model = model.to(device)\n",
    "\n",
    "loss_function = torch.nn.CrossEntropyLoss()\n",
    "optimizer = torch.optim.Adam(model.parameters(), 0.00005)\n",
    "max_epochs = 70\n",
    "val_interval = 1\n",
    "auc_metric = ROCAUCMetric()"
   ]
  },
  {
   "cell_type": "code",
   "execution_count": 32,
   "metadata": {
    "scrolled": true
   },
   "outputs": [
    {
     "name": "stderr",
     "output_type": "stream",
     "text": [
      "Epochs:   0%|          | 0/70 [00:00<?, ?it/s]"
     ]
    },
    {
     "name": "stdout",
     "output_type": "stream",
     "text": [
      "----------\n",
      "epoch 1/70\n",
      "epoch 1 average loss: 1.9301\n"
     ]
    },
    {
     "name": "stderr",
     "output_type": "stream",
     "text": [
      "Epochs:   1%|▏         | 1/70 [00:17<20:35, 17.90s/it]"
     ]
    },
    {
     "name": "stdout",
     "output_type": "stream",
     "text": [
      "1\n",
      "saved new best metric model\n",
      "current epoch: 1 current AUC: 0.9278 current accuracy: 0.5404 best AUC: 0.9278 at epoch: 1\n",
      "----------\n",
      "epoch 2/70\n",
      "epoch 2 average loss: 1.2887\n"
     ]
    },
    {
     "name": "stderr",
     "output_type": "stream",
     "text": [
      "Epochs:   3%|▎         | 2/70 [00:35<20:07, 17.76s/it]"
     ]
    },
    {
     "name": "stdout",
     "output_type": "stream",
     "text": [
      "1\n",
      "saved new best metric model\n",
      "current epoch: 2 current AUC: 0.9608 current accuracy: 0.6273 best AUC: 0.9608 at epoch: 2\n",
      "----------\n",
      "epoch 3/70\n",
      "epoch 3 average loss: 1.0154\n"
     ]
    },
    {
     "name": "stderr",
     "output_type": "stream",
     "text": [
      "Epochs:   4%|▍         | 3/70 [00:53<19:54, 17.83s/it]"
     ]
    },
    {
     "name": "stdout",
     "output_type": "stream",
     "text": [
      "1\n",
      "saved new best metric model\n",
      "current epoch: 3 current AUC: 0.9803 current accuracy: 0.8199 best AUC: 0.9803 at epoch: 3\n",
      "----------\n",
      "epoch 4/70\n",
      "epoch 4 average loss: 0.8847\n"
     ]
    },
    {
     "name": "stderr",
     "output_type": "stream",
     "text": [
      "Epochs:   6%|▌         | 4/70 [01:11<19:35, 17.82s/it]"
     ]
    },
    {
     "name": "stdout",
     "output_type": "stream",
     "text": [
      "1\n",
      "saved new best metric model\n",
      "current epoch: 4 current AUC: 0.9861 current accuracy: 0.8075 best AUC: 0.9861 at epoch: 4\n",
      "----------\n",
      "epoch 5/70\n",
      "epoch 5 average loss: 0.7528\n"
     ]
    },
    {
     "name": "stderr",
     "output_type": "stream",
     "text": [
      "Epochs:   7%|▋         | 5/70 [01:29<19:18, 17.82s/it]"
     ]
    },
    {
     "name": "stdout",
     "output_type": "stream",
     "text": [
      "1\n",
      "saved new best metric model\n",
      "current epoch: 5 current AUC: 0.9895 current accuracy: 0.8137 best AUC: 0.9895 at epoch: 5\n",
      "----------\n",
      "epoch 6/70\n",
      "epoch 6 average loss: 0.6557\n"
     ]
    },
    {
     "name": "stderr",
     "output_type": "stream",
     "text": [
      "Epochs:   9%|▊         | 6/70 [01:46<18:56, 17.76s/it]"
     ]
    },
    {
     "name": "stdout",
     "output_type": "stream",
     "text": [
      "1\n",
      "saved new best metric model\n",
      "current epoch: 6 current AUC: 0.9907 current accuracy: 0.8634 best AUC: 0.9907 at epoch: 6\n",
      "----------\n",
      "epoch 7/70\n",
      "epoch 7 average loss: 0.6166\n"
     ]
    },
    {
     "name": "stderr",
     "output_type": "stream",
     "text": [
      "Epochs:  10%|█         | 7/70 [02:04<18:37, 17.73s/it]"
     ]
    },
    {
     "name": "stdout",
     "output_type": "stream",
     "text": [
      "1\n",
      "saved new best metric model\n",
      "current epoch: 7 current AUC: 0.9916 current accuracy: 0.8509 best AUC: 0.9916 at epoch: 7\n",
      "----------\n",
      "epoch 8/70\n",
      "epoch 8 average loss: 0.5660\n"
     ]
    },
    {
     "name": "stderr",
     "output_type": "stream",
     "text": [
      "Epochs:  11%|█▏        | 8/70 [02:22<18:16, 17.69s/it]"
     ]
    },
    {
     "name": "stdout",
     "output_type": "stream",
     "text": [
      "1\n",
      "saved new best metric model\n",
      "current epoch: 8 current AUC: 0.9922 current accuracy: 0.9006 best AUC: 0.9922 at epoch: 8\n",
      "----------\n",
      "epoch 9/70\n",
      "epoch 9 average loss: 0.5212\n"
     ]
    },
    {
     "name": "stderr",
     "output_type": "stream",
     "text": [
      "Epochs:  13%|█▎        | 9/70 [02:39<18:02, 17.74s/it]"
     ]
    },
    {
     "name": "stdout",
     "output_type": "stream",
     "text": [
      "1\n",
      "current epoch: 9 current AUC: 0.9861 current accuracy: 0.8509 best AUC: 0.9922 at epoch: 8\n",
      "----------\n",
      "epoch 10/70\n",
      "epoch 10 average loss: 0.4931\n"
     ]
    },
    {
     "name": "stderr",
     "output_type": "stream",
     "text": [
      "Epochs:  14%|█▍        | 10/70 [02:57<17:42, 17.71s/it]"
     ]
    },
    {
     "name": "stdout",
     "output_type": "stream",
     "text": [
      "1\n",
      "current epoch: 10 current AUC: 0.9896 current accuracy: 0.8634 best AUC: 0.9922 at epoch: 8\n",
      "----------\n",
      "epoch 11/70\n",
      "epoch 11 average loss: 0.4347\n"
     ]
    },
    {
     "name": "stderr",
     "output_type": "stream",
     "text": [
      "Epochs:  16%|█▌        | 11/70 [03:15<17:23, 17.69s/it]"
     ]
    },
    {
     "name": "stdout",
     "output_type": "stream",
     "text": [
      "1\n",
      "saved new best metric model\n",
      "current epoch: 11 current AUC: 0.9941 current accuracy: 0.8820 best AUC: 0.9941 at epoch: 11\n",
      "----------\n",
      "epoch 12/70\n",
      "epoch 12 average loss: 0.4362\n"
     ]
    },
    {
     "name": "stderr",
     "output_type": "stream",
     "text": [
      "Epochs:  17%|█▋        | 12/70 [03:32<17:04, 17.66s/it]"
     ]
    },
    {
     "name": "stdout",
     "output_type": "stream",
     "text": [
      "1\n",
      "current epoch: 12 current AUC: 0.9838 current accuracy: 0.8012 best AUC: 0.9941 at epoch: 11\n",
      "----------\n",
      "epoch 13/70\n",
      "epoch 13 average loss: 0.3902\n"
     ]
    },
    {
     "name": "stderr",
     "output_type": "stream",
     "text": [
      "Epochs:  19%|█▊        | 13/70 [03:50<16:44, 17.63s/it]"
     ]
    },
    {
     "name": "stdout",
     "output_type": "stream",
     "text": [
      "1\n",
      "current epoch: 13 current AUC: 0.9872 current accuracy: 0.8385 best AUC: 0.9941 at epoch: 11\n",
      "----------\n",
      "epoch 14/70\n",
      "epoch 14 average loss: 0.3710\n"
     ]
    },
    {
     "name": "stderr",
     "output_type": "stream",
     "text": [
      "Epochs:  20%|██        | 14/70 [04:07<16:25, 17.60s/it]"
     ]
    },
    {
     "name": "stdout",
     "output_type": "stream",
     "text": [
      "1\n",
      "current epoch: 14 current AUC: 0.9923 current accuracy: 0.8820 best AUC: 0.9941 at epoch: 11\n",
      "----------\n",
      "epoch 15/70\n",
      "epoch 15 average loss: 0.3721\n"
     ]
    },
    {
     "name": "stderr",
     "output_type": "stream",
     "text": [
      "Epochs:  21%|██▏       | 15/70 [04:25<16:09, 17.64s/it]"
     ]
    },
    {
     "name": "stdout",
     "output_type": "stream",
     "text": [
      "1\n",
      "current epoch: 15 current AUC: 0.9874 current accuracy: 0.8385 best AUC: 0.9941 at epoch: 11\n",
      "----------\n",
      "epoch 16/70\n",
      "epoch 16 average loss: 0.3054\n"
     ]
    },
    {
     "name": "stderr",
     "output_type": "stream",
     "text": [
      "Epochs:  23%|██▎       | 16/70 [04:43<15:51, 17.61s/it]"
     ]
    },
    {
     "name": "stdout",
     "output_type": "stream",
     "text": [
      "1\n",
      "current epoch: 16 current AUC: 0.9849 current accuracy: 0.8509 best AUC: 0.9941 at epoch: 11\n",
      "----------\n",
      "epoch 17/70\n",
      "epoch 17 average loss: 0.3219\n"
     ]
    },
    {
     "name": "stderr",
     "output_type": "stream",
     "text": [
      "Epochs:  24%|██▍       | 17/70 [05:00<15:34, 17.63s/it]"
     ]
    },
    {
     "name": "stdout",
     "output_type": "stream",
     "text": [
      "1\n",
      "current epoch: 17 current AUC: 0.9914 current accuracy: 0.8820 best AUC: 0.9941 at epoch: 11\n",
      "----------\n",
      "epoch 18/70\n",
      "epoch 18 average loss: 0.2921\n"
     ]
    },
    {
     "name": "stderr",
     "output_type": "stream",
     "text": [
      "Epochs:  26%|██▌       | 18/70 [05:18<15:18, 17.67s/it]"
     ]
    },
    {
     "name": "stdout",
     "output_type": "stream",
     "text": [
      "1\n",
      "current epoch: 18 current AUC: 0.9779 current accuracy: 0.7888 best AUC: 0.9941 at epoch: 11\n",
      "----------\n",
      "epoch 19/70\n",
      "epoch 19 average loss: 0.2801\n"
     ]
    },
    {
     "name": "stderr",
     "output_type": "stream",
     "text": [
      "Epochs:  27%|██▋       | 19/70 [05:36<15:03, 17.71s/it]"
     ]
    },
    {
     "name": "stdout",
     "output_type": "stream",
     "text": [
      "1\n",
      "saved new best metric model\n",
      "current epoch: 19 current AUC: 0.9971 current accuracy: 0.9068 best AUC: 0.9971 at epoch: 19\n",
      "----------\n",
      "epoch 20/70\n",
      "epoch 20 average loss: 0.2979\n"
     ]
    },
    {
     "name": "stderr",
     "output_type": "stream",
     "text": [
      "Epochs:  29%|██▊       | 20/70 [05:54<14:49, 17.78s/it]"
     ]
    },
    {
     "name": "stdout",
     "output_type": "stream",
     "text": [
      "1\n",
      "current epoch: 20 current AUC: 0.9908 current accuracy: 0.8696 best AUC: 0.9971 at epoch: 19\n",
      "----------\n",
      "epoch 21/70\n",
      "epoch 21 average loss: 0.2720\n"
     ]
    },
    {
     "name": "stderr",
     "output_type": "stream",
     "text": [
      "Epochs:  30%|███       | 21/70 [06:11<14:27, 17.71s/it]"
     ]
    },
    {
     "name": "stdout",
     "output_type": "stream",
     "text": [
      "1\n",
      "current epoch: 21 current AUC: 0.9784 current accuracy: 0.8137 best AUC: 0.9971 at epoch: 19\n",
      "----------\n",
      "epoch 22/70\n",
      "epoch 22 average loss: 0.2714\n"
     ]
    },
    {
     "name": "stderr",
     "output_type": "stream",
     "text": [
      "Epochs:  31%|███▏      | 22/70 [06:29<14:07, 17.65s/it]"
     ]
    },
    {
     "name": "stdout",
     "output_type": "stream",
     "text": [
      "1\n",
      "current epoch: 22 current AUC: 0.9892 current accuracy: 0.8509 best AUC: 0.9971 at epoch: 19\n",
      "----------\n",
      "epoch 23/70\n",
      "epoch 23 average loss: 0.2693\n"
     ]
    },
    {
     "name": "stderr",
     "output_type": "stream",
     "text": [
      "Epochs:  33%|███▎      | 23/70 [06:46<13:48, 17.62s/it]"
     ]
    },
    {
     "name": "stdout",
     "output_type": "stream",
     "text": [
      "1\n",
      "current epoch: 23 current AUC: 0.9927 current accuracy: 0.8696 best AUC: 0.9971 at epoch: 19\n",
      "----------\n",
      "epoch 24/70\n",
      "epoch 24 average loss: 0.2605\n"
     ]
    },
    {
     "name": "stderr",
     "output_type": "stream",
     "text": [
      "Epochs:  34%|███▍      | 24/70 [07:04<13:32, 17.66s/it]"
     ]
    },
    {
     "name": "stdout",
     "output_type": "stream",
     "text": [
      "1\n",
      "current epoch: 24 current AUC: 0.9933 current accuracy: 0.8758 best AUC: 0.9971 at epoch: 19\n",
      "----------\n",
      "epoch 25/70\n",
      "epoch 25 average loss: 0.2561\n"
     ]
    },
    {
     "name": "stderr",
     "output_type": "stream",
     "text": [
      "Epochs:  36%|███▌      | 25/70 [07:22<13:13, 17.64s/it]"
     ]
    },
    {
     "name": "stdout",
     "output_type": "stream",
     "text": [
      "1\n",
      "current epoch: 25 current AUC: 0.9920 current accuracy: 0.8820 best AUC: 0.9971 at epoch: 19\n",
      "----------\n",
      "epoch 26/70\n",
      "epoch 26 average loss: 0.2023\n"
     ]
    },
    {
     "name": "stderr",
     "output_type": "stream",
     "text": [
      "Epochs:  37%|███▋      | 26/70 [07:39<12:56, 17.66s/it]"
     ]
    },
    {
     "name": "stdout",
     "output_type": "stream",
     "text": [
      "1\n",
      "current epoch: 26 current AUC: 0.9892 current accuracy: 0.8820 best AUC: 0.9971 at epoch: 19\n",
      "----------\n",
      "epoch 27/70\n",
      "epoch 27 average loss: 0.2410\n"
     ]
    },
    {
     "name": "stderr",
     "output_type": "stream",
     "text": [
      "Epochs:  39%|███▊      | 27/70 [07:57<12:40, 17.68s/it]"
     ]
    },
    {
     "name": "stdout",
     "output_type": "stream",
     "text": [
      "1\n",
      "current epoch: 27 current AUC: 0.9833 current accuracy: 0.8634 best AUC: 0.9971 at epoch: 19\n",
      "----------\n",
      "epoch 28/70\n",
      "epoch 28 average loss: 0.1992\n"
     ]
    },
    {
     "name": "stderr",
     "output_type": "stream",
     "text": [
      "Epochs:  40%|████      | 28/70 [08:15<12:20, 17.63s/it]"
     ]
    },
    {
     "name": "stdout",
     "output_type": "stream",
     "text": [
      "1\n",
      "current epoch: 28 current AUC: 0.9916 current accuracy: 0.8882 best AUC: 0.9971 at epoch: 19\n",
      "----------\n",
      "epoch 29/70\n",
      "epoch 29 average loss: 0.1846\n"
     ]
    },
    {
     "name": "stderr",
     "output_type": "stream",
     "text": [
      "Epochs:  41%|████▏     | 29/70 [08:32<12:03, 17.64s/it]"
     ]
    },
    {
     "name": "stdout",
     "output_type": "stream",
     "text": [
      "1\n",
      "current epoch: 29 current AUC: 0.9943 current accuracy: 0.8944 best AUC: 0.9971 at epoch: 19\n",
      "----------\n",
      "epoch 30/70\n",
      "epoch 30 average loss: 0.2036\n"
     ]
    },
    {
     "name": "stderr",
     "output_type": "stream",
     "text": [
      "Epochs:  43%|████▎     | 30/70 [08:50<11:45, 17.63s/it]"
     ]
    },
    {
     "name": "stdout",
     "output_type": "stream",
     "text": [
      "1\n",
      "current epoch: 30 current AUC: 0.9869 current accuracy: 0.8758 best AUC: 0.9971 at epoch: 19\n",
      "----------\n",
      "epoch 31/70\n",
      "epoch 31 average loss: 0.1878\n"
     ]
    },
    {
     "name": "stderr",
     "output_type": "stream",
     "text": [
      "Epochs:  44%|████▍     | 31/70 [09:08<11:26, 17.61s/it]"
     ]
    },
    {
     "name": "stdout",
     "output_type": "stream",
     "text": [
      "1\n",
      "current epoch: 31 current AUC: 0.9908 current accuracy: 0.8758 best AUC: 0.9971 at epoch: 19\n",
      "----------\n",
      "epoch 32/70\n",
      "epoch 32 average loss: 0.1904\n"
     ]
    },
    {
     "name": "stderr",
     "output_type": "stream",
     "text": [
      "Epochs:  46%|████▌     | 32/70 [09:25<11:07, 17.57s/it]"
     ]
    },
    {
     "name": "stdout",
     "output_type": "stream",
     "text": [
      "1\n",
      "current epoch: 32 current AUC: 0.9960 current accuracy: 0.8882 best AUC: 0.9971 at epoch: 19\n",
      "----------\n",
      "epoch 33/70\n",
      "epoch 33 average loss: 0.1875\n"
     ]
    },
    {
     "name": "stderr",
     "output_type": "stream",
     "text": [
      "Epochs:  47%|████▋     | 33/70 [09:43<10:49, 17.56s/it]"
     ]
    },
    {
     "name": "stdout",
     "output_type": "stream",
     "text": [
      "1\n",
      "current epoch: 33 current AUC: 0.9918 current accuracy: 0.8758 best AUC: 0.9971 at epoch: 19\n",
      "----------\n",
      "epoch 34/70\n",
      "epoch 34 average loss: 0.1566\n"
     ]
    },
    {
     "name": "stderr",
     "output_type": "stream",
     "text": [
      "Epochs:  49%|████▊     | 34/70 [10:00<10:30, 17.52s/it]"
     ]
    },
    {
     "name": "stdout",
     "output_type": "stream",
     "text": [
      "1\n",
      "current epoch: 34 current AUC: 0.9910 current accuracy: 0.8882 best AUC: 0.9971 at epoch: 19\n",
      "----------\n",
      "epoch 35/70\n",
      "epoch 35 average loss: 0.1819\n"
     ]
    },
    {
     "name": "stderr",
     "output_type": "stream",
     "text": [
      "Epochs:  50%|█████     | 35/70 [10:18<10:15, 17.58s/it]"
     ]
    },
    {
     "name": "stdout",
     "output_type": "stream",
     "text": [
      "1\n",
      "current epoch: 35 current AUC: 0.9884 current accuracy: 0.8634 best AUC: 0.9971 at epoch: 19\n",
      "----------\n",
      "epoch 36/70\n",
      "epoch 36 average loss: 0.1803\n"
     ]
    },
    {
     "name": "stderr",
     "output_type": "stream",
     "text": [
      "Epochs:  51%|█████▏    | 36/70 [10:36<10:01, 17.69s/it]"
     ]
    },
    {
     "name": "stdout",
     "output_type": "stream",
     "text": [
      "1\n",
      "current epoch: 36 current AUC: 0.9858 current accuracy: 0.8385 best AUC: 0.9971 at epoch: 19\n",
      "----------\n",
      "epoch 37/70\n",
      "epoch 37 average loss: 0.1636\n"
     ]
    },
    {
     "name": "stderr",
     "output_type": "stream",
     "text": [
      "Epochs:  53%|█████▎    | 37/70 [10:53<09:43, 17.68s/it]"
     ]
    },
    {
     "name": "stdout",
     "output_type": "stream",
     "text": [
      "1\n",
      "current epoch: 37 current AUC: 0.9875 current accuracy: 0.8696 best AUC: 0.9971 at epoch: 19\n",
      "----------\n",
      "epoch 38/70\n",
      "epoch 38 average loss: 0.1867\n"
     ]
    },
    {
     "name": "stderr",
     "output_type": "stream",
     "text": [
      "Epochs:  54%|█████▍    | 38/70 [11:11<09:25, 17.67s/it]"
     ]
    },
    {
     "name": "stdout",
     "output_type": "stream",
     "text": [
      "1\n",
      "current epoch: 38 current AUC: 0.9899 current accuracy: 0.8634 best AUC: 0.9971 at epoch: 19\n",
      "----------\n",
      "epoch 39/70\n",
      "epoch 39 average loss: 0.1510\n"
     ]
    },
    {
     "name": "stderr",
     "output_type": "stream",
     "text": [
      "Epochs:  56%|█████▌    | 39/70 [11:28<09:05, 17.59s/it]"
     ]
    },
    {
     "name": "stdout",
     "output_type": "stream",
     "text": [
      "1\n",
      "current epoch: 39 current AUC: 0.9953 current accuracy: 0.9130 best AUC: 0.9971 at epoch: 19\n",
      "----------\n",
      "epoch 40/70\n",
      "epoch 40 average loss: 0.1441\n"
     ]
    },
    {
     "name": "stderr",
     "output_type": "stream",
     "text": [
      "Epochs:  57%|█████▋    | 40/70 [11:46<08:46, 17.54s/it]"
     ]
    },
    {
     "name": "stdout",
     "output_type": "stream",
     "text": [
      "1\n",
      "current epoch: 40 current AUC: 0.9957 current accuracy: 0.8696 best AUC: 0.9971 at epoch: 19\n",
      "----------\n",
      "epoch 41/70\n",
      "epoch 41 average loss: 0.1639\n"
     ]
    },
    {
     "name": "stderr",
     "output_type": "stream",
     "text": [
      "Epochs:  59%|█████▊    | 41/70 [12:03<08:29, 17.58s/it]"
     ]
    },
    {
     "name": "stdout",
     "output_type": "stream",
     "text": [
      "1\n",
      "current epoch: 41 current AUC: 0.9963 current accuracy: 0.9068 best AUC: 0.9971 at epoch: 19\n",
      "----------\n",
      "epoch 42/70\n",
      "epoch 42 average loss: 0.1520\n"
     ]
    },
    {
     "name": "stderr",
     "output_type": "stream",
     "text": [
      "Epochs:  60%|██████    | 42/70 [12:21<08:14, 17.66s/it]"
     ]
    },
    {
     "name": "stdout",
     "output_type": "stream",
     "text": [
      "1\n",
      "current epoch: 42 current AUC: 0.9958 current accuracy: 0.9130 best AUC: 0.9971 at epoch: 19\n",
      "----------\n",
      "epoch 43/70\n",
      "epoch 43 average loss: 0.1723\n"
     ]
    },
    {
     "name": "stderr",
     "output_type": "stream",
     "text": [
      "Epochs:  61%|██████▏   | 43/70 [12:39<07:57, 17.68s/it]"
     ]
    },
    {
     "name": "stdout",
     "output_type": "stream",
     "text": [
      "1\n",
      "current epoch: 43 current AUC: 0.9879 current accuracy: 0.8571 best AUC: 0.9971 at epoch: 19\n",
      "----------\n",
      "epoch 44/70\n",
      "epoch 44 average loss: 0.1387\n"
     ]
    },
    {
     "name": "stderr",
     "output_type": "stream",
     "text": [
      "Epochs:  63%|██████▎   | 44/70 [12:57<07:40, 17.70s/it]"
     ]
    },
    {
     "name": "stdout",
     "output_type": "stream",
     "text": [
      "1\n",
      "saved new best metric model\n",
      "current epoch: 44 current AUC: 0.9975 current accuracy: 0.9130 best AUC: 0.9975 at epoch: 44\n",
      "----------\n",
      "epoch 45/70\n",
      "epoch 45 average loss: 0.1335\n"
     ]
    },
    {
     "name": "stderr",
     "output_type": "stream",
     "text": [
      "Epochs:  64%|██████▍   | 45/70 [13:14<07:22, 17.70s/it]"
     ]
    },
    {
     "name": "stdout",
     "output_type": "stream",
     "text": [
      "1\n",
      "current epoch: 45 current AUC: 0.9872 current accuracy: 0.8571 best AUC: 0.9975 at epoch: 44\n",
      "----------\n",
      "epoch 46/70\n",
      "epoch 46 average loss: 0.1305\n"
     ]
    },
    {
     "name": "stderr",
     "output_type": "stream",
     "text": [
      "Epochs:  66%|██████▌   | 46/70 [13:32<07:04, 17.70s/it]"
     ]
    },
    {
     "name": "stdout",
     "output_type": "stream",
     "text": [
      "1\n",
      "current epoch: 46 current AUC: 0.9957 current accuracy: 0.9317 best AUC: 0.9975 at epoch: 44\n",
      "----------\n",
      "epoch 47/70\n",
      "epoch 47 average loss: 0.1256\n"
     ]
    },
    {
     "name": "stderr",
     "output_type": "stream",
     "text": [
      "Epochs:  67%|██████▋   | 47/70 [13:50<06:46, 17.65s/it]"
     ]
    },
    {
     "name": "stdout",
     "output_type": "stream",
     "text": [
      "1\n",
      "current epoch: 47 current AUC: 0.9908 current accuracy: 0.8696 best AUC: 0.9975 at epoch: 44\n",
      "----------\n",
      "epoch 48/70\n",
      "epoch 48 average loss: 0.1024\n"
     ]
    },
    {
     "name": "stderr",
     "output_type": "stream",
     "text": [
      "Epochs:  69%|██████▊   | 48/70 [14:07<06:28, 17.64s/it]"
     ]
    },
    {
     "name": "stdout",
     "output_type": "stream",
     "text": [
      "1\n",
      "current epoch: 48 current AUC: 0.9914 current accuracy: 0.9006 best AUC: 0.9975 at epoch: 44\n",
      "----------\n",
      "epoch 49/70\n",
      "epoch 49 average loss: 0.1100\n"
     ]
    },
    {
     "name": "stderr",
     "output_type": "stream",
     "text": [
      "Epochs:  70%|███████   | 49/70 [14:25<06:11, 17.68s/it]"
     ]
    },
    {
     "name": "stdout",
     "output_type": "stream",
     "text": [
      "1\n",
      "current epoch: 49 current AUC: 0.9919 current accuracy: 0.9006 best AUC: 0.9975 at epoch: 44\n",
      "----------\n",
      "epoch 50/70\n",
      "epoch 50 average loss: 0.1330\n"
     ]
    },
    {
     "name": "stderr",
     "output_type": "stream",
     "text": [
      "Epochs:  71%|███████▏  | 50/70 [14:43<05:53, 17.67s/it]"
     ]
    },
    {
     "name": "stdout",
     "output_type": "stream",
     "text": [
      "1\n",
      "current epoch: 50 current AUC: 0.9907 current accuracy: 0.8882 best AUC: 0.9975 at epoch: 44\n",
      "----------\n",
      "epoch 51/70\n",
      "epoch 51 average loss: 0.1044\n"
     ]
    },
    {
     "name": "stderr",
     "output_type": "stream",
     "text": [
      "Epochs:  73%|███████▎  | 51/70 [15:01<05:36, 17.73s/it]"
     ]
    },
    {
     "name": "stdout",
     "output_type": "stream",
     "text": [
      "1\n",
      "current epoch: 51 current AUC: 0.9806 current accuracy: 0.7826 best AUC: 0.9975 at epoch: 44\n",
      "----------\n",
      "epoch 52/70\n",
      "epoch 52 average loss: 0.0880\n"
     ]
    },
    {
     "name": "stderr",
     "output_type": "stream",
     "text": [
      "Epochs:  74%|███████▍  | 52/70 [15:18<05:19, 17.75s/it]"
     ]
    },
    {
     "name": "stdout",
     "output_type": "stream",
     "text": [
      "1\n",
      "current epoch: 52 current AUC: 0.9908 current accuracy: 0.8758 best AUC: 0.9975 at epoch: 44\n",
      "----------\n",
      "epoch 53/70\n",
      "epoch 53 average loss: 0.0966\n"
     ]
    },
    {
     "name": "stderr",
     "output_type": "stream",
     "text": [
      "Epochs:  76%|███████▌  | 53/70 [15:36<05:00, 17.69s/it]"
     ]
    },
    {
     "name": "stdout",
     "output_type": "stream",
     "text": [
      "1\n",
      "current epoch: 53 current AUC: 0.9963 current accuracy: 0.9006 best AUC: 0.9975 at epoch: 44\n",
      "----------\n",
      "epoch 54/70\n",
      "epoch 54 average loss: 0.0998\n"
     ]
    },
    {
     "name": "stderr",
     "output_type": "stream",
     "text": [
      "Epochs:  77%|███████▋  | 54/70 [15:54<04:43, 17.70s/it]"
     ]
    },
    {
     "name": "stdout",
     "output_type": "stream",
     "text": [
      "1\n",
      "current epoch: 54 current AUC: 0.9962 current accuracy: 0.9130 best AUC: 0.9975 at epoch: 44\n",
      "----------\n",
      "epoch 55/70\n",
      "epoch 55 average loss: 0.1136\n"
     ]
    },
    {
     "name": "stderr",
     "output_type": "stream",
     "text": [
      "Epochs:  79%|███████▊  | 55/70 [16:11<04:24, 17.66s/it]"
     ]
    },
    {
     "name": "stdout",
     "output_type": "stream",
     "text": [
      "1\n",
      "current epoch: 55 current AUC: 0.9938 current accuracy: 0.9006 best AUC: 0.9975 at epoch: 44\n",
      "----------\n",
      "epoch 56/70\n",
      "epoch 56 average loss: 0.1375\n"
     ]
    },
    {
     "name": "stderr",
     "output_type": "stream",
     "text": [
      "Epochs:  80%|████████  | 56/70 [16:29<04:06, 17.61s/it]"
     ]
    },
    {
     "name": "stdout",
     "output_type": "stream",
     "text": [
      "1\n",
      "current epoch: 56 current AUC: 0.9928 current accuracy: 0.9068 best AUC: 0.9975 at epoch: 44\n",
      "----------\n",
      "epoch 57/70\n",
      "epoch 57 average loss: 0.1054\n"
     ]
    },
    {
     "name": "stderr",
     "output_type": "stream",
     "text": [
      "Epochs:  81%|████████▏ | 57/70 [16:46<03:49, 17.62s/it]"
     ]
    },
    {
     "name": "stdout",
     "output_type": "stream",
     "text": [
      "1\n",
      "current epoch: 57 current AUC: 0.9890 current accuracy: 0.8571 best AUC: 0.9975 at epoch: 44\n",
      "----------\n",
      "epoch 58/70\n",
      "epoch 58 average loss: 0.0997\n"
     ]
    },
    {
     "name": "stderr",
     "output_type": "stream",
     "text": [
      "Epochs:  83%|████████▎ | 58/70 [17:04<03:31, 17.61s/it]"
     ]
    },
    {
     "name": "stdout",
     "output_type": "stream",
     "text": [
      "1\n",
      "saved new best metric model\n",
      "current epoch: 58 current AUC: 0.9981 current accuracy: 0.9565 best AUC: 0.9981 at epoch: 58\n",
      "----------\n",
      "epoch 59/70\n",
      "epoch 59 average loss: 0.0976\n"
     ]
    },
    {
     "name": "stderr",
     "output_type": "stream",
     "text": [
      "Epochs:  84%|████████▍ | 59/70 [17:22<03:14, 17.64s/it]"
     ]
    },
    {
     "name": "stdout",
     "output_type": "stream",
     "text": [
      "1\n",
      "current epoch: 59 current AUC: 0.9964 current accuracy: 0.9317 best AUC: 0.9981 at epoch: 58\n",
      "----------\n",
      "epoch 60/70\n",
      "epoch 60 average loss: 0.0778\n"
     ]
    },
    {
     "name": "stderr",
     "output_type": "stream",
     "text": [
      "Epochs:  86%|████████▌ | 60/70 [17:39<02:56, 17.61s/it]"
     ]
    },
    {
     "name": "stdout",
     "output_type": "stream",
     "text": [
      "1\n",
      "current epoch: 60 current AUC: 0.9953 current accuracy: 0.9130 best AUC: 0.9981 at epoch: 58\n",
      "----------\n",
      "epoch 61/70\n",
      "epoch 61 average loss: 0.0887\n"
     ]
    },
    {
     "name": "stderr",
     "output_type": "stream",
     "text": [
      "Epochs:  87%|████████▋ | 61/70 [17:57<02:37, 17.54s/it]"
     ]
    },
    {
     "name": "stdout",
     "output_type": "stream",
     "text": [
      "1\n",
      "current epoch: 61 current AUC: 0.9919 current accuracy: 0.8944 best AUC: 0.9981 at epoch: 58\n",
      "----------\n",
      "epoch 62/70\n",
      "epoch 62 average loss: 0.1179\n"
     ]
    },
    {
     "name": "stderr",
     "output_type": "stream",
     "text": [
      "Epochs:  89%|████████▊ | 62/70 [18:14<02:20, 17.53s/it]"
     ]
    },
    {
     "name": "stdout",
     "output_type": "stream",
     "text": [
      "1\n",
      "current epoch: 62 current AUC: 0.9962 current accuracy: 0.9006 best AUC: 0.9981 at epoch: 58\n",
      "----------\n",
      "epoch 63/70\n",
      "epoch 63 average loss: 0.1352\n"
     ]
    },
    {
     "name": "stderr",
     "output_type": "stream",
     "text": [
      "Epochs:  90%|█████████ | 63/70 [18:32<02:03, 17.60s/it]"
     ]
    },
    {
     "name": "stdout",
     "output_type": "stream",
     "text": [
      "1\n",
      "current epoch: 63 current AUC: 0.9980 current accuracy: 0.9503 best AUC: 0.9981 at epoch: 58\n",
      "----------\n",
      "epoch 64/70\n",
      "epoch 64 average loss: 0.1186\n"
     ]
    },
    {
     "name": "stderr",
     "output_type": "stream",
     "text": [
      "Epochs:  91%|█████████▏| 64/70 [18:50<01:45, 17.65s/it]"
     ]
    },
    {
     "name": "stdout",
     "output_type": "stream",
     "text": [
      "1\n",
      "current epoch: 64 current AUC: 0.9864 current accuracy: 0.8261 best AUC: 0.9981 at epoch: 58\n",
      "----------\n",
      "epoch 65/70\n",
      "epoch 65 average loss: 0.0858\n"
     ]
    },
    {
     "name": "stderr",
     "output_type": "stream",
     "text": [
      "Epochs:  93%|█████████▎| 65/70 [19:07<01:28, 17.68s/it]"
     ]
    },
    {
     "name": "stdout",
     "output_type": "stream",
     "text": [
      "1\n",
      "current epoch: 65 current AUC: 0.9930 current accuracy: 0.8882 best AUC: 0.9981 at epoch: 58\n",
      "----------\n",
      "epoch 66/70\n",
      "epoch 66 average loss: 0.0958\n"
     ]
    },
    {
     "name": "stderr",
     "output_type": "stream",
     "text": [
      "Epochs:  94%|█████████▍| 66/70 [19:25<01:10, 17.58s/it]"
     ]
    },
    {
     "name": "stdout",
     "output_type": "stream",
     "text": [
      "1\n",
      "current epoch: 66 current AUC: 0.9973 current accuracy: 0.9193 best AUC: 0.9981 at epoch: 58\n",
      "----------\n",
      "epoch 67/70\n",
      "epoch 67 average loss: 0.0947\n"
     ]
    },
    {
     "name": "stderr",
     "output_type": "stream",
     "text": [
      "Epochs:  96%|█████████▌| 67/70 [19:42<00:52, 17.61s/it]"
     ]
    },
    {
     "name": "stdout",
     "output_type": "stream",
     "text": [
      "1\n",
      "current epoch: 67 current AUC: 0.9920 current accuracy: 0.8634 best AUC: 0.9981 at epoch: 58\n",
      "----------\n",
      "epoch 68/70\n",
      "epoch 68 average loss: 0.0664\n"
     ]
    },
    {
     "name": "stderr",
     "output_type": "stream",
     "text": [
      "Epochs:  97%|█████████▋| 68/70 [20:00<00:35, 17.57s/it]"
     ]
    },
    {
     "name": "stdout",
     "output_type": "stream",
     "text": [
      "1\n",
      "current epoch: 68 current AUC: 0.9918 current accuracy: 0.8820 best AUC: 0.9981 at epoch: 58\n",
      "----------\n",
      "epoch 69/70\n",
      "epoch 69 average loss: 0.0956\n"
     ]
    },
    {
     "name": "stderr",
     "output_type": "stream",
     "text": [
      "Epochs:  99%|█████████▊| 69/70 [20:18<00:17, 17.62s/it]"
     ]
    },
    {
     "name": "stdout",
     "output_type": "stream",
     "text": [
      "1\n",
      "current epoch: 69 current AUC: 0.9858 current accuracy: 0.8137 best AUC: 0.9981 at epoch: 58\n",
      "----------\n",
      "epoch 70/70\n",
      "epoch 70 average loss: 0.0654\n"
     ]
    },
    {
     "name": "stderr",
     "output_type": "stream",
     "text": [
      "Epochs: 100%|██████████| 70/70 [20:35<00:00, 17.65s/it]"
     ]
    },
    {
     "name": "stdout",
     "output_type": "stream",
     "text": [
      "1\n",
      "current epoch: 70 current AUC: 0.9887 current accuracy: 0.8509 best AUC: 0.9981 at epoch: 58\n",
      "train completed, best_metric: 0.9981 at epoch: 58\n"
     ]
    },
    {
     "name": "stderr",
     "output_type": "stream",
     "text": [
      "\n"
     ]
    }
   ],
   "source": [
    "best_metric = -1\n",
    "best_metric_epoch = -1\n",
    "epoch_loss_values = []\n",
    "metric_values = []\n",
    "writer = SummaryWriter()\n",
    "\n",
    "start_time = time.time()\n",
    "process = psutil.Process()\n",
    "start_cpu = process.cpu_times()\n",
    "start_mem = process.memory_info().rss / 1024**2\n",
    "\n",
    "if device.type == \"cuda\":\n",
    "    torch.cuda.synchronize()\n",
    "    torch.cuda.reset_peak_memory_stats()\n",
    "\n",
    "for epoch in tqdm(range(max_epochs), desc=\"Epochs\"):\n",
    "    print(\"-\" * 10)\n",
    "    print(f\"epoch {epoch + 1}/{max_epochs}\")\n",
    "    model.train()\n",
    "    epoch_loss = 0\n",
    "    step = 0\n",
    "    \n",
    "    for batch_data in train_loader:\n",
    "        step += 1\n",
    "        images, labels = batch_data['images'], batch_data['label'][:, 0].type(torch.LongTensor).to(device)\n",
    "        axial, coronal, sagittal = images\n",
    "        optimizer.zero_grad()\n",
    "        outputs = model(coronal.to(device))\n",
    "        loss = loss_function(outputs, labels)\n",
    "        loss.backward()\n",
    "        optimizer.step()\n",
    "        epoch_loss += loss.item()\n",
    "        epoch_len = len(train_dataset) // train_loader.batch_size\n",
    "        writer.add_scalar(\"train_loss\", loss.item(), epoch_len * epoch + step)\n",
    "        \n",
    "    epoch_loss /= step\n",
    "    epoch_loss_values.append(epoch_loss)\n",
    "    print(f\"epoch {epoch + 1} average loss: {epoch_loss:.4f}\")\n",
    "\n",
    "    if (epoch + 1) % val_interval == 0:\n",
    "        model.eval()\n",
    "        with torch.no_grad():\n",
    "            y_pred = torch.tensor([], dtype=torch.float32, device=device)\n",
    "            y = torch.tensor([], dtype=torch.long, device=device)\n",
    "            for val_data in val_loader:\n",
    "                val_images, val_labels = (\n",
    "                    val_data['images'],\n",
    "                    val_data['label'][:, 0].type(torch.LongTensor).to(device),\n",
    "                )\n",
    "                val_axial, val_coronal, val_sagittal = val_images\n",
    "                y_pred = torch.cat([y_pred, model(val_coronal.to(device))], dim=0)\n",
    "                y = torch.cat([y, val_labels], dim=0)\n",
    "            y_onehot = [y_trans(i) for i in decollate_batch(y, detach=False)]\n",
    "            print('1')\n",
    "            y_pred_act = [y_pred_trans(i) for i in decollate_batch(y_pred)]\n",
    "            auc_metric(y_pred_act, y_onehot)\n",
    "            result = auc_metric.aggregate()\n",
    "            auc_metric.reset()\n",
    "            del y_pred_act, y_onehot\n",
    "            metric_values.append(result)\n",
    "            acc_value = torch.eq(y_pred.argmax(dim=1), y)\n",
    "            acc_metric = acc_value.sum().item() / len(acc_value)\n",
    "            if result > best_metric:\n",
    "                best_metric = result\n",
    "                best_metric_epoch = epoch + 1\n",
    "                torch.save(model.state_dict(), os.path.join(root_dir, \"coronal_full_pretrained.pth\"))\n",
    "                print(\"saved new best metric model\")\n",
    "            print(\n",
    "                f\"current epoch: {epoch + 1} current AUC: {result:.4f}\"\n",
    "                f\" current accuracy: {acc_metric:.4f}\"\n",
    "                f\" best AUC: {best_metric:.4f}\"\n",
    "                f\" at epoch: {best_metric_epoch}\"\n",
    "            )\n",
    "            writer.add_scalar(\"val_accuracy\", acc_metric, epoch + 1)\n",
    "\n",
    "print(f\"train completed, best_metric: {best_metric:.4f} \" f\"at epoch: {best_metric_epoch}\")\n",
    "writer.close()"
   ]
  },
  {
   "cell_type": "code",
   "execution_count": 33,
   "metadata": {},
   "outputs": [
    {
     "data": {
      "image/png": "[encoded data removed]",
      "text/plain": [
       "<Figure size 1200x600 with 2 Axes>"
      ]
     },
     "metadata": {},
     "output_type": "display_data"
    }
   ],
   "source": [
    "plt.figure(\"train\", (12, 6))\n",
    "plt.subplot(1, 2, 1)\n",
    "plt.title(\"Epoch Average Loss\")\n",
    "x = [i + 1 for i in range(len(epoch_loss_values))]\n",
    "y = epoch_loss_values\n",
    "plt.xlabel(\"epoch\")\n",
    "plt.plot(x, y)\n",
    "plt.subplot(1, 2, 2)\n",
    "plt.title(\"Val AUC\")\n",
    "x = [val_interval * (i + 1) for i in range(len(metric_values))]\n",
    "y = metric_values\n",
    "plt.xlabel(\"epoch\")\n",
    "plt.plot(x, y)\n",
    "plt.show()"
   ]
  },
  {
   "cell_type": "code",
   "execution_count": 34,
   "metadata": {},
   "outputs": [
    {
     "name": "stdout",
     "output_type": "stream",
     "text": [
      "Training time: 1235.64 seconds\n",
      "CPU time used: 14811.27 seconds\n",
      "Memory used: 73.03 MB\n",
      "GPU Memory Used: 193.75 MB\n",
      "Max GPU Memory Used: 237.89 MB\n"
     ]
    }
   ],
   "source": [
    "end_time = time.time()\n",
    "end_cpu = process.cpu_times()\n",
    "end_mem = process.memory_info().rss / 1024**2\n",
    "\n",
    "cpu_time = (end_cpu.user + end_cpu.system) - (start_cpu.user + start_cpu.system)\n",
    "memory_used = end_mem - start_mem\n",
    "\n",
    "print(f\"Training time: {end_time - start_time:.2f} seconds\")\n",
    "print(f\"CPU time used: {cpu_time:.2f} seconds\")\n",
    "print(f\"Memory used: {memory_used:.2f} MB\")\n",
    "\n",
    "if device.type == \"cuda\":\n",
    "    torch.cuda.synchronize()\n",
    "    print(f\"GPU Memory Used: {torch.cuda.memory_allocated() / 1024**2:.2f} MB\")\n",
    "    print(f\"Max GPU Memory Used: {torch.cuda.max_memory_allocated() / 1024**2:.2f} MB\")\n"
   ]
  },
  {
   "cell_type": "code",
   "execution_count": 35,
   "metadata": {},
   "outputs": [
    {
     "name": "stdout",
     "output_type": "stream",
     "text": [
      "VRAM currently used: 193.75 MB\n",
      "Max VRAM used during training: 237.89 MB\n"
     ]
    }
   ],
   "source": [
    "if device.type == \"cuda\":\n",
    "    torch.cuda.synchronize()\n",
    "    vram_used = torch.cuda.memory_allocated() / 1024**2\n",
    "    vram_max_used = torch.cuda.max_memory_allocated() / 1024**2\n",
    "\n",
    "    print(f\"VRAM currently used: {vram_used:.2f} MB\")\n",
    "    print(f\"Max VRAM used during training: {vram_max_used:.2f} MB\")\n"
   ]
  },
  {
   "cell_type": "markdown",
   "metadata": {},
   "source": [
    "### Evaluation"
   ]
  },
  {
   "cell_type": "code",
   "execution_count": 36,
   "metadata": {},
   "outputs": [],
   "source": [
    "model.load_state_dict(torch.load(os.path.join(root_dir, \"coronal_full_pretrained.pth\"), weights_only=True))\n",
    "model.eval()\n",
    "y_true = []\n",
    "y_pred = []\n",
    "example_axial = []\n",
    "example_coronal = []\n",
    "example_sagittal = []\n",
    "example_preds = []\n",
    "example_labels = []\n",
    "\n",
    "with torch.no_grad():\n",
    "    for test_data in test_loader:\n",
    "        test_images, test_labels = (\n",
    "            test_data['images'],\n",
    "            test_data['label'][:, 0].type(torch.LongTensor).to(device),\n",
    "        )\n",
    "        test_axial, test_coronal, test_sagittal = test_images\n",
    "        pred = model(test_coronal.to(device)).argmax(dim=1)\n",
    "        for i in range(len(pred)):\n",
    "            y_true.append(test_labels[i].item())\n",
    "            y_pred.append(pred[i].item())\n",
    "\n",
    "        if len(example_axial) < 10:\n",
    "            example_axial.append(test_axial)\n",
    "            example_coronal.append(test_coronal)\n",
    "            example_sagittal.append(test_sagittal)\n",
    "            example_preds.append(pred)\n",
    "            example_labels.append(test_labels)"
   ]
  },
  {
   "cell_type": "code",
   "execution_count": 37,
   "metadata": {
    "scrolled": true
   },
   "outputs": [
    {
     "name": "stdout",
     "output_type": "stream",
     "text": [
      "              precision    recall  f1-score   support\n",
      "\n",
      "           0     1.0000    1.0000    1.0000        69\n",
      "           1     0.7407    0.5882    0.6557        68\n",
      "           2     0.5833    0.6087    0.5957        69\n",
      "           3     0.7018    0.6154    0.6557        65\n",
      "           4     0.6389    0.7077    0.6715        65\n",
      "           5     0.8000    0.9697    0.8767        66\n",
      "           6     1.0000    1.0000    1.0000        28\n",
      "           7     1.0000    1.0000    1.0000        21\n",
      "           8     1.0000    1.0000    1.0000        21\n",
      "           9     0.8732    0.8986    0.8857        69\n",
      "          10     0.9692    0.9130    0.9403        69\n",
      "\n",
      "    accuracy                         0.8131       610\n",
      "   macro avg     0.8461    0.8456    0.8438       610\n",
      "weighted avg     0.8143    0.8131    0.8112       610\n",
      "\n"
     ]
    }
   ],
   "source": [
    "report = classification_report(y_true, y_pred, target_names=info['label'], digits=4, output_dict=True)\n",
    "print(classification_report(y_true, y_pred, target_names=info['label'], digits=4))"
   ]
  },
  {
   "cell_type": "code",
   "execution_count": 38,
   "metadata": {},
   "outputs": [],
   "source": [
    "df = pd.DataFrame(report).transpose()\n",
    "df.to_csv(f'coronal_full_pretrained_seed{seed}.csv')"
   ]
  },
  {
   "cell_type": "code",
   "execution_count": 39,
   "metadata": {},
   "outputs": [
    {
     "name": "stdout",
     "output_type": "stream",
     "text": [
      "VRAM currently used: 193.74 MB\n",
      "Max VRAM used during training: 237.89 MB\n"
     ]
    }
   ],
   "source": [
    "if device.type == \"cuda\":\n",
    "    torch.cuda.synchronize()\n",
    "    vram_used = torch.cuda.memory_allocated() / 1024**2\n",
    "    vram_max_used = torch.cuda.max_memory_allocated() / 1024**2\n",
    "\n",
    "    print(f\"VRAM currently used: {vram_used:.2f} MB\")\n",
    "    print(f\"Max VRAM used during training: {vram_max_used:.2f} MB\")\n"
   ]
  },
  {
   "cell_type": "markdown",
   "metadata": {},
   "source": [
    "## Unpretrained"
   ]
  },
  {
   "cell_type": "code",
   "execution_count": 40,
   "metadata": {},
   "outputs": [],
   "source": [
    "device = torch.device(\"cuda\" if torch.cuda.is_available() else \"cpu\")\n",
    "model = nets.resnet18(pretrained=False, spatial_dims=2, n_input_channels=64, num_classes=n_classes).to(device)\n",
    "loss_function = torch.nn.CrossEntropyLoss()\n",
    "optimizer = torch.optim.Adam(model.parameters(), 0.00005)\n",
    "max_epochs = 70\n",
    "val_interval = 1\n",
    "auc_metric = ROCAUCMetric()"
   ]
  },
  {
   "cell_type": "code",
   "execution_count": 41,
   "metadata": {
    "scrolled": true
   },
   "outputs": [
    {
     "name": "stderr",
     "output_type": "stream",
     "text": [
      "Epochs:   0%|          | 0/70 [00:00<?, ?it/s]"
     ]
    },
    {
     "name": "stdout",
     "output_type": "stream",
     "text": [
      "----------\n",
      "epoch 1/70\n",
      "epoch 1 average loss: 1.7648\n"
     ]
    },
    {
     "name": "stderr",
     "output_type": "stream",
     "text": [
      "Epochs:   1%|▏         | 1/70 [00:17<20:25, 17.76s/it]"
     ]
    },
    {
     "name": "stdout",
     "output_type": "stream",
     "text": [
      "1\n",
      "saved new best metric model\n",
      "current epoch: 1 current AUC: 0.9422 current accuracy: 0.4161 best AUC: 0.9422 at epoch: 1\n",
      "----------\n",
      "epoch 2/70\n",
      "epoch 2 average loss: 1.1978\n"
     ]
    },
    {
     "name": "stderr",
     "output_type": "stream",
     "text": [
      "Epochs:   3%|▎         | 2/70 [00:35<20:01, 17.66s/it]"
     ]
    },
    {
     "name": "stdout",
     "output_type": "stream",
     "text": [
      "1\n",
      "saved new best metric model\n",
      "current epoch: 2 current AUC: 0.9842 current accuracy: 0.6149 best AUC: 0.9842 at epoch: 2\n",
      "----------\n",
      "epoch 3/70\n",
      "epoch 3 average loss: 0.9734\n"
     ]
    },
    {
     "name": "stderr",
     "output_type": "stream",
     "text": [
      "Epochs:   4%|▍         | 3/70 [00:53<19:46, 17.71s/it]"
     ]
    },
    {
     "name": "stdout",
     "output_type": "stream",
     "text": [
      "1\n",
      "current epoch: 3 current AUC: 0.9837 current accuracy: 0.7329 best AUC: 0.9842 at epoch: 2\n",
      "----------\n",
      "epoch 4/70\n",
      "epoch 4 average loss: 0.8794\n"
     ]
    },
    {
     "name": "stderr",
     "output_type": "stream",
     "text": [
      "Epochs:   6%|▌         | 4/70 [01:10<19:29, 17.72s/it]"
     ]
    },
    {
     "name": "stdout",
     "output_type": "stream",
     "text": [
      "1\n",
      "saved new best metric model\n",
      "current epoch: 4 current AUC: 0.9850 current accuracy: 0.7950 best AUC: 0.9850 at epoch: 4\n",
      "----------\n",
      "epoch 5/70\n",
      "epoch 5 average loss: 0.7155\n"
     ]
    },
    {
     "name": "stderr",
     "output_type": "stream",
     "text": [
      "Epochs:   7%|▋         | 5/70 [01:28<19:04, 17.61s/it]"
     ]
    },
    {
     "name": "stdout",
     "output_type": "stream",
     "text": [
      "1\n",
      "saved new best metric model\n",
      "current epoch: 5 current AUC: 0.9910 current accuracy: 0.7950 best AUC: 0.9910 at epoch: 5\n",
      "----------\n",
      "epoch 6/70\n",
      "epoch 6 average loss: 0.6935\n"
     ]
    },
    {
     "name": "stderr",
     "output_type": "stream",
     "text": [
      "Epochs:   9%|▊         | 6/70 [01:45<18:47, 17.61s/it]"
     ]
    },
    {
     "name": "stdout",
     "output_type": "stream",
     "text": [
      "1\n",
      "current epoch: 6 current AUC: 0.9872 current accuracy: 0.8509 best AUC: 0.9910 at epoch: 5\n",
      "----------\n",
      "epoch 7/70\n",
      "epoch 7 average loss: 0.6468\n"
     ]
    },
    {
     "name": "stderr",
     "output_type": "stream",
     "text": [
      "Epochs:  10%|█         | 7/70 [02:03<18:29, 17.61s/it]"
     ]
    },
    {
     "name": "stdout",
     "output_type": "stream",
     "text": [
      "1\n",
      "current epoch: 7 current AUC: 0.9836 current accuracy: 0.7826 best AUC: 0.9910 at epoch: 5\n",
      "----------\n",
      "epoch 8/70\n",
      "epoch 8 average loss: 0.6275\n"
     ]
    },
    {
     "name": "stderr",
     "output_type": "stream",
     "text": [
      "Epochs:  11%|█▏        | 8/70 [02:21<18:10, 17.58s/it]"
     ]
    },
    {
     "name": "stdout",
     "output_type": "stream",
     "text": [
      "1\n",
      "current epoch: 8 current AUC: 0.9830 current accuracy: 0.7516 best AUC: 0.9910 at epoch: 5\n",
      "----------\n",
      "epoch 9/70\n",
      "epoch 9 average loss: 0.5480\n"
     ]
    },
    {
     "name": "stderr",
     "output_type": "stream",
     "text": [
      "Epochs:  13%|█▎        | 9/70 [02:38<17:57, 17.66s/it]"
     ]
    },
    {
     "name": "stdout",
     "output_type": "stream",
     "text": [
      "1\n",
      "saved new best metric model\n",
      "current epoch: 9 current AUC: 0.9923 current accuracy: 0.8509 best AUC: 0.9923 at epoch: 9\n",
      "----------\n",
      "epoch 10/70\n",
      "epoch 10 average loss: 0.4988\n"
     ]
    },
    {
     "name": "stderr",
     "output_type": "stream",
     "text": [
      "Epochs:  14%|█▍        | 10/70 [02:56<17:40, 17.68s/it]"
     ]
    },
    {
     "name": "stdout",
     "output_type": "stream",
     "text": [
      "1\n",
      "current epoch: 10 current AUC: 0.9846 current accuracy: 0.7081 best AUC: 0.9923 at epoch: 9\n",
      "----------\n",
      "epoch 11/70\n",
      "epoch 11 average loss: 0.4729\n"
     ]
    },
    {
     "name": "stderr",
     "output_type": "stream",
     "text": [
      "Epochs:  16%|█▌        | 11/70 [03:14<17:19, 17.62s/it]"
     ]
    },
    {
     "name": "stdout",
     "output_type": "stream",
     "text": [
      "1\n",
      "saved new best metric model\n",
      "current epoch: 11 current AUC: 0.9949 current accuracy: 0.8385 best AUC: 0.9949 at epoch: 11\n",
      "----------\n",
      "epoch 12/70\n",
      "epoch 12 average loss: 0.3987\n"
     ]
    },
    {
     "name": "stderr",
     "output_type": "stream",
     "text": [
      "Epochs:  17%|█▋        | 12/70 [03:31<16:59, 17.58s/it]"
     ]
    },
    {
     "name": "stdout",
     "output_type": "stream",
     "text": [
      "1\n",
      "current epoch: 12 current AUC: 0.9908 current accuracy: 0.8261 best AUC: 0.9949 at epoch: 11\n",
      "----------\n",
      "epoch 13/70\n",
      "epoch 13 average loss: 0.4202\n"
     ]
    },
    {
     "name": "stderr",
     "output_type": "stream",
     "text": [
      "Epochs:  19%|█▊        | 13/70 [03:49<16:42, 17.59s/it]"
     ]
    },
    {
     "name": "stdout",
     "output_type": "stream",
     "text": [
      "1\n",
      "current epoch: 13 current AUC: 0.9863 current accuracy: 0.7267 best AUC: 0.9949 at epoch: 11\n",
      "----------\n",
      "epoch 14/70\n",
      "epoch 14 average loss: 0.3834\n"
     ]
    },
    {
     "name": "stderr",
     "output_type": "stream",
     "text": [
      "Epochs:  20%|██        | 14/70 [04:06<16:23, 17.57s/it]"
     ]
    },
    {
     "name": "stdout",
     "output_type": "stream",
     "text": [
      "1\n",
      "current epoch: 14 current AUC: 0.9893 current accuracy: 0.8385 best AUC: 0.9949 at epoch: 11\n",
      "----------\n",
      "epoch 15/70\n",
      "epoch 15 average loss: 0.3583\n"
     ]
    },
    {
     "name": "stderr",
     "output_type": "stream",
     "text": [
      "Epochs:  21%|██▏       | 15/70 [04:24<16:08, 17.62s/it]"
     ]
    },
    {
     "name": "stdout",
     "output_type": "stream",
     "text": [
      "1\n",
      "current epoch: 15 current AUC: 0.9877 current accuracy: 0.8261 best AUC: 0.9949 at epoch: 11\n",
      "----------\n",
      "epoch 16/70\n",
      "epoch 16 average loss: 0.3043\n"
     ]
    },
    {
     "name": "stderr",
     "output_type": "stream",
     "text": [
      "Epochs:  23%|██▎       | 16/70 [04:41<15:50, 17.60s/it]"
     ]
    },
    {
     "name": "stdout",
     "output_type": "stream",
     "text": [
      "1\n",
      "current epoch: 16 current AUC: 0.9853 current accuracy: 0.8199 best AUC: 0.9949 at epoch: 11\n",
      "----------\n",
      "epoch 17/70\n",
      "epoch 17 average loss: 0.3230\n"
     ]
    },
    {
     "name": "stderr",
     "output_type": "stream",
     "text": [
      "Epochs:  24%|██▍       | 17/70 [04:59<15:30, 17.56s/it]"
     ]
    },
    {
     "name": "stdout",
     "output_type": "stream",
     "text": [
      "1\n",
      "current epoch: 17 current AUC: 0.9896 current accuracy: 0.8571 best AUC: 0.9949 at epoch: 11\n",
      "----------\n",
      "epoch 18/70\n",
      "epoch 18 average loss: 0.3011\n"
     ]
    },
    {
     "name": "stderr",
     "output_type": "stream",
     "text": [
      "Epochs:  26%|██▌       | 18/70 [05:17<15:16, 17.63s/it]"
     ]
    },
    {
     "name": "stdout",
     "output_type": "stream",
     "text": [
      "1\n",
      "current epoch: 18 current AUC: 0.9905 current accuracy: 0.8509 best AUC: 0.9949 at epoch: 11\n",
      "----------\n",
      "epoch 19/70\n",
      "epoch 19 average loss: 0.3069\n"
     ]
    },
    {
     "name": "stderr",
     "output_type": "stream",
     "text": [
      "Epochs:  27%|██▋       | 19/70 [05:34<14:54, 17.53s/it]"
     ]
    },
    {
     "name": "stdout",
     "output_type": "stream",
     "text": [
      "1\n",
      "current epoch: 19 current AUC: 0.9835 current accuracy: 0.7578 best AUC: 0.9949 at epoch: 11\n",
      "----------\n",
      "epoch 20/70\n",
      "epoch 20 average loss: 0.3275\n"
     ]
    },
    {
     "name": "stderr",
     "output_type": "stream",
     "text": [
      "Epochs:  29%|██▊       | 20/70 [05:52<14:40, 17.62s/it]"
     ]
    },
    {
     "name": "stdout",
     "output_type": "stream",
     "text": [
      "1\n",
      "current epoch: 20 current AUC: 0.9872 current accuracy: 0.8571 best AUC: 0.9949 at epoch: 11\n",
      "----------\n",
      "epoch 21/70\n",
      "epoch 21 average loss: 0.2708\n"
     ]
    },
    {
     "name": "stderr",
     "output_type": "stream",
     "text": [
      "Epochs:  30%|███       | 21/70 [06:10<14:24, 17.64s/it]"
     ]
    },
    {
     "name": "stdout",
     "output_type": "stream",
     "text": [
      "1\n",
      "current epoch: 21 current AUC: 0.9946 current accuracy: 0.8820 best AUC: 0.9949 at epoch: 11\n",
      "----------\n",
      "epoch 22/70\n",
      "epoch 22 average loss: 0.2389\n"
     ]
    },
    {
     "name": "stderr",
     "output_type": "stream",
     "text": [
      "Epochs:  31%|███▏      | 22/70 [06:27<14:10, 17.73s/it]"
     ]
    },
    {
     "name": "stdout",
     "output_type": "stream",
     "text": [
      "1\n",
      "current epoch: 22 current AUC: 0.9839 current accuracy: 0.7888 best AUC: 0.9949 at epoch: 11\n",
      "----------\n",
      "epoch 23/70\n",
      "epoch 23 average loss: 0.2110\n"
     ]
    },
    {
     "name": "stderr",
     "output_type": "stream",
     "text": [
      "Epochs:  33%|███▎      | 23/70 [06:45<13:50, 17.66s/it]"
     ]
    },
    {
     "name": "stdout",
     "output_type": "stream",
     "text": [
      "1\n",
      "saved new best metric model\n",
      "current epoch: 23 current AUC: 0.9958 current accuracy: 0.9006 best AUC: 0.9958 at epoch: 23\n",
      "----------\n",
      "epoch 24/70\n",
      "epoch 24 average loss: 0.2509\n"
     ]
    },
    {
     "name": "stderr",
     "output_type": "stream",
     "text": [
      "Epochs:  34%|███▍      | 24/70 [07:03<13:32, 17.66s/it]"
     ]
    },
    {
     "name": "stdout",
     "output_type": "stream",
     "text": [
      "1\n",
      "current epoch: 24 current AUC: 0.9924 current accuracy: 0.8385 best AUC: 0.9958 at epoch: 23\n",
      "----------\n",
      "epoch 25/70\n",
      "epoch 25 average loss: 0.2260\n"
     ]
    },
    {
     "name": "stderr",
     "output_type": "stream",
     "text": [
      "Epochs:  36%|███▌      | 25/70 [07:20<13:13, 17.62s/it]"
     ]
    },
    {
     "name": "stdout",
     "output_type": "stream",
     "text": [
      "1\n",
      "current epoch: 25 current AUC: 0.9898 current accuracy: 0.8385 best AUC: 0.9958 at epoch: 23\n",
      "----------\n",
      "epoch 26/70\n",
      "epoch 26 average loss: 0.1892\n"
     ]
    },
    {
     "name": "stderr",
     "output_type": "stream",
     "text": [
      "Epochs:  37%|███▋      | 26/70 [07:38<12:52, 17.55s/it]"
     ]
    },
    {
     "name": "stdout",
     "output_type": "stream",
     "text": [
      "1\n",
      "current epoch: 26 current AUC: 0.9955 current accuracy: 0.8696 best AUC: 0.9958 at epoch: 23\n",
      "----------\n",
      "epoch 27/70\n",
      "epoch 27 average loss: 0.2753\n"
     ]
    },
    {
     "name": "stderr",
     "output_type": "stream",
     "text": [
      "Epochs:  39%|███▊      | 27/70 [07:55<12:35, 17.58s/it]"
     ]
    },
    {
     "name": "stdout",
     "output_type": "stream",
     "text": [
      "1\n",
      "current epoch: 27 current AUC: 0.9922 current accuracy: 0.8509 best AUC: 0.9958 at epoch: 23\n",
      "----------\n",
      "epoch 28/70\n",
      "epoch 28 average loss: 0.2475\n"
     ]
    },
    {
     "name": "stderr",
     "output_type": "stream",
     "text": [
      "Epochs:  40%|████      | 28/70 [08:13<12:17, 17.57s/it]"
     ]
    },
    {
     "name": "stdout",
     "output_type": "stream",
     "text": [
      "1\n",
      "current epoch: 28 current AUC: 0.9936 current accuracy: 0.8634 best AUC: 0.9958 at epoch: 23\n",
      "----------\n",
      "epoch 29/70\n",
      "epoch 29 average loss: 0.2148\n"
     ]
    },
    {
     "name": "stderr",
     "output_type": "stream",
     "text": [
      "Epochs:  41%|████▏     | 29/70 [08:30<12:00, 17.57s/it]"
     ]
    },
    {
     "name": "stdout",
     "output_type": "stream",
     "text": [
      "1\n",
      "current epoch: 29 current AUC: 0.9881 current accuracy: 0.8199 best AUC: 0.9958 at epoch: 23\n",
      "----------\n",
      "epoch 30/70\n",
      "epoch 30 average loss: 0.1828\n"
     ]
    },
    {
     "name": "stderr",
     "output_type": "stream",
     "text": [
      "Epochs:  43%|████▎     | 30/70 [08:48<11:42, 17.55s/it]"
     ]
    },
    {
     "name": "stdout",
     "output_type": "stream",
     "text": [
      "1\n",
      "current epoch: 30 current AUC: 0.9856 current accuracy: 0.8447 best AUC: 0.9958 at epoch: 23\n",
      "----------\n",
      "epoch 31/70\n",
      "epoch 31 average loss: 0.2143\n"
     ]
    },
    {
     "name": "stderr",
     "output_type": "stream",
     "text": [
      "Epochs:  44%|████▍     | 31/70 [09:05<11:22, 17.50s/it]"
     ]
    },
    {
     "name": "stdout",
     "output_type": "stream",
     "text": [
      "1\n",
      "current epoch: 31 current AUC: 0.9902 current accuracy: 0.8571 best AUC: 0.9958 at epoch: 23\n",
      "----------\n",
      "epoch 32/70\n",
      "epoch 32 average loss: 0.1829\n"
     ]
    },
    {
     "name": "stderr",
     "output_type": "stream",
     "text": [
      "Epochs:  46%|████▌     | 32/70 [09:23<11:05, 17.50s/it]"
     ]
    },
    {
     "name": "stdout",
     "output_type": "stream",
     "text": [
      "1\n",
      "current epoch: 32 current AUC: 0.9929 current accuracy: 0.8696 best AUC: 0.9958 at epoch: 23\n",
      "----------\n",
      "epoch 33/70\n",
      "epoch 33 average loss: 0.1400\n"
     ]
    },
    {
     "name": "stderr",
     "output_type": "stream",
     "text": [
      "Epochs:  47%|████▋     | 33/70 [09:40<10:46, 17.47s/it]"
     ]
    },
    {
     "name": "stdout",
     "output_type": "stream",
     "text": [
      "1\n",
      "current epoch: 33 current AUC: 0.9921 current accuracy: 0.8820 best AUC: 0.9958 at epoch: 23\n",
      "----------\n",
      "epoch 34/70\n",
      "epoch 34 average loss: 0.1802\n"
     ]
    },
    {
     "name": "stderr",
     "output_type": "stream",
     "text": [
      "Epochs:  49%|████▊     | 34/70 [09:58<10:29, 17.48s/it]"
     ]
    },
    {
     "name": "stdout",
     "output_type": "stream",
     "text": [
      "1\n",
      "current epoch: 34 current AUC: 0.9942 current accuracy: 0.8820 best AUC: 0.9958 at epoch: 23\n",
      "----------\n",
      "epoch 35/70\n",
      "epoch 35 average loss: 0.1461\n"
     ]
    },
    {
     "name": "stderr",
     "output_type": "stream",
     "text": [
      "Epochs:  50%|█████     | 35/70 [10:15<10:15, 17.58s/it]"
     ]
    },
    {
     "name": "stdout",
     "output_type": "stream",
     "text": [
      "1\n",
      "current epoch: 35 current AUC: 0.9923 current accuracy: 0.8758 best AUC: 0.9958 at epoch: 23\n",
      "----------\n",
      "epoch 36/70\n",
      "epoch 36 average loss: 0.1210\n"
     ]
    },
    {
     "name": "stderr",
     "output_type": "stream",
     "text": [
      "Epochs:  51%|█████▏    | 36/70 [10:33<09:55, 17.52s/it]"
     ]
    },
    {
     "name": "stdout",
     "output_type": "stream",
     "text": [
      "1\n",
      "current epoch: 36 current AUC: 0.9890 current accuracy: 0.8447 best AUC: 0.9958 at epoch: 23\n",
      "----------\n",
      "epoch 37/70\n",
      "epoch 37 average loss: 0.1296\n"
     ]
    },
    {
     "name": "stderr",
     "output_type": "stream",
     "text": [
      "Epochs:  53%|█████▎    | 37/70 [10:50<09:39, 17.55s/it]"
     ]
    },
    {
     "name": "stdout",
     "output_type": "stream",
     "text": [
      "1\n",
      "current epoch: 37 current AUC: 0.9776 current accuracy: 0.7826 best AUC: 0.9958 at epoch: 23\n",
      "----------\n",
      "epoch 38/70\n",
      "epoch 38 average loss: 0.1979\n"
     ]
    },
    {
     "name": "stderr",
     "output_type": "stream",
     "text": [
      "Epochs:  54%|█████▍    | 38/70 [11:08<09:22, 17.56s/it]"
     ]
    },
    {
     "name": "stdout",
     "output_type": "stream",
     "text": [
      "1\n",
      "current epoch: 38 current AUC: 0.9862 current accuracy: 0.8261 best AUC: 0.9958 at epoch: 23\n",
      "----------\n",
      "epoch 39/70\n",
      "epoch 39 average loss: 0.1808\n"
     ]
    },
    {
     "name": "stderr",
     "output_type": "stream",
     "text": [
      "Epochs:  56%|█████▌    | 39/70 [11:26<09:05, 17.61s/it]"
     ]
    },
    {
     "name": "stdout",
     "output_type": "stream",
     "text": [
      "1\n",
      "current epoch: 39 current AUC: 0.9858 current accuracy: 0.8385 best AUC: 0.9958 at epoch: 23\n",
      "----------\n",
      "epoch 40/70\n",
      "epoch 40 average loss: 0.1896\n"
     ]
    },
    {
     "name": "stderr",
     "output_type": "stream",
     "text": [
      "Epochs:  57%|█████▋    | 40/70 [11:43<08:47, 17.57s/it]"
     ]
    },
    {
     "name": "stdout",
     "output_type": "stream",
     "text": [
      "1\n",
      "current epoch: 40 current AUC: 0.9939 current accuracy: 0.8882 best AUC: 0.9958 at epoch: 23\n",
      "----------\n",
      "epoch 41/70\n",
      "epoch 41 average loss: 0.1190\n"
     ]
    },
    {
     "name": "stderr",
     "output_type": "stream",
     "text": [
      "Epochs:  59%|█████▊    | 41/70 [12:01<08:27, 17.51s/it]"
     ]
    },
    {
     "name": "stdout",
     "output_type": "stream",
     "text": [
      "1\n",
      "current epoch: 41 current AUC: 0.9943 current accuracy: 0.8820 best AUC: 0.9958 at epoch: 23\n",
      "----------\n",
      "epoch 42/70\n",
      "epoch 42 average loss: 0.1611\n"
     ]
    },
    {
     "name": "stderr",
     "output_type": "stream",
     "text": [
      "Epochs:  60%|██████    | 42/70 [12:18<08:11, 17.55s/it]"
     ]
    },
    {
     "name": "stdout",
     "output_type": "stream",
     "text": [
      "1\n",
      "current epoch: 42 current AUC: 0.9912 current accuracy: 0.8509 best AUC: 0.9958 at epoch: 23\n",
      "----------\n",
      "epoch 43/70\n",
      "epoch 43 average loss: 0.1321\n"
     ]
    },
    {
     "name": "stderr",
     "output_type": "stream",
     "text": [
      "Epochs:  61%|██████▏   | 43/70 [12:36<07:52, 17.51s/it]"
     ]
    },
    {
     "name": "stdout",
     "output_type": "stream",
     "text": [
      "1\n",
      "current epoch: 43 current AUC: 0.9934 current accuracy: 0.9130 best AUC: 0.9958 at epoch: 23\n",
      "----------\n",
      "epoch 44/70\n",
      "epoch 44 average loss: 0.1364\n"
     ]
    },
    {
     "name": "stderr",
     "output_type": "stream",
     "text": [
      "Epochs:  63%|██████▎   | 44/70 [12:53<07:34, 17.50s/it]"
     ]
    },
    {
     "name": "stdout",
     "output_type": "stream",
     "text": [
      "1\n",
      "current epoch: 44 current AUC: 0.9940 current accuracy: 0.8696 best AUC: 0.9958 at epoch: 23\n",
      "----------\n",
      "epoch 45/70\n",
      "epoch 45 average loss: 0.1330\n"
     ]
    },
    {
     "name": "stderr",
     "output_type": "stream",
     "text": [
      "Epochs:  64%|██████▍   | 45/70 [13:11<07:18, 17.54s/it]"
     ]
    },
    {
     "name": "stdout",
     "output_type": "stream",
     "text": [
      "1\n",
      "saved new best metric model\n",
      "current epoch: 45 current AUC: 0.9967 current accuracy: 0.9006 best AUC: 0.9967 at epoch: 45\n",
      "----------\n",
      "epoch 46/70\n",
      "epoch 46 average loss: 0.1577\n"
     ]
    },
    {
     "name": "stderr",
     "output_type": "stream",
     "text": [
      "Epochs:  66%|██████▌   | 46/70 [13:28<07:01, 17.56s/it]"
     ]
    },
    {
     "name": "stdout",
     "output_type": "stream",
     "text": [
      "1\n",
      "current epoch: 46 current AUC: 0.9945 current accuracy: 0.9068 best AUC: 0.9967 at epoch: 45\n",
      "----------\n",
      "epoch 47/70\n",
      "epoch 47 average loss: 0.1474\n"
     ]
    },
    {
     "name": "stderr",
     "output_type": "stream",
     "text": [
      "Epochs:  67%|██████▋   | 47/70 [13:46<06:42, 17.50s/it]"
     ]
    },
    {
     "name": "stdout",
     "output_type": "stream",
     "text": [
      "1\n",
      "current epoch: 47 current AUC: 0.9927 current accuracy: 0.8758 best AUC: 0.9967 at epoch: 45\n",
      "----------\n",
      "epoch 48/70\n",
      "epoch 48 average loss: 0.1310\n"
     ]
    },
    {
     "name": "stderr",
     "output_type": "stream",
     "text": [
      "Epochs:  69%|██████▊   | 48/70 [14:03<06:26, 17.55s/it]"
     ]
    },
    {
     "name": "stdout",
     "output_type": "stream",
     "text": [
      "1\n",
      "current epoch: 48 current AUC: 0.9966 current accuracy: 0.9068 best AUC: 0.9967 at epoch: 45\n",
      "----------\n",
      "epoch 49/70\n",
      "epoch 49 average loss: 0.1030\n"
     ]
    },
    {
     "name": "stderr",
     "output_type": "stream",
     "text": [
      "Epochs:  70%|███████   | 49/70 [14:21<06:08, 17.55s/it]"
     ]
    },
    {
     "name": "stdout",
     "output_type": "stream",
     "text": [
      "1\n",
      "current epoch: 49 current AUC: 0.9949 current accuracy: 0.9193 best AUC: 0.9967 at epoch: 45\n",
      "----------\n",
      "epoch 50/70\n",
      "epoch 50 average loss: 0.0886\n"
     ]
    },
    {
     "name": "stderr",
     "output_type": "stream",
     "text": [
      "Epochs:  71%|███████▏  | 50/70 [14:39<05:52, 17.61s/it]"
     ]
    },
    {
     "name": "stdout",
     "output_type": "stream",
     "text": [
      "1\n",
      "current epoch: 50 current AUC: 0.9879 current accuracy: 0.8882 best AUC: 0.9967 at epoch: 45\n",
      "----------\n",
      "epoch 51/70\n",
      "epoch 51 average loss: 0.0799\n"
     ]
    },
    {
     "name": "stderr",
     "output_type": "stream",
     "text": [
      "Epochs:  73%|███████▎  | 51/70 [14:56<05:33, 17.54s/it]"
     ]
    },
    {
     "name": "stdout",
     "output_type": "stream",
     "text": [
      "1\n",
      "current epoch: 51 current AUC: 0.9833 current accuracy: 0.8137 best AUC: 0.9967 at epoch: 45\n",
      "----------\n",
      "epoch 52/70\n",
      "epoch 52 average loss: 0.1010\n"
     ]
    },
    {
     "name": "stderr",
     "output_type": "stream",
     "text": [
      "Epochs:  74%|███████▍  | 52/70 [15:14<05:16, 17.58s/it]"
     ]
    },
    {
     "name": "stdout",
     "output_type": "stream",
     "text": [
      "1\n",
      "current epoch: 52 current AUC: 0.9940 current accuracy: 0.8820 best AUC: 0.9967 at epoch: 45\n",
      "----------\n",
      "epoch 53/70\n",
      "epoch 53 average loss: 0.0913\n"
     ]
    },
    {
     "name": "stderr",
     "output_type": "stream",
     "text": [
      "Epochs:  76%|███████▌  | 53/70 [15:31<04:58, 17.58s/it]"
     ]
    },
    {
     "name": "stdout",
     "output_type": "stream",
     "text": [
      "1\n",
      "current epoch: 53 current AUC: 0.9941 current accuracy: 0.8696 best AUC: 0.9967 at epoch: 45\n",
      "----------\n",
      "epoch 54/70\n",
      "epoch 54 average loss: 0.1051\n"
     ]
    },
    {
     "name": "stderr",
     "output_type": "stream",
     "text": [
      "Epochs:  77%|███████▋  | 54/70 [15:49<04:41, 17.59s/it]"
     ]
    },
    {
     "name": "stdout",
     "output_type": "stream",
     "text": [
      "1\n",
      "current epoch: 54 current AUC: 0.9939 current accuracy: 0.8882 best AUC: 0.9967 at epoch: 45\n",
      "----------\n",
      "epoch 55/70\n",
      "epoch 55 average loss: 0.1019\n"
     ]
    },
    {
     "name": "stderr",
     "output_type": "stream",
     "text": [
      "Epochs:  79%|███████▊  | 55/70 [16:06<04:23, 17.56s/it]"
     ]
    },
    {
     "name": "stdout",
     "output_type": "stream",
     "text": [
      "1\n",
      "current epoch: 55 current AUC: 0.9889 current accuracy: 0.8634 best AUC: 0.9967 at epoch: 45\n",
      "----------\n",
      "epoch 56/70\n",
      "epoch 56 average loss: 0.1014\n"
     ]
    },
    {
     "name": "stderr",
     "output_type": "stream",
     "text": [
      "Epochs:  80%|████████  | 56/70 [16:24<04:06, 17.58s/it]"
     ]
    },
    {
     "name": "stdout",
     "output_type": "stream",
     "text": [
      "1\n",
      "saved new best metric model\n",
      "current epoch: 56 current AUC: 0.9977 current accuracy: 0.9193 best AUC: 0.9977 at epoch: 56\n",
      "----------\n",
      "epoch 57/70\n",
      "epoch 57 average loss: 0.0996\n"
     ]
    },
    {
     "name": "stderr",
     "output_type": "stream",
     "text": [
      "Epochs:  81%|████████▏ | 57/70 [16:41<03:47, 17.51s/it]"
     ]
    },
    {
     "name": "stdout",
     "output_type": "stream",
     "text": [
      "1\n",
      "current epoch: 57 current AUC: 0.9897 current accuracy: 0.8385 best AUC: 0.9977 at epoch: 56\n",
      "----------\n",
      "epoch 58/70\n",
      "epoch 58 average loss: 0.1488\n"
     ]
    },
    {
     "name": "stderr",
     "output_type": "stream",
     "text": [
      "Epochs:  83%|████████▎ | 58/70 [16:59<03:30, 17.57s/it]"
     ]
    },
    {
     "name": "stdout",
     "output_type": "stream",
     "text": [
      "1\n",
      "current epoch: 58 current AUC: 0.9876 current accuracy: 0.8199 best AUC: 0.9977 at epoch: 56\n",
      "----------\n",
      "epoch 59/70\n",
      "epoch 59 average loss: 0.1284\n"
     ]
    },
    {
     "name": "stderr",
     "output_type": "stream",
     "text": [
      "Epochs:  84%|████████▍ | 59/70 [17:17<03:13, 17.55s/it]"
     ]
    },
    {
     "name": "stdout",
     "output_type": "stream",
     "text": [
      "1\n",
      "current epoch: 59 current AUC: 0.9942 current accuracy: 0.8944 best AUC: 0.9977 at epoch: 56\n",
      "----------\n",
      "epoch 60/70\n",
      "epoch 60 average loss: 0.0988\n"
     ]
    },
    {
     "name": "stderr",
     "output_type": "stream",
     "text": [
      "Epochs:  86%|████████▌ | 60/70 [17:34<02:54, 17.43s/it]"
     ]
    },
    {
     "name": "stdout",
     "output_type": "stream",
     "text": [
      "1\n",
      "current epoch: 60 current AUC: 0.9899 current accuracy: 0.8509 best AUC: 0.9977 at epoch: 56\n",
      "----------\n",
      "epoch 61/70\n",
      "epoch 61 average loss: 0.0682\n"
     ]
    },
    {
     "name": "stderr",
     "output_type": "stream",
     "text": [
      "Epochs:  87%|████████▋ | 61/70 [17:51<02:37, 17.53s/it]"
     ]
    },
    {
     "name": "stdout",
     "output_type": "stream",
     "text": [
      "1\n",
      "current epoch: 61 current AUC: 0.9910 current accuracy: 0.8261 best AUC: 0.9977 at epoch: 56\n",
      "----------\n",
      "epoch 62/70\n",
      "epoch 62 average loss: 0.0986\n"
     ]
    },
    {
     "name": "stderr",
     "output_type": "stream",
     "text": [
      "Epochs:  89%|████████▊ | 62/70 [18:09<02:19, 17.49s/it]"
     ]
    },
    {
     "name": "stdout",
     "output_type": "stream",
     "text": [
      "1\n",
      "current epoch: 62 current AUC: 0.9901 current accuracy: 0.8571 best AUC: 0.9977 at epoch: 56\n",
      "----------\n",
      "epoch 63/70\n",
      "epoch 63 average loss: 0.1066\n"
     ]
    },
    {
     "name": "stderr",
     "output_type": "stream",
     "text": [
      "Epochs:  90%|█████████ | 63/70 [18:27<02:02, 17.55s/it]"
     ]
    },
    {
     "name": "stdout",
     "output_type": "stream",
     "text": [
      "1\n",
      "current epoch: 63 current AUC: 0.9948 current accuracy: 0.8944 best AUC: 0.9977 at epoch: 56\n",
      "----------\n",
      "epoch 64/70\n",
      "epoch 64 average loss: 0.0883\n"
     ]
    },
    {
     "name": "stderr",
     "output_type": "stream",
     "text": [
      "Epochs:  91%|█████████▏| 64/70 [18:44<01:45, 17.56s/it]"
     ]
    },
    {
     "name": "stdout",
     "output_type": "stream",
     "text": [
      "1\n",
      "current epoch: 64 current AUC: 0.9935 current accuracy: 0.8820 best AUC: 0.9977 at epoch: 56\n",
      "----------\n",
      "epoch 65/70\n",
      "epoch 65 average loss: 0.0747\n"
     ]
    },
    {
     "name": "stderr",
     "output_type": "stream",
     "text": [
      "Epochs:  93%|█████████▎| 65/70 [19:02<01:27, 17.59s/it]"
     ]
    },
    {
     "name": "stdout",
     "output_type": "stream",
     "text": [
      "1\n",
      "current epoch: 65 current AUC: 0.9892 current accuracy: 0.8509 best AUC: 0.9977 at epoch: 56\n",
      "----------\n",
      "epoch 66/70\n",
      "epoch 66 average loss: 0.0741\n"
     ]
    },
    {
     "name": "stderr",
     "output_type": "stream",
     "text": [
      "Epochs:  94%|█████████▍| 66/70 [19:19<01:10, 17.58s/it]"
     ]
    },
    {
     "name": "stdout",
     "output_type": "stream",
     "text": [
      "1\n",
      "current epoch: 66 current AUC: 0.9884 current accuracy: 0.8509 best AUC: 0.9977 at epoch: 56\n",
      "----------\n",
      "epoch 67/70\n",
      "epoch 67 average loss: 0.0628\n"
     ]
    },
    {
     "name": "stderr",
     "output_type": "stream",
     "text": [
      "Epochs:  96%|█████████▌| 67/70 [19:37<00:52, 17.56s/it]"
     ]
    },
    {
     "name": "stdout",
     "output_type": "stream",
     "text": [
      "1\n",
      "current epoch: 67 current AUC: 0.9942 current accuracy: 0.9006 best AUC: 0.9977 at epoch: 56\n",
      "----------\n",
      "epoch 68/70\n",
      "epoch 68 average loss: 0.0981\n"
     ]
    },
    {
     "name": "stderr",
     "output_type": "stream",
     "text": [
      "Epochs:  97%|█████████▋| 68/70 [19:55<00:35, 17.64s/it]"
     ]
    },
    {
     "name": "stdout",
     "output_type": "stream",
     "text": [
      "1\n",
      "current epoch: 68 current AUC: 0.9892 current accuracy: 0.8509 best AUC: 0.9977 at epoch: 56\n",
      "----------\n",
      "epoch 69/70\n",
      "epoch 69 average loss: 0.0706\n"
     ]
    },
    {
     "name": "stderr",
     "output_type": "stream",
     "text": [
      "Epochs:  99%|█████████▊| 69/70 [20:12<00:17, 17.64s/it]"
     ]
    },
    {
     "name": "stdout",
     "output_type": "stream",
     "text": [
      "1\n",
      "current epoch: 69 current AUC: 0.9923 current accuracy: 0.8696 best AUC: 0.9977 at epoch: 56\n",
      "----------\n",
      "epoch 70/70\n",
      "epoch 70 average loss: 0.0686\n"
     ]
    },
    {
     "name": "stderr",
     "output_type": "stream",
     "text": [
      "Epochs: 100%|██████████| 70/70 [20:30<00:00, 17.58s/it]"
     ]
    },
    {
     "name": "stdout",
     "output_type": "stream",
     "text": [
      "1\n",
      "current epoch: 70 current AUC: 0.9927 current accuracy: 0.9068 best AUC: 0.9977 at epoch: 56\n",
      "train completed, best_metric: 0.9977 at epoch: 56\n"
     ]
    },
    {
     "name": "stderr",
     "output_type": "stream",
     "text": [
      "\n"
     ]
    }
   ],
   "source": [
    "best_metric = -1\n",
    "best_metric_epoch = -1\n",
    "epoch_loss_values = []\n",
    "metric_values = []\n",
    "writer = SummaryWriter()\n",
    "\n",
    "start_time = time.time()\n",
    "process = psutil.Process()\n",
    "start_cpu = process.cpu_times()\n",
    "start_mem = process.memory_info().rss / 1024**2  # В MB\n",
    "\n",
    "if device.type == \"cuda\":\n",
    "    torch.cuda.synchronize()\n",
    "    torch.cuda.reset_peak_memory_stats()\n",
    "\n",
    "for epoch in tqdm(range(max_epochs), desc=\"Epochs\"):\n",
    "    print(\"-\" * 10)\n",
    "    print(f\"epoch {epoch + 1}/{max_epochs}\")\n",
    "    model.train()\n",
    "    epoch_loss = 0\n",
    "    step = 0\n",
    "    \n",
    "    for batch_data in train_loader:\n",
    "        step += 1\n",
    "        images, labels = batch_data['images'], batch_data['label'][:, 0].type(torch.LongTensor).to(device)\n",
    "        axial, coronal, sagittal = images\n",
    "        optimizer.zero_grad()\n",
    "        outputs = model(coronal.to(device))\n",
    "        loss = loss_function(outputs, labels)\n",
    "        loss.backward()\n",
    "        optimizer.step()\n",
    "        epoch_loss += loss.item()\n",
    "        epoch_len = len(train_dataset) // train_loader.batch_size\n",
    "        writer.add_scalar(\"train_loss\", loss.item(), epoch_len * epoch + step)\n",
    "        \n",
    "    epoch_loss /= step\n",
    "    epoch_loss_values.append(epoch_loss)\n",
    "    print(f\"epoch {epoch + 1} average loss: {epoch_loss:.4f}\")\n",
    "\n",
    "    if (epoch + 1) % val_interval == 0:\n",
    "        model.eval()\n",
    "        with torch.no_grad():\n",
    "            y_pred = torch.tensor([], dtype=torch.float32, device=device)\n",
    "            y = torch.tensor([], dtype=torch.long, device=device)\n",
    "            for val_data in val_loader:\n",
    "                val_images, val_labels = (\n",
    "                    val_data['images'],\n",
    "                    val_data['label'][:, 0].type(torch.LongTensor).to(device),\n",
    "                )\n",
    "                val_axial, val_coronal, val_sagittal = val_images\n",
    "                y_pred = torch.cat([y_pred, model(val_coronal.to(device))], dim=0)\n",
    "                y = torch.cat([y, val_labels], dim=0)\n",
    "            y_onehot = [y_trans(i) for i in decollate_batch(y, detach=False)]\n",
    "            print('1')\n",
    "            y_pred_act = [y_pred_trans(i) for i in decollate_batch(y_pred)]\n",
    "            auc_metric(y_pred_act, y_onehot)\n",
    "            result = auc_metric.aggregate()\n",
    "            auc_metric.reset()\n",
    "            del y_pred_act, y_onehot\n",
    "            metric_values.append(result)\n",
    "            acc_value = torch.eq(y_pred.argmax(dim=1), y)\n",
    "            acc_metric = acc_value.sum().item() / len(acc_value)\n",
    "            if result > best_metric:\n",
    "                best_metric = result\n",
    "                best_metric_epoch = epoch + 1\n",
    "                torch.save(model.state_dict(), os.path.join(root_dir, \"coronal_full_unpretrained.pth\"))\n",
    "                print(\"saved new best metric model\")\n",
    "            print(\n",
    "                f\"current epoch: {epoch + 1} current AUC: {result:.4f}\"\n",
    "                f\" current accuracy: {acc_metric:.4f}\"\n",
    "                f\" best AUC: {best_metric:.4f}\"\n",
    "                f\" at epoch: {best_metric_epoch}\"\n",
    "            )\n",
    "            writer.add_scalar(\"val_accuracy\", acc_metric, epoch + 1)\n",
    "\n",
    "print(f\"train completed, best_metric: {best_metric:.4f} \" f\"at epoch: {best_metric_epoch}\")\n",
    "writer.close()"
   ]
  },
  {
   "cell_type": "code",
   "execution_count": 42,
   "metadata": {},
   "outputs": [
    {
     "name": "stdout",
     "output_type": "stream",
     "text": [
      "Training time: 1230.53 seconds\n",
      "CPU time used: 14750.73 seconds\n",
      "Memory used: -29.61 MB\n",
      "GPU Memory Used: 192.39 MB\n",
      "Max GPU Memory Used: 254.19 MB\n"
     ]
    }
   ],
   "source": [
    "end_time = time.time()\n",
    "end_cpu = process.cpu_times()\n",
    "end_mem = process.memory_info().rss / 1024**2\n",
    "\n",
    "cpu_time = (end_cpu.user + end_cpu.system) - (start_cpu.user + start_cpu.system)\n",
    "memory_used = end_mem - start_mem\n",
    "\n",
    "print(f\"Training time: {end_time - start_time:.2f} seconds\")\n",
    "print(f\"CPU time used: {cpu_time:.2f} seconds\")\n",
    "print(f\"Memory used: {memory_used:.2f} MB\")\n",
    "\n",
    "if device.type == \"cuda\":\n",
    "    torch.cuda.synchronize()\n",
    "    print(f\"GPU Memory Used: {torch.cuda.memory_allocated() / 1024**2:.2f} MB\")\n",
    "    print(f\"Max GPU Memory Used: {torch.cuda.max_memory_allocated() / 1024**2:.2f} MB\")\n"
   ]
  },
  {
   "cell_type": "code",
   "execution_count": 43,
   "metadata": {},
   "outputs": [
    {
     "data": {
      "image/png": "[encoded data removed]",
      "text/plain": [
       "<Figure size 1200x600 with 2 Axes>"
      ]
     },
     "metadata": {},
     "output_type": "display_data"
    }
   ],
   "source": [
    "plt.figure(\"train\", (12, 6))\n",
    "plt.subplot(1, 2, 1)\n",
    "plt.title(\"Epoch Average Loss\")\n",
    "x = [i + 1 for i in range(len(epoch_loss_values))]\n",
    "y = epoch_loss_values\n",
    "plt.xlabel(\"epoch\")\n",
    "plt.plot(x, y)\n",
    "plt.subplot(1, 2, 2)\n",
    "plt.title(\"Val AUC\")\n",
    "x = [val_interval * (i + 1) for i in range(len(metric_values))]\n",
    "y = metric_values\n",
    "plt.xlabel(\"epoch\")\n",
    "plt.plot(x, y)\n",
    "plt.show()"
   ]
  },
  {
   "cell_type": "markdown",
   "metadata": {},
   "source": [
    "### Evaluation"
   ]
  },
  {
   "cell_type": "code",
   "execution_count": 44,
   "metadata": {},
   "outputs": [],
   "source": [
    "model.load_state_dict(torch.load(os.path.join(root_dir, \"coronal_full_unpretrained.pth\"), weights_only=True))\n",
    "model.eval()\n",
    "y_true = []\n",
    "y_pred = []\n",
    "example_axial = []\n",
    "example_coronal = []\n",
    "example_sagittal = []\n",
    "example_preds = []\n",
    "example_labels = []\n",
    "\n",
    "with torch.no_grad():\n",
    "    for test_data in test_loader:\n",
    "        test_images, test_labels = (\n",
    "            test_data['images'],\n",
    "            test_data['label'][:, 0].type(torch.LongTensor).to(device),\n",
    "        )\n",
    "        test_axial, test_coronal, test_sagittal = test_images\n",
    "        pred = model(test_axial.to(device)).argmax(dim=1)\n",
    "        for i in range(len(pred)):\n",
    "            y_true.append(test_labels[i].item())\n",
    "            y_pred.append(pred[i].item())\n",
    "\n",
    "        if len(example_axial) < 10:\n",
    "            example_axial.append(test_axial)\n",
    "            example_coronal.append(test_coronal)\n",
    "            example_sagittal.append(test_sagittal)\n",
    "            example_preds.append(pred)\n",
    "            example_labels.append(test_labels)"
   ]
  },
  {
   "cell_type": "code",
   "execution_count": 45,
   "metadata": {
    "scrolled": true
   },
   "outputs": [
    {
     "name": "stdout",
     "output_type": "stream",
     "text": [
      "              precision    recall  f1-score   support\n",
      "\n",
      "           0     0.0833    0.0290    0.0430        69\n",
      "           1     0.2973    0.3235    0.3099        68\n",
      "           2     0.1333    0.1739    0.1509        69\n",
      "           3     0.4857    0.2615    0.3400        65\n",
      "           4     0.6250    0.0769    0.1370        65\n",
      "           5     0.5204    0.7727    0.6220        66\n",
      "           6     0.0000    0.0000    0.0000        28\n",
      "           7     0.0000    0.0000    0.0000        21\n",
      "           8     0.2581    0.3810    0.3077        21\n",
      "           9     0.2246    0.6087    0.3281        69\n",
      "          10     0.2449    0.1739    0.2034        69\n",
      "\n",
      "    accuracy                         0.2803       610\n",
      "   macro avg     0.2611    0.2547    0.2220       610\n",
      "weighted avg     0.2943    0.2803    0.2453       610\n",
      "\n"
     ]
    }
   ],
   "source": [
    "report = classification_report(y_true, y_pred, target_names=info['label'], digits=4, output_dict=True)\n",
    "print(classification_report(y_true, y_pred, target_names=info['label'], digits=4))"
   ]
  },
  {
   "cell_type": "code",
   "execution_count": 46,
   "metadata": {},
   "outputs": [],
   "source": [
    "df = pd.DataFrame(report).transpose()\n",
    "df.to_csv(f'coronal_full_unpretrained_seed{seed}.csv')"
   ]
  },
  {
   "cell_type": "code",
   "execution_count": 47,
   "metadata": {},
   "outputs": [
    {
     "name": "stdout",
     "output_type": "stream",
     "text": [
      "VRAM currently used: 192.38 MB\n",
      "Max VRAM used during training: 254.19 MB\n"
     ]
    }
   ],
   "source": [
    "if device.type == \"cuda\":\n",
    "    torch.cuda.synchronize()\n",
    "    vram_used = torch.cuda.memory_allocated() / 1024**2\n",
    "    vram_max_used = torch.cuda.max_memory_allocated() / 1024**2\n",
    "\n",
    "    print(f\"VRAM currently used: {vram_used:.2f} MB\")\n",
    "    print(f\"Max VRAM used during training: {vram_max_used:.2f} MB\")\n"
   ]
  },
  {
   "cell_type": "markdown",
   "metadata": {},
   "source": [
    "## Training cycle for the sagittal part"
   ]
  },
  {
   "cell_type": "markdown",
   "metadata": {},
   "source": [
    "## Pretrained"
   ]
  },
  {
   "cell_type": "code",
   "execution_count": 48,
   "metadata": {},
   "outputs": [
    {
     "name": "stderr",
     "output_type": "stream",
     "text": [
      "/opt/conda/lib/python3.10/site-packages/torchvision/models/_utils.py:208: UserWarning: The parameter 'pretrained' is deprecated since 0.13 and may be removed in the future, please use 'weights' instead.\n",
      "  warnings.warn(\n",
      "/opt/conda/lib/python3.10/site-packages/torchvision/models/_utils.py:223: UserWarning: Arguments other than a weight enum or `None` for 'weights' are deprecated since 0.13 and may be removed in the future. The current behavior is equivalent to passing `weights=ResNet18_Weights.IMAGENET1K_V1`. You can also use `weights=ResNet18_Weights.DEFAULT` to get the most up-to-date weights.\n",
      "  warnings.warn(msg)\n"
     ]
    }
   ],
   "source": [
    "device = torch.device(\"cuda\" if torch.cuda.is_available() else \"cpu\")\n",
    "\n",
    "model = models.resnet18(pretrained=True).to(device)\n",
    "model.conv1 = nn.Conv2d(64, 64, kernel_size=7, stride=2, padding=3, bias=False)\n",
    "model.fc = nn.Linear(model.fc.in_features, n_classes)\n",
    "model = model.to(device)\n",
    "\n",
    "loss_function = torch.nn.CrossEntropyLoss()\n",
    "optimizer = torch.optim.Adam(model.parameters(), 0.00005)\n",
    "max_epochs = 70\n",
    "val_interval = 1\n",
    "auc_metric = ROCAUCMetric()"
   ]
  },
  {
   "cell_type": "code",
   "execution_count": 49,
   "metadata": {
    "scrolled": true
   },
   "outputs": [
    {
     "name": "stderr",
     "output_type": "stream",
     "text": [
      "Epochs:   0%|          | 0/70 [00:00<?, ?it/s]"
     ]
    },
    {
     "name": "stdout",
     "output_type": "stream",
     "text": [
      "----------\n",
      "epoch 1/70\n",
      "epoch 1 average loss: 2.0029\n"
     ]
    },
    {
     "name": "stderr",
     "output_type": "stream",
     "text": [
      "Epochs:   1%|▏         | 1/70 [00:17<20:39, 17.97s/it]"
     ]
    },
    {
     "name": "stdout",
     "output_type": "stream",
     "text": [
      "1\n",
      "saved new best metric model\n",
      "current epoch: 1 current AUC: 0.9258 current accuracy: 0.5155 best AUC: 0.9258 at epoch: 1\n",
      "----------\n",
      "epoch 2/70\n",
      "epoch 2 average loss: 1.3005\n"
     ]
    },
    {
     "name": "stderr",
     "output_type": "stream",
     "text": [
      "Epochs:   3%|▎         | 2/70 [00:35<20:08, 17.77s/it]"
     ]
    },
    {
     "name": "stdout",
     "output_type": "stream",
     "text": [
      "1\n",
      "saved new best metric model\n",
      "current epoch: 2 current AUC: 0.9583 current accuracy: 0.6708 best AUC: 0.9583 at epoch: 2\n",
      "----------\n",
      "epoch 3/70\n",
      "epoch 3 average loss: 1.0172\n"
     ]
    },
    {
     "name": "stderr",
     "output_type": "stream",
     "text": [
      "Epochs:   4%|▍         | 3/70 [00:53<19:54, 17.83s/it]"
     ]
    },
    {
     "name": "stdout",
     "output_type": "stream",
     "text": [
      "1\n",
      "saved new best metric model\n",
      "current epoch: 3 current AUC: 0.9695 current accuracy: 0.7019 best AUC: 0.9695 at epoch: 3\n",
      "----------\n",
      "epoch 4/70\n",
      "epoch 4 average loss: 0.8609\n"
     ]
    },
    {
     "name": "stderr",
     "output_type": "stream",
     "text": [
      "Epochs:   6%|▌         | 4/70 [01:11<19:35, 17.81s/it]"
     ]
    },
    {
     "name": "stdout",
     "output_type": "stream",
     "text": [
      "1\n",
      "saved new best metric model\n",
      "current epoch: 4 current AUC: 0.9805 current accuracy: 0.7640 best AUC: 0.9805 at epoch: 4\n",
      "----------\n",
      "epoch 5/70\n",
      "epoch 5 average loss: 0.7528\n"
     ]
    },
    {
     "name": "stderr",
     "output_type": "stream",
     "text": [
      "Epochs:   7%|▋         | 5/70 [01:28<19:14, 17.76s/it]"
     ]
    },
    {
     "name": "stdout",
     "output_type": "stream",
     "text": [
      "1\n",
      "saved new best metric model\n",
      "current epoch: 5 current AUC: 0.9830 current accuracy: 0.8075 best AUC: 0.9830 at epoch: 5\n",
      "----------\n",
      "epoch 6/70\n",
      "epoch 6 average loss: 0.6993\n"
     ]
    },
    {
     "name": "stderr",
     "output_type": "stream",
     "text": [
      "Epochs:   9%|▊         | 6/70 [01:46<18:53, 17.72s/it]"
     ]
    },
    {
     "name": "stdout",
     "output_type": "stream",
     "text": [
      "1\n",
      "saved new best metric model\n",
      "current epoch: 6 current AUC: 0.9898 current accuracy: 0.8261 best AUC: 0.9898 at epoch: 6\n",
      "----------\n",
      "epoch 7/70\n",
      "epoch 7 average loss: 0.6153\n"
     ]
    },
    {
     "name": "stderr",
     "output_type": "stream",
     "text": [
      "Epochs:  10%|█         | 7/70 [02:04<18:34, 17.69s/it]"
     ]
    },
    {
     "name": "stdout",
     "output_type": "stream",
     "text": [
      "1\n",
      "current epoch: 7 current AUC: 0.9800 current accuracy: 0.7578 best AUC: 0.9898 at epoch: 6\n",
      "----------\n",
      "epoch 8/70\n",
      "epoch 8 average loss: 0.5760\n"
     ]
    },
    {
     "name": "stderr",
     "output_type": "stream",
     "text": [
      "Epochs:  11%|█▏        | 8/70 [02:21<18:12, 17.63s/it]"
     ]
    },
    {
     "name": "stdout",
     "output_type": "stream",
     "text": [
      "1\n",
      "current epoch: 8 current AUC: 0.9882 current accuracy: 0.8509 best AUC: 0.9898 at epoch: 6\n",
      "----------\n",
      "epoch 9/70\n",
      "epoch 9 average loss: 0.5791\n"
     ]
    },
    {
     "name": "stderr",
     "output_type": "stream",
     "text": [
      "Epochs:  13%|█▎        | 9/70 [02:39<17:57, 17.66s/it]"
     ]
    },
    {
     "name": "stdout",
     "output_type": "stream",
     "text": [
      "1\n",
      "saved new best metric model\n",
      "current epoch: 9 current AUC: 0.9957 current accuracy: 0.9068 best AUC: 0.9957 at epoch: 9\n",
      "----------\n",
      "epoch 10/70\n",
      "epoch 10 average loss: 0.5170\n"
     ]
    },
    {
     "name": "stderr",
     "output_type": "stream",
     "text": [
      "Epochs:  14%|█▍        | 10/70 [02:57<17:41, 17.69s/it]"
     ]
    },
    {
     "name": "stdout",
     "output_type": "stream",
     "text": [
      "1\n",
      "current epoch: 10 current AUC: 0.9813 current accuracy: 0.8075 best AUC: 0.9957 at epoch: 9\n",
      "----------\n",
      "epoch 11/70\n",
      "epoch 11 average loss: 0.5003\n"
     ]
    },
    {
     "name": "stderr",
     "output_type": "stream",
     "text": [
      "Epochs:  16%|█▌        | 11/70 [03:14<17:20, 17.63s/it]"
     ]
    },
    {
     "name": "stdout",
     "output_type": "stream",
     "text": [
      "1\n",
      "current epoch: 11 current AUC: 0.9918 current accuracy: 0.8323 best AUC: 0.9957 at epoch: 9\n",
      "----------\n",
      "epoch 12/70\n",
      "epoch 12 average loss: 0.4401\n"
     ]
    },
    {
     "name": "stderr",
     "output_type": "stream",
     "text": [
      "Epochs:  17%|█▋        | 12/70 [03:32<17:04, 17.67s/it]"
     ]
    },
    {
     "name": "stdout",
     "output_type": "stream",
     "text": [
      "1\n",
      "saved new best metric model\n",
      "current epoch: 12 current AUC: 0.9974 current accuracy: 0.8820 best AUC: 0.9974 at epoch: 12\n",
      "----------\n",
      "epoch 13/70\n",
      "epoch 13 average loss: 0.4161\n"
     ]
    },
    {
     "name": "stderr",
     "output_type": "stream",
     "text": [
      "Epochs:  19%|█▊        | 13/70 [03:49<16:44, 17.63s/it]"
     ]
    },
    {
     "name": "stdout",
     "output_type": "stream",
     "text": [
      "1\n",
      "current epoch: 13 current AUC: 0.9920 current accuracy: 0.8447 best AUC: 0.9974 at epoch: 12\n",
      "----------\n",
      "epoch 14/70\n",
      "epoch 14 average loss: 0.4070\n"
     ]
    },
    {
     "name": "stderr",
     "output_type": "stream",
     "text": [
      "Epochs:  20%|██        | 14/70 [04:07<16:28, 17.65s/it]"
     ]
    },
    {
     "name": "stdout",
     "output_type": "stream",
     "text": [
      "1\n",
      "current epoch: 14 current AUC: 0.9889 current accuracy: 0.8137 best AUC: 0.9974 at epoch: 12\n",
      "----------\n",
      "epoch 15/70\n",
      "epoch 15 average loss: 0.3951\n"
     ]
    },
    {
     "name": "stderr",
     "output_type": "stream",
     "text": [
      "Epochs:  21%|██▏       | 15/70 [04:25<16:08, 17.61s/it]"
     ]
    },
    {
     "name": "stdout",
     "output_type": "stream",
     "text": [
      "1\n",
      "current epoch: 15 current AUC: 0.9944 current accuracy: 0.9193 best AUC: 0.9974 at epoch: 12\n",
      "----------\n",
      "epoch 16/70\n",
      "epoch 16 average loss: 0.3683\n"
     ]
    },
    {
     "name": "stderr",
     "output_type": "stream",
     "text": [
      "Epochs:  23%|██▎       | 16/70 [04:42<15:47, 17.55s/it]"
     ]
    },
    {
     "name": "stdout",
     "output_type": "stream",
     "text": [
      "1\n",
      "current epoch: 16 current AUC: 0.9944 current accuracy: 0.9130 best AUC: 0.9974 at epoch: 12\n",
      "----------\n",
      "epoch 17/70\n",
      "epoch 17 average loss: 0.3214\n"
     ]
    },
    {
     "name": "stderr",
     "output_type": "stream",
     "text": [
      "Epochs:  24%|██▍       | 17/70 [05:00<15:31, 17.58s/it]"
     ]
    },
    {
     "name": "stdout",
     "output_type": "stream",
     "text": [
      "1\n",
      "saved new best metric model\n",
      "current epoch: 17 current AUC: 0.9983 current accuracy: 0.9379 best AUC: 0.9983 at epoch: 17\n",
      "----------\n",
      "epoch 18/70\n",
      "epoch 18 average loss: 0.3376\n"
     ]
    },
    {
     "name": "stderr",
     "output_type": "stream",
     "text": [
      "Epochs:  26%|██▌       | 18/70 [05:17<15:16, 17.62s/it]"
     ]
    },
    {
     "name": "stdout",
     "output_type": "stream",
     "text": [
      "1\n",
      "current epoch: 18 current AUC: 0.9842 current accuracy: 0.8634 best AUC: 0.9983 at epoch: 17\n",
      "----------\n",
      "epoch 19/70\n",
      "epoch 19 average loss: 0.2907\n"
     ]
    },
    {
     "name": "stderr",
     "output_type": "stream",
     "text": [
      "Epochs:  27%|██▋       | 19/70 [05:35<14:59, 17.64s/it]"
     ]
    },
    {
     "name": "stdout",
     "output_type": "stream",
     "text": [
      "1\n",
      "current epoch: 19 current AUC: 0.9933 current accuracy: 0.8944 best AUC: 0.9983 at epoch: 17\n",
      "----------\n",
      "epoch 20/70\n",
      "epoch 20 average loss: 0.2952\n"
     ]
    },
    {
     "name": "stderr",
     "output_type": "stream",
     "text": [
      "Epochs:  29%|██▊       | 20/70 [05:53<14:44, 17.70s/it]"
     ]
    },
    {
     "name": "stdout",
     "output_type": "stream",
     "text": [
      "1\n",
      "current epoch: 20 current AUC: 0.9913 current accuracy: 0.8882 best AUC: 0.9983 at epoch: 17\n",
      "----------\n",
      "epoch 21/70\n",
      "epoch 21 average loss: 0.2753\n"
     ]
    },
    {
     "name": "stderr",
     "output_type": "stream",
     "text": [
      "Epochs:  30%|███       | 21/70 [06:10<14:22, 17.60s/it]"
     ]
    },
    {
     "name": "stdout",
     "output_type": "stream",
     "text": [
      "1\n",
      "current epoch: 21 current AUC: 0.9882 current accuracy: 0.8696 best AUC: 0.9983 at epoch: 17\n",
      "----------\n",
      "epoch 22/70\n",
      "epoch 22 average loss: 0.2493\n"
     ]
    },
    {
     "name": "stderr",
     "output_type": "stream",
     "text": [
      "Epochs:  31%|███▏      | 22/70 [06:28<14:05, 17.61s/it]"
     ]
    },
    {
     "name": "stdout",
     "output_type": "stream",
     "text": [
      "1\n",
      "current epoch: 22 current AUC: 0.9935 current accuracy: 0.9006 best AUC: 0.9983 at epoch: 17\n",
      "----------\n",
      "epoch 23/70\n",
      "epoch 23 average loss: 0.2773\n"
     ]
    },
    {
     "name": "stderr",
     "output_type": "stream",
     "text": [
      "Epochs:  33%|███▎      | 23/70 [06:46<13:47, 17.60s/it]"
     ]
    },
    {
     "name": "stdout",
     "output_type": "stream",
     "text": [
      "1\n",
      "current epoch: 23 current AUC: 0.9853 current accuracy: 0.8385 best AUC: 0.9983 at epoch: 17\n",
      "----------\n",
      "epoch 24/70\n",
      "epoch 24 average loss: 0.2752\n"
     ]
    },
    {
     "name": "stderr",
     "output_type": "stream",
     "text": [
      "Epochs:  34%|███▍      | 24/70 [07:03<13:27, 17.55s/it]"
     ]
    },
    {
     "name": "stdout",
     "output_type": "stream",
     "text": [
      "1\n",
      "current epoch: 24 current AUC: 0.9960 current accuracy: 0.9068 best AUC: 0.9983 at epoch: 17\n",
      "----------\n",
      "epoch 25/70\n",
      "epoch 25 average loss: 0.2201\n"
     ]
    },
    {
     "name": "stderr",
     "output_type": "stream",
     "text": [
      "Epochs:  36%|███▌      | 25/70 [07:21<13:13, 17.63s/it]"
     ]
    },
    {
     "name": "stdout",
     "output_type": "stream",
     "text": [
      "1\n",
      "saved new best metric model\n",
      "current epoch: 25 current AUC: 0.9984 current accuracy: 0.9689 best AUC: 0.9984 at epoch: 25\n",
      "----------\n",
      "epoch 26/70\n",
      "epoch 26 average loss: 0.2015\n"
     ]
    },
    {
     "name": "stderr",
     "output_type": "stream",
     "text": [
      "Epochs:  37%|███▋      | 26/70 [07:38<12:55, 17.63s/it]"
     ]
    },
    {
     "name": "stdout",
     "output_type": "stream",
     "text": [
      "1\n",
      "current epoch: 26 current AUC: 0.9973 current accuracy: 0.9006 best AUC: 0.9984 at epoch: 25\n",
      "----------\n",
      "epoch 27/70\n",
      "epoch 27 average loss: 0.2314\n"
     ]
    },
    {
     "name": "stderr",
     "output_type": "stream",
     "text": [
      "Epochs:  39%|███▊      | 27/70 [07:56<12:37, 17.62s/it]"
     ]
    },
    {
     "name": "stdout",
     "output_type": "stream",
     "text": [
      "1\n",
      "current epoch: 27 current AUC: 0.9927 current accuracy: 0.8882 best AUC: 0.9984 at epoch: 25\n",
      "----------\n",
      "epoch 28/70\n",
      "epoch 28 average loss: 0.2234\n"
     ]
    },
    {
     "name": "stderr",
     "output_type": "stream",
     "text": [
      "Epochs:  40%|████      | 28/70 [08:14<12:21, 17.66s/it]"
     ]
    },
    {
     "name": "stdout",
     "output_type": "stream",
     "text": [
      "1\n",
      "current epoch: 28 current AUC: 0.9969 current accuracy: 0.9255 best AUC: 0.9984 at epoch: 25\n",
      "----------\n",
      "epoch 29/70\n",
      "epoch 29 average loss: 0.2539\n"
     ]
    },
    {
     "name": "stderr",
     "output_type": "stream",
     "text": [
      "Epochs:  41%|████▏     | 29/70 [08:31<12:00, 17.58s/it]"
     ]
    },
    {
     "name": "stdout",
     "output_type": "stream",
     "text": [
      "1\n",
      "current epoch: 29 current AUC: 0.9927 current accuracy: 0.8385 best AUC: 0.9984 at epoch: 25\n",
      "----------\n",
      "epoch 30/70\n",
      "epoch 30 average loss: 0.2412\n"
     ]
    },
    {
     "name": "stderr",
     "output_type": "stream",
     "text": [
      "Epochs:  43%|████▎     | 30/70 [08:49<11:45, 17.63s/it]"
     ]
    },
    {
     "name": "stdout",
     "output_type": "stream",
     "text": [
      "1\n",
      "current epoch: 30 current AUC: 0.9910 current accuracy: 0.8758 best AUC: 0.9984 at epoch: 25\n",
      "----------\n",
      "epoch 31/70\n",
      "epoch 31 average loss: 0.2038\n"
     ]
    },
    {
     "name": "stderr",
     "output_type": "stream",
     "text": [
      "Epochs:  44%|████▍     | 31/70 [09:07<11:29, 17.68s/it]"
     ]
    },
    {
     "name": "stdout",
     "output_type": "stream",
     "text": [
      "1\n",
      "current epoch: 31 current AUC: 0.9894 current accuracy: 0.8696 best AUC: 0.9984 at epoch: 25\n",
      "----------\n",
      "epoch 32/70\n",
      "epoch 32 average loss: 0.1907\n"
     ]
    },
    {
     "name": "stderr",
     "output_type": "stream",
     "text": [
      "Epochs:  46%|████▌     | 32/70 [09:24<11:11, 17.68s/it]"
     ]
    },
    {
     "name": "stdout",
     "output_type": "stream",
     "text": [
      "1\n",
      "current epoch: 32 current AUC: 0.9933 current accuracy: 0.8944 best AUC: 0.9984 at epoch: 25\n",
      "----------\n",
      "epoch 33/70\n",
      "epoch 33 average loss: 0.2110\n"
     ]
    },
    {
     "name": "stderr",
     "output_type": "stream",
     "text": [
      "Epochs:  47%|████▋     | 33/70 [09:42<10:53, 17.67s/it]"
     ]
    },
    {
     "name": "stdout",
     "output_type": "stream",
     "text": [
      "1\n",
      "current epoch: 33 current AUC: 0.9930 current accuracy: 0.8696 best AUC: 0.9984 at epoch: 25\n",
      "----------\n",
      "epoch 34/70\n",
      "epoch 34 average loss: 0.1995\n"
     ]
    },
    {
     "name": "stderr",
     "output_type": "stream",
     "text": [
      "Epochs:  49%|████▊     | 34/70 [10:00<10:35, 17.65s/it]"
     ]
    },
    {
     "name": "stdout",
     "output_type": "stream",
     "text": [
      "1\n",
      "saved new best metric model\n",
      "current epoch: 34 current AUC: 0.9985 current accuracy: 0.9503 best AUC: 0.9985 at epoch: 34\n",
      "----------\n",
      "epoch 35/70\n",
      "epoch 35 average loss: 0.1869\n"
     ]
    },
    {
     "name": "stderr",
     "output_type": "stream",
     "text": [
      "Epochs:  50%|█████     | 35/70 [10:17<10:14, 17.56s/it]"
     ]
    },
    {
     "name": "stdout",
     "output_type": "stream",
     "text": [
      "1\n",
      "current epoch: 35 current AUC: 0.9981 current accuracy: 0.9255 best AUC: 0.9985 at epoch: 34\n",
      "----------\n",
      "epoch 36/70\n",
      "epoch 36 average loss: 0.1767\n"
     ]
    },
    {
     "name": "stderr",
     "output_type": "stream",
     "text": [
      "Epochs:  51%|█████▏    | 36/70 [10:34<09:53, 17.46s/it]"
     ]
    },
    {
     "name": "stdout",
     "output_type": "stream",
     "text": [
      "1\n",
      "current epoch: 36 current AUC: 0.9822 current accuracy: 0.8199 best AUC: 0.9985 at epoch: 34\n",
      "----------\n",
      "epoch 37/70\n",
      "epoch 37 average loss: 0.1662\n"
     ]
    },
    {
     "name": "stderr",
     "output_type": "stream",
     "text": [
      "Epochs:  53%|█████▎    | 37/70 [10:52<09:36, 17.47s/it]"
     ]
    },
    {
     "name": "stdout",
     "output_type": "stream",
     "text": [
      "1\n",
      "current epoch: 37 current AUC: 0.9918 current accuracy: 0.8758 best AUC: 0.9985 at epoch: 34\n",
      "----------\n",
      "epoch 38/70\n",
      "epoch 38 average loss: 0.1750\n"
     ]
    },
    {
     "name": "stderr",
     "output_type": "stream",
     "text": [
      "Epochs:  54%|█████▍    | 38/70 [11:09<09:20, 17.50s/it]"
     ]
    },
    {
     "name": "stdout",
     "output_type": "stream",
     "text": [
      "1\n",
      "current epoch: 38 current AUC: 0.9971 current accuracy: 0.9565 best AUC: 0.9985 at epoch: 34\n",
      "----------\n",
      "epoch 39/70\n",
      "epoch 39 average loss: 0.1483\n"
     ]
    },
    {
     "name": "stderr",
     "output_type": "stream",
     "text": [
      "Epochs:  56%|█████▌    | 39/70 [11:27<09:02, 17.50s/it]"
     ]
    },
    {
     "name": "stdout",
     "output_type": "stream",
     "text": [
      "1\n",
      "current epoch: 39 current AUC: 0.9879 current accuracy: 0.8571 best AUC: 0.9985 at epoch: 34\n",
      "----------\n",
      "epoch 40/70\n",
      "epoch 40 average loss: 0.1478\n"
     ]
    },
    {
     "name": "stderr",
     "output_type": "stream",
     "text": [
      "Epochs:  57%|█████▋    | 40/70 [11:45<08:46, 17.57s/it]"
     ]
    },
    {
     "name": "stdout",
     "output_type": "stream",
     "text": [
      "1\n",
      "current epoch: 40 current AUC: 0.9971 current accuracy: 0.9255 best AUC: 0.9985 at epoch: 34\n",
      "----------\n",
      "epoch 41/70\n",
      "epoch 41 average loss: 0.1684\n"
     ]
    },
    {
     "name": "stderr",
     "output_type": "stream",
     "text": [
      "Epochs:  59%|█████▊    | 41/70 [12:02<08:27, 17.51s/it]"
     ]
    },
    {
     "name": "stdout",
     "output_type": "stream",
     "text": [
      "1\n",
      "current epoch: 41 current AUC: 0.9977 current accuracy: 0.9255 best AUC: 0.9985 at epoch: 34\n",
      "----------\n",
      "epoch 42/70\n",
      "epoch 42 average loss: 0.1382\n"
     ]
    },
    {
     "name": "stderr",
     "output_type": "stream",
     "text": [
      "Epochs:  60%|██████    | 42/70 [12:20<08:11, 17.55s/it]"
     ]
    },
    {
     "name": "stdout",
     "output_type": "stream",
     "text": [
      "1\n",
      "current epoch: 42 current AUC: 0.9961 current accuracy: 0.9255 best AUC: 0.9985 at epoch: 34\n",
      "----------\n",
      "epoch 43/70\n",
      "epoch 43 average loss: 0.1056\n"
     ]
    },
    {
     "name": "stderr",
     "output_type": "stream",
     "text": [
      "Epochs:  61%|██████▏   | 43/70 [12:37<07:51, 17.46s/it]"
     ]
    },
    {
     "name": "stdout",
     "output_type": "stream",
     "text": [
      "1\n",
      "current epoch: 43 current AUC: 0.9974 current accuracy: 0.9193 best AUC: 0.9985 at epoch: 34\n",
      "----------\n",
      "epoch 44/70\n",
      "epoch 44 average loss: 0.1655\n"
     ]
    },
    {
     "name": "stderr",
     "output_type": "stream",
     "text": [
      "Epochs:  63%|██████▎   | 44/70 [12:54<07:33, 17.46s/it]"
     ]
    },
    {
     "name": "stdout",
     "output_type": "stream",
     "text": [
      "1\n",
      "current epoch: 44 current AUC: 0.9952 current accuracy: 0.8944 best AUC: 0.9985 at epoch: 34\n",
      "----------\n",
      "epoch 45/70\n",
      "epoch 45 average loss: 0.1659\n"
     ]
    },
    {
     "name": "stderr",
     "output_type": "stream",
     "text": [
      "Epochs:  64%|██████▍   | 45/70 [13:12<07:16, 17.46s/it]"
     ]
    },
    {
     "name": "stdout",
     "output_type": "stream",
     "text": [
      "1\n",
      "current epoch: 45 current AUC: 0.9944 current accuracy: 0.8944 best AUC: 0.9985 at epoch: 34\n",
      "----------\n",
      "epoch 46/70\n",
      "epoch 46 average loss: 0.1763\n"
     ]
    },
    {
     "name": "stderr",
     "output_type": "stream",
     "text": [
      "Epochs:  66%|██████▌   | 46/70 [13:29<06:58, 17.43s/it]"
     ]
    },
    {
     "name": "stdout",
     "output_type": "stream",
     "text": [
      "1\n",
      "current epoch: 46 current AUC: 0.9910 current accuracy: 0.8758 best AUC: 0.9985 at epoch: 34\n",
      "----------\n",
      "epoch 47/70\n",
      "epoch 47 average loss: 0.1247\n"
     ]
    },
    {
     "name": "stderr",
     "output_type": "stream",
     "text": [
      "Epochs:  67%|██████▋   | 47/70 [13:46<06:40, 17.42s/it]"
     ]
    },
    {
     "name": "stdout",
     "output_type": "stream",
     "text": [
      "1\n",
      "current epoch: 47 current AUC: 0.9912 current accuracy: 0.8820 best AUC: 0.9985 at epoch: 34\n",
      "----------\n",
      "epoch 48/70\n",
      "epoch 48 average loss: 0.1257\n"
     ]
    },
    {
     "name": "stderr",
     "output_type": "stream",
     "text": [
      "Epochs:  69%|██████▊   | 48/70 [14:04<06:24, 17.46s/it]"
     ]
    },
    {
     "name": "stdout",
     "output_type": "stream",
     "text": [
      "1\n",
      "current epoch: 48 current AUC: 0.9896 current accuracy: 0.8758 best AUC: 0.9985 at epoch: 34\n",
      "----------\n",
      "epoch 49/70\n",
      "epoch 49 average loss: 0.1506\n"
     ]
    },
    {
     "name": "stderr",
     "output_type": "stream",
     "text": [
      "Epochs:  70%|███████   | 49/70 [14:21<06:05, 17.42s/it]"
     ]
    },
    {
     "name": "stdout",
     "output_type": "stream",
     "text": [
      "1\n",
      "current epoch: 49 current AUC: 0.9950 current accuracy: 0.8944 best AUC: 0.9985 at epoch: 34\n",
      "----------\n",
      "epoch 50/70\n",
      "epoch 50 average loss: 0.1552\n"
     ]
    },
    {
     "name": "stderr",
     "output_type": "stream",
     "text": [
      "Epochs:  71%|███████▏  | 50/70 [14:39<05:47, 17.40s/it]"
     ]
    },
    {
     "name": "stdout",
     "output_type": "stream",
     "text": [
      "1\n",
      "current epoch: 50 current AUC: 0.9930 current accuracy: 0.8820 best AUC: 0.9985 at epoch: 34\n",
      "----------\n",
      "epoch 51/70\n",
      "epoch 51 average loss: 0.1529\n"
     ]
    },
    {
     "name": "stderr",
     "output_type": "stream",
     "text": [
      "Epochs:  73%|███████▎  | 51/70 [14:56<05:30, 17.40s/it]"
     ]
    },
    {
     "name": "stdout",
     "output_type": "stream",
     "text": [
      "1\n",
      "current epoch: 51 current AUC: 0.9977 current accuracy: 0.9317 best AUC: 0.9985 at epoch: 34\n",
      "----------\n",
      "epoch 52/70\n",
      "epoch 52 average loss: 0.1400\n"
     ]
    },
    {
     "name": "stderr",
     "output_type": "stream",
     "text": [
      "Epochs:  74%|███████▍  | 52/70 [15:14<05:14, 17.50s/it]"
     ]
    },
    {
     "name": "stdout",
     "output_type": "stream",
     "text": [
      "1\n",
      "current epoch: 52 current AUC: 0.9824 current accuracy: 0.8137 best AUC: 0.9985 at epoch: 34\n",
      "----------\n",
      "epoch 53/70\n",
      "epoch 53 average loss: 0.1364\n"
     ]
    },
    {
     "name": "stderr",
     "output_type": "stream",
     "text": [
      "Epochs:  76%|███████▌  | 53/70 [15:31<04:57, 17.49s/it]"
     ]
    },
    {
     "name": "stdout",
     "output_type": "stream",
     "text": [
      "1\n",
      "current epoch: 53 current AUC: 0.9947 current accuracy: 0.9006 best AUC: 0.9985 at epoch: 34\n",
      "----------\n",
      "epoch 54/70\n",
      "epoch 54 average loss: 0.1117\n"
     ]
    },
    {
     "name": "stderr",
     "output_type": "stream",
     "text": [
      "Epochs:  77%|███████▋  | 54/70 [15:49<04:39, 17.46s/it]"
     ]
    },
    {
     "name": "stdout",
     "output_type": "stream",
     "text": [
      "1\n",
      "current epoch: 54 current AUC: 0.9961 current accuracy: 0.9130 best AUC: 0.9985 at epoch: 34\n",
      "----------\n",
      "epoch 55/70\n",
      "epoch 55 average loss: 0.0946\n"
     ]
    },
    {
     "name": "stderr",
     "output_type": "stream",
     "text": [
      "Epochs:  79%|███████▊  | 55/70 [16:06<04:21, 17.46s/it]"
     ]
    },
    {
     "name": "stdout",
     "output_type": "stream",
     "text": [
      "1\n",
      "current epoch: 55 current AUC: 0.9949 current accuracy: 0.8944 best AUC: 0.9985 at epoch: 34\n",
      "----------\n",
      "epoch 56/70\n",
      "epoch 56 average loss: 0.1005\n"
     ]
    },
    {
     "name": "stderr",
     "output_type": "stream",
     "text": [
      "Epochs:  80%|████████  | 56/70 [16:24<04:04, 17.49s/it]"
     ]
    },
    {
     "name": "stdout",
     "output_type": "stream",
     "text": [
      "1\n",
      "current epoch: 56 current AUC: 0.9862 current accuracy: 0.8571 best AUC: 0.9985 at epoch: 34\n",
      "----------\n",
      "epoch 57/70\n",
      "epoch 57 average loss: 0.1132\n"
     ]
    },
    {
     "name": "stderr",
     "output_type": "stream",
     "text": [
      "Epochs:  81%|████████▏ | 57/70 [16:41<03:46, 17.42s/it]"
     ]
    },
    {
     "name": "stdout",
     "output_type": "stream",
     "text": [
      "1\n",
      "current epoch: 57 current AUC: 0.9873 current accuracy: 0.8571 best AUC: 0.9985 at epoch: 34\n",
      "----------\n",
      "epoch 58/70\n",
      "epoch 58 average loss: 0.0963\n"
     ]
    },
    {
     "name": "stderr",
     "output_type": "stream",
     "text": [
      "Epochs:  83%|████████▎ | 58/70 [16:58<03:29, 17.45s/it]"
     ]
    },
    {
     "name": "stdout",
     "output_type": "stream",
     "text": [
      "1\n",
      "current epoch: 58 current AUC: 0.9888 current accuracy: 0.8758 best AUC: 0.9985 at epoch: 34\n",
      "----------\n",
      "epoch 59/70\n",
      "epoch 59 average loss: 0.1037\n"
     ]
    },
    {
     "name": "stderr",
     "output_type": "stream",
     "text": [
      "Epochs:  84%|████████▍ | 59/70 [17:16<03:11, 17.45s/it]"
     ]
    },
    {
     "name": "stdout",
     "output_type": "stream",
     "text": [
      "1\n",
      "current epoch: 59 current AUC: 0.9861 current accuracy: 0.8571 best AUC: 0.9985 at epoch: 34\n",
      "----------\n",
      "epoch 60/70\n",
      "epoch 60 average loss: 0.0826\n"
     ]
    },
    {
     "name": "stderr",
     "output_type": "stream",
     "text": [
      "Epochs:  86%|████████▌ | 60/70 [17:33<02:54, 17.48s/it]"
     ]
    },
    {
     "name": "stdout",
     "output_type": "stream",
     "text": [
      "1\n",
      "current epoch: 60 current AUC: 0.9956 current accuracy: 0.9006 best AUC: 0.9985 at epoch: 34\n",
      "----------\n",
      "epoch 61/70\n",
      "epoch 61 average loss: 0.0666\n"
     ]
    },
    {
     "name": "stderr",
     "output_type": "stream",
     "text": [
      "Epochs:  87%|████████▋ | 61/70 [17:51<02:37, 17.49s/it]"
     ]
    },
    {
     "name": "stdout",
     "output_type": "stream",
     "text": [
      "1\n",
      "current epoch: 61 current AUC: 0.9902 current accuracy: 0.8571 best AUC: 0.9985 at epoch: 34\n",
      "----------\n",
      "epoch 62/70\n",
      "epoch 62 average loss: 0.0953\n"
     ]
    },
    {
     "name": "stderr",
     "output_type": "stream",
     "text": [
      "Epochs:  89%|████████▊ | 62/70 [18:08<02:19, 17.48s/it]"
     ]
    },
    {
     "name": "stdout",
     "output_type": "stream",
     "text": [
      "1\n",
      "current epoch: 62 current AUC: 0.9954 current accuracy: 0.9193 best AUC: 0.9985 at epoch: 34\n",
      "----------\n",
      "epoch 63/70\n",
      "epoch 63 average loss: 0.1163\n"
     ]
    },
    {
     "name": "stderr",
     "output_type": "stream",
     "text": [
      "Epochs:  90%|█████████ | 63/70 [18:26<02:03, 17.57s/it]"
     ]
    },
    {
     "name": "stdout",
     "output_type": "stream",
     "text": [
      "1\n",
      "current epoch: 63 current AUC: 0.9862 current accuracy: 0.8634 best AUC: 0.9985 at epoch: 34\n",
      "----------\n",
      "epoch 64/70\n",
      "epoch 64 average loss: 0.0955\n"
     ]
    },
    {
     "name": "stderr",
     "output_type": "stream",
     "text": [
      "Epochs:  91%|█████████▏| 64/70 [18:44<01:45, 17.58s/it]"
     ]
    },
    {
     "name": "stdout",
     "output_type": "stream",
     "text": [
      "1\n",
      "current epoch: 64 current AUC: 0.9961 current accuracy: 0.9130 best AUC: 0.9985 at epoch: 34\n",
      "----------\n",
      "epoch 65/70\n",
      "epoch 65 average loss: 0.1310\n"
     ]
    },
    {
     "name": "stderr",
     "output_type": "stream",
     "text": [
      "Epochs:  93%|█████████▎| 65/70 [19:01<01:27, 17.57s/it]"
     ]
    },
    {
     "name": "stdout",
     "output_type": "stream",
     "text": [
      "1\n",
      "current epoch: 65 current AUC: 0.9969 current accuracy: 0.9379 best AUC: 0.9985 at epoch: 34\n",
      "----------\n",
      "epoch 66/70\n",
      "epoch 66 average loss: 0.1152\n"
     ]
    },
    {
     "name": "stderr",
     "output_type": "stream",
     "text": [
      "Epochs:  94%|█████████▍| 66/70 [19:19<01:10, 17.59s/it]"
     ]
    },
    {
     "name": "stdout",
     "output_type": "stream",
     "text": [
      "1\n",
      "current epoch: 66 current AUC: 0.9962 current accuracy: 0.9317 best AUC: 0.9985 at epoch: 34\n",
      "----------\n",
      "epoch 67/70\n",
      "epoch 67 average loss: 0.0930\n"
     ]
    },
    {
     "name": "stderr",
     "output_type": "stream",
     "text": [
      "Epochs:  96%|█████████▌| 67/70 [19:36<00:52, 17.55s/it]"
     ]
    },
    {
     "name": "stdout",
     "output_type": "stream",
     "text": [
      "1\n",
      "current epoch: 67 current AUC: 0.9946 current accuracy: 0.9068 best AUC: 0.9985 at epoch: 34\n",
      "----------\n",
      "epoch 68/70\n",
      "epoch 68 average loss: 0.0899\n"
     ]
    },
    {
     "name": "stderr",
     "output_type": "stream",
     "text": [
      "Epochs:  97%|█████████▋| 68/70 [19:54<00:34, 17.47s/it]"
     ]
    },
    {
     "name": "stdout",
     "output_type": "stream",
     "text": [
      "1\n",
      "current epoch: 68 current AUC: 0.9964 current accuracy: 0.9379 best AUC: 0.9985 at epoch: 34\n",
      "----------\n",
      "epoch 69/70\n",
      "epoch 69 average loss: 0.0918\n",
      "1\n"
     ]
    },
    {
     "name": "stderr",
     "output_type": "stream",
     "text": [
      "Epochs:  99%|█████████▊| 69/70 [20:11<00:17, 17.48s/it]"
     ]
    },
    {
     "name": "stdout",
     "output_type": "stream",
     "text": [
      "saved new best metric model\n",
      "current epoch: 69 current AUC: 0.9989 current accuracy: 0.9627 best AUC: 0.9989 at epoch: 69\n",
      "----------\n",
      "epoch 70/70\n",
      "epoch 70 average loss: 0.0905\n"
     ]
    },
    {
     "name": "stderr",
     "output_type": "stream",
     "text": [
      "Epochs: 100%|██████████| 70/70 [20:29<00:00, 17.56s/it]"
     ]
    },
    {
     "name": "stdout",
     "output_type": "stream",
     "text": [
      "1\n",
      "current epoch: 70 current AUC: 0.9825 current accuracy: 0.8447 best AUC: 0.9989 at epoch: 69\n",
      "train completed, best_metric: 0.9989 at epoch: 69\n"
     ]
    },
    {
     "name": "stderr",
     "output_type": "stream",
     "text": [
      "\n"
     ]
    }
   ],
   "source": [
    "best_metric = -1\n",
    "best_metric_epoch = -1\n",
    "epoch_loss_values = []\n",
    "metric_values = []\n",
    "writer = SummaryWriter()\n",
    "\n",
    "start_time = time.time()\n",
    "process = psutil.Process()\n",
    "start_cpu = process.cpu_times()\n",
    "start_mem = process.memory_info().rss / 1024**2  # В MB\n",
    "\n",
    "if device.type == \"cuda\":\n",
    "    torch.cuda.synchronize()\n",
    "    torch.cuda.reset_peak_memory_stats()\n",
    "\n",
    "for epoch in tqdm(range(max_epochs), desc=\"Epochs\"):\n",
    "    print(\"-\" * 10)\n",
    "    print(f\"epoch {epoch + 1}/{max_epochs}\")\n",
    "    model.train()\n",
    "    epoch_loss = 0\n",
    "    step = 0\n",
    "    \n",
    "    for batch_data in train_loader:\n",
    "        step += 1\n",
    "        images, labels = batch_data['images'], batch_data['label'][:, 0].type(torch.LongTensor).to(device)\n",
    "        axial, coronal, sagittal = images\n",
    "        optimizer.zero_grad()\n",
    "        outputs = model(sagittal.to(device))\n",
    "        loss = loss_function(outputs, labels)\n",
    "        loss.backward()\n",
    "        optimizer.step()\n",
    "        epoch_loss += loss.item()\n",
    "        epoch_len = len(train_dataset) // train_loader.batch_size\n",
    "        writer.add_scalar(\"train_loss\", loss.item(), epoch_len * epoch + step)\n",
    "        \n",
    "    epoch_loss /= step\n",
    "    epoch_loss_values.append(epoch_loss)\n",
    "    print(f\"epoch {epoch + 1} average loss: {epoch_loss:.4f}\")\n",
    "\n",
    "    if (epoch + 1) % val_interval == 0:\n",
    "        model.eval()\n",
    "        with torch.no_grad():\n",
    "            y_pred = torch.tensor([], dtype=torch.float32, device=device)\n",
    "            y = torch.tensor([], dtype=torch.long, device=device)\n",
    "            for val_data in val_loader:\n",
    "                val_images, val_labels = (\n",
    "                    val_data['images'],\n",
    "                    val_data['label'][:, 0].type(torch.LongTensor).to(device),\n",
    "                )\n",
    "                val_axial, val_coronal, val_sagittal = val_images\n",
    "                y_pred = torch.cat([y_pred, model(val_sagittal.to(device))], dim=0)\n",
    "                y = torch.cat([y, val_labels], dim=0)\n",
    "            y_onehot = [y_trans(i) for i in decollate_batch(y, detach=False)]\n",
    "            print('1')\n",
    "            y_pred_act = [y_pred_trans(i) for i in decollate_batch(y_pred)]\n",
    "            auc_metric(y_pred_act, y_onehot)\n",
    "            result = auc_metric.aggregate()\n",
    "            auc_metric.reset()\n",
    "            del y_pred_act, y_onehot\n",
    "            metric_values.append(result)\n",
    "            acc_value = torch.eq(y_pred.argmax(dim=1), y)\n",
    "            acc_metric = acc_value.sum().item() / len(acc_value)\n",
    "            if result > best_metric:\n",
    "                best_metric = result\n",
    "                best_metric_epoch = epoch + 1\n",
    "                torch.save(model.state_dict(), os.path.join(root_dir, \"sagittal_full_pretrained.pth\"))\n",
    "                print(\"saved new best metric model\")\n",
    "            print(\n",
    "                f\"current epoch: {epoch + 1} current AUC: {result:.4f}\"\n",
    "                f\" current accuracy: {acc_metric:.4f}\"\n",
    "                f\" best AUC: {best_metric:.4f}\"\n",
    "                f\" at epoch: {best_metric_epoch}\"\n",
    "            )\n",
    "            writer.add_scalar(\"val_accuracy\", acc_metric, epoch + 1)\n",
    "\n",
    "print(f\"train completed, best_metric: {best_metric:.4f} \" f\"at epoch: {best_metric_epoch}\")\n",
    "writer.close()"
   ]
  },
  {
   "cell_type": "code",
   "execution_count": 50,
   "metadata": {},
   "outputs": [
    {
     "name": "stdout",
     "output_type": "stream",
     "text": [
      "Training time: 1229.34 seconds\n",
      "CPU time used: 14736.12 seconds\n",
      "Memory used: 295.50 MB\n",
      "GPU Memory Used: 193.88 MB\n",
      "Max GPU Memory Used: 238.14 MB\n"
     ]
    }
   ],
   "source": [
    "end_time = time.time()\n",
    "end_cpu = process.cpu_times()\n",
    "end_mem = process.memory_info().rss / 1024**2\n",
    "\n",
    "cpu_time = (end_cpu.user + end_cpu.system) - (start_cpu.user + start_cpu.system)\n",
    "memory_used = end_mem - start_mem\n",
    "\n",
    "print(f\"Training time: {end_time - start_time:.2f} seconds\")\n",
    "print(f\"CPU time used: {cpu_time:.2f} seconds\")\n",
    "print(f\"Memory used: {memory_used:.2f} MB\")\n",
    "\n",
    "if device.type == \"cuda\":\n",
    "    torch.cuda.synchronize()\n",
    "    print(f\"GPU Memory Used: {torch.cuda.memory_allocated() / 1024**2:.2f} MB\")\n",
    "    print(f\"Max GPU Memory Used: {torch.cuda.max_memory_allocated() / 1024**2:.2f} MB\")\n"
   ]
  },
  {
   "cell_type": "code",
   "execution_count": 51,
   "metadata": {},
   "outputs": [
    {
     "data": {
      "image/png": "[encoded data removed]",
      "text/plain": [
       "<Figure size 1200x600 with 2 Axes>"
      ]
     },
     "metadata": {},
     "output_type": "display_data"
    }
   ],
   "source": [
    "plt.figure(\"train\", (12, 6))\n",
    "plt.subplot(1, 2, 1)\n",
    "plt.title(\"Epoch Average Loss\")\n",
    "x = [i + 1 for i in range(len(epoch_loss_values))]\n",
    "y = epoch_loss_values\n",
    "plt.xlabel(\"epoch\")\n",
    "plt.plot(x, y)\n",
    "plt.subplot(1, 2, 2)\n",
    "plt.title(\"Val AUC\")\n",
    "x = [val_interval * (i + 1) for i in range(len(metric_values))]\n",
    "y = metric_values\n",
    "plt.xlabel(\"epoch\")\n",
    "plt.plot(x, y)\n",
    "plt.show()"
   ]
  },
  {
   "cell_type": "markdown",
   "metadata": {},
   "source": [
    "### Evaluation"
   ]
  },
  {
   "cell_type": "code",
   "execution_count": 52,
   "metadata": {},
   "outputs": [],
   "source": [
    "model.load_state_dict(torch.load(os.path.join(root_dir, \"sagittal_full_pretrained.pth\"), weights_only=True))\n",
    "model.eval()\n",
    "y_true = []\n",
    "y_pred = []\n",
    "example_axial = []\n",
    "example_coronal = []\n",
    "example_sagittal = []\n",
    "example_preds = []\n",
    "example_labels = []\n",
    "\n",
    "with torch.no_grad():\n",
    "    for test_data in test_loader:\n",
    "        test_images, test_labels = (\n",
    "            test_data['images'],\n",
    "            test_data['label'][:, 0].type(torch.LongTensor).to(device),\n",
    "        )\n",
    "        test_axial, test_coronal, test_sagittal = test_images\n",
    "        pred = model(test_sagittal.to(device)).argmax(dim=1)\n",
    "        for i in range(len(pred)):\n",
    "            y_true.append(test_labels[i].item())\n",
    "            y_pred.append(pred[i].item())\n",
    "\n",
    "        if len(example_axial) < 10:\n",
    "            example_axial.append(test_axial)\n",
    "            example_coronal.append(test_coronal)\n",
    "            example_sagittal.append(test_sagittal)\n",
    "            example_preds.append(pred)\n",
    "            example_labels.append(test_labels)"
   ]
  },
  {
   "cell_type": "code",
   "execution_count": 53,
   "metadata": {
    "scrolled": true
   },
   "outputs": [
    {
     "name": "stdout",
     "output_type": "stream",
     "text": [
      "              precision    recall  f1-score   support\n",
      "\n",
      "           0     1.0000    0.9855    0.9927        69\n",
      "           1     0.5974    0.6765    0.6345        68\n",
      "           2     0.6182    0.4928    0.5484        69\n",
      "           3     0.5476    0.7077    0.6174        65\n",
      "           4     0.6032    0.5846    0.5938        65\n",
      "           5     0.8788    0.8788    0.8788        66\n",
      "           6     1.0000    0.8929    0.9434        28\n",
      "           7     0.9130    1.0000    0.9545        21\n",
      "           8     1.0000    0.9524    0.9756        21\n",
      "           9     0.9524    0.8696    0.9091        69\n",
      "          10     0.9242    0.8841    0.9037        69\n",
      "\n",
      "    accuracy                         0.7820       610\n",
      "   macro avg     0.8213    0.8113    0.8138       610\n",
      "weighted avg     0.7914    0.7820    0.7840       610\n",
      "\n"
     ]
    }
   ],
   "source": [
    "report = classification_report(y_true, y_pred, target_names=info['label'], digits=4, output_dict=True)\n",
    "print(classification_report(y_true, y_pred, target_names=info['label'], digits=4))"
   ]
  },
  {
   "cell_type": "code",
   "execution_count": 54,
   "metadata": {},
   "outputs": [],
   "source": [
    "df = pd.DataFrame(report).transpose()\n",
    "df.to_csv(f'sagittal_full_pretrained_seed{seed}.csv')"
   ]
  },
  {
   "cell_type": "code",
   "execution_count": 55,
   "metadata": {},
   "outputs": [
    {
     "name": "stdout",
     "output_type": "stream",
     "text": [
      "VRAM currently used: 193.87 MB\n",
      "Max VRAM used during training: 238.19 MB\n"
     ]
    }
   ],
   "source": [
    "if device.type == \"cuda\":\n",
    "    torch.cuda.synchronize()\n",
    "    vram_used = torch.cuda.memory_allocated() / 1024**2\n",
    "    vram_max_used = torch.cuda.max_memory_allocated() / 1024**2\n",
    "\n",
    "    print(f\"VRAM currently used: {vram_used:.2f} MB\")\n",
    "    print(f\"Max VRAM used during training: {vram_max_used:.2f} MB\")\n"
   ]
  },
  {
   "cell_type": "markdown",
   "metadata": {},
   "source": [
    "## Unpretrained"
   ]
  },
  {
   "cell_type": "code",
   "execution_count": 56,
   "metadata": {},
   "outputs": [],
   "source": [
    "device = torch.device(\"cuda\" if torch.cuda.is_available() else \"cpu\")\n",
    "model = nets.resnet18(pretrained=False, spatial_dims=2, n_input_channels=64, num_classes=n_classes).to(device)\n",
    "loss_function = torch.nn.CrossEntropyLoss()\n",
    "optimizer = torch.optim.Adam(model.parameters(), 0.00005)\n",
    "max_epochs = 70\n",
    "val_interval = 1\n",
    "auc_metric = ROCAUCMetric()"
   ]
  },
  {
   "cell_type": "code",
   "execution_count": 57,
   "metadata": {
    "scrolled": true
   },
   "outputs": [
    {
     "name": "stderr",
     "output_type": "stream",
     "text": [
      "Epochs:   0%|          | 0/70 [00:00<?, ?it/s]"
     ]
    },
    {
     "name": "stdout",
     "output_type": "stream",
     "text": [
      "----------\n",
      "epoch 1/70\n",
      "epoch 1 average loss: 1.8634\n"
     ]
    },
    {
     "name": "stderr",
     "output_type": "stream",
     "text": [
      "Epochs:   1%|▏         | 1/70 [00:17<20:25, 17.76s/it]"
     ]
    },
    {
     "name": "stdout",
     "output_type": "stream",
     "text": [
      "1\n",
      "saved new best metric model\n",
      "current epoch: 1 current AUC: 0.9599 current accuracy: 0.6398 best AUC: 0.9599 at epoch: 1\n",
      "----------\n",
      "epoch 2/70\n",
      "epoch 2 average loss: 1.3228\n"
     ]
    },
    {
     "name": "stderr",
     "output_type": "stream",
     "text": [
      "Epochs:   3%|▎         | 2/70 [00:35<20:23, 17.99s/it]"
     ]
    },
    {
     "name": "stdout",
     "output_type": "stream",
     "text": [
      "1\n",
      "saved new best metric model\n",
      "current epoch: 2 current AUC: 0.9740 current accuracy: 0.6957 best AUC: 0.9740 at epoch: 2\n",
      "----------\n",
      "epoch 3/70\n",
      "epoch 3 average loss: 1.0263\n"
     ]
    },
    {
     "name": "stderr",
     "output_type": "stream",
     "text": [
      "Epochs:   4%|▍         | 3/70 [00:53<19:58, 17.89s/it]"
     ]
    },
    {
     "name": "stdout",
     "output_type": "stream",
     "text": [
      "1\n",
      "saved new best metric model\n",
      "current epoch: 3 current AUC: 0.9826 current accuracy: 0.6894 best AUC: 0.9826 at epoch: 3\n",
      "----------\n",
      "epoch 4/70\n",
      "epoch 4 average loss: 0.9378\n"
     ]
    },
    {
     "name": "stderr",
     "output_type": "stream",
     "text": [
      "Epochs:   6%|▌         | 4/70 [01:11<19:33, 17.77s/it]"
     ]
    },
    {
     "name": "stdout",
     "output_type": "stream",
     "text": [
      "1\n",
      "saved new best metric model\n",
      "current epoch: 4 current AUC: 0.9829 current accuracy: 0.7081 best AUC: 0.9829 at epoch: 4\n",
      "----------\n",
      "epoch 5/70\n",
      "epoch 5 average loss: 0.8432\n"
     ]
    },
    {
     "name": "stderr",
     "output_type": "stream",
     "text": [
      "Epochs:   7%|▋         | 5/70 [01:29<19:14, 17.76s/it]"
     ]
    },
    {
     "name": "stdout",
     "output_type": "stream",
     "text": [
      "1\n",
      "saved new best metric model\n",
      "current epoch: 5 current AUC: 0.9896 current accuracy: 0.7950 best AUC: 0.9896 at epoch: 5\n",
      "----------\n",
      "epoch 6/70\n",
      "epoch 6 average loss: 0.7551\n"
     ]
    },
    {
     "name": "stderr",
     "output_type": "stream",
     "text": [
      "Epochs:   9%|▊         | 6/70 [01:46<18:55, 17.75s/it]"
     ]
    },
    {
     "name": "stdout",
     "output_type": "stream",
     "text": [
      "1\n",
      "current epoch: 6 current AUC: 0.9880 current accuracy: 0.7826 best AUC: 0.9896 at epoch: 5\n",
      "----------\n",
      "epoch 7/70\n",
      "epoch 7 average loss: 0.7342\n"
     ]
    },
    {
     "name": "stderr",
     "output_type": "stream",
     "text": [
      "Epochs:  10%|█         | 7/70 [02:04<18:39, 17.76s/it]"
     ]
    },
    {
     "name": "stdout",
     "output_type": "stream",
     "text": [
      "1\n",
      "current epoch: 7 current AUC: 0.9866 current accuracy: 0.8012 best AUC: 0.9896 at epoch: 5\n",
      "----------\n",
      "epoch 8/70\n",
      "epoch 8 average loss: 0.6447\n"
     ]
    },
    {
     "name": "stderr",
     "output_type": "stream",
     "text": [
      "Epochs:  11%|█▏        | 8/70 [02:22<18:21, 17.77s/it]"
     ]
    },
    {
     "name": "stdout",
     "output_type": "stream",
     "text": [
      "1\n",
      "current epoch: 8 current AUC: 0.9804 current accuracy: 0.7764 best AUC: 0.9896 at epoch: 5\n",
      "----------\n",
      "epoch 9/70\n",
      "epoch 9 average loss: 0.5931\n"
     ]
    },
    {
     "name": "stderr",
     "output_type": "stream",
     "text": [
      "Epochs:  13%|█▎        | 9/70 [02:39<17:56, 17.64s/it]"
     ]
    },
    {
     "name": "stdout",
     "output_type": "stream",
     "text": [
      "1\n",
      "current epoch: 9 current AUC: 0.9818 current accuracy: 0.7640 best AUC: 0.9896 at epoch: 5\n",
      "----------\n",
      "epoch 10/70\n",
      "epoch 10 average loss: 0.5282\n"
     ]
    },
    {
     "name": "stderr",
     "output_type": "stream",
     "text": [
      "Epochs:  14%|█▍        | 10/70 [02:57<17:40, 17.67s/it]"
     ]
    },
    {
     "name": "stdout",
     "output_type": "stream",
     "text": [
      "1\n",
      "saved new best metric model\n",
      "current epoch: 10 current AUC: 0.9913 current accuracy: 0.8447 best AUC: 0.9913 at epoch: 10\n",
      "----------\n",
      "epoch 11/70\n",
      "epoch 11 average loss: 0.5330\n"
     ]
    },
    {
     "name": "stderr",
     "output_type": "stream",
     "text": [
      "Epochs:  16%|█▌        | 11/70 [03:14<17:21, 17.65s/it]"
     ]
    },
    {
     "name": "stdout",
     "output_type": "stream",
     "text": [
      "1\n",
      "current epoch: 11 current AUC: 0.9867 current accuracy: 0.8075 best AUC: 0.9913 at epoch: 10\n",
      "----------\n",
      "epoch 12/70\n",
      "epoch 12 average loss: 0.5030\n"
     ]
    },
    {
     "name": "stderr",
     "output_type": "stream",
     "text": [
      "Epochs:  17%|█▋        | 12/70 [03:32<17:01, 17.62s/it]"
     ]
    },
    {
     "name": "stdout",
     "output_type": "stream",
     "text": [
      "1\n",
      "current epoch: 12 current AUC: 0.9902 current accuracy: 0.8261 best AUC: 0.9913 at epoch: 10\n",
      "----------\n",
      "epoch 13/70\n",
      "epoch 13 average loss: 0.4258\n"
     ]
    },
    {
     "name": "stderr",
     "output_type": "stream",
     "text": [
      "Epochs:  19%|█▊        | 13/70 [03:50<16:43, 17.61s/it]"
     ]
    },
    {
     "name": "stdout",
     "output_type": "stream",
     "text": [
      "1\n",
      "current epoch: 13 current AUC: 0.9890 current accuracy: 0.8447 best AUC: 0.9913 at epoch: 10\n",
      "----------\n",
      "epoch 14/70\n",
      "epoch 14 average loss: 0.3816\n"
     ]
    },
    {
     "name": "stderr",
     "output_type": "stream",
     "text": [
      "Epochs:  20%|██        | 14/70 [04:07<16:27, 17.63s/it]"
     ]
    },
    {
     "name": "stdout",
     "output_type": "stream",
     "text": [
      "1\n",
      "current epoch: 14 current AUC: 0.9909 current accuracy: 0.8447 best AUC: 0.9913 at epoch: 10\n",
      "----------\n",
      "epoch 15/70\n",
      "epoch 15 average loss: 0.3808\n"
     ]
    },
    {
     "name": "stderr",
     "output_type": "stream",
     "text": [
      "Epochs:  21%|██▏       | 15/70 [04:25<16:08, 17.61s/it]"
     ]
    },
    {
     "name": "stdout",
     "output_type": "stream",
     "text": [
      "1\n",
      "current epoch: 15 current AUC: 0.9846 current accuracy: 0.8199 best AUC: 0.9913 at epoch: 10\n",
      "----------\n",
      "epoch 16/70\n",
      "epoch 16 average loss: 0.3872\n"
     ]
    },
    {
     "name": "stderr",
     "output_type": "stream",
     "text": [
      "Epochs:  23%|██▎       | 16/70 [04:43<15:53, 17.66s/it]"
     ]
    },
    {
     "name": "stdout",
     "output_type": "stream",
     "text": [
      "1\n",
      "saved new best metric model\n",
      "current epoch: 16 current AUC: 0.9942 current accuracy: 0.8571 best AUC: 0.9942 at epoch: 16\n",
      "----------\n",
      "epoch 17/70\n",
      "epoch 17 average loss: 0.3617\n"
     ]
    },
    {
     "name": "stderr",
     "output_type": "stream",
     "text": [
      "Epochs:  24%|██▍       | 17/70 [05:00<15:35, 17.64s/it]"
     ]
    },
    {
     "name": "stdout",
     "output_type": "stream",
     "text": [
      "1\n",
      "saved new best metric model\n",
      "current epoch: 17 current AUC: 0.9946 current accuracy: 0.8261 best AUC: 0.9946 at epoch: 17\n",
      "----------\n",
      "epoch 18/70\n",
      "epoch 18 average loss: 0.3097\n"
     ]
    },
    {
     "name": "stderr",
     "output_type": "stream",
     "text": [
      "Epochs:  26%|██▌       | 18/70 [05:18<15:16, 17.62s/it]"
     ]
    },
    {
     "name": "stdout",
     "output_type": "stream",
     "text": [
      "1\n",
      "current epoch: 18 current AUC: 0.9830 current accuracy: 0.8509 best AUC: 0.9946 at epoch: 17\n",
      "----------\n",
      "epoch 19/70\n",
      "epoch 19 average loss: 0.3812\n"
     ]
    },
    {
     "name": "stderr",
     "output_type": "stream",
     "text": [
      "Epochs:  27%|██▋       | 19/70 [05:35<14:58, 17.62s/it]"
     ]
    },
    {
     "name": "stdout",
     "output_type": "stream",
     "text": [
      "1\n",
      "current epoch: 19 current AUC: 0.9892 current accuracy: 0.8758 best AUC: 0.9946 at epoch: 17\n",
      "----------\n",
      "epoch 20/70\n",
      "epoch 20 average loss: 0.3254\n"
     ]
    },
    {
     "name": "stderr",
     "output_type": "stream",
     "text": [
      "Epochs:  29%|██▊       | 20/70 [05:53<14:41, 17.62s/it]"
     ]
    },
    {
     "name": "stdout",
     "output_type": "stream",
     "text": [
      "1\n",
      "current epoch: 20 current AUC: 0.9805 current accuracy: 0.8012 best AUC: 0.9946 at epoch: 17\n",
      "----------\n",
      "epoch 21/70\n",
      "epoch 21 average loss: 0.2631\n"
     ]
    },
    {
     "name": "stderr",
     "output_type": "stream",
     "text": [
      "Epochs:  30%|███       | 21/70 [06:11<14:24, 17.65s/it]"
     ]
    },
    {
     "name": "stdout",
     "output_type": "stream",
     "text": [
      "1\n",
      "current epoch: 21 current AUC: 0.9807 current accuracy: 0.7702 best AUC: 0.9946 at epoch: 17\n",
      "----------\n",
      "epoch 22/70\n",
      "epoch 22 average loss: 0.2479\n"
     ]
    },
    {
     "name": "stderr",
     "output_type": "stream",
     "text": [
      "Epochs:  31%|███▏      | 22/70 [06:29<14:09, 17.69s/it]"
     ]
    },
    {
     "name": "stdout",
     "output_type": "stream",
     "text": [
      "1\n",
      "current epoch: 22 current AUC: 0.9856 current accuracy: 0.8261 best AUC: 0.9946 at epoch: 17\n",
      "----------\n",
      "epoch 23/70\n",
      "epoch 23 average loss: 0.2417\n"
     ]
    },
    {
     "name": "stderr",
     "output_type": "stream",
     "text": [
      "Epochs:  33%|███▎      | 23/70 [06:46<13:51, 17.70s/it]"
     ]
    },
    {
     "name": "stdout",
     "output_type": "stream",
     "text": [
      "1\n",
      "current epoch: 23 current AUC: 0.9843 current accuracy: 0.8137 best AUC: 0.9946 at epoch: 17\n",
      "----------\n",
      "epoch 24/70\n",
      "epoch 24 average loss: 0.2210\n"
     ]
    },
    {
     "name": "stderr",
     "output_type": "stream",
     "text": [
      "Epochs:  34%|███▍      | 24/70 [07:04<13:33, 17.68s/it]"
     ]
    },
    {
     "name": "stdout",
     "output_type": "stream",
     "text": [
      "1\n",
      "current epoch: 24 current AUC: 0.9935 current accuracy: 0.8447 best AUC: 0.9946 at epoch: 17\n",
      "----------\n",
      "epoch 25/70\n",
      "epoch 25 average loss: 0.2484\n"
     ]
    },
    {
     "name": "stderr",
     "output_type": "stream",
     "text": [
      "Epochs:  36%|███▌      | 25/70 [07:22<13:14, 17.66s/it]"
     ]
    },
    {
     "name": "stdout",
     "output_type": "stream",
     "text": [
      "1\n",
      "current epoch: 25 current AUC: 0.9931 current accuracy: 0.8447 best AUC: 0.9946 at epoch: 17\n",
      "----------\n",
      "epoch 26/70\n",
      "epoch 26 average loss: 0.2281\n"
     ]
    },
    {
     "name": "stderr",
     "output_type": "stream",
     "text": [
      "Epochs:  37%|███▋      | 26/70 [07:39<12:54, 17.61s/it]"
     ]
    },
    {
     "name": "stdout",
     "output_type": "stream",
     "text": [
      "1\n",
      "current epoch: 26 current AUC: 0.9872 current accuracy: 0.8261 best AUC: 0.9946 at epoch: 17\n",
      "----------\n",
      "epoch 27/70\n",
      "epoch 27 average loss: 0.2532\n"
     ]
    },
    {
     "name": "stderr",
     "output_type": "stream",
     "text": [
      "Epochs:  39%|███▊      | 27/70 [07:57<12:37, 17.62s/it]"
     ]
    },
    {
     "name": "stdout",
     "output_type": "stream",
     "text": [
      "1\n",
      "current epoch: 27 current AUC: 0.9842 current accuracy: 0.8012 best AUC: 0.9946 at epoch: 17\n",
      "----------\n",
      "epoch 28/70\n",
      "epoch 28 average loss: 0.2170\n"
     ]
    },
    {
     "name": "stderr",
     "output_type": "stream",
     "text": [
      "Epochs:  40%|████      | 28/70 [08:14<12:19, 17.60s/it]"
     ]
    },
    {
     "name": "stdout",
     "output_type": "stream",
     "text": [
      "1\n",
      "current epoch: 28 current AUC: 0.9871 current accuracy: 0.8634 best AUC: 0.9946 at epoch: 17\n",
      "----------\n",
      "epoch 29/70\n",
      "epoch 29 average loss: 0.2200\n"
     ]
    },
    {
     "name": "stderr",
     "output_type": "stream",
     "text": [
      "Epochs:  41%|████▏     | 29/70 [08:32<12:00, 17.59s/it]"
     ]
    },
    {
     "name": "stdout",
     "output_type": "stream",
     "text": [
      "1\n",
      "current epoch: 29 current AUC: 0.9924 current accuracy: 0.9068 best AUC: 0.9946 at epoch: 17\n",
      "----------\n",
      "epoch 30/70\n",
      "epoch 30 average loss: 0.2178\n"
     ]
    },
    {
     "name": "stderr",
     "output_type": "stream",
     "text": [
      "Epochs:  43%|████▎     | 30/70 [08:49<11:44, 17.61s/it]"
     ]
    },
    {
     "name": "stdout",
     "output_type": "stream",
     "text": [
      "1\n",
      "current epoch: 30 current AUC: 0.9824 current accuracy: 0.8075 best AUC: 0.9946 at epoch: 17\n",
      "----------\n",
      "epoch 31/70\n",
      "epoch 31 average loss: 0.2183\n"
     ]
    },
    {
     "name": "stderr",
     "output_type": "stream",
     "text": [
      "Epochs:  44%|████▍     | 31/70 [09:07<11:28, 17.66s/it]"
     ]
    },
    {
     "name": "stdout",
     "output_type": "stream",
     "text": [
      "1\n",
      "current epoch: 31 current AUC: 0.9920 current accuracy: 0.8696 best AUC: 0.9946 at epoch: 17\n",
      "----------\n",
      "epoch 32/70\n",
      "epoch 32 average loss: 0.1934\n"
     ]
    },
    {
     "name": "stderr",
     "output_type": "stream",
     "text": [
      "Epochs:  46%|████▌     | 32/70 [09:25<11:10, 17.64s/it]"
     ]
    },
    {
     "name": "stdout",
     "output_type": "stream",
     "text": [
      "1\n",
      "current epoch: 32 current AUC: 0.9866 current accuracy: 0.8571 best AUC: 0.9946 at epoch: 17\n",
      "----------\n",
      "epoch 33/70\n",
      "epoch 33 average loss: 0.1818\n"
     ]
    },
    {
     "name": "stderr",
     "output_type": "stream",
     "text": [
      "Epochs:  47%|████▋     | 33/70 [09:43<10:55, 17.72s/it]"
     ]
    },
    {
     "name": "stdout",
     "output_type": "stream",
     "text": [
      "1\n",
      "current epoch: 33 current AUC: 0.9934 current accuracy: 0.8820 best AUC: 0.9946 at epoch: 17\n",
      "----------\n",
      "epoch 34/70\n",
      "epoch 34 average loss: 0.1279\n"
     ]
    },
    {
     "name": "stderr",
     "output_type": "stream",
     "text": [
      "Epochs:  49%|████▊     | 34/70 [10:01<10:39, 17.77s/it]"
     ]
    },
    {
     "name": "stdout",
     "output_type": "stream",
     "text": [
      "1\n",
      "current epoch: 34 current AUC: 0.9916 current accuracy: 0.8944 best AUC: 0.9946 at epoch: 17\n",
      "----------\n",
      "epoch 35/70\n",
      "epoch 35 average loss: 0.1802\n"
     ]
    },
    {
     "name": "stderr",
     "output_type": "stream",
     "text": [
      "Epochs:  50%|█████     | 35/70 [10:18<10:22, 17.78s/it]"
     ]
    },
    {
     "name": "stdout",
     "output_type": "stream",
     "text": [
      "1\n",
      "current epoch: 35 current AUC: 0.9892 current accuracy: 0.8634 best AUC: 0.9946 at epoch: 17\n",
      "----------\n",
      "epoch 36/70\n",
      "epoch 36 average loss: 0.1437\n"
     ]
    },
    {
     "name": "stderr",
     "output_type": "stream",
     "text": [
      "Epochs:  51%|█████▏    | 36/70 [10:36<10:03, 17.75s/it]"
     ]
    },
    {
     "name": "stdout",
     "output_type": "stream",
     "text": [
      "1\n",
      "saved new best metric model\n",
      "current epoch: 36 current AUC: 0.9954 current accuracy: 0.9006 best AUC: 0.9954 at epoch: 36\n",
      "----------\n",
      "epoch 37/70\n",
      "epoch 37 average loss: 0.1874\n"
     ]
    },
    {
     "name": "stderr",
     "output_type": "stream",
     "text": [
      "Epochs:  53%|█████▎    | 37/70 [10:54<09:42, 17.67s/it]"
     ]
    },
    {
     "name": "stdout",
     "output_type": "stream",
     "text": [
      "1\n",
      "current epoch: 37 current AUC: 0.9929 current accuracy: 0.9130 best AUC: 0.9954 at epoch: 36\n",
      "----------\n",
      "epoch 38/70\n",
      "epoch 38 average loss: 0.1584\n"
     ]
    },
    {
     "name": "stderr",
     "output_type": "stream",
     "text": [
      "Epochs:  54%|█████▍    | 38/70 [11:11<09:26, 17.70s/it]"
     ]
    },
    {
     "name": "stdout",
     "output_type": "stream",
     "text": [
      "1\n",
      "current epoch: 38 current AUC: 0.9952 current accuracy: 0.9193 best AUC: 0.9954 at epoch: 36\n",
      "----------\n",
      "epoch 39/70\n",
      "epoch 39 average loss: 0.1578\n"
     ]
    },
    {
     "name": "stderr",
     "output_type": "stream",
     "text": [
      "Epochs:  56%|█████▌    | 39/70 [11:29<09:10, 17.75s/it]"
     ]
    },
    {
     "name": "stdout",
     "output_type": "stream",
     "text": [
      "1\n",
      "current epoch: 39 current AUC: 0.9887 current accuracy: 0.8385 best AUC: 0.9954 at epoch: 36\n",
      "----------\n",
      "epoch 40/70\n",
      "epoch 40 average loss: 0.1551\n"
     ]
    },
    {
     "name": "stderr",
     "output_type": "stream",
     "text": [
      "Epochs:  57%|█████▋    | 40/70 [11:47<08:53, 17.78s/it]"
     ]
    },
    {
     "name": "stdout",
     "output_type": "stream",
     "text": [
      "1\n",
      "current epoch: 40 current AUC: 0.9911 current accuracy: 0.8758 best AUC: 0.9954 at epoch: 36\n",
      "----------\n",
      "epoch 41/70\n",
      "epoch 41 average loss: 0.1491\n"
     ]
    },
    {
     "name": "stderr",
     "output_type": "stream",
     "text": [
      "Epochs:  59%|█████▊    | 41/70 [12:05<08:34, 17.75s/it]"
     ]
    },
    {
     "name": "stdout",
     "output_type": "stream",
     "text": [
      "1\n",
      "current epoch: 41 current AUC: 0.9878 current accuracy: 0.8758 best AUC: 0.9954 at epoch: 36\n",
      "----------\n",
      "epoch 42/70\n",
      "epoch 42 average loss: 0.1394\n"
     ]
    },
    {
     "name": "stderr",
     "output_type": "stream",
     "text": [
      "Epochs:  60%|██████    | 42/70 [12:22<08:15, 17.70s/it]"
     ]
    },
    {
     "name": "stdout",
     "output_type": "stream",
     "text": [
      "1\n",
      "current epoch: 42 current AUC: 0.9872 current accuracy: 0.8447 best AUC: 0.9954 at epoch: 36\n",
      "----------\n",
      "epoch 43/70\n",
      "epoch 43 average loss: 0.1346\n"
     ]
    },
    {
     "name": "stderr",
     "output_type": "stream",
     "text": [
      "Epochs:  61%|██████▏   | 43/70 [12:40<07:56, 17.65s/it]"
     ]
    },
    {
     "name": "stdout",
     "output_type": "stream",
     "text": [
      "1\n",
      "current epoch: 43 current AUC: 0.9891 current accuracy: 0.8261 best AUC: 0.9954 at epoch: 36\n",
      "----------\n",
      "epoch 44/70\n",
      "epoch 44 average loss: 0.1503\n"
     ]
    },
    {
     "name": "stderr",
     "output_type": "stream",
     "text": [
      "Epochs:  63%|██████▎   | 44/70 [12:57<07:36, 17.57s/it]"
     ]
    },
    {
     "name": "stdout",
     "output_type": "stream",
     "text": [
      "1\n",
      "current epoch: 44 current AUC: 0.9916 current accuracy: 0.8509 best AUC: 0.9954 at epoch: 36\n",
      "----------\n",
      "epoch 45/70\n",
      "epoch 45 average loss: 0.1157\n"
     ]
    },
    {
     "name": "stderr",
     "output_type": "stream",
     "text": [
      "Epochs:  64%|██████▍   | 45/70 [13:15<07:18, 17.55s/it]"
     ]
    },
    {
     "name": "stdout",
     "output_type": "stream",
     "text": [
      "1\n",
      "current epoch: 45 current AUC: 0.9894 current accuracy: 0.8634 best AUC: 0.9954 at epoch: 36\n",
      "----------\n",
      "epoch 46/70\n",
      "epoch 46 average loss: 0.1454\n"
     ]
    },
    {
     "name": "stderr",
     "output_type": "stream",
     "text": [
      "Epochs:  66%|██████▌   | 46/70 [13:33<07:02, 17.62s/it]"
     ]
    },
    {
     "name": "stdout",
     "output_type": "stream",
     "text": [
      "1\n",
      "current epoch: 46 current AUC: 0.9900 current accuracy: 0.8634 best AUC: 0.9954 at epoch: 36\n",
      "----------\n",
      "epoch 47/70\n",
      "epoch 47 average loss: 0.1209\n"
     ]
    },
    {
     "name": "stderr",
     "output_type": "stream",
     "text": [
      "Epochs:  67%|██████▋   | 47/70 [13:50<06:46, 17.68s/it]"
     ]
    },
    {
     "name": "stdout",
     "output_type": "stream",
     "text": [
      "1\n",
      "current epoch: 47 current AUC: 0.9929 current accuracy: 0.8571 best AUC: 0.9954 at epoch: 36\n",
      "----------\n",
      "epoch 48/70\n",
      "epoch 48 average loss: 0.1011\n"
     ]
    },
    {
     "name": "stderr",
     "output_type": "stream",
     "text": [
      "Epochs:  69%|██████▊   | 48/70 [14:08<06:29, 17.71s/it]"
     ]
    },
    {
     "name": "stdout",
     "output_type": "stream",
     "text": [
      "1\n",
      "current epoch: 48 current AUC: 0.9936 current accuracy: 0.9006 best AUC: 0.9954 at epoch: 36\n",
      "----------\n",
      "epoch 49/70\n",
      "epoch 49 average loss: 0.0939\n"
     ]
    },
    {
     "name": "stderr",
     "output_type": "stream",
     "text": [
      "Epochs:  70%|███████   | 49/70 [14:26<06:14, 17.82s/it]"
     ]
    },
    {
     "name": "stdout",
     "output_type": "stream",
     "text": [
      "1\n",
      "saved new best metric model\n",
      "current epoch: 49 current AUC: 0.9955 current accuracy: 0.9068 best AUC: 0.9955 at epoch: 49\n",
      "----------\n",
      "epoch 50/70\n",
      "epoch 50 average loss: 0.1326\n"
     ]
    },
    {
     "name": "stderr",
     "output_type": "stream",
     "text": [
      "Epochs:  71%|███████▏  | 50/70 [14:44<05:57, 17.89s/it]"
     ]
    },
    {
     "name": "stdout",
     "output_type": "stream",
     "text": [
      "1\n",
      "saved new best metric model\n",
      "current epoch: 50 current AUC: 0.9979 current accuracy: 0.9317 best AUC: 0.9979 at epoch: 50\n",
      "----------\n",
      "epoch 51/70\n",
      "epoch 51 average loss: 0.1397\n"
     ]
    },
    {
     "name": "stderr",
     "output_type": "stream",
     "text": [
      "Epochs:  73%|███████▎  | 51/70 [15:02<05:39, 17.89s/it]"
     ]
    },
    {
     "name": "stdout",
     "output_type": "stream",
     "text": [
      "1\n",
      "current epoch: 51 current AUC: 0.9912 current accuracy: 0.8199 best AUC: 0.9979 at epoch: 50\n",
      "----------\n",
      "epoch 52/70\n",
      "epoch 52 average loss: 0.1239\n"
     ]
    },
    {
     "name": "stderr",
     "output_type": "stream",
     "text": [
      "Epochs:  74%|███████▍  | 52/70 [15:20<05:22, 17.89s/it]"
     ]
    },
    {
     "name": "stdout",
     "output_type": "stream",
     "text": [
      "1\n",
      "current epoch: 52 current AUC: 0.9943 current accuracy: 0.9130 best AUC: 0.9979 at epoch: 50\n",
      "----------\n",
      "epoch 53/70\n",
      "epoch 53 average loss: 0.1194\n"
     ]
    },
    {
     "name": "stderr",
     "output_type": "stream",
     "text": [
      "Epochs:  76%|███████▌  | 53/70 [15:38<05:04, 17.91s/it]"
     ]
    },
    {
     "name": "stdout",
     "output_type": "stream",
     "text": [
      "1\n",
      "current epoch: 53 current AUC: 0.9862 current accuracy: 0.8571 best AUC: 0.9979 at epoch: 50\n",
      "----------\n",
      "epoch 54/70\n",
      "epoch 54 average loss: 0.1107\n"
     ]
    },
    {
     "name": "stderr",
     "output_type": "stream",
     "text": [
      "Epochs:  77%|███████▋  | 54/70 [15:56<04:47, 17.94s/it]"
     ]
    },
    {
     "name": "stdout",
     "output_type": "stream",
     "text": [
      "1\n",
      "current epoch: 54 current AUC: 0.9923 current accuracy: 0.8447 best AUC: 0.9979 at epoch: 50\n",
      "----------\n",
      "epoch 55/70\n",
      "epoch 55 average loss: 0.0809\n"
     ]
    },
    {
     "name": "stderr",
     "output_type": "stream",
     "text": [
      "Epochs:  79%|███████▊  | 55/70 [16:14<04:30, 18.00s/it]"
     ]
    },
    {
     "name": "stdout",
     "output_type": "stream",
     "text": [
      "1\n",
      "current epoch: 55 current AUC: 0.9914 current accuracy: 0.9006 best AUC: 0.9979 at epoch: 50\n",
      "----------\n",
      "epoch 56/70\n",
      "epoch 56 average loss: 0.0980\n"
     ]
    },
    {
     "name": "stderr",
     "output_type": "stream",
     "text": [
      "Epochs:  80%|████████  | 56/70 [16:32<04:11, 17.94s/it]"
     ]
    },
    {
     "name": "stdout",
     "output_type": "stream",
     "text": [
      "1\n",
      "current epoch: 56 current AUC: 0.9965 current accuracy: 0.8820 best AUC: 0.9979 at epoch: 50\n",
      "----------\n",
      "epoch 57/70\n",
      "epoch 57 average loss: 0.0828\n"
     ]
    },
    {
     "name": "stderr",
     "output_type": "stream",
     "text": [
      "Epochs:  81%|████████▏ | 57/70 [16:50<03:53, 17.93s/it]"
     ]
    },
    {
     "name": "stdout",
     "output_type": "stream",
     "text": [
      "1\n",
      "current epoch: 57 current AUC: 0.9971 current accuracy: 0.9255 best AUC: 0.9979 at epoch: 50\n",
      "----------\n",
      "epoch 58/70\n",
      "epoch 58 average loss: 0.1025\n"
     ]
    },
    {
     "name": "stderr",
     "output_type": "stream",
     "text": [
      "Epochs:  83%|████████▎ | 58/70 [17:08<03:34, 17.88s/it]"
     ]
    },
    {
     "name": "stdout",
     "output_type": "stream",
     "text": [
      "1\n",
      "current epoch: 58 current AUC: 0.9945 current accuracy: 0.9130 best AUC: 0.9979 at epoch: 50\n",
      "----------\n",
      "epoch 59/70\n",
      "epoch 59 average loss: 0.0821\n"
     ]
    },
    {
     "name": "stderr",
     "output_type": "stream",
     "text": [
      "Epochs:  84%|████████▍ | 59/70 [17:25<03:15, 17.80s/it]"
     ]
    },
    {
     "name": "stdout",
     "output_type": "stream",
     "text": [
      "1\n",
      "current epoch: 59 current AUC: 0.9898 current accuracy: 0.8696 best AUC: 0.9979 at epoch: 50\n",
      "----------\n",
      "epoch 60/70\n",
      "epoch 60 average loss: 0.1024\n"
     ]
    },
    {
     "name": "stderr",
     "output_type": "stream",
     "text": [
      "Epochs:  86%|████████▌ | 60/70 [17:43<02:58, 17.88s/it]"
     ]
    },
    {
     "name": "stdout",
     "output_type": "stream",
     "text": [
      "1\n",
      "current epoch: 60 current AUC: 0.9936 current accuracy: 0.8882 best AUC: 0.9979 at epoch: 50\n",
      "----------\n",
      "epoch 61/70\n",
      "epoch 61 average loss: 0.1032\n"
     ]
    },
    {
     "name": "stderr",
     "output_type": "stream",
     "text": [
      "Epochs:  87%|████████▋ | 61/70 [18:01<02:40, 17.85s/it]"
     ]
    },
    {
     "name": "stdout",
     "output_type": "stream",
     "text": [
      "1\n",
      "current epoch: 61 current AUC: 0.9946 current accuracy: 0.8944 best AUC: 0.9979 at epoch: 50\n",
      "----------\n",
      "epoch 62/70\n",
      "epoch 62 average loss: 0.1303\n"
     ]
    },
    {
     "name": "stderr",
     "output_type": "stream",
     "text": [
      "Epochs:  89%|████████▊ | 62/70 [18:19<02:23, 17.88s/it]"
     ]
    },
    {
     "name": "stdout",
     "output_type": "stream",
     "text": [
      "1\n",
      "current epoch: 62 current AUC: 0.9929 current accuracy: 0.8882 best AUC: 0.9979 at epoch: 50\n",
      "----------\n",
      "epoch 63/70\n",
      "epoch 63 average loss: 0.1364\n"
     ]
    },
    {
     "name": "stderr",
     "output_type": "stream",
     "text": [
      "Epochs:  90%|█████████ | 63/70 [18:37<02:04, 17.85s/it]"
     ]
    },
    {
     "name": "stdout",
     "output_type": "stream",
     "text": [
      "1\n",
      "current epoch: 63 current AUC: 0.9944 current accuracy: 0.9068 best AUC: 0.9979 at epoch: 50\n",
      "----------\n",
      "epoch 64/70\n",
      "epoch 64 average loss: 0.1320\n"
     ]
    },
    {
     "name": "stderr",
     "output_type": "stream",
     "text": [
      "Epochs:  91%|█████████▏| 64/70 [18:54<01:46, 17.76s/it]"
     ]
    },
    {
     "name": "stdout",
     "output_type": "stream",
     "text": [
      "1\n",
      "current epoch: 64 current AUC: 0.9918 current accuracy: 0.8696 best AUC: 0.9979 at epoch: 50\n",
      "----------\n",
      "epoch 65/70\n",
      "epoch 65 average loss: 0.0912\n"
     ]
    },
    {
     "name": "stderr",
     "output_type": "stream",
     "text": [
      "Epochs:  93%|█████████▎| 65/70 [19:12<01:28, 17.79s/it]"
     ]
    },
    {
     "name": "stdout",
     "output_type": "stream",
     "text": [
      "1\n",
      "current epoch: 65 current AUC: 0.9844 current accuracy: 0.8323 best AUC: 0.9979 at epoch: 50\n",
      "----------\n",
      "epoch 66/70\n",
      "epoch 66 average loss: 0.0748\n"
     ]
    },
    {
     "name": "stderr",
     "output_type": "stream",
     "text": [
      "Epochs:  94%|█████████▍| 66/70 [19:30<01:11, 17.79s/it]"
     ]
    },
    {
     "name": "stdout",
     "output_type": "stream",
     "text": [
      "1\n",
      "current epoch: 66 current AUC: 0.9924 current accuracy: 0.8882 best AUC: 0.9979 at epoch: 50\n",
      "----------\n",
      "epoch 67/70\n",
      "epoch 67 average loss: 0.0826\n"
     ]
    },
    {
     "name": "stderr",
     "output_type": "stream",
     "text": [
      "Epochs:  96%|█████████▌| 67/70 [19:48<00:53, 17.85s/it]"
     ]
    },
    {
     "name": "stdout",
     "output_type": "stream",
     "text": [
      "1\n",
      "current epoch: 67 current AUC: 0.9960 current accuracy: 0.8758 best AUC: 0.9979 at epoch: 50\n",
      "----------\n",
      "epoch 68/70\n",
      "epoch 68 average loss: 0.1073\n"
     ]
    },
    {
     "name": "stderr",
     "output_type": "stream",
     "text": [
      "Epochs:  97%|█████████▋| 68/70 [20:06<00:35, 17.87s/it]"
     ]
    },
    {
     "name": "stdout",
     "output_type": "stream",
     "text": [
      "1\n",
      "current epoch: 68 current AUC: 0.9976 current accuracy: 0.9130 best AUC: 0.9979 at epoch: 50\n",
      "----------\n",
      "epoch 69/70\n",
      "epoch 69 average loss: 0.0942\n"
     ]
    },
    {
     "name": "stderr",
     "output_type": "stream",
     "text": [
      "Epochs:  99%|█████████▊| 69/70 [20:24<00:17, 17.82s/it]"
     ]
    },
    {
     "name": "stdout",
     "output_type": "stream",
     "text": [
      "1\n",
      "current epoch: 69 current AUC: 0.9933 current accuracy: 0.9130 best AUC: 0.9979 at epoch: 50\n",
      "----------\n",
      "epoch 70/70\n",
      "epoch 70 average loss: 0.0749\n"
     ]
    },
    {
     "name": "stderr",
     "output_type": "stream",
     "text": [
      "Epochs: 100%|██████████| 70/70 [20:42<00:00, 17.74s/it]"
     ]
    },
    {
     "name": "stdout",
     "output_type": "stream",
     "text": [
      "1\n",
      "current epoch: 70 current AUC: 0.9925 current accuracy: 0.8820 best AUC: 0.9979 at epoch: 50\n",
      "train completed, best_metric: 0.9979 at epoch: 50\n"
     ]
    },
    {
     "name": "stderr",
     "output_type": "stream",
     "text": [
      "\n"
     ]
    }
   ],
   "source": [
    "best_metric = -1\n",
    "best_metric_epoch = -1\n",
    "epoch_loss_values = []\n",
    "metric_values = []\n",
    "writer = SummaryWriter()\n",
    "\n",
    "start_time = time.time()\n",
    "process = psutil.Process()\n",
    "start_cpu = process.cpu_times()\n",
    "start_mem = process.memory_info().rss / 1024**2  # В MB\n",
    "\n",
    "if device.type == \"cuda\":\n",
    "    torch.cuda.synchronize()\n",
    "    torch.cuda.reset_peak_memory_stats()\n",
    "\n",
    "for epoch in tqdm(range(max_epochs), desc=\"Epochs\"):\n",
    "    print(\"-\" * 10)\n",
    "    print(f\"epoch {epoch + 1}/{max_epochs}\")\n",
    "    model.train()\n",
    "    epoch_loss = 0\n",
    "    step = 0\n",
    "    \n",
    "    for batch_data in train_loader:\n",
    "        step += 1\n",
    "        images, labels = batch_data['images'], batch_data['label'][:, 0].type(torch.LongTensor).to(device)\n",
    "        axial, coronal, sagittal = images\n",
    "        optimizer.zero_grad()\n",
    "        outputs = model(sagittal.to(device))\n",
    "        loss = loss_function(outputs, labels)\n",
    "        loss.backward()\n",
    "        optimizer.step()\n",
    "        epoch_loss += loss.item()\n",
    "        epoch_len = len(train_dataset) // train_loader.batch_size\n",
    "        writer.add_scalar(\"train_loss\", loss.item(), epoch_len * epoch + step)\n",
    "        \n",
    "    epoch_loss /= step\n",
    "    epoch_loss_values.append(epoch_loss)\n",
    "    print(f\"epoch {epoch + 1} average loss: {epoch_loss:.4f}\")\n",
    "\n",
    "    if (epoch + 1) % val_interval == 0:\n",
    "        model.eval()\n",
    "        with torch.no_grad():\n",
    "            y_pred = torch.tensor([], dtype=torch.float32, device=device)\n",
    "            y = torch.tensor([], dtype=torch.long, device=device)\n",
    "            for val_data in val_loader:\n",
    "                val_images, val_labels = (\n",
    "                    val_data['images'],\n",
    "                    val_data['label'][:, 0].type(torch.LongTensor).to(device),\n",
    "                )\n",
    "                val_axial, val_coronal, val_sagittal = val_images\n",
    "                y_pred = torch.cat([y_pred, model(val_sagittal.to(device))], dim=0)\n",
    "                y = torch.cat([y, val_labels], dim=0)\n",
    "            y_onehot = [y_trans(i) for i in decollate_batch(y, detach=False)]\n",
    "            print('1')\n",
    "            y_pred_act = [y_pred_trans(i) for i in decollate_batch(y_pred)]\n",
    "            auc_metric(y_pred_act, y_onehot)\n",
    "            result = auc_metric.aggregate()\n",
    "            auc_metric.reset()\n",
    "            del y_pred_act, y_onehot\n",
    "            metric_values.append(result)\n",
    "            acc_value = torch.eq(y_pred.argmax(dim=1), y)\n",
    "            acc_metric = acc_value.sum().item() / len(acc_value)\n",
    "            if result > best_metric:\n",
    "                best_metric = result\n",
    "                best_metric_epoch = epoch + 1\n",
    "                torch.save(model.state_dict(), os.path.join(root_dir, \"sagittal_full_unpretrained.pth\"))\n",
    "                print(\"saved new best metric model\")\n",
    "            print(\n",
    "                f\"current epoch: {epoch + 1} current AUC: {result:.4f}\"\n",
    "                f\" current accuracy: {acc_metric:.4f}\"\n",
    "                f\" best AUC: {best_metric:.4f}\"\n",
    "                f\" at epoch: {best_metric_epoch}\"\n",
    "            )\n",
    "            writer.add_scalar(\"val_accuracy\", acc_metric, epoch + 1)\n",
    "\n",
    "print(f\"train completed, best_metric: {best_metric:.4f} \" f\"at epoch: {best_metric_epoch}\")\n",
    "writer.close()"
   ]
  },
  {
   "cell_type": "code",
   "execution_count": 58,
   "metadata": {},
   "outputs": [
    {
     "name": "stdout",
     "output_type": "stream",
     "text": [
      "Training time: 1242.14 seconds\n",
      "CPU time used: 14889.73 seconds\n",
      "Memory used: 342.98 MB\n",
      "GPU Memory Used: 194.77 MB\n",
      "Max GPU Memory Used: 254.06 MB\n"
     ]
    }
   ],
   "source": [
    "end_time = time.time()\n",
    "end_cpu = process.cpu_times()\n",
    "end_mem = process.memory_info().rss / 1024**2\n",
    "\n",
    "cpu_time = (end_cpu.user + end_cpu.system) - (start_cpu.user + start_cpu.system)\n",
    "memory_used = end_mem - start_mem\n",
    "\n",
    "print(f\"Training time: {end_time - start_time:.2f} seconds\")\n",
    "print(f\"CPU time used: {cpu_time:.2f} seconds\")\n",
    "print(f\"Memory used: {memory_used:.2f} MB\")\n",
    "\n",
    "if device.type == \"cuda\":\n",
    "    torch.cuda.synchronize()\n",
    "    print(f\"GPU Memory Used: {torch.cuda.memory_allocated() / 1024**2:.2f} MB\")\n",
    "    print(f\"Max GPU Memory Used: {torch.cuda.max_memory_allocated() / 1024**2:.2f} MB\")"
   ]
  },
  {
   "cell_type": "code",
   "execution_count": 59,
   "metadata": {},
   "outputs": [
    {
     "data": {
      "image/png": "[encoded data removed]",
      "text/plain": [
       "<Figure size 1200x600 with 2 Axes>"
      ]
     },
     "metadata": {},
     "output_type": "display_data"
    }
   ],
   "source": [
    "plt.figure(\"train\", (12, 6))\n",
    "plt.subplot(1, 2, 1)\n",
    "plt.title(\"Epoch Average Loss\")\n",
    "x = [i + 1 for i in range(len(epoch_loss_values))]\n",
    "y = epoch_loss_values\n",
    "plt.xlabel(\"epoch\")\n",
    "plt.plot(x, y)\n",
    "plt.subplot(1, 2, 2)\n",
    "plt.title(\"Val AUC\")\n",
    "x = [val_interval * (i + 1) for i in range(len(metric_values))]\n",
    "y = metric_values\n",
    "plt.xlabel(\"epoch\")\n",
    "plt.plot(x, y)\n",
    "plt.show()"
   ]
  },
  {
   "cell_type": "markdown",
   "metadata": {},
   "source": [
    "### Evaluation"
   ]
  },
  {
   "cell_type": "code",
   "execution_count": 60,
   "metadata": {},
   "outputs": [],
   "source": [
    "model.load_state_dict(torch.load(os.path.join(root_dir, \"sagittal_full_unpretrained.pth\"), weights_only=True))\n",
    "model.eval()\n",
    "y_true = []\n",
    "y_pred = []\n",
    "example_axial = []\n",
    "example_coronal = []\n",
    "example_sagittal = []\n",
    "example_preds = []\n",
    "example_labels = []\n",
    "\n",
    "with torch.no_grad():\n",
    "    for test_data in test_loader:\n",
    "        test_images, test_labels = (\n",
    "            test_data['images'],\n",
    "            test_data['label'][:, 0].type(torch.LongTensor).to(device),\n",
    "        )\n",
    "        test_axial, test_coronal, test_sagittal = test_images\n",
    "        pred = model(test_axial.to(device)).argmax(dim=1)\n",
    "        for i in range(len(pred)):\n",
    "            y_true.append(test_labels[i].item())\n",
    "            y_pred.append(pred[i].item())\n",
    "\n",
    "        if len(example_axial) < 10:\n",
    "            example_axial.append(test_axial)\n",
    "            example_coronal.append(test_coronal)\n",
    "            example_sagittal.append(test_sagittal)\n",
    "            example_preds.append(pred)\n",
    "            example_labels.append(test_labels)"
   ]
  },
  {
   "cell_type": "code",
   "execution_count": 61,
   "metadata": {
    "scrolled": true
   },
   "outputs": [
    {
     "name": "stdout",
     "output_type": "stream",
     "text": [
      "              precision    recall  f1-score   support\n",
      "\n",
      "           0     0.7910    0.7681    0.7794        69\n",
      "           1     0.6250    0.5147    0.5645        68\n",
      "           2     0.4762    0.2899    0.3604        69\n",
      "           3     0.4267    0.4923    0.4571        65\n",
      "           4     0.4737    0.1385    0.2143        65\n",
      "           5     0.4952    0.7879    0.6082        66\n",
      "           6     0.4000    0.2857    0.3333        28\n",
      "           7     1.0000    0.4286    0.6000        21\n",
      "           8     0.5152    0.8095    0.6296        21\n",
      "           9     0.4906    0.7536    0.5943        69\n",
      "          10     0.3974    0.4493    0.4218        69\n",
      "\n",
      "    accuracy                         0.5213       610\n",
      "   macro avg     0.5537    0.5198    0.5057       610\n",
      "weighted avg     0.5335    0.5213    0.5018       610\n",
      "\n"
     ]
    }
   ],
   "source": [
    "report = classification_report(y_true, y_pred, target_names=info['label'], digits=4, output_dict=True)\n",
    "print(classification_report(y_true, y_pred, target_names=info['label'], digits=4))"
   ]
  },
  {
   "cell_type": "code",
   "execution_count": 62,
   "metadata": {},
   "outputs": [],
   "source": [
    "df = pd.DataFrame(report).transpose()\n",
    "df.to_csv(f'sagittal_full_unpretrained_seed{seed}.csv')"
   ]
  },
  {
   "cell_type": "code",
   "execution_count": 63,
   "metadata": {},
   "outputs": [
    {
     "name": "stdout",
     "output_type": "stream",
     "text": [
      "VRAM currently used: 194.76 MB\n",
      "Max VRAM used during training: 254.06 MB\n"
     ]
    }
   ],
   "source": [
    "if device.type == \"cuda\":\n",
    "    torch.cuda.synchronize()\n",
    "    vram_used = torch.cuda.memory_allocated() / 1024**2\n",
    "    vram_max_used = torch.cuda.max_memory_allocated() / 1024**2\n",
    "\n",
    "    print(f\"VRAM currently used: {vram_used:.2f} MB\")\n",
    "    print(f\"Max VRAM used during training: {vram_max_used:.2f} MB\")\n"
   ]
  },
  {
   "cell_type": "markdown",
   "metadata": {},
   "source": [
    "# Using 2d models as a backbone"
   ]
  },
  {
   "cell_type": "code",
   "execution_count": 64,
   "metadata": {},
   "outputs": [
    {
     "data": {
      "text/plain": [
       "<All keys matched successfully>"
      ]
     },
     "execution_count": 64,
     "metadata": {},
     "output_type": "execute_result"
    }
   ],
   "source": [
    "# Load the pretrained models for each slice direction\n",
    "model_axial = nets.resnet18(pretrained=False, spatial_dims=2, n_input_channels=64, num_classes=n_classes).to(device)\n",
    "model_coronal = nets.resnet18(pretrained=False, spatial_dims=2, n_input_channels=64, num_classes=n_classes).to(device)\n",
    "model_sagittal = nets.resnet18(pretrained=False, spatial_dims=2, n_input_channels=64, num_classes=n_classes).to(device)\n",
    "\n",
    "# Load the trained weights for each model\n",
    "model_axial.load_state_dict(torch.load(os.path.join(root_dir, \"axial_full_unpretrained.pth\"), weights_only=True))\n",
    "model_coronal.load_state_dict(torch.load(os.path.join(root_dir, \"coronal_full_unpretrained.pth\"), weights_only=True))\n",
    "model_sagittal.load_state_dict(torch.load(os.path.join(root_dir, \"sagittal_full_unpretrained.pth\"), weights_only=True))"
   ]
  },
  {
   "cell_type": "code",
   "execution_count": 65,
   "metadata": {},
   "outputs": [],
   "source": [
    "class CombinedResNetModel(nn.Module):\n",
    "    def __init__(self, model_axial, model_coronal, model_sagittal, num_classes=n_classes):\n",
    "        super(CombinedResNetModel, self).__init__()\n",
    "        \n",
    "        # Load pretrained 2D models (without their final classification layers)\n",
    "        self.model_axial = nn.Sequential(*list(model_axial.children())[:-1])\n",
    "        self.model_coronal = nn.Sequential(*list(model_coronal.children())[:-1])\n",
    "        self.model_sagittal = nn.Sequential(*list(model_sagittal.children())[:-1])\n",
    "\n",
    "        # Assuming each model outputs a 512-dimension feature vector (from ResNet18)\n",
    "        combined_feature_size = 512 * 3  # Concatenating features from all three directions\n",
    "        \n",
    "        # Final fully connected layer to classify the combined features\n",
    "        self.fc = nn.Linear(combined_feature_size, num_classes)\n",
    "\n",
    "    def forward(self, x):\n",
    "\n",
    "        axial = x[:, 0].to(torch.float32)\n",
    "        coronal = x[:, 0].permute(0, 2, 3, 1).to(torch.float32)\n",
    "        sagittal = x[:, 0].permute(0, 3, 1, 2).to(torch.float32)\n",
    "\n",
    "        axial_features = self.model_axial(axial)  # Output: [batch_size, 512, 1, 1]\n",
    "        coronal_features = self.model_coronal(coronal)\n",
    "        sagittal_features = self.model_sagittal(sagittal)\n",
    "\n",
    "        axial_features = axial_features.view(axial_features.size(0), -1)  # [batch_size, 512]\n",
    "        coronal_features = coronal_features.view(coronal_features.size(0), -1)\n",
    "        sagittal_features = sagittal_features.view(sagittal_features.size(0), -1)\n",
    "\n",
    "        # Concatenate the features from all three slices\n",
    "        combined_features = torch.cat([axial_features, coronal_features, sagittal_features], dim=1)\n",
    "\n",
    "        # Final classification\n",
    "        out = self.fc(combined_features)\n",
    "        return out"
   ]
  },
  {
   "cell_type": "markdown",
   "metadata": {},
   "source": [
    "## Evaluation on a 3d dataset"
   ]
  },
  {
   "cell_type": "code",
   "execution_count": 66,
   "metadata": {},
   "outputs": [],
   "source": [
    "device = torch.device(\"cuda\" if torch.cuda.is_available() else \"cpu\")"
   ]
  },
  {
   "cell_type": "code",
   "execution_count": 67,
   "metadata": {},
   "outputs": [],
   "source": [
    "train_loader_3d = DataLoader(train_dataset, batch_size=32, shuffle=True)\n",
    "val_loader_3d = DataLoader(val_dataset, batch_size=32, shuffle=True)\n",
    "test_loader_3d = DataLoader(test_dataset, batch_size=32, shuffle=False)"
   ]
  },
  {
   "cell_type": "code",
   "execution_count": 68,
   "metadata": {},
   "outputs": [],
   "source": [
    "combined_model = CombinedResNetModel(model_axial, model_coronal, model_sagittal, num_classes=n_classes).to(device)\n",
    "\n",
    "loss_function = torch.nn.CrossEntropyLoss()\n",
    "optimizer = torch.optim.Adam(combined_model.fc.parameters(), lr=0.00005)"
   ]
  },
  {
   "cell_type": "code",
   "execution_count": 69,
   "metadata": {},
   "outputs": [
    {
     "name": "stdout",
     "output_type": "stream",
     "text": [
      "Epoch 1, Loss: 2.2177015235347133\n",
      "Epoch 2, Loss: 1.8034286537478048\n",
      "Epoch 3, Loss: 1.5095447109591575\n",
      "Epoch 4, Loss: 1.2807602267111502\n",
      "Epoch 5, Loss: 1.0994646760725206\n",
      "Epoch 6, Loss: 0.9786630272865295\n",
      "Epoch 7, Loss: 0.88050780757781\n",
      "Epoch 8, Loss: 0.8063209537536867\n",
      "Epoch 9, Loss: 0.744332694238232\n",
      "Epoch 10, Loss: 0.6829472030362775\n",
      "Epoch 11, Loss: 0.6475993664033951\n",
      "Epoch 12, Loss: 0.6145795939430114\n",
      "Epoch 13, Loss: 0.5793929667242111\n",
      "Epoch 14, Loss: 0.5568083399726499\n",
      "Epoch 15, Loss: 0.5235182114185826\n",
      "Epoch 16, Loss: 0.5072562699356387\n",
      "Epoch 17, Loss: 0.4704330352044875\n",
      "Epoch 18, Loss: 0.46942556000524954\n",
      "Epoch 19, Loss: 0.44369082393184783\n",
      "Epoch 20, Loss: 0.435280627781345\n",
      "Epoch 21, Loss: 0.42569282554811044\n",
      "Epoch 22, Loss: 0.4175638407468796\n",
      "Epoch 23, Loss: 0.3931705403712488\n",
      "Epoch 24, Loss: 0.3991776502901508\n",
      "Epoch 25, Loss: 0.38581391015360433\n",
      "Epoch 26, Loss: 0.3859937729374055\n",
      "Epoch 27, Loss: 0.38052046587390287\n",
      "Epoch 28, Loss: 0.35861127655352315\n",
      "Epoch 29, Loss: 0.3634636849164963\n",
      "Epoch 30, Loss: 0.3561915139998159\n"
     ]
    }
   ],
   "source": [
    "start_time = time.time()\n",
    "process = psutil.Process()\n",
    "start_cpu = process.cpu_times()\n",
    "start_mem = process.memory_info().rss / 1024**2  # В MB\n",
    "\n",
    "if device.type == \"cuda\":\n",
    "    torch.cuda.synchronize()\n",
    "    torch.cuda.reset_peak_memory_stats()\n",
    "\n",
    "for epoch in range(30):\n",
    "    combined_model.train()\n",
    "    running_loss = 0.0\n",
    "    for data in train_loader_3d:\n",
    "        images, labels = data\n",
    "        images, labels = images.to(device), labels.type(torch.LongTensor).to(device)\n",
    "\n",
    "        optimizer.zero_grad()\n",
    "\n",
    "        outputs = combined_model(images)\n",
    "        loss = loss_function(outputs, labels[:, 0])\n",
    "\n",
    "        loss.backward()\n",
    "        optimizer.step()\n",
    "\n",
    "        running_loss += loss.item()\n",
    "\n",
    "    print(f\"Epoch {epoch+1}, Loss: {running_loss/len(train_loader_3d)}\")"
   ]
  },
  {
   "cell_type": "code",
   "execution_count": 70,
   "metadata": {},
   "outputs": [
    {
     "name": "stdout",
     "output_type": "stream",
     "text": [
      "Training time: 58.09 seconds\n",
      "CPU time used: 695.39 seconds\n",
      "Memory used: 54.76 MB\n",
      "GPU Memory Used: 395.29 MB\n",
      "Max GPU Memory Used: 1204.35 MB\n"
     ]
    }
   ],
   "source": [
    "end_time = time.time()\n",
    "end_cpu = process.cpu_times()\n",
    "end_mem = process.memory_info().rss / 1024**2\n",
    "\n",
    "cpu_time = (end_cpu.user + end_cpu.system) - (start_cpu.user + start_cpu.system)\n",
    "memory_used = end_mem - start_mem\n",
    "\n",
    "print(f\"Training time: {end_time - start_time:.2f} seconds\")\n",
    "print(f\"CPU time used: {cpu_time:.2f} seconds\")\n",
    "print(f\"Memory used: {memory_used:.2f} MB\")\n",
    "\n",
    "if device.type == \"cuda\":\n",
    "    torch.cuda.synchronize()\n",
    "    print(f\"GPU Memory Used: {torch.cuda.memory_allocated() / 1024**2:.2f} MB\")\n",
    "    print(f\"Max GPU Memory Used: {torch.cuda.max_memory_allocated() / 1024**2:.2f} MB\")\n"
   ]
  },
  {
   "cell_type": "code",
   "execution_count": 71,
   "metadata": {},
   "outputs": [
    {
     "name": "stdout",
     "output_type": "stream",
     "text": [
      "VRAM currently used: 395.29 MB\n",
      "Max VRAM used during training: 1204.35 MB\n"
     ]
    }
   ],
   "source": [
    "if device.type == \"cuda\":\n",
    "    torch.cuda.synchronize()\n",
    "    vram_used = torch.cuda.memory_allocated() / 1024**2\n",
    "    vram_max_used = torch.cuda.max_memory_allocated() / 1024**2\n",
    "\n",
    "    print(f\"VRAM currently used: {vram_used:.2f} MB\")\n",
    "    print(f\"Max VRAM used during training: {vram_max_used:.2f} MB\")\n"
   ]
  },
  {
   "cell_type": "code",
   "execution_count": 72,
   "metadata": {},
   "outputs": [
    {
     "name": "stdout",
     "output_type": "stream",
     "text": [
      "Validation AUC: 1.0000\n"
     ]
    }
   ],
   "source": [
    "combined_model.eval()\n",
    "with torch.no_grad():\n",
    "    y_pred = torch.tensor([], dtype=torch.float32, device=device)\n",
    "    y = torch.tensor([], dtype=torch.long, device=device)\n",
    "    for val_data in val_loader_3d:\n",
    "        val_images, val_labels = val_data\n",
    "\n",
    "        output = combined_model(val_images.to(device))\n",
    "        \n",
    "        y_pred = torch.cat([y_pred, output], dim=0)\n",
    "        y = torch.cat([y, val_labels.to(device)], dim=0)\n",
    "\n",
    "    # Evaluate AUC and accuracy\n",
    "    y_onehot = [y_trans(i) for i in decollate_batch(y, detach=False)]\n",
    "    y_pred_act = [y_pred_trans(i) for i in decollate_batch(y_pred)]\n",
    "    auc_metric(y_pred_act, y_onehot)\n",
    "    result = auc_metric.aggregate()\n",
    "    auc_metric.reset()\n",
    "\n",
    "    print(f\"Validation AUC: {result:.4f}\")"
   ]
  },
  {
   "cell_type": "code",
   "execution_count": 73,
   "metadata": {},
   "outputs": [
    {
     "name": "stdout",
     "output_type": "stream",
     "text": [
      "Test AUC: 0.9866\n"
     ]
    }
   ],
   "source": [
    "combined_model.eval()\n",
    "y_true = []\n",
    "y_predicted = []\n",
    "example_image = []\n",
    "example_preds = []\n",
    "example_labels = []\n",
    "\n",
    "with torch.no_grad():\n",
    "    y_pred = torch.tensor([], dtype=torch.float32, device=device)\n",
    "    y = torch.tensor([], dtype=torch.long, device=device)\n",
    "    for test_data in test_loader_3d:\n",
    "        test_images, test_labels = test_data\n",
    "\n",
    "        output = combined_model(test_images.to(device))\n",
    "        pred = output.argmax(dim=1)\n",
    "        \n",
    "        for i in range(len(pred)):\n",
    "            y_true.append(test_labels[i].item())\n",
    "            y_predicted.append(pred[i].item())\n",
    "\n",
    "        y_pred = torch.cat([y_pred, output], dim=0)\n",
    "        y = torch.cat([y, test_labels.to(device)], dim=0)\n",
    "\n",
    "    # Evaluate AUC and accuracy\n",
    "    y_onehot = [y_trans(i) for i in decollate_batch(y, detach=False)]\n",
    "    y_pred_act = [y_pred_trans(i) for i in decollate_batch(y_pred)]\n",
    "    auc_metric(y_pred_act, y_onehot)\n",
    "    result = auc_metric.aggregate()\n",
    "    auc_metric.reset()\n",
    "\n",
    "    print(f\"Test AUC: {result:.4f}\")"
   ]
  },
  {
   "cell_type": "code",
   "execution_count": 74,
   "metadata": {
    "scrolled": true
   },
   "outputs": [
    {
     "name": "stdout",
     "output_type": "stream",
     "text": [
      "              precision    recall  f1-score   support\n",
      "\n",
      "           0     0.9718    1.0000    0.9857        69\n",
      "           1     0.7571    0.7794    0.7681        68\n",
      "           2     0.7429    0.7536    0.7482        69\n",
      "           3     0.8333    0.8462    0.8397        65\n",
      "           4     0.8644    0.7846    0.8226        65\n",
      "           5     0.8406    0.8788    0.8593        66\n",
      "           6     1.0000    0.7857    0.8800        28\n",
      "           7     1.0000    0.9524    0.9756        21\n",
      "           8     0.9545    1.0000    0.9767        21\n",
      "           9     0.8108    0.8696    0.8392        69\n",
      "          10     0.9254    0.8986    0.9118        69\n",
      "\n",
      "    accuracy                         0.8574       610\n",
      "   macro avg     0.8819    0.8681    0.8733       610\n",
      "weighted avg     0.8598    0.8574    0.8575       610\n",
      "\n"
     ]
    }
   ],
   "source": [
    "report = classification_report(y_true, y_predicted, target_names=info['label'], digits=4, output_dict=True)\n",
    "report.update({\"AUC\": f\"{result:.4f}\"})\n",
    "print(classification_report(y_true, y_predicted, target_names=info['label'], digits=4))"
   ]
  },
  {
   "cell_type": "code",
   "execution_count": 75,
   "metadata": {},
   "outputs": [],
   "source": [
    "df = pd.DataFrame(report).transpose()\n",
    "df.to_csv(f'combined_unpretrained_full_seed{seed}.csv')"
   ]
  },
  {
   "cell_type": "code",
   "execution_count": 76,
   "metadata": {},
   "outputs": [
    {
     "name": "stdout",
     "output_type": "stream",
     "text": [
      "VRAM currently used: 395.91 MB\n",
      "Max VRAM used during training: 1204.35 MB\n"
     ]
    }
   ],
   "source": [
    "if device.type == \"cuda\":\n",
    "    torch.cuda.synchronize()\n",
    "    vram_used = torch.cuda.memory_allocated() / 1024**2\n",
    "    vram_max_used = torch.cuda.max_memory_allocated() / 1024**2\n",
    "\n",
    "    print(f\"VRAM currently used: {vram_used:.2f} MB\")\n",
    "    print(f\"Max VRAM used during training: {vram_max_used:.2f} MB\")\n"
   ]
  },
  {
   "cell_type": "markdown",
   "metadata": {},
   "source": [
    "### Pretrained"
   ]
  },
  {
   "cell_type": "code",
   "execution_count": 77,
   "metadata": {},
   "outputs": [],
   "source": [
    "train_loader_3d = DataLoader(train_dataset, batch_size=32, shuffle=True)\n",
    "val_loader_3d = DataLoader(val_dataset, batch_size=32, shuffle=True)\n",
    "test_loader_3d = DataLoader(test_dataset, batch_size=32, shuffle=False)"
   ]
  },
  {
   "cell_type": "code",
   "execution_count": 78,
   "metadata": {},
   "outputs": [
    {
     "name": "stderr",
     "output_type": "stream",
     "text": [
      "/opt/conda/lib/python3.10/site-packages/torchvision/models/_utils.py:208: UserWarning: The parameter 'pretrained' is deprecated since 0.13 and may be removed in the future, please use 'weights' instead.\n",
      "  warnings.warn(\n",
      "/opt/conda/lib/python3.10/site-packages/torchvision/models/_utils.py:223: UserWarning: Arguments other than a weight enum or `None` for 'weights' are deprecated since 0.13 and may be removed in the future. The current behavior is equivalent to passing `weights=ResNet18_Weights.IMAGENET1K_V1`. You can also use `weights=ResNet18_Weights.DEFAULT` to get the most up-to-date weights.\n",
      "  warnings.warn(msg)\n"
     ]
    },
    {
     "data": {
      "text/plain": [
       "<All keys matched successfully>"
      ]
     },
     "execution_count": 78,
     "metadata": {},
     "output_type": "execute_result"
    }
   ],
   "source": [
    "model = models.resnet18(pretrained=True).to(device)\n",
    "model.conv1 = nn.Conv2d(64, 64, kernel_size=7, stride=2, padding=3, bias=False)\n",
    "model.fc = nn.Linear(model.fc.in_features, n_classes)\n",
    "model_axial = model.to(device)\n",
    "model_coronal = model.to(device)\n",
    "model_sagittal = model.to(device)\n",
    "\n",
    "model_axial.load_state_dict(torch.load(os.path.join(root_dir, \"axial_full_pretrained.pth\"), weights_only=True))\n",
    "model_coronal.load_state_dict(torch.load(os.path.join(root_dir, \"coronal_full_pretrained.pth\"), weights_only=True))\n",
    "model_sagittal.load_state_dict(torch.load(os.path.join(root_dir, \"sagittal_full_pretrained.pth\"), weights_only=True))"
   ]
  },
  {
   "cell_type": "code",
   "execution_count": 79,
   "metadata": {},
   "outputs": [],
   "source": [
    "combined_model = CombinedResNetModel(model_axial, model_coronal, model_sagittal, num_classes=n_classes).to(device)\n",
    "\n",
    "loss_function = torch.nn.CrossEntropyLoss()\n",
    "optimizer = torch.optim.Adam(combined_model.fc.parameters(), lr=0.00005)"
   ]
  },
  {
   "cell_type": "code",
   "execution_count": 80,
   "metadata": {},
   "outputs": [
    {
     "name": "stderr",
     "output_type": "stream",
     "text": [
      "Epochs:   3%|▎         | 1/30 [00:01<00:45,  1.56s/it]"
     ]
    },
    {
     "name": "stdout",
     "output_type": "stream",
     "text": [
      "Epoch 1, Loss: 2.3713439126168527\n"
     ]
    },
    {
     "name": "stderr",
     "output_type": "stream",
     "text": [
      "Epochs:   7%|▋         | 2/30 [00:02<00:41,  1.47s/it]"
     ]
    },
    {
     "name": "stdout",
     "output_type": "stream",
     "text": [
      "Epoch 2, Loss: 1.7829186493350613\n"
     ]
    },
    {
     "name": "stderr",
     "output_type": "stream",
     "text": [
      "Epochs:  10%|█         | 3/30 [00:04<00:38,  1.44s/it]"
     ]
    },
    {
     "name": "stdout",
     "output_type": "stream",
     "text": [
      "Epoch 3, Loss: 1.381268278245003\n"
     ]
    },
    {
     "name": "stderr",
     "output_type": "stream",
     "text": [
      "Epochs:  13%|█▎        | 4/30 [00:05<00:37,  1.42s/it]"
     ]
    },
    {
     "name": "stdout",
     "output_type": "stream",
     "text": [
      "Epoch 4, Loss: 1.1210281329770242\n"
     ]
    },
    {
     "name": "stderr",
     "output_type": "stream",
     "text": [
      "Epochs:  17%|█▋        | 5/30 [00:07<00:35,  1.42s/it]"
     ]
    },
    {
     "name": "stdout",
     "output_type": "stream",
     "text": [
      "Epoch 5, Loss: 0.9504111505323841\n"
     ]
    },
    {
     "name": "stderr",
     "output_type": "stream",
     "text": [
      "Epochs:  20%|██        | 6/30 [00:08<00:33,  1.41s/it]"
     ]
    },
    {
     "name": "stdout",
     "output_type": "stream",
     "text": [
      "Epoch 6, Loss: 0.8152235727156362\n"
     ]
    },
    {
     "name": "stderr",
     "output_type": "stream",
     "text": [
      "Epochs:  23%|██▎       | 7/30 [00:09<00:32,  1.41s/it]"
     ]
    },
    {
     "name": "stdout",
     "output_type": "stream",
     "text": [
      "Epoch 7, Loss: 0.7342991578963495\n"
     ]
    },
    {
     "name": "stderr",
     "output_type": "stream",
     "text": [
      "Epochs:  27%|██▋       | 8/30 [00:11<00:31,  1.41s/it]"
     ]
    },
    {
     "name": "stdout",
     "output_type": "stream",
     "text": [
      "Epoch 8, Loss: 0.6780769353912722\n"
     ]
    },
    {
     "name": "stderr",
     "output_type": "stream",
     "text": [
      "Epochs:  30%|███       | 9/30 [00:12<00:29,  1.41s/it]"
     ]
    },
    {
     "name": "stdout",
     "output_type": "stream",
     "text": [
      "Epoch 9, Loss: 0.6287889884364221\n"
     ]
    },
    {
     "name": "stderr",
     "output_type": "stream",
     "text": [
      "Epochs:  33%|███▎      | 10/30 [00:14<00:28,  1.41s/it]"
     ]
    },
    {
     "name": "stdout",
     "output_type": "stream",
     "text": [
      "Epoch 10, Loss: 0.5777039950893771\n"
     ]
    },
    {
     "name": "stderr",
     "output_type": "stream",
     "text": [
      "Epochs:  37%|███▋      | 11/30 [00:15<00:26,  1.41s/it]"
     ]
    },
    {
     "name": "stdout",
     "output_type": "stream",
     "text": [
      "Epoch 11, Loss: 0.5467313864538746\n"
     ]
    },
    {
     "name": "stderr",
     "output_type": "stream",
     "text": [
      "Epochs:  40%|████      | 12/30 [00:17<00:25,  1.40s/it]"
     ]
    },
    {
     "name": "stdout",
     "output_type": "stream",
     "text": [
      "Epoch 12, Loss: 0.5040963753577201\n"
     ]
    },
    {
     "name": "stderr",
     "output_type": "stream",
     "text": [
      "Epochs:  43%|████▎     | 13/30 [00:18<00:23,  1.40s/it]"
     ]
    },
    {
     "name": "stdout",
     "output_type": "stream",
     "text": [
      "Epoch 13, Loss: 0.47022305861596136\n"
     ]
    },
    {
     "name": "stderr",
     "output_type": "stream",
     "text": [
      "Epochs:  47%|████▋     | 14/30 [00:19<00:22,  1.41s/it]"
     ]
    },
    {
     "name": "stdout",
     "output_type": "stream",
     "text": [
      "Epoch 14, Loss: 0.4659493363672687\n"
     ]
    },
    {
     "name": "stderr",
     "output_type": "stream",
     "text": [
      "Epochs:  50%|█████     | 15/30 [00:21<00:21,  1.41s/it]"
     ]
    },
    {
     "name": "stdout",
     "output_type": "stream",
     "text": [
      "Epoch 15, Loss: 0.4452233679832951\n"
     ]
    },
    {
     "name": "stderr",
     "output_type": "stream",
     "text": [
      "Epochs:  53%|█████▎    | 16/30 [00:22<00:19,  1.41s/it]"
     ]
    },
    {
     "name": "stdout",
     "output_type": "stream",
     "text": [
      "Epoch 16, Loss: 0.41969165975047695\n"
     ]
    },
    {
     "name": "stderr",
     "output_type": "stream",
     "text": [
      "Epochs:  57%|█████▋    | 17/30 [00:24<00:18,  1.41s/it]"
     ]
    },
    {
     "name": "stdout",
     "output_type": "stream",
     "text": [
      "Epoch 17, Loss: 0.402116205423109\n"
     ]
    },
    {
     "name": "stderr",
     "output_type": "stream",
     "text": [
      "Epochs:  60%|██████    | 18/30 [00:25<00:16,  1.41s/it]"
     ]
    },
    {
     "name": "stdout",
     "output_type": "stream",
     "text": [
      "Epoch 18, Loss: 0.39468342931039874\n"
     ]
    },
    {
     "name": "stderr",
     "output_type": "stream",
     "text": [
      "Epochs:  63%|██████▎   | 19/30 [00:26<00:15,  1.41s/it]"
     ]
    },
    {
     "name": "stdout",
     "output_type": "stream",
     "text": [
      "Epoch 19, Loss: 0.39429244687480314\n"
     ]
    },
    {
     "name": "stderr",
     "output_type": "stream",
     "text": [
      "Epochs:  67%|██████▋   | 20/30 [00:28<00:14,  1.41s/it]"
     ]
    },
    {
     "name": "stdout",
     "output_type": "stream",
     "text": [
      "Epoch 20, Loss: 0.3685921411360464\n"
     ]
    },
    {
     "name": "stderr",
     "output_type": "stream",
     "text": [
      "Epochs:  70%|███████   | 21/30 [00:29<00:12,  1.40s/it]"
     ]
    },
    {
     "name": "stdout",
     "output_type": "stream",
     "text": [
      "Epoch 21, Loss: 0.34697806931311087\n"
     ]
    },
    {
     "name": "stderr",
     "output_type": "stream",
     "text": [
      "Epochs:  73%|███████▎  | 22/30 [00:31<00:11,  1.40s/it]"
     ]
    },
    {
     "name": "stdout",
     "output_type": "stream",
     "text": [
      "Epoch 22, Loss: 0.34434355603110406\n"
     ]
    },
    {
     "name": "stderr",
     "output_type": "stream",
     "text": [
      "Epochs:  77%|███████▋  | 23/30 [00:32<00:09,  1.40s/it]"
     ]
    },
    {
     "name": "stdout",
     "output_type": "stream",
     "text": [
      "Epoch 23, Loss: 0.33230818231259623\n"
     ]
    },
    {
     "name": "stderr",
     "output_type": "stream",
     "text": [
      "Epochs:  80%|████████  | 24/30 [00:33<00:08,  1.40s/it]"
     ]
    },
    {
     "name": "stdout",
     "output_type": "stream",
     "text": [
      "Epoch 24, Loss: 0.3232928697139986\n"
     ]
    },
    {
     "name": "stderr",
     "output_type": "stream",
     "text": [
      "Epochs:  83%|████████▎ | 25/30 [00:35<00:07,  1.40s/it]"
     ]
    },
    {
     "name": "stdout",
     "output_type": "stream",
     "text": [
      "Epoch 25, Loss: 0.3093643375942784\n"
     ]
    },
    {
     "name": "stderr",
     "output_type": "stream",
     "text": [
      "Epochs:  87%|████████▋ | 26/30 [00:36<00:05,  1.40s/it]"
     ]
    },
    {
     "name": "stdout",
     "output_type": "stream",
     "text": [
      "Epoch 26, Loss: 0.3068672231128139\n"
     ]
    },
    {
     "name": "stderr",
     "output_type": "stream",
     "text": [
      "Epochs:  90%|█████████ | 27/30 [00:38<00:04,  1.40s/it]"
     ]
    },
    {
     "name": "stdout",
     "output_type": "stream",
     "text": [
      "Epoch 27, Loss: 0.30114098806535045\n"
     ]
    },
    {
     "name": "stderr",
     "output_type": "stream",
     "text": [
      "Epochs:  93%|█████████▎| 28/30 [00:39<00:02,  1.41s/it]"
     ]
    },
    {
     "name": "stdout",
     "output_type": "stream",
     "text": [
      "Epoch 28, Loss: 0.3089063071435498\n"
     ]
    },
    {
     "name": "stderr",
     "output_type": "stream",
     "text": [
      "Epochs:  97%|█████████▋| 29/30 [00:40<00:01,  1.41s/it]"
     ]
    },
    {
     "name": "stdout",
     "output_type": "stream",
     "text": [
      "Epoch 29, Loss: 0.28318330741697745\n"
     ]
    },
    {
     "name": "stderr",
     "output_type": "stream",
     "text": [
      "Epochs: 100%|██████████| 30/30 [00:42<00:00,  1.41s/it]"
     ]
    },
    {
     "name": "stdout",
     "output_type": "stream",
     "text": [
      "Epoch 30, Loss: 0.2705352311172793\n"
     ]
    },
    {
     "name": "stderr",
     "output_type": "stream",
     "text": [
      "\n"
     ]
    }
   ],
   "source": [
    "start_time = time.time()\n",
    "process = psutil.Process()\n",
    "start_cpu = process.cpu_times()\n",
    "start_mem = process.memory_info().rss / 1024**2  # В MB\n",
    "\n",
    "if device.type == \"cuda\":\n",
    "    torch.cuda.synchronize()\n",
    "    torch.cuda.reset_peak_memory_stats()\n",
    "\n",
    "for epoch in tqdm(range(30), desc=\"Epochs\"):\n",
    "    combined_model.train()\n",
    "    running_loss = 0.0\n",
    "    for data in train_loader_3d:\n",
    "        images, labels = data\n",
    "        images, labels = images.to(device), labels.type(torch.LongTensor).to(device)\n",
    "\n",
    "        optimizer.zero_grad()\n",
    "\n",
    "        outputs = combined_model(images)\n",
    "        loss = loss_function(outputs, labels[:, 0])\n",
    "\n",
    "        loss.backward()\n",
    "        optimizer.step()\n",
    "\n",
    "        running_loss += loss.item()\n",
    "\n",
    "    print(f\"Epoch {epoch+1}, Loss: {running_loss/len(train_loader_3d)}\")"
   ]
  },
  {
   "cell_type": "code",
   "execution_count": 81,
   "metadata": {},
   "outputs": [
    {
     "name": "stdout",
     "output_type": "stream",
     "text": [
      "Training time: 42.34 seconds\n",
      "CPU time used: 507.32 seconds\n",
      "Memory used: 25.55 MB\n",
      "GPU Memory Used: 130.19 MB\n",
      "Max GPU Memory Used: 677.22 MB\n"
     ]
    }
   ],
   "source": [
    "end_time = time.time()\n",
    "end_cpu = process.cpu_times()\n",
    "end_mem = process.memory_info().rss / 1024**2\n",
    "\n",
    "cpu_time = (end_cpu.user + end_cpu.system) - (start_cpu.user + start_cpu.system)\n",
    "memory_used = end_mem - start_mem\n",
    "\n",
    "print(f\"Training time: {end_time - start_time:.2f} seconds\")\n",
    "print(f\"CPU time used: {cpu_time:.2f} seconds\")\n",
    "print(f\"Memory used: {memory_used:.2f} MB\")\n",
    "\n",
    "if device.type == \"cuda\":\n",
    "    torch.cuda.synchronize()\n",
    "    print(f\"GPU Memory Used: {torch.cuda.memory_allocated() / 1024**2:.2f} MB\")\n",
    "    print(f\"Max GPU Memory Used: {torch.cuda.max_memory_allocated() / 1024**2:.2f} MB\")\n"
   ]
  },
  {
   "cell_type": "code",
   "execution_count": 82,
   "metadata": {},
   "outputs": [
    {
     "name": "stdout",
     "output_type": "stream",
     "text": [
      "VRAM currently used: 130.19 MB\n",
      "Max VRAM used during training: 677.22 MB\n"
     ]
    }
   ],
   "source": [
    "if device.type == \"cuda\":\n",
    "    torch.cuda.synchronize()\n",
    "    vram_used = torch.cuda.memory_allocated() / 1024**2\n",
    "    vram_max_used = torch.cuda.max_memory_allocated() / 1024**2\n",
    "\n",
    "    print(f\"VRAM currently used: {vram_used:.2f} MB\")\n",
    "    print(f\"Max VRAM used during training: {vram_max_used:.2f} MB\")\n"
   ]
  },
  {
   "cell_type": "code",
   "execution_count": 83,
   "metadata": {},
   "outputs": [
    {
     "name": "stdout",
     "output_type": "stream",
     "text": [
      "Validation AUC: 1.0000\n"
     ]
    }
   ],
   "source": [
    "combined_model.eval()\n",
    "with torch.no_grad():\n",
    "    y_pred = torch.tensor([], dtype=torch.float32, device=device)\n",
    "    y = torch.tensor([], dtype=torch.long, device=device)\n",
    "    for val_data in val_loader_3d:\n",
    "        val_images, val_labels = val_data\n",
    "\n",
    "        output = combined_model(val_images.to(device))\n",
    "        \n",
    "        y_pred = torch.cat([y_pred, output], dim=0)\n",
    "        y = torch.cat([y, val_labels.to(device)], dim=0)\n",
    "\n",
    "    # Evaluate AUC and accuracy\n",
    "    y_onehot = [y_trans(i) for i in decollate_batch(y, detach=False)]\n",
    "    y_pred_act = [y_pred_trans(i) for i in decollate_batch(y_pred)]\n",
    "    auc_metric(y_pred_act, y_onehot)\n",
    "    result = auc_metric.aggregate()\n",
    "    auc_metric.reset()\n",
    "\n",
    "    print(f\"Validation AUC: {result:.4f}\")"
   ]
  },
  {
   "cell_type": "code",
   "execution_count": 84,
   "metadata": {},
   "outputs": [
    {
     "name": "stdout",
     "output_type": "stream",
     "text": [
      "Test AUC: 0.9876\n"
     ]
    }
   ],
   "source": [
    "combined_model.eval()\n",
    "y_true = []\n",
    "y_predicted = []\n",
    "example_image = []\n",
    "example_preds = []\n",
    "example_labels = []\n",
    "\n",
    "with torch.no_grad():\n",
    "    y_pred = torch.tensor([], dtype=torch.float32, device=device)\n",
    "    y = torch.tensor([], dtype=torch.long, device=device)\n",
    "    for test_data in test_loader_3d:\n",
    "        test_images, test_labels = test_data\n",
    "\n",
    "        output = combined_model(test_images.to(device))\n",
    "        pred = output.argmax(dim=1)\n",
    "        \n",
    "        for i in range(len(pred)):\n",
    "            y_true.append(test_labels[i].item())\n",
    "            y_predicted.append(pred[i].item())\n",
    "\n",
    "        y_pred = torch.cat([y_pred, output], dim=0)\n",
    "        y = torch.cat([y, test_labels.to(device)], dim=0)\n",
    "\n",
    "    # Evaluate AUC and accuracy\n",
    "    y_onehot = [y_trans(i) for i in decollate_batch(y, detach=False)]\n",
    "    y_pred_act = [y_pred_trans(i) for i in decollate_batch(y_pred)]\n",
    "    auc_metric(y_pred_act, y_onehot)\n",
    "    result = auc_metric.aggregate()\n",
    "    auc_metric.reset()\n",
    "\n",
    "    print(f\"Test AUC: {result:.4f}\")"
   ]
  },
  {
   "cell_type": "code",
   "execution_count": 85,
   "metadata": {
    "scrolled": true
   },
   "outputs": [
    {
     "name": "stdout",
     "output_type": "stream",
     "text": [
      "              precision    recall  f1-score   support\n",
      "\n",
      "           0     0.8816    0.9710    0.9241        69\n",
      "           1     0.6901    0.7206    0.7050        68\n",
      "           2     0.8462    0.6377    0.7273        69\n",
      "           3     0.7564    0.9077    0.8252        65\n",
      "           4     0.9216    0.7231    0.8103        65\n",
      "           5     0.7284    0.8939    0.8027        66\n",
      "           6     0.9643    0.9643    0.9643        28\n",
      "           7     0.9545    1.0000    0.9767        21\n",
      "           8     1.0000    0.9524    0.9756        21\n",
      "           9     0.9508    0.8406    0.8923        69\n",
      "          10     0.8857    0.8986    0.8921        69\n",
      "\n",
      "    accuracy                         0.8410       610\n",
      "   macro avg     0.8709    0.8645    0.8632       610\n",
      "weighted avg     0.8493    0.8410    0.8398       610\n",
      "\n"
     ]
    }
   ],
   "source": [
    "report = classification_report(y_true, y_predicted, target_names=info['label'], digits=4, output_dict=True)\n",
    "report.update({\"AUC\": f\"{result:.4f}\"})\n",
    "print(classification_report(y_true, y_predicted, target_names=info['label'], digits=4))"
   ]
  },
  {
   "cell_type": "code",
   "execution_count": 86,
   "metadata": {},
   "outputs": [],
   "source": [
    "df = pd.DataFrame(report).transpose()\n",
    "df.to_csv(f'combined_pretrained_full_seed{seed}.csv')"
   ]
  },
  {
   "cell_type": "code",
   "execution_count": 87,
   "metadata": {},
   "outputs": [
    {
     "name": "stdout",
     "output_type": "stream",
     "text": [
      "VRAM currently used: 130.19 MB\n",
      "Max VRAM used during training: 677.22 MB\n"
     ]
    }
   ],
   "source": [
    "if device.type == \"cuda\":\n",
    "    torch.cuda.synchronize()\n",
    "    vram_used = torch.cuda.memory_allocated() / 1024**2\n",
    "    vram_max_used = torch.cuda.max_memory_allocated() / 1024**2\n",
    "\n",
    "    print(f\"VRAM currently used: {vram_used:.2f} MB\")\n",
    "    print(f\"Max VRAM used during training: {vram_max_used:.2f} MB\")\n"
   ]
  },
  {
   "cell_type": "markdown",
   "metadata": {},
   "source": [
    "## Balanced concatenation"
   ]
  },
  {
   "cell_type": "code",
   "execution_count": 88,
   "metadata": {},
   "outputs": [],
   "source": [
    "def extract_metrics(file_path, has_auc=False):\n",
    "    df = pd.read_csv(file_path)\n",
    "    metrics = df.loc[df.index[-3], 'precision']\n",
    "    return metrics"
   ]
  },
  {
   "cell_type": "code",
   "execution_count": 89,
   "metadata": {},
   "outputs": [],
   "source": [
    "model_names = ['axial_full_unpretrained', 'coronal_full_unpretrained', 'sagittal_full_unpretrained']\n",
    "csv_files = {\n",
    "    model: glob.glob(f\"{model}_seed{seed}.csv\")\n",
    "    for model in model_names\n",
    "}"
   ]
  },
  {
   "cell_type": "code",
   "execution_count": 90,
   "metadata": {},
   "outputs": [],
   "source": [
    "results = {}\n",
    "for model, files in csv_files.items():\n",
    "    model_metrics = []\n",
    "    for file in files:\n",
    "        metrics = extract_metrics(file)\n",
    "    results[model] = metrics"
   ]
  },
  {
   "cell_type": "code",
   "execution_count": 91,
   "metadata": {},
   "outputs": [
    {
     "data": {
      "text/plain": [
       "{'axial_full_unpretrained': 0.7721311475409836,\n",
       " 'coronal_full_unpretrained': 0.280327868852459,\n",
       " 'sagittal_full_unpretrained': 0.521311475409836}"
      ]
     },
     "execution_count": 91,
     "metadata": {},
     "output_type": "execute_result"
    }
   ],
   "source": [
    "results"
   ]
  },
  {
   "cell_type": "code",
   "execution_count": 92,
   "metadata": {},
   "outputs": [
    {
     "name": "stdout",
     "output_type": "stream",
     "text": [
      "[0.49062500000000003, 0.178125, 0.33125000000000004]\n"
     ]
    }
   ],
   "source": [
    "accuracies = list(results.values())\n",
    "total_acc = sum(accuracies)\n",
    "print([acc / total_acc for acc in accuracies])"
   ]
  },
  {
   "cell_type": "code",
   "execution_count": 93,
   "metadata": {},
   "outputs": [],
   "source": [
    "class BalancedResNetModel(nn.Module):\n",
    "    def __init__(self, model_axial, model_coronal, model_sagittal, accuracies, num_classes=n_classes):\n",
    "        super(BalancedResNetModel, self).__init__()\n",
    "        \n",
    "        # Load pretrained 2D models (without their final classification layers)\n",
    "        self.model_axial = nn.Sequential(*list(model_axial.children())[:-1])\n",
    "        self.model_coronal = nn.Sequential(*list(model_coronal.children())[:-1])\n",
    "        self.model_sagittal = nn.Sequential(*list(model_sagittal.children())[:-1])\n",
    "\n",
    "        total_acc = sum(accuracies)\n",
    "        self.weights = [acc / total_acc for acc in accuracies]\n",
    "        \n",
    "        # Final fully connected layer to classify the combined features\n",
    "        self.fc = nn.Linear(512, num_classes)\n",
    "\n",
    "    def forward(self, x):\n",
    "\n",
    "        axial = x[:, 0].to(torch.float32)\n",
    "        coronal = x[:, 0].permute(0, 2, 3, 1).to(torch.float32)\n",
    "        sagittal = x[:, 0].permute(0, 3, 1, 2).to(torch.float32)\n",
    "\n",
    "        axial_features = self.model_axial(axial)  # Output: [batch_size, 512, 1, 1]\n",
    "        coronal_features = self.model_coronal(coronal)\n",
    "        sagittal_features = self.model_sagittal(sagittal)\n",
    "\n",
    "        axial_features = axial_features.view(axial_features.size(0), -1)  # [batch_size, 512]\n",
    "        coronal_features = coronal_features.view(coronal_features.size(0), -1)\n",
    "        sagittal_features = sagittal_features.view(sagittal_features.size(0), -1)\n",
    "\n",
    "        # Weights balancing\n",
    "        weighted_features = (self.weights[0] * axial_features + self.weights[1] * coronal_features + \n",
    "                             self.weights[2] * sagittal_features)\n",
    "\n",
    "        # Final classification\n",
    "        out = self.fc(weighted_features)\n",
    "        return out"
   ]
  },
  {
   "cell_type": "code",
   "execution_count": 94,
   "metadata": {},
   "outputs": [
    {
     "data": {
      "text/plain": [
       "<All keys matched successfully>"
      ]
     },
     "execution_count": 94,
     "metadata": {},
     "output_type": "execute_result"
    }
   ],
   "source": [
    "# Load the pretrained models for each slice direction\n",
    "model_axial = nets.resnet18(pretrained=False, spatial_dims=2, n_input_channels=64, num_classes=n_classes).to(device)\n",
    "model_coronal = nets.resnet18(pretrained=False, spatial_dims=2, n_input_channels=64, num_classes=n_classes).to(device)\n",
    "model_sagittal = nets.resnet18(pretrained=False, spatial_dims=2, n_input_channels=64, num_classes=n_classes).to(device)\n",
    "\n",
    "# Load the trained weights for each model\n",
    "model_axial.load_state_dict(torch.load(os.path.join(root_dir, \"axial_full_unpretrained.pth\"), weights_only=True))\n",
    "model_coronal.load_state_dict(torch.load(os.path.join(root_dir, \"coronal_full_unpretrained.pth\"), weights_only=True))\n",
    "model_sagittal.load_state_dict(torch.load(os.path.join(root_dir, \"sagittal_full_unpretrained.pth\"), weights_only=True))"
   ]
  },
  {
   "cell_type": "code",
   "execution_count": 95,
   "metadata": {},
   "outputs": [],
   "source": [
    "train_loader_3d = DataLoader(train_dataset, batch_size=32, shuffle=True)\n",
    "val_loader_3d = DataLoader(val_dataset, batch_size=32, shuffle=True)\n",
    "test_loader_3d = DataLoader(test_dataset, batch_size=32, shuffle=False)"
   ]
  },
  {
   "cell_type": "code",
   "execution_count": 96,
   "metadata": {},
   "outputs": [],
   "source": [
    "balanced_model = BalancedResNetModel(model_axial, model_coronal, model_sagittal, accuracies=list(results.values()),\n",
    "                                     num_classes=n_classes).to(device)\n",
    "\n",
    "loss_function = torch.nn.CrossEntropyLoss()\n",
    "optimizer = torch.optim.Adam(balanced_model.fc.parameters(), lr=0.0005)"
   ]
  },
  {
   "cell_type": "code",
   "execution_count": 97,
   "metadata": {},
   "outputs": [
    {
     "name": "stdout",
     "output_type": "stream",
     "text": [
      "Epoch 1, Loss: 2.0295510791963145\n",
      "Epoch 2, Loss: 1.375931320651885\n",
      "Epoch 3, Loss: 1.0128156850414891\n",
      "Epoch 4, Loss: 0.7971276717801248\n",
      "Epoch 5, Loss: 0.675229347521259\n",
      "Epoch 6, Loss: 0.5847486786303981\n",
      "Epoch 7, Loss: 0.5445513686826152\n",
      "Epoch 8, Loss: 0.48613434645437426\n",
      "Epoch 9, Loss: 0.439799161687974\n",
      "Epoch 10, Loss: 0.42122440664998945\n",
      "Epoch 11, Loss: 0.41678847228327104\n",
      "Epoch 12, Loss: 0.38383635590153353\n",
      "Epoch 13, Loss: 0.3805273886649839\n",
      "Epoch 14, Loss: 0.3640369806558855\n",
      "Epoch 15, Loss: 0.35524896508263004\n",
      "Epoch 16, Loss: 0.34648893773555756\n",
      "Epoch 17, Loss: 0.32300256048479387\n",
      "Epoch 18, Loss: 0.3139996124852088\n",
      "Epoch 19, Loss: 0.32641725386342696\n",
      "Epoch 20, Loss: 0.3119015174527322\n",
      "Epoch 21, Loss: 0.3031701356653244\n",
      "Epoch 22, Loss: 0.3090473278876274\n",
      "Epoch 23, Loss: 0.29721245361912635\n",
      "Epoch 24, Loss: 0.28376555875424414\n",
      "Epoch 25, Loss: 0.30094402692010325\n",
      "Epoch 26, Loss: 0.25726982278208577\n",
      "Epoch 27, Loss: 0.2867861507881072\n",
      "Epoch 28, Loss: 0.2661821296618831\n",
      "Epoch 29, Loss: 0.25689150585282233\n",
      "Epoch 30, Loss: 0.2473093670222067\n"
     ]
    }
   ],
   "source": [
    "start_time = time.time()\n",
    "process = psutil.Process()\n",
    "start_cpu = process.cpu_times()\n",
    "start_mem = process.memory_info().rss / 1024**2  # В MB\n",
    "\n",
    "if device.type == \"cuda\":\n",
    "    torch.cuda.synchronize()\n",
    "    torch.cuda.reset_peak_memory_stats()\n",
    "\n",
    "for epoch in range(30):\n",
    "    balanced_model.train()\n",
    "    running_loss = 0.0\n",
    "    for data in train_loader_3d:\n",
    "        images, labels = data\n",
    "        images, labels = images.to(device), labels.type(torch.LongTensor).to(device)\n",
    "\n",
    "        optimizer.zero_grad()\n",
    "\n",
    "        outputs = balanced_model(images)\n",
    "        loss = loss_function(outputs, labels[:, 0])\n",
    "\n",
    "        loss.backward()\n",
    "        optimizer.step()\n",
    "\n",
    "        running_loss += loss.item()\n",
    "\n",
    "    print(f\"Epoch {epoch+1}, Loss: {running_loss/len(train_loader_3d)}\")"
   ]
  },
  {
   "cell_type": "code",
   "execution_count": 98,
   "metadata": {},
   "outputs": [
    {
     "name": "stdout",
     "output_type": "stream",
     "text": [
      "Training time: 58.93 seconds\n",
      "CPU time used: 705.44 seconds\n",
      "Memory used: 12.86 MB\n",
      "GPU Memory Used: 398.82 MB\n",
      "Max GPU Memory Used: 1204.31 MB\n"
     ]
    }
   ],
   "source": [
    "end_time = time.time()\n",
    "end_cpu = process.cpu_times()\n",
    "end_mem = process.memory_info().rss / 1024**2\n",
    "\n",
    "cpu_time = (end_cpu.user + end_cpu.system) - (start_cpu.user + start_cpu.system)\n",
    "memory_used = end_mem - start_mem\n",
    "\n",
    "print(f\"Training time: {end_time - start_time:.2f} seconds\")\n",
    "print(f\"CPU time used: {cpu_time:.2f} seconds\")\n",
    "print(f\"Memory used: {memory_used:.2f} MB\")\n",
    "\n",
    "if device.type == \"cuda\":\n",
    "    torch.cuda.synchronize()\n",
    "    print(f\"GPU Memory Used: {torch.cuda.memory_allocated() / 1024**2:.2f} MB\")\n",
    "    print(f\"Max GPU Memory Used: {torch.cuda.max_memory_allocated() / 1024**2:.2f} MB\")\n"
   ]
  },
  {
   "cell_type": "code",
   "execution_count": 99,
   "metadata": {},
   "outputs": [
    {
     "name": "stdout",
     "output_type": "stream",
     "text": [
      "VRAM currently used: 398.82 MB\n",
      "Max VRAM used during training: 1204.31 MB\n"
     ]
    }
   ],
   "source": [
    "if device.type == \"cuda\":\n",
    "    torch.cuda.synchronize()\n",
    "    vram_used = torch.cuda.memory_allocated() / 1024**2\n",
    "    vram_max_used = torch.cuda.max_memory_allocated() / 1024**2\n",
    "\n",
    "    print(f\"VRAM currently used: {vram_used:.2f} MB\")\n",
    "    print(f\"Max VRAM used during training: {vram_max_used:.2f} MB\")\n"
   ]
  },
  {
   "cell_type": "code",
   "execution_count": 100,
   "metadata": {},
   "outputs": [
    {
     "name": "stdout",
     "output_type": "stream",
     "text": [
      "Validation AUC: 1.0000\n"
     ]
    }
   ],
   "source": [
    "balanced_model.eval()\n",
    "with torch.no_grad():\n",
    "    y_pred = torch.tensor([], dtype=torch.float32, device=device)\n",
    "    y = torch.tensor([], dtype=torch.long, device=device)\n",
    "    for val_data in val_loader_3d:\n",
    "        val_images, val_labels = val_data\n",
    "\n",
    "        output = balanced_model(val_images.to(device), )\n",
    "        \n",
    "        y_pred = torch.cat([y_pred, output], dim=0)\n",
    "        y = torch.cat([y, val_labels.to(device)], dim=0)\n",
    "\n",
    "    # Evaluate AUC and accuracy\n",
    "    y_onehot = [y_trans(i) for i in decollate_batch(y, detach=False)]\n",
    "    y_pred_act = [y_pred_trans(i) for i in decollate_batch(y_pred)]\n",
    "    auc_metric(y_pred_act, y_onehot)\n",
    "    result = auc_metric.aggregate()\n",
    "    auc_metric.reset()\n",
    "\n",
    "    print(f\"Validation AUC: {result:.4f}\")"
   ]
  },
  {
   "cell_type": "code",
   "execution_count": 101,
   "metadata": {},
   "outputs": [
    {
     "name": "stdout",
     "output_type": "stream",
     "text": [
      "Test AUC: 0.9886\n"
     ]
    }
   ],
   "source": [
    "balanced_model.eval()\n",
    "y_true = []\n",
    "y_predicted = []\n",
    "example_image = []\n",
    "example_preds = []\n",
    "example_labels = []\n",
    "\n",
    "with torch.no_grad():\n",
    "    y_pred = torch.tensor([], dtype=torch.float32, device=device)\n",
    "    y = torch.tensor([], dtype=torch.long, device=device)\n",
    "    for test_data in test_loader_3d:\n",
    "        test_images, test_labels = test_data\n",
    "\n",
    "        output = balanced_model(test_images.to(device))\n",
    "        pred = output.argmax(dim=1)\n",
    "        \n",
    "        for i in range(len(pred)):\n",
    "            y_true.append(test_labels[i].item())\n",
    "            y_predicted.append(pred[i].item())\n",
    "\n",
    "        y_pred = torch.cat([y_pred, output], dim=0)\n",
    "        y = torch.cat([y, test_labels.to(device)], dim=0)\n",
    "\n",
    "    # Evaluate AUC and accuracy\n",
    "    y_onehot = [y_trans(i) for i in decollate_batch(y, detach=False)]\n",
    "    y_pred_act = [y_pred_trans(i) for i in decollate_batch(y_pred)]\n",
    "    auc_metric(y_pred_act, y_onehot)\n",
    "    result = auc_metric.aggregate()\n",
    "    auc_metric.reset()\n",
    "\n",
    "    print(f\"Test AUC: {result:.4f}\")"
   ]
  },
  {
   "cell_type": "code",
   "execution_count": 102,
   "metadata": {
    "scrolled": true
   },
   "outputs": [
    {
     "name": "stdout",
     "output_type": "stream",
     "text": [
      "              precision    recall  f1-score   support\n",
      "\n",
      "           0     0.9857    1.0000    0.9928        69\n",
      "           1     0.8387    0.7647    0.8000        68\n",
      "           2     0.6962    0.7971    0.7432        69\n",
      "           3     0.8000    0.8615    0.8296        65\n",
      "           4     0.8793    0.7846    0.8293        65\n",
      "           5     0.8333    0.9091    0.8696        66\n",
      "           6     1.0000    0.8929    0.9434        28\n",
      "           7     1.0000    0.9524    0.9756        21\n",
      "           8     0.9130    1.0000    0.9545        21\n",
      "           9     0.9355    0.8406    0.8855        69\n",
      "          10     0.9275    0.9275    0.9275        69\n",
      "\n",
      "    accuracy                         0.8705       610\n",
      "   macro avg     0.8918    0.8846    0.8865       610\n",
      "weighted avg     0.8753    0.8705    0.8712       610\n",
      "\n"
     ]
    }
   ],
   "source": [
    "report = classification_report(y_true, y_predicted, target_names=info['label'], digits=4, output_dict=True)\n",
    "report.update({\"AUC\": f\"{result:.4f}\"})\n",
    "print(classification_report(y_true, y_predicted, target_names=info['label'], digits=4))"
   ]
  },
  {
   "cell_type": "code",
   "execution_count": 103,
   "metadata": {},
   "outputs": [],
   "source": [
    "df = pd.DataFrame(report).transpose()\n",
    "df.to_csv(f'balanced_unpretrained_full_seed{seed}.csv')"
   ]
  },
  {
   "cell_type": "code",
   "execution_count": 104,
   "metadata": {},
   "outputs": [
    {
     "name": "stdout",
     "output_type": "stream",
     "text": [
      "VRAM currently used: 398.82 MB\n",
      "Max VRAM used during training: 1204.31 MB\n"
     ]
    }
   ],
   "source": [
    "if device.type == \"cuda\":\n",
    "    torch.cuda.synchronize()\n",
    "    vram_used = torch.cuda.memory_allocated() / 1024**2\n",
    "    vram_max_used = torch.cuda.max_memory_allocated() / 1024**2\n",
    "\n",
    "    print(f\"VRAM currently used: {vram_used:.2f} MB\")\n",
    "    print(f\"Max VRAM used during training: {vram_max_used:.2f} MB\")\n"
   ]
  },
  {
   "cell_type": "markdown",
   "metadata": {},
   "source": [
    "### Pretrained"
   ]
  },
  {
   "cell_type": "code",
   "execution_count": 105,
   "metadata": {},
   "outputs": [],
   "source": [
    "model_names = ['axial_full_pretrained', 'coronal_full_pretrained', 'sagittal_full_pretrained']\n",
    "csv_files = {\n",
    "    model: glob.glob(f\"{model}_seed{seed}.csv\")\n",
    "    for model in model_names\n",
    "}"
   ]
  },
  {
   "cell_type": "code",
   "execution_count": 106,
   "metadata": {},
   "outputs": [],
   "source": [
    "results = {}\n",
    "for model, files in csv_files.items():\n",
    "    model_metrics = []\n",
    "    for file in files:\n",
    "        metrics = extract_metrics(file)\n",
    "    results[model] = metrics"
   ]
  },
  {
   "cell_type": "code",
   "execution_count": 107,
   "metadata": {},
   "outputs": [
    {
     "data": {
      "text/plain": [
       "{'axial_full_pretrained': 0.839344262295082,\n",
       " 'coronal_full_pretrained': 0.8131147540983606,\n",
       " 'sagittal_full_pretrained': 0.7819672131147541}"
      ]
     },
     "execution_count": 107,
     "metadata": {},
     "output_type": "execute_result"
    }
   ],
   "source": [
    "results"
   ]
  },
  {
   "cell_type": "code",
   "execution_count": 108,
   "metadata": {},
   "outputs": [
    {
     "name": "stdout",
     "output_type": "stream",
     "text": [
      "[0.3447811447811448, 0.33400673400673403, 0.3212121212121212]\n"
     ]
    }
   ],
   "source": [
    "accuracies = list(results.values())\n",
    "total_acc = sum(accuracies)\n",
    "print([acc / total_acc for acc in accuracies])"
   ]
  },
  {
   "cell_type": "code",
   "execution_count": 109,
   "metadata": {},
   "outputs": [
    {
     "name": "stderr",
     "output_type": "stream",
     "text": [
      "/opt/conda/lib/python3.10/site-packages/torchvision/models/_utils.py:208: UserWarning: The parameter 'pretrained' is deprecated since 0.13 and may be removed in the future, please use 'weights' instead.\n",
      "  warnings.warn(\n",
      "/opt/conda/lib/python3.10/site-packages/torchvision/models/_utils.py:223: UserWarning: Arguments other than a weight enum or `None` for 'weights' are deprecated since 0.13 and may be removed in the future. The current behavior is equivalent to passing `weights=ResNet18_Weights.IMAGENET1K_V1`. You can also use `weights=ResNet18_Weights.DEFAULT` to get the most up-to-date weights.\n",
      "  warnings.warn(msg)\n"
     ]
    },
    {
     "data": {
      "text/plain": [
       "<All keys matched successfully>"
      ]
     },
     "execution_count": 109,
     "metadata": {},
     "output_type": "execute_result"
    }
   ],
   "source": [
    "# Load the pretrained models for each slice direction\n",
    "model = models.resnet18(pretrained=True).to(device)\n",
    "model.conv1 = nn.Conv2d(64, 64, kernel_size=7, stride=2, padding=3, bias=False)\n",
    "model.fc = nn.Linear(model.fc.in_features, n_classes)\n",
    "model_axial = model.to(device)\n",
    "model_coronal = model.to(device)\n",
    "model_sagittal = model.to(device)\n",
    "\n",
    "# Load the trained weights for each model\n",
    "model_axial.load_state_dict(torch.load(os.path.join(root_dir, \"axial_full_pretrained.pth\"), weights_only=True))\n",
    "model_coronal.load_state_dict(torch.load(os.path.join(root_dir, \"coronal_full_pretrained.pth\"), weights_only=True))\n",
    "model_sagittal.load_state_dict(torch.load(os.path.join(root_dir, \"sagittal_full_pretrained.pth\"), weights_only=True))"
   ]
  },
  {
   "cell_type": "code",
   "execution_count": 110,
   "metadata": {},
   "outputs": [],
   "source": [
    "train_loader_3d = DataLoader(train_dataset, batch_size=32, shuffle=True)\n",
    "val_loader_3d = DataLoader(val_dataset, batch_size=32, shuffle=True)\n",
    "test_loader_3d = DataLoader(test_dataset, batch_size=32, shuffle=False)"
   ]
  },
  {
   "cell_type": "code",
   "execution_count": 111,
   "metadata": {},
   "outputs": [],
   "source": [
    "balanced_model = BalancedResNetModel(model_axial, model_coronal, model_sagittal, accuracies=list(results.values()),\n",
    "                                     num_classes=n_classes).to(device)\n",
    "\n",
    "loss_function = torch.nn.CrossEntropyLoss()\n",
    "optimizer = torch.optim.Adam(balanced_model.fc.parameters(), lr=0.0005)"
   ]
  },
  {
   "cell_type": "code",
   "execution_count": 112,
   "metadata": {},
   "outputs": [
    {
     "name": "stdout",
     "output_type": "stream",
     "text": [
      "Epoch 1, Loss: 1.8393016207602717\n",
      "Epoch 2, Loss: 1.0838814166284376\n",
      "Epoch 3, Loss: 0.8708828649213237\n",
      "Epoch 4, Loss: 0.7687495235473879\n",
      "Epoch 5, Loss: 0.6997238464893833\n",
      "Epoch 6, Loss: 0.6403621752415934\n",
      "Epoch 7, Loss: 0.6278186046308086\n",
      "Epoch 8, Loss: 0.5996637709679142\n",
      "Epoch 9, Loss: 0.5494015457168702\n",
      "Epoch 10, Loss: 0.5482851939816629\n",
      "Epoch 11, Loss: 0.5344914611308805\n",
      "Epoch 12, Loss: 0.49762056335326166\n",
      "Epoch 13, Loss: 0.517959592803832\n",
      "Epoch 14, Loss: 0.4790127162010439\n",
      "Epoch 15, Loss: 0.4803391291249183\n",
      "Epoch 16, Loss: 0.4786541558081104\n",
      "Epoch 17, Loss: 0.45046219085493394\n",
      "Epoch 18, Loss: 0.4445208065932797\n",
      "Epoch 19, Loss: 0.43229327278752483\n",
      "Epoch 20, Loss: 0.4229451879378288\n",
      "Epoch 21, Loss: 0.4292127663089383\n",
      "Epoch 22, Loss: 0.4301604354573834\n",
      "Epoch 23, Loss: 0.4030594522914579\n",
      "Epoch 24, Loss: 0.3907691720993288\n",
      "Epoch 25, Loss: 0.39468215502077536\n",
      "Epoch 26, Loss: 0.37151944589230324\n",
      "Epoch 27, Loss: 0.401676106837488\n",
      "Epoch 28, Loss: 0.3643879424179754\n",
      "Epoch 29, Loss: 0.3629379286881416\n",
      "Epoch 30, Loss: 0.3456932210153149\n"
     ]
    }
   ],
   "source": [
    "start_time = time.time()\n",
    "process = psutil.Process()\n",
    "start_cpu = process.cpu_times()\n",
    "start_mem = process.memory_info().rss / 1024**2  # В MB\n",
    "\n",
    "if device.type == \"cuda\":\n",
    "    torch.cuda.synchronize()\n",
    "    torch.cuda.reset_peak_memory_stats()\n",
    "\n",
    "for epoch in range(30):\n",
    "    balanced_model.train()\n",
    "    running_loss = 0.0\n",
    "    for data in train_loader_3d:\n",
    "        images, labels = data\n",
    "        images, labels = images.to(device), labels.type(torch.LongTensor).to(device)\n",
    "\n",
    "        optimizer.zero_grad()\n",
    "\n",
    "        outputs = balanced_model(images)\n",
    "        loss = loss_function(outputs, labels[:, 0])\n",
    "\n",
    "        loss.backward()\n",
    "        optimizer.step()\n",
    "\n",
    "        running_loss += loss.item()\n",
    "\n",
    "    print(f\"Epoch {epoch+1}, Loss: {running_loss/len(train_loader_3d)}\")"
   ]
  },
  {
   "cell_type": "code",
   "execution_count": 113,
   "metadata": {},
   "outputs": [
    {
     "name": "stdout",
     "output_type": "stream",
     "text": [
      "Training time: 42.28 seconds\n",
      "CPU time used: 506.34 seconds\n",
      "Memory used: 0.85 MB\n",
      "GPU Memory Used: 219.94 MB\n",
      "Max GPU Memory Used: 764.38 MB\n"
     ]
    }
   ],
   "source": [
    "end_time = time.time()\n",
    "end_cpu = process.cpu_times()\n",
    "end_mem = process.memory_info().rss / 1024**2\n",
    "\n",
    "cpu_time = (end_cpu.user + end_cpu.system) - (start_cpu.user + start_cpu.system)\n",
    "memory_used = end_mem - start_mem\n",
    "\n",
    "print(f\"Training time: {end_time - start_time:.2f} seconds\")\n",
    "print(f\"CPU time used: {cpu_time:.2f} seconds\")\n",
    "print(f\"Memory used: {memory_used:.2f} MB\")\n",
    "\n",
    "if device.type == \"cuda\":\n",
    "    torch.cuda.synchronize()\n",
    "    print(f\"GPU Memory Used: {torch.cuda.memory_allocated() / 1024**2:.2f} MB\")\n",
    "    print(f\"Max GPU Memory Used: {torch.cuda.max_memory_allocated() / 1024**2:.2f} MB\")\n"
   ]
  },
  {
   "cell_type": "code",
   "execution_count": 114,
   "metadata": {},
   "outputs": [
    {
     "name": "stdout",
     "output_type": "stream",
     "text": [
      "VRAM currently used: 219.94 MB\n",
      "Max VRAM used during training: 764.38 MB\n"
     ]
    }
   ],
   "source": [
    "if device.type == \"cuda\":\n",
    "    torch.cuda.synchronize()\n",
    "    vram_used = torch.cuda.memory_allocated() / 1024**2\n",
    "    vram_max_used = torch.cuda.max_memory_allocated() / 1024**2\n",
    "\n",
    "    print(f\"VRAM currently used: {vram_used:.2f} MB\")\n",
    "    print(f\"Max VRAM used during training: {vram_max_used:.2f} MB\")\n"
   ]
  },
  {
   "cell_type": "code",
   "execution_count": 115,
   "metadata": {},
   "outputs": [
    {
     "name": "stdout",
     "output_type": "stream",
     "text": [
      "Validation AUC: 0.9988\n"
     ]
    }
   ],
   "source": [
    "balanced_model.eval()\n",
    "with torch.no_grad():\n",
    "    y_pred = torch.tensor([], dtype=torch.float32, device=device)\n",
    "    y = torch.tensor([], dtype=torch.long, device=device)\n",
    "    for val_data in val_loader_3d:\n",
    "        val_images, val_labels = val_data\n",
    "\n",
    "        output = balanced_model(val_images.to(device), )\n",
    "        \n",
    "        y_pred = torch.cat([y_pred, output], dim=0)\n",
    "        y = torch.cat([y, val_labels.to(device)], dim=0)\n",
    "\n",
    "    # Evaluate AUC and accuracy\n",
    "    y_onehot = [y_trans(i) for i in decollate_batch(y, detach=False)]\n",
    "    y_pred_act = [y_pred_trans(i) for i in decollate_batch(y_pred)]\n",
    "    auc_metric(y_pred_act, y_onehot)\n",
    "    result = auc_metric.aggregate()\n",
    "    auc_metric.reset()\n",
    "\n",
    "    print(f\"Validation AUC: {result:.4f}\")"
   ]
  },
  {
   "cell_type": "code",
   "execution_count": 116,
   "metadata": {},
   "outputs": [
    {
     "name": "stdout",
     "output_type": "stream",
     "text": [
      "Test AUC: 0.9757\n"
     ]
    }
   ],
   "source": [
    "balanced_model.eval()\n",
    "y_true = []\n",
    "y_predicted = []\n",
    "example_image = []\n",
    "example_preds = []\n",
    "example_labels = []\n",
    "\n",
    "with torch.no_grad():\n",
    "    y_pred = torch.tensor([], dtype=torch.float32, device=device)\n",
    "    y = torch.tensor([], dtype=torch.long, device=device)\n",
    "    for test_data in test_loader_3d:\n",
    "        test_images, test_labels = test_data\n",
    "\n",
    "        output = balanced_model(test_images.to(device))\n",
    "        pred = output.argmax(dim=1)\n",
    "        \n",
    "        for i in range(len(pred)):\n",
    "            y_true.append(test_labels[i].item())\n",
    "            y_predicted.append(pred[i].item())\n",
    "\n",
    "        y_pred = torch.cat([y_pred, output], dim=0)\n",
    "        y = torch.cat([y, test_labels.to(device)], dim=0)\n",
    "\n",
    "    # Evaluate AUC and accuracy\n",
    "    y_onehot = [y_trans(i) for i in decollate_batch(y, detach=False)]\n",
    "    y_pred_act = [y_pred_trans(i) for i in decollate_batch(y_pred)]\n",
    "    auc_metric(y_pred_act, y_onehot)\n",
    "    result = auc_metric.aggregate()\n",
    "    auc_metric.reset()\n",
    "\n",
    "    print(f\"Test AUC: {result:.4f}\")"
   ]
  },
  {
   "cell_type": "code",
   "execution_count": 117,
   "metadata": {
    "scrolled": true
   },
   "outputs": [
    {
     "name": "stdout",
     "output_type": "stream",
     "text": [
      "              precision    recall  f1-score   support\n",
      "\n",
      "           0     0.9178    0.9710    0.9437        69\n",
      "           1     0.6522    0.6618    0.6569        68\n",
      "           2     0.6452    0.5797    0.6107        69\n",
      "           3     0.6667    0.8923    0.7632        65\n",
      "           4     0.9286    0.6000    0.7290        65\n",
      "           5     0.7089    0.8485    0.7724        66\n",
      "           6     1.0000    0.8571    0.9231        28\n",
      "           7     0.9130    1.0000    0.9545        21\n",
      "           8     0.9048    0.9048    0.9048        21\n",
      "           9     0.9194    0.8261    0.8702        69\n",
      "          10     0.8235    0.8116    0.8175        69\n",
      "\n",
      "    accuracy                         0.7902       610\n",
      "   macro avg     0.8254    0.8139    0.8133       610\n",
      "weighted avg     0.8018    0.7902    0.7889       610\n",
      "\n"
     ]
    }
   ],
   "source": [
    "report = classification_report(y_true, y_predicted, target_names=info['label'], digits=4, output_dict=True)\n",
    "report.update({\"AUC\": f\"{result:.4f}\"})\n",
    "print(classification_report(y_true, y_predicted, target_names=info['label'], digits=4))"
   ]
  },
  {
   "cell_type": "code",
   "execution_count": 118,
   "metadata": {},
   "outputs": [],
   "source": [
    "df = pd.DataFrame(report).transpose()\n",
    "df.to_csv(f'balanced_pretrained_full_seed{seed}.csv')"
   ]
  },
  {
   "cell_type": "code",
   "execution_count": 119,
   "metadata": {},
   "outputs": [
    {
     "name": "stdout",
     "output_type": "stream",
     "text": [
      "VRAM currently used: 219.94 MB\n",
      "Max VRAM used during training: 764.38 MB\n"
     ]
    }
   ],
   "source": [
    "if device.type == \"cuda\":\n",
    "    torch.cuda.synchronize()\n",
    "    vram_used = torch.cuda.memory_allocated() / 1024**2\n",
    "    vram_max_used = torch.cuda.max_memory_allocated() / 1024**2\n",
    "\n",
    "    print(f\"VRAM currently used: {vram_used:.2f} MB\")\n",
    "    print(f\"Max VRAM used during training: {vram_max_used:.2f} MB\")\n"
   ]
  },
  {
   "cell_type": "markdown",
   "metadata": {},
   "source": [
    "## Weighted concatenation"
   ]
  },
  {
   "cell_type": "code",
   "execution_count": 120,
   "metadata": {},
   "outputs": [],
   "source": [
    "class HyperNetwork(nn.Module):\n",
    "    def __init__(self, model_axial, model_coronal, model_sagittal, num_classes=11):\n",
    "        super(HyperNetwork, self).__init__()\n",
    "        \n",
    "        # Load pretrained 2D models (without their final classification layers)\n",
    "        self.model_axial = nn.Sequential(*list(model_axial.children())[:-1])\n",
    "        self.model_coronal = nn.Sequential(*list(model_coronal.children())[:-1])\n",
    "        self.model_sagittal = nn.Sequential(*list(model_sagittal.children())[:-1])\n",
    "        \n",
    "        # Hypernetwork for weighting the features\n",
    "        self.hyper_fc = nn.Sequential(\n",
    "            nn.Linear(512 * 3, 256),\n",
    "            nn.ReLU(),\n",
    "            nn.Linear(256, 512 * 3),\n",
    "            nn.Sigmoid()\n",
    "        )\n",
    "        \n",
    "        # Final classification layer\n",
    "        self.fc = nn.Linear(512 * 3, num_classes)\n",
    "\n",
    "    def forward(self, x):\n",
    "\n",
    "        axial = x[:, 0].to(torch.float32)\n",
    "        coronal = x[:, 0].permute(0, 2, 3, 1).to(torch.float32)\n",
    "        sagittal = x[:, 0].permute(0, 3, 1, 2).to(torch.float32)\n",
    "        \n",
    "        features_axial = self.model_axial(axial).flatten(1)\n",
    "        features_coronal = self.model_coronal(coronal).flatten(1)\n",
    "        features_sagittal = self.model_sagittal(sagittal).flatten(1)\n",
    "        \n",
    "        combined_features = torch.cat([features_axial, features_coronal, features_sagittal], dim=1)\n",
    "        \n",
    "        # Apply hypernetwork to decide weights\n",
    "        weights = self.hyper_fc(combined_features)\n",
    "        combined_weighted_features = combined_features * weights\n",
    "        \n",
    "        # Final classification\n",
    "        out = self.fc(combined_weighted_features)\n",
    "        return out"
   ]
  },
  {
   "cell_type": "code",
   "execution_count": 121,
   "metadata": {},
   "outputs": [],
   "source": [
    "train_loader_3d = DataLoader(train_dataset, batch_size=32, shuffle=True)\n",
    "val_loader_3d = DataLoader(val_dataset, batch_size=32, shuffle=True)\n",
    "test_loader_3d = DataLoader(test_dataset, batch_size=32, shuffle=False)"
   ]
  },
  {
   "cell_type": "code",
   "execution_count": 122,
   "metadata": {},
   "outputs": [],
   "source": [
    "device = torch.device(\"cuda\" if torch.cuda.is_available() else \"cpu\")"
   ]
  },
  {
   "cell_type": "code",
   "execution_count": 123,
   "metadata": {},
   "outputs": [
    {
     "data": {
      "text/plain": [
       "<All keys matched successfully>"
      ]
     },
     "execution_count": 123,
     "metadata": {},
     "output_type": "execute_result"
    }
   ],
   "source": [
    "# Load the pretrained models for each slice direction\n",
    "model_axial = nets.resnet18(pretrained=False, spatial_dims=2, n_input_channels=64, num_classes=n_classes).to(device)\n",
    "model_coronal = nets.resnet18(pretrained=False, spatial_dims=2, n_input_channels=64, num_classes=n_classes).to(device)\n",
    "model_sagittal = nets.resnet18(pretrained=False, spatial_dims=2, n_input_channels=64, num_classes=n_classes).to(device)\n",
    "\n",
    "# Load the trained weights for each model\n",
    "model_axial.load_state_dict(torch.load(os.path.join(root_dir, \"axial_full_unpretrained.pth\"), weights_only=True))\n",
    "model_coronal.load_state_dict(torch.load(os.path.join(root_dir, \"coronal_full_unpretrained.pth\"), weights_only=True))\n",
    "model_sagittal.load_state_dict(torch.load(os.path.join(root_dir, \"sagittal_full_unpretrained.pth\"), weights_only=True))"
   ]
  },
  {
   "cell_type": "code",
   "execution_count": 124,
   "metadata": {},
   "outputs": [],
   "source": [
    "# Initialize the hypernetwork\n",
    "hypernetwork = HyperNetwork(model_axial, model_coronal, model_sagittal, num_classes=11).to(device)\n",
    "\n",
    "loss_function = torch.nn.CrossEntropyLoss()\n",
    "optimizer = torch.optim.Adam(hypernetwork.fc.parameters(), lr=0.00005)"
   ]
  },
  {
   "cell_type": "code",
   "execution_count": 125,
   "metadata": {},
   "outputs": [
    {
     "name": "stderr",
     "output_type": "stream",
     "text": [
      "Epochs:   3%|▎         | 1/30 [00:01<00:55,  1.91s/it]"
     ]
    },
    {
     "name": "stdout",
     "output_type": "stream",
     "text": [
      "Epoch 1, Loss: 2.3069998756531747\n"
     ]
    },
    {
     "name": "stderr",
     "output_type": "stream",
     "text": [
      "Epochs:   7%|▋         | 2/30 [00:03<00:53,  1.91s/it]"
     ]
    },
    {
     "name": "stdout",
     "output_type": "stream",
     "text": [
      "Epoch 2, Loss: 2.0641700490828483\n"
     ]
    },
    {
     "name": "stderr",
     "output_type": "stream",
     "text": [
      "Epochs:  10%|█         | 3/30 [00:05<00:51,  1.92s/it]"
     ]
    },
    {
     "name": "stdout",
     "output_type": "stream",
     "text": [
      "Epoch 3, Loss: 1.871732246491217\n"
     ]
    },
    {
     "name": "stderr",
     "output_type": "stream",
     "text": [
      "Epochs:  13%|█▎        | 4/30 [00:07<00:49,  1.91s/it]"
     ]
    },
    {
     "name": "stdout",
     "output_type": "stream",
     "text": [
      "Epoch 4, Loss: 1.6946566873981106\n"
     ]
    },
    {
     "name": "stderr",
     "output_type": "stream",
     "text": [
      "Epochs:  17%|█▋        | 5/30 [00:09<00:47,  1.92s/it]"
     ]
    },
    {
     "name": "stdout",
     "output_type": "stream",
     "text": [
      "Epoch 5, Loss: 1.5534669237752115\n"
     ]
    },
    {
     "name": "stderr",
     "output_type": "stream",
     "text": [
      "Epochs:  20%|██        | 6/30 [00:11<00:46,  1.92s/it]"
     ]
    },
    {
     "name": "stdout",
     "output_type": "stream",
     "text": [
      "Epoch 6, Loss: 1.4210019919180101\n"
     ]
    },
    {
     "name": "stderr",
     "output_type": "stream",
     "text": [
      "Epochs:  23%|██▎       | 7/30 [00:13<00:44,  1.92s/it]"
     ]
    },
    {
     "name": "stdout",
     "output_type": "stream",
     "text": [
      "Epoch 7, Loss: 1.3074285907130088\n"
     ]
    },
    {
     "name": "stderr",
     "output_type": "stream",
     "text": [
      "Epochs:  27%|██▋       | 8/30 [00:15<00:42,  1.92s/it]"
     ]
    },
    {
     "name": "stdout",
     "output_type": "stream",
     "text": [
      "Epoch 8, Loss: 1.2094454957592873\n"
     ]
    },
    {
     "name": "stderr",
     "output_type": "stream",
     "text": [
      "Epochs:  30%|███       | 9/30 [00:17<00:40,  1.92s/it]"
     ]
    },
    {
     "name": "stdout",
     "output_type": "stream",
     "text": [
      "Epoch 9, Loss: 1.1238294416858303\n"
     ]
    },
    {
     "name": "stderr",
     "output_type": "stream",
     "text": [
      "Epochs:  33%|███▎      | 10/30 [00:19<00:38,  1.93s/it]"
     ]
    },
    {
     "name": "stdout",
     "output_type": "stream",
     "text": [
      "Epoch 10, Loss: 1.0610010777750323\n"
     ]
    },
    {
     "name": "stderr",
     "output_type": "stream",
     "text": [
      "Epochs:  37%|███▋      | 11/30 [00:21<00:36,  1.93s/it]"
     ]
    },
    {
     "name": "stdout",
     "output_type": "stream",
     "text": [
      "Epoch 11, Loss: 0.9956002331549122\n"
     ]
    },
    {
     "name": "stderr",
     "output_type": "stream",
     "text": [
      "Epochs:  40%|████      | 12/30 [00:23<00:34,  1.92s/it]"
     ]
    },
    {
     "name": "stdout",
     "output_type": "stream",
     "text": [
      "Epoch 12, Loss: 0.9498634453742735\n"
     ]
    },
    {
     "name": "stderr",
     "output_type": "stream",
     "text": [
      "Epochs:  43%|████▎     | 13/30 [00:24<00:32,  1.92s/it]"
     ]
    },
    {
     "name": "stdout",
     "output_type": "stream",
     "text": [
      "Epoch 13, Loss: 0.8902719962981439\n"
     ]
    },
    {
     "name": "stderr",
     "output_type": "stream",
     "text": [
      "Epochs:  47%|████▋     | 14/30 [00:26<00:30,  1.93s/it]"
     ]
    },
    {
     "name": "stdout",
     "output_type": "stream",
     "text": [
      "Epoch 14, Loss: 0.8431832405828661\n"
     ]
    },
    {
     "name": "stderr",
     "output_type": "stream",
     "text": [
      "Epochs:  50%|█████     | 15/30 [00:28<00:28,  1.93s/it]"
     ]
    },
    {
     "name": "stdout",
     "output_type": "stream",
     "text": [
      "Epoch 15, Loss: 0.8127493916019317\n"
     ]
    },
    {
     "name": "stderr",
     "output_type": "stream",
     "text": [
      "Epochs:  53%|█████▎    | 16/30 [00:30<00:26,  1.92s/it]"
     ]
    },
    {
     "name": "stdout",
     "output_type": "stream",
     "text": [
      "Epoch 16, Loss: 0.7732563287981095\n"
     ]
    },
    {
     "name": "stderr",
     "output_type": "stream",
     "text": [
      "Epochs:  57%|█████▋    | 17/30 [00:32<00:24,  1.92s/it]"
     ]
    },
    {
     "name": "stdout",
     "output_type": "stream",
     "text": [
      "Epoch 17, Loss: 0.7553336851058468\n"
     ]
    },
    {
     "name": "stderr",
     "output_type": "stream",
     "text": [
      "Epochs:  60%|██████    | 18/30 [00:34<00:22,  1.91s/it]"
     ]
    },
    {
     "name": "stdout",
     "output_type": "stream",
     "text": [
      "Epoch 18, Loss: 0.7230213553674759\n"
     ]
    },
    {
     "name": "stderr",
     "output_type": "stream",
     "text": [
      "Epochs:  63%|██████▎   | 19/30 [00:36<00:21,  1.91s/it]"
     ]
    },
    {
     "name": "stdout",
     "output_type": "stream",
     "text": [
      "Epoch 19, Loss: 0.6900445415127662\n"
     ]
    },
    {
     "name": "stderr",
     "output_type": "stream",
     "text": [
      "Epochs:  67%|██████▋   | 20/30 [00:38<00:19,  1.92s/it]"
     ]
    },
    {
     "name": "stdout",
     "output_type": "stream",
     "text": [
      "Epoch 20, Loss: 0.6670489753446271\n"
     ]
    },
    {
     "name": "stderr",
     "output_type": "stream",
     "text": [
      "Epochs:  70%|███████   | 21/30 [00:40<00:17,  1.91s/it]"
     ]
    },
    {
     "name": "stdout",
     "output_type": "stream",
     "text": [
      "Epoch 21, Loss: 0.651992057600329\n"
     ]
    },
    {
     "name": "stderr",
     "output_type": "stream",
     "text": [
      "Epochs:  73%|███████▎  | 22/30 [00:42<00:15,  1.91s/it]"
     ]
    },
    {
     "name": "stdout",
     "output_type": "stream",
     "text": [
      "Epoch 22, Loss: 0.6344315217387292\n"
     ]
    },
    {
     "name": "stderr",
     "output_type": "stream",
     "text": [
      "Epochs:  77%|███████▋  | 23/30 [00:44<00:13,  1.91s/it]"
     ]
    },
    {
     "name": "stdout",
     "output_type": "stream",
     "text": [
      "Epoch 23, Loss: 0.5988975897912057\n"
     ]
    },
    {
     "name": "stderr",
     "output_type": "stream",
     "text": [
      "Epochs:  80%|████████  | 24/30 [00:46<00:11,  1.91s/it]"
     ]
    },
    {
     "name": "stdout",
     "output_type": "stream",
     "text": [
      "Epoch 24, Loss: 0.5837489193485629\n"
     ]
    },
    {
     "name": "stderr",
     "output_type": "stream",
     "text": [
      "Epochs:  83%|████████▎ | 25/30 [00:47<00:09,  1.91s/it]"
     ]
    },
    {
     "name": "stdout",
     "output_type": "stream",
     "text": [
      "Epoch 25, Loss: 0.575544031396989\n"
     ]
    },
    {
     "name": "stderr",
     "output_type": "stream",
     "text": [
      "Epochs:  87%|████████▋ | 26/30 [00:49<00:07,  1.91s/it]"
     ]
    },
    {
     "name": "stdout",
     "output_type": "stream",
     "text": [
      "Epoch 26, Loss: 0.5581920223851358\n"
     ]
    },
    {
     "name": "stderr",
     "output_type": "stream",
     "text": [
      "Epochs:  90%|█████████ | 27/30 [00:51<00:05,  1.91s/it]"
     ]
    },
    {
     "name": "stdout",
     "output_type": "stream",
     "text": [
      "Epoch 27, Loss: 0.5477816539426004\n"
     ]
    },
    {
     "name": "stderr",
     "output_type": "stream",
     "text": [
      "Epochs:  93%|█████████▎| 28/30 [00:53<00:03,  1.91s/it]"
     ]
    },
    {
     "name": "stdout",
     "output_type": "stream",
     "text": [
      "Epoch 28, Loss: 0.5233749506934997\n"
     ]
    },
    {
     "name": "stderr",
     "output_type": "stream",
     "text": [
      "Epochs:  97%|█████████▋| 29/30 [00:55<00:01,  1.91s/it]"
     ]
    },
    {
     "name": "stdout",
     "output_type": "stream",
     "text": [
      "Epoch 29, Loss: 0.5219029092019604\n"
     ]
    },
    {
     "name": "stderr",
     "output_type": "stream",
     "text": [
      "Epochs: 100%|██████████| 30/30 [00:57<00:00,  1.92s/it]"
     ]
    },
    {
     "name": "stdout",
     "output_type": "stream",
     "text": [
      "Epoch 30, Loss: 0.5211656680030208\n"
     ]
    },
    {
     "name": "stderr",
     "output_type": "stream",
     "text": [
      "\n"
     ]
    }
   ],
   "source": [
    "start_time = time.time()\n",
    "process = psutil.Process()\n",
    "start_cpu = process.cpu_times()\n",
    "start_mem = process.memory_info().rss / 1024**2  # В MB\n",
    "\n",
    "if device.type == \"cuda\":\n",
    "    torch.cuda.synchronize()\n",
    "    torch.cuda.reset_peak_memory_stats()\n",
    "\n",
    "for epoch in tqdm(range(30), desc=\"Epochs\"):\n",
    "    hypernetwork.train()\n",
    "    running_loss = 0.0\n",
    "    for data in train_loader_3d:\n",
    "        images, labels = data\n",
    "        images, labels = images, labels.type(torch.LongTensor)\n",
    "\n",
    "        optimizer.zero_grad()\n",
    "\n",
    "        outputs = hypernetwork(images.to(torch.float32).to(device))\n",
    "        loss = loss_function(outputs, labels[:, 0].to(device))\n",
    "\n",
    "        loss.backward()\n",
    "        optimizer.step()\n",
    "\n",
    "        running_loss += loss.item()\n",
    "\n",
    "    print(f\"Epoch {epoch+1}, Loss: {running_loss/len(train_loader_3d)}\")"
   ]
  },
  {
   "cell_type": "code",
   "execution_count": 126,
   "metadata": {},
   "outputs": [
    {
     "name": "stdout",
     "output_type": "stream",
     "text": [
      "Training time: 57.50 seconds\n",
      "CPU time used: 687.88 seconds\n",
      "Memory used: 4.15 MB\n",
      "GPU Memory Used: 473.85 MB\n",
      "Max GPU Memory Used: 1172.15 MB\n"
     ]
    }
   ],
   "source": [
    "end_time = time.time()\n",
    "end_cpu = process.cpu_times()\n",
    "end_mem = process.memory_info().rss / 1024**2\n",
    "\n",
    "cpu_time = (end_cpu.user + end_cpu.system) - (start_cpu.user + start_cpu.system)\n",
    "memory_used = end_mem - start_mem\n",
    "\n",
    "print(f\"Training time: {end_time - start_time:.2f} seconds\")\n",
    "print(f\"CPU time used: {cpu_time:.2f} seconds\")\n",
    "print(f\"Memory used: {memory_used:.2f} MB\")\n",
    "\n",
    "if device.type == \"cuda\":\n",
    "    torch.cuda.synchronize()\n",
    "    print(f\"GPU Memory Used: {torch.cuda.memory_allocated() / 1024**2:.2f} MB\")\n",
    "    print(f\"Max GPU Memory Used: {torch.cuda.max_memory_allocated() / 1024**2:.2f} MB\")\n"
   ]
  },
  {
   "cell_type": "code",
   "execution_count": 127,
   "metadata": {},
   "outputs": [
    {
     "name": "stdout",
     "output_type": "stream",
     "text": [
      "VRAM currently used: 473.85 MB\n",
      "Max VRAM used during training: 1172.15 MB\n"
     ]
    }
   ],
   "source": [
    "if device.type == \"cuda\":\n",
    "    torch.cuda.synchronize()\n",
    "    vram_used = torch.cuda.memory_allocated() / 1024**2\n",
    "    vram_max_used = torch.cuda.max_memory_allocated() / 1024**2\n",
    "\n",
    "    print(f\"VRAM currently used: {vram_used:.2f} MB\")\n",
    "    print(f\"Max VRAM used during training: {vram_max_used:.2f} MB\")\n"
   ]
  },
  {
   "cell_type": "code",
   "execution_count": 128,
   "metadata": {},
   "outputs": [
    {
     "name": "stdout",
     "output_type": "stream",
     "text": [
      "Validation AUC: 0.9998\n"
     ]
    }
   ],
   "source": [
    "hypernetwork.eval()\n",
    "with torch.no_grad():\n",
    "    y_pred = torch.tensor([], dtype=torch.float32, device=device)\n",
    "    y = torch.tensor([], dtype=torch.long, device=device)\n",
    "    for val_data in val_loader_3d:\n",
    "        val_images, val_labels = val_data\n",
    "\n",
    "        output = hypernetwork(val_images.to(torch.float32).to(device))\n",
    "        \n",
    "        y_pred = torch.cat([y_pred, output], dim=0)\n",
    "        y = torch.cat([y, val_labels.to(device)], dim=0)\n",
    "\n",
    "    # Evaluate AUC and accuracy\n",
    "    y_onehot = [y_trans(i) for i in decollate_batch(y, detach=False)]\n",
    "    y_pred_act = [y_pred_trans(i) for i in decollate_batch(y_pred)]\n",
    "    auc_metric = ROCAUCMetric()\n",
    "    auc_metric(y_pred_act, y_onehot)\n",
    "    result = auc_metric.aggregate()\n",
    "    auc_metric.reset()\n",
    "\n",
    "    print(f\"Validation AUC: {result:.4f}\")"
   ]
  },
  {
   "cell_type": "code",
   "execution_count": 129,
   "metadata": {},
   "outputs": [
    {
     "name": "stdout",
     "output_type": "stream",
     "text": [
      "Test AUC: 0.9840\n"
     ]
    }
   ],
   "source": [
    "hypernetwork.eval()\n",
    "y_true = []\n",
    "y_predicted = []\n",
    "example_image = []\n",
    "example_preds = []\n",
    "example_labels = []\n",
    "\n",
    "with torch.no_grad():\n",
    "    y_pred = torch.tensor([], dtype=torch.float32, device=device)\n",
    "    y = torch.tensor([], dtype=torch.long, device=device)\n",
    "    for test_data in test_loader_3d:\n",
    "        test_images, test_labels = test_data\n",
    "\n",
    "        output = hypernetwork(test_images.to(device))\n",
    "        pred = output.argmax(dim=1)\n",
    "        \n",
    "        for i in range(len(pred)):\n",
    "            y_true.append(test_labels[i].item())\n",
    "            y_predicted.append(pred[i].item())\n",
    "\n",
    "        y_pred = torch.cat([y_pred, output], dim=0)\n",
    "        y = torch.cat([y, test_labels.to(device)], dim=0)\n",
    "\n",
    "    # Evaluate AUC and accuracy\n",
    "    y_onehot = [y_trans(i) for i in decollate_batch(y, detach=False)]\n",
    "    y_pred_act = [y_pred_trans(i) for i in decollate_batch(y_pred)]\n",
    "    auc_metric(y_pred_act, y_onehot)\n",
    "    result = auc_metric.aggregate()\n",
    "    auc_metric.reset()\n",
    "\n",
    "    print(f\"Test AUC: {result:.4f}\")"
   ]
  },
  {
   "cell_type": "code",
   "execution_count": 130,
   "metadata": {
    "scrolled": true
   },
   "outputs": [
    {
     "name": "stdout",
     "output_type": "stream",
     "text": [
      "              precision    recall  f1-score   support\n",
      "\n",
      "           0     0.9853    0.9710    0.9781        69\n",
      "           1     0.7846    0.7500    0.7669        68\n",
      "           2     0.6842    0.7536    0.7172        69\n",
      "           3     0.7937    0.7692    0.7812        65\n",
      "           4     0.8421    0.7385    0.7869        65\n",
      "           5     0.8116    0.8485    0.8296        66\n",
      "           6     1.0000    0.8214    0.9020        28\n",
      "           7     1.0000    0.9524    0.9756        21\n",
      "           8     1.0000    0.9524    0.9756        21\n",
      "           9     0.7564    0.8551    0.8027        69\n",
      "          10     0.8873    0.9130    0.9000        69\n",
      "\n",
      "    accuracy                         0.8344       610\n",
      "   macro avg     0.8677    0.8477    0.8560       610\n",
      "weighted avg     0.8391    0.8344    0.8353       610\n",
      "\n"
     ]
    }
   ],
   "source": [
    "report = classification_report(y_true, y_predicted, target_names=info['label'], digits=4, output_dict = True)\n",
    "report.update({\"AUC\": f\"{result:.4f}\"})\n",
    "print(classification_report(y_true, y_predicted, target_names=info['label'], digits=4))"
   ]
  },
  {
   "cell_type": "code",
   "execution_count": 131,
   "metadata": {},
   "outputs": [],
   "source": [
    "df = pd.DataFrame(report).transpose()\n",
    "df.to_csv(f'weighted_unpretrained_full_seed{seed}.csv')"
   ]
  },
  {
   "cell_type": "code",
   "execution_count": 132,
   "metadata": {},
   "outputs": [
    {
     "name": "stdout",
     "output_type": "stream",
     "text": [
      "VRAM currently used: 473.85 MB\n",
      "Max VRAM used during training: 1172.15 MB\n"
     ]
    }
   ],
   "source": [
    "if device.type == \"cuda\":\n",
    "    torch.cuda.synchronize()\n",
    "    vram_used = torch.cuda.memory_allocated() / 1024**2\n",
    "    vram_max_used = torch.cuda.max_memory_allocated() / 1024**2\n",
    "\n",
    "    print(f\"VRAM currently used: {vram_used:.2f} MB\")\n",
    "    print(f\"Max VRAM used during training: {vram_max_used:.2f} MB\")\n"
   ]
  },
  {
   "cell_type": "markdown",
   "metadata": {},
   "source": [
    "### Pretrained"
   ]
  },
  {
   "cell_type": "code",
   "execution_count": 133,
   "metadata": {},
   "outputs": [
    {
     "name": "stderr",
     "output_type": "stream",
     "text": [
      "/opt/conda/lib/python3.10/site-packages/torchvision/models/_utils.py:208: UserWarning: The parameter 'pretrained' is deprecated since 0.13 and may be removed in the future, please use 'weights' instead.\n",
      "  warnings.warn(\n",
      "/opt/conda/lib/python3.10/site-packages/torchvision/models/_utils.py:223: UserWarning: Arguments other than a weight enum or `None` for 'weights' are deprecated since 0.13 and may be removed in the future. The current behavior is equivalent to passing `weights=ResNet18_Weights.IMAGENET1K_V1`. You can also use `weights=ResNet18_Weights.DEFAULT` to get the most up-to-date weights.\n",
      "  warnings.warn(msg)\n"
     ]
    },
    {
     "data": {
      "text/plain": [
       "<All keys matched successfully>"
      ]
     },
     "execution_count": 133,
     "metadata": {},
     "output_type": "execute_result"
    }
   ],
   "source": [
    "model = models.resnet18(pretrained=True).to(device)\n",
    "model.conv1 = nn.Conv2d(64, 64, kernel_size=7, stride=2, padding=3, bias=False)\n",
    "model.fc = nn.Linear(model.fc.in_features, n_classes)\n",
    "model_axial = model.to(device)\n",
    "model_coronal = model.to(device)\n",
    "model_sagittal = model.to(device)\n",
    "\n",
    "model_axial.load_state_dict(torch.load(os.path.join(root_dir, \"axial_full_pretrained.pth\"), weights_only=True))\n",
    "model_coronal.load_state_dict(torch.load(os.path.join(root_dir, \"coronal_full_pretrained.pth\"), weights_only=True))\n",
    "model_sagittal.load_state_dict(torch.load(os.path.join(root_dir, \"sagittal_full_pretrained.pth\"), weights_only=True))"
   ]
  },
  {
   "cell_type": "code",
   "execution_count": 134,
   "metadata": {},
   "outputs": [],
   "source": [
    "# Initialize the hypernetwork\n",
    "hypernetwork = HyperNetwork(model_axial, model_coronal, model_sagittal, num_classes=11).to(device)\n",
    "\n",
    "loss_function = torch.nn.CrossEntropyLoss()\n",
    "optimizer = torch.optim.Adam(hypernetwork.fc.parameters(), lr=0.00005)"
   ]
  },
  {
   "cell_type": "code",
   "execution_count": 135,
   "metadata": {},
   "outputs": [
    {
     "name": "stderr",
     "output_type": "stream",
     "text": [
      "Epochs:   3%|▎         | 1/30 [00:01<00:39,  1.36s/it]"
     ]
    },
    {
     "name": "stdout",
     "output_type": "stream",
     "text": [
      "Epoch 1, Loss: 2.4000553161867204\n"
     ]
    },
    {
     "name": "stderr",
     "output_type": "stream",
     "text": [
      "Epochs:   7%|▋         | 2/30 [00:02<00:38,  1.36s/it]"
     ]
    },
    {
     "name": "stdout",
     "output_type": "stream",
     "text": [
      "Epoch 2, Loss: 2.0449982496999923\n"
     ]
    },
    {
     "name": "stderr",
     "output_type": "stream",
     "text": [
      "Epochs:  10%|█         | 3/30 [00:04<00:36,  1.36s/it]"
     ]
    },
    {
     "name": "stdout",
     "output_type": "stream",
     "text": [
      "Epoch 3, Loss: 1.7654237862556212\n"
     ]
    },
    {
     "name": "stderr",
     "output_type": "stream",
     "text": [
      "Epochs:  13%|█▎        | 4/30 [00:05<00:35,  1.36s/it]"
     ]
    },
    {
     "name": "stdout",
     "output_type": "stream",
     "text": [
      "Epoch 4, Loss: 1.540936750750388\n"
     ]
    },
    {
     "name": "stderr",
     "output_type": "stream",
     "text": [
      "Epochs:  17%|█▋        | 5/30 [00:06<00:34,  1.36s/it]"
     ]
    },
    {
     "name": "stdout",
     "output_type": "stream",
     "text": [
      "Epoch 5, Loss: 1.369760609442188\n"
     ]
    },
    {
     "name": "stderr",
     "output_type": "stream",
     "text": [
      "Epochs:  20%|██        | 6/30 [00:08<00:32,  1.36s/it]"
     ]
    },
    {
     "name": "stdout",
     "output_type": "stream",
     "text": [
      "Epoch 6, Loss: 1.221616671931359\n"
     ]
    },
    {
     "name": "stderr",
     "output_type": "stream",
     "text": [
      "Epochs:  23%|██▎       | 7/30 [00:09<00:31,  1.36s/it]"
     ]
    },
    {
     "name": "stdout",
     "output_type": "stream",
     "text": [
      "Epoch 7, Loss: 1.0911067089726847\n"
     ]
    },
    {
     "name": "stderr",
     "output_type": "stream",
     "text": [
      "Epochs:  27%|██▋       | 8/30 [00:10<00:29,  1.36s/it]"
     ]
    },
    {
     "name": "stdout",
     "output_type": "stream",
     "text": [
      "Epoch 8, Loss: 0.995955269182882\n"
     ]
    },
    {
     "name": "stderr",
     "output_type": "stream",
     "text": [
      "Epochs:  30%|███       | 9/30 [00:12<00:28,  1.36s/it]"
     ]
    },
    {
     "name": "stdout",
     "output_type": "stream",
     "text": [
      "Epoch 9, Loss: 0.9342335231842533\n"
     ]
    },
    {
     "name": "stderr",
     "output_type": "stream",
     "text": [
      "Epochs:  33%|███▎      | 10/30 [00:13<00:27,  1.36s/it]"
     ]
    },
    {
     "name": "stdout",
     "output_type": "stream",
     "text": [
      "Epoch 10, Loss: 0.8314371743509846\n"
     ]
    },
    {
     "name": "stderr",
     "output_type": "stream",
     "text": [
      "Epochs:  37%|███▋      | 11/30 [00:14<00:25,  1.36s/it]"
     ]
    },
    {
     "name": "stdout",
     "output_type": "stream",
     "text": [
      "Epoch 11, Loss: 0.7920216225808666\n"
     ]
    },
    {
     "name": "stderr",
     "output_type": "stream",
     "text": [
      "Epochs:  40%|████      | 12/30 [00:16<00:24,  1.36s/it]"
     ]
    },
    {
     "name": "stdout",
     "output_type": "stream",
     "text": [
      "Epoch 12, Loss: 0.7434097182366156\n"
     ]
    },
    {
     "name": "stderr",
     "output_type": "stream",
     "text": [
      "Epochs:  43%|████▎     | 13/30 [00:17<00:23,  1.36s/it]"
     ]
    },
    {
     "name": "stdout",
     "output_type": "stream",
     "text": [
      "Epoch 13, Loss: 0.7079739166844276\n"
     ]
    },
    {
     "name": "stderr",
     "output_type": "stream",
     "text": [
      "Epochs:  47%|████▋     | 14/30 [00:19<00:21,  1.36s/it]"
     ]
    },
    {
     "name": "stdout",
     "output_type": "stream",
     "text": [
      "Epoch 14, Loss: 0.6664091675512253\n"
     ]
    },
    {
     "name": "stderr",
     "output_type": "stream",
     "text": [
      "Epochs:  50%|█████     | 15/30 [00:20<00:20,  1.36s/it]"
     ]
    },
    {
     "name": "stdout",
     "output_type": "stream",
     "text": [
      "Epoch 15, Loss: 0.649099838349127\n"
     ]
    },
    {
     "name": "stderr",
     "output_type": "stream",
     "text": [
      "Epochs:  53%|█████▎    | 16/30 [00:21<00:19,  1.36s/it]"
     ]
    },
    {
     "name": "stdout",
     "output_type": "stream",
     "text": [
      "Epoch 16, Loss: 0.5976356873589177\n"
     ]
    },
    {
     "name": "stderr",
     "output_type": "stream",
     "text": [
      "Epochs:  57%|█████▋    | 17/30 [00:23<00:17,  1.36s/it]"
     ]
    },
    {
     "name": "stdout",
     "output_type": "stream",
     "text": [
      "Epoch 17, Loss: 0.5784623680576202\n"
     ]
    },
    {
     "name": "stderr",
     "output_type": "stream",
     "text": [
      "Epochs:  60%|██████    | 18/30 [00:24<00:16,  1.36s/it]"
     ]
    },
    {
     "name": "stdout",
     "output_type": "stream",
     "text": [
      "Epoch 18, Loss: 0.5634419581582469\n"
     ]
    },
    {
     "name": "stderr",
     "output_type": "stream",
     "text": [
      "Epochs:  63%|██████▎   | 19/30 [00:25<00:14,  1.36s/it]"
     ]
    },
    {
     "name": "stdout",
     "output_type": "stream",
     "text": [
      "Epoch 19, Loss: 0.5446537252395384\n"
     ]
    },
    {
     "name": "stderr",
     "output_type": "stream",
     "text": [
      "Epochs:  67%|██████▋   | 20/30 [00:27<00:13,  1.36s/it]"
     ]
    },
    {
     "name": "stdout",
     "output_type": "stream",
     "text": [
      "Epoch 20, Loss: 0.5135147744609464\n"
     ]
    },
    {
     "name": "stderr",
     "output_type": "stream",
     "text": [
      "Epochs:  70%|███████   | 21/30 [00:28<00:12,  1.36s/it]"
     ]
    },
    {
     "name": "stdout",
     "output_type": "stream",
     "text": [
      "Epoch 21, Loss: 0.5045799093861734\n"
     ]
    },
    {
     "name": "stderr",
     "output_type": "stream",
     "text": [
      "Epochs:  73%|███████▎  | 22/30 [00:29<00:10,  1.36s/it]"
     ]
    },
    {
     "name": "stdout",
     "output_type": "stream",
     "text": [
      "Epoch 22, Loss: 0.4894613912028651\n"
     ]
    },
    {
     "name": "stderr",
     "output_type": "stream",
     "text": [
      "Epochs:  77%|███████▋  | 23/30 [00:31<00:09,  1.36s/it]"
     ]
    },
    {
     "name": "stdout",
     "output_type": "stream",
     "text": [
      "Epoch 23, Loss: 0.47654890725689547\n"
     ]
    },
    {
     "name": "stderr",
     "output_type": "stream",
     "text": [
      "Epochs:  80%|████████  | 24/30 [00:32<00:08,  1.36s/it]"
     ]
    },
    {
     "name": "stdout",
     "output_type": "stream",
     "text": [
      "Epoch 24, Loss: 0.4706850340289454\n"
     ]
    },
    {
     "name": "stderr",
     "output_type": "stream",
     "text": [
      "Epochs:  83%|████████▎ | 25/30 [00:34<00:06,  1.36s/it]"
     ]
    },
    {
     "name": "stdout",
     "output_type": "stream",
     "text": [
      "Epoch 25, Loss: 0.4503428195753405\n"
     ]
    },
    {
     "name": "stderr",
     "output_type": "stream",
     "text": [
      "Epochs:  87%|████████▋ | 26/30 [00:35<00:05,  1.36s/it]"
     ]
    },
    {
     "name": "stdout",
     "output_type": "stream",
     "text": [
      "Epoch 26, Loss: 0.45083937914140765\n"
     ]
    },
    {
     "name": "stderr",
     "output_type": "stream",
     "text": [
      "Epochs:  90%|█████████ | 27/30 [00:36<00:04,  1.36s/it]"
     ]
    },
    {
     "name": "stdout",
     "output_type": "stream",
     "text": [
      "Epoch 27, Loss: 0.43409991072070214\n"
     ]
    },
    {
     "name": "stderr",
     "output_type": "stream",
     "text": [
      "Epochs:  93%|█████████▎| 28/30 [00:38<00:02,  1.36s/it]"
     ]
    },
    {
     "name": "stdout",
     "output_type": "stream",
     "text": [
      "Epoch 28, Loss: 0.41423789820363444\n"
     ]
    },
    {
     "name": "stderr",
     "output_type": "stream",
     "text": [
      "Epochs:  97%|█████████▋| 29/30 [00:39<00:01,  1.36s/it]"
     ]
    },
    {
     "name": "stdout",
     "output_type": "stream",
     "text": [
      "Epoch 29, Loss: 0.4060532046902564\n"
     ]
    },
    {
     "name": "stderr",
     "output_type": "stream",
     "text": [
      "Epochs: 100%|██████████| 30/30 [00:40<00:00,  1.36s/it]"
     ]
    },
    {
     "name": "stdout",
     "output_type": "stream",
     "text": [
      "Epoch 30, Loss: 0.40368213913133066\n"
     ]
    },
    {
     "name": "stderr",
     "output_type": "stream",
     "text": [
      "\n"
     ]
    }
   ],
   "source": [
    "# start_time = time.time()\n",
    "# process = psutil.Process()\n",
    "# start_cpu = process.cpu_times()\n",
    "# start_mem = process.memory_info().rss / 1024**2  # В MB\n",
    "\n",
    "# if device.type == \"cuda\":\n",
    "#     torch.cuda.synchronize()\n",
    "#     torch.cuda.reset_peak_memory_stats()\n",
    "\n",
    "for epoch in tqdm(range(30), desc=\"Epochs\"):\n",
    "    hypernetwork.train()\n",
    "    running_loss = 0.0\n",
    "    for data in train_loader_3d:\n",
    "        images, labels = data\n",
    "        images, labels = images, labels.type(torch.LongTensor)\n",
    "\n",
    "        optimizer.zero_grad()\n",
    "\n",
    "        outputs = hypernetwork(images.to(torch.float32).to(device))\n",
    "        loss = loss_function(outputs, labels[:, 0].to(device))\n",
    "\n",
    "        loss.backward()\n",
    "        optimizer.step()\n",
    "\n",
    "        running_loss += loss.item()\n",
    "\n",
    "    print(f\"Epoch {epoch+1}, Loss: {running_loss/len(train_loader_3d)}\")"
   ]
  },
  {
   "cell_type": "code",
   "execution_count": 136,
   "metadata": {},
   "outputs": [
    {
     "name": "stdout",
     "output_type": "stream",
     "text": [
      "Training time: 99.74 seconds\n",
      "CPU time used: 1192.61 seconds\n",
      "Memory used: 38.91 MB\n",
      "GPU Memory Used: 293.32 MB\n",
      "Max GPU Memory Used: 1172.15 MB\n"
     ]
    }
   ],
   "source": [
    "end_time = time.time()\n",
    "end_cpu = process.cpu_times()\n",
    "end_mem = process.memory_info().rss / 1024**2\n",
    "\n",
    "cpu_time = (end_cpu.user + end_cpu.system) - (start_cpu.user + start_cpu.system)\n",
    "memory_used = end_mem - start_mem\n",
    "\n",
    "print(f\"Training time: {end_time - start_time:.2f} seconds\")\n",
    "print(f\"CPU time used: {cpu_time:.2f} seconds\")\n",
    "print(f\"Memory used: {memory_used:.2f} MB\")\n",
    "\n",
    "if device.type == \"cuda\":\n",
    "    torch.cuda.synchronize()\n",
    "    print(f\"GPU Memory Used: {torch.cuda.memory_allocated() / 1024**2:.2f} MB\")\n",
    "    print(f\"Max GPU Memory Used: {torch.cuda.max_memory_allocated() / 1024**2:.2f} MB\")\n"
   ]
  },
  {
   "cell_type": "code",
   "execution_count": 137,
   "metadata": {},
   "outputs": [
    {
     "name": "stdout",
     "output_type": "stream",
     "text": [
      "VRAM currently used: 293.32 MB\n",
      "Max VRAM used during training: 1172.15 MB\n"
     ]
    }
   ],
   "source": [
    "if device.type == \"cuda\":\n",
    "    torch.cuda.synchronize()\n",
    "    vram_used = torch.cuda.memory_allocated() / 1024**2\n",
    "    vram_max_used = torch.cuda.max_memory_allocated() / 1024**2\n",
    "\n",
    "    print(f\"VRAM currently used: {vram_used:.2f} MB\")\n",
    "    print(f\"Max VRAM used during training: {vram_max_used:.2f} MB\")\n"
   ]
  },
  {
   "cell_type": "code",
   "execution_count": 138,
   "metadata": {},
   "outputs": [
    {
     "name": "stdout",
     "output_type": "stream",
     "text": [
      "Validation AUC: 0.9998\n"
     ]
    }
   ],
   "source": [
    "hypernetwork.eval()\n",
    "with torch.no_grad():\n",
    "    y_pred = torch.tensor([], dtype=torch.float32, device=device)\n",
    "    y = torch.tensor([], dtype=torch.long, device=device)\n",
    "    for val_data in val_loader_3d:\n",
    "        val_images, val_labels = val_data\n",
    "\n",
    "        output = hypernetwork(val_images.to(torch.float32).to(device))\n",
    "        \n",
    "        y_pred = torch.cat([y_pred, output], dim=0)\n",
    "        y = torch.cat([y, val_labels.to(device)], dim=0)\n",
    "\n",
    "    # Evaluate AUC and accuracy\n",
    "    y_onehot = [y_trans(i) for i in decollate_batch(y, detach=False)]\n",
    "    y_pred_act = [y_pred_trans(i) for i in decollate_batch(y_pred)]\n",
    "    auc_metric(y_pred_act, y_onehot)\n",
    "    result = auc_metric.aggregate()\n",
    "    auc_metric.reset()\n",
    "\n",
    "    print(f\"Validation AUC: {result:.4f}\")"
   ]
  },
  {
   "cell_type": "code",
   "execution_count": 139,
   "metadata": {},
   "outputs": [
    {
     "name": "stdout",
     "output_type": "stream",
     "text": [
      "Validation AUC: 0.9872\n"
     ]
    }
   ],
   "source": [
    "hypernetwork.eval()\n",
    "y_true = []\n",
    "y_predicted = []\n",
    "example_image = []\n",
    "example_preds = []\n",
    "example_labels = []\n",
    "\n",
    "with torch.no_grad():\n",
    "    y_pred = torch.tensor([], dtype=torch.float32, device=device)\n",
    "    y = torch.tensor([], dtype=torch.long, device=device)\n",
    "    for test_data in test_loader_3d:\n",
    "        test_images, test_labels = test_data\n",
    "\n",
    "        output = hypernetwork(test_images.to(device))\n",
    "        pred = output.argmax(dim=1)\n",
    "        \n",
    "        for i in range(len(pred)):\n",
    "            y_true.append(test_labels[i].item())\n",
    "            y_predicted.append(pred[i].item())\n",
    "\n",
    "        y_pred = torch.cat([y_pred, output], dim=0)\n",
    "        y = torch.cat([y, test_labels.to(device)], dim=0)\n",
    "\n",
    "    # Evaluate AUC and accuracy\n",
    "    y_onehot = [y_trans(i) for i in decollate_batch(y, detach=False)]\n",
    "    y_pred_act = [y_pred_trans(i) for i in decollate_batch(y_pred)]\n",
    "    auc_metric(y_pred_act, y_onehot)\n",
    "    result = auc_metric.aggregate()\n",
    "    auc_metric.reset()\n",
    "\n",
    "    print(f\"Validation AUC: {result:.4f}\")"
   ]
  },
  {
   "cell_type": "code",
   "execution_count": 140,
   "metadata": {},
   "outputs": [
    {
     "name": "stdout",
     "output_type": "stream",
     "text": [
      "              precision    recall  f1-score   support\n",
      "\n",
      "           0     0.9079    1.0000    0.9517        69\n",
      "           1     0.7000    0.7206    0.7101        68\n",
      "           2     0.7857    0.6377    0.7040        69\n",
      "           3     0.6629    0.9077    0.7662        65\n",
      "           4     0.9111    0.6308    0.7455        65\n",
      "           5     0.8750    0.8485    0.8615        66\n",
      "           6     1.0000    1.0000    1.0000        28\n",
      "           7     0.9545    1.0000    0.9767        21\n",
      "           8     1.0000    0.9048    0.9500        21\n",
      "           9     0.9677    0.8696    0.9160        69\n",
      "          10     0.8481    0.9710    0.9054        69\n",
      "\n",
      "    accuracy                         0.8410       610\n",
      "   macro avg     0.8739    0.8628    0.8625       610\n",
      "weighted avg     0.8506    0.8410    0.8390       610\n",
      "\n"
     ]
    }
   ],
   "source": [
    "report = classification_report(y_true, y_predicted, target_names=info['label'], digits=4, output_dict = True)\n",
    "report.update({\"AUC\": f\"{result:.4f}\"})\n",
    "print(classification_report(y_true, y_predicted, target_names=info['label'], digits=4))"
   ]
  },
  {
   "cell_type": "code",
   "execution_count": 141,
   "metadata": {},
   "outputs": [],
   "source": [
    "df = pd.DataFrame(report).transpose()\n",
    "df.to_csv(f'weighted_pretrained_full_seed{seed}.csv')"
   ]
  },
  {
   "cell_type": "code",
   "execution_count": 142,
   "metadata": {},
   "outputs": [
    {
     "name": "stdout",
     "output_type": "stream",
     "text": [
      "VRAM currently used: 293.32 MB\n",
      "Max VRAM used during training: 1172.15 MB\n"
     ]
    }
   ],
   "source": [
    "if device.type == \"cuda\":\n",
    "    torch.cuda.synchronize()\n",
    "    vram_used = torch.cuda.memory_allocated() / 1024**2\n",
    "    vram_max_used = torch.cuda.max_memory_allocated() / 1024**2\n",
    "\n",
    "    print(f\"VRAM currently used: {vram_used:.2f} MB\")\n",
    "    print(f\"Max VRAM used during training: {vram_max_used:.2f} MB\")\n"
   ]
  },
  {
   "cell_type": "code",
   "execution_count": null,
   "metadata": {},
   "outputs": [],
   "source": []
  }
 ],
 "metadata": {
  "colab": {
   "provenance": []
  },
  "kernelspec": {
   "display_name": "Python 3 (ipykernel)",
   "language": "python",
   "name": "python3"
  },
  "language_info": {
   "codemirror_mode": {
    "name": "ipython",
    "version": 3
   },
   "file_extension": ".py",
   "mimetype": "text/x-python",
   "name": "python",
   "nbconvert_exporter": "python",
   "pygments_lexer": "ipython3",
   "version": "3.10.13"
  }
 },
 "nbformat": 4,
 "nbformat_minor": 4
}
