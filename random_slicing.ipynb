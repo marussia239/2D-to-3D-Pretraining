{
 "cells": [
  {
   "cell_type": "markdown",
   "metadata": {},
   "source": [
    "# Medical Image Classification"
   ]
  },
  {
   "cell_type": "code",
   "execution_count": 1,
   "metadata": {
    "jupyter": {
     "is_executing": true
    }
   },
   "outputs": [
    {
     "name": "stderr",
     "output_type": "stream",
     "text": [
      "/opt/conda/lib/python3.10/site-packages/tqdm/auto.py:21: TqdmWarning: IProgress not found. Please update jupyter and ipywidgets. See https://ipywidgets.readthedocs.io/en/stable/user_install.html\n",
      "  from .autonotebook import tqdm as notebook_tqdm\n"
     ]
    },
    {
     "name": "stdout",
     "output_type": "stream",
     "text": [
      "MONAI version: 1.4.dev2441\n",
      "Numpy version: 1.26.3\n",
      "Pytorch version: 2.2.1\n",
      "MONAI flags: HAS_EXT = False, USE_COMPILED = False, USE_META_DICT = False\n",
      "MONAI rev id: cf815ed4e44a5b8ce67e894ab0bc2765279a1a59\n",
      "MONAI __file__: /mnt/hdd/<username>/.local/lib/python3.10/site-packages/monai/__init__.py\n",
      "\n",
      "Optional dependencies:\n",
      "Pytorch Ignite version: NOT INSTALLED or UNKNOWN VERSION.\n",
      "ITK version: NOT INSTALLED or UNKNOWN VERSION.\n",
      "Nibabel version: NOT INSTALLED or UNKNOWN VERSION.\n",
      "scikit-image version: 0.25.1\n",
      "scipy version: 1.15.1\n",
      "Pillow version: 10.2.0\n",
      "Tensorboard version: 2.18.0\n",
      "gdown version: NOT INSTALLED or UNKNOWN VERSION.\n",
      "TorchVision version: 0.17.1\n",
      "tqdm version: 4.67.1\n",
      "lmdb version: NOT INSTALLED or UNKNOWN VERSION.\n",
      "psutil version: 5.9.0\n",
      "pandas version: 2.2.3\n",
      "einops version: 0.8.1\n",
      "transformers version: 4.48.3\n",
      "mlflow version: NOT INSTALLED or UNKNOWN VERSION.\n",
      "pynrrd version: NOT INSTALLED or UNKNOWN VERSION.\n",
      "clearml version: NOT INSTALLED or UNKNOWN VERSION.\n",
      "\n",
      "For details about installing the optional dependencies, please visit:\n",
      "    https://docs.monai.io/en/latest/installation.html#installing-the-recommended-dependencies\n",
      "\n"
     ]
    }
   ],
   "source": [
    "from tqdm import tqdm\n",
    "import glob\n",
    "import numpy as np\n",
    "import pandas as pd\n",
    "import os\n",
    "import PIL\n",
    "import time\n",
    "import psutil\n",
    "import shutil\n",
    "import tempfile\n",
    "import matplotlib.pyplot as plt\n",
    "import torch\n",
    "import torch.nn as nn\n",
    "import torch.optim as optim\n",
    "import torch.utils.data as data\n",
    "import torchvision.transforms as transforms\n",
    "import torchvision.models as models\n",
    "from torch.utils.tensorboard import SummaryWriter\n",
    "from sklearn.metrics import classification_report\n",
    "\n",
    "import medmnist\n",
    "from medmnist import INFO, Evaluator\n",
    "\n",
    "from monai.apps import download_and_extract\n",
    "from monai.config import print_config\n",
    "from monai.data import decollate_batch, DataLoader, Dataset\n",
    "from monai.metrics import ROCAUCMetric\n",
    "import monai.networks.nets as nets\n",
    "from monai.transforms import (\n",
    "    Activations,\n",
    "    EnsureChannelFirst,\n",
    "    AsDiscrete,\n",
    "    EnsureChannelFirst,\n",
    "    Compose,\n",
    "    LoadImage,\n",
    "    RandFlip,\n",
    "    RandRotate,\n",
    "    RandZoom,\n",
    "    RandGaussianNoise,\n",
    "    RandAdjustContrast,\n",
    "    ScaleIntensity, \n",
    "    Transform,\n",
    "    ToTensor,\n",
    "    EnsureType,\n",
    ")\n",
    "from monai.utils import set_determinism\n",
    "\n",
    "print_config()"
   ]
  },
  {
   "cell_type": "code",
   "execution_count": 2,
   "metadata": {},
   "outputs": [],
   "source": [
    "seed = 3\n",
    "np.random.seed(seed)"
   ]
  },
  {
   "cell_type": "markdown",
   "metadata": {},
   "source": [
    "## Continue working with OrganMNIST3d 64x64x64"
   ]
  },
  {
   "cell_type": "code",
   "execution_count": 3,
   "metadata": {},
   "outputs": [
    {
     "name": "stdout",
     "output_type": "stream",
     "text": [
      "Using downloaded and verified file: /mnt/hdd/marina/.medmnist/organmnist3d_64.npz\n",
      "Using downloaded and verified file: /mnt/hdd/marina/.medmnist/organmnist3d_64.npz\n",
      "Using downloaded and verified file: /mnt/hdd/marina/.medmnist/organmnist3d_64.npz\n"
     ]
    }
   ],
   "source": [
    "data_flag = 'organmnist3d'\n",
    "download = True\n",
    "\n",
    "NUM_EPOCHS = 40\n",
    "BATCH_SIZE = 8\n",
    "lr = 0.001\n",
    "\n",
    "info = INFO[data_flag]\n",
    "task = info['task']\n",
    "n_channels = info['n_channels']\n",
    "n_classes = len(info['label'])\n",
    "\n",
    "DataClass = getattr(medmnist, info['python_class'])\n",
    "\n",
    "# load the data\n",
    "train_dataset = DataClass(split='train', download=download, size=64)\n",
    "val_dataset = DataClass(split='val', download=download, size=64)\n",
    "test_dataset = DataClass(split='test', download=download, size=64)"
   ]
  },
  {
   "cell_type": "code",
   "execution_count": 4,
   "metadata": {},
   "outputs": [],
   "source": [
    "root_dir = '/mnt/hdd/marina/.medmnist/'\n",
    "reports_dir = 'reports/'"
   ]
  },
  {
   "cell_type": "code",
   "execution_count": 5,
   "metadata": {},
   "outputs": [
    {
     "data": {
      "text/plain": [
       "Dataset OrganMNIST3D of size 64 (organmnist3d_64)\n",
       "    Number of datapoints: 971\n",
       "    Root location: /mnt/hdd/marina/.medmnist\n",
       "    Split: train\n",
       "    Task: multi-class\n",
       "    Number of channels: 1\n",
       "    Meaning of labels: {'0': 'liver', '1': 'kidney-right', '2': 'kidney-left', '3': 'femur-right', '4': 'femur-left', '5': 'bladder', '6': 'heart', '7': 'lung-right', '8': 'lung-left', '9': 'spleen', '10': 'pancreas'}\n",
       "    Number of samples: {'train': 971, 'val': 161, 'test': 610}\n",
       "    Description: The source of the OrganMNIST3D is the same as that of the Organ{A,C,S}MNIST. Instead of 2D images, we directly use the 3D bounding boxes and process the images into 28×28×28 to perform multi-class classification of 11 body organs. The same 115 and 16 CT scans as the Organ{A,C,S}MNIST from the source training set are used as training and validation set, respectively, and the same 70 CT scans as the Organ{A,C,S}MNIST from the source test set are treated as the test set.\n",
       "    License: CC BY 4.0"
      ]
     },
     "execution_count": 5,
     "metadata": {},
     "output_type": "execute_result"
    }
   ],
   "source": [
    "train_dataset"
   ]
  },
  {
   "cell_type": "markdown",
   "metadata": {},
   "source": [
    "## Define transforms"
   ]
  },
  {
   "cell_type": "code",
   "execution_count": 6,
   "metadata": {},
   "outputs": [],
   "source": [
    "train_transforms = Compose(\n",
    "    [\n",
    "        ScaleIntensity(),\n",
    "        RandGaussianNoise(prob=0.5, mean=0.0, std=0.05),\n",
    "        RandAdjustContrast(gamma=(0.7, 1.3), prob=0.5),\n",
    "        RandRotate(range_x=np.pi / 12, prob=0.5, keep_size=True),\n",
    "        RandFlip(spatial_axis=0, prob=0.5),\n",
    "        RandZoom(min_zoom=0.9, max_zoom=1.1, prob=0.5),\n",
    "        ToTensor(),\n",
    "        EnsureType(),\n",
    "    ]\n",
    ")\n",
    "\n",
    "val_transforms = Compose([\n",
    "    ScaleIntensity(),\n",
    "    ToTensor(),\n",
    "    EnsureType(),\n",
    "])\n",
    "\n",
    "test_transforms = Compose([\n",
    "    ScaleIntensity(),\n",
    "    ToTensor(),\n",
    "    EnsureType(),\n",
    "])\n",
    "\n",
    "y_pred_trans = Compose([Activations(softmax=True)])\n",
    "y_trans = Compose([AsDiscrete(to_onehot=n_classes)])"
   ]
  },
  {
   "cell_type": "markdown",
   "metadata": {},
   "source": [
    "## Extract 2d slices"
   ]
  },
  {
   "cell_type": "code",
   "execution_count": 7,
   "metadata": {},
   "outputs": [],
   "source": [
    "class Extract2DSlices(Dataset):\n",
    "    def __init__(self, dataset, transform=None):\n",
    "        self.dataset = dataset\n",
    "        self.transform = transform\n",
    "\n",
    "    def __len__(self):\n",
    "        return len(self.dataset)\n",
    "\n",
    "    def __getitem__(self, idx):\n",
    "        data, label = self.dataset[idx]\n",
    "\n",
    "        axial, coronal, sagittal = self.extract_2d_slices(data)\n",
    "\n",
    "        if self.transform:\n",
    "            axial = self.transform(axial)\n",
    "            coronal = self.transform(coronal)\n",
    "            sagittal = self.transform(sagittal)\n",
    "\n",
    "        data = {'axial': axial, 'coronal': coronal, 'sagittal': sagittal}\n",
    "        \n",
    "        return {'images': (data['axial'], data['coronal'], data['sagittal']), 'label': label}\n",
    "\n",
    "    @staticmethod\n",
    "    def extract_2d_slices(data):\n",
    "        slice_axial = np.random.randint(4, 58, dtype=int)\n",
    "        slice_coronal = np.random.randint(4, 58, dtype=int)\n",
    "        slice_sagittal = np.random.randint(4, 58, dtype=int)\n",
    "        axial = data[:, slice_axial-4:slice_axial+5, :, :][0]\n",
    "        coronal = data[:, :, slice_coronal-4:slice_coronal+5, :].transpose(0, 2, 3, 1)[0]\n",
    "        sagittal = data[:, :, :, slice_sagittal-4:slice_sagittal+5].transpose(0, 3, 1, 2)[0]\n",
    "        return axial, coronal, sagittal"
   ]
  },
  {
   "cell_type": "code",
   "execution_count": 8,
   "metadata": {},
   "outputs": [],
   "source": [
    "train_dataset_ = Extract2DSlices(train_dataset, transform=train_transforms)\n",
    "val_dataset_ = Extract2DSlices(val_dataset, transform=val_transforms)\n",
    "test_dataset_ = Extract2DSlices(test_dataset, transform=test_transforms)\n",
    "\n",
    "# Create data loaders\n",
    "train_loader = DataLoader(train_dataset_, batch_size=BATCH_SIZE, shuffle=True)\n",
    "val_loader = DataLoader(val_dataset_, batch_size=BATCH_SIZE, shuffle=True)\n",
    "test_loader = DataLoader(test_dataset_, batch_size=BATCH_SIZE, shuffle=False)"
   ]
  },
  {
   "cell_type": "markdown",
   "metadata": {},
   "source": [
    "# Axial part"
   ]
  },
  {
   "cell_type": "code",
   "execution_count": 9,
   "metadata": {},
   "outputs": [],
   "source": [
    "class EarlyStopper:\n",
    "    def __init__(self, patience=1, min_delta=0):\n",
    "        self.patience = patience\n",
    "        self.min_delta = min_delta\n",
    "        self.counter = 0\n",
    "        self.min_validation_loss = float('inf')\n",
    "\n",
    "    def early_stop(self, validation_loss):\n",
    "        if validation_loss < self.min_validation_loss:\n",
    "            self.min_validation_loss = validation_loss\n",
    "            self.counter = 0\n",
    "        elif validation_loss > (self.min_validation_loss + self.min_delta):\n",
    "            self.counter += 1\n",
    "            if self.counter >= self.patience:\n",
    "                return True\n",
    "        return False"
   ]
  },
  {
   "cell_type": "code",
   "execution_count": 10,
   "metadata": {},
   "outputs": [],
   "source": [
    "early_stopper = EarlyStopper(patience=3, min_delta=10)"
   ]
  },
  {
   "cell_type": "markdown",
   "metadata": {},
   "source": [
    "## Pretrained"
   ]
  },
  {
   "cell_type": "code",
   "execution_count": 11,
   "metadata": {},
   "outputs": [],
   "source": [
    "auc_metric = ROCAUCMetric()"
   ]
  },
  {
   "cell_type": "code",
   "execution_count": 12,
   "metadata": {},
   "outputs": [
    {
     "name": "stderr",
     "output_type": "stream",
     "text": [
      "/opt/conda/lib/python3.10/site-packages/torchvision/models/_utils.py:208: UserWarning: The parameter 'pretrained' is deprecated since 0.13 and may be removed in the future, please use 'weights' instead.\n",
      "  warnings.warn(\n",
      "/opt/conda/lib/python3.10/site-packages/torchvision/models/_utils.py:223: UserWarning: Arguments other than a weight enum or `None` for 'weights' are deprecated since 0.13 and may be removed in the future. The current behavior is equivalent to passing `weights=ResNet18_Weights.IMAGENET1K_V1`. You can also use `weights=ResNet18_Weights.DEFAULT` to get the most up-to-date weights.\n",
      "  warnings.warn(msg)\n"
     ]
    }
   ],
   "source": [
    "device = torch.device(\"cuda\" if torch.cuda.is_available() else \"cpu\")\n",
    "\n",
    "model = models.resnet18(pretrained=True).to(device)\n",
    "model.conv1 = nn.Conv2d(9, 64, kernel_size=7, stride=2, padding=3, bias=False)\n",
    "model.fc = nn.Linear(model.fc.in_features, n_classes)\n",
    "model = model.to(device)\n",
    "\n",
    "loss_function = torch.nn.CrossEntropyLoss()\n",
    "optimizer = torch.optim.Adam(model.parameters(), 0.00005)\n",
    "max_epochs = 80\n",
    "val_interval = 1"
   ]
  },
  {
   "cell_type": "code",
   "execution_count": 13,
   "metadata": {},
   "outputs": [
    {
     "name": "stdout",
     "output_type": "stream",
     "text": [
      "ResNet(\n",
      "  (conv1): Conv2d(9, 64, kernel_size=(7, 7), stride=(2, 2), padding=(3, 3), bias=False)\n",
      "  (bn1): BatchNorm2d(64, eps=1e-05, momentum=0.1, affine=True, track_running_stats=True)\n",
      "  (relu): ReLU(inplace=True)\n",
      "  (maxpool): MaxPool2d(kernel_size=3, stride=2, padding=1, dilation=1, ceil_mode=False)\n",
      "  (layer1): Sequential(\n",
      "    (0): BasicBlock(\n",
      "      (conv1): Conv2d(64, 64, kernel_size=(3, 3), stride=(1, 1), padding=(1, 1), bias=False)\n",
      "      (bn1): BatchNorm2d(64, eps=1e-05, momentum=0.1, affine=True, track_running_stats=True)\n",
      "      (relu): ReLU(inplace=True)\n",
      "      (conv2): Conv2d(64, 64, kernel_size=(3, 3), stride=(1, 1), padding=(1, 1), bias=False)\n",
      "      (bn2): BatchNorm2d(64, eps=1e-05, momentum=0.1, affine=True, track_running_stats=True)\n",
      "    )\n",
      "    (1): BasicBlock(\n",
      "      (conv1): Conv2d(64, 64, kernel_size=(3, 3), stride=(1, 1), padding=(1, 1), bias=False)\n",
      "      (bn1): BatchNorm2d(64, eps=1e-05, momentum=0.1, affine=True, track_running_stats=True)\n",
      "      (relu): ReLU(inplace=True)\n",
      "      (conv2): Conv2d(64, 64, kernel_size=(3, 3), stride=(1, 1), padding=(1, 1), bias=False)\n",
      "      (bn2): BatchNorm2d(64, eps=1e-05, momentum=0.1, affine=True, track_running_stats=True)\n",
      "    )\n",
      "  )\n",
      "  (layer2): Sequential(\n",
      "    (0): BasicBlock(\n",
      "      (conv1): Conv2d(64, 128, kernel_size=(3, 3), stride=(2, 2), padding=(1, 1), bias=False)\n",
      "      (bn1): BatchNorm2d(128, eps=1e-05, momentum=0.1, affine=True, track_running_stats=True)\n",
      "      (relu): ReLU(inplace=True)\n",
      "      (conv2): Conv2d(128, 128, kernel_size=(3, 3), stride=(1, 1), padding=(1, 1), bias=False)\n",
      "      (bn2): BatchNorm2d(128, eps=1e-05, momentum=0.1, affine=True, track_running_stats=True)\n",
      "      (downsample): Sequential(\n",
      "        (0): Conv2d(64, 128, kernel_size=(1, 1), stride=(2, 2), bias=False)\n",
      "        (1): BatchNorm2d(128, eps=1e-05, momentum=0.1, affine=True, track_running_stats=True)\n",
      "      )\n",
      "    )\n",
      "    (1): BasicBlock(\n",
      "      (conv1): Conv2d(128, 128, kernel_size=(3, 3), stride=(1, 1), padding=(1, 1), bias=False)\n",
      "      (bn1): BatchNorm2d(128, eps=1e-05, momentum=0.1, affine=True, track_running_stats=True)\n",
      "      (relu): ReLU(inplace=True)\n",
      "      (conv2): Conv2d(128, 128, kernel_size=(3, 3), stride=(1, 1), padding=(1, 1), bias=False)\n",
      "      (bn2): BatchNorm2d(128, eps=1e-05, momentum=0.1, affine=True, track_running_stats=True)\n",
      "    )\n",
      "  )\n",
      "  (layer3): Sequential(\n",
      "    (0): BasicBlock(\n",
      "      (conv1): Conv2d(128, 256, kernel_size=(3, 3), stride=(2, 2), padding=(1, 1), bias=False)\n",
      "      (bn1): BatchNorm2d(256, eps=1e-05, momentum=0.1, affine=True, track_running_stats=True)\n",
      "      (relu): ReLU(inplace=True)\n",
      "      (conv2): Conv2d(256, 256, kernel_size=(3, 3), stride=(1, 1), padding=(1, 1), bias=False)\n",
      "      (bn2): BatchNorm2d(256, eps=1e-05, momentum=0.1, affine=True, track_running_stats=True)\n",
      "      (downsample): Sequential(\n",
      "        (0): Conv2d(128, 256, kernel_size=(1, 1), stride=(2, 2), bias=False)\n",
      "        (1): BatchNorm2d(256, eps=1e-05, momentum=0.1, affine=True, track_running_stats=True)\n",
      "      )\n",
      "    )\n",
      "    (1): BasicBlock(\n",
      "      (conv1): Conv2d(256, 256, kernel_size=(3, 3), stride=(1, 1), padding=(1, 1), bias=False)\n",
      "      (bn1): BatchNorm2d(256, eps=1e-05, momentum=0.1, affine=True, track_running_stats=True)\n",
      "      (relu): ReLU(inplace=True)\n",
      "      (conv2): Conv2d(256, 256, kernel_size=(3, 3), stride=(1, 1), padding=(1, 1), bias=False)\n",
      "      (bn2): BatchNorm2d(256, eps=1e-05, momentum=0.1, affine=True, track_running_stats=True)\n",
      "    )\n",
      "  )\n",
      "  (layer4): Sequential(\n",
      "    (0): BasicBlock(\n",
      "      (conv1): Conv2d(256, 512, kernel_size=(3, 3), stride=(2, 2), padding=(1, 1), bias=False)\n",
      "      (bn1): BatchNorm2d(512, eps=1e-05, momentum=0.1, affine=True, track_running_stats=True)\n",
      "      (relu): ReLU(inplace=True)\n",
      "      (conv2): Conv2d(512, 512, kernel_size=(3, 3), stride=(1, 1), padding=(1, 1), bias=False)\n",
      "      (bn2): BatchNorm2d(512, eps=1e-05, momentum=0.1, affine=True, track_running_stats=True)\n",
      "      (downsample): Sequential(\n",
      "        (0): Conv2d(256, 512, kernel_size=(1, 1), stride=(2, 2), bias=False)\n",
      "        (1): BatchNorm2d(512, eps=1e-05, momentum=0.1, affine=True, track_running_stats=True)\n",
      "      )\n",
      "    )\n",
      "    (1): BasicBlock(\n",
      "      (conv1): Conv2d(512, 512, kernel_size=(3, 3), stride=(1, 1), padding=(1, 1), bias=False)\n",
      "      (bn1): BatchNorm2d(512, eps=1e-05, momentum=0.1, affine=True, track_running_stats=True)\n",
      "      (relu): ReLU(inplace=True)\n",
      "      (conv2): Conv2d(512, 512, kernel_size=(3, 3), stride=(1, 1), padding=(1, 1), bias=False)\n",
      "      (bn2): BatchNorm2d(512, eps=1e-05, momentum=0.1, affine=True, track_running_stats=True)\n",
      "    )\n",
      "  )\n",
      "  (avgpool): AdaptiveAvgPool2d(output_size=(1, 1))\n",
      "  (fc): Linear(in_features=512, out_features=11, bias=True)\n",
      ")\n"
     ]
    }
   ],
   "source": [
    "print(model)"
   ]
  },
  {
   "cell_type": "code",
   "execution_count": 14,
   "metadata": {
    "scrolled": true
   },
   "outputs": [
    {
     "name": "stderr",
     "output_type": "stream",
     "text": [
      "Epochs:   0%|          | 0/80 [00:00<?, ?it/s]"
     ]
    },
    {
     "name": "stdout",
     "output_type": "stream",
     "text": [
      "----------\n",
      "epoch 1/80\n",
      "epoch 1 average loss: 2.1976\n"
     ]
    },
    {
     "name": "stderr",
     "output_type": "stream",
     "text": [
      "Epochs:   1%|▏         | 1/80 [00:11<15:26, 11.73s/it]"
     ]
    },
    {
     "name": "stdout",
     "output_type": "stream",
     "text": [
      "saved new best metric model\n",
      "current epoch: 1 current AUC: 0.8872 current accuracy: 0.5031 best AUC: 0.8872 at epoch: 1\n",
      "----------\n",
      "epoch 2/80\n",
      "epoch 2 average loss: 1.6147\n"
     ]
    },
    {
     "name": "stderr",
     "output_type": "stream",
     "text": [
      "Epochs:   2%|▎         | 2/80 [00:21<13:56, 10.73s/it]"
     ]
    },
    {
     "name": "stdout",
     "output_type": "stream",
     "text": [
      "saved new best metric model\n",
      "current epoch: 2 current AUC: 0.9414 current accuracy: 0.6087 best AUC: 0.9414 at epoch: 2\n",
      "----------\n",
      "epoch 3/80\n",
      "epoch 3 average loss: 1.3139\n"
     ]
    },
    {
     "name": "stderr",
     "output_type": "stream",
     "text": [
      "Epochs:   4%|▍         | 3/80 [00:31<13:24, 10.44s/it]"
     ]
    },
    {
     "name": "stdout",
     "output_type": "stream",
     "text": [
      "saved new best metric model\n",
      "current epoch: 3 current AUC: 0.9737 current accuracy: 0.7205 best AUC: 0.9737 at epoch: 3\n",
      "----------\n",
      "epoch 4/80\n",
      "epoch 4 average loss: 1.2610\n"
     ]
    },
    {
     "name": "stderr",
     "output_type": "stream",
     "text": [
      "Epochs:   5%|▌         | 4/80 [00:41<13:01, 10.28s/it]"
     ]
    },
    {
     "name": "stdout",
     "output_type": "stream",
     "text": [
      "saved new best metric model\n",
      "current epoch: 4 current AUC: 0.9772 current accuracy: 0.7453 best AUC: 0.9772 at epoch: 4\n",
      "----------\n",
      "epoch 5/80\n",
      "epoch 5 average loss: 1.1347\n"
     ]
    },
    {
     "name": "stderr",
     "output_type": "stream",
     "text": [
      "Epochs:   6%|▋         | 5/80 [00:51<12:43, 10.19s/it]"
     ]
    },
    {
     "name": "stdout",
     "output_type": "stream",
     "text": [
      "saved new best metric model\n",
      "current epoch: 5 current AUC: 0.9806 current accuracy: 0.7019 best AUC: 0.9806 at epoch: 5\n",
      "----------\n",
      "epoch 6/80\n",
      "epoch 6 average loss: 1.0850\n"
     ]
    },
    {
     "name": "stderr",
     "output_type": "stream",
     "text": [
      "Epochs:   8%|▊         | 6/80 [01:01<12:19,  9.99s/it]"
     ]
    },
    {
     "name": "stdout",
     "output_type": "stream",
     "text": [
      "current epoch: 6 current AUC: 0.9805 current accuracy: 0.7081 best AUC: 0.9806 at epoch: 5\n",
      "----------\n",
      "epoch 7/80\n",
      "epoch 7 average loss: 1.1003\n"
     ]
    },
    {
     "name": "stderr",
     "output_type": "stream",
     "text": [
      "Epochs:   9%|▉         | 7/80 [01:11<12:11, 10.02s/it]"
     ]
    },
    {
     "name": "stdout",
     "output_type": "stream",
     "text": [
      "saved new best metric model\n",
      "current epoch: 7 current AUC: 0.9833 current accuracy: 0.8199 best AUC: 0.9833 at epoch: 7\n",
      "----------\n",
      "epoch 8/80\n",
      "epoch 8 average loss: 1.0337\n"
     ]
    },
    {
     "name": "stderr",
     "output_type": "stream",
     "text": [
      "Epochs:  10%|█         | 8/80 [01:21<12:00, 10.00s/it]"
     ]
    },
    {
     "name": "stdout",
     "output_type": "stream",
     "text": [
      "saved new best metric model\n",
      "current epoch: 8 current AUC: 0.9910 current accuracy: 0.8075 best AUC: 0.9910 at epoch: 8\n",
      "----------\n",
      "epoch 9/80\n",
      "epoch 9 average loss: 0.9783\n"
     ]
    },
    {
     "name": "stderr",
     "output_type": "stream",
     "text": [
      "Epochs:  11%|█▏        | 9/80 [01:31<11:43,  9.90s/it]"
     ]
    },
    {
     "name": "stdout",
     "output_type": "stream",
     "text": [
      "current epoch: 9 current AUC: 0.9850 current accuracy: 0.8075 best AUC: 0.9910 at epoch: 8\n",
      "----------\n",
      "epoch 10/80\n",
      "epoch 10 average loss: 0.9359\n"
     ]
    },
    {
     "name": "stderr",
     "output_type": "stream",
     "text": [
      "Epochs:  12%|█▎        | 10/80 [01:41<11:35,  9.94s/it]"
     ]
    },
    {
     "name": "stdout",
     "output_type": "stream",
     "text": [
      "saved new best metric model\n",
      "current epoch: 10 current AUC: 0.9915 current accuracy: 0.8571 best AUC: 0.9915 at epoch: 10\n",
      "----------\n",
      "epoch 11/80\n",
      "epoch 11 average loss: 0.9546\n"
     ]
    },
    {
     "name": "stderr",
     "output_type": "stream",
     "text": [
      "Epochs:  14%|█▍        | 11/80 [01:51<11:28,  9.98s/it]"
     ]
    },
    {
     "name": "stdout",
     "output_type": "stream",
     "text": [
      "saved new best metric model\n",
      "current epoch: 11 current AUC: 0.9916 current accuracy: 0.8509 best AUC: 0.9916 at epoch: 11\n",
      "----------\n",
      "epoch 12/80\n",
      "epoch 12 average loss: 0.8604\n"
     ]
    },
    {
     "name": "stderr",
     "output_type": "stream",
     "text": [
      "Epochs:  15%|█▌        | 12/80 [02:01<11:18,  9.98s/it]"
     ]
    },
    {
     "name": "stdout",
     "output_type": "stream",
     "text": [
      "saved new best metric model\n",
      "current epoch: 12 current AUC: 0.9962 current accuracy: 0.8758 best AUC: 0.9962 at epoch: 12\n",
      "----------\n",
      "epoch 13/80\n",
      "epoch 13 average loss: 0.8478\n"
     ]
    },
    {
     "name": "stderr",
     "output_type": "stream",
     "text": [
      "Epochs:  16%|█▋        | 13/80 [02:10<10:59,  9.84s/it]"
     ]
    },
    {
     "name": "stdout",
     "output_type": "stream",
     "text": [
      "current epoch: 13 current AUC: 0.9887 current accuracy: 0.8323 best AUC: 0.9962 at epoch: 12\n",
      "----------\n",
      "epoch 14/80\n",
      "epoch 14 average loss: 0.8224\n"
     ]
    },
    {
     "name": "stderr",
     "output_type": "stream",
     "text": [
      "Epochs:  18%|█▊        | 14/80 [02:20<10:50,  9.86s/it]"
     ]
    },
    {
     "name": "stdout",
     "output_type": "stream",
     "text": [
      "saved new best metric model\n",
      "current epoch: 14 current AUC: 0.9965 current accuracy: 0.8820 best AUC: 0.9965 at epoch: 14\n",
      "----------\n",
      "epoch 15/80\n",
      "epoch 15 average loss: 0.8483\n"
     ]
    },
    {
     "name": "stderr",
     "output_type": "stream",
     "text": [
      "Epochs:  19%|█▉        | 15/80 [02:30<10:37,  9.80s/it]"
     ]
    },
    {
     "name": "stdout",
     "output_type": "stream",
     "text": [
      "current epoch: 15 current AUC: 0.9915 current accuracy: 0.8758 best AUC: 0.9965 at epoch: 14\n",
      "----------\n",
      "epoch 16/80\n",
      "epoch 16 average loss: 0.7889\n"
     ]
    },
    {
     "name": "stderr",
     "output_type": "stream",
     "text": [
      "Epochs:  20%|██        | 16/80 [02:40<10:25,  9.78s/it]"
     ]
    },
    {
     "name": "stdout",
     "output_type": "stream",
     "text": [
      "current epoch: 16 current AUC: 0.9936 current accuracy: 0.8447 best AUC: 0.9965 at epoch: 14\n",
      "----------\n",
      "epoch 17/80\n",
      "epoch 17 average loss: 0.7853\n"
     ]
    },
    {
     "name": "stderr",
     "output_type": "stream",
     "text": [
      "Epochs:  21%|██▏       | 17/80 [02:49<10:14,  9.75s/it]"
     ]
    },
    {
     "name": "stdout",
     "output_type": "stream",
     "text": [
      "saved new best metric model\n",
      "current epoch: 17 current AUC: 0.9980 current accuracy: 0.8758 best AUC: 0.9980 at epoch: 17\n",
      "----------\n",
      "epoch 18/80\n",
      "epoch 18 average loss: 0.7429\n"
     ]
    },
    {
     "name": "stderr",
     "output_type": "stream",
     "text": [
      "Epochs:  22%|██▎       | 18/80 [02:59<09:56,  9.62s/it]"
     ]
    },
    {
     "name": "stdout",
     "output_type": "stream",
     "text": [
      "saved new best metric model\n",
      "current epoch: 18 current AUC: 0.9983 current accuracy: 0.8944 best AUC: 0.9983 at epoch: 18\n",
      "----------\n",
      "epoch 19/80\n",
      "epoch 19 average loss: 0.7031\n"
     ]
    },
    {
     "name": "stderr",
     "output_type": "stream",
     "text": [
      "Epochs:  24%|██▍       | 19/80 [03:08<09:37,  9.46s/it]"
     ]
    },
    {
     "name": "stdout",
     "output_type": "stream",
     "text": [
      "current epoch: 19 current AUC: 0.9967 current accuracy: 0.9130 best AUC: 0.9983 at epoch: 18\n",
      "----------\n",
      "epoch 20/80\n",
      "epoch 20 average loss: 0.7094\n"
     ]
    },
    {
     "name": "stderr",
     "output_type": "stream",
     "text": [
      "Epochs:  25%|██▌       | 20/80 [03:17<09:25,  9.42s/it]"
     ]
    },
    {
     "name": "stdout",
     "output_type": "stream",
     "text": [
      "saved new best metric model\n",
      "current epoch: 20 current AUC: 0.9986 current accuracy: 0.9255 best AUC: 0.9986 at epoch: 20\n",
      "----------\n",
      "epoch 21/80\n",
      "epoch 21 average loss: 0.6281\n"
     ]
    },
    {
     "name": "stderr",
     "output_type": "stream",
     "text": [
      "Epochs:  26%|██▋       | 21/80 [03:26<09:05,  9.25s/it]"
     ]
    },
    {
     "name": "stdout",
     "output_type": "stream",
     "text": [
      "current epoch: 21 current AUC: 0.9984 current accuracy: 0.9193 best AUC: 0.9986 at epoch: 20\n",
      "----------\n",
      "epoch 22/80\n",
      "epoch 22 average loss: 0.5947\n"
     ]
    },
    {
     "name": "stderr",
     "output_type": "stream",
     "text": [
      "Epochs:  28%|██▊       | 22/80 [03:35<08:50,  9.14s/it]"
     ]
    },
    {
     "name": "stdout",
     "output_type": "stream",
     "text": [
      "current epoch: 22 current AUC: 0.9980 current accuracy: 0.9255 best AUC: 0.9986 at epoch: 20\n",
      "----------\n",
      "epoch 23/80\n",
      "epoch 23 average loss: 0.6365\n"
     ]
    },
    {
     "name": "stderr",
     "output_type": "stream",
     "text": [
      "Epochs:  29%|██▉       | 23/80 [03:44<08:34,  9.02s/it]"
     ]
    },
    {
     "name": "stdout",
     "output_type": "stream",
     "text": [
      "current epoch: 23 current AUC: 0.9986 current accuracy: 0.8944 best AUC: 0.9986 at epoch: 20\n",
      "----------\n",
      "epoch 24/80\n",
      "epoch 24 average loss: 0.5943\n"
     ]
    },
    {
     "name": "stderr",
     "output_type": "stream",
     "text": [
      "Epochs:  30%|███       | 24/80 [03:52<08:20,  8.95s/it]"
     ]
    },
    {
     "name": "stdout",
     "output_type": "stream",
     "text": [
      "current epoch: 24 current AUC: 0.9970 current accuracy: 0.9193 best AUC: 0.9986 at epoch: 20\n",
      "----------\n",
      "epoch 25/80\n",
      "epoch 25 average loss: 0.5871\n"
     ]
    },
    {
     "name": "stderr",
     "output_type": "stream",
     "text": [
      "Epochs:  31%|███▏      | 25/80 [04:02<08:20,  9.10s/it]"
     ]
    },
    {
     "name": "stdout",
     "output_type": "stream",
     "text": [
      "saved new best metric model\n",
      "current epoch: 25 current AUC: 0.9991 current accuracy: 0.9317 best AUC: 0.9991 at epoch: 25\n",
      "----------\n",
      "epoch 26/80\n",
      "epoch 26 average loss: 0.6014\n"
     ]
    },
    {
     "name": "stderr",
     "output_type": "stream",
     "text": [
      "Epochs:  32%|███▎      | 26/80 [04:11<08:09,  9.06s/it]"
     ]
    },
    {
     "name": "stdout",
     "output_type": "stream",
     "text": [
      "current epoch: 26 current AUC: 0.9985 current accuracy: 0.9255 best AUC: 0.9991 at epoch: 25\n",
      "----------\n",
      "epoch 27/80\n",
      "epoch 27 average loss: 0.5824\n"
     ]
    },
    {
     "name": "stderr",
     "output_type": "stream",
     "text": [
      "Epochs:  34%|███▍      | 27/80 [04:20<07:59,  9.05s/it]"
     ]
    },
    {
     "name": "stdout",
     "output_type": "stream",
     "text": [
      "current epoch: 27 current AUC: 0.9985 current accuracy: 0.9441 best AUC: 0.9991 at epoch: 25\n",
      "----------\n",
      "epoch 28/80\n",
      "epoch 28 average loss: 0.5807\n"
     ]
    },
    {
     "name": "stderr",
     "output_type": "stream",
     "text": [
      "Epochs:  35%|███▌      | 28/80 [04:29<07:48,  9.02s/it]"
     ]
    },
    {
     "name": "stdout",
     "output_type": "stream",
     "text": [
      "current epoch: 28 current AUC: 0.9989 current accuracy: 0.9255 best AUC: 0.9991 at epoch: 25\n",
      "----------\n",
      "epoch 29/80\n",
      "epoch 29 average loss: 0.5909\n"
     ]
    },
    {
     "name": "stderr",
     "output_type": "stream",
     "text": [
      "Epochs:  36%|███▋      | 29/80 [04:38<07:39,  9.00s/it]"
     ]
    },
    {
     "name": "stdout",
     "output_type": "stream",
     "text": [
      "current epoch: 29 current AUC: 0.9977 current accuracy: 0.9193 best AUC: 0.9991 at epoch: 25\n",
      "----------\n",
      "epoch 30/80\n",
      "epoch 30 average loss: 0.5314\n"
     ]
    },
    {
     "name": "stderr",
     "output_type": "stream",
     "text": [
      "Epochs:  38%|███▊      | 30/80 [04:47<07:27,  8.95s/it]"
     ]
    },
    {
     "name": "stdout",
     "output_type": "stream",
     "text": [
      "current epoch: 30 current AUC: 0.9985 current accuracy: 0.9317 best AUC: 0.9991 at epoch: 25\n",
      "----------\n",
      "epoch 31/80\n",
      "epoch 31 average loss: 0.5110\n"
     ]
    },
    {
     "name": "stderr",
     "output_type": "stream",
     "text": [
      "Epochs:  39%|███▉      | 31/80 [04:55<07:16,  8.92s/it]"
     ]
    },
    {
     "name": "stdout",
     "output_type": "stream",
     "text": [
      "current epoch: 31 current AUC: 0.9976 current accuracy: 0.9379 best AUC: 0.9991 at epoch: 25\n",
      "----------\n",
      "epoch 32/80\n",
      "epoch 32 average loss: 0.5407\n"
     ]
    },
    {
     "name": "stderr",
     "output_type": "stream",
     "text": [
      "Epochs:  40%|████      | 32/80 [05:05<07:15,  9.06s/it]"
     ]
    },
    {
     "name": "stdout",
     "output_type": "stream",
     "text": [
      "saved new best metric model\n",
      "current epoch: 32 current AUC: 0.9994 current accuracy: 0.9441 best AUC: 0.9994 at epoch: 32\n",
      "----------\n",
      "epoch 33/80\n",
      "epoch 33 average loss: 0.5016\n"
     ]
    },
    {
     "name": "stderr",
     "output_type": "stream",
     "text": [
      "Epochs:  41%|████▏     | 33/80 [05:14<07:10,  9.17s/it]"
     ]
    },
    {
     "name": "stdout",
     "output_type": "stream",
     "text": [
      "saved new best metric model\n",
      "current epoch: 33 current AUC: 0.9997 current accuracy: 0.9503 best AUC: 0.9997 at epoch: 33\n",
      "----------\n",
      "epoch 34/80\n",
      "epoch 34 average loss: 0.4884\n"
     ]
    },
    {
     "name": "stderr",
     "output_type": "stream",
     "text": [
      "Epochs:  42%|████▎     | 34/80 [05:23<06:57,  9.08s/it]"
     ]
    },
    {
     "name": "stdout",
     "output_type": "stream",
     "text": [
      "current epoch: 34 current AUC: 0.9962 current accuracy: 0.9193 best AUC: 0.9997 at epoch: 33\n",
      "----------\n",
      "epoch 35/80\n",
      "epoch 35 average loss: 0.4608\n"
     ]
    },
    {
     "name": "stderr",
     "output_type": "stream",
     "text": [
      "Epochs:  44%|████▍     | 35/80 [05:32<06:45,  9.02s/it]"
     ]
    },
    {
     "name": "stdout",
     "output_type": "stream",
     "text": [
      "current epoch: 35 current AUC: 0.9989 current accuracy: 0.9441 best AUC: 0.9997 at epoch: 33\n",
      "----------\n",
      "epoch 36/80\n",
      "epoch 36 average loss: 0.4741\n"
     ]
    },
    {
     "name": "stderr",
     "output_type": "stream",
     "text": [
      "Epochs:  45%|████▌     | 36/80 [05:41<06:35,  8.98s/it]"
     ]
    },
    {
     "name": "stdout",
     "output_type": "stream",
     "text": [
      "current epoch: 36 current AUC: 0.9982 current accuracy: 0.9441 best AUC: 0.9997 at epoch: 33\n",
      "----------\n",
      "epoch 37/80\n",
      "epoch 37 average loss: 0.4762\n"
     ]
    },
    {
     "name": "stderr",
     "output_type": "stream",
     "text": [
      "Epochs:  46%|████▋     | 37/80 [05:50<06:26,  8.99s/it]"
     ]
    },
    {
     "name": "stdout",
     "output_type": "stream",
     "text": [
      "current epoch: 37 current AUC: 0.9993 current accuracy: 0.9627 best AUC: 0.9997 at epoch: 33\n",
      "----------\n",
      "epoch 38/80\n",
      "epoch 38 average loss: 0.4805\n"
     ]
    },
    {
     "name": "stderr",
     "output_type": "stream",
     "text": [
      "Epochs:  48%|████▊     | 38/80 [05:59<06:16,  8.97s/it]"
     ]
    },
    {
     "name": "stdout",
     "output_type": "stream",
     "text": [
      "current epoch: 38 current AUC: 0.9984 current accuracy: 0.9068 best AUC: 0.9997 at epoch: 33\n",
      "----------\n",
      "epoch 39/80\n",
      "epoch 39 average loss: 0.4142\n"
     ]
    },
    {
     "name": "stderr",
     "output_type": "stream",
     "text": [
      "Epochs:  49%|████▉     | 39/80 [06:08<06:06,  8.94s/it]"
     ]
    },
    {
     "name": "stdout",
     "output_type": "stream",
     "text": [
      "current epoch: 39 current AUC: 0.9986 current accuracy: 0.9317 best AUC: 0.9997 at epoch: 33\n",
      "----------\n",
      "epoch 40/80\n",
      "epoch 40 average loss: 0.4438\n"
     ]
    },
    {
     "name": "stderr",
     "output_type": "stream",
     "text": [
      "Epochs:  50%|█████     | 40/80 [06:16<05:55,  8.90s/it]"
     ]
    },
    {
     "name": "stdout",
     "output_type": "stream",
     "text": [
      "current epoch: 40 current AUC: 0.9982 current accuracy: 0.9503 best AUC: 0.9997 at epoch: 33\n",
      "----------\n",
      "epoch 41/80\n",
      "epoch 41 average loss: 0.4455\n"
     ]
    },
    {
     "name": "stderr",
     "output_type": "stream",
     "text": [
      "Epochs:  51%|█████▏    | 41/80 [06:25<05:46,  8.89s/it]"
     ]
    },
    {
     "name": "stdout",
     "output_type": "stream",
     "text": [
      "current epoch: 41 current AUC: 0.9995 current accuracy: 0.9441 best AUC: 0.9997 at epoch: 33\n",
      "----------\n",
      "epoch 42/80\n",
      "epoch 42 average loss: 0.3982\n"
     ]
    },
    {
     "name": "stderr",
     "output_type": "stream",
     "text": [
      "Epochs:  52%|█████▎    | 42/80 [06:34<05:36,  8.87s/it]"
     ]
    },
    {
     "name": "stdout",
     "output_type": "stream",
     "text": [
      "current epoch: 42 current AUC: 0.9986 current accuracy: 0.9255 best AUC: 0.9997 at epoch: 33\n",
      "----------\n",
      "epoch 43/80\n",
      "epoch 43 average loss: 0.4387\n"
     ]
    },
    {
     "name": "stderr",
     "output_type": "stream",
     "text": [
      "Epochs:  54%|█████▍    | 43/80 [06:43<05:27,  8.86s/it]"
     ]
    },
    {
     "name": "stdout",
     "output_type": "stream",
     "text": [
      "current epoch: 43 current AUC: 0.9985 current accuracy: 0.9255 best AUC: 0.9997 at epoch: 33\n",
      "----------\n",
      "epoch 44/80\n",
      "epoch 44 average loss: 0.4517\n"
     ]
    },
    {
     "name": "stderr",
     "output_type": "stream",
     "text": [
      "Epochs:  55%|█████▌    | 44/80 [06:52<05:18,  8.86s/it]"
     ]
    },
    {
     "name": "stdout",
     "output_type": "stream",
     "text": [
      "current epoch: 44 current AUC: 0.9986 current accuracy: 0.9441 best AUC: 0.9997 at epoch: 33\n",
      "----------\n",
      "epoch 45/80\n",
      "epoch 45 average loss: 0.4077\n"
     ]
    },
    {
     "name": "stderr",
     "output_type": "stream",
     "text": [
      "Epochs:  56%|█████▋    | 45/80 [07:01<05:11,  8.89s/it]"
     ]
    },
    {
     "name": "stdout",
     "output_type": "stream",
     "text": [
      "current epoch: 45 current AUC: 0.9991 current accuracy: 0.9379 best AUC: 0.9997 at epoch: 33\n",
      "----------\n",
      "epoch 46/80\n",
      "epoch 46 average loss: 0.4117\n"
     ]
    },
    {
     "name": "stderr",
     "output_type": "stream",
     "text": [
      "Epochs:  57%|█████▊    | 46/80 [07:10<05:02,  8.90s/it]"
     ]
    },
    {
     "name": "stdout",
     "output_type": "stream",
     "text": [
      "current epoch: 46 current AUC: 0.9989 current accuracy: 0.9441 best AUC: 0.9997 at epoch: 33\n",
      "----------\n",
      "epoch 47/80\n",
      "epoch 47 average loss: 0.3814\n"
     ]
    },
    {
     "name": "stderr",
     "output_type": "stream",
     "text": [
      "Epochs:  59%|█████▉    | 47/80 [07:19<04:53,  8.90s/it]"
     ]
    },
    {
     "name": "stdout",
     "output_type": "stream",
     "text": [
      "current epoch: 47 current AUC: 0.9989 current accuracy: 0.9379 best AUC: 0.9997 at epoch: 33\n",
      "----------\n",
      "epoch 48/80\n",
      "epoch 48 average loss: 0.3741\n"
     ]
    },
    {
     "name": "stderr",
     "output_type": "stream",
     "text": [
      "Epochs:  60%|██████    | 48/80 [07:28<04:45,  8.91s/it]"
     ]
    },
    {
     "name": "stdout",
     "output_type": "stream",
     "text": [
      "current epoch: 48 current AUC: 0.9992 current accuracy: 0.9565 best AUC: 0.9997 at epoch: 33\n",
      "----------\n",
      "epoch 49/80\n",
      "epoch 49 average loss: 0.4035\n"
     ]
    },
    {
     "name": "stderr",
     "output_type": "stream",
     "text": [
      "Epochs:  61%|██████▏   | 49/80 [07:37<04:37,  8.94s/it]"
     ]
    },
    {
     "name": "stdout",
     "output_type": "stream",
     "text": [
      "current epoch: 49 current AUC: 0.9993 current accuracy: 0.9627 best AUC: 0.9997 at epoch: 33\n",
      "----------\n",
      "epoch 50/80\n",
      "epoch 50 average loss: 0.3556\n"
     ]
    },
    {
     "name": "stderr",
     "output_type": "stream",
     "text": [
      "Epochs:  62%|██████▎   | 50/80 [07:45<04:27,  8.92s/it]"
     ]
    },
    {
     "name": "stdout",
     "output_type": "stream",
     "text": [
      "current epoch: 50 current AUC: 0.9981 current accuracy: 0.9565 best AUC: 0.9997 at epoch: 33\n",
      "----------\n",
      "epoch 51/80\n",
      "epoch 51 average loss: 0.3632\n"
     ]
    },
    {
     "name": "stderr",
     "output_type": "stream",
     "text": [
      "Epochs:  64%|██████▍   | 51/80 [07:55<04:22,  9.04s/it]"
     ]
    },
    {
     "name": "stdout",
     "output_type": "stream",
     "text": [
      "saved new best metric model\n",
      "current epoch: 51 current AUC: 0.9997 current accuracy: 0.9379 best AUC: 0.9997 at epoch: 51\n",
      "----------\n",
      "epoch 52/80\n",
      "epoch 52 average loss: 0.3991\n"
     ]
    },
    {
     "name": "stderr",
     "output_type": "stream",
     "text": [
      "Epochs:  65%|██████▌   | 52/80 [08:04<04:11,  9.00s/it]"
     ]
    },
    {
     "name": "stdout",
     "output_type": "stream",
     "text": [
      "current epoch: 52 current AUC: 0.9992 current accuracy: 0.9565 best AUC: 0.9997 at epoch: 51\n",
      "----------\n",
      "epoch 53/80\n",
      "epoch 53 average loss: 0.3687\n"
     ]
    },
    {
     "name": "stderr",
     "output_type": "stream",
     "text": [
      "Epochs:  66%|██████▋   | 53/80 [08:13<04:02,  8.97s/it]"
     ]
    },
    {
     "name": "stdout",
     "output_type": "stream",
     "text": [
      "current epoch: 53 current AUC: 0.9995 current accuracy: 0.9752 best AUC: 0.9997 at epoch: 51\n",
      "----------\n",
      "epoch 54/80\n",
      "epoch 54 average loss: 0.4042\n"
     ]
    },
    {
     "name": "stderr",
     "output_type": "stream",
     "text": [
      "Epochs:  68%|██████▊   | 54/80 [08:21<03:52,  8.93s/it]"
     ]
    },
    {
     "name": "stdout",
     "output_type": "stream",
     "text": [
      "current epoch: 54 current AUC: 0.9986 current accuracy: 0.9441 best AUC: 0.9997 at epoch: 51\n",
      "----------\n",
      "epoch 55/80\n",
      "epoch 55 average loss: 0.3571\n"
     ]
    },
    {
     "name": "stderr",
     "output_type": "stream",
     "text": [
      "Epochs:  69%|██████▉   | 55/80 [08:30<03:42,  8.91s/it]"
     ]
    },
    {
     "name": "stdout",
     "output_type": "stream",
     "text": [
      "current epoch: 55 current AUC: 0.9993 current accuracy: 0.9627 best AUC: 0.9997 at epoch: 51\n",
      "----------\n",
      "epoch 56/80\n",
      "epoch 56 average loss: 0.3769\n"
     ]
    },
    {
     "name": "stderr",
     "output_type": "stream",
     "text": [
      "Epochs:  70%|███████   | 56/80 [08:39<03:34,  8.92s/it]"
     ]
    },
    {
     "name": "stdout",
     "output_type": "stream",
     "text": [
      "current epoch: 56 current AUC: 0.9993 current accuracy: 0.9317 best AUC: 0.9997 at epoch: 51\n",
      "----------\n",
      "epoch 57/80\n",
      "epoch 57 average loss: 0.3520\n"
     ]
    },
    {
     "name": "stderr",
     "output_type": "stream",
     "text": [
      "Epochs:  71%|███████▏  | 57/80 [08:48<03:27,  9.03s/it]"
     ]
    },
    {
     "name": "stdout",
     "output_type": "stream",
     "text": [
      "saved new best metric model\n",
      "current epoch: 57 current AUC: 0.9998 current accuracy: 0.9689 best AUC: 0.9998 at epoch: 57\n",
      "----------\n",
      "epoch 58/80\n",
      "epoch 58 average loss: 0.3502\n"
     ]
    },
    {
     "name": "stderr",
     "output_type": "stream",
     "text": [
      "Epochs:  72%|███████▎  | 58/80 [08:57<03:18,  9.02s/it]"
     ]
    },
    {
     "name": "stdout",
     "output_type": "stream",
     "text": [
      "current epoch: 58 current AUC: 0.9987 current accuracy: 0.9503 best AUC: 0.9998 at epoch: 57\n",
      "----------\n",
      "epoch 59/80\n",
      "epoch 59 average loss: 0.3712\n"
     ]
    },
    {
     "name": "stderr",
     "output_type": "stream",
     "text": [
      "Epochs:  74%|███████▍  | 59/80 [09:06<03:08,  9.00s/it]"
     ]
    },
    {
     "name": "stdout",
     "output_type": "stream",
     "text": [
      "current epoch: 59 current AUC: 0.9989 current accuracy: 0.9441 best AUC: 0.9998 at epoch: 57\n",
      "----------\n",
      "epoch 60/80\n",
      "epoch 60 average loss: 0.3626\n"
     ]
    },
    {
     "name": "stderr",
     "output_type": "stream",
     "text": [
      "Epochs:  75%|███████▌  | 60/80 [09:15<02:58,  8.95s/it]"
     ]
    },
    {
     "name": "stdout",
     "output_type": "stream",
     "text": [
      "current epoch: 60 current AUC: 0.9990 current accuracy: 0.9503 best AUC: 0.9998 at epoch: 57\n",
      "----------\n",
      "epoch 61/80\n",
      "epoch 61 average loss: 0.3532\n"
     ]
    },
    {
     "name": "stderr",
     "output_type": "stream",
     "text": [
      "Epochs:  76%|███████▋  | 61/80 [09:25<02:52,  9.08s/it]"
     ]
    },
    {
     "name": "stdout",
     "output_type": "stream",
     "text": [
      "saved new best metric model\n",
      "current epoch: 61 current AUC: 0.9998 current accuracy: 0.9627 best AUC: 0.9998 at epoch: 61\n",
      "----------\n",
      "epoch 62/80\n",
      "epoch 62 average loss: 0.3683\n"
     ]
    },
    {
     "name": "stderr",
     "output_type": "stream",
     "text": [
      "Epochs:  78%|███████▊  | 62/80 [09:34<02:42,  9.03s/it]"
     ]
    },
    {
     "name": "stdout",
     "output_type": "stream",
     "text": [
      "current epoch: 62 current AUC: 0.9994 current accuracy: 0.9565 best AUC: 0.9998 at epoch: 61\n",
      "----------\n",
      "epoch 63/80\n",
      "epoch 63 average loss: 0.3168\n"
     ]
    },
    {
     "name": "stderr",
     "output_type": "stream",
     "text": [
      "Epochs:  79%|███████▉  | 63/80 [09:43<02:36,  9.19s/it]"
     ]
    },
    {
     "name": "stdout",
     "output_type": "stream",
     "text": [
      "saved new best metric model\n",
      "current epoch: 63 current AUC: 0.9999 current accuracy: 0.9689 best AUC: 0.9999 at epoch: 63\n",
      "----------\n",
      "epoch 64/80\n",
      "epoch 64 average loss: 0.3113\n"
     ]
    },
    {
     "name": "stderr",
     "output_type": "stream",
     "text": [
      "Epochs:  80%|████████  | 64/80 [09:52<02:25,  9.12s/it]"
     ]
    },
    {
     "name": "stdout",
     "output_type": "stream",
     "text": [
      "current epoch: 64 current AUC: 0.9994 current accuracy: 0.9565 best AUC: 0.9999 at epoch: 63\n",
      "----------\n",
      "epoch 65/80\n",
      "epoch 65 average loss: 0.2895\n"
     ]
    },
    {
     "name": "stderr",
     "output_type": "stream",
     "text": [
      "Epochs:  81%|████████▏ | 65/80 [10:01<02:16,  9.08s/it]"
     ]
    },
    {
     "name": "stdout",
     "output_type": "stream",
     "text": [
      "current epoch: 65 current AUC: 0.9991 current accuracy: 0.9503 best AUC: 0.9999 at epoch: 63\n",
      "----------\n",
      "epoch 66/80\n",
      "epoch 66 average loss: 0.3148\n"
     ]
    },
    {
     "name": "stderr",
     "output_type": "stream",
     "text": [
      "Epochs:  82%|████████▎ | 66/80 [10:10<02:06,  9.03s/it]"
     ]
    },
    {
     "name": "stdout",
     "output_type": "stream",
     "text": [
      "current epoch: 66 current AUC: 0.9997 current accuracy: 0.9317 best AUC: 0.9999 at epoch: 63\n",
      "----------\n",
      "epoch 67/80\n",
      "epoch 67 average loss: 0.3221\n"
     ]
    },
    {
     "name": "stderr",
     "output_type": "stream",
     "text": [
      "Epochs:  84%|████████▍ | 67/80 [10:19<01:57,  9.00s/it]"
     ]
    },
    {
     "name": "stdout",
     "output_type": "stream",
     "text": [
      "current epoch: 67 current AUC: 0.9995 current accuracy: 0.9627 best AUC: 0.9999 at epoch: 63\n",
      "----------\n",
      "epoch 68/80\n",
      "epoch 68 average loss: 0.2783\n"
     ]
    },
    {
     "name": "stderr",
     "output_type": "stream",
     "text": [
      "Epochs:  85%|████████▌ | 68/80 [10:28<01:47,  8.96s/it]"
     ]
    },
    {
     "name": "stdout",
     "output_type": "stream",
     "text": [
      "current epoch: 68 current AUC: 0.9996 current accuracy: 0.9441 best AUC: 0.9999 at epoch: 63\n",
      "----------\n",
      "epoch 69/80\n",
      "epoch 69 average loss: 0.2881\n"
     ]
    },
    {
     "name": "stderr",
     "output_type": "stream",
     "text": [
      "Epochs:  86%|████████▋ | 69/80 [10:37<01:38,  8.93s/it]"
     ]
    },
    {
     "name": "stdout",
     "output_type": "stream",
     "text": [
      "current epoch: 69 current AUC: 0.9997 current accuracy: 0.9689 best AUC: 0.9999 at epoch: 63\n",
      "----------\n",
      "epoch 70/80\n",
      "epoch 70 average loss: 0.3218\n"
     ]
    },
    {
     "name": "stderr",
     "output_type": "stream",
     "text": [
      "Epochs:  88%|████████▊ | 70/80 [10:46<01:31,  9.10s/it]"
     ]
    },
    {
     "name": "stdout",
     "output_type": "stream",
     "text": [
      "saved new best metric model\n",
      "current epoch: 70 current AUC: 0.9999 current accuracy: 0.9814 best AUC: 0.9999 at epoch: 70\n",
      "----------\n",
      "epoch 71/80\n",
      "epoch 71 average loss: 0.2730\n"
     ]
    },
    {
     "name": "stderr",
     "output_type": "stream",
     "text": [
      "Epochs:  89%|████████▉ | 71/80 [10:55<01:21,  9.05s/it]"
     ]
    },
    {
     "name": "stdout",
     "output_type": "stream",
     "text": [
      "current epoch: 71 current AUC: 0.9995 current accuracy: 0.9814 best AUC: 0.9999 at epoch: 70\n",
      "----------\n",
      "epoch 72/80\n",
      "epoch 72 average loss: 0.2878\n"
     ]
    },
    {
     "name": "stderr",
     "output_type": "stream",
     "text": [
      "Epochs:  90%|█████████ | 72/80 [11:04<01:12,  9.00s/it]"
     ]
    },
    {
     "name": "stdout",
     "output_type": "stream",
     "text": [
      "current epoch: 72 current AUC: 0.9994 current accuracy: 0.9379 best AUC: 0.9999 at epoch: 70\n",
      "----------\n",
      "epoch 73/80\n",
      "epoch 73 average loss: 0.2655\n"
     ]
    },
    {
     "name": "stderr",
     "output_type": "stream",
     "text": [
      "Epochs:  91%|█████████▏| 73/80 [11:13<01:03,  9.00s/it]"
     ]
    },
    {
     "name": "stdout",
     "output_type": "stream",
     "text": [
      "current epoch: 73 current AUC: 0.9983 current accuracy: 0.9317 best AUC: 0.9999 at epoch: 70\n",
      "----------\n",
      "epoch 74/80\n",
      "epoch 74 average loss: 0.3023\n"
     ]
    },
    {
     "name": "stderr",
     "output_type": "stream",
     "text": [
      "Epochs:  92%|█████████▎| 74/80 [11:22<00:53,  8.98s/it]"
     ]
    },
    {
     "name": "stdout",
     "output_type": "stream",
     "text": [
      "current epoch: 74 current AUC: 0.9999 current accuracy: 0.9565 best AUC: 0.9999 at epoch: 70\n",
      "----------\n",
      "epoch 75/80\n",
      "epoch 75 average loss: 0.2824\n"
     ]
    },
    {
     "name": "stderr",
     "output_type": "stream",
     "text": [
      "Epochs:  94%|█████████▍| 75/80 [11:31<00:44,  9.00s/it]"
     ]
    },
    {
     "name": "stdout",
     "output_type": "stream",
     "text": [
      "current epoch: 75 current AUC: 0.9993 current accuracy: 0.9565 best AUC: 0.9999 at epoch: 70\n",
      "----------\n",
      "epoch 76/80\n",
      "epoch 76 average loss: 0.3016\n"
     ]
    },
    {
     "name": "stderr",
     "output_type": "stream",
     "text": [
      "Epochs:  95%|█████████▌| 76/80 [11:40<00:35,  8.96s/it]"
     ]
    },
    {
     "name": "stdout",
     "output_type": "stream",
     "text": [
      "current epoch: 76 current AUC: 0.9996 current accuracy: 0.9689 best AUC: 0.9999 at epoch: 70\n",
      "----------\n",
      "epoch 77/80\n",
      "epoch 77 average loss: 0.2571\n"
     ]
    },
    {
     "name": "stderr",
     "output_type": "stream",
     "text": [
      "Epochs:  96%|█████████▋| 77/80 [11:49<00:26,  8.95s/it]"
     ]
    },
    {
     "name": "stdout",
     "output_type": "stream",
     "text": [
      "current epoch: 77 current AUC: 0.9988 current accuracy: 0.9317 best AUC: 0.9999 at epoch: 70\n",
      "----------\n",
      "epoch 78/80\n",
      "epoch 78 average loss: 0.2480\n"
     ]
    },
    {
     "name": "stderr",
     "output_type": "stream",
     "text": [
      "Epochs:  98%|█████████▊| 78/80 [11:58<00:17,  8.94s/it]"
     ]
    },
    {
     "name": "stdout",
     "output_type": "stream",
     "text": [
      "current epoch: 78 current AUC: 0.9995 current accuracy: 0.9689 best AUC: 0.9999 at epoch: 70\n",
      "----------\n",
      "epoch 79/80\n",
      "epoch 79 average loss: 0.2759\n"
     ]
    },
    {
     "name": "stderr",
     "output_type": "stream",
     "text": [
      "Epochs:  99%|█████████▉| 79/80 [12:07<00:08,  8.95s/it]"
     ]
    },
    {
     "name": "stdout",
     "output_type": "stream",
     "text": [
      "current epoch: 79 current AUC: 0.9997 current accuracy: 0.9627 best AUC: 0.9999 at epoch: 70\n",
      "----------\n",
      "epoch 80/80\n",
      "epoch 80 average loss: 0.2869\n"
     ]
    },
    {
     "name": "stderr",
     "output_type": "stream",
     "text": [
      "Epochs: 100%|██████████| 80/80 [12:16<00:00,  9.20s/it]"
     ]
    },
    {
     "name": "stdout",
     "output_type": "stream",
     "text": [
      "current epoch: 80 current AUC: 0.9988 current accuracy: 0.9565 best AUC: 0.9999 at epoch: 70\n",
      "train completed, best_metric: 0.9999 at epoch: 70\n"
     ]
    },
    {
     "name": "stderr",
     "output_type": "stream",
     "text": [
      "\n"
     ]
    }
   ],
   "source": [
    "best_metric = -1\n",
    "best_metric_epoch = -1\n",
    "epoch_loss_values = []\n",
    "metric_values = []\n",
    "writer = SummaryWriter()\n",
    "\n",
    "start_time = time.time()\n",
    "process = psutil.Process()\n",
    "start_cpu = process.cpu_times()\n",
    "start_mem = process.memory_info().rss / 1024**2  # В MB\n",
    "\n",
    "if device.type == \"cuda\":\n",
    "    torch.cuda.synchronize()\n",
    "    torch.cuda.reset_peak_memory_stats()\n",
    "\n",
    "for epoch in tqdm(range(max_epochs), desc=\"Epochs\"):\n",
    "    print(\"-\" * 10)\n",
    "    print(f\"epoch {epoch + 1}/{max_epochs}\")\n",
    "    model.train()\n",
    "    epoch_loss = 0\n",
    "    step = 0\n",
    "    \n",
    "    for batch_data in train_loader:\n",
    "        step += 1\n",
    "        images, labels = batch_data['images'], batch_data['label'][:, 0].type(torch.LongTensor).to(device)\n",
    "        axial, coronal, sagittal = images\n",
    "\n",
    "        optimizer.zero_grad()\n",
    "        outputs = model(axial.to(device))\n",
    "        loss = loss_function(outputs, labels)\n",
    "        loss.backward()\n",
    "        optimizer.step()\n",
    "        \n",
    "        epoch_loss += loss.item()\n",
    "        epoch_len = len(train_dataset) // train_loader.batch_size\n",
    "        writer.add_scalar(\"train_loss\", loss.item(), epoch_len * epoch + step)\n",
    "        \n",
    "    epoch_loss /= step\n",
    "    epoch_loss_values.append(epoch_loss)\n",
    "    print(f\"epoch {epoch + 1} average loss: {epoch_loss:.4f}\")\n",
    "\n",
    "    if (epoch + 1) % val_interval == 0:\n",
    "        model.eval()\n",
    "        with torch.no_grad():\n",
    "            y_pred = torch.tensor([], dtype=torch.float32, device=device)\n",
    "            y = torch.tensor([], dtype=torch.long, device=device)\n",
    "            for val_data in val_loader:\n",
    "                val_images, val_labels = (\n",
    "                    val_data['images'],\n",
    "                    val_data['label'][:, 0].type(torch.LongTensor).to(device),\n",
    "                )\n",
    "                val_axial, val_coronal, val_sagittal = val_images\n",
    "                outputs = model(val_axial.to(device))\n",
    "                validation_loss = loss_function(outputs, val_labels)\n",
    "\n",
    "                if early_stopper.early_stop(validation_loss):             \n",
    "                    break\n",
    "                \n",
    "                y_pred = torch.cat([y_pred, outputs], dim=0)\n",
    "                y = torch.cat([y, val_labels], dim=0)\n",
    "            y_onehot = [y_trans(i) for i in decollate_batch(y, detach=False)]\n",
    "            y_pred_act = [y_pred_trans(i) for i in decollate_batch(y_pred)]\n",
    "            auc_metric(y_pred_act, y_onehot)\n",
    "            result = auc_metric.aggregate()\n",
    "            auc_metric.reset()\n",
    "            del y_pred_act, y_onehot\n",
    "            metric_values.append(result)\n",
    "            acc_value = torch.eq(y_pred.argmax(dim=1), y)\n",
    "            acc_metric = acc_value.sum().item() / len(acc_value)\n",
    "            if result > best_metric:\n",
    "                best_metric = result\n",
    "                best_metric_epoch = epoch + 1\n",
    "                torch.save(model.state_dict(), os.path.join(root_dir, \"axial_full_pretrained.pth\"))\n",
    "                print(\"saved new best metric model\")\n",
    "            print(\n",
    "                f\"current epoch: {epoch + 1} current AUC: {result:.4f}\"\n",
    "                f\" current accuracy: {acc_metric:.4f}\"\n",
    "                f\" best AUC: {best_metric:.4f}\"\n",
    "                f\" at epoch: {best_metric_epoch}\"\n",
    "            )\n",
    "            writer.add_scalar(\"val_accuracy\", acc_metric, epoch + 1)\n",
    "\n",
    "print(f\"train completed, best_metric: {best_metric:.4f} \" f\"at epoch: {best_metric_epoch}\")\n",
    "writer.close()"
   ]
  },
  {
   "cell_type": "code",
   "execution_count": 15,
   "metadata": {},
   "outputs": [
    {
     "name": "stdout",
     "output_type": "stream",
     "text": [
      "Training time: 736.02 seconds\n",
      "CPU time used: 8738.25 seconds\n",
      "Memory used: 4141.51 MB\n",
      "GPU Memory Used: 191.11 MB\n",
      "Max GPU Memory Used: 235.59 MB\n"
     ]
    }
   ],
   "source": [
    "end_time = time.time()\n",
    "end_cpu = process.cpu_times()\n",
    "end_mem = process.memory_info().rss / 1024**2\n",
    "\n",
    "cpu_time = (end_cpu.user + end_cpu.system) - (start_cpu.user + start_cpu.system)\n",
    "memory_used = end_mem - start_mem\n",
    "\n",
    "print(f\"Training time: {end_time - start_time:.2f} seconds\")\n",
    "print(f\"CPU time used: {cpu_time:.2f} seconds\")\n",
    "print(f\"Memory used: {memory_used:.2f} MB\")\n",
    "\n",
    "if device.type == \"cuda\":\n",
    "    torch.cuda.synchronize()\n",
    "    print(f\"GPU Memory Used: {torch.cuda.memory_allocated() / 1024**2:.2f} MB\")\n",
    "    print(f\"Max GPU Memory Used: {torch.cuda.max_memory_allocated() / 1024**2:.2f} MB\")\n"
   ]
  },
  {
   "cell_type": "code",
   "execution_count": 16,
   "metadata": {},
   "outputs": [
    {
     "data": {
      "image/png": "[encoded data removed]",
      "text/plain": [
       "<Figure size 1200x600 with 2 Axes>"
      ]
     },
     "metadata": {},
     "output_type": "display_data"
    }
   ],
   "source": [
    "plt.figure(\"train\", (12, 6))\n",
    "plt.subplot(1, 2, 1)\n",
    "plt.title(\"Epoch Average Loss\")\n",
    "x = [i + 1 for i in range(len(epoch_loss_values))]\n",
    "y = epoch_loss_values\n",
    "plt.xlabel(\"epoch\")\n",
    "plt.plot(x, y)\n",
    "plt.subplot(1, 2, 2)\n",
    "plt.title(\"Val AUC\")\n",
    "x = [val_interval * (i + 1) for i in range(len(metric_values))]\n",
    "y = metric_values\n",
    "plt.xlabel(\"epoch\")\n",
    "plt.plot(x, y)\n",
    "plt.show()"
   ]
  },
  {
   "cell_type": "code",
   "execution_count": 17,
   "metadata": {},
   "outputs": [
    {
     "name": "stdout",
     "output_type": "stream",
     "text": [
      "VRAM currently used: 191.11 MB\n",
      "Max VRAM used during training: 235.59 MB\n"
     ]
    }
   ],
   "source": [
    "if device.type == \"cuda\":\n",
    "    torch.cuda.synchronize()\n",
    "    vram_used = torch.cuda.memory_allocated() / 1024**2\n",
    "    vram_max_used = torch.cuda.max_memory_allocated() / 1024**2\n",
    "\n",
    "    print(f\"VRAM currently used: {vram_used:.2f} MB\")\n",
    "    print(f\"Max VRAM used during training: {vram_max_used:.2f} MB\")\n"
   ]
  },
  {
   "cell_type": "markdown",
   "metadata": {},
   "source": [
    "### Evaluation"
   ]
  },
  {
   "cell_type": "code",
   "execution_count": 18,
   "metadata": {},
   "outputs": [],
   "source": [
    "model.load_state_dict(torch.load(os.path.join(root_dir, \"axial_full_pretrained.pth\"), weights_only=True))\n",
    "model.eval()\n",
    "y_true = []\n",
    "y_pred = []\n",
    "\n",
    "with torch.no_grad():\n",
    "    for test_data in test_loader:\n",
    "        test_images, test_labels = (\n",
    "            test_data['images'],\n",
    "            test_data['label'][:, 0].type(torch.LongTensor).to(device),\n",
    "        )\n",
    "        test_axial, test_coronal, test_sagittal = test_images\n",
    "        pred = model(test_axial.to(device)).argmax(dim=1)\n",
    "        for i in range(len(pred)):\n",
    "            y_true.append(test_labels[i].item())\n",
    "            y_pred.append(pred[i].item())"
   ]
  },
  {
   "cell_type": "code",
   "execution_count": 19,
   "metadata": {},
   "outputs": [
    {
     "name": "stdout",
     "output_type": "stream",
     "text": [
      "VRAM currently used: 191.10 MB\n",
      "Max VRAM used during training: 235.64 MB\n"
     ]
    }
   ],
   "source": [
    "if device.type == \"cuda\":\n",
    "    torch.cuda.synchronize()\n",
    "    vram_used = torch.cuda.memory_allocated() / 1024**2\n",
    "    vram_max_used = torch.cuda.max_memory_allocated() / 1024**2\n",
    "\n",
    "    print(f\"VRAM currently used: {vram_used:.2f} MB\")\n",
    "    print(f\"Max VRAM used during training: {vram_max_used:.2f} MB\")\n"
   ]
  },
  {
   "cell_type": "code",
   "execution_count": 20,
   "metadata": {
    "scrolled": true
   },
   "outputs": [],
   "source": [
    "report = classification_report(y_true, y_pred, target_names=info['label'], digits=4, output_dict=True)"
   ]
  },
  {
   "cell_type": "code",
   "execution_count": 21,
   "metadata": {},
   "outputs": [],
   "source": [
    "import pandas as pd\n",
    "df = pd.DataFrame(report).transpose()\n",
    "df.to_csv(reports_dir+f'axial_random_pretrained_seed{seed}.csv')"
   ]
  },
  {
   "cell_type": "code",
   "execution_count": 22,
   "metadata": {},
   "outputs": [
    {
     "name": "stdout",
     "output_type": "stream",
     "text": [
      "              precision    recall  f1-score   support\n",
      "\n",
      "           0     0.9583    1.0000    0.9787        69\n",
      "           1     0.7667    0.6765    0.7188        68\n",
      "           2     0.7377    0.6522    0.6923        69\n",
      "           3     0.6977    0.9231    0.7947        65\n",
      "           4     0.8298    0.6000    0.6964        65\n",
      "           5     0.8769    0.8636    0.8702        66\n",
      "           6     1.0000    0.9286    0.9630        28\n",
      "           7     0.9524    0.9524    0.9524        21\n",
      "           8     0.9545    1.0000    0.9767        21\n",
      "           9     0.7368    0.8116    0.7724        69\n",
      "          10     0.7703    0.8261    0.7972        69\n",
      "\n",
      "    accuracy                         0.8131       610\n",
      "   macro avg     0.8437    0.8395    0.8375       610\n",
      "weighted avg     0.8170    0.8131    0.8103       610\n",
      "\n"
     ]
    }
   ],
   "source": [
    "print(classification_report(y_true, y_pred, target_names=info['label'], digits=4))"
   ]
  },
  {
   "cell_type": "markdown",
   "metadata": {},
   "source": [
    "## Unpretrained"
   ]
  },
  {
   "cell_type": "code",
   "execution_count": 23,
   "metadata": {},
   "outputs": [],
   "source": [
    "device = torch.device(\"cuda\" if torch.cuda.is_available() else \"cpu\")\n",
    "model = nets.resnet18(pretrained=False, spatial_dims=2, n_input_channels=9, num_classes=n_classes).to(device)\n",
    "loss_function = torch.nn.CrossEntropyLoss()\n",
    "optimizer = torch.optim.Adam(model.parameters(), 0.00005)\n",
    "max_epochs = 80\n",
    "val_interval = 1\n",
    "auc_metric = ROCAUCMetric()"
   ]
  },
  {
   "cell_type": "code",
   "execution_count": 24,
   "metadata": {
    "scrolled": true
   },
   "outputs": [
    {
     "name": "stderr",
     "output_type": "stream",
     "text": [
      "Epochs:   0%|          | 0/80 [00:00<?, ?it/s]"
     ]
    },
    {
     "name": "stdout",
     "output_type": "stream",
     "text": [
      "----------\n",
      "epoch 1/80\n",
      "epoch 1 average loss: 2.0138\n",
      "1\n"
     ]
    },
    {
     "name": "stderr",
     "output_type": "stream",
     "text": [
      "Epochs:   1%|▏         | 1/80 [00:10<13:21, 10.15s/it]"
     ]
    },
    {
     "name": "stdout",
     "output_type": "stream",
     "text": [
      "saved new best metric model\n",
      "current epoch: 1 current AUC: 0.9517 current accuracy: 0.4534 best AUC: 0.9517 at epoch: 1\n",
      "----------\n",
      "epoch 2/80\n",
      "epoch 2 average loss: 1.5966\n",
      "1\n"
     ]
    },
    {
     "name": "stderr",
     "output_type": "stream",
     "text": [
      "Epochs:   2%|▎         | 2/80 [00:20<13:27, 10.35s/it]"
     ]
    },
    {
     "name": "stdout",
     "output_type": "stream",
     "text": [
      "saved new best metric model\n",
      "current epoch: 2 current AUC: 0.9607 current accuracy: 0.5652 best AUC: 0.9607 at epoch: 2\n",
      "----------\n",
      "epoch 3/80\n",
      "epoch 3 average loss: 1.3601\n",
      "1\n"
     ]
    },
    {
     "name": "stderr",
     "output_type": "stream",
     "text": [
      "Epochs:   4%|▍         | 3/80 [00:31<13:39, 10.64s/it]"
     ]
    },
    {
     "name": "stdout",
     "output_type": "stream",
     "text": [
      "saved new best metric model\n",
      "current epoch: 3 current AUC: 0.9749 current accuracy: 0.6584 best AUC: 0.9749 at epoch: 3\n",
      "----------\n",
      "epoch 4/80\n",
      "epoch 4 average loss: 1.2546\n",
      "1\n"
     ]
    },
    {
     "name": "stderr",
     "output_type": "stream",
     "text": [
      "Epochs:   5%|▌         | 4/80 [00:42<13:40, 10.79s/it]"
     ]
    },
    {
     "name": "stdout",
     "output_type": "stream",
     "text": [
      "saved new best metric model\n",
      "current epoch: 4 current AUC: 0.9774 current accuracy: 0.6832 best AUC: 0.9774 at epoch: 4\n",
      "----------\n",
      "epoch 5/80\n",
      "epoch 5 average loss: 1.1766\n"
     ]
    },
    {
     "name": "stderr",
     "output_type": "stream",
     "text": [
      "Epochs:   6%|▋         | 5/80 [00:53<13:20, 10.67s/it]"
     ]
    },
    {
     "name": "stdout",
     "output_type": "stream",
     "text": [
      "1\n",
      "current epoch: 5 current AUC: 0.9757 current accuracy: 0.7329 best AUC: 0.9774 at epoch: 4\n",
      "----------\n",
      "epoch 6/80\n",
      "epoch 6 average loss: 1.1215\n",
      "1\n"
     ]
    },
    {
     "name": "stderr",
     "output_type": "stream",
     "text": [
      "Epochs:   8%|▊         | 6/80 [01:04<13:17, 10.78s/it]"
     ]
    },
    {
     "name": "stdout",
     "output_type": "stream",
     "text": [
      "saved new best metric model\n",
      "current epoch: 6 current AUC: 0.9803 current accuracy: 0.6894 best AUC: 0.9803 at epoch: 6\n",
      "----------\n",
      "epoch 7/80\n",
      "epoch 7 average loss: 1.0035\n",
      "1\n"
     ]
    },
    {
     "name": "stderr",
     "output_type": "stream",
     "text": [
      "Epochs:   9%|▉         | 7/80 [01:14<13:08, 10.80s/it]"
     ]
    },
    {
     "name": "stdout",
     "output_type": "stream",
     "text": [
      "saved new best metric model\n",
      "current epoch: 7 current AUC: 0.9870 current accuracy: 0.7764 best AUC: 0.9870 at epoch: 7\n",
      "----------\n",
      "epoch 8/80\n",
      "epoch 8 average loss: 0.9905\n",
      "1\n"
     ]
    },
    {
     "name": "stderr",
     "output_type": "stream",
     "text": [
      "Epochs:  10%|█         | 8/80 [01:26<13:04, 10.90s/it]"
     ]
    },
    {
     "name": "stdout",
     "output_type": "stream",
     "text": [
      "saved new best metric model\n",
      "current epoch: 8 current AUC: 0.9890 current accuracy: 0.7578 best AUC: 0.9890 at epoch: 8\n",
      "----------\n",
      "epoch 9/80\n",
      "epoch 9 average loss: 0.9738\n",
      "1\n"
     ]
    },
    {
     "name": "stderr",
     "output_type": "stream",
     "text": [
      "Epochs:  11%|█▏        | 9/80 [01:36<12:46, 10.80s/it]"
     ]
    },
    {
     "name": "stdout",
     "output_type": "stream",
     "text": [
      "saved new best metric model\n",
      "current epoch: 9 current AUC: 0.9892 current accuracy: 0.7329 best AUC: 0.9892 at epoch: 9\n",
      "----------\n",
      "epoch 10/80\n",
      "epoch 10 average loss: 0.8703\n",
      "1\n"
     ]
    },
    {
     "name": "stderr",
     "output_type": "stream",
     "text": [
      "Epochs:  12%|█▎        | 10/80 [01:46<12:24, 10.63s/it]"
     ]
    },
    {
     "name": "stdout",
     "output_type": "stream",
     "text": [
      "saved new best metric model\n",
      "current epoch: 10 current AUC: 0.9902 current accuracy: 0.8509 best AUC: 0.9902 at epoch: 10\n",
      "----------\n",
      "epoch 11/80\n",
      "epoch 11 average loss: 0.9401\n",
      "1\n"
     ]
    },
    {
     "name": "stderr",
     "output_type": "stream",
     "text": [
      "Epochs:  14%|█▍        | 11/80 [01:57<12:13, 10.64s/it]"
     ]
    },
    {
     "name": "stdout",
     "output_type": "stream",
     "text": [
      "saved new best metric model\n",
      "current epoch: 11 current AUC: 0.9942 current accuracy: 0.8509 best AUC: 0.9942 at epoch: 11\n",
      "----------\n",
      "epoch 12/80\n",
      "epoch 12 average loss: 0.8983\n"
     ]
    },
    {
     "name": "stderr",
     "output_type": "stream",
     "text": [
      "Epochs:  15%|█▌        | 12/80 [02:07<11:52, 10.47s/it]"
     ]
    },
    {
     "name": "stdout",
     "output_type": "stream",
     "text": [
      "1\n",
      "current epoch: 12 current AUC: 0.9900 current accuracy: 0.7391 best AUC: 0.9942 at epoch: 11\n",
      "----------\n",
      "epoch 13/80\n",
      "epoch 13 average loss: 0.7840\n"
     ]
    },
    {
     "name": "stderr",
     "output_type": "stream",
     "text": [
      "Epochs:  16%|█▋        | 13/80 [02:17<11:37, 10.41s/it]"
     ]
    },
    {
     "name": "stdout",
     "output_type": "stream",
     "text": [
      "1\n",
      "current epoch: 13 current AUC: 0.9902 current accuracy: 0.8137 best AUC: 0.9942 at epoch: 11\n",
      "----------\n",
      "epoch 14/80\n",
      "epoch 14 average loss: 0.7766\n"
     ]
    },
    {
     "name": "stderr",
     "output_type": "stream",
     "text": [
      "Epochs:  18%|█▊        | 14/80 [02:27<11:18, 10.28s/it]"
     ]
    },
    {
     "name": "stdout",
     "output_type": "stream",
     "text": [
      "1\n",
      "current epoch: 14 current AUC: 0.9931 current accuracy: 0.8385 best AUC: 0.9942 at epoch: 11\n",
      "----------\n",
      "epoch 15/80\n",
      "epoch 15 average loss: 0.7310\n",
      "1\n"
     ]
    },
    {
     "name": "stderr",
     "output_type": "stream",
     "text": [
      "Epochs:  19%|█▉        | 15/80 [02:38<11:21, 10.49s/it]"
     ]
    },
    {
     "name": "stdout",
     "output_type": "stream",
     "text": [
      "saved new best metric model\n",
      "current epoch: 15 current AUC: 0.9973 current accuracy: 0.9130 best AUC: 0.9973 at epoch: 15\n",
      "----------\n",
      "epoch 16/80\n",
      "epoch 16 average loss: 0.7325\n"
     ]
    },
    {
     "name": "stderr",
     "output_type": "stream",
     "text": [
      "Epochs:  20%|██        | 16/80 [02:49<11:06, 10.42s/it]"
     ]
    },
    {
     "name": "stdout",
     "output_type": "stream",
     "text": [
      "1\n",
      "current epoch: 16 current AUC: 0.9921 current accuracy: 0.7950 best AUC: 0.9973 at epoch: 15\n",
      "----------\n",
      "epoch 17/80\n",
      "epoch 17 average loss: 0.7423\n"
     ]
    },
    {
     "name": "stderr",
     "output_type": "stream",
     "text": [
      "Epochs:  21%|██▏       | 17/80 [02:59<10:53, 10.38s/it]"
     ]
    },
    {
     "name": "stdout",
     "output_type": "stream",
     "text": [
      "1\n",
      "current epoch: 17 current AUC: 0.9955 current accuracy: 0.8820 best AUC: 0.9973 at epoch: 15\n",
      "----------\n",
      "epoch 18/80\n",
      "epoch 18 average loss: 0.7183\n"
     ]
    },
    {
     "name": "stderr",
     "output_type": "stream",
     "text": [
      "Epochs:  22%|██▎       | 18/80 [03:09<10:37, 10.29s/it]"
     ]
    },
    {
     "name": "stdout",
     "output_type": "stream",
     "text": [
      "1\n",
      "current epoch: 18 current AUC: 0.9927 current accuracy: 0.8820 best AUC: 0.9973 at epoch: 15\n",
      "----------\n",
      "epoch 19/80\n",
      "epoch 19 average loss: 0.7087\n"
     ]
    },
    {
     "name": "stderr",
     "output_type": "stream",
     "text": [
      "Epochs:  24%|██▍       | 19/80 [03:19<10:25, 10.25s/it]"
     ]
    },
    {
     "name": "stdout",
     "output_type": "stream",
     "text": [
      "1\n",
      "current epoch: 19 current AUC: 0.9951 current accuracy: 0.8634 best AUC: 0.9973 at epoch: 15\n",
      "----------\n",
      "epoch 20/80\n",
      "epoch 20 average loss: 0.7335\n"
     ]
    },
    {
     "name": "stderr",
     "output_type": "stream",
     "text": [
      "Epochs:  25%|██▌       | 20/80 [03:30<10:17, 10.29s/it]"
     ]
    },
    {
     "name": "stdout",
     "output_type": "stream",
     "text": [
      "1\n",
      "current epoch: 20 current AUC: 0.9970 current accuracy: 0.8758 best AUC: 0.9973 at epoch: 15\n",
      "----------\n",
      "epoch 21/80\n",
      "epoch 21 average loss: 0.6157\n"
     ]
    },
    {
     "name": "stderr",
     "output_type": "stream",
     "text": [
      "Epochs:  26%|██▋       | 21/80 [03:40<10:04, 10.25s/it]"
     ]
    },
    {
     "name": "stdout",
     "output_type": "stream",
     "text": [
      "1\n",
      "current epoch: 21 current AUC: 0.9933 current accuracy: 0.8447 best AUC: 0.9973 at epoch: 15\n",
      "----------\n",
      "epoch 22/80\n",
      "epoch 22 average loss: 0.6423\n"
     ]
    },
    {
     "name": "stderr",
     "output_type": "stream",
     "text": [
      "Epochs:  28%|██▊       | 22/80 [03:50<09:53, 10.23s/it]"
     ]
    },
    {
     "name": "stdout",
     "output_type": "stream",
     "text": [
      "1\n",
      "current epoch: 22 current AUC: 0.9963 current accuracy: 0.8261 best AUC: 0.9973 at epoch: 15\n",
      "----------\n",
      "epoch 23/80\n",
      "epoch 23 average loss: 0.6190\n",
      "1\n"
     ]
    },
    {
     "name": "stderr",
     "output_type": "stream",
     "text": [
      "Epochs:  29%|██▉       | 23/80 [04:01<09:50, 10.35s/it]"
     ]
    },
    {
     "name": "stdout",
     "output_type": "stream",
     "text": [
      "saved new best metric model\n",
      "current epoch: 23 current AUC: 0.9976 current accuracy: 0.9255 best AUC: 0.9976 at epoch: 23\n",
      "----------\n",
      "epoch 24/80\n",
      "epoch 24 average loss: 0.6212\n"
     ]
    },
    {
     "name": "stderr",
     "output_type": "stream",
     "text": [
      "Epochs:  30%|███       | 24/80 [04:11<09:38, 10.34s/it]"
     ]
    },
    {
     "name": "stdout",
     "output_type": "stream",
     "text": [
      "1\n",
      "current epoch: 24 current AUC: 0.9954 current accuracy: 0.8571 best AUC: 0.9976 at epoch: 23\n",
      "----------\n",
      "epoch 25/80\n",
      "epoch 25 average loss: 0.6431\n"
     ]
    },
    {
     "name": "stderr",
     "output_type": "stream",
     "text": [
      "Epochs:  31%|███▏      | 25/80 [04:21<09:24, 10.27s/it]"
     ]
    },
    {
     "name": "stdout",
     "output_type": "stream",
     "text": [
      "1\n",
      "current epoch: 25 current AUC: 0.9942 current accuracy: 0.8882 best AUC: 0.9976 at epoch: 23\n",
      "----------\n",
      "epoch 26/80\n",
      "epoch 26 average loss: 0.5941\n",
      "1\n"
     ]
    },
    {
     "name": "stderr",
     "output_type": "stream",
     "text": [
      "Epochs:  32%|███▎      | 26/80 [04:31<09:19, 10.36s/it]"
     ]
    },
    {
     "name": "stdout",
     "output_type": "stream",
     "text": [
      "saved new best metric model\n",
      "current epoch: 26 current AUC: 0.9985 current accuracy: 0.9627 best AUC: 0.9985 at epoch: 26\n",
      "----------\n",
      "epoch 27/80\n",
      "epoch 27 average loss: 0.5710\n"
     ]
    },
    {
     "name": "stderr",
     "output_type": "stream",
     "text": [
      "Epochs:  34%|███▍      | 27/80 [04:42<09:08, 10.34s/it]"
     ]
    },
    {
     "name": "stdout",
     "output_type": "stream",
     "text": [
      "1\n",
      "current epoch: 27 current AUC: 0.9974 current accuracy: 0.9130 best AUC: 0.9985 at epoch: 26\n",
      "----------\n",
      "epoch 28/80\n",
      "epoch 28 average loss: 0.5869\n"
     ]
    },
    {
     "name": "stderr",
     "output_type": "stream",
     "text": [
      "Epochs:  35%|███▌      | 28/80 [04:52<08:55, 10.30s/it]"
     ]
    },
    {
     "name": "stdout",
     "output_type": "stream",
     "text": [
      "1\n",
      "current epoch: 28 current AUC: 0.9945 current accuracy: 0.8696 best AUC: 0.9985 at epoch: 26\n",
      "----------\n",
      "epoch 29/80\n",
      "epoch 29 average loss: 0.5817\n",
      "1\n"
     ]
    },
    {
     "name": "stderr",
     "output_type": "stream",
     "text": [
      "Epochs:  36%|███▋      | 29/80 [05:03<08:51, 10.42s/it]"
     ]
    },
    {
     "name": "stdout",
     "output_type": "stream",
     "text": [
      "saved new best metric model\n",
      "current epoch: 29 current AUC: 0.9985 current accuracy: 0.9441 best AUC: 0.9985 at epoch: 29\n",
      "----------\n",
      "epoch 30/80\n",
      "epoch 30 average loss: 0.5723\n"
     ]
    },
    {
     "name": "stderr",
     "output_type": "stream",
     "text": [
      "Epochs:  38%|███▊      | 30/80 [05:13<08:35, 10.31s/it]"
     ]
    },
    {
     "name": "stdout",
     "output_type": "stream",
     "text": [
      "1\n",
      "current epoch: 30 current AUC: 0.9949 current accuracy: 0.8199 best AUC: 0.9985 at epoch: 29\n",
      "----------\n",
      "epoch 31/80\n",
      "epoch 31 average loss: 0.5465\n"
     ]
    },
    {
     "name": "stderr",
     "output_type": "stream",
     "text": [
      "Epochs:  39%|███▉      | 31/80 [05:23<08:21, 10.23s/it]"
     ]
    },
    {
     "name": "stdout",
     "output_type": "stream",
     "text": [
      "1\n",
      "current epoch: 31 current AUC: 0.9982 current accuracy: 0.9006 best AUC: 0.9985 at epoch: 29\n",
      "----------\n",
      "epoch 32/80\n",
      "epoch 32 average loss: 0.5021\n"
     ]
    },
    {
     "name": "stderr",
     "output_type": "stream",
     "text": [
      "Epochs:  40%|████      | 32/80 [05:33<08:04, 10.08s/it]"
     ]
    },
    {
     "name": "stdout",
     "output_type": "stream",
     "text": [
      "1\n",
      "current epoch: 32 current AUC: 0.9968 current accuracy: 0.8882 best AUC: 0.9985 at epoch: 29\n",
      "----------\n",
      "epoch 33/80\n",
      "epoch 33 average loss: 0.5301\n",
      "1\n"
     ]
    },
    {
     "name": "stderr",
     "output_type": "stream",
     "text": [
      "Epochs:  41%|████▏     | 33/80 [05:43<08:04, 10.30s/it]"
     ]
    },
    {
     "name": "stdout",
     "output_type": "stream",
     "text": [
      "saved new best metric model\n",
      "current epoch: 33 current AUC: 0.9989 current accuracy: 0.9317 best AUC: 0.9989 at epoch: 33\n",
      "----------\n",
      "epoch 34/80\n",
      "epoch 34 average loss: 0.5674\n"
     ]
    },
    {
     "name": "stderr",
     "output_type": "stream",
     "text": [
      "Epochs:  42%|████▎     | 34/80 [05:53<07:48, 10.18s/it]"
     ]
    },
    {
     "name": "stdout",
     "output_type": "stream",
     "text": [
      "1\n",
      "current epoch: 34 current AUC: 0.9980 current accuracy: 0.9193 best AUC: 0.9989 at epoch: 33\n",
      "----------\n",
      "epoch 35/80\n",
      "epoch 35 average loss: 0.5090\n"
     ]
    },
    {
     "name": "stderr",
     "output_type": "stream",
     "text": [
      "Epochs:  44%|████▍     | 35/80 [06:03<07:36, 10.14s/it]"
     ]
    },
    {
     "name": "stdout",
     "output_type": "stream",
     "text": [
      "1\n",
      "current epoch: 35 current AUC: 0.9977 current accuracy: 0.9193 best AUC: 0.9989 at epoch: 33\n",
      "----------\n",
      "epoch 36/80\n",
      "epoch 36 average loss: 0.5117\n"
     ]
    },
    {
     "name": "stderr",
     "output_type": "stream",
     "text": [
      "Epochs:  45%|████▌     | 36/80 [06:13<07:23, 10.09s/it]"
     ]
    },
    {
     "name": "stdout",
     "output_type": "stream",
     "text": [
      "1\n",
      "current epoch: 36 current AUC: 0.9967 current accuracy: 0.9317 best AUC: 0.9989 at epoch: 33\n",
      "----------\n",
      "epoch 37/80\n",
      "epoch 37 average loss: 0.5161\n"
     ]
    },
    {
     "name": "stderr",
     "output_type": "stream",
     "text": [
      "Epochs:  46%|████▋     | 37/80 [06:23<07:13, 10.08s/it]"
     ]
    },
    {
     "name": "stdout",
     "output_type": "stream",
     "text": [
      "1\n",
      "current epoch: 37 current AUC: 0.9902 current accuracy: 0.8075 best AUC: 0.9989 at epoch: 33\n",
      "----------\n",
      "epoch 38/80\n",
      "epoch 38 average loss: 0.5271\n",
      "1\n"
     ]
    },
    {
     "name": "stderr",
     "output_type": "stream",
     "text": [
      "Epochs:  48%|████▊     | 38/80 [06:34<07:10, 10.26s/it]"
     ]
    },
    {
     "name": "stdout",
     "output_type": "stream",
     "text": [
      "saved new best metric model\n",
      "current epoch: 38 current AUC: 0.9990 current accuracy: 0.9565 best AUC: 0.9990 at epoch: 38\n",
      "----------\n",
      "epoch 39/80\n",
      "epoch 39 average loss: 0.4979\n"
     ]
    },
    {
     "name": "stderr",
     "output_type": "stream",
     "text": [
      "Epochs:  49%|████▉     | 39/80 [06:44<06:57, 10.18s/it]"
     ]
    },
    {
     "name": "stdout",
     "output_type": "stream",
     "text": [
      "1\n",
      "current epoch: 39 current AUC: 0.9986 current accuracy: 0.9255 best AUC: 0.9990 at epoch: 38\n",
      "----------\n",
      "epoch 40/80\n",
      "epoch 40 average loss: 0.4759\n"
     ]
    },
    {
     "name": "stderr",
     "output_type": "stream",
     "text": [
      "Epochs:  50%|█████     | 40/80 [06:54<06:44, 10.12s/it]"
     ]
    },
    {
     "name": "stdout",
     "output_type": "stream",
     "text": [
      "1\n",
      "current epoch: 40 current AUC: 0.9980 current accuracy: 0.9193 best AUC: 0.9990 at epoch: 38\n",
      "----------\n",
      "epoch 41/80\n",
      "epoch 41 average loss: 0.4733\n"
     ]
    },
    {
     "name": "stderr",
     "output_type": "stream",
     "text": [
      "Epochs:  51%|█████▏    | 41/80 [07:04<06:36, 10.17s/it]"
     ]
    },
    {
     "name": "stdout",
     "output_type": "stream",
     "text": [
      "1\n",
      "current epoch: 41 current AUC: 0.9970 current accuracy: 0.9193 best AUC: 0.9990 at epoch: 38\n",
      "----------\n",
      "epoch 42/80\n",
      "epoch 42 average loss: 0.4721\n"
     ]
    },
    {
     "name": "stderr",
     "output_type": "stream",
     "text": [
      "Epochs:  52%|█████▎    | 42/80 [07:14<06:23, 10.10s/it]"
     ]
    },
    {
     "name": "stdout",
     "output_type": "stream",
     "text": [
      "1\n",
      "current epoch: 42 current AUC: 0.9976 current accuracy: 0.8944 best AUC: 0.9990 at epoch: 38\n",
      "----------\n",
      "epoch 43/80\n",
      "epoch 43 average loss: 0.4488\n"
     ]
    },
    {
     "name": "stderr",
     "output_type": "stream",
     "text": [
      "Epochs:  54%|█████▍    | 43/80 [07:24<06:16, 10.16s/it]"
     ]
    },
    {
     "name": "stdout",
     "output_type": "stream",
     "text": [
      "1\n",
      "current epoch: 43 current AUC: 0.9969 current accuracy: 0.9068 best AUC: 0.9990 at epoch: 38\n",
      "----------\n",
      "epoch 44/80\n",
      "epoch 44 average loss: 0.5080\n",
      "1\n"
     ]
    },
    {
     "name": "stderr",
     "output_type": "stream",
     "text": [
      "Epochs:  55%|█████▌    | 44/80 [07:35<06:09, 10.26s/it]"
     ]
    },
    {
     "name": "stdout",
     "output_type": "stream",
     "text": [
      "saved new best metric model\n",
      "current epoch: 44 current AUC: 0.9991 current accuracy: 0.9068 best AUC: 0.9991 at epoch: 44\n",
      "----------\n",
      "epoch 45/80\n",
      "epoch 45 average loss: 0.4451\n",
      "1\n"
     ]
    },
    {
     "name": "stderr",
     "output_type": "stream",
     "text": [
      "Epochs:  56%|█████▋    | 45/80 [07:45<06:01, 10.32s/it]"
     ]
    },
    {
     "name": "stdout",
     "output_type": "stream",
     "text": [
      "saved new best metric model\n",
      "current epoch: 45 current AUC: 0.9994 current accuracy: 0.9317 best AUC: 0.9994 at epoch: 45\n",
      "----------\n",
      "epoch 46/80\n",
      "epoch 46 average loss: 0.4442\n"
     ]
    },
    {
     "name": "stderr",
     "output_type": "stream",
     "text": [
      "Epochs:  57%|█████▊    | 46/80 [07:55<05:46, 10.19s/it]"
     ]
    },
    {
     "name": "stdout",
     "output_type": "stream",
     "text": [
      "1\n",
      "current epoch: 46 current AUC: 0.9983 current accuracy: 0.9255 best AUC: 0.9994 at epoch: 45\n",
      "----------\n",
      "epoch 47/80\n",
      "epoch 47 average loss: 0.4406\n",
      "1\n"
     ]
    },
    {
     "name": "stderr",
     "output_type": "stream",
     "text": [
      "Epochs:  59%|█████▉    | 47/80 [08:06<05:38, 10.25s/it]"
     ]
    },
    {
     "name": "stdout",
     "output_type": "stream",
     "text": [
      "saved new best metric model\n",
      "current epoch: 47 current AUC: 0.9995 current accuracy: 0.9503 best AUC: 0.9995 at epoch: 47\n",
      "----------\n",
      "epoch 48/80\n",
      "epoch 48 average loss: 0.4527\n"
     ]
    },
    {
     "name": "stderr",
     "output_type": "stream",
     "text": [
      "Epochs:  60%|██████    | 48/80 [08:16<05:25, 10.17s/it]"
     ]
    },
    {
     "name": "stdout",
     "output_type": "stream",
     "text": [
      "1\n",
      "current epoch: 48 current AUC: 0.9983 current accuracy: 0.8944 best AUC: 0.9995 at epoch: 47\n",
      "----------\n",
      "epoch 49/80\n",
      "epoch 49 average loss: 0.4368\n"
     ]
    },
    {
     "name": "stderr",
     "output_type": "stream",
     "text": [
      "Epochs:  61%|██████▏   | 49/80 [08:26<05:13, 10.12s/it]"
     ]
    },
    {
     "name": "stdout",
     "output_type": "stream",
     "text": [
      "1\n",
      "current epoch: 49 current AUC: 0.9979 current accuracy: 0.9317 best AUC: 0.9995 at epoch: 47\n",
      "----------\n",
      "epoch 50/80\n",
      "epoch 50 average loss: 0.4523\n"
     ]
    },
    {
     "name": "stderr",
     "output_type": "stream",
     "text": [
      "Epochs:  62%|██████▎   | 50/80 [08:36<05:03, 10.12s/it]"
     ]
    },
    {
     "name": "stdout",
     "output_type": "stream",
     "text": [
      "1\n",
      "current epoch: 50 current AUC: 0.9961 current accuracy: 0.9068 best AUC: 0.9995 at epoch: 47\n",
      "----------\n",
      "epoch 51/80\n",
      "epoch 51 average loss: 0.4469\n"
     ]
    },
    {
     "name": "stderr",
     "output_type": "stream",
     "text": [
      "Epochs:  64%|██████▍   | 51/80 [08:46<04:52, 10.08s/it]"
     ]
    },
    {
     "name": "stdout",
     "output_type": "stream",
     "text": [
      "1\n",
      "current epoch: 51 current AUC: 0.9972 current accuracy: 0.9317 best AUC: 0.9995 at epoch: 47\n",
      "----------\n",
      "epoch 52/80\n",
      "epoch 52 average loss: 0.3889\n"
     ]
    },
    {
     "name": "stderr",
     "output_type": "stream",
     "text": [
      "Epochs:  65%|██████▌   | 52/80 [08:56<04:41, 10.06s/it]"
     ]
    },
    {
     "name": "stdout",
     "output_type": "stream",
     "text": [
      "1\n",
      "current epoch: 52 current AUC: 0.9960 current accuracy: 0.9255 best AUC: 0.9995 at epoch: 47\n",
      "----------\n",
      "epoch 53/80\n",
      "epoch 53 average loss: 0.4358\n"
     ]
    },
    {
     "name": "stderr",
     "output_type": "stream",
     "text": [
      "Epochs:  66%|██████▋   | 53/80 [09:06<04:33, 10.12s/it]"
     ]
    },
    {
     "name": "stdout",
     "output_type": "stream",
     "text": [
      "1\n",
      "current epoch: 53 current AUC: 0.9960 current accuracy: 0.8820 best AUC: 0.9995 at epoch: 47\n",
      "----------\n",
      "epoch 54/80\n",
      "epoch 54 average loss: 0.3664\n"
     ]
    },
    {
     "name": "stderr",
     "output_type": "stream",
     "text": [
      "Epochs:  68%|██████▊   | 54/80 [09:16<04:22, 10.11s/it]"
     ]
    },
    {
     "name": "stdout",
     "output_type": "stream",
     "text": [
      "1\n",
      "current epoch: 54 current AUC: 0.9993 current accuracy: 0.9379 best AUC: 0.9995 at epoch: 47\n",
      "----------\n",
      "epoch 55/80\n",
      "epoch 55 average loss: 0.4067\n"
     ]
    },
    {
     "name": "stderr",
     "output_type": "stream",
     "text": [
      "Epochs:  69%|██████▉   | 55/80 [09:26<04:13, 10.16s/it]"
     ]
    },
    {
     "name": "stdout",
     "output_type": "stream",
     "text": [
      "1\n",
      "current epoch: 55 current AUC: 0.9991 current accuracy: 0.9255 best AUC: 0.9995 at epoch: 47\n",
      "----------\n",
      "epoch 56/80\n",
      "epoch 56 average loss: 0.4027\n"
     ]
    },
    {
     "name": "stderr",
     "output_type": "stream",
     "text": [
      "Epochs:  70%|███████   | 56/80 [09:36<04:02, 10.10s/it]"
     ]
    },
    {
     "name": "stdout",
     "output_type": "stream",
     "text": [
      "1\n",
      "current epoch: 56 current AUC: 0.9973 current accuracy: 0.9006 best AUC: 0.9995 at epoch: 47\n",
      "----------\n",
      "epoch 57/80\n",
      "epoch 57 average loss: 0.4214\n"
     ]
    },
    {
     "name": "stderr",
     "output_type": "stream",
     "text": [
      "Epochs:  71%|███████▏  | 57/80 [09:47<03:53, 10.14s/it]"
     ]
    },
    {
     "name": "stdout",
     "output_type": "stream",
     "text": [
      "1\n",
      "current epoch: 57 current AUC: 0.9981 current accuracy: 0.9130 best AUC: 0.9995 at epoch: 47\n",
      "----------\n",
      "epoch 58/80\n",
      "epoch 58 average loss: 0.3648\n"
     ]
    },
    {
     "name": "stderr",
     "output_type": "stream",
     "text": [
      "Epochs:  72%|███████▎  | 58/80 [09:56<03:41, 10.06s/it]"
     ]
    },
    {
     "name": "stdout",
     "output_type": "stream",
     "text": [
      "1\n",
      "current epoch: 58 current AUC: 0.9990 current accuracy: 0.9379 best AUC: 0.9995 at epoch: 47\n",
      "----------\n",
      "epoch 59/80\n",
      "epoch 59 average loss: 0.3941\n"
     ]
    },
    {
     "name": "stderr",
     "output_type": "stream",
     "text": [
      "Epochs:  74%|███████▍  | 59/80 [10:07<03:32, 10.11s/it]"
     ]
    },
    {
     "name": "stdout",
     "output_type": "stream",
     "text": [
      "1\n",
      "current epoch: 59 current AUC: 0.9945 current accuracy: 0.9503 best AUC: 0.9995 at epoch: 47\n",
      "----------\n",
      "epoch 60/80\n",
      "epoch 60 average loss: 0.3288\n"
     ]
    },
    {
     "name": "stderr",
     "output_type": "stream",
     "text": [
      "Epochs:  75%|███████▌  | 60/80 [10:17<03:23, 10.17s/it]"
     ]
    },
    {
     "name": "stdout",
     "output_type": "stream",
     "text": [
      "1\n",
      "current epoch: 60 current AUC: 0.9995 current accuracy: 0.9565 best AUC: 0.9995 at epoch: 47\n",
      "----------\n",
      "epoch 61/80\n",
      "epoch 61 average loss: 0.3868\n"
     ]
    },
    {
     "name": "stderr",
     "output_type": "stream",
     "text": [
      "Epochs:  76%|███████▋  | 61/80 [10:27<03:12, 10.15s/it]"
     ]
    },
    {
     "name": "stdout",
     "output_type": "stream",
     "text": [
      "1\n",
      "current epoch: 61 current AUC: 0.9991 current accuracy: 0.9006 best AUC: 0.9995 at epoch: 47\n",
      "----------\n",
      "epoch 62/80\n",
      "epoch 62 average loss: 0.3450\n"
     ]
    },
    {
     "name": "stderr",
     "output_type": "stream",
     "text": [
      "Epochs:  78%|███████▊  | 62/80 [10:37<03:03, 10.18s/it]"
     ]
    },
    {
     "name": "stdout",
     "output_type": "stream",
     "text": [
      "1\n",
      "current epoch: 62 current AUC: 0.9950 current accuracy: 0.8882 best AUC: 0.9995 at epoch: 47\n",
      "----------\n",
      "epoch 63/80\n",
      "epoch 63 average loss: 0.3720\n"
     ]
    },
    {
     "name": "stderr",
     "output_type": "stream",
     "text": [
      "Epochs:  79%|███████▉  | 63/80 [10:47<02:52, 10.13s/it]"
     ]
    },
    {
     "name": "stdout",
     "output_type": "stream",
     "text": [
      "1\n",
      "current epoch: 63 current AUC: 0.9987 current accuracy: 0.9441 best AUC: 0.9995 at epoch: 47\n",
      "----------\n",
      "epoch 64/80\n",
      "epoch 64 average loss: 0.3559\n"
     ]
    },
    {
     "name": "stderr",
     "output_type": "stream",
     "text": [
      "Epochs:  80%|████████  | 64/80 [10:58<02:41, 10.12s/it]"
     ]
    },
    {
     "name": "stdout",
     "output_type": "stream",
     "text": [
      "1\n",
      "current epoch: 64 current AUC: 0.9970 current accuracy: 0.8696 best AUC: 0.9995 at epoch: 47\n",
      "----------\n",
      "epoch 65/80\n",
      "epoch 65 average loss: 0.3420\n"
     ]
    },
    {
     "name": "stderr",
     "output_type": "stream",
     "text": [
      "Epochs:  81%|████████▏ | 65/80 [11:08<02:31, 10.10s/it]"
     ]
    },
    {
     "name": "stdout",
     "output_type": "stream",
     "text": [
      "1\n",
      "current epoch: 65 current AUC: 0.9988 current accuracy: 0.9006 best AUC: 0.9995 at epoch: 47\n",
      "----------\n",
      "epoch 66/80\n",
      "epoch 66 average loss: 0.3358\n"
     ]
    },
    {
     "name": "stderr",
     "output_type": "stream",
     "text": [
      "Epochs:  82%|████████▎ | 66/80 [11:17<02:20, 10.03s/it]"
     ]
    },
    {
     "name": "stdout",
     "output_type": "stream",
     "text": [
      "1\n",
      "current epoch: 66 current AUC: 0.9986 current accuracy: 0.9503 best AUC: 0.9995 at epoch: 47\n",
      "----------\n",
      "epoch 67/80\n",
      "epoch 67 average loss: 0.3302\n"
     ]
    },
    {
     "name": "stderr",
     "output_type": "stream",
     "text": [
      "Epochs:  84%|████████▍ | 67/80 [11:27<02:09,  9.97s/it]"
     ]
    },
    {
     "name": "stdout",
     "output_type": "stream",
     "text": [
      "1\n",
      "current epoch: 67 current AUC: 0.9991 current accuracy: 0.9068 best AUC: 0.9995 at epoch: 47\n",
      "----------\n",
      "epoch 68/80\n",
      "epoch 68 average loss: 0.2780\n"
     ]
    },
    {
     "name": "stderr",
     "output_type": "stream",
     "text": [
      "Epochs:  85%|████████▌ | 68/80 [11:37<01:58,  9.85s/it]"
     ]
    },
    {
     "name": "stdout",
     "output_type": "stream",
     "text": [
      "1\n",
      "current epoch: 68 current AUC: 0.9993 current accuracy: 0.9255 best AUC: 0.9995 at epoch: 47\n",
      "----------\n",
      "epoch 69/80\n",
      "epoch 69 average loss: 0.3156\n"
     ]
    },
    {
     "name": "stderr",
     "output_type": "stream",
     "text": [
      "Epochs:  86%|████████▋ | 69/80 [11:46<01:47,  9.78s/it]"
     ]
    },
    {
     "name": "stdout",
     "output_type": "stream",
     "text": [
      "1\n",
      "current epoch: 69 current AUC: 0.9993 current accuracy: 0.8758 best AUC: 0.9995 at epoch: 47\n",
      "----------\n",
      "epoch 70/80\n",
      "epoch 70 average loss: 0.3344\n"
     ]
    },
    {
     "name": "stderr",
     "output_type": "stream",
     "text": [
      "Epochs:  88%|████████▊ | 70/80 [11:56<01:36,  9.64s/it]"
     ]
    },
    {
     "name": "stdout",
     "output_type": "stream",
     "text": [
      "1\n",
      "current epoch: 70 current AUC: 0.9988 current accuracy: 0.9379 best AUC: 0.9995 at epoch: 47\n",
      "----------\n",
      "epoch 71/80\n",
      "epoch 71 average loss: 0.3290\n"
     ]
    },
    {
     "name": "stderr",
     "output_type": "stream",
     "text": [
      "Epochs:  89%|████████▉ | 71/80 [12:05<01:26,  9.64s/it]"
     ]
    },
    {
     "name": "stdout",
     "output_type": "stream",
     "text": [
      "1\n",
      "current epoch: 71 current AUC: 0.9990 current accuracy: 0.9565 best AUC: 0.9995 at epoch: 47\n",
      "----------\n",
      "epoch 72/80\n",
      "epoch 72 average loss: 0.3455\n"
     ]
    },
    {
     "name": "stderr",
     "output_type": "stream",
     "text": [
      "Epochs:  90%|█████████ | 72/80 [12:15<01:17,  9.63s/it]"
     ]
    },
    {
     "name": "stdout",
     "output_type": "stream",
     "text": [
      "1\n",
      "current epoch: 72 current AUC: 0.9930 current accuracy: 0.8199 best AUC: 0.9995 at epoch: 47\n",
      "----------\n",
      "epoch 73/80\n",
      "epoch 73 average loss: 0.3679\n"
     ]
    },
    {
     "name": "stderr",
     "output_type": "stream",
     "text": [
      "Epochs:  91%|█████████▏| 73/80 [12:25<01:07,  9.61s/it]"
     ]
    },
    {
     "name": "stdout",
     "output_type": "stream",
     "text": [
      "1\n",
      "current epoch: 73 current AUC: 0.9941 current accuracy: 0.8261 best AUC: 0.9995 at epoch: 47\n",
      "----------\n",
      "epoch 74/80\n",
      "epoch 74 average loss: 0.3659\n"
     ]
    },
    {
     "name": "stderr",
     "output_type": "stream",
     "text": [
      "Epochs:  92%|█████████▎| 74/80 [12:34<00:57,  9.62s/it]"
     ]
    },
    {
     "name": "stdout",
     "output_type": "stream",
     "text": [
      "1\n",
      "current epoch: 74 current AUC: 0.9992 current accuracy: 0.9379 best AUC: 0.9995 at epoch: 47\n",
      "----------\n",
      "epoch 75/80\n",
      "epoch 75 average loss: 0.3251\n"
     ]
    },
    {
     "name": "stderr",
     "output_type": "stream",
     "text": [
      "Epochs:  94%|█████████▍| 75/80 [12:44<00:47,  9.53s/it]"
     ]
    },
    {
     "name": "stdout",
     "output_type": "stream",
     "text": [
      "1\n",
      "current epoch: 75 current AUC: 0.9987 current accuracy: 0.9752 best AUC: 0.9995 at epoch: 47\n",
      "----------\n",
      "epoch 76/80\n",
      "epoch 76 average loss: 0.2654\n"
     ]
    },
    {
     "name": "stderr",
     "output_type": "stream",
     "text": [
      "Epochs:  95%|█████████▌| 76/80 [12:53<00:38,  9.51s/it]"
     ]
    },
    {
     "name": "stdout",
     "output_type": "stream",
     "text": [
      "1\n",
      "current epoch: 76 current AUC: 0.9992 current accuracy: 0.9441 best AUC: 0.9995 at epoch: 47\n",
      "----------\n",
      "epoch 77/80\n",
      "epoch 77 average loss: 0.2704\n"
     ]
    },
    {
     "name": "stderr",
     "output_type": "stream",
     "text": [
      "Epochs:  96%|█████████▋| 77/80 [13:03<00:28,  9.53s/it]"
     ]
    },
    {
     "name": "stdout",
     "output_type": "stream",
     "text": [
      "1\n",
      "current epoch: 77 current AUC: 0.9990 current accuracy: 0.9255 best AUC: 0.9995 at epoch: 47\n",
      "----------\n",
      "epoch 78/80\n",
      "epoch 78 average loss: 0.3057\n"
     ]
    },
    {
     "name": "stderr",
     "output_type": "stream",
     "text": [
      "Epochs:  98%|█████████▊| 78/80 [13:12<00:19,  9.54s/it]"
     ]
    },
    {
     "name": "stdout",
     "output_type": "stream",
     "text": [
      "1\n",
      "current epoch: 78 current AUC: 0.9991 current accuracy: 0.9689 best AUC: 0.9995 at epoch: 47\n",
      "----------\n",
      "epoch 79/80\n",
      "epoch 79 average loss: 0.2856\n"
     ]
    },
    {
     "name": "stderr",
     "output_type": "stream",
     "text": [
      "Epochs:  99%|█████████▉| 79/80 [13:22<00:09,  9.60s/it]"
     ]
    },
    {
     "name": "stdout",
     "output_type": "stream",
     "text": [
      "1\n",
      "current epoch: 79 current AUC: 0.9979 current accuracy: 0.9503 best AUC: 0.9995 at epoch: 47\n",
      "----------\n",
      "epoch 80/80\n",
      "epoch 80 average loss: 0.3036\n",
      "1\n"
     ]
    },
    {
     "name": "stderr",
     "output_type": "stream",
     "text": [
      "Epochs: 100%|██████████| 80/80 [13:32<00:00, 10.15s/it]"
     ]
    },
    {
     "name": "stdout",
     "output_type": "stream",
     "text": [
      "saved new best metric model\n",
      "current epoch: 80 current AUC: 0.9997 current accuracy: 0.9627 best AUC: 0.9997 at epoch: 80\n",
      "train completed, best_metric: 0.9997 at epoch: 80\n"
     ]
    },
    {
     "name": "stderr",
     "output_type": "stream",
     "text": [
      "\n"
     ]
    }
   ],
   "source": [
    "best_metric = -1\n",
    "best_metric_epoch = -1\n",
    "epoch_loss_values = []\n",
    "metric_values = []\n",
    "writer = SummaryWriter()\n",
    "\n",
    "start_time = time.time()\n",
    "process = psutil.Process()\n",
    "start_cpu = process.cpu_times()\n",
    "start_mem = process.memory_info().rss / 1024**2  # В MB\n",
    "\n",
    "if device.type == \"cuda\":\n",
    "    torch.cuda.synchronize()\n",
    "    torch.cuda.reset_peak_memory_stats()\n",
    "\n",
    "for epoch in tqdm(range(max_epochs), desc=\"Epochs\"):\n",
    "    print(\"-\" * 10)\n",
    "    print(f\"epoch {epoch + 1}/{max_epochs}\")\n",
    "    model.train()\n",
    "    epoch_loss = 0\n",
    "    step = 0\n",
    "    \n",
    "    for batch_data in train_loader:\n",
    "        step += 1\n",
    "        images, labels = batch_data['images'], batch_data['label'][:, 0].type(torch.LongTensor).to(device)\n",
    "        axial, coronal, sagittal = images\n",
    "\n",
    "        optimizer.zero_grad()\n",
    "        outputs = model(axial.to(device))\n",
    "        loss = loss_function(outputs, labels)\n",
    "        loss.backward()\n",
    "        optimizer.step()\n",
    "        \n",
    "        epoch_loss += loss.item()\n",
    "        epoch_len = len(train_dataset) // train_loader.batch_size\n",
    "        writer.add_scalar(\"train_loss\", loss.item(), epoch_len * epoch + step)\n",
    "        \n",
    "    epoch_loss /= step\n",
    "    epoch_loss_values.append(epoch_loss)\n",
    "    print(f\"epoch {epoch + 1} average loss: {epoch_loss:.4f}\")\n",
    "\n",
    "    if (epoch + 1) % val_interval == 0:\n",
    "        model.eval()\n",
    "        with torch.no_grad():\n",
    "            y_pred = torch.tensor([], dtype=torch.float32, device=device)\n",
    "            y = torch.tensor([], dtype=torch.long, device=device)\n",
    "            for val_data in val_loader:\n",
    "                val_images, val_labels = (\n",
    "                    val_data['images'],\n",
    "                    val_data['label'][:, 0].type(torch.LongTensor).to(device),\n",
    "                )\n",
    "                val_axial, val_coronal, val_sagittal = val_images\n",
    "                y_pred = torch.cat([y_pred, model(val_axial.to(device))], dim=0)\n",
    "                y = torch.cat([y, val_labels], dim=0)\n",
    "            y_onehot = [y_trans(i) for i in decollate_batch(y, detach=False)]\n",
    "            print('1')\n",
    "            y_pred_act = [y_pred_trans(i) for i in decollate_batch(y_pred)]\n",
    "            auc_metric(y_pred_act, y_onehot)\n",
    "            result = auc_metric.aggregate()\n",
    "            auc_metric.reset()\n",
    "            del y_pred_act, y_onehot\n",
    "            metric_values.append(result)\n",
    "            acc_value = torch.eq(y_pred.argmax(dim=1), y)\n",
    "            acc_metric = acc_value.sum().item() / len(acc_value)\n",
    "            if result > best_metric:\n",
    "                best_metric = result\n",
    "                best_metric_epoch = epoch + 1\n",
    "                torch.save(model.state_dict(), os.path.join(root_dir, \"axial_full_unpretrained.pth\"))\n",
    "                print(\"saved new best metric model\")\n",
    "            print(\n",
    "                f\"current epoch: {epoch + 1} current AUC: {result:.4f}\"\n",
    "                f\" current accuracy: {acc_metric:.4f}\"\n",
    "                f\" best AUC: {best_metric:.4f}\"\n",
    "                f\" at epoch: {best_metric_epoch}\"\n",
    "            )\n",
    "            writer.add_scalar(\"val_accuracy\", acc_metric, epoch + 1)\n",
    "\n",
    "print(f\"train completed, best_metric: {best_metric:.4f} \" f\"at epoch: {best_metric_epoch}\")\n",
    "writer.close()"
   ]
  },
  {
   "cell_type": "code",
   "execution_count": 25,
   "metadata": {},
   "outputs": [
    {
     "name": "stdout",
     "output_type": "stream",
     "text": [
      "Training time: 812.39 seconds\n",
      "CPU time used: 9673.00 seconds\n",
      "Memory used: 391.15 MB\n",
      "GPU Memory Used: 192.63 MB\n",
      "Max GPU Memory Used: 247.71 MB\n"
     ]
    }
   ],
   "source": [
    "end_time = time.time()\n",
    "end_cpu = process.cpu_times()\n",
    "end_mem = process.memory_info().rss / 1024**2\n",
    "\n",
    "cpu_time = (end_cpu.user + end_cpu.system) - (start_cpu.user + start_cpu.system)\n",
    "memory_used = end_mem - start_mem\n",
    "\n",
    "print(f\"Training time: {end_time - start_time:.2f} seconds\")\n",
    "print(f\"CPU time used: {cpu_time:.2f} seconds\")\n",
    "print(f\"Memory used: {memory_used:.2f} MB\")\n",
    "\n",
    "if device.type == \"cuda\":\n",
    "    torch.cuda.synchronize()\n",
    "    print(f\"GPU Memory Used: {torch.cuda.memory_allocated() / 1024**2:.2f} MB\")\n",
    "    print(f\"Max GPU Memory Used: {torch.cuda.max_memory_allocated() / 1024**2:.2f} MB\")\n"
   ]
  },
  {
   "cell_type": "code",
   "execution_count": 26,
   "metadata": {},
   "outputs": [
    {
     "data": {
      "image/png": "[encoded data removed]",
      "text/plain": [
       "<Figure size 1200x600 with 2 Axes>"
      ]
     },
     "metadata": {},
     "output_type": "display_data"
    }
   ],
   "source": [
    "plt.figure(\"train\", (12, 6))\n",
    "plt.subplot(1, 2, 1)\n",
    "plt.title(\"Epoch Average Loss\")\n",
    "x = [i + 1 for i in range(len(epoch_loss_values))]\n",
    "y = epoch_loss_values\n",
    "plt.xlabel(\"epoch\")\n",
    "plt.plot(x, y)\n",
    "plt.subplot(1, 2, 2)\n",
    "plt.title(\"Val AUC\")\n",
    "x = [val_interval * (i + 1) for i in range(len(metric_values))]\n",
    "y = metric_values\n",
    "plt.xlabel(\"epoch\")\n",
    "plt.plot(x, y)\n",
    "plt.show()"
   ]
  },
  {
   "cell_type": "code",
   "execution_count": 27,
   "metadata": {},
   "outputs": [
    {
     "name": "stdout",
     "output_type": "stream",
     "text": [
      "VRAM currently used: 192.62 MB\n",
      "Max VRAM used during training: 247.71 MB\n"
     ]
    }
   ],
   "source": [
    "if device.type == \"cuda\":\n",
    "    torch.cuda.synchronize()\n",
    "    vram_used = torch.cuda.memory_allocated() / 1024**2\n",
    "    vram_max_used = torch.cuda.max_memory_allocated() / 1024**2\n",
    "\n",
    "    print(f\"VRAM currently used: {vram_used:.2f} MB\")\n",
    "    print(f\"Max VRAM used during training: {vram_max_used:.2f} MB\")\n"
   ]
  },
  {
   "cell_type": "markdown",
   "metadata": {},
   "source": [
    "### Evaluation"
   ]
  },
  {
   "cell_type": "code",
   "execution_count": 28,
   "metadata": {},
   "outputs": [],
   "source": [
    "model.load_state_dict(torch.load(os.path.join(root_dir, \"axial_full_unpretrained.pth\"), weights_only=True))\n",
    "model.eval()\n",
    "y_true = []\n",
    "y_pred = []\n",
    "example_axial = []\n",
    "example_coronal = []\n",
    "example_sagittal = []\n",
    "example_preds = []\n",
    "example_labels = []\n",
    "\n",
    "with torch.no_grad():\n",
    "    for test_data in test_loader:\n",
    "        test_images, test_labels = (\n",
    "            test_data['images'],\n",
    "            test_data['label'][:, 0].type(torch.LongTensor).to(device),\n",
    "        )\n",
    "        test_axial, test_coronal, test_sagittal = test_images\n",
    "        pred = model(test_axial.to(device)).argmax(dim=1)\n",
    "        for i in range(len(pred)):\n",
    "            y_true.append(test_labels[i].item())\n",
    "            y_pred.append(pred[i].item())\n",
    "\n",
    "        if len(example_axial) < 10:\n",
    "            example_axial.append(test_axial)\n",
    "            example_coronal.append(test_coronal)\n",
    "            example_sagittal.append(test_sagittal)\n",
    "            example_preds.append(pred)\n",
    "            example_labels.append(test_labels)"
   ]
  },
  {
   "cell_type": "code",
   "execution_count": 29,
   "metadata": {
    "scrolled": true
   },
   "outputs": [],
   "source": [
    "report = classification_report(y_true, y_pred, target_names=info['label'], digits=4, output_dict=True)"
   ]
  },
  {
   "cell_type": "code",
   "execution_count": 30,
   "metadata": {},
   "outputs": [],
   "source": [
    "df = pd.DataFrame(report).transpose()\n",
    "df.to_csv(reports_dir+f'axial_random_unpretrained_seed{seed}.csv')"
   ]
  },
  {
   "cell_type": "code",
   "execution_count": 31,
   "metadata": {},
   "outputs": [
    {
     "name": "stdout",
     "output_type": "stream",
     "text": [
      "              precision    recall  f1-score   support\n",
      "\n",
      "           0     0.9714    0.9855    0.9784        69\n",
      "           1     0.7742    0.7059    0.7385        68\n",
      "           2     0.8197    0.7246    0.7692        69\n",
      "           3     0.8143    0.8769    0.8444        65\n",
      "           4     0.9216    0.7231    0.8103        65\n",
      "           5     0.8500    0.7727    0.8095        66\n",
      "           6     0.7941    0.9643    0.8710        28\n",
      "           7     0.9048    0.9048    0.9048        21\n",
      "           8     0.9091    0.9524    0.9302        21\n",
      "           9     0.8594    0.7971    0.8271        69\n",
      "          10     0.7053    0.9710    0.8171        69\n",
      "\n",
      "    accuracy                         0.8344       610\n",
      "   macro avg     0.8476    0.8526    0.8455       610\n",
      "weighted avg     0.8417    0.8344    0.8331       610\n",
      "\n"
     ]
    }
   ],
   "source": [
    "print(classification_report(y_true, y_pred, target_names=info['label'], digits=4))"
   ]
  },
  {
   "cell_type": "code",
   "execution_count": 32,
   "metadata": {},
   "outputs": [
    {
     "name": "stdout",
     "output_type": "stream",
     "text": [
      "VRAM currently used: 192.63 MB\n",
      "Max VRAM used during training: 247.71 MB\n"
     ]
    }
   ],
   "source": [
    "if device.type == \"cuda\":\n",
    "    torch.cuda.synchronize()\n",
    "    vram_used = torch.cuda.memory_allocated() / 1024**2\n",
    "    vram_max_used = torch.cuda.max_memory_allocated() / 1024**2\n",
    "\n",
    "    print(f\"VRAM currently used: {vram_used:.2f} MB\")\n",
    "    print(f\"Max VRAM used during training: {vram_max_used:.2f} MB\")\n"
   ]
  },
  {
   "cell_type": "markdown",
   "metadata": {},
   "source": [
    "# Coronal and sagittal parts"
   ]
  },
  {
   "cell_type": "markdown",
   "metadata": {},
   "source": [
    "## Training cycle for the coronal part"
   ]
  },
  {
   "cell_type": "markdown",
   "metadata": {},
   "source": [
    "## Pretrained"
   ]
  },
  {
   "cell_type": "code",
   "execution_count": 33,
   "metadata": {},
   "outputs": [
    {
     "name": "stderr",
     "output_type": "stream",
     "text": [
      "/opt/conda/lib/python3.10/site-packages/torchvision/models/_utils.py:208: UserWarning: The parameter 'pretrained' is deprecated since 0.13 and may be removed in the future, please use 'weights' instead.\n",
      "  warnings.warn(\n",
      "/opt/conda/lib/python3.10/site-packages/torchvision/models/_utils.py:223: UserWarning: Arguments other than a weight enum or `None` for 'weights' are deprecated since 0.13 and may be removed in the future. The current behavior is equivalent to passing `weights=ResNet18_Weights.IMAGENET1K_V1`. You can also use `weights=ResNet18_Weights.DEFAULT` to get the most up-to-date weights.\n",
      "  warnings.warn(msg)\n"
     ]
    }
   ],
   "source": [
    "device = torch.device(\"cuda\" if torch.cuda.is_available() else \"cpu\")\n",
    "\n",
    "model = models.resnet18(pretrained=True).to(device)\n",
    "model.conv1 = nn.Conv2d(9, 64, kernel_size=7, stride=2, padding=3, bias=False)\n",
    "model.fc = nn.Linear(model.fc.in_features, n_classes)\n",
    "model = model.to(device)\n",
    "\n",
    "loss_function = torch.nn.CrossEntropyLoss()\n",
    "optimizer = torch.optim.Adam(model.parameters(), 0.00005)\n",
    "max_epochs = 80\n",
    "val_interval = 1\n",
    "auc_metric = ROCAUCMetric()"
   ]
  },
  {
   "cell_type": "code",
   "execution_count": 34,
   "metadata": {
    "scrolled": true
   },
   "outputs": [
    {
     "name": "stderr",
     "output_type": "stream",
     "text": [
      "Epochs:   0%|          | 0/80 [00:00<?, ?it/s]"
     ]
    },
    {
     "name": "stdout",
     "output_type": "stream",
     "text": [
      "----------\n",
      "epoch 1/80\n",
      "epoch 1 average loss: 1.9937\n"
     ]
    },
    {
     "name": "stderr",
     "output_type": "stream",
     "text": [
      "Epochs:   1%|▏         | 1/80 [00:09<11:51,  9.01s/it]"
     ]
    },
    {
     "name": "stdout",
     "output_type": "stream",
     "text": [
      "1\n",
      "current epoch: 1 current AUC: 0.8945 current accuracy: 0.4658 best AUC: 0.9997 at epoch: 80\n",
      "----------\n",
      "epoch 2/80\n",
      "epoch 2 average loss: 1.4488\n"
     ]
    },
    {
     "name": "stderr",
     "output_type": "stream",
     "text": [
      "Epochs:   2%|▎         | 2/80 [00:18<11:47,  9.07s/it]"
     ]
    },
    {
     "name": "stdout",
     "output_type": "stream",
     "text": [
      "1\n",
      "current epoch: 2 current AUC: 0.9582 current accuracy: 0.6957 best AUC: 0.9997 at epoch: 80\n",
      "----------\n",
      "epoch 3/80\n",
      "epoch 3 average loss: 1.1435\n"
     ]
    },
    {
     "name": "stderr",
     "output_type": "stream",
     "text": [
      "Epochs:   4%|▍         | 3/80 [00:27<11:38,  9.08s/it]"
     ]
    },
    {
     "name": "stdout",
     "output_type": "stream",
     "text": [
      "1\n",
      "current epoch: 3 current AUC: 0.9892 current accuracy: 0.8509 best AUC: 0.9997 at epoch: 80\n",
      "----------\n",
      "epoch 4/80\n",
      "epoch 4 average loss: 1.0162\n"
     ]
    },
    {
     "name": "stderr",
     "output_type": "stream",
     "text": [
      "Epochs:   5%|▌         | 4/80 [00:36<11:29,  9.08s/it]"
     ]
    },
    {
     "name": "stdout",
     "output_type": "stream",
     "text": [
      "1\n",
      "current epoch: 4 current AUC: 0.9893 current accuracy: 0.8571 best AUC: 0.9997 at epoch: 80\n",
      "----------\n",
      "epoch 5/80\n",
      "epoch 5 average loss: 0.9057\n"
     ]
    },
    {
     "name": "stderr",
     "output_type": "stream",
     "text": [
      "Epochs:   6%|▋         | 5/80 [00:45<11:19,  9.07s/it]"
     ]
    },
    {
     "name": "stdout",
     "output_type": "stream",
     "text": [
      "1\n",
      "current epoch: 5 current AUC: 0.9911 current accuracy: 0.8509 best AUC: 0.9997 at epoch: 80\n",
      "----------\n",
      "epoch 6/80\n",
      "epoch 6 average loss: 0.8739\n"
     ]
    },
    {
     "name": "stderr",
     "output_type": "stream",
     "text": [
      "Epochs:   8%|▊         | 6/80 [00:54<11:10,  9.06s/it]"
     ]
    },
    {
     "name": "stdout",
     "output_type": "stream",
     "text": [
      "1\n",
      "current epoch: 6 current AUC: 0.9958 current accuracy: 0.9130 best AUC: 0.9997 at epoch: 80\n",
      "----------\n",
      "epoch 7/80\n",
      "epoch 7 average loss: 0.8532\n"
     ]
    },
    {
     "name": "stderr",
     "output_type": "stream",
     "text": [
      "Epochs:   9%|▉         | 7/80 [01:03<11:02,  9.08s/it]"
     ]
    },
    {
     "name": "stdout",
     "output_type": "stream",
     "text": [
      "1\n",
      "current epoch: 7 current AUC: 0.9974 current accuracy: 0.9130 best AUC: 0.9997 at epoch: 80\n",
      "----------\n",
      "epoch 8/80\n",
      "epoch 8 average loss: 0.7239\n"
     ]
    },
    {
     "name": "stderr",
     "output_type": "stream",
     "text": [
      "Epochs:  10%|█         | 8/80 [01:12<10:55,  9.11s/it]"
     ]
    },
    {
     "name": "stdout",
     "output_type": "stream",
     "text": [
      "1\n",
      "current epoch: 8 current AUC: 0.9991 current accuracy: 0.9379 best AUC: 0.9997 at epoch: 80\n",
      "----------\n",
      "epoch 9/80\n",
      "epoch 9 average loss: 0.6745\n"
     ]
    },
    {
     "name": "stderr",
     "output_type": "stream",
     "text": [
      "Epochs:  11%|█▏        | 9/80 [01:21<10:45,  9.09s/it]"
     ]
    },
    {
     "name": "stdout",
     "output_type": "stream",
     "text": [
      "1\n",
      "current epoch: 9 current AUC: 0.9990 current accuracy: 0.9441 best AUC: 0.9997 at epoch: 80\n",
      "----------\n",
      "epoch 10/80\n",
      "epoch 10 average loss: 0.6552\n"
     ]
    },
    {
     "name": "stderr",
     "output_type": "stream",
     "text": [
      "Epochs:  12%|█▎        | 10/80 [01:30<10:34,  9.07s/it]"
     ]
    },
    {
     "name": "stdout",
     "output_type": "stream",
     "text": [
      "1\n",
      "current epoch: 10 current AUC: 0.9938 current accuracy: 0.9130 best AUC: 0.9997 at epoch: 80\n",
      "----------\n",
      "epoch 11/80\n",
      "epoch 11 average loss: 0.6679\n"
     ]
    },
    {
     "name": "stderr",
     "output_type": "stream",
     "text": [
      "Epochs:  14%|█▍        | 11/80 [01:39<10:25,  9.06s/it]"
     ]
    },
    {
     "name": "stdout",
     "output_type": "stream",
     "text": [
      "1\n",
      "current epoch: 11 current AUC: 0.9972 current accuracy: 0.9255 best AUC: 0.9997 at epoch: 80\n",
      "----------\n",
      "epoch 12/80\n",
      "epoch 12 average loss: 0.6029\n"
     ]
    },
    {
     "name": "stderr",
     "output_type": "stream",
     "text": [
      "Epochs:  15%|█▌        | 12/80 [01:48<10:16,  9.07s/it]"
     ]
    },
    {
     "name": "stdout",
     "output_type": "stream",
     "text": [
      "1\n",
      "current epoch: 12 current AUC: 0.9995 current accuracy: 0.9752 best AUC: 0.9997 at epoch: 80\n",
      "----------\n",
      "epoch 13/80\n",
      "epoch 13 average loss: 0.5958\n"
     ]
    },
    {
     "name": "stderr",
     "output_type": "stream",
     "text": [
      "Epochs:  16%|█▋        | 13/80 [01:57<10:05,  9.04s/it]"
     ]
    },
    {
     "name": "stdout",
     "output_type": "stream",
     "text": [
      "1\n",
      "current epoch: 13 current AUC: 0.9985 current accuracy: 0.9503 best AUC: 0.9997 at epoch: 80\n",
      "----------\n",
      "epoch 14/80\n",
      "epoch 14 average loss: 0.5248\n"
     ]
    },
    {
     "name": "stderr",
     "output_type": "stream",
     "text": [
      "Epochs:  18%|█▊        | 14/80 [02:07<09:58,  9.07s/it]"
     ]
    },
    {
     "name": "stdout",
     "output_type": "stream",
     "text": [
      "1\n",
      "current epoch: 14 current AUC: 0.9989 current accuracy: 0.9565 best AUC: 0.9997 at epoch: 80\n",
      "----------\n",
      "epoch 15/80\n",
      "epoch 15 average loss: 0.5366\n"
     ]
    },
    {
     "name": "stderr",
     "output_type": "stream",
     "text": [
      "Epochs:  19%|█▉        | 15/80 [02:16<09:48,  9.06s/it]"
     ]
    },
    {
     "name": "stdout",
     "output_type": "stream",
     "text": [
      "1\n",
      "current epoch: 15 current AUC: 0.9991 current accuracy: 0.9689 best AUC: 0.9997 at epoch: 80\n",
      "----------\n",
      "epoch 16/80\n",
      "epoch 16 average loss: 0.5658\n"
     ]
    },
    {
     "name": "stderr",
     "output_type": "stream",
     "text": [
      "Epochs:  20%|██        | 16/80 [02:25<09:39,  9.06s/it]"
     ]
    },
    {
     "name": "stdout",
     "output_type": "stream",
     "text": [
      "1\n",
      "current epoch: 16 current AUC: 0.9977 current accuracy: 0.9379 best AUC: 0.9997 at epoch: 80\n",
      "----------\n",
      "epoch 17/80\n",
      "epoch 17 average loss: 0.5450\n"
     ]
    },
    {
     "name": "stderr",
     "output_type": "stream",
     "text": [
      "Epochs:  21%|██▏       | 17/80 [02:34<09:32,  9.08s/it]"
     ]
    },
    {
     "name": "stdout",
     "output_type": "stream",
     "text": [
      "1\n",
      "current epoch: 17 current AUC: 0.9975 current accuracy: 0.9255 best AUC: 0.9997 at epoch: 80\n",
      "----------\n",
      "epoch 18/80\n",
      "epoch 18 average loss: 0.5065\n"
     ]
    },
    {
     "name": "stderr",
     "output_type": "stream",
     "text": [
      "Epochs:  22%|██▎       | 18/80 [02:43<09:20,  9.04s/it]"
     ]
    },
    {
     "name": "stdout",
     "output_type": "stream",
     "text": [
      "1\n",
      "current epoch: 18 current AUC: 0.9994 current accuracy: 0.9565 best AUC: 0.9997 at epoch: 80\n",
      "----------\n",
      "epoch 19/80\n",
      "epoch 19 average loss: 0.4561\n",
      "1\n"
     ]
    },
    {
     "name": "stderr",
     "output_type": "stream",
     "text": [
      "Epochs:  24%|██▍       | 19/80 [02:52<09:20,  9.18s/it]"
     ]
    },
    {
     "name": "stdout",
     "output_type": "stream",
     "text": [
      "saved new best metric model\n",
      "current epoch: 19 current AUC: 0.9997 current accuracy: 0.9752 best AUC: 0.9997 at epoch: 19\n",
      "----------\n",
      "epoch 20/80\n",
      "epoch 20 average loss: 0.4684\n"
     ]
    },
    {
     "name": "stderr",
     "output_type": "stream",
     "text": [
      "Epochs:  25%|██▌       | 20/80 [03:01<09:09,  9.16s/it]"
     ]
    },
    {
     "name": "stdout",
     "output_type": "stream",
     "text": [
      "1\n",
      "current epoch: 20 current AUC: 0.9946 current accuracy: 0.8882 best AUC: 0.9997 at epoch: 19\n",
      "----------\n",
      "epoch 21/80\n",
      "epoch 21 average loss: 0.4876\n"
     ]
    },
    {
     "name": "stderr",
     "output_type": "stream",
     "text": [
      "Epochs:  26%|██▋       | 21/80 [03:10<08:59,  9.14s/it]"
     ]
    },
    {
     "name": "stdout",
     "output_type": "stream",
     "text": [
      "1\n",
      "current epoch: 21 current AUC: 0.9993 current accuracy: 0.9689 best AUC: 0.9997 at epoch: 19\n",
      "----------\n",
      "epoch 22/80\n",
      "epoch 22 average loss: 0.3748\n"
     ]
    },
    {
     "name": "stderr",
     "output_type": "stream",
     "text": [
      "Epochs:  28%|██▊       | 22/80 [03:20<08:50,  9.15s/it]"
     ]
    },
    {
     "name": "stdout",
     "output_type": "stream",
     "text": [
      "1\n",
      "current epoch: 22 current AUC: 0.9997 current accuracy: 0.9814 best AUC: 0.9997 at epoch: 19\n",
      "----------\n",
      "epoch 23/80\n",
      "epoch 23 average loss: 0.4501\n"
     ]
    },
    {
     "name": "stderr",
     "output_type": "stream",
     "text": [
      "Epochs:  29%|██▉       | 23/80 [03:29<08:42,  9.16s/it]"
     ]
    },
    {
     "name": "stdout",
     "output_type": "stream",
     "text": [
      "1\n",
      "current epoch: 23 current AUC: 0.9988 current accuracy: 0.9627 best AUC: 0.9997 at epoch: 19\n",
      "----------\n",
      "epoch 24/80\n",
      "epoch 24 average loss: 0.4227\n"
     ]
    },
    {
     "name": "stderr",
     "output_type": "stream",
     "text": [
      "Epochs:  30%|███       | 24/80 [03:38<08:31,  9.14s/it]"
     ]
    },
    {
     "name": "stdout",
     "output_type": "stream",
     "text": [
      "1\n",
      "current epoch: 24 current AUC: 0.9997 current accuracy: 0.9689 best AUC: 0.9997 at epoch: 19\n",
      "----------\n",
      "epoch 25/80\n",
      "epoch 25 average loss: 0.4051\n"
     ]
    },
    {
     "name": "stderr",
     "output_type": "stream",
     "text": [
      "Epochs:  31%|███▏      | 25/80 [03:47<08:22,  9.14s/it]"
     ]
    },
    {
     "name": "stdout",
     "output_type": "stream",
     "text": [
      "1\n",
      "current epoch: 25 current AUC: 0.9996 current accuracy: 0.9752 best AUC: 0.9997 at epoch: 19\n",
      "----------\n",
      "epoch 26/80\n",
      "epoch 26 average loss: 0.4538\n"
     ]
    },
    {
     "name": "stderr",
     "output_type": "stream",
     "text": [
      "Epochs:  32%|███▎      | 26/80 [03:56<08:12,  9.13s/it]"
     ]
    },
    {
     "name": "stdout",
     "output_type": "stream",
     "text": [
      "1\n",
      "current epoch: 26 current AUC: 0.9993 current accuracy: 0.9441 best AUC: 0.9997 at epoch: 19\n",
      "----------\n",
      "epoch 27/80\n",
      "epoch 27 average loss: 0.4113\n"
     ]
    },
    {
     "name": "stderr",
     "output_type": "stream",
     "text": [
      "Epochs:  34%|███▍      | 27/80 [04:05<08:02,  9.10s/it]"
     ]
    },
    {
     "name": "stdout",
     "output_type": "stream",
     "text": [
      "1\n",
      "current epoch: 27 current AUC: 0.9974 current accuracy: 0.9379 best AUC: 0.9997 at epoch: 19\n",
      "----------\n",
      "epoch 28/80\n",
      "epoch 28 average loss: 0.3662\n"
     ]
    },
    {
     "name": "stderr",
     "output_type": "stream",
     "text": [
      "Epochs:  35%|███▌      | 28/80 [04:14<07:52,  9.09s/it]"
     ]
    },
    {
     "name": "stdout",
     "output_type": "stream",
     "text": [
      "1\n",
      "current epoch: 28 current AUC: 0.9996 current accuracy: 0.9752 best AUC: 0.9997 at epoch: 19\n",
      "----------\n",
      "epoch 29/80\n",
      "epoch 29 average loss: 0.3625\n",
      "1\n"
     ]
    },
    {
     "name": "stderr",
     "output_type": "stream",
     "text": [
      "Epochs:  36%|███▋      | 29/80 [04:24<07:50,  9.23s/it]"
     ]
    },
    {
     "name": "stdout",
     "output_type": "stream",
     "text": [
      "saved new best metric model\n",
      "current epoch: 29 current AUC: 0.9999 current accuracy: 0.9814 best AUC: 0.9999 at epoch: 29\n",
      "----------\n",
      "epoch 30/80\n",
      "epoch 30 average loss: 0.3532\n"
     ]
    },
    {
     "name": "stderr",
     "output_type": "stream",
     "text": [
      "Epochs:  38%|███▊      | 30/80 [04:33<07:39,  9.20s/it]"
     ]
    },
    {
     "name": "stdout",
     "output_type": "stream",
     "text": [
      "1\n",
      "current epoch: 30 current AUC: 0.9994 current accuracy: 0.9814 best AUC: 0.9999 at epoch: 29\n",
      "----------\n",
      "epoch 31/80\n",
      "epoch 31 average loss: 0.3691\n"
     ]
    },
    {
     "name": "stderr",
     "output_type": "stream",
     "text": [
      "Epochs:  39%|███▉      | 31/80 [04:42<07:27,  9.14s/it]"
     ]
    },
    {
     "name": "stdout",
     "output_type": "stream",
     "text": [
      "1\n",
      "current epoch: 31 current AUC: 0.9992 current accuracy: 0.9503 best AUC: 0.9999 at epoch: 29\n",
      "----------\n",
      "epoch 32/80\n",
      "epoch 32 average loss: 0.3940\n"
     ]
    },
    {
     "name": "stderr",
     "output_type": "stream",
     "text": [
      "Epochs:  40%|████      | 32/80 [04:51<07:18,  9.13s/it]"
     ]
    },
    {
     "name": "stdout",
     "output_type": "stream",
     "text": [
      "1\n",
      "current epoch: 32 current AUC: 0.9997 current accuracy: 0.9814 best AUC: 0.9999 at epoch: 29\n",
      "----------\n",
      "epoch 33/80\n",
      "epoch 33 average loss: 0.3721\n"
     ]
    },
    {
     "name": "stderr",
     "output_type": "stream",
     "text": [
      "Epochs:  41%|████▏     | 33/80 [05:00<07:09,  9.13s/it]"
     ]
    },
    {
     "name": "stdout",
     "output_type": "stream",
     "text": [
      "1\n",
      "current epoch: 33 current AUC: 0.9996 current accuracy: 0.9689 best AUC: 0.9999 at epoch: 29\n",
      "----------\n",
      "epoch 34/80\n",
      "epoch 34 average loss: 0.3180\n"
     ]
    },
    {
     "name": "stderr",
     "output_type": "stream",
     "text": [
      "Epochs:  42%|████▎     | 34/80 [05:09<06:58,  9.10s/it]"
     ]
    },
    {
     "name": "stdout",
     "output_type": "stream",
     "text": [
      "1\n",
      "current epoch: 34 current AUC: 0.9992 current accuracy: 0.9689 best AUC: 0.9999 at epoch: 29\n",
      "----------\n",
      "epoch 35/80\n",
      "epoch 35 average loss: 0.4029\n"
     ]
    },
    {
     "name": "stderr",
     "output_type": "stream",
     "text": [
      "Epochs:  44%|████▍     | 35/80 [05:18<06:48,  9.08s/it]"
     ]
    },
    {
     "name": "stdout",
     "output_type": "stream",
     "text": [
      "1\n",
      "current epoch: 35 current AUC: 0.9995 current accuracy: 0.9689 best AUC: 0.9999 at epoch: 29\n",
      "----------\n",
      "epoch 36/80\n",
      "epoch 36 average loss: 0.3763\n"
     ]
    },
    {
     "name": "stderr",
     "output_type": "stream",
     "text": [
      "Epochs:  45%|████▌     | 36/80 [05:28<06:45,  9.22s/it]"
     ]
    },
    {
     "name": "stdout",
     "output_type": "stream",
     "text": [
      "1\n",
      "current epoch: 36 current AUC: 0.9997 current accuracy: 0.9876 best AUC: 0.9999 at epoch: 29\n",
      "----------\n",
      "epoch 37/80\n",
      "epoch 37 average loss: 0.3600\n"
     ]
    },
    {
     "name": "stderr",
     "output_type": "stream",
     "text": [
      "Epochs:  46%|████▋     | 37/80 [05:37<06:33,  9.15s/it]"
     ]
    },
    {
     "name": "stdout",
     "output_type": "stream",
     "text": [
      "1\n",
      "current epoch: 37 current AUC: 0.9996 current accuracy: 0.9565 best AUC: 0.9999 at epoch: 29\n",
      "----------\n",
      "epoch 38/80\n",
      "epoch 38 average loss: 0.3019\n"
     ]
    },
    {
     "name": "stderr",
     "output_type": "stream",
     "text": [
      "Epochs:  48%|████▊     | 38/80 [05:46<06:23,  9.14s/it]"
     ]
    },
    {
     "name": "stdout",
     "output_type": "stream",
     "text": [
      "1\n",
      "current epoch: 38 current AUC: 0.9992 current accuracy: 0.9814 best AUC: 0.9999 at epoch: 29\n",
      "----------\n",
      "epoch 39/80\n",
      "epoch 39 average loss: 0.3462\n"
     ]
    },
    {
     "name": "stderr",
     "output_type": "stream",
     "text": [
      "Epochs:  49%|████▉     | 39/80 [05:55<06:13,  9.12s/it]"
     ]
    },
    {
     "name": "stdout",
     "output_type": "stream",
     "text": [
      "1\n",
      "current epoch: 39 current AUC: 0.9994 current accuracy: 0.9627 best AUC: 0.9999 at epoch: 29\n",
      "----------\n",
      "epoch 40/80\n",
      "epoch 40 average loss: 0.3241\n"
     ]
    },
    {
     "name": "stderr",
     "output_type": "stream",
     "text": [
      "Epochs:  50%|█████     | 40/80 [06:04<06:03,  9.10s/it]"
     ]
    },
    {
     "name": "stdout",
     "output_type": "stream",
     "text": [
      "1\n",
      "current epoch: 40 current AUC: 0.9982 current accuracy: 0.9689 best AUC: 0.9999 at epoch: 29\n",
      "----------\n",
      "epoch 41/80\n",
      "epoch 41 average loss: 0.3160\n"
     ]
    },
    {
     "name": "stderr",
     "output_type": "stream",
     "text": [
      "Epochs:  51%|█████▏    | 41/80 [06:13<05:54,  9.08s/it]"
     ]
    },
    {
     "name": "stdout",
     "output_type": "stream",
     "text": [
      "1\n",
      "current epoch: 41 current AUC: 0.9998 current accuracy: 0.9752 best AUC: 0.9999 at epoch: 29\n",
      "----------\n",
      "epoch 42/80\n",
      "epoch 42 average loss: 0.2579\n"
     ]
    },
    {
     "name": "stderr",
     "output_type": "stream",
     "text": [
      "Epochs:  52%|█████▎    | 42/80 [06:22<05:45,  9.10s/it]"
     ]
    },
    {
     "name": "stdout",
     "output_type": "stream",
     "text": [
      "1\n",
      "current epoch: 42 current AUC: 0.9985 current accuracy: 0.9379 best AUC: 0.9999 at epoch: 29\n",
      "----------\n",
      "epoch 43/80\n",
      "epoch 43 average loss: 0.2872\n"
     ]
    },
    {
     "name": "stderr",
     "output_type": "stream",
     "text": [
      "Epochs:  54%|█████▍    | 43/80 [06:31<05:37,  9.11s/it]"
     ]
    },
    {
     "name": "stdout",
     "output_type": "stream",
     "text": [
      "1\n",
      "current epoch: 43 current AUC: 0.9996 current accuracy: 0.9876 best AUC: 0.9999 at epoch: 29\n",
      "----------\n",
      "epoch 44/80\n",
      "epoch 44 average loss: 0.2732\n"
     ]
    },
    {
     "name": "stderr",
     "output_type": "stream",
     "text": [
      "Epochs:  55%|█████▌    | 44/80 [06:40<05:26,  9.08s/it]"
     ]
    },
    {
     "name": "stdout",
     "output_type": "stream",
     "text": [
      "1\n",
      "current epoch: 44 current AUC: 0.9986 current accuracy: 0.9503 best AUC: 0.9999 at epoch: 29\n",
      "----------\n",
      "epoch 45/80\n",
      "epoch 45 average loss: 0.2802\n"
     ]
    },
    {
     "name": "stderr",
     "output_type": "stream",
     "text": [
      "Epochs:  56%|█████▋    | 45/80 [06:49<05:18,  9.09s/it]"
     ]
    },
    {
     "name": "stdout",
     "output_type": "stream",
     "text": [
      "1\n",
      "current epoch: 45 current AUC: 0.9987 current accuracy: 0.9876 best AUC: 0.9999 at epoch: 29\n",
      "----------\n",
      "epoch 46/80\n",
      "epoch 46 average loss: 0.2616\n"
     ]
    },
    {
     "name": "stderr",
     "output_type": "stream",
     "text": [
      "Epochs:  57%|█████▊    | 46/80 [06:58<05:08,  9.08s/it]"
     ]
    },
    {
     "name": "stdout",
     "output_type": "stream",
     "text": [
      "1\n",
      "current epoch: 46 current AUC: 0.9998 current accuracy: 0.9752 best AUC: 0.9999 at epoch: 29\n",
      "----------\n",
      "epoch 47/80\n",
      "epoch 47 average loss: 0.2890\n"
     ]
    },
    {
     "name": "stderr",
     "output_type": "stream",
     "text": [
      "Epochs:  59%|█████▉    | 47/80 [07:08<04:59,  9.09s/it]"
     ]
    },
    {
     "name": "stdout",
     "output_type": "stream",
     "text": [
      "1\n",
      "current epoch: 47 current AUC: 0.9993 current accuracy: 0.9752 best AUC: 0.9999 at epoch: 29\n",
      "----------\n",
      "epoch 48/80\n",
      "epoch 48 average loss: 0.2683\n"
     ]
    },
    {
     "name": "stderr",
     "output_type": "stream",
     "text": [
      "Epochs:  60%|██████    | 48/80 [07:17<04:50,  9.08s/it]"
     ]
    },
    {
     "name": "stdout",
     "output_type": "stream",
     "text": [
      "1\n",
      "current epoch: 48 current AUC: 0.9994 current accuracy: 0.9565 best AUC: 0.9999 at epoch: 29\n",
      "----------\n",
      "epoch 49/80\n",
      "epoch 49 average loss: 0.3132\n"
     ]
    },
    {
     "name": "stderr",
     "output_type": "stream",
     "text": [
      "Epochs:  61%|██████▏   | 49/80 [07:26<04:41,  9.07s/it]"
     ]
    },
    {
     "name": "stdout",
     "output_type": "stream",
     "text": [
      "1\n",
      "current epoch: 49 current AUC: 0.9993 current accuracy: 0.9627 best AUC: 0.9999 at epoch: 29\n",
      "----------\n",
      "epoch 50/80\n",
      "epoch 50 average loss: 0.2543\n"
     ]
    },
    {
     "name": "stderr",
     "output_type": "stream",
     "text": [
      "Epochs:  62%|██████▎   | 50/80 [07:35<04:32,  9.07s/it]"
     ]
    },
    {
     "name": "stdout",
     "output_type": "stream",
     "text": [
      "1\n",
      "current epoch: 50 current AUC: 0.9994 current accuracy: 0.9814 best AUC: 0.9999 at epoch: 29\n",
      "----------\n",
      "epoch 51/80\n",
      "epoch 51 average loss: 0.2457\n"
     ]
    },
    {
     "name": "stderr",
     "output_type": "stream",
     "text": [
      "Epochs:  64%|██████▍   | 51/80 [07:44<04:23,  9.08s/it]"
     ]
    },
    {
     "name": "stdout",
     "output_type": "stream",
     "text": [
      "1\n",
      "current epoch: 51 current AUC: 0.9985 current accuracy: 0.9627 best AUC: 0.9999 at epoch: 29\n",
      "----------\n",
      "epoch 52/80\n",
      "epoch 52 average loss: 0.2481\n"
     ]
    },
    {
     "name": "stderr",
     "output_type": "stream",
     "text": [
      "Epochs:  65%|██████▌   | 52/80 [07:53<04:14,  9.10s/it]"
     ]
    },
    {
     "name": "stdout",
     "output_type": "stream",
     "text": [
      "1\n",
      "current epoch: 52 current AUC: 0.9994 current accuracy: 0.9627 best AUC: 0.9999 at epoch: 29\n",
      "----------\n",
      "epoch 53/80\n",
      "epoch 53 average loss: 0.3250\n"
     ]
    },
    {
     "name": "stderr",
     "output_type": "stream",
     "text": [
      "Epochs:  66%|██████▋   | 53/80 [08:02<04:05,  9.10s/it]"
     ]
    },
    {
     "name": "stdout",
     "output_type": "stream",
     "text": [
      "1\n",
      "current epoch: 53 current AUC: 0.9994 current accuracy: 0.9689 best AUC: 0.9999 at epoch: 29\n",
      "----------\n",
      "epoch 54/80\n",
      "epoch 54 average loss: 0.2375\n"
     ]
    },
    {
     "name": "stderr",
     "output_type": "stream",
     "text": [
      "Epochs:  68%|██████▊   | 54/80 [08:11<03:56,  9.09s/it]"
     ]
    },
    {
     "name": "stdout",
     "output_type": "stream",
     "text": [
      "1\n",
      "current epoch: 54 current AUC: 0.9995 current accuracy: 0.9814 best AUC: 0.9999 at epoch: 29\n",
      "----------\n",
      "epoch 55/80\n",
      "epoch 55 average loss: 0.2356\n"
     ]
    },
    {
     "name": "stderr",
     "output_type": "stream",
     "text": [
      "Epochs:  69%|██████▉   | 55/80 [08:20<03:47,  9.11s/it]"
     ]
    },
    {
     "name": "stdout",
     "output_type": "stream",
     "text": [
      "1\n",
      "current epoch: 55 current AUC: 0.9992 current accuracy: 0.9814 best AUC: 0.9999 at epoch: 29\n",
      "----------\n",
      "epoch 56/80\n",
      "epoch 56 average loss: 0.2159\n",
      "1\n"
     ]
    },
    {
     "name": "stderr",
     "output_type": "stream",
     "text": [
      "Epochs:  70%|███████   | 56/80 [08:30<03:41,  9.24s/it]"
     ]
    },
    {
     "name": "stdout",
     "output_type": "stream",
     "text": [
      "saved new best metric model\n",
      "current epoch: 56 current AUC: 0.9999 current accuracy: 0.9752 best AUC: 0.9999 at epoch: 56\n",
      "----------\n",
      "epoch 57/80\n",
      "epoch 57 average loss: 0.2411\n"
     ]
    },
    {
     "name": "stderr",
     "output_type": "stream",
     "text": [
      "Epochs:  71%|███████▏  | 57/80 [08:39<03:31,  9.19s/it]"
     ]
    },
    {
     "name": "stdout",
     "output_type": "stream",
     "text": [
      "1\n",
      "current epoch: 57 current AUC: 0.9998 current accuracy: 0.9814 best AUC: 0.9999 at epoch: 56\n",
      "----------\n",
      "epoch 58/80\n",
      "epoch 58 average loss: 0.2655\n"
     ]
    },
    {
     "name": "stderr",
     "output_type": "stream",
     "text": [
      "Epochs:  72%|███████▎  | 58/80 [08:48<03:21,  9.16s/it]"
     ]
    },
    {
     "name": "stdout",
     "output_type": "stream",
     "text": [
      "1\n",
      "current epoch: 58 current AUC: 0.9994 current accuracy: 0.9627 best AUC: 0.9999 at epoch: 56\n",
      "----------\n",
      "epoch 59/80\n",
      "epoch 59 average loss: 0.2442\n"
     ]
    },
    {
     "name": "stderr",
     "output_type": "stream",
     "text": [
      "Epochs:  74%|███████▍  | 59/80 [08:57<03:13,  9.20s/it]"
     ]
    },
    {
     "name": "stdout",
     "output_type": "stream",
     "text": [
      "1\n",
      "current epoch: 59 current AUC: 0.9994 current accuracy: 0.9814 best AUC: 0.9999 at epoch: 56\n",
      "----------\n",
      "epoch 60/80\n",
      "epoch 60 average loss: 0.2027\n"
     ]
    },
    {
     "name": "stderr",
     "output_type": "stream",
     "text": [
      "Epochs:  75%|███████▌  | 60/80 [09:06<03:03,  9.16s/it]"
     ]
    },
    {
     "name": "stdout",
     "output_type": "stream",
     "text": [
      "1\n",
      "current epoch: 60 current AUC: 0.9997 current accuracy: 0.9938 best AUC: 0.9999 at epoch: 56\n",
      "----------\n",
      "epoch 61/80\n",
      "epoch 61 average loss: 0.2627\n"
     ]
    },
    {
     "name": "stderr",
     "output_type": "stream",
     "text": [
      "Epochs:  76%|███████▋  | 61/80 [09:16<02:54,  9.16s/it]"
     ]
    },
    {
     "name": "stdout",
     "output_type": "stream",
     "text": [
      "1\n",
      "current epoch: 61 current AUC: 0.9997 current accuracy: 0.9876 best AUC: 0.9999 at epoch: 56\n",
      "----------\n",
      "epoch 62/80\n",
      "epoch 62 average loss: 0.2032\n"
     ]
    },
    {
     "name": "stderr",
     "output_type": "stream",
     "text": [
      "Epochs:  78%|███████▊  | 62/80 [09:25<02:44,  9.13s/it]"
     ]
    },
    {
     "name": "stdout",
     "output_type": "stream",
     "text": [
      "1\n",
      "current epoch: 62 current AUC: 0.9998 current accuracy: 0.9814 best AUC: 0.9999 at epoch: 56\n",
      "----------\n",
      "epoch 63/80\n",
      "epoch 63 average loss: 0.2337\n"
     ]
    },
    {
     "name": "stderr",
     "output_type": "stream",
     "text": [
      "Epochs:  79%|███████▉  | 63/80 [09:34<02:35,  9.13s/it]"
     ]
    },
    {
     "name": "stdout",
     "output_type": "stream",
     "text": [
      "1\n",
      "current epoch: 63 current AUC: 0.9995 current accuracy: 0.9752 best AUC: 0.9999 at epoch: 56\n",
      "----------\n",
      "epoch 64/80\n",
      "epoch 64 average loss: 0.1863\n"
     ]
    },
    {
     "name": "stderr",
     "output_type": "stream",
     "text": [
      "Epochs:  80%|████████  | 64/80 [09:43<02:26,  9.13s/it]"
     ]
    },
    {
     "name": "stdout",
     "output_type": "stream",
     "text": [
      "1\n",
      "current epoch: 64 current AUC: 0.9998 current accuracy: 0.9752 best AUC: 0.9999 at epoch: 56\n",
      "----------\n",
      "epoch 65/80\n",
      "epoch 65 average loss: 0.1832\n"
     ]
    },
    {
     "name": "stderr",
     "output_type": "stream",
     "text": [
      "Epochs:  81%|████████▏ | 65/80 [09:52<02:16,  9.11s/it]"
     ]
    },
    {
     "name": "stdout",
     "output_type": "stream",
     "text": [
      "1\n",
      "current epoch: 65 current AUC: 0.9987 current accuracy: 0.9565 best AUC: 0.9999 at epoch: 56\n",
      "----------\n",
      "epoch 66/80\n",
      "epoch 66 average loss: 0.2229\n"
     ]
    },
    {
     "name": "stderr",
     "output_type": "stream",
     "text": [
      "Epochs:  82%|████████▎ | 66/80 [10:01<02:07,  9.10s/it]"
     ]
    },
    {
     "name": "stdout",
     "output_type": "stream",
     "text": [
      "1\n",
      "current epoch: 66 current AUC: 0.9990 current accuracy: 0.9689 best AUC: 0.9999 at epoch: 56\n",
      "----------\n",
      "epoch 67/80\n",
      "epoch 67 average loss: 0.2225\n"
     ]
    },
    {
     "name": "stderr",
     "output_type": "stream",
     "text": [
      "Epochs:  84%|████████▍ | 67/80 [10:10<01:58,  9.08s/it]"
     ]
    },
    {
     "name": "stdout",
     "output_type": "stream",
     "text": [
      "1\n",
      "current epoch: 67 current AUC: 0.9997 current accuracy: 0.9876 best AUC: 0.9999 at epoch: 56\n",
      "----------\n",
      "epoch 68/80\n",
      "epoch 68 average loss: 0.2164\n"
     ]
    },
    {
     "name": "stderr",
     "output_type": "stream",
     "text": [
      "Epochs:  85%|████████▌ | 68/80 [10:19<01:48,  9.08s/it]"
     ]
    },
    {
     "name": "stdout",
     "output_type": "stream",
     "text": [
      "1\n",
      "current epoch: 68 current AUC: 0.9995 current accuracy: 0.9627 best AUC: 0.9999 at epoch: 56\n",
      "----------\n",
      "epoch 69/80\n",
      "epoch 69 average loss: 0.2206\n"
     ]
    },
    {
     "name": "stderr",
     "output_type": "stream",
     "text": [
      "Epochs:  86%|████████▋ | 69/80 [10:28<01:39,  9.08s/it]"
     ]
    },
    {
     "name": "stdout",
     "output_type": "stream",
     "text": [
      "1\n",
      "current epoch: 69 current AUC: 0.9996 current accuracy: 0.9752 best AUC: 0.9999 at epoch: 56\n",
      "----------\n",
      "epoch 70/80\n",
      "epoch 70 average loss: 0.2239\n"
     ]
    },
    {
     "name": "stderr",
     "output_type": "stream",
     "text": [
      "Epochs:  88%|████████▊ | 70/80 [10:37<01:30,  9.07s/it]"
     ]
    },
    {
     "name": "stdout",
     "output_type": "stream",
     "text": [
      "1\n",
      "current epoch: 70 current AUC: 0.9989 current accuracy: 0.9814 best AUC: 0.9999 at epoch: 56\n",
      "----------\n",
      "epoch 71/80\n",
      "epoch 71 average loss: 0.2236\n",
      "1\n"
     ]
    },
    {
     "name": "stderr",
     "output_type": "stream",
     "text": [
      "Epochs:  89%|████████▉ | 71/80 [10:47<01:22,  9.18s/it]"
     ]
    },
    {
     "name": "stdout",
     "output_type": "stream",
     "text": [
      "saved new best metric model\n",
      "current epoch: 71 current AUC: 1.0000 current accuracy: 0.9876 best AUC: 1.0000 at epoch: 71\n",
      "----------\n",
      "epoch 72/80\n",
      "epoch 72 average loss: 0.2182\n"
     ]
    },
    {
     "name": "stderr",
     "output_type": "stream",
     "text": [
      "Epochs:  90%|█████████ | 72/80 [10:56<01:13,  9.14s/it]"
     ]
    },
    {
     "name": "stdout",
     "output_type": "stream",
     "text": [
      "1\n",
      "current epoch: 72 current AUC: 0.9998 current accuracy: 0.9876 best AUC: 1.0000 at epoch: 71\n",
      "----------\n",
      "epoch 73/80\n",
      "epoch 73 average loss: 0.1855\n"
     ]
    },
    {
     "name": "stderr",
     "output_type": "stream",
     "text": [
      "Epochs:  91%|█████████▏| 73/80 [11:05<01:03,  9.12s/it]"
     ]
    },
    {
     "name": "stdout",
     "output_type": "stream",
     "text": [
      "1\n",
      "current epoch: 73 current AUC: 0.9999 current accuracy: 0.9752 best AUC: 1.0000 at epoch: 71\n",
      "----------\n",
      "epoch 74/80\n",
      "epoch 74 average loss: 0.1969\n"
     ]
    },
    {
     "name": "stderr",
     "output_type": "stream",
     "text": [
      "Epochs:  92%|█████████▎| 74/80 [11:14<00:54,  9.15s/it]"
     ]
    },
    {
     "name": "stdout",
     "output_type": "stream",
     "text": [
      "1\n",
      "current epoch: 74 current AUC: 0.9991 current accuracy: 0.9938 best AUC: 1.0000 at epoch: 71\n",
      "----------\n",
      "epoch 75/80\n",
      "epoch 75 average loss: 0.1681\n"
     ]
    },
    {
     "name": "stderr",
     "output_type": "stream",
     "text": [
      "Epochs:  94%|█████████▍| 75/80 [11:23<00:45,  9.13s/it]"
     ]
    },
    {
     "name": "stdout",
     "output_type": "stream",
     "text": [
      "1\n",
      "current epoch: 75 current AUC: 0.9995 current accuracy: 0.9689 best AUC: 1.0000 at epoch: 71\n",
      "----------\n",
      "epoch 76/80\n",
      "epoch 76 average loss: 0.1859\n"
     ]
    },
    {
     "name": "stderr",
     "output_type": "stream",
     "text": [
      "Epochs:  95%|█████████▌| 76/80 [11:32<00:36,  9.10s/it]"
     ]
    },
    {
     "name": "stdout",
     "output_type": "stream",
     "text": [
      "1\n",
      "current epoch: 76 current AUC: 0.9994 current accuracy: 0.9752 best AUC: 1.0000 at epoch: 71\n",
      "----------\n",
      "epoch 77/80\n",
      "epoch 77 average loss: 0.1911\n"
     ]
    },
    {
     "name": "stderr",
     "output_type": "stream",
     "text": [
      "Epochs:  96%|█████████▋| 77/80 [11:41<00:27,  9.09s/it]"
     ]
    },
    {
     "name": "stdout",
     "output_type": "stream",
     "text": [
      "1\n",
      "current epoch: 77 current AUC: 0.9990 current accuracy: 0.9814 best AUC: 1.0000 at epoch: 71\n",
      "----------\n",
      "epoch 78/80\n",
      "epoch 78 average loss: 0.1872\n"
     ]
    },
    {
     "name": "stderr",
     "output_type": "stream",
     "text": [
      "Epochs:  98%|█████████▊| 78/80 [11:50<00:18,  9.06s/it]"
     ]
    },
    {
     "name": "stdout",
     "output_type": "stream",
     "text": [
      "1\n",
      "current epoch: 78 current AUC: 0.9988 current accuracy: 0.9565 best AUC: 1.0000 at epoch: 71\n",
      "----------\n",
      "epoch 79/80\n",
      "epoch 79 average loss: 0.1633\n",
      "1\n"
     ]
    },
    {
     "name": "stderr",
     "output_type": "stream",
     "text": [
      "Epochs:  99%|█████████▉| 79/80 [12:00<00:09,  9.21s/it]"
     ]
    },
    {
     "name": "stdout",
     "output_type": "stream",
     "text": [
      "saved new best metric model\n",
      "current epoch: 79 current AUC: 1.0000 current accuracy: 0.9876 best AUC: 1.0000 at epoch: 79\n",
      "----------\n",
      "epoch 80/80\n",
      "epoch 80 average loss: 0.1794\n"
     ]
    },
    {
     "name": "stderr",
     "output_type": "stream",
     "text": [
      "Epochs: 100%|██████████| 80/80 [12:09<00:00,  9.12s/it]"
     ]
    },
    {
     "name": "stdout",
     "output_type": "stream",
     "text": [
      "1\n",
      "current epoch: 80 current AUC: 0.9991 current accuracy: 0.9814 best AUC: 1.0000 at epoch: 79\n",
      "train completed, best_metric: 1.0000 at epoch: 79\n"
     ]
    },
    {
     "name": "stderr",
     "output_type": "stream",
     "text": [
      "\n"
     ]
    }
   ],
   "source": [
    "# best_metric = -1\n",
    "# best_metric_epoch = -1\n",
    "# epoch_loss_values = []\n",
    "# metric_values = []\n",
    "# writer = SummaryWriter()\n",
    "\n",
    "# start_time = time.time()\n",
    "# process = psutil.Process()\n",
    "# start_cpu = process.cpu_times()\n",
    "# start_mem = process.memory_info().rss / 1024**2\n",
    "\n",
    "if device.type == \"cuda\":\n",
    "    torch.cuda.synchronize()\n",
    "    torch.cuda.reset_peak_memory_stats()\n",
    "\n",
    "for epoch in tqdm(range(max_epochs), desc=\"Epochs\"):\n",
    "    print(\"-\" * 10)\n",
    "    print(f\"epoch {epoch + 1}/{max_epochs}\")\n",
    "    model.train()\n",
    "    epoch_loss = 0\n",
    "    step = 0\n",
    "    \n",
    "    for batch_data in train_loader:\n",
    "        step += 1\n",
    "        images, labels = batch_data['images'], batch_data['label'][:, 0].type(torch.LongTensor).to(device)\n",
    "        axial, coronal, sagittal = images\n",
    "        optimizer.zero_grad()\n",
    "        outputs = model(coronal.to(device))\n",
    "        loss = loss_function(outputs, labels)\n",
    "        loss.backward()\n",
    "        optimizer.step()\n",
    "        epoch_loss += loss.item()\n",
    "        epoch_len = len(train_dataset) // train_loader.batch_size\n",
    "        writer.add_scalar(\"train_loss\", loss.item(), epoch_len * epoch + step)\n",
    "        \n",
    "    epoch_loss /= step\n",
    "    epoch_loss_values.append(epoch_loss)\n",
    "    print(f\"epoch {epoch + 1} average loss: {epoch_loss:.4f}\")\n",
    "\n",
    "    if (epoch + 1) % val_interval == 0:\n",
    "        model.eval()\n",
    "        with torch.no_grad():\n",
    "            y_pred = torch.tensor([], dtype=torch.float32, device=device)\n",
    "            y = torch.tensor([], dtype=torch.long, device=device)\n",
    "            for val_data in val_loader:\n",
    "                val_images, val_labels = (\n",
    "                    val_data['images'],\n",
    "                    val_data['label'][:, 0].type(torch.LongTensor).to(device),\n",
    "                )\n",
    "                val_axial, val_coronal, val_sagittal = val_images\n",
    "                y_pred = torch.cat([y_pred, model(val_coronal.to(device))], dim=0)\n",
    "                y = torch.cat([y, val_labels], dim=0)\n",
    "            y_onehot = [y_trans(i) for i in decollate_batch(y, detach=False)]\n",
    "            print('1')\n",
    "            y_pred_act = [y_pred_trans(i) for i in decollate_batch(y_pred)]\n",
    "            auc_metric(y_pred_act, y_onehot)\n",
    "            result = auc_metric.aggregate()\n",
    "            auc_metric.reset()\n",
    "            del y_pred_act, y_onehot\n",
    "            metric_values.append(result)\n",
    "            acc_value = torch.eq(y_pred.argmax(dim=1), y)\n",
    "            acc_metric = acc_value.sum().item() / len(acc_value)\n",
    "            if result > best_metric:\n",
    "                best_metric = result\n",
    "                best_metric_epoch = epoch + 1\n",
    "                torch.save(model.state_dict(), os.path.join(root_dir, \"coronal_full_pretrained.pth\"))\n",
    "                print(\"saved new best metric model\")\n",
    "            print(\n",
    "                f\"current epoch: {epoch + 1} current AUC: {result:.4f}\"\n",
    "                f\" current accuracy: {acc_metric:.4f}\"\n",
    "                f\" best AUC: {best_metric:.4f}\"\n",
    "                f\" at epoch: {best_metric_epoch}\"\n",
    "            )\n",
    "            writer.add_scalar(\"val_accuracy\", acc_metric, epoch + 1)\n",
    "\n",
    "print(f\"train completed, best_metric: {best_metric:.4f} \" f\"at epoch: {best_metric_epoch}\")\n",
    "writer.close()"
   ]
  },
  {
   "cell_type": "code",
   "execution_count": 35,
   "metadata": {},
   "outputs": [
    {
     "data": {
      "image/png": "[encoded data removed]",
      "text/plain": [
       "<Figure size 1200x600 with 2 Axes>"
      ]
     },
     "metadata": {},
     "output_type": "display_data"
    }
   ],
   "source": [
    "plt.figure(\"train\", (12, 6))\n",
    "plt.subplot(1, 2, 1)\n",
    "plt.title(\"Epoch Average Loss\")\n",
    "x = [i + 1 for i in range(len(epoch_loss_values))]\n",
    "y = epoch_loss_values\n",
    "plt.xlabel(\"epoch\")\n",
    "plt.plot(x, y)\n",
    "plt.subplot(1, 2, 2)\n",
    "plt.title(\"Val AUC\")\n",
    "x = [val_interval * (i + 1) for i in range(len(metric_values))]\n",
    "y = metric_values\n",
    "plt.xlabel(\"epoch\")\n",
    "plt.plot(x, y)\n",
    "plt.show()"
   ]
  },
  {
   "cell_type": "code",
   "execution_count": 36,
   "metadata": {},
   "outputs": [
    {
     "name": "stdout",
     "output_type": "stream",
     "text": [
      "Training time: 1543.49 seconds\n",
      "CPU time used: 18422.06 seconds\n",
      "Memory used: 699.59 MB\n",
      "GPU Memory Used: 192.75 MB\n",
      "Max GPU Memory Used: 236.35 MB\n"
     ]
    }
   ],
   "source": [
    "end_time = time.time()\n",
    "end_cpu = process.cpu_times()\n",
    "end_mem = process.memory_info().rss / 1024**2\n",
    "\n",
    "cpu_time = (end_cpu.user + end_cpu.system) - (start_cpu.user + start_cpu.system)\n",
    "memory_used = end_mem - start_mem\n",
    "\n",
    "print(f\"Training time: {end_time - start_time:.2f} seconds\")\n",
    "print(f\"CPU time used: {cpu_time:.2f} seconds\")\n",
    "print(f\"Memory used: {memory_used:.2f} MB\")\n",
    "\n",
    "if device.type == \"cuda\":\n",
    "    torch.cuda.synchronize()\n",
    "    print(f\"GPU Memory Used: {torch.cuda.memory_allocated() / 1024**2:.2f} MB\")\n",
    "    print(f\"Max GPU Memory Used: {torch.cuda.max_memory_allocated() / 1024**2:.2f} MB\")\n"
   ]
  },
  {
   "cell_type": "code",
   "execution_count": 37,
   "metadata": {},
   "outputs": [
    {
     "name": "stdout",
     "output_type": "stream",
     "text": [
      "VRAM currently used: 192.75 MB\n",
      "Max VRAM used during training: 236.35 MB\n"
     ]
    }
   ],
   "source": [
    "if device.type == \"cuda\":\n",
    "    torch.cuda.synchronize()\n",
    "    vram_used = torch.cuda.memory_allocated() / 1024**2\n",
    "    vram_max_used = torch.cuda.max_memory_allocated() / 1024**2\n",
    "\n",
    "    print(f\"VRAM currently used: {vram_used:.2f} MB\")\n",
    "    print(f\"Max VRAM used during training: {vram_max_used:.2f} MB\")\n"
   ]
  },
  {
   "cell_type": "markdown",
   "metadata": {},
   "source": [
    "### Evaluation"
   ]
  },
  {
   "cell_type": "code",
   "execution_count": 38,
   "metadata": {},
   "outputs": [],
   "source": [
    "model.load_state_dict(torch.load(os.path.join(root_dir, \"coronal_full_pretrained.pth\"), weights_only=True))\n",
    "model.eval()\n",
    "y_true = []\n",
    "y_pred = []\n",
    "example_axial = []\n",
    "example_coronal = []\n",
    "example_sagittal = []\n",
    "example_preds = []\n",
    "example_labels = []\n",
    "\n",
    "with torch.no_grad():\n",
    "    for test_data in test_loader:\n",
    "        test_images, test_labels = (\n",
    "            test_data['images'],\n",
    "            test_data['label'][:, 0].type(torch.LongTensor).to(device),\n",
    "        )\n",
    "        test_axial, test_coronal, test_sagittal = test_images\n",
    "        pred = model(test_coronal.to(device)).argmax(dim=1)\n",
    "        for i in range(len(pred)):\n",
    "            y_true.append(test_labels[i].item())\n",
    "            y_pred.append(pred[i].item())\n",
    "\n",
    "        if len(example_axial) < 10:\n",
    "            example_axial.append(test_axial)\n",
    "            example_coronal.append(test_coronal)\n",
    "            example_sagittal.append(test_sagittal)\n",
    "            example_preds.append(pred)\n",
    "            example_labels.append(test_labels)"
   ]
  },
  {
   "cell_type": "code",
   "execution_count": 39,
   "metadata": {
    "scrolled": true
   },
   "outputs": [
    {
     "name": "stdout",
     "output_type": "stream",
     "text": [
      "              precision    recall  f1-score   support\n",
      "\n",
      "           0     0.9718    1.0000    0.9857        69\n",
      "           1     0.8906    0.8382    0.8636        68\n",
      "           2     0.7778    0.8116    0.7943        69\n",
      "           3     0.8824    0.9231    0.9023        65\n",
      "           4     0.8406    0.8923    0.8657        65\n",
      "           5     0.9153    0.8182    0.8640        66\n",
      "           6     0.9231    0.8571    0.8889        28\n",
      "           7     1.0000    0.8571    0.9231        21\n",
      "           8     0.9130    1.0000    0.9545        21\n",
      "           9     0.9559    0.9420    0.9489        69\n",
      "          10     0.8750    0.9130    0.8936        69\n",
      "\n",
      "    accuracy                         0.8934       610\n",
      "   macro avg     0.9041    0.8957    0.8986       610\n",
      "weighted avg     0.8951    0.8934    0.8933       610\n",
      "\n"
     ]
    }
   ],
   "source": [
    "report = classification_report(y_true, y_pred, target_names=info['label'], digits=4, output_dict=True)\n",
    "print(classification_report(y_true, y_pred, target_names=info['label'], digits=4))"
   ]
  },
  {
   "cell_type": "code",
   "execution_count": 40,
   "metadata": {},
   "outputs": [],
   "source": [
    "df = pd.DataFrame(report).transpose()\n",
    "df.to_csv(reports_dir+f'coronal_random_pretrained_seed{seed}.csv')"
   ]
  },
  {
   "cell_type": "code",
   "execution_count": 41,
   "metadata": {},
   "outputs": [
    {
     "name": "stdout",
     "output_type": "stream",
     "text": [
      "VRAM currently used: 192.74 MB\n",
      "Max VRAM used during training: 236.40 MB\n"
     ]
    }
   ],
   "source": [
    "if device.type == \"cuda\":\n",
    "    torch.cuda.synchronize()\n",
    "    vram_used = torch.cuda.memory_allocated() / 1024**2\n",
    "    vram_max_used = torch.cuda.max_memory_allocated() / 1024**2\n",
    "\n",
    "    print(f\"VRAM currently used: {vram_used:.2f} MB\")\n",
    "    print(f\"Max VRAM used during training: {vram_max_used:.2f} MB\")\n"
   ]
  },
  {
   "cell_type": "markdown",
   "metadata": {},
   "source": [
    "## Unpretrained"
   ]
  },
  {
   "cell_type": "code",
   "execution_count": 42,
   "metadata": {},
   "outputs": [],
   "source": [
    "device = torch.device(\"cuda\" if torch.cuda.is_available() else \"cpu\")\n",
    "model = nets.resnet18(pretrained=False, spatial_dims=2, n_input_channels=9, num_classes=n_classes).to(device)\n",
    "loss_function = torch.nn.CrossEntropyLoss()\n",
    "optimizer = torch.optim.Adam(model.parameters(), 0.00005)\n",
    "max_epochs = 80\n",
    "val_interval = 1\n",
    "auc_metric = ROCAUCMetric()"
   ]
  },
  {
   "cell_type": "code",
   "execution_count": 43,
   "metadata": {
    "scrolled": true
   },
   "outputs": [
    {
     "name": "stderr",
     "output_type": "stream",
     "text": [
      "Epochs:   0%|          | 0/80 [00:00<?, ?it/s]"
     ]
    },
    {
     "name": "stdout",
     "output_type": "stream",
     "text": [
      "----------\n",
      "epoch 1/80\n",
      "epoch 1 average loss: 1.9586\n",
      "1\n"
     ]
    },
    {
     "name": "stderr",
     "output_type": "stream",
     "text": [
      "Epochs:   1%|▏         | 1/80 [00:10<14:27, 10.98s/it]"
     ]
    },
    {
     "name": "stdout",
     "output_type": "stream",
     "text": [
      "saved new best metric model\n",
      "current epoch: 1 current AUC: 0.9446 current accuracy: 0.5714 best AUC: 0.9446 at epoch: 1\n",
      "----------\n",
      "epoch 2/80\n",
      "epoch 2 average loss: 1.5000\n",
      "1\n"
     ]
    },
    {
     "name": "stderr",
     "output_type": "stream",
     "text": [
      "Epochs:   2%|▎         | 2/80 [00:22<14:28, 11.14s/it]"
     ]
    },
    {
     "name": "stdout",
     "output_type": "stream",
     "text": [
      "saved new best metric model\n",
      "current epoch: 2 current AUC: 0.9724 current accuracy: 0.6832 best AUC: 0.9724 at epoch: 2\n",
      "----------\n",
      "epoch 3/80\n",
      "epoch 3 average loss: 1.2339\n",
      "1\n"
     ]
    },
    {
     "name": "stderr",
     "output_type": "stream",
     "text": [
      "Epochs:   4%|▍         | 3/80 [00:33<14:21, 11.18s/it]"
     ]
    },
    {
     "name": "stdout",
     "output_type": "stream",
     "text": [
      "saved new best metric model\n",
      "current epoch: 3 current AUC: 0.9893 current accuracy: 0.8012 best AUC: 0.9893 at epoch: 3\n",
      "----------\n",
      "epoch 4/80\n",
      "epoch 4 average loss: 1.0472\n"
     ]
    },
    {
     "name": "stderr",
     "output_type": "stream",
     "text": [
      "Epochs:   5%|▌         | 4/80 [00:44<13:54, 10.98s/it]"
     ]
    },
    {
     "name": "stdout",
     "output_type": "stream",
     "text": [
      "1\n",
      "current epoch: 4 current AUC: 0.9795 current accuracy: 0.6957 best AUC: 0.9893 at epoch: 3\n",
      "----------\n",
      "epoch 5/80\n",
      "epoch 5 average loss: 0.9324\n"
     ]
    },
    {
     "name": "stderr",
     "output_type": "stream",
     "text": [
      "Epochs:   6%|▋         | 5/80 [00:54<13:22, 10.70s/it]"
     ]
    },
    {
     "name": "stdout",
     "output_type": "stream",
     "text": [
      "1\n",
      "current epoch: 5 current AUC: 0.9888 current accuracy: 0.7950 best AUC: 0.9893 at epoch: 3\n",
      "----------\n",
      "epoch 6/80\n",
      "epoch 6 average loss: 0.9055\n",
      "1\n"
     ]
    },
    {
     "name": "stderr",
     "output_type": "stream",
     "text": [
      "Epochs:   8%|▊         | 6/80 [01:04<13:09, 10.66s/it]"
     ]
    },
    {
     "name": "stdout",
     "output_type": "stream",
     "text": [
      "saved new best metric model\n",
      "current epoch: 6 current AUC: 0.9974 current accuracy: 0.8820 best AUC: 0.9974 at epoch: 6\n",
      "----------\n",
      "epoch 7/80\n",
      "epoch 7 average loss: 0.8303\n"
     ]
    },
    {
     "name": "stderr",
     "output_type": "stream",
     "text": [
      "Epochs:   9%|▉         | 7/80 [01:14<12:40, 10.41s/it]"
     ]
    },
    {
     "name": "stdout",
     "output_type": "stream",
     "text": [
      "1\n",
      "current epoch: 7 current AUC: 0.9973 current accuracy: 0.8571 best AUC: 0.9974 at epoch: 6\n",
      "----------\n",
      "epoch 8/80\n",
      "epoch 8 average loss: 0.7816\n",
      "1\n"
     ]
    },
    {
     "name": "stderr",
     "output_type": "stream",
     "text": [
      "Epochs:  10%|█         | 8/80 [01:25<12:34, 10.48s/it]"
     ]
    },
    {
     "name": "stdout",
     "output_type": "stream",
     "text": [
      "saved new best metric model\n",
      "current epoch: 8 current AUC: 0.9979 current accuracy: 0.9193 best AUC: 0.9979 at epoch: 8\n",
      "----------\n",
      "epoch 9/80\n",
      "epoch 9 average loss: 0.7546\n"
     ]
    },
    {
     "name": "stderr",
     "output_type": "stream",
     "text": [
      "Epochs:  11%|█▏        | 9/80 [01:35<12:18, 10.40s/it]"
     ]
    },
    {
     "name": "stdout",
     "output_type": "stream",
     "text": [
      "1\n",
      "current epoch: 9 current AUC: 0.9955 current accuracy: 0.9068 best AUC: 0.9979 at epoch: 8\n",
      "----------\n",
      "epoch 10/80\n",
      "epoch 10 average loss: 0.6978\n"
     ]
    },
    {
     "name": "stderr",
     "output_type": "stream",
     "text": [
      "Epochs:  12%|█▎        | 10/80 [01:45<12:03, 10.33s/it]"
     ]
    },
    {
     "name": "stdout",
     "output_type": "stream",
     "text": [
      "1\n",
      "current epoch: 10 current AUC: 0.9960 current accuracy: 0.8820 best AUC: 0.9979 at epoch: 8\n",
      "----------\n",
      "epoch 11/80\n",
      "epoch 11 average loss: 0.7036\n"
     ]
    },
    {
     "name": "stderr",
     "output_type": "stream",
     "text": [
      "Epochs:  14%|█▍        | 11/80 [01:56<11:50, 10.30s/it]"
     ]
    },
    {
     "name": "stdout",
     "output_type": "stream",
     "text": [
      "1\n",
      "current epoch: 11 current AUC: 0.9967 current accuracy: 0.9255 best AUC: 0.9979 at epoch: 8\n",
      "----------\n",
      "epoch 12/80\n",
      "epoch 12 average loss: 0.6293\n",
      "1\n"
     ]
    },
    {
     "name": "stderr",
     "output_type": "stream",
     "text": [
      "Epochs:  15%|█▌        | 12/80 [02:06<11:40, 10.30s/it]"
     ]
    },
    {
     "name": "stdout",
     "output_type": "stream",
     "text": [
      "saved new best metric model\n",
      "current epoch: 12 current AUC: 0.9981 current accuracy: 0.9379 best AUC: 0.9981 at epoch: 12\n",
      "----------\n",
      "epoch 13/80\n",
      "epoch 13 average loss: 0.6424\n",
      "1\n"
     ]
    },
    {
     "name": "stderr",
     "output_type": "stream",
     "text": [
      "Epochs:  16%|█▋        | 13/80 [02:16<11:23, 10.20s/it]"
     ]
    },
    {
     "name": "stdout",
     "output_type": "stream",
     "text": [
      "saved new best metric model\n",
      "current epoch: 13 current AUC: 0.9987 current accuracy: 0.9441 best AUC: 0.9987 at epoch: 13\n",
      "----------\n",
      "epoch 14/80\n",
      "epoch 14 average loss: 0.5781\n"
     ]
    },
    {
     "name": "stderr",
     "output_type": "stream",
     "text": [
      "Epochs:  18%|█▊        | 14/80 [02:25<10:59,  9.99s/it]"
     ]
    },
    {
     "name": "stdout",
     "output_type": "stream",
     "text": [
      "1\n",
      "current epoch: 14 current AUC: 0.9939 current accuracy: 0.9006 best AUC: 0.9987 at epoch: 13\n",
      "----------\n",
      "epoch 15/80\n",
      "epoch 15 average loss: 0.6152\n"
     ]
    },
    {
     "name": "stderr",
     "output_type": "stream",
     "text": [
      "Epochs:  19%|█▉        | 15/80 [02:35<10:44,  9.92s/it]"
     ]
    },
    {
     "name": "stdout",
     "output_type": "stream",
     "text": [
      "1\n",
      "current epoch: 15 current AUC: 0.9984 current accuracy: 0.9006 best AUC: 0.9987 at epoch: 13\n",
      "----------\n",
      "epoch 16/80\n",
      "epoch 16 average loss: 0.5709\n",
      "1\n"
     ]
    },
    {
     "name": "stderr",
     "output_type": "stream",
     "text": [
      "Epochs:  20%|██        | 16/80 [02:45<10:38,  9.98s/it]"
     ]
    },
    {
     "name": "stdout",
     "output_type": "stream",
     "text": [
      "saved new best metric model\n",
      "current epoch: 16 current AUC: 0.9995 current accuracy: 0.9130 best AUC: 0.9995 at epoch: 16\n",
      "----------\n",
      "epoch 17/80\n",
      "epoch 17 average loss: 0.5738\n"
     ]
    },
    {
     "name": "stderr",
     "output_type": "stream",
     "text": [
      "Epochs:  21%|██▏       | 17/80 [02:55<10:23,  9.89s/it]"
     ]
    },
    {
     "name": "stdout",
     "output_type": "stream",
     "text": [
      "1\n",
      "current epoch: 17 current AUC: 0.9979 current accuracy: 0.9317 best AUC: 0.9995 at epoch: 16\n",
      "----------\n",
      "epoch 18/80\n",
      "epoch 18 average loss: 0.5623\n"
     ]
    },
    {
     "name": "stderr",
     "output_type": "stream",
     "text": [
      "Epochs:  22%|██▎       | 18/80 [03:05<10:11,  9.86s/it]"
     ]
    },
    {
     "name": "stdout",
     "output_type": "stream",
     "text": [
      "1\n",
      "current epoch: 18 current AUC: 0.9978 current accuracy: 0.9068 best AUC: 0.9995 at epoch: 16\n",
      "----------\n",
      "epoch 19/80\n",
      "epoch 19 average loss: 0.5226\n",
      "1\n"
     ]
    },
    {
     "name": "stderr",
     "output_type": "stream",
     "text": [
      "Epochs:  24%|██▍       | 19/80 [03:15<10:13, 10.06s/it]"
     ]
    },
    {
     "name": "stdout",
     "output_type": "stream",
     "text": [
      "saved new best metric model\n",
      "current epoch: 19 current AUC: 0.9996 current accuracy: 0.9689 best AUC: 0.9996 at epoch: 19\n",
      "----------\n",
      "epoch 20/80\n",
      "epoch 20 average loss: 0.5798\n"
     ]
    },
    {
     "name": "stderr",
     "output_type": "stream",
     "text": [
      "Epochs:  25%|██▌       | 20/80 [03:25<09:57,  9.96s/it]"
     ]
    },
    {
     "name": "stdout",
     "output_type": "stream",
     "text": [
      "1\n",
      "current epoch: 20 current AUC: 0.9977 current accuracy: 0.9565 best AUC: 0.9996 at epoch: 19\n",
      "----------\n",
      "epoch 21/80\n",
      "epoch 21 average loss: 0.4971\n"
     ]
    },
    {
     "name": "stderr",
     "output_type": "stream",
     "text": [
      "Epochs:  26%|██▋       | 21/80 [03:35<09:42,  9.87s/it]"
     ]
    },
    {
     "name": "stdout",
     "output_type": "stream",
     "text": [
      "1\n",
      "current epoch: 21 current AUC: 0.9965 current accuracy: 0.9379 best AUC: 0.9996 at epoch: 19\n",
      "----------\n",
      "epoch 22/80\n",
      "epoch 22 average loss: 0.5039\n"
     ]
    },
    {
     "name": "stderr",
     "output_type": "stream",
     "text": [
      "Epochs:  28%|██▊       | 22/80 [03:44<09:28,  9.80s/it]"
     ]
    },
    {
     "name": "stdout",
     "output_type": "stream",
     "text": [
      "1\n",
      "current epoch: 22 current AUC: 0.9985 current accuracy: 0.9441 best AUC: 0.9996 at epoch: 19\n",
      "----------\n",
      "epoch 23/80\n",
      "epoch 23 average loss: 0.4846\n",
      "1\n"
     ]
    },
    {
     "name": "stderr",
     "output_type": "stream",
     "text": [
      "Epochs:  29%|██▉       | 23/80 [03:54<09:22,  9.86s/it]"
     ]
    },
    {
     "name": "stdout",
     "output_type": "stream",
     "text": [
      "saved new best metric model\n",
      "current epoch: 23 current AUC: 0.9998 current accuracy: 0.9689 best AUC: 0.9998 at epoch: 23\n",
      "----------\n",
      "epoch 24/80\n",
      "epoch 24 average loss: 0.5341\n"
     ]
    },
    {
     "name": "stderr",
     "output_type": "stream",
     "text": [
      "Epochs:  30%|███       | 24/80 [04:04<09:07,  9.78s/it]"
     ]
    },
    {
     "name": "stdout",
     "output_type": "stream",
     "text": [
      "1\n",
      "current epoch: 24 current AUC: 0.9983 current accuracy: 0.9379 best AUC: 0.9998 at epoch: 23\n",
      "----------\n",
      "epoch 25/80\n",
      "epoch 25 average loss: 0.4270\n"
     ]
    },
    {
     "name": "stderr",
     "output_type": "stream",
     "text": [
      "Epochs:  31%|███▏      | 25/80 [04:13<08:54,  9.71s/it]"
     ]
    },
    {
     "name": "stdout",
     "output_type": "stream",
     "text": [
      "1\n",
      "current epoch: 25 current AUC: 0.9991 current accuracy: 0.9503 best AUC: 0.9998 at epoch: 23\n",
      "----------\n",
      "epoch 26/80\n",
      "epoch 26 average loss: 0.4909\n"
     ]
    },
    {
     "name": "stderr",
     "output_type": "stream",
     "text": [
      "Epochs:  32%|███▎      | 26/80 [04:23<08:42,  9.67s/it]"
     ]
    },
    {
     "name": "stdout",
     "output_type": "stream",
     "text": [
      "1\n",
      "current epoch: 26 current AUC: 0.9994 current accuracy: 0.9752 best AUC: 0.9998 at epoch: 23\n",
      "----------\n",
      "epoch 27/80\n",
      "epoch 27 average loss: 0.4957\n"
     ]
    },
    {
     "name": "stderr",
     "output_type": "stream",
     "text": [
      "Epochs:  34%|███▍      | 27/80 [04:33<08:31,  9.65s/it]"
     ]
    },
    {
     "name": "stdout",
     "output_type": "stream",
     "text": [
      "1\n",
      "current epoch: 27 current AUC: 0.9986 current accuracy: 0.9379 best AUC: 0.9998 at epoch: 23\n",
      "----------\n",
      "epoch 28/80\n",
      "epoch 28 average loss: 0.4660\n"
     ]
    },
    {
     "name": "stderr",
     "output_type": "stream",
     "text": [
      "Epochs:  35%|███▌      | 28/80 [04:42<08:21,  9.64s/it]"
     ]
    },
    {
     "name": "stdout",
     "output_type": "stream",
     "text": [
      "1\n",
      "current epoch: 28 current AUC: 0.9984 current accuracy: 0.9565 best AUC: 0.9998 at epoch: 23\n",
      "----------\n",
      "epoch 29/80\n",
      "epoch 29 average loss: 0.4496\n"
     ]
    },
    {
     "name": "stderr",
     "output_type": "stream",
     "text": [
      "Epochs:  36%|███▋      | 29/80 [04:52<08:09,  9.60s/it]"
     ]
    },
    {
     "name": "stdout",
     "output_type": "stream",
     "text": [
      "1\n",
      "current epoch: 29 current AUC: 0.9990 current accuracy: 0.9503 best AUC: 0.9998 at epoch: 23\n",
      "----------\n",
      "epoch 30/80\n",
      "epoch 30 average loss: 0.4012\n"
     ]
    },
    {
     "name": "stderr",
     "output_type": "stream",
     "text": [
      "Epochs:  38%|███▊      | 30/80 [05:02<08:03,  9.68s/it]"
     ]
    },
    {
     "name": "stdout",
     "output_type": "stream",
     "text": [
      "1\n",
      "current epoch: 30 current AUC: 0.9994 current accuracy: 0.9627 best AUC: 0.9998 at epoch: 23\n",
      "----------\n",
      "epoch 31/80\n",
      "epoch 31 average loss: 0.4475\n"
     ]
    },
    {
     "name": "stderr",
     "output_type": "stream",
     "text": [
      "Epochs:  39%|███▉      | 31/80 [05:11<07:51,  9.63s/it]"
     ]
    },
    {
     "name": "stdout",
     "output_type": "stream",
     "text": [
      "1\n",
      "current epoch: 31 current AUC: 0.9981 current accuracy: 0.9130 best AUC: 0.9998 at epoch: 23\n",
      "----------\n",
      "epoch 32/80\n",
      "epoch 32 average loss: 0.4277\n"
     ]
    },
    {
     "name": "stderr",
     "output_type": "stream",
     "text": [
      "Epochs:  40%|████      | 32/80 [05:21<07:41,  9.61s/it]"
     ]
    },
    {
     "name": "stdout",
     "output_type": "stream",
     "text": [
      "1\n",
      "current epoch: 32 current AUC: 0.9975 current accuracy: 0.9503 best AUC: 0.9998 at epoch: 23\n",
      "----------\n",
      "epoch 33/80\n",
      "epoch 33 average loss: 0.4463\n"
     ]
    },
    {
     "name": "stderr",
     "output_type": "stream",
     "text": [
      "Epochs:  41%|████▏     | 33/80 [05:30<07:31,  9.61s/it]"
     ]
    },
    {
     "name": "stdout",
     "output_type": "stream",
     "text": [
      "1\n",
      "current epoch: 33 current AUC: 0.9957 current accuracy: 0.9379 best AUC: 0.9998 at epoch: 23\n",
      "----------\n",
      "epoch 34/80\n",
      "epoch 34 average loss: 0.4520\n"
     ]
    },
    {
     "name": "stderr",
     "output_type": "stream",
     "text": [
      "Epochs:  42%|████▎     | 34/80 [05:40<07:21,  9.60s/it]"
     ]
    },
    {
     "name": "stdout",
     "output_type": "stream",
     "text": [
      "1\n",
      "current epoch: 34 current AUC: 0.9996 current accuracy: 0.9627 best AUC: 0.9998 at epoch: 23\n",
      "----------\n",
      "epoch 35/80\n",
      "epoch 35 average loss: 0.4021\n"
     ]
    },
    {
     "name": "stderr",
     "output_type": "stream",
     "text": [
      "Epochs:  44%|████▍     | 35/80 [05:49<07:10,  9.57s/it]"
     ]
    },
    {
     "name": "stdout",
     "output_type": "stream",
     "text": [
      "1\n",
      "current epoch: 35 current AUC: 0.9995 current accuracy: 0.9503 best AUC: 0.9998 at epoch: 23\n",
      "----------\n",
      "epoch 36/80\n",
      "epoch 36 average loss: 0.3885\n",
      "1\n"
     ]
    },
    {
     "name": "stderr",
     "output_type": "stream",
     "text": [
      "Epochs:  45%|████▌     | 36/80 [05:59<07:06,  9.68s/it]"
     ]
    },
    {
     "name": "stdout",
     "output_type": "stream",
     "text": [
      "saved new best metric model\n",
      "current epoch: 36 current AUC: 0.9999 current accuracy: 0.9689 best AUC: 0.9999 at epoch: 36\n",
      "----------\n",
      "epoch 37/80\n",
      "epoch 37 average loss: 0.3939\n"
     ]
    },
    {
     "name": "stderr",
     "output_type": "stream",
     "text": [
      "Epochs:  46%|████▋     | 37/80 [06:09<06:52,  9.60s/it]"
     ]
    },
    {
     "name": "stdout",
     "output_type": "stream",
     "text": [
      "1\n",
      "current epoch: 37 current AUC: 0.9996 current accuracy: 0.9627 best AUC: 0.9999 at epoch: 36\n",
      "----------\n",
      "epoch 38/80\n",
      "epoch 38 average loss: 0.3703\n"
     ]
    },
    {
     "name": "stderr",
     "output_type": "stream",
     "text": [
      "Epochs:  48%|████▊     | 38/80 [06:18<06:41,  9.56s/it]"
     ]
    },
    {
     "name": "stdout",
     "output_type": "stream",
     "text": [
      "1\n",
      "current epoch: 38 current AUC: 0.9996 current accuracy: 0.9689 best AUC: 0.9999 at epoch: 36\n",
      "----------\n",
      "epoch 39/80\n",
      "epoch 39 average loss: 0.3648\n"
     ]
    },
    {
     "name": "stderr",
     "output_type": "stream",
     "text": [
      "Epochs:  49%|████▉     | 39/80 [06:28<06:31,  9.55s/it]"
     ]
    },
    {
     "name": "stdout",
     "output_type": "stream",
     "text": [
      "1\n",
      "current epoch: 39 current AUC: 0.9998 current accuracy: 0.9814 best AUC: 0.9999 at epoch: 36\n",
      "----------\n",
      "epoch 40/80\n",
      "epoch 40 average loss: 0.3515\n"
     ]
    },
    {
     "name": "stderr",
     "output_type": "stream",
     "text": [
      "Epochs:  50%|█████     | 40/80 [06:37<06:21,  9.54s/it]"
     ]
    },
    {
     "name": "stdout",
     "output_type": "stream",
     "text": [
      "1\n",
      "current epoch: 40 current AUC: 0.9996 current accuracy: 0.9565 best AUC: 0.9999 at epoch: 36\n",
      "----------\n",
      "epoch 41/80\n",
      "epoch 41 average loss: 0.3979\n"
     ]
    },
    {
     "name": "stderr",
     "output_type": "stream",
     "text": [
      "Epochs:  51%|█████▏    | 41/80 [06:47<06:10,  9.51s/it]"
     ]
    },
    {
     "name": "stdout",
     "output_type": "stream",
     "text": [
      "1\n",
      "current epoch: 41 current AUC: 0.9998 current accuracy: 0.9689 best AUC: 0.9999 at epoch: 36\n",
      "----------\n",
      "epoch 42/80\n",
      "epoch 42 average loss: 0.3986\n"
     ]
    },
    {
     "name": "stderr",
     "output_type": "stream",
     "text": [
      "Epochs:  52%|█████▎    | 42/80 [06:56<06:00,  9.49s/it]"
     ]
    },
    {
     "name": "stdout",
     "output_type": "stream",
     "text": [
      "1\n",
      "current epoch: 42 current AUC: 0.9977 current accuracy: 0.9068 best AUC: 0.9999 at epoch: 36\n",
      "----------\n",
      "epoch 43/80\n",
      "epoch 43 average loss: 0.3231\n"
     ]
    },
    {
     "name": "stderr",
     "output_type": "stream",
     "text": [
      "Epochs:  54%|█████▍    | 43/80 [07:06<05:50,  9.48s/it]"
     ]
    },
    {
     "name": "stdout",
     "output_type": "stream",
     "text": [
      "1\n",
      "current epoch: 43 current AUC: 0.9998 current accuracy: 0.9689 best AUC: 0.9999 at epoch: 36\n",
      "----------\n",
      "epoch 44/80\n",
      "epoch 44 average loss: 0.3502\n"
     ]
    },
    {
     "name": "stderr",
     "output_type": "stream",
     "text": [
      "Epochs:  55%|█████▌    | 44/80 [07:15<05:41,  9.48s/it]"
     ]
    },
    {
     "name": "stdout",
     "output_type": "stream",
     "text": [
      "1\n",
      "current epoch: 44 current AUC: 0.9995 current accuracy: 0.9689 best AUC: 0.9999 at epoch: 36\n",
      "----------\n",
      "epoch 45/80\n",
      "epoch 45 average loss: 0.3048\n"
     ]
    },
    {
     "name": "stderr",
     "output_type": "stream",
     "text": [
      "Epochs:  56%|█████▋    | 45/80 [07:25<05:33,  9.53s/it]"
     ]
    },
    {
     "name": "stdout",
     "output_type": "stream",
     "text": [
      "1\n",
      "current epoch: 45 current AUC: 0.9989 current accuracy: 0.9627 best AUC: 0.9999 at epoch: 36\n",
      "----------\n",
      "epoch 46/80\n",
      "epoch 46 average loss: 0.3936\n"
     ]
    },
    {
     "name": "stderr",
     "output_type": "stream",
     "text": [
      "Epochs:  57%|█████▊    | 46/80 [07:34<05:23,  9.50s/it]"
     ]
    },
    {
     "name": "stdout",
     "output_type": "stream",
     "text": [
      "1\n",
      "current epoch: 46 current AUC: 0.9963 current accuracy: 0.9441 best AUC: 0.9999 at epoch: 36\n",
      "----------\n",
      "epoch 47/80\n",
      "epoch 47 average loss: 0.3468\n"
     ]
    },
    {
     "name": "stderr",
     "output_type": "stream",
     "text": [
      "Epochs:  59%|█████▉    | 47/80 [07:44<05:13,  9.50s/it]"
     ]
    },
    {
     "name": "stdout",
     "output_type": "stream",
     "text": [
      "1\n",
      "current epoch: 47 current AUC: 0.9987 current accuracy: 0.9441 best AUC: 0.9999 at epoch: 36\n",
      "----------\n",
      "epoch 48/80\n",
      "epoch 48 average loss: 0.3466\n"
     ]
    },
    {
     "name": "stderr",
     "output_type": "stream",
     "text": [
      "Epochs:  60%|██████    | 48/80 [07:53<05:03,  9.47s/it]"
     ]
    },
    {
     "name": "stdout",
     "output_type": "stream",
     "text": [
      "1\n",
      "current epoch: 48 current AUC: 0.9997 current accuracy: 0.9752 best AUC: 0.9999 at epoch: 36\n",
      "----------\n",
      "epoch 49/80\n",
      "epoch 49 average loss: 0.3284\n"
     ]
    },
    {
     "name": "stderr",
     "output_type": "stream",
     "text": [
      "Epochs:  61%|██████▏   | 49/80 [08:03<04:53,  9.48s/it]"
     ]
    },
    {
     "name": "stdout",
     "output_type": "stream",
     "text": [
      "1\n",
      "current epoch: 49 current AUC: 0.9997 current accuracy: 0.9876 best AUC: 0.9999 at epoch: 36\n",
      "----------\n",
      "epoch 50/80\n",
      "epoch 50 average loss: 0.3221\n"
     ]
    },
    {
     "name": "stderr",
     "output_type": "stream",
     "text": [
      "Epochs:  62%|██████▎   | 50/80 [08:12<04:44,  9.50s/it]"
     ]
    },
    {
     "name": "stdout",
     "output_type": "stream",
     "text": [
      "1\n",
      "current epoch: 50 current AUC: 0.9997 current accuracy: 0.9814 best AUC: 0.9999 at epoch: 36\n",
      "----------\n",
      "epoch 51/80\n",
      "epoch 51 average loss: 0.3065\n"
     ]
    },
    {
     "name": "stderr",
     "output_type": "stream",
     "text": [
      "Epochs:  64%|██████▍   | 51/80 [08:22<04:35,  9.51s/it]"
     ]
    },
    {
     "name": "stdout",
     "output_type": "stream",
     "text": [
      "1\n",
      "current epoch: 51 current AUC: 0.9995 current accuracy: 0.9689 best AUC: 0.9999 at epoch: 36\n",
      "----------\n",
      "epoch 52/80\n",
      "epoch 52 average loss: 0.3047\n"
     ]
    },
    {
     "name": "stderr",
     "output_type": "stream",
     "text": [
      "Epochs:  65%|██████▌   | 52/80 [08:31<04:25,  9.49s/it]"
     ]
    },
    {
     "name": "stdout",
     "output_type": "stream",
     "text": [
      "1\n",
      "current epoch: 52 current AUC: 0.9972 current accuracy: 0.9317 best AUC: 0.9999 at epoch: 36\n",
      "----------\n",
      "epoch 53/80\n",
      "epoch 53 average loss: 0.3217\n"
     ]
    },
    {
     "name": "stderr",
     "output_type": "stream",
     "text": [
      "Epochs:  66%|██████▋   | 53/80 [08:41<04:16,  9.50s/it]"
     ]
    },
    {
     "name": "stdout",
     "output_type": "stream",
     "text": [
      "1\n",
      "current epoch: 53 current AUC: 0.9999 current accuracy: 0.9503 best AUC: 0.9999 at epoch: 36\n",
      "----------\n",
      "epoch 54/80\n",
      "epoch 54 average loss: 0.2870\n"
     ]
    },
    {
     "name": "stderr",
     "output_type": "stream",
     "text": [
      "Epochs:  68%|██████▊   | 54/80 [08:50<04:07,  9.52s/it]"
     ]
    },
    {
     "name": "stdout",
     "output_type": "stream",
     "text": [
      "1\n",
      "current epoch: 54 current AUC: 0.9994 current accuracy: 0.9565 best AUC: 0.9999 at epoch: 36\n",
      "----------\n",
      "epoch 55/80\n",
      "epoch 55 average loss: 0.2867\n"
     ]
    },
    {
     "name": "stderr",
     "output_type": "stream",
     "text": [
      "Epochs:  69%|██████▉   | 55/80 [09:00<03:58,  9.55s/it]"
     ]
    },
    {
     "name": "stdout",
     "output_type": "stream",
     "text": [
      "1\n",
      "current epoch: 55 current AUC: 0.9991 current accuracy: 0.9565 best AUC: 0.9999 at epoch: 36\n",
      "----------\n",
      "epoch 56/80\n",
      "epoch 56 average loss: 0.3120\n"
     ]
    },
    {
     "name": "stderr",
     "output_type": "stream",
     "text": [
      "Epochs:  70%|███████   | 56/80 [09:09<03:48,  9.53s/it]"
     ]
    },
    {
     "name": "stdout",
     "output_type": "stream",
     "text": [
      "1\n",
      "current epoch: 56 current AUC: 0.9999 current accuracy: 0.9752 best AUC: 0.9999 at epoch: 36\n",
      "----------\n",
      "epoch 57/80\n",
      "epoch 57 average loss: 0.3047\n"
     ]
    },
    {
     "name": "stderr",
     "output_type": "stream",
     "text": [
      "Epochs:  71%|███████▏  | 57/80 [09:19<03:38,  9.52s/it]"
     ]
    },
    {
     "name": "stdout",
     "output_type": "stream",
     "text": [
      "1\n",
      "current epoch: 57 current AUC: 0.9995 current accuracy: 0.9503 best AUC: 0.9999 at epoch: 36\n",
      "----------\n",
      "epoch 58/80\n",
      "epoch 58 average loss: 0.2986\n"
     ]
    },
    {
     "name": "stderr",
     "output_type": "stream",
     "text": [
      "Epochs:  72%|███████▎  | 58/80 [09:28<03:29,  9.52s/it]"
     ]
    },
    {
     "name": "stdout",
     "output_type": "stream",
     "text": [
      "1\n",
      "current epoch: 58 current AUC: 0.9994 current accuracy: 0.9441 best AUC: 0.9999 at epoch: 36\n",
      "----------\n",
      "epoch 59/80\n",
      "epoch 59 average loss: 0.2807\n",
      "1\n"
     ]
    },
    {
     "name": "stderr",
     "output_type": "stream",
     "text": [
      "Epochs:  74%|███████▍  | 59/80 [09:38<03:22,  9.66s/it]"
     ]
    },
    {
     "name": "stdout",
     "output_type": "stream",
     "text": [
      "saved new best metric model\n",
      "current epoch: 59 current AUC: 1.0000 current accuracy: 0.9876 best AUC: 1.0000 at epoch: 59\n",
      "----------\n",
      "epoch 60/80\n",
      "epoch 60 average loss: 0.2519\n"
     ]
    },
    {
     "name": "stderr",
     "output_type": "stream",
     "text": [
      "Epochs:  75%|███████▌  | 60/80 [09:48<03:12,  9.60s/it]"
     ]
    },
    {
     "name": "stdout",
     "output_type": "stream",
     "text": [
      "1\n",
      "current epoch: 60 current AUC: 0.9993 current accuracy: 0.9627 best AUC: 1.0000 at epoch: 59\n",
      "----------\n",
      "epoch 61/80\n",
      "epoch 61 average loss: 0.3175\n"
     ]
    },
    {
     "name": "stderr",
     "output_type": "stream",
     "text": [
      "Epochs:  76%|███████▋  | 61/80 [09:57<03:02,  9.60s/it]"
     ]
    },
    {
     "name": "stdout",
     "output_type": "stream",
     "text": [
      "1\n",
      "current epoch: 61 current AUC: 0.9992 current accuracy: 0.9627 best AUC: 1.0000 at epoch: 59\n",
      "----------\n",
      "epoch 62/80\n",
      "epoch 62 average loss: 0.2348\n"
     ]
    },
    {
     "name": "stderr",
     "output_type": "stream",
     "text": [
      "Epochs:  78%|███████▊  | 62/80 [10:07<02:52,  9.57s/it]"
     ]
    },
    {
     "name": "stdout",
     "output_type": "stream",
     "text": [
      "1\n",
      "current epoch: 62 current AUC: 0.9999 current accuracy: 0.9441 best AUC: 1.0000 at epoch: 59\n",
      "----------\n",
      "epoch 63/80\n",
      "epoch 63 average loss: 0.2657\n"
     ]
    },
    {
     "name": "stderr",
     "output_type": "stream",
     "text": [
      "Epochs:  79%|███████▉  | 63/80 [10:16<02:40,  9.43s/it]"
     ]
    },
    {
     "name": "stdout",
     "output_type": "stream",
     "text": [
      "1\n",
      "current epoch: 63 current AUC: 0.9993 current accuracy: 0.9627 best AUC: 1.0000 at epoch: 59\n",
      "----------\n",
      "epoch 64/80\n",
      "epoch 64 average loss: 0.2730\n"
     ]
    },
    {
     "name": "stderr",
     "output_type": "stream",
     "text": [
      "Epochs:  80%|████████  | 64/80 [10:25<02:31,  9.44s/it]"
     ]
    },
    {
     "name": "stdout",
     "output_type": "stream",
     "text": [
      "1\n",
      "current epoch: 64 current AUC: 0.9993 current accuracy: 0.9441 best AUC: 1.0000 at epoch: 59\n",
      "----------\n",
      "epoch 65/80\n",
      "epoch 65 average loss: 0.2649\n"
     ]
    },
    {
     "name": "stderr",
     "output_type": "stream",
     "text": [
      "Epochs:  81%|████████▏ | 65/80 [10:35<02:21,  9.46s/it]"
     ]
    },
    {
     "name": "stdout",
     "output_type": "stream",
     "text": [
      "1\n",
      "current epoch: 65 current AUC: 0.9997 current accuracy: 0.9814 best AUC: 1.0000 at epoch: 59\n",
      "----------\n",
      "epoch 66/80\n",
      "epoch 66 average loss: 0.2546\n"
     ]
    },
    {
     "name": "stderr",
     "output_type": "stream",
     "text": [
      "Epochs:  82%|████████▎ | 66/80 [10:44<02:12,  9.48s/it]"
     ]
    },
    {
     "name": "stdout",
     "output_type": "stream",
     "text": [
      "1\n",
      "current epoch: 66 current AUC: 0.9996 current accuracy: 0.9876 best AUC: 1.0000 at epoch: 59\n",
      "----------\n",
      "epoch 67/80\n",
      "epoch 67 average loss: 0.2303\n"
     ]
    },
    {
     "name": "stderr",
     "output_type": "stream",
     "text": [
      "Epochs:  84%|████████▍ | 67/80 [10:54<02:03,  9.49s/it]"
     ]
    },
    {
     "name": "stdout",
     "output_type": "stream",
     "text": [
      "1\n",
      "current epoch: 67 current AUC: 0.9990 current accuracy: 0.9379 best AUC: 1.0000 at epoch: 59\n",
      "----------\n",
      "epoch 68/80\n",
      "epoch 68 average loss: 0.2736\n"
     ]
    },
    {
     "name": "stderr",
     "output_type": "stream",
     "text": [
      "Epochs:  85%|████████▌ | 68/80 [11:03<01:54,  9.50s/it]"
     ]
    },
    {
     "name": "stdout",
     "output_type": "stream",
     "text": [
      "1\n",
      "current epoch: 68 current AUC: 0.9996 current accuracy: 0.9441 best AUC: 1.0000 at epoch: 59\n",
      "----------\n",
      "epoch 69/80\n",
      "epoch 69 average loss: 0.2601\n"
     ]
    },
    {
     "name": "stderr",
     "output_type": "stream",
     "text": [
      "Epochs:  86%|████████▋ | 69/80 [11:13<01:44,  9.50s/it]"
     ]
    },
    {
     "name": "stdout",
     "output_type": "stream",
     "text": [
      "1\n",
      "current epoch: 69 current AUC: 0.9985 current accuracy: 0.9565 best AUC: 1.0000 at epoch: 59\n",
      "----------\n",
      "epoch 70/80\n",
      "epoch 70 average loss: 0.2647\n"
     ]
    },
    {
     "name": "stderr",
     "output_type": "stream",
     "text": [
      "Epochs:  88%|████████▊ | 70/80 [11:22<01:34,  9.49s/it]"
     ]
    },
    {
     "name": "stdout",
     "output_type": "stream",
     "text": [
      "1\n",
      "current epoch: 70 current AUC: 0.9987 current accuracy: 0.9255 best AUC: 1.0000 at epoch: 59\n",
      "----------\n",
      "epoch 71/80\n",
      "epoch 71 average loss: 0.2196\n"
     ]
    },
    {
     "name": "stderr",
     "output_type": "stream",
     "text": [
      "Epochs:  89%|████████▉ | 71/80 [11:32<01:25,  9.52s/it]"
     ]
    },
    {
     "name": "stdout",
     "output_type": "stream",
     "text": [
      "1\n",
      "current epoch: 71 current AUC: 0.9989 current accuracy: 0.9255 best AUC: 1.0000 at epoch: 59\n",
      "----------\n",
      "epoch 72/80\n",
      "epoch 72 average loss: 0.2410\n"
     ]
    },
    {
     "name": "stderr",
     "output_type": "stream",
     "text": [
      "Epochs:  90%|█████████ | 72/80 [11:41<01:16,  9.52s/it]"
     ]
    },
    {
     "name": "stdout",
     "output_type": "stream",
     "text": [
      "1\n",
      "current epoch: 72 current AUC: 0.9998 current accuracy: 0.9938 best AUC: 1.0000 at epoch: 59\n",
      "----------\n",
      "epoch 73/80\n",
      "epoch 73 average loss: 0.2216\n"
     ]
    },
    {
     "name": "stderr",
     "output_type": "stream",
     "text": [
      "Epochs:  91%|█████████▏| 73/80 [11:51<01:06,  9.48s/it]"
     ]
    },
    {
     "name": "stdout",
     "output_type": "stream",
     "text": [
      "1\n",
      "current epoch: 73 current AUC: 0.9984 current accuracy: 0.9689 best AUC: 1.0000 at epoch: 59\n",
      "----------\n",
      "epoch 74/80\n",
      "epoch 74 average loss: 0.2408\n"
     ]
    },
    {
     "name": "stderr",
     "output_type": "stream",
     "text": [
      "Epochs:  92%|█████████▎| 74/80 [12:00<00:56,  9.48s/it]"
     ]
    },
    {
     "name": "stdout",
     "output_type": "stream",
     "text": [
      "1\n",
      "current epoch: 74 current AUC: 0.9983 current accuracy: 0.9565 best AUC: 1.0000 at epoch: 59\n",
      "----------\n",
      "epoch 75/80\n",
      "epoch 75 average loss: 0.2392\n"
     ]
    },
    {
     "name": "stderr",
     "output_type": "stream",
     "text": [
      "Epochs:  94%|█████████▍| 75/80 [12:09<00:46,  9.30s/it]"
     ]
    },
    {
     "name": "stdout",
     "output_type": "stream",
     "text": [
      "1\n",
      "current epoch: 75 current AUC: 0.9998 current accuracy: 0.9627 best AUC: 1.0000 at epoch: 59\n",
      "----------\n",
      "epoch 76/80\n",
      "epoch 76 average loss: 0.2391\n"
     ]
    },
    {
     "name": "stderr",
     "output_type": "stream",
     "text": [
      "Epochs:  95%|█████████▌| 76/80 [12:19<00:37,  9.36s/it]"
     ]
    },
    {
     "name": "stdout",
     "output_type": "stream",
     "text": [
      "1\n",
      "current epoch: 76 current AUC: 1.0000 current accuracy: 0.9814 best AUC: 1.0000 at epoch: 59\n",
      "----------\n",
      "epoch 77/80\n",
      "epoch 77 average loss: 0.2401\n"
     ]
    },
    {
     "name": "stderr",
     "output_type": "stream",
     "text": [
      "Epochs:  96%|█████████▋| 77/80 [12:28<00:28,  9.44s/it]"
     ]
    },
    {
     "name": "stdout",
     "output_type": "stream",
     "text": [
      "1\n",
      "current epoch: 77 current AUC: 0.9999 current accuracy: 0.9627 best AUC: 1.0000 at epoch: 59\n",
      "----------\n",
      "epoch 78/80\n",
      "epoch 78 average loss: 0.2467\n"
     ]
    },
    {
     "name": "stderr",
     "output_type": "stream",
     "text": [
      "Epochs:  98%|█████████▊| 78/80 [12:38<00:18,  9.44s/it]"
     ]
    },
    {
     "name": "stdout",
     "output_type": "stream",
     "text": [
      "1\n",
      "current epoch: 78 current AUC: 0.9974 current accuracy: 0.9130 best AUC: 1.0000 at epoch: 59\n",
      "----------\n",
      "epoch 79/80\n",
      "epoch 79 average loss: 0.2058\n"
     ]
    },
    {
     "name": "stderr",
     "output_type": "stream",
     "text": [
      "Epochs:  99%|█████████▉| 79/80 [12:47<00:09,  9.45s/it]"
     ]
    },
    {
     "name": "stdout",
     "output_type": "stream",
     "text": [
      "1\n",
      "current epoch: 79 current AUC: 0.9999 current accuracy: 0.9814 best AUC: 1.0000 at epoch: 59\n",
      "----------\n",
      "epoch 80/80\n",
      "epoch 80 average loss: 0.2191\n"
     ]
    },
    {
     "name": "stderr",
     "output_type": "stream",
     "text": [
      "Epochs: 100%|██████████| 80/80 [12:57<00:00,  9.72s/it]"
     ]
    },
    {
     "name": "stdout",
     "output_type": "stream",
     "text": [
      "1\n",
      "current epoch: 80 current AUC: 0.9995 current accuracy: 0.9814 best AUC: 1.0000 at epoch: 59\n",
      "train completed, best_metric: 1.0000 at epoch: 59\n"
     ]
    },
    {
     "name": "stderr",
     "output_type": "stream",
     "text": [
      "\n"
     ]
    }
   ],
   "source": [
    "best_metric = -1\n",
    "best_metric_epoch = -1\n",
    "epoch_loss_values = []\n",
    "metric_values = []\n",
    "writer = SummaryWriter()\n",
    "\n",
    "start_time = time.time()\n",
    "process = psutil.Process()\n",
    "start_cpu = process.cpu_times()\n",
    "start_mem = process.memory_info().rss / 1024**2  # В MB\n",
    "\n",
    "if device.type == \"cuda\":\n",
    "    torch.cuda.synchronize()\n",
    "    torch.cuda.reset_peak_memory_stats()\n",
    "\n",
    "for epoch in tqdm(range(max_epochs), desc=\"Epochs\"):\n",
    "    print(\"-\" * 10)\n",
    "    print(f\"epoch {epoch + 1}/{max_epochs}\")\n",
    "    model.train()\n",
    "    epoch_loss = 0\n",
    "    step = 0\n",
    "    \n",
    "    for batch_data in train_loader:\n",
    "        step += 1\n",
    "        images, labels = batch_data['images'], batch_data['label'][:, 0].type(torch.LongTensor).to(device)\n",
    "        axial, coronal, sagittal = images\n",
    "        optimizer.zero_grad()\n",
    "        outputs = model(coronal.to(device))\n",
    "        loss = loss_function(outputs, labels)\n",
    "        loss.backward()\n",
    "        optimizer.step()\n",
    "        epoch_loss += loss.item()\n",
    "        epoch_len = len(train_dataset) // train_loader.batch_size\n",
    "        writer.add_scalar(\"train_loss\", loss.item(), epoch_len * epoch + step)\n",
    "        \n",
    "    epoch_loss /= step\n",
    "    epoch_loss_values.append(epoch_loss)\n",
    "    print(f\"epoch {epoch + 1} average loss: {epoch_loss:.4f}\")\n",
    "\n",
    "    if (epoch + 1) % val_interval == 0:\n",
    "        model.eval()\n",
    "        with torch.no_grad():\n",
    "            y_pred = torch.tensor([], dtype=torch.float32, device=device)\n",
    "            y = torch.tensor([], dtype=torch.long, device=device)\n",
    "            for val_data in val_loader:\n",
    "                val_images, val_labels = (\n",
    "                    val_data['images'],\n",
    "                    val_data['label'][:, 0].type(torch.LongTensor).to(device),\n",
    "                )\n",
    "                val_axial, val_coronal, val_sagittal = val_images\n",
    "                y_pred = torch.cat([y_pred, model(val_coronal.to(device))], dim=0)\n",
    "                y = torch.cat([y, val_labels], dim=0)\n",
    "            y_onehot = [y_trans(i) for i in decollate_batch(y, detach=False)]\n",
    "            print('1')\n",
    "            y_pred_act = [y_pred_trans(i) for i in decollate_batch(y_pred)]\n",
    "            auc_metric(y_pred_act, y_onehot)\n",
    "            result = auc_metric.aggregate()\n",
    "            auc_metric.reset()\n",
    "            del y_pred_act, y_onehot\n",
    "            metric_values.append(result)\n",
    "            acc_value = torch.eq(y_pred.argmax(dim=1), y)\n",
    "            acc_metric = acc_value.sum().item() / len(acc_value)\n",
    "            if result > best_metric:\n",
    "                best_metric = result\n",
    "                best_metric_epoch = epoch + 1\n",
    "                torch.save(model.state_dict(), os.path.join(root_dir, \"coronal_full_unpretrained.pth\"))\n",
    "                print(\"saved new best metric model\")\n",
    "            print(\n",
    "                f\"current epoch: {epoch + 1} current AUC: {result:.4f}\"\n",
    "                f\" current accuracy: {acc_metric:.4f}\"\n",
    "                f\" best AUC: {best_metric:.4f}\"\n",
    "                f\" at epoch: {best_metric_epoch}\"\n",
    "            )\n",
    "            writer.add_scalar(\"val_accuracy\", acc_metric, epoch + 1)\n",
    "\n",
    "print(f\"train completed, best_metric: {best_metric:.4f} \" f\"at epoch: {best_metric_epoch}\")\n",
    "writer.close()"
   ]
  },
  {
   "cell_type": "code",
   "execution_count": 44,
   "metadata": {},
   "outputs": [
    {
     "name": "stdout",
     "output_type": "stream",
     "text": [
      "Training time: 777.21 seconds\n",
      "CPU time used: 9279.88 seconds\n",
      "Memory used: 272.62 MB\n",
      "GPU Memory Used: 191.14 MB\n",
      "Max GPU Memory Used: 243.34 MB\n"
     ]
    }
   ],
   "source": [
    "end_time = time.time()\n",
    "end_cpu = process.cpu_times()\n",
    "end_mem = process.memory_info().rss / 1024**2\n",
    "\n",
    "cpu_time = (end_cpu.user + end_cpu.system) - (start_cpu.user + start_cpu.system)\n",
    "memory_used = end_mem - start_mem\n",
    "\n",
    "print(f\"Training time: {end_time - start_time:.2f} seconds\")\n",
    "print(f\"CPU time used: {cpu_time:.2f} seconds\")\n",
    "print(f\"Memory used: {memory_used:.2f} MB\")\n",
    "\n",
    "if device.type == \"cuda\":\n",
    "    torch.cuda.synchronize()\n",
    "    print(f\"GPU Memory Used: {torch.cuda.memory_allocated() / 1024**2:.2f} MB\")\n",
    "    print(f\"Max GPU Memory Used: {torch.cuda.max_memory_allocated() / 1024**2:.2f} MB\")\n"
   ]
  },
  {
   "cell_type": "code",
   "execution_count": 45,
   "metadata": {},
   "outputs": [
    {
     "data": {
      "image/png": "[encoded data removed]",
      "text/plain": [
       "<Figure size 1200x600 with 2 Axes>"
      ]
     },
     "metadata": {},
     "output_type": "display_data"
    }
   ],
   "source": [
    "plt.figure(\"train\", (12, 6))\n",
    "plt.subplot(1, 2, 1)\n",
    "plt.title(\"Epoch Average Loss\")\n",
    "x = [i + 1 for i in range(len(epoch_loss_values))]\n",
    "y = epoch_loss_values\n",
    "plt.xlabel(\"epoch\")\n",
    "plt.plot(x, y)\n",
    "plt.subplot(1, 2, 2)\n",
    "plt.title(\"Val AUC\")\n",
    "x = [val_interval * (i + 1) for i in range(len(metric_values))]\n",
    "y = metric_values\n",
    "plt.xlabel(\"epoch\")\n",
    "plt.plot(x, y)\n",
    "plt.show()"
   ]
  },
  {
   "cell_type": "markdown",
   "metadata": {},
   "source": [
    "### Evaluation"
   ]
  },
  {
   "cell_type": "code",
   "execution_count": 46,
   "metadata": {},
   "outputs": [],
   "source": [
    "model.load_state_dict(torch.load(os.path.join(root_dir, \"coronal_full_unpretrained.pth\"), weights_only=True))\n",
    "model.eval()\n",
    "y_true = []\n",
    "y_pred = []\n",
    "example_axial = []\n",
    "example_coronal = []\n",
    "example_sagittal = []\n",
    "example_preds = []\n",
    "example_labels = []\n",
    "\n",
    "with torch.no_grad():\n",
    "    for test_data in test_loader:\n",
    "        test_images, test_labels = (\n",
    "            test_data['images'],\n",
    "            test_data['label'][:, 0].type(torch.LongTensor).to(device),\n",
    "        )\n",
    "        test_axial, test_coronal, test_sagittal = test_images\n",
    "        pred = model(test_axial.to(device)).argmax(dim=1)\n",
    "        for i in range(len(pred)):\n",
    "            y_true.append(test_labels[i].item())\n",
    "            y_pred.append(pred[i].item())\n",
    "\n",
    "        if len(example_axial) < 10:\n",
    "            example_axial.append(test_axial)\n",
    "            example_coronal.append(test_coronal)\n",
    "            example_sagittal.append(test_sagittal)\n",
    "            example_preds.append(pred)\n",
    "            example_labels.append(test_labels)"
   ]
  },
  {
   "cell_type": "code",
   "execution_count": 47,
   "metadata": {
    "scrolled": true
   },
   "outputs": [
    {
     "name": "stdout",
     "output_type": "stream",
     "text": [
      "              precision    recall  f1-score   support\n",
      "\n",
      "           0     0.1579    0.0435    0.0682        69\n",
      "           1     0.1709    0.3971    0.2389        68\n",
      "           2     0.0877    0.2174    0.1250        69\n",
      "           3     0.6818    0.2308    0.3448        65\n",
      "           4     0.3478    0.2462    0.2883        65\n",
      "           5     0.5600    0.4242    0.4828        66\n",
      "           6     0.2500    0.0357    0.0625        28\n",
      "           7     0.3750    0.2857    0.3243        21\n",
      "           8     0.3939    0.6190    0.4815        21\n",
      "           9     0.3065    0.2754    0.2901        69\n",
      "          10     0.3103    0.1304    0.1837        69\n",
      "\n",
      "    accuracy                         0.2492       610\n",
      "   macro avg     0.3311    0.2641    0.2627       610\n",
      "weighted avg     0.3249    0.2492    0.2524       610\n",
      "\n"
     ]
    }
   ],
   "source": [
    "report = classification_report(y_true, y_pred, target_names=info['label'], digits=4, output_dict=True)\n",
    "print(classification_report(y_true, y_pred, target_names=info['label'], digits=4))"
   ]
  },
  {
   "cell_type": "code",
   "execution_count": 48,
   "metadata": {},
   "outputs": [],
   "source": [
    "df = pd.DataFrame(report).transpose()\n",
    "df.to_csv(reports_dir+f'coronal_random_unpretrained_seed{seed}.csv')"
   ]
  },
  {
   "cell_type": "code",
   "execution_count": 49,
   "metadata": {},
   "outputs": [
    {
     "name": "stdout",
     "output_type": "stream",
     "text": [
      "VRAM currently used: 191.13 MB\n",
      "Max VRAM used during training: 243.34 MB\n"
     ]
    }
   ],
   "source": [
    "if device.type == \"cuda\":\n",
    "    torch.cuda.synchronize()\n",
    "    vram_used = torch.cuda.memory_allocated() / 1024**2\n",
    "    vram_max_used = torch.cuda.max_memory_allocated() / 1024**2\n",
    "\n",
    "    print(f\"VRAM currently used: {vram_used:.2f} MB\")\n",
    "    print(f\"Max VRAM used during training: {vram_max_used:.2f} MB\")\n"
   ]
  },
  {
   "cell_type": "markdown",
   "metadata": {},
   "source": [
    "## Training cycle for the sagittal part"
   ]
  },
  {
   "cell_type": "markdown",
   "metadata": {},
   "source": [
    "## Pretrained"
   ]
  },
  {
   "cell_type": "code",
   "execution_count": 50,
   "metadata": {},
   "outputs": [
    {
     "name": "stderr",
     "output_type": "stream",
     "text": [
      "/opt/conda/lib/python3.10/site-packages/torchvision/models/_utils.py:208: UserWarning: The parameter 'pretrained' is deprecated since 0.13 and may be removed in the future, please use 'weights' instead.\n",
      "  warnings.warn(\n",
      "/opt/conda/lib/python3.10/site-packages/torchvision/models/_utils.py:223: UserWarning: Arguments other than a weight enum or `None` for 'weights' are deprecated since 0.13 and may be removed in the future. The current behavior is equivalent to passing `weights=ResNet18_Weights.IMAGENET1K_V1`. You can also use `weights=ResNet18_Weights.DEFAULT` to get the most up-to-date weights.\n",
      "  warnings.warn(msg)\n"
     ]
    }
   ],
   "source": [
    "device = torch.device(\"cuda\" if torch.cuda.is_available() else \"cpu\")\n",
    "\n",
    "model = models.resnet18(pretrained=True).to(device)\n",
    "model.conv1 = nn.Conv2d(9, 64, kernel_size=7, stride=2, padding=3, bias=False)\n",
    "model.fc = nn.Linear(model.fc.in_features, n_classes)\n",
    "model = model.to(device)\n",
    "\n",
    "loss_function = torch.nn.CrossEntropyLoss()\n",
    "optimizer = torch.optim.Adam(model.parameters(), 0.00005)\n",
    "max_epochs = 80\n",
    "val_interval = 1\n",
    "auc_metric = ROCAUCMetric()"
   ]
  },
  {
   "cell_type": "code",
   "execution_count": 51,
   "metadata": {
    "scrolled": true
   },
   "outputs": [
    {
     "name": "stderr",
     "output_type": "stream",
     "text": [
      "Epochs:   0%|          | 0/80 [00:00<?, ?it/s]"
     ]
    },
    {
     "name": "stdout",
     "output_type": "stream",
     "text": [
      "----------\n",
      "epoch 1/80\n",
      "epoch 1 average loss: 2.1374\n"
     ]
    },
    {
     "name": "stderr",
     "output_type": "stream",
     "text": [
      "Epochs:   1%|▏         | 1/80 [00:09<12:57,  9.85s/it]"
     ]
    },
    {
     "name": "stdout",
     "output_type": "stream",
     "text": [
      "1\n",
      "current epoch: 1 current AUC: 0.8534 current accuracy: 0.3913 best AUC: 1.0000 at epoch: 59\n",
      "----------\n",
      "epoch 2/80\n",
      "epoch 2 average loss: 1.6273\n"
     ]
    },
    {
     "name": "stderr",
     "output_type": "stream",
     "text": [
      "Epochs:   2%|▎         | 2/80 [00:19<12:39,  9.73s/it]"
     ]
    },
    {
     "name": "stdout",
     "output_type": "stream",
     "text": [
      "1\n",
      "current epoch: 2 current AUC: 0.9173 current accuracy: 0.4845 best AUC: 1.0000 at epoch: 59\n",
      "----------\n",
      "epoch 3/80\n",
      "epoch 3 average loss: 1.4245\n"
     ]
    },
    {
     "name": "stderr",
     "output_type": "stream",
     "text": [
      "Epochs:   4%|▍         | 3/80 [00:29<12:34,  9.80s/it]"
     ]
    },
    {
     "name": "stdout",
     "output_type": "stream",
     "text": [
      "1\n",
      "current epoch: 3 current AUC: 0.9394 current accuracy: 0.6460 best AUC: 1.0000 at epoch: 59\n",
      "----------\n",
      "epoch 4/80\n",
      "epoch 4 average loss: 1.3150\n"
     ]
    },
    {
     "name": "stderr",
     "output_type": "stream",
     "text": [
      "Epochs:   5%|▌         | 4/80 [00:38<12:18,  9.72s/it]"
     ]
    },
    {
     "name": "stdout",
     "output_type": "stream",
     "text": [
      "1\n",
      "current epoch: 4 current AUC: 0.9586 current accuracy: 0.5963 best AUC: 1.0000 at epoch: 59\n",
      "----------\n",
      "epoch 5/80\n",
      "epoch 5 average loss: 1.2621\n"
     ]
    },
    {
     "name": "stderr",
     "output_type": "stream",
     "text": [
      "Epochs:   6%|▋         | 5/80 [00:48<12:07,  9.70s/it]"
     ]
    },
    {
     "name": "stdout",
     "output_type": "stream",
     "text": [
      "1\n",
      "current epoch: 5 current AUC: 0.9580 current accuracy: 0.5901 best AUC: 1.0000 at epoch: 59\n",
      "----------\n",
      "epoch 6/80\n",
      "epoch 6 average loss: 1.1761\n"
     ]
    },
    {
     "name": "stderr",
     "output_type": "stream",
     "text": [
      "Epochs:   8%|▊         | 6/80 [00:58<11:49,  9.59s/it]"
     ]
    },
    {
     "name": "stdout",
     "output_type": "stream",
     "text": [
      "1\n",
      "current epoch: 6 current AUC: 0.9614 current accuracy: 0.6211 best AUC: 1.0000 at epoch: 59\n",
      "----------\n",
      "epoch 7/80\n",
      "epoch 7 average loss: 1.1348\n"
     ]
    },
    {
     "name": "stderr",
     "output_type": "stream",
     "text": [
      "Epochs:   9%|▉         | 7/80 [01:07<11:28,  9.44s/it]"
     ]
    },
    {
     "name": "stdout",
     "output_type": "stream",
     "text": [
      "1\n",
      "current epoch: 7 current AUC: 0.9593 current accuracy: 0.6398 best AUC: 1.0000 at epoch: 59\n",
      "----------\n",
      "epoch 8/80\n",
      "epoch 8 average loss: 1.0549\n"
     ]
    },
    {
     "name": "stderr",
     "output_type": "stream",
     "text": [
      "Epochs:  10%|█         | 8/80 [01:16<11:12,  9.34s/it]"
     ]
    },
    {
     "name": "stdout",
     "output_type": "stream",
     "text": [
      "1\n",
      "current epoch: 8 current AUC: 0.9658 current accuracy: 0.7019 best AUC: 1.0000 at epoch: 59\n",
      "----------\n",
      "epoch 9/80\n",
      "epoch 9 average loss: 1.0481\n"
     ]
    },
    {
     "name": "stderr",
     "output_type": "stream",
     "text": [
      "Epochs:  11%|█▏        | 9/80 [01:25<10:58,  9.28s/it]"
     ]
    },
    {
     "name": "stdout",
     "output_type": "stream",
     "text": [
      "1\n",
      "current epoch: 9 current AUC: 0.9724 current accuracy: 0.7578 best AUC: 1.0000 at epoch: 59\n",
      "----------\n",
      "epoch 10/80\n",
      "epoch 10 average loss: 0.9960\n"
     ]
    },
    {
     "name": "stderr",
     "output_type": "stream",
     "text": [
      "Epochs:  12%|█▎        | 10/80 [01:34<10:48,  9.26s/it]"
     ]
    },
    {
     "name": "stdout",
     "output_type": "stream",
     "text": [
      "1\n",
      "current epoch: 10 current AUC: 0.9737 current accuracy: 0.7329 best AUC: 1.0000 at epoch: 59\n",
      "----------\n",
      "epoch 11/80\n",
      "epoch 11 average loss: 0.9715\n"
     ]
    },
    {
     "name": "stderr",
     "output_type": "stream",
     "text": [
      "Epochs:  14%|█▍        | 11/80 [01:43<10:38,  9.26s/it]"
     ]
    },
    {
     "name": "stdout",
     "output_type": "stream",
     "text": [
      "1\n",
      "current epoch: 11 current AUC: 0.9824 current accuracy: 0.7702 best AUC: 1.0000 at epoch: 59\n",
      "----------\n",
      "epoch 12/80\n",
      "epoch 12 average loss: 0.9468\n"
     ]
    },
    {
     "name": "stderr",
     "output_type": "stream",
     "text": [
      "Epochs:  15%|█▌        | 12/80 [01:53<10:28,  9.24s/it]"
     ]
    },
    {
     "name": "stdout",
     "output_type": "stream",
     "text": [
      "1\n",
      "current epoch: 12 current AUC: 0.9700 current accuracy: 0.7205 best AUC: 1.0000 at epoch: 59\n",
      "----------\n",
      "epoch 13/80\n",
      "epoch 13 average loss: 0.8742\n"
     ]
    },
    {
     "name": "stderr",
     "output_type": "stream",
     "text": [
      "Epochs:  16%|█▋        | 13/80 [02:02<10:16,  9.20s/it]"
     ]
    },
    {
     "name": "stdout",
     "output_type": "stream",
     "text": [
      "1\n",
      "current epoch: 13 current AUC: 0.9751 current accuracy: 0.7143 best AUC: 1.0000 at epoch: 59\n",
      "----------\n",
      "epoch 14/80\n",
      "epoch 14 average loss: 0.8393\n"
     ]
    },
    {
     "name": "stderr",
     "output_type": "stream",
     "text": [
      "Epochs:  18%|█▊        | 14/80 [02:11<10:06,  9.18s/it]"
     ]
    },
    {
     "name": "stdout",
     "output_type": "stream",
     "text": [
      "1\n",
      "current epoch: 14 current AUC: 0.9865 current accuracy: 0.8509 best AUC: 1.0000 at epoch: 59\n",
      "----------\n",
      "epoch 15/80\n",
      "epoch 15 average loss: 0.8615\n"
     ]
    },
    {
     "name": "stderr",
     "output_type": "stream",
     "text": [
      "Epochs:  19%|█▉        | 15/80 [02:20<09:56,  9.18s/it]"
     ]
    },
    {
     "name": "stdout",
     "output_type": "stream",
     "text": [
      "1\n",
      "current epoch: 15 current AUC: 0.9783 current accuracy: 0.7702 best AUC: 1.0000 at epoch: 59\n",
      "----------\n",
      "epoch 16/80\n",
      "epoch 16 average loss: 0.7721\n"
     ]
    },
    {
     "name": "stderr",
     "output_type": "stream",
     "text": [
      "Epochs:  20%|██        | 16/80 [02:29<09:45,  9.15s/it]"
     ]
    },
    {
     "name": "stdout",
     "output_type": "stream",
     "text": [
      "1\n",
      "current epoch: 16 current AUC: 0.9793 current accuracy: 0.7702 best AUC: 1.0000 at epoch: 59\n",
      "----------\n",
      "epoch 17/80\n",
      "epoch 17 average loss: 0.8396\n"
     ]
    },
    {
     "name": "stderr",
     "output_type": "stream",
     "text": [
      "Epochs:  21%|██▏       | 17/80 [02:38<09:37,  9.16s/it]"
     ]
    },
    {
     "name": "stdout",
     "output_type": "stream",
     "text": [
      "1\n",
      "current epoch: 17 current AUC: 0.9803 current accuracy: 0.7764 best AUC: 1.0000 at epoch: 59\n",
      "----------\n",
      "epoch 18/80\n",
      "epoch 18 average loss: 0.7796\n"
     ]
    },
    {
     "name": "stderr",
     "output_type": "stream",
     "text": [
      "Epochs:  22%|██▎       | 18/80 [02:47<09:28,  9.17s/it]"
     ]
    },
    {
     "name": "stdout",
     "output_type": "stream",
     "text": [
      "1\n",
      "current epoch: 18 current AUC: 0.9846 current accuracy: 0.8075 best AUC: 1.0000 at epoch: 59\n",
      "----------\n",
      "epoch 19/80\n",
      "epoch 19 average loss: 0.7758\n"
     ]
    },
    {
     "name": "stderr",
     "output_type": "stream",
     "text": [
      "Epochs:  24%|██▍       | 19/80 [02:57<09:18,  9.16s/it]"
     ]
    },
    {
     "name": "stdout",
     "output_type": "stream",
     "text": [
      "1\n",
      "current epoch: 19 current AUC: 0.9826 current accuracy: 0.8075 best AUC: 1.0000 at epoch: 59\n",
      "----------\n",
      "epoch 20/80\n",
      "epoch 20 average loss: 0.7679\n"
     ]
    },
    {
     "name": "stderr",
     "output_type": "stream",
     "text": [
      "Epochs:  25%|██▌       | 20/80 [03:06<09:09,  9.16s/it]"
     ]
    },
    {
     "name": "stdout",
     "output_type": "stream",
     "text": [
      "1\n",
      "current epoch: 20 current AUC: 0.9832 current accuracy: 0.7950 best AUC: 1.0000 at epoch: 59\n",
      "----------\n",
      "epoch 21/80\n",
      "epoch 21 average loss: 0.7549\n"
     ]
    },
    {
     "name": "stderr",
     "output_type": "stream",
     "text": [
      "Epochs:  26%|██▋       | 21/80 [03:15<09:00,  9.15s/it]"
     ]
    },
    {
     "name": "stdout",
     "output_type": "stream",
     "text": [
      "1\n",
      "current epoch: 21 current AUC: 0.9894 current accuracy: 0.8261 best AUC: 1.0000 at epoch: 59\n",
      "----------\n",
      "epoch 22/80\n",
      "epoch 22 average loss: 0.6719\n"
     ]
    },
    {
     "name": "stderr",
     "output_type": "stream",
     "text": [
      "Epochs:  28%|██▊       | 22/80 [03:24<08:51,  9.16s/it]"
     ]
    },
    {
     "name": "stdout",
     "output_type": "stream",
     "text": [
      "1\n",
      "current epoch: 22 current AUC: 0.9843 current accuracy: 0.8261 best AUC: 1.0000 at epoch: 59\n",
      "----------\n",
      "epoch 23/80\n",
      "epoch 23 average loss: 0.7364\n"
     ]
    },
    {
     "name": "stderr",
     "output_type": "stream",
     "text": [
      "Epochs:  29%|██▉       | 23/80 [03:33<08:40,  9.13s/it]"
     ]
    },
    {
     "name": "stdout",
     "output_type": "stream",
     "text": [
      "1\n",
      "current epoch: 23 current AUC: 0.9813 current accuracy: 0.8323 best AUC: 1.0000 at epoch: 59\n",
      "----------\n",
      "epoch 24/80\n",
      "epoch 24 average loss: 0.6075\n"
     ]
    },
    {
     "name": "stderr",
     "output_type": "stream",
     "text": [
      "Epochs:  30%|███       | 24/80 [03:42<08:30,  9.12s/it]"
     ]
    },
    {
     "name": "stdout",
     "output_type": "stream",
     "text": [
      "1\n",
      "current epoch: 24 current AUC: 0.9878 current accuracy: 0.8261 best AUC: 1.0000 at epoch: 59\n",
      "----------\n",
      "epoch 25/80\n",
      "epoch 25 average loss: 0.6601\n"
     ]
    },
    {
     "name": "stderr",
     "output_type": "stream",
     "text": [
      "Epochs:  31%|███▏      | 25/80 [03:51<08:21,  9.12s/it]"
     ]
    },
    {
     "name": "stdout",
     "output_type": "stream",
     "text": [
      "1\n",
      "current epoch: 25 current AUC: 0.9855 current accuracy: 0.8323 best AUC: 1.0000 at epoch: 59\n",
      "----------\n",
      "epoch 26/80\n",
      "epoch 26 average loss: 0.6927\n"
     ]
    },
    {
     "name": "stderr",
     "output_type": "stream",
     "text": [
      "Epochs:  32%|███▎      | 26/80 [04:00<08:12,  9.12s/it]"
     ]
    },
    {
     "name": "stdout",
     "output_type": "stream",
     "text": [
      "1\n",
      "current epoch: 26 current AUC: 0.9868 current accuracy: 0.7826 best AUC: 1.0000 at epoch: 59\n",
      "----------\n",
      "epoch 27/80\n",
      "epoch 27 average loss: 0.7060\n"
     ]
    },
    {
     "name": "stderr",
     "output_type": "stream",
     "text": [
      "Epochs:  34%|███▍      | 27/80 [04:10<08:03,  9.13s/it]"
     ]
    },
    {
     "name": "stdout",
     "output_type": "stream",
     "text": [
      "1\n",
      "current epoch: 27 current AUC: 0.9841 current accuracy: 0.7702 best AUC: 1.0000 at epoch: 59\n",
      "----------\n",
      "epoch 28/80\n",
      "epoch 28 average loss: 0.7158\n"
     ]
    },
    {
     "name": "stderr",
     "output_type": "stream",
     "text": [
      "Epochs:  35%|███▌      | 28/80 [04:19<07:53,  9.11s/it]"
     ]
    },
    {
     "name": "stdout",
     "output_type": "stream",
     "text": [
      "1\n",
      "current epoch: 28 current AUC: 0.9836 current accuracy: 0.7950 best AUC: 1.0000 at epoch: 59\n",
      "----------\n",
      "epoch 29/80\n",
      "epoch 29 average loss: 0.6524\n"
     ]
    },
    {
     "name": "stderr",
     "output_type": "stream",
     "text": [
      "Epochs:  36%|███▋      | 29/80 [04:28<07:43,  9.09s/it]"
     ]
    },
    {
     "name": "stdout",
     "output_type": "stream",
     "text": [
      "1\n",
      "current epoch: 29 current AUC: 0.9852 current accuracy: 0.7950 best AUC: 1.0000 at epoch: 59\n",
      "----------\n",
      "epoch 30/80\n",
      "epoch 30 average loss: 0.5868\n"
     ]
    },
    {
     "name": "stderr",
     "output_type": "stream",
     "text": [
      "Epochs:  38%|███▊      | 30/80 [04:37<07:33,  9.07s/it]"
     ]
    },
    {
     "name": "stdout",
     "output_type": "stream",
     "text": [
      "1\n",
      "current epoch: 30 current AUC: 0.9815 current accuracy: 0.7578 best AUC: 1.0000 at epoch: 59\n",
      "----------\n",
      "epoch 31/80\n",
      "epoch 31 average loss: 0.6132\n"
     ]
    },
    {
     "name": "stderr",
     "output_type": "stream",
     "text": [
      "Epochs:  39%|███▉      | 31/80 [04:46<07:25,  9.08s/it]"
     ]
    },
    {
     "name": "stdout",
     "output_type": "stream",
     "text": [
      "1\n",
      "current epoch: 31 current AUC: 0.9908 current accuracy: 0.8696 best AUC: 1.0000 at epoch: 59\n",
      "----------\n",
      "epoch 32/80\n",
      "epoch 32 average loss: 0.5905\n"
     ]
    },
    {
     "name": "stderr",
     "output_type": "stream",
     "text": [
      "Epochs:  40%|████      | 32/80 [04:55<07:16,  9.08s/it]"
     ]
    },
    {
     "name": "stdout",
     "output_type": "stream",
     "text": [
      "1\n",
      "current epoch: 32 current AUC: 0.9861 current accuracy: 0.8137 best AUC: 1.0000 at epoch: 59\n",
      "----------\n",
      "epoch 33/80\n",
      "epoch 33 average loss: 0.6099\n"
     ]
    },
    {
     "name": "stderr",
     "output_type": "stream",
     "text": [
      "Epochs:  41%|████▏     | 33/80 [05:04<07:08,  9.11s/it]"
     ]
    },
    {
     "name": "stdout",
     "output_type": "stream",
     "text": [
      "1\n",
      "current epoch: 33 current AUC: 0.9824 current accuracy: 0.8012 best AUC: 1.0000 at epoch: 59\n",
      "----------\n",
      "epoch 34/80\n",
      "epoch 34 average loss: 0.6131\n"
     ]
    },
    {
     "name": "stderr",
     "output_type": "stream",
     "text": [
      "Epochs:  42%|████▎     | 34/80 [05:13<07:00,  9.14s/it]"
     ]
    },
    {
     "name": "stdout",
     "output_type": "stream",
     "text": [
      "1\n",
      "current epoch: 34 current AUC: 0.9811 current accuracy: 0.8199 best AUC: 1.0000 at epoch: 59\n",
      "----------\n",
      "epoch 35/80\n",
      "epoch 35 average loss: 0.5629\n"
     ]
    },
    {
     "name": "stderr",
     "output_type": "stream",
     "text": [
      "Epochs:  44%|████▍     | 35/80 [05:22<06:51,  9.13s/it]"
     ]
    },
    {
     "name": "stdout",
     "output_type": "stream",
     "text": [
      "1\n",
      "current epoch: 35 current AUC: 0.9800 current accuracy: 0.8199 best AUC: 1.0000 at epoch: 59\n",
      "----------\n",
      "epoch 36/80\n",
      "epoch 36 average loss: 0.5912\n"
     ]
    },
    {
     "name": "stderr",
     "output_type": "stream",
     "text": [
      "Epochs:  45%|████▌     | 36/80 [05:32<06:43,  9.17s/it]"
     ]
    },
    {
     "name": "stdout",
     "output_type": "stream",
     "text": [
      "1\n",
      "current epoch: 36 current AUC: 0.9804 current accuracy: 0.7578 best AUC: 1.0000 at epoch: 59\n",
      "----------\n",
      "epoch 37/80\n",
      "epoch 37 average loss: 0.5654\n"
     ]
    },
    {
     "name": "stderr",
     "output_type": "stream",
     "text": [
      "Epochs:  46%|████▋     | 37/80 [05:41<06:32,  9.13s/it]"
     ]
    },
    {
     "name": "stdout",
     "output_type": "stream",
     "text": [
      "1\n",
      "current epoch: 37 current AUC: 0.9886 current accuracy: 0.8137 best AUC: 1.0000 at epoch: 59\n",
      "----------\n",
      "epoch 38/80\n",
      "epoch 38 average loss: 0.5292\n"
     ]
    },
    {
     "name": "stderr",
     "output_type": "stream",
     "text": [
      "Epochs:  48%|████▊     | 38/80 [05:50<06:23,  9.13s/it]"
     ]
    },
    {
     "name": "stdout",
     "output_type": "stream",
     "text": [
      "1\n",
      "current epoch: 38 current AUC: 0.9922 current accuracy: 0.8509 best AUC: 1.0000 at epoch: 59\n",
      "----------\n",
      "epoch 39/80\n",
      "epoch 39 average loss: 0.5458\n"
     ]
    },
    {
     "name": "stderr",
     "output_type": "stream",
     "text": [
      "Epochs:  49%|████▉     | 39/80 [05:59<06:14,  9.14s/it]"
     ]
    },
    {
     "name": "stdout",
     "output_type": "stream",
     "text": [
      "1\n",
      "current epoch: 39 current AUC: 0.9879 current accuracy: 0.8323 best AUC: 1.0000 at epoch: 59\n",
      "----------\n",
      "epoch 40/80\n",
      "epoch 40 average loss: 0.5358\n"
     ]
    },
    {
     "name": "stderr",
     "output_type": "stream",
     "text": [
      "Epochs:  50%|█████     | 40/80 [06:08<06:06,  9.15s/it]"
     ]
    },
    {
     "name": "stdout",
     "output_type": "stream",
     "text": [
      "1\n",
      "current epoch: 40 current AUC: 0.9922 current accuracy: 0.8509 best AUC: 1.0000 at epoch: 59\n",
      "----------\n",
      "epoch 41/80\n",
      "epoch 41 average loss: 0.5527\n"
     ]
    },
    {
     "name": "stderr",
     "output_type": "stream",
     "text": [
      "Epochs:  51%|█████▏    | 41/80 [06:18<06:00,  9.23s/it]"
     ]
    },
    {
     "name": "stdout",
     "output_type": "stream",
     "text": [
      "1\n",
      "current epoch: 41 current AUC: 0.9881 current accuracy: 0.8385 best AUC: 1.0000 at epoch: 59\n",
      "----------\n",
      "epoch 42/80\n",
      "epoch 42 average loss: 0.5417\n"
     ]
    },
    {
     "name": "stderr",
     "output_type": "stream",
     "text": [
      "Epochs:  52%|█████▎    | 42/80 [06:28<05:59,  9.45s/it]"
     ]
    },
    {
     "name": "stdout",
     "output_type": "stream",
     "text": [
      "1\n",
      "current epoch: 42 current AUC: 0.9935 current accuracy: 0.8758 best AUC: 1.0000 at epoch: 59\n",
      "----------\n",
      "epoch 43/80\n",
      "epoch 43 average loss: 0.5017\n"
     ]
    },
    {
     "name": "stderr",
     "output_type": "stream",
     "text": [
      "Epochs:  54%|█████▍    | 43/80 [06:37<05:54,  9.58s/it]"
     ]
    },
    {
     "name": "stdout",
     "output_type": "stream",
     "text": [
      "1\n",
      "current epoch: 43 current AUC: 0.9802 current accuracy: 0.7578 best AUC: 1.0000 at epoch: 59\n",
      "----------\n",
      "epoch 44/80\n",
      "epoch 44 average loss: 0.5350\n"
     ]
    },
    {
     "name": "stderr",
     "output_type": "stream",
     "text": [
      "Epochs:  55%|█████▌    | 44/80 [06:47<05:46,  9.63s/it]"
     ]
    },
    {
     "name": "stdout",
     "output_type": "stream",
     "text": [
      "1\n",
      "current epoch: 44 current AUC: 0.9859 current accuracy: 0.8075 best AUC: 1.0000 at epoch: 59\n",
      "----------\n",
      "epoch 45/80\n",
      "epoch 45 average loss: 0.4764\n"
     ]
    },
    {
     "name": "stderr",
     "output_type": "stream",
     "text": [
      "Epochs:  56%|█████▋    | 45/80 [06:57<05:36,  9.62s/it]"
     ]
    },
    {
     "name": "stdout",
     "output_type": "stream",
     "text": [
      "1\n",
      "current epoch: 45 current AUC: 0.9895 current accuracy: 0.8385 best AUC: 1.0000 at epoch: 59\n",
      "----------\n",
      "epoch 46/80\n",
      "epoch 46 average loss: 0.5092\n"
     ]
    },
    {
     "name": "stderr",
     "output_type": "stream",
     "text": [
      "Epochs:  57%|█████▊    | 46/80 [07:07<05:32,  9.77s/it]"
     ]
    },
    {
     "name": "stdout",
     "output_type": "stream",
     "text": [
      "1\n",
      "current epoch: 46 current AUC: 0.9830 current accuracy: 0.7826 best AUC: 1.0000 at epoch: 59\n",
      "----------\n",
      "epoch 47/80\n",
      "epoch 47 average loss: 0.5032\n"
     ]
    },
    {
     "name": "stderr",
     "output_type": "stream",
     "text": [
      "Epochs:  59%|█████▉    | 47/80 [07:17<05:27,  9.91s/it]"
     ]
    },
    {
     "name": "stdout",
     "output_type": "stream",
     "text": [
      "1\n",
      "current epoch: 47 current AUC: 0.9774 current accuracy: 0.7516 best AUC: 1.0000 at epoch: 59\n",
      "----------\n",
      "epoch 48/80\n",
      "epoch 48 average loss: 0.4971\n"
     ]
    },
    {
     "name": "stderr",
     "output_type": "stream",
     "text": [
      "Epochs:  60%|██████    | 48/80 [07:27<05:20, 10.02s/it]"
     ]
    },
    {
     "name": "stdout",
     "output_type": "stream",
     "text": [
      "1\n",
      "current epoch: 48 current AUC: 0.9909 current accuracy: 0.8137 best AUC: 1.0000 at epoch: 59\n",
      "----------\n",
      "epoch 49/80\n",
      "epoch 49 average loss: 0.5341\n"
     ]
    },
    {
     "name": "stderr",
     "output_type": "stream",
     "text": [
      "Epochs:  61%|██████▏   | 49/80 [07:38<05:11, 10.06s/it]"
     ]
    },
    {
     "name": "stdout",
     "output_type": "stream",
     "text": [
      "1\n",
      "current epoch: 49 current AUC: 0.9911 current accuracy: 0.8571 best AUC: 1.0000 at epoch: 59\n",
      "----------\n",
      "epoch 50/80\n",
      "epoch 50 average loss: 0.4753\n"
     ]
    },
    {
     "name": "stderr",
     "output_type": "stream",
     "text": [
      "Epochs:  62%|██████▎   | 50/80 [07:48<05:03, 10.13s/it]"
     ]
    },
    {
     "name": "stdout",
     "output_type": "stream",
     "text": [
      "1\n",
      "current epoch: 50 current AUC: 0.9844 current accuracy: 0.8075 best AUC: 1.0000 at epoch: 59\n",
      "----------\n",
      "epoch 51/80\n",
      "epoch 51 average loss: 0.5014\n"
     ]
    },
    {
     "name": "stderr",
     "output_type": "stream",
     "text": [
      "Epochs:  64%|██████▍   | 51/80 [07:58<04:55, 10.18s/it]"
     ]
    },
    {
     "name": "stdout",
     "output_type": "stream",
     "text": [
      "1\n",
      "current epoch: 51 current AUC: 0.9853 current accuracy: 0.7888 best AUC: 1.0000 at epoch: 59\n",
      "----------\n",
      "epoch 52/80\n",
      "epoch 52 average loss: 0.4460\n"
     ]
    },
    {
     "name": "stderr",
     "output_type": "stream",
     "text": [
      "Epochs:  65%|██████▌   | 52/80 [08:08<04:45, 10.19s/it]"
     ]
    },
    {
     "name": "stdout",
     "output_type": "stream",
     "text": [
      "1\n",
      "current epoch: 52 current AUC: 0.9915 current accuracy: 0.8634 best AUC: 1.0000 at epoch: 59\n",
      "----------\n",
      "epoch 53/80\n",
      "epoch 53 average loss: 0.4718\n"
     ]
    },
    {
     "name": "stderr",
     "output_type": "stream",
     "text": [
      "Epochs:  66%|██████▋   | 53/80 [08:19<04:35, 10.21s/it]"
     ]
    },
    {
     "name": "stdout",
     "output_type": "stream",
     "text": [
      "1\n",
      "current epoch: 53 current AUC: 0.9928 current accuracy: 0.8447 best AUC: 1.0000 at epoch: 59\n",
      "----------\n",
      "epoch 54/80\n",
      "epoch 54 average loss: 0.4635\n"
     ]
    },
    {
     "name": "stderr",
     "output_type": "stream",
     "text": [
      "Epochs:  68%|██████▊   | 54/80 [08:29<04:24, 10.19s/it]"
     ]
    },
    {
     "name": "stdout",
     "output_type": "stream",
     "text": [
      "1\n",
      "current epoch: 54 current AUC: 0.9838 current accuracy: 0.8137 best AUC: 1.0000 at epoch: 59\n",
      "----------\n",
      "epoch 55/80\n",
      "epoch 55 average loss: 0.4888\n"
     ]
    },
    {
     "name": "stderr",
     "output_type": "stream",
     "text": [
      "Epochs:  69%|██████▉   | 55/80 [08:38<04:06,  9.85s/it]"
     ]
    },
    {
     "name": "stdout",
     "output_type": "stream",
     "text": [
      "1\n",
      "current epoch: 55 current AUC: 0.9835 current accuracy: 0.8012 best AUC: 1.0000 at epoch: 59\n",
      "----------\n",
      "epoch 56/80\n",
      "epoch 56 average loss: 0.4327\n"
     ]
    },
    {
     "name": "stderr",
     "output_type": "stream",
     "text": [
      "Epochs:  70%|███████   | 56/80 [08:47<03:53,  9.74s/it]"
     ]
    },
    {
     "name": "stdout",
     "output_type": "stream",
     "text": [
      "1\n",
      "current epoch: 56 current AUC: 0.9865 current accuracy: 0.8137 best AUC: 1.0000 at epoch: 59\n",
      "----------\n",
      "epoch 57/80\n",
      "epoch 57 average loss: 0.4542\n"
     ]
    },
    {
     "name": "stderr",
     "output_type": "stream",
     "text": [
      "Epochs:  71%|███████▏  | 57/80 [08:57<03:40,  9.59s/it]"
     ]
    },
    {
     "name": "stdout",
     "output_type": "stream",
     "text": [
      "1\n",
      "current epoch: 57 current AUC: 0.9857 current accuracy: 0.7826 best AUC: 1.0000 at epoch: 59\n",
      "----------\n",
      "epoch 58/80\n",
      "epoch 58 average loss: 0.4301\n"
     ]
    },
    {
     "name": "stderr",
     "output_type": "stream",
     "text": [
      "Epochs:  72%|███████▎  | 58/80 [09:06<03:30,  9.58s/it]"
     ]
    },
    {
     "name": "stdout",
     "output_type": "stream",
     "text": [
      "1\n",
      "current epoch: 58 current AUC: 0.9852 current accuracy: 0.8385 best AUC: 1.0000 at epoch: 59\n",
      "----------\n",
      "epoch 59/80\n",
      "epoch 59 average loss: 0.4690\n"
     ]
    },
    {
     "name": "stderr",
     "output_type": "stream",
     "text": [
      "Epochs:  74%|███████▍  | 59/80 [09:15<03:19,  9.48s/it]"
     ]
    },
    {
     "name": "stdout",
     "output_type": "stream",
     "text": [
      "1\n",
      "current epoch: 59 current AUC: 0.9886 current accuracy: 0.8447 best AUC: 1.0000 at epoch: 59\n",
      "----------\n",
      "epoch 60/80\n",
      "epoch 60 average loss: 0.4384\n"
     ]
    },
    {
     "name": "stderr",
     "output_type": "stream",
     "text": [
      "Epochs:  75%|███████▌  | 60/80 [09:25<03:10,  9.51s/it]"
     ]
    },
    {
     "name": "stdout",
     "output_type": "stream",
     "text": [
      "1\n",
      "current epoch: 60 current AUC: 0.9799 current accuracy: 0.7702 best AUC: 1.0000 at epoch: 59\n",
      "----------\n",
      "epoch 61/80\n",
      "epoch 61 average loss: 0.4990\n"
     ]
    },
    {
     "name": "stderr",
     "output_type": "stream",
     "text": [
      "Epochs:  76%|███████▋  | 61/80 [09:34<02:58,  9.41s/it]"
     ]
    },
    {
     "name": "stdout",
     "output_type": "stream",
     "text": [
      "1\n",
      "current epoch: 61 current AUC: 0.9883 current accuracy: 0.8634 best AUC: 1.0000 at epoch: 59\n",
      "----------\n",
      "epoch 62/80\n",
      "epoch 62 average loss: 0.4229\n"
     ]
    },
    {
     "name": "stderr",
     "output_type": "stream",
     "text": [
      "Epochs:  78%|███████▊  | 62/80 [09:44<02:49,  9.44s/it]"
     ]
    },
    {
     "name": "stdout",
     "output_type": "stream",
     "text": [
      "1\n",
      "current epoch: 62 current AUC: 0.9871 current accuracy: 0.8385 best AUC: 1.0000 at epoch: 59\n",
      "----------\n",
      "epoch 63/80\n",
      "epoch 63 average loss: 0.3917\n"
     ]
    },
    {
     "name": "stderr",
     "output_type": "stream",
     "text": [
      "Epochs:  79%|███████▉  | 63/80 [09:53<02:39,  9.40s/it]"
     ]
    },
    {
     "name": "stdout",
     "output_type": "stream",
     "text": [
      "1\n",
      "current epoch: 63 current AUC: 0.9890 current accuracy: 0.8385 best AUC: 1.0000 at epoch: 59\n",
      "----------\n",
      "epoch 64/80\n",
      "epoch 64 average loss: 0.4721\n"
     ]
    },
    {
     "name": "stderr",
     "output_type": "stream",
     "text": [
      "Epochs:  80%|████████  | 64/80 [10:02<02:30,  9.43s/it]"
     ]
    },
    {
     "name": "stdout",
     "output_type": "stream",
     "text": [
      "1\n",
      "current epoch: 64 current AUC: 0.9805 current accuracy: 0.7888 best AUC: 1.0000 at epoch: 59\n",
      "----------\n",
      "epoch 65/80\n",
      "epoch 65 average loss: 0.4467\n"
     ]
    },
    {
     "name": "stderr",
     "output_type": "stream",
     "text": [
      "Epochs:  81%|████████▏ | 65/80 [10:12<02:22,  9.47s/it]"
     ]
    },
    {
     "name": "stdout",
     "output_type": "stream",
     "text": [
      "1\n",
      "current epoch: 65 current AUC: 0.9861 current accuracy: 0.8509 best AUC: 1.0000 at epoch: 59\n",
      "----------\n",
      "epoch 66/80\n",
      "epoch 66 average loss: 0.4029\n"
     ]
    },
    {
     "name": "stderr",
     "output_type": "stream",
     "text": [
      "Epochs:  82%|████████▎ | 66/80 [10:21<02:12,  9.45s/it]"
     ]
    },
    {
     "name": "stdout",
     "output_type": "stream",
     "text": [
      "1\n",
      "current epoch: 66 current AUC: 0.9828 current accuracy: 0.8385 best AUC: 1.0000 at epoch: 59\n",
      "----------\n",
      "epoch 67/80\n",
      "epoch 67 average loss: 0.3832\n"
     ]
    },
    {
     "name": "stderr",
     "output_type": "stream",
     "text": [
      "Epochs:  84%|████████▍ | 67/80 [10:31<02:03,  9.47s/it]"
     ]
    },
    {
     "name": "stdout",
     "output_type": "stream",
     "text": [
      "1\n",
      "current epoch: 67 current AUC: 0.9869 current accuracy: 0.8199 best AUC: 1.0000 at epoch: 59\n",
      "----------\n",
      "epoch 68/80\n",
      "epoch 68 average loss: 0.3944\n"
     ]
    },
    {
     "name": "stderr",
     "output_type": "stream",
     "text": [
      "Epochs:  85%|████████▌ | 68/80 [10:40<01:52,  9.41s/it]"
     ]
    },
    {
     "name": "stdout",
     "output_type": "stream",
     "text": [
      "1\n",
      "current epoch: 68 current AUC: 0.9908 current accuracy: 0.8509 best AUC: 1.0000 at epoch: 59\n",
      "----------\n",
      "epoch 69/80\n",
      "epoch 69 average loss: 0.3919\n"
     ]
    },
    {
     "name": "stderr",
     "output_type": "stream",
     "text": [
      "Epochs:  86%|████████▋ | 69/80 [10:49<01:43,  9.37s/it]"
     ]
    },
    {
     "name": "stdout",
     "output_type": "stream",
     "text": [
      "1\n",
      "current epoch: 69 current AUC: 0.9900 current accuracy: 0.8696 best AUC: 1.0000 at epoch: 59\n",
      "----------\n",
      "epoch 70/80\n",
      "epoch 70 average loss: 0.4101\n"
     ]
    },
    {
     "name": "stderr",
     "output_type": "stream",
     "text": [
      "Epochs:  88%|████████▊ | 70/80 [10:59<01:33,  9.31s/it]"
     ]
    },
    {
     "name": "stdout",
     "output_type": "stream",
     "text": [
      "1\n",
      "current epoch: 70 current AUC: 0.9881 current accuracy: 0.8447 best AUC: 1.0000 at epoch: 59\n",
      "----------\n",
      "epoch 71/80\n",
      "epoch 71 average loss: 0.3526\n"
     ]
    },
    {
     "name": "stderr",
     "output_type": "stream",
     "text": [
      "Epochs:  89%|████████▉ | 71/80 [11:08<01:23,  9.33s/it]"
     ]
    },
    {
     "name": "stdout",
     "output_type": "stream",
     "text": [
      "1\n",
      "current epoch: 71 current AUC: 0.9887 current accuracy: 0.8447 best AUC: 1.0000 at epoch: 59\n",
      "----------\n",
      "epoch 72/80\n",
      "epoch 72 average loss: 0.4037\n"
     ]
    },
    {
     "name": "stderr",
     "output_type": "stream",
     "text": [
      "Epochs:  90%|█████████ | 72/80 [11:17<01:14,  9.32s/it]"
     ]
    },
    {
     "name": "stdout",
     "output_type": "stream",
     "text": [
      "1\n",
      "current epoch: 72 current AUC: 0.9818 current accuracy: 0.7764 best AUC: 1.0000 at epoch: 59\n",
      "----------\n",
      "epoch 73/80\n",
      "epoch 73 average loss: 0.3583\n"
     ]
    },
    {
     "name": "stderr",
     "output_type": "stream",
     "text": [
      "Epochs:  91%|█████████▏| 73/80 [11:27<01:05,  9.40s/it]"
     ]
    },
    {
     "name": "stdout",
     "output_type": "stream",
     "text": [
      "1\n",
      "current epoch: 73 current AUC: 0.9858 current accuracy: 0.8199 best AUC: 1.0000 at epoch: 59\n",
      "----------\n",
      "epoch 74/80\n",
      "epoch 74 average loss: 0.3984\n"
     ]
    },
    {
     "name": "stderr",
     "output_type": "stream",
     "text": [
      "Epochs:  92%|█████████▎| 74/80 [11:36<00:56,  9.41s/it]"
     ]
    },
    {
     "name": "stdout",
     "output_type": "stream",
     "text": [
      "1\n",
      "current epoch: 74 current AUC: 0.9931 current accuracy: 0.8509 best AUC: 1.0000 at epoch: 59\n",
      "----------\n",
      "epoch 75/80\n",
      "epoch 75 average loss: 0.3857\n"
     ]
    },
    {
     "name": "stderr",
     "output_type": "stream",
     "text": [
      "Epochs:  94%|█████████▍| 75/80 [11:46<00:47,  9.43s/it]"
     ]
    },
    {
     "name": "stdout",
     "output_type": "stream",
     "text": [
      "1\n",
      "current epoch: 75 current AUC: 0.9931 current accuracy: 0.8696 best AUC: 1.0000 at epoch: 59\n",
      "----------\n",
      "epoch 76/80\n",
      "epoch 76 average loss: 0.3673\n"
     ]
    },
    {
     "name": "stderr",
     "output_type": "stream",
     "text": [
      "Epochs:  95%|█████████▌| 76/80 [11:55<00:37,  9.48s/it]"
     ]
    },
    {
     "name": "stdout",
     "output_type": "stream",
     "text": [
      "1\n",
      "current epoch: 76 current AUC: 0.9899 current accuracy: 0.8696 best AUC: 1.0000 at epoch: 59\n",
      "----------\n",
      "epoch 77/80\n",
      "epoch 77 average loss: 0.3394\n"
     ]
    },
    {
     "name": "stderr",
     "output_type": "stream",
     "text": [
      "Epochs:  96%|█████████▋| 77/80 [12:05<00:28,  9.47s/it]"
     ]
    },
    {
     "name": "stdout",
     "output_type": "stream",
     "text": [
      "1\n",
      "current epoch: 77 current AUC: 0.9834 current accuracy: 0.8385 best AUC: 1.0000 at epoch: 59\n",
      "----------\n",
      "epoch 78/80\n",
      "epoch 78 average loss: 0.3440\n"
     ]
    },
    {
     "name": "stderr",
     "output_type": "stream",
     "text": [
      "Epochs:  98%|█████████▊| 78/80 [12:14<00:18,  9.40s/it]"
     ]
    },
    {
     "name": "stdout",
     "output_type": "stream",
     "text": [
      "1\n",
      "current epoch: 78 current AUC: 0.9809 current accuracy: 0.8012 best AUC: 1.0000 at epoch: 59\n",
      "----------\n",
      "epoch 79/80\n",
      "epoch 79 average loss: 0.3314\n"
     ]
    },
    {
     "name": "stderr",
     "output_type": "stream",
     "text": [
      "Epochs:  99%|█████████▉| 79/80 [12:24<00:09,  9.41s/it]"
     ]
    },
    {
     "name": "stdout",
     "output_type": "stream",
     "text": [
      "1\n",
      "current epoch: 79 current AUC: 0.9843 current accuracy: 0.8137 best AUC: 1.0000 at epoch: 59\n",
      "----------\n",
      "epoch 80/80\n",
      "epoch 80 average loss: 0.3859\n"
     ]
    },
    {
     "name": "stderr",
     "output_type": "stream",
     "text": [
      "Epochs: 100%|██████████| 80/80 [12:33<00:00,  9.42s/it]"
     ]
    },
    {
     "name": "stdout",
     "output_type": "stream",
     "text": [
      "1\n",
      "current epoch: 80 current AUC: 0.9902 current accuracy: 0.8571 best AUC: 1.0000 at epoch: 59\n",
      "train completed, best_metric: 1.0000 at epoch: 59\n"
     ]
    },
    {
     "name": "stderr",
     "output_type": "stream",
     "text": [
      "\n"
     ]
    }
   ],
   "source": [
    "best_metric = -1\n",
    "best_metric_epoch = -1\n",
    "epoch_loss_values = []\n",
    "metric_values = []\n",
    "writer = SummaryWriter()\n",
    "\n",
    "start_time = time.time()\n",
    "process = psutil.Process()\n",
    "start_cpu = process.cpu_times()\n",
    "start_mem = process.memory_info().rss / 1024**2  # В MB\n",
    "\n",
    "if device.type == \"cuda\":\n",
    "    torch.cuda.synchronize()\n",
    "    torch.cuda.reset_peak_memory_stats()\n",
    "\n",
    "for epoch in tqdm(range(max_epochs), desc=\"Epochs\"):\n",
    "    print(\"-\" * 10)\n",
    "    print(f\"epoch {epoch + 1}/{max_epochs}\")\n",
    "    model.train()\n",
    "    epoch_loss = 0\n",
    "    step = 0\n",
    "    \n",
    "    for batch_data in train_loader:\n",
    "        step += 1\n",
    "        images, labels = batch_data['images'], batch_data['label'][:, 0].type(torch.LongTensor).to(device)\n",
    "        axial, coronal, sagittal = images\n",
    "        optimizer.zero_grad()\n",
    "        outputs = model(sagittal.to(device))\n",
    "        loss = loss_function(outputs, labels)\n",
    "        loss.backward()\n",
    "        optimizer.step()\n",
    "        epoch_loss += loss.item()\n",
    "        epoch_len = len(train_dataset) // train_loader.batch_size\n",
    "        writer.add_scalar(\"train_loss\", loss.item(), epoch_len * epoch + step)\n",
    "        \n",
    "    epoch_loss /= step\n",
    "    epoch_loss_values.append(epoch_loss)\n",
    "    print(f\"epoch {epoch + 1} average loss: {epoch_loss:.4f}\")\n",
    "\n",
    "    if (epoch + 1) % val_interval == 0:\n",
    "        model.eval()\n",
    "        with torch.no_grad():\n",
    "            y_pred = torch.tensor([], dtype=torch.float32, device=device)\n",
    "            y = torch.tensor([], dtype=torch.long, device=device)\n",
    "            for val_data in val_loader:\n",
    "                val_images, val_labels = (\n",
    "                    val_data['images'],\n",
    "                    val_data['label'][:, 0].type(torch.LongTensor).to(device),\n",
    "                )\n",
    "                val_axial, val_coronal, val_sagittal = val_images\n",
    "                y_pred = torch.cat([y_pred, model(val_sagittal.to(device))], dim=0)\n",
    "                y = torch.cat([y, val_labels], dim=0)\n",
    "            y_onehot = [y_trans(i) for i in decollate_batch(y, detach=False)]\n",
    "            print('1')\n",
    "            y_pred_act = [y_pred_trans(i) for i in decollate_batch(y_pred)]\n",
    "            auc_metric(y_pred_act, y_onehot)\n",
    "            result = auc_metric.aggregate()\n",
    "            auc_metric.reset()\n",
    "            del y_pred_act, y_onehot\n",
    "            metric_values.append(result)\n",
    "            acc_value = torch.eq(y_pred.argmax(dim=1), y)\n",
    "            acc_metric = acc_value.sum().item() / len(acc_value)\n",
    "            if result > best_metric:\n",
    "                best_metric = result\n",
    "                best_metric_epoch = epoch + 1\n",
    "                torch.save(model.state_dict(), os.path.join(root_dir, \"sagittal_full_pretrained.pth\"))\n",
    "                print(\"saved new best metric model\")\n",
    "            print(\n",
    "                f\"current epoch: {epoch + 1} current AUC: {result:.4f}\"\n",
    "                f\" current accuracy: {acc_metric:.4f}\"\n",
    "                f\" best AUC: {best_metric:.4f}\"\n",
    "                f\" at epoch: {best_metric_epoch}\"\n",
    "            )\n",
    "            writer.add_scalar(\"val_accuracy\", acc_metric, epoch + 1)\n",
    "\n",
    "print(f\"train completed, best_metric: {best_metric:.4f} \" f\"at epoch: {best_metric_epoch}\")\n",
    "writer.close()"
   ]
  },
  {
   "cell_type": "code",
   "execution_count": 52,
   "metadata": {},
   "outputs": [
    {
     "name": "stdout",
     "output_type": "stream",
     "text": [
      "Training time: 1532.31 seconds\n",
      "CPU time used: 18335.93 seconds\n",
      "Memory used: 450.62 MB\n",
      "GPU Memory Used: 192.00 MB\n",
      "Max GPU Memory Used: 235.60 MB\n"
     ]
    }
   ],
   "source": [
    "end_time = time.time()\n",
    "end_cpu = process.cpu_times()\n",
    "end_mem = process.memory_info().rss / 1024**2\n",
    "\n",
    "cpu_time = (end_cpu.user + end_cpu.system) - (start_cpu.user + start_cpu.system)\n",
    "memory_used = end_mem - start_mem\n",
    "\n",
    "print(f\"Training time: {end_time - start_time:.2f} seconds\")\n",
    "print(f\"CPU time used: {cpu_time:.2f} seconds\")\n",
    "print(f\"Memory used: {memory_used:.2f} MB\")\n",
    "\n",
    "if device.type == \"cuda\":\n",
    "    torch.cuda.synchronize()\n",
    "    print(f\"GPU Memory Used: {torch.cuda.memory_allocated() / 1024**2:.2f} MB\")\n",
    "    print(f\"Max GPU Memory Used: {torch.cuda.max_memory_allocated() / 1024**2:.2f} MB\")\n"
   ]
  },
  {
   "cell_type": "code",
   "execution_count": 53,
   "metadata": {},
   "outputs": [
    {
     "data": {
      "image/png": "[encoded data removed]",
      "text/plain": [
       "<Figure size 1200x600 with 2 Axes>"
      ]
     },
     "metadata": {},
     "output_type": "display_data"
    }
   ],
   "source": [
    "plt.figure(\"train\", (12, 6))\n",
    "plt.subplot(1, 2, 1)\n",
    "plt.title(\"Epoch Average Loss\")\n",
    "x = [i + 1 for i in range(len(epoch_loss_values))]\n",
    "y = epoch_loss_values\n",
    "plt.xlabel(\"epoch\")\n",
    "plt.plot(x, y)\n",
    "plt.subplot(1, 2, 2)\n",
    "plt.title(\"Val AUC\")\n",
    "x = [val_interval * (i + 1) for i in range(len(metric_values))]\n",
    "y = metric_values\n",
    "plt.xlabel(\"epoch\")\n",
    "plt.plot(x, y)\n",
    "plt.show()"
   ]
  },
  {
   "cell_type": "markdown",
   "metadata": {},
   "source": [
    "### Evaluation"
   ]
  },
  {
   "cell_type": "code",
   "execution_count": 54,
   "metadata": {},
   "outputs": [],
   "source": [
    "model.load_state_dict(torch.load(os.path.join(root_dir, \"sagittal_full_pretrained.pth\"), weights_only=True))\n",
    "model.eval()\n",
    "y_true = []\n",
    "y_pred = []\n",
    "example_axial = []\n",
    "example_coronal = []\n",
    "example_sagittal = []\n",
    "example_preds = []\n",
    "example_labels = []\n",
    "\n",
    "with torch.no_grad():\n",
    "    for test_data in test_loader:\n",
    "        test_images, test_labels = (\n",
    "            test_data['images'],\n",
    "            test_data['label'][:, 0].type(torch.LongTensor).to(device),\n",
    "        )\n",
    "        test_axial, test_coronal, test_sagittal = test_images\n",
    "        pred = model(test_sagittal.to(device)).argmax(dim=1)\n",
    "        for i in range(len(pred)):\n",
    "            y_true.append(test_labels[i].item())\n",
    "            y_pred.append(pred[i].item())\n",
    "\n",
    "        if len(example_axial) < 10:\n",
    "            example_axial.append(test_axial)\n",
    "            example_coronal.append(test_coronal)\n",
    "            example_sagittal.append(test_sagittal)\n",
    "            example_preds.append(pred)\n",
    "            example_labels.append(test_labels)"
   ]
  },
  {
   "cell_type": "code",
   "execution_count": 55,
   "metadata": {
    "scrolled": true
   },
   "outputs": [
    {
     "name": "stdout",
     "output_type": "stream",
     "text": [
      "              precision    recall  f1-score   support\n",
      "\n",
      "           0     0.9437    0.9710    0.9571        69\n",
      "           1     0.6140    0.5147    0.5600        68\n",
      "           2     0.6275    0.4638    0.5333        69\n",
      "           3     0.5714    0.5538    0.5625        65\n",
      "           4     0.5190    0.6308    0.5694        65\n",
      "           5     0.7619    0.9697    0.8533        66\n",
      "           6     0.9600    0.8571    0.9057        28\n",
      "           7     0.7826    0.8571    0.8182        21\n",
      "           8     0.9375    0.7143    0.8108        21\n",
      "           9     0.8354    0.9565    0.8919        69\n",
      "          10     0.9677    0.8696    0.9160        69\n",
      "\n",
      "    accuracy                         0.7508       610\n",
      "   macro avg     0.7746    0.7599    0.7617       610\n",
      "weighted avg     0.7520    0.7508    0.7461       610\n",
      "\n"
     ]
    }
   ],
   "source": [
    "report = classification_report(y_true, y_pred, target_names=info['label'], digits=4, output_dict=True)\n",
    "print(classification_report(y_true, y_pred, target_names=info['label'], digits=4))"
   ]
  },
  {
   "cell_type": "code",
   "execution_count": 56,
   "metadata": {},
   "outputs": [],
   "source": [
    "df = pd.DataFrame(report).transpose()\n",
    "df.to_csv(reports_dir+f'sagittal_random_pretrained_seed{seed}.csv')"
   ]
  },
  {
   "cell_type": "code",
   "execution_count": 57,
   "metadata": {},
   "outputs": [
    {
     "name": "stdout",
     "output_type": "stream",
     "text": [
      "VRAM currently used: 191.99 MB\n",
      "Max VRAM used during training: 235.65 MB\n"
     ]
    }
   ],
   "source": [
    "if device.type == \"cuda\":\n",
    "    torch.cuda.synchronize()\n",
    "    vram_used = torch.cuda.memory_allocated() / 1024**2\n",
    "    vram_max_used = torch.cuda.max_memory_allocated() / 1024**2\n",
    "\n",
    "    print(f\"VRAM currently used: {vram_used:.2f} MB\")\n",
    "    print(f\"Max VRAM used during training: {vram_max_used:.2f} MB\")\n"
   ]
  },
  {
   "cell_type": "markdown",
   "metadata": {},
   "source": [
    "## Unpretrained"
   ]
  },
  {
   "cell_type": "code",
   "execution_count": 58,
   "metadata": {},
   "outputs": [],
   "source": [
    "device = torch.device(\"cuda\" if torch.cuda.is_available() else \"cpu\")\n",
    "model = nets.resnet18(pretrained=False, spatial_dims=2, n_input_channels=9, num_classes=n_classes).to(device)\n",
    "loss_function = torch.nn.CrossEntropyLoss()\n",
    "optimizer = torch.optim.Adam(model.parameters(), 0.00005)\n",
    "max_epochs = 80\n",
    "val_interval = 1\n",
    "auc_metric = ROCAUCMetric()"
   ]
  },
  {
   "cell_type": "code",
   "execution_count": 59,
   "metadata": {
    "scrolled": true
   },
   "outputs": [
    {
     "name": "stderr",
     "output_type": "stream",
     "text": [
      "Epochs:   0%|          | 0/80 [00:00<?, ?it/s]"
     ]
    },
    {
     "name": "stdout",
     "output_type": "stream",
     "text": [
      "----------\n",
      "epoch 1/80\n",
      "epoch 1 average loss: 1.9701\n",
      "1\n"
     ]
    },
    {
     "name": "stderr",
     "output_type": "stream",
     "text": [
      "Epochs:   1%|▏         | 1/80 [00:09<12:43,  9.66s/it]"
     ]
    },
    {
     "name": "stdout",
     "output_type": "stream",
     "text": [
      "saved new best metric model\n",
      "current epoch: 1 current AUC: 0.9033 current accuracy: 0.4286 best AUC: 0.9033 at epoch: 1\n",
      "----------\n",
      "epoch 2/80\n",
      "epoch 2 average loss: 1.6022\n",
      "1\n"
     ]
    },
    {
     "name": "stderr",
     "output_type": "stream",
     "text": [
      "Epochs:   2%|▎         | 2/80 [00:19<12:40,  9.75s/it]"
     ]
    },
    {
     "name": "stdout",
     "output_type": "stream",
     "text": [
      "saved new best metric model\n",
      "current epoch: 2 current AUC: 0.9300 current accuracy: 0.5093 best AUC: 0.9300 at epoch: 2\n",
      "----------\n",
      "epoch 3/80\n",
      "epoch 3 average loss: 1.3904\n",
      "1\n"
     ]
    },
    {
     "name": "stderr",
     "output_type": "stream",
     "text": [
      "Epochs:   4%|▍         | 3/80 [00:28<12:22,  9.65s/it]"
     ]
    },
    {
     "name": "stdout",
     "output_type": "stream",
     "text": [
      "saved new best metric model\n",
      "current epoch: 3 current AUC: 0.9515 current accuracy: 0.5839 best AUC: 0.9515 at epoch: 3\n",
      "----------\n",
      "epoch 4/80\n",
      "epoch 4 average loss: 1.2946\n",
      "1\n"
     ]
    },
    {
     "name": "stderr",
     "output_type": "stream",
     "text": [
      "Epochs:   5%|▌         | 4/80 [00:38<12:22,  9.78s/it]"
     ]
    },
    {
     "name": "stdout",
     "output_type": "stream",
     "text": [
      "saved new best metric model\n",
      "current epoch: 4 current AUC: 0.9633 current accuracy: 0.6460 best AUC: 0.9633 at epoch: 4\n",
      "----------\n",
      "epoch 5/80\n",
      "epoch 5 average loss: 1.2183\n"
     ]
    },
    {
     "name": "stderr",
     "output_type": "stream",
     "text": [
      "Epochs:   6%|▋         | 5/80 [00:48<11:58,  9.58s/it]"
     ]
    },
    {
     "name": "stdout",
     "output_type": "stream",
     "text": [
      "1\n",
      "current epoch: 5 current AUC: 0.9591 current accuracy: 0.6025 best AUC: 0.9633 at epoch: 4\n",
      "----------\n",
      "epoch 6/80\n",
      "epoch 6 average loss: 1.1334\n"
     ]
    },
    {
     "name": "stderr",
     "output_type": "stream",
     "text": [
      "Epochs:   8%|▊         | 6/80 [00:57<11:45,  9.53s/it]"
     ]
    },
    {
     "name": "stdout",
     "output_type": "stream",
     "text": [
      "1\n",
      "current epoch: 6 current AUC: 0.9592 current accuracy: 0.5590 best AUC: 0.9633 at epoch: 4\n",
      "----------\n",
      "epoch 7/80\n",
      "epoch 7 average loss: 1.1438\n",
      "1\n"
     ]
    },
    {
     "name": "stderr",
     "output_type": "stream",
     "text": [
      "Epochs:   9%|▉         | 7/80 [01:07<11:34,  9.52s/it]"
     ]
    },
    {
     "name": "stdout",
     "output_type": "stream",
     "text": [
      "saved new best metric model\n",
      "current epoch: 7 current AUC: 0.9677 current accuracy: 0.6025 best AUC: 0.9677 at epoch: 7\n",
      "----------\n",
      "epoch 8/80\n",
      "epoch 8 average loss: 1.0484\n",
      "1\n"
     ]
    },
    {
     "name": "stderr",
     "output_type": "stream",
     "text": [
      "Epochs:  10%|█         | 8/80 [01:16<11:25,  9.52s/it]"
     ]
    },
    {
     "name": "stdout",
     "output_type": "stream",
     "text": [
      "saved new best metric model\n",
      "current epoch: 8 current AUC: 0.9732 current accuracy: 0.6335 best AUC: 0.9732 at epoch: 8\n",
      "----------\n",
      "epoch 9/80\n",
      "epoch 9 average loss: 1.0450\n",
      "1\n"
     ]
    },
    {
     "name": "stderr",
     "output_type": "stream",
     "text": [
      "Epochs:  11%|█▏        | 9/80 [01:26<11:14,  9.50s/it]"
     ]
    },
    {
     "name": "stdout",
     "output_type": "stream",
     "text": [
      "saved new best metric model\n",
      "current epoch: 9 current AUC: 0.9742 current accuracy: 0.6646 best AUC: 0.9742 at epoch: 9\n",
      "----------\n",
      "epoch 10/80\n",
      "epoch 10 average loss: 0.9804\n",
      "1\n"
     ]
    },
    {
     "name": "stderr",
     "output_type": "stream",
     "text": [
      "Epochs:  12%|█▎        | 10/80 [01:35<11:01,  9.45s/it]"
     ]
    },
    {
     "name": "stdout",
     "output_type": "stream",
     "text": [
      "saved new best metric model\n",
      "current epoch: 10 current AUC: 0.9812 current accuracy: 0.7391 best AUC: 0.9812 at epoch: 10\n",
      "----------\n",
      "epoch 11/80\n",
      "epoch 11 average loss: 0.9167\n"
     ]
    },
    {
     "name": "stderr",
     "output_type": "stream",
     "text": [
      "Epochs:  14%|█▍        | 11/80 [01:44<10:40,  9.28s/it]"
     ]
    },
    {
     "name": "stdout",
     "output_type": "stream",
     "text": [
      "1\n",
      "current epoch: 11 current AUC: 0.9748 current accuracy: 0.6894 best AUC: 0.9812 at epoch: 10\n",
      "----------\n",
      "epoch 12/80\n",
      "epoch 12 average loss: 0.8705\n",
      "1\n"
     ]
    },
    {
     "name": "stderr",
     "output_type": "stream",
     "text": [
      "Epochs:  15%|█▌        | 12/80 [01:53<10:35,  9.34s/it]"
     ]
    },
    {
     "name": "stdout",
     "output_type": "stream",
     "text": [
      "saved new best metric model\n",
      "current epoch: 12 current AUC: 0.9823 current accuracy: 0.7516 best AUC: 0.9823 at epoch: 12\n",
      "----------\n",
      "epoch 13/80\n",
      "epoch 13 average loss: 0.8686\n",
      "1\n"
     ]
    },
    {
     "name": "stderr",
     "output_type": "stream",
     "text": [
      "Epochs:  16%|█▋        | 13/80 [02:03<10:26,  9.34s/it]"
     ]
    },
    {
     "name": "stdout",
     "output_type": "stream",
     "text": [
      "saved new best metric model\n",
      "current epoch: 13 current AUC: 0.9908 current accuracy: 0.8199 best AUC: 0.9908 at epoch: 13\n",
      "----------\n",
      "epoch 14/80\n",
      "epoch 14 average loss: 0.8749\n"
     ]
    },
    {
     "name": "stderr",
     "output_type": "stream",
     "text": [
      "Epochs:  18%|█▊        | 14/80 [02:12<10:08,  9.22s/it]"
     ]
    },
    {
     "name": "stdout",
     "output_type": "stream",
     "text": [
      "1\n",
      "current epoch: 14 current AUC: 0.9792 current accuracy: 0.7329 best AUC: 0.9908 at epoch: 13\n",
      "----------\n",
      "epoch 15/80\n",
      "epoch 15 average loss: 0.8718\n"
     ]
    },
    {
     "name": "stderr",
     "output_type": "stream",
     "text": [
      "Epochs:  19%|█▉        | 15/80 [02:21<09:57,  9.19s/it]"
     ]
    },
    {
     "name": "stdout",
     "output_type": "stream",
     "text": [
      "1\n",
      "current epoch: 15 current AUC: 0.9832 current accuracy: 0.7205 best AUC: 0.9908 at epoch: 13\n",
      "----------\n",
      "epoch 16/80\n",
      "epoch 16 average loss: 0.8059\n"
     ]
    },
    {
     "name": "stderr",
     "output_type": "stream",
     "text": [
      "Epochs:  20%|██        | 16/80 [02:30<09:46,  9.16s/it]"
     ]
    },
    {
     "name": "stdout",
     "output_type": "stream",
     "text": [
      "1\n",
      "current epoch: 16 current AUC: 0.9895 current accuracy: 0.7205 best AUC: 0.9908 at epoch: 13\n",
      "----------\n",
      "epoch 17/80\n",
      "epoch 17 average loss: 0.8379\n"
     ]
    },
    {
     "name": "stderr",
     "output_type": "stream",
     "text": [
      "Epochs:  21%|██▏       | 17/80 [02:39<09:34,  9.11s/it]"
     ]
    },
    {
     "name": "stdout",
     "output_type": "stream",
     "text": [
      "1\n",
      "current epoch: 17 current AUC: 0.9849 current accuracy: 0.7826 best AUC: 0.9908 at epoch: 13\n",
      "----------\n",
      "epoch 18/80\n",
      "epoch 18 average loss: 0.7732\n"
     ]
    },
    {
     "name": "stderr",
     "output_type": "stream",
     "text": [
      "Epochs:  22%|██▎       | 18/80 [02:48<09:23,  9.09s/it]"
     ]
    },
    {
     "name": "stdout",
     "output_type": "stream",
     "text": [
      "1\n",
      "current epoch: 18 current AUC: 0.9813 current accuracy: 0.8075 best AUC: 0.9908 at epoch: 13\n",
      "----------\n",
      "epoch 19/80\n",
      "epoch 19 average loss: 0.8217\n"
     ]
    },
    {
     "name": "stderr",
     "output_type": "stream",
     "text": [
      "Epochs:  24%|██▍       | 19/80 [02:57<09:12,  9.05s/it]"
     ]
    },
    {
     "name": "stdout",
     "output_type": "stream",
     "text": [
      "1\n",
      "current epoch: 19 current AUC: 0.9805 current accuracy: 0.7578 best AUC: 0.9908 at epoch: 13\n",
      "----------\n",
      "epoch 20/80\n",
      "epoch 20 average loss: 0.7877\n"
     ]
    },
    {
     "name": "stderr",
     "output_type": "stream",
     "text": [
      "Epochs:  25%|██▌       | 20/80 [03:06<09:03,  9.05s/it]"
     ]
    },
    {
     "name": "stdout",
     "output_type": "stream",
     "text": [
      "1\n",
      "current epoch: 20 current AUC: 0.9811 current accuracy: 0.7702 best AUC: 0.9908 at epoch: 13\n",
      "----------\n",
      "epoch 21/80\n",
      "epoch 21 average loss: 0.7865\n"
     ]
    },
    {
     "name": "stderr",
     "output_type": "stream",
     "text": [
      "Epochs:  26%|██▋       | 21/80 [03:15<08:54,  9.05s/it]"
     ]
    },
    {
     "name": "stdout",
     "output_type": "stream",
     "text": [
      "1\n",
      "current epoch: 21 current AUC: 0.9796 current accuracy: 0.6957 best AUC: 0.9908 at epoch: 13\n",
      "----------\n",
      "epoch 22/80\n",
      "epoch 22 average loss: 0.7889\n"
     ]
    },
    {
     "name": "stderr",
     "output_type": "stream",
     "text": [
      "Epochs:  28%|██▊       | 22/80 [03:24<08:45,  9.06s/it]"
     ]
    },
    {
     "name": "stdout",
     "output_type": "stream",
     "text": [
      "1\n",
      "current epoch: 22 current AUC: 0.9828 current accuracy: 0.7391 best AUC: 0.9908 at epoch: 13\n",
      "----------\n",
      "epoch 23/80\n",
      "epoch 23 average loss: 0.6961\n"
     ]
    },
    {
     "name": "stderr",
     "output_type": "stream",
     "text": [
      "Epochs:  29%|██▉       | 23/80 [03:33<08:34,  9.02s/it]"
     ]
    },
    {
     "name": "stdout",
     "output_type": "stream",
     "text": [
      "1\n",
      "current epoch: 23 current AUC: 0.9830 current accuracy: 0.8012 best AUC: 0.9908 at epoch: 13\n",
      "----------\n",
      "epoch 24/80\n",
      "epoch 24 average loss: 0.7081\n"
     ]
    },
    {
     "name": "stderr",
     "output_type": "stream",
     "text": [
      "Epochs:  30%|███       | 24/80 [03:42<08:26,  9.04s/it]"
     ]
    },
    {
     "name": "stdout",
     "output_type": "stream",
     "text": [
      "1\n",
      "current epoch: 24 current AUC: 0.9870 current accuracy: 0.8012 best AUC: 0.9908 at epoch: 13\n",
      "----------\n",
      "epoch 25/80\n",
      "epoch 25 average loss: 0.7390\n"
     ]
    },
    {
     "name": "stderr",
     "output_type": "stream",
     "text": [
      "Epochs:  31%|███▏      | 25/80 [03:51<08:16,  9.03s/it]"
     ]
    },
    {
     "name": "stdout",
     "output_type": "stream",
     "text": [
      "1\n",
      "current epoch: 25 current AUC: 0.9836 current accuracy: 0.7453 best AUC: 0.9908 at epoch: 13\n",
      "----------\n",
      "epoch 26/80\n",
      "epoch 26 average loss: 0.7657\n"
     ]
    },
    {
     "name": "stderr",
     "output_type": "stream",
     "text": [
      "Epochs:  32%|███▎      | 26/80 [04:00<08:07,  9.03s/it]"
     ]
    },
    {
     "name": "stdout",
     "output_type": "stream",
     "text": [
      "1\n",
      "current epoch: 26 current AUC: 0.9802 current accuracy: 0.7391 best AUC: 0.9908 at epoch: 13\n",
      "----------\n",
      "epoch 27/80\n",
      "epoch 27 average loss: 0.6839\n"
     ]
    },
    {
     "name": "stderr",
     "output_type": "stream",
     "text": [
      "Epochs:  34%|███▍      | 27/80 [04:09<07:58,  9.02s/it]"
     ]
    },
    {
     "name": "stdout",
     "output_type": "stream",
     "text": [
      "1\n",
      "current epoch: 27 current AUC: 0.9852 current accuracy: 0.7578 best AUC: 0.9908 at epoch: 13\n",
      "----------\n",
      "epoch 28/80\n",
      "epoch 28 average loss: 0.6462\n"
     ]
    },
    {
     "name": "stderr",
     "output_type": "stream",
     "text": [
      "Epochs:  35%|███▌      | 28/80 [04:18<07:52,  9.09s/it]"
     ]
    },
    {
     "name": "stdout",
     "output_type": "stream",
     "text": [
      "1\n",
      "current epoch: 28 current AUC: 0.9843 current accuracy: 0.7578 best AUC: 0.9908 at epoch: 13\n",
      "----------\n",
      "epoch 29/80\n",
      "epoch 29 average loss: 0.7359\n"
     ]
    },
    {
     "name": "stderr",
     "output_type": "stream",
     "text": [
      "Epochs:  36%|███▋      | 29/80 [04:27<07:42,  9.06s/it]"
     ]
    },
    {
     "name": "stdout",
     "output_type": "stream",
     "text": [
      "1\n",
      "current epoch: 29 current AUC: 0.9881 current accuracy: 0.8137 best AUC: 0.9908 at epoch: 13\n",
      "----------\n",
      "epoch 30/80\n",
      "epoch 30 average loss: 0.6710\n"
     ]
    },
    {
     "name": "stderr",
     "output_type": "stream",
     "text": [
      "Epochs:  38%|███▊      | 30/80 [04:36<07:34,  9.10s/it]"
     ]
    },
    {
     "name": "stdout",
     "output_type": "stream",
     "text": [
      "1\n",
      "current epoch: 30 current AUC: 0.9856 current accuracy: 0.7826 best AUC: 0.9908 at epoch: 13\n",
      "----------\n",
      "epoch 31/80\n",
      "epoch 31 average loss: 0.6589\n"
     ]
    },
    {
     "name": "stderr",
     "output_type": "stream",
     "text": [
      "Epochs:  39%|███▉      | 31/80 [04:46<07:24,  9.08s/it]"
     ]
    },
    {
     "name": "stdout",
     "output_type": "stream",
     "text": [
      "1\n",
      "current epoch: 31 current AUC: 0.9821 current accuracy: 0.7453 best AUC: 0.9908 at epoch: 13\n",
      "----------\n",
      "epoch 32/80\n",
      "epoch 32 average loss: 0.6404\n"
     ]
    },
    {
     "name": "stderr",
     "output_type": "stream",
     "text": [
      "Epochs:  40%|████      | 32/80 [04:55<07:16,  9.09s/it]"
     ]
    },
    {
     "name": "stdout",
     "output_type": "stream",
     "text": [
      "1\n",
      "current epoch: 32 current AUC: 0.9813 current accuracy: 0.7640 best AUC: 0.9908 at epoch: 13\n",
      "----------\n",
      "epoch 33/80\n",
      "epoch 33 average loss: 0.6265\n"
     ]
    },
    {
     "name": "stderr",
     "output_type": "stream",
     "text": [
      "Epochs:  41%|████▏     | 33/80 [05:04<07:05,  9.05s/it]"
     ]
    },
    {
     "name": "stdout",
     "output_type": "stream",
     "text": [
      "1\n",
      "current epoch: 33 current AUC: 0.9816 current accuracy: 0.7764 best AUC: 0.9908 at epoch: 13\n",
      "----------\n",
      "epoch 34/80\n",
      "epoch 34 average loss: 0.6630\n"
     ]
    },
    {
     "name": "stderr",
     "output_type": "stream",
     "text": [
      "Epochs:  42%|████▎     | 34/80 [05:13<06:58,  9.10s/it]"
     ]
    },
    {
     "name": "stdout",
     "output_type": "stream",
     "text": [
      "1\n",
      "current epoch: 34 current AUC: 0.9889 current accuracy: 0.8199 best AUC: 0.9908 at epoch: 13\n",
      "----------\n",
      "epoch 35/80\n",
      "epoch 35 average loss: 0.6158\n"
     ]
    },
    {
     "name": "stderr",
     "output_type": "stream",
     "text": [
      "Epochs:  44%|████▍     | 35/80 [05:22<06:47,  9.07s/it]"
     ]
    },
    {
     "name": "stdout",
     "output_type": "stream",
     "text": [
      "1\n",
      "current epoch: 35 current AUC: 0.9817 current accuracy: 0.7764 best AUC: 0.9908 at epoch: 13\n",
      "----------\n",
      "epoch 36/80\n",
      "epoch 36 average loss: 0.5942\n"
     ]
    },
    {
     "name": "stderr",
     "output_type": "stream",
     "text": [
      "Epochs:  45%|████▌     | 36/80 [05:31<06:39,  9.07s/it]"
     ]
    },
    {
     "name": "stdout",
     "output_type": "stream",
     "text": [
      "1\n",
      "current epoch: 36 current AUC: 0.9844 current accuracy: 0.7764 best AUC: 0.9908 at epoch: 13\n",
      "----------\n",
      "epoch 37/80\n",
      "epoch 37 average loss: 0.6448\n"
     ]
    },
    {
     "name": "stderr",
     "output_type": "stream",
     "text": [
      "Epochs:  46%|████▋     | 37/80 [05:40<06:28,  9.04s/it]"
     ]
    },
    {
     "name": "stdout",
     "output_type": "stream",
     "text": [
      "1\n",
      "current epoch: 37 current AUC: 0.9870 current accuracy: 0.8012 best AUC: 0.9908 at epoch: 13\n",
      "----------\n",
      "epoch 38/80\n",
      "epoch 38 average loss: 0.5827\n"
     ]
    },
    {
     "name": "stderr",
     "output_type": "stream",
     "text": [
      "Epochs:  48%|████▊     | 38/80 [05:49<06:21,  9.09s/it]"
     ]
    },
    {
     "name": "stdout",
     "output_type": "stream",
     "text": [
      "1\n",
      "current epoch: 38 current AUC: 0.9866 current accuracy: 0.8075 best AUC: 0.9908 at epoch: 13\n",
      "----------\n",
      "epoch 39/80\n",
      "epoch 39 average loss: 0.6473\n"
     ]
    },
    {
     "name": "stderr",
     "output_type": "stream",
     "text": [
      "Epochs:  49%|████▉     | 39/80 [05:58<06:11,  9.05s/it]"
     ]
    },
    {
     "name": "stdout",
     "output_type": "stream",
     "text": [
      "1\n",
      "current epoch: 39 current AUC: 0.9850 current accuracy: 0.8075 best AUC: 0.9908 at epoch: 13\n",
      "----------\n",
      "epoch 40/80\n",
      "epoch 40 average loss: 0.5850\n"
     ]
    },
    {
     "name": "stderr",
     "output_type": "stream",
     "text": [
      "Epochs:  50%|█████     | 40/80 [06:07<06:00,  9.02s/it]"
     ]
    },
    {
     "name": "stdout",
     "output_type": "stream",
     "text": [
      "1\n",
      "current epoch: 40 current AUC: 0.9830 current accuracy: 0.7826 best AUC: 0.9908 at epoch: 13\n",
      "----------\n",
      "epoch 41/80\n",
      "epoch 41 average loss: 0.5807\n"
     ]
    },
    {
     "name": "stderr",
     "output_type": "stream",
     "text": [
      "Epochs:  51%|█████▏    | 41/80 [06:16<05:52,  9.03s/it]"
     ]
    },
    {
     "name": "stdout",
     "output_type": "stream",
     "text": [
      "1\n",
      "current epoch: 41 current AUC: 0.9816 current accuracy: 0.7888 best AUC: 0.9908 at epoch: 13\n",
      "----------\n",
      "epoch 42/80\n",
      "epoch 42 average loss: 0.5743\n"
     ]
    },
    {
     "name": "stderr",
     "output_type": "stream",
     "text": [
      "Epochs:  52%|█████▎    | 42/80 [06:25<05:43,  9.05s/it]"
     ]
    },
    {
     "name": "stdout",
     "output_type": "stream",
     "text": [
      "1\n",
      "current epoch: 42 current AUC: 0.9840 current accuracy: 0.7826 best AUC: 0.9908 at epoch: 13\n",
      "----------\n",
      "epoch 43/80\n",
      "epoch 43 average loss: 0.5547\n",
      "1\n"
     ]
    },
    {
     "name": "stderr",
     "output_type": "stream",
     "text": [
      "Epochs:  54%|█████▍    | 43/80 [06:34<05:38,  9.14s/it]"
     ]
    },
    {
     "name": "stdout",
     "output_type": "stream",
     "text": [
      "saved new best metric model\n",
      "current epoch: 43 current AUC: 0.9919 current accuracy: 0.8199 best AUC: 0.9919 at epoch: 43\n",
      "----------\n",
      "epoch 44/80\n",
      "epoch 44 average loss: 0.5455\n"
     ]
    },
    {
     "name": "stderr",
     "output_type": "stream",
     "text": [
      "Epochs:  55%|█████▌    | 44/80 [06:44<05:28,  9.12s/it]"
     ]
    },
    {
     "name": "stdout",
     "output_type": "stream",
     "text": [
      "1\n",
      "current epoch: 44 current AUC: 0.9802 current accuracy: 0.7143 best AUC: 0.9919 at epoch: 43\n",
      "----------\n",
      "epoch 45/80\n",
      "epoch 45 average loss: 0.5650\n"
     ]
    },
    {
     "name": "stderr",
     "output_type": "stream",
     "text": [
      "Epochs:  56%|█████▋    | 45/80 [06:53<05:17,  9.08s/it]"
     ]
    },
    {
     "name": "stdout",
     "output_type": "stream",
     "text": [
      "1\n",
      "current epoch: 45 current AUC: 0.9804 current accuracy: 0.7516 best AUC: 0.9919 at epoch: 43\n",
      "----------\n",
      "epoch 46/80\n",
      "epoch 46 average loss: 0.5597\n"
     ]
    },
    {
     "name": "stderr",
     "output_type": "stream",
     "text": [
      "Epochs:  57%|█████▊    | 46/80 [07:02<05:09,  9.11s/it]"
     ]
    },
    {
     "name": "stdout",
     "output_type": "stream",
     "text": [
      "1\n",
      "current epoch: 46 current AUC: 0.9823 current accuracy: 0.7391 best AUC: 0.9919 at epoch: 43\n",
      "----------\n",
      "epoch 47/80\n",
      "epoch 47 average loss: 0.5631\n"
     ]
    },
    {
     "name": "stderr",
     "output_type": "stream",
     "text": [
      "Epochs:  59%|█████▉    | 47/80 [07:11<04:59,  9.07s/it]"
     ]
    },
    {
     "name": "stdout",
     "output_type": "stream",
     "text": [
      "1\n",
      "current epoch: 47 current AUC: 0.9900 current accuracy: 0.8012 best AUC: 0.9919 at epoch: 43\n",
      "----------\n",
      "epoch 48/80\n",
      "epoch 48 average loss: 0.5774\n"
     ]
    },
    {
     "name": "stderr",
     "output_type": "stream",
     "text": [
      "Epochs:  60%|██████    | 48/80 [07:20<04:49,  9.04s/it]"
     ]
    },
    {
     "name": "stdout",
     "output_type": "stream",
     "text": [
      "1\n",
      "current epoch: 48 current AUC: 0.9809 current accuracy: 0.7329 best AUC: 0.9919 at epoch: 43\n",
      "----------\n",
      "epoch 49/80\n",
      "epoch 49 average loss: 0.5461\n"
     ]
    },
    {
     "name": "stderr",
     "output_type": "stream",
     "text": [
      "Epochs:  61%|██████▏   | 49/80 [07:29<04:39,  9.01s/it]"
     ]
    },
    {
     "name": "stdout",
     "output_type": "stream",
     "text": [
      "1\n",
      "current epoch: 49 current AUC: 0.9808 current accuracy: 0.7453 best AUC: 0.9919 at epoch: 43\n",
      "----------\n",
      "epoch 50/80\n",
      "epoch 50 average loss: 0.5433\n"
     ]
    },
    {
     "name": "stderr",
     "output_type": "stream",
     "text": [
      "Epochs:  62%|██████▎   | 50/80 [07:38<04:30,  9.03s/it]"
     ]
    },
    {
     "name": "stdout",
     "output_type": "stream",
     "text": [
      "1\n",
      "current epoch: 50 current AUC: 0.9870 current accuracy: 0.8199 best AUC: 0.9919 at epoch: 43\n",
      "----------\n",
      "epoch 51/80\n",
      "epoch 51 average loss: 0.5062\n"
     ]
    },
    {
     "name": "stderr",
     "output_type": "stream",
     "text": [
      "Epochs:  64%|██████▍   | 51/80 [07:47<04:21,  9.01s/it]"
     ]
    },
    {
     "name": "stdout",
     "output_type": "stream",
     "text": [
      "1\n",
      "current epoch: 51 current AUC: 0.9857 current accuracy: 0.7888 best AUC: 0.9919 at epoch: 43\n",
      "----------\n",
      "epoch 52/80\n",
      "epoch 52 average loss: 0.4836\n"
     ]
    },
    {
     "name": "stderr",
     "output_type": "stream",
     "text": [
      "Epochs:  65%|██████▌   | 52/80 [07:56<04:13,  9.06s/it]"
     ]
    },
    {
     "name": "stdout",
     "output_type": "stream",
     "text": [
      "1\n",
      "current epoch: 52 current AUC: 0.9882 current accuracy: 0.8012 best AUC: 0.9919 at epoch: 43\n",
      "----------\n",
      "epoch 53/80\n",
      "epoch 53 average loss: 0.5282\n"
     ]
    },
    {
     "name": "stderr",
     "output_type": "stream",
     "text": [
      "Epochs:  66%|██████▋   | 53/80 [08:05<04:05,  9.08s/it]"
     ]
    },
    {
     "name": "stdout",
     "output_type": "stream",
     "text": [
      "1\n",
      "current epoch: 53 current AUC: 0.9887 current accuracy: 0.7764 best AUC: 0.9919 at epoch: 43\n",
      "----------\n",
      "epoch 54/80\n",
      "epoch 54 average loss: 0.5046\n"
     ]
    },
    {
     "name": "stderr",
     "output_type": "stream",
     "text": [
      "Epochs:  68%|██████▊   | 54/80 [08:14<03:56,  9.11s/it]"
     ]
    },
    {
     "name": "stdout",
     "output_type": "stream",
     "text": [
      "1\n",
      "current epoch: 54 current AUC: 0.9867 current accuracy: 0.8075 best AUC: 0.9919 at epoch: 43\n",
      "----------\n",
      "epoch 55/80\n",
      "epoch 55 average loss: 0.4968\n"
     ]
    },
    {
     "name": "stderr",
     "output_type": "stream",
     "text": [
      "Epochs:  69%|██████▉   | 55/80 [08:23<03:47,  9.09s/it]"
     ]
    },
    {
     "name": "stdout",
     "output_type": "stream",
     "text": [
      "1\n",
      "current epoch: 55 current AUC: 0.9899 current accuracy: 0.8447 best AUC: 0.9919 at epoch: 43\n",
      "----------\n",
      "epoch 56/80\n",
      "epoch 56 average loss: 0.4308\n"
     ]
    },
    {
     "name": "stderr",
     "output_type": "stream",
     "text": [
      "Epochs:  70%|███████   | 56/80 [08:32<03:38,  9.10s/it]"
     ]
    },
    {
     "name": "stdout",
     "output_type": "stream",
     "text": [
      "1\n",
      "current epoch: 56 current AUC: 0.9863 current accuracy: 0.8385 best AUC: 0.9919 at epoch: 43\n",
      "----------\n",
      "epoch 57/80\n",
      "epoch 57 average loss: 0.4972\n"
     ]
    },
    {
     "name": "stderr",
     "output_type": "stream",
     "text": [
      "Epochs:  71%|███████▏  | 57/80 [08:41<03:28,  9.06s/it]"
     ]
    },
    {
     "name": "stdout",
     "output_type": "stream",
     "text": [
      "1\n",
      "current epoch: 57 current AUC: 0.9830 current accuracy: 0.7826 best AUC: 0.9919 at epoch: 43\n",
      "----------\n",
      "epoch 58/80\n",
      "epoch 58 average loss: 0.5049\n"
     ]
    },
    {
     "name": "stderr",
     "output_type": "stream",
     "text": [
      "Epochs:  72%|███████▎  | 58/80 [08:51<03:20,  9.13s/it]"
     ]
    },
    {
     "name": "stdout",
     "output_type": "stream",
     "text": [
      "1\n",
      "current epoch: 58 current AUC: 0.9906 current accuracy: 0.8571 best AUC: 0.9919 at epoch: 43\n",
      "----------\n",
      "epoch 59/80\n",
      "epoch 59 average loss: 0.4476\n"
     ]
    },
    {
     "name": "stderr",
     "output_type": "stream",
     "text": [
      "Epochs:  74%|███████▍  | 59/80 [09:00<03:10,  9.08s/it]"
     ]
    },
    {
     "name": "stdout",
     "output_type": "stream",
     "text": [
      "1\n",
      "current epoch: 59 current AUC: 0.9879 current accuracy: 0.8199 best AUC: 0.9919 at epoch: 43\n",
      "----------\n",
      "epoch 60/80\n",
      "epoch 60 average loss: 0.4711\n"
     ]
    },
    {
     "name": "stderr",
     "output_type": "stream",
     "text": [
      "Epochs:  75%|███████▌  | 60/80 [09:09<03:01,  9.09s/it]"
     ]
    },
    {
     "name": "stdout",
     "output_type": "stream",
     "text": [
      "1\n",
      "current epoch: 60 current AUC: 0.9896 current accuracy: 0.8385 best AUC: 0.9919 at epoch: 43\n",
      "----------\n",
      "epoch 61/80\n",
      "epoch 61 average loss: 0.5123\n"
     ]
    },
    {
     "name": "stderr",
     "output_type": "stream",
     "text": [
      "Epochs:  76%|███████▋  | 61/80 [09:18<02:52,  9.07s/it]"
     ]
    },
    {
     "name": "stdout",
     "output_type": "stream",
     "text": [
      "1\n",
      "current epoch: 61 current AUC: 0.9883 current accuracy: 0.8075 best AUC: 0.9919 at epoch: 43\n",
      "----------\n",
      "epoch 62/80\n",
      "epoch 62 average loss: 0.4869\n"
     ]
    },
    {
     "name": "stderr",
     "output_type": "stream",
     "text": [
      "Epochs:  78%|███████▊  | 62/80 [09:27<02:44,  9.12s/it]"
     ]
    },
    {
     "name": "stdout",
     "output_type": "stream",
     "text": [
      "1\n",
      "current epoch: 62 current AUC: 0.9826 current accuracy: 0.7578 best AUC: 0.9919 at epoch: 43\n",
      "----------\n",
      "epoch 63/80\n",
      "epoch 63 average loss: 0.4731\n"
     ]
    },
    {
     "name": "stderr",
     "output_type": "stream",
     "text": [
      "Epochs:  79%|███████▉  | 63/80 [09:36<02:33,  9.06s/it]"
     ]
    },
    {
     "name": "stdout",
     "output_type": "stream",
     "text": [
      "1\n",
      "current epoch: 63 current AUC: 0.9859 current accuracy: 0.7702 best AUC: 0.9919 at epoch: 43\n",
      "----------\n",
      "epoch 64/80\n",
      "epoch 64 average loss: 0.4741\n",
      "1\n"
     ]
    },
    {
     "name": "stderr",
     "output_type": "stream",
     "text": [
      "Epochs:  80%|████████  | 64/80 [09:45<02:26,  9.15s/it]"
     ]
    },
    {
     "name": "stdout",
     "output_type": "stream",
     "text": [
      "saved new best metric model\n",
      "current epoch: 64 current AUC: 0.9957 current accuracy: 0.8882 best AUC: 0.9957 at epoch: 64\n",
      "----------\n",
      "epoch 65/80\n",
      "epoch 65 average loss: 0.4662\n"
     ]
    },
    {
     "name": "stderr",
     "output_type": "stream",
     "text": [
      "Epochs:  81%|████████▏ | 65/80 [09:54<02:16,  9.11s/it]"
     ]
    },
    {
     "name": "stdout",
     "output_type": "stream",
     "text": [
      "1\n",
      "current epoch: 65 current AUC: 0.9830 current accuracy: 0.7640 best AUC: 0.9957 at epoch: 64\n",
      "----------\n",
      "epoch 66/80\n",
      "epoch 66 average loss: 0.4191\n"
     ]
    },
    {
     "name": "stderr",
     "output_type": "stream",
     "text": [
      "Epochs:  82%|████████▎ | 66/80 [10:03<02:06,  9.07s/it]"
     ]
    },
    {
     "name": "stdout",
     "output_type": "stream",
     "text": [
      "1\n",
      "current epoch: 66 current AUC: 0.9885 current accuracy: 0.8075 best AUC: 0.9957 at epoch: 64\n",
      "----------\n",
      "epoch 67/80\n",
      "epoch 67 average loss: 0.4458\n"
     ]
    },
    {
     "name": "stderr",
     "output_type": "stream",
     "text": [
      "Epochs:  84%|████████▍ | 67/80 [10:12<01:57,  9.06s/it]"
     ]
    },
    {
     "name": "stdout",
     "output_type": "stream",
     "text": [
      "1\n",
      "current epoch: 67 current AUC: 0.9897 current accuracy: 0.8385 best AUC: 0.9957 at epoch: 64\n",
      "----------\n",
      "epoch 68/80\n",
      "epoch 68 average loss: 0.4465\n"
     ]
    },
    {
     "name": "stderr",
     "output_type": "stream",
     "text": [
      "Epochs:  85%|████████▌ | 68/80 [10:21<01:48,  9.07s/it]"
     ]
    },
    {
     "name": "stdout",
     "output_type": "stream",
     "text": [
      "1\n",
      "current epoch: 68 current AUC: 0.9872 current accuracy: 0.8261 best AUC: 0.9957 at epoch: 64\n",
      "----------\n",
      "epoch 69/80\n",
      "epoch 69 average loss: 0.4498\n"
     ]
    },
    {
     "name": "stderr",
     "output_type": "stream",
     "text": [
      "Epochs:  86%|████████▋ | 69/80 [10:30<01:40,  9.09s/it]"
     ]
    },
    {
     "name": "stdout",
     "output_type": "stream",
     "text": [
      "1\n",
      "current epoch: 69 current AUC: 0.9829 current accuracy: 0.8012 best AUC: 0.9957 at epoch: 64\n",
      "----------\n",
      "epoch 70/80\n",
      "epoch 70 average loss: 0.4758\n"
     ]
    },
    {
     "name": "stderr",
     "output_type": "stream",
     "text": [
      "Epochs:  88%|████████▊ | 70/80 [10:39<01:30,  9.02s/it]"
     ]
    },
    {
     "name": "stdout",
     "output_type": "stream",
     "text": [
      "1\n",
      "current epoch: 70 current AUC: 0.9836 current accuracy: 0.7640 best AUC: 0.9957 at epoch: 64\n",
      "----------\n",
      "epoch 71/80\n",
      "epoch 71 average loss: 0.4426\n"
     ]
    },
    {
     "name": "stderr",
     "output_type": "stream",
     "text": [
      "Epochs:  89%|████████▉ | 71/80 [10:48<01:20,  8.96s/it]"
     ]
    },
    {
     "name": "stdout",
     "output_type": "stream",
     "text": [
      "1\n",
      "current epoch: 71 current AUC: 0.9877 current accuracy: 0.8447 best AUC: 0.9957 at epoch: 64\n",
      "----------\n",
      "epoch 72/80\n",
      "epoch 72 average loss: 0.4474\n"
     ]
    },
    {
     "name": "stderr",
     "output_type": "stream",
     "text": [
      "Epochs:  90%|█████████ | 72/80 [10:57<01:11,  8.96s/it]"
     ]
    },
    {
     "name": "stdout",
     "output_type": "stream",
     "text": [
      "1\n",
      "current epoch: 72 current AUC: 0.9930 current accuracy: 0.8634 best AUC: 0.9957 at epoch: 64\n",
      "----------\n",
      "epoch 73/80\n",
      "epoch 73 average loss: 0.4342\n"
     ]
    },
    {
     "name": "stderr",
     "output_type": "stream",
     "text": [
      "Epochs:  91%|█████████▏| 73/80 [11:06<01:02,  8.95s/it]"
     ]
    },
    {
     "name": "stdout",
     "output_type": "stream",
     "text": [
      "1\n",
      "current epoch: 73 current AUC: 0.9832 current accuracy: 0.7764 best AUC: 0.9957 at epoch: 64\n",
      "----------\n",
      "epoch 74/80\n",
      "epoch 74 average loss: 0.4419\n"
     ]
    },
    {
     "name": "stderr",
     "output_type": "stream",
     "text": [
      "Epochs:  92%|█████████▎| 74/80 [11:15<00:53,  8.89s/it]"
     ]
    },
    {
     "name": "stdout",
     "output_type": "stream",
     "text": [
      "1\n",
      "current epoch: 74 current AUC: 0.9836 current accuracy: 0.8261 best AUC: 0.9957 at epoch: 64\n",
      "----------\n",
      "epoch 75/80\n",
      "epoch 75 average loss: 0.4301\n"
     ]
    },
    {
     "name": "stderr",
     "output_type": "stream",
     "text": [
      "Epochs:  94%|█████████▍| 75/80 [11:24<00:44,  8.87s/it]"
     ]
    },
    {
     "name": "stdout",
     "output_type": "stream",
     "text": [
      "1\n",
      "current epoch: 75 current AUC: 0.9919 current accuracy: 0.8323 best AUC: 0.9957 at epoch: 64\n",
      "----------\n",
      "epoch 76/80\n",
      "epoch 76 average loss: 0.4286\n"
     ]
    },
    {
     "name": "stderr",
     "output_type": "stream",
     "text": [
      "Epochs:  95%|█████████▌| 76/80 [11:32<00:35,  8.86s/it]"
     ]
    },
    {
     "name": "stdout",
     "output_type": "stream",
     "text": [
      "1\n",
      "current epoch: 76 current AUC: 0.9895 current accuracy: 0.8571 best AUC: 0.9957 at epoch: 64\n",
      "----------\n",
      "epoch 77/80\n",
      "epoch 77 average loss: 0.4736\n"
     ]
    },
    {
     "name": "stderr",
     "output_type": "stream",
     "text": [
      "Epochs:  96%|█████████▋| 77/80 [11:41<00:26,  8.86s/it]"
     ]
    },
    {
     "name": "stdout",
     "output_type": "stream",
     "text": [
      "1\n",
      "current epoch: 77 current AUC: 0.9932 current accuracy: 0.8758 best AUC: 0.9957 at epoch: 64\n",
      "----------\n",
      "epoch 78/80\n",
      "epoch 78 average loss: 0.4216\n"
     ]
    },
    {
     "name": "stderr",
     "output_type": "stream",
     "text": [
      "Epochs:  98%|█████████▊| 78/80 [11:50<00:17,  8.86s/it]"
     ]
    },
    {
     "name": "stdout",
     "output_type": "stream",
     "text": [
      "1\n",
      "current epoch: 78 current AUC: 0.9857 current accuracy: 0.8075 best AUC: 0.9957 at epoch: 64\n",
      "----------\n",
      "epoch 79/80\n",
      "epoch 79 average loss: 0.3725\n"
     ]
    },
    {
     "name": "stderr",
     "output_type": "stream",
     "text": [
      "Epochs:  99%|█████████▉| 79/80 [11:59<00:08,  8.87s/it]"
     ]
    },
    {
     "name": "stdout",
     "output_type": "stream",
     "text": [
      "1\n",
      "current epoch: 79 current AUC: 0.9889 current accuracy: 0.8323 best AUC: 0.9957 at epoch: 64\n",
      "----------\n",
      "epoch 80/80\n",
      "epoch 80 average loss: 0.4217\n"
     ]
    },
    {
     "name": "stderr",
     "output_type": "stream",
     "text": [
      "Epochs: 100%|██████████| 80/80 [12:08<00:00,  9.10s/it]"
     ]
    },
    {
     "name": "stdout",
     "output_type": "stream",
     "text": [
      "1\n",
      "current epoch: 80 current AUC: 0.9897 current accuracy: 0.8634 best AUC: 0.9957 at epoch: 64\n",
      "train completed, best_metric: 0.9957 at epoch: 64\n"
     ]
    },
    {
     "name": "stderr",
     "output_type": "stream",
     "text": [
      "\n"
     ]
    }
   ],
   "source": [
    "best_metric = -1\n",
    "best_metric_epoch = -1\n",
    "epoch_loss_values = []\n",
    "metric_values = []\n",
    "writer = SummaryWriter()\n",
    "\n",
    "start_time = time.time()\n",
    "process = psutil.Process()\n",
    "start_cpu = process.cpu_times()\n",
    "start_mem = process.memory_info().rss / 1024**2  # В MB\n",
    "\n",
    "if device.type == \"cuda\":\n",
    "    torch.cuda.synchronize()\n",
    "    torch.cuda.reset_peak_memory_stats()\n",
    "\n",
    "for epoch in tqdm(range(max_epochs), desc=\"Epochs\"):\n",
    "    print(\"-\" * 10)\n",
    "    print(f\"epoch {epoch + 1}/{max_epochs}\")\n",
    "    model.train()\n",
    "    epoch_loss = 0\n",
    "    step = 0\n",
    "    \n",
    "    for batch_data in train_loader:\n",
    "        step += 1\n",
    "        images, labels = batch_data['images'], batch_data['label'][:, 0].type(torch.LongTensor).to(device)\n",
    "        axial, coronal, sagittal = images\n",
    "        optimizer.zero_grad()\n",
    "        outputs = model(sagittal.to(device))\n",
    "        loss = loss_function(outputs, labels)\n",
    "        loss.backward()\n",
    "        optimizer.step()\n",
    "        epoch_loss += loss.item()\n",
    "        epoch_len = len(train_dataset) // train_loader.batch_size\n",
    "        writer.add_scalar(\"train_loss\", loss.item(), epoch_len * epoch + step)\n",
    "        \n",
    "    epoch_loss /= step\n",
    "    epoch_loss_values.append(epoch_loss)\n",
    "    print(f\"epoch {epoch + 1} average loss: {epoch_loss:.4f}\")\n",
    "\n",
    "    if (epoch + 1) % val_interval == 0:\n",
    "        model.eval()\n",
    "        with torch.no_grad():\n",
    "            y_pred = torch.tensor([], dtype=torch.float32, device=device)\n",
    "            y = torch.tensor([], dtype=torch.long, device=device)\n",
    "            for val_data in val_loader:\n",
    "                val_images, val_labels = (\n",
    "                    val_data['images'],\n",
    "                    val_data['label'][:, 0].type(torch.LongTensor).to(device),\n",
    "                )\n",
    "                val_axial, val_coronal, val_sagittal = val_images\n",
    "                y_pred = torch.cat([y_pred, model(val_sagittal.to(device))], dim=0)\n",
    "                y = torch.cat([y, val_labels], dim=0)\n",
    "            y_onehot = [y_trans(i) for i in decollate_batch(y, detach=False)]\n",
    "            print('1')\n",
    "            y_pred_act = [y_pred_trans(i) for i in decollate_batch(y_pred)]\n",
    "            auc_metric(y_pred_act, y_onehot)\n",
    "            result = auc_metric.aggregate()\n",
    "            auc_metric.reset()\n",
    "            del y_pred_act, y_onehot\n",
    "            metric_values.append(result)\n",
    "            acc_value = torch.eq(y_pred.argmax(dim=1), y)\n",
    "            acc_metric = acc_value.sum().item() / len(acc_value)\n",
    "            if result > best_metric:\n",
    "                best_metric = result\n",
    "                best_metric_epoch = epoch + 1\n",
    "                torch.save(model.state_dict(), os.path.join(root_dir, \"sagittal_full_unpretrained.pth\"))\n",
    "                print(\"saved new best metric model\")\n",
    "            print(\n",
    "                f\"current epoch: {epoch + 1} current AUC: {result:.4f}\"\n",
    "                f\" current accuracy: {acc_metric:.4f}\"\n",
    "                f\" best AUC: {best_metric:.4f}\"\n",
    "                f\" at epoch: {best_metric_epoch}\"\n",
    "            )\n",
    "            writer.add_scalar(\"val_accuracy\", acc_metric, epoch + 1)\n",
    "\n",
    "print(f\"train completed, best_metric: {best_metric:.4f} \" f\"at epoch: {best_metric_epoch}\")\n",
    "writer.close()"
   ]
  },
  {
   "cell_type": "code",
   "execution_count": 60,
   "metadata": {},
   "outputs": [
    {
     "name": "stdout",
     "output_type": "stream",
     "text": [
      "Training time: 728.32 seconds\n",
      "CPU time used: 8693.11 seconds\n",
      "Memory used: -44.47 MB\n",
      "GPU Memory Used: 190.76 MB\n",
      "Max GPU Memory Used: 245.22 MB\n"
     ]
    }
   ],
   "source": [
    "end_time = time.time()\n",
    "end_cpu = process.cpu_times()\n",
    "end_mem = process.memory_info().rss / 1024**2\n",
    "\n",
    "cpu_time = (end_cpu.user + end_cpu.system) - (start_cpu.user + start_cpu.system)\n",
    "memory_used = end_mem - start_mem\n",
    "\n",
    "print(f\"Training time: {end_time - start_time:.2f} seconds\")\n",
    "print(f\"CPU time used: {cpu_time:.2f} seconds\")\n",
    "print(f\"Memory used: {memory_used:.2f} MB\")\n",
    "\n",
    "if device.type == \"cuda\":\n",
    "    torch.cuda.synchronize()\n",
    "    print(f\"GPU Memory Used: {torch.cuda.memory_allocated() / 1024**2:.2f} MB\")\n",
    "    print(f\"Max GPU Memory Used: {torch.cuda.max_memory_allocated() / 1024**2:.2f} MB\")"
   ]
  },
  {
   "cell_type": "code",
   "execution_count": 61,
   "metadata": {},
   "outputs": [
    {
     "data": {
      "image/png": "[encoded data removed]",
      "text/plain": [
       "<Figure size 1200x600 with 2 Axes>"
      ]
     },
     "metadata": {},
     "output_type": "display_data"
    }
   ],
   "source": [
    "plt.figure(\"train\", (12, 6))\n",
    "plt.subplot(1, 2, 1)\n",
    "plt.title(\"Epoch Average Loss\")\n",
    "x = [i + 1 for i in range(len(epoch_loss_values))]\n",
    "y = epoch_loss_values\n",
    "plt.xlabel(\"epoch\")\n",
    "plt.plot(x, y)\n",
    "plt.subplot(1, 2, 2)\n",
    "plt.title(\"Val AUC\")\n",
    "x = [val_interval * (i + 1) for i in range(len(metric_values))]\n",
    "y = metric_values\n",
    "plt.xlabel(\"epoch\")\n",
    "plt.plot(x, y)\n",
    "plt.show()"
   ]
  },
  {
   "cell_type": "markdown",
   "metadata": {},
   "source": [
    "### Evaluation"
   ]
  },
  {
   "cell_type": "code",
   "execution_count": 62,
   "metadata": {},
   "outputs": [],
   "source": [
    "model.load_state_dict(torch.load(os.path.join(root_dir, \"sagittal_full_unpretrained.pth\"), weights_only=True))\n",
    "model.eval()\n",
    "y_true = []\n",
    "y_pred = []\n",
    "example_axial = []\n",
    "example_coronal = []\n",
    "example_sagittal = []\n",
    "example_preds = []\n",
    "example_labels = []\n",
    "\n",
    "with torch.no_grad():\n",
    "    for test_data in test_loader:\n",
    "        test_images, test_labels = (\n",
    "            test_data['images'],\n",
    "            test_data['label'][:, 0].type(torch.LongTensor).to(device),\n",
    "        )\n",
    "        test_axial, test_coronal, test_sagittal = test_images\n",
    "        pred = model(test_axial.to(device)).argmax(dim=1)\n",
    "        for i in range(len(pred)):\n",
    "            y_true.append(test_labels[i].item())\n",
    "            y_pred.append(pred[i].item())\n",
    "\n",
    "        if len(example_axial) < 10:\n",
    "            example_axial.append(test_axial)\n",
    "            example_coronal.append(test_coronal)\n",
    "            example_sagittal.append(test_sagittal)\n",
    "            example_preds.append(pred)\n",
    "            example_labels.append(test_labels)"
   ]
  },
  {
   "cell_type": "code",
   "execution_count": 63,
   "metadata": {
    "scrolled": true
   },
   "outputs": [
    {
     "name": "stdout",
     "output_type": "stream",
     "text": [
      "              precision    recall  f1-score   support\n",
      "\n",
      "           0     0.6316    0.1739    0.2727        69\n",
      "           1     0.3250    0.1912    0.2407        68\n",
      "           2     0.1500    0.0870    0.1101        69\n",
      "           3     0.3590    0.2154    0.2692        65\n",
      "           4     0.3036    0.2615    0.2810        65\n",
      "           5     0.3546    0.7576    0.4831        66\n",
      "           6     0.1842    0.2500    0.2121        28\n",
      "           7     0.0000    0.0000    0.0000        21\n",
      "           8     0.2857    0.0952    0.1429        21\n",
      "           9     0.2302    0.4203    0.2974        69\n",
      "          10     0.2421    0.3333    0.2805        69\n",
      "\n",
      "    accuracy                         0.2836       610\n",
      "   macro avg     0.2787    0.2532    0.2354       610\n",
      "weighted avg     0.3053    0.2836    0.2611       610\n",
      "\n"
     ]
    }
   ],
   "source": [
    "report = classification_report(y_true, y_pred, target_names=info['label'], digits=4, output_dict=True)\n",
    "print(classification_report(y_true, y_pred, target_names=info['label'], digits=4))"
   ]
  },
  {
   "cell_type": "code",
   "execution_count": 64,
   "metadata": {},
   "outputs": [],
   "source": [
    "df = pd.DataFrame(report).transpose()\n",
    "df.to_csv(reports_dir+f'sagittal_random_unpretrained_seed{seed}.csv')"
   ]
  },
  {
   "cell_type": "code",
   "execution_count": 65,
   "metadata": {},
   "outputs": [
    {
     "name": "stdout",
     "output_type": "stream",
     "text": [
      "VRAM currently used: 190.75 MB\n",
      "Max VRAM used during training: 245.22 MB\n"
     ]
    }
   ],
   "source": [
    "if device.type == \"cuda\":\n",
    "    torch.cuda.synchronize()\n",
    "    vram_used = torch.cuda.memory_allocated() / 1024**2\n",
    "    vram_max_used = torch.cuda.max_memory_allocated() / 1024**2\n",
    "\n",
    "    print(f\"VRAM currently used: {vram_used:.2f} MB\")\n",
    "    print(f\"Max VRAM used during training: {vram_max_used:.2f} MB\")\n"
   ]
  },
  {
   "cell_type": "markdown",
   "metadata": {},
   "source": [
    "# Using 2d models as a backbone"
   ]
  },
  {
   "cell_type": "code",
   "execution_count": 66,
   "metadata": {},
   "outputs": [
    {
     "data": {
      "text/plain": [
       "<All keys matched successfully>"
      ]
     },
     "execution_count": 66,
     "metadata": {},
     "output_type": "execute_result"
    }
   ],
   "source": [
    "# Load the pretrained models for each slice direction\n",
    "model_axial = nets.resnet18(pretrained=False, spatial_dims=2, n_input_channels=9, num_classes=n_classes).to(device)\n",
    "model_coronal = nets.resnet18(pretrained=False, spatial_dims=2, n_input_channels=9, num_classes=n_classes).to(device)\n",
    "model_sagittal = nets.resnet18(pretrained=False, spatial_dims=2, n_input_channels=9, num_classes=n_classes).to(device)\n",
    "\n",
    "# Load the trained weights for each model\n",
    "model_axial.load_state_dict(torch.load(os.path.join(root_dir, \"axial_full_unpretrained.pth\"), weights_only=True))\n",
    "model_coronal.load_state_dict(torch.load(os.path.join(root_dir, \"coronal_full_unpretrained.pth\"), weights_only=True))\n",
    "model_sagittal.load_state_dict(torch.load(os.path.join(root_dir, \"sagittal_full_unpretrained.pth\"), weights_only=True))"
   ]
  },
  {
   "cell_type": "code",
   "execution_count": 67,
   "metadata": {},
   "outputs": [],
   "source": [
    "class CombinedResNetModel(nn.Module):\n",
    "    def __init__(self, model_axial, model_coronal, model_sagittal, num_classes=n_classes):\n",
    "        super(CombinedResNetModel, self).__init__()\n",
    "        \n",
    "        # Load pretrained 2D models (without their final classification layers)\n",
    "        self.model_axial = nn.Sequential(*list(model_axial.children())[:-1])\n",
    "        self.model_coronal = nn.Sequential(*list(model_coronal.children())[:-1])\n",
    "        self.model_sagittal = nn.Sequential(*list(model_sagittal.children())[:-1])\n",
    "\n",
    "        # Assuming each model outputs a 512-dimension feature vector (from ResNet18)\n",
    "        combined_feature_size = 512 * 3  # Concatenating features from all three directions\n",
    "        \n",
    "        # Final fully connected layer to classify the combined features\n",
    "        self.fc = nn.Linear(combined_feature_size, num_classes)\n",
    "\n",
    "    def forward(self, x):\n",
    "        slice_axial = np.random.randint(4, 58, dtype=int)\n",
    "        slice_coronal = np.random.randint(4, 58, dtype=int)\n",
    "        slice_sagittal = np.random.randint(4, 58, dtype=int)\n",
    "        \n",
    "        axial = x[:, :, slice_axial-4:slice_axial+5, :, :][:, 0].to(torch.float32)\n",
    "        coronal = x[:, :, :, slice_coronal-4:slice_coronal+5, :][:, 0].permute(0, 2, 3, 1).to(torch.float32)\n",
    "        sagittal = x[:, :, :, :, slice_sagittal-4:slice_sagittal+5][:, 0].permute(0, 3, 1, 2).to(torch.float32)\n",
    "\n",
    "        axial_features = self.model_axial(axial)  # Output: [batch_size, 512, 1, 1]\n",
    "        coronal_features = self.model_coronal(coronal)\n",
    "        sagittal_features = self.model_sagittal(sagittal)\n",
    "\n",
    "        axial_features = axial_features.view(axial_features.size(0), -1)  # [batch_size, 512]\n",
    "        coronal_features = coronal_features.view(coronal_features.size(0), -1)\n",
    "        sagittal_features = sagittal_features.view(sagittal_features.size(0), -1)\n",
    "\n",
    "        # Concatenate the features from all three slices\n",
    "        combined_features = torch.cat([axial_features, coronal_features, sagittal_features], dim=1)\n",
    "\n",
    "        # Final classification\n",
    "        out = self.fc(combined_features)\n",
    "        return out"
   ]
  },
  {
   "cell_type": "markdown",
   "metadata": {},
   "source": [
    "## Evaluation on a 3d dataset"
   ]
  },
  {
   "cell_type": "code",
   "execution_count": 68,
   "metadata": {},
   "outputs": [],
   "source": [
    "device = torch.device(\"cuda\" if torch.cuda.is_available() else \"cpu\")"
   ]
  },
  {
   "cell_type": "code",
   "execution_count": 69,
   "metadata": {},
   "outputs": [],
   "source": [
    "train_loader_3d = DataLoader(train_dataset, batch_size=32, shuffle=True)\n",
    "val_loader_3d = DataLoader(val_dataset, batch_size=32, shuffle=True)\n",
    "test_loader_3d = DataLoader(test_dataset, batch_size=32, shuffle=False)"
   ]
  },
  {
   "cell_type": "code",
   "execution_count": 70,
   "metadata": {},
   "outputs": [],
   "source": [
    "combined_model = CombinedResNetModel(model_axial, model_coronal, model_sagittal, num_classes=n_classes).to(device)\n",
    "\n",
    "loss_function = torch.nn.CrossEntropyLoss()\n",
    "optimizer = torch.optim.Adam(combined_model.fc.parameters(), lr=0.00005)"
   ]
  },
  {
   "cell_type": "code",
   "execution_count": 71,
   "metadata": {},
   "outputs": [
    {
     "name": "stdout",
     "output_type": "stream",
     "text": [
      "Epoch 1, Loss: 2.1483401560014292\n",
      "Epoch 2, Loss: 1.4494961461713236\n",
      "Epoch 3, Loss: 1.0011906143157714\n",
      "Epoch 4, Loss: 0.7308161854743958\n",
      "Epoch 5, Loss: 0.5646858138422812\n",
      "Epoch 6, Loss: 0.4410305407739455\n",
      "Epoch 7, Loss: 0.36764629617814093\n",
      "Epoch 8, Loss: 0.3260049046047272\n",
      "Epoch 9, Loss: 0.27213007115548654\n",
      "Epoch 10, Loss: 0.25140724787789004\n",
      "Epoch 11, Loss: 0.22213659459544766\n",
      "Epoch 12, Loss: 0.1955424758695787\n",
      "Epoch 13, Loss: 0.1972628173328215\n",
      "Epoch 14, Loss: 0.1726057231426239\n",
      "Epoch 15, Loss: 0.15994358206948928\n",
      "Epoch 16, Loss: 0.1480981933493768\n",
      "Epoch 17, Loss: 0.1396837902645911\n",
      "Epoch 18, Loss: 0.13800156789441262\n",
      "Epoch 19, Loss: 0.13624908654920517\n",
      "Epoch 20, Loss: 0.14454671980873232\n",
      "Epoch 21, Loss: 0.11501783949713554\n",
      "Epoch 22, Loss: 0.10377685713671869\n",
      "Epoch 23, Loss: 0.10886228457093239\n",
      "Epoch 24, Loss: 0.09844503683909293\n",
      "Epoch 25, Loss: 0.09812505026498149\n",
      "Epoch 26, Loss: 0.09811850156514876\n",
      "Epoch 27, Loss: 0.0956442638510658\n",
      "Epoch 28, Loss: 0.08978378352138304\n",
      "Epoch 29, Loss: 0.08561974944126222\n",
      "Epoch 30, Loss: 0.08836075134815709\n"
     ]
    }
   ],
   "source": [
    "start_time = time.time()\n",
    "process = psutil.Process()\n",
    "start_cpu = process.cpu_times()\n",
    "start_mem = process.memory_info().rss / 1024**2  # В MB\n",
    "\n",
    "if device.type == \"cuda\":\n",
    "    torch.cuda.synchronize()\n",
    "    torch.cuda.reset_peak_memory_stats()\n",
    "\n",
    "for epoch in range(30):\n",
    "    combined_model.train()\n",
    "    running_loss = 0.0\n",
    "    for data in train_loader_3d:\n",
    "        images, labels = data\n",
    "        images, labels = images.to(device), labels.type(torch.LongTensor).to(device)\n",
    "\n",
    "        optimizer.zero_grad()\n",
    "\n",
    "        outputs = combined_model(images)\n",
    "        loss = loss_function(outputs, labels[:, 0])\n",
    "\n",
    "        loss.backward()\n",
    "        optimizer.step()\n",
    "\n",
    "        running_loss += loss.item()\n",
    "\n",
    "    print(f\"Epoch {epoch+1}, Loss: {running_loss/len(train_loader_3d)}\")"
   ]
  },
  {
   "cell_type": "code",
   "execution_count": 72,
   "metadata": {},
   "outputs": [
    {
     "name": "stdout",
     "output_type": "stream",
     "text": [
      "Training time: 50.11 seconds\n",
      "CPU time used: 600.65 seconds\n",
      "Memory used: 34.44 MB\n",
      "GPU Memory Used: 392.28 MB\n",
      "Max GPU Memory Used: 1119.08 MB\n"
     ]
    }
   ],
   "source": [
    "end_time = time.time()\n",
    "end_cpu = process.cpu_times()\n",
    "end_mem = process.memory_info().rss / 1024**2\n",
    "\n",
    "cpu_time = (end_cpu.user + end_cpu.system) - (start_cpu.user + start_cpu.system)\n",
    "memory_used = end_mem - start_mem\n",
    "\n",
    "print(f\"Training time: {end_time - start_time:.2f} seconds\")\n",
    "print(f\"CPU time used: {cpu_time:.2f} seconds\")\n",
    "print(f\"Memory used: {memory_used:.2f} MB\")\n",
    "\n",
    "if device.type == \"cuda\":\n",
    "    torch.cuda.synchronize()\n",
    "    print(f\"GPU Memory Used: {torch.cuda.memory_allocated() / 1024**2:.2f} MB\")\n",
    "    print(f\"Max GPU Memory Used: {torch.cuda.max_memory_allocated() / 1024**2:.2f} MB\")\n"
   ]
  },
  {
   "cell_type": "code",
   "execution_count": 73,
   "metadata": {},
   "outputs": [
    {
     "name": "stdout",
     "output_type": "stream",
     "text": [
      "VRAM currently used: 392.28 MB\n",
      "Max VRAM used during training: 1119.08 MB\n"
     ]
    }
   ],
   "source": [
    "if device.type == \"cuda\":\n",
    "    torch.cuda.synchronize()\n",
    "    vram_used = torch.cuda.memory_allocated() / 1024**2\n",
    "    vram_max_used = torch.cuda.max_memory_allocated() / 1024**2\n",
    "\n",
    "    print(f\"VRAM currently used: {vram_used:.2f} MB\")\n",
    "    print(f\"Max VRAM used during training: {vram_max_used:.2f} MB\")\n"
   ]
  },
  {
   "cell_type": "code",
   "execution_count": 74,
   "metadata": {},
   "outputs": [
    {
     "name": "stdout",
     "output_type": "stream",
     "text": [
      "Validation AUC: 1.0000\n"
     ]
    }
   ],
   "source": [
    "combined_model.eval()\n",
    "with torch.no_grad():\n",
    "    y_pred = torch.tensor([], dtype=torch.float32, device=device)\n",
    "    y = torch.tensor([], dtype=torch.long, device=device)\n",
    "    for val_data in val_loader_3d:\n",
    "        val_images, val_labels = val_data\n",
    "\n",
    "        output = combined_model(val_images.to(device))\n",
    "        \n",
    "        y_pred = torch.cat([y_pred, output], dim=0)\n",
    "        y = torch.cat([y, val_labels.to(device)], dim=0)\n",
    "\n",
    "    # Evaluate AUC and accuracy\n",
    "    y_onehot = [y_trans(i) for i in decollate_batch(y, detach=False)]\n",
    "    y_pred_act = [y_pred_trans(i) for i in decollate_batch(y_pred)]\n",
    "    auc_metric(y_pred_act, y_onehot)\n",
    "    result = auc_metric.aggregate()\n",
    "    auc_metric.reset()\n",
    "\n",
    "    print(f\"Validation AUC: {result:.4f}\")"
   ]
  },
  {
   "cell_type": "code",
   "execution_count": 75,
   "metadata": {},
   "outputs": [
    {
     "name": "stdout",
     "output_type": "stream",
     "text": [
      "Test AUC: 0.9960\n"
     ]
    }
   ],
   "source": [
    "combined_model.eval()\n",
    "y_true = []\n",
    "y_predicted = []\n",
    "example_image = []\n",
    "example_preds = []\n",
    "example_labels = []\n",
    "\n",
    "with torch.no_grad():\n",
    "    y_pred = torch.tensor([], dtype=torch.float32, device=device)\n",
    "    y = torch.tensor([], dtype=torch.long, device=device)\n",
    "    for test_data in test_loader_3d:\n",
    "        test_images, test_labels = test_data\n",
    "\n",
    "        output = combined_model(test_images.to(device))\n",
    "        pred = output.argmax(dim=1)\n",
    "        \n",
    "        for i in range(len(pred)):\n",
    "            y_true.append(test_labels[i].item())\n",
    "            y_predicted.append(pred[i].item())\n",
    "\n",
    "        y_pred = torch.cat([y_pred, output], dim=0)\n",
    "        y = torch.cat([y, test_labels.to(device)], dim=0)\n",
    "\n",
    "    # Evaluate AUC and accuracy\n",
    "    y_onehot = [y_trans(i) for i in decollate_batch(y, detach=False)]\n",
    "    y_pred_act = [y_pred_trans(i) for i in decollate_batch(y_pred)]\n",
    "    auc_metric(y_pred_act, y_onehot)\n",
    "    result = auc_metric.aggregate()\n",
    "    auc_metric.reset()\n",
    "\n",
    "    print(f\"Test AUC: {result:.4f}\")"
   ]
  },
  {
   "cell_type": "code",
   "execution_count": 76,
   "metadata": {
    "scrolled": true
   },
   "outputs": [
    {
     "name": "stdout",
     "output_type": "stream",
     "text": [
      "              precision    recall  f1-score   support\n",
      "\n",
      "           0     0.9857    1.0000    0.9928        69\n",
      "           1     0.8889    0.8235    0.8550        68\n",
      "           2     0.8382    0.8261    0.8321        69\n",
      "           3     0.8462    0.8462    0.8462        65\n",
      "           4     0.8143    0.8769    0.8444        65\n",
      "           5     1.0000    0.9091    0.9524        66\n",
      "           6     1.0000    1.0000    1.0000        28\n",
      "           7     1.0000    1.0000    1.0000        21\n",
      "           8     1.0000    1.0000    1.0000        21\n",
      "           9     0.9571    0.9710    0.9640        69\n",
      "          10     0.9324    1.0000    0.9650        69\n",
      "\n",
      "    accuracy                         0.9180       610\n",
      "   macro avg     0.9330    0.9321    0.9320       610\n",
      "weighted avg     0.9190    0.9180    0.9179       610\n",
      "\n"
     ]
    }
   ],
   "source": [
    "report = classification_report(y_true, y_predicted, target_names=info['label'], digits=4, output_dict=True)\n",
    "report.update({\"AUC\": f\"{result:.4f}\"})\n",
    "print(classification_report(y_true, y_predicted, target_names=info['label'], digits=4))"
   ]
  },
  {
   "cell_type": "code",
   "execution_count": 77,
   "metadata": {},
   "outputs": [],
   "source": [
    "df = pd.DataFrame(report).transpose()\n",
    "df.to_csv(reports_dir+f'combined_unpretrained_random_seed{seed}.csv')"
   ]
  },
  {
   "cell_type": "code",
   "execution_count": 78,
   "metadata": {},
   "outputs": [
    {
     "name": "stdout",
     "output_type": "stream",
     "text": [
      "VRAM currently used: 392.90 MB\n",
      "Max VRAM used during training: 1119.08 MB\n"
     ]
    }
   ],
   "source": [
    "if device.type == \"cuda\":\n",
    "    torch.cuda.synchronize()\n",
    "    vram_used = torch.cuda.memory_allocated() / 1024**2\n",
    "    vram_max_used = torch.cuda.max_memory_allocated() / 1024**2\n",
    "\n",
    "    print(f\"VRAM currently used: {vram_used:.2f} MB\")\n",
    "    print(f\"Max VRAM used during training: {vram_max_used:.2f} MB\")\n"
   ]
  },
  {
   "cell_type": "markdown",
   "metadata": {},
   "source": [
    "### Pretrained"
   ]
  },
  {
   "cell_type": "code",
   "execution_count": 79,
   "metadata": {},
   "outputs": [],
   "source": [
    "train_loader_3d = DataLoader(train_dataset, batch_size=32, shuffle=True)\n",
    "val_loader_3d = DataLoader(val_dataset, batch_size=32, shuffle=True)\n",
    "test_loader_3d = DataLoader(test_dataset, batch_size=32, shuffle=False)"
   ]
  },
  {
   "cell_type": "code",
   "execution_count": 80,
   "metadata": {},
   "outputs": [
    {
     "name": "stderr",
     "output_type": "stream",
     "text": [
      "/opt/conda/lib/python3.10/site-packages/torchvision/models/_utils.py:208: UserWarning: The parameter 'pretrained' is deprecated since 0.13 and may be removed in the future, please use 'weights' instead.\n",
      "  warnings.warn(\n",
      "/opt/conda/lib/python3.10/site-packages/torchvision/models/_utils.py:223: UserWarning: Arguments other than a weight enum or `None` for 'weights' are deprecated since 0.13 and may be removed in the future. The current behavior is equivalent to passing `weights=ResNet18_Weights.IMAGENET1K_V1`. You can also use `weights=ResNet18_Weights.DEFAULT` to get the most up-to-date weights.\n",
      "  warnings.warn(msg)\n"
     ]
    },
    {
     "data": {
      "text/plain": [
       "<All keys matched successfully>"
      ]
     },
     "execution_count": 80,
     "metadata": {},
     "output_type": "execute_result"
    }
   ],
   "source": [
    "model = models.resnet18(pretrained=True).to(device)\n",
    "model.conv1 = nn.Conv2d(9, 64, kernel_size=7, stride=2, padding=3, bias=False)\n",
    "model.fc = nn.Linear(model.fc.in_features, n_classes)\n",
    "model_axial = model.to(device)\n",
    "model_coronal = model.to(device)\n",
    "model_sagittal = model.to(device)\n",
    "\n",
    "model_axial.load_state_dict(torch.load(os.path.join(root_dir, \"axial_full_pretrained.pth\"), weights_only=True))\n",
    "model_coronal.load_state_dict(torch.load(os.path.join(root_dir, \"coronal_full_pretrained.pth\"), weights_only=True))\n",
    "model_sagittal.load_state_dict(torch.load(os.path.join(root_dir, \"sagittal_full_pretrained.pth\"), weights_only=True))"
   ]
  },
  {
   "cell_type": "code",
   "execution_count": 81,
   "metadata": {},
   "outputs": [],
   "source": [
    "combined_model = CombinedResNetModel(model_axial, model_coronal, model_sagittal, num_classes=n_classes).to(device)\n",
    "\n",
    "loss_function = torch.nn.CrossEntropyLoss()\n",
    "optimizer = torch.optim.Adam(combined_model.fc.parameters(), lr=0.00005)"
   ]
  },
  {
   "cell_type": "code",
   "execution_count": 82,
   "metadata": {},
   "outputs": [
    {
     "name": "stderr",
     "output_type": "stream",
     "text": [
      "Epochs:   3%|3         | 1/30 [00:01<00:43,  1.49s/it, train_loss=2.2]"
     ]
    },
    {
     "name": "stdout",
     "output_type": "stream",
     "text": [
      "Epoch 1, Loss: 2.344799330157618\n"
     ]
    },
    {
     "name": "stderr",
     "output_type": "stream",
     "text": [
      "Epochs:   7%|6         | 2/30 [00:02<00:39,  1.41s/it, train_loss=1.34]"
     ]
    },
    {
     "name": "stdout",
     "output_type": "stream",
     "text": [
      "Epoch 2, Loss: 1.7669302378931353\n"
     ]
    },
    {
     "name": "stderr",
     "output_type": "stream",
     "text": [
      "Epochs:  10%|#         | 3/30 [00:04<00:37,  1.38s/it, train_loss=1.21]"
     ]
    },
    {
     "name": "stdout",
     "output_type": "stream",
     "text": [
      "Epoch 3, Loss: 1.3473942395179503\n"
     ]
    },
    {
     "name": "stderr",
     "output_type": "stream",
     "text": [
      "Epochs:  13%|#3        | 4/30 [00:05<00:35,  1.37s/it, train_loss=1.16]"
     ]
    },
    {
     "name": "stdout",
     "output_type": "stream",
     "text": [
      "Epoch 4, Loss: 1.1055529444448409\n"
     ]
    },
    {
     "name": "stderr",
     "output_type": "stream",
     "text": [
      "Epochs:  17%|#6        | 5/30 [00:06<00:34,  1.36s/it, train_loss=0.828]"
     ]
    },
    {
     "name": "stdout",
     "output_type": "stream",
     "text": [
      "Epoch 5, Loss: 0.8936517315526162\n"
     ]
    },
    {
     "name": "stderr",
     "output_type": "stream",
     "text": [
      "Epochs:  20%|##        | 6/30 [00:08<00:32,  1.36s/it, train_loss=0.894]"
     ]
    },
    {
     "name": "stdout",
     "output_type": "stream",
     "text": [
      "Epoch 6, Loss: 0.8003303331713523\n"
     ]
    },
    {
     "name": "stderr",
     "output_type": "stream",
     "text": [
      "Epochs:  23%|##3       | 7/30 [00:09<00:31,  1.35s/it, train_loss=0.847]"
     ]
    },
    {
     "name": "stdout",
     "output_type": "stream",
     "text": [
      "Epoch 7, Loss: 0.7058608974179914\n"
     ]
    },
    {
     "name": "stderr",
     "output_type": "stream",
     "text": [
      "Epochs:  27%|##6       | 8/30 [00:10<00:29,  1.35s/it, train_loss=0.578]"
     ]
    },
    {
     "name": "stdout",
     "output_type": "stream",
     "text": [
      "Epoch 8, Loss: 0.6008223881644588\n"
     ]
    },
    {
     "name": "stderr",
     "output_type": "stream",
     "text": [
      "Epochs:  30%|###       | 9/30 [00:12<00:28,  1.35s/it, train_loss=0.713]"
     ]
    },
    {
     "name": "stdout",
     "output_type": "stream",
     "text": [
      "Epoch 9, Loss: 0.565179007668649\n"
     ]
    },
    {
     "name": "stderr",
     "output_type": "stream",
     "text": [
      "Epochs:  33%|###3      | 10/30 [00:13<00:27,  1.35s/it, train_loss=0.629]"
     ]
    },
    {
     "name": "stdout",
     "output_type": "stream",
     "text": [
      "Epoch 10, Loss: 0.5104654671684388\n"
     ]
    },
    {
     "name": "stderr",
     "output_type": "stream",
     "text": [
      "Epochs:  37%|###6      | 11/30 [00:14<00:25,  1.35s/it, train_loss=0.729]"
     ]
    },
    {
     "name": "stdout",
     "output_type": "stream",
     "text": [
      "Epoch 11, Loss: 0.46981988799187446\n"
     ]
    },
    {
     "name": "stderr",
     "output_type": "stream",
     "text": [
      "Epochs:  40%|####      | 12/30 [00:16<00:24,  1.35s/it, train_loss=0.372]"
     ]
    },
    {
     "name": "stdout",
     "output_type": "stream",
     "text": [
      "Epoch 12, Loss: 0.4529131545174506\n"
     ]
    },
    {
     "name": "stderr",
     "output_type": "stream",
     "text": [
      "Epochs:  43%|####3     | 13/30 [00:17<00:22,  1.35s/it, train_loss=0.524]"
     ]
    },
    {
     "name": "stdout",
     "output_type": "stream",
     "text": [
      "Epoch 13, Loss: 0.4308737458721284\n"
     ]
    },
    {
     "name": "stderr",
     "output_type": "stream",
     "text": [
      "Epochs:  47%|####6     | 14/30 [00:19<00:21,  1.35s/it, train_loss=0.419]"
     ]
    },
    {
     "name": "stdout",
     "output_type": "stream",
     "text": [
      "Epoch 14, Loss: 0.40128247680202606\n"
     ]
    },
    {
     "name": "stderr",
     "output_type": "stream",
     "text": [
      "Epochs:  50%|#####     | 15/30 [00:20<00:20,  1.35s/it, train_loss=0.241]"
     ]
    },
    {
     "name": "stdout",
     "output_type": "stream",
     "text": [
      "Epoch 15, Loss: 0.3742558701384452\n"
     ]
    },
    {
     "name": "stderr",
     "output_type": "stream",
     "text": [
      "Epochs:  53%|#####3    | 16/30 [00:21<00:18,  1.35s/it, train_loss=0.403]"
     ]
    },
    {
     "name": "stdout",
     "output_type": "stream",
     "text": [
      "Epoch 16, Loss: 0.37303618798332827\n"
     ]
    },
    {
     "name": "stderr",
     "output_type": "stream",
     "text": [
      "Epochs:  57%|#####6    | 17/30 [00:23<00:17,  1.35s/it, train_loss=0.387]"
     ]
    },
    {
     "name": "stdout",
     "output_type": "stream",
     "text": [
      "Epoch 17, Loss: 0.35082494779940576\n"
     ]
    },
    {
     "name": "stderr",
     "output_type": "stream",
     "text": [
      "Epochs:  60%|######    | 18/30 [00:24<00:16,  1.35s/it, train_loss=0.521]"
     ]
    },
    {
     "name": "stdout",
     "output_type": "stream",
     "text": [
      "Epoch 18, Loss: 0.33508340053019986\n"
     ]
    },
    {
     "name": "stderr",
     "output_type": "stream",
     "text": [
      "Epochs:  63%|######3   | 19/30 [00:25<00:14,  1.35s/it, train_loss=0.299]"
     ]
    },
    {
     "name": "stdout",
     "output_type": "stream",
     "text": [
      "Epoch 19, Loss: 0.2943374495352468\n"
     ]
    },
    {
     "name": "stderr",
     "output_type": "stream",
     "text": [
      "Epochs:  67%|######6   | 20/30 [00:27<00:13,  1.34s/it, train_loss=0.327]"
     ]
    },
    {
     "name": "stdout",
     "output_type": "stream",
     "text": [
      "Epoch 20, Loss: 0.30641191188366185\n"
     ]
    },
    {
     "name": "stderr",
     "output_type": "stream",
     "text": [
      "Epochs:  70%|#######   | 21/30 [00:28<00:12,  1.34s/it, train_loss=0.209]"
     ]
    },
    {
     "name": "stdout",
     "output_type": "stream",
     "text": [
      "Epoch 21, Loss: 0.3244877770062416\n"
     ]
    },
    {
     "name": "stderr",
     "output_type": "stream",
     "text": [
      "Epochs:  73%|#######3  | 22/30 [00:29<00:10,  1.34s/it, train_loss=0.24] "
     ]
    },
    {
     "name": "stdout",
     "output_type": "stream",
     "text": [
      "Epoch 22, Loss: 0.2916384156673185\n"
     ]
    },
    {
     "name": "stderr",
     "output_type": "stream",
     "text": [
      "Epochs:  77%|#######6  | 23/30 [00:31<00:09,  1.34s/it, train_loss=0.472]"
     ]
    },
    {
     "name": "stdout",
     "output_type": "stream",
     "text": [
      "Epoch 23, Loss: 0.28771877697398585\n"
     ]
    },
    {
     "name": "stderr",
     "output_type": "stream",
     "text": [
      "Epochs:  80%|########  | 24/30 [00:32<00:08,  1.34s/it, train_loss=0.273]"
     ]
    },
    {
     "name": "stdout",
     "output_type": "stream",
     "text": [
      "Epoch 24, Loss: 0.2762724247670943\n"
     ]
    },
    {
     "name": "stderr",
     "output_type": "stream",
     "text": [
      "Epochs:  83%|########3 | 25/30 [00:33<00:06,  1.34s/it, train_loss=0.307]"
     ]
    },
    {
     "name": "stdout",
     "output_type": "stream",
     "text": [
      "Epoch 25, Loss: 0.27791202933557574\n"
     ]
    },
    {
     "name": "stderr",
     "output_type": "stream",
     "text": [
      "Epochs:  87%|########6 | 26/30 [00:35<00:05,  1.34s/it, train_loss=0.373]"
     ]
    },
    {
     "name": "stdout",
     "output_type": "stream",
     "text": [
      "Epoch 26, Loss: 0.24388534647803153\n"
     ]
    },
    {
     "name": "stderr",
     "output_type": "stream",
     "text": [
      "Epochs:  90%|######### | 27/30 [00:36<00:04,  1.34s/it, train_loss=0.131]"
     ]
    },
    {
     "name": "stdout",
     "output_type": "stream",
     "text": [
      "Epoch 27, Loss: 0.23977046435879124\n"
     ]
    },
    {
     "name": "stderr",
     "output_type": "stream",
     "text": [
      "Epochs:  93%|#########3| 28/30 [00:37<00:02,  1.34s/it, train_loss=0.379]"
     ]
    },
    {
     "name": "stdout",
     "output_type": "stream",
     "text": [
      "Epoch 28, Loss: 0.26136488827966875\n"
     ]
    },
    {
     "name": "stderr",
     "output_type": "stream",
     "text": [
      "Epochs:  97%|#########6| 29/30 [00:39<00:01,  1.34s/it, train_loss=0.332]"
     ]
    },
    {
     "name": "stdout",
     "output_type": "stream",
     "text": [
      "Epoch 29, Loss: 0.2633334205996606\n"
     ]
    },
    {
     "name": "stderr",
     "output_type": "stream",
     "text": [
      "Epochs: 100%|##########| 30/30 [00:40<00:00,  1.35s/it, train_loss=0.221]"
     ]
    },
    {
     "name": "stdout",
     "output_type": "stream",
     "text": [
      "Epoch 30, Loss: 0.2374926983348785\n"
     ]
    },
    {
     "name": "stderr",
     "output_type": "stream",
     "text": [
      "\n"
     ]
    }
   ],
   "source": [
    "start_time = time.time()\n",
    "process = psutil.Process()\n",
    "start_cpu = process.cpu_times()\n",
    "start_mem = process.memory_info().rss / 1024**2  # В MB\n",
    "\n",
    "if device.type == \"cuda\":\n",
    "    torch.cuda.synchronize()\n",
    "    torch.cuda.reset_peak_memory_stats()\n",
    "\n",
    "writer = SummaryWriter()\n",
    "epochs = tqdm(range(30), desc=\"Epochs\", leave=True, dynamic_ncols=True, ascii=True)\n",
    "\n",
    "for epoch in epochs:\n",
    "    combined_model.train()\n",
    "    running_loss = 0.0\n",
    "    for data in train_loader_3d:\n",
    "        images, labels = data\n",
    "        images, labels = images.to(device), labels.type(torch.LongTensor).to(device)\n",
    "\n",
    "        optimizer.zero_grad()\n",
    "\n",
    "        outputs = combined_model(images)\n",
    "        loss = loss_function(outputs, labels[:, 0])\n",
    "\n",
    "        loss.backward()\n",
    "        optimizer.step()\n",
    "\n",
    "        running_loss += loss.item()\n",
    "\n",
    "    writer.add_scalar(\"train_loss\", loss.item())\n",
    "    epochs.set_postfix(train_loss=loss.item())\n",
    "    tqdm.write(f\"Epoch {epoch+1}, Loss: {running_loss/len(train_loader_3d)}\")"
   ]
  },
  {
   "cell_type": "code",
   "execution_count": 83,
   "metadata": {},
   "outputs": [
    {
     "name": "stdout",
     "output_type": "stream",
     "text": [
      "Training time: 40.52 seconds\n",
      "CPU time used: 485.56 seconds\n",
      "Memory used: 15.44 MB\n",
      "GPU Memory Used: 129.13 MB\n",
      "Max GPU Memory Used: 594.37 MB\n"
     ]
    }
   ],
   "source": [
    "end_time = time.time()\n",
    "end_cpu = process.cpu_times()\n",
    "end_mem = process.memory_info().rss / 1024**2\n",
    "\n",
    "cpu_time = (end_cpu.user + end_cpu.system) - (start_cpu.user + start_cpu.system)\n",
    "memory_used = end_mem - start_mem\n",
    "\n",
    "print(f\"Training time: {end_time - start_time:.2f} seconds\")\n",
    "print(f\"CPU time used: {cpu_time:.2f} seconds\")\n",
    "print(f\"Memory used: {memory_used:.2f} MB\")\n",
    "\n",
    "if device.type == \"cuda\":\n",
    "    torch.cuda.synchronize()\n",
    "    print(f\"GPU Memory Used: {torch.cuda.memory_allocated() / 1024**2:.2f} MB\")\n",
    "    print(f\"Max GPU Memory Used: {torch.cuda.max_memory_allocated() / 1024**2:.2f} MB\")\n"
   ]
  },
  {
   "cell_type": "code",
   "execution_count": 84,
   "metadata": {},
   "outputs": [
    {
     "name": "stdout",
     "output_type": "stream",
     "text": [
      "VRAM currently used: 129.13 MB\n",
      "Max VRAM used during training: 594.37 MB\n"
     ]
    }
   ],
   "source": [
    "if device.type == \"cuda\":\n",
    "    torch.cuda.synchronize()\n",
    "    vram_used = torch.cuda.memory_allocated() / 1024**2\n",
    "    vram_max_used = torch.cuda.max_memory_allocated() / 1024**2\n",
    "\n",
    "    print(f\"VRAM currently used: {vram_used:.2f} MB\")\n",
    "    print(f\"Max VRAM used during training: {vram_max_used:.2f} MB\")\n"
   ]
  },
  {
   "cell_type": "code",
   "execution_count": 85,
   "metadata": {},
   "outputs": [
    {
     "name": "stdout",
     "output_type": "stream",
     "text": [
      "Validation AUC: 0.9994\n"
     ]
    }
   ],
   "source": [
    "combined_model.eval()\n",
    "with torch.no_grad():\n",
    "    y_pred = torch.tensor([], dtype=torch.float32, device=device)\n",
    "    y = torch.tensor([], dtype=torch.long, device=device)\n",
    "    for val_data in val_loader_3d:\n",
    "        val_images, val_labels = val_data\n",
    "\n",
    "        output = combined_model(val_images.to(device))\n",
    "        \n",
    "        y_pred = torch.cat([y_pred, output], dim=0)\n",
    "        y = torch.cat([y, val_labels.to(device)], dim=0)\n",
    "\n",
    "    # Evaluate AUC and accuracy\n",
    "    y_onehot = [y_trans(i) for i in decollate_batch(y, detach=False)]\n",
    "    y_pred_act = [y_pred_trans(i) for i in decollate_batch(y_pred)]\n",
    "    auc_metric(y_pred_act, y_onehot)\n",
    "    result = auc_metric.aggregate()\n",
    "    auc_metric.reset()\n",
    "\n",
    "    print(f\"Validation AUC: {result:.4f}\")"
   ]
  },
  {
   "cell_type": "code",
   "execution_count": 86,
   "metadata": {},
   "outputs": [
    {
     "name": "stdout",
     "output_type": "stream",
     "text": [
      "Test AUC: 0.9872\n"
     ]
    }
   ],
   "source": [
    "combined_model.eval()\n",
    "y_true = []\n",
    "y_predicted = []\n",
    "\n",
    "with torch.no_grad():\n",
    "    y_pred = torch.tensor([], dtype=torch.float32, device=device)\n",
    "    y = torch.tensor([], dtype=torch.long, device=device)\n",
    "    for test_data in test_loader_3d:\n",
    "        test_images, test_labels = test_data\n",
    "\n",
    "        output = combined_model(test_images.to(device))\n",
    "        pred = output.argmax(dim=1)\n",
    "        \n",
    "        for i in range(len(pred)):\n",
    "            y_true.append(test_labels[i].item())\n",
    "            y_predicted.append(pred[i].item())\n",
    "\n",
    "        y_pred = torch.cat([y_pred, output], dim=0)\n",
    "        y = torch.cat([y, test_labels.to(device)], dim=0)\n",
    "\n",
    "    # Evaluate AUC and accuracy\n",
    "    y_onehot = [y_trans(i) for i in decollate_batch(y, detach=False)]\n",
    "    y_pred_act = [y_pred_trans(i) for i in decollate_batch(y_pred)]\n",
    "    auc_metric(y_pred_act, y_onehot)\n",
    "    result = auc_metric.aggregate()\n",
    "    auc_metric.reset()\n",
    "\n",
    "    print(f\"Test AUC: {result:.4f}\")"
   ]
  },
  {
   "cell_type": "code",
   "execution_count": 87,
   "metadata": {
    "scrolled": true
   },
   "outputs": [
    {
     "name": "stdout",
     "output_type": "stream",
     "text": [
      "              precision    recall  f1-score   support\n",
      "\n",
      "           0     0.9444    0.9855    0.9645        69\n",
      "           1     0.7627    0.6618    0.7087        68\n",
      "           2     0.6875    0.6377    0.6617        69\n",
      "           3     0.8167    0.7538    0.7840        65\n",
      "           4     0.7910    0.8154    0.8030        65\n",
      "           5     0.8857    0.9394    0.9118        66\n",
      "           6     1.0000    0.8929    0.9434        28\n",
      "           7     0.9545    1.0000    0.9767        21\n",
      "           8     1.0000    0.9524    0.9756        21\n",
      "           9     0.8630    0.9130    0.8873        69\n",
      "          10     0.8718    0.9855    0.9252        69\n",
      "\n",
      "    accuracy                         0.8492       610\n",
      "   macro avg     0.8707    0.8670    0.8674       610\n",
      "weighted avg     0.8462    0.8492    0.8462       610\n",
      "\n"
     ]
    }
   ],
   "source": [
    "report = classification_report(y_true, y_predicted, target_names=info['label'], digits=4, output_dict=True)\n",
    "report.update({\"AUC\": f\"{result:.4f}\"})\n",
    "print(classification_report(y_true, y_predicted, target_names=info['label'], digits=4))"
   ]
  },
  {
   "cell_type": "code",
   "execution_count": 88,
   "metadata": {},
   "outputs": [],
   "source": [
    "df = pd.DataFrame(report).transpose()\n",
    "df.to_csv(reports_dir+f'combined_pretrained_random_seed{seed}.csv')"
   ]
  },
  {
   "cell_type": "code",
   "execution_count": 89,
   "metadata": {},
   "outputs": [
    {
     "name": "stdout",
     "output_type": "stream",
     "text": [
      "VRAM currently used: 129.13 MB\n",
      "Max VRAM used during training: 594.37 MB\n"
     ]
    }
   ],
   "source": [
    "if device.type == \"cuda\":\n",
    "    torch.cuda.synchronize()\n",
    "    vram_used = torch.cuda.memory_allocated() / 1024**2\n",
    "    vram_max_used = torch.cuda.max_memory_allocated() / 1024**2\n",
    "\n",
    "    print(f\"VRAM currently used: {vram_used:.2f} MB\")\n",
    "    print(f\"Max VRAM used during training: {vram_max_used:.2f} MB\")\n"
   ]
  },
  {
   "cell_type": "markdown",
   "metadata": {},
   "source": [
    "## Balanced concatenation"
   ]
  },
  {
   "cell_type": "code",
   "execution_count": 90,
   "metadata": {},
   "outputs": [],
   "source": [
    "def extract_metrics(file_path, has_auc=False):\n",
    "    df = pd.read_csv(file_path)\n",
    "    metrics = df.loc[df.index[-3], 'precision']\n",
    "    return metrics"
   ]
  },
  {
   "cell_type": "code",
   "execution_count": 91,
   "metadata": {},
   "outputs": [],
   "source": [
    "model_names = ['axial_random_unpretrained', 'coronal_random_unpretrained', \n",
    "               'sagittal_random_unpretrained']\n",
    "csv_files = {\n",
    "    model: glob.glob(reports_dir+f\"{model}_seed{seed}.csv\")\n",
    "    for model in model_names\n",
    "}"
   ]
  },
  {
   "cell_type": "code",
   "execution_count": 92,
   "metadata": {},
   "outputs": [],
   "source": [
    "results = {}\n",
    "for model, files in csv_files.items():\n",
    "    model_metrics = []\n",
    "    for file in files:\n",
    "        metrics = extract_metrics(file)\n",
    "    results[model] = metrics"
   ]
  },
  {
   "cell_type": "code",
   "execution_count": 93,
   "metadata": {},
   "outputs": [
    {
     "data": {
      "text/plain": [
       "{'axial_random_unpretrained': 0.8344262295081967,\n",
       " 'coronal_random_unpretrained': 0.2491803278688524,\n",
       " 'sagittal_random_unpretrained': 0.2836065573770492}"
      ]
     },
     "execution_count": 93,
     "metadata": {},
     "output_type": "execute_result"
    }
   ],
   "source": [
    "results"
   ]
  },
  {
   "cell_type": "code",
   "execution_count": 94,
   "metadata": {},
   "outputs": [
    {
     "name": "stdout",
     "output_type": "stream",
     "text": [
      "[0.6103117505995204, 0.18225419664268583, 0.2074340527577938]\n"
     ]
    }
   ],
   "source": [
    "accuracies = list(results.values())\n",
    "total_acc = sum(accuracies)\n",
    "print([acc / total_acc for acc in accuracies])"
   ]
  },
  {
   "cell_type": "code",
   "execution_count": 95,
   "metadata": {},
   "outputs": [],
   "source": [
    "class BalancedResNetModel(nn.Module):\n",
    "    def __init__(self, model_axial, model_coronal, model_sagittal, accuracies, num_classes=n_classes):\n",
    "        super(BalancedResNetModel, self).__init__()\n",
    "        \n",
    "        # Load pretrained 2D models (without their final classification layers)\n",
    "        self.model_axial = nn.Sequential(*list(model_axial.children())[:-1])\n",
    "        self.model_coronal = nn.Sequential(*list(model_coronal.children())[:-1])\n",
    "        self.model_sagittal = nn.Sequential(*list(model_sagittal.children())[:-1])\n",
    "\n",
    "        total_acc = sum(accuracies)\n",
    "        self.weights = [acc / total_acc for acc in accuracies]\n",
    "        \n",
    "        # Final fully connected layer to classify the combined features\n",
    "        self.fc = nn.Linear(512, num_classes)\n",
    "\n",
    "    def forward(self, x):\n",
    "        slice_axial = np.random.randint(4, 58, dtype=int)\n",
    "        slice_coronal = np.random.randint(4, 58, dtype=int)\n",
    "        slice_sagittal = np.random.randint(4, 58, dtype=int)\n",
    "        \n",
    "        axial = x[:, :, slice_axial-4:slice_axial+5, :, :][:, 0].to(torch.float32)\n",
    "        coronal = x[:, :, :, slice_coronal-4:slice_coronal+5, :][:, 0].permute(0, 2, 3, 1).to(torch.float32)\n",
    "        sagittal = x[:, :, :, :, slice_sagittal-4:slice_sagittal+5][:, 0].permute(0, 3, 1, 2).to(torch.float32)\n",
    "\n",
    "        axial_features = self.model_axial(axial)  # Output: [batch_size, 512, 1, 1]\n",
    "        coronal_features = self.model_coronal(coronal)\n",
    "        sagittal_features = self.model_sagittal(sagittal)\n",
    "\n",
    "        axial_features = axial_features.view(axial_features.size(0), -1)  # [batch_size, 512]\n",
    "        coronal_features = coronal_features.view(coronal_features.size(0), -1)\n",
    "        sagittal_features = sagittal_features.view(sagittal_features.size(0), -1)\n",
    "\n",
    "        # Weights balancing\n",
    "        weighted_features = (self.weights[0] * axial_features + self.weights[1] * coronal_features + \n",
    "                             self.weights[2] * sagittal_features)\n",
    "\n",
    "        # Final classification\n",
    "        out = self.fc(weighted_features)\n",
    "        return out"
   ]
  },
  {
   "cell_type": "code",
   "execution_count": 96,
   "metadata": {},
   "outputs": [
    {
     "data": {
      "text/plain": [
       "<All keys matched successfully>"
      ]
     },
     "execution_count": 96,
     "metadata": {},
     "output_type": "execute_result"
    }
   ],
   "source": [
    "# Load the pretrained models for each slice direction\n",
    "model_axial = nets.resnet18(pretrained=False, spatial_dims=2, n_input_channels=9, num_classes=n_classes).to(device)\n",
    "model_coronal = nets.resnet18(pretrained=False, spatial_dims=2, n_input_channels=9, num_classes=n_classes).to(device)\n",
    "model_sagittal = nets.resnet18(pretrained=False, spatial_dims=2, n_input_channels=9, num_classes=n_classes).to(device)\n",
    "\n",
    "# Load the trained weights for each model\n",
    "model_axial.load_state_dict(torch.load(os.path.join(root_dir, \"axial_full_unpretrained.pth\"), weights_only=True))\n",
    "model_coronal.load_state_dict(torch.load(os.path.join(root_dir, \"coronal_full_unpretrained.pth\"), weights_only=True))\n",
    "model_sagittal.load_state_dict(torch.load(os.path.join(root_dir, \"sagittal_full_unpretrained.pth\"), weights_only=True))"
   ]
  },
  {
   "cell_type": "code",
   "execution_count": 97,
   "metadata": {},
   "outputs": [],
   "source": [
    "train_loader_3d = DataLoader(train_dataset, batch_size=8, shuffle=True)\n",
    "val_loader_3d = DataLoader(val_dataset, batch_size=8, shuffle=True)\n",
    "test_loader_3d = DataLoader(test_dataset, batch_size=8, shuffle=False)"
   ]
  },
  {
   "cell_type": "code",
   "execution_count": 98,
   "metadata": {},
   "outputs": [],
   "source": [
    "balanced_model = BalancedResNetModel(model_axial, model_coronal, model_sagittal, accuracies=list(results.values()),\n",
    "                                     num_classes=n_classes).to(device)\n",
    "\n",
    "loss_function = torch.nn.CrossEntropyLoss()\n",
    "optimizer = torch.optim.Adam(balanced_model.fc.parameters(), lr=0.0005)"
   ]
  },
  {
   "cell_type": "code",
   "execution_count": 99,
   "metadata": {},
   "outputs": [
    {
     "name": "stdout",
     "output_type": "stream",
     "text": [
      "Epoch 1, Loss: 1.34913604376746\n",
      "Epoch 2, Loss: 0.5398012934649576\n",
      "Epoch 3, Loss: 0.36534587324398465\n",
      "Epoch 4, Loss: 0.28871161481518237\n",
      "Epoch 5, Loss: 0.2239573542639369\n",
      "Epoch 6, Loss: 0.21016142886803776\n",
      "Epoch 7, Loss: 0.2079352645172936\n",
      "Epoch 8, Loss: 0.1893281721219909\n",
      "Epoch 9, Loss: 0.17727294206985686\n",
      "Epoch 10, Loss: 0.15488636472308245\n",
      "Epoch 11, Loss: 0.1722132489428718\n",
      "Epoch 12, Loss: 0.1304700777438454\n",
      "Epoch 13, Loss: 0.13811604045026127\n",
      "Epoch 14, Loss: 0.15231657197286727\n",
      "Epoch 15, Loss: 0.13340962923238756\n",
      "Epoch 16, Loss: 0.1280424623276855\n",
      "Epoch 17, Loss: 0.14619294179175965\n",
      "Epoch 18, Loss: 0.11514809158569599\n",
      "Epoch 19, Loss: 0.11281396723047021\n",
      "Epoch 20, Loss: 0.13168694889917207\n",
      "Epoch 21, Loss: 0.11710276297621856\n",
      "Epoch 22, Loss: 0.10736640853059219\n",
      "Epoch 23, Loss: 0.10724321391326605\n",
      "Epoch 24, Loss: 0.11352320950951611\n",
      "Epoch 25, Loss: 0.11635505095254019\n",
      "Epoch 26, Loss: 0.1183425674184424\n",
      "Epoch 27, Loss: 0.12692324614598888\n",
      "Epoch 28, Loss: 0.1010399169114907\n",
      "Epoch 29, Loss: 0.10955911162633784\n",
      "Epoch 30, Loss: 0.08658477259593726\n"
     ]
    }
   ],
   "source": [
    "start_time = time.time()\n",
    "process = psutil.Process()\n",
    "start_cpu = process.cpu_times()\n",
    "start_mem = process.memory_info().rss / 1024**2  # В MB\n",
    "\n",
    "if device.type == \"cuda\":\n",
    "    torch.cuda.synchronize()\n",
    "    torch.cuda.reset_peak_memory_stats()\n",
    "\n",
    "for epoch in range(30):\n",
    "    balanced_model.train()\n",
    "    running_loss = 0.0\n",
    "    for data in train_loader_3d:\n",
    "        images, labels = data\n",
    "        images, labels = images.to(device), labels.type(torch.LongTensor).to(device)\n",
    "\n",
    "        optimizer.zero_grad()\n",
    "\n",
    "        outputs = balanced_model(images)\n",
    "        loss = loss_function(outputs, labels[:, 0])\n",
    "\n",
    "        loss.backward()\n",
    "        optimizer.step()\n",
    "\n",
    "        running_loss += loss.item()\n",
    "\n",
    "    print(f\"Epoch {epoch+1}, Loss: {running_loss/len(train_loader_3d)}\")"
   ]
  },
  {
   "cell_type": "code",
   "execution_count": 100,
   "metadata": {},
   "outputs": [
    {
     "name": "stdout",
     "output_type": "stream",
     "text": [
      "Training time: 86.38 seconds\n",
      "CPU time used: 1034.95 seconds\n",
      "Memory used: 22.95 MB\n",
      "GPU Memory Used: 375.81 MB\n",
      "Max GPU Memory Used: 573.95 MB\n"
     ]
    }
   ],
   "source": [
    "end_time = time.time()\n",
    "end_cpu = process.cpu_times()\n",
    "end_mem = process.memory_info().rss / 1024**2\n",
    "\n",
    "cpu_time = (end_cpu.user + end_cpu.system) - (start_cpu.user + start_cpu.system)\n",
    "memory_used = end_mem - start_mem\n",
    "\n",
    "print(f\"Training time: {end_time - start_time:.2f} seconds\")\n",
    "print(f\"CPU time used: {cpu_time:.2f} seconds\")\n",
    "print(f\"Memory used: {memory_used:.2f} MB\")\n",
    "\n",
    "if device.type == \"cuda\":\n",
    "    torch.cuda.synchronize()\n",
    "    print(f\"GPU Memory Used: {torch.cuda.memory_allocated() / 1024**2:.2f} MB\")\n",
    "    print(f\"Max GPU Memory Used: {torch.cuda.max_memory_allocated() / 1024**2:.2f} MB\")\n"
   ]
  },
  {
   "cell_type": "code",
   "execution_count": 101,
   "metadata": {},
   "outputs": [
    {
     "name": "stdout",
     "output_type": "stream",
     "text": [
      "VRAM currently used: 375.81 MB\n",
      "Max VRAM used during training: 573.95 MB\n"
     ]
    }
   ],
   "source": [
    "if device.type == \"cuda\":\n",
    "    torch.cuda.synchronize()\n",
    "    vram_used = torch.cuda.memory_allocated() / 1024**2\n",
    "    vram_max_used = torch.cuda.max_memory_allocated() / 1024**2\n",
    "\n",
    "    print(f\"VRAM currently used: {vram_used:.2f} MB\")\n",
    "    print(f\"Max VRAM used during training: {vram_max_used:.2f} MB\")\n"
   ]
  },
  {
   "cell_type": "code",
   "execution_count": 102,
   "metadata": {},
   "outputs": [
    {
     "name": "stdout",
     "output_type": "stream",
     "text": [
      "Validation AUC: 1.0000\n"
     ]
    }
   ],
   "source": [
    "balanced_model.eval()\n",
    "with torch.no_grad():\n",
    "    y_pred = torch.tensor([], dtype=torch.float32, device=device)\n",
    "    y = torch.tensor([], dtype=torch.long, device=device)\n",
    "    for val_data in val_loader_3d:\n",
    "        val_images, val_labels = val_data\n",
    "\n",
    "        output = balanced_model(val_images.to(device), )\n",
    "        \n",
    "        y_pred = torch.cat([y_pred, output], dim=0)\n",
    "        y = torch.cat([y, val_labels.to(device)], dim=0)\n",
    "\n",
    "    # Evaluate AUC and accuracy\n",
    "    y_onehot = [y_trans(i) for i in decollate_batch(y, detach=False)]\n",
    "    y_pred_act = [y_pred_trans(i) for i in decollate_batch(y_pred)]\n",
    "    auc_metric(y_pred_act, y_onehot)\n",
    "    result = auc_metric.aggregate()\n",
    "    auc_metric.reset()\n",
    "\n",
    "    print(f\"Validation AUC: {result:.4f}\")"
   ]
  },
  {
   "cell_type": "code",
   "execution_count": 103,
   "metadata": {},
   "outputs": [
    {
     "name": "stdout",
     "output_type": "stream",
     "text": [
      "Test AUC: 0.9946\n"
     ]
    }
   ],
   "source": [
    "balanced_model.eval()\n",
    "y_true = []\n",
    "y_predicted = []\n",
    "example_image = []\n",
    "example_preds = []\n",
    "example_labels = []\n",
    "\n",
    "with torch.no_grad():\n",
    "    y_pred = torch.tensor([], dtype=torch.float32, device=device)\n",
    "    y = torch.tensor([], dtype=torch.long, device=device)\n",
    "    for test_data in test_loader_3d:\n",
    "        test_images, test_labels = test_data\n",
    "\n",
    "        output = balanced_model(test_images.to(device))\n",
    "        pred = output.argmax(dim=1)\n",
    "        \n",
    "        for i in range(len(pred)):\n",
    "            y_true.append(test_labels[i].item())\n",
    "            y_predicted.append(pred[i].item())\n",
    "\n",
    "        y_pred = torch.cat([y_pred, output], dim=0)\n",
    "        y = torch.cat([y, test_labels.to(device)], dim=0)\n",
    "\n",
    "    # Evaluate AUC and accuracy\n",
    "    y_onehot = [y_trans(i) for i in decollate_batch(y, detach=False)]\n",
    "    y_pred_act = [y_pred_trans(i) for i in decollate_batch(y_pred)]\n",
    "    auc_metric(y_pred_act, y_onehot)\n",
    "    result = auc_metric.aggregate()\n",
    "    auc_metric.reset()\n",
    "\n",
    "    print(f\"Test AUC: {result:.4f}\")"
   ]
  },
  {
   "cell_type": "code",
   "execution_count": 104,
   "metadata": {
    "scrolled": true
   },
   "outputs": [
    {
     "name": "stdout",
     "output_type": "stream",
     "text": [
      "              precision    recall  f1-score   support\n",
      "\n",
      "           0     0.9857    1.0000    0.9928        69\n",
      "           1     0.8500    0.7500    0.7969        68\n",
      "           2     0.7794    0.7681    0.7737        69\n",
      "           3     0.8714    0.9385    0.9037        65\n",
      "           4     0.8939    0.9077    0.9008        65\n",
      "           5     0.9524    0.9091    0.9302        66\n",
      "           6     1.0000    1.0000    1.0000        28\n",
      "           7     0.9545    1.0000    0.9767        21\n",
      "           8     1.0000    0.9524    0.9756        21\n",
      "           9     0.9178    0.9710    0.9437        69\n",
      "          10     0.9571    0.9710    0.9640        69\n",
      "\n",
      "    accuracy                         0.9115       610\n",
      "   macro avg     0.9239    0.9243    0.9235       610\n",
      "weighted avg     0.9108    0.9115    0.9105       610\n",
      "\n"
     ]
    }
   ],
   "source": [
    "report = classification_report(y_true, y_predicted, target_names=info['label'], digits=4, output_dict=True)\n",
    "report.update({\"AUC\": f\"{result:.4f}\"})\n",
    "print(classification_report(y_true, y_predicted, target_names=info['label'], digits=4))"
   ]
  },
  {
   "cell_type": "code",
   "execution_count": 105,
   "metadata": {},
   "outputs": [],
   "source": [
    "df = pd.DataFrame(report).transpose()\n",
    "df.to_csv(reports_dir+f'balanced_unpretrained_random_seed{seed}.csv')"
   ]
  },
  {
   "cell_type": "code",
   "execution_count": 106,
   "metadata": {},
   "outputs": [
    {
     "name": "stdout",
     "output_type": "stream",
     "text": [
      "VRAM currently used: 375.81 MB\n",
      "Max VRAM used during training: 573.95 MB\n"
     ]
    }
   ],
   "source": [
    "if device.type == \"cuda\":\n",
    "    torch.cuda.synchronize()\n",
    "    vram_used = torch.cuda.memory_allocated() / 1024**2\n",
    "    vram_max_used = torch.cuda.max_memory_allocated() / 1024**2\n",
    "\n",
    "    print(f\"VRAM currently used: {vram_used:.2f} MB\")\n",
    "    print(f\"Max VRAM used during training: {vram_max_used:.2f} MB\")\n"
   ]
  },
  {
   "cell_type": "markdown",
   "metadata": {},
   "source": [
    "### Pretrained"
   ]
  },
  {
   "cell_type": "code",
   "execution_count": 107,
   "metadata": {},
   "outputs": [],
   "source": [
    "model_names = ['axial_random_pretrained', 'coronal_random_pretrained', 'sagittal_random_pretrained']\n",
    "csv_files = {\n",
    "    model: glob.glob(reports_dir+f\"{model}_seed{seed}.csv\")\n",
    "    for model in model_names\n",
    "}"
   ]
  },
  {
   "cell_type": "code",
   "execution_count": 108,
   "metadata": {},
   "outputs": [],
   "source": [
    "results = {}\n",
    "for model, files in csv_files.items():\n",
    "    model_metrics = []\n",
    "    for file in files:\n",
    "        metrics = extract_metrics(file)\n",
    "    results[model] = metrics"
   ]
  },
  {
   "cell_type": "code",
   "execution_count": 109,
   "metadata": {},
   "outputs": [
    {
     "name": "stdout",
     "output_type": "stream",
     "text": [
      "[0.33088725817211473, 0.36357571714476317, 0.30553702468312205]\n"
     ]
    }
   ],
   "source": [
    "accuracies = list(results.values())\n",
    "total_acc = sum(accuracies)\n",
    "print([acc / total_acc for acc in accuracies])"
   ]
  },
  {
   "cell_type": "code",
   "execution_count": 110,
   "metadata": {},
   "outputs": [
    {
     "name": "stderr",
     "output_type": "stream",
     "text": [
      "/opt/conda/lib/python3.10/site-packages/torchvision/models/_utils.py:208: UserWarning: The parameter 'pretrained' is deprecated since 0.13 and may be removed in the future, please use 'weights' instead.\n",
      "  warnings.warn(\n",
      "/opt/conda/lib/python3.10/site-packages/torchvision/models/_utils.py:223: UserWarning: Arguments other than a weight enum or `None` for 'weights' are deprecated since 0.13 and may be removed in the future. The current behavior is equivalent to passing `weights=ResNet18_Weights.IMAGENET1K_V1`. You can also use `weights=ResNet18_Weights.DEFAULT` to get the most up-to-date weights.\n",
      "  warnings.warn(msg)\n"
     ]
    },
    {
     "data": {
      "text/plain": [
       "<All keys matched successfully>"
      ]
     },
     "execution_count": 110,
     "metadata": {},
     "output_type": "execute_result"
    }
   ],
   "source": [
    "# Load the pretrained models for each slice direction\n",
    "model = models.resnet18(pretrained=True).to(device)\n",
    "model.conv1 = nn.Conv2d(9, 64, kernel_size=7, stride=2, padding=3, bias=False)\n",
    "model.fc = nn.Linear(model.fc.in_features, n_classes)\n",
    "model_axial = model.to(device)\n",
    "model_coronal = model.to(device)\n",
    "model_sagittal = model.to(device)\n",
    "\n",
    "# Load the trained weights for each model\n",
    "model_axial.load_state_dict(torch.load(os.path.join(root_dir, \"axial_full_pretrained.pth\"), weights_only=True))\n",
    "model_coronal.load_state_dict(torch.load(os.path.join(root_dir, \"coronal_full_pretrained.pth\"), weights_only=True))\n",
    "model_sagittal.load_state_dict(torch.load(os.path.join(root_dir, \"sagittal_full_pretrained.pth\"), weights_only=True))"
   ]
  },
  {
   "cell_type": "code",
   "execution_count": 111,
   "metadata": {},
   "outputs": [],
   "source": [
    "train_loader_3d = DataLoader(train_dataset, batch_size=16, shuffle=True)\n",
    "val_loader_3d = DataLoader(val_dataset, batch_size=16, shuffle=True)\n",
    "test_loader_3d = DataLoader(test_dataset, batch_size=16, shuffle=False)"
   ]
  },
  {
   "cell_type": "code",
   "execution_count": 112,
   "metadata": {},
   "outputs": [],
   "source": [
    "balanced_model = BalancedResNetModel(model_axial, model_coronal, model_sagittal, accuracies=list(results.values()),\n",
    "                                     num_classes=n_classes).to(device)\n",
    "\n",
    "loss_function = torch.nn.CrossEntropyLoss()\n",
    "optimizer = torch.optim.Adam(balanced_model.fc.parameters(), lr=0.0005)"
   ]
  },
  {
   "cell_type": "code",
   "execution_count": 113,
   "metadata": {},
   "outputs": [
    {
     "name": "stdout",
     "output_type": "stream",
     "text": [
      "Epoch 1, Loss: 1.6338059100948397\n",
      "Epoch 2, Loss: 0.9304469003052008\n",
      "Epoch 3, Loss: 0.7925616722615039\n",
      "Epoch 4, Loss: 0.694320344045514\n",
      "Epoch 5, Loss: 0.6261171210007589\n",
      "Epoch 6, Loss: 0.6362876994688003\n",
      "Epoch 7, Loss: 0.5801853762298333\n",
      "Epoch 8, Loss: 0.586406348425834\n",
      "Epoch 9, Loss: 0.5633698628574121\n",
      "Epoch 10, Loss: 0.5516399433378314\n",
      "Epoch 11, Loss: 0.5555966090960581\n",
      "Epoch 12, Loss: 0.5245883481912925\n",
      "Epoch 13, Loss: 0.49781261408915284\n",
      "Epoch 14, Loss: 0.5053144703145886\n",
      "Epoch 15, Loss: 0.4879818827402396\n",
      "Epoch 16, Loss: 0.5008185210286594\n",
      "Epoch 17, Loss: 0.4769276673676538\n",
      "Epoch 18, Loss: 0.49824970325485607\n",
      "Epoch 19, Loss: 0.44889750148429247\n",
      "Epoch 20, Loss: 0.4434149917520461\n",
      "Epoch 21, Loss: 0.4795299477753092\n",
      "Epoch 22, Loss: 0.4427736533469841\n",
      "Epoch 23, Loss: 0.46252833893064593\n",
      "Epoch 24, Loss: 0.432012067710767\n",
      "Epoch 25, Loss: 0.416605145471995\n",
      "Epoch 26, Loss: 0.44178358550931585\n",
      "Epoch 27, Loss: 0.43393157019478373\n",
      "Epoch 28, Loss: 0.4057523819511054\n",
      "Epoch 29, Loss: 0.4275449169952361\n",
      "Epoch 30, Loss: 0.3743254613192355\n"
     ]
    }
   ],
   "source": [
    "# start_time = time.time()\n",
    "# process = psutil.Process()\n",
    "# start_cpu = process.cpu_times()\n",
    "# start_mem = process.memory_info().rss / 1024**2  # В MB\n",
    "\n",
    "# if device.type == \"cuda\":\n",
    "#     torch.cuda.synchronize()\n",
    "#     torch.cuda.reset_peak_memory_stats()\n",
    "\n",
    "for epoch in range(30):\n",
    "    balanced_model.train()\n",
    "    running_loss = 0.0\n",
    "    for data in train_loader_3d:\n",
    "        images, labels = data\n",
    "        images, labels = images.to(device), labels.type(torch.LongTensor).to(device)\n",
    "\n",
    "        optimizer.zero_grad()\n",
    "\n",
    "        outputs = balanced_model(images)\n",
    "        loss = loss_function(outputs, labels[:, 0])\n",
    "\n",
    "        loss.backward()\n",
    "        optimizer.step()\n",
    "\n",
    "        running_loss += loss.item()\n",
    "\n",
    "    print(f\"Epoch {epoch+1}, Loss: {running_loss/len(train_loader_3d)}\")"
   ]
  },
  {
   "cell_type": "code",
   "execution_count": 114,
   "metadata": {},
   "outputs": [
    {
     "name": "stdout",
     "output_type": "stream",
     "text": [
      "Training time: 142.30 seconds\n",
      "CPU time used: 1703.84 seconds\n",
      "Memory used: 41.47 MB\n",
      "GPU Memory Used: 216.31 MB\n",
      "Max GPU Memory Used: 573.95 MB\n"
     ]
    }
   ],
   "source": [
    "end_time = time.time()\n",
    "end_cpu = process.cpu_times()\n",
    "end_mem = process.memory_info().rss / 1024**2\n",
    "\n",
    "cpu_time = (end_cpu.user + end_cpu.system) - (start_cpu.user + start_cpu.system)\n",
    "memory_used = end_mem - start_mem\n",
    "\n",
    "print(f\"Training time: {end_time - start_time:.2f} seconds\")\n",
    "print(f\"CPU time used: {cpu_time:.2f} seconds\")\n",
    "print(f\"Memory used: {memory_used:.2f} MB\")\n",
    "\n",
    "if device.type == \"cuda\":\n",
    "    torch.cuda.synchronize()\n",
    "    print(f\"GPU Memory Used: {torch.cuda.memory_allocated() / 1024**2:.2f} MB\")\n",
    "    print(f\"Max GPU Memory Used: {torch.cuda.max_memory_allocated() / 1024**2:.2f} MB\")\n"
   ]
  },
  {
   "cell_type": "code",
   "execution_count": 115,
   "metadata": {},
   "outputs": [
    {
     "name": "stdout",
     "output_type": "stream",
     "text": [
      "VRAM currently used: 216.31 MB\n",
      "Max VRAM used during training: 573.95 MB\n"
     ]
    }
   ],
   "source": [
    "if device.type == \"cuda\":\n",
    "    torch.cuda.synchronize()\n",
    "    vram_used = torch.cuda.memory_allocated() / 1024**2\n",
    "    vram_max_used = torch.cuda.max_memory_allocated() / 1024**2\n",
    "\n",
    "    print(f\"VRAM currently used: {vram_used:.2f} MB\")\n",
    "    print(f\"Max VRAM used during training: {vram_max_used:.2f} MB\")\n"
   ]
  },
  {
   "cell_type": "code",
   "execution_count": 116,
   "metadata": {},
   "outputs": [
    {
     "name": "stdout",
     "output_type": "stream",
     "text": [
      "Validation AUC: 0.9960\n"
     ]
    }
   ],
   "source": [
    "balanced_model.eval()\n",
    "with torch.no_grad():\n",
    "    y_pred = torch.tensor([], dtype=torch.float32, device=device)\n",
    "    y = torch.tensor([], dtype=torch.long, device=device)\n",
    "    for val_data in val_loader_3d:\n",
    "        val_images, val_labels = val_data\n",
    "\n",
    "        output = balanced_model(val_images.to(device), )\n",
    "        \n",
    "        y_pred = torch.cat([y_pred, output], dim=0)\n",
    "        y = torch.cat([y, val_labels.to(device)], dim=0)\n",
    "\n",
    "    # Evaluate AUC and accuracy\n",
    "    y_onehot = [y_trans(i) for i in decollate_batch(y, detach=False)]\n",
    "    y_pred_act = [y_pred_trans(i) for i in decollate_batch(y_pred)]\n",
    "    auc_metric(y_pred_act, y_onehot)\n",
    "    result = auc_metric.aggregate()\n",
    "    auc_metric.reset()\n",
    "\n",
    "    print(f\"Validation AUC: {result:.4f}\")"
   ]
  },
  {
   "cell_type": "code",
   "execution_count": 117,
   "metadata": {},
   "outputs": [
    {
     "name": "stdout",
     "output_type": "stream",
     "text": [
      "Test AUC: 0.9795\n"
     ]
    }
   ],
   "source": [
    "balanced_model.eval()\n",
    "y_true = []\n",
    "y_predicted = []\n",
    "example_image = []\n",
    "example_preds = []\n",
    "example_labels = []\n",
    "\n",
    "with torch.no_grad():\n",
    "    y_pred = torch.tensor([], dtype=torch.float32, device=device)\n",
    "    y = torch.tensor([], dtype=torch.long, device=device)\n",
    "    for test_data in test_loader_3d:\n",
    "        test_images, test_labels = test_data\n",
    "\n",
    "        output = balanced_model(test_images.to(device))\n",
    "        pred = output.argmax(dim=1)\n",
    "        \n",
    "        for i in range(len(pred)):\n",
    "            y_true.append(test_labels[i].item())\n",
    "            y_predicted.append(pred[i].item())\n",
    "\n",
    "        y_pred = torch.cat([y_pred, output], dim=0)\n",
    "        y = torch.cat([y, test_labels.to(device)], dim=0)\n",
    "\n",
    "    # Evaluate AUC and accuracy\n",
    "    y_onehot = [y_trans(i) for i in decollate_batch(y, detach=False)]\n",
    "    y_pred_act = [y_pred_trans(i) for i in decollate_batch(y_pred)]\n",
    "    auc_metric(y_pred_act, y_onehot)\n",
    "    result = auc_metric.aggregate()\n",
    "    auc_metric.reset()\n",
    "\n",
    "    print(f\"Test AUC: {result:.4f}\")"
   ]
  },
  {
   "cell_type": "code",
   "execution_count": 118,
   "metadata": {
    "scrolled": true
   },
   "outputs": [
    {
     "name": "stdout",
     "output_type": "stream",
     "text": [
      "              precision    recall  f1-score   support\n",
      "\n",
      "           0     0.9851    0.9565    0.9706        69\n",
      "           1     0.7115    0.5441    0.6167        68\n",
      "           2     0.5111    0.6667    0.5786        69\n",
      "           3     0.7051    0.8462    0.7692        65\n",
      "           4     0.7333    0.6769    0.7040        65\n",
      "           5     0.8310    0.8939    0.8613        66\n",
      "           6     0.9615    0.8929    0.9259        28\n",
      "           7     0.9545    1.0000    0.9767        21\n",
      "           8     1.0000    0.9524    0.9756        21\n",
      "           9     0.9344    0.8261    0.8769        69\n",
      "          10     0.8730    0.7971    0.8333        69\n",
      "\n",
      "    accuracy                         0.7951       610\n",
      "   macro avg     0.8364    0.8230    0.8263       610\n",
      "weighted avg     0.8076    0.7951    0.7973       610\n",
      "\n"
     ]
    }
   ],
   "source": [
    "report = classification_report(y_true, y_predicted, target_names=info['label'], digits=4, output_dict=True)\n",
    "report.update({\"AUC\": f\"{result:.4f}\"})\n",
    "print(classification_report(y_true, y_predicted, target_names=info['label'], digits=4))"
   ]
  },
  {
   "cell_type": "code",
   "execution_count": 119,
   "metadata": {},
   "outputs": [],
   "source": [
    "df = pd.DataFrame(report).transpose()\n",
    "df.to_csv(reports_dir+f'balanced_pretrained_random_seed{seed}.csv')"
   ]
  },
  {
   "cell_type": "code",
   "execution_count": 120,
   "metadata": {},
   "outputs": [
    {
     "name": "stdout",
     "output_type": "stream",
     "text": [
      "VRAM currently used: 216.31 MB\n",
      "Max VRAM used during training: 573.95 MB\n"
     ]
    }
   ],
   "source": [
    "if device.type == \"cuda\":\n",
    "    torch.cuda.synchronize()\n",
    "    vram_used = torch.cuda.memory_allocated() / 1024**2\n",
    "    vram_max_used = torch.cuda.max_memory_allocated() / 1024**2\n",
    "\n",
    "    print(f\"VRAM currently used: {vram_used:.2f} MB\")\n",
    "    print(f\"Max VRAM used during training: {vram_max_used:.2f} MB\")\n"
   ]
  },
  {
   "cell_type": "markdown",
   "metadata": {},
   "source": [
    "## Weighted concatenation"
   ]
  },
  {
   "cell_type": "code",
   "execution_count": 121,
   "metadata": {},
   "outputs": [],
   "source": [
    "class HyperNetwork(nn.Module):\n",
    "    def __init__(self, model_axial, model_coronal, model_sagittal, num_classes=11):\n",
    "        super(HyperNetwork, self).__init__()\n",
    "        \n",
    "        # Load pretrained 2D models (without their final classification layers)\n",
    "        self.model_axial = nn.Sequential(*list(model_axial.children())[:-1])\n",
    "        self.model_coronal = nn.Sequential(*list(model_coronal.children())[:-1])\n",
    "        self.model_sagittal = nn.Sequential(*list(model_sagittal.children())[:-1])\n",
    "        \n",
    "        # Hypernetwork for weighting the features\n",
    "        self.hyper_fc = nn.Sequential(\n",
    "            nn.Linear(512 * 3, 256),\n",
    "            nn.ReLU(),\n",
    "            nn.Linear(256, 512 * 3),\n",
    "            nn.Sigmoid()\n",
    "        )\n",
    "        \n",
    "        # Final classification layer\n",
    "        self.fc = nn.Linear(512 * 3, num_classes)\n",
    "\n",
    "    def forward(self, x):\n",
    "        slice_axial = np.random.randint(4, 58, dtype=int)\n",
    "        slice_coronal = np.random.randint(4, 58, dtype=int)\n",
    "        slice_sagittal = np.random.randint(4, 58, dtype=int)\n",
    "        \n",
    "        axial = x[:, :, slice_axial-4:slice_axial+5, :, :][:, 0].to(torch.float32)\n",
    "        coronal = x[:, :, :, slice_coronal-4:slice_coronal+5, :][:, 0].permute(0, 2, 3, 1).to(torch.float32)\n",
    "        sagittal = x[:, :, :, :, slice_sagittal-4:slice_sagittal+5][:, 0].permute(0, 3, 1, 2).to(torch.float32)\n",
    "        \n",
    "        features_axial = self.model_axial(axial).flatten(1)\n",
    "        features_coronal = self.model_coronal(coronal).flatten(1)\n",
    "        features_sagittal = self.model_sagittal(sagittal).flatten(1)\n",
    "        \n",
    "        combined_features = torch.cat([features_axial, features_coronal, features_sagittal], dim=1)\n",
    "        \n",
    "        # Apply hypernetwork to decide weights\n",
    "        weights = self.hyper_fc(combined_features)\n",
    "        combined_weighted_features = combined_features * weights\n",
    "        \n",
    "        # Final classification\n",
    "        out = self.fc(combined_weighted_features)\n",
    "        return out"
   ]
  },
  {
   "cell_type": "code",
   "execution_count": 122,
   "metadata": {},
   "outputs": [],
   "source": [
    "train_loader_3d = DataLoader(train_dataset, batch_size=32, shuffle=True)\n",
    "val_loader_3d = DataLoader(val_dataset, batch_size=32, shuffle=True)\n",
    "test_loader_3d = DataLoader(test_dataset, batch_size=32, shuffle=False)"
   ]
  },
  {
   "cell_type": "code",
   "execution_count": 123,
   "metadata": {},
   "outputs": [],
   "source": [
    "device = torch.device(\"cuda\" if torch.cuda.is_available() else \"cpu\")"
   ]
  },
  {
   "cell_type": "code",
   "execution_count": 124,
   "metadata": {},
   "outputs": [
    {
     "data": {
      "text/plain": [
       "<All keys matched successfully>"
      ]
     },
     "execution_count": 124,
     "metadata": {},
     "output_type": "execute_result"
    }
   ],
   "source": [
    "# Load the pretrained models for each slice direction\n",
    "model_axial = nets.resnet18(pretrained=False, spatial_dims=2, n_input_channels=9, num_classes=n_classes).to(device)\n",
    "model_coronal = nets.resnet18(pretrained=False, spatial_dims=2, n_input_channels=9, num_classes=n_classes).to(device)\n",
    "model_sagittal = nets.resnet18(pretrained=False, spatial_dims=2, n_input_channels=9, num_classes=n_classes).to(device)\n",
    "\n",
    "# Load the trained weights for each model\n",
    "model_axial.load_state_dict(torch.load(os.path.join(root_dir, \"axial_full_unpretrained.pth\"), weights_only=True))\n",
    "model_coronal.load_state_dict(torch.load(os.path.join(root_dir, \"coronal_full_unpretrained.pth\"), weights_only=True))\n",
    "model_sagittal.load_state_dict(torch.load(os.path.join(root_dir, \"sagittal_full_unpretrained.pth\"), weights_only=True))"
   ]
  },
  {
   "cell_type": "code",
   "execution_count": 125,
   "metadata": {},
   "outputs": [],
   "source": [
    "# Initialize the hypernetwork\n",
    "hypernetwork = HyperNetwork(model_axial, model_coronal, model_sagittal, num_classes=11).to(device)\n",
    "\n",
    "loss_function = torch.nn.CrossEntropyLoss()\n",
    "optimizer = torch.optim.Adam(hypernetwork.fc.parameters(), lr=0.00005)"
   ]
  },
  {
   "cell_type": "code",
   "execution_count": 126,
   "metadata": {},
   "outputs": [
    {
     "name": "stderr",
     "output_type": "stream",
     "text": [
      "Epochs:   3%|▎         | 1/30 [00:01<00:48,  1.66s/it]"
     ]
    },
    {
     "name": "stdout",
     "output_type": "stream",
     "text": [
      "Epoch 1, Loss: 2.2112771003477034\n"
     ]
    },
    {
     "name": "stderr",
     "output_type": "stream",
     "text": [
      "Epochs:   7%|▋         | 2/30 [00:03<00:46,  1.66s/it]"
     ]
    },
    {
     "name": "stdout",
     "output_type": "stream",
     "text": [
      "Epoch 2, Loss: 1.7947637419546805\n"
     ]
    },
    {
     "name": "stderr",
     "output_type": "stream",
     "text": [
      "Epochs:  10%|█         | 3/30 [00:04<00:44,  1.66s/it]"
     ]
    },
    {
     "name": "stdout",
     "output_type": "stream",
     "text": [
      "Epoch 3, Loss: 1.473106272758976\n"
     ]
    },
    {
     "name": "stderr",
     "output_type": "stream",
     "text": [
      "Epochs:  13%|█▎        | 4/30 [00:06<00:43,  1.66s/it]"
     ]
    },
    {
     "name": "stdout",
     "output_type": "stream",
     "text": [
      "Epoch 4, Loss: 1.220035522214828\n"
     ]
    },
    {
     "name": "stderr",
     "output_type": "stream",
     "text": [
      "Epochs:  17%|█▋        | 5/30 [00:08<00:41,  1.66s/it]"
     ]
    },
    {
     "name": "stdout",
     "output_type": "stream",
     "text": [
      "Epoch 5, Loss: 1.024761386456028\n"
     ]
    },
    {
     "name": "stderr",
     "output_type": "stream",
     "text": [
      "Epochs:  20%|██        | 6/30 [00:09<00:39,  1.66s/it]"
     ]
    },
    {
     "name": "stdout",
     "output_type": "stream",
     "text": [
      "Epoch 6, Loss: 0.8619388976404744\n"
     ]
    },
    {
     "name": "stderr",
     "output_type": "stream",
     "text": [
      "Epochs:  23%|██▎       | 7/30 [00:11<00:38,  1.66s/it]"
     ]
    },
    {
     "name": "stdout",
     "output_type": "stream",
     "text": [
      "Epoch 7, Loss: 0.727765598604756\n"
     ]
    },
    {
     "name": "stderr",
     "output_type": "stream",
     "text": [
      "Epochs:  27%|██▋       | 8/30 [00:13<00:36,  1.66s/it]"
     ]
    },
    {
     "name": "stdout",
     "output_type": "stream",
     "text": [
      "Epoch 8, Loss: 0.6254553564133183\n"
     ]
    },
    {
     "name": "stderr",
     "output_type": "stream",
     "text": [
      "Epochs:  30%|███       | 9/30 [00:14<00:34,  1.66s/it]"
     ]
    },
    {
     "name": "stdout",
     "output_type": "stream",
     "text": [
      "Epoch 9, Loss: 0.5572374116989874\n"
     ]
    },
    {
     "name": "stderr",
     "output_type": "stream",
     "text": [
      "Epochs:  33%|███▎      | 10/30 [00:16<00:33,  1.66s/it]"
     ]
    },
    {
     "name": "stdout",
     "output_type": "stream",
     "text": [
      "Epoch 10, Loss: 0.4929782873199832\n"
     ]
    },
    {
     "name": "stderr",
     "output_type": "stream",
     "text": [
      "Epochs:  37%|███▋      | 11/30 [00:18<00:31,  1.66s/it]"
     ]
    },
    {
     "name": "stdout",
     "output_type": "stream",
     "text": [
      "Epoch 11, Loss: 0.42914964402875594\n"
     ]
    },
    {
     "name": "stderr",
     "output_type": "stream",
     "text": [
      "Epochs:  40%|████      | 12/30 [00:19<00:29,  1.66s/it]"
     ]
    },
    {
     "name": "stdout",
     "output_type": "stream",
     "text": [
      "Epoch 12, Loss: 0.40732886618183506\n"
     ]
    },
    {
     "name": "stderr",
     "output_type": "stream",
     "text": [
      "Epochs:  43%|████▎     | 13/30 [00:21<00:28,  1.66s/it]"
     ]
    },
    {
     "name": "stdout",
     "output_type": "stream",
     "text": [
      "Epoch 13, Loss: 0.36391605292597123\n"
     ]
    },
    {
     "name": "stderr",
     "output_type": "stream",
     "text": [
      "Epochs:  47%|████▋     | 14/30 [00:23<00:26,  1.66s/it]"
     ]
    },
    {
     "name": "stdout",
     "output_type": "stream",
     "text": [
      "Epoch 14, Loss: 0.3420551880713432\n"
     ]
    },
    {
     "name": "stderr",
     "output_type": "stream",
     "text": [
      "Epochs:  50%|█████     | 15/30 [00:24<00:24,  1.66s/it]"
     ]
    },
    {
     "name": "stdout",
     "output_type": "stream",
     "text": [
      "Epoch 15, Loss: 0.3114080539634151\n"
     ]
    },
    {
     "name": "stderr",
     "output_type": "stream",
     "text": [
      "Epochs:  53%|█████▎    | 16/30 [00:26<00:23,  1.66s/it]"
     ]
    },
    {
     "name": "stdout",
     "output_type": "stream",
     "text": [
      "Epoch 16, Loss: 0.28429731582441636\n"
     ]
    },
    {
     "name": "stderr",
     "output_type": "stream",
     "text": [
      "Epochs:  57%|█████▋    | 17/30 [00:28<00:21,  1.66s/it]"
     ]
    },
    {
     "name": "stdout",
     "output_type": "stream",
     "text": [
      "Epoch 17, Loss: 0.2763063234667624\n"
     ]
    },
    {
     "name": "stderr",
     "output_type": "stream",
     "text": [
      "Epochs:  60%|██████    | 18/30 [00:29<00:19,  1.66s/it]"
     ]
    },
    {
     "name": "stdout",
     "output_type": "stream",
     "text": [
      "Epoch 18, Loss: 0.24872788354273764\n"
     ]
    },
    {
     "name": "stderr",
     "output_type": "stream",
     "text": [
      "Epochs:  63%|██████▎   | 19/30 [00:31<00:18,  1.66s/it]"
     ]
    },
    {
     "name": "stdout",
     "output_type": "stream",
     "text": [
      "Epoch 19, Loss: 0.24497574135180442\n"
     ]
    },
    {
     "name": "stderr",
     "output_type": "stream",
     "text": [
      "Epochs:  67%|██████▋   | 20/30 [00:33<00:16,  1.66s/it]"
     ]
    },
    {
     "name": "stdout",
     "output_type": "stream",
     "text": [
      "Epoch 20, Loss: 0.22681380568012113\n"
     ]
    },
    {
     "name": "stderr",
     "output_type": "stream",
     "text": [
      "Epochs:  70%|███████   | 21/30 [00:34<00:14,  1.66s/it]"
     ]
    },
    {
     "name": "stdout",
     "output_type": "stream",
     "text": [
      "Epoch 21, Loss: 0.2136321976300209\n"
     ]
    },
    {
     "name": "stderr",
     "output_type": "stream",
     "text": [
      "Epochs:  73%|███████▎  | 22/30 [00:36<00:13,  1.66s/it]"
     ]
    },
    {
     "name": "stdout",
     "output_type": "stream",
     "text": [
      "Epoch 22, Loss: 0.2124197377312568\n"
     ]
    },
    {
     "name": "stderr",
     "output_type": "stream",
     "text": [
      "Epochs:  77%|███████▋  | 23/30 [00:38<00:11,  1.66s/it]"
     ]
    },
    {
     "name": "stdout",
     "output_type": "stream",
     "text": [
      "Epoch 23, Loss: 0.19400261198320695\n"
     ]
    },
    {
     "name": "stderr",
     "output_type": "stream",
     "text": [
      "Epochs:  80%|████████  | 24/30 [00:39<00:09,  1.66s/it]"
     ]
    },
    {
     "name": "stdout",
     "output_type": "stream",
     "text": [
      "Epoch 24, Loss: 0.1865873757389284\n"
     ]
    },
    {
     "name": "stderr",
     "output_type": "stream",
     "text": [
      "Epochs:  83%|████████▎ | 25/30 [00:41<00:08,  1.66s/it]"
     ]
    },
    {
     "name": "stdout",
     "output_type": "stream",
     "text": [
      "Epoch 25, Loss: 0.17084679872758926\n"
     ]
    },
    {
     "name": "stderr",
     "output_type": "stream",
     "text": [
      "Epochs:  87%|████████▋ | 26/30 [00:43<00:06,  1.66s/it]"
     ]
    },
    {
     "name": "stdout",
     "output_type": "stream",
     "text": [
      "Epoch 26, Loss: 0.17207614524710563\n"
     ]
    },
    {
     "name": "stderr",
     "output_type": "stream",
     "text": [
      "Epochs:  90%|█████████ | 27/30 [00:44<00:04,  1.66s/it]"
     ]
    },
    {
     "name": "stdout",
     "output_type": "stream",
     "text": [
      "Epoch 27, Loss: 0.17467250098143855\n"
     ]
    },
    {
     "name": "stderr",
     "output_type": "stream",
     "text": [
      "Epochs:  93%|█████████▎| 28/30 [00:46<00:03,  1.66s/it]"
     ]
    },
    {
     "name": "stdout",
     "output_type": "stream",
     "text": [
      "Epoch 28, Loss: 0.16828385428074868\n"
     ]
    },
    {
     "name": "stderr",
     "output_type": "stream",
     "text": [
      "Epochs:  97%|█████████▋| 29/30 [00:48<00:01,  1.66s/it]"
     ]
    },
    {
     "name": "stdout",
     "output_type": "stream",
     "text": [
      "Epoch 29, Loss: 0.15262718090126592\n"
     ]
    },
    {
     "name": "stderr",
     "output_type": "stream",
     "text": [
      "Epochs: 100%|██████████| 30/30 [00:49<00:00,  1.66s/it]"
     ]
    },
    {
     "name": "stdout",
     "output_type": "stream",
     "text": [
      "Epoch 30, Loss: 0.15436089375326711\n"
     ]
    },
    {
     "name": "stderr",
     "output_type": "stream",
     "text": [
      "\n"
     ]
    }
   ],
   "source": [
    "start_time = time.time()\n",
    "process = psutil.Process()\n",
    "start_cpu = process.cpu_times()\n",
    "start_mem = process.memory_info().rss / 1024**2  # В MB\n",
    "\n",
    "if device.type == \"cuda\":\n",
    "    torch.cuda.synchronize()\n",
    "    torch.cuda.reset_peak_memory_stats()\n",
    "\n",
    "for epoch in tqdm(range(30), desc=\"Epochs\"):\n",
    "    hypernetwork.train()\n",
    "    running_loss = 0.0\n",
    "    for data in train_loader_3d:\n",
    "        images, labels = data\n",
    "        images, labels = images, labels.type(torch.LongTensor)\n",
    "\n",
    "        optimizer.zero_grad()\n",
    "\n",
    "        outputs = hypernetwork(images.to(torch.float32).to(device))\n",
    "        loss = loss_function(outputs, labels[:, 0].to(device))\n",
    "\n",
    "        loss.backward()\n",
    "        optimizer.step()\n",
    "\n",
    "        running_loss += loss.item()\n",
    "\n",
    "    print(f\"Epoch {epoch+1}, Loss: {running_loss/len(train_loader_3d)}\")"
   ]
  },
  {
   "cell_type": "code",
   "execution_count": 127,
   "metadata": {},
   "outputs": [
    {
     "name": "stdout",
     "output_type": "stream",
     "text": [
      "Training time: 49.84 seconds\n",
      "CPU time used: 597.10 seconds\n",
      "Memory used: 24.64 MB\n",
      "GPU Memory Used: 465.02 MB\n",
      "Max GPU Memory Used: 1164.33 MB\n"
     ]
    }
   ],
   "source": [
    "end_time = time.time()\n",
    "end_cpu = process.cpu_times()\n",
    "end_mem = process.memory_info().rss / 1024**2\n",
    "\n",
    "cpu_time = (end_cpu.user + end_cpu.system) - (start_cpu.user + start_cpu.system)\n",
    "memory_used = end_mem - start_mem\n",
    "\n",
    "print(f\"Training time: {end_time - start_time:.2f} seconds\")\n",
    "print(f\"CPU time used: {cpu_time:.2f} seconds\")\n",
    "print(f\"Memory used: {memory_used:.2f} MB\")\n",
    "\n",
    "if device.type == \"cuda\":\n",
    "    torch.cuda.synchronize()\n",
    "    print(f\"GPU Memory Used: {torch.cuda.memory_allocated() / 1024**2:.2f} MB\")\n",
    "    print(f\"Max GPU Memory Used: {torch.cuda.max_memory_allocated() / 1024**2:.2f} MB\")\n"
   ]
  },
  {
   "cell_type": "code",
   "execution_count": 128,
   "metadata": {},
   "outputs": [
    {
     "name": "stdout",
     "output_type": "stream",
     "text": [
      "VRAM currently used: 465.02 MB\n",
      "Max VRAM used during training: 1164.33 MB\n"
     ]
    }
   ],
   "source": [
    "if device.type == \"cuda\":\n",
    "    torch.cuda.synchronize()\n",
    "    vram_used = torch.cuda.memory_allocated() / 1024**2\n",
    "    vram_max_used = torch.cuda.max_memory_allocated() / 1024**2\n",
    "\n",
    "    print(f\"VRAM currently used: {vram_used:.2f} MB\")\n",
    "    print(f\"Max VRAM used during training: {vram_max_used:.2f} MB\")\n"
   ]
  },
  {
   "cell_type": "code",
   "execution_count": 129,
   "metadata": {},
   "outputs": [
    {
     "name": "stdout",
     "output_type": "stream",
     "text": [
      "Validation AUC: 0.9999\n"
     ]
    }
   ],
   "source": [
    "hypernetwork.eval()\n",
    "with torch.no_grad():\n",
    "    y_pred = torch.tensor([], dtype=torch.float32, device=device)\n",
    "    y = torch.tensor([], dtype=torch.long, device=device)\n",
    "    for val_data in val_loader_3d:\n",
    "        val_images, val_labels = val_data\n",
    "\n",
    "        output = hypernetwork(val_images.to(torch.float32).to(device))\n",
    "        \n",
    "        y_pred = torch.cat([y_pred, output], dim=0)\n",
    "        y = torch.cat([y, val_labels.to(device)], dim=0)\n",
    "\n",
    "    # Evaluate AUC and accuracy\n",
    "    y_onehot = [y_trans(i) for i in decollate_batch(y, detach=False)]\n",
    "    y_pred_act = [y_pred_trans(i) for i in decollate_batch(y_pred)]\n",
    "    auc_metric = ROCAUCMetric()\n",
    "    auc_metric(y_pred_act, y_onehot)\n",
    "    result = auc_metric.aggregate()\n",
    "    auc_metric.reset()\n",
    "\n",
    "    print(f\"Validation AUC: {result:.4f}\")"
   ]
  },
  {
   "cell_type": "code",
   "execution_count": 130,
   "metadata": {},
   "outputs": [
    {
     "name": "stdout",
     "output_type": "stream",
     "text": [
      "Test AUC: 0.9967\n"
     ]
    }
   ],
   "source": [
    "hypernetwork.eval()\n",
    "y_true = []\n",
    "y_predicted = []\n",
    "example_image = []\n",
    "example_preds = []\n",
    "example_labels = []\n",
    "\n",
    "with torch.no_grad():\n",
    "    y_pred = torch.tensor([], dtype=torch.float32, device=device)\n",
    "    y = torch.tensor([], dtype=torch.long, device=device)\n",
    "    for test_data in test_loader_3d:\n",
    "        test_images, test_labels = test_data\n",
    "\n",
    "        output = hypernetwork(test_images.to(device))\n",
    "        pred = output.argmax(dim=1)\n",
    "        \n",
    "        for i in range(len(pred)):\n",
    "            y_true.append(test_labels[i].item())\n",
    "            y_predicted.append(pred[i].item())\n",
    "\n",
    "        y_pred = torch.cat([y_pred, output], dim=0)\n",
    "        y = torch.cat([y, test_labels.to(device)], dim=0)\n",
    "\n",
    "    # Evaluate AUC and accuracy\n",
    "    y_onehot = [y_trans(i) for i in decollate_batch(y, detach=False)]\n",
    "    y_pred_act = [y_pred_trans(i) for i in decollate_batch(y_pred)]\n",
    "    auc_metric(y_pred_act, y_onehot)\n",
    "    result = auc_metric.aggregate()\n",
    "    auc_metric.reset()\n",
    "\n",
    "    print(f\"Test AUC: {result:.4f}\")"
   ]
  },
  {
   "cell_type": "code",
   "execution_count": 131,
   "metadata": {
    "scrolled": true
   },
   "outputs": [
    {
     "name": "stdout",
     "output_type": "stream",
     "text": [
      "              precision    recall  f1-score   support\n",
      "\n",
      "           0     1.0000    1.0000    1.0000        69\n",
      "           1     0.8889    0.8235    0.8550        68\n",
      "           2     0.8406    0.8406    0.8406        69\n",
      "           3     0.8533    0.9846    0.9143        65\n",
      "           4     0.9483    0.8462    0.8943        65\n",
      "           5     0.9697    0.9697    0.9697        66\n",
      "           6     1.0000    0.9286    0.9630        28\n",
      "           7     1.0000    1.0000    1.0000        21\n",
      "           8     1.0000    1.0000    1.0000        21\n",
      "           9     0.9306    0.9710    0.9504        69\n",
      "          10     0.9714    0.9855    0.9784        69\n",
      "\n",
      "    accuracy                         0.9328       610\n",
      "   macro avg     0.9457    0.9409    0.9423       610\n",
      "weighted avg     0.9341    0.9328    0.9324       610\n",
      "\n"
     ]
    }
   ],
   "source": [
    "report = classification_report(y_true, y_predicted, target_names=info['label'], digits=4, output_dict = True)\n",
    "report.update({\"AUC\": f\"{result:.4f}\"})\n",
    "print(classification_report(y_true, y_predicted, target_names=info['label'], digits=4))"
   ]
  },
  {
   "cell_type": "code",
   "execution_count": 132,
   "metadata": {},
   "outputs": [],
   "source": [
    "df = pd.DataFrame(report).transpose()\n",
    "df.to_csv(reports_dir+f'weighted_unpretrained_random_seed{seed}.csv')"
   ]
  },
  {
   "cell_type": "code",
   "execution_count": 133,
   "metadata": {},
   "outputs": [
    {
     "name": "stdout",
     "output_type": "stream",
     "text": [
      "VRAM currently used: 465.02 MB\n",
      "Max VRAM used during training: 1164.33 MB\n"
     ]
    }
   ],
   "source": [
    "if device.type == \"cuda\":\n",
    "    torch.cuda.synchronize()\n",
    "    vram_used = torch.cuda.memory_allocated() / 1024**2\n",
    "    vram_max_used = torch.cuda.max_memory_allocated() / 1024**2\n",
    "\n",
    "    print(f\"VRAM currently used: {vram_used:.2f} MB\")\n",
    "    print(f\"Max VRAM used during training: {vram_max_used:.2f} MB\")\n"
   ]
  },
  {
   "cell_type": "markdown",
   "metadata": {},
   "source": [
    "### Pretrained"
   ]
  },
  {
   "cell_type": "code",
   "execution_count": 134,
   "metadata": {},
   "outputs": [
    {
     "name": "stderr",
     "output_type": "stream",
     "text": [
      "/opt/conda/lib/python3.10/site-packages/torchvision/models/_utils.py:208: UserWarning: The parameter 'pretrained' is deprecated since 0.13 and may be removed in the future, please use 'weights' instead.\n",
      "  warnings.warn(\n",
      "/opt/conda/lib/python3.10/site-packages/torchvision/models/_utils.py:223: UserWarning: Arguments other than a weight enum or `None` for 'weights' are deprecated since 0.13 and may be removed in the future. The current behavior is equivalent to passing `weights=ResNet18_Weights.IMAGENET1K_V1`. You can also use `weights=ResNet18_Weights.DEFAULT` to get the most up-to-date weights.\n",
      "  warnings.warn(msg)\n"
     ]
    },
    {
     "data": {
      "text/plain": [
       "<All keys matched successfully>"
      ]
     },
     "execution_count": 134,
     "metadata": {},
     "output_type": "execute_result"
    }
   ],
   "source": [
    "model = models.resnet18(pretrained=True).to(device)\n",
    "model.conv1 = nn.Conv2d(9, 64, kernel_size=7, stride=2, padding=3, bias=False)\n",
    "model.fc = nn.Linear(model.fc.in_features, n_classes)\n",
    "model_axial = model.to(device)\n",
    "model_coronal = model.to(device)\n",
    "model_sagittal = model.to(device)\n",
    "\n",
    "model_axial.load_state_dict(torch.load(os.path.join(root_dir, \"axial_full_pretrained.pth\"), weights_only=True))\n",
    "model_coronal.load_state_dict(torch.load(os.path.join(root_dir, \"coronal_full_pretrained.pth\"), weights_only=True))\n",
    "model_sagittal.load_state_dict(torch.load(os.path.join(root_dir, \"sagittal_full_pretrained.pth\"), weights_only=True))"
   ]
  },
  {
   "cell_type": "code",
   "execution_count": 135,
   "metadata": {},
   "outputs": [],
   "source": [
    "# Initialize the hypernetwork\n",
    "hypernetwork = HyperNetwork(model_axial, model_coronal, model_sagittal, num_classes=11).to(device)\n",
    "\n",
    "loss_function = torch.nn.CrossEntropyLoss()\n",
    "optimizer = torch.optim.Adam(hypernetwork.fc.parameters(), lr=0.00005)"
   ]
  },
  {
   "cell_type": "code",
   "execution_count": 136,
   "metadata": {},
   "outputs": [
    {
     "name": "stderr",
     "output_type": "stream",
     "text": [
      "Epochs:   3%|▎         | 1/30 [00:01<00:39,  1.37s/it]"
     ]
    },
    {
     "name": "stdout",
     "output_type": "stream",
     "text": [
      "Epoch 1, Loss: 2.1681619921038227\n"
     ]
    },
    {
     "name": "stderr",
     "output_type": "stream",
     "text": [
      "Epochs:   7%|▋         | 2/30 [00:02<00:38,  1.37s/it]"
     ]
    },
    {
     "name": "stdout",
     "output_type": "stream",
     "text": [
      "Epoch 2, Loss: 1.8623841116505284\n"
     ]
    },
    {
     "name": "stderr",
     "output_type": "stream",
     "text": [
      "Epochs:  10%|█         | 3/30 [00:04<00:36,  1.37s/it]"
     ]
    },
    {
     "name": "stdout",
     "output_type": "stream",
     "text": [
      "Epoch 3, Loss: 1.6308510072769657\n"
     ]
    },
    {
     "name": "stderr",
     "output_type": "stream",
     "text": [
      "Epochs:  13%|█▎        | 4/30 [00:05<00:35,  1.37s/it]"
     ]
    },
    {
     "name": "stdout",
     "output_type": "stream",
     "text": [
      "Epoch 4, Loss: 1.4028453365448983\n"
     ]
    },
    {
     "name": "stderr",
     "output_type": "stream",
     "text": [
      "Epochs:  17%|█▋        | 5/30 [00:06<00:34,  1.37s/it]"
     ]
    },
    {
     "name": "stdout",
     "output_type": "stream",
     "text": [
      "Epoch 5, Loss: 1.2376108169555664\n"
     ]
    },
    {
     "name": "stderr",
     "output_type": "stream",
     "text": [
      "Epochs:  20%|██        | 6/30 [00:08<00:32,  1.37s/it]"
     ]
    },
    {
     "name": "stdout",
     "output_type": "stream",
     "text": [
      "Epoch 6, Loss: 1.1045384791589552\n"
     ]
    },
    {
     "name": "stderr",
     "output_type": "stream",
     "text": [
      "Epochs:  23%|██▎       | 7/30 [00:09<00:31,  1.37s/it]"
     ]
    },
    {
     "name": "stdout",
     "output_type": "stream",
     "text": [
      "Epoch 7, Loss: 1.006035812439457\n"
     ]
    },
    {
     "name": "stderr",
     "output_type": "stream",
     "text": [
      "Epochs:  27%|██▋       | 8/30 [00:10<00:30,  1.37s/it]"
     ]
    },
    {
     "name": "stdout",
     "output_type": "stream",
     "text": [
      "Epoch 8, Loss: 0.904598141870191\n"
     ]
    },
    {
     "name": "stderr",
     "output_type": "stream",
     "text": [
      "Epochs:  30%|███       | 9/30 [00:12<00:28,  1.37s/it]"
     ]
    },
    {
     "name": "stdout",
     "output_type": "stream",
     "text": [
      "Epoch 9, Loss: 0.8282707160519015\n"
     ]
    },
    {
     "name": "stderr",
     "output_type": "stream",
     "text": [
      "Epochs:  33%|███▎      | 10/30 [00:13<00:27,  1.37s/it]"
     ]
    },
    {
     "name": "stdout",
     "output_type": "stream",
     "text": [
      "Epoch 10, Loss: 0.7871423306003693\n"
     ]
    },
    {
     "name": "stderr",
     "output_type": "stream",
     "text": [
      "Epochs:  37%|███▋      | 11/30 [00:15<00:26,  1.37s/it]"
     ]
    },
    {
     "name": "stdout",
     "output_type": "stream",
     "text": [
      "Epoch 11, Loss: 0.6964666804959697\n"
     ]
    },
    {
     "name": "stderr",
     "output_type": "stream",
     "text": [
      "Epochs:  40%|████      | 12/30 [00:16<00:24,  1.37s/it]"
     ]
    },
    {
     "name": "stdout",
     "output_type": "stream",
     "text": [
      "Epoch 12, Loss: 0.6804731892001245\n"
     ]
    },
    {
     "name": "stderr",
     "output_type": "stream",
     "text": [
      "Epochs:  43%|████▎     | 13/30 [00:17<00:23,  1.37s/it]"
     ]
    },
    {
     "name": "stdout",
     "output_type": "stream",
     "text": [
      "Epoch 13, Loss: 0.6199642160246449\n"
     ]
    },
    {
     "name": "stderr",
     "output_type": "stream",
     "text": [
      "Epochs:  47%|████▋     | 14/30 [00:19<00:21,  1.37s/it]"
     ]
    },
    {
     "name": "stdout",
     "output_type": "stream",
     "text": [
      "Epoch 14, Loss: 0.6035871053895643\n"
     ]
    },
    {
     "name": "stderr",
     "output_type": "stream",
     "text": [
      "Epochs:  50%|█████     | 15/30 [00:20<00:20,  1.37s/it]"
     ]
    },
    {
     "name": "stdout",
     "output_type": "stream",
     "text": [
      "Epoch 15, Loss: 0.5726237941172815\n"
     ]
    },
    {
     "name": "stderr",
     "output_type": "stream",
     "text": [
      "Epochs:  53%|█████▎    | 16/30 [00:21<00:19,  1.37s/it]"
     ]
    },
    {
     "name": "stdout",
     "output_type": "stream",
     "text": [
      "Epoch 16, Loss: 0.5354071172975725\n"
     ]
    },
    {
     "name": "stderr",
     "output_type": "stream",
     "text": [
      "Epochs:  57%|█████▋    | 17/30 [00:23<00:17,  1.37s/it]"
     ]
    },
    {
     "name": "stdout",
     "output_type": "stream",
     "text": [
      "Epoch 17, Loss: 0.5210716109121999\n"
     ]
    },
    {
     "name": "stderr",
     "output_type": "stream",
     "text": [
      "Epochs:  60%|██████    | 18/30 [00:24<00:16,  1.37s/it]"
     ]
    },
    {
     "name": "stdout",
     "output_type": "stream",
     "text": [
      "Epoch 18, Loss: 0.4919022581269664\n"
     ]
    },
    {
     "name": "stderr",
     "output_type": "stream",
     "text": [
      "Epochs:  63%|██████▎   | 19/30 [00:25<00:15,  1.37s/it]"
     ]
    },
    {
     "name": "stdout",
     "output_type": "stream",
     "text": [
      "Epoch 19, Loss: 0.48619132657204905\n"
     ]
    },
    {
     "name": "stderr",
     "output_type": "stream",
     "text": [
      "Epochs:  67%|██████▋   | 20/30 [00:27<00:13,  1.37s/it]"
     ]
    },
    {
     "name": "stdout",
     "output_type": "stream",
     "text": [
      "Epoch 20, Loss: 0.4659293284339289\n"
     ]
    },
    {
     "name": "stderr",
     "output_type": "stream",
     "text": [
      "Epochs:  70%|███████   | 21/30 [00:28<00:12,  1.37s/it]"
     ]
    },
    {
     "name": "stdout",
     "output_type": "stream",
     "text": [
      "Epoch 21, Loss: 0.45585656262213187\n"
     ]
    },
    {
     "name": "stderr",
     "output_type": "stream",
     "text": [
      "Epochs:  73%|███████▎  | 22/30 [00:30<00:10,  1.37s/it]"
     ]
    },
    {
     "name": "stdout",
     "output_type": "stream",
     "text": [
      "Epoch 22, Loss: 0.43065799436261576\n"
     ]
    },
    {
     "name": "stderr",
     "output_type": "stream",
     "text": [
      "Epochs:  77%|███████▋  | 23/30 [00:31<00:09,  1.37s/it]"
     ]
    },
    {
     "name": "stdout",
     "output_type": "stream",
     "text": [
      "Epoch 23, Loss: 0.40840418781003646\n"
     ]
    },
    {
     "name": "stderr",
     "output_type": "stream",
     "text": [
      "Epochs:  80%|████████  | 24/30 [00:32<00:08,  1.37s/it]"
     ]
    },
    {
     "name": "stdout",
     "output_type": "stream",
     "text": [
      "Epoch 24, Loss: 0.3759979086537515\n"
     ]
    },
    {
     "name": "stderr",
     "output_type": "stream",
     "text": [
      "Epochs:  83%|████████▎ | 25/30 [00:34<00:06,  1.37s/it]"
     ]
    },
    {
     "name": "stdout",
     "output_type": "stream",
     "text": [
      "Epoch 25, Loss: 0.38033972920910003\n"
     ]
    },
    {
     "name": "stderr",
     "output_type": "stream",
     "text": [
      "Epochs:  87%|████████▋ | 26/30 [00:35<00:05,  1.37s/it]"
     ]
    },
    {
     "name": "stdout",
     "output_type": "stream",
     "text": [
      "Epoch 26, Loss: 0.38593683992662736\n"
     ]
    },
    {
     "name": "stderr",
     "output_type": "stream",
     "text": [
      "Epochs:  90%|█████████ | 27/30 [00:36<00:04,  1.37s/it]"
     ]
    },
    {
     "name": "stdout",
     "output_type": "stream",
     "text": [
      "Epoch 27, Loss: 0.3808960578133983\n"
     ]
    },
    {
     "name": "stderr",
     "output_type": "stream",
     "text": [
      "Epochs:  93%|█████████▎| 28/30 [00:38<00:02,  1.37s/it]"
     ]
    },
    {
     "name": "stdout",
     "output_type": "stream",
     "text": [
      "Epoch 28, Loss: 0.3506175039276\n"
     ]
    },
    {
     "name": "stderr",
     "output_type": "stream",
     "text": [
      "Epochs:  97%|█████████▋| 29/30 [00:39<00:01,  1.37s/it]"
     ]
    },
    {
     "name": "stdout",
     "output_type": "stream",
     "text": [
      "Epoch 29, Loss: 0.3679370817638213\n"
     ]
    },
    {
     "name": "stderr",
     "output_type": "stream",
     "text": [
      "Epochs: 100%|██████████| 30/30 [00:41<00:00,  1.37s/it]"
     ]
    },
    {
     "name": "stdout",
     "output_type": "stream",
     "text": [
      "Epoch 30, Loss: 0.3320913588808429\n"
     ]
    },
    {
     "name": "stderr",
     "output_type": "stream",
     "text": [
      "\n"
     ]
    }
   ],
   "source": [
    "start_time = time.time()\n",
    "process = psutil.Process()\n",
    "start_cpu = process.cpu_times()\n",
    "start_mem = process.memory_info().rss / 1024**2  # В MB\n",
    "\n",
    "if device.type == \"cuda\":\n",
    "    torch.cuda.synchronize()\n",
    "    torch.cuda.reset_peak_memory_stats()\n",
    "\n",
    "for epoch in tqdm(range(30), desc=\"Epochs\"):\n",
    "    hypernetwork.train()\n",
    "    running_loss = 0.0\n",
    "    for data in train_loader_3d:\n",
    "        images, labels = data\n",
    "        images, labels = images, labels.type(torch.LongTensor)\n",
    "\n",
    "        optimizer.zero_grad()\n",
    "\n",
    "        outputs = hypernetwork(images.to(torch.float32).to(device))\n",
    "        loss = loss_function(outputs, labels[:, 0].to(device))\n",
    "\n",
    "        loss.backward()\n",
    "        optimizer.step()\n",
    "\n",
    "        running_loss += loss.item()\n",
    "\n",
    "    print(f\"Epoch {epoch+1}, Loss: {running_loss/len(train_loader_3d)}\")"
   ]
  },
  {
   "cell_type": "code",
   "execution_count": 137,
   "metadata": {},
   "outputs": [
    {
     "name": "stdout",
     "output_type": "stream",
     "text": [
      "Training time: 41.04 seconds\n",
      "CPU time used: 491.94 seconds\n",
      "Memory used: -31.36 MB\n",
      "GPU Memory Used: 287.63 MB\n",
      "Max GPU Memory Used: 726.88 MB\n"
     ]
    }
   ],
   "source": [
    "end_time = time.time()\n",
    "end_cpu = process.cpu_times()\n",
    "end_mem = process.memory_info().rss / 1024**2\n",
    "\n",
    "cpu_time = (end_cpu.user + end_cpu.system) - (start_cpu.user + start_cpu.system)\n",
    "memory_used = end_mem - start_mem\n",
    "\n",
    "print(f\"Training time: {end_time - start_time:.2f} seconds\")\n",
    "print(f\"CPU time used: {cpu_time:.2f} seconds\")\n",
    "print(f\"Memory used: {memory_used:.2f} MB\")\n",
    "\n",
    "if device.type == \"cuda\":\n",
    "    torch.cuda.synchronize()\n",
    "    print(f\"GPU Memory Used: {torch.cuda.memory_allocated() / 1024**2:.2f} MB\")\n",
    "    print(f\"Max GPU Memory Used: {torch.cuda.max_memory_allocated() / 1024**2:.2f} MB\")\n"
   ]
  },
  {
   "cell_type": "code",
   "execution_count": 138,
   "metadata": {},
   "outputs": [
    {
     "name": "stdout",
     "output_type": "stream",
     "text": [
      "VRAM currently used: 287.63 MB\n",
      "Max VRAM used during training: 726.88 MB\n"
     ]
    }
   ],
   "source": [
    "if device.type == \"cuda\":\n",
    "    torch.cuda.synchronize()\n",
    "    vram_used = torch.cuda.memory_allocated() / 1024**2\n",
    "    vram_max_used = torch.cuda.max_memory_allocated() / 1024**2\n",
    "\n",
    "    print(f\"VRAM currently used: {vram_used:.2f} MB\")\n",
    "    print(f\"Max VRAM used during training: {vram_max_used:.2f} MB\")\n"
   ]
  },
  {
   "cell_type": "code",
   "execution_count": 139,
   "metadata": {},
   "outputs": [
    {
     "name": "stdout",
     "output_type": "stream",
     "text": [
      "Validation AUC: 0.9990\n"
     ]
    }
   ],
   "source": [
    "hypernetwork.eval()\n",
    "with torch.no_grad():\n",
    "    y_pred = torch.tensor([], dtype=torch.float32, device=device)\n",
    "    y = torch.tensor([], dtype=torch.long, device=device)\n",
    "    for val_data in val_loader_3d:\n",
    "        val_images, val_labels = val_data\n",
    "\n",
    "        output = hypernetwork(val_images.to(torch.float32).to(device))\n",
    "        \n",
    "        y_pred = torch.cat([y_pred, output], dim=0)\n",
    "        y = torch.cat([y, val_labels.to(device)], dim=0)\n",
    "\n",
    "    # Evaluate AUC and accuracy\n",
    "    y_onehot = [y_trans(i) for i in decollate_batch(y, detach=False)]\n",
    "    y_pred_act = [y_pred_trans(i) for i in decollate_batch(y_pred)]\n",
    "    auc_metric(y_pred_act, y_onehot)\n",
    "    result = auc_metric.aggregate()\n",
    "    auc_metric.reset()\n",
    "\n",
    "    print(f\"Validation AUC: {result:.4f}\")"
   ]
  },
  {
   "cell_type": "code",
   "execution_count": 140,
   "metadata": {},
   "outputs": [
    {
     "name": "stdout",
     "output_type": "stream",
     "text": [
      "Validation AUC: 0.9879\n"
     ]
    }
   ],
   "source": [
    "hypernetwork.eval()\n",
    "y_true = []\n",
    "y_predicted = []\n",
    "example_image = []\n",
    "example_preds = []\n",
    "example_labels = []\n",
    "\n",
    "with torch.no_grad():\n",
    "    y_pred = torch.tensor([], dtype=torch.float32, device=device)\n",
    "    y = torch.tensor([], dtype=torch.long, device=device)\n",
    "    for test_data in test_loader_3d:\n",
    "        test_images, test_labels = test_data\n",
    "\n",
    "        output = hypernetwork(test_images.to(device))\n",
    "        pred = output.argmax(dim=1)\n",
    "        \n",
    "        for i in range(len(pred)):\n",
    "            y_true.append(test_labels[i].item())\n",
    "            y_predicted.append(pred[i].item())\n",
    "\n",
    "        y_pred = torch.cat([y_pred, output], dim=0)\n",
    "        y = torch.cat([y, test_labels.to(device)], dim=0)\n",
    "\n",
    "    # Evaluate AUC and accuracy\n",
    "    y_onehot = [y_trans(i) for i in decollate_batch(y, detach=False)]\n",
    "    y_pred_act = [y_pred_trans(i) for i in decollate_batch(y_pred)]\n",
    "    auc_metric(y_pred_act, y_onehot)\n",
    "    result = auc_metric.aggregate()\n",
    "    auc_metric.reset()\n",
    "\n",
    "    print(f\"Validation AUC: {result:.4f}\")"
   ]
  },
  {
   "cell_type": "code",
   "execution_count": 141,
   "metadata": {},
   "outputs": [
    {
     "name": "stdout",
     "output_type": "stream",
     "text": [
      "              precision    recall  f1-score   support\n",
      "\n",
      "           0     0.9583    1.0000    0.9787        69\n",
      "           1     0.7536    0.7647    0.7591        68\n",
      "           2     0.8364    0.6667    0.7419        69\n",
      "           3     0.6735    0.5077    0.5789        65\n",
      "           4     0.6341    0.8000    0.7075        65\n",
      "           5     0.8889    0.9697    0.9275        66\n",
      "           6     1.0000    0.8571    0.9231        28\n",
      "           7     1.0000    1.0000    1.0000        21\n",
      "           8     1.0000    1.0000    1.0000        21\n",
      "           9     0.9853    0.9710    0.9781        69\n",
      "          10     0.8831    0.9855    0.9315        69\n",
      "\n",
      "    accuracy                         0.8475       610\n",
      "   macro avg     0.8739    0.8657    0.8660       610\n",
      "weighted avg     0.8486    0.8475    0.8439       610\n",
      "\n"
     ]
    }
   ],
   "source": [
    "report = classification_report(y_true, y_predicted, target_names=info['label'], digits=4, output_dict = True)\n",
    "report.update({\"AUC\": f\"{result:.4f}\"})\n",
    "print(classification_report(y_true, y_predicted, target_names=info['label'], digits=4))"
   ]
  },
  {
   "cell_type": "code",
   "execution_count": 142,
   "metadata": {},
   "outputs": [],
   "source": [
    "df = pd.DataFrame(report).transpose()\n",
    "df.to_csv(reports_dir+f'weighted_pretrained_random_seed{seed}.csv')"
   ]
  },
  {
   "cell_type": "code",
   "execution_count": 143,
   "metadata": {},
   "outputs": [
    {
     "name": "stdout",
     "output_type": "stream",
     "text": [
      "VRAM currently used: 287.63 MB\n",
      "Max VRAM used during training: 726.88 MB\n"
     ]
    }
   ],
   "source": [
    "if device.type == \"cuda\":\n",
    "    torch.cuda.synchronize()\n",
    "    vram_used = torch.cuda.memory_allocated() / 1024**2\n",
    "    vram_max_used = torch.cuda.max_memory_allocated() / 1024**2\n",
    "\n",
    "    print(f\"VRAM currently used: {vram_used:.2f} MB\")\n",
    "    print(f\"Max VRAM used during training: {vram_max_used:.2f} MB\")\n"
   ]
  },
  {
   "cell_type": "code",
   "execution_count": null,
   "metadata": {},
   "outputs": [],
   "source": []
  },
  {
   "cell_type": "code",
   "execution_count": null,
   "metadata": {},
   "outputs": [],
   "source": []
  }
 ],
 "metadata": {
  "colab": {
   "provenance": []
  },
  "kernelspec": {
   "display_name": "Python 3 (ipykernel)",
   "language": "python",
   "name": "python3"
  },
  "language_info": {
   "codemirror_mode": {
    "name": "ipython",
    "version": 3
   },
   "file_extension": ".py",
   "mimetype": "text/x-python",
   "name": "python",
   "nbconvert_exporter": "python",
   "pygments_lexer": "ipython3",
   "version": "3.10.13"
  }
 },
 "nbformat": 4,
 "nbformat_minor": 4
}
