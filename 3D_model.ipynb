{
 "cells": [
  {
   "cell_type": "markdown",
   "metadata": {},
   "source": [
    "# Medical Image Classification with MONAI"
   ]
  },
  {
   "cell_type": "code",
   "execution_count": 1,
   "metadata": {
    "jupyter": {
     "is_executing": true
    }
   },
   "outputs": [
    {
     "name": "stderr",
     "output_type": "stream",
     "text": [
      "/opt/conda/lib/python3.10/site-packages/tqdm/auto.py:21: TqdmWarning: IProgress not found. Please update jupyter and ipywidgets. See https://ipywidgets.readthedocs.io/en/stable/user_install.html\n",
      "  from .autonotebook import tqdm as notebook_tqdm\n"
     ]
    },
    {
     "name": "stdout",
     "output_type": "stream",
     "text": [
      "MONAI version: 1.4.dev2441\n",
      "Numpy version: 1.26.3\n",
      "Pytorch version: 2.2.1\n",
      "MONAI flags: HAS_EXT = False, USE_COMPILED = False, USE_META_DICT = False\n",
      "MONAI rev id: cf815ed4e44a5b8ce67e894ab0bc2765279a1a59\n",
      "MONAI __file__: /mnt/hdd/<username>/.local/lib/python3.10/site-packages/monai/__init__.py\n",
      "\n",
      "Optional dependencies:\n",
      "Pytorch Ignite version: NOT INSTALLED or UNKNOWN VERSION.\n",
      "ITK version: NOT INSTALLED or UNKNOWN VERSION.\n",
      "Nibabel version: NOT INSTALLED or UNKNOWN VERSION.\n",
      "scikit-image version: 0.25.1\n",
      "scipy version: 1.15.1\n",
      "Pillow version: 10.2.0\n",
      "Tensorboard version: 2.18.0\n",
      "gdown version: NOT INSTALLED or UNKNOWN VERSION.\n",
      "TorchVision version: 0.17.1\n",
      "tqdm version: 4.67.1\n",
      "lmdb version: NOT INSTALLED or UNKNOWN VERSION.\n",
      "psutil version: 5.9.0\n",
      "pandas version: 2.2.3\n",
      "einops version: 0.8.0\n",
      "transformers version: 4.48.2\n",
      "mlflow version: NOT INSTALLED or UNKNOWN VERSION.\n",
      "pynrrd version: NOT INSTALLED or UNKNOWN VERSION.\n",
      "clearml version: NOT INSTALLED or UNKNOWN VERSION.\n",
      "\n",
      "For details about installing the optional dependencies, please visit:\n",
      "    https://docs.monai.io/en/latest/installation.html#installing-the-recommended-dependencies\n",
      "\n"
     ]
    }
   ],
   "source": [
    "from tqdm import tqdm\n",
    "import numpy as np\n",
    "import os\n",
    "import PIL\n",
    "import time\n",
    "import psutil\n",
    "import shutil\n",
    "import tempfile\n",
    "import matplotlib.pyplot as plt\n",
    "import torch\n",
    "import torch.nn as nn\n",
    "import torch.optim as optim\n",
    "import torch.utils.data as data\n",
    "import torchvision.transforms as transforms\n",
    "from torch.utils.tensorboard import SummaryWriter\n",
    "from sklearn.metrics import classification_report\n",
    "\n",
    "import medmnist\n",
    "from medmnist import INFO, Evaluator\n",
    "\n",
    "from monai.apps import download_and_extract\n",
    "from monai.config import print_config\n",
    "from monai.data import decollate_batch, DataLoader, Dataset\n",
    "from monai.metrics import ROCAUCMetric\n",
    "from monai.networks.nets import DenseNet121, resnet, resnet18\n",
    "from monai.transforms import (\n",
    "    Activations,\n",
    "    EnsureChannelFirst,\n",
    "    AsDiscrete,\n",
    "    EnsureChannelFirst,\n",
    "    Compose,\n",
    "    LoadImage,\n",
    "    RandFlip,\n",
    "    RandRotate,\n",
    "    RandZoom,\n",
    "    RandGaussianNoise,\n",
    "    RandAdjustContrast,\n",
    "    ScaleIntensity, \n",
    "    Transform,\n",
    "    ToTensor,\n",
    "    EnsureType,\n",
    ")\n",
    "from monai.utils import set_determinism\n",
    "\n",
    "print_config()"
   ]
  },
  {
   "cell_type": "markdown",
   "metadata": {},
   "source": [
    "## Continue working with OrganMNIST3d 64x64x64"
   ]
  },
  {
   "cell_type": "code",
   "execution_count": 2,
   "metadata": {},
   "outputs": [
    {
     "name": "stdout",
     "output_type": "stream",
     "text": [
      "Using downloaded and verified file: /mnt/hdd/marina/.medmnist/organmnist3d_64.npz\n",
      "Using downloaded and verified file: /mnt/hdd/marina/.medmnist/organmnist3d_64.npz\n",
      "Using downloaded and verified file: /mnt/hdd/marina/.medmnist/organmnist3d_64.npz\n"
     ]
    }
   ],
   "source": [
    "data_flag = 'organmnist3d'\n",
    "download = True\n",
    "\n",
    "NUM_EPOCHS = 70\n",
    "BATCH_SIZE = 8\n",
    "lr = 0.001\n",
    "\n",
    "info = INFO[data_flag]\n",
    "task = info['task']\n",
    "n_channels = info['n_channels']\n",
    "n_classes = len(info['label'])\n",
    "\n",
    "DataClass = getattr(medmnist, info['python_class'])\n",
    "\n",
    "# load the data\n",
    "train_dataset = DataClass(split='train', download=download, size=64)\n",
    "val_dataset = DataClass(split='val', download=download, size=64)\n",
    "test_dataset = DataClass(split='test', download=download, size=64)"
   ]
  },
  {
   "cell_type": "code",
   "execution_count": 3,
   "metadata": {},
   "outputs": [],
   "source": [
    "root_dir = '/mnt/hdd/marina/.medmnist/'"
   ]
  },
  {
   "cell_type": "code",
   "execution_count": 4,
   "metadata": {},
   "outputs": [
    {
     "data": {
      "text/plain": [
       "Dataset OrganMNIST3D of size 64 (organmnist3d_64)\n",
       "    Number of datapoints: 971\n",
       "    Root location: /mnt/hdd/marina/.medmnist\n",
       "    Split: train\n",
       "    Task: multi-class\n",
       "    Number of channels: 1\n",
       "    Meaning of labels: {'0': 'liver', '1': 'kidney-right', '2': 'kidney-left', '3': 'femur-right', '4': 'femur-left', '5': 'bladder', '6': 'heart', '7': 'lung-right', '8': 'lung-left', '9': 'spleen', '10': 'pancreas'}\n",
       "    Number of samples: {'train': 971, 'val': 161, 'test': 610}\n",
       "    Description: The source of the OrganMNIST3D is the same as that of the Organ{A,C,S}MNIST. Instead of 2D images, we directly use the 3D bounding boxes and process the images into 28×28×28 to perform multi-class classification of 11 body organs. The same 115 and 16 CT scans as the Organ{A,C,S}MNIST from the source training set are used as training and validation set, respectively, and the same 70 CT scans as the Organ{A,C,S}MNIST from the source test set are treated as the test set.\n",
       "    License: CC BY 4.0"
      ]
     },
     "execution_count": 4,
     "metadata": {},
     "output_type": "execute_result"
    }
   ],
   "source": [
    "train_dataset"
   ]
  },
  {
   "cell_type": "markdown",
   "metadata": {},
   "source": [
    "## Define transforms"
   ]
  },
  {
   "cell_type": "code",
   "execution_count": 5,
   "metadata": {},
   "outputs": [],
   "source": [
    "train_transforms = Compose(\n",
    "    [\n",
    "        ScaleIntensity(),\n",
    "        RandGaussianNoise(prob=0.5, mean=0.0, std=0.05),\n",
    "        RandAdjustContrast(gamma=(0.7, 1.3), prob=0.5),\n",
    "        RandRotate(range_x=np.pi / 12, prob=0.5, keep_size=True),\n",
    "        RandFlip(spatial_axis=0, prob=0.5),\n",
    "        RandZoom(min_zoom=0.9, max_zoom=1.1, prob=0.5),\n",
    "        ToTensor(),\n",
    "        EnsureType(),\n",
    "    ]\n",
    ")\n",
    "\n",
    "val_transforms = Compose([\n",
    "    ScaleIntensity(),\n",
    "    ToTensor(),\n",
    "    EnsureType(),\n",
    "])\n",
    "\n",
    "test_transforms = Compose([\n",
    "    ScaleIntensity(),\n",
    "    ToTensor(),\n",
    "    EnsureType(),\n",
    "])\n",
    "\n",
    "y_pred_trans = Compose([Activations(softmax=True)])\n",
    "y_trans = Compose([AsDiscrete(to_onehot=n_classes)])"
   ]
  },
  {
   "cell_type": "code",
   "execution_count": 6,
   "metadata": {},
   "outputs": [],
   "source": [
    "class _3D_Dataset(Dataset):\n",
    "    def __init__(self, dataset, transform=None):\n",
    "        self.dataset = dataset\n",
    "        self.transform = transform\n",
    "\n",
    "    def __len__(self):\n",
    "        return len(self.dataset)\n",
    "\n",
    "    def __getitem__(self, idx):\n",
    "        data, label = self.dataset[idx]\n",
    "\n",
    "        if self.transform:\n",
    "            data = self.transform(data)\n",
    "\n",
    "        return {'images': data, 'label': label}"
   ]
  },
  {
   "cell_type": "code",
   "execution_count": 7,
   "metadata": {},
   "outputs": [],
   "source": [
    "train_dataset_ = _3D_Dataset(train_dataset, transform=train_transforms)\n",
    "val_dataset_ = _3D_Dataset(val_dataset, transform=val_transforms)\n",
    "test_dataset_ = _3D_Dataset(test_dataset, transform=test_transforms)\n",
    "\n",
    "# Create data loaders\n",
    "train_loader = DataLoader(train_dataset_, batch_size=BATCH_SIZE, shuffle=True)\n",
    "val_loader = DataLoader(val_dataset_, batch_size=BATCH_SIZE, shuffle=True)\n",
    "test_loader = DataLoader(test_dataset_, batch_size=BATCH_SIZE, shuffle=False)"
   ]
  },
  {
   "cell_type": "markdown",
   "metadata": {},
   "source": [
    "## Training cycle"
   ]
  },
  {
   "cell_type": "code",
   "execution_count": 37,
   "metadata": {},
   "outputs": [],
   "source": [
    "device = torch.device(\"cuda\" if torch.cuda.is_available() else \"cpu\")\n",
    "model = resnet18(pretrained=False, spatial_dims=3, n_input_channels=1, num_classes=n_classes).to(device)\n",
    "loss_function = torch.nn.CrossEntropyLoss()\n",
    "optimizer = torch.optim.Adam(model.parameters(), 0.00005)\n",
    "max_epochs = 110\n",
    "val_interval = 1\n",
    "auc_metric = ROCAUCMetric()"
   ]
  },
  {
   "cell_type": "code",
   "execution_count": 42,
   "metadata": {},
   "outputs": [
    {
     "name": "stdout",
     "output_type": "stream",
     "text": [
      "ResNet(\n",
      "  (conv1): Conv3d(1, 64, kernel_size=(7, 7, 7), stride=(1, 1, 1), padding=(3, 3, 3), bias=False)\n",
      "  (bn1): BatchNorm3d(64, eps=1e-05, momentum=0.1, affine=True, track_running_stats=True)\n",
      "  (act): ReLU(inplace=True)\n",
      "  (maxpool): MaxPool3d(kernel_size=3, stride=2, padding=1, dilation=1, ceil_mode=False)\n",
      "  (layer1): Sequential(\n",
      "    (0): ResNetBlock(\n",
      "      (conv1): Conv3d(64, 64, kernel_size=(3, 3, 3), stride=(1, 1, 1), padding=(1, 1, 1), bias=False)\n",
      "      (bn1): BatchNorm3d(64, eps=1e-05, momentum=0.1, affine=True, track_running_stats=True)\n",
      "      (act): ReLU(inplace=True)\n",
      "      (conv2): Conv3d(64, 64, kernel_size=(3, 3, 3), stride=(1, 1, 1), padding=(1, 1, 1), bias=False)\n",
      "      (bn2): BatchNorm3d(64, eps=1e-05, momentum=0.1, affine=True, track_running_stats=True)\n",
      "    )\n",
      "    (1): ResNetBlock(\n",
      "      (conv1): Conv3d(64, 64, kernel_size=(3, 3, 3), stride=(1, 1, 1), padding=(1, 1, 1), bias=False)\n",
      "      (bn1): BatchNorm3d(64, eps=1e-05, momentum=0.1, affine=True, track_running_stats=True)\n",
      "      (act): ReLU(inplace=True)\n",
      "      (conv2): Conv3d(64, 64, kernel_size=(3, 3, 3), stride=(1, 1, 1), padding=(1, 1, 1), bias=False)\n",
      "      (bn2): BatchNorm3d(64, eps=1e-05, momentum=0.1, affine=True, track_running_stats=True)\n",
      "    )\n",
      "  )\n",
      "  (layer2): Sequential(\n",
      "    (0): ResNetBlock(\n",
      "      (conv1): Conv3d(64, 128, kernel_size=(3, 3, 3), stride=(2, 2, 2), padding=(1, 1, 1), bias=False)\n",
      "      (bn1): BatchNorm3d(128, eps=1e-05, momentum=0.1, affine=True, track_running_stats=True)\n",
      "      (act): ReLU(inplace=True)\n",
      "      (conv2): Conv3d(128, 128, kernel_size=(3, 3, 3), stride=(1, 1, 1), padding=(1, 1, 1), bias=False)\n",
      "      (bn2): BatchNorm3d(128, eps=1e-05, momentum=0.1, affine=True, track_running_stats=True)\n",
      "      (downsample): Sequential(\n",
      "        (0): Conv3d(64, 128, kernel_size=(1, 1, 1), stride=(2, 2, 2))\n",
      "        (1): BatchNorm3d(128, eps=1e-05, momentum=0.1, affine=True, track_running_stats=True)\n",
      "      )\n",
      "    )\n",
      "    (1): ResNetBlock(\n",
      "      (conv1): Conv3d(128, 128, kernel_size=(3, 3, 3), stride=(1, 1, 1), padding=(1, 1, 1), bias=False)\n",
      "      (bn1): BatchNorm3d(128, eps=1e-05, momentum=0.1, affine=True, track_running_stats=True)\n",
      "      (act): ReLU(inplace=True)\n",
      "      (conv2): Conv3d(128, 128, kernel_size=(3, 3, 3), stride=(1, 1, 1), padding=(1, 1, 1), bias=False)\n",
      "      (bn2): BatchNorm3d(128, eps=1e-05, momentum=0.1, affine=True, track_running_stats=True)\n",
      "    )\n",
      "  )\n",
      "  (layer3): Sequential(\n",
      "    (0): ResNetBlock(\n",
      "      (conv1): Conv3d(128, 256, kernel_size=(3, 3, 3), stride=(2, 2, 2), padding=(1, 1, 1), bias=False)\n",
      "      (bn1): BatchNorm3d(256, eps=1e-05, momentum=0.1, affine=True, track_running_stats=True)\n",
      "      (act): ReLU(inplace=True)\n",
      "      (conv2): Conv3d(256, 256, kernel_size=(3, 3, 3), stride=(1, 1, 1), padding=(1, 1, 1), bias=False)\n",
      "      (bn2): BatchNorm3d(256, eps=1e-05, momentum=0.1, affine=True, track_running_stats=True)\n",
      "      (downsample): Sequential(\n",
      "        (0): Conv3d(128, 256, kernel_size=(1, 1, 1), stride=(2, 2, 2))\n",
      "        (1): BatchNorm3d(256, eps=1e-05, momentum=0.1, affine=True, track_running_stats=True)\n",
      "      )\n",
      "    )\n",
      "    (1): ResNetBlock(\n",
      "      (conv1): Conv3d(256, 256, kernel_size=(3, 3, 3), stride=(1, 1, 1), padding=(1, 1, 1), bias=False)\n",
      "      (bn1): BatchNorm3d(256, eps=1e-05, momentum=0.1, affine=True, track_running_stats=True)\n",
      "      (act): ReLU(inplace=True)\n",
      "      (conv2): Conv3d(256, 256, kernel_size=(3, 3, 3), stride=(1, 1, 1), padding=(1, 1, 1), bias=False)\n",
      "      (bn2): BatchNorm3d(256, eps=1e-05, momentum=0.1, affine=True, track_running_stats=True)\n",
      "    )\n",
      "  )\n",
      "  (layer4): Sequential(\n",
      "    (0): ResNetBlock(\n",
      "      (conv1): Conv3d(256, 512, kernel_size=(3, 3, 3), stride=(2, 2, 2), padding=(1, 1, 1), bias=False)\n",
      "      (bn1): BatchNorm3d(512, eps=1e-05, momentum=0.1, affine=True, track_running_stats=True)\n",
      "      (act): ReLU(inplace=True)\n",
      "      (conv2): Conv3d(512, 512, kernel_size=(3, 3, 3), stride=(1, 1, 1), padding=(1, 1, 1), bias=False)\n",
      "      (bn2): BatchNorm3d(512, eps=1e-05, momentum=0.1, affine=True, track_running_stats=True)\n",
      "      (downsample): Sequential(\n",
      "        (0): Conv3d(256, 512, kernel_size=(1, 1, 1), stride=(2, 2, 2))\n",
      "        (1): BatchNorm3d(512, eps=1e-05, momentum=0.1, affine=True, track_running_stats=True)\n",
      "      )\n",
      "    )\n",
      "    (1): ResNetBlock(\n",
      "      (conv1): Conv3d(512, 512, kernel_size=(3, 3, 3), stride=(1, 1, 1), padding=(1, 1, 1), bias=False)\n",
      "      (bn1): BatchNorm3d(512, eps=1e-05, momentum=0.1, affine=True, track_running_stats=True)\n",
      "      (act): ReLU(inplace=True)\n",
      "      (conv2): Conv3d(512, 512, kernel_size=(3, 3, 3), stride=(1, 1, 1), padding=(1, 1, 1), bias=False)\n",
      "      (bn2): BatchNorm3d(512, eps=1e-05, momentum=0.1, affine=True, track_running_stats=True)\n",
      "    )\n",
      "  )\n",
      "  (avgpool): AdaptiveAvgPool3d(output_size=(1, 1, 1))\n",
      "  (fc): Linear(in_features=512, out_features=11, bias=True)\n",
      ")\n"
     ]
    }
   ],
   "source": [
    "print(model)"
   ]
  },
  {
   "cell_type": "code",
   "execution_count": 38,
   "metadata": {
    "scrolled": true
   },
   "outputs": [
    {
     "name": "stdout",
     "output_type": "stream",
     "text": [
      "----------\n",
      "epoch 1/110\n"
     ]
    },
    {
     "name": "stderr",
     "output_type": "stream",
     "text": [
      "Training Batches: 100%|##########| 122/122 [00:23<00:00,  5.11it/s, train_loss=2.11] \n"
     ]
    },
    {
     "name": "stdout",
     "output_type": "stream",
     "text": [
      "Epoch 1 average loss: 1.5370\n",
      "Saved new best metric model\n",
      "Current epoch: 1 | AUC: 0.9594 | Accuracy: 0.4658 | Best AUC: 0.9594 at epoch: 1\n",
      "----------\n",
      "epoch 2/110\n"
     ]
    },
    {
     "name": "stderr",
     "output_type": "stream",
     "text": [
      "Training Batches: 100%|##########| 122/122 [00:23<00:00,  5.09it/s, train_loss=0.795]\n"
     ]
    },
    {
     "name": "stdout",
     "output_type": "stream",
     "text": [
      "Epoch 2 average loss: 1.0144\n",
      "Saved new best metric model\n",
      "Current epoch: 2 | AUC: 0.9766 | Accuracy: 0.6087 | Best AUC: 0.9766 at epoch: 2\n",
      "----------\n",
      "epoch 3/110\n"
     ]
    },
    {
     "name": "stderr",
     "output_type": "stream",
     "text": [
      "Training Batches: 100%|##########| 122/122 [00:23<00:00,  5.16it/s, train_loss=0.714]\n"
     ]
    },
    {
     "name": "stdout",
     "output_type": "stream",
     "text": [
      "Epoch 3 average loss: 0.8279\n",
      "Saved new best metric model\n",
      "Current epoch: 3 | AUC: 0.9906 | Accuracy: 0.8261 | Best AUC: 0.9906 at epoch: 3\n",
      "----------\n",
      "epoch 4/110\n"
     ]
    },
    {
     "name": "stderr",
     "output_type": "stream",
     "text": [
      "Training Batches: 100%|##########| 122/122 [00:23<00:00,  5.15it/s, train_loss=1.63] \n"
     ]
    },
    {
     "name": "stdout",
     "output_type": "stream",
     "text": [
      "Epoch 4 average loss: 0.6839\n",
      "Current epoch: 4 | AUC: 0.9794 | Accuracy: 0.5590 | Best AUC: 0.9906 at epoch: 3\n",
      "----------\n",
      "epoch 5/110\n"
     ]
    },
    {
     "name": "stderr",
     "output_type": "stream",
     "text": [
      "Training Batches: 100%|##########| 122/122 [00:23<00:00,  5.09it/s, train_loss=1.39]  \n"
     ]
    },
    {
     "name": "stdout",
     "output_type": "stream",
     "text": [
      "Epoch 5 average loss: 0.5928\n",
      "Current epoch: 5 | AUC: 0.9842 | Accuracy: 0.7143 | Best AUC: 0.9906 at epoch: 3\n",
      "----------\n",
      "epoch 6/110\n"
     ]
    },
    {
     "name": "stderr",
     "output_type": "stream",
     "text": [
      "Training Batches: 100%|##########| 122/122 [00:23<00:00,  5.15it/s, train_loss=0.852]\n"
     ]
    },
    {
     "name": "stdout",
     "output_type": "stream",
     "text": [
      "Epoch 6 average loss: 0.5463\n",
      "Saved new best metric model\n",
      "Current epoch: 6 | AUC: 0.9908 | Accuracy: 0.7267 | Best AUC: 0.9908 at epoch: 6\n",
      "----------\n",
      "epoch 7/110\n"
     ]
    },
    {
     "name": "stderr",
     "output_type": "stream",
     "text": [
      "Training Batches: 100%|##########| 122/122 [00:23<00:00,  5.20it/s, train_loss=0.29] \n"
     ]
    },
    {
     "name": "stdout",
     "output_type": "stream",
     "text": [
      "Epoch 7 average loss: 0.5179\n",
      "Saved new best metric model\n",
      "Current epoch: 7 | AUC: 0.9954 | Accuracy: 0.8944 | Best AUC: 0.9954 at epoch: 7\n",
      "----------\n",
      "epoch 8/110\n"
     ]
    },
    {
     "name": "stderr",
     "output_type": "stream",
     "text": [
      "Training Batches: 100%|##########| 122/122 [00:23<00:00,  5.10it/s, train_loss=0.359]\n"
     ]
    },
    {
     "name": "stdout",
     "output_type": "stream",
     "text": [
      "Epoch 8 average loss: 0.5101\n",
      "Current epoch: 8 | AUC: 0.9911 | Accuracy: 0.7640 | Best AUC: 0.9954 at epoch: 7\n",
      "----------\n",
      "epoch 9/110\n"
     ]
    },
    {
     "name": "stderr",
     "output_type": "stream",
     "text": [
      "Training Batches: 100%|##########| 122/122 [00:23<00:00,  5.09it/s, train_loss=0.313] \n"
     ]
    },
    {
     "name": "stdout",
     "output_type": "stream",
     "text": [
      "Epoch 9 average loss: 0.4512\n",
      "Saved new best metric model\n",
      "Current epoch: 9 | AUC: 0.9991 | Accuracy: 0.9317 | Best AUC: 0.9991 at epoch: 9\n",
      "----------\n",
      "epoch 10/110\n"
     ]
    },
    {
     "name": "stderr",
     "output_type": "stream",
     "text": [
      "Training Batches: 100%|##########| 122/122 [00:23<00:00,  5.10it/s, train_loss=0.367]\n"
     ]
    },
    {
     "name": "stdout",
     "output_type": "stream",
     "text": [
      "Epoch 10 average loss: 0.4090\n",
      "Current epoch: 10 | AUC: 0.9987 | Accuracy: 0.9317 | Best AUC: 0.9991 at epoch: 9\n",
      "----------\n",
      "epoch 11/110\n"
     ]
    },
    {
     "name": "stderr",
     "output_type": "stream",
     "text": [
      "Training Batches: 100%|##########| 122/122 [00:23<00:00,  5.11it/s, train_loss=3.91]  \n"
     ]
    },
    {
     "name": "stdout",
     "output_type": "stream",
     "text": [
      "Epoch 11 average loss: 0.4319\n",
      "Current epoch: 11 | AUC: 0.9974 | Accuracy: 0.8758 | Best AUC: 0.9991 at epoch: 9\n",
      "----------\n",
      "epoch 12/110\n"
     ]
    },
    {
     "name": "stderr",
     "output_type": "stream",
     "text": [
      "Training Batches: 100%|##########| 122/122 [00:23<00:00,  5.10it/s, train_loss=0.475] \n"
     ]
    },
    {
     "name": "stdout",
     "output_type": "stream",
     "text": [
      "Epoch 12 average loss: 0.4094\n",
      "Current epoch: 12 | AUC: 0.9958 | Accuracy: 0.8447 | Best AUC: 0.9991 at epoch: 9\n",
      "----------\n",
      "epoch 13/110\n"
     ]
    },
    {
     "name": "stderr",
     "output_type": "stream",
     "text": [
      "Training Batches: 100%|##########| 122/122 [00:24<00:00,  5.06it/s, train_loss=0.892] \n"
     ]
    },
    {
     "name": "stdout",
     "output_type": "stream",
     "text": [
      "Epoch 13 average loss: 0.3545\n"
     ]
    },
    {
     "name": "stderr",
     "output_type": "stream",
     "text": [
      "Exception ignored in: <function tqdm.__del__ at 0x7fc493b09630>\n",
      "Traceback (most recent call last):\n",
      "  File \"/opt/conda/lib/python3.10/site-packages/tqdm/std.py\", line 1148, in __del__\n",
      "    self.close()\n",
      "  File \"/opt/conda/lib/python3.10/site-packages/tqdm/std.py\", line 1277, in close\n",
      "    if self.last_print_t < self.start_t + self.delay:\n",
      "AttributeError: 'tqdm' object has no attribute 'last_print_t'\n",
      "Exception ignored in: <function tqdm.__del__ at 0x7fc493b09630>\n",
      "Traceback (most recent call last):\n",
      "  File \"/opt/conda/lib/python3.10/site-packages/tqdm/std.py\", line 1148, in __del__\n",
      "    self.close()\n",
      "  File \"/opt/conda/lib/python3.10/site-packages/tqdm/std.py\", line 1277, in close\n",
      "    if self.last_print_t < self.start_t + self.delay:\n",
      "AttributeError: 'tqdm' object has no attribute 'last_print_t'\n",
      "Exception ignored in: <function tqdm.__del__ at 0x7fc493b09630>\n",
      "Traceback (most recent call last):\n",
      "  File \"/opt/conda/lib/python3.10/site-packages/tqdm/std.py\", line 1148, in __del__\n",
      "    self.close()\n",
      "  File \"/opt/conda/lib/python3.10/site-packages/tqdm/std.py\", line 1277, in close\n",
      "    if self.last_print_t < self.start_t + self.delay:\n",
      "AttributeError: 'tqdm' object has no attribute 'last_print_t'\n",
      "Exception ignored in: <function tqdm.__del__ at 0x7fc493b09630>\n",
      "Traceback (most recent call last):\n",
      "  File \"/opt/conda/lib/python3.10/site-packages/tqdm/std.py\", line 1148, in __del__\n",
      "    self.close()\n",
      "  File \"/opt/conda/lib/python3.10/site-packages/tqdm/std.py\", line 1277, in close\n",
      "    if self.last_print_t < self.start_t + self.delay:\n",
      "AttributeError: 'tqdm' object has no attribute 'last_print_t'\n",
      "Exception ignored in: <function tqdm.__del__ at 0x7fc493b09630>\n",
      "Traceback (most recent call last):\n",
      "  File \"/opt/conda/lib/python3.10/site-packages/tqdm/std.py\", line 1148, in __del__\n",
      "    self.close()\n",
      "  File \"/opt/conda/lib/python3.10/site-packages/tqdm/std.py\", line 1277, in close\n",
      "    if self.last_print_t < self.start_t + self.delay:\n",
      "AttributeError: 'tqdm' object has no attribute 'last_print_t'\n"
     ]
    },
    {
     "name": "stdout",
     "output_type": "stream",
     "text": [
      "Current epoch: 13 | AUC: 0.9979 | Accuracy: 0.9130 | Best AUC: 0.9991 at epoch: 9\n",
      "----------\n",
      "epoch 14/110\n"
     ]
    },
    {
     "name": "stderr",
     "output_type": "stream",
     "text": [
      "Training Batches: 100%|##########| 122/122 [00:23<00:00,  5.11it/s, train_loss=2.55]  \n"
     ]
    },
    {
     "name": "stdout",
     "output_type": "stream",
     "text": [
      "Epoch 14 average loss: 0.3550\n",
      "Current epoch: 14 | AUC: 0.9969 | Accuracy: 0.8199 | Best AUC: 0.9991 at epoch: 9\n",
      "----------\n",
      "epoch 15/110\n"
     ]
    },
    {
     "name": "stderr",
     "output_type": "stream",
     "text": [
      "Training Batches: 100%|##########| 122/122 [00:24<00:00,  5.04it/s, train_loss=0.379] \n"
     ]
    },
    {
     "name": "stdout",
     "output_type": "stream",
     "text": [
      "Epoch 15 average loss: 0.3306\n",
      "Current epoch: 15 | AUC: 0.9973 | Accuracy: 0.8944 | Best AUC: 0.9991 at epoch: 9\n",
      "----------\n",
      "epoch 16/110\n"
     ]
    },
    {
     "name": "stderr",
     "output_type": "stream",
     "text": [
      "Training Batches: 100%|##########| 122/122 [00:24<00:00,  5.06it/s, train_loss=0.0307]\n"
     ]
    },
    {
     "name": "stdout",
     "output_type": "stream",
     "text": [
      "Epoch 16 average loss: 0.2969\n",
      "Current epoch: 16 | AUC: 0.9957 | Accuracy: 0.9193 | Best AUC: 0.9991 at epoch: 9\n",
      "----------\n",
      "epoch 17/110\n"
     ]
    },
    {
     "name": "stderr",
     "output_type": "stream",
     "text": [
      "Training Batches: 100%|##########| 122/122 [00:24<00:00,  4.99it/s, train_loss=0.0548]\n"
     ]
    },
    {
     "name": "stdout",
     "output_type": "stream",
     "text": [
      "Epoch 17 average loss: 0.3214\n",
      "Current epoch: 17 | AUC: 0.9881 | Accuracy: 0.8012 | Best AUC: 0.9991 at epoch: 9\n",
      "----------\n",
      "epoch 18/110\n"
     ]
    },
    {
     "name": "stderr",
     "output_type": "stream",
     "text": [
      "Training Batches: 100%|##########| 122/122 [00:24<00:00,  5.06it/s, train_loss=0.697] \n"
     ]
    },
    {
     "name": "stdout",
     "output_type": "stream",
     "text": [
      "Epoch 18 average loss: 0.2893\n",
      "Current epoch: 18 | AUC: 0.9925 | Accuracy: 0.8509 | Best AUC: 0.9991 at epoch: 9\n",
      "----------\n",
      "epoch 19/110\n"
     ]
    },
    {
     "name": "stderr",
     "output_type": "stream",
     "text": [
      "Training Batches: 100%|##########| 122/122 [00:24<00:00,  5.03it/s, train_loss=1.62]  \n"
     ]
    },
    {
     "name": "stdout",
     "output_type": "stream",
     "text": [
      "Epoch 19 average loss: 0.2544\n",
      "Current epoch: 19 | AUC: 0.9919 | Accuracy: 0.8385 | Best AUC: 0.9991 at epoch: 9\n",
      "----------\n",
      "epoch 20/110\n"
     ]
    },
    {
     "name": "stderr",
     "output_type": "stream",
     "text": [
      "Training Batches: 100%|##########| 122/122 [00:24<00:00,  4.98it/s, train_loss=0.501] \n"
     ]
    },
    {
     "name": "stdout",
     "output_type": "stream",
     "text": [
      "Epoch 20 average loss: 0.2588\n",
      "Current epoch: 20 | AUC: 0.9971 | Accuracy: 0.9130 | Best AUC: 0.9991 at epoch: 9\n",
      "----------\n",
      "epoch 21/110\n"
     ]
    },
    {
     "name": "stderr",
     "output_type": "stream",
     "text": [
      "Training Batches: 100%|##########| 122/122 [00:24<00:00,  4.98it/s, train_loss=0.596] \n"
     ]
    },
    {
     "name": "stdout",
     "output_type": "stream",
     "text": [
      "Epoch 21 average loss: 0.2512\n",
      "Current epoch: 21 | AUC: 0.9924 | Accuracy: 0.9068 | Best AUC: 0.9991 at epoch: 9\n",
      "----------\n",
      "epoch 22/110\n"
     ]
    },
    {
     "name": "stderr",
     "output_type": "stream",
     "text": [
      "Training Batches: 100%|##########| 122/122 [00:24<00:00,  5.03it/s, train_loss=0.0174]\n"
     ]
    },
    {
     "name": "stdout",
     "output_type": "stream",
     "text": [
      "Epoch 22 average loss: 0.2408\n",
      "Current epoch: 22 | AUC: 0.9950 | Accuracy: 0.9441 | Best AUC: 0.9991 at epoch: 9\n",
      "----------\n",
      "epoch 23/110\n"
     ]
    },
    {
     "name": "stderr",
     "output_type": "stream",
     "text": [
      "Training Batches: 100%|##########| 122/122 [00:24<00:00,  5.05it/s, train_loss=0.163] \n"
     ]
    },
    {
     "name": "stdout",
     "output_type": "stream",
     "text": [
      "Epoch 23 average loss: 0.2113\n",
      "Current epoch: 23 | AUC: 0.9931 | Accuracy: 0.9130 | Best AUC: 0.9991 at epoch: 9\n",
      "----------\n",
      "epoch 24/110\n"
     ]
    },
    {
     "name": "stderr",
     "output_type": "stream",
     "text": [
      "Training Batches: 100%|##########| 122/122 [00:24<00:00,  5.02it/s, train_loss=0.489] \n"
     ]
    },
    {
     "name": "stdout",
     "output_type": "stream",
     "text": [
      "Epoch 24 average loss: 0.2084\n",
      "Current epoch: 24 | AUC: 0.9912 | Accuracy: 0.8696 | Best AUC: 0.9991 at epoch: 9\n",
      "----------\n",
      "epoch 25/110\n"
     ]
    },
    {
     "name": "stderr",
     "output_type": "stream",
     "text": [
      "Training Batches: 100%|##########| 122/122 [00:24<00:00,  4.98it/s, train_loss=0.134] \n"
     ]
    },
    {
     "name": "stdout",
     "output_type": "stream",
     "text": [
      "Epoch 25 average loss: 0.2271\n",
      "Current epoch: 25 | AUC: 0.9967 | Accuracy: 0.8944 | Best AUC: 0.9991 at epoch: 9\n",
      "----------\n",
      "epoch 26/110\n"
     ]
    },
    {
     "name": "stderr",
     "output_type": "stream",
     "text": [
      "Training Batches: 100%|##########| 122/122 [00:24<00:00,  4.96it/s, train_loss=1.17]  \n"
     ]
    },
    {
     "name": "stdout",
     "output_type": "stream",
     "text": [
      "Epoch 26 average loss: 0.2030\n",
      "Current epoch: 26 | AUC: 0.9987 | Accuracy: 0.8758 | Best AUC: 0.9991 at epoch: 9\n",
      "----------\n",
      "epoch 27/110\n"
     ]
    },
    {
     "name": "stderr",
     "output_type": "stream",
     "text": [
      "Training Batches: 100%|##########| 122/122 [00:24<00:00,  5.04it/s, train_loss=0.0181] \n"
     ]
    },
    {
     "name": "stdout",
     "output_type": "stream",
     "text": [
      "Epoch 27 average loss: 0.2310\n",
      "Current epoch: 27 | AUC: 0.9865 | Accuracy: 0.8571 | Best AUC: 0.9991 at epoch: 9\n",
      "----------\n",
      "epoch 28/110\n"
     ]
    },
    {
     "name": "stderr",
     "output_type": "stream",
     "text": [
      "Training Batches: 100%|##########| 122/122 [00:24<00:00,  5.04it/s, train_loss=0.59]  \n"
     ]
    },
    {
     "name": "stdout",
     "output_type": "stream",
     "text": [
      "Epoch 28 average loss: 0.1628\n",
      "Current epoch: 28 | AUC: 0.9850 | Accuracy: 0.8571 | Best AUC: 0.9991 at epoch: 9\n",
      "----------\n",
      "epoch 29/110\n"
     ]
    },
    {
     "name": "stderr",
     "output_type": "stream",
     "text": [
      "Training Batches: 100%|##########| 122/122 [00:24<00:00,  5.07it/s, train_loss=0.195]  \n"
     ]
    },
    {
     "name": "stdout",
     "output_type": "stream",
     "text": [
      "Epoch 29 average loss: 0.1635\n",
      "Current epoch: 29 | AUC: 0.9964 | Accuracy: 0.9130 | Best AUC: 0.9991 at epoch: 9\n",
      "----------\n",
      "epoch 30/110\n"
     ]
    },
    {
     "name": "stderr",
     "output_type": "stream",
     "text": [
      "Training Batches: 100%|##########| 122/122 [00:24<00:00,  5.00it/s, train_loss=0.501]  \n"
     ]
    },
    {
     "name": "stdout",
     "output_type": "stream",
     "text": [
      "Epoch 30 average loss: 0.1449\n",
      "Current epoch: 30 | AUC: 0.9925 | Accuracy: 0.8509 | Best AUC: 0.9991 at epoch: 9\n",
      "----------\n",
      "epoch 31/110\n"
     ]
    },
    {
     "name": "stderr",
     "output_type": "stream",
     "text": [
      "Training Batches: 100%|##########| 122/122 [00:24<00:00,  5.02it/s, train_loss=0.968]  \n"
     ]
    },
    {
     "name": "stdout",
     "output_type": "stream",
     "text": [
      "Epoch 31 average loss: 0.1660\n",
      "Current epoch: 31 | AUC: 0.9905 | Accuracy: 0.9068 | Best AUC: 0.9991 at epoch: 9\n",
      "----------\n",
      "epoch 32/110\n"
     ]
    },
    {
     "name": "stderr",
     "output_type": "stream",
     "text": [
      "Training Batches: 100%|##########| 122/122 [00:24<00:00,  5.03it/s, train_loss=0.0683]\n"
     ]
    },
    {
     "name": "stdout",
     "output_type": "stream",
     "text": [
      "Epoch 32 average loss: 0.1575\n",
      "Current epoch: 32 | AUC: 0.9915 | Accuracy: 0.9255 | Best AUC: 0.9991 at epoch: 9\n",
      "----------\n",
      "epoch 33/110\n"
     ]
    },
    {
     "name": "stderr",
     "output_type": "stream",
     "text": [
      "Training Batches: 100%|##########| 122/122 [00:24<00:00,  5.00it/s, train_loss=0.0239] \n"
     ]
    },
    {
     "name": "stdout",
     "output_type": "stream",
     "text": [
      "Epoch 33 average loss: 0.1319\n",
      "Current epoch: 33 | AUC: 0.9966 | Accuracy: 0.9006 | Best AUC: 0.9991 at epoch: 9\n",
      "----------\n",
      "epoch 34/110\n"
     ]
    },
    {
     "name": "stderr",
     "output_type": "stream",
     "text": [
      "Training Batches: 100%|##########| 122/122 [00:24<00:00,  5.02it/s, train_loss=0.29]   \n"
     ]
    },
    {
     "name": "stdout",
     "output_type": "stream",
     "text": [
      "Epoch 34 average loss: 0.1242\n",
      "Current epoch: 34 | AUC: 0.9959 | Accuracy: 0.9068 | Best AUC: 0.9991 at epoch: 9\n",
      "----------\n",
      "epoch 35/110\n"
     ]
    },
    {
     "name": "stderr",
     "output_type": "stream",
     "text": [
      "Training Batches: 100%|##########| 122/122 [00:24<00:00,  5.02it/s, train_loss=0.12]  \n"
     ]
    },
    {
     "name": "stdout",
     "output_type": "stream",
     "text": [
      "Epoch 35 average loss: 0.1244\n",
      "Current epoch: 35 | AUC: 0.9854 | Accuracy: 0.8696 | Best AUC: 0.9991 at epoch: 9\n",
      "----------\n",
      "epoch 36/110\n"
     ]
    },
    {
     "name": "stderr",
     "output_type": "stream",
     "text": [
      "Training Batches: 100%|##########| 122/122 [00:24<00:00,  5.08it/s, train_loss=0.0832]\n"
     ]
    },
    {
     "name": "stdout",
     "output_type": "stream",
     "text": [
      "Epoch 36 average loss: 0.1190\n",
      "Current epoch: 36 | AUC: 0.9822 | Accuracy: 0.8447 | Best AUC: 0.9991 at epoch: 9\n",
      "----------\n",
      "epoch 37/110\n"
     ]
    },
    {
     "name": "stderr",
     "output_type": "stream",
     "text": [
      "Training Batches: 100%|##########| 122/122 [00:24<00:00,  5.00it/s, train_loss=1.34]  \n"
     ]
    },
    {
     "name": "stdout",
     "output_type": "stream",
     "text": [
      "Epoch 37 average loss: 0.1537\n",
      "Current epoch: 37 | AUC: 0.9930 | Accuracy: 0.9006 | Best AUC: 0.9991 at epoch: 9\n",
      "----------\n",
      "epoch 38/110\n"
     ]
    },
    {
     "name": "stderr",
     "output_type": "stream",
     "text": [
      "Training Batches: 100%|##########| 122/122 [00:24<00:00,  5.01it/s, train_loss=0.0861] \n"
     ]
    },
    {
     "name": "stdout",
     "output_type": "stream",
     "text": [
      "Epoch 38 average loss: 0.1109\n",
      "Current epoch: 38 | AUC: 0.9902 | Accuracy: 0.8758 | Best AUC: 0.9991 at epoch: 9\n",
      "----------\n",
      "epoch 39/110\n"
     ]
    },
    {
     "name": "stderr",
     "output_type": "stream",
     "text": [
      "Training Batches: 100%|##########| 122/122 [00:24<00:00,  5.00it/s, train_loss=0.00485]\n"
     ]
    },
    {
     "name": "stdout",
     "output_type": "stream",
     "text": [
      "Epoch 39 average loss: 0.1045\n",
      "Current epoch: 39 | AUC: 0.9852 | Accuracy: 0.8261 | Best AUC: 0.9991 at epoch: 9\n",
      "----------\n",
      "epoch 40/110\n"
     ]
    },
    {
     "name": "stderr",
     "output_type": "stream",
     "text": [
      "Training Batches: 100%|##########| 122/122 [00:24<00:00,  4.98it/s, train_loss=0.0884]\n"
     ]
    },
    {
     "name": "stdout",
     "output_type": "stream",
     "text": [
      "Epoch 40 average loss: 0.1120\n",
      "Current epoch: 40 | AUC: 0.9809 | Accuracy: 0.8571 | Best AUC: 0.9991 at epoch: 9\n",
      "----------\n",
      "epoch 41/110\n"
     ]
    },
    {
     "name": "stderr",
     "output_type": "stream",
     "text": [
      "Training Batches: 100%|##########| 122/122 [00:24<00:00,  5.07it/s, train_loss=0.0845] \n"
     ]
    },
    {
     "name": "stdout",
     "output_type": "stream",
     "text": [
      "Epoch 41 average loss: 0.1100\n",
      "Current epoch: 41 | AUC: 0.9951 | Accuracy: 0.9130 | Best AUC: 0.9991 at epoch: 9\n",
      "----------\n",
      "epoch 42/110\n"
     ]
    },
    {
     "name": "stderr",
     "output_type": "stream",
     "text": [
      "Training Batches: 100%|##########| 122/122 [00:24<00:00,  5.05it/s, train_loss=0.029]  \n"
     ]
    },
    {
     "name": "stdout",
     "output_type": "stream",
     "text": [
      "Epoch 42 average loss: 0.0981\n",
      "Current epoch: 42 | AUC: 0.9970 | Accuracy: 0.9130 | Best AUC: 0.9991 at epoch: 9\n",
      "----------\n",
      "epoch 43/110\n"
     ]
    },
    {
     "name": "stderr",
     "output_type": "stream",
     "text": [
      "Training Batches: 100%|##########| 122/122 [00:24<00:00,  5.06it/s, train_loss=0.145]  \n"
     ]
    },
    {
     "name": "stdout",
     "output_type": "stream",
     "text": [
      "Epoch 43 average loss: 0.0680\n",
      "Current epoch: 43 | AUC: 0.9900 | Accuracy: 0.8696 | Best AUC: 0.9991 at epoch: 9\n",
      "----------\n",
      "epoch 44/110\n"
     ]
    },
    {
     "name": "stderr",
     "output_type": "stream",
     "text": [
      "Training Batches: 100%|##########| 122/122 [00:24<00:00,  5.01it/s, train_loss=1.2]    \n"
     ]
    },
    {
     "name": "stdout",
     "output_type": "stream",
     "text": [
      "Epoch 44 average loss: 0.0977\n",
      "Current epoch: 44 | AUC: 0.9927 | Accuracy: 0.9130 | Best AUC: 0.9991 at epoch: 9\n",
      "----------\n",
      "epoch 45/110\n"
     ]
    },
    {
     "name": "stderr",
     "output_type": "stream",
     "text": [
      "Training Batches: 100%|##########| 122/122 [00:24<00:00,  5.01it/s, train_loss=1.62]   \n"
     ]
    },
    {
     "name": "stdout",
     "output_type": "stream",
     "text": [
      "Epoch 45 average loss: 0.1480\n",
      "Current epoch: 45 | AUC: 0.9896 | Accuracy: 0.8758 | Best AUC: 0.9991 at epoch: 9\n",
      "----------\n",
      "epoch 46/110\n"
     ]
    },
    {
     "name": "stderr",
     "output_type": "stream",
     "text": [
      "Training Batches: 100%|##########| 122/122 [00:24<00:00,  4.99it/s, train_loss=0.176]  \n"
     ]
    },
    {
     "name": "stdout",
     "output_type": "stream",
     "text": [
      "Epoch 46 average loss: 0.1215\n",
      "Current epoch: 46 | AUC: 0.9932 | Accuracy: 0.8447 | Best AUC: 0.9991 at epoch: 9\n",
      "----------\n",
      "epoch 47/110\n"
     ]
    },
    {
     "name": "stderr",
     "output_type": "stream",
     "text": [
      "Training Batches: 100%|##########| 122/122 [00:24<00:00,  5.01it/s, train_loss=0.029]  \n"
     ]
    },
    {
     "name": "stdout",
     "output_type": "stream",
     "text": [
      "Epoch 47 average loss: 0.0994\n",
      "Current epoch: 47 | AUC: 0.9912 | Accuracy: 0.8758 | Best AUC: 0.9991 at epoch: 9\n",
      "----------\n",
      "epoch 48/110\n"
     ]
    },
    {
     "name": "stderr",
     "output_type": "stream",
     "text": [
      "Training Batches: 100%|##########| 122/122 [00:24<00:00,  5.01it/s, train_loss=2.69]   \n"
     ]
    },
    {
     "name": "stdout",
     "output_type": "stream",
     "text": [
      "Epoch 48 average loss: 0.1149\n",
      "Current epoch: 48 | AUC: 0.9937 | Accuracy: 0.9006 | Best AUC: 0.9991 at epoch: 9\n",
      "----------\n",
      "epoch 49/110\n"
     ]
    },
    {
     "name": "stderr",
     "output_type": "stream",
     "text": [
      "Training Batches: 100%|##########| 122/122 [00:24<00:00,  5.04it/s, train_loss=0.0291] \n"
     ]
    },
    {
     "name": "stdout",
     "output_type": "stream",
     "text": [
      "Epoch 49 average loss: 0.0887\n",
      "Current epoch: 49 | AUC: 0.9894 | Accuracy: 0.8882 | Best AUC: 0.9991 at epoch: 9\n",
      "----------\n",
      "epoch 50/110\n"
     ]
    },
    {
     "name": "stderr",
     "output_type": "stream",
     "text": [
      "Training Batches: 100%|##########| 122/122 [00:24<00:00,  5.03it/s, train_loss=1.24]   \n"
     ]
    },
    {
     "name": "stdout",
     "output_type": "stream",
     "text": [
      "Epoch 50 average loss: 0.0986\n",
      "Current epoch: 50 | AUC: 0.9919 | Accuracy: 0.9193 | Best AUC: 0.9991 at epoch: 9\n",
      "----------\n",
      "epoch 51/110\n"
     ]
    },
    {
     "name": "stderr",
     "output_type": "stream",
     "text": [
      "Training Batches: 100%|##########| 122/122 [00:24<00:00,  4.97it/s, train_loss=0.0142] \n"
     ]
    },
    {
     "name": "stdout",
     "output_type": "stream",
     "text": [
      "Epoch 51 average loss: 0.0505\n",
      "Current epoch: 51 | AUC: 0.9972 | Accuracy: 0.9565 | Best AUC: 0.9991 at epoch: 9\n",
      "----------\n",
      "epoch 52/110\n"
     ]
    },
    {
     "name": "stderr",
     "output_type": "stream",
     "text": [
      "Training Batches: 100%|##########| 122/122 [00:24<00:00,  5.02it/s, train_loss=0.00494]\n"
     ]
    },
    {
     "name": "stdout",
     "output_type": "stream",
     "text": [
      "Epoch 52 average loss: 0.0494\n",
      "Current epoch: 52 | AUC: 0.9942 | Accuracy: 0.9193 | Best AUC: 0.9991 at epoch: 9\n",
      "----------\n",
      "epoch 53/110\n"
     ]
    },
    {
     "name": "stderr",
     "output_type": "stream",
     "text": [
      "Training Batches: 100%|##########| 122/122 [00:24<00:00,  5.04it/s, train_loss=0.315]  \n"
     ]
    },
    {
     "name": "stdout",
     "output_type": "stream",
     "text": [
      "Epoch 53 average loss: 0.0725\n",
      "Current epoch: 53 | AUC: 0.9937 | Accuracy: 0.9130 | Best AUC: 0.9991 at epoch: 9\n",
      "----------\n",
      "epoch 54/110\n"
     ]
    },
    {
     "name": "stderr",
     "output_type": "stream",
     "text": [
      "Training Batches: 100%|##########| 122/122 [00:24<00:00,  5.01it/s, train_loss=0.0289] \n"
     ]
    },
    {
     "name": "stdout",
     "output_type": "stream",
     "text": [
      "Epoch 54 average loss: 0.0526\n",
      "Current epoch: 54 | AUC: 0.9938 | Accuracy: 0.9006 | Best AUC: 0.9991 at epoch: 9\n",
      "----------\n",
      "epoch 55/110\n"
     ]
    },
    {
     "name": "stderr",
     "output_type": "stream",
     "text": [
      "Training Batches: 100%|##########| 122/122 [00:24<00:00,  5.01it/s, train_loss=0.0531] \n"
     ]
    },
    {
     "name": "stdout",
     "output_type": "stream",
     "text": [
      "Epoch 55 average loss: 0.0429\n",
      "Current epoch: 55 | AUC: 0.9985 | Accuracy: 0.9627 | Best AUC: 0.9991 at epoch: 9\n",
      "----------\n",
      "epoch 56/110\n"
     ]
    },
    {
     "name": "stderr",
     "output_type": "stream",
     "text": [
      "Training Batches: 100%|##########| 122/122 [00:24<00:00,  5.01it/s, train_loss=0.00391] \n"
     ]
    },
    {
     "name": "stdout",
     "output_type": "stream",
     "text": [
      "Epoch 56 average loss: 0.0407\n",
      "Current epoch: 56 | AUC: 0.9976 | Accuracy: 0.9255 | Best AUC: 0.9991 at epoch: 9\n",
      "----------\n",
      "epoch 57/110\n"
     ]
    },
    {
     "name": "stderr",
     "output_type": "stream",
     "text": [
      "Training Batches: 100%|##########| 122/122 [00:24<00:00,  4.96it/s, train_loss=0.0292] \n"
     ]
    },
    {
     "name": "stdout",
     "output_type": "stream",
     "text": [
      "Epoch 57 average loss: 0.0482\n",
      "Current epoch: 57 | AUC: 0.9990 | Accuracy: 0.9565 | Best AUC: 0.9991 at epoch: 9\n",
      "----------\n",
      "epoch 58/110\n"
     ]
    },
    {
     "name": "stderr",
     "output_type": "stream",
     "text": [
      "Training Batches: 100%|##########| 122/122 [00:23<00:00,  5.09it/s, train_loss=0.263]  \n"
     ]
    },
    {
     "name": "stdout",
     "output_type": "stream",
     "text": [
      "Epoch 58 average loss: 0.0522\n",
      "Current epoch: 58 | AUC: 0.9783 | Accuracy: 0.8634 | Best AUC: 0.9991 at epoch: 9\n",
      "----------\n",
      "epoch 59/110\n"
     ]
    },
    {
     "name": "stderr",
     "output_type": "stream",
     "text": [
      "Training Batches: 100%|##########| 122/122 [00:24<00:00,  5.01it/s, train_loss=0.019]  \n"
     ]
    },
    {
     "name": "stdout",
     "output_type": "stream",
     "text": [
      "Epoch 59 average loss: 0.0777\n",
      "Current epoch: 59 | AUC: 0.9918 | Accuracy: 0.8944 | Best AUC: 0.9991 at epoch: 9\n",
      "----------\n",
      "epoch 60/110\n"
     ]
    },
    {
     "name": "stderr",
     "output_type": "stream",
     "text": [
      "Training Batches: 100%|##########| 122/122 [00:24<00:00,  5.00it/s, train_loss=0.191]  \n"
     ]
    },
    {
     "name": "stdout",
     "output_type": "stream",
     "text": [
      "Epoch 60 average loss: 0.0625\n",
      "Current epoch: 60 | AUC: 0.9986 | Accuracy: 0.9627 | Best AUC: 0.9991 at epoch: 9\n",
      "----------\n",
      "epoch 61/110\n"
     ]
    },
    {
     "name": "stderr",
     "output_type": "stream",
     "text": [
      "Training Batches: 100%|##########| 122/122 [00:24<00:00,  5.04it/s, train_loss=0.0671] \n"
     ]
    },
    {
     "name": "stdout",
     "output_type": "stream",
     "text": [
      "Epoch 61 average loss: 0.0721\n",
      "Current epoch: 61 | AUC: 0.9989 | Accuracy: 0.9565 | Best AUC: 0.9991 at epoch: 9\n",
      "----------\n",
      "epoch 62/110\n"
     ]
    },
    {
     "name": "stderr",
     "output_type": "stream",
     "text": [
      "Training Batches: 100%|##########| 122/122 [00:24<00:00,  5.03it/s, train_loss=0.00425]\n"
     ]
    },
    {
     "name": "stdout",
     "output_type": "stream",
     "text": [
      "Epoch 62 average loss: 0.0563\n",
      "Current epoch: 62 | AUC: 0.9934 | Accuracy: 0.8944 | Best AUC: 0.9991 at epoch: 9\n",
      "----------\n",
      "epoch 63/110\n"
     ]
    },
    {
     "name": "stderr",
     "output_type": "stream",
     "text": [
      "Training Batches: 100%|##########| 122/122 [00:24<00:00,  4.99it/s, train_loss=0.0679] \n"
     ]
    },
    {
     "name": "stdout",
     "output_type": "stream",
     "text": [
      "Epoch 63 average loss: 0.0810\n",
      "Current epoch: 63 | AUC: 0.9983 | Accuracy: 0.9317 | Best AUC: 0.9991 at epoch: 9\n",
      "----------\n",
      "epoch 64/110\n"
     ]
    },
    {
     "name": "stderr",
     "output_type": "stream",
     "text": [
      "Training Batches: 100%|##########| 122/122 [00:24<00:00,  5.03it/s, train_loss=0.0391] \n"
     ]
    },
    {
     "name": "stdout",
     "output_type": "stream",
     "text": [
      "Epoch 64 average loss: 0.0728\n",
      "Current epoch: 64 | AUC: 0.9939 | Accuracy: 0.9006 | Best AUC: 0.9991 at epoch: 9\n",
      "----------\n",
      "epoch 65/110\n"
     ]
    },
    {
     "name": "stderr",
     "output_type": "stream",
     "text": [
      "Training Batches: 100%|##########| 122/122 [00:24<00:00,  5.05it/s, train_loss=0.168]  \n"
     ]
    },
    {
     "name": "stdout",
     "output_type": "stream",
     "text": [
      "Epoch 65 average loss: 0.0548\n",
      "Current epoch: 65 | AUC: 0.9942 | Accuracy: 0.9130 | Best AUC: 0.9991 at epoch: 9\n",
      "----------\n",
      "epoch 66/110\n"
     ]
    },
    {
     "name": "stderr",
     "output_type": "stream",
     "text": [
      "Training Batches: 100%|##########| 122/122 [00:24<00:00,  4.96it/s, train_loss=0.00784]\n"
     ]
    },
    {
     "name": "stdout",
     "output_type": "stream",
     "text": [
      "Epoch 66 average loss: 0.0397\n",
      "Current epoch: 66 | AUC: 0.9966 | Accuracy: 0.9317 | Best AUC: 0.9991 at epoch: 9\n",
      "----------\n",
      "epoch 67/110\n"
     ]
    },
    {
     "name": "stderr",
     "output_type": "stream",
     "text": [
      "Training Batches: 100%|##########| 122/122 [00:24<00:00,  5.05it/s, train_loss=0.688]  \n"
     ]
    },
    {
     "name": "stdout",
     "output_type": "stream",
     "text": [
      "Epoch 67 average loss: 0.0385\n",
      "Current epoch: 67 | AUC: 0.9945 | Accuracy: 0.9193 | Best AUC: 0.9991 at epoch: 9\n",
      "----------\n",
      "epoch 68/110\n"
     ]
    },
    {
     "name": "stderr",
     "output_type": "stream",
     "text": [
      "Training Batches: 100%|##########| 122/122 [00:24<00:00,  5.06it/s, train_loss=0.00338] \n"
     ]
    },
    {
     "name": "stdout",
     "output_type": "stream",
     "text": [
      "Epoch 68 average loss: 0.0803\n",
      "Saved new best metric model\n",
      "Current epoch: 68 | AUC: 0.9994 | Accuracy: 0.9379 | Best AUC: 0.9994 at epoch: 68\n",
      "----------\n",
      "epoch 69/110\n"
     ]
    },
    {
     "name": "stderr",
     "output_type": "stream",
     "text": [
      "Training Batches: 100%|##########| 122/122 [00:24<00:00,  5.05it/s, train_loss=0.244]  \n"
     ]
    },
    {
     "name": "stdout",
     "output_type": "stream",
     "text": [
      "Epoch 69 average loss: 0.0443\n",
      "Current epoch: 69 | AUC: 0.9978 | Accuracy: 0.9441 | Best AUC: 0.9994 at epoch: 68\n",
      "----------\n",
      "epoch 70/110\n"
     ]
    },
    {
     "name": "stderr",
     "output_type": "stream",
     "text": [
      "Training Batches: 100%|##########| 122/122 [00:24<00:00,  5.03it/s, train_loss=0.0435]  \n"
     ]
    },
    {
     "name": "stdout",
     "output_type": "stream",
     "text": [
      "Epoch 70 average loss: 0.0464\n",
      "Current epoch: 70 | AUC: 0.9988 | Accuracy: 0.9689 | Best AUC: 0.9994 at epoch: 68\n",
      "----------\n",
      "epoch 71/110\n"
     ]
    },
    {
     "name": "stderr",
     "output_type": "stream",
     "text": [
      "Training Batches: 100%|##########| 122/122 [00:24<00:00,  5.06it/s, train_loss=0.00217]\n"
     ]
    },
    {
     "name": "stdout",
     "output_type": "stream",
     "text": [
      "Epoch 71 average loss: 0.0526\n",
      "Current epoch: 71 | AUC: 0.9914 | Accuracy: 0.9068 | Best AUC: 0.9994 at epoch: 68\n",
      "----------\n",
      "epoch 72/110\n"
     ]
    },
    {
     "name": "stderr",
     "output_type": "stream",
     "text": [
      "Training Batches: 100%|##########| 122/122 [00:24<00:00,  5.02it/s, train_loss=0.055]  \n"
     ]
    },
    {
     "name": "stdout",
     "output_type": "stream",
     "text": [
      "Epoch 72 average loss: 0.0688\n",
      "Current epoch: 72 | AUC: 0.9966 | Accuracy: 0.9379 | Best AUC: 0.9994 at epoch: 68\n",
      "----------\n",
      "epoch 73/110\n"
     ]
    },
    {
     "name": "stderr",
     "output_type": "stream",
     "text": [
      "Training Batches: 100%|##########| 122/122 [00:24<00:00,  5.05it/s, train_loss=0.0173] \n"
     ]
    },
    {
     "name": "stdout",
     "output_type": "stream",
     "text": [
      "Epoch 73 average loss: 0.0341\n",
      "Current epoch: 73 | AUC: 0.9913 | Accuracy: 0.8944 | Best AUC: 0.9994 at epoch: 68\n",
      "----------\n",
      "epoch 74/110\n"
     ]
    },
    {
     "name": "stderr",
     "output_type": "stream",
     "text": [
      "Training Batches: 100%|##########| 122/122 [00:24<00:00,  4.98it/s, train_loss=0.364]  \n"
     ]
    },
    {
     "name": "stdout",
     "output_type": "stream",
     "text": [
      "Epoch 74 average loss: 0.0529\n",
      "Current epoch: 74 | AUC: 0.9935 | Accuracy: 0.8820 | Best AUC: 0.9994 at epoch: 68\n",
      "----------\n",
      "epoch 75/110\n"
     ]
    },
    {
     "name": "stderr",
     "output_type": "stream",
     "text": [
      "Training Batches: 100%|##########| 122/122 [00:24<00:00,  5.01it/s, train_loss=0.0104] \n"
     ]
    },
    {
     "name": "stdout",
     "output_type": "stream",
     "text": [
      "Epoch 75 average loss: 0.0752\n",
      "Current epoch: 75 | AUC: 0.9939 | Accuracy: 0.9068 | Best AUC: 0.9994 at epoch: 68\n",
      "----------\n",
      "epoch 76/110\n"
     ]
    },
    {
     "name": "stderr",
     "output_type": "stream",
     "text": [
      "Training Batches: 100%|##########| 122/122 [00:24<00:00,  4.94it/s, train_loss=0.012]  \n"
     ]
    },
    {
     "name": "stdout",
     "output_type": "stream",
     "text": [
      "Epoch 76 average loss: 0.0579\n",
      "Current epoch: 76 | AUC: 0.9949 | Accuracy: 0.9255 | Best AUC: 0.9994 at epoch: 68\n",
      "----------\n",
      "epoch 77/110\n"
     ]
    },
    {
     "name": "stderr",
     "output_type": "stream",
     "text": [
      "Training Batches: 100%|##########| 122/122 [00:24<00:00,  5.04it/s, train_loss=1.19]   \n"
     ]
    },
    {
     "name": "stdout",
     "output_type": "stream",
     "text": [
      "Epoch 77 average loss: 0.0619\n",
      "Current epoch: 77 | AUC: 0.9913 | Accuracy: 0.8944 | Best AUC: 0.9994 at epoch: 68\n",
      "----------\n",
      "epoch 78/110\n"
     ]
    },
    {
     "name": "stderr",
     "output_type": "stream",
     "text": [
      "Training Batches: 100%|##########| 122/122 [00:24<00:00,  5.02it/s, train_loss=0.00288]\n"
     ]
    },
    {
     "name": "stdout",
     "output_type": "stream",
     "text": [
      "Epoch 78 average loss: 0.0503\n",
      "Current epoch: 78 | AUC: 0.9965 | Accuracy: 0.9565 | Best AUC: 0.9994 at epoch: 68\n",
      "----------\n",
      "epoch 79/110\n"
     ]
    },
    {
     "name": "stderr",
     "output_type": "stream",
     "text": [
      "Training Batches: 100%|##########| 122/122 [00:24<00:00,  5.04it/s, train_loss=0.00469]\n"
     ]
    },
    {
     "name": "stdout",
     "output_type": "stream",
     "text": [
      "Epoch 79 average loss: 0.0525\n",
      "Current epoch: 79 | AUC: 0.9965 | Accuracy: 0.9130 | Best AUC: 0.9994 at epoch: 68\n",
      "----------\n",
      "epoch 80/110\n"
     ]
    },
    {
     "name": "stderr",
     "output_type": "stream",
     "text": [
      "Training Batches: 100%|##########| 122/122 [00:23<00:00,  5.12it/s, train_loss=0.0297]  \n"
     ]
    },
    {
     "name": "stdout",
     "output_type": "stream",
     "text": [
      "Epoch 80 average loss: 0.0248\n",
      "Current epoch: 80 | AUC: 0.9954 | Accuracy: 0.9317 | Best AUC: 0.9994 at epoch: 68\n",
      "----------\n",
      "epoch 81/110\n"
     ]
    },
    {
     "name": "stderr",
     "output_type": "stream",
     "text": [
      "Training Batches: 100%|##########| 122/122 [00:24<00:00,  4.98it/s, train_loss=0.00273] \n"
     ]
    },
    {
     "name": "stdout",
     "output_type": "stream",
     "text": [
      "Epoch 81 average loss: 0.0457\n",
      "Current epoch: 81 | AUC: 0.9943 | Accuracy: 0.9193 | Best AUC: 0.9994 at epoch: 68\n",
      "----------\n",
      "epoch 82/110\n"
     ]
    },
    {
     "name": "stderr",
     "output_type": "stream",
     "text": [
      "Training Batches: 100%|##########| 122/122 [00:24<00:00,  4.93it/s, train_loss=0.065]   \n"
     ]
    },
    {
     "name": "stdout",
     "output_type": "stream",
     "text": [
      "Epoch 82 average loss: 0.0258\n",
      "Current epoch: 82 | AUC: 0.9989 | Accuracy: 0.9627 | Best AUC: 0.9994 at epoch: 68\n",
      "----------\n",
      "epoch 83/110\n"
     ]
    },
    {
     "name": "stderr",
     "output_type": "stream",
     "text": [
      "Training Batches: 100%|##########| 122/122 [00:24<00:00,  5.03it/s, train_loss=0.00317]\n"
     ]
    },
    {
     "name": "stdout",
     "output_type": "stream",
     "text": [
      "Epoch 83 average loss: 0.0342\n",
      "Current epoch: 83 | AUC: 0.9944 | Accuracy: 0.9130 | Best AUC: 0.9994 at epoch: 68\n",
      "----------\n",
      "epoch 84/110\n"
     ]
    },
    {
     "name": "stderr",
     "output_type": "stream",
     "text": [
      "Training Batches: 100%|##########| 122/122 [00:24<00:00,  4.95it/s, train_loss=0.0211] \n"
     ]
    },
    {
     "name": "stdout",
     "output_type": "stream",
     "text": [
      "Epoch 84 average loss: 0.0415\n",
      "Current epoch: 84 | AUC: 0.9937 | Accuracy: 0.9255 | Best AUC: 0.9994 at epoch: 68\n",
      "----------\n",
      "epoch 85/110\n"
     ]
    },
    {
     "name": "stderr",
     "output_type": "stream",
     "text": [
      "Training Batches: 100%|##########| 122/122 [00:24<00:00,  5.06it/s, train_loss=0.993]  \n"
     ]
    },
    {
     "name": "stdout",
     "output_type": "stream",
     "text": [
      "Epoch 85 average loss: 0.0569\n",
      "Current epoch: 85 | AUC: 0.9974 | Accuracy: 0.9441 | Best AUC: 0.9994 at epoch: 68\n",
      "----------\n",
      "epoch 86/110\n"
     ]
    },
    {
     "name": "stderr",
     "output_type": "stream",
     "text": [
      "Training Batches: 100%|##########| 122/122 [00:24<00:00,  5.06it/s, train_loss=0.0104] \n"
     ]
    },
    {
     "name": "stdout",
     "output_type": "stream",
     "text": [
      "Epoch 86 average loss: 0.0434\n",
      "Current epoch: 86 | AUC: 0.9969 | Accuracy: 0.9565 | Best AUC: 0.9994 at epoch: 68\n",
      "----------\n",
      "epoch 87/110\n"
     ]
    },
    {
     "name": "stderr",
     "output_type": "stream",
     "text": [
      "Training Batches: 100%|##########| 122/122 [00:24<00:00,  5.03it/s, train_loss=0.0132]  \n"
     ]
    },
    {
     "name": "stdout",
     "output_type": "stream",
     "text": [
      "Epoch 87 average loss: 0.0301\n",
      "Current epoch: 87 | AUC: 0.9947 | Accuracy: 0.8944 | Best AUC: 0.9994 at epoch: 68\n",
      "----------\n",
      "epoch 88/110\n"
     ]
    },
    {
     "name": "stderr",
     "output_type": "stream",
     "text": [
      "Training Batches: 100%|##########| 122/122 [00:24<00:00,  5.02it/s, train_loss=0.0172]  \n"
     ]
    },
    {
     "name": "stdout",
     "output_type": "stream",
     "text": [
      "Epoch 88 average loss: 0.0149\n",
      "Current epoch: 88 | AUC: 0.9945 | Accuracy: 0.9317 | Best AUC: 0.9994 at epoch: 68\n",
      "----------\n",
      "epoch 89/110\n"
     ]
    },
    {
     "name": "stderr",
     "output_type": "stream",
     "text": [
      "Training Batches: 100%|##########| 122/122 [00:24<00:00,  5.07it/s, train_loss=0.0758] \n"
     ]
    },
    {
     "name": "stdout",
     "output_type": "stream",
     "text": [
      "Epoch 89 average loss: 0.0339\n",
      "Current epoch: 89 | AUC: 0.9946 | Accuracy: 0.9193 | Best AUC: 0.9994 at epoch: 68\n",
      "----------\n",
      "epoch 90/110\n"
     ]
    },
    {
     "name": "stderr",
     "output_type": "stream",
     "text": [
      "Training Batches: 100%|##########| 122/122 [00:24<00:00,  5.07it/s, train_loss=0.00354] \n"
     ]
    },
    {
     "name": "stdout",
     "output_type": "stream",
     "text": [
      "Epoch 90 average loss: 0.0522\n",
      "Current epoch: 90 | AUC: 0.9976 | Accuracy: 0.9379 | Best AUC: 0.9994 at epoch: 68\n",
      "----------\n",
      "epoch 91/110\n"
     ]
    },
    {
     "name": "stderr",
     "output_type": "stream",
     "text": [
      "Training Batches: 100%|##########| 122/122 [00:24<00:00,  4.98it/s, train_loss=0.00403]\n"
     ]
    },
    {
     "name": "stdout",
     "output_type": "stream",
     "text": [
      "Epoch 91 average loss: 0.0396\n",
      "Current epoch: 91 | AUC: 0.9958 | Accuracy: 0.9379 | Best AUC: 0.9994 at epoch: 68\n",
      "----------\n",
      "epoch 92/110\n"
     ]
    },
    {
     "name": "stderr",
     "output_type": "stream",
     "text": [
      "Training Batches: 100%|##########| 122/122 [00:24<00:00,  5.07it/s, train_loss=0.0163]  \n"
     ]
    },
    {
     "name": "stdout",
     "output_type": "stream",
     "text": [
      "Epoch 92 average loss: 0.0139\n",
      "Current epoch: 92 | AUC: 0.9952 | Accuracy: 0.9441 | Best AUC: 0.9994 at epoch: 68\n",
      "----------\n",
      "epoch 93/110\n"
     ]
    },
    {
     "name": "stderr",
     "output_type": "stream",
     "text": [
      "Training Batches: 100%|##########| 122/122 [00:24<00:00,  5.04it/s, train_loss=0.174]  \n"
     ]
    },
    {
     "name": "stdout",
     "output_type": "stream",
     "text": [
      "Epoch 93 average loss: 0.0243\n",
      "Current epoch: 93 | AUC: 0.9969 | Accuracy: 0.9565 | Best AUC: 0.9994 at epoch: 68\n",
      "----------\n",
      "epoch 94/110\n"
     ]
    },
    {
     "name": "stderr",
     "output_type": "stream",
     "text": [
      "Training Batches: 100%|##########| 122/122 [00:24<00:00,  4.99it/s, train_loss=0.0146]  \n"
     ]
    },
    {
     "name": "stdout",
     "output_type": "stream",
     "text": [
      "Epoch 94 average loss: 0.0500\n",
      "Current epoch: 94 | AUC: 0.9973 | Accuracy: 0.9317 | Best AUC: 0.9994 at epoch: 68\n",
      "----------\n",
      "epoch 95/110\n"
     ]
    },
    {
     "name": "stderr",
     "output_type": "stream",
     "text": [
      "Training Batches: 100%|##########| 122/122 [00:24<00:00,  5.03it/s, train_loss=0.515]  \n"
     ]
    },
    {
     "name": "stdout",
     "output_type": "stream",
     "text": [
      "Epoch 95 average loss: 0.0546\n",
      "Current epoch: 95 | AUC: 0.9976 | Accuracy: 0.9503 | Best AUC: 0.9994 at epoch: 68\n",
      "----------\n",
      "epoch 96/110\n"
     ]
    },
    {
     "name": "stderr",
     "output_type": "stream",
     "text": [
      "Training Batches: 100%|##########| 122/122 [00:24<00:00,  5.08it/s, train_loss=0.0036] \n"
     ]
    },
    {
     "name": "stdout",
     "output_type": "stream",
     "text": [
      "Epoch 96 average loss: 0.0902\n",
      "Current epoch: 96 | AUC: 0.9949 | Accuracy: 0.9130 | Best AUC: 0.9994 at epoch: 68\n",
      "----------\n",
      "epoch 97/110\n"
     ]
    },
    {
     "name": "stderr",
     "output_type": "stream",
     "text": [
      "Training Batches: 100%|##########| 122/122 [00:24<00:00,  4.98it/s, train_loss=0.0052]  \n"
     ]
    },
    {
     "name": "stdout",
     "output_type": "stream",
     "text": [
      "Epoch 97 average loss: 0.0319\n",
      "Current epoch: 97 | AUC: 0.9951 | Accuracy: 0.9193 | Best AUC: 0.9994 at epoch: 68\n",
      "----------\n",
      "epoch 98/110\n"
     ]
    },
    {
     "name": "stderr",
     "output_type": "stream",
     "text": [
      "Training Batches: 100%|##########| 122/122 [00:24<00:00,  5.00it/s, train_loss=0.495]   \n"
     ]
    },
    {
     "name": "stdout",
     "output_type": "stream",
     "text": [
      "Epoch 98 average loss: 0.0378\n",
      "Current epoch: 98 | AUC: 0.9943 | Accuracy: 0.9193 | Best AUC: 0.9994 at epoch: 68\n",
      "----------\n",
      "epoch 99/110\n"
     ]
    },
    {
     "name": "stderr",
     "output_type": "stream",
     "text": [
      "Training Batches: 100%|##########| 122/122 [00:24<00:00,  5.01it/s, train_loss=0.254]   \n"
     ]
    },
    {
     "name": "stdout",
     "output_type": "stream",
     "text": [
      "Epoch 99 average loss: 0.0428\n",
      "Current epoch: 99 | AUC: 0.9973 | Accuracy: 0.9379 | Best AUC: 0.9994 at epoch: 68\n",
      "----------\n",
      "epoch 100/110\n"
     ]
    },
    {
     "name": "stderr",
     "output_type": "stream",
     "text": [
      "Training Batches: 100%|##########| 122/122 [00:24<00:00,  4.98it/s, train_loss=0.258]   \n"
     ]
    },
    {
     "name": "stdout",
     "output_type": "stream",
     "text": [
      "Epoch 100 average loss: 0.0269\n",
      "Current epoch: 100 | AUC: 0.9970 | Accuracy: 0.9503 | Best AUC: 0.9994 at epoch: 68\n",
      "----------\n",
      "epoch 101/110\n"
     ]
    },
    {
     "name": "stderr",
     "output_type": "stream",
     "text": [
      "Training Batches: 100%|##########| 122/122 [00:24<00:00,  5.05it/s, train_loss=0.0301] \n"
     ]
    },
    {
     "name": "stdout",
     "output_type": "stream",
     "text": [
      "Epoch 101 average loss: 0.0276\n",
      "Current epoch: 101 | AUC: 0.9924 | Accuracy: 0.9193 | Best AUC: 0.9994 at epoch: 68\n",
      "----------\n",
      "epoch 102/110\n"
     ]
    },
    {
     "name": "stderr",
     "output_type": "stream",
     "text": [
      "Training Batches: 100%|##########| 122/122 [00:24<00:00,  4.96it/s, train_loss=0.00413] \n"
     ]
    },
    {
     "name": "stdout",
     "output_type": "stream",
     "text": [
      "Epoch 102 average loss: 0.0278\n",
      "Current epoch: 102 | AUC: 0.9979 | Accuracy: 0.9689 | Best AUC: 0.9994 at epoch: 68\n",
      "----------\n",
      "epoch 103/110\n"
     ]
    },
    {
     "name": "stderr",
     "output_type": "stream",
     "text": [
      "Training Batches: 100%|##########| 122/122 [00:24<00:00,  4.93it/s, train_loss=0.000816]\n"
     ]
    },
    {
     "name": "stdout",
     "output_type": "stream",
     "text": [
      "Epoch 103 average loss: 0.0297\n",
      "Current epoch: 103 | AUC: 0.9973 | Accuracy: 0.9503 | Best AUC: 0.9994 at epoch: 68\n",
      "----------\n",
      "epoch 104/110\n"
     ]
    },
    {
     "name": "stderr",
     "output_type": "stream",
     "text": [
      "Training Batches: 100%|##########| 122/122 [00:24<00:00,  5.02it/s, train_loss=0.00238] \n"
     ]
    },
    {
     "name": "stdout",
     "output_type": "stream",
     "text": [
      "Epoch 104 average loss: 0.0340\n",
      "Current epoch: 104 | AUC: 0.9944 | Accuracy: 0.9317 | Best AUC: 0.9994 at epoch: 68\n",
      "----------\n",
      "epoch 105/110\n"
     ]
    },
    {
     "name": "stderr",
     "output_type": "stream",
     "text": [
      "Training Batches: 100%|##########| 122/122 [00:24<00:00,  4.96it/s, train_loss=0.0352] \n"
     ]
    },
    {
     "name": "stdout",
     "output_type": "stream",
     "text": [
      "Epoch 105 average loss: 0.0453\n",
      "Current epoch: 105 | AUC: 0.9930 | Accuracy: 0.9193 | Best AUC: 0.9994 at epoch: 68\n",
      "----------\n",
      "epoch 106/110\n"
     ]
    },
    {
     "name": "stderr",
     "output_type": "stream",
     "text": [
      "Training Batches: 100%|##########| 122/122 [00:24<00:00,  5.02it/s, train_loss=0.0862]  \n"
     ]
    },
    {
     "name": "stdout",
     "output_type": "stream",
     "text": [
      "Epoch 106 average loss: 0.0200\n",
      "Current epoch: 106 | AUC: 0.9969 | Accuracy: 0.9565 | Best AUC: 0.9994 at epoch: 68\n",
      "----------\n",
      "epoch 107/110\n"
     ]
    },
    {
     "name": "stderr",
     "output_type": "stream",
     "text": [
      "Training Batches: 100%|##########| 122/122 [00:24<00:00,  5.04it/s, train_loss=0.000891]\n"
     ]
    },
    {
     "name": "stdout",
     "output_type": "stream",
     "text": [
      "Epoch 107 average loss: 0.0303\n",
      "Current epoch: 107 | AUC: 0.9954 | Accuracy: 0.9255 | Best AUC: 0.9994 at epoch: 68\n",
      "----------\n",
      "epoch 108/110\n"
     ]
    },
    {
     "name": "stderr",
     "output_type": "stream",
     "text": [
      "Training Batches: 100%|##########| 122/122 [00:24<00:00,  5.04it/s, train_loss=1.22]    \n"
     ]
    },
    {
     "name": "stdout",
     "output_type": "stream",
     "text": [
      "Epoch 108 average loss: 0.0449\n",
      "Current epoch: 108 | AUC: 0.9920 | Accuracy: 0.9193 | Best AUC: 0.9994 at epoch: 68\n",
      "----------\n",
      "epoch 109/110\n"
     ]
    },
    {
     "name": "stderr",
     "output_type": "stream",
     "text": [
      "Training Batches: 100%|##########| 122/122 [00:24<00:00,  5.08it/s, train_loss=0.179]  \n"
     ]
    },
    {
     "name": "stdout",
     "output_type": "stream",
     "text": [
      "Epoch 109 average loss: 0.0665\n",
      "Current epoch: 109 | AUC: 0.9956 | Accuracy: 0.9317 | Best AUC: 0.9994 at epoch: 68\n",
      "----------\n",
      "epoch 110/110\n"
     ]
    },
    {
     "name": "stderr",
     "output_type": "stream",
     "text": [
      "Training Batches: 100%|##########| 122/122 [00:24<00:00,  5.05it/s, train_loss=0.00302] \n"
     ]
    },
    {
     "name": "stdout",
     "output_type": "stream",
     "text": [
      "Epoch 110 average loss: 0.0257\n",
      "Current epoch: 110 | AUC: 0.9930 | Accuracy: 0.9006 | Best AUC: 0.9994 at epoch: 68\n",
      "Train completed, best_metric: 0.9994 at epoch: 68\n"
     ]
    }
   ],
   "source": [
    "best_metric = -1\n",
    "best_metric_epoch = -1\n",
    "epoch_loss_values = []\n",
    "metric_values = []\n",
    "writer = SummaryWriter()\n",
    "\n",
    "start_time = time.time()\n",
    "process = psutil.Process()\n",
    "start_cpu = process.cpu_times()\n",
    "start_mem = process.memory_info().rss / 1024**2  # В MB\n",
    "\n",
    "if device.type == \"cuda\":\n",
    "    torch.cuda.synchronize()\n",
    "    torch.cuda.reset_peak_memory_stats()\n",
    "\n",
    "for epoch in range(max_epochs):\n",
    "    print(\"-\" * 10)\n",
    "    print(f\"epoch {epoch + 1}/{max_epochs}\")\n",
    "    model.train()\n",
    "    epoch_loss = 0\n",
    "    step = 0\n",
    "    batch_iter = tqdm(train_loader, desc=\"Training Batches\", leave=True, dynamic_ncols=True, ascii=True)\n",
    "    \n",
    "    for batch_data in batch_iter:\n",
    "        step += 1\n",
    "        images, labels = batch_data['images'].to(device), batch_data['label'][:, 0].type(torch.LongTensor).to(device)\n",
    "        optimizer.zero_grad()\n",
    "        outputs = model(images)\n",
    "        loss = loss_function(outputs, labels)\n",
    "        loss.backward()\n",
    "        optimizer.step()\n",
    "        epoch_loss += loss.item()\n",
    "        epoch_len = len(train_dataset) // train_loader.batch_size\n",
    "        writer.add_scalar(\"train_loss\", loss.item(), epoch_len * epoch + step)\n",
    "        batch_iter.set_postfix(train_loss=loss.item())\n",
    "        \n",
    "    epoch_loss /= step\n",
    "    epoch_loss_values.append(epoch_loss)\n",
    "    tqdm.write(f\"Epoch {epoch + 1} average loss: {epoch_loss:.4f}\")\n",
    "\n",
    "    if (epoch + 1) % val_interval == 0:\n",
    "        model.eval()\n",
    "        with torch.no_grad():\n",
    "            y_pred = torch.tensor([], dtype=torch.float32, device=device)\n",
    "            y = torch.tensor([], dtype=torch.long, device=device)\n",
    "            for val_data in val_loader:\n",
    "                val_images, val_labels = (\n",
    "                    val_data['images'].to(device),\n",
    "                    val_data['label'][:, 0].type(torch.LongTensor).to(device),\n",
    "                )\n",
    "                y_pred = torch.cat([y_pred, model(val_images)], dim=0)\n",
    "                y = torch.cat([y, val_labels], dim=0)\n",
    "            y_onehot = [y_trans(i) for i in decollate_batch(y, detach=False)]\n",
    "            y_pred_act = [y_pred_trans(i) for i in decollate_batch(y_pred)]\n",
    "            auc_metric(y_pred_act, y_onehot)\n",
    "            result = auc_metric.aggregate()\n",
    "            auc_metric.reset()\n",
    "            del y_pred_act, y_onehot\n",
    "            metric_values.append(result)\n",
    "            acc_value = torch.eq(y_pred.argmax(dim=1), y)\n",
    "            acc_metric = acc_value.sum().item() / len(acc_value)\n",
    "            if result > best_metric:\n",
    "                best_metric = result\n",
    "                best_metric_epoch = epoch + 1\n",
    "                torch.save(model.state_dict(), os.path.join(root_dir, \"best_metric_model_3d.pth\"))\n",
    "                tqdm.write(\"Saved new best metric model\")\n",
    "            tqdm.write(\n",
    "                f\"Current epoch: {epoch + 1} | AUC: {result:.4f} | \"\n",
    "                f\"Accuracy: {acc_metric:.4f} | Best AUC: {best_metric:.4f} \"\n",
    "                f\"at epoch: {best_metric_epoch}\"\n",
    "            )\n",
    "            writer.add_scalar(\"val_accuracy\", acc_metric, epoch + 1)\n",
    "\n",
    "tqdm.write(f\"Train completed, best_metric: {best_metric:.4f} at epoch: {best_metric_epoch}\")\n",
    "writer.close()"
   ]
  },
  {
   "cell_type": "code",
   "execution_count": 39,
   "metadata": {},
   "outputs": [
    {
     "name": "stdout",
     "output_type": "stream",
     "text": [
      "Training time: 2742.62 seconds\n",
      "CPU time used: 32788.54 seconds\n",
      "Memory used: 543.55 MB\n",
      "GPU Memory Used: 787.14 MB\n",
      "Max GPU Memory Used: 4506.43 MB\n"
     ]
    }
   ],
   "source": [
    "end_time = time.time()\n",
    "end_cpu = process.cpu_times()\n",
    "end_mem = process.memory_info().rss / 1024**2\n",
    "\n",
    "cpu_time = (end_cpu.user + end_cpu.system) - (start_cpu.user + start_cpu.system)\n",
    "memory_used = end_mem - start_mem\n",
    "\n",
    "print(f\"Training time: {end_time - start_time:.2f} seconds\")\n",
    "print(f\"CPU time used: {cpu_time:.2f} seconds\")\n",
    "print(f\"Memory used: {memory_used:.2f} MB\")\n",
    "\n",
    "if device.type == \"cuda\":\n",
    "    torch.cuda.synchronize()\n",
    "    print(f\"GPU Memory Used: {torch.cuda.memory_allocated() / 1024**2:.2f} MB\")\n",
    "    print(f\"Max GPU Memory Used: {torch.cuda.max_memory_allocated() / 1024**2:.2f} MB\")\n"
   ]
  },
  {
   "cell_type": "code",
   "execution_count": 40,
   "metadata": {},
   "outputs": [
    {
     "data": {
      "image/png": "[encoded data removed]",
      "text/plain": [
       "<Figure size 1200x600 with 2 Axes>"
      ]
     },
     "metadata": {},
     "output_type": "display_data"
    }
   ],
   "source": [
    "plt.figure(\"train\", (12, 6))\n",
    "plt.subplot(1, 2, 1)\n",
    "plt.title(\"Epoch Average Loss\")\n",
    "x = [i + 1 for i in range(len(epoch_loss_values))]\n",
    "y = epoch_loss_values\n",
    "plt.xlabel(\"epoch\")\n",
    "plt.plot(x, y)\n",
    "plt.subplot(1, 2, 2)\n",
    "plt.title(\"Val AUC\")\n",
    "x = [val_interval * (i + 1) for i in range(len(metric_values))]\n",
    "y = metric_values\n",
    "plt.xlabel(\"epoch\")\n",
    "plt.plot(x, y)\n",
    "plt.show()"
   ]
  },
  {
   "cell_type": "code",
   "execution_count": 41,
   "metadata": {},
   "outputs": [
    {
     "name": "stdout",
     "output_type": "stream",
     "text": [
      "VRAM currently used: 787.14 MB\n",
      "Max VRAM used during training: 4506.43 MB\n"
     ]
    }
   ],
   "source": [
    "if device.type == \"cuda\":\n",
    "    torch.cuda.synchronize()\n",
    "    vram_used = torch.cuda.memory_allocated() / 1024**2\n",
    "    vram_max_used = torch.cuda.max_memory_allocated() / 1024**2\n",
    "\n",
    "    print(f\"VRAM currently used: {vram_used:.2f} MB\")\n",
    "    print(f\"Max VRAM used during training: {vram_max_used:.2f} MB\")\n"
   ]
  },
  {
   "cell_type": "markdown",
   "metadata": {},
   "source": [
    "### Evaluate the model on test dataset"
   ]
  },
  {
   "cell_type": "code",
   "execution_count": 18,
   "metadata": {},
   "outputs": [
    {
     "name": "stdout",
     "output_type": "stream",
     "text": [
      "Validation AUC: 0.9792\n"
     ]
    }
   ],
   "source": [
    "model.load_state_dict(torch.load(os.path.join(root_dir, \"best_metric_model_3d.pth\"), weights_only=True))\n",
    "model.eval()\n",
    "\n",
    "y_true = []\n",
    "y_predicted = []\n",
    "\n",
    "with torch.no_grad():\n",
    "    y_pred = torch.tensor([], dtype=torch.float32, device=device)\n",
    "    y = torch.tensor([], dtype=torch.long, device=device)\n",
    "    for test_data in test_loader:\n",
    "        test_images, test_labels = (\n",
    "            test_data['images'],\n",
    "            test_data['label'][:, 0].type(torch.LongTensor),\n",
    "        )\n",
    "\n",
    "        output = model(test_images.to(device))\n",
    "        pred = output.argmax(dim=1)\n",
    "        \n",
    "        for i in range(len(pred)):\n",
    "            y_true.append(test_labels[i].item())\n",
    "            y_predicted.append(pred[i].item())\n",
    "\n",
    "        y_pred = torch.cat([y_pred, output], dim=0)\n",
    "        y = torch.cat([y, test_labels.to(device)], dim=0)\n",
    "\n",
    "    # Evaluate AUC and accuracy\n",
    "    y_onehot = [y_trans(i) for i in decollate_batch(y, detach=False)]\n",
    "    y_pred_act = [y_pred_trans(i) for i in decollate_batch(y_pred)]\n",
    "    auc_metric(y_pred_act, y_onehot)\n",
    "    result = auc_metric.aggregate()\n",
    "    auc_metric.reset()\n",
    "\n",
    "    print(f\"Validation AUC: {result:.4f}\")"
   ]
  },
  {
   "cell_type": "code",
   "execution_count": 19,
   "metadata": {},
   "outputs": [
    {
     "name": "stdout",
     "output_type": "stream",
     "text": [
      "              precision    recall  f1-score   support\n",
      "\n",
      "           0     0.9718    1.0000    0.9857        69\n",
      "           1     0.7231    0.6912    0.7068        68\n",
      "           2     0.6341    0.7536    0.6887        69\n",
      "           3     0.5521    0.8154    0.6584        65\n",
      "           4     0.7027    0.4000    0.5098        65\n",
      "           5     0.9844    0.9545    0.9692        66\n",
      "           6     1.0000    0.8929    0.9434        28\n",
      "           7     1.0000    1.0000    1.0000        21\n",
      "           8     1.0000    1.0000    1.0000        21\n",
      "           9     1.0000    0.8841    0.9385        69\n",
      "          10     0.9851    0.9565    0.9706        69\n",
      "\n",
      "    accuracy                         0.8262       610\n",
      "   macro avg     0.8685    0.8498    0.8519       610\n",
      "weighted avg     0.8418    0.8262    0.8256       610\n",
      "\n"
     ]
    }
   ],
   "source": [
    "print(classification_report(y_true, y_predicted, target_names=info['label'], digits=4))"
   ]
  },
  {
   "cell_type": "code",
   "execution_count": 20,
   "metadata": {},
   "outputs": [
    {
     "name": "stdout",
     "output_type": "stream",
     "text": [
      "VRAM currently used: 563.02 MB\n",
      "Max VRAM used during training: 12850.32 MB\n"
     ]
    }
   ],
   "source": [
    "if device.type == \"cuda\":\n",
    "    torch.cuda.synchronize()\n",
    "    vram_used = torch.cuda.memory_allocated() / 1024**2\n",
    "    vram_max_used = torch.cuda.max_memory_allocated() / 1024**2\n",
    "\n",
    "    print(f\"VRAM currently used: {vram_used:.2f} MB\")\n",
    "    print(f\"Max VRAM used during training: {vram_max_used:.2f} MB\")\n"
   ]
  },
  {
   "cell_type": "markdown",
   "metadata": {},
   "source": [
    "## Pretrained model"
   ]
  },
  {
   "cell_type": "markdown",
   "metadata": {},
   "source": [
    "## Training cycle"
   ]
  },
  {
   "cell_type": "code",
   "execution_count": 26,
   "metadata": {},
   "outputs": [],
   "source": [
    "device = torch.device(\"cuda\" if torch.cuda.is_available() else \"cpu\")\n",
    "model = resnet18(pretrained=True, spatial_dims=3, n_input_channels=1, \n",
    "                 feed_forward=False, shortcut_type='A', bias_downsample=True).to(device)\n",
    "loss_function = torch.nn.CrossEntropyLoss()\n",
    "optimizer = torch.optim.Adam(model.parameters(), 0.00005)\n",
    "max_epochs = 70\n",
    "val_interval = 1\n",
    "auc_metric = ROCAUCMetric()"
   ]
  },
  {
   "cell_type": "code",
   "execution_count": 27,
   "metadata": {},
   "outputs": [
    {
     "name": "stdout",
     "output_type": "stream",
     "text": [
      "ResNet(\n",
      "  (conv1): Conv3d(1, 64, kernel_size=(7, 7, 7), stride=(1, 1, 1), padding=(3, 3, 3), bias=False)\n",
      "  (bn1): BatchNorm3d(64, eps=1e-05, momentum=0.1, affine=True, track_running_stats=True)\n",
      "  (act): ReLU(inplace=True)\n",
      "  (maxpool): MaxPool3d(kernel_size=3, stride=2, padding=1, dilation=1, ceil_mode=False)\n",
      "  (layer1): Sequential(\n",
      "    (0): ResNetBlock(\n",
      "      (conv1): Conv3d(64, 64, kernel_size=(3, 3, 3), stride=(1, 1, 1), padding=(1, 1, 1), bias=False)\n",
      "      (bn1): BatchNorm3d(64, eps=1e-05, momentum=0.1, affine=True, track_running_stats=True)\n",
      "      (act): ReLU(inplace=True)\n",
      "      (conv2): Conv3d(64, 64, kernel_size=(3, 3, 3), stride=(1, 1, 1), padding=(1, 1, 1), bias=False)\n",
      "      (bn2): BatchNorm3d(64, eps=1e-05, momentum=0.1, affine=True, track_running_stats=True)\n",
      "    )\n",
      "    (1): ResNetBlock(\n",
      "      (conv1): Conv3d(64, 64, kernel_size=(3, 3, 3), stride=(1, 1, 1), padding=(1, 1, 1), bias=False)\n",
      "      (bn1): BatchNorm3d(64, eps=1e-05, momentum=0.1, affine=True, track_running_stats=True)\n",
      "      (act): ReLU(inplace=True)\n",
      "      (conv2): Conv3d(64, 64, kernel_size=(3, 3, 3), stride=(1, 1, 1), padding=(1, 1, 1), bias=False)\n",
      "      (bn2): BatchNorm3d(64, eps=1e-05, momentum=0.1, affine=True, track_running_stats=True)\n",
      "    )\n",
      "  )\n",
      "  (layer2): Sequential(\n",
      "    (0): ResNetBlock(\n",
      "      (conv1): Conv3d(64, 128, kernel_size=(3, 3, 3), stride=(2, 2, 2), padding=(1, 1, 1), bias=False)\n",
      "      (bn1): BatchNorm3d(128, eps=1e-05, momentum=0.1, affine=True, track_running_stats=True)\n",
      "      (act): ReLU(inplace=True)\n",
      "      (conv2): Conv3d(128, 128, kernel_size=(3, 3, 3), stride=(1, 1, 1), padding=(1, 1, 1), bias=False)\n",
      "      (bn2): BatchNorm3d(128, eps=1e-05, momentum=0.1, affine=True, track_running_stats=True)\n",
      "    )\n",
      "    (1): ResNetBlock(\n",
      "      (conv1): Conv3d(128, 128, kernel_size=(3, 3, 3), stride=(1, 1, 1), padding=(1, 1, 1), bias=False)\n",
      "      (bn1): BatchNorm3d(128, eps=1e-05, momentum=0.1, affine=True, track_running_stats=True)\n",
      "      (act): ReLU(inplace=True)\n",
      "      (conv2): Conv3d(128, 128, kernel_size=(3, 3, 3), stride=(1, 1, 1), padding=(1, 1, 1), bias=False)\n",
      "      (bn2): BatchNorm3d(128, eps=1e-05, momentum=0.1, affine=True, track_running_stats=True)\n",
      "    )\n",
      "  )\n",
      "  (layer3): Sequential(\n",
      "    (0): ResNetBlock(\n",
      "      (conv1): Conv3d(128, 256, kernel_size=(3, 3, 3), stride=(2, 2, 2), padding=(1, 1, 1), bias=False)\n",
      "      (bn1): BatchNorm3d(256, eps=1e-05, momentum=0.1, affine=True, track_running_stats=True)\n",
      "      (act): ReLU(inplace=True)\n",
      "      (conv2): Conv3d(256, 256, kernel_size=(3, 3, 3), stride=(1, 1, 1), padding=(1, 1, 1), bias=False)\n",
      "      (bn2): BatchNorm3d(256, eps=1e-05, momentum=0.1, affine=True, track_running_stats=True)\n",
      "    )\n",
      "    (1): ResNetBlock(\n",
      "      (conv1): Conv3d(256, 256, kernel_size=(3, 3, 3), stride=(1, 1, 1), padding=(1, 1, 1), bias=False)\n",
      "      (bn1): BatchNorm3d(256, eps=1e-05, momentum=0.1, affine=True, track_running_stats=True)\n",
      "      (act): ReLU(inplace=True)\n",
      "      (conv2): Conv3d(256, 256, kernel_size=(3, 3, 3), stride=(1, 1, 1), padding=(1, 1, 1), bias=False)\n",
      "      (bn2): BatchNorm3d(256, eps=1e-05, momentum=0.1, affine=True, track_running_stats=True)\n",
      "    )\n",
      "  )\n",
      "  (layer4): Sequential(\n",
      "    (0): ResNetBlock(\n",
      "      (conv1): Conv3d(256, 512, kernel_size=(3, 3, 3), stride=(2, 2, 2), padding=(1, 1, 1), bias=False)\n",
      "      (bn1): BatchNorm3d(512, eps=1e-05, momentum=0.1, affine=True, track_running_stats=True)\n",
      "      (act): ReLU(inplace=True)\n",
      "      (conv2): Conv3d(512, 512, kernel_size=(3, 3, 3), stride=(1, 1, 1), padding=(1, 1, 1), bias=False)\n",
      "      (bn2): BatchNorm3d(512, eps=1e-05, momentum=0.1, affine=True, track_running_stats=True)\n",
      "    )\n",
      "    (1): ResNetBlock(\n",
      "      (conv1): Conv3d(512, 512, kernel_size=(3, 3, 3), stride=(1, 1, 1), padding=(1, 1, 1), bias=False)\n",
      "      (bn1): BatchNorm3d(512, eps=1e-05, momentum=0.1, affine=True, track_running_stats=True)\n",
      "      (act): ReLU(inplace=True)\n",
      "      (conv2): Conv3d(512, 512, kernel_size=(3, 3, 3), stride=(1, 1, 1), padding=(1, 1, 1), bias=False)\n",
      "      (bn2): BatchNorm3d(512, eps=1e-05, momentum=0.1, affine=True, track_running_stats=True)\n",
      "    )\n",
      "  )\n",
      "  (avgpool): AdaptiveAvgPool3d(output_size=(1, 1, 1))\n",
      ")\n"
     ]
    }
   ],
   "source": [
    "print(model)"
   ]
  },
  {
   "cell_type": "code",
   "execution_count": 28,
   "metadata": {},
   "outputs": [],
   "source": [
    "model.avgpool = nn.Sequential(\n",
    "    model.avgpool,\n",
    "    nn.Flatten(),\n",
    "    nn.Linear(512, n_classes)\n",
    ").to(device)"
   ]
  },
  {
   "cell_type": "code",
   "execution_count": 29,
   "metadata": {
    "scrolled": true
   },
   "outputs": [
    {
     "name": "stderr",
     "output_type": "stream",
     "text": [
      "Epochs:   0%|          | 0/70 [00:00<?, ?it/s]"
     ]
    },
    {
     "name": "stdout",
     "output_type": "stream",
     "text": [
      "----------\n",
      "epoch 1/70\n"
     ]
    },
    {
     "name": "stderr",
     "output_type": "stream",
     "text": [
      "\n",
      "\u001b[Aining Batches:   0%|          | 0/31 [00:00<?, ?it/s]\n",
      "\u001b[Aining Batches:   0%|          | 0/31 [00:00<?, ?it/s, train_loss=2.31]\n",
      "\u001b[Aining Batches:   3%|▎         | 1/31 [00:00<00:23,  1.28it/s, train_loss=2.31]\n",
      "\u001b[Aining Batches:   3%|▎         | 1/31 [00:01<00:23,  1.28it/s, train_loss=2.46]\n",
      "\u001b[Aining Batches:   6%|▋         | 2/31 [00:01<00:22,  1.26it/s, train_loss=2.46]\n",
      "\u001b[Aining Batches:   6%|▋         | 2/31 [00:02<00:22,  1.26it/s, train_loss=2.33]\n",
      "\u001b[Aining Batches:  10%|▉         | 3/31 [00:02<00:22,  1.24it/s, train_loss=2.33]\n",
      "\u001b[Aining Batches:  10%|▉         | 3/31 [00:03<00:22,  1.24it/s, train_loss=2.25]\n",
      "\u001b[Aining Batches:  13%|█▎        | 4/31 [00:03<00:21,  1.25it/s, train_loss=2.25]\n",
      "\u001b[Aining Batches:  13%|█▎        | 4/31 [00:03<00:21,  1.25it/s, train_loss=2.33]\n",
      "\u001b[Aining Batches:  16%|█▌        | 5/31 [00:03<00:20,  1.26it/s, train_loss=2.33]\n",
      "\u001b[Aining Batches:  16%|█▌        | 5/31 [00:04<00:20,  1.26it/s, train_loss=2.18]\n",
      "\u001b[Aining Batches:  19%|█▉        | 6/31 [00:04<00:19,  1.28it/s, train_loss=2.18]\n",
      "\u001b[Aining Batches:  19%|█▉        | 6/31 [00:05<00:19,  1.28it/s, train_loss=2.24]\n",
      "\u001b[Aining Batches:  23%|██▎       | 7/31 [00:05<00:18,  1.29it/s, train_loss=2.24]\n",
      "\u001b[Aining Batches:  23%|██▎       | 7/31 [00:06<00:18,  1.29it/s, train_loss=2.12]\n",
      "\u001b[Aining Batches:  26%|██▌       | 8/31 [00:06<00:17,  1.29it/s, train_loss=2.12]\n",
      "\u001b[Aining Batches:  26%|██▌       | 8/31 [00:07<00:17,  1.29it/s, train_loss=2.09]\n",
      "\u001b[Aining Batches:  29%|██▉       | 9/31 [00:07<00:16,  1.31it/s, train_loss=2.09]\n",
      "\u001b[Aining Batches:  29%|██▉       | 9/31 [00:07<00:16,  1.31it/s, train_loss=2.12]\n",
      "\u001b[Aining Batches:  32%|███▏      | 10/31 [00:07<00:16,  1.30it/s, train_loss=2.12]\n",
      "\u001b[Aining Batches:  32%|███▏      | 10/31 [00:08<00:16,  1.30it/s, train_loss=2.13]\n",
      "\u001b[Aining Batches:  35%|███▌      | 11/31 [00:08<00:15,  1.28it/s, train_loss=2.13]\n",
      "\u001b[Aining Batches:  35%|███▌      | 11/31 [00:09<00:15,  1.28it/s, train_loss=1.94]\n",
      "\u001b[Aining Batches:  39%|███▊      | 12/31 [00:09<00:14,  1.29it/s, train_loss=1.94]\n",
      "\u001b[Aining Batches:  39%|███▊      | 12/31 [00:10<00:14,  1.29it/s, train_loss=1.91]\n",
      "\u001b[Aining Batches:  42%|████▏     | 13/31 [00:10<00:14,  1.26it/s, train_loss=1.91]\n",
      "\u001b[Aining Batches:  42%|████▏     | 13/31 [00:10<00:14,  1.26it/s, train_loss=1.9] \n",
      "\u001b[Aining Batches:  45%|████▌     | 14/31 [00:10<00:13,  1.28it/s, train_loss=1.9]\n",
      "\u001b[Aining Batches:  45%|████▌     | 14/31 [00:11<00:13,  1.28it/s, train_loss=2.05]\n",
      "\u001b[Aining Batches:  48%|████▊     | 15/31 [00:11<00:12,  1.28it/s, train_loss=2.05]\n",
      "\u001b[Aining Batches:  48%|████▊     | 15/31 [00:12<00:12,  1.28it/s, train_loss=1.98]\n",
      "\u001b[Aining Batches:  52%|█████▏    | 16/31 [00:12<00:11,  1.27it/s, train_loss=1.98]\n",
      "\u001b[Aining Batches:  52%|█████▏    | 16/31 [00:13<00:11,  1.27it/s, train_loss=2.01]\n",
      "\u001b[Aining Batches:  55%|█████▍    | 17/31 [00:13<00:10,  1.28it/s, train_loss=2.01]\n",
      "\u001b[Aining Batches:  55%|█████▍    | 17/31 [00:14<00:10,  1.28it/s, train_loss=1.94]\n",
      "\u001b[Aining Batches:  58%|█████▊    | 18/31 [00:14<00:10,  1.28it/s, train_loss=1.94]\n",
      "\u001b[Aining Batches:  58%|█████▊    | 18/31 [00:14<00:10,  1.28it/s, train_loss=1.84]\n",
      "\u001b[Aining Batches:  61%|██████▏   | 19/31 [00:14<00:09,  1.29it/s, train_loss=1.84]\n",
      "\u001b[Aining Batches:  61%|██████▏   | 19/31 [00:15<00:09,  1.29it/s, train_loss=1.84]\n",
      "\u001b[Aining Batches:  65%|██████▍   | 20/31 [00:15<00:08,  1.26it/s, train_loss=1.84]\n",
      "\u001b[Aining Batches:  65%|██████▍   | 20/31 [00:16<00:08,  1.26it/s, train_loss=1.74]\n",
      "\u001b[Aining Batches:  68%|██████▊   | 21/31 [00:16<00:07,  1.26it/s, train_loss=1.74]\n",
      "\u001b[Aining Batches:  68%|██████▊   | 21/31 [00:17<00:07,  1.26it/s, train_loss=1.83]\n",
      "\u001b[Aining Batches:  71%|███████   | 22/31 [00:17<00:07,  1.27it/s, train_loss=1.83]\n",
      "\u001b[Aining Batches:  71%|███████   | 22/31 [00:18<00:07,  1.27it/s, train_loss=1.99]\n",
      "\u001b[Aining Batches:  74%|███████▍  | 23/31 [00:18<00:06,  1.27it/s, train_loss=1.99]\n",
      "\u001b[Aining Batches:  74%|███████▍  | 23/31 [00:18<00:06,  1.27it/s, train_loss=1.79]\n",
      "\u001b[Aining Batches:  77%|███████▋  | 24/31 [00:18<00:05,  1.28it/s, train_loss=1.79]\n",
      "\u001b[Aining Batches:  77%|███████▋  | 24/31 [00:19<00:05,  1.28it/s, train_loss=1.76]\n",
      "\u001b[Aining Batches:  81%|████████  | 25/31 [00:19<00:04,  1.29it/s, train_loss=1.76]\n",
      "\u001b[Aining Batches:  81%|████████  | 25/31 [00:20<00:04,  1.29it/s, train_loss=1.7] \n",
      "\u001b[Aining Batches:  84%|████████▍ | 26/31 [00:20<00:03,  1.28it/s, train_loss=1.7]\n",
      "\u001b[Aining Batches:  84%|████████▍ | 26/31 [00:21<00:03,  1.28it/s, train_loss=1.74]\n",
      "\u001b[Aining Batches:  87%|████████▋ | 27/31 [00:21<00:03,  1.28it/s, train_loss=1.74]\n",
      "\u001b[Aining Batches:  87%|████████▋ | 27/31 [00:21<00:03,  1.28it/s, train_loss=1.55]\n",
      "\u001b[Aining Batches:  90%|█████████ | 28/31 [00:21<00:02,  1.29it/s, train_loss=1.55]\n",
      "\u001b[Aining Batches:  90%|█████████ | 28/31 [00:22<00:02,  1.29it/s, train_loss=1.65]\n",
      "\u001b[Aining Batches:  94%|█████████▎| 29/31 [00:22<00:01,  1.28it/s, train_loss=1.65]\n",
      "\u001b[Aining Batches:  94%|█████████▎| 29/31 [00:23<00:01,  1.28it/s, train_loss=1.67]\n",
      "\u001b[Aining Batches:  97%|█████████▋| 30/31 [00:23<00:00,  1.29it/s, train_loss=1.67]\n",
      "\u001b[Aining Batches:  97%|█████████▋| 30/31 [00:23<00:00,  1.29it/s, train_loss=1.84]\n",
      "\u001b[Aining Batches: 100%|██████████| 31/31 [00:23<00:00,  1.63it/s, train_loss=1.84]\n",
      "\u001b[A                                                                               "
     ]
    },
    {
     "name": "stdout",
     "output_type": "stream",
     "text": [
      "epoch 1 average loss: 1.9749\n",
      "1\n"
     ]
    },
    {
     "name": "stderr",
     "output_type": "stream",
     "text": [
      "Epochs:   1%|▏         | 1/70 [00:25<29:21, 25.53s/it]"
     ]
    },
    {
     "name": "stdout",
     "output_type": "stream",
     "text": [
      "saved new best metric model\n",
      "current epoch: 1 current AUC: 0.7737 current accuracy: 0.1677 best AUC: 0.7737 at epoch: 1\n",
      "----------\n",
      "epoch 2/70\n"
     ]
    },
    {
     "name": "stderr",
     "output_type": "stream",
     "text": [
      "\n",
      "\u001b[Aining Batches:   0%|          | 0/31 [00:00<?, ?it/s]\n",
      "\u001b[Aining Batches:   0%|          | 0/31 [00:00<?, ?it/s, train_loss=1.74]\n",
      "\u001b[Aining Batches:   3%|▎         | 1/31 [00:00<00:22,  1.33it/s, train_loss=1.74]\n",
      "\u001b[Aining Batches:   3%|▎         | 1/31 [00:01<00:22,  1.33it/s, train_loss=1.63]\n",
      "\u001b[Aining Batches:   6%|▋         | 2/31 [00:01<00:23,  1.26it/s, train_loss=1.63]\n",
      "\u001b[Aining Batches:   6%|▋         | 2/31 [00:02<00:23,  1.26it/s, train_loss=1.56]\n",
      "\u001b[Aining Batches:  10%|▉         | 3/31 [00:02<00:22,  1.26it/s, train_loss=1.56]\n",
      "\u001b[Aining Batches:  10%|▉         | 3/31 [00:03<00:22,  1.26it/s, train_loss=1.28]\n",
      "\u001b[Aining Batches:  13%|█▎        | 4/31 [00:03<00:21,  1.28it/s, train_loss=1.28]\n",
      "\u001b[Aining Batches:  13%|█▎        | 4/31 [00:03<00:21,  1.28it/s, train_loss=1.44]\n",
      "\u001b[Aining Batches:  16%|█▌        | 5/31 [00:03<00:20,  1.29it/s, train_loss=1.44]\n",
      "\u001b[Aining Batches:  16%|█▌        | 5/31 [00:04<00:20,  1.29it/s, train_loss=1.62]\n",
      "\u001b[Aining Batches:  19%|█▉        | 6/31 [00:04<00:19,  1.29it/s, train_loss=1.62]\n",
      "\u001b[Aining Batches:  19%|█▉        | 6/31 [00:05<00:19,  1.29it/s, train_loss=1.43]\n",
      "\u001b[Aining Batches:  23%|██▎       | 7/31 [00:05<00:18,  1.27it/s, train_loss=1.43]\n",
      "\u001b[Aining Batches:  23%|██▎       | 7/31 [00:06<00:18,  1.27it/s, train_loss=1.4] \n",
      "\u001b[Aining Batches:  26%|██▌       | 8/31 [00:06<00:18,  1.27it/s, train_loss=1.4]\n",
      "\u001b[Aining Batches:  26%|██▌       | 8/31 [00:07<00:18,  1.27it/s, train_loss=1.7]\n",
      "\u001b[Aining Batches:  29%|██▉       | 9/31 [00:07<00:17,  1.28it/s, train_loss=1.7]\n",
      "\u001b[Aining Batches:  29%|██▉       | 9/31 [00:07<00:17,  1.28it/s, train_loss=1.36]\n",
      "\u001b[Aining Batches:  32%|███▏      | 10/31 [00:07<00:16,  1.27it/s, train_loss=1.36]\n",
      "\u001b[Aining Batches:  32%|███▏      | 10/31 [00:08<00:16,  1.27it/s, train_loss=1.32]\n",
      "\u001b[Aining Batches:  35%|███▌      | 11/31 [00:08<00:15,  1.26it/s, train_loss=1.32]\n",
      "\u001b[Aining Batches:  35%|███▌      | 11/31 [00:09<00:15,  1.26it/s, train_loss=1.68]\n",
      "\u001b[Aining Batches:  39%|███▊      | 12/31 [00:09<00:15,  1.26it/s, train_loss=1.68]\n",
      "\u001b[Aining Batches:  39%|███▊      | 12/31 [00:10<00:15,  1.26it/s, train_loss=1.46]\n",
      "\u001b[Aining Batches:  42%|████▏     | 13/31 [00:10<00:14,  1.25it/s, train_loss=1.46]\n",
      "\u001b[Aining Batches:  42%|████▏     | 13/31 [00:11<00:14,  1.25it/s, train_loss=1.36]\n",
      "\u001b[Aining Batches:  45%|████▌     | 14/31 [00:11<00:13,  1.26it/s, train_loss=1.36]\n",
      "\u001b[Aining Batches:  45%|████▌     | 14/31 [00:11<00:13,  1.26it/s, train_loss=1.53]\n",
      "\u001b[Aining Batches:  48%|████▊     | 15/31 [00:11<00:12,  1.25it/s, train_loss=1.53]\n",
      "\u001b[Aining Batches:  48%|████▊     | 15/31 [00:12<00:12,  1.25it/s, train_loss=1.43]\n",
      "\u001b[Aining Batches:  52%|█████▏    | 16/31 [00:12<00:11,  1.28it/s, train_loss=1.43]\n",
      "\u001b[Aining Batches:  52%|█████▏    | 16/31 [00:13<00:11,  1.28it/s, train_loss=1.51]\n",
      "\u001b[Aining Batches:  55%|█████▍    | 17/31 [00:13<00:10,  1.27it/s, train_loss=1.51]\n",
      "\u001b[Aining Batches:  55%|█████▍    | 17/31 [00:14<00:10,  1.27it/s, train_loss=1.45]\n",
      "\u001b[Aining Batches:  58%|█████▊    | 18/31 [00:14<00:10,  1.27it/s, train_loss=1.45]\n",
      "\u001b[Aining Batches:  58%|█████▊    | 18/31 [00:14<00:10,  1.27it/s, train_loss=1.41]\n",
      "\u001b[Aining Batches:  61%|██████▏   | 19/31 [00:14<00:09,  1.28it/s, train_loss=1.41]\n",
      "\u001b[Aining Batches:  61%|██████▏   | 19/31 [00:15<00:09,  1.28it/s, train_loss=1.28]\n",
      "\u001b[Aining Batches:  65%|██████▍   | 20/31 [00:15<00:08,  1.27it/s, train_loss=1.28]\n",
      "\u001b[Aining Batches:  65%|██████▍   | 20/31 [00:16<00:08,  1.27it/s, train_loss=1.3] \n",
      "\u001b[Aining Batches:  68%|██████▊   | 21/31 [00:16<00:07,  1.28it/s, train_loss=1.3]\n",
      "\u001b[Aining Batches:  68%|██████▊   | 21/31 [00:17<00:07,  1.28it/s, train_loss=1.2]\n",
      "\u001b[Aining Batches:  71%|███████   | 22/31 [00:17<00:07,  1.27it/s, train_loss=1.2]\n",
      "\u001b[Aining Batches:  71%|███████   | 22/31 [00:18<00:07,  1.27it/s, train_loss=1.38]\n",
      "\u001b[Aining Batches:  74%|███████▍  | 23/31 [00:18<00:06,  1.27it/s, train_loss=1.38]\n",
      "\u001b[Aining Batches:  74%|███████▍  | 23/31 [00:18<00:06,  1.27it/s, train_loss=1.43]\n",
      "\u001b[Aining Batches:  77%|███████▋  | 24/31 [00:18<00:05,  1.28it/s, train_loss=1.43]\n",
      "\u001b[Aining Batches:  77%|███████▋  | 24/31 [00:19<00:05,  1.28it/s, train_loss=1.22]\n",
      "\u001b[Aining Batches:  81%|████████  | 25/31 [00:19<00:04,  1.28it/s, train_loss=1.22]\n",
      "\u001b[Aining Batches:  81%|████████  | 25/31 [00:20<00:04,  1.28it/s, train_loss=1.37]\n",
      "\u001b[Aining Batches:  84%|████████▍ | 26/31 [00:20<00:03,  1.27it/s, train_loss=1.37]\n",
      "\u001b[Aining Batches:  84%|████████▍ | 26/31 [00:21<00:03,  1.27it/s, train_loss=1.55]\n",
      "\u001b[Aining Batches:  87%|████████▋ | 27/31 [00:21<00:03,  1.27it/s, train_loss=1.55]\n",
      "\u001b[Aining Batches:  87%|████████▋ | 27/31 [00:22<00:03,  1.27it/s, train_loss=1.05]\n",
      "\u001b[Aining Batches:  90%|█████████ | 28/31 [00:22<00:02,  1.28it/s, train_loss=1.05]\n",
      "\u001b[Aining Batches:  90%|█████████ | 28/31 [00:22<00:02,  1.28it/s, train_loss=1.08]\n",
      "\u001b[Aining Batches:  94%|█████████▎| 29/31 [00:22<00:01,  1.28it/s, train_loss=1.08]\n",
      "\u001b[Aining Batches:  94%|█████████▎| 29/31 [00:23<00:01,  1.28it/s, train_loss=1.04]\n",
      "\u001b[Aining Batches:  97%|█████████▋| 30/31 [00:23<00:00,  1.31it/s, train_loss=1.04]\n",
      "\u001b[Aining Batches:  97%|█████████▋| 30/31 [00:23<00:00,  1.31it/s, train_loss=1.13]\n",
      "\u001b[Aining Batches: 100%|██████████| 31/31 [00:23<00:00,  1.59it/s, train_loss=1.13]\n",
      "\u001b[A                                                                               "
     ]
    },
    {
     "name": "stdout",
     "output_type": "stream",
     "text": [
      "epoch 2 average loss: 1.3986\n",
      "1\n"
     ]
    },
    {
     "name": "stderr",
     "output_type": "stream",
     "text": [
      "Epochs:   3%|▎         | 2/70 [00:51<29:01, 25.61s/it]"
     ]
    },
    {
     "name": "stdout",
     "output_type": "stream",
     "text": [
      "saved new best metric model\n",
      "current epoch: 2 current AUC: 0.9363 current accuracy: 0.4472 best AUC: 0.9363 at epoch: 2\n",
      "----------\n",
      "epoch 3/70\n"
     ]
    },
    {
     "name": "stderr",
     "output_type": "stream",
     "text": [
      "\n",
      "\u001b[Aining Batches:   0%|          | 0/31 [00:00<?, ?it/s]\n",
      "\u001b[Aining Batches:   0%|          | 0/31 [00:00<?, ?it/s, train_loss=0.951]\n",
      "\u001b[Aining Batches:   3%|▎         | 1/31 [00:00<00:23,  1.25it/s, train_loss=0.951]\n",
      "\u001b[Aining Batches:   3%|▎         | 1/31 [00:01<00:23,  1.25it/s, train_loss=1.13] \n",
      "\u001b[Aining Batches:   6%|▋         | 2/31 [00:01<00:22,  1.31it/s, train_loss=1.13]\n",
      "\u001b[Aining Batches:   6%|▋         | 2/31 [00:02<00:22,  1.31it/s, train_loss=1.18]\n",
      "\u001b[Aining Batches:  10%|▉         | 3/31 [00:02<00:22,  1.25it/s, train_loss=1.18]\n",
      "\u001b[Aining Batches:  10%|▉         | 3/31 [00:03<00:22,  1.25it/s, train_loss=1.28]\n",
      "\u001b[Aining Batches:  13%|█▎        | 4/31 [00:03<00:20,  1.31it/s, train_loss=1.28]\n",
      "\u001b[Aining Batches:  13%|█▎        | 4/31 [00:03<00:20,  1.31it/s, train_loss=1.03]\n",
      "\u001b[Aining Batches:  16%|█▌        | 5/31 [00:03<00:20,  1.28it/s, train_loss=1.03]\n",
      "\u001b[Aining Batches:  16%|█▌        | 5/31 [00:04<00:20,  1.28it/s, train_loss=1.03]\n",
      "\u001b[Aining Batches:  19%|█▉        | 6/31 [00:04<00:19,  1.28it/s, train_loss=1.03]\n",
      "\u001b[Aining Batches:  19%|█▉        | 6/31 [00:05<00:19,  1.28it/s, train_loss=1.16]\n",
      "\u001b[Aining Batches:  23%|██▎       | 7/31 [00:05<00:18,  1.27it/s, train_loss=1.16]\n",
      "\u001b[Aining Batches:  23%|██▎       | 7/31 [00:06<00:18,  1.27it/s, train_loss=1.09]\n",
      "\u001b[Aining Batches:  26%|██▌       | 8/31 [00:06<00:18,  1.25it/s, train_loss=1.09]\n",
      "\u001b[Aining Batches:  26%|██▌       | 8/31 [00:07<00:18,  1.25it/s, train_loss=0.872]\n",
      "\u001b[Aining Batches:  29%|██▉       | 9/31 [00:07<00:17,  1.24it/s, train_loss=0.872]\n",
      "\u001b[Aining Batches:  29%|██▉       | 9/31 [00:07<00:17,  1.24it/s, train_loss=1.11] \n",
      "\u001b[Aining Batches:  32%|███▏      | 10/31 [00:07<00:17,  1.23it/s, train_loss=1.11]\n",
      "\u001b[Aining Batches:  32%|███▏      | 10/31 [00:08<00:17,  1.23it/s, train_loss=1.24]\n",
      "\u001b[Aining Batches:  35%|███▌      | 11/31 [00:08<00:15,  1.27it/s, train_loss=1.24]\n",
      "\u001b[Aining Batches:  35%|███▌      | 11/31 [00:09<00:15,  1.27it/s, train_loss=1.11]\n",
      "\u001b[Aining Batches:  39%|███▊      | 12/31 [00:09<00:15,  1.24it/s, train_loss=1.11]\n",
      "\u001b[Aining Batches:  39%|███▊      | 12/31 [00:10<00:15,  1.24it/s, train_loss=1.18]\n",
      "\u001b[Aining Batches:  42%|████▏     | 13/31 [00:10<00:14,  1.24it/s, train_loss=1.18]\n",
      "\u001b[Aining Batches:  42%|████▏     | 13/31 [00:11<00:14,  1.24it/s, train_loss=1.35]\n",
      "\u001b[Aining Batches:  45%|████▌     | 14/31 [00:11<00:13,  1.25it/s, train_loss=1.35]\n",
      "\u001b[Aining Batches:  45%|████▌     | 14/31 [00:11<00:13,  1.25it/s, train_loss=1.22]\n",
      "\u001b[Aining Batches:  48%|████▊     | 15/31 [00:11<00:12,  1.26it/s, train_loss=1.22]\n",
      "\u001b[Aining Batches:  48%|████▊     | 15/31 [00:12<00:12,  1.26it/s, train_loss=1.05]\n",
      "\u001b[Aining Batches:  52%|█████▏    | 16/31 [00:12<00:11,  1.26it/s, train_loss=1.05]\n",
      "\u001b[Aining Batches:  52%|█████▏    | 16/31 [00:13<00:11,  1.26it/s, train_loss=1.19]\n",
      "\u001b[Aining Batches:  55%|█████▍    | 17/31 [00:13<00:10,  1.28it/s, train_loss=1.19]\n",
      "\u001b[Aining Batches:  55%|█████▍    | 17/31 [00:14<00:10,  1.28it/s, train_loss=1.05]\n",
      "\u001b[Aining Batches:  58%|█████▊    | 18/31 [00:14<00:10,  1.29it/s, train_loss=1.05]\n",
      "\u001b[Aining Batches:  58%|█████▊    | 18/31 [00:15<00:10,  1.29it/s, train_loss=0.924]\n",
      "\u001b[Aining Batches:  61%|██████▏   | 19/31 [00:15<00:09,  1.28it/s, train_loss=0.924]\n",
      "\u001b[Aining Batches:  61%|██████▏   | 19/31 [00:15<00:09,  1.28it/s, train_loss=0.94] \n",
      "\u001b[Aining Batches:  65%|██████▍   | 20/31 [00:15<00:08,  1.28it/s, train_loss=0.94]\n",
      "\u001b[Aining Batches:  65%|██████▍   | 20/31 [00:16<00:08,  1.28it/s, train_loss=0.906]\n",
      "\u001b[Aining Batches:  68%|██████▊   | 21/31 [00:16<00:07,  1.26it/s, train_loss=0.906]\n",
      "\u001b[Aining Batches:  68%|██████▊   | 21/31 [00:17<00:07,  1.26it/s, train_loss=1.01] \n",
      "\u001b[Aining Batches:  71%|███████   | 22/31 [00:17<00:07,  1.27it/s, train_loss=1.01]\n",
      "\u001b[Aining Batches:  71%|███████   | 22/31 [00:18<00:07,  1.27it/s, train_loss=1.07]\n",
      "\u001b[Aining Batches:  74%|███████▍  | 23/31 [00:18<00:06,  1.27it/s, train_loss=1.07]\n",
      "\u001b[Aining Batches:  74%|███████▍  | 23/31 [00:18<00:06,  1.27it/s, train_loss=0.991]\n",
      "\u001b[Aining Batches:  77%|███████▋  | 24/31 [00:18<00:05,  1.27it/s, train_loss=0.991]\n",
      "\u001b[Aining Batches:  77%|███████▋  | 24/31 [00:19<00:05,  1.27it/s, train_loss=1.16] \n",
      "\u001b[Aining Batches:  81%|████████  | 25/31 [00:19<00:04,  1.26it/s, train_loss=1.16]\n",
      "\u001b[Aining Batches:  81%|████████  | 25/31 [00:20<00:04,  1.26it/s, train_loss=1.02]\n",
      "\u001b[Aining Batches:  84%|████████▍ | 26/31 [00:20<00:04,  1.24it/s, train_loss=1.02]\n",
      "\u001b[Aining Batches:  84%|████████▍ | 26/31 [00:21<00:04,  1.24it/s, train_loss=0.88]\n",
      "\u001b[Aining Batches:  87%|████████▋ | 27/31 [00:21<00:03,  1.25it/s, train_loss=0.88]\n",
      "\u001b[Aining Batches:  87%|████████▋ | 27/31 [00:22<00:03,  1.25it/s, train_loss=1.15]\n",
      "\u001b[Aining Batches:  90%|█████████ | 28/31 [00:22<00:02,  1.24it/s, train_loss=1.15]\n",
      "\u001b[Aining Batches:  90%|█████████ | 28/31 [00:23<00:02,  1.24it/s, train_loss=0.987]\n",
      "\u001b[Aining Batches:  94%|█████████▎| 29/31 [00:23<00:01,  1.24it/s, train_loss=0.987]\n",
      "\u001b[Aining Batches:  94%|█████████▎| 29/31 [00:23<00:01,  1.24it/s, train_loss=1.23] \n",
      "\u001b[Aining Batches:  97%|█████████▋| 30/31 [00:23<00:00,  1.25it/s, train_loss=1.23]\n",
      "\u001b[Aining Batches:  97%|█████████▋| 30/31 [00:24<00:00,  1.25it/s, train_loss=0.859]\n",
      "\u001b[Aining Batches: 100%|██████████| 31/31 [00:24<00:00,  1.56it/s, train_loss=0.859]\n",
      "\u001b[A                                                                                "
     ]
    },
    {
     "name": "stdout",
     "output_type": "stream",
     "text": [
      "epoch 3 average loss: 1.0765\n",
      "1\n"
     ]
    },
    {
     "name": "stderr",
     "output_type": "stream",
     "text": [
      "Epochs:   4%|▍         | 3/70 [01:17<28:46, 25.77s/it]"
     ]
    },
    {
     "name": "stdout",
     "output_type": "stream",
     "text": [
      "saved new best metric model\n",
      "current epoch: 3 current AUC: 0.9697 current accuracy: 0.6025 best AUC: 0.9697 at epoch: 3\n",
      "----------\n",
      "epoch 4/70\n"
     ]
    },
    {
     "name": "stderr",
     "output_type": "stream",
     "text": [
      "\n",
      "\u001b[Aining Batches:   0%|          | 0/31 [00:00<?, ?it/s]\n",
      "\u001b[Aining Batches:   0%|          | 0/31 [00:00<?, ?it/s, train_loss=0.872]\n",
      "\u001b[Aining Batches:   3%|▎         | 1/31 [00:00<00:24,  1.24it/s, train_loss=0.872]\n",
      "\u001b[Aining Batches:   3%|▎         | 1/31 [00:01<00:24,  1.24it/s, train_loss=0.987]\n",
      "\u001b[Aining Batches:   6%|▋         | 2/31 [00:01<00:22,  1.28it/s, train_loss=0.987]\n",
      "\u001b[Aining Batches:   6%|▋         | 2/31 [00:02<00:22,  1.28it/s, train_loss=0.742]\n",
      "\u001b[Aining Batches:  10%|▉         | 3/31 [00:02<00:22,  1.24it/s, train_loss=0.742]\n",
      "\u001b[Aining Batches:  10%|▉         | 3/31 [00:03<00:22,  1.24it/s, train_loss=0.919]\n",
      "\u001b[Aining Batches:  13%|█▎        | 4/31 [00:03<00:21,  1.24it/s, train_loss=0.919]\n",
      "\u001b[Aining Batches:  13%|█▎        | 4/31 [00:04<00:21,  1.24it/s, train_loss=0.781]\n",
      "\u001b[Aining Batches:  16%|█▌        | 5/31 [00:04<00:20,  1.25it/s, train_loss=0.781]\n",
      "\u001b[Aining Batches:  16%|█▌        | 5/31 [00:04<00:20,  1.25it/s, train_loss=1.02] \n",
      "\u001b[Aining Batches:  19%|█▉        | 6/31 [00:04<00:20,  1.23it/s, train_loss=1.02]\n",
      "\u001b[Aining Batches:  19%|█▉        | 6/31 [00:05<00:20,  1.23it/s, train_loss=1.08]\n",
      "\u001b[Aining Batches:  23%|██▎       | 7/31 [00:05<00:19,  1.22it/s, train_loss=1.08]\n",
      "\u001b[Aining Batches:  23%|██▎       | 7/31 [00:06<00:19,  1.22it/s, train_loss=0.957]\n",
      "\u001b[Aining Batches:  26%|██▌       | 8/31 [00:06<00:18,  1.23it/s, train_loss=0.957]\n",
      "\u001b[Aining Batches:  26%|██▌       | 8/31 [00:07<00:18,  1.23it/s, train_loss=0.89] \n",
      "\u001b[Aining Batches:  29%|██▉       | 9/31 [00:07<00:17,  1.24it/s, train_loss=0.89]\n",
      "\u001b[Aining Batches:  29%|██▉       | 9/31 [00:08<00:17,  1.24it/s, train_loss=0.801]\n",
      "\u001b[Aining Batches:  32%|███▏      | 10/31 [00:08<00:16,  1.24it/s, train_loss=0.801]\n",
      "\u001b[Aining Batches:  32%|███▏      | 10/31 [00:08<00:16,  1.24it/s, train_loss=0.877]\n",
      "\u001b[Aining Batches:  35%|███▌      | 11/31 [00:08<00:15,  1.26it/s, train_loss=0.877]\n",
      "\u001b[Aining Batches:  35%|███▌      | 11/31 [00:09<00:15,  1.26it/s, train_loss=1.02] \n",
      "\u001b[Aining Batches:  39%|███▊      | 12/31 [00:09<00:14,  1.30it/s, train_loss=1.02]\n",
      "\u001b[Aining Batches:  39%|███▊      | 12/31 [00:10<00:14,  1.30it/s, train_loss=0.789]\n",
      "\u001b[Aining Batches:  42%|████▏     | 13/31 [00:10<00:13,  1.30it/s, train_loss=0.789]\n",
      "\u001b[Aining Batches:  42%|████▏     | 13/31 [00:11<00:13,  1.30it/s, train_loss=0.899]\n",
      "\u001b[Aining Batches:  45%|████▌     | 14/31 [00:11<00:13,  1.29it/s, train_loss=0.899]\n",
      "\u001b[Aining Batches:  45%|████▌     | 14/31 [00:11<00:13,  1.29it/s, train_loss=1.16] \n",
      "\u001b[Aining Batches:  48%|████▊     | 15/31 [00:11<00:12,  1.30it/s, train_loss=1.16]\n",
      "\u001b[Aining Batches:  48%|████▊     | 15/31 [00:12<00:12,  1.30it/s, train_loss=1.5] \n",
      "\u001b[Aining Batches:  52%|█████▏    | 16/31 [00:12<00:11,  1.28it/s, train_loss=1.5]\n",
      "\u001b[Aining Batches:  52%|█████▏    | 16/31 [00:13<00:11,  1.28it/s, train_loss=0.875]\n",
      "\u001b[Aining Batches:  55%|█████▍    | 17/31 [00:13<00:10,  1.29it/s, train_loss=0.875]\n",
      "\u001b[Aining Batches:  55%|█████▍    | 17/31 [00:14<00:10,  1.29it/s, train_loss=0.871]\n",
      "\u001b[Aining Batches:  58%|█████▊    | 18/31 [00:14<00:10,  1.30it/s, train_loss=0.871]\n",
      "\u001b[Aining Batches:  58%|█████▊    | 18/31 [00:15<00:10,  1.30it/s, train_loss=0.986]\n",
      "\u001b[Aining Batches:  61%|██████▏   | 19/31 [00:15<00:09,  1.25it/s, train_loss=0.986]\n",
      "\u001b[Aining Batches:  61%|██████▏   | 19/31 [00:15<00:09,  1.25it/s, train_loss=0.829]\n",
      "\u001b[Aining Batches:  65%|██████▍   | 20/31 [00:15<00:08,  1.27it/s, train_loss=0.829]\n",
      "\u001b[Aining Batches:  65%|██████▍   | 20/31 [00:16<00:08,  1.27it/s, train_loss=0.833]\n",
      "\u001b[Aining Batches:  68%|██████▊   | 21/31 [00:16<00:07,  1.27it/s, train_loss=0.833]\n",
      "\u001b[Aining Batches:  68%|██████▊   | 21/31 [00:17<00:07,  1.27it/s, train_loss=0.744]\n",
      "\u001b[Aining Batches:  71%|███████   | 22/31 [00:17<00:07,  1.27it/s, train_loss=0.744]\n",
      "\u001b[Aining Batches:  71%|███████   | 22/31 [00:18<00:07,  1.27it/s, train_loss=1.08] \n",
      "\u001b[Aining Batches:  74%|███████▍  | 23/31 [00:18<00:06,  1.24it/s, train_loss=1.08]\n",
      "\u001b[Aining Batches:  74%|███████▍  | 23/31 [00:19<00:06,  1.24it/s, train_loss=0.91]\n",
      "\u001b[Aining Batches:  77%|███████▋  | 24/31 [00:19<00:05,  1.23it/s, train_loss=0.91]\n",
      "\u001b[Aining Batches:  77%|███████▋  | 24/31 [00:19<00:05,  1.23it/s, train_loss=0.704]\n",
      "\u001b[Aining Batches:  81%|████████  | 25/31 [00:19<00:04,  1.25it/s, train_loss=0.704]\n",
      "\u001b[Aining Batches:  81%|████████  | 25/31 [00:20<00:04,  1.25it/s, train_loss=0.663]\n",
      "\u001b[Aining Batches:  84%|████████▍ | 26/31 [00:20<00:03,  1.25it/s, train_loss=0.663]\n",
      "\u001b[Aining Batches:  84%|████████▍ | 26/31 [00:21<00:03,  1.25it/s, train_loss=0.893]\n",
      "\u001b[Aining Batches:  87%|████████▋ | 27/31 [00:21<00:03,  1.27it/s, train_loss=0.893]\n",
      "\u001b[Aining Batches:  87%|████████▋ | 27/31 [00:22<00:03,  1.27it/s, train_loss=0.949]\n",
      "\u001b[Aining Batches:  90%|█████████ | 28/31 [00:22<00:02,  1.27it/s, train_loss=0.949]\n",
      "\u001b[Aining Batches:  90%|█████████ | 28/31 [00:22<00:02,  1.27it/s, train_loss=0.951]\n",
      "\u001b[Aining Batches:  94%|█████████▎| 29/31 [00:22<00:01,  1.27it/s, train_loss=0.951]\n",
      "\u001b[Aining Batches:  94%|█████████▎| 29/31 [00:23<00:01,  1.27it/s, train_loss=0.739]\n",
      "\u001b[Aining Batches:  97%|█████████▋| 30/31 [00:23<00:00,  1.28it/s, train_loss=0.739]\n",
      "\u001b[Aining Batches:  97%|█████████▋| 30/31 [00:24<00:00,  1.28it/s, train_loss=1.62] \n",
      "\u001b[Aining Batches: 100%|██████████| 31/31 [00:24<00:00,  1.57it/s, train_loss=1.62]\n",
      "\u001b[A                                                                               "
     ]
    },
    {
     "name": "stdout",
     "output_type": "stream",
     "text": [
      "epoch 4 average loss: 0.9334\n",
      "1\n"
     ]
    },
    {
     "name": "stderr",
     "output_type": "stream",
     "text": [
      "Epochs:   6%|▌         | 4/70 [01:43<28:24, 25.82s/it]"
     ]
    },
    {
     "name": "stdout",
     "output_type": "stream",
     "text": [
      "saved new best metric model\n",
      "current epoch: 4 current AUC: 0.9719 current accuracy: 0.6398 best AUC: 0.9719 at epoch: 4\n",
      "----------\n",
      "epoch 5/70\n"
     ]
    },
    {
     "name": "stderr",
     "output_type": "stream",
     "text": [
      "\n",
      "\u001b[Aining Batches:   0%|          | 0/31 [00:00<?, ?it/s]\n",
      "\u001b[Aining Batches:   0%|          | 0/31 [00:00<?, ?it/s, train_loss=0.821]\n",
      "\u001b[Aining Batches:   3%|▎         | 1/31 [00:00<00:24,  1.23it/s, train_loss=0.821]\n",
      "\u001b[Aining Batches:   3%|▎         | 1/31 [00:01<00:24,  1.23it/s, train_loss=0.854]\n",
      "\u001b[Aining Batches:   6%|▋         | 2/31 [00:01<00:22,  1.30it/s, train_loss=0.854]\n",
      "\u001b[Aining Batches:   6%|▋         | 2/31 [00:02<00:22,  1.30it/s, train_loss=1.02] \n",
      "\u001b[Aining Batches:  10%|▉         | 3/31 [00:02<00:21,  1.31it/s, train_loss=1.02]\n",
      "\u001b[Aining Batches:  10%|▉         | 3/31 [00:03<00:21,  1.31it/s, train_loss=1.16]\n",
      "\u001b[Aining Batches:  13%|█▎        | 4/31 [00:03<00:20,  1.29it/s, train_loss=1.16]\n",
      "\u001b[Aining Batches:  13%|█▎        | 4/31 [00:03<00:20,  1.29it/s, train_loss=0.888]\n",
      "\u001b[Aining Batches:  16%|█▌        | 5/31 [00:03<00:20,  1.28it/s, train_loss=0.888]\n",
      "\u001b[Aining Batches:  16%|█▌        | 5/31 [00:04<00:20,  1.28it/s, train_loss=0.851]\n",
      "\u001b[Aining Batches:  19%|█▉        | 6/31 [00:04<00:20,  1.24it/s, train_loss=0.851]\n",
      "\u001b[Aining Batches:  19%|█▉        | 6/31 [00:05<00:20,  1.24it/s, train_loss=0.785]\n",
      "\u001b[Aining Batches:  23%|██▎       | 7/31 [00:05<00:19,  1.24it/s, train_loss=0.785]\n",
      "\u001b[Aining Batches:  23%|██▎       | 7/31 [00:06<00:19,  1.24it/s, train_loss=0.766]\n",
      "\u001b[Aining Batches:  26%|██▌       | 8/31 [00:06<00:18,  1.24it/s, train_loss=0.766]\n",
      "\u001b[Aining Batches:  26%|██▌       | 8/31 [00:07<00:18,  1.24it/s, train_loss=0.983]\n",
      "\u001b[Aining Batches:  29%|██▉       | 9/31 [00:07<00:18,  1.22it/s, train_loss=0.983]\n",
      "\u001b[Aining Batches:  29%|██▉       | 9/31 [00:08<00:18,  1.22it/s, train_loss=0.677]\n",
      "\u001b[Aining Batches:  32%|███▏      | 10/31 [00:08<00:17,  1.20it/s, train_loss=0.677]\n",
      "\u001b[Aining Batches:  32%|███▏      | 10/31 [00:08<00:17,  1.20it/s, train_loss=0.823]\n",
      "\u001b[Aining Batches:  35%|███▌      | 11/31 [00:08<00:16,  1.22it/s, train_loss=0.823]\n",
      "\u001b[Aining Batches:  35%|███▌      | 11/31 [00:09<00:16,  1.22it/s, train_loss=0.816]\n",
      "\u001b[Aining Batches:  39%|███▊      | 12/31 [00:09<00:15,  1.26it/s, train_loss=0.816]\n",
      "\u001b[Aining Batches:  39%|███▊      | 12/31 [00:10<00:15,  1.26it/s, train_loss=0.741]\n",
      "\u001b[Aining Batches:  42%|████▏     | 13/31 [00:10<00:14,  1.24it/s, train_loss=0.741]\n",
      "\u001b[Aining Batches:  42%|████▏     | 13/31 [00:11<00:14,  1.24it/s, train_loss=0.713]\n",
      "\u001b[Aining Batches:  45%|████▌     | 14/31 [00:11<00:14,  1.21it/s, train_loss=0.713]\n",
      "\u001b[Aining Batches:  45%|████▌     | 14/31 [00:12<00:14,  1.21it/s, train_loss=0.753]\n",
      "\u001b[Aining Batches:  48%|████▊     | 15/31 [00:12<00:13,  1.20it/s, train_loss=0.753]\n",
      "\u001b[Aining Batches:  48%|████▊     | 15/31 [00:12<00:13,  1.20it/s, train_loss=0.755]\n",
      "\u001b[Aining Batches:  52%|█████▏    | 16/31 [00:12<00:12,  1.22it/s, train_loss=0.755]\n",
      "\u001b[Aining Batches:  52%|█████▏    | 16/31 [00:13<00:12,  1.22it/s, train_loss=0.734]\n",
      "\u001b[Aining Batches:  55%|█████▍    | 17/31 [00:13<00:11,  1.24it/s, train_loss=0.734]\n",
      "\u001b[Aining Batches:  55%|█████▍    | 17/31 [00:14<00:11,  1.24it/s, train_loss=0.854]\n",
      "\u001b[Aining Batches:  58%|█████▊    | 18/31 [00:14<00:10,  1.22it/s, train_loss=0.854]\n",
      "\u001b[Aining Batches:  58%|█████▊    | 18/31 [00:15<00:10,  1.22it/s, train_loss=0.957]\n",
      "\u001b[Aining Batches:  61%|██████▏   | 19/31 [00:15<00:09,  1.20it/s, train_loss=0.957]\n",
      "\u001b[Aining Batches:  61%|██████▏   | 19/31 [00:16<00:09,  1.20it/s, train_loss=0.982]\n",
      "\u001b[Aining Batches:  65%|██████▍   | 20/31 [00:16<00:09,  1.22it/s, train_loss=0.982]\n",
      "\u001b[Aining Batches:  65%|██████▍   | 20/31 [00:17<00:09,  1.22it/s, train_loss=0.83] \n",
      "\u001b[Aining Batches:  68%|██████▊   | 21/31 [00:17<00:08,  1.23it/s, train_loss=0.83]\n",
      "\u001b[Aining Batches:  68%|██████▊   | 21/31 [00:17<00:08,  1.23it/s, train_loss=0.969]\n",
      "\u001b[Aining Batches:  71%|███████   | 22/31 [00:17<00:07,  1.24it/s, train_loss=0.969]\n",
      "\u001b[Aining Batches:  71%|███████   | 22/31 [00:18<00:07,  1.24it/s, train_loss=0.792]\n",
      "\u001b[Aining Batches:  74%|███████▍  | 23/31 [00:18<00:06,  1.22it/s, train_loss=0.792]\n",
      "\u001b[Aining Batches:  74%|███████▍  | 23/31 [00:19<00:06,  1.22it/s, train_loss=0.767]\n",
      "\u001b[Aining Batches:  77%|███████▋  | 24/31 [00:19<00:05,  1.23it/s, train_loss=0.767]\n",
      "\u001b[Aining Batches:  77%|███████▋  | 24/31 [00:20<00:05,  1.23it/s, train_loss=0.907]\n",
      "\u001b[Aining Batches:  81%|████████  | 25/31 [00:20<00:04,  1.25it/s, train_loss=0.907]\n",
      "\u001b[Aining Batches:  81%|████████  | 25/31 [00:20<00:04,  1.25it/s, train_loss=0.731]\n",
      "\u001b[Aining Batches:  84%|████████▍ | 26/31 [00:20<00:03,  1.28it/s, train_loss=0.731]\n",
      "\u001b[Aining Batches:  84%|████████▍ | 26/31 [00:21<00:03,  1.28it/s, train_loss=0.915]\n",
      "\u001b[Aining Batches:  87%|████████▋ | 27/31 [00:21<00:03,  1.26it/s, train_loss=0.915]\n",
      "\u001b[Aining Batches:  87%|████████▋ | 27/31 [00:22<00:03,  1.26it/s, train_loss=0.824]\n",
      "\u001b[Aining Batches:  90%|█████████ | 28/31 [00:22<00:02,  1.26it/s, train_loss=0.824]\n",
      "\u001b[Aining Batches:  90%|█████████ | 28/31 [00:23<00:02,  1.26it/s, train_loss=0.673]\n",
      "\u001b[Aining Batches:  94%|█████████▎| 29/31 [00:23<00:01,  1.27it/s, train_loss=0.673]\n",
      "\u001b[Aining Batches:  94%|█████████▎| 29/31 [00:24<00:01,  1.27it/s, train_loss=0.86] \n",
      "\u001b[Aining Batches:  97%|█████████▋| 30/31 [00:24<00:00,  1.29it/s, train_loss=0.86]\n",
      "\u001b[Aining Batches:  97%|█████████▋| 30/31 [00:24<00:00,  1.29it/s, train_loss=0.821]\n",
      "\u001b[Aining Batches: 100%|██████████| 31/31 [00:24<00:00,  1.59it/s, train_loss=0.821]\n",
      "\u001b[A                                                                                "
     ]
    },
    {
     "name": "stdout",
     "output_type": "stream",
     "text": [
      "epoch 5 average loss: 0.8394\n",
      "1\n"
     ]
    },
    {
     "name": "stderr",
     "output_type": "stream",
     "text": [
      "Epochs:   7%|▋         | 5/70 [02:09<28:08, 25.97s/it]"
     ]
    },
    {
     "name": "stdout",
     "output_type": "stream",
     "text": [
      "saved new best metric model\n",
      "current epoch: 5 current AUC: 0.9818 current accuracy: 0.7143 best AUC: 0.9818 at epoch: 5\n",
      "----------\n",
      "epoch 6/70\n"
     ]
    },
    {
     "name": "stderr",
     "output_type": "stream",
     "text": [
      "\n",
      "\u001b[Aining Batches:   0%|          | 0/31 [00:00<?, ?it/s]\n",
      "\u001b[Aining Batches:   0%|          | 0/31 [00:00<?, ?it/s, train_loss=0.962]\n",
      "\u001b[Aining Batches:   3%|▎         | 1/31 [00:00<00:24,  1.22it/s, train_loss=0.962]\n",
      "\u001b[Aining Batches:   3%|▎         | 1/31 [00:01<00:24,  1.22it/s, train_loss=0.575]\n",
      "\u001b[Aining Batches:   6%|▋         | 2/31 [00:01<00:24,  1.20it/s, train_loss=0.575]\n",
      "\u001b[Aining Batches:   6%|▋         | 2/31 [00:02<00:24,  1.20it/s, train_loss=0.729]\n",
      "\u001b[Aining Batches:  10%|▉         | 3/31 [00:02<00:23,  1.22it/s, train_loss=0.729]\n",
      "\u001b[Aining Batches:  10%|▉         | 3/31 [00:03<00:23,  1.22it/s, train_loss=0.889]\n",
      "\u001b[Aining Batches:  13%|█▎        | 4/31 [00:03<00:21,  1.27it/s, train_loss=0.889]\n",
      "\u001b[Aining Batches:  13%|█▎        | 4/31 [00:04<00:21,  1.27it/s, train_loss=0.693]\n",
      "\u001b[Aining Batches:  16%|█▌        | 5/31 [00:04<00:20,  1.25it/s, train_loss=0.693]\n",
      "\u001b[Aining Batches:  16%|█▌        | 5/31 [00:04<00:20,  1.25it/s, train_loss=0.795]\n",
      "\u001b[Aining Batches:  19%|█▉        | 6/31 [00:04<00:20,  1.24it/s, train_loss=0.795]\n",
      "\u001b[Aining Batches:  19%|█▉        | 6/31 [00:05<00:20,  1.24it/s, train_loss=0.667]\n",
      "\u001b[Aining Batches:  23%|██▎       | 7/31 [00:05<00:18,  1.28it/s, train_loss=0.667]\n",
      "\u001b[Aining Batches:  23%|██▎       | 7/31 [00:06<00:18,  1.28it/s, train_loss=0.82] \n",
      "\u001b[Aining Batches:  26%|██▌       | 8/31 [00:06<00:18,  1.25it/s, train_loss=0.82]\n",
      "\u001b[Aining Batches:  26%|██▌       | 8/31 [00:07<00:18,  1.25it/s, train_loss=0.813]\n",
      "\u001b[Aining Batches:  29%|██▉       | 9/31 [00:07<00:17,  1.24it/s, train_loss=0.813]\n",
      "\u001b[Aining Batches:  29%|██▉       | 9/31 [00:08<00:17,  1.24it/s, train_loss=0.648]\n",
      "\u001b[Aining Batches:  32%|███▏      | 10/31 [00:08<00:16,  1.24it/s, train_loss=0.648]\n",
      "\u001b[Aining Batches:  32%|███▏      | 10/31 [00:08<00:16,  1.24it/s, train_loss=0.957]\n",
      "\u001b[Aining Batches:  35%|███▌      | 11/31 [00:08<00:16,  1.24it/s, train_loss=0.957]\n",
      "\u001b[Aining Batches:  35%|███▌      | 11/31 [00:09<00:16,  1.24it/s, train_loss=0.741]\n",
      "\u001b[Aining Batches:  39%|███▊      | 12/31 [00:09<00:15,  1.25it/s, train_loss=0.741]\n",
      "\u001b[Aining Batches:  39%|███▊      | 12/31 [00:10<00:15,  1.25it/s, train_loss=0.888]\n",
      "\u001b[Aining Batches:  42%|████▏     | 13/31 [00:10<00:14,  1.24it/s, train_loss=0.888]\n",
      "\u001b[Aining Batches:  42%|████▏     | 13/31 [00:11<00:14,  1.24it/s, train_loss=0.748]\n",
      "\u001b[Aining Batches:  45%|████▌     | 14/31 [00:11<00:13,  1.25it/s, train_loss=0.748]\n",
      "\u001b[Aining Batches:  45%|████▌     | 14/31 [00:12<00:13,  1.25it/s, train_loss=0.867]\n",
      "\u001b[Aining Batches:  48%|████▊     | 15/31 [00:12<00:12,  1.26it/s, train_loss=0.867]\n",
      "\u001b[Aining Batches:  48%|████▊     | 15/31 [00:12<00:12,  1.26it/s, train_loss=0.799]\n",
      "\u001b[Aining Batches:  52%|█████▏    | 16/31 [00:12<00:11,  1.25it/s, train_loss=0.799]\n",
      "\u001b[Aining Batches:  52%|█████▏    | 16/31 [00:13<00:11,  1.25it/s, train_loss=0.815]\n",
      "\u001b[Aining Batches:  55%|█████▍    | 17/31 [00:13<00:11,  1.26it/s, train_loss=0.815]\n",
      "\u001b[Aining Batches:  55%|█████▍    | 17/31 [00:14<00:11,  1.26it/s, train_loss=0.66] \n",
      "\u001b[Aining Batches:  58%|█████▊    | 18/31 [00:14<00:10,  1.26it/s, train_loss=0.66]\n",
      "\u001b[Aining Batches:  58%|█████▊    | 18/31 [00:15<00:10,  1.26it/s, train_loss=0.932]\n",
      "\u001b[Aining Batches:  61%|██████▏   | 19/31 [00:15<00:09,  1.26it/s, train_loss=0.932]\n",
      "\u001b[Aining Batches:  61%|██████▏   | 19/31 [00:15<00:09,  1.26it/s, train_loss=0.626]\n",
      "\u001b[Aining Batches:  65%|██████▍   | 20/31 [00:15<00:08,  1.27it/s, train_loss=0.626]\n",
      "\u001b[Aining Batches:  65%|██████▍   | 20/31 [00:16<00:08,  1.27it/s, train_loss=0.691]\n",
      "\u001b[Aining Batches:  68%|██████▊   | 21/31 [00:16<00:07,  1.26it/s, train_loss=0.691]\n",
      "\u001b[Aining Batches:  68%|██████▊   | 21/31 [00:17<00:07,  1.26it/s, train_loss=0.561]\n",
      "\u001b[Aining Batches:  71%|███████   | 22/31 [00:17<00:07,  1.25it/s, train_loss=0.561]\n",
      "\u001b[Aining Batches:  71%|███████   | 22/31 [00:18<00:07,  1.25it/s, train_loss=0.583]\n",
      "\u001b[Aining Batches:  74%|███████▍  | 23/31 [00:18<00:06,  1.26it/s, train_loss=0.583]\n",
      "\u001b[Aining Batches:  74%|███████▍  | 23/31 [00:19<00:06,  1.26it/s, train_loss=0.777]\n",
      "\u001b[Aining Batches:  77%|███████▋  | 24/31 [00:19<00:05,  1.29it/s, train_loss=0.777]\n",
      "\u001b[Aining Batches:  77%|███████▋  | 24/31 [00:19<00:05,  1.29it/s, train_loss=0.595]\n",
      "\u001b[Aining Batches:  81%|████████  | 25/31 [00:19<00:04,  1.29it/s, train_loss=0.595]\n",
      "\u001b[Aining Batches:  81%|████████  | 25/31 [00:20<00:04,  1.29it/s, train_loss=0.722]\n",
      "\u001b[Aining Batches:  84%|████████▍ | 26/31 [00:20<00:03,  1.27it/s, train_loss=0.722]\n",
      "\u001b[Aining Batches:  84%|████████▍ | 26/31 [00:21<00:03,  1.27it/s, train_loss=0.976]\n",
      "\u001b[Aining Batches:  87%|████████▋ | 27/31 [00:21<00:03,  1.26it/s, train_loss=0.976]\n",
      "\u001b[Aining Batches:  87%|████████▋ | 27/31 [00:22<00:03,  1.26it/s, train_loss=0.678]\n",
      "\u001b[Aining Batches:  90%|█████████ | 28/31 [00:22<00:02,  1.23it/s, train_loss=0.678]\n",
      "\u001b[Aining Batches:  90%|█████████ | 28/31 [00:23<00:02,  1.23it/s, train_loss=0.693]\n",
      "\u001b[Aining Batches:  94%|█████████▎| 29/31 [00:23<00:01,  1.23it/s, train_loss=0.693]\n",
      "\u001b[Aining Batches:  94%|█████████▎| 29/31 [00:23<00:01,  1.23it/s, train_loss=0.622]\n",
      "\u001b[Aining Batches:  97%|█████████▋| 30/31 [00:23<00:00,  1.25it/s, train_loss=0.622]\n",
      "\u001b[Aining Batches:  97%|█████████▋| 30/31 [00:24<00:00,  1.25it/s, train_loss=0.764]\n",
      "\u001b[Aining Batches: 100%|██████████| 31/31 [00:24<00:00,  1.54it/s, train_loss=0.764]\n",
      "\u001b[A                                                                                "
     ]
    },
    {
     "name": "stdout",
     "output_type": "stream",
     "text": [
      "epoch 6 average loss: 0.7511\n",
      "1\n"
     ]
    },
    {
     "name": "stderr",
     "output_type": "stream",
     "text": [
      "Epochs:   9%|▊         | 6/70 [02:35<27:45, 26.02s/it]"
     ]
    },
    {
     "name": "stdout",
     "output_type": "stream",
     "text": [
      "saved new best metric model\n",
      "current epoch: 6 current AUC: 0.9847 current accuracy: 0.7640 best AUC: 0.9847 at epoch: 6\n",
      "----------\n",
      "epoch 7/70\n"
     ]
    },
    {
     "name": "stderr",
     "output_type": "stream",
     "text": [
      "\n",
      "\u001b[Aining Batches:   0%|          | 0/31 [00:00<?, ?it/s]\n",
      "\u001b[Aining Batches:   0%|          | 0/31 [00:00<?, ?it/s, train_loss=0.445]\n",
      "\u001b[Aining Batches:   3%|▎         | 1/31 [00:00<00:23,  1.30it/s, train_loss=0.445]\n",
      "\u001b[Aining Batches:   3%|▎         | 1/31 [00:01<00:23,  1.30it/s, train_loss=0.494]\n",
      "\u001b[Aining Batches:   6%|▋         | 2/31 [00:01<00:21,  1.35it/s, train_loss=0.494]\n",
      "\u001b[Aining Batches:   6%|▋         | 2/31 [00:02<00:21,  1.35it/s, train_loss=0.622]\n",
      "\u001b[Aining Batches:  10%|▉         | 3/31 [00:02<00:22,  1.27it/s, train_loss=0.622]\n",
      "\u001b[Aining Batches:  10%|▉         | 3/31 [00:03<00:22,  1.27it/s, train_loss=0.52] \n",
      "\u001b[Aining Batches:  13%|█▎        | 4/31 [00:03<00:20,  1.29it/s, train_loss=0.52]\n",
      "\u001b[Aining Batches:  13%|█▎        | 4/31 [00:03<00:20,  1.29it/s, train_loss=0.712]\n",
      "\u001b[Aining Batches:  16%|█▌        | 5/31 [00:03<00:20,  1.29it/s, train_loss=0.712]\n",
      "\u001b[Aining Batches:  16%|█▌        | 5/31 [00:04<00:20,  1.29it/s, train_loss=0.676]\n",
      "\u001b[Aining Batches:  19%|█▉        | 6/31 [00:04<00:19,  1.28it/s, train_loss=0.676]\n",
      "\u001b[Aining Batches:  19%|█▉        | 6/31 [00:05<00:19,  1.28it/s, train_loss=0.718]\n",
      "\u001b[Aining Batches:  23%|██▎       | 7/31 [00:05<00:18,  1.28it/s, train_loss=0.718]\n",
      "\u001b[Aining Batches:  23%|██▎       | 7/31 [00:06<00:18,  1.28it/s, train_loss=0.666]\n",
      "\u001b[Aining Batches:  26%|██▌       | 8/31 [00:06<00:18,  1.26it/s, train_loss=0.666]\n",
      "\u001b[Aining Batches:  26%|██▌       | 8/31 [00:07<00:18,  1.26it/s, train_loss=0.488]\n",
      "\u001b[Aining Batches:  29%|██▉       | 9/31 [00:07<00:17,  1.27it/s, train_loss=0.488]\n",
      "\u001b[Aining Batches:  29%|██▉       | 9/31 [00:07<00:17,  1.27it/s, train_loss=1.08] \n",
      "\u001b[Aining Batches:  32%|███▏      | 10/31 [00:07<00:16,  1.28it/s, train_loss=1.08]\n",
      "\u001b[Aining Batches:  32%|███▏      | 10/31 [00:08<00:16,  1.28it/s, train_loss=0.742]\n",
      "\u001b[Aining Batches:  35%|███▌      | 11/31 [00:08<00:15,  1.29it/s, train_loss=0.742]\n",
      "\u001b[Aining Batches:  35%|███▌      | 11/31 [00:09<00:15,  1.29it/s, train_loss=0.591]\n",
      "\u001b[Aining Batches:  39%|███▊      | 12/31 [00:09<00:14,  1.30it/s, train_loss=0.591]\n",
      "\u001b[Aining Batches:  39%|███▊      | 12/31 [00:10<00:14,  1.30it/s, train_loss=0.604]\n",
      "\u001b[Aining Batches:  42%|████▏     | 13/31 [00:10<00:14,  1.28it/s, train_loss=0.604]\n",
      "\u001b[Aining Batches:  42%|████▏     | 13/31 [00:10<00:14,  1.28it/s, train_loss=0.629]\n",
      "\u001b[Aining Batches:  45%|████▌     | 14/31 [00:10<00:13,  1.29it/s, train_loss=0.629]\n",
      "\u001b[Aining Batches:  45%|████▌     | 14/31 [00:11<00:13,  1.29it/s, train_loss=0.582]\n",
      "\u001b[Aining Batches:  48%|████▊     | 15/31 [00:11<00:12,  1.28it/s, train_loss=0.582]\n",
      "\u001b[Aining Batches:  48%|████▊     | 15/31 [00:12<00:12,  1.28it/s, train_loss=0.885]\n",
      "\u001b[Aining Batches:  52%|█████▏    | 16/31 [00:12<00:11,  1.27it/s, train_loss=0.885]\n",
      "\u001b[Aining Batches:  52%|█████▏    | 16/31 [00:13<00:11,  1.27it/s, train_loss=0.607]\n",
      "\u001b[Aining Batches:  55%|█████▍    | 17/31 [00:13<00:11,  1.26it/s, train_loss=0.607]\n",
      "\u001b[Aining Batches:  55%|█████▍    | 17/31 [00:14<00:11,  1.26it/s, train_loss=0.525]\n",
      "\u001b[Aining Batches:  58%|█████▊    | 18/31 [00:14<00:10,  1.26it/s, train_loss=0.525]\n",
      "\u001b[Aining Batches:  58%|█████▊    | 18/31 [00:14<00:10,  1.26it/s, train_loss=0.583]\n",
      "\u001b[Aining Batches:  61%|██████▏   | 19/31 [00:14<00:09,  1.23it/s, train_loss=0.583]\n",
      "\u001b[Aining Batches:  61%|██████▏   | 19/31 [00:15<00:09,  1.23it/s, train_loss=0.659]\n",
      "\u001b[Aining Batches:  65%|██████▍   | 20/31 [00:15<00:08,  1.26it/s, train_loss=0.659]\n",
      "\u001b[Aining Batches:  65%|██████▍   | 20/31 [00:16<00:08,  1.26it/s, train_loss=0.8]  \n",
      "\u001b[Aining Batches:  68%|██████▊   | 21/31 [00:16<00:07,  1.27it/s, train_loss=0.8]\n",
      "\u001b[Aining Batches:  68%|██████▊   | 21/31 [00:17<00:07,  1.27it/s, train_loss=1.01]\n",
      "\u001b[Aining Batches:  71%|███████   | 22/31 [00:17<00:07,  1.25it/s, train_loss=1.01]\n",
      "\u001b[Aining Batches:  71%|███████   | 22/31 [00:18<00:07,  1.25it/s, train_loss=0.836]\n",
      "\u001b[Aining Batches:  74%|███████▍  | 23/31 [00:18<00:06,  1.24it/s, train_loss=0.836]\n",
      "\u001b[Aining Batches:  74%|███████▍  | 23/31 [00:18<00:06,  1.24it/s, train_loss=0.51] \n",
      "\u001b[Aining Batches:  77%|███████▋  | 24/31 [00:18<00:05,  1.25it/s, train_loss=0.51]\n",
      "\u001b[Aining Batches:  77%|███████▋  | 24/31 [00:19<00:05,  1.25it/s, train_loss=0.671]\n",
      "\u001b[Aining Batches:  81%|████████  | 25/31 [00:19<00:04,  1.24it/s, train_loss=0.671]\n",
      "\u001b[Aining Batches:  81%|████████  | 25/31 [00:20<00:04,  1.24it/s, train_loss=0.895]\n",
      "\u001b[Aining Batches:  84%|████████▍ | 26/31 [00:20<00:03,  1.27it/s, train_loss=0.895]\n",
      "\u001b[Aining Batches:  84%|████████▍ | 26/31 [00:21<00:03,  1.27it/s, train_loss=0.571]\n",
      "\u001b[Aining Batches:  87%|████████▋ | 27/31 [00:21<00:03,  1.26it/s, train_loss=0.571]\n",
      "\u001b[Aining Batches:  87%|████████▋ | 27/31 [00:22<00:03,  1.26it/s, train_loss=0.907]\n",
      "\u001b[Aining Batches:  90%|█████████ | 28/31 [00:22<00:02,  1.26it/s, train_loss=0.907]\n",
      "\u001b[Aining Batches:  90%|█████████ | 28/31 [00:22<00:02,  1.26it/s, train_loss=0.49] \n",
      "\u001b[Aining Batches:  94%|█████████▎| 29/31 [00:22<00:01,  1.26it/s, train_loss=0.49]\n",
      "\u001b[Aining Batches:  94%|█████████▎| 29/31 [00:23<00:01,  1.26it/s, train_loss=0.608]\n",
      "\u001b[Aining Batches:  97%|█████████▋| 30/31 [00:23<00:00,  1.25it/s, train_loss=0.608]\n",
      "\u001b[Aining Batches:  97%|█████████▋| 30/31 [00:23<00:00,  1.25it/s, train_loss=0.728]\n",
      "\u001b[Aining Batches: 100%|██████████| 31/31 [00:23<00:00,  1.56it/s, train_loss=0.728]\n",
      "\u001b[A                                                                                "
     ]
    },
    {
     "name": "stdout",
     "output_type": "stream",
     "text": [
      "epoch 7 average loss: 0.6727\n"
     ]
    },
    {
     "name": "stderr",
     "output_type": "stream",
     "text": [
      "Epochs:  10%|█         | 7/70 [02:59<26:49, 25.54s/it]"
     ]
    },
    {
     "name": "stdout",
     "output_type": "stream",
     "text": [
      "1\n",
      "current epoch: 7 current AUC: 0.9777 current accuracy: 0.7329 best AUC: 0.9847 at epoch: 6\n",
      "----------\n",
      "epoch 8/70\n"
     ]
    },
    {
     "name": "stderr",
     "output_type": "stream",
     "text": [
      "\n",
      "\u001b[Aining Batches:   0%|          | 0/31 [00:00<?, ?it/s]\n",
      "\u001b[Aining Batches:   0%|          | 0/31 [00:00<?, ?it/s, train_loss=0.796]\n",
      "\u001b[Aining Batches:   3%|▎         | 1/31 [00:00<00:22,  1.33it/s, train_loss=0.796]\n",
      "\u001b[Aining Batches:   3%|▎         | 1/31 [00:01<00:22,  1.33it/s, train_loss=0.651]\n",
      "\u001b[Aining Batches:   6%|▋         | 2/31 [00:01<00:22,  1.30it/s, train_loss=0.651]\n",
      "\u001b[Aining Batches:   6%|▋         | 2/31 [00:02<00:22,  1.30it/s, train_loss=0.676]\n",
      "\u001b[Aining Batches:  10%|▉         | 3/31 [00:02<00:22,  1.25it/s, train_loss=0.676]\n",
      "\u001b[Aining Batches:  10%|▉         | 3/31 [00:03<00:22,  1.25it/s, train_loss=0.523]\n",
      "\u001b[Aining Batches:  13%|█▎        | 4/31 [00:03<00:21,  1.25it/s, train_loss=0.523]\n",
      "\u001b[Aining Batches:  13%|█▎        | 4/31 [00:03<00:21,  1.25it/s, train_loss=0.777]\n",
      "\u001b[Aining Batches:  16%|█▌        | 5/31 [00:03<00:20,  1.25it/s, train_loss=0.777]\n",
      "\u001b[Aining Batches:  16%|█▌        | 5/31 [00:04<00:20,  1.25it/s, train_loss=0.595]\n",
      "\u001b[Aining Batches:  19%|█▉        | 6/31 [00:04<00:20,  1.24it/s, train_loss=0.595]\n",
      "\u001b[Aining Batches:  19%|█▉        | 6/31 [00:05<00:20,  1.24it/s, train_loss=0.697]\n",
      "\u001b[Aining Batches:  23%|██▎       | 7/31 [00:05<00:19,  1.23it/s, train_loss=0.697]\n",
      "\u001b[Aining Batches:  23%|██▎       | 7/31 [00:06<00:19,  1.23it/s, train_loss=0.599]\n",
      "\u001b[Aining Batches:  26%|██▌       | 8/31 [00:06<00:18,  1.24it/s, train_loss=0.599]\n",
      "\u001b[Aining Batches:  26%|██▌       | 8/31 [00:07<00:18,  1.24it/s, train_loss=0.549]\n",
      "\u001b[Aining Batches:  29%|██▉       | 9/31 [00:07<00:17,  1.23it/s, train_loss=0.549]\n",
      "\u001b[Aining Batches:  29%|██▉       | 9/31 [00:07<00:17,  1.23it/s, train_loss=0.542]\n",
      "\u001b[Aining Batches:  32%|███▏      | 10/31 [00:07<00:16,  1.26it/s, train_loss=0.542]\n",
      "\u001b[Aining Batches:  32%|███▏      | 10/31 [00:08<00:16,  1.26it/s, train_loss=0.829]\n",
      "\u001b[Aining Batches:  35%|███▌      | 11/31 [00:08<00:15,  1.27it/s, train_loss=0.829]\n",
      "\u001b[Aining Batches:  35%|███▌      | 11/31 [00:09<00:15,  1.27it/s, train_loss=0.539]\n",
      "\u001b[Aining Batches:  39%|███▊      | 12/31 [00:09<00:14,  1.28it/s, train_loss=0.539]\n",
      "\u001b[Aining Batches:  39%|███▊      | 12/31 [00:10<00:14,  1.28it/s, train_loss=0.639]\n",
      "\u001b[Aining Batches:  42%|████▏     | 13/31 [00:10<00:13,  1.29it/s, train_loss=0.639]\n",
      "\u001b[Aining Batches:  42%|████▏     | 13/31 [00:11<00:13,  1.29it/s, train_loss=0.837]\n",
      "\u001b[Aining Batches:  45%|████▌     | 14/31 [00:11<00:13,  1.29it/s, train_loss=0.837]\n",
      "\u001b[Aining Batches:  45%|████▌     | 14/31 [00:11<00:13,  1.29it/s, train_loss=0.656]\n",
      "\u001b[Aining Batches:  48%|████▊     | 15/31 [00:11<00:12,  1.29it/s, train_loss=0.656]\n",
      "\u001b[Aining Batches:  48%|████▊     | 15/31 [00:12<00:12,  1.29it/s, train_loss=0.938]\n",
      "\u001b[Aining Batches:  52%|█████▏    | 16/31 [00:12<00:11,  1.26it/s, train_loss=0.938]\n",
      "\u001b[Aining Batches:  52%|█████▏    | 16/31 [00:13<00:11,  1.26it/s, train_loss=0.554]\n",
      "\u001b[Aining Batches:  55%|█████▍    | 17/31 [00:13<00:11,  1.25it/s, train_loss=0.554]\n",
      "\u001b[Aining Batches:  55%|█████▍    | 17/31 [00:14<00:11,  1.25it/s, train_loss=0.46] \n",
      "\u001b[Aining Batches:  58%|█████▊    | 18/31 [00:14<00:10,  1.27it/s, train_loss=0.46]\n",
      "\u001b[Aining Batches:  58%|█████▊    | 18/31 [00:15<00:10,  1.27it/s, train_loss=0.518]\n",
      "\u001b[Aining Batches:  61%|██████▏   | 19/31 [00:15<00:09,  1.26it/s, train_loss=0.518]\n",
      "\u001b[Aining Batches:  61%|██████▏   | 19/31 [00:15<00:09,  1.26it/s, train_loss=0.605]\n",
      "\u001b[Aining Batches:  65%|██████▍   | 20/31 [00:15<00:08,  1.27it/s, train_loss=0.605]\n",
      "\u001b[Aining Batches:  65%|██████▍   | 20/31 [00:16<00:08,  1.27it/s, train_loss=0.567]\n",
      "\u001b[Aining Batches:  68%|██████▊   | 21/31 [00:16<00:07,  1.27it/s, train_loss=0.567]\n",
      "\u001b[Aining Batches:  68%|██████▊   | 21/31 [00:17<00:07,  1.27it/s, train_loss=0.504]\n",
      "\u001b[Aining Batches:  71%|███████   | 22/31 [00:17<00:07,  1.26it/s, train_loss=0.504]\n",
      "\u001b[Aining Batches:  71%|███████   | 22/31 [00:18<00:07,  1.26it/s, train_loss=0.592]\n",
      "\u001b[Aining Batches:  74%|███████▍  | 23/31 [00:18<00:06,  1.26it/s, train_loss=0.592]\n",
      "\u001b[Aining Batches:  74%|███████▍  | 23/31 [00:19<00:06,  1.26it/s, train_loss=0.657]\n",
      "\u001b[Aining Batches:  77%|███████▋  | 24/31 [00:19<00:05,  1.25it/s, train_loss=0.657]\n",
      "\u001b[Aining Batches:  77%|███████▋  | 24/31 [00:19<00:05,  1.25it/s, train_loss=0.526]\n",
      "\u001b[Aining Batches:  81%|████████  | 25/31 [00:19<00:04,  1.23it/s, train_loss=0.526]\n",
      "\u001b[Aining Batches:  81%|████████  | 25/31 [00:20<00:04,  1.23it/s, train_loss=0.746]\n",
      "\u001b[Aining Batches:  84%|████████▍ | 26/31 [00:20<00:04,  1.25it/s, train_loss=0.746]\n",
      "\u001b[Aining Batches:  84%|████████▍ | 26/31 [00:21<00:04,  1.25it/s, train_loss=0.598]\n",
      "\u001b[Aining Batches:  87%|████████▋ | 27/31 [00:21<00:03,  1.26it/s, train_loss=0.598]\n",
      "\u001b[Aining Batches:  87%|████████▋ | 27/31 [00:22<00:03,  1.26it/s, train_loss=0.497]\n",
      "\u001b[Aining Batches:  90%|█████████ | 28/31 [00:22<00:02,  1.26it/s, train_loss=0.497]\n",
      "\u001b[Aining Batches:  90%|█████████ | 28/31 [00:23<00:02,  1.26it/s, train_loss=0.759]\n",
      "\u001b[Aining Batches:  94%|█████████▎| 29/31 [00:23<00:01,  1.23it/s, train_loss=0.759]\n",
      "\u001b[Aining Batches:  94%|█████████▎| 29/31 [00:23<00:01,  1.23it/s, train_loss=0.508]\n",
      "\u001b[Aining Batches:  97%|█████████▋| 30/31 [00:23<00:00,  1.23it/s, train_loss=0.508]\n",
      "\u001b[Aining Batches:  97%|█████████▋| 30/31 [00:24<00:00,  1.23it/s, train_loss=0.682]\n",
      "\u001b[Aining Batches: 100%|██████████| 31/31 [00:24<00:00,  1.55it/s, train_loss=0.682]\n",
      "\u001b[A                                                                                "
     ]
    },
    {
     "name": "stdout",
     "output_type": "stream",
     "text": [
      "epoch 8 average loss: 0.6328\n",
      "1\n"
     ]
    },
    {
     "name": "stderr",
     "output_type": "stream",
     "text": [
      "Epochs:  11%|█▏        | 8/70 [03:25<26:32, 25.68s/it]"
     ]
    },
    {
     "name": "stdout",
     "output_type": "stream",
     "text": [
      "saved new best metric model\n",
      "current epoch: 8 current AUC: 0.9868 current accuracy: 0.8447 best AUC: 0.9868 at epoch: 8\n",
      "----------\n",
      "epoch 9/70\n"
     ]
    },
    {
     "name": "stderr",
     "output_type": "stream",
     "text": [
      "\n",
      "\u001b[Aining Batches:   0%|          | 0/31 [00:00<?, ?it/s]\n",
      "\u001b[Aining Batches:   0%|          | 0/31 [00:00<?, ?it/s, train_loss=0.58]\n",
      "\u001b[Aining Batches:   3%|▎         | 1/31 [00:00<00:23,  1.28it/s, train_loss=0.58]\n",
      "\u001b[Aining Batches:   3%|▎         | 1/31 [00:01<00:23,  1.28it/s, train_loss=0.511]\n",
      "\u001b[Aining Batches:   6%|▋         | 2/31 [00:01<00:23,  1.24it/s, train_loss=0.511]\n",
      "\u001b[Aining Batches:   6%|▋         | 2/31 [00:02<00:23,  1.24it/s, train_loss=0.867]\n",
      "\u001b[Aining Batches:  10%|▉         | 3/31 [00:02<00:22,  1.24it/s, train_loss=0.867]\n",
      "\u001b[Aining Batches:  10%|▉         | 3/31 [00:03<00:22,  1.24it/s, train_loss=0.597]\n",
      "\u001b[Aining Batches:  13%|█▎        | 4/31 [00:03<00:21,  1.27it/s, train_loss=0.597]\n",
      "\u001b[Aining Batches:  13%|█▎        | 4/31 [00:03<00:21,  1.27it/s, train_loss=1.01] \n",
      "\u001b[Aining Batches:  16%|█▌        | 5/31 [00:03<00:20,  1.28it/s, train_loss=1.01]\n",
      "\u001b[Aining Batches:  16%|█▌        | 5/31 [00:04<00:20,  1.28it/s, train_loss=0.478]\n",
      "\u001b[Aining Batches:  19%|█▉        | 6/31 [00:04<00:19,  1.26it/s, train_loss=0.478]\n",
      "\u001b[Aining Batches:  19%|█▉        | 6/31 [00:05<00:19,  1.26it/s, train_loss=0.555]\n",
      "\u001b[Aining Batches:  23%|██▎       | 7/31 [00:05<00:18,  1.27it/s, train_loss=0.555]\n",
      "\u001b[Aining Batches:  23%|██▎       | 7/31 [00:06<00:18,  1.27it/s, train_loss=0.669]\n",
      "\u001b[Aining Batches:  26%|██▌       | 8/31 [00:06<00:17,  1.29it/s, train_loss=0.669]\n",
      "\u001b[Aining Batches:  26%|██▌       | 8/31 [00:07<00:17,  1.29it/s, train_loss=0.442]\n",
      "\u001b[Aining Batches:  29%|██▉       | 9/31 [00:07<00:16,  1.30it/s, train_loss=0.442]\n",
      "\u001b[Aining Batches:  29%|██▉       | 9/31 [00:07<00:16,  1.30it/s, train_loss=0.533]\n",
      "\u001b[Aining Batches:  32%|███▏      | 10/31 [00:07<00:16,  1.29it/s, train_loss=0.533]\n",
      "\u001b[Aining Batches:  32%|███▏      | 10/31 [00:08<00:16,  1.29it/s, train_loss=0.702]\n",
      "\u001b[Aining Batches:  35%|███▌      | 11/31 [00:08<00:15,  1.28it/s, train_loss=0.702]\n",
      "\u001b[Aining Batches:  35%|███▌      | 11/31 [00:09<00:15,  1.28it/s, train_loss=0.719]\n",
      "\u001b[Aining Batches:  39%|███▊      | 12/31 [00:09<00:14,  1.29it/s, train_loss=0.719]\n",
      "\u001b[Aining Batches:  39%|███▊      | 12/31 [00:10<00:14,  1.29it/s, train_loss=0.624]\n",
      "\u001b[Aining Batches:  42%|████▏     | 13/31 [00:10<00:13,  1.29it/s, train_loss=0.624]\n",
      "\u001b[Aining Batches:  42%|████▏     | 13/31 [00:10<00:13,  1.29it/s, train_loss=0.568]\n",
      "\u001b[Aining Batches:  45%|████▌     | 14/31 [00:10<00:13,  1.28it/s, train_loss=0.568]\n",
      "\u001b[Aining Batches:  45%|████▌     | 14/31 [00:11<00:13,  1.28it/s, train_loss=0.909]\n",
      "\u001b[Aining Batches:  48%|████▊     | 15/31 [00:11<00:12,  1.30it/s, train_loss=0.909]\n",
      "\u001b[Aining Batches:  48%|████▊     | 15/31 [00:12<00:12,  1.30it/s, train_loss=0.563]\n",
      "\u001b[Aining Batches:  52%|█████▏    | 16/31 [00:12<00:11,  1.28it/s, train_loss=0.563]\n",
      "\u001b[Aining Batches:  52%|█████▏    | 16/31 [00:13<00:11,  1.28it/s, train_loss=0.616]\n",
      "\u001b[Aining Batches:  55%|█████▍    | 17/31 [00:13<00:10,  1.27it/s, train_loss=0.616]\n",
      "\u001b[Aining Batches:  55%|█████▍    | 17/31 [00:14<00:10,  1.27it/s, train_loss=0.639]\n",
      "\u001b[Aining Batches:  58%|█████▊    | 18/31 [00:14<00:10,  1.27it/s, train_loss=0.639]\n",
      "\u001b[Aining Batches:  58%|█████▊    | 18/31 [00:14<00:10,  1.27it/s, train_loss=0.695]\n",
      "\u001b[Aining Batches:  61%|██████▏   | 19/31 [00:14<00:09,  1.27it/s, train_loss=0.695]\n",
      "\u001b[Aining Batches:  61%|██████▏   | 19/31 [00:15<00:09,  1.27it/s, train_loss=0.726]\n",
      "\u001b[Aining Batches:  65%|██████▍   | 20/31 [00:15<00:08,  1.28it/s, train_loss=0.726]\n",
      "\u001b[Aining Batches:  65%|██████▍   | 20/31 [00:16<00:08,  1.28it/s, train_loss=0.712]\n",
      "\u001b[Aining Batches:  68%|██████▊   | 21/31 [00:16<00:07,  1.27it/s, train_loss=0.712]\n",
      "\u001b[Aining Batches:  68%|██████▊   | 21/31 [00:17<00:07,  1.27it/s, train_loss=0.532]\n",
      "\u001b[Aining Batches:  71%|███████   | 22/31 [00:17<00:07,  1.26it/s, train_loss=0.532]\n",
      "\u001b[Aining Batches:  71%|███████   | 22/31 [00:18<00:07,  1.26it/s, train_loss=0.49] \n",
      "\u001b[Aining Batches:  74%|███████▍  | 23/31 [00:18<00:06,  1.27it/s, train_loss=0.49]\n",
      "\u001b[Aining Batches:  74%|███████▍  | 23/31 [00:18<00:06,  1.27it/s, train_loss=0.761]\n",
      "\u001b[Aining Batches:  77%|███████▋  | 24/31 [00:18<00:05,  1.30it/s, train_loss=0.761]\n",
      "\u001b[Aining Batches:  77%|███████▋  | 24/31 [00:19<00:05,  1.30it/s, train_loss=0.41] \n",
      "\u001b[Aining Batches:  81%|████████  | 25/31 [00:19<00:04,  1.30it/s, train_loss=0.41]\n",
      "\u001b[Aining Batches:  81%|████████  | 25/31 [00:20<00:04,  1.30it/s, train_loss=0.865]\n",
      "\u001b[Aining Batches:  84%|████████▍ | 26/31 [00:20<00:03,  1.29it/s, train_loss=0.865]\n",
      "\u001b[Aining Batches:  84%|████████▍ | 26/31 [00:21<00:03,  1.29it/s, train_loss=0.459]\n",
      "\u001b[Aining Batches:  87%|████████▋ | 27/31 [00:21<00:03,  1.30it/s, train_loss=0.459]\n",
      "\u001b[Aining Batches:  87%|████████▋ | 27/31 [00:21<00:03,  1.30it/s, train_loss=0.824]\n",
      "\u001b[Aining Batches:  90%|█████████ | 28/31 [00:21<00:02,  1.28it/s, train_loss=0.824]\n",
      "\u001b[Aining Batches:  90%|█████████ | 28/31 [00:22<00:02,  1.28it/s, train_loss=0.954]\n",
      "\u001b[Aining Batches:  94%|█████████▎| 29/31 [00:22<00:01,  1.27it/s, train_loss=0.954]\n",
      "\u001b[Aining Batches:  94%|█████████▎| 29/31 [00:23<00:01,  1.27it/s, train_loss=0.583]\n",
      "\u001b[Aining Batches:  97%|█████████▋| 30/31 [00:23<00:00,  1.26it/s, train_loss=0.583]\n",
      "\u001b[Aining Batches:  97%|█████████▋| 30/31 [00:23<00:00,  1.26it/s, train_loss=0.6]  \n",
      "\u001b[Aining Batches: 100%|██████████| 31/31 [00:23<00:00,  1.58it/s, train_loss=0.6]\n",
      "\u001b[A                                                                              "
     ]
    },
    {
     "name": "stdout",
     "output_type": "stream",
     "text": [
      "epoch 9 average loss: 0.6514\n",
      "1\n"
     ]
    },
    {
     "name": "stderr",
     "output_type": "stream",
     "text": [
      "Epochs:  13%|█▎        | 9/70 [03:51<26:05, 25.66s/it]"
     ]
    },
    {
     "name": "stdout",
     "output_type": "stream",
     "text": [
      "saved new best metric model\n",
      "current epoch: 9 current AUC: 0.9906 current accuracy: 0.8447 best AUC: 0.9906 at epoch: 9\n",
      "----------\n",
      "epoch 10/70\n"
     ]
    },
    {
     "name": "stderr",
     "output_type": "stream",
     "text": [
      "\n",
      "\u001b[Aining Batches:   0%|          | 0/31 [00:00<?, ?it/s]\n",
      "\u001b[Aining Batches:   0%|          | 0/31 [00:00<?, ?it/s, train_loss=0.707]\n",
      "\u001b[Aining Batches:   3%|▎         | 1/31 [00:00<00:23,  1.28it/s, train_loss=0.707]\n",
      "\u001b[Aining Batches:   3%|▎         | 1/31 [00:01<00:23,  1.28it/s, train_loss=1.04] \n",
      "\u001b[Aining Batches:   6%|▋         | 2/31 [00:01<00:22,  1.30it/s, train_loss=1.04]\n",
      "\u001b[Aining Batches:   6%|▋         | 2/31 [00:02<00:22,  1.30it/s, train_loss=0.506]\n",
      "\u001b[Aining Batches:  10%|▉         | 3/31 [00:02<00:21,  1.29it/s, train_loss=0.506]\n",
      "\u001b[Aining Batches:  10%|▉         | 3/31 [00:03<00:21,  1.29it/s, train_loss=0.476]\n",
      "\u001b[Aining Batches:  13%|█▎        | 4/31 [00:03<00:21,  1.27it/s, train_loss=0.476]\n",
      "\u001b[Aining Batches:  13%|█▎        | 4/31 [00:03<00:21,  1.27it/s, train_loss=0.649]\n",
      "\u001b[Aining Batches:  16%|█▌        | 5/31 [00:03<00:20,  1.27it/s, train_loss=0.649]\n",
      "\u001b[Aining Batches:  16%|█▌        | 5/31 [00:04<00:20,  1.27it/s, train_loss=0.589]\n",
      "\u001b[Aining Batches:  19%|█▉        | 6/31 [00:04<00:19,  1.29it/s, train_loss=0.589]\n",
      "\u001b[Aining Batches:  19%|█▉        | 6/31 [00:05<00:19,  1.29it/s, train_loss=0.451]\n",
      "\u001b[Aining Batches:  23%|██▎       | 7/31 [00:05<00:18,  1.31it/s, train_loss=0.451]\n",
      "\u001b[Aining Batches:  23%|██▎       | 7/31 [00:06<00:18,  1.31it/s, train_loss=0.454]\n",
      "\u001b[Aining Batches:  26%|██▌       | 8/31 [00:06<00:18,  1.26it/s, train_loss=0.454]\n",
      "\u001b[Aining Batches:  26%|██▌       | 8/31 [00:07<00:18,  1.26it/s, train_loss=0.687]\n",
      "\u001b[Aining Batches:  29%|██▉       | 9/31 [00:07<00:17,  1.26it/s, train_loss=0.687]\n",
      "\u001b[Aining Batches:  29%|██▉       | 9/31 [00:07<00:17,  1.26it/s, train_loss=0.449]\n",
      "\u001b[Aining Batches:  32%|███▏      | 10/31 [00:07<00:16,  1.26it/s, train_loss=0.449]\n",
      "\u001b[Aining Batches:  32%|███▏      | 10/31 [00:08<00:16,  1.26it/s, train_loss=0.539]\n",
      "\u001b[Aining Batches:  35%|███▌      | 11/31 [00:08<00:16,  1.23it/s, train_loss=0.539]\n",
      "\u001b[Aining Batches:  35%|███▌      | 11/31 [00:09<00:16,  1.23it/s, train_loss=0.632]\n",
      "\u001b[Aining Batches:  39%|███▊      | 12/31 [00:09<00:15,  1.25it/s, train_loss=0.632]\n",
      "\u001b[Aining Batches:  39%|███▊      | 12/31 [00:10<00:15,  1.25it/s, train_loss=0.396]\n",
      "\u001b[Aining Batches:  42%|████▏     | 13/31 [00:10<00:14,  1.26it/s, train_loss=0.396]\n",
      "\u001b[Aining Batches:  42%|████▏     | 13/31 [00:11<00:14,  1.26it/s, train_loss=0.628]\n",
      "\u001b[Aining Batches:  45%|████▌     | 14/31 [00:11<00:13,  1.25it/s, train_loss=0.628]\n",
      "\u001b[Aining Batches:  45%|████▌     | 14/31 [00:11<00:13,  1.25it/s, train_loss=0.634]\n",
      "\u001b[Aining Batches:  48%|████▊     | 15/31 [00:11<00:12,  1.24it/s, train_loss=0.634]\n",
      "\u001b[Aining Batches:  48%|████▊     | 15/31 [00:12<00:12,  1.24it/s, train_loss=0.473]\n",
      "\u001b[Aining Batches:  52%|█████▏    | 16/31 [00:12<00:12,  1.24it/s, train_loss=0.473]\n",
      "\u001b[Aining Batches:  52%|█████▏    | 16/31 [00:13<00:12,  1.24it/s, train_loss=0.667]\n",
      "\u001b[Aining Batches:  55%|█████▍    | 17/31 [00:13<00:11,  1.24it/s, train_loss=0.667]\n",
      "\u001b[Aining Batches:  55%|█████▍    | 17/31 [00:14<00:11,  1.24it/s, train_loss=0.556]\n",
      "\u001b[Aining Batches:  58%|█████▊    | 18/31 [00:14<00:10,  1.24it/s, train_loss=0.556]\n",
      "\u001b[Aining Batches:  58%|█████▊    | 18/31 [00:15<00:10,  1.24it/s, train_loss=0.409]\n",
      "\u001b[Aining Batches:  61%|██████▏   | 19/31 [00:15<00:09,  1.26it/s, train_loss=0.409]\n",
      "\u001b[Aining Batches:  61%|██████▏   | 19/31 [00:15<00:09,  1.26it/s, train_loss=0.459]\n",
      "\u001b[Aining Batches:  65%|██████▍   | 20/31 [00:15<00:08,  1.23it/s, train_loss=0.459]\n",
      "\u001b[Aining Batches:  65%|██████▍   | 20/31 [00:16<00:08,  1.23it/s, train_loss=0.452]\n",
      "\u001b[Aining Batches:  68%|██████▊   | 21/31 [00:16<00:08,  1.24it/s, train_loss=0.452]\n",
      "\u001b[Aining Batches:  68%|██████▊   | 21/31 [00:17<00:08,  1.24it/s, train_loss=0.552]\n",
      "\u001b[Aining Batches:  71%|███████   | 22/31 [00:17<00:07,  1.25it/s, train_loss=0.552]\n",
      "\u001b[Aining Batches:  71%|███████   | 22/31 [00:18<00:07,  1.25it/s, train_loss=0.568]\n",
      "\u001b[Aining Batches:  74%|███████▍  | 23/31 [00:18<00:06,  1.26it/s, train_loss=0.568]\n",
      "\u001b[Aining Batches:  74%|███████▍  | 23/31 [00:19<00:06,  1.26it/s, train_loss=0.878]\n",
      "\u001b[Aining Batches:  77%|███████▋  | 24/31 [00:19<00:05,  1.26it/s, train_loss=0.878]\n",
      "\u001b[Aining Batches:  77%|███████▋  | 24/31 [00:19<00:05,  1.26it/s, train_loss=0.527]\n",
      "\u001b[Aining Batches:  81%|████████  | 25/31 [00:19<00:04,  1.27it/s, train_loss=0.527]\n",
      "\u001b[Aining Batches:  81%|████████  | 25/31 [00:20<00:04,  1.27it/s, train_loss=0.51] \n",
      "\u001b[Aining Batches:  84%|████████▍ | 26/31 [00:20<00:03,  1.26it/s, train_loss=0.51]\n",
      "\u001b[Aining Batches:  84%|████████▍ | 26/31 [00:21<00:03,  1.26it/s, train_loss=0.603]\n",
      "\u001b[Aining Batches:  87%|████████▋ | 27/31 [00:21<00:03,  1.28it/s, train_loss=0.603]\n",
      "\u001b[Aining Batches:  87%|████████▋ | 27/31 [00:22<00:03,  1.28it/s, train_loss=0.657]\n",
      "\u001b[Aining Batches:  90%|█████████ | 28/31 [00:22<00:02,  1.27it/s, train_loss=0.657]\n",
      "\u001b[Aining Batches:  90%|█████████ | 28/31 [00:23<00:02,  1.27it/s, train_loss=0.466]\n",
      "\u001b[Aining Batches:  94%|█████████▎| 29/31 [00:23<00:01,  1.26it/s, train_loss=0.466]\n",
      "\u001b[Aining Batches:  94%|█████████▎| 29/31 [00:23<00:01,  1.26it/s, train_loss=0.703]\n",
      "\u001b[Aining Batches:  97%|█████████▋| 30/31 [00:23<00:00,  1.25it/s, train_loss=0.703]\n",
      "\u001b[Aining Batches:  97%|█████████▋| 30/31 [00:24<00:00,  1.25it/s, train_loss=0.438]\n",
      "\u001b[Aining Batches: 100%|██████████| 31/31 [00:24<00:00,  1.55it/s, train_loss=0.438]\n",
      "\u001b[A                                                                                "
     ]
    },
    {
     "name": "stdout",
     "output_type": "stream",
     "text": [
      "epoch 10 average loss: 0.5726\n"
     ]
    },
    {
     "name": "stderr",
     "output_type": "stream",
     "text": [
      "Epochs:  14%|█▍        | 10/70 [04:16<25:22, 25.37s/it]"
     ]
    },
    {
     "name": "stdout",
     "output_type": "stream",
     "text": [
      "1\n",
      "current epoch: 10 current AUC: 0.9899 current accuracy: 0.8385 best AUC: 0.9906 at epoch: 9\n",
      "----------\n",
      "epoch 11/70\n"
     ]
    },
    {
     "name": "stderr",
     "output_type": "stream",
     "text": [
      "\n",
      "\u001b[Aining Batches:   0%|          | 0/31 [00:00<?, ?it/s]\n",
      "\u001b[Aining Batches:   0%|          | 0/31 [00:00<?, ?it/s, train_loss=0.609]\n",
      "\u001b[Aining Batches:   3%|▎         | 1/31 [00:00<00:24,  1.22it/s, train_loss=0.609]\n",
      "\u001b[Aining Batches:   3%|▎         | 1/31 [00:01<00:24,  1.22it/s, train_loss=0.562]\n",
      "\u001b[Aining Batches:   6%|▋         | 2/31 [00:01<00:24,  1.19it/s, train_loss=0.562]\n",
      "\u001b[Aining Batches:   6%|▋         | 2/31 [00:02<00:24,  1.19it/s, train_loss=0.521]\n",
      "\u001b[Aining Batches:  10%|▉         | 3/31 [00:02<00:22,  1.24it/s, train_loss=0.521]\n",
      "\u001b[Aining Batches:  10%|▉         | 3/31 [00:03<00:22,  1.24it/s, train_loss=0.44] \n",
      "\u001b[Aining Batches:  13%|█▎        | 4/31 [00:03<00:21,  1.23it/s, train_loss=0.44]\n",
      "\u001b[Aining Batches:  13%|█▎        | 4/31 [00:04<00:21,  1.23it/s, train_loss=0.616]\n",
      "\u001b[Aining Batches:  16%|█▌        | 5/31 [00:04<00:21,  1.24it/s, train_loss=0.616]\n",
      "\u001b[Aining Batches:  16%|█▌        | 5/31 [00:04<00:21,  1.24it/s, train_loss=0.408]\n",
      "\u001b[Aining Batches:  19%|█▉        | 6/31 [00:04<00:20,  1.24it/s, train_loss=0.408]\n",
      "\u001b[Aining Batches:  19%|█▉        | 6/31 [00:05<00:20,  1.24it/s, train_loss=0.885]\n",
      "\u001b[Aining Batches:  23%|██▎       | 7/31 [00:05<00:19,  1.25it/s, train_loss=0.885]\n",
      "\u001b[Aining Batches:  23%|██▎       | 7/31 [00:06<00:19,  1.25it/s, train_loss=0.737]\n",
      "\u001b[Aining Batches:  26%|██▌       | 8/31 [00:06<00:18,  1.27it/s, train_loss=0.737]\n",
      "\u001b[Aining Batches:  26%|██▌       | 8/31 [00:07<00:18,  1.27it/s, train_loss=0.506]\n",
      "\u001b[Aining Batches:  29%|██▉       | 9/31 [00:07<00:17,  1.27it/s, train_loss=0.506]\n",
      "\u001b[Aining Batches:  29%|██▉       | 9/31 [00:07<00:17,  1.27it/s, train_loss=0.479]\n",
      "\u001b[Aining Batches:  32%|███▏      | 10/31 [00:07<00:16,  1.28it/s, train_loss=0.479]\n",
      "\u001b[Aining Batches:  32%|███▏      | 10/31 [00:08<00:16,  1.28it/s, train_loss=0.686]\n",
      "\u001b[Aining Batches:  35%|███▌      | 11/31 [00:08<00:15,  1.31it/s, train_loss=0.686]\n",
      "\u001b[Aining Batches:  35%|███▌      | 11/31 [00:09<00:15,  1.31it/s, train_loss=0.751]\n",
      "\u001b[Aining Batches:  39%|███▊      | 12/31 [00:09<00:14,  1.27it/s, train_loss=0.751]\n",
      "\u001b[Aining Batches:  39%|███▊      | 12/31 [00:10<00:14,  1.27it/s, train_loss=0.554]\n",
      "\u001b[Aining Batches:  42%|████▏     | 13/31 [00:10<00:14,  1.27it/s, train_loss=0.554]\n",
      "\u001b[Aining Batches:  42%|████▏     | 13/31 [00:11<00:14,  1.27it/s, train_loss=0.707]\n",
      "\u001b[Aining Batches:  45%|████▌     | 14/31 [00:11<00:13,  1.25it/s, train_loss=0.707]\n",
      "\u001b[Aining Batches:  45%|████▌     | 14/31 [00:12<00:13,  1.25it/s, train_loss=0.545]\n",
      "\u001b[Aining Batches:  48%|████▊     | 15/31 [00:12<00:13,  1.22it/s, train_loss=0.545]\n",
      "\u001b[Aining Batches:  48%|████▊     | 15/31 [00:12<00:13,  1.22it/s, train_loss=0.372]\n",
      "\u001b[Aining Batches:  52%|█████▏    | 16/31 [00:12<00:12,  1.25it/s, train_loss=0.372]\n",
      "\u001b[Aining Batches:  52%|█████▏    | 16/31 [00:13<00:12,  1.25it/s, train_loss=0.497]\n",
      "\u001b[Aining Batches:  55%|█████▍    | 17/31 [00:13<00:10,  1.29it/s, train_loss=0.497]\n",
      "\u001b[Aining Batches:  55%|█████▍    | 17/31 [00:14<00:10,  1.29it/s, train_loss=0.685]\n",
      "\u001b[Aining Batches:  58%|█████▊    | 18/31 [00:14<00:10,  1.25it/s, train_loss=0.685]\n",
      "\u001b[Aining Batches:  58%|█████▊    | 18/31 [00:15<00:10,  1.25it/s, train_loss=0.566]\n",
      "\u001b[Aining Batches:  61%|██████▏   | 19/31 [00:15<00:09,  1.26it/s, train_loss=0.566]\n",
      "\u001b[Aining Batches:  61%|██████▏   | 19/31 [00:15<00:09,  1.26it/s, train_loss=0.524]\n",
      "\u001b[Aining Batches:  65%|██████▍   | 20/31 [00:15<00:08,  1.28it/s, train_loss=0.524]\n",
      "\u001b[Aining Batches:  65%|██████▍   | 20/31 [00:16<00:08,  1.28it/s, train_loss=0.406]\n",
      "\u001b[Aining Batches:  68%|██████▊   | 21/31 [00:16<00:07,  1.27it/s, train_loss=0.406]\n",
      "\u001b[Aining Batches:  68%|██████▊   | 21/31 [00:17<00:07,  1.27it/s, train_loss=0.593]\n",
      "\u001b[Aining Batches:  71%|███████   | 22/31 [00:17<00:07,  1.27it/s, train_loss=0.593]\n",
      "\u001b[Aining Batches:  71%|███████   | 22/31 [00:18<00:07,  1.27it/s, train_loss=0.574]\n",
      "\u001b[Aining Batches:  74%|███████▍  | 23/31 [00:18<00:06,  1.26it/s, train_loss=0.574]\n",
      "\u001b[Aining Batches:  74%|███████▍  | 23/31 [00:19<00:06,  1.26it/s, train_loss=0.436]\n",
      "\u001b[Aining Batches:  77%|███████▋  | 24/31 [00:19<00:05,  1.27it/s, train_loss=0.436]\n",
      "\u001b[Aining Batches:  77%|███████▋  | 24/31 [00:19<00:05,  1.27it/s, train_loss=0.552]\n",
      "\u001b[Aining Batches:  81%|████████  | 25/31 [00:19<00:04,  1.28it/s, train_loss=0.552]\n",
      "\u001b[Aining Batches:  81%|████████  | 25/31 [00:20<00:04,  1.28it/s, train_loss=0.778]\n",
      "\u001b[Aining Batches:  84%|████████▍ | 26/31 [00:20<00:03,  1.29it/s, train_loss=0.778]\n",
      "\u001b[Aining Batches:  84%|████████▍ | 26/31 [00:21<00:03,  1.29it/s, train_loss=0.447]\n",
      "\u001b[Aining Batches:  87%|████████▋ | 27/31 [00:21<00:03,  1.30it/s, train_loss=0.447]\n",
      "\u001b[Aining Batches:  87%|████████▋ | 27/31 [00:22<00:03,  1.30it/s, train_loss=0.494]\n",
      "\u001b[Aining Batches:  90%|█████████ | 28/31 [00:22<00:02,  1.26it/s, train_loss=0.494]\n",
      "\u001b[Aining Batches:  90%|█████████ | 28/31 [00:22<00:02,  1.26it/s, train_loss=0.638]\n",
      "\u001b[Aining Batches:  94%|█████████▎| 29/31 [00:22<00:01,  1.25it/s, train_loss=0.638]\n",
      "\u001b[Aining Batches:  94%|█████████▎| 29/31 [00:23<00:01,  1.25it/s, train_loss=0.563]\n",
      "\u001b[Aining Batches:  97%|█████████▋| 30/31 [00:23<00:00,  1.24it/s, train_loss=0.563]\n",
      "\u001b[Aining Batches:  97%|█████████▋| 30/31 [00:24<00:00,  1.24it/s, train_loss=0.502]\n",
      "\u001b[Aining Batches: 100%|██████████| 31/31 [00:24<00:00,  1.55it/s, train_loss=0.502]\n",
      "\u001b[A                                                                                "
     ]
    },
    {
     "name": "stdout",
     "output_type": "stream",
     "text": [
      "epoch 11 average loss: 0.5688\n",
      "1\n"
     ]
    },
    {
     "name": "stderr",
     "output_type": "stream",
     "text": [
      "Epochs:  16%|█▌        | 11/70 [04:42<25:07, 25.55s/it]"
     ]
    },
    {
     "name": "stdout",
     "output_type": "stream",
     "text": [
      "saved new best metric model\n",
      "current epoch: 11 current AUC: 0.9930 current accuracy: 0.8758 best AUC: 0.9930 at epoch: 11\n",
      "----------\n",
      "epoch 12/70\n"
     ]
    },
    {
     "name": "stderr",
     "output_type": "stream",
     "text": [
      "\n",
      "\u001b[Aining Batches:   0%|          | 0/31 [00:00<?, ?it/s]\n",
      "\u001b[Aining Batches:   0%|          | 0/31 [00:00<?, ?it/s, train_loss=0.379]\n",
      "\u001b[Aining Batches:   3%|▎         | 1/31 [00:00<00:24,  1.21it/s, train_loss=0.379]\n",
      "\u001b[Aining Batches:   3%|▎         | 1/31 [00:01<00:24,  1.21it/s, train_loss=0.425]\n",
      "\u001b[Aining Batches:   6%|▋         | 2/31 [00:01<00:24,  1.20it/s, train_loss=0.425]\n",
      "\u001b[Aining Batches:   6%|▋         | 2/31 [00:02<00:24,  1.20it/s, train_loss=0.742]\n",
      "\u001b[Aining Batches:  10%|▉         | 3/31 [00:02<00:22,  1.23it/s, train_loss=0.742]\n",
      "\u001b[Aining Batches:  10%|▉         | 3/31 [00:03<00:22,  1.23it/s, train_loss=0.486]\n",
      "\u001b[Aining Batches:  13%|█▎        | 4/31 [00:03<00:21,  1.27it/s, train_loss=0.486]\n",
      "\u001b[Aining Batches:  13%|█▎        | 4/31 [00:04<00:21,  1.27it/s, train_loss=0.5]  \n",
      "\u001b[Aining Batches:  16%|█▌        | 5/31 [00:04<00:20,  1.26it/s, train_loss=0.5]\n",
      "\u001b[Aining Batches:  16%|█▌        | 5/31 [00:04<00:20,  1.26it/s, train_loss=0.534]\n",
      "\u001b[Aining Batches:  19%|█▉        | 6/31 [00:04<00:20,  1.25it/s, train_loss=0.534]\n",
      "\u001b[Aining Batches:  19%|█▉        | 6/31 [00:05<00:20,  1.25it/s, train_loss=0.448]\n",
      "\u001b[Aining Batches:  23%|██▎       | 7/31 [00:05<00:19,  1.25it/s, train_loss=0.448]\n",
      "\u001b[Aining Batches:  23%|██▎       | 7/31 [00:06<00:19,  1.25it/s, train_loss=0.482]\n",
      "\u001b[Aining Batches:  26%|██▌       | 8/31 [00:06<00:18,  1.26it/s, train_loss=0.482]\n",
      "\u001b[Aining Batches:  26%|██▌       | 8/31 [00:07<00:18,  1.26it/s, train_loss=0.299]\n",
      "\u001b[Aining Batches:  29%|██▉       | 9/31 [00:07<00:17,  1.27it/s, train_loss=0.299]\n",
      "\u001b[Aining Batches:  29%|██▉       | 9/31 [00:07<00:17,  1.27it/s, train_loss=0.622]\n",
      "\u001b[Aining Batches:  32%|███▏      | 10/31 [00:07<00:16,  1.27it/s, train_loss=0.622]\n",
      "\u001b[Aining Batches:  32%|███▏      | 10/31 [00:08<00:16,  1.27it/s, train_loss=0.956]\n",
      "\u001b[Aining Batches:  35%|███▌      | 11/31 [00:08<00:15,  1.27it/s, train_loss=0.956]\n",
      "\u001b[Aining Batches:  35%|███▌      | 11/31 [00:09<00:15,  1.27it/s, train_loss=0.321]\n",
      "\u001b[Aining Batches:  39%|███▊      | 12/31 [00:09<00:15,  1.25it/s, train_loss=0.321]\n",
      "\u001b[Aining Batches:  39%|███▊      | 12/31 [00:10<00:15,  1.25it/s, train_loss=0.583]\n",
      "\u001b[Aining Batches:  42%|████▏     | 13/31 [00:10<00:14,  1.25it/s, train_loss=0.583]\n",
      "\u001b[Aining Batches:  42%|████▏     | 13/31 [00:11<00:14,  1.25it/s, train_loss=0.416]\n",
      "\u001b[Aining Batches:  45%|████▌     | 14/31 [00:11<00:13,  1.26it/s, train_loss=0.416]\n",
      "\u001b[Aining Batches:  45%|████▌     | 14/31 [00:11<00:13,  1.26it/s, train_loss=0.416]\n",
      "\u001b[Aining Batches:  48%|████▊     | 15/31 [00:11<00:12,  1.26it/s, train_loss=0.416]\n",
      "\u001b[Aining Batches:  48%|████▊     | 15/31 [00:12<00:12,  1.26it/s, train_loss=0.743]\n",
      "\u001b[Aining Batches:  52%|█████▏    | 16/31 [00:12<00:11,  1.26it/s, train_loss=0.743]\n",
      "\u001b[Aining Batches:  52%|█████▏    | 16/31 [00:13<00:11,  1.26it/s, train_loss=0.357]\n",
      "\u001b[Aining Batches:  55%|█████▍    | 17/31 [00:13<00:11,  1.27it/s, train_loss=0.357]\n",
      "\u001b[Aining Batches:  55%|█████▍    | 17/31 [00:14<00:11,  1.27it/s, train_loss=0.706]\n",
      "\u001b[Aining Batches:  58%|█████▊    | 18/31 [00:14<00:10,  1.25it/s, train_loss=0.706]\n",
      "\u001b[Aining Batches:  58%|█████▊    | 18/31 [00:15<00:10,  1.25it/s, train_loss=0.596]\n",
      "\u001b[Aining Batches:  61%|██████▏   | 19/31 [00:15<00:09,  1.25it/s, train_loss=0.596]\n",
      "\u001b[Aining Batches:  61%|██████▏   | 19/31 [00:15<00:09,  1.25it/s, train_loss=0.34] \n",
      "\u001b[Aining Batches:  65%|██████▍   | 20/31 [00:15<00:08,  1.27it/s, train_loss=0.34]\n",
      "\u001b[Aining Batches:  65%|██████▍   | 20/31 [00:16<00:08,  1.27it/s, train_loss=0.504]\n",
      "\u001b[Aining Batches:  68%|██████▊   | 21/31 [00:16<00:08,  1.23it/s, train_loss=0.504]\n",
      "\u001b[Aining Batches:  68%|██████▊   | 21/31 [00:17<00:08,  1.23it/s, train_loss=0.411]\n",
      "\u001b[Aining Batches:  71%|███████   | 22/31 [00:17<00:07,  1.26it/s, train_loss=0.411]\n",
      "\u001b[Aining Batches:  71%|███████   | 22/31 [00:18<00:07,  1.26it/s, train_loss=0.762]\n",
      "\u001b[Aining Batches:  74%|███████▍  | 23/31 [00:18<00:06,  1.27it/s, train_loss=0.762]\n",
      "\u001b[Aining Batches:  74%|███████▍  | 23/31 [00:19<00:06,  1.27it/s, train_loss=0.56] \n",
      "\u001b[Aining Batches:  77%|███████▋  | 24/31 [00:19<00:05,  1.24it/s, train_loss=0.56]\n",
      "\u001b[Aining Batches:  77%|███████▋  | 24/31 [00:19<00:05,  1.24it/s, train_loss=0.574]\n",
      "\u001b[Aining Batches:  81%|████████  | 25/31 [00:19<00:04,  1.26it/s, train_loss=0.574]\n",
      "\u001b[Aining Batches:  81%|████████  | 25/31 [00:20<00:04,  1.26it/s, train_loss=0.625]\n",
      "\u001b[Aining Batches:  84%|████████▍ | 26/31 [00:20<00:03,  1.28it/s, train_loss=0.625]\n",
      "\u001b[Aining Batches:  84%|████████▍ | 26/31 [00:21<00:03,  1.28it/s, train_loss=0.537]\n",
      "\u001b[Aining Batches:  87%|████████▋ | 27/31 [00:21<00:03,  1.26it/s, train_loss=0.537]\n",
      "\u001b[Aining Batches:  87%|████████▋ | 27/31 [00:22<00:03,  1.26it/s, train_loss=0.505]\n",
      "\u001b[Aining Batches:  90%|█████████ | 28/31 [00:22<00:02,  1.25it/s, train_loss=0.505]\n",
      "\u001b[Aining Batches:  90%|█████████ | 28/31 [00:23<00:02,  1.25it/s, train_loss=0.618]\n",
      "\u001b[Aining Batches:  94%|█████████▎| 29/31 [00:23<00:01,  1.23it/s, train_loss=0.618]\n",
      "\u001b[Aining Batches:  94%|█████████▎| 29/31 [00:23<00:01,  1.23it/s, train_loss=0.442]\n",
      "\u001b[Aining Batches:  97%|█████████▋| 30/31 [00:23<00:00,  1.25it/s, train_loss=0.442]\n",
      "\u001b[Aining Batches:  97%|█████████▋| 30/31 [00:24<00:00,  1.25it/s, train_loss=1.24] \n",
      "\u001b[Aining Batches: 100%|██████████| 31/31 [00:24<00:00,  1.59it/s, train_loss=1.24]\n",
      "\u001b[A                                                                               "
     ]
    },
    {
     "name": "stdout",
     "output_type": "stream",
     "text": [
      "epoch 12 average loss: 0.5527\n"
     ]
    },
    {
     "name": "stderr",
     "output_type": "stream",
     "text": [
      "Epochs:  17%|█▋        | 12/70 [05:06<24:27, 25.31s/it]"
     ]
    },
    {
     "name": "stdout",
     "output_type": "stream",
     "text": [
      "1\n",
      "current epoch: 12 current AUC: 0.9910 current accuracy: 0.8385 best AUC: 0.9930 at epoch: 11\n",
      "----------\n",
      "epoch 13/70\n"
     ]
    },
    {
     "name": "stderr",
     "output_type": "stream",
     "text": [
      "\n",
      "\u001b[Aining Batches:   0%|          | 0/31 [00:00<?, ?it/s]\n",
      "\u001b[Aining Batches:   0%|          | 0/31 [00:00<?, ?it/s, train_loss=0.533]\n",
      "\u001b[Aining Batches:   3%|▎         | 1/31 [00:00<00:24,  1.22it/s, train_loss=0.533]\n",
      "\u001b[Aining Batches:   3%|▎         | 1/31 [00:01<00:24,  1.22it/s, train_loss=0.456]\n",
      "\u001b[Aining Batches:   6%|▋         | 2/31 [00:01<00:22,  1.28it/s, train_loss=0.456]\n",
      "\u001b[Aining Batches:   6%|▋         | 2/31 [00:02<00:22,  1.28it/s, train_loss=0.55] \n",
      "\u001b[Aining Batches:  10%|▉         | 3/31 [00:02<00:22,  1.25it/s, train_loss=0.55]\n",
      "\u001b[Aining Batches:  10%|▉         | 3/31 [00:03<00:22,  1.25it/s, train_loss=0.481]\n",
      "\u001b[Aining Batches:  13%|█▎        | 4/31 [00:03<00:20,  1.29it/s, train_loss=0.481]\n",
      "\u001b[Aining Batches:  13%|█▎        | 4/31 [00:03<00:20,  1.29it/s, train_loss=0.395]\n",
      "\u001b[Aining Batches:  16%|█▌        | 5/31 [00:03<00:20,  1.28it/s, train_loss=0.395]\n",
      "\u001b[Aining Batches:  16%|█▌        | 5/31 [00:04<00:20,  1.28it/s, train_loss=0.514]\n",
      "\u001b[Aining Batches:  19%|█▉        | 6/31 [00:04<00:19,  1.27it/s, train_loss=0.514]\n",
      "\u001b[Aining Batches:  19%|█▉        | 6/31 [00:05<00:19,  1.27it/s, train_loss=0.444]\n",
      "\u001b[Aining Batches:  23%|██▎       | 7/31 [00:05<00:18,  1.28it/s, train_loss=0.444]\n",
      "\u001b[Aining Batches:  23%|██▎       | 7/31 [00:06<00:18,  1.28it/s, train_loss=0.744]\n",
      "\u001b[Aining Batches:  26%|██▌       | 8/31 [00:06<00:18,  1.25it/s, train_loss=0.744]\n",
      "\u001b[Aining Batches:  26%|██▌       | 8/31 [00:07<00:18,  1.25it/s, train_loss=0.606]\n",
      "\u001b[Aining Batches:  29%|██▉       | 9/31 [00:07<00:17,  1.23it/s, train_loss=0.606]\n",
      "\u001b[Aining Batches:  29%|██▉       | 9/31 [00:07<00:17,  1.23it/s, train_loss=0.557]\n",
      "\u001b[Aining Batches:  32%|███▏      | 10/31 [00:07<00:16,  1.24it/s, train_loss=0.557]\n",
      "\u001b[Aining Batches:  32%|███▏      | 10/31 [00:08<00:16,  1.24it/s, train_loss=0.515]\n",
      "\u001b[Aining Batches:  35%|███▌      | 11/31 [00:08<00:15,  1.26it/s, train_loss=0.515]\n",
      "\u001b[Aining Batches:  35%|███▌      | 11/31 [00:09<00:15,  1.26it/s, train_loss=0.431]\n",
      "\u001b[Aining Batches:  39%|███▊      | 12/31 [00:09<00:15,  1.26it/s, train_loss=0.431]\n",
      "\u001b[Aining Batches:  39%|███▊      | 12/31 [00:10<00:15,  1.26it/s, train_loss=0.579]\n",
      "\u001b[Aining Batches:  42%|████▏     | 13/31 [00:10<00:14,  1.25it/s, train_loss=0.579]\n",
      "\u001b[Aining Batches:  42%|████▏     | 13/31 [00:11<00:14,  1.25it/s, train_loss=0.354]\n",
      "\u001b[Aining Batches:  45%|████▌     | 14/31 [00:11<00:13,  1.26it/s, train_loss=0.354]\n",
      "\u001b[Aining Batches:  45%|████▌     | 14/31 [00:11<00:13,  1.26it/s, train_loss=0.714]\n",
      "\u001b[Aining Batches:  48%|████▊     | 15/31 [00:11<00:12,  1.24it/s, train_loss=0.714]\n",
      "\u001b[Aining Batches:  48%|████▊     | 15/31 [00:12<00:12,  1.24it/s, train_loss=0.532]\n",
      "\u001b[Aining Batches:  52%|█████▏    | 16/31 [00:12<00:11,  1.26it/s, train_loss=0.532]\n",
      "\u001b[Aining Batches:  52%|█████▏    | 16/31 [00:13<00:11,  1.26it/s, train_loss=0.558]\n",
      "\u001b[Aining Batches:  55%|█████▍    | 17/31 [00:13<00:11,  1.25it/s, train_loss=0.558]\n",
      "\u001b[Aining Batches:  55%|█████▍    | 17/31 [00:14<00:11,  1.25it/s, train_loss=0.692]\n",
      "\u001b[Aining Batches:  58%|█████▊    | 18/31 [00:14<00:10,  1.27it/s, train_loss=0.692]\n",
      "\u001b[Aining Batches:  58%|█████▊    | 18/31 [00:15<00:10,  1.27it/s, train_loss=0.386]\n",
      "\u001b[Aining Batches:  61%|██████▏   | 19/31 [00:15<00:09,  1.27it/s, train_loss=0.386]\n",
      "\u001b[Aining Batches:  61%|██████▏   | 19/31 [00:15<00:09,  1.27it/s, train_loss=0.386]\n",
      "\u001b[Aining Batches:  65%|██████▍   | 20/31 [00:15<00:08,  1.26it/s, train_loss=0.386]\n",
      "\u001b[Aining Batches:  65%|██████▍   | 20/31 [00:16<00:08,  1.26it/s, train_loss=0.41] \n",
      "\u001b[Aining Batches:  68%|██████▊   | 21/31 [00:16<00:07,  1.28it/s, train_loss=0.41]\n",
      "\u001b[Aining Batches:  68%|██████▊   | 21/31 [00:17<00:07,  1.28it/s, train_loss=0.394]\n",
      "\u001b[Aining Batches:  71%|███████   | 22/31 [00:17<00:06,  1.29it/s, train_loss=0.394]\n",
      "\u001b[Aining Batches:  71%|███████   | 22/31 [00:18<00:06,  1.29it/s, train_loss=0.402]\n",
      "\u001b[Aining Batches:  74%|███████▍  | 23/31 [00:18<00:06,  1.26it/s, train_loss=0.402]\n",
      "\u001b[Aining Batches:  74%|███████▍  | 23/31 [00:19<00:06,  1.26it/s, train_loss=0.367]\n",
      "\u001b[Aining Batches:  77%|███████▋  | 24/31 [00:19<00:05,  1.26it/s, train_loss=0.367]\n",
      "\u001b[Aining Batches:  77%|███████▋  | 24/31 [00:19<00:05,  1.26it/s, train_loss=0.602]\n",
      "\u001b[Aining Batches:  81%|████████  | 25/31 [00:19<00:04,  1.27it/s, train_loss=0.602]\n",
      "\u001b[Aining Batches:  81%|████████  | 25/31 [00:20<00:04,  1.27it/s, train_loss=0.62] \n",
      "\u001b[Aining Batches:  84%|████████▍ | 26/31 [00:20<00:03,  1.25it/s, train_loss=0.62]\n",
      "\u001b[Aining Batches:  84%|████████▍ | 26/31 [00:21<00:03,  1.25it/s, train_loss=0.5] \n",
      "\u001b[Aining Batches:  87%|████████▋ | 27/31 [00:21<00:03,  1.25it/s, train_loss=0.5]\n",
      "\u001b[Aining Batches:  87%|████████▋ | 27/31 [00:22<00:03,  1.25it/s, train_loss=0.436]\n",
      "\u001b[Aining Batches:  90%|█████████ | 28/31 [00:22<00:02,  1.26it/s, train_loss=0.436]\n",
      "\u001b[Aining Batches:  90%|█████████ | 28/31 [00:22<00:02,  1.26it/s, train_loss=0.509]\n",
      "\u001b[Aining Batches:  94%|█████████▎| 29/31 [00:22<00:01,  1.26it/s, train_loss=0.509]\n",
      "\u001b[Aining Batches:  94%|█████████▎| 29/31 [00:23<00:01,  1.26it/s, train_loss=0.437]\n",
      "\u001b[Aining Batches:  97%|█████████▋| 30/31 [00:23<00:00,  1.27it/s, train_loss=0.437]\n",
      "\u001b[Aining Batches:  97%|█████████▋| 30/31 [00:24<00:00,  1.27it/s, train_loss=0.453]\n",
      "\u001b[Aining Batches: 100%|██████████| 31/31 [00:24<00:00,  1.57it/s, train_loss=0.453]\n",
      "\u001b[A                                                                                "
     ]
    },
    {
     "name": "stdout",
     "output_type": "stream",
     "text": [
      "epoch 13 average loss: 0.5020\n"
     ]
    },
    {
     "name": "stderr",
     "output_type": "stream",
     "text": [
      "Epochs:  19%|█▊        | 13/70 [05:31<23:51, 25.11s/it]"
     ]
    },
    {
     "name": "stdout",
     "output_type": "stream",
     "text": [
      "1\n",
      "current epoch: 13 current AUC: 0.9905 current accuracy: 0.8571 best AUC: 0.9930 at epoch: 11\n",
      "----------\n",
      "epoch 14/70\n"
     ]
    },
    {
     "name": "stderr",
     "output_type": "stream",
     "text": [
      "\n",
      "\u001b[Aining Batches:   0%|          | 0/31 [00:00<?, ?it/s]\n",
      "\u001b[Aining Batches:   0%|          | 0/31 [00:00<?, ?it/s, train_loss=0.46]\n",
      "\u001b[Aining Batches:   3%|▎         | 1/31 [00:00<00:23,  1.27it/s, train_loss=0.46]\n",
      "\u001b[Aining Batches:   3%|▎         | 1/31 [00:01<00:23,  1.27it/s, train_loss=0.705]\n",
      "\u001b[Aining Batches:   6%|▋         | 2/31 [00:01<00:23,  1.23it/s, train_loss=0.705]\n",
      "\u001b[Aining Batches:   6%|▋         | 2/31 [00:02<00:23,  1.23it/s, train_loss=0.444]\n",
      "\u001b[Aining Batches:  10%|▉         | 3/31 [00:02<00:22,  1.25it/s, train_loss=0.444]\n",
      "\u001b[Aining Batches:  10%|▉         | 3/31 [00:03<00:22,  1.25it/s, train_loss=0.373]\n",
      "\u001b[Aining Batches:  13%|█▎        | 4/31 [00:03<00:21,  1.25it/s, train_loss=0.373]\n",
      "\u001b[Aining Batches:  13%|█▎        | 4/31 [00:04<00:21,  1.25it/s, train_loss=0.481]\n",
      "\u001b[Aining Batches:  16%|█▌        | 5/31 [00:04<00:20,  1.25it/s, train_loss=0.481]\n",
      "\u001b[Aining Batches:  16%|█▌        | 5/31 [00:04<00:20,  1.25it/s, train_loss=0.393]\n",
      "\u001b[Aining Batches:  19%|█▉        | 6/31 [00:04<00:19,  1.26it/s, train_loss=0.393]\n",
      "\u001b[Aining Batches:  19%|█▉        | 6/31 [00:05<00:19,  1.26it/s, train_loss=0.536]\n",
      "\u001b[Aining Batches:  23%|██▎       | 7/31 [00:05<00:18,  1.27it/s, train_loss=0.536]\n",
      "\u001b[Aining Batches:  23%|██▎       | 7/31 [00:06<00:18,  1.27it/s, train_loss=0.535]\n",
      "\u001b[Aining Batches:  26%|██▌       | 8/31 [00:06<00:17,  1.29it/s, train_loss=0.535]\n",
      "\u001b[Aining Batches:  26%|██▌       | 8/31 [00:07<00:17,  1.29it/s, train_loss=0.525]\n",
      "\u001b[Aining Batches:  29%|██▉       | 9/31 [00:07<00:16,  1.30it/s, train_loss=0.525]\n",
      "\u001b[Aining Batches:  29%|██▉       | 9/31 [00:07<00:16,  1.30it/s, train_loss=0.353]\n",
      "\u001b[Aining Batches:  32%|███▏      | 10/31 [00:07<00:16,  1.27it/s, train_loss=0.353]\n",
      "\u001b[Aining Batches:  32%|███▏      | 10/31 [00:08<00:16,  1.27it/s, train_loss=0.402]\n",
      "\u001b[Aining Batches:  35%|███▌      | 11/31 [00:08<00:15,  1.26it/s, train_loss=0.402]\n",
      "\u001b[Aining Batches:  35%|███▌      | 11/31 [00:09<00:15,  1.26it/s, train_loss=0.446]\n",
      "\u001b[Aining Batches:  39%|███▊      | 12/31 [00:09<00:15,  1.24it/s, train_loss=0.446]\n",
      "\u001b[Aining Batches:  39%|███▊      | 12/31 [00:10<00:15,  1.24it/s, train_loss=0.554]\n",
      "\u001b[Aining Batches:  42%|████▏     | 13/31 [00:10<00:14,  1.25it/s, train_loss=0.554]\n",
      "\u001b[Aining Batches:  42%|████▏     | 13/31 [00:11<00:14,  1.25it/s, train_loss=0.341]\n",
      "\u001b[Aining Batches:  45%|████▌     | 14/31 [00:11<00:13,  1.26it/s, train_loss=0.341]\n",
      "\u001b[Aining Batches:  45%|████▌     | 14/31 [00:11<00:13,  1.26it/s, train_loss=0.456]\n",
      "\u001b[Aining Batches:  48%|████▊     | 15/31 [00:11<00:12,  1.26it/s, train_loss=0.456]\n",
      "\u001b[Aining Batches:  48%|████▊     | 15/31 [00:12<00:12,  1.26it/s, train_loss=0.464]\n",
      "\u001b[Aining Batches:  52%|█████▏    | 16/31 [00:12<00:12,  1.24it/s, train_loss=0.464]\n",
      "\u001b[Aining Batches:  52%|█████▏    | 16/31 [00:13<00:12,  1.24it/s, train_loss=0.39] \n",
      "\u001b[Aining Batches:  55%|█████▍    | 17/31 [00:13<00:11,  1.26it/s, train_loss=0.39]\n",
      "\u001b[Aining Batches:  55%|█████▍    | 17/31 [00:14<00:11,  1.26it/s, train_loss=0.35]\n",
      "\u001b[Aining Batches:  58%|█████▊    | 18/31 [00:14<00:10,  1.26it/s, train_loss=0.35]\n",
      "\u001b[Aining Batches:  58%|█████▊    | 18/31 [00:15<00:10,  1.26it/s, train_loss=0.564]\n",
      "\u001b[Aining Batches:  61%|██████▏   | 19/31 [00:15<00:09,  1.26it/s, train_loss=0.564]\n",
      "\u001b[Aining Batches:  61%|██████▏   | 19/31 [00:15<00:09,  1.26it/s, train_loss=0.45] \n",
      "\u001b[Aining Batches:  65%|██████▍   | 20/31 [00:15<00:08,  1.29it/s, train_loss=0.45]\n",
      "\u001b[Aining Batches:  65%|██████▍   | 20/31 [00:16<00:08,  1.29it/s, train_loss=0.375]\n",
      "\u001b[Aining Batches:  68%|██████▊   | 21/31 [00:16<00:07,  1.25it/s, train_loss=0.375]\n",
      "\u001b[Aining Batches:  68%|██████▊   | 21/31 [00:17<00:07,  1.25it/s, train_loss=0.335]\n",
      "\u001b[Aining Batches:  71%|███████   | 22/31 [00:17<00:07,  1.25it/s, train_loss=0.335]\n",
      "\u001b[Aining Batches:  71%|███████   | 22/31 [00:18<00:07,  1.25it/s, train_loss=0.315]\n",
      "\u001b[Aining Batches:  74%|███████▍  | 23/31 [00:18<00:06,  1.25it/s, train_loss=0.315]\n",
      "\u001b[Aining Batches:  74%|███████▍  | 23/31 [00:19<00:06,  1.25it/s, train_loss=0.5]  \n",
      "\u001b[Aining Batches:  77%|███████▋  | 24/31 [00:19<00:05,  1.25it/s, train_loss=0.5]\n",
      "\u001b[Aining Batches:  77%|███████▋  | 24/31 [00:19<00:05,  1.25it/s, train_loss=0.416]\n",
      "\u001b[Aining Batches:  81%|████████  | 25/31 [00:19<00:04,  1.25it/s, train_loss=0.416]\n",
      "\u001b[Aining Batches:  81%|████████  | 25/31 [00:20<00:04,  1.25it/s, train_loss=0.302]\n",
      "\u001b[Aining Batches:  84%|████████▍ | 26/31 [00:20<00:03,  1.26it/s, train_loss=0.302]\n",
      "\u001b[Aining Batches:  84%|████████▍ | 26/31 [00:21<00:03,  1.26it/s, train_loss=0.354]\n",
      "\u001b[Aining Batches:  87%|████████▋ | 27/31 [00:21<00:03,  1.25it/s, train_loss=0.354]\n",
      "\u001b[Aining Batches:  87%|████████▋ | 27/31 [00:22<00:03,  1.25it/s, train_loss=0.726]\n",
      "\u001b[Aining Batches:  90%|█████████ | 28/31 [00:22<00:02,  1.30it/s, train_loss=0.726]\n",
      "\u001b[Aining Batches:  90%|█████████ | 28/31 [00:23<00:02,  1.30it/s, train_loss=0.451]\n",
      "\u001b[Aining Batches:  94%|█████████▎| 29/31 [00:23<00:01,  1.26it/s, train_loss=0.451]\n",
      "\u001b[Aining Batches:  94%|█████████▎| 29/31 [00:23<00:01,  1.26it/s, train_loss=0.333]\n",
      "\u001b[Aining Batches:  97%|█████████▋| 30/31 [00:23<00:00,  1.26it/s, train_loss=0.333]\n",
      "\u001b[Aining Batches:  97%|█████████▋| 30/31 [00:24<00:00,  1.26it/s, train_loss=0.982]\n",
      "\u001b[Aining Batches: 100%|██████████| 31/31 [00:24<00:00,  1.57it/s, train_loss=0.982]\n",
      "\u001b[A                                                                                "
     ]
    },
    {
     "name": "stdout",
     "output_type": "stream",
     "text": [
      "epoch 14 average loss: 0.4617\n"
     ]
    },
    {
     "name": "stderr",
     "output_type": "stream",
     "text": [
      "Epochs:  20%|██        | 14/70 [05:56<23:19, 24.99s/it]"
     ]
    },
    {
     "name": "stdout",
     "output_type": "stream",
     "text": [
      "1\n",
      "current epoch: 14 current AUC: 0.9902 current accuracy: 0.8571 best AUC: 0.9930 at epoch: 11\n",
      "----------\n",
      "epoch 15/70\n"
     ]
    },
    {
     "name": "stderr",
     "output_type": "stream",
     "text": [
      "\n",
      "\u001b[Aining Batches:   0%|          | 0/31 [00:00<?, ?it/s]\n",
      "\u001b[Aining Batches:   0%|          | 0/31 [00:00<?, ?it/s, train_loss=0.427]\n",
      "\u001b[Aining Batches:   3%|▎         | 1/31 [00:00<00:24,  1.20it/s, train_loss=0.427]\n",
      "\u001b[Aining Batches:   3%|▎         | 1/31 [00:01<00:24,  1.20it/s, train_loss=0.395]\n",
      "\u001b[Aining Batches:   6%|▋         | 2/31 [00:01<00:23,  1.22it/s, train_loss=0.395]\n",
      "\u001b[Aining Batches:   6%|▋         | 2/31 [00:02<00:23,  1.22it/s, train_loss=0.635]\n",
      "\u001b[Aining Batches:  10%|▉         | 3/31 [00:02<00:22,  1.22it/s, train_loss=0.635]\n",
      "\u001b[Aining Batches:  10%|▉         | 3/31 [00:03<00:22,  1.22it/s, train_loss=0.773]\n",
      "\u001b[Aining Batches:  13%|█▎        | 4/31 [00:03<00:21,  1.27it/s, train_loss=0.773]\n",
      "\u001b[Aining Batches:  13%|█▎        | 4/31 [00:03<00:21,  1.27it/s, train_loss=0.743]\n",
      "\u001b[Aining Batches:  16%|█▌        | 5/31 [00:03<00:20,  1.27it/s, train_loss=0.743]\n",
      "\u001b[Aining Batches:  16%|█▌        | 5/31 [00:04<00:20,  1.27it/s, train_loss=0.412]\n",
      "\u001b[Aining Batches:  19%|█▉        | 6/31 [00:04<00:19,  1.27it/s, train_loss=0.412]\n",
      "\u001b[Aining Batches:  19%|█▉        | 6/31 [00:05<00:19,  1.27it/s, train_loss=0.445]\n",
      "\u001b[Aining Batches:  23%|██▎       | 7/31 [00:05<00:18,  1.27it/s, train_loss=0.445]\n",
      "\u001b[Aining Batches:  23%|██▎       | 7/31 [00:06<00:18,  1.27it/s, train_loss=0.66] \n",
      "\u001b[Aining Batches:  26%|██▌       | 8/31 [00:06<00:18,  1.28it/s, train_loss=0.66]\n",
      "\u001b[Aining Batches:  26%|██▌       | 8/31 [00:07<00:18,  1.28it/s, train_loss=0.674]\n",
      "\u001b[Aining Batches:  29%|██▉       | 9/31 [00:07<00:17,  1.28it/s, train_loss=0.674]\n",
      "\u001b[Aining Batches:  29%|██▉       | 9/31 [00:07<00:17,  1.28it/s, train_loss=0.391]\n",
      "\u001b[Aining Batches:  32%|███▏      | 10/31 [00:07<00:16,  1.28it/s, train_loss=0.391]\n",
      "\u001b[Aining Batches:  32%|███▏      | 10/31 [00:08<00:16,  1.28it/s, train_loss=0.335]\n",
      "\u001b[Aining Batches:  35%|███▌      | 11/31 [00:08<00:15,  1.26it/s, train_loss=0.335]\n",
      "\u001b[Aining Batches:  35%|███▌      | 11/31 [00:09<00:15,  1.26it/s, train_loss=0.458]\n",
      "\u001b[Aining Batches:  39%|███▊      | 12/31 [00:09<00:14,  1.28it/s, train_loss=0.458]\n",
      "\u001b[Aining Batches:  39%|███▊      | 12/31 [00:10<00:14,  1.28it/s, train_loss=0.559]\n",
      "\u001b[Aining Batches:  42%|████▏     | 13/31 [00:10<00:14,  1.28it/s, train_loss=0.559]\n",
      "\u001b[Aining Batches:  42%|████▏     | 13/31 [00:11<00:14,  1.28it/s, train_loss=0.676]\n",
      "\u001b[Aining Batches:  45%|████▌     | 14/31 [00:11<00:13,  1.27it/s, train_loss=0.676]\n",
      "\u001b[Aining Batches:  45%|████▌     | 14/31 [00:11<00:13,  1.27it/s, train_loss=0.577]\n",
      "\u001b[Aining Batches:  48%|████▊     | 15/31 [00:11<00:12,  1.26it/s, train_loss=0.577]\n",
      "\u001b[Aining Batches:  48%|████▊     | 15/31 [00:12<00:12,  1.26it/s, train_loss=0.587]\n",
      "\u001b[Aining Batches:  52%|█████▏    | 16/31 [00:12<00:11,  1.29it/s, train_loss=0.587]\n",
      "\u001b[Aining Batches:  52%|█████▏    | 16/31 [00:13<00:11,  1.29it/s, train_loss=0.657]\n",
      "\u001b[Aining Batches:  55%|█████▍    | 17/31 [00:13<00:10,  1.31it/s, train_loss=0.657]\n",
      "\u001b[Aining Batches:  55%|█████▍    | 17/31 [00:14<00:10,  1.31it/s, train_loss=0.349]\n",
      "\u001b[Aining Batches:  58%|█████▊    | 18/31 [00:14<00:10,  1.30it/s, train_loss=0.349]\n",
      "\u001b[Aining Batches:  58%|█████▊    | 18/31 [00:14<00:10,  1.30it/s, train_loss=0.344]\n",
      "\u001b[Aining Batches:  61%|██████▏   | 19/31 [00:14<00:09,  1.26it/s, train_loss=0.344]\n",
      "\u001b[Aining Batches:  61%|██████▏   | 19/31 [00:15<00:09,  1.26it/s, train_loss=0.325]\n",
      "\u001b[Aining Batches:  65%|██████▍   | 20/31 [00:15<00:08,  1.28it/s, train_loss=0.325]\n",
      "\u001b[Aining Batches:  65%|██████▍   | 20/31 [00:16<00:08,  1.28it/s, train_loss=0.398]\n",
      "\u001b[Aining Batches:  68%|██████▊   | 21/31 [00:16<00:07,  1.27it/s, train_loss=0.398]\n",
      "\u001b[Aining Batches:  68%|██████▊   | 21/31 [00:17<00:07,  1.27it/s, train_loss=0.395]\n",
      "\u001b[Aining Batches:  71%|███████   | 22/31 [00:17<00:07,  1.27it/s, train_loss=0.395]\n",
      "\u001b[Aining Batches:  71%|███████   | 22/31 [00:18<00:07,  1.27it/s, train_loss=0.578]\n",
      "\u001b[Aining Batches:  74%|███████▍  | 23/31 [00:18<00:06,  1.29it/s, train_loss=0.578]\n",
      "\u001b[Aining Batches:  74%|███████▍  | 23/31 [00:18<00:06,  1.29it/s, train_loss=0.361]\n",
      "\u001b[Aining Batches:  77%|███████▋  | 24/31 [00:18<00:05,  1.29it/s, train_loss=0.361]\n",
      "\u001b[Aining Batches:  77%|███████▋  | 24/31 [00:19<00:05,  1.29it/s, train_loss=0.451]\n",
      "\u001b[Aining Batches:  81%|████████  | 25/31 [00:19<00:04,  1.27it/s, train_loss=0.451]\n",
      "\u001b[Aining Batches:  81%|████████  | 25/31 [00:20<00:04,  1.27it/s, train_loss=0.347]\n",
      "\u001b[Aining Batches:  84%|████████▍ | 26/31 [00:20<00:03,  1.27it/s, train_loss=0.347]\n",
      "\u001b[Aining Batches:  84%|████████▍ | 26/31 [00:21<00:03,  1.27it/s, train_loss=0.307]\n",
      "\u001b[Aining Batches:  87%|████████▋ | 27/31 [00:21<00:03,  1.28it/s, train_loss=0.307]\n",
      "\u001b[Aining Batches:  87%|████████▋ | 27/31 [00:21<00:03,  1.28it/s, train_loss=0.331]\n",
      "\u001b[Aining Batches:  90%|█████████ | 28/31 [00:21<00:02,  1.26it/s, train_loss=0.331]\n",
      "\u001b[Aining Batches:  90%|█████████ | 28/31 [00:22<00:02,  1.26it/s, train_loss=0.612]\n",
      "\u001b[Aining Batches:  94%|█████████▎| 29/31 [00:22<00:01,  1.25it/s, train_loss=0.612]\n",
      "\u001b[Aining Batches:  94%|█████████▎| 29/31 [00:23<00:01,  1.25it/s, train_loss=0.384]\n",
      "\u001b[Aining Batches:  97%|█████████▋| 30/31 [00:23<00:00,  1.25it/s, train_loss=0.384]\n",
      "\u001b[Aining Batches:  97%|█████████▋| 30/31 [00:23<00:00,  1.25it/s, train_loss=0.633]\n",
      "\u001b[Aining Batches: 100%|██████████| 31/31 [00:23<00:00,  1.55it/s, train_loss=0.633]\n",
      "\u001b[A                                                                                "
     ]
    },
    {
     "name": "stdout",
     "output_type": "stream",
     "text": [
      "epoch 15 average loss: 0.4909\n"
     ]
    },
    {
     "name": "stderr",
     "output_type": "stream",
     "text": [
      "Epochs:  21%|██▏       | 15/70 [06:20<22:46, 24.84s/it]"
     ]
    },
    {
     "name": "stdout",
     "output_type": "stream",
     "text": [
      "1\n",
      "current epoch: 15 current AUC: 0.9917 current accuracy: 0.8571 best AUC: 0.9930 at epoch: 11\n",
      "----------\n",
      "epoch 16/70\n"
     ]
    },
    {
     "name": "stderr",
     "output_type": "stream",
     "text": [
      "\n",
      "\u001b[Aining Batches:   0%|          | 0/31 [00:00<?, ?it/s]\n",
      "\u001b[Aining Batches:   0%|          | 0/31 [00:00<?, ?it/s, train_loss=0.407]\n",
      "\u001b[Aining Batches:   3%|▎         | 1/31 [00:00<00:23,  1.28it/s, train_loss=0.407]\n",
      "\u001b[Aining Batches:   3%|▎         | 1/31 [00:01<00:23,  1.28it/s, train_loss=0.25] \n",
      "\u001b[Aining Batches:   6%|▋         | 2/31 [00:01<00:22,  1.28it/s, train_loss=0.25]\n",
      "\u001b[Aining Batches:   6%|▋         | 2/31 [00:02<00:22,  1.28it/s, train_loss=0.348]\n",
      "\u001b[Aining Batches:  10%|▉         | 3/31 [00:02<00:22,  1.25it/s, train_loss=0.348]\n",
      "\u001b[Aining Batches:  10%|▉         | 3/31 [00:03<00:22,  1.25it/s, train_loss=0.76] \n",
      "\u001b[Aining Batches:  13%|█▎        | 4/31 [00:03<00:21,  1.24it/s, train_loss=0.76]\n",
      "\u001b[Aining Batches:  13%|█▎        | 4/31 [00:03<00:21,  1.24it/s, train_loss=0.619]\n",
      "\u001b[Aining Batches:  16%|█▌        | 5/31 [00:03<00:20,  1.26it/s, train_loss=0.619]\n",
      "\u001b[Aining Batches:  16%|█▌        | 5/31 [00:04<00:20,  1.26it/s, train_loss=0.521]\n",
      "\u001b[Aining Batches:  19%|█▉        | 6/31 [00:04<00:19,  1.25it/s, train_loss=0.521]\n",
      "\u001b[Aining Batches:  19%|█▉        | 6/31 [00:05<00:19,  1.25it/s, train_loss=0.518]\n",
      "\u001b[Aining Batches:  23%|██▎       | 7/31 [00:05<00:19,  1.22it/s, train_loss=0.518]\n",
      "\u001b[Aining Batches:  23%|██▎       | 7/31 [00:06<00:19,  1.22it/s, train_loss=0.543]\n",
      "\u001b[Aining Batches:  26%|██▌       | 8/31 [00:06<00:18,  1.24it/s, train_loss=0.543]\n",
      "\u001b[Aining Batches:  26%|██▌       | 8/31 [00:07<00:18,  1.24it/s, train_loss=0.479]\n",
      "\u001b[Aining Batches:  29%|██▉       | 9/31 [00:07<00:17,  1.24it/s, train_loss=0.479]\n",
      "\u001b[Aining Batches:  29%|██▉       | 9/31 [00:08<00:17,  1.24it/s, train_loss=0.28] \n",
      "\u001b[Aining Batches:  32%|███▏      | 10/31 [00:08<00:16,  1.24it/s, train_loss=0.28]\n",
      "\u001b[Aining Batches:  32%|███▏      | 10/31 [00:08<00:16,  1.24it/s, train_loss=0.517]\n",
      "\u001b[Aining Batches:  35%|███▌      | 11/31 [00:08<00:15,  1.26it/s, train_loss=0.517]\n",
      "\u001b[Aining Batches:  35%|███▌      | 11/31 [00:09<00:15,  1.26it/s, train_loss=0.503]\n",
      "\u001b[Aining Batches:  39%|███▊      | 12/31 [00:09<00:15,  1.26it/s, train_loss=0.503]\n",
      "\u001b[Aining Batches:  39%|███▊      | 12/31 [00:10<00:15,  1.26it/s, train_loss=0.486]\n",
      "\u001b[Aining Batches:  42%|████▏     | 13/31 [00:10<00:14,  1.28it/s, train_loss=0.486]\n",
      "\u001b[Aining Batches:  42%|████▏     | 13/31 [00:11<00:14,  1.28it/s, train_loss=0.48] \n",
      "\u001b[Aining Batches:  45%|████▌     | 14/31 [00:11<00:13,  1.26it/s, train_loss=0.48]\n",
      "\u001b[Aining Batches:  45%|████▌     | 14/31 [00:11<00:13,  1.26it/s, train_loss=0.36]\n",
      "\u001b[Aining Batches:  48%|████▊     | 15/31 [00:11<00:12,  1.29it/s, train_loss=0.36]\n",
      "\u001b[Aining Batches:  48%|████▊     | 15/31 [00:12<00:12,  1.29it/s, train_loss=0.701]\n",
      "\u001b[Aining Batches:  52%|█████▏    | 16/31 [00:12<00:11,  1.27it/s, train_loss=0.701]\n",
      "\u001b[Aining Batches:  52%|█████▏    | 16/31 [00:13<00:11,  1.27it/s, train_loss=0.434]\n",
      "\u001b[Aining Batches:  55%|█████▍    | 17/31 [00:13<00:10,  1.27it/s, train_loss=0.434]\n",
      "\u001b[Aining Batches:  55%|█████▍    | 17/31 [00:14<00:10,  1.27it/s, train_loss=0.57] \n",
      "\u001b[Aining Batches:  58%|█████▊    | 18/31 [00:14<00:10,  1.29it/s, train_loss=0.57]\n",
      "\u001b[Aining Batches:  58%|█████▊    | 18/31 [00:15<00:10,  1.29it/s, train_loss=0.485]\n",
      "\u001b[Aining Batches:  61%|██████▏   | 19/31 [00:15<00:09,  1.28it/s, train_loss=0.485]\n",
      "\u001b[Aining Batches:  61%|██████▏   | 19/31 [00:15<00:09,  1.28it/s, train_loss=0.538]\n",
      "\u001b[Aining Batches:  65%|██████▍   | 20/31 [00:15<00:08,  1.30it/s, train_loss=0.538]\n",
      "\u001b[Aining Batches:  65%|██████▍   | 20/31 [00:16<00:08,  1.30it/s, train_loss=0.25] \n",
      "\u001b[Aining Batches:  68%|██████▊   | 21/31 [00:16<00:07,  1.28it/s, train_loss=0.25]\n",
      "\u001b[Aining Batches:  68%|██████▊   | 21/31 [00:17<00:07,  1.28it/s, train_loss=0.315]\n",
      "\u001b[Aining Batches:  71%|███████   | 22/31 [00:17<00:07,  1.27it/s, train_loss=0.315]\n",
      "\u001b[Aining Batches:  71%|███████   | 22/31 [00:18<00:07,  1.27it/s, train_loss=0.626]\n",
      "\u001b[Aining Batches:  74%|███████▍  | 23/31 [00:18<00:06,  1.26it/s, train_loss=0.626]\n",
      "\u001b[Aining Batches:  74%|███████▍  | 23/31 [00:19<00:06,  1.26it/s, train_loss=0.417]\n",
      "\u001b[Aining Batches:  77%|███████▋  | 24/31 [00:19<00:05,  1.26it/s, train_loss=0.417]\n",
      "\u001b[Aining Batches:  77%|███████▋  | 24/31 [00:19<00:05,  1.26it/s, train_loss=0.33] \n",
      "\u001b[Aining Batches:  81%|████████  | 25/31 [00:19<00:04,  1.25it/s, train_loss=0.33]\n",
      "\u001b[Aining Batches:  81%|████████  | 25/31 [00:20<00:04,  1.25it/s, train_loss=0.487]\n",
      "\u001b[Aining Batches:  84%|████████▍ | 26/31 [00:20<00:03,  1.27it/s, train_loss=0.487]\n",
      "\u001b[Aining Batches:  84%|████████▍ | 26/31 [00:21<00:03,  1.27it/s, train_loss=0.519]\n",
      "\u001b[Aining Batches:  87%|████████▋ | 27/31 [00:21<00:03,  1.27it/s, train_loss=0.519]\n",
      "\u001b[Aining Batches:  87%|████████▋ | 27/31 [00:22<00:03,  1.27it/s, train_loss=0.637]\n",
      "\u001b[Aining Batches:  90%|█████████ | 28/31 [00:22<00:02,  1.29it/s, train_loss=0.637]\n",
      "\u001b[Aining Batches:  90%|█████████ | 28/31 [00:22<00:02,  1.29it/s, train_loss=0.436]\n",
      "\u001b[Aining Batches:  94%|█████████▎| 29/31 [00:22<00:01,  1.29it/s, train_loss=0.436]\n",
      "\u001b[Aining Batches:  94%|█████████▎| 29/31 [00:23<00:01,  1.29it/s, train_loss=0.34] \n",
      "\u001b[Aining Batches:  97%|█████████▋| 30/31 [00:23<00:00,  1.26it/s, train_loss=0.34]\n",
      "\u001b[Aining Batches:  97%|█████████▋| 30/31 [00:23<00:00,  1.26it/s, train_loss=1.18]\n",
      "\u001b[Aining Batches: 100%|██████████| 31/31 [00:23<00:00,  1.58it/s, train_loss=1.18]\n",
      "\u001b[A                                                                               "
     ]
    },
    {
     "name": "stdout",
     "output_type": "stream",
     "text": [
      "epoch 16 average loss: 0.4947\n"
     ]
    },
    {
     "name": "stderr",
     "output_type": "stream",
     "text": [
      "Epochs:  23%|██▎       | 16/70 [06:45<22:17, 24.77s/it]"
     ]
    },
    {
     "name": "stdout",
     "output_type": "stream",
     "text": [
      "1\n",
      "current epoch: 16 current AUC: 0.9904 current accuracy: 0.8882 best AUC: 0.9930 at epoch: 11\n",
      "----------\n",
      "epoch 17/70\n"
     ]
    },
    {
     "name": "stderr",
     "output_type": "stream",
     "text": [
      "\n",
      "\u001b[Aining Batches:   0%|          | 0/31 [00:00<?, ?it/s]\n",
      "\u001b[Aining Batches:   0%|          | 0/31 [00:00<?, ?it/s, train_loss=0.361]\n",
      "\u001b[Aining Batches:   3%|▎         | 1/31 [00:00<00:23,  1.26it/s, train_loss=0.361]\n",
      "\u001b[Aining Batches:   3%|▎         | 1/31 [00:01<00:23,  1.26it/s, train_loss=0.424]\n",
      "\u001b[Aining Batches:   6%|▋         | 2/31 [00:01<00:22,  1.29it/s, train_loss=0.424]\n",
      "\u001b[Aining Batches:   6%|▋         | 2/31 [00:02<00:22,  1.29it/s, train_loss=0.517]\n",
      "\u001b[Aining Batches:  10%|▉         | 3/31 [00:02<00:21,  1.28it/s, train_loss=0.517]\n",
      "\u001b[Aining Batches:  10%|▉         | 3/31 [00:03<00:21,  1.28it/s, train_loss=0.392]\n",
      "\u001b[Aining Batches:  13%|█▎        | 4/31 [00:03<00:20,  1.29it/s, train_loss=0.392]\n",
      "\u001b[Aining Batches:  13%|█▎        | 4/31 [00:03<00:20,  1.29it/s, train_loss=0.46] \n",
      "\u001b[Aining Batches:  16%|█▌        | 5/31 [00:03<00:20,  1.29it/s, train_loss=0.46]\n",
      "\u001b[Aining Batches:  16%|█▌        | 5/31 [00:04<00:20,  1.29it/s, train_loss=0.557]\n",
      "\u001b[Aining Batches:  19%|█▉        | 6/31 [00:04<00:19,  1.30it/s, train_loss=0.557]\n",
      "\u001b[Aining Batches:  19%|█▉        | 6/31 [00:05<00:19,  1.30it/s, train_loss=0.501]\n",
      "\u001b[Aining Batches:  23%|██▎       | 7/31 [00:05<00:18,  1.28it/s, train_loss=0.501]\n",
      "\u001b[Aining Batches:  23%|██▎       | 7/31 [00:06<00:18,  1.28it/s, train_loss=0.348]\n",
      "\u001b[Aining Batches:  26%|██▌       | 8/31 [00:06<00:18,  1.28it/s, train_loss=0.348]\n",
      "\u001b[Aining Batches:  26%|██▌       | 8/31 [00:06<00:18,  1.28it/s, train_loss=0.317]\n",
      "\u001b[Aining Batches:  29%|██▉       | 9/31 [00:06<00:16,  1.31it/s, train_loss=0.317]\n",
      "\u001b[Aining Batches:  29%|██▉       | 9/31 [00:07<00:16,  1.31it/s, train_loss=0.307]\n",
      "\u001b[Aining Batches:  32%|███▏      | 10/31 [00:07<00:16,  1.29it/s, train_loss=0.307]\n",
      "\u001b[Aining Batches:  32%|███▏      | 10/31 [00:08<00:16,  1.29it/s, train_loss=0.51] \n",
      "\u001b[Aining Batches:  35%|███▌      | 11/31 [00:08<00:15,  1.28it/s, train_loss=0.51]\n",
      "\u001b[Aining Batches:  35%|███▌      | 11/31 [00:09<00:15,  1.28it/s, train_loss=0.292]\n",
      "\u001b[Aining Batches:  39%|███▊      | 12/31 [00:09<00:15,  1.26it/s, train_loss=0.292]\n",
      "\u001b[Aining Batches:  39%|███▊      | 12/31 [00:10<00:15,  1.26it/s, train_loss=0.331]\n",
      "\u001b[Aining Batches:  42%|████▏     | 13/31 [00:10<00:14,  1.25it/s, train_loss=0.331]\n",
      "\u001b[Aining Batches:  42%|████▏     | 13/31 [00:11<00:14,  1.25it/s, train_loss=0.573]\n",
      "\u001b[Aining Batches:  45%|████▌     | 14/31 [00:11<00:13,  1.23it/s, train_loss=0.573]\n",
      "\u001b[Aining Batches:  45%|████▌     | 14/31 [00:11<00:13,  1.23it/s, train_loss=0.332]\n",
      "\u001b[Aining Batches:  48%|████▊     | 15/31 [00:11<00:12,  1.25it/s, train_loss=0.332]\n",
      "\u001b[Aining Batches:  48%|████▊     | 15/31 [00:12<00:12,  1.25it/s, train_loss=0.285]\n",
      "\u001b[Aining Batches:  52%|█████▏    | 16/31 [00:12<00:12,  1.25it/s, train_loss=0.285]\n",
      "\u001b[Aining Batches:  52%|█████▏    | 16/31 [00:13<00:12,  1.25it/s, train_loss=0.572]\n",
      "\u001b[Aining Batches:  55%|█████▍    | 17/31 [00:13<00:11,  1.25it/s, train_loss=0.572]\n",
      "\u001b[Aining Batches:  55%|█████▍    | 17/31 [00:14<00:11,  1.25it/s, train_loss=0.584]\n",
      "\u001b[Aining Batches:  58%|█████▊    | 18/31 [00:14<00:10,  1.24it/s, train_loss=0.584]\n",
      "\u001b[Aining Batches:  58%|█████▊    | 18/31 [00:14<00:10,  1.24it/s, train_loss=0.647]\n",
      "\u001b[Aining Batches:  61%|██████▏   | 19/31 [00:14<00:09,  1.29it/s, train_loss=0.647]\n",
      "\u001b[Aining Batches:  61%|██████▏   | 19/31 [00:15<00:09,  1.29it/s, train_loss=0.39] \n",
      "\u001b[Aining Batches:  65%|██████▍   | 20/31 [00:15<00:08,  1.26it/s, train_loss=0.39]\n",
      "\u001b[Aining Batches:  65%|██████▍   | 20/31 [00:16<00:08,  1.26it/s, train_loss=0.3] \n",
      "\u001b[Aining Batches:  68%|██████▊   | 21/31 [00:16<00:08,  1.24it/s, train_loss=0.3]\n",
      "\u001b[Aining Batches:  68%|██████▊   | 21/31 [00:17<00:08,  1.24it/s, train_loss=0.44]\n",
      "\u001b[Aining Batches:  71%|███████   | 22/31 [00:17<00:07,  1.23it/s, train_loss=0.44]\n",
      "\u001b[Aining Batches:  71%|███████   | 22/31 [00:18<00:07,  1.23it/s, train_loss=0.44]\n",
      "\u001b[Aining Batches:  74%|███████▍  | 23/31 [00:18<00:06,  1.25it/s, train_loss=0.44]\n",
      "\u001b[Aining Batches:  74%|███████▍  | 23/31 [00:19<00:06,  1.25it/s, train_loss=0.445]\n",
      "\u001b[Aining Batches:  77%|███████▋  | 24/31 [00:19<00:05,  1.24it/s, train_loss=0.445]\n",
      "\u001b[Aining Batches:  77%|███████▋  | 24/31 [00:19<00:05,  1.24it/s, train_loss=0.45] \n",
      "\u001b[Aining Batches:  81%|████████  | 25/31 [00:19<00:04,  1.24it/s, train_loss=0.45]\n",
      "\u001b[Aining Batches:  81%|████████  | 25/31 [00:20<00:04,  1.24it/s, train_loss=0.575]\n",
      "\u001b[Aining Batches:  84%|████████▍ | 26/31 [00:20<00:04,  1.25it/s, train_loss=0.575]\n",
      "\u001b[Aining Batches:  84%|████████▍ | 26/31 [00:21<00:04,  1.25it/s, train_loss=0.233]\n",
      "\u001b[Aining Batches:  87%|████████▋ | 27/31 [00:21<00:03,  1.25it/s, train_loss=0.233]\n",
      "\u001b[Aining Batches:  87%|████████▋ | 27/31 [00:22<00:03,  1.25it/s, train_loss=0.293]\n",
      "\u001b[Aining Batches:  90%|█████████ | 28/31 [00:22<00:02,  1.25it/s, train_loss=0.293]\n",
      "\u001b[Aining Batches:  90%|█████████ | 28/31 [00:23<00:02,  1.25it/s, train_loss=0.532]\n",
      "\u001b[Aining Batches:  94%|█████████▎| 29/31 [00:23<00:01,  1.25it/s, train_loss=0.532]\n",
      "\u001b[Aining Batches:  94%|█████████▎| 29/31 [00:23<00:01,  1.25it/s, train_loss=0.277]\n",
      "\u001b[Aining Batches:  97%|█████████▋| 30/31 [00:23<00:00,  1.24it/s, train_loss=0.277]\n",
      "\u001b[Aining Batches:  97%|█████████▋| 30/31 [00:24<00:00,  1.24it/s, train_loss=0.211]\n",
      "\u001b[Aining Batches: 100%|██████████| 31/31 [00:24<00:00,  1.55it/s, train_loss=0.211]\n",
      "\u001b[A                                                                                "
     ]
    },
    {
     "name": "stdout",
     "output_type": "stream",
     "text": [
      "epoch 17 average loss: 0.4161\n"
     ]
    },
    {
     "name": "stderr",
     "output_type": "stream",
     "text": [
      "Epochs:  24%|██▍       | 17/70 [07:10<21:52, 24.76s/it]"
     ]
    },
    {
     "name": "stdout",
     "output_type": "stream",
     "text": [
      "1\n",
      "current epoch: 17 current AUC: 0.9921 current accuracy: 0.8571 best AUC: 0.9930 at epoch: 11\n",
      "----------\n",
      "epoch 18/70\n"
     ]
    },
    {
     "name": "stderr",
     "output_type": "stream",
     "text": [
      "\n",
      "\u001b[Aining Batches:   0%|          | 0/31 [00:00<?, ?it/s]\n",
      "\u001b[Aining Batches:   0%|          | 0/31 [00:00<?, ?it/s, train_loss=0.551]\n",
      "\u001b[Aining Batches:   3%|▎         | 1/31 [00:00<00:23,  1.25it/s, train_loss=0.551]\n",
      "\u001b[Aining Batches:   3%|▎         | 1/31 [00:01<00:23,  1.25it/s, train_loss=0.319]\n",
      "\u001b[Aining Batches:   6%|▋         | 2/31 [00:01<00:22,  1.28it/s, train_loss=0.319]\n",
      "\u001b[Aining Batches:   6%|▋         | 2/31 [00:02<00:22,  1.28it/s, train_loss=0.38] \n",
      "\u001b[Aining Batches:  10%|▉         | 3/31 [00:02<00:21,  1.28it/s, train_loss=0.38]\n",
      "\u001b[Aining Batches:  10%|▉         | 3/31 [00:03<00:21,  1.28it/s, train_loss=0.567]\n",
      "\u001b[Aining Batches:  13%|█▎        | 4/31 [00:03<00:21,  1.28it/s, train_loss=0.567]\n",
      "\u001b[Aining Batches:  13%|█▎        | 4/31 [00:03<00:21,  1.28it/s, train_loss=0.538]\n",
      "\u001b[Aining Batches:  16%|█▌        | 5/31 [00:03<00:20,  1.25it/s, train_loss=0.538]\n",
      "\u001b[Aining Batches:  16%|█▌        | 5/31 [00:04<00:20,  1.25it/s, train_loss=0.281]\n",
      "\u001b[Aining Batches:  19%|█▉        | 6/31 [00:04<00:20,  1.25it/s, train_loss=0.281]\n",
      "\u001b[Aining Batches:  19%|█▉        | 6/31 [00:05<00:20,  1.25it/s, train_loss=0.23] \n",
      "\u001b[Aining Batches:  23%|██▎       | 7/31 [00:05<00:19,  1.26it/s, train_loss=0.23]\n",
      "\u001b[Aining Batches:  23%|██▎       | 7/31 [00:06<00:19,  1.26it/s, train_loss=0.347]\n",
      "\u001b[Aining Batches:  26%|██▌       | 8/31 [00:06<00:17,  1.28it/s, train_loss=0.347]\n",
      "\u001b[Aining Batches:  26%|██▌       | 8/31 [00:07<00:17,  1.28it/s, train_loss=0.517]\n",
      "\u001b[Aining Batches:  29%|██▉       | 9/31 [00:07<00:17,  1.27it/s, train_loss=0.517]\n",
      "\u001b[Aining Batches:  29%|██▉       | 9/31 [00:07<00:17,  1.27it/s, train_loss=0.459]\n",
      "\u001b[Aining Batches:  32%|███▏      | 10/31 [00:07<00:16,  1.25it/s, train_loss=0.459]\n",
      "\u001b[Aining Batches:  32%|███▏      | 10/31 [00:08<00:16,  1.25it/s, train_loss=0.413]\n",
      "\u001b[Aining Batches:  35%|███▌      | 11/31 [00:08<00:15,  1.25it/s, train_loss=0.413]\n",
      "\u001b[Aining Batches:  35%|███▌      | 11/31 [00:09<00:15,  1.25it/s, train_loss=0.519]\n",
      "\u001b[Aining Batches:  39%|███▊      | 12/31 [00:09<00:15,  1.25it/s, train_loss=0.519]\n",
      "\u001b[Aining Batches:  39%|███▊      | 12/31 [00:10<00:15,  1.25it/s, train_loss=0.41] \n",
      "\u001b[Aining Batches:  42%|████▏     | 13/31 [00:10<00:14,  1.26it/s, train_loss=0.41]\n",
      "\u001b[Aining Batches:  42%|████▏     | 13/31 [00:11<00:14,  1.26it/s, train_loss=0.357]\n",
      "\u001b[Aining Batches:  45%|████▌     | 14/31 [00:11<00:13,  1.26it/s, train_loss=0.357]\n",
      "\u001b[Aining Batches:  45%|████▌     | 14/31 [00:11<00:13,  1.26it/s, train_loss=0.686]\n",
      "\u001b[Aining Batches:  48%|████▊     | 15/31 [00:11<00:12,  1.26it/s, train_loss=0.686]\n",
      "\u001b[Aining Batches:  48%|████▊     | 15/31 [00:12<00:12,  1.26it/s, train_loss=0.381]\n",
      "\u001b[Aining Batches:  52%|█████▏    | 16/31 [00:12<00:11,  1.28it/s, train_loss=0.381]\n",
      "\u001b[Aining Batches:  52%|█████▏    | 16/31 [00:13<00:11,  1.28it/s, train_loss=0.362]\n",
      "\u001b[Aining Batches:  55%|█████▍    | 17/31 [00:13<00:10,  1.30it/s, train_loss=0.362]\n",
      "\u001b[Aining Batches:  55%|█████▍    | 17/31 [00:14<00:10,  1.30it/s, train_loss=0.75] \n",
      "\u001b[Aining Batches:  58%|█████▊    | 18/31 [00:14<00:10,  1.28it/s, train_loss=0.75]\n",
      "\u001b[Aining Batches:  58%|█████▊    | 18/31 [00:15<00:10,  1.28it/s, train_loss=0.557]\n",
      "\u001b[Aining Batches:  61%|██████▏   | 19/31 [00:15<00:09,  1.26it/s, train_loss=0.557]\n",
      "\u001b[Aining Batches:  61%|██████▏   | 19/31 [00:15<00:09,  1.26it/s, train_loss=0.403]\n",
      "\u001b[Aining Batches:  65%|██████▍   | 20/31 [00:15<00:08,  1.26it/s, train_loss=0.403]\n",
      "\u001b[Aining Batches:  65%|██████▍   | 20/31 [00:16<00:08,  1.26it/s, train_loss=0.386]\n",
      "\u001b[Aining Batches:  68%|██████▊   | 21/31 [00:16<00:07,  1.31it/s, train_loss=0.386]\n",
      "\u001b[Aining Batches:  68%|██████▊   | 21/31 [00:17<00:07,  1.31it/s, train_loss=0.357]\n",
      "\u001b[Aining Batches:  71%|███████   | 22/31 [00:17<00:06,  1.30it/s, train_loss=0.357]\n",
      "\u001b[Aining Batches:  71%|███████   | 22/31 [00:18<00:06,  1.30it/s, train_loss=0.407]\n",
      "\u001b[Aining Batches:  74%|███████▍  | 23/31 [00:18<00:06,  1.28it/s, train_loss=0.407]\n",
      "\u001b[Aining Batches:  74%|███████▍  | 23/31 [00:18<00:06,  1.28it/s, train_loss=0.317]\n",
      "\u001b[Aining Batches:  77%|███████▋  | 24/31 [00:18<00:05,  1.30it/s, train_loss=0.317]\n",
      "\u001b[Aining Batches:  77%|███████▋  | 24/31 [00:19<00:05,  1.30it/s, train_loss=0.285]\n",
      "\u001b[Aining Batches:  81%|████████  | 25/31 [00:19<00:04,  1.31it/s, train_loss=0.285]\n",
      "\u001b[Aining Batches:  81%|████████  | 25/31 [00:20<00:04,  1.31it/s, train_loss=0.447]\n",
      "\u001b[Aining Batches:  84%|████████▍ | 26/31 [00:20<00:03,  1.29it/s, train_loss=0.447]\n",
      "\u001b[Aining Batches:  84%|████████▍ | 26/31 [00:21<00:03,  1.29it/s, train_loss=0.375]\n",
      "\u001b[Aining Batches:  87%|████████▋ | 27/31 [00:21<00:03,  1.31it/s, train_loss=0.375]\n",
      "\u001b[Aining Batches:  87%|████████▋ | 27/31 [00:21<00:03,  1.31it/s, train_loss=0.226]\n",
      "\u001b[Aining Batches:  90%|█████████ | 28/31 [00:21<00:02,  1.31it/s, train_loss=0.226]\n",
      "\u001b[Aining Batches:  90%|█████████ | 28/31 [00:22<00:02,  1.31it/s, train_loss=0.453]\n",
      "\u001b[Aining Batches:  94%|█████████▎| 29/31 [00:22<00:01,  1.29it/s, train_loss=0.453]\n",
      "\u001b[Aining Batches:  94%|█████████▎| 29/31 [00:23<00:01,  1.29it/s, train_loss=0.362]\n",
      "\u001b[Aining Batches:  97%|█████████▋| 30/31 [00:23<00:00,  1.29it/s, train_loss=0.362]\n",
      "\u001b[Aining Batches:  97%|█████████▋| 30/31 [00:23<00:00,  1.29it/s, train_loss=0.409]\n",
      "\u001b[Aining Batches: 100%|██████████| 31/31 [00:23<00:00,  1.61it/s, train_loss=0.409]\n",
      "\u001b[A                                                                                "
     ]
    },
    {
     "name": "stdout",
     "output_type": "stream",
     "text": [
      "epoch 18 average loss: 0.4211\n"
     ]
    },
    {
     "name": "stderr",
     "output_type": "stream",
     "text": [
      "Epochs:  26%|██▌       | 18/70 [07:34<21:20, 24.63s/it]"
     ]
    },
    {
     "name": "stdout",
     "output_type": "stream",
     "text": [
      "1\n",
      "current epoch: 18 current AUC: 0.9896 current accuracy: 0.8634 best AUC: 0.9930 at epoch: 11\n",
      "----------\n",
      "epoch 19/70\n"
     ]
    },
    {
     "name": "stderr",
     "output_type": "stream",
     "text": [
      "\n",
      "\u001b[Aining Batches:   0%|          | 0/31 [00:00<?, ?it/s]\n",
      "\u001b[Aining Batches:   0%|          | 0/31 [00:00<?, ?it/s, train_loss=0.342]\n",
      "\u001b[Aining Batches:   3%|▎         | 1/31 [00:00<00:23,  1.29it/s, train_loss=0.342]\n",
      "\u001b[Aining Batches:   3%|▎         | 1/31 [00:01<00:23,  1.29it/s, train_loss=0.343]\n",
      "\u001b[Aining Batches:   6%|▋         | 2/31 [00:01<00:22,  1.26it/s, train_loss=0.343]\n",
      "\u001b[Aining Batches:   6%|▋         | 2/31 [00:02<00:22,  1.26it/s, train_loss=0.442]\n",
      "\u001b[Aining Batches:  10%|▉         | 3/31 [00:02<00:22,  1.22it/s, train_loss=0.442]\n",
      "\u001b[Aining Batches:  10%|▉         | 3/31 [00:03<00:22,  1.22it/s, train_loss=0.247]\n",
      "\u001b[Aining Batches:  13%|█▎        | 4/31 [00:03<00:21,  1.25it/s, train_loss=0.247]\n",
      "\u001b[Aining Batches:  13%|█▎        | 4/31 [00:03<00:21,  1.25it/s, train_loss=0.309]\n",
      "\u001b[Aining Batches:  16%|█▌        | 5/31 [00:03<00:19,  1.31it/s, train_loss=0.309]\n",
      "\u001b[Aining Batches:  16%|█▌        | 5/31 [00:04<00:19,  1.31it/s, train_loss=0.337]\n",
      "\u001b[Aining Batches:  19%|█▉        | 6/31 [00:04<00:19,  1.26it/s, train_loss=0.337]\n",
      "\u001b[Aining Batches:  19%|█▉        | 6/31 [00:05<00:19,  1.26it/s, train_loss=0.36] \n",
      "\u001b[Aining Batches:  23%|██▎       | 7/31 [00:05<00:18,  1.28it/s, train_loss=0.36]\n",
      "\u001b[Aining Batches:  23%|██▎       | 7/31 [00:06<00:18,  1.28it/s, train_loss=0.245]\n",
      "\u001b[Aining Batches:  26%|██▌       | 8/31 [00:06<00:17,  1.29it/s, train_loss=0.245]\n",
      "\u001b[Aining Batches:  26%|██▌       | 8/31 [00:07<00:17,  1.29it/s, train_loss=0.376]\n",
      "\u001b[Aining Batches:  29%|██▉       | 9/31 [00:07<00:17,  1.27it/s, train_loss=0.376]\n",
      "\u001b[Aining Batches:  29%|██▉       | 9/31 [00:07<00:17,  1.27it/s, train_loss=0.234]\n",
      "\u001b[Aining Batches:  32%|███▏      | 10/31 [00:07<00:16,  1.24it/s, train_loss=0.234]\n",
      "\u001b[Aining Batches:  32%|███▏      | 10/31 [00:08<00:16,  1.24it/s, train_loss=0.342]\n",
      "\u001b[Aining Batches:  35%|███▌      | 11/31 [00:08<00:15,  1.27it/s, train_loss=0.342]\n",
      "\u001b[Aining Batches:  35%|███▌      | 11/31 [00:09<00:15,  1.27it/s, train_loss=0.509]\n",
      "\u001b[Aining Batches:  39%|███▊      | 12/31 [00:09<00:14,  1.27it/s, train_loss=0.509]\n",
      "\u001b[Aining Batches:  39%|███▊      | 12/31 [00:10<00:14,  1.27it/s, train_loss=0.482]\n",
      "\u001b[Aining Batches:  42%|████▏     | 13/31 [00:10<00:14,  1.28it/s, train_loss=0.482]\n",
      "\u001b[Aining Batches:  42%|████▏     | 13/31 [00:11<00:14,  1.28it/s, train_loss=0.28] \n",
      "\u001b[Aining Batches:  45%|████▌     | 14/31 [00:11<00:13,  1.27it/s, train_loss=0.28]\n",
      "\u001b[Aining Batches:  45%|████▌     | 14/31 [00:11<00:13,  1.27it/s, train_loss=0.405]\n",
      "\u001b[Aining Batches:  48%|████▊     | 15/31 [00:11<00:12,  1.28it/s, train_loss=0.405]\n",
      "\u001b[Aining Batches:  48%|████▊     | 15/31 [00:12<00:12,  1.28it/s, train_loss=0.442]\n",
      "\u001b[Aining Batches:  52%|█████▏    | 16/31 [00:12<00:11,  1.28it/s, train_loss=0.442]\n",
      "\u001b[Aining Batches:  52%|█████▏    | 16/31 [00:13<00:11,  1.28it/s, train_loss=0.303]\n",
      "\u001b[Aining Batches:  55%|█████▍    | 17/31 [00:13<00:10,  1.28it/s, train_loss=0.303]\n",
      "\u001b[Aining Batches:  55%|█████▍    | 17/31 [00:14<00:10,  1.28it/s, train_loss=0.475]\n",
      "\u001b[Aining Batches:  58%|█████▊    | 18/31 [00:14<00:10,  1.26it/s, train_loss=0.475]\n",
      "\u001b[Aining Batches:  58%|█████▊    | 18/31 [00:14<00:10,  1.26it/s, train_loss=0.547]\n",
      "\u001b[Aining Batches:  61%|██████▏   | 19/31 [00:14<00:09,  1.25it/s, train_loss=0.547]\n",
      "\u001b[Aining Batches:  61%|██████▏   | 19/31 [00:15<00:09,  1.25it/s, train_loss=0.25] \n",
      "\u001b[Aining Batches:  65%|██████▍   | 20/31 [00:15<00:08,  1.27it/s, train_loss=0.25]\n",
      "\u001b[Aining Batches:  65%|██████▍   | 20/31 [00:16<00:08,  1.27it/s, train_loss=0.463]\n",
      "\u001b[Aining Batches:  68%|██████▊   | 21/31 [00:16<00:07,  1.27it/s, train_loss=0.463]\n",
      "\u001b[Aining Batches:  68%|██████▊   | 21/31 [00:17<00:07,  1.27it/s, train_loss=0.621]\n",
      "\u001b[Aining Batches:  71%|███████   | 22/31 [00:17<00:07,  1.28it/s, train_loss=0.621]\n",
      "\u001b[Aining Batches:  71%|███████   | 22/31 [00:18<00:07,  1.28it/s, train_loss=0.468]\n",
      "\u001b[Aining Batches:  74%|███████▍  | 23/31 [00:18<00:06,  1.25it/s, train_loss=0.468]\n",
      "\u001b[Aining Batches:  74%|███████▍  | 23/31 [00:18<00:06,  1.25it/s, train_loss=0.239]\n",
      "\u001b[Aining Batches:  77%|███████▋  | 24/31 [00:18<00:05,  1.26it/s, train_loss=0.239]\n",
      "\u001b[Aining Batches:  77%|███████▋  | 24/31 [00:19<00:05,  1.26it/s, train_loss=0.67] \n",
      "\u001b[Aining Batches:  81%|████████  | 25/31 [00:19<00:04,  1.29it/s, train_loss=0.67]\n",
      "\u001b[Aining Batches:  81%|████████  | 25/31 [00:20<00:04,  1.29it/s, train_loss=0.384]\n",
      "\u001b[Aining Batches:  84%|████████▍ | 26/31 [00:20<00:03,  1.28it/s, train_loss=0.384]\n",
      "\u001b[Aining Batches:  84%|████████▍ | 26/31 [00:21<00:03,  1.28it/s, train_loss=0.415]\n",
      "\u001b[Aining Batches:  87%|████████▋ | 27/31 [00:21<00:03,  1.27it/s, train_loss=0.415]\n",
      "\u001b[Aining Batches:  87%|████████▋ | 27/31 [00:22<00:03,  1.27it/s, train_loss=0.295]\n",
      "\u001b[Aining Batches:  90%|█████████ | 28/31 [00:22<00:02,  1.29it/s, train_loss=0.295]\n",
      "\u001b[Aining Batches:  90%|█████████ | 28/31 [00:22<00:02,  1.29it/s, train_loss=0.424]\n",
      "\u001b[Aining Batches:  94%|█████████▎| 29/31 [00:22<00:01,  1.26it/s, train_loss=0.424]\n",
      "\u001b[Aining Batches:  94%|█████████▎| 29/31 [00:23<00:01,  1.26it/s, train_loss=0.463]\n",
      "\u001b[Aining Batches:  97%|█████████▋| 30/31 [00:23<00:00,  1.24it/s, train_loss=0.463]\n",
      "\u001b[Aining Batches:  97%|█████████▋| 30/31 [00:23<00:00,  1.24it/s, train_loss=0.336]\n",
      "\u001b[Aining Batches: 100%|██████████| 31/31 [00:23<00:00,  1.56it/s, train_loss=0.336]\n",
      "\u001b[A                                                                                "
     ]
    },
    {
     "name": "stdout",
     "output_type": "stream",
     "text": [
      "epoch 19 average loss: 0.3887\n"
     ]
    },
    {
     "name": "stderr",
     "output_type": "stream",
     "text": [
      "Epochs:  27%|██▋       | 19/70 [07:59<20:55, 24.61s/it]"
     ]
    },
    {
     "name": "stdout",
     "output_type": "stream",
     "text": [
      "1\n",
      "current epoch: 19 current AUC: 0.9875 current accuracy: 0.8509 best AUC: 0.9930 at epoch: 11\n",
      "----------\n",
      "epoch 20/70\n"
     ]
    },
    {
     "name": "stderr",
     "output_type": "stream",
     "text": [
      "\n",
      "\u001b[Aining Batches:   0%|          | 0/31 [00:00<?, ?it/s]\n",
      "\u001b[Aining Batches:   0%|          | 0/31 [00:00<?, ?it/s, train_loss=0.363]\n",
      "\u001b[Aining Batches:   3%|▎         | 1/31 [00:00<00:24,  1.20it/s, train_loss=0.363]\n",
      "\u001b[Aining Batches:   3%|▎         | 1/31 [00:01<00:24,  1.20it/s, train_loss=0.441]\n",
      "\u001b[Aining Batches:   6%|▋         | 2/31 [00:01<00:23,  1.26it/s, train_loss=0.441]\n",
      "\u001b[Aining Batches:   6%|▋         | 2/31 [00:02<00:23,  1.26it/s, train_loss=0.306]\n",
      "\u001b[Aining Batches:  10%|▉         | 3/31 [00:02<00:22,  1.24it/s, train_loss=0.306]\n",
      "\u001b[Aining Batches:  10%|▉         | 3/31 [00:03<00:22,  1.24it/s, train_loss=0.33] \n",
      "\u001b[Aining Batches:  13%|█▎        | 4/31 [00:03<00:21,  1.26it/s, train_loss=0.33]\n",
      "\u001b[Aining Batches:  13%|█▎        | 4/31 [00:04<00:21,  1.26it/s, train_loss=0.379]\n",
      "\u001b[Aining Batches:  16%|█▌        | 5/31 [00:04<00:21,  1.23it/s, train_loss=0.379]\n",
      "\u001b[Aining Batches:  16%|█▌        | 5/31 [00:04<00:21,  1.23it/s, train_loss=0.243]\n",
      "\u001b[Aining Batches:  19%|█▉        | 6/31 [00:04<00:20,  1.22it/s, train_loss=0.243]\n",
      "\u001b[Aining Batches:  19%|█▉        | 6/31 [00:05<00:20,  1.22it/s, train_loss=0.479]\n",
      "\u001b[Aining Batches:  23%|██▎       | 7/31 [00:05<00:19,  1.22it/s, train_loss=0.479]\n",
      "\u001b[Aining Batches:  23%|██▎       | 7/31 [00:06<00:19,  1.22it/s, train_loss=0.384]\n",
      "\u001b[Aining Batches:  26%|██▌       | 8/31 [00:06<00:19,  1.21it/s, train_loss=0.384]\n",
      "\u001b[Aining Batches:  26%|██▌       | 8/31 [00:07<00:19,  1.21it/s, train_loss=0.397]\n",
      "\u001b[Aining Batches:  29%|██▉       | 9/31 [00:07<00:18,  1.20it/s, train_loss=0.397]\n",
      "\u001b[Aining Batches:  29%|██▉       | 9/31 [00:08<00:18,  1.20it/s, train_loss=0.279]\n",
      "\u001b[Aining Batches:  32%|███▏      | 10/31 [00:08<00:17,  1.22it/s, train_loss=0.279]\n",
      "\u001b[Aining Batches:  32%|███▏      | 10/31 [00:08<00:17,  1.22it/s, train_loss=0.331]\n",
      "\u001b[Aining Batches:  35%|███▌      | 11/31 [00:08<00:16,  1.23it/s, train_loss=0.331]\n",
      "\u001b[Aining Batches:  35%|███▌      | 11/31 [00:09<00:16,  1.23it/s, train_loss=0.408]\n",
      "\u001b[Aining Batches:  39%|███▊      | 12/31 [00:09<00:15,  1.25it/s, train_loss=0.408]\n",
      "\u001b[Aining Batches:  39%|███▊      | 12/31 [00:10<00:15,  1.25it/s, train_loss=0.369]\n",
      "\u001b[Aining Batches:  42%|████▏     | 13/31 [00:10<00:14,  1.23it/s, train_loss=0.369]\n",
      "\u001b[Aining Batches:  42%|████▏     | 13/31 [00:11<00:14,  1.23it/s, train_loss=0.37] \n",
      "\u001b[Aining Batches:  45%|████▌     | 14/31 [00:11<00:13,  1.25it/s, train_loss=0.37]\n",
      "\u001b[Aining Batches:  45%|████▌     | 14/31 [00:12<00:13,  1.25it/s, train_loss=0.374]\n",
      "\u001b[Aining Batches:  48%|████▊     | 15/31 [00:12<00:12,  1.27it/s, train_loss=0.374]\n",
      "\u001b[Aining Batches:  48%|████▊     | 15/31 [00:12<00:12,  1.27it/s, train_loss=0.594]\n",
      "\u001b[Aining Batches:  52%|█████▏    | 16/31 [00:12<00:11,  1.28it/s, train_loss=0.594]\n",
      "\u001b[Aining Batches:  52%|█████▏    | 16/31 [00:13<00:11,  1.28it/s, train_loss=0.429]\n",
      "\u001b[Aining Batches:  55%|█████▍    | 17/31 [00:13<00:10,  1.29it/s, train_loss=0.429]\n",
      "\u001b[Aining Batches:  55%|█████▍    | 17/31 [00:14<00:10,  1.29it/s, train_loss=0.466]\n",
      "\u001b[Aining Batches:  58%|█████▊    | 18/31 [00:14<00:09,  1.31it/s, train_loss=0.466]\n",
      "\u001b[Aining Batches:  58%|█████▊    | 18/31 [00:15<00:09,  1.31it/s, train_loss=0.372]\n",
      "\u001b[Aining Batches:  61%|██████▏   | 19/31 [00:15<00:09,  1.31it/s, train_loss=0.372]\n",
      "\u001b[Aining Batches:  61%|██████▏   | 19/31 [00:15<00:09,  1.31it/s, train_loss=0.372]\n",
      "\u001b[Aining Batches:  65%|██████▍   | 20/31 [00:15<00:08,  1.30it/s, train_loss=0.372]\n",
      "\u001b[Aining Batches:  65%|██████▍   | 20/31 [00:16<00:08,  1.30it/s, train_loss=0.351]\n",
      "\u001b[Aining Batches:  68%|██████▊   | 21/31 [00:16<00:07,  1.27it/s, train_loss=0.351]\n",
      "\u001b[Aining Batches:  68%|██████▊   | 21/31 [00:17<00:07,  1.27it/s, train_loss=0.294]\n",
      "\u001b[Aining Batches:  71%|███████   | 22/31 [00:17<00:07,  1.26it/s, train_loss=0.294]\n",
      "\u001b[Aining Batches:  71%|███████   | 22/31 [00:18<00:07,  1.26it/s, train_loss=0.287]\n",
      "\u001b[Aining Batches:  74%|███████▍  | 23/31 [00:18<00:06,  1.26it/s, train_loss=0.287]\n",
      "\u001b[Aining Batches:  74%|███████▍  | 23/31 [00:19<00:06,  1.26it/s, train_loss=0.27] \n",
      "\u001b[Aining Batches:  77%|███████▋  | 24/31 [00:19<00:05,  1.27it/s, train_loss=0.27]\n",
      "\u001b[Aining Batches:  77%|███████▋  | 24/31 [00:19<00:05,  1.27it/s, train_loss=0.336]\n",
      "\u001b[Aining Batches:  81%|████████  | 25/31 [00:19<00:04,  1.26it/s, train_loss=0.336]\n",
      "\u001b[Aining Batches:  81%|████████  | 25/31 [00:20<00:04,  1.26it/s, train_loss=0.236]\n",
      "\u001b[Aining Batches:  84%|████████▍ | 26/31 [00:20<00:03,  1.28it/s, train_loss=0.236]\n",
      "\u001b[Aining Batches:  84%|████████▍ | 26/31 [00:21<00:03,  1.28it/s, train_loss=0.506]\n",
      "\u001b[Aining Batches:  87%|████████▋ | 27/31 [00:21<00:03,  1.25it/s, train_loss=0.506]\n",
      "\u001b[Aining Batches:  87%|████████▋ | 27/31 [00:22<00:03,  1.25it/s, train_loss=0.436]\n",
      "\u001b[Aining Batches:  90%|█████████ | 28/31 [00:22<00:02,  1.24it/s, train_loss=0.436]\n",
      "\u001b[Aining Batches:  90%|█████████ | 28/31 [00:23<00:02,  1.24it/s, train_loss=0.431]\n",
      "\u001b[Aining Batches:  94%|█████████▎| 29/31 [00:23<00:01,  1.24it/s, train_loss=0.431]\n",
      "\u001b[Aining Batches:  94%|█████████▎| 29/31 [00:23<00:01,  1.24it/s, train_loss=0.628]\n",
      "\u001b[Aining Batches:  97%|█████████▋| 30/31 [00:23<00:00,  1.28it/s, train_loss=0.628]\n",
      "\u001b[Aining Batches:  97%|█████████▋| 30/31 [00:24<00:00,  1.28it/s, train_loss=0.158]\n",
      "\u001b[Aining Batches: 100%|██████████| 31/31 [00:24<00:00,  1.59it/s, train_loss=0.158]\n",
      "\u001b[A                                                                                "
     ]
    },
    {
     "name": "stdout",
     "output_type": "stream",
     "text": [
      "epoch 20 average loss: 0.3749\n"
     ]
    },
    {
     "name": "stderr",
     "output_type": "stream",
     "text": [
      "Epochs:  29%|██▊       | 20/70 [08:23<20:32, 24.66s/it]"
     ]
    },
    {
     "name": "stdout",
     "output_type": "stream",
     "text": [
      "1\n",
      "current epoch: 20 current AUC: 0.9897 current accuracy: 0.8820 best AUC: 0.9930 at epoch: 11\n",
      "----------\n",
      "epoch 21/70\n"
     ]
    },
    {
     "name": "stderr",
     "output_type": "stream",
     "text": [
      "\n",
      "\u001b[Aining Batches:   0%|          | 0/31 [00:00<?, ?it/s]\n",
      "\u001b[Aining Batches:   0%|          | 0/31 [00:00<?, ?it/s, train_loss=0.51]\n",
      "\u001b[Aining Batches:   3%|▎         | 1/31 [00:00<00:22,  1.32it/s, train_loss=0.51]\n",
      "\u001b[Aining Batches:   3%|▎         | 1/31 [00:01<00:22,  1.32it/s, train_loss=0.293]\n",
      "\u001b[Aining Batches:   6%|▋         | 2/31 [00:01<00:21,  1.34it/s, train_loss=0.293]\n",
      "\u001b[Aining Batches:   6%|▋         | 2/31 [00:02<00:21,  1.34it/s, train_loss=0.297]\n",
      "\u001b[Aining Batches:  10%|▉         | 3/31 [00:02<00:21,  1.32it/s, train_loss=0.297]\n",
      "\u001b[Aining Batches:  10%|▉         | 3/31 [00:03<00:21,  1.32it/s, train_loss=0.351]\n",
      "\u001b[Aining Batches:  13%|█▎        | 4/31 [00:03<00:21,  1.28it/s, train_loss=0.351]\n",
      "\u001b[Aining Batches:  13%|█▎        | 4/31 [00:03<00:21,  1.28it/s, train_loss=0.349]\n",
      "\u001b[Aining Batches:  16%|█▌        | 5/31 [00:03<00:20,  1.25it/s, train_loss=0.349]\n",
      "\u001b[Aining Batches:  16%|█▌        | 5/31 [00:04<00:20,  1.25it/s, train_loss=0.387]\n",
      "\u001b[Aining Batches:  19%|█▉        | 6/31 [00:04<00:20,  1.24it/s, train_loss=0.387]\n",
      "\u001b[Aining Batches:  19%|█▉        | 6/31 [00:05<00:20,  1.24it/s, train_loss=0.301]\n",
      "\u001b[Aining Batches:  23%|██▎       | 7/31 [00:05<00:19,  1.26it/s, train_loss=0.301]\n",
      "\u001b[Aining Batches:  23%|██▎       | 7/31 [00:06<00:19,  1.26it/s, train_loss=0.447]\n",
      "\u001b[Aining Batches:  26%|██▌       | 8/31 [00:06<00:18,  1.27it/s, train_loss=0.447]\n",
      "\u001b[Aining Batches:  26%|██▌       | 8/31 [00:07<00:18,  1.27it/s, train_loss=0.244]\n",
      "\u001b[Aining Batches:  29%|██▉       | 9/31 [00:07<00:17,  1.28it/s, train_loss=0.244]\n",
      "\u001b[Aining Batches:  29%|██▉       | 9/31 [00:07<00:17,  1.28it/s, train_loss=0.285]\n",
      "\u001b[Aining Batches:  32%|███▏      | 10/31 [00:07<00:16,  1.27it/s, train_loss=0.285]\n",
      "\u001b[Aining Batches:  32%|███▏      | 10/31 [00:08<00:16,  1.27it/s, train_loss=0.336]\n",
      "\u001b[Aining Batches:  35%|███▌      | 11/31 [00:08<00:15,  1.30it/s, train_loss=0.336]\n",
      "\u001b[Aining Batches:  35%|███▌      | 11/31 [00:09<00:15,  1.30it/s, train_loss=0.312]\n",
      "\u001b[Aining Batches:  39%|███▊      | 12/31 [00:09<00:14,  1.27it/s, train_loss=0.312]\n",
      "\u001b[Aining Batches:  39%|███▊      | 12/31 [00:10<00:14,  1.27it/s, train_loss=0.297]\n",
      "\u001b[Aining Batches:  42%|████▏     | 13/31 [00:10<00:14,  1.23it/s, train_loss=0.297]\n",
      "\u001b[Aining Batches:  42%|████▏     | 13/31 [00:11<00:14,  1.23it/s, train_loss=0.274]\n",
      "\u001b[Aining Batches:  45%|████▌     | 14/31 [00:11<00:13,  1.25it/s, train_loss=0.274]\n",
      "\u001b[Aining Batches:  45%|████▌     | 14/31 [00:11<00:13,  1.25it/s, train_loss=0.319]\n",
      "\u001b[Aining Batches:  48%|████▊     | 15/31 [00:11<00:12,  1.25it/s, train_loss=0.319]\n",
      "\u001b[Aining Batches:  48%|████▊     | 15/31 [00:12<00:12,  1.25it/s, train_loss=0.219]\n",
      "\u001b[Aining Batches:  52%|█████▏    | 16/31 [00:12<00:12,  1.22it/s, train_loss=0.219]\n",
      "\u001b[Aining Batches:  52%|█████▏    | 16/31 [00:13<00:12,  1.22it/s, train_loss=0.358]\n",
      "\u001b[Aining Batches:  55%|█████▍    | 17/31 [00:13<00:11,  1.22it/s, train_loss=0.358]\n",
      "\u001b[Aining Batches:  55%|█████▍    | 17/31 [00:14<00:11,  1.22it/s, train_loss=0.252]\n",
      "\u001b[Aining Batches:  58%|█████▊    | 18/31 [00:14<00:10,  1.22it/s, train_loss=0.252]\n",
      "\u001b[Aining Batches:  58%|█████▊    | 18/31 [00:15<00:10,  1.22it/s, train_loss=0.145]\n",
      "\u001b[Aining Batches:  61%|██████▏   | 19/31 [00:15<00:09,  1.22it/s, train_loss=0.145]\n",
      "\u001b[Aining Batches:  61%|██████▏   | 19/31 [00:15<00:09,  1.22it/s, train_loss=0.424]\n",
      "\u001b[Aining Batches:  65%|██████▍   | 20/31 [00:15<00:08,  1.22it/s, train_loss=0.424]\n",
      "\u001b[Aining Batches:  65%|██████▍   | 20/31 [00:16<00:08,  1.22it/s, train_loss=0.335]\n",
      "\u001b[Aining Batches:  68%|██████▊   | 21/31 [00:16<00:07,  1.25it/s, train_loss=0.335]\n",
      "\u001b[Aining Batches:  68%|██████▊   | 21/31 [00:17<00:07,  1.25it/s, train_loss=0.47] \n",
      "\u001b[Aining Batches:  71%|███████   | 22/31 [00:17<00:07,  1.23it/s, train_loss=0.47]\n",
      "\u001b[Aining Batches:  71%|███████   | 22/31 [00:18<00:07,  1.23it/s, train_loss=0.292]\n",
      "\u001b[Aining Batches:  74%|███████▍  | 23/31 [00:18<00:06,  1.24it/s, train_loss=0.292]\n",
      "\u001b[Aining Batches:  74%|███████▍  | 23/31 [00:19<00:06,  1.24it/s, train_loss=0.453]\n",
      "\u001b[Aining Batches:  77%|███████▋  | 24/31 [00:19<00:05,  1.24it/s, train_loss=0.453]\n",
      "\u001b[Aining Batches:  77%|███████▋  | 24/31 [00:19<00:05,  1.24it/s, train_loss=0.458]\n",
      "\u001b[Aining Batches:  81%|████████  | 25/31 [00:19<00:04,  1.27it/s, train_loss=0.458]\n",
      "\u001b[Aining Batches:  81%|████████  | 25/31 [00:20<00:04,  1.27it/s, train_loss=0.507]\n",
      "\u001b[Aining Batches:  84%|████████▍ | 26/31 [00:20<00:03,  1.26it/s, train_loss=0.507]\n",
      "\u001b[Aining Batches:  84%|████████▍ | 26/31 [00:21<00:03,  1.26it/s, train_loss=0.554]\n",
      "\u001b[Aining Batches:  87%|████████▋ | 27/31 [00:21<00:03,  1.29it/s, train_loss=0.554]\n",
      "\u001b[Aining Batches:  87%|████████▋ | 27/31 [00:22<00:03,  1.29it/s, train_loss=0.451]\n",
      "\u001b[Aining Batches:  90%|█████████ | 28/31 [00:22<00:02,  1.26it/s, train_loss=0.451]\n",
      "\u001b[Aining Batches:  90%|█████████ | 28/31 [00:23<00:02,  1.26it/s, train_loss=0.383]\n",
      "\u001b[Aining Batches:  94%|█████████▎| 29/31 [00:23<00:01,  1.26it/s, train_loss=0.383]\n",
      "\u001b[Aining Batches:  94%|█████████▎| 29/31 [00:23<00:01,  1.26it/s, train_loss=0.551]\n",
      "\u001b[Aining Batches:  97%|█████████▋| 30/31 [00:23<00:00,  1.27it/s, train_loss=0.551]\n",
      "\u001b[Aining Batches:  97%|█████████▋| 30/31 [00:24<00:00,  1.27it/s, train_loss=0.514]\n",
      "\u001b[Aining Batches: 100%|██████████| 31/31 [00:24<00:00,  1.56it/s, train_loss=0.514]\n",
      "\u001b[A                                                                                "
     ]
    },
    {
     "name": "stdout",
     "output_type": "stream",
     "text": [
      "epoch 21 average loss: 0.3667\n"
     ]
    },
    {
     "name": "stderr",
     "output_type": "stream",
     "text": [
      "Epochs:  30%|███       | 21/70 [08:48<20:09, 24.69s/it]"
     ]
    },
    {
     "name": "stdout",
     "output_type": "stream",
     "text": [
      "1\n",
      "current epoch: 21 current AUC: 0.9886 current accuracy: 0.8758 best AUC: 0.9930 at epoch: 11\n",
      "----------\n",
      "epoch 22/70\n"
     ]
    },
    {
     "name": "stderr",
     "output_type": "stream",
     "text": [
      "\n",
      "\u001b[Aining Batches:   0%|          | 0/31 [00:00<?, ?it/s]\n",
      "\u001b[Aining Batches:   0%|          | 0/31 [00:00<?, ?it/s, train_loss=0.282]\n",
      "\u001b[Aining Batches:   3%|▎         | 1/31 [00:00<00:23,  1.28it/s, train_loss=0.282]\n",
      "\u001b[Aining Batches:   3%|▎         | 1/31 [00:01<00:23,  1.28it/s, train_loss=0.32] \n",
      "\u001b[Aining Batches:   6%|▋         | 2/31 [00:01<00:22,  1.27it/s, train_loss=0.32]\n",
      "\u001b[Aining Batches:   6%|▋         | 2/31 [00:02<00:22,  1.27it/s, train_loss=0.402]\n",
      "\u001b[Aining Batches:  10%|▉         | 3/31 [00:02<00:22,  1.24it/s, train_loss=0.402]\n",
      "\u001b[Aining Batches:  10%|▉         | 3/31 [00:03<00:22,  1.24it/s, train_loss=0.307]\n",
      "\u001b[Aining Batches:  13%|█▎        | 4/31 [00:03<00:21,  1.24it/s, train_loss=0.307]\n",
      "\u001b[Aining Batches:  13%|█▎        | 4/31 [00:04<00:21,  1.24it/s, train_loss=0.688]\n",
      "\u001b[Aining Batches:  16%|█▌        | 5/31 [00:04<00:21,  1.23it/s, train_loss=0.688]\n",
      "\u001b[Aining Batches:  16%|█▌        | 5/31 [00:04<00:21,  1.23it/s, train_loss=0.426]\n",
      "\u001b[Aining Batches:  19%|█▉        | 6/31 [00:04<00:19,  1.26it/s, train_loss=0.426]\n",
      "\u001b[Aining Batches:  19%|█▉        | 6/31 [00:05<00:19,  1.26it/s, train_loss=0.453]\n",
      "\u001b[Aining Batches:  23%|██▎       | 7/31 [00:05<00:18,  1.30it/s, train_loss=0.453]\n",
      "\u001b[Aining Batches:  23%|██▎       | 7/31 [00:06<00:18,  1.30it/s, train_loss=0.593]\n",
      "\u001b[Aining Batches:  26%|██▌       | 8/31 [00:06<00:17,  1.30it/s, train_loss=0.593]\n",
      "\u001b[Aining Batches:  26%|██▌       | 8/31 [00:07<00:17,  1.30it/s, train_loss=0.344]\n",
      "\u001b[Aining Batches:  29%|██▉       | 9/31 [00:07<00:17,  1.28it/s, train_loss=0.344]\n",
      "\u001b[Aining Batches:  29%|██▉       | 9/31 [00:07<00:17,  1.28it/s, train_loss=0.538]\n",
      "\u001b[Aining Batches:  32%|███▏      | 10/31 [00:07<00:16,  1.28it/s, train_loss=0.538]\n",
      "\u001b[Aining Batches:  32%|███▏      | 10/31 [00:08<00:16,  1.28it/s, train_loss=0.527]\n",
      "\u001b[Aining Batches:  35%|███▌      | 11/31 [00:08<00:15,  1.26it/s, train_loss=0.527]\n",
      "\u001b[Aining Batches:  35%|███▌      | 11/31 [00:09<00:15,  1.26it/s, train_loss=0.321]\n",
      "\u001b[Aining Batches:  39%|███▊      | 12/31 [00:09<00:15,  1.25it/s, train_loss=0.321]\n",
      "\u001b[Aining Batches:  39%|███▊      | 12/31 [00:10<00:15,  1.25it/s, train_loss=0.304]\n",
      "\u001b[Aining Batches:  42%|████▏     | 13/31 [00:10<00:14,  1.27it/s, train_loss=0.304]\n",
      "\u001b[Aining Batches:  42%|████▏     | 13/31 [00:11<00:14,  1.27it/s, train_loss=0.357]\n",
      "\u001b[Aining Batches:  45%|████▌     | 14/31 [00:11<00:13,  1.28it/s, train_loss=0.357]\n",
      "\u001b[Aining Batches:  45%|████▌     | 14/31 [00:11<00:13,  1.28it/s, train_loss=0.662]\n",
      "\u001b[Aining Batches:  48%|████▊     | 15/31 [00:11<00:12,  1.27it/s, train_loss=0.662]\n",
      "\u001b[Aining Batches:  48%|████▊     | 15/31 [00:12<00:12,  1.27it/s, train_loss=0.51] \n",
      "\u001b[Aining Batches:  52%|█████▏    | 16/31 [00:12<00:11,  1.27it/s, train_loss=0.51]\n",
      "\u001b[Aining Batches:  52%|█████▏    | 16/31 [00:13<00:11,  1.27it/s, train_loss=0.421]\n",
      "\u001b[Aining Batches:  55%|█████▍    | 17/31 [00:13<00:11,  1.27it/s, train_loss=0.421]\n",
      "\u001b[Aining Batches:  55%|█████▍    | 17/31 [00:14<00:11,  1.27it/s, train_loss=0.313]\n",
      "\u001b[Aining Batches:  58%|█████▊    | 18/31 [00:14<00:10,  1.27it/s, train_loss=0.313]\n",
      "\u001b[Aining Batches:  58%|█████▊    | 18/31 [00:14<00:10,  1.27it/s, train_loss=0.452]\n",
      "\u001b[Aining Batches:  61%|██████▏   | 19/31 [00:14<00:09,  1.27it/s, train_loss=0.452]\n",
      "\u001b[Aining Batches:  61%|██████▏   | 19/31 [00:15<00:09,  1.27it/s, train_loss=0.293]\n",
      "\u001b[Aining Batches:  65%|██████▍   | 20/31 [00:15<00:08,  1.26it/s, train_loss=0.293]\n",
      "\u001b[Aining Batches:  65%|██████▍   | 20/31 [00:16<00:08,  1.26it/s, train_loss=0.609]\n",
      "\u001b[Aining Batches:  68%|██████▊   | 21/31 [00:16<00:07,  1.26it/s, train_loss=0.609]\n",
      "\u001b[Aining Batches:  68%|██████▊   | 21/31 [00:17<00:07,  1.26it/s, train_loss=0.442]\n",
      "\u001b[Aining Batches:  71%|███████   | 22/31 [00:17<00:07,  1.25it/s, train_loss=0.442]\n",
      "\u001b[Aining Batches:  71%|███████   | 22/31 [00:18<00:07,  1.25it/s, train_loss=0.341]\n",
      "\u001b[Aining Batches:  74%|███████▍  | 23/31 [00:18<00:06,  1.28it/s, train_loss=0.341]\n",
      "\u001b[Aining Batches:  74%|███████▍  | 23/31 [00:18<00:06,  1.28it/s, train_loss=0.338]\n",
      "\u001b[Aining Batches:  77%|███████▋  | 24/31 [00:18<00:05,  1.26it/s, train_loss=0.338]\n",
      "\u001b[Aining Batches:  77%|███████▋  | 24/31 [00:19<00:05,  1.26it/s, train_loss=0.409]\n",
      "\u001b[Aining Batches:  81%|████████  | 25/31 [00:19<00:04,  1.25it/s, train_loss=0.409]\n",
      "\u001b[Aining Batches:  81%|████████  | 25/31 [00:20<00:04,  1.25it/s, train_loss=0.402]\n",
      "\u001b[Aining Batches:  84%|████████▍ | 26/31 [00:20<00:03,  1.26it/s, train_loss=0.402]\n",
      "\u001b[Aining Batches:  84%|████████▍ | 26/31 [00:21<00:03,  1.26it/s, train_loss=0.331]\n",
      "\u001b[Aining Batches:  87%|████████▋ | 27/31 [00:21<00:03,  1.27it/s, train_loss=0.331]\n",
      "\u001b[Aining Batches:  87%|████████▋ | 27/31 [00:22<00:03,  1.27it/s, train_loss=0.343]\n",
      "\u001b[Aining Batches:  90%|█████████ | 28/31 [00:22<00:02,  1.26it/s, train_loss=0.343]\n",
      "\u001b[Aining Batches:  90%|█████████ | 28/31 [00:22<00:02,  1.26it/s, train_loss=0.375]\n",
      "\u001b[Aining Batches:  94%|█████████▎| 29/31 [00:22<00:01,  1.28it/s, train_loss=0.375]\n",
      "\u001b[Aining Batches:  94%|█████████▎| 29/31 [00:23<00:01,  1.28it/s, train_loss=0.334]\n",
      "\u001b[Aining Batches:  97%|█████████▋| 30/31 [00:23<00:00,  1.28it/s, train_loss=0.334]\n",
      "\u001b[Aining Batches:  97%|█████████▋| 30/31 [00:23<00:00,  1.28it/s, train_loss=0.415]\n",
      "\u001b[Aining Batches: 100%|██████████| 31/31 [00:23<00:00,  1.58it/s, train_loss=0.415]\n",
      "\u001b[A                                                                                "
     ]
    },
    {
     "name": "stdout",
     "output_type": "stream",
     "text": [
      "epoch 22 average loss: 0.4146\n"
     ]
    },
    {
     "name": "stderr",
     "output_type": "stream",
     "text": [
      "Epochs:  31%|███▏      | 22/70 [09:13<19:43, 24.65s/it]"
     ]
    },
    {
     "name": "stdout",
     "output_type": "stream",
     "text": [
      "1\n",
      "current epoch: 22 current AUC: 0.9865 current accuracy: 0.8323 best AUC: 0.9930 at epoch: 11\n",
      "----------\n",
      "epoch 23/70\n"
     ]
    },
    {
     "name": "stderr",
     "output_type": "stream",
     "text": [
      "\n",
      "\u001b[Aining Batches:   0%|          | 0/31 [00:00<?, ?it/s]\n",
      "\u001b[Aining Batches:   0%|          | 0/31 [00:00<?, ?it/s, train_loss=0.417]\n",
      "\u001b[Aining Batches:   3%|▎         | 1/31 [00:00<00:24,  1.20it/s, train_loss=0.417]\n",
      "\u001b[Aining Batches:   3%|▎         | 1/31 [00:01<00:24,  1.20it/s, train_loss=0.704]\n",
      "\u001b[Aining Batches:   6%|▋         | 2/31 [00:01<00:24,  1.19it/s, train_loss=0.704]\n",
      "\u001b[Aining Batches:   6%|▋         | 2/31 [00:02<00:24,  1.19it/s, train_loss=0.331]\n",
      "\u001b[Aining Batches:  10%|▉         | 3/31 [00:02<00:22,  1.25it/s, train_loss=0.331]\n",
      "\u001b[Aining Batches:  10%|▉         | 3/31 [00:03<00:22,  1.25it/s, train_loss=0.504]\n",
      "\u001b[Aining Batches:  13%|█▎        | 4/31 [00:03<00:21,  1.25it/s, train_loss=0.504]\n",
      "\u001b[Aining Batches:  13%|█▎        | 4/31 [00:04<00:21,  1.25it/s, train_loss=0.288]\n",
      "\u001b[Aining Batches:  16%|█▌        | 5/31 [00:04<00:20,  1.26it/s, train_loss=0.288]\n",
      "\u001b[Aining Batches:  16%|█▌        | 5/31 [00:04<00:20,  1.26it/s, train_loss=0.297]\n",
      "\u001b[Aining Batches:  19%|█▉        | 6/31 [00:04<00:20,  1.25it/s, train_loss=0.297]\n",
      "\u001b[Aining Batches:  19%|█▉        | 6/31 [00:05<00:20,  1.25it/s, train_loss=0.347]\n",
      "\u001b[Aining Batches:  23%|██▎       | 7/31 [00:05<00:19,  1.25it/s, train_loss=0.347]\n",
      "\u001b[Aining Batches:  23%|██▎       | 7/31 [00:06<00:19,  1.25it/s, train_loss=0.595]\n",
      "\u001b[Aining Batches:  26%|██▌       | 8/31 [00:06<00:18,  1.27it/s, train_loss=0.595]\n",
      "\u001b[Aining Batches:  26%|██▌       | 8/31 [00:07<00:18,  1.27it/s, train_loss=0.324]\n",
      "\u001b[Aining Batches:  29%|██▉       | 9/31 [00:07<00:17,  1.23it/s, train_loss=0.324]\n",
      "\u001b[Aining Batches:  29%|██▉       | 9/31 [00:08<00:17,  1.23it/s, train_loss=0.39] \n",
      "\u001b[Aining Batches:  32%|███▏      | 10/31 [00:08<00:16,  1.26it/s, train_loss=0.39]\n",
      "\u001b[Aining Batches:  32%|███▏      | 10/31 [00:08<00:16,  1.26it/s, train_loss=0.453]\n",
      "\u001b[Aining Batches:  35%|███▌      | 11/31 [00:08<00:16,  1.25it/s, train_loss=0.453]\n",
      "\u001b[Aining Batches:  35%|███▌      | 11/31 [00:09<00:16,  1.25it/s, train_loss=0.261]\n",
      "\u001b[Aining Batches:  39%|███▊      | 12/31 [00:09<00:15,  1.26it/s, train_loss=0.261]\n",
      "\u001b[Aining Batches:  39%|███▊      | 12/31 [00:10<00:15,  1.26it/s, train_loss=0.454]\n",
      "\u001b[Aining Batches:  42%|████▏     | 13/31 [00:10<00:14,  1.26it/s, train_loss=0.454]\n",
      "\u001b[Aining Batches:  42%|████▏     | 13/31 [00:11<00:14,  1.26it/s, train_loss=0.32] \n",
      "\u001b[Aining Batches:  45%|████▌     | 14/31 [00:11<00:13,  1.27it/s, train_loss=0.32]\n",
      "\u001b[Aining Batches:  45%|████▌     | 14/31 [00:11<00:13,  1.27it/s, train_loss=0.487]\n",
      "\u001b[Aining Batches:  48%|████▊     | 15/31 [00:11<00:12,  1.27it/s, train_loss=0.487]\n",
      "\u001b[Aining Batches:  48%|████▊     | 15/31 [00:12<00:12,  1.27it/s, train_loss=0.472]\n",
      "\u001b[Aining Batches:  52%|█████▏    | 16/31 [00:12<00:11,  1.28it/s, train_loss=0.472]\n",
      "\u001b[Aining Batches:  52%|█████▏    | 16/31 [00:13<00:11,  1.28it/s, train_loss=0.296]\n",
      "\u001b[Aining Batches:  55%|█████▍    | 17/31 [00:13<00:11,  1.25it/s, train_loss=0.296]\n",
      "\u001b[Aining Batches:  55%|█████▍    | 17/31 [00:14<00:11,  1.25it/s, train_loss=0.355]\n",
      "\u001b[Aining Batches:  58%|█████▊    | 18/31 [00:14<00:10,  1.25it/s, train_loss=0.355]\n",
      "\u001b[Aining Batches:  58%|█████▊    | 18/31 [00:15<00:10,  1.25it/s, train_loss=0.337]\n",
      "\u001b[Aining Batches:  61%|██████▏   | 19/31 [00:15<00:09,  1.25it/s, train_loss=0.337]\n",
      "\u001b[Aining Batches:  61%|██████▏   | 19/31 [00:15<00:09,  1.25it/s, train_loss=0.395]\n",
      "\u001b[Aining Batches:  65%|██████▍   | 20/31 [00:15<00:08,  1.25it/s, train_loss=0.395]\n",
      "\u001b[Aining Batches:  65%|██████▍   | 20/31 [00:16<00:08,  1.25it/s, train_loss=0.329]\n",
      "\u001b[Aining Batches:  68%|██████▊   | 21/31 [00:16<00:07,  1.26it/s, train_loss=0.329]\n",
      "\u001b[Aining Batches:  68%|██████▊   | 21/31 [00:17<00:07,  1.26it/s, train_loss=0.299]\n",
      "\u001b[Aining Batches:  71%|███████   | 22/31 [00:17<00:07,  1.23it/s, train_loss=0.299]\n",
      "\u001b[Aining Batches:  71%|███████   | 22/31 [00:18<00:07,  1.23it/s, train_loss=0.331]\n",
      "\u001b[Aining Batches:  74%|███████▍  | 23/31 [00:18<00:06,  1.24it/s, train_loss=0.331]\n",
      "\u001b[Aining Batches:  74%|███████▍  | 23/31 [00:19<00:06,  1.24it/s, train_loss=0.21] \n",
      "\u001b[Aining Batches:  77%|███████▋  | 24/31 [00:19<00:05,  1.25it/s, train_loss=0.21]\n",
      "\u001b[Aining Batches:  77%|███████▋  | 24/31 [00:19<00:05,  1.25it/s, train_loss=0.334]\n",
      "\u001b[Aining Batches:  81%|████████  | 25/31 [00:19<00:04,  1.26it/s, train_loss=0.334]\n",
      "\u001b[Aining Batches:  81%|████████  | 25/31 [00:20<00:04,  1.26it/s, train_loss=0.558]\n",
      "\u001b[Aining Batches:  84%|████████▍ | 26/31 [00:20<00:04,  1.23it/s, train_loss=0.558]\n",
      "\u001b[Aining Batches:  84%|████████▍ | 26/31 [00:21<00:04,  1.23it/s, train_loss=0.364]\n",
      "\u001b[Aining Batches:  87%|████████▋ | 27/31 [00:21<00:03,  1.24it/s, train_loss=0.364]\n",
      "\u001b[Aining Batches:  87%|████████▋ | 27/31 [00:22<00:03,  1.24it/s, train_loss=0.265]\n",
      "\u001b[Aining Batches:  90%|█████████ | 28/31 [00:22<00:02,  1.24it/s, train_loss=0.265]\n",
      "\u001b[Aining Batches:  90%|█████████ | 28/31 [00:23<00:02,  1.24it/s, train_loss=0.276]\n",
      "\u001b[Aining Batches:  94%|█████████▎| 29/31 [00:23<00:01,  1.23it/s, train_loss=0.276]\n",
      "\u001b[Aining Batches:  94%|█████████▎| 29/31 [00:24<00:01,  1.23it/s, train_loss=0.293]\n",
      "\u001b[Aining Batches:  97%|█████████▋| 30/31 [00:24<00:00,  1.24it/s, train_loss=0.293]\n",
      "\u001b[Aining Batches:  97%|█████████▋| 30/31 [00:24<00:00,  1.24it/s, train_loss=0.859]\n",
      "\u001b[Aining Batches: 100%|██████████| 31/31 [00:24<00:00,  1.56it/s, train_loss=0.859]\n",
      "\u001b[A                                                                                "
     ]
    },
    {
     "name": "stdout",
     "output_type": "stream",
     "text": [
      "epoch 23 average loss: 0.3917\n"
     ]
    },
    {
     "name": "stderr",
     "output_type": "stream",
     "text": [
      "Epochs:  33%|███▎      | 23/70 [09:38<19:22, 24.73s/it]"
     ]
    },
    {
     "name": "stdout",
     "output_type": "stream",
     "text": [
      "1\n",
      "current epoch: 23 current AUC: 0.9892 current accuracy: 0.8696 best AUC: 0.9930 at epoch: 11\n",
      "----------\n",
      "epoch 24/70\n"
     ]
    },
    {
     "name": "stderr",
     "output_type": "stream",
     "text": [
      "\n",
      "\u001b[Aining Batches:   0%|          | 0/31 [00:00<?, ?it/s]\n",
      "\u001b[Aining Batches:   0%|          | 0/31 [00:00<?, ?it/s, train_loss=0.407]\n",
      "\u001b[Aining Batches:   3%|▎         | 1/31 [00:00<00:21,  1.41it/s, train_loss=0.407]\n",
      "\u001b[Aining Batches:   3%|▎         | 1/31 [00:01<00:21,  1.41it/s, train_loss=0.29] \n",
      "\u001b[Aining Batches:   6%|▋         | 2/31 [00:01<00:21,  1.32it/s, train_loss=0.29]\n",
      "\u001b[Aining Batches:   6%|▋         | 2/31 [00:02<00:21,  1.32it/s, train_loss=0.39]\n",
      "\u001b[Aining Batches:  10%|▉         | 3/31 [00:02<00:21,  1.30it/s, train_loss=0.39]\n",
      "\u001b[Aining Batches:  10%|▉         | 3/31 [00:03<00:21,  1.30it/s, train_loss=0.3] \n",
      "\u001b[Aining Batches:  13%|█▎        | 4/31 [00:03<00:21,  1.25it/s, train_loss=0.3]\n",
      "\u001b[Aining Batches:  13%|█▎        | 4/31 [00:03<00:21,  1.25it/s, train_loss=0.431]\n",
      "\u001b[Aining Batches:  16%|█▌        | 5/31 [00:03<00:20,  1.27it/s, train_loss=0.431]\n",
      "\u001b[Aining Batches:  16%|█▌        | 5/31 [00:04<00:20,  1.27it/s, train_loss=0.544]\n",
      "\u001b[Aining Batches:  19%|█▉        | 6/31 [00:04<00:20,  1.25it/s, train_loss=0.544]\n",
      "\u001b[Aining Batches:  19%|█▉        | 6/31 [00:05<00:20,  1.25it/s, train_loss=0.371]\n",
      "\u001b[Aining Batches:  23%|██▎       | 7/31 [00:05<00:18,  1.28it/s, train_loss=0.371]\n",
      "\u001b[Aining Batches:  23%|██▎       | 7/31 [00:06<00:18,  1.28it/s, train_loss=0.397]\n",
      "\u001b[Aining Batches:  26%|██▌       | 8/31 [00:06<00:18,  1.25it/s, train_loss=0.397]\n",
      "\u001b[Aining Batches:  26%|██▌       | 8/31 [00:07<00:18,  1.25it/s, train_loss=0.32] \n",
      "\u001b[Aining Batches:  29%|██▉       | 9/31 [00:07<00:17,  1.26it/s, train_loss=0.32]\n",
      "\u001b[Aining Batches:  29%|██▉       | 9/31 [00:07<00:17,  1.26it/s, train_loss=0.336]\n",
      "\u001b[Aining Batches:  32%|███▏      | 10/31 [00:07<00:16,  1.24it/s, train_loss=0.336]\n",
      "\u001b[Aining Batches:  32%|███▏      | 10/31 [00:08<00:16,  1.24it/s, train_loss=0.162]\n",
      "\u001b[Aining Batches:  35%|███▌      | 11/31 [00:08<00:15,  1.26it/s, train_loss=0.162]\n",
      "\u001b[Aining Batches:  35%|███▌      | 11/31 [00:09<00:15,  1.26it/s, train_loss=0.515]\n",
      "\u001b[Aining Batches:  39%|███▊      | 12/31 [00:09<00:15,  1.25it/s, train_loss=0.515]\n",
      "\u001b[Aining Batches:  39%|███▊      | 12/31 [00:10<00:15,  1.25it/s, train_loss=0.367]\n",
      "\u001b[Aining Batches:  42%|████▏     | 13/31 [00:10<00:14,  1.25it/s, train_loss=0.367]\n",
      "\u001b[Aining Batches:  42%|████▏     | 13/31 [00:11<00:14,  1.25it/s, train_loss=0.36] \n",
      "\u001b[Aining Batches:  45%|████▌     | 14/31 [00:11<00:13,  1.27it/s, train_loss=0.36]\n",
      "\u001b[Aining Batches:  45%|████▌     | 14/31 [00:11<00:13,  1.27it/s, train_loss=0.566]\n",
      "\u001b[Aining Batches:  48%|████▊     | 15/31 [00:11<00:12,  1.25it/s, train_loss=0.566]\n",
      "\u001b[Aining Batches:  48%|████▊     | 15/31 [00:12<00:12,  1.25it/s, train_loss=0.43] \n",
      "\u001b[Aining Batches:  52%|█████▏    | 16/31 [00:12<00:12,  1.24it/s, train_loss=0.43]\n",
      "\u001b[Aining Batches:  52%|█████▏    | 16/31 [00:13<00:12,  1.24it/s, train_loss=0.363]\n",
      "\u001b[Aining Batches:  55%|█████▍    | 17/31 [00:13<00:11,  1.23it/s, train_loss=0.363]\n",
      "\u001b[Aining Batches:  55%|█████▍    | 17/31 [00:14<00:11,  1.23it/s, train_loss=0.506]\n",
      "\u001b[Aining Batches:  58%|█████▊    | 18/31 [00:14<00:10,  1.25it/s, train_loss=0.506]\n",
      "\u001b[Aining Batches:  58%|█████▊    | 18/31 [00:15<00:10,  1.25it/s, train_loss=0.528]\n",
      "\u001b[Aining Batches:  61%|██████▏   | 19/31 [00:15<00:09,  1.29it/s, train_loss=0.528]\n",
      "\u001b[Aining Batches:  61%|██████▏   | 19/31 [00:15<00:09,  1.29it/s, train_loss=0.206]\n",
      "\u001b[Aining Batches:  65%|██████▍   | 20/31 [00:15<00:08,  1.27it/s, train_loss=0.206]\n",
      "\u001b[Aining Batches:  65%|██████▍   | 20/31 [00:16<00:08,  1.27it/s, train_loss=0.306]\n",
      "\u001b[Aining Batches:  68%|██████▊   | 21/31 [00:16<00:07,  1.31it/s, train_loss=0.306]\n",
      "\u001b[Aining Batches:  68%|██████▊   | 21/31 [00:17<00:07,  1.31it/s, train_loss=0.363]\n",
      "\u001b[Aining Batches:  71%|███████   | 22/31 [00:17<00:06,  1.30it/s, train_loss=0.363]\n",
      "\u001b[Aining Batches:  71%|███████   | 22/31 [00:18<00:06,  1.30it/s, train_loss=0.478]\n",
      "\u001b[Aining Batches:  74%|███████▍  | 23/31 [00:18<00:06,  1.29it/s, train_loss=0.478]\n",
      "\u001b[Aining Batches:  74%|███████▍  | 23/31 [00:18<00:06,  1.29it/s, train_loss=0.465]\n",
      "\u001b[Aining Batches:  77%|███████▋  | 24/31 [00:18<00:05,  1.27it/s, train_loss=0.465]\n",
      "\u001b[Aining Batches:  77%|███████▋  | 24/31 [00:19<00:05,  1.27it/s, train_loss=0.557]\n",
      "\u001b[Aining Batches:  81%|████████  | 25/31 [00:19<00:04,  1.27it/s, train_loss=0.557]\n",
      "\u001b[Aining Batches:  81%|████████  | 25/31 [00:20<00:04,  1.27it/s, train_loss=0.294]\n",
      "\u001b[Aining Batches:  84%|████████▍ | 26/31 [00:20<00:03,  1.25it/s, train_loss=0.294]\n",
      "\u001b[Aining Batches:  84%|████████▍ | 26/31 [00:21<00:03,  1.25it/s, train_loss=0.182]\n",
      "\u001b[Aining Batches:  87%|████████▋ | 27/31 [00:21<00:03,  1.28it/s, train_loss=0.182]\n",
      "\u001b[Aining Batches:  87%|████████▋ | 27/31 [00:22<00:03,  1.28it/s, train_loss=0.32] \n",
      "\u001b[Aining Batches:  90%|█████████ | 28/31 [00:22<00:02,  1.29it/s, train_loss=0.32]\n",
      "\u001b[Aining Batches:  90%|█████████ | 28/31 [00:22<00:02,  1.29it/s, train_loss=0.417]\n",
      "\u001b[Aining Batches:  94%|█████████▎| 29/31 [00:22<00:01,  1.31it/s, train_loss=0.417]\n",
      "\u001b[Aining Batches:  94%|█████████▎| 29/31 [00:23<00:01,  1.31it/s, train_loss=0.279]\n",
      "\u001b[Aining Batches:  97%|█████████▋| 30/31 [00:23<00:00,  1.30it/s, train_loss=0.279]\n",
      "\u001b[Aining Batches:  97%|█████████▋| 30/31 [00:23<00:00,  1.30it/s, train_loss=0.478]\n",
      "\u001b[Aining Batches: 100%|██████████| 31/31 [00:23<00:00,  1.59it/s, train_loss=0.478]\n",
      "\u001b[A                                                                                "
     ]
    },
    {
     "name": "stdout",
     "output_type": "stream",
     "text": [
      "epoch 24 average loss: 0.3847\n"
     ]
    },
    {
     "name": "stderr",
     "output_type": "stream",
     "text": [
      "Epochs:  34%|███▍      | 24/70 [10:02<18:54, 24.66s/it]"
     ]
    },
    {
     "name": "stdout",
     "output_type": "stream",
     "text": [
      "1\n",
      "current epoch: 24 current AUC: 0.9884 current accuracy: 0.8634 best AUC: 0.9930 at epoch: 11\n",
      "----------\n",
      "epoch 25/70\n"
     ]
    },
    {
     "name": "stderr",
     "output_type": "stream",
     "text": [
      "\n",
      "\u001b[Aining Batches:   0%|          | 0/31 [00:00<?, ?it/s]\n",
      "\u001b[Aining Batches:   0%|          | 0/31 [00:00<?, ?it/s, train_loss=0.273]\n",
      "\u001b[Aining Batches:   3%|▎         | 1/31 [00:00<00:24,  1.21it/s, train_loss=0.273]\n",
      "\u001b[Aining Batches:   3%|▎         | 1/31 [00:01<00:24,  1.21it/s, train_loss=0.423]\n",
      "\u001b[Aining Batches:   6%|▋         | 2/31 [00:01<00:23,  1.22it/s, train_loss=0.423]\n",
      "\u001b[Aining Batches:   6%|▋         | 2/31 [00:02<00:23,  1.22it/s, train_loss=0.395]\n",
      "\u001b[Aining Batches:  10%|▉         | 3/31 [00:02<00:21,  1.28it/s, train_loss=0.395]\n",
      "\u001b[Aining Batches:  10%|▉         | 3/31 [00:03<00:21,  1.28it/s, train_loss=0.323]\n",
      "\u001b[Aining Batches:  13%|█▎        | 4/31 [00:03<00:21,  1.25it/s, train_loss=0.323]\n",
      "\u001b[Aining Batches:  13%|█▎        | 4/31 [00:04<00:21,  1.25it/s, train_loss=0.32] \n",
      "\u001b[Aining Batches:  16%|█▌        | 5/31 [00:04<00:20,  1.25it/s, train_loss=0.32]\n",
      "\u001b[Aining Batches:  16%|█▌        | 5/31 [00:04<00:20,  1.25it/s, train_loss=0.186]\n",
      "\u001b[Aining Batches:  19%|█▉        | 6/31 [00:04<00:19,  1.25it/s, train_loss=0.186]\n",
      "\u001b[Aining Batches:  19%|█▉        | 6/31 [00:05<00:19,  1.25it/s, train_loss=0.302]\n",
      "\u001b[Aining Batches:  23%|██▎       | 7/31 [00:05<00:19,  1.26it/s, train_loss=0.302]\n",
      "\u001b[Aining Batches:  23%|██▎       | 7/31 [00:06<00:19,  1.26it/s, train_loss=0.236]\n",
      "\u001b[Aining Batches:  26%|██▌       | 8/31 [00:06<00:18,  1.24it/s, train_loss=0.236]\n",
      "\u001b[Aining Batches:  26%|██▌       | 8/31 [00:07<00:18,  1.24it/s, train_loss=0.24] \n",
      "\u001b[Aining Batches:  29%|██▉       | 9/31 [00:07<00:17,  1.27it/s, train_loss=0.24]\n",
      "\u001b[Aining Batches:  29%|██▉       | 9/31 [00:08<00:17,  1.27it/s, train_loss=0.26]\n",
      "\u001b[Aining Batches:  32%|███▏      | 10/31 [00:08<00:16,  1.24it/s, train_loss=0.26]\n",
      "\u001b[Aining Batches:  32%|███▏      | 10/31 [00:08<00:16,  1.24it/s, train_loss=0.361]\n",
      "\u001b[Aining Batches:  35%|███▌      | 11/31 [00:08<00:16,  1.24it/s, train_loss=0.361]\n",
      "\u001b[Aining Batches:  35%|███▌      | 11/31 [00:09<00:16,  1.24it/s, train_loss=0.266]\n",
      "\u001b[Aining Batches:  39%|███▊      | 12/31 [00:09<00:15,  1.25it/s, train_loss=0.266]\n",
      "\u001b[Aining Batches:  39%|███▊      | 12/31 [00:10<00:15,  1.25it/s, train_loss=0.539]\n",
      "\u001b[Aining Batches:  42%|████▏     | 13/31 [00:10<00:14,  1.25it/s, train_loss=0.539]\n",
      "\u001b[Aining Batches:  42%|████▏     | 13/31 [00:11<00:14,  1.25it/s, train_loss=0.302]\n",
      "\u001b[Aining Batches:  45%|████▌     | 14/31 [00:11<00:13,  1.24it/s, train_loss=0.302]\n",
      "\u001b[Aining Batches:  45%|████▌     | 14/31 [00:12<00:13,  1.24it/s, train_loss=0.276]\n",
      "\u001b[Aining Batches:  48%|████▊     | 15/31 [00:12<00:12,  1.25it/s, train_loss=0.276]\n",
      "\u001b[Aining Batches:  48%|████▊     | 15/31 [00:12<00:12,  1.25it/s, train_loss=0.279]\n",
      "\u001b[Aining Batches:  52%|█████▏    | 16/31 [00:12<00:12,  1.22it/s, train_loss=0.279]\n",
      "\u001b[Aining Batches:  52%|█████▏    | 16/31 [00:13<00:12,  1.22it/s, train_loss=0.324]\n",
      "\u001b[Aining Batches:  55%|█████▍    | 17/31 [00:13<00:11,  1.24it/s, train_loss=0.324]\n",
      "\u001b[Aining Batches:  55%|█████▍    | 17/31 [00:14<00:11,  1.24it/s, train_loss=0.419]\n",
      "\u001b[Aining Batches:  58%|█████▊    | 18/31 [00:14<00:10,  1.26it/s, train_loss=0.419]\n",
      "\u001b[Aining Batches:  58%|█████▊    | 18/31 [00:15<00:10,  1.26it/s, train_loss=0.348]\n",
      "\u001b[Aining Batches:  61%|██████▏   | 19/31 [00:15<00:09,  1.25it/s, train_loss=0.348]\n",
      "\u001b[Aining Batches:  61%|██████▏   | 19/31 [00:16<00:09,  1.25it/s, train_loss=0.249]\n",
      "\u001b[Aining Batches:  65%|██████▍   | 20/31 [00:16<00:08,  1.24it/s, train_loss=0.249]\n",
      "\u001b[Aining Batches:  65%|██████▍   | 20/31 [00:16<00:08,  1.24it/s, train_loss=0.327]\n",
      "\u001b[Aining Batches:  68%|██████▊   | 21/31 [00:16<00:07,  1.25it/s, train_loss=0.327]\n",
      "\u001b[Aining Batches:  68%|██████▊   | 21/31 [00:17<00:07,  1.25it/s, train_loss=0.32] \n",
      "\u001b[Aining Batches:  71%|███████   | 22/31 [00:17<00:07,  1.27it/s, train_loss=0.32]\n",
      "\u001b[Aining Batches:  71%|███████   | 22/31 [00:18<00:07,  1.27it/s, train_loss=0.22]\n",
      "\u001b[Aining Batches:  74%|███████▍  | 23/31 [00:18<00:06,  1.27it/s, train_loss=0.22]\n",
      "\u001b[Aining Batches:  74%|███████▍  | 23/31 [00:19<00:06,  1.27it/s, train_loss=0.333]\n",
      "\u001b[Aining Batches:  77%|███████▋  | 24/31 [00:19<00:05,  1.29it/s, train_loss=0.333]\n",
      "\u001b[Aining Batches:  77%|███████▋  | 24/31 [00:19<00:05,  1.29it/s, train_loss=0.393]\n",
      "\u001b[Aining Batches:  81%|████████  | 25/31 [00:19<00:04,  1.27it/s, train_loss=0.393]\n",
      "\u001b[Aining Batches:  81%|████████  | 25/31 [00:20<00:04,  1.27it/s, train_loss=0.228]\n",
      "\u001b[Aining Batches:  84%|████████▍ | 26/31 [00:20<00:03,  1.27it/s, train_loss=0.228]\n",
      "\u001b[Aining Batches:  84%|████████▍ | 26/31 [00:21<00:03,  1.27it/s, train_loss=0.304]\n",
      "\u001b[Aining Batches:  87%|████████▋ | 27/31 [00:21<00:03,  1.26it/s, train_loss=0.304]\n",
      "\u001b[Aining Batches:  87%|████████▋ | 27/31 [00:22<00:03,  1.26it/s, train_loss=0.352]\n",
      "\u001b[Aining Batches:  90%|█████████ | 28/31 [00:22<00:02,  1.24it/s, train_loss=0.352]\n",
      "\u001b[Aining Batches:  90%|█████████ | 28/31 [00:23<00:02,  1.24it/s, train_loss=0.387]\n",
      "\u001b[Aining Batches:  94%|█████████▎| 29/31 [00:23<00:01,  1.26it/s, train_loss=0.387]\n",
      "\u001b[Aining Batches:  94%|█████████▎| 29/31 [00:23<00:01,  1.26it/s, train_loss=0.348]\n",
      "\u001b[Aining Batches:  97%|█████████▋| 30/31 [00:23<00:00,  1.27it/s, train_loss=0.348]\n",
      "\u001b[Aining Batches:  97%|█████████▋| 30/31 [00:24<00:00,  1.27it/s, train_loss=0.246]\n",
      "\u001b[Aining Batches: 100%|██████████| 31/31 [00:24<00:00,  1.60it/s, train_loss=0.246]\n",
      "\u001b[A                                                                                "
     ]
    },
    {
     "name": "stdout",
     "output_type": "stream",
     "text": [
      "epoch 25 average loss: 0.3154\n"
     ]
    },
    {
     "name": "stderr",
     "output_type": "stream",
     "text": [
      "Epochs:  36%|███▌      | 25/70 [10:27<18:31, 24.69s/it]"
     ]
    },
    {
     "name": "stdout",
     "output_type": "stream",
     "text": [
      "1\n",
      "current epoch: 25 current AUC: 0.9875 current accuracy: 0.8820 best AUC: 0.9930 at epoch: 11\n",
      "----------\n",
      "epoch 26/70\n"
     ]
    },
    {
     "name": "stderr",
     "output_type": "stream",
     "text": [
      "\n",
      "\u001b[Aining Batches:   0%|          | 0/31 [00:00<?, ?it/s]\n",
      "\u001b[Aining Batches:   0%|          | 0/31 [00:00<?, ?it/s, train_loss=0.277]\n",
      "\u001b[Aining Batches:   3%|▎         | 1/31 [00:00<00:24,  1.23it/s, train_loss=0.277]\n",
      "\u001b[Aining Batches:   3%|▎         | 1/31 [00:01<00:24,  1.23it/s, train_loss=0.332]\n",
      "\u001b[Aining Batches:   6%|▋         | 2/31 [00:01<00:22,  1.27it/s, train_loss=0.332]\n",
      "\u001b[Aining Batches:   6%|▋         | 2/31 [00:02<00:22,  1.27it/s, train_loss=0.431]\n",
      "\u001b[Aining Batches:  10%|▉         | 3/31 [00:02<00:21,  1.29it/s, train_loss=0.431]\n",
      "\u001b[Aining Batches:  10%|▉         | 3/31 [00:03<00:21,  1.29it/s, train_loss=0.295]\n",
      "\u001b[Aining Batches:  13%|█▎        | 4/31 [00:03<00:20,  1.29it/s, train_loss=0.295]\n",
      "\u001b[Aining Batches:  13%|█▎        | 4/31 [00:03<00:20,  1.29it/s, train_loss=0.321]\n",
      "\u001b[Aining Batches:  16%|█▌        | 5/31 [00:03<00:20,  1.29it/s, train_loss=0.321]\n",
      "\u001b[Aining Batches:  16%|█▌        | 5/31 [00:04<00:20,  1.29it/s, train_loss=0.422]\n",
      "\u001b[Aining Batches:  19%|█▉        | 6/31 [00:04<00:19,  1.29it/s, train_loss=0.422]\n",
      "\u001b[Aining Batches:  19%|█▉        | 6/31 [00:05<00:19,  1.29it/s, train_loss=0.348]\n",
      "\u001b[Aining Batches:  23%|██▎       | 7/31 [00:05<00:19,  1.24it/s, train_loss=0.348]\n",
      "\u001b[Aining Batches:  23%|██▎       | 7/31 [00:06<00:19,  1.24it/s, train_loss=0.225]\n",
      "\u001b[Aining Batches:  26%|██▌       | 8/31 [00:06<00:18,  1.27it/s, train_loss=0.225]\n",
      "\u001b[Aining Batches:  26%|██▌       | 8/31 [00:07<00:18,  1.27it/s, train_loss=0.228]\n",
      "\u001b[Aining Batches:  29%|██▉       | 9/31 [00:07<00:17,  1.25it/s, train_loss=0.228]\n",
      "\u001b[Aining Batches:  29%|██▉       | 9/31 [00:07<00:17,  1.25it/s, train_loss=0.67] \n",
      "\u001b[Aining Batches:  32%|███▏      | 10/31 [00:07<00:16,  1.25it/s, train_loss=0.67]\n",
      "\u001b[Aining Batches:  32%|███▏      | 10/31 [00:08<00:16,  1.25it/s, train_loss=0.287]\n",
      "\u001b[Aining Batches:  35%|███▌      | 11/31 [00:08<00:15,  1.25it/s, train_loss=0.287]\n",
      "\u001b[Aining Batches:  35%|███▌      | 11/31 [00:09<00:15,  1.25it/s, train_loss=0.244]\n",
      "\u001b[Aining Batches:  39%|███▊      | 12/31 [00:09<00:15,  1.25it/s, train_loss=0.244]\n",
      "\u001b[Aining Batches:  39%|███▊      | 12/31 [00:10<00:15,  1.25it/s, train_loss=0.425]\n",
      "\u001b[Aining Batches:  42%|████▏     | 13/31 [00:10<00:14,  1.24it/s, train_loss=0.425]\n",
      "\u001b[Aining Batches:  42%|████▏     | 13/31 [00:11<00:14,  1.24it/s, train_loss=0.195]\n",
      "\u001b[Aining Batches:  45%|████▌     | 14/31 [00:11<00:13,  1.25it/s, train_loss=0.195]\n",
      "\u001b[Aining Batches:  45%|████▌     | 14/31 [00:11<00:13,  1.25it/s, train_loss=0.26] \n",
      "\u001b[Aining Batches:  48%|████▊     | 15/31 [00:11<00:12,  1.25it/s, train_loss=0.26]\n",
      "\u001b[Aining Batches:  48%|████▊     | 15/31 [00:12<00:12,  1.25it/s, train_loss=0.287]\n",
      "\u001b[Aining Batches:  52%|█████▏    | 16/31 [00:12<00:11,  1.26it/s, train_loss=0.287]\n",
      "\u001b[Aining Batches:  52%|█████▏    | 16/31 [00:13<00:11,  1.26it/s, train_loss=0.427]\n",
      "\u001b[Aining Batches:  55%|█████▍    | 17/31 [00:13<00:10,  1.28it/s, train_loss=0.427]\n",
      "\u001b[Aining Batches:  55%|█████▍    | 17/31 [00:14<00:10,  1.28it/s, train_loss=0.464]\n",
      "\u001b[Aining Batches:  58%|█████▊    | 18/31 [00:14<00:10,  1.26it/s, train_loss=0.464]\n",
      "\u001b[Aining Batches:  58%|█████▊    | 18/31 [00:15<00:10,  1.26it/s, train_loss=0.287]\n",
      "\u001b[Aining Batches:  61%|██████▏   | 19/31 [00:15<00:09,  1.27it/s, train_loss=0.287]\n",
      "\u001b[Aining Batches:  61%|██████▏   | 19/31 [00:15<00:09,  1.27it/s, train_loss=0.295]\n",
      "\u001b[Aining Batches:  65%|██████▍   | 20/31 [00:15<00:08,  1.25it/s, train_loss=0.295]\n",
      "\u001b[Aining Batches:  65%|██████▍   | 20/31 [00:16<00:08,  1.25it/s, train_loss=0.356]\n",
      "\u001b[Aining Batches:  68%|██████▊   | 21/31 [00:16<00:08,  1.23it/s, train_loss=0.356]\n",
      "\u001b[Aining Batches:  68%|██████▊   | 21/31 [00:17<00:08,  1.23it/s, train_loss=0.383]\n",
      "\u001b[Aining Batches:  71%|███████   | 22/31 [00:17<00:07,  1.23it/s, train_loss=0.383]\n",
      "\u001b[Aining Batches:  71%|███████   | 22/31 [00:18<00:07,  1.23it/s, train_loss=0.256]\n",
      "\u001b[Aining Batches:  74%|███████▍  | 23/31 [00:18<00:06,  1.23it/s, train_loss=0.256]\n",
      "\u001b[Aining Batches:  74%|███████▍  | 23/31 [00:19<00:06,  1.23it/s, train_loss=0.171]\n",
      "\u001b[Aining Batches:  77%|███████▋  | 24/31 [00:19<00:05,  1.25it/s, train_loss=0.171]\n",
      "\u001b[Aining Batches:  77%|███████▋  | 24/31 [00:19<00:05,  1.25it/s, train_loss=0.254]\n",
      "\u001b[Aining Batches:  81%|████████  | 25/31 [00:19<00:04,  1.23it/s, train_loss=0.254]\n",
      "\u001b[Aining Batches:  81%|████████  | 25/31 [00:20<00:04,  1.23it/s, train_loss=0.251]\n",
      "\u001b[Aining Batches:  84%|████████▍ | 26/31 [00:20<00:04,  1.23it/s, train_loss=0.251]\n",
      "\u001b[Aining Batches:  84%|████████▍ | 26/31 [00:21<00:04,  1.23it/s, train_loss=0.476]\n",
      "\u001b[Aining Batches:  87%|████████▋ | 27/31 [00:21<00:03,  1.25it/s, train_loss=0.476]\n",
      "\u001b[Aining Batches:  87%|████████▋ | 27/31 [00:22<00:03,  1.25it/s, train_loss=0.501]\n",
      "\u001b[Aining Batches:  90%|█████████ | 28/31 [00:22<00:02,  1.25it/s, train_loss=0.501]\n",
      "\u001b[Aining Batches:  90%|█████████ | 28/31 [00:23<00:02,  1.25it/s, train_loss=0.487]\n",
      "\u001b[Aining Batches:  94%|█████████▎| 29/31 [00:23<00:01,  1.24it/s, train_loss=0.487]\n",
      "\u001b[Aining Batches:  94%|█████████▎| 29/31 [00:23<00:01,  1.24it/s, train_loss=0.428]\n",
      "\u001b[Aining Batches:  97%|█████████▋| 30/31 [00:23<00:00,  1.24it/s, train_loss=0.428]\n",
      "\u001b[Aining Batches:  97%|█████████▋| 30/31 [00:24<00:00,  1.24it/s, train_loss=0.351]\n",
      "\u001b[Aining Batches: 100%|██████████| 31/31 [00:24<00:00,  1.52it/s, train_loss=0.351]\n",
      "\u001b[A                                                                                "
     ]
    },
    {
     "name": "stdout",
     "output_type": "stream",
     "text": [
      "epoch 26 average loss: 0.3431\n"
     ]
    },
    {
     "name": "stderr",
     "output_type": "stream",
     "text": [
      "Epochs:  37%|███▋      | 26/70 [10:52<18:09, 24.75s/it]"
     ]
    },
    {
     "name": "stdout",
     "output_type": "stream",
     "text": [
      "1\n",
      "current epoch: 26 current AUC: 0.9901 current accuracy: 0.8758 best AUC: 0.9930 at epoch: 11\n",
      "----------\n",
      "epoch 27/70\n"
     ]
    },
    {
     "name": "stderr",
     "output_type": "stream",
     "text": [
      "\n",
      "\u001b[Aining Batches:   0%|          | 0/31 [00:00<?, ?it/s]\n",
      "\u001b[Aining Batches:   0%|          | 0/31 [00:00<?, ?it/s, train_loss=0.244]\n",
      "\u001b[Aining Batches:   3%|▎         | 1/31 [00:00<00:24,  1.23it/s, train_loss=0.244]\n",
      "\u001b[Aining Batches:   3%|▎         | 1/31 [00:01<00:24,  1.23it/s, train_loss=0.332]\n",
      "\u001b[Aining Batches:   6%|▋         | 2/31 [00:01<00:22,  1.27it/s, train_loss=0.332]\n",
      "\u001b[Aining Batches:   6%|▋         | 2/31 [00:02<00:22,  1.27it/s, train_loss=0.324]\n",
      "\u001b[Aining Batches:  10%|▉         | 3/31 [00:02<00:22,  1.27it/s, train_loss=0.324]\n",
      "\u001b[Aining Batches:  10%|▉         | 3/31 [00:03<00:22,  1.27it/s, train_loss=0.264]\n",
      "\u001b[Aining Batches:  13%|█▎        | 4/31 [00:03<00:21,  1.27it/s, train_loss=0.264]\n",
      "\u001b[Aining Batches:  13%|█▎        | 4/31 [00:03<00:21,  1.27it/s, train_loss=0.362]\n",
      "\u001b[Aining Batches:  16%|█▌        | 5/31 [00:03<00:20,  1.28it/s, train_loss=0.362]\n",
      "\u001b[Aining Batches:  16%|█▌        | 5/31 [00:04<00:20,  1.28it/s, train_loss=0.384]\n",
      "\u001b[Aining Batches:  19%|█▉        | 6/31 [00:04<00:19,  1.30it/s, train_loss=0.384]\n",
      "\u001b[Aining Batches:  19%|█▉        | 6/31 [00:05<00:19,  1.30it/s, train_loss=0.254]\n",
      "\u001b[Aining Batches:  23%|██▎       | 7/31 [00:05<00:18,  1.27it/s, train_loss=0.254]\n",
      "\u001b[Aining Batches:  23%|██▎       | 7/31 [00:06<00:18,  1.27it/s, train_loss=0.27] \n",
      "\u001b[Aining Batches:  26%|██▌       | 8/31 [00:06<00:18,  1.24it/s, train_loss=0.27]\n",
      "\u001b[Aining Batches:  26%|██▌       | 8/31 [00:07<00:18,  1.24it/s, train_loss=0.455]\n",
      "\u001b[Aining Batches:  29%|██▉       | 9/31 [00:07<00:17,  1.25it/s, train_loss=0.455]\n",
      "\u001b[Aining Batches:  29%|██▉       | 9/31 [00:07<00:17,  1.25it/s, train_loss=0.333]\n",
      "\u001b[Aining Batches:  32%|███▏      | 10/31 [00:07<00:16,  1.26it/s, train_loss=0.333]\n",
      "\u001b[Aining Batches:  32%|███▏      | 10/31 [00:08<00:16,  1.26it/s, train_loss=0.383]\n",
      "\u001b[Aining Batches:  35%|███▌      | 11/31 [00:08<00:15,  1.26it/s, train_loss=0.383]\n",
      "\u001b[Aining Batches:  35%|███▌      | 11/31 [00:09<00:15,  1.26it/s, train_loss=0.214]\n",
      "\u001b[Aining Batches:  39%|███▊      | 12/31 [00:09<00:15,  1.25it/s, train_loss=0.214]\n",
      "\u001b[Aining Batches:  39%|███▊      | 12/31 [00:10<00:15,  1.25it/s, train_loss=0.212]\n",
      "\u001b[Aining Batches:  42%|████▏     | 13/31 [00:10<00:14,  1.26it/s, train_loss=0.212]\n",
      "\u001b[Aining Batches:  42%|████▏     | 13/31 [00:11<00:14,  1.26it/s, train_loss=0.367]\n",
      "\u001b[Aining Batches:  45%|████▌     | 14/31 [00:11<00:13,  1.26it/s, train_loss=0.367]\n",
      "\u001b[Aining Batches:  45%|████▌     | 14/31 [00:11<00:13,  1.26it/s, train_loss=0.258]\n",
      "\u001b[Aining Batches:  48%|████▊     | 15/31 [00:11<00:12,  1.24it/s, train_loss=0.258]\n",
      "\u001b[Aining Batches:  48%|████▊     | 15/31 [00:12<00:12,  1.24it/s, train_loss=0.528]\n",
      "\u001b[Aining Batches:  52%|█████▏    | 16/31 [00:12<00:11,  1.28it/s, train_loss=0.528]\n",
      "\u001b[Aining Batches:  52%|█████▏    | 16/31 [00:13<00:11,  1.28it/s, train_loss=0.257]\n",
      "\u001b[Aining Batches:  55%|█████▍    | 17/31 [00:13<00:11,  1.25it/s, train_loss=0.257]\n",
      "\u001b[Aining Batches:  55%|█████▍    | 17/31 [00:14<00:11,  1.25it/s, train_loss=0.264]\n",
      "\u001b[Aining Batches:  58%|█████▊    | 18/31 [00:14<00:10,  1.28it/s, train_loss=0.264]\n",
      "\u001b[Aining Batches:  58%|█████▊    | 18/31 [00:14<00:10,  1.28it/s, train_loss=0.539]\n",
      "\u001b[Aining Batches:  61%|██████▏   | 19/31 [00:14<00:09,  1.30it/s, train_loss=0.539]\n",
      "\u001b[Aining Batches:  61%|██████▏   | 19/31 [00:15<00:09,  1.30it/s, train_loss=0.28] \n",
      "\u001b[Aining Batches:  65%|██████▍   | 20/31 [00:15<00:08,  1.29it/s, train_loss=0.28]\n",
      "\u001b[Aining Batches:  65%|██████▍   | 20/31 [00:16<00:08,  1.29it/s, train_loss=0.305]\n",
      "\u001b[Aining Batches:  68%|██████▊   | 21/31 [00:16<00:07,  1.26it/s, train_loss=0.305]\n",
      "\u001b[Aining Batches:  68%|██████▊   | 21/31 [00:17<00:07,  1.26it/s, train_loss=0.36] \n",
      "\u001b[Aining Batches:  71%|███████   | 22/31 [00:17<00:07,  1.28it/s, train_loss=0.36]\n",
      "\u001b[Aining Batches:  71%|███████   | 22/31 [00:18<00:07,  1.28it/s, train_loss=0.297]\n",
      "\u001b[Aining Batches:  74%|███████▍  | 23/31 [00:18<00:06,  1.25it/s, train_loss=0.297]\n",
      "\u001b[Aining Batches:  74%|███████▍  | 23/31 [00:18<00:06,  1.25it/s, train_loss=0.292]\n",
      "\u001b[Aining Batches:  77%|███████▋  | 24/31 [00:18<00:05,  1.28it/s, train_loss=0.292]\n",
      "\u001b[Aining Batches:  77%|███████▋  | 24/31 [00:19<00:05,  1.28it/s, train_loss=0.392]\n",
      "\u001b[Aining Batches:  81%|████████  | 25/31 [00:19<00:04,  1.31it/s, train_loss=0.392]\n",
      "\u001b[Aining Batches:  81%|████████  | 25/31 [00:20<00:04,  1.31it/s, train_loss=0.192]\n",
      "\u001b[Aining Batches:  84%|████████▍ | 26/31 [00:20<00:03,  1.32it/s, train_loss=0.192]\n",
      "\u001b[Aining Batches:  84%|████████▍ | 26/31 [00:21<00:03,  1.32it/s, train_loss=0.608]\n",
      "\u001b[Aining Batches:  87%|████████▋ | 27/31 [00:21<00:03,  1.33it/s, train_loss=0.608]\n",
      "\u001b[Aining Batches:  87%|████████▋ | 27/31 [00:21<00:03,  1.33it/s, train_loss=0.415]\n",
      "\u001b[Aining Batches:  90%|█████████ | 28/31 [00:21<00:02,  1.28it/s, train_loss=0.415]\n",
      "\u001b[Aining Batches:  90%|█████████ | 28/31 [00:22<00:02,  1.28it/s, train_loss=0.333]\n",
      "\u001b[Aining Batches:  94%|█████████▎| 29/31 [00:22<00:01,  1.23it/s, train_loss=0.333]\n",
      "\u001b[Aining Batches:  94%|█████████▎| 29/31 [00:23<00:01,  1.23it/s, train_loss=0.345]\n",
      "\u001b[Aining Batches:  97%|█████████▋| 30/31 [00:23<00:00,  1.25it/s, train_loss=0.345]\n",
      "\u001b[Aining Batches:  97%|█████████▋| 30/31 [00:23<00:00,  1.25it/s, train_loss=0.651]\n",
      "\u001b[Aining Batches: 100%|██████████| 31/31 [00:23<00:00,  1.54it/s, train_loss=0.651]\n",
      "\u001b[A                                                                                "
     ]
    },
    {
     "name": "stdout",
     "output_type": "stream",
     "text": [
      "epoch 27 average loss: 0.3456\n"
     ]
    },
    {
     "name": "stderr",
     "output_type": "stream",
     "text": [
      "Epochs:  39%|███▊      | 27/70 [11:16<17:41, 24.69s/it]"
     ]
    },
    {
     "name": "stdout",
     "output_type": "stream",
     "text": [
      "1\n",
      "current epoch: 27 current AUC: 0.9908 current accuracy: 0.8571 best AUC: 0.9930 at epoch: 11\n",
      "----------\n",
      "epoch 28/70\n"
     ]
    },
    {
     "name": "stderr",
     "output_type": "stream",
     "text": [
      "\n",
      "\u001b[Aining Batches:   0%|          | 0/31 [00:00<?, ?it/s]\n",
      "\u001b[Aining Batches:   0%|          | 0/31 [00:00<?, ?it/s, train_loss=0.35]\n",
      "\u001b[Aining Batches:   3%|▎         | 1/31 [00:00<00:25,  1.19it/s, train_loss=0.35]\n",
      "\u001b[Aining Batches:   3%|▎         | 1/31 [00:01<00:25,  1.19it/s, train_loss=0.754]\n",
      "\u001b[Aining Batches:   6%|▋         | 2/31 [00:01<00:22,  1.27it/s, train_loss=0.754]\n",
      "\u001b[Aining Batches:   6%|▋         | 2/31 [00:02<00:22,  1.27it/s, train_loss=0.321]\n",
      "\u001b[Aining Batches:  10%|▉         | 3/31 [00:02<00:21,  1.30it/s, train_loss=0.321]\n",
      "\u001b[Aining Batches:  10%|▉         | 3/31 [00:03<00:21,  1.30it/s, train_loss=0.555]\n",
      "\u001b[Aining Batches:  13%|█▎        | 4/31 [00:03<00:21,  1.26it/s, train_loss=0.555]\n",
      "\u001b[Aining Batches:  13%|█▎        | 4/31 [00:03<00:21,  1.26it/s, train_loss=0.386]\n",
      "\u001b[Aining Batches:  16%|█▌        | 5/31 [00:03<00:20,  1.26it/s, train_loss=0.386]\n",
      "\u001b[Aining Batches:  16%|█▌        | 5/31 [00:04<00:20,  1.26it/s, train_loss=0.375]\n",
      "\u001b[Aining Batches:  19%|█▉        | 6/31 [00:04<00:19,  1.28it/s, train_loss=0.375]\n",
      "\u001b[Aining Batches:  19%|█▉        | 6/31 [00:05<00:19,  1.28it/s, train_loss=0.634]\n",
      "\u001b[Aining Batches:  23%|██▎       | 7/31 [00:05<00:18,  1.26it/s, train_loss=0.634]\n",
      "\u001b[Aining Batches:  23%|██▎       | 7/31 [00:06<00:18,  1.26it/s, train_loss=0.301]\n",
      "\u001b[Aining Batches:  26%|██▌       | 8/31 [00:06<00:18,  1.26it/s, train_loss=0.301]\n",
      "\u001b[Aining Batches:  26%|██▌       | 8/31 [00:07<00:18,  1.26it/s, train_loss=0.371]\n",
      "\u001b[Aining Batches:  29%|██▉       | 9/31 [00:07<00:17,  1.26it/s, train_loss=0.371]\n",
      "\u001b[Aining Batches:  29%|██▉       | 9/31 [00:07<00:17,  1.26it/s, train_loss=0.326]\n",
      "\u001b[Aining Batches:  32%|███▏      | 10/31 [00:07<00:16,  1.26it/s, train_loss=0.326]\n",
      "\u001b[Aining Batches:  32%|███▏      | 10/31 [00:08<00:16,  1.26it/s, train_loss=0.224]\n",
      "\u001b[Aining Batches:  35%|███▌      | 11/31 [00:08<00:15,  1.27it/s, train_loss=0.224]\n",
      "\u001b[Aining Batches:  35%|███▌      | 11/31 [00:09<00:15,  1.27it/s, train_loss=0.6]  \n",
      "\u001b[Aining Batches:  39%|███▊      | 12/31 [00:09<00:15,  1.26it/s, train_loss=0.6]\n",
      "\u001b[Aining Batches:  39%|███▊      | 12/31 [00:10<00:15,  1.26it/s, train_loss=0.413]\n",
      "\u001b[Aining Batches:  42%|████▏     | 13/31 [00:10<00:14,  1.23it/s, train_loss=0.413]\n",
      "\u001b[Aining Batches:  42%|████▏     | 13/31 [00:11<00:14,  1.23it/s, train_loss=0.173]\n",
      "\u001b[Aining Batches:  45%|████▌     | 14/31 [00:11<00:14,  1.21it/s, train_loss=0.173]\n",
      "\u001b[Aining Batches:  45%|████▌     | 14/31 [00:11<00:14,  1.21it/s, train_loss=0.41] \n",
      "\u001b[Aining Batches:  48%|████▊     | 15/31 [00:11<00:12,  1.23it/s, train_loss=0.41]\n",
      "\u001b[Aining Batches:  48%|████▊     | 15/31 [00:12<00:12,  1.23it/s, train_loss=0.395]\n",
      "\u001b[Aining Batches:  52%|█████▏    | 16/31 [00:12<00:12,  1.24it/s, train_loss=0.395]\n",
      "\u001b[Aining Batches:  52%|█████▏    | 16/31 [00:13<00:12,  1.24it/s, train_loss=0.332]\n",
      "\u001b[Aining Batches:  55%|█████▍    | 17/31 [00:13<00:11,  1.23it/s, train_loss=0.332]\n",
      "\u001b[Aining Batches:  55%|█████▍    | 17/31 [00:14<00:11,  1.23it/s, train_loss=0.344]\n",
      "\u001b[Aining Batches:  58%|█████▊    | 18/31 [00:14<00:10,  1.24it/s, train_loss=0.344]\n",
      "\u001b[Aining Batches:  58%|█████▊    | 18/31 [00:15<00:10,  1.24it/s, train_loss=0.237]\n",
      "\u001b[Aining Batches:  61%|██████▏   | 19/31 [00:15<00:09,  1.27it/s, train_loss=0.237]\n",
      "\u001b[Aining Batches:  61%|██████▏   | 19/31 [00:15<00:09,  1.27it/s, train_loss=0.313]\n",
      "\u001b[Aining Batches:  65%|██████▍   | 20/31 [00:15<00:08,  1.25it/s, train_loss=0.313]\n",
      "\u001b[Aining Batches:  65%|██████▍   | 20/31 [00:16<00:08,  1.25it/s, train_loss=0.419]\n",
      "\u001b[Aining Batches:  68%|██████▊   | 21/31 [00:16<00:07,  1.28it/s, train_loss=0.419]\n",
      "\u001b[Aining Batches:  68%|██████▊   | 21/31 [00:17<00:07,  1.28it/s, train_loss=0.292]\n",
      "\u001b[Aining Batches:  71%|███████   | 22/31 [00:17<00:07,  1.25it/s, train_loss=0.292]\n",
      "\u001b[Aining Batches:  71%|███████   | 22/31 [00:18<00:07,  1.25it/s, train_loss=0.28] \n",
      "\u001b[Aining Batches:  74%|███████▍  | 23/31 [00:18<00:06,  1.23it/s, train_loss=0.28]\n",
      "\u001b[Aining Batches:  74%|███████▍  | 23/31 [00:19<00:06,  1.23it/s, train_loss=0.299]\n",
      "\u001b[Aining Batches:  77%|███████▋  | 24/31 [00:19<00:05,  1.25it/s, train_loss=0.299]\n",
      "\u001b[Aining Batches:  77%|███████▋  | 24/31 [00:20<00:05,  1.25it/s, train_loss=0.274]\n",
      "\u001b[Aining Batches:  81%|████████  | 25/31 [00:20<00:04,  1.22it/s, train_loss=0.274]\n",
      "\u001b[Aining Batches:  81%|████████  | 25/31 [00:20<00:04,  1.22it/s, train_loss=0.18] \n",
      "\u001b[Aining Batches:  84%|████████▍ | 26/31 [00:20<00:04,  1.23it/s, train_loss=0.18]\n",
      "\u001b[Aining Batches:  84%|████████▍ | 26/31 [00:21<00:04,  1.23it/s, train_loss=0.407]\n",
      "\u001b[Aining Batches:  87%|████████▋ | 27/31 [00:21<00:03,  1.22it/s, train_loss=0.407]\n",
      "\u001b[Aining Batches:  87%|████████▋ | 27/31 [00:22<00:03,  1.22it/s, train_loss=0.266]\n",
      "\u001b[Aining Batches:  90%|█████████ | 28/31 [00:22<00:02,  1.25it/s, train_loss=0.266]\n",
      "\u001b[Aining Batches:  90%|█████████ | 28/31 [00:23<00:02,  1.25it/s, train_loss=0.278]\n",
      "\u001b[Aining Batches:  94%|█████████▎| 29/31 [00:23<00:01,  1.26it/s, train_loss=0.278]\n",
      "\u001b[Aining Batches:  94%|█████████▎| 29/31 [00:23<00:01,  1.26it/s, train_loss=0.306]\n",
      "\u001b[Aining Batches:  97%|█████████▋| 30/31 [00:23<00:00,  1.26it/s, train_loss=0.306]\n",
      "\u001b[Aining Batches:  97%|█████████▋| 30/31 [00:24<00:00,  1.26it/s, train_loss=0.504]\n",
      "\u001b[Aining Batches: 100%|██████████| 31/31 [00:24<00:00,  1.56it/s, train_loss=0.504]\n",
      "\u001b[A                                                                                "
     ]
    },
    {
     "name": "stdout",
     "output_type": "stream",
     "text": [
      "epoch 28 average loss: 0.3651\n"
     ]
    },
    {
     "name": "stderr",
     "output_type": "stream",
     "text": [
      "Epochs:  40%|████      | 28/70 [11:41<17:19, 24.75s/it]"
     ]
    },
    {
     "name": "stdout",
     "output_type": "stream",
     "text": [
      "1\n",
      "current epoch: 28 current AUC: 0.9916 current accuracy: 0.8882 best AUC: 0.9930 at epoch: 11\n",
      "----------\n",
      "epoch 29/70\n"
     ]
    },
    {
     "name": "stderr",
     "output_type": "stream",
     "text": [
      "\n",
      "\u001b[Aining Batches:   0%|          | 0/31 [00:00<?, ?it/s]\n",
      "\u001b[Aining Batches:   0%|          | 0/31 [00:00<?, ?it/s, train_loss=0.263]\n",
      "\u001b[Aining Batches:   3%|▎         | 1/31 [00:00<00:24,  1.20it/s, train_loss=0.263]\n",
      "\u001b[Aining Batches:   3%|▎         | 1/31 [00:01<00:24,  1.20it/s, train_loss=0.35] \n",
      "\u001b[Aining Batches:   6%|▋         | 2/31 [00:01<00:24,  1.18it/s, train_loss=0.35]\n",
      "\u001b[Aining Batches:   6%|▋         | 2/31 [00:02<00:24,  1.18it/s, train_loss=0.237]\n",
      "\u001b[Aining Batches:  10%|▉         | 3/31 [00:02<00:23,  1.20it/s, train_loss=0.237]\n",
      "\u001b[Aining Batches:  10%|▉         | 3/31 [00:03<00:23,  1.20it/s, train_loss=0.406]\n",
      "\u001b[Aining Batches:  13%|█▎        | 4/31 [00:03<00:21,  1.23it/s, train_loss=0.406]\n",
      "\u001b[Aining Batches:  13%|█▎        | 4/31 [00:04<00:21,  1.23it/s, train_loss=0.178]\n",
      "\u001b[Aining Batches:  16%|█▌        | 5/31 [00:04<00:20,  1.27it/s, train_loss=0.178]\n",
      "\u001b[Aining Batches:  16%|█▌        | 5/31 [00:04<00:20,  1.27it/s, train_loss=0.193]\n",
      "\u001b[Aining Batches:  19%|█▉        | 6/31 [00:04<00:20,  1.25it/s, train_loss=0.193]\n",
      "\u001b[Aining Batches:  19%|█▉        | 6/31 [00:05<00:20,  1.25it/s, train_loss=0.302]\n",
      "\u001b[Aining Batches:  23%|██▎       | 7/31 [00:05<00:19,  1.24it/s, train_loss=0.302]\n",
      "\u001b[Aining Batches:  23%|██▎       | 7/31 [00:06<00:19,  1.24it/s, train_loss=0.201]\n",
      "\u001b[Aining Batches:  26%|██▌       | 8/31 [00:06<00:18,  1.26it/s, train_loss=0.201]\n",
      "\u001b[Aining Batches:  26%|██▌       | 8/31 [00:07<00:18,  1.26it/s, train_loss=0.338]\n",
      "\u001b[Aining Batches:  29%|██▉       | 9/31 [00:07<00:17,  1.24it/s, train_loss=0.338]\n",
      "\u001b[Aining Batches:  29%|██▉       | 9/31 [00:08<00:17,  1.24it/s, train_loss=0.525]\n",
      "\u001b[Aining Batches:  32%|███▏      | 10/31 [00:08<00:17,  1.23it/s, train_loss=0.525]\n",
      "\u001b[Aining Batches:  32%|███▏      | 10/31 [00:08<00:17,  1.23it/s, train_loss=0.187]\n",
      "\u001b[Aining Batches:  35%|███▌      | 11/31 [00:08<00:16,  1.23it/s, train_loss=0.187]\n",
      "\u001b[Aining Batches:  35%|███▌      | 11/31 [00:09<00:16,  1.23it/s, train_loss=0.373]\n",
      "\u001b[Aining Batches:  39%|███▊      | 12/31 [00:09<00:15,  1.24it/s, train_loss=0.373]\n",
      "\u001b[Aining Batches:  39%|███▊      | 12/31 [00:10<00:15,  1.24it/s, train_loss=0.32] \n",
      "\u001b[Aining Batches:  42%|████▏     | 13/31 [00:10<00:14,  1.27it/s, train_loss=0.32]\n",
      "\u001b[Aining Batches:  42%|████▏     | 13/31 [00:11<00:14,  1.27it/s, train_loss=0.18]\n",
      "\u001b[Aining Batches:  45%|████▌     | 14/31 [00:11<00:13,  1.26it/s, train_loss=0.18]\n",
      "\u001b[Aining Batches:  45%|████▌     | 14/31 [00:12<00:13,  1.26it/s, train_loss=0.26]\n",
      "\u001b[Aining Batches:  48%|████▊     | 15/31 [00:12<00:12,  1.26it/s, train_loss=0.26]\n",
      "\u001b[Aining Batches:  48%|████▊     | 15/31 [00:12<00:12,  1.26it/s, train_loss=0.204]\n",
      "\u001b[Aining Batches:  52%|█████▏    | 16/31 [00:12<00:11,  1.27it/s, train_loss=0.204]\n",
      "\u001b[Aining Batches:  52%|█████▏    | 16/31 [00:13<00:11,  1.27it/s, train_loss=0.245]\n",
      "\u001b[Aining Batches:  55%|█████▍    | 17/31 [00:13<00:10,  1.28it/s, train_loss=0.245]\n",
      "\u001b[Aining Batches:  55%|█████▍    | 17/31 [00:14<00:10,  1.28it/s, train_loss=0.356]\n",
      "\u001b[Aining Batches:  58%|█████▊    | 18/31 [00:14<00:10,  1.27it/s, train_loss=0.356]\n",
      "\u001b[Aining Batches:  58%|█████▊    | 18/31 [00:15<00:10,  1.27it/s, train_loss=0.374]\n",
      "\u001b[Aining Batches:  61%|██████▏   | 19/31 [00:15<00:09,  1.27it/s, train_loss=0.374]\n",
      "\u001b[Aining Batches:  61%|██████▏   | 19/31 [00:16<00:09,  1.27it/s, train_loss=0.486]\n",
      "\u001b[Aining Batches:  65%|██████▍   | 20/31 [00:16<00:08,  1.24it/s, train_loss=0.486]\n",
      "\u001b[Aining Batches:  65%|██████▍   | 20/31 [00:16<00:08,  1.24it/s, train_loss=0.199]\n",
      "\u001b[Aining Batches:  68%|██████▊   | 21/31 [00:16<00:07,  1.26it/s, train_loss=0.199]\n",
      "\u001b[Aining Batches:  68%|██████▊   | 21/31 [00:17<00:07,  1.26it/s, train_loss=0.477]\n",
      "\u001b[Aining Batches:  71%|███████   | 22/31 [00:17<00:07,  1.27it/s, train_loss=0.477]\n",
      "\u001b[Aining Batches:  71%|███████   | 22/31 [00:18<00:07,  1.27it/s, train_loss=0.412]\n",
      "\u001b[Aining Batches:  74%|███████▍  | 23/31 [00:18<00:06,  1.26it/s, train_loss=0.412]\n",
      "\u001b[Aining Batches:  74%|███████▍  | 23/31 [00:19<00:06,  1.26it/s, train_loss=0.406]\n",
      "\u001b[Aining Batches:  77%|███████▋  | 24/31 [00:19<00:05,  1.27it/s, train_loss=0.406]\n",
      "\u001b[Aining Batches:  77%|███████▋  | 24/31 [00:19<00:05,  1.27it/s, train_loss=0.524]\n",
      "\u001b[Aining Batches:  81%|████████  | 25/31 [00:19<00:04,  1.25it/s, train_loss=0.524]\n",
      "\u001b[Aining Batches:  81%|████████  | 25/31 [00:20<00:04,  1.25it/s, train_loss=0.289]\n",
      "\u001b[Aining Batches:  84%|████████▍ | 26/31 [00:20<00:04,  1.25it/s, train_loss=0.289]\n",
      "\u001b[Aining Batches:  84%|████████▍ | 26/31 [00:21<00:04,  1.25it/s, train_loss=0.284]\n",
      "\u001b[Aining Batches:  87%|████████▋ | 27/31 [00:21<00:03,  1.26it/s, train_loss=0.284]\n",
      "\u001b[Aining Batches:  87%|████████▋ | 27/31 [00:22<00:03,  1.26it/s, train_loss=0.46] \n",
      "\u001b[Aining Batches:  90%|█████████ | 28/31 [00:22<00:02,  1.26it/s, train_loss=0.46]\n",
      "\u001b[Aining Batches:  90%|█████████ | 28/31 [00:23<00:02,  1.26it/s, train_loss=0.251]\n",
      "\u001b[Aining Batches:  94%|█████████▎| 29/31 [00:23<00:01,  1.25it/s, train_loss=0.251]\n",
      "\u001b[Aining Batches:  94%|█████████▎| 29/31 [00:23<00:01,  1.25it/s, train_loss=0.29] \n",
      "\u001b[Aining Batches:  97%|█████████▋| 30/31 [00:23<00:00,  1.23it/s, train_loss=0.29]\n",
      "\u001b[Aining Batches:  97%|█████████▋| 30/31 [00:24<00:00,  1.23it/s, train_loss=0.507]\n",
      "\u001b[Aining Batches: 100%|██████████| 31/31 [00:24<00:00,  1.52it/s, train_loss=0.507]\n",
      "\u001b[A                                                                                "
     ]
    },
    {
     "name": "stdout",
     "output_type": "stream",
     "text": [
      "epoch 29 average loss: 0.3251\n"
     ]
    },
    {
     "name": "stderr",
     "output_type": "stream",
     "text": [
      "Epochs:  41%|████▏     | 29/70 [12:06<16:56, 24.79s/it]"
     ]
    },
    {
     "name": "stdout",
     "output_type": "stream",
     "text": [
      "1\n",
      "current epoch: 29 current AUC: 0.9916 current accuracy: 0.8820 best AUC: 0.9930 at epoch: 11\n",
      "----------\n",
      "epoch 30/70\n"
     ]
    },
    {
     "name": "stderr",
     "output_type": "stream",
     "text": [
      "\n",
      "\u001b[Aining Batches:   0%|          | 0/31 [00:00<?, ?it/s]\n",
      "\u001b[Aining Batches:   0%|          | 0/31 [00:00<?, ?it/s, train_loss=0.288]\n",
      "\u001b[Aining Batches:   3%|▎         | 1/31 [00:00<00:23,  1.25it/s, train_loss=0.288]\n",
      "\u001b[Aining Batches:   3%|▎         | 1/31 [00:01<00:23,  1.25it/s, train_loss=0.267]\n",
      "\u001b[Aining Batches:   6%|▋         | 2/31 [00:01<00:22,  1.28it/s, train_loss=0.267]\n",
      "\u001b[Aining Batches:   6%|▋         | 2/31 [00:02<00:22,  1.28it/s, train_loss=0.318]\n",
      "\u001b[Aining Batches:  10%|▉         | 3/31 [00:02<00:22,  1.26it/s, train_loss=0.318]\n",
      "\u001b[Aining Batches:  10%|▉         | 3/31 [00:03<00:22,  1.26it/s, train_loss=0.425]\n",
      "\u001b[Aining Batches:  13%|█▎        | 4/31 [00:03<00:21,  1.28it/s, train_loss=0.425]\n",
      "\u001b[Aining Batches:  13%|█▎        | 4/31 [00:03<00:21,  1.28it/s, train_loss=0.275]\n",
      "\u001b[Aining Batches:  16%|█▌        | 5/31 [00:03<00:20,  1.26it/s, train_loss=0.275]\n",
      "\u001b[Aining Batches:  16%|█▌        | 5/31 [00:04<00:20,  1.26it/s, train_loss=0.269]\n",
      "\u001b[Aining Batches:  19%|█▉        | 6/31 [00:04<00:19,  1.26it/s, train_loss=0.269]\n",
      "\u001b[Aining Batches:  19%|█▉        | 6/31 [00:05<00:19,  1.26it/s, train_loss=0.484]\n",
      "\u001b[Aining Batches:  23%|██▎       | 7/31 [00:05<00:19,  1.26it/s, train_loss=0.484]\n",
      "\u001b[Aining Batches:  23%|██▎       | 7/31 [00:06<00:19,  1.26it/s, train_loss=0.507]\n",
      "\u001b[Aining Batches:  26%|██▌       | 8/31 [00:06<00:18,  1.25it/s, train_loss=0.507]\n",
      "\u001b[Aining Batches:  26%|██▌       | 8/31 [00:07<00:18,  1.25it/s, train_loss=0.243]\n",
      "\u001b[Aining Batches:  29%|██▉       | 9/31 [00:07<00:17,  1.24it/s, train_loss=0.243]\n",
      "\u001b[Aining Batches:  29%|██▉       | 9/31 [00:07<00:17,  1.24it/s, train_loss=0.371]\n",
      "\u001b[Aining Batches:  32%|███▏      | 10/31 [00:07<00:16,  1.26it/s, train_loss=0.371]\n",
      "\u001b[Aining Batches:  32%|███▏      | 10/31 [00:08<00:16,  1.26it/s, train_loss=0.205]\n",
      "\u001b[Aining Batches:  35%|███▌      | 11/31 [00:08<00:15,  1.25it/s, train_loss=0.205]\n",
      "\u001b[Aining Batches:  35%|███▌      | 11/31 [00:09<00:15,  1.25it/s, train_loss=0.459]\n",
      "\u001b[Aining Batches:  39%|███▊      | 12/31 [00:09<00:15,  1.26it/s, train_loss=0.459]\n",
      "\u001b[Aining Batches:  39%|███▊      | 12/31 [00:10<00:15,  1.26it/s, train_loss=0.342]\n",
      "\u001b[Aining Batches:  42%|████▏     | 13/31 [00:10<00:14,  1.25it/s, train_loss=0.342]\n",
      "\u001b[Aining Batches:  42%|████▏     | 13/31 [00:11<00:14,  1.25it/s, train_loss=0.384]\n",
      "\u001b[Aining Batches:  45%|████▌     | 14/31 [00:11<00:13,  1.25it/s, train_loss=0.384]\n",
      "\u001b[Aining Batches:  45%|████▌     | 14/31 [00:11<00:13,  1.25it/s, train_loss=0.301]\n",
      "\u001b[Aining Batches:  48%|████▊     | 15/31 [00:11<00:12,  1.24it/s, train_loss=0.301]\n",
      "\u001b[Aining Batches:  48%|████▊     | 15/31 [00:12<00:12,  1.24it/s, train_loss=0.38] \n",
      "\u001b[Aining Batches:  52%|█████▏    | 16/31 [00:12<00:12,  1.24it/s, train_loss=0.38]\n",
      "\u001b[Aining Batches:  52%|█████▏    | 16/31 [00:13<00:12,  1.24it/s, train_loss=0.314]\n",
      "\u001b[Aining Batches:  55%|█████▍    | 17/31 [00:13<00:11,  1.26it/s, train_loss=0.314]\n",
      "\u001b[Aining Batches:  55%|█████▍    | 17/31 [00:14<00:11,  1.26it/s, train_loss=0.255]\n",
      "\u001b[Aining Batches:  58%|█████▊    | 18/31 [00:14<00:10,  1.25it/s, train_loss=0.255]\n",
      "\u001b[Aining Batches:  58%|█████▊    | 18/31 [00:15<00:10,  1.25it/s, train_loss=0.4]  \n",
      "\u001b[Aining Batches:  61%|██████▏   | 19/31 [00:15<00:09,  1.23it/s, train_loss=0.4]\n",
      "\u001b[Aining Batches:  61%|██████▏   | 19/31 [00:15<00:09,  1.23it/s, train_loss=0.32]\n",
      "\u001b[Aining Batches:  65%|██████▍   | 20/31 [00:15<00:08,  1.26it/s, train_loss=0.32]\n",
      "\u001b[Aining Batches:  65%|██████▍   | 20/31 [00:16<00:08,  1.26it/s, train_loss=0.236]\n",
      "\u001b[Aining Batches:  68%|██████▊   | 21/31 [00:16<00:07,  1.27it/s, train_loss=0.236]\n",
      "\u001b[Aining Batches:  68%|██████▊   | 21/31 [00:17<00:07,  1.27it/s, train_loss=0.736]\n",
      "\u001b[Aining Batches:  71%|███████   | 22/31 [00:17<00:07,  1.26it/s, train_loss=0.736]\n",
      "\u001b[Aining Batches:  71%|███████   | 22/31 [00:18<00:07,  1.26it/s, train_loss=0.33] \n",
      "\u001b[Aining Batches:  74%|███████▍  | 23/31 [00:18<00:06,  1.27it/s, train_loss=0.33]\n",
      "\u001b[Aining Batches:  74%|███████▍  | 23/31 [00:19<00:06,  1.27it/s, train_loss=0.364]\n",
      "\u001b[Aining Batches:  77%|███████▋  | 24/31 [00:19<00:05,  1.26it/s, train_loss=0.364]\n",
      "\u001b[Aining Batches:  77%|███████▋  | 24/31 [00:19<00:05,  1.26it/s, train_loss=0.393]\n",
      "\u001b[Aining Batches:  81%|████████  | 25/31 [00:19<00:04,  1.25it/s, train_loss=0.393]\n",
      "\u001b[Aining Batches:  81%|████████  | 25/31 [00:20<00:04,  1.25it/s, train_loss=0.308]\n",
      "\u001b[Aining Batches:  84%|████████▍ | 26/31 [00:20<00:03,  1.27it/s, train_loss=0.308]\n",
      "\u001b[Aining Batches:  84%|████████▍ | 26/31 [00:21<00:03,  1.27it/s, train_loss=0.209]\n",
      "\u001b[Aining Batches:  87%|████████▋ | 27/31 [00:21<00:03,  1.28it/s, train_loss=0.209]\n",
      "\u001b[Aining Batches:  87%|████████▋ | 27/31 [00:22<00:03,  1.28it/s, train_loss=0.411]\n",
      "\u001b[Aining Batches:  90%|█████████ | 28/31 [00:22<00:02,  1.26it/s, train_loss=0.411]\n",
      "\u001b[Aining Batches:  90%|█████████ | 28/31 [00:23<00:02,  1.26it/s, train_loss=0.393]\n",
      "\u001b[Aining Batches:  94%|█████████▎| 29/31 [00:23<00:01,  1.25it/s, train_loss=0.393]\n",
      "\u001b[Aining Batches:  94%|█████████▎| 29/31 [00:23<00:01,  1.25it/s, train_loss=0.252]\n",
      "\u001b[Aining Batches:  97%|█████████▋| 30/31 [00:23<00:00,  1.25it/s, train_loss=0.252]\n",
      "\u001b[Aining Batches:  97%|█████████▋| 30/31 [00:24<00:00,  1.25it/s, train_loss=0.166]\n",
      "\u001b[Aining Batches: 100%|██████████| 31/31 [00:24<00:00,  1.56it/s, train_loss=0.166]\n",
      "\u001b[A                                                                                "
     ]
    },
    {
     "name": "stdout",
     "output_type": "stream",
     "text": [
      "epoch 30 average loss: 0.3422\n"
     ]
    },
    {
     "name": "stderr",
     "output_type": "stream",
     "text": [
      "Epochs:  43%|████▎     | 30/70 [12:31<16:31, 24.79s/it]"
     ]
    },
    {
     "name": "stdout",
     "output_type": "stream",
     "text": [
      "1\n",
      "current epoch: 30 current AUC: 0.9898 current accuracy: 0.8882 best AUC: 0.9930 at epoch: 11\n",
      "----------\n",
      "epoch 31/70\n"
     ]
    },
    {
     "name": "stderr",
     "output_type": "stream",
     "text": [
      "\n",
      "\u001b[Aining Batches:   0%|          | 0/31 [00:00<?, ?it/s]\n",
      "\u001b[Aining Batches:   0%|          | 0/31 [00:00<?, ?it/s, train_loss=0.236]\n",
      "\u001b[Aining Batches:   3%|▎         | 1/31 [00:00<00:22,  1.30it/s, train_loss=0.236]\n",
      "\u001b[Aining Batches:   3%|▎         | 1/31 [00:01<00:22,  1.30it/s, train_loss=0.366]\n",
      "\u001b[Aining Batches:   6%|▋         | 2/31 [00:01<00:21,  1.33it/s, train_loss=0.366]\n",
      "\u001b[Aining Batches:   6%|▋         | 2/31 [00:02<00:21,  1.33it/s, train_loss=0.266]\n",
      "\u001b[Aining Batches:  10%|▉         | 3/31 [00:02<00:22,  1.25it/s, train_loss=0.266]\n",
      "\u001b[Aining Batches:  10%|▉         | 3/31 [00:03<00:22,  1.25it/s, train_loss=0.373]\n",
      "\u001b[Aining Batches:  13%|█▎        | 4/31 [00:03<00:20,  1.30it/s, train_loss=0.373]\n",
      "\u001b[Aining Batches:  13%|█▎        | 4/31 [00:03<00:20,  1.30it/s, train_loss=0.309]\n",
      "\u001b[Aining Batches:  16%|█▌        | 5/31 [00:03<00:20,  1.30it/s, train_loss=0.309]\n",
      "\u001b[Aining Batches:  16%|█▌        | 5/31 [00:04<00:20,  1.30it/s, train_loss=0.23] \n",
      "\u001b[Aining Batches:  19%|█▉        | 6/31 [00:04<00:19,  1.28it/s, train_loss=0.23]\n",
      "\u001b[Aining Batches:  19%|█▉        | 6/31 [00:05<00:19,  1.28it/s, train_loss=0.207]\n",
      "\u001b[Aining Batches:  23%|██▎       | 7/31 [00:05<00:18,  1.27it/s, train_loss=0.207]\n",
      "\u001b[Aining Batches:  23%|██▎       | 7/31 [00:06<00:18,  1.27it/s, train_loss=0.328]\n",
      "\u001b[Aining Batches:  26%|██▌       | 8/31 [00:06<00:17,  1.29it/s, train_loss=0.328]\n",
      "\u001b[Aining Batches:  26%|██▌       | 8/31 [00:07<00:17,  1.29it/s, train_loss=0.26] \n",
      "\u001b[Aining Batches:  29%|██▉       | 9/31 [00:07<00:17,  1.28it/s, train_loss=0.26]\n",
      "\u001b[Aining Batches:  29%|██▉       | 9/31 [00:07<00:17,  1.28it/s, train_loss=0.377]\n",
      "\u001b[Aining Batches:  32%|███▏      | 10/31 [00:07<00:16,  1.27it/s, train_loss=0.377]\n",
      "\u001b[Aining Batches:  32%|███▏      | 10/31 [00:08<00:16,  1.27it/s, train_loss=0.248]\n",
      "\u001b[Aining Batches:  35%|███▌      | 11/31 [00:08<00:15,  1.25it/s, train_loss=0.248]\n",
      "\u001b[Aining Batches:  35%|███▌      | 11/31 [00:09<00:15,  1.25it/s, train_loss=0.237]\n",
      "\u001b[Aining Batches:  39%|███▊      | 12/31 [00:09<00:15,  1.24it/s, train_loss=0.237]\n",
      "\u001b[Aining Batches:  39%|███▊      | 12/31 [00:10<00:15,  1.24it/s, train_loss=0.229]\n",
      "\u001b[Aining Batches:  42%|████▏     | 13/31 [00:10<00:14,  1.26it/s, train_loss=0.229]\n",
      "\u001b[Aining Batches:  42%|████▏     | 13/31 [00:10<00:14,  1.26it/s, train_loss=0.238]\n",
      "\u001b[Aining Batches:  45%|████▌     | 14/31 [00:10<00:13,  1.29it/s, train_loss=0.238]\n",
      "\u001b[Aining Batches:  45%|████▌     | 14/31 [00:11<00:13,  1.29it/s, train_loss=0.174]\n",
      "\u001b[Aining Batches:  48%|████▊     | 15/31 [00:11<00:12,  1.29it/s, train_loss=0.174]\n",
      "\u001b[Aining Batches:  48%|████▊     | 15/31 [00:12<00:12,  1.29it/s, train_loss=0.191]\n",
      "\u001b[Aining Batches:  52%|█████▏    | 16/31 [00:12<00:11,  1.26it/s, train_loss=0.191]\n",
      "\u001b[Aining Batches:  52%|█████▏    | 16/31 [00:13<00:11,  1.26it/s, train_loss=0.235]\n",
      "\u001b[Aining Batches:  55%|█████▍    | 17/31 [00:13<00:10,  1.27it/s, train_loss=0.235]\n",
      "\u001b[Aining Batches:  55%|█████▍    | 17/31 [00:14<00:10,  1.27it/s, train_loss=0.576]\n",
      "\u001b[Aining Batches:  58%|█████▊    | 18/31 [00:14<00:10,  1.26it/s, train_loss=0.576]\n",
      "\u001b[Aining Batches:  58%|█████▊    | 18/31 [00:15<00:10,  1.26it/s, train_loss=0.265]\n",
      "\u001b[Aining Batches:  61%|██████▏   | 19/31 [00:15<00:09,  1.23it/s, train_loss=0.265]\n",
      "\u001b[Aining Batches:  61%|██████▏   | 19/31 [00:15<00:09,  1.23it/s, train_loss=0.393]\n",
      "\u001b[Aining Batches:  65%|██████▍   | 20/31 [00:15<00:08,  1.26it/s, train_loss=0.393]\n",
      "\u001b[Aining Batches:  65%|██████▍   | 20/31 [00:16<00:08,  1.26it/s, train_loss=0.405]\n",
      "\u001b[Aining Batches:  68%|██████▊   | 21/31 [00:16<00:07,  1.28it/s, train_loss=0.405]\n",
      "\u001b[Aining Batches:  68%|██████▊   | 21/31 [00:17<00:07,  1.28it/s, train_loss=0.311]\n",
      "\u001b[Aining Batches:  71%|███████   | 22/31 [00:17<00:07,  1.28it/s, train_loss=0.311]\n",
      "\u001b[Aining Batches:  71%|███████   | 22/31 [00:18<00:07,  1.28it/s, train_loss=0.442]\n",
      "\u001b[Aining Batches:  74%|███████▍  | 23/31 [00:18<00:06,  1.25it/s, train_loss=0.442]\n",
      "\u001b[Aining Batches:  74%|███████▍  | 23/31 [00:18<00:06,  1.25it/s, train_loss=0.275]\n",
      "\u001b[Aining Batches:  77%|███████▋  | 24/31 [00:18<00:05,  1.27it/s, train_loss=0.275]\n",
      "\u001b[Aining Batches:  77%|███████▋  | 24/31 [00:19<00:05,  1.27it/s, train_loss=0.208]\n",
      "\u001b[Aining Batches:  81%|████████  | 25/31 [00:19<00:04,  1.25it/s, train_loss=0.208]\n",
      "\u001b[Aining Batches:  81%|████████  | 25/31 [00:20<00:04,  1.25it/s, train_loss=0.334]\n",
      "\u001b[Aining Batches:  84%|████████▍ | 26/31 [00:20<00:03,  1.27it/s, train_loss=0.334]\n",
      "\u001b[Aining Batches:  84%|████████▍ | 26/31 [00:21<00:03,  1.27it/s, train_loss=0.383]\n",
      "\u001b[Aining Batches:  87%|████████▋ | 27/31 [00:21<00:03,  1.25it/s, train_loss=0.383]\n",
      "\u001b[Aining Batches:  87%|████████▋ | 27/31 [00:22<00:03,  1.25it/s, train_loss=0.236]\n",
      "\u001b[Aining Batches:  90%|█████████ | 28/31 [00:22<00:02,  1.22it/s, train_loss=0.236]\n",
      "\u001b[Aining Batches:  90%|█████████ | 28/31 [00:22<00:02,  1.22it/s, train_loss=0.241]\n",
      "\u001b[Aining Batches:  94%|█████████▎| 29/31 [00:22<00:01,  1.25it/s, train_loss=0.241]\n",
      "\u001b[Aining Batches:  94%|█████████▎| 29/31 [00:23<00:01,  1.25it/s, train_loss=0.653]\n",
      "\u001b[Aining Batches:  97%|█████████▋| 30/31 [00:23<00:00,  1.23it/s, train_loss=0.653]\n",
      "\u001b[Aining Batches:  97%|█████████▋| 30/31 [00:24<00:00,  1.23it/s, train_loss=0.513]\n",
      "\u001b[Aining Batches: 100%|██████████| 31/31 [00:24<00:00,  1.56it/s, train_loss=0.513]\n",
      "\u001b[A                                                                                "
     ]
    },
    {
     "name": "stdout",
     "output_type": "stream",
     "text": [
      "epoch 31 average loss: 0.3142\n"
     ]
    },
    {
     "name": "stderr",
     "output_type": "stream",
     "text": [
      "Epochs:  44%|████▍     | 31/70 [12:55<16:04, 24.74s/it]"
     ]
    },
    {
     "name": "stdout",
     "output_type": "stream",
     "text": [
      "1\n",
      "current epoch: 31 current AUC: 0.9909 current accuracy: 0.8882 best AUC: 0.9930 at epoch: 11\n",
      "----------\n",
      "epoch 32/70\n"
     ]
    },
    {
     "name": "stderr",
     "output_type": "stream",
     "text": [
      "\n",
      "\u001b[Aining Batches:   0%|          | 0/31 [00:00<?, ?it/s]\n",
      "\u001b[Aining Batches:   0%|          | 0/31 [00:00<?, ?it/s, train_loss=0.188]\n",
      "\u001b[Aining Batches:   3%|▎         | 1/31 [00:00<00:22,  1.32it/s, train_loss=0.188]\n",
      "\u001b[Aining Batches:   3%|▎         | 1/31 [00:01<00:22,  1.32it/s, train_loss=0.323]\n",
      "\u001b[Aining Batches:   6%|▋         | 2/31 [00:01<00:22,  1.31it/s, train_loss=0.323]\n",
      "\u001b[Aining Batches:   6%|▋         | 2/31 [00:02<00:22,  1.31it/s, train_loss=0.199]\n",
      "\u001b[Aining Batches:  10%|▉         | 3/31 [00:02<00:22,  1.26it/s, train_loss=0.199]\n",
      "\u001b[Aining Batches:  10%|▉         | 3/31 [00:03<00:22,  1.26it/s, train_loss=0.32] \n",
      "\u001b[Aining Batches:  13%|█▎        | 4/31 [00:03<00:21,  1.26it/s, train_loss=0.32]\n",
      "\u001b[Aining Batches:  13%|█▎        | 4/31 [00:03<00:21,  1.26it/s, train_loss=0.312]\n",
      "\u001b[Aining Batches:  16%|█▌        | 5/31 [00:03<00:20,  1.27it/s, train_loss=0.312]\n",
      "\u001b[Aining Batches:  16%|█▌        | 5/31 [00:04<00:20,  1.27it/s, train_loss=0.324]\n",
      "\u001b[Aining Batches:  19%|█▉        | 6/31 [00:04<00:19,  1.28it/s, train_loss=0.324]\n",
      "\u001b[Aining Batches:  19%|█▉        | 6/31 [00:05<00:19,  1.28it/s, train_loss=0.531]\n",
      "\u001b[Aining Batches:  23%|██▎       | 7/31 [00:05<00:18,  1.28it/s, train_loss=0.531]\n",
      "\u001b[Aining Batches:  23%|██▎       | 7/31 [00:06<00:18,  1.28it/s, train_loss=0.307]\n",
      "\u001b[Aining Batches:  26%|██▌       | 8/31 [00:06<00:18,  1.25it/s, train_loss=0.307]\n",
      "\u001b[Aining Batches:  26%|██▌       | 8/31 [00:07<00:18,  1.25it/s, train_loss=0.209]\n",
      "\u001b[Aining Batches:  29%|██▉       | 9/31 [00:07<00:17,  1.26it/s, train_loss=0.209]\n",
      "\u001b[Aining Batches:  29%|██▉       | 9/31 [00:07<00:17,  1.26it/s, train_loss=0.234]\n",
      "\u001b[Aining Batches:  32%|███▏      | 10/31 [00:07<00:16,  1.24it/s, train_loss=0.234]\n",
      "\u001b[Aining Batches:  32%|███▏      | 10/31 [00:08<00:16,  1.24it/s, train_loss=0.284]\n",
      "\u001b[Aining Batches:  35%|███▌      | 11/31 [00:08<00:15,  1.26it/s, train_loss=0.284]\n",
      "\u001b[Aining Batches:  35%|███▌      | 11/31 [00:09<00:15,  1.26it/s, train_loss=0.294]\n",
      "\u001b[Aining Batches:  39%|███▊      | 12/31 [00:09<00:15,  1.24it/s, train_loss=0.294]\n",
      "\u001b[Aining Batches:  39%|███▊      | 12/31 [00:10<00:15,  1.24it/s, train_loss=0.364]\n",
      "\u001b[Aining Batches:  42%|████▏     | 13/31 [00:10<00:14,  1.23it/s, train_loss=0.364]\n",
      "\u001b[Aining Batches:  42%|████▏     | 13/31 [00:11<00:14,  1.23it/s, train_loss=0.289]\n",
      "\u001b[Aining Batches:  45%|████▌     | 14/31 [00:11<00:13,  1.24it/s, train_loss=0.289]\n",
      "\u001b[Aining Batches:  45%|████▌     | 14/31 [00:11<00:13,  1.24it/s, train_loss=0.322]\n",
      "\u001b[Aining Batches:  48%|████▊     | 15/31 [00:11<00:12,  1.24it/s, train_loss=0.322]\n",
      "\u001b[Aining Batches:  48%|████▊     | 15/31 [00:12<00:12,  1.24it/s, train_loss=0.234]\n",
      "\u001b[Aining Batches:  52%|█████▏    | 16/31 [00:12<00:11,  1.26it/s, train_loss=0.234]\n",
      "\u001b[Aining Batches:  52%|█████▏    | 16/31 [00:13<00:11,  1.26it/s, train_loss=0.352]\n",
      "\u001b[Aining Batches:  55%|█████▍    | 17/31 [00:13<00:11,  1.23it/s, train_loss=0.352]\n",
      "\u001b[Aining Batches:  55%|█████▍    | 17/31 [00:14<00:11,  1.23it/s, train_loss=0.306]\n",
      "\u001b[Aining Batches:  58%|█████▊    | 18/31 [00:14<00:10,  1.23it/s, train_loss=0.306]\n",
      "\u001b[Aining Batches:  58%|█████▊    | 18/31 [00:15<00:10,  1.23it/s, train_loss=0.182]\n",
      "\u001b[Aining Batches:  61%|██████▏   | 19/31 [00:15<00:09,  1.24it/s, train_loss=0.182]\n",
      "\u001b[Aining Batches:  61%|██████▏   | 19/31 [00:16<00:09,  1.24it/s, train_loss=0.356]\n",
      "\u001b[Aining Batches:  65%|██████▍   | 20/31 [00:16<00:08,  1.23it/s, train_loss=0.356]\n",
      "\u001b[Aining Batches:  65%|██████▍   | 20/31 [00:16<00:08,  1.23it/s, train_loss=0.736]\n",
      "\u001b[Aining Batches:  68%|██████▊   | 21/31 [00:16<00:08,  1.21it/s, train_loss=0.736]\n",
      "\u001b[Aining Batches:  68%|██████▊   | 21/31 [00:17<00:08,  1.21it/s, train_loss=0.412]\n",
      "\u001b[Aining Batches:  71%|███████   | 22/31 [00:17<00:07,  1.23it/s, train_loss=0.412]\n",
      "\u001b[Aining Batches:  71%|███████   | 22/31 [00:18<00:07,  1.23it/s, train_loss=0.379]\n",
      "\u001b[Aining Batches:  74%|███████▍  | 23/31 [00:18<00:06,  1.23it/s, train_loss=0.379]\n",
      "\u001b[Aining Batches:  74%|███████▍  | 23/31 [00:19<00:06,  1.23it/s, train_loss=0.187]\n",
      "\u001b[Aining Batches:  77%|███████▋  | 24/31 [00:19<00:05,  1.24it/s, train_loss=0.187]\n",
      "\u001b[Aining Batches:  77%|███████▋  | 24/31 [00:20<00:05,  1.24it/s, train_loss=0.278]\n",
      "\u001b[Aining Batches:  81%|████████  | 25/31 [00:20<00:04,  1.24it/s, train_loss=0.278]\n",
      "\u001b[Aining Batches:  81%|████████  | 25/31 [00:20<00:04,  1.24it/s, train_loss=0.258]\n",
      "\u001b[Aining Batches:  84%|████████▍ | 26/31 [00:20<00:03,  1.25it/s, train_loss=0.258]\n",
      "\u001b[Aining Batches:  84%|████████▍ | 26/31 [00:21<00:03,  1.25it/s, train_loss=0.386]\n",
      "\u001b[Aining Batches:  87%|████████▋ | 27/31 [00:21<00:03,  1.27it/s, train_loss=0.386]\n",
      "\u001b[Aining Batches:  87%|████████▋ | 27/31 [00:22<00:03,  1.27it/s, train_loss=0.283]\n",
      "\u001b[Aining Batches:  90%|█████████ | 28/31 [00:22<00:02,  1.27it/s, train_loss=0.283]\n",
      "\u001b[Aining Batches:  90%|█████████ | 28/31 [00:23<00:02,  1.27it/s, train_loss=0.27] \n",
      "\u001b[Aining Batches:  94%|█████████▎| 29/31 [00:23<00:01,  1.28it/s, train_loss=0.27]\n",
      "\u001b[Aining Batches:  94%|█████████▎| 29/31 [00:23<00:01,  1.28it/s, train_loss=0.262]\n",
      "\u001b[Aining Batches:  97%|█████████▋| 30/31 [00:23<00:00,  1.27it/s, train_loss=0.262]\n",
      "\u001b[Aining Batches:  97%|█████████▋| 30/31 [00:24<00:00,  1.27it/s, train_loss=0.335]\n",
      "\u001b[Aining Batches: 100%|██████████| 31/31 [00:24<00:00,  1.59it/s, train_loss=0.335]\n",
      "\u001b[A                                                                                "
     ]
    },
    {
     "name": "stdout",
     "output_type": "stream",
     "text": [
      "epoch 32 average loss: 0.3133\n"
     ]
    },
    {
     "name": "stderr",
     "output_type": "stream",
     "text": [
      "Epochs:  46%|████▌     | 32/70 [13:20<15:40, 24.76s/it]"
     ]
    },
    {
     "name": "stdout",
     "output_type": "stream",
     "text": [
      "1\n",
      "current epoch: 32 current AUC: 0.9890 current accuracy: 0.8385 best AUC: 0.9930 at epoch: 11\n",
      "----------\n",
      "epoch 33/70\n"
     ]
    },
    {
     "name": "stderr",
     "output_type": "stream",
     "text": [
      "\n",
      "\u001b[Aining Batches:   0%|          | 0/31 [00:00<?, ?it/s]\n",
      "\u001b[Aining Batches:   0%|          | 0/31 [00:00<?, ?it/s, train_loss=0.205]\n",
      "\u001b[Aining Batches:   3%|▎         | 1/31 [00:00<00:22,  1.32it/s, train_loss=0.205]\n",
      "\u001b[Aining Batches:   3%|▎         | 1/31 [00:01<00:22,  1.32it/s, train_loss=0.256]\n",
      "\u001b[Aining Batches:   6%|▋         | 2/31 [00:01<00:23,  1.24it/s, train_loss=0.256]\n",
      "\u001b[Aining Batches:   6%|▋         | 2/31 [00:02<00:23,  1.24it/s, train_loss=0.338]\n",
      "\u001b[Aining Batches:  10%|▉         | 3/31 [00:02<00:22,  1.26it/s, train_loss=0.338]\n",
      "\u001b[Aining Batches:  10%|▉         | 3/31 [00:03<00:22,  1.26it/s, train_loss=0.42] \n",
      "\u001b[Aining Batches:  13%|█▎        | 4/31 [00:03<00:21,  1.27it/s, train_loss=0.42]\n",
      "\u001b[Aining Batches:  13%|█▎        | 4/31 [00:03<00:21,  1.27it/s, train_loss=0.257]\n",
      "\u001b[Aining Batches:  16%|█▌        | 5/31 [00:04<00:21,  1.24it/s, train_loss=0.257]\n",
      "\u001b[Aining Batches:  16%|█▌        | 5/31 [00:04<00:21,  1.24it/s, train_loss=0.279]\n",
      "\u001b[Aining Batches:  19%|█▉        | 6/31 [00:04<00:20,  1.24it/s, train_loss=0.279]\n",
      "\u001b[Aining Batches:  19%|█▉        | 6/31 [00:05<00:20,  1.24it/s, train_loss=0.226]\n",
      "\u001b[Aining Batches:  23%|██▎       | 7/31 [00:05<00:19,  1.25it/s, train_loss=0.226]\n",
      "\u001b[Aining Batches:  23%|██▎       | 7/31 [00:06<00:19,  1.25it/s, train_loss=0.531]\n",
      "\u001b[Aining Batches:  26%|██▌       | 8/31 [00:06<00:18,  1.25it/s, train_loss=0.531]\n",
      "\u001b[Aining Batches:  26%|██▌       | 8/31 [00:07<00:18,  1.25it/s, train_loss=0.208]\n",
      "\u001b[Aining Batches:  29%|██▉       | 9/31 [00:07<00:17,  1.26it/s, train_loss=0.208]\n",
      "\u001b[Aining Batches:  29%|██▉       | 9/31 [00:08<00:17,  1.26it/s, train_loss=0.191]\n",
      "\u001b[Aining Batches:  32%|███▏      | 10/31 [00:08<00:17,  1.21it/s, train_loss=0.191]\n",
      "\u001b[Aining Batches:  32%|███▏      | 10/31 [00:08<00:17,  1.21it/s, train_loss=0.156]\n",
      "\u001b[Aining Batches:  35%|███▌      | 11/31 [00:08<00:16,  1.23it/s, train_loss=0.156]\n",
      "\u001b[Aining Batches:  35%|███▌      | 11/31 [00:09<00:16,  1.23it/s, train_loss=0.276]\n",
      "\u001b[Aining Batches:  39%|███▊      | 12/31 [00:09<00:15,  1.21it/s, train_loss=0.276]\n",
      "\u001b[Aining Batches:  39%|███▊      | 12/31 [00:10<00:15,  1.21it/s, train_loss=0.228]\n",
      "\u001b[Aining Batches:  42%|████▏     | 13/31 [00:10<00:14,  1.23it/s, train_loss=0.228]\n",
      "\u001b[Aining Batches:  42%|████▏     | 13/31 [00:11<00:14,  1.23it/s, train_loss=0.49] \n",
      "\u001b[Aining Batches:  45%|████▌     | 14/31 [00:11<00:13,  1.25it/s, train_loss=0.49]\n",
      "\u001b[Aining Batches:  45%|████▌     | 14/31 [00:12<00:13,  1.25it/s, train_loss=0.369]\n",
      "\u001b[Aining Batches:  48%|████▊     | 15/31 [00:12<00:13,  1.23it/s, train_loss=0.369]\n",
      "\u001b[Aining Batches:  48%|████▊     | 15/31 [00:12<00:13,  1.23it/s, train_loss=0.433]\n",
      "\u001b[Aining Batches:  52%|█████▏    | 16/31 [00:12<00:12,  1.24it/s, train_loss=0.433]\n",
      "\u001b[Aining Batches:  52%|█████▏    | 16/31 [00:13<00:12,  1.24it/s, train_loss=0.25] \n",
      "\u001b[Aining Batches:  55%|█████▍    | 17/31 [00:13<00:11,  1.24it/s, train_loss=0.25]\n",
      "\u001b[Aining Batches:  55%|█████▍    | 17/31 [00:14<00:11,  1.24it/s, train_loss=0.373]\n",
      "\u001b[Aining Batches:  58%|█████▊    | 18/31 [00:14<00:10,  1.26it/s, train_loss=0.373]\n",
      "\u001b[Aining Batches:  58%|█████▊    | 18/31 [00:15<00:10,  1.26it/s, train_loss=0.214]\n",
      "\u001b[Aining Batches:  61%|██████▏   | 19/31 [00:15<00:09,  1.23it/s, train_loss=0.214]\n",
      "\u001b[Aining Batches:  61%|██████▏   | 19/31 [00:16<00:09,  1.23it/s, train_loss=0.318]\n",
      "\u001b[Aining Batches:  65%|██████▍   | 20/31 [00:16<00:08,  1.22it/s, train_loss=0.318]\n",
      "\u001b[Aining Batches:  65%|██████▍   | 20/31 [00:16<00:08,  1.22it/s, train_loss=0.215]\n",
      "\u001b[Aining Batches:  68%|██████▊   | 21/31 [00:16<00:08,  1.25it/s, train_loss=0.215]\n",
      "\u001b[Aining Batches:  68%|██████▊   | 21/31 [00:17<00:08,  1.25it/s, train_loss=0.41] \n",
      "\u001b[Aining Batches:  71%|███████   | 22/31 [00:17<00:07,  1.26it/s, train_loss=0.41]\n",
      "\u001b[Aining Batches:  71%|███████   | 22/31 [00:18<00:07,  1.26it/s, train_loss=0.202]\n",
      "\u001b[Aining Batches:  74%|███████▍  | 23/31 [00:18<00:06,  1.26it/s, train_loss=0.202]\n",
      "\u001b[Aining Batches:  74%|███████▍  | 23/31 [00:19<00:06,  1.26it/s, train_loss=0.233]\n",
      "\u001b[Aining Batches:  77%|███████▋  | 24/31 [00:19<00:05,  1.25it/s, train_loss=0.233]\n",
      "\u001b[Aining Batches:  77%|███████▋  | 24/31 [00:20<00:05,  1.25it/s, train_loss=0.385]\n",
      "\u001b[Aining Batches:  81%|████████  | 25/31 [00:20<00:04,  1.25it/s, train_loss=0.385]\n",
      "\u001b[Aining Batches:  81%|████████  | 25/31 [00:20<00:04,  1.25it/s, train_loss=0.282]\n",
      "\u001b[Aining Batches:  84%|████████▍ | 26/31 [00:20<00:04,  1.22it/s, train_loss=0.282]\n",
      "\u001b[Aining Batches:  84%|████████▍ | 26/31 [00:21<00:04,  1.22it/s, train_loss=0.178]\n",
      "\u001b[Aining Batches:  87%|████████▋ | 27/31 [00:21<00:03,  1.24it/s, train_loss=0.178]\n",
      "\u001b[Aining Batches:  87%|████████▋ | 27/31 [00:22<00:03,  1.24it/s, train_loss=0.276]\n",
      "\u001b[Aining Batches:  90%|█████████ | 28/31 [00:22<00:02,  1.28it/s, train_loss=0.276]\n",
      "\u001b[Aining Batches:  90%|█████████ | 28/31 [00:23<00:02,  1.28it/s, train_loss=0.421]\n",
      "\u001b[Aining Batches:  94%|█████████▎| 29/31 [00:23<00:01,  1.26it/s, train_loss=0.421]\n",
      "\u001b[Aining Batches:  94%|█████████▎| 29/31 [00:24<00:01,  1.26it/s, train_loss=0.17] \n",
      "\u001b[Aining Batches:  97%|█████████▋| 30/31 [00:24<00:00,  1.28it/s, train_loss=0.17]\n",
      "\u001b[Aining Batches:  97%|█████████▋| 30/31 [00:24<00:00,  1.28it/s, train_loss=0.713]\n",
      "\u001b[Aining Batches: 100%|██████████| 31/31 [00:24<00:00,  1.59it/s, train_loss=0.713]\n",
      "\u001b[A                                                                                "
     ]
    },
    {
     "name": "stdout",
     "output_type": "stream",
     "text": [
      "epoch 33 average loss: 0.3065\n"
     ]
    },
    {
     "name": "stderr",
     "output_type": "stream",
     "text": [
      "Epochs:  47%|████▋     | 33/70 [13:45<15:17, 24.81s/it]"
     ]
    },
    {
     "name": "stdout",
     "output_type": "stream",
     "text": [
      "1\n",
      "current epoch: 33 current AUC: 0.9911 current accuracy: 0.8882 best AUC: 0.9930 at epoch: 11\n",
      "----------\n",
      "epoch 34/70\n"
     ]
    },
    {
     "name": "stderr",
     "output_type": "stream",
     "text": [
      "\n",
      "\u001b[Aining Batches:   0%|          | 0/31 [00:00<?, ?it/s]\n",
      "\u001b[Aining Batches:   0%|          | 0/31 [00:00<?, ?it/s, train_loss=0.223]\n",
      "\u001b[Aining Batches:   3%|▎         | 1/31 [00:00<00:23,  1.25it/s, train_loss=0.223]\n",
      "\u001b[Aining Batches:   3%|▎         | 1/31 [00:01<00:23,  1.25it/s, train_loss=0.31] \n",
      "\u001b[Aining Batches:   6%|▋         | 2/31 [00:01<00:23,  1.23it/s, train_loss=0.31]\n",
      "\u001b[Aining Batches:   6%|▋         | 2/31 [00:02<00:23,  1.23it/s, train_loss=0.33]\n",
      "\u001b[Aining Batches:  10%|▉         | 3/31 [00:02<00:22,  1.24it/s, train_loss=0.33]\n",
      "\u001b[Aining Batches:  10%|▉         | 3/31 [00:03<00:22,  1.24it/s, train_loss=0.364]\n",
      "\u001b[Aining Batches:  13%|█▎        | 4/31 [00:03<00:22,  1.23it/s, train_loss=0.364]\n",
      "\u001b[Aining Batches:  13%|█▎        | 4/31 [00:04<00:22,  1.23it/s, train_loss=0.375]\n",
      "\u001b[Aining Batches:  16%|█▌        | 5/31 [00:04<00:21,  1.22it/s, train_loss=0.375]\n",
      "\u001b[Aining Batches:  16%|█▌        | 5/31 [00:04<00:21,  1.22it/s, train_loss=0.302]\n",
      "\u001b[Aining Batches:  19%|█▉        | 6/31 [00:04<00:20,  1.24it/s, train_loss=0.302]\n",
      "\u001b[Aining Batches:  19%|█▉        | 6/31 [00:05<00:20,  1.24it/s, train_loss=0.285]\n",
      "\u001b[Aining Batches:  23%|██▎       | 7/31 [00:05<00:19,  1.26it/s, train_loss=0.285]\n",
      "\u001b[Aining Batches:  23%|██▎       | 7/31 [00:06<00:19,  1.26it/s, train_loss=0.294]\n",
      "\u001b[Aining Batches:  26%|██▌       | 8/31 [00:06<00:17,  1.28it/s, train_loss=0.294]\n",
      "\u001b[Aining Batches:  26%|██▌       | 8/31 [00:07<00:17,  1.28it/s, train_loss=0.315]\n",
      "\u001b[Aining Batches:  29%|██▉       | 9/31 [00:07<00:17,  1.29it/s, train_loss=0.315]\n",
      "\u001b[Aining Batches:  29%|██▉       | 9/31 [00:07<00:17,  1.29it/s, train_loss=0.25] \n",
      "\u001b[Aining Batches:  32%|███▏      | 10/31 [00:07<00:16,  1.29it/s, train_loss=0.25]\n",
      "\u001b[Aining Batches:  32%|███▏      | 10/31 [00:08<00:16,  1.29it/s, train_loss=0.427]\n",
      "\u001b[Aining Batches:  35%|███▌      | 11/31 [00:08<00:15,  1.27it/s, train_loss=0.427]\n",
      "\u001b[Aining Batches:  35%|███▌      | 11/31 [00:09<00:15,  1.27it/s, train_loss=0.205]\n",
      "\u001b[Aining Batches:  39%|███▊      | 12/31 [00:09<00:15,  1.26it/s, train_loss=0.205]\n",
      "\u001b[Aining Batches:  39%|███▊      | 12/31 [00:10<00:15,  1.26it/s, train_loss=0.237]\n",
      "\u001b[Aining Batches:  42%|████▏     | 13/31 [00:10<00:14,  1.25it/s, train_loss=0.237]\n",
      "\u001b[Aining Batches:  42%|████▏     | 13/31 [00:11<00:14,  1.25it/s, train_loss=0.299]\n",
      "\u001b[Aining Batches:  45%|████▌     | 14/31 [00:11<00:13,  1.26it/s, train_loss=0.299]\n",
      "\u001b[Aining Batches:  45%|████▌     | 14/31 [00:11<00:13,  1.26it/s, train_loss=0.262]\n",
      "\u001b[Aining Batches:  48%|████▊     | 15/31 [00:11<00:12,  1.27it/s, train_loss=0.262]\n",
      "\u001b[Aining Batches:  48%|████▊     | 15/31 [00:12<00:12,  1.27it/s, train_loss=0.249]\n",
      "\u001b[Aining Batches:  52%|█████▏    | 16/31 [00:12<00:11,  1.27it/s, train_loss=0.249]\n",
      "\u001b[Aining Batches:  52%|█████▏    | 16/31 [00:13<00:11,  1.27it/s, train_loss=0.188]\n",
      "\u001b[Aining Batches:  55%|█████▍    | 17/31 [00:13<00:11,  1.25it/s, train_loss=0.188]\n",
      "\u001b[Aining Batches:  55%|█████▍    | 17/31 [00:14<00:11,  1.25it/s, train_loss=0.217]\n",
      "\u001b[Aining Batches:  58%|█████▊    | 18/31 [00:14<00:10,  1.25it/s, train_loss=0.217]\n",
      "\u001b[Aining Batches:  58%|█████▊    | 18/31 [00:15<00:10,  1.25it/s, train_loss=0.242]\n",
      "\u001b[Aining Batches:  61%|██████▏   | 19/31 [00:15<00:09,  1.27it/s, train_loss=0.242]\n",
      "\u001b[Aining Batches:  61%|██████▏   | 19/31 [00:15<00:09,  1.27it/s, train_loss=0.18] \n",
      "\u001b[Aining Batches:  65%|██████▍   | 20/31 [00:15<00:08,  1.24it/s, train_loss=0.18]\n",
      "\u001b[Aining Batches:  65%|██████▍   | 20/31 [00:16<00:08,  1.24it/s, train_loss=0.151]\n",
      "\u001b[Aining Batches:  68%|██████▊   | 21/31 [00:16<00:07,  1.28it/s, train_loss=0.151]\n",
      "\u001b[Aining Batches:  68%|██████▊   | 21/31 [00:17<00:07,  1.28it/s, train_loss=0.423]\n",
      "\u001b[Aining Batches:  71%|███████   | 22/31 [00:17<00:07,  1.29it/s, train_loss=0.423]\n",
      "\u001b[Aining Batches:  71%|███████   | 22/31 [00:18<00:07,  1.29it/s, train_loss=0.361]\n",
      "\u001b[Aining Batches:  74%|███████▍  | 23/31 [00:18<00:06,  1.25it/s, train_loss=0.361]\n",
      "\u001b[Aining Batches:  74%|███████▍  | 23/31 [00:19<00:06,  1.25it/s, train_loss=0.243]\n",
      "\u001b[Aining Batches:  77%|███████▋  | 24/31 [00:19<00:05,  1.25it/s, train_loss=0.243]\n",
      "\u001b[Aining Batches:  77%|███████▋  | 24/31 [00:19<00:05,  1.25it/s, train_loss=0.297]\n",
      "\u001b[Aining Batches:  81%|████████  | 25/31 [00:19<00:04,  1.24it/s, train_loss=0.297]\n",
      "\u001b[Aining Batches:  81%|████████  | 25/31 [00:20<00:04,  1.24it/s, train_loss=0.296]\n",
      "\u001b[Aining Batches:  84%|████████▍ | 26/31 [00:20<00:04,  1.24it/s, train_loss=0.296]\n",
      "\u001b[Aining Batches:  84%|████████▍ | 26/31 [00:21<00:04,  1.24it/s, train_loss=0.412]\n",
      "\u001b[Aining Batches:  87%|████████▋ | 27/31 [00:21<00:03,  1.24it/s, train_loss=0.412]\n",
      "\u001b[Aining Batches:  87%|████████▋ | 27/31 [00:22<00:03,  1.24it/s, train_loss=0.286]\n",
      "\u001b[Aining Batches:  90%|█████████ | 28/31 [00:22<00:02,  1.24it/s, train_loss=0.286]\n",
      "\u001b[Aining Batches:  90%|█████████ | 28/31 [00:23<00:02,  1.24it/s, train_loss=0.205]\n",
      "\u001b[Aining Batches:  94%|█████████▎| 29/31 [00:23<00:01,  1.26it/s, train_loss=0.205]\n",
      "\u001b[Aining Batches:  94%|█████████▎| 29/31 [00:23<00:01,  1.26it/s, train_loss=0.328]\n",
      "\u001b[Aining Batches:  97%|█████████▋| 30/31 [00:23<00:00,  1.26it/s, train_loss=0.328]\n",
      "\u001b[Aining Batches:  97%|█████████▋| 30/31 [00:24<00:00,  1.26it/s, train_loss=0.521]\n",
      "\u001b[Aining Batches: 100%|██████████| 31/31 [00:24<00:00,  1.57it/s, train_loss=0.521]\n",
      "\u001b[A                                                                                "
     ]
    },
    {
     "name": "stdout",
     "output_type": "stream",
     "text": [
      "epoch 34 average loss: 0.2929\n"
     ]
    },
    {
     "name": "stderr",
     "output_type": "stream",
     "text": [
      "Epochs:  49%|████▊     | 34/70 [14:10<14:52, 24.79s/it]"
     ]
    },
    {
     "name": "stdout",
     "output_type": "stream",
     "text": [
      "1\n",
      "current epoch: 34 current AUC: 0.9900 current accuracy: 0.8509 best AUC: 0.9930 at epoch: 11\n",
      "----------\n",
      "epoch 35/70\n"
     ]
    },
    {
     "name": "stderr",
     "output_type": "stream",
     "text": [
      "\n",
      "\u001b[Aining Batches:   0%|          | 0/31 [00:00<?, ?it/s]\n",
      "\u001b[Aining Batches:   0%|          | 0/31 [00:00<?, ?it/s, train_loss=0.255]\n",
      "\u001b[Aining Batches:   3%|▎         | 1/31 [00:00<00:23,  1.27it/s, train_loss=0.255]\n",
      "\u001b[Aining Batches:   3%|▎         | 1/31 [00:01<00:23,  1.27it/s, train_loss=0.254]\n",
      "\u001b[Aining Batches:   6%|▋         | 2/31 [00:01<00:22,  1.26it/s, train_loss=0.254]\n",
      "\u001b[Aining Batches:   6%|▋         | 2/31 [00:02<00:22,  1.26it/s, train_loss=0.24] \n",
      "\u001b[Aining Batches:  10%|▉         | 3/31 [00:02<00:22,  1.24it/s, train_loss=0.24]\n",
      "\u001b[Aining Batches:  10%|▉         | 3/31 [00:03<00:22,  1.24it/s, train_loss=0.211]\n",
      "\u001b[Aining Batches:  13%|█▎        | 4/31 [00:03<00:22,  1.21it/s, train_loss=0.211]\n",
      "\u001b[Aining Batches:  13%|█▎        | 4/31 [00:04<00:22,  1.21it/s, train_loss=0.272]\n",
      "\u001b[Aining Batches:  16%|█▌        | 5/31 [00:04<00:21,  1.21it/s, train_loss=0.272]\n",
      "\u001b[Aining Batches:  16%|█▌        | 5/31 [00:04<00:21,  1.21it/s, train_loss=0.239]\n",
      "\u001b[Aining Batches:  19%|█▉        | 6/31 [00:04<00:20,  1.22it/s, train_loss=0.239]\n",
      "\u001b[Aining Batches:  19%|█▉        | 6/31 [00:05<00:20,  1.22it/s, train_loss=0.252]\n",
      "\u001b[Aining Batches:  23%|██▎       | 7/31 [00:05<00:19,  1.25it/s, train_loss=0.252]\n",
      "\u001b[Aining Batches:  23%|██▎       | 7/31 [00:06<00:19,  1.25it/s, train_loss=0.332]\n",
      "\u001b[Aining Batches:  26%|██▌       | 8/31 [00:06<00:18,  1.24it/s, train_loss=0.332]\n",
      "\u001b[Aining Batches:  26%|██▌       | 8/31 [00:07<00:18,  1.24it/s, train_loss=0.283]\n",
      "\u001b[Aining Batches:  29%|██▉       | 9/31 [00:07<00:17,  1.28it/s, train_loss=0.283]\n",
      "\u001b[Aining Batches:  29%|██▉       | 9/31 [00:07<00:17,  1.28it/s, train_loss=0.367]\n",
      "\u001b[Aining Batches:  32%|███▏      | 10/31 [00:07<00:16,  1.28it/s, train_loss=0.367]\n",
      "\u001b[Aining Batches:  32%|███▏      | 10/31 [00:08<00:16,  1.28it/s, train_loss=0.252]\n",
      "\u001b[Aining Batches:  35%|███▌      | 11/31 [00:08<00:15,  1.27it/s, train_loss=0.252]\n",
      "\u001b[Aining Batches:  35%|███▌      | 11/31 [00:09<00:15,  1.27it/s, train_loss=0.282]\n",
      "\u001b[Aining Batches:  39%|███▊      | 12/31 [00:09<00:15,  1.26it/s, train_loss=0.282]\n",
      "\u001b[Aining Batches:  39%|███▊      | 12/31 [00:10<00:15,  1.26it/s, train_loss=0.357]\n",
      "\u001b[Aining Batches:  42%|████▏     | 13/31 [00:10<00:14,  1.28it/s, train_loss=0.357]\n",
      "\u001b[Aining Batches:  42%|████▏     | 13/31 [00:11<00:14,  1.28it/s, train_loss=0.225]\n",
      "\u001b[Aining Batches:  45%|████▌     | 14/31 [00:11<00:13,  1.30it/s, train_loss=0.225]\n",
      "\u001b[Aining Batches:  45%|████▌     | 14/31 [00:11<00:13,  1.30it/s, train_loss=0.379]\n",
      "\u001b[Aining Batches:  48%|████▊     | 15/31 [00:11<00:12,  1.27it/s, train_loss=0.379]\n",
      "\u001b[Aining Batches:  48%|████▊     | 15/31 [00:12<00:12,  1.27it/s, train_loss=0.181]\n",
      "\u001b[Aining Batches:  52%|█████▏    | 16/31 [00:12<00:11,  1.25it/s, train_loss=0.181]\n",
      "\u001b[Aining Batches:  52%|█████▏    | 16/31 [00:13<00:11,  1.25it/s, train_loss=0.279]\n",
      "\u001b[Aining Batches:  55%|█████▍    | 17/31 [00:13<00:11,  1.25it/s, train_loss=0.279]\n",
      "\u001b[Aining Batches:  55%|█████▍    | 17/31 [00:14<00:11,  1.25it/s, train_loss=0.328]\n",
      "\u001b[Aining Batches:  58%|█████▊    | 18/31 [00:14<00:10,  1.27it/s, train_loss=0.328]\n",
      "\u001b[Aining Batches:  58%|█████▊    | 18/31 [00:15<00:10,  1.27it/s, train_loss=0.236]\n",
      "\u001b[Aining Batches:  61%|██████▏   | 19/31 [00:15<00:09,  1.25it/s, train_loss=0.236]\n",
      "\u001b[Aining Batches:  61%|██████▏   | 19/31 [00:15<00:09,  1.25it/s, train_loss=0.251]\n",
      "\u001b[Aining Batches:  65%|██████▍   | 20/31 [00:15<00:08,  1.25it/s, train_loss=0.251]\n",
      "\u001b[Aining Batches:  65%|██████▍   | 20/31 [00:16<00:08,  1.25it/s, train_loss=0.329]\n",
      "\u001b[Aining Batches:  68%|██████▊   | 21/31 [00:16<00:08,  1.23it/s, train_loss=0.329]\n",
      "\u001b[Aining Batches:  68%|██████▊   | 21/31 [00:17<00:08,  1.23it/s, train_loss=0.441]\n",
      "\u001b[Aining Batches:  71%|███████   | 22/31 [00:17<00:07,  1.23it/s, train_loss=0.441]\n",
      "\u001b[Aining Batches:  71%|███████   | 22/31 [00:18<00:07,  1.23it/s, train_loss=0.363]\n",
      "\u001b[Aining Batches:  74%|███████▍  | 23/31 [00:18<00:06,  1.25it/s, train_loss=0.363]\n",
      "\u001b[Aining Batches:  74%|███████▍  | 23/31 [00:19<00:06,  1.25it/s, train_loss=0.179]\n",
      "\u001b[Aining Batches:  77%|███████▋  | 24/31 [00:19<00:05,  1.26it/s, train_loss=0.179]\n",
      "\u001b[Aining Batches:  77%|███████▋  | 24/31 [00:19<00:05,  1.26it/s, train_loss=0.221]\n",
      "\u001b[Aining Batches:  81%|████████  | 25/31 [00:19<00:04,  1.26it/s, train_loss=0.221]\n",
      "\u001b[Aining Batches:  81%|████████  | 25/31 [00:20<00:04,  1.26it/s, train_loss=0.322]\n",
      "\u001b[Aining Batches:  84%|████████▍ | 26/31 [00:20<00:03,  1.26it/s, train_loss=0.322]\n",
      "\u001b[Aining Batches:  84%|████████▍ | 26/31 [00:21<00:03,  1.26it/s, train_loss=0.336]\n",
      "\u001b[Aining Batches:  87%|████████▋ | 27/31 [00:21<00:03,  1.27it/s, train_loss=0.336]\n",
      "\u001b[Aining Batches:  87%|████████▋ | 27/31 [00:22<00:03,  1.27it/s, train_loss=0.155]\n",
      "\u001b[Aining Batches:  90%|█████████ | 28/31 [00:22<00:02,  1.25it/s, train_loss=0.155]\n",
      "\u001b[Aining Batches:  90%|█████████ | 28/31 [00:23<00:02,  1.25it/s, train_loss=0.145]\n",
      "\u001b[Aining Batches:  94%|█████████▎| 29/31 [00:23<00:01,  1.24it/s, train_loss=0.145]\n",
      "\u001b[Aining Batches:  94%|█████████▎| 29/31 [00:23<00:01,  1.24it/s, train_loss=0.403]\n",
      "\u001b[Aining Batches:  97%|█████████▋| 30/31 [00:23<00:00,  1.24it/s, train_loss=0.403]\n",
      "\u001b[Aining Batches:  97%|█████████▋| 30/31 [00:24<00:00,  1.24it/s, train_loss=1.36] \n",
      "\u001b[Aining Batches: 100%|██████████| 31/31 [00:24<00:00,  1.56it/s, train_loss=1.36]\n",
      "\u001b[A                                                                               "
     ]
    },
    {
     "name": "stdout",
     "output_type": "stream",
     "text": [
      "epoch 35 average loss: 0.3138\n"
     ]
    },
    {
     "name": "stderr",
     "output_type": "stream",
     "text": [
      "Epochs:  50%|█████     | 35/70 [14:35<14:28, 24.80s/it]"
     ]
    },
    {
     "name": "stdout",
     "output_type": "stream",
     "text": [
      "1\n",
      "current epoch: 35 current AUC: 0.9914 current accuracy: 0.8820 best AUC: 0.9930 at epoch: 11\n",
      "----------\n",
      "epoch 36/70\n"
     ]
    },
    {
     "name": "stderr",
     "output_type": "stream",
     "text": [
      "\n",
      "\u001b[Aining Batches:   0%|          | 0/31 [00:00<?, ?it/s]\n",
      "\u001b[Aining Batches:   0%|          | 0/31 [00:00<?, ?it/s, train_loss=0.166]\n",
      "\u001b[Aining Batches:   3%|▎         | 1/31 [00:00<00:23,  1.29it/s, train_loss=0.166]\n",
      "\u001b[Aining Batches:   3%|▎         | 1/31 [00:01<00:23,  1.29it/s, train_loss=0.177]\n",
      "\u001b[Aining Batches:   6%|▋         | 2/31 [00:01<00:22,  1.28it/s, train_loss=0.177]\n",
      "\u001b[Aining Batches:   6%|▋         | 2/31 [00:02<00:22,  1.28it/s, train_loss=0.336]\n",
      "\u001b[Aining Batches:  10%|▉         | 3/31 [00:02<00:21,  1.29it/s, train_loss=0.336]\n",
      "\u001b[Aining Batches:  10%|▉         | 3/31 [00:03<00:21,  1.29it/s, train_loss=0.267]\n",
      "\u001b[Aining Batches:  13%|█▎        | 4/31 [00:03<00:20,  1.29it/s, train_loss=0.267]\n",
      "\u001b[Aining Batches:  13%|█▎        | 4/31 [00:03<00:20,  1.29it/s, train_loss=0.233]\n",
      "\u001b[Aining Batches:  16%|█▌        | 5/31 [00:03<00:20,  1.27it/s, train_loss=0.233]\n",
      "\u001b[Aining Batches:  16%|█▌        | 5/31 [00:04<00:20,  1.27it/s, train_loss=0.22] \n",
      "\u001b[Aining Batches:  19%|█▉        | 6/31 [00:04<00:19,  1.30it/s, train_loss=0.22]\n",
      "\u001b[Aining Batches:  19%|█▉        | 6/31 [00:05<00:19,  1.30it/s, train_loss=0.203]\n",
      "\u001b[Aining Batches:  23%|██▎       | 7/31 [00:05<00:18,  1.32it/s, train_loss=0.203]\n",
      "\u001b[Aining Batches:  23%|██▎       | 7/31 [00:06<00:18,  1.32it/s, train_loss=0.271]\n",
      "\u001b[Aining Batches:  26%|██▌       | 8/31 [00:06<00:17,  1.29it/s, train_loss=0.271]\n",
      "\u001b[Aining Batches:  26%|██▌       | 8/31 [00:07<00:17,  1.29it/s, train_loss=0.508]\n",
      "\u001b[Aining Batches:  29%|██▉       | 9/31 [00:07<00:17,  1.27it/s, train_loss=0.508]\n",
      "\u001b[Aining Batches:  29%|██▉       | 9/31 [00:07<00:17,  1.27it/s, train_loss=0.309]\n",
      "\u001b[Aining Batches:  32%|███▏      | 10/31 [00:07<00:16,  1.27it/s, train_loss=0.309]\n",
      "\u001b[Aining Batches:  32%|███▏      | 10/31 [00:08<00:16,  1.27it/s, train_loss=0.488]\n",
      "\u001b[Aining Batches:  35%|███▌      | 11/31 [00:08<00:16,  1.23it/s, train_loss=0.488]\n",
      "\u001b[Aining Batches:  35%|███▌      | 11/31 [00:09<00:16,  1.23it/s, train_loss=0.354]\n",
      "\u001b[Aining Batches:  39%|███▊      | 12/31 [00:09<00:15,  1.23it/s, train_loss=0.354]\n",
      "\u001b[Aining Batches:  39%|███▊      | 12/31 [00:10<00:15,  1.23it/s, train_loss=0.261]\n",
      "\u001b[Aining Batches:  42%|████▏     | 13/31 [00:10<00:14,  1.23it/s, train_loss=0.261]\n",
      "\u001b[Aining Batches:  42%|████▏     | 13/31 [00:11<00:14,  1.23it/s, train_loss=0.317]\n",
      "\u001b[Aining Batches:  45%|████▌     | 14/31 [00:11<00:13,  1.23it/s, train_loss=0.317]\n",
      "\u001b[Aining Batches:  45%|████▌     | 14/31 [00:11<00:13,  1.23it/s, train_loss=0.276]\n",
      "\u001b[Aining Batches:  48%|████▊     | 15/31 [00:11<00:12,  1.24it/s, train_loss=0.276]\n",
      "\u001b[Aining Batches:  48%|████▊     | 15/31 [00:12<00:12,  1.24it/s, train_loss=0.258]\n",
      "\u001b[Aining Batches:  52%|█████▏    | 16/31 [00:12<00:11,  1.26it/s, train_loss=0.258]\n",
      "\u001b[Aining Batches:  52%|█████▏    | 16/31 [00:13<00:11,  1.26it/s, train_loss=0.352]\n",
      "\u001b[Aining Batches:  55%|█████▍    | 17/31 [00:13<00:11,  1.25it/s, train_loss=0.352]\n",
      "\u001b[Aining Batches:  55%|█████▍    | 17/31 [00:14<00:11,  1.25it/s, train_loss=0.258]\n",
      "\u001b[Aining Batches:  58%|█████▊    | 18/31 [00:14<00:10,  1.26it/s, train_loss=0.258]\n",
      "\u001b[Aining Batches:  58%|█████▊    | 18/31 [00:15<00:10,  1.26it/s, train_loss=0.204]\n",
      "\u001b[Aining Batches:  61%|██████▏   | 19/31 [00:15<00:09,  1.25it/s, train_loss=0.204]\n",
      "\u001b[Aining Batches:  61%|██████▏   | 19/31 [00:15<00:09,  1.25it/s, train_loss=0.316]\n",
      "\u001b[Aining Batches:  65%|██████▍   | 20/31 [00:15<00:08,  1.27it/s, train_loss=0.316]\n",
      "\u001b[Aining Batches:  65%|██████▍   | 20/31 [00:16<00:08,  1.27it/s, train_loss=0.327]\n",
      "\u001b[Aining Batches:  68%|██████▊   | 21/31 [00:16<00:07,  1.27it/s, train_loss=0.327]\n",
      "\u001b[Aining Batches:  68%|██████▊   | 21/31 [00:17<00:07,  1.27it/s, train_loss=0.17] \n",
      "\u001b[Aining Batches:  71%|███████   | 22/31 [00:17<00:07,  1.26it/s, train_loss=0.17]\n",
      "\u001b[Aining Batches:  71%|███████   | 22/31 [00:18<00:07,  1.26it/s, train_loss=0.322]\n",
      "\u001b[Aining Batches:  74%|███████▍  | 23/31 [00:18<00:06,  1.28it/s, train_loss=0.322]\n",
      "\u001b[Aining Batches:  74%|███████▍  | 23/31 [00:18<00:06,  1.28it/s, train_loss=0.659]\n",
      "\u001b[Aining Batches:  77%|███████▋  | 24/31 [00:18<00:05,  1.28it/s, train_loss=0.659]\n",
      "\u001b[Aining Batches:  77%|███████▋  | 24/31 [00:19<00:05,  1.28it/s, train_loss=0.316]\n",
      "\u001b[Aining Batches:  81%|████████  | 25/31 [00:19<00:04,  1.24it/s, train_loss=0.316]\n",
      "\u001b[Aining Batches:  81%|████████  | 25/31 [00:20<00:04,  1.24it/s, train_loss=0.356]\n",
      "\u001b[Aining Batches:  84%|████████▍ | 26/31 [00:20<00:04,  1.24it/s, train_loss=0.356]\n",
      "\u001b[Aining Batches:  84%|████████▍ | 26/31 [00:21<00:04,  1.24it/s, train_loss=0.38] \n",
      "\u001b[Aining Batches:  87%|████████▋ | 27/31 [00:21<00:03,  1.25it/s, train_loss=0.38]\n",
      "\u001b[Aining Batches:  87%|████████▋ | 27/31 [00:22<00:03,  1.25it/s, train_loss=0.241]\n",
      "\u001b[Aining Batches:  90%|█████████ | 28/31 [00:22<00:02,  1.29it/s, train_loss=0.241]\n",
      "\u001b[Aining Batches:  90%|█████████ | 28/31 [00:22<00:02,  1.29it/s, train_loss=0.206]\n",
      "\u001b[Aining Batches:  94%|█████████▎| 29/31 [00:22<00:01,  1.29it/s, train_loss=0.206]\n",
      "\u001b[Aining Batches:  94%|█████████▎| 29/31 [00:23<00:01,  1.29it/s, train_loss=0.398]\n",
      "\u001b[Aining Batches:  97%|█████████▋| 30/31 [00:23<00:00,  1.26it/s, train_loss=0.398]\n",
      "\u001b[Aining Batches:  97%|█████████▋| 30/31 [00:24<00:00,  1.26it/s, train_loss=0.397]\n",
      "\u001b[Aining Batches: 100%|██████████| 31/31 [00:24<00:00,  1.56it/s, train_loss=0.397]\n",
      "\u001b[A                                                                                "
     ]
    },
    {
     "name": "stdout",
     "output_type": "stream",
     "text": [
      "epoch 36 average loss: 0.3079\n"
     ]
    },
    {
     "name": "stderr",
     "output_type": "stream",
     "text": [
      "Epochs:  51%|█████▏    | 36/70 [14:59<14:01, 24.76s/it]"
     ]
    },
    {
     "name": "stdout",
     "output_type": "stream",
     "text": [
      "1\n",
      "current epoch: 36 current AUC: 0.9874 current accuracy: 0.8509 best AUC: 0.9930 at epoch: 11\n",
      "----------\n",
      "epoch 37/70\n"
     ]
    },
    {
     "name": "stderr",
     "output_type": "stream",
     "text": [
      "\n",
      "\u001b[Aining Batches:   0%|          | 0/31 [00:00<?, ?it/s]\n",
      "\u001b[Aining Batches:   0%|          | 0/31 [00:00<?, ?it/s, train_loss=0.349]\n",
      "\u001b[Aining Batches:   3%|▎         | 1/31 [00:00<00:24,  1.21it/s, train_loss=0.349]\n",
      "\u001b[Aining Batches:   3%|▎         | 1/31 [00:01<00:24,  1.21it/s, train_loss=0.313]\n",
      "\u001b[Aining Batches:   6%|▋         | 2/31 [00:01<00:23,  1.24it/s, train_loss=0.313]\n",
      "\u001b[Aining Batches:   6%|▋         | 2/31 [00:02<00:23,  1.24it/s, train_loss=0.409]\n",
      "\u001b[Aining Batches:  10%|▉         | 3/31 [00:02<00:22,  1.23it/s, train_loss=0.409]\n",
      "\u001b[Aining Batches:  10%|▉         | 3/31 [00:03<00:22,  1.23it/s, train_loss=0.31] \n",
      "\u001b[Aining Batches:  13%|█▎        | 4/31 [00:03<00:21,  1.23it/s, train_loss=0.31]\n",
      "\u001b[Aining Batches:  13%|█▎        | 4/31 [00:04<00:21,  1.23it/s, train_loss=0.359]\n",
      "\u001b[Aining Batches:  16%|█▌        | 5/31 [00:04<00:20,  1.25it/s, train_loss=0.359]\n",
      "\u001b[Aining Batches:  16%|█▌        | 5/31 [00:04<00:20,  1.25it/s, train_loss=0.397]\n",
      "\u001b[Aining Batches:  19%|█▉        | 6/31 [00:04<00:19,  1.27it/s, train_loss=0.397]\n",
      "\u001b[Aining Batches:  19%|█▉        | 6/31 [00:05<00:19,  1.27it/s, train_loss=0.17] \n",
      "\u001b[Aining Batches:  23%|██▎       | 7/31 [00:05<00:19,  1.26it/s, train_loss=0.17]\n",
      "\u001b[Aining Batches:  23%|██▎       | 7/31 [00:06<00:19,  1.26it/s, train_loss=0.248]\n",
      "\u001b[Aining Batches:  26%|██▌       | 8/31 [00:06<00:18,  1.25it/s, train_loss=0.248]\n",
      "\u001b[Aining Batches:  26%|██▌       | 8/31 [00:07<00:18,  1.25it/s, train_loss=0.206]\n",
      "\u001b[Aining Batches:  29%|██▉       | 9/31 [00:07<00:17,  1.25it/s, train_loss=0.206]\n",
      "\u001b[Aining Batches:  29%|██▉       | 9/31 [00:08<00:17,  1.25it/s, train_loss=0.225]\n",
      "\u001b[Aining Batches:  32%|███▏      | 10/31 [00:08<00:16,  1.24it/s, train_loss=0.225]\n",
      "\u001b[Aining Batches:  32%|███▏      | 10/31 [00:08<00:16,  1.24it/s, train_loss=0.4]  \n",
      "\u001b[Aining Batches:  35%|███▌      | 11/31 [00:08<00:15,  1.25it/s, train_loss=0.4]\n",
      "\u001b[Aining Batches:  35%|███▌      | 11/31 [00:09<00:15,  1.25it/s, train_loss=0.431]\n",
      "\u001b[Aining Batches:  39%|███▊      | 12/31 [00:09<00:14,  1.27it/s, train_loss=0.431]\n",
      "\u001b[Aining Batches:  39%|███▊      | 12/31 [00:10<00:14,  1.27it/s, train_loss=0.243]\n",
      "\u001b[Aining Batches:  42%|████▏     | 13/31 [00:10<00:14,  1.25it/s, train_loss=0.243]\n",
      "\u001b[Aining Batches:  42%|████▏     | 13/31 [00:11<00:14,  1.25it/s, train_loss=0.297]\n",
      "\u001b[Aining Batches:  45%|████▌     | 14/31 [00:11<00:13,  1.26it/s, train_loss=0.297]\n",
      "\u001b[Aining Batches:  45%|████▌     | 14/31 [00:11<00:13,  1.26it/s, train_loss=0.534]\n",
      "\u001b[Aining Batches:  48%|████▊     | 15/31 [00:11<00:12,  1.27it/s, train_loss=0.534]\n",
      "\u001b[Aining Batches:  48%|████▊     | 15/31 [00:12<00:12,  1.27it/s, train_loss=0.273]\n",
      "\u001b[Aining Batches:  52%|█████▏    | 16/31 [00:12<00:11,  1.25it/s, train_loss=0.273]\n",
      "\u001b[Aining Batches:  52%|█████▏    | 16/31 [00:13<00:11,  1.25it/s, train_loss=0.369]\n",
      "\u001b[Aining Batches:  55%|█████▍    | 17/31 [00:13<00:11,  1.26it/s, train_loss=0.369]\n",
      "\u001b[Aining Batches:  55%|█████▍    | 17/31 [00:14<00:11,  1.26it/s, train_loss=0.33] \n",
      "\u001b[Aining Batches:  58%|█████▊    | 18/31 [00:14<00:10,  1.25it/s, train_loss=0.33]\n",
      "\u001b[Aining Batches:  58%|█████▊    | 18/31 [00:15<00:10,  1.25it/s, train_loss=0.439]\n",
      "\u001b[Aining Batches:  61%|██████▏   | 19/31 [00:15<00:09,  1.24it/s, train_loss=0.439]\n",
      "\u001b[Aining Batches:  61%|██████▏   | 19/31 [00:15<00:09,  1.24it/s, train_loss=0.259]\n",
      "\u001b[Aining Batches:  65%|██████▍   | 20/31 [00:15<00:08,  1.26it/s, train_loss=0.259]\n",
      "\u001b[Aining Batches:  65%|██████▍   | 20/31 [00:16<00:08,  1.26it/s, train_loss=0.141]\n",
      "\u001b[Aining Batches:  68%|██████▊   | 21/31 [00:16<00:07,  1.27it/s, train_loss=0.141]\n",
      "\u001b[Aining Batches:  68%|██████▊   | 21/31 [00:17<00:07,  1.27it/s, train_loss=0.232]\n",
      "\u001b[Aining Batches:  71%|███████   | 22/31 [00:17<00:07,  1.27it/s, train_loss=0.232]\n",
      "\u001b[Aining Batches:  71%|███████   | 22/31 [00:18<00:07,  1.27it/s, train_loss=0.349]\n",
      "\u001b[Aining Batches:  74%|███████▍  | 23/31 [00:18<00:06,  1.24it/s, train_loss=0.349]\n",
      "\u001b[Aining Batches:  74%|███████▍  | 23/31 [00:19<00:06,  1.24it/s, train_loss=0.395]\n",
      "\u001b[Aining Batches:  77%|███████▋  | 24/31 [00:19<00:05,  1.24it/s, train_loss=0.395]\n",
      "\u001b[Aining Batches:  77%|███████▋  | 24/31 [00:19<00:05,  1.24it/s, train_loss=0.396]\n",
      "\u001b[Aining Batches:  81%|████████  | 25/31 [00:19<00:04,  1.26it/s, train_loss=0.396]\n",
      "\u001b[Aining Batches:  81%|████████  | 25/31 [00:20<00:04,  1.26it/s, train_loss=0.449]\n",
      "\u001b[Aining Batches:  84%|████████▍ | 26/31 [00:20<00:04,  1.22it/s, train_loss=0.449]\n",
      "\u001b[Aining Batches:  84%|████████▍ | 26/31 [00:21<00:04,  1.22it/s, train_loss=0.29] \n",
      "\u001b[Aining Batches:  87%|████████▋ | 27/31 [00:21<00:03,  1.21it/s, train_loss=0.29]\n",
      "\u001b[Aining Batches:  87%|████████▋ | 27/31 [00:22<00:03,  1.21it/s, train_loss=0.345]\n",
      "\u001b[Aining Batches:  90%|█████████ | 28/31 [00:22<00:02,  1.24it/s, train_loss=0.345]\n",
      "\u001b[Aining Batches:  90%|█████████ | 28/31 [00:23<00:02,  1.24it/s, train_loss=0.331]\n",
      "\u001b[Aining Batches:  94%|█████████▎| 29/31 [00:23<00:01,  1.25it/s, train_loss=0.331]\n",
      "\u001b[Aining Batches:  94%|█████████▎| 29/31 [00:23<00:01,  1.25it/s, train_loss=0.285]\n",
      "\u001b[Aining Batches:  97%|█████████▋| 30/31 [00:23<00:00,  1.25it/s, train_loss=0.285]\n",
      "\u001b[Aining Batches:  97%|█████████▋| 30/31 [00:24<00:00,  1.25it/s, train_loss=0.338]\n",
      "\u001b[Aining Batches: 100%|██████████| 31/31 [00:24<00:00,  1.56it/s, train_loss=0.338]\n",
      "\u001b[A                                                                                "
     ]
    },
    {
     "name": "stdout",
     "output_type": "stream",
     "text": [
      "epoch 37 average loss: 0.3262\n"
     ]
    },
    {
     "name": "stderr",
     "output_type": "stream",
     "text": [
      "Epochs:  53%|█████▎    | 37/70 [15:24<13:38, 24.79s/it]"
     ]
    },
    {
     "name": "stdout",
     "output_type": "stream",
     "text": [
      "1\n",
      "current epoch: 37 current AUC: 0.9871 current accuracy: 0.8509 best AUC: 0.9930 at epoch: 11\n",
      "----------\n",
      "epoch 38/70\n"
     ]
    },
    {
     "name": "stderr",
     "output_type": "stream",
     "text": [
      "\n",
      "\u001b[Aining Batches:   0%|          | 0/31 [00:00<?, ?it/s]\n",
      "\u001b[Aining Batches:   0%|          | 0/31 [00:00<?, ?it/s, train_loss=0.419]\n",
      "\u001b[Aining Batches:   3%|▎         | 1/31 [00:00<00:24,  1.24it/s, train_loss=0.419]\n",
      "\u001b[Aining Batches:   3%|▎         | 1/31 [00:01<00:24,  1.24it/s, train_loss=0.36] \n",
      "\u001b[Aining Batches:   6%|▋         | 2/31 [00:01<00:23,  1.25it/s, train_loss=0.36]\n",
      "\u001b[Aining Batches:   6%|▋         | 2/31 [00:02<00:23,  1.25it/s, train_loss=0.319]\n",
      "\u001b[Aining Batches:  10%|▉         | 3/31 [00:02<00:22,  1.26it/s, train_loss=0.319]\n",
      "\u001b[Aining Batches:  10%|▉         | 3/31 [00:03<00:22,  1.26it/s, train_loss=0.187]\n",
      "\u001b[Aining Batches:  13%|█▎        | 4/31 [00:03<00:21,  1.28it/s, train_loss=0.187]\n",
      "\u001b[Aining Batches:  13%|█▎        | 4/31 [00:03<00:21,  1.28it/s, train_loss=0.154]\n",
      "\u001b[Aining Batches:  16%|█▌        | 5/31 [00:03<00:20,  1.30it/s, train_loss=0.154]\n",
      "\u001b[Aining Batches:  16%|█▌        | 5/31 [00:04<00:20,  1.30it/s, train_loss=0.242]\n",
      "\u001b[Aining Batches:  19%|█▉        | 6/31 [00:04<00:19,  1.30it/s, train_loss=0.242]\n",
      "\u001b[Aining Batches:  19%|█▉        | 6/31 [00:05<00:19,  1.30it/s, train_loss=0.208]\n",
      "\u001b[Aining Batches:  23%|██▎       | 7/31 [00:05<00:18,  1.27it/s, train_loss=0.208]\n",
      "\u001b[Aining Batches:  23%|██▎       | 7/31 [00:06<00:18,  1.27it/s, train_loss=0.233]\n",
      "\u001b[Aining Batches:  26%|██▌       | 8/31 [00:06<00:18,  1.26it/s, train_loss=0.233]\n",
      "\u001b[Aining Batches:  26%|██▌       | 8/31 [00:07<00:18,  1.26it/s, train_loss=0.343]\n",
      "\u001b[Aining Batches:  29%|██▉       | 9/31 [00:07<00:17,  1.26it/s, train_loss=0.343]\n",
      "\u001b[Aining Batches:  29%|██▉       | 9/31 [00:07<00:17,  1.26it/s, train_loss=0.286]\n",
      "\u001b[Aining Batches:  32%|███▏      | 10/31 [00:07<00:16,  1.24it/s, train_loss=0.286]\n",
      "\u001b[Aining Batches:  32%|███▏      | 10/31 [00:08<00:16,  1.24it/s, train_loss=0.291]\n",
      "\u001b[Aining Batches:  35%|███▌      | 11/31 [00:08<00:15,  1.27it/s, train_loss=0.291]\n",
      "\u001b[Aining Batches:  35%|███▌      | 11/31 [00:09<00:15,  1.27it/s, train_loss=0.229]\n",
      "\u001b[Aining Batches:  39%|███▊      | 12/31 [00:09<00:15,  1.25it/s, train_loss=0.229]\n",
      "\u001b[Aining Batches:  39%|███▊      | 12/31 [00:10<00:15,  1.25it/s, train_loss=0.324]\n",
      "\u001b[Aining Batches:  42%|████▏     | 13/31 [00:10<00:14,  1.26it/s, train_loss=0.324]\n",
      "\u001b[Aining Batches:  42%|████▏     | 13/31 [00:11<00:14,  1.26it/s, train_loss=0.317]\n",
      "\u001b[Aining Batches:  45%|████▌     | 14/31 [00:11<00:13,  1.26it/s, train_loss=0.317]\n",
      "\u001b[Aining Batches:  45%|████▌     | 14/31 [00:11<00:13,  1.26it/s, train_loss=0.311]\n",
      "\u001b[Aining Batches:  48%|████▊     | 15/31 [00:11<00:12,  1.27it/s, train_loss=0.311]\n",
      "\u001b[Aining Batches:  48%|████▊     | 15/31 [00:12<00:12,  1.27it/s, train_loss=0.226]\n",
      "\u001b[Aining Batches:  52%|█████▏    | 16/31 [00:12<00:12,  1.25it/s, train_loss=0.226]\n",
      "\u001b[Aining Batches:  52%|█████▏    | 16/31 [00:13<00:12,  1.25it/s, train_loss=0.156]\n",
      "\u001b[Aining Batches:  55%|█████▍    | 17/31 [00:13<00:11,  1.25it/s, train_loss=0.156]\n",
      "\u001b[Aining Batches:  55%|█████▍    | 17/31 [00:14<00:11,  1.25it/s, train_loss=0.197]\n",
      "\u001b[Aining Batches:  58%|█████▊    | 18/31 [00:14<00:10,  1.26it/s, train_loss=0.197]\n",
      "\u001b[Aining Batches:  58%|█████▊    | 18/31 [00:15<00:10,  1.26it/s, train_loss=0.234]\n",
      "\u001b[Aining Batches:  61%|██████▏   | 19/31 [00:15<00:09,  1.27it/s, train_loss=0.234]\n",
      "\u001b[Aining Batches:  61%|██████▏   | 19/31 [00:15<00:09,  1.27it/s, train_loss=0.258]\n",
      "\u001b[Aining Batches:  65%|██████▍   | 20/31 [00:15<00:08,  1.28it/s, train_loss=0.258]\n",
      "\u001b[Aining Batches:  65%|██████▍   | 20/31 [00:16<00:08,  1.28it/s, train_loss=0.271]\n",
      "\u001b[Aining Batches:  68%|██████▊   | 21/31 [00:16<00:07,  1.26it/s, train_loss=0.271]\n",
      "\u001b[Aining Batches:  68%|██████▊   | 21/31 [00:17<00:07,  1.26it/s, train_loss=0.163]\n",
      "\u001b[Aining Batches:  71%|███████   | 22/31 [00:17<00:07,  1.26it/s, train_loss=0.163]\n",
      "\u001b[Aining Batches:  71%|███████   | 22/31 [00:18<00:07,  1.26it/s, train_loss=0.25] \n",
      "\u001b[Aining Batches:  74%|███████▍  | 23/31 [00:18<00:06,  1.26it/s, train_loss=0.25]\n",
      "\u001b[Aining Batches:  74%|███████▍  | 23/31 [00:18<00:06,  1.26it/s, train_loss=0.254]\n",
      "\u001b[Aining Batches:  77%|███████▋  | 24/31 [00:18<00:05,  1.26it/s, train_loss=0.254]\n",
      "\u001b[Aining Batches:  77%|███████▋  | 24/31 [00:19<00:05,  1.26it/s, train_loss=0.258]\n",
      "\u001b[Aining Batches:  81%|████████  | 25/31 [00:19<00:04,  1.27it/s, train_loss=0.258]\n",
      "\u001b[Aining Batches:  81%|████████  | 25/31 [00:20<00:04,  1.27it/s, train_loss=0.324]\n",
      "\u001b[Aining Batches:  84%|████████▍ | 26/31 [00:20<00:03,  1.25it/s, train_loss=0.324]\n",
      "\u001b[Aining Batches:  84%|████████▍ | 26/31 [00:21<00:03,  1.25it/s, train_loss=0.211]\n",
      "\u001b[Aining Batches:  87%|████████▋ | 27/31 [00:21<00:03,  1.25it/s, train_loss=0.211]\n",
      "\u001b[Aining Batches:  87%|████████▋ | 27/31 [00:22<00:03,  1.25it/s, train_loss=0.215]\n",
      "\u001b[Aining Batches:  90%|█████████ | 28/31 [00:22<00:02,  1.25it/s, train_loss=0.215]\n",
      "\u001b[Aining Batches:  90%|█████████ | 28/31 [00:23<00:02,  1.25it/s, train_loss=0.294]\n",
      "\u001b[Aining Batches:  94%|█████████▎| 29/31 [00:23<00:01,  1.22it/s, train_loss=0.294]\n",
      "\u001b[Aining Batches:  94%|█████████▎| 29/31 [00:23<00:01,  1.22it/s, train_loss=0.25] \n",
      "\u001b[Aining Batches:  97%|█████████▋| 30/31 [00:23<00:00,  1.22it/s, train_loss=0.25]\n",
      "\u001b[Aining Batches:  97%|█████████▋| 30/31 [00:24<00:00,  1.22it/s, train_loss=0.361]\n",
      "\u001b[Aining Batches: 100%|██████████| 31/31 [00:24<00:00,  1.52it/s, train_loss=0.361]\n",
      "\u001b[A                                                                                "
     ]
    },
    {
     "name": "stdout",
     "output_type": "stream",
     "text": [
      "epoch 38 average loss: 0.2627\n"
     ]
    },
    {
     "name": "stderr",
     "output_type": "stream",
     "text": [
      "Epochs:  54%|█████▍    | 38/70 [15:49<13:13, 24.79s/it]"
     ]
    },
    {
     "name": "stdout",
     "output_type": "stream",
     "text": [
      "1\n",
      "current epoch: 38 current AUC: 0.9881 current accuracy: 0.8509 best AUC: 0.9930 at epoch: 11\n",
      "----------\n",
      "epoch 39/70\n"
     ]
    },
    {
     "name": "stderr",
     "output_type": "stream",
     "text": [
      "\n",
      "\u001b[Aining Batches:   0%|          | 0/31 [00:00<?, ?it/s]\n",
      "\u001b[Aining Batches:   0%|          | 0/31 [00:00<?, ?it/s, train_loss=0.274]\n",
      "\u001b[Aining Batches:   3%|▎         | 1/31 [00:00<00:24,  1.20it/s, train_loss=0.274]\n",
      "\u001b[Aining Batches:   3%|▎         | 1/31 [00:01<00:24,  1.20it/s, train_loss=0.253]\n",
      "\u001b[Aining Batches:   6%|▋         | 2/31 [00:01<00:23,  1.25it/s, train_loss=0.253]\n",
      "\u001b[Aining Batches:   6%|▋         | 2/31 [00:02<00:23,  1.25it/s, train_loss=0.199]\n",
      "\u001b[Aining Batches:  10%|▉         | 3/31 [00:02<00:22,  1.22it/s, train_loss=0.199]\n",
      "\u001b[Aining Batches:  10%|▉         | 3/31 [00:03<00:22,  1.22it/s, train_loss=0.438]\n",
      "\u001b[Aining Batches:  13%|█▎        | 4/31 [00:03<00:21,  1.26it/s, train_loss=0.438]\n",
      "\u001b[Aining Batches:  13%|█▎        | 4/31 [00:04<00:21,  1.26it/s, train_loss=0.27] \n",
      "\u001b[Aining Batches:  16%|█▌        | 5/31 [00:04<00:20,  1.25it/s, train_loss=0.27]\n",
      "\u001b[Aining Batches:  16%|█▌        | 5/31 [00:04<00:20,  1.25it/s, train_loss=0.235]\n",
      "\u001b[Aining Batches:  19%|█▉        | 6/31 [00:04<00:19,  1.26it/s, train_loss=0.235]\n",
      "\u001b[Aining Batches:  19%|█▉        | 6/31 [00:05<00:19,  1.26it/s, train_loss=0.25] \n",
      "\u001b[Aining Batches:  23%|██▎       | 7/31 [00:05<00:18,  1.26it/s, train_loss=0.25]\n",
      "\u001b[Aining Batches:  23%|██▎       | 7/31 [00:06<00:18,  1.26it/s, train_loss=0.122]\n",
      "\u001b[Aining Batches:  26%|██▌       | 8/31 [00:06<00:18,  1.27it/s, train_loss=0.122]\n",
      "\u001b[Aining Batches:  26%|██▌       | 8/31 [00:07<00:18,  1.27it/s, train_loss=0.296]\n",
      "\u001b[Aining Batches:  29%|██▉       | 9/31 [00:07<00:17,  1.23it/s, train_loss=0.296]\n",
      "\u001b[Aining Batches:  29%|██▉       | 9/31 [00:08<00:17,  1.23it/s, train_loss=0.177]\n",
      "\u001b[Aining Batches:  32%|███▏      | 10/31 [00:08<00:17,  1.22it/s, train_loss=0.177]\n",
      "\u001b[Aining Batches:  32%|███▏      | 10/31 [00:08<00:17,  1.22it/s, train_loss=0.296]\n",
      "\u001b[Aining Batches:  35%|███▌      | 11/31 [00:08<00:15,  1.26it/s, train_loss=0.296]\n",
      "\u001b[Aining Batches:  35%|███▌      | 11/31 [00:09<00:15,  1.26it/s, train_loss=0.227]\n",
      "\u001b[Aining Batches:  39%|███▊      | 12/31 [00:09<00:15,  1.25it/s, train_loss=0.227]\n",
      "\u001b[Aining Batches:  39%|███▊      | 12/31 [00:10<00:15,  1.25it/s, train_loss=0.387]\n",
      "\u001b[Aining Batches:  42%|████▏     | 13/31 [00:10<00:14,  1.24it/s, train_loss=0.387]\n",
      "\u001b[Aining Batches:  42%|████▏     | 13/31 [00:11<00:14,  1.24it/s, train_loss=0.228]\n",
      "\u001b[Aining Batches:  45%|████▌     | 14/31 [00:11<00:13,  1.22it/s, train_loss=0.228]\n",
      "\u001b[Aining Batches:  45%|████▌     | 14/31 [00:12<00:13,  1.22it/s, train_loss=0.342]\n",
      "\u001b[Aining Batches:  48%|████▊     | 15/31 [00:12<00:12,  1.24it/s, train_loss=0.342]\n",
      "\u001b[Aining Batches:  48%|████▊     | 15/31 [00:12<00:12,  1.24it/s, train_loss=0.38] \n",
      "\u001b[Aining Batches:  52%|█████▏    | 16/31 [00:12<00:12,  1.23it/s, train_loss=0.38]\n",
      "\u001b[Aining Batches:  52%|█████▏    | 16/31 [00:13<00:12,  1.23it/s, train_loss=0.285]\n",
      "\u001b[Aining Batches:  55%|█████▍    | 17/31 [00:13<00:11,  1.23it/s, train_loss=0.285]\n",
      "\u001b[Aining Batches:  55%|█████▍    | 17/31 [00:14<00:11,  1.23it/s, train_loss=0.336]\n",
      "\u001b[Aining Batches:  58%|█████▊    | 18/31 [00:14<00:10,  1.25it/s, train_loss=0.336]\n",
      "\u001b[Aining Batches:  58%|█████▊    | 18/31 [00:15<00:10,  1.25it/s, train_loss=0.196]\n",
      "\u001b[Aining Batches:  61%|██████▏   | 19/31 [00:15<00:09,  1.25it/s, train_loss=0.196]\n",
      "\u001b[Aining Batches:  61%|██████▏   | 19/31 [00:16<00:09,  1.25it/s, train_loss=0.26] \n",
      "\u001b[Aining Batches:  65%|██████▍   | 20/31 [00:16<00:08,  1.23it/s, train_loss=0.26]\n",
      "\u001b[Aining Batches:  65%|██████▍   | 20/31 [00:16<00:08,  1.23it/s, train_loss=0.246]\n",
      "\u001b[Aining Batches:  68%|██████▊   | 21/31 [00:16<00:08,  1.25it/s, train_loss=0.246]\n",
      "\u001b[Aining Batches:  68%|██████▊   | 21/31 [00:17<00:08,  1.25it/s, train_loss=0.366]\n",
      "\u001b[Aining Batches:  71%|███████   | 22/31 [00:17<00:07,  1.26it/s, train_loss=0.366]\n",
      "\u001b[Aining Batches:  71%|███████   | 22/31 [00:18<00:07,  1.26it/s, train_loss=0.231]\n",
      "\u001b[Aining Batches:  74%|███████▍  | 23/31 [00:18<00:06,  1.27it/s, train_loss=0.231]\n",
      "\u001b[Aining Batches:  74%|███████▍  | 23/31 [00:19<00:06,  1.27it/s, train_loss=0.328]\n",
      "\u001b[Aining Batches:  77%|███████▋  | 24/31 [00:19<00:05,  1.25it/s, train_loss=0.328]\n",
      "\u001b[Aining Batches:  77%|███████▋  | 24/31 [00:20<00:05,  1.25it/s, train_loss=0.459]\n",
      "\u001b[Aining Batches:  81%|████████  | 25/31 [00:20<00:04,  1.25it/s, train_loss=0.459]\n",
      "\u001b[Aining Batches:  81%|████████  | 25/31 [00:20<00:04,  1.25it/s, train_loss=0.279]\n",
      "\u001b[Aining Batches:  84%|████████▍ | 26/31 [00:20<00:03,  1.25it/s, train_loss=0.279]\n",
      "\u001b[Aining Batches:  84%|████████▍ | 26/31 [00:21<00:03,  1.25it/s, train_loss=0.108]\n",
      "\u001b[Aining Batches:  87%|████████▋ | 27/31 [00:21<00:03,  1.25it/s, train_loss=0.108]\n",
      "\u001b[Aining Batches:  87%|████████▋ | 27/31 [00:22<00:03,  1.25it/s, train_loss=0.313]\n",
      "\u001b[Aining Batches:  90%|█████████ | 28/31 [00:22<00:02,  1.26it/s, train_loss=0.313]\n",
      "\u001b[Aining Batches:  90%|█████████ | 28/31 [00:23<00:02,  1.26it/s, train_loss=0.306]\n",
      "\u001b[Aining Batches:  94%|█████████▎| 29/31 [00:23<00:01,  1.24it/s, train_loss=0.306]\n",
      "\u001b[Aining Batches:  94%|█████████▎| 29/31 [00:24<00:01,  1.24it/s, train_loss=0.334]\n",
      "\u001b[Aining Batches:  97%|█████████▋| 30/31 [00:24<00:00,  1.24it/s, train_loss=0.334]\n",
      "\u001b[Aining Batches:  97%|█████████▋| 30/31 [00:24<00:00,  1.24it/s, train_loss=0.142]\n",
      "\u001b[Aining Batches: 100%|██████████| 31/31 [00:24<00:00,  1.56it/s, train_loss=0.142]\n",
      "\u001b[A                                                                                "
     ]
    },
    {
     "name": "stdout",
     "output_type": "stream",
     "text": [
      "epoch 39 average loss: 0.2763\n"
     ]
    },
    {
     "name": "stderr",
     "output_type": "stream",
     "text": [
      "Epochs:  56%|█████▌    | 39/70 [16:14<12:49, 24.84s/it]"
     ]
    },
    {
     "name": "stdout",
     "output_type": "stream",
     "text": [
      "1\n",
      "current epoch: 39 current AUC: 0.9882 current accuracy: 0.8634 best AUC: 0.9930 at epoch: 11\n",
      "----------\n",
      "epoch 40/70\n"
     ]
    },
    {
     "name": "stderr",
     "output_type": "stream",
     "text": [
      "\n",
      "\u001b[Aining Batches:   0%|          | 0/31 [00:00<?, ?it/s]\n",
      "\u001b[Aining Batches:   0%|          | 0/31 [00:00<?, ?it/s, train_loss=0.214]\n",
      "\u001b[Aining Batches:   3%|▎         | 1/31 [00:00<00:23,  1.26it/s, train_loss=0.214]\n",
      "\u001b[Aining Batches:   3%|▎         | 1/31 [00:01<00:23,  1.26it/s, train_loss=0.172]\n",
      "\u001b[Aining Batches:   6%|▋         | 2/31 [00:01<00:23,  1.23it/s, train_loss=0.172]\n",
      "\u001b[Aining Batches:   6%|▋         | 2/31 [00:02<00:23,  1.23it/s, train_loss=0.135]\n",
      "\u001b[Aining Batches:  10%|▉         | 3/31 [00:02<00:22,  1.25it/s, train_loss=0.135]\n",
      "\u001b[Aining Batches:  10%|▉         | 3/31 [00:03<00:22,  1.25it/s, train_loss=0.261]\n",
      "\u001b[Aining Batches:  13%|█▎        | 4/31 [00:03<00:21,  1.25it/s, train_loss=0.261]\n",
      "\u001b[Aining Batches:  13%|█▎        | 4/31 [00:04<00:21,  1.25it/s, train_loss=0.349]\n",
      "\u001b[Aining Batches:  16%|█▌        | 5/31 [00:04<00:20,  1.25it/s, train_loss=0.349]\n",
      "\u001b[Aining Batches:  16%|█▌        | 5/31 [00:04<00:20,  1.25it/s, train_loss=0.313]\n",
      "\u001b[Aining Batches:  19%|█▉        | 6/31 [00:04<00:20,  1.24it/s, train_loss=0.313]\n",
      "\u001b[Aining Batches:  19%|█▉        | 6/31 [00:05<00:20,  1.24it/s, train_loss=0.227]\n",
      "\u001b[Aining Batches:  23%|██▎       | 7/31 [00:05<00:19,  1.23it/s, train_loss=0.227]\n",
      "\u001b[Aining Batches:  23%|██▎       | 7/31 [00:06<00:19,  1.23it/s, train_loss=0.196]\n",
      "\u001b[Aining Batches:  26%|██▌       | 8/31 [00:06<00:18,  1.25it/s, train_loss=0.196]\n",
      "\u001b[Aining Batches:  26%|██▌       | 8/31 [00:07<00:18,  1.25it/s, train_loss=0.152]\n",
      "\u001b[Aining Batches:  29%|██▉       | 9/31 [00:07<00:17,  1.24it/s, train_loss=0.152]\n",
      "\u001b[Aining Batches:  29%|██▉       | 9/31 [00:08<00:17,  1.24it/s, train_loss=0.3]  \n",
      "\u001b[Aining Batches:  32%|███▏      | 10/31 [00:08<00:16,  1.26it/s, train_loss=0.3]\n",
      "\u001b[Aining Batches:  32%|███▏      | 10/31 [00:08<00:16,  1.26it/s, train_loss=0.0953]\n",
      "\u001b[Aining Batches:  35%|███▌      | 11/31 [00:08<00:15,  1.27it/s, train_loss=0.0953]\n",
      "\u001b[Aining Batches:  35%|███▌      | 11/31 [00:09<00:15,  1.27it/s, train_loss=0.196] \n",
      "\u001b[Aining Batches:  39%|███▊      | 12/31 [00:09<00:14,  1.27it/s, train_loss=0.196]\n",
      "\u001b[Aining Batches:  39%|███▊      | 12/31 [00:10<00:14,  1.27it/s, train_loss=0.422]\n",
      "\u001b[Aining Batches:  42%|████▏     | 13/31 [00:10<00:14,  1.26it/s, train_loss=0.422]\n",
      "\u001b[Aining Batches:  42%|████▏     | 13/31 [00:11<00:14,  1.26it/s, train_loss=0.264]\n",
      "\u001b[Aining Batches:  45%|████▌     | 14/31 [00:11<00:13,  1.28it/s, train_loss=0.264]\n",
      "\u001b[Aining Batches:  45%|████▌     | 14/31 [00:11<00:13,  1.28it/s, train_loss=0.165]\n",
      "\u001b[Aining Batches:  48%|████▊     | 15/31 [00:11<00:12,  1.30it/s, train_loss=0.165]\n",
      "\u001b[Aining Batches:  48%|████▊     | 15/31 [00:12<00:12,  1.30it/s, train_loss=0.346]\n",
      "\u001b[Aining Batches:  52%|█████▏    | 16/31 [00:12<00:11,  1.28it/s, train_loss=0.346]\n",
      "\u001b[Aining Batches:  52%|█████▏    | 16/31 [00:13<00:11,  1.28it/s, train_loss=0.302]\n",
      "\u001b[Aining Batches:  55%|█████▍    | 17/31 [00:13<00:11,  1.26it/s, train_loss=0.302]\n",
      "\u001b[Aining Batches:  55%|█████▍    | 17/31 [00:14<00:11,  1.26it/s, train_loss=0.359]\n",
      "\u001b[Aining Batches:  58%|█████▊    | 18/31 [00:14<00:10,  1.25it/s, train_loss=0.359]\n",
      "\u001b[Aining Batches:  58%|█████▊    | 18/31 [00:15<00:10,  1.25it/s, train_loss=0.167]\n",
      "\u001b[Aining Batches:  61%|██████▏   | 19/31 [00:15<00:09,  1.25it/s, train_loss=0.167]\n",
      "\u001b[Aining Batches:  61%|██████▏   | 19/31 [00:15<00:09,  1.25it/s, train_loss=0.148]\n",
      "\u001b[Aining Batches:  65%|██████▍   | 20/31 [00:15<00:08,  1.24it/s, train_loss=0.148]\n",
      "\u001b[Aining Batches:  65%|██████▍   | 20/31 [00:16<00:08,  1.24it/s, train_loss=0.215]\n",
      "\u001b[Aining Batches:  68%|██████▊   | 21/31 [00:16<00:08,  1.23it/s, train_loss=0.215]\n",
      "\u001b[Aining Batches:  68%|██████▊   | 21/31 [00:17<00:08,  1.23it/s, train_loss=0.387]\n",
      "\u001b[Aining Batches:  71%|███████   | 22/31 [00:17<00:07,  1.23it/s, train_loss=0.387]\n",
      "\u001b[Aining Batches:  71%|███████   | 22/31 [00:18<00:07,  1.23it/s, train_loss=0.277]\n",
      "\u001b[Aining Batches:  74%|███████▍  | 23/31 [00:18<00:06,  1.25it/s, train_loss=0.277]\n",
      "\u001b[Aining Batches:  74%|███████▍  | 23/31 [00:19<00:06,  1.25it/s, train_loss=0.49] \n",
      "\u001b[Aining Batches:  77%|███████▋  | 24/31 [00:19<00:05,  1.24it/s, train_loss=0.49]\n",
      "\u001b[Aining Batches:  77%|███████▋  | 24/31 [00:20<00:05,  1.24it/s, train_loss=0.259]\n",
      "\u001b[Aining Batches:  81%|████████  | 25/31 [00:20<00:04,  1.23it/s, train_loss=0.259]\n",
      "\u001b[Aining Batches:  81%|████████  | 25/31 [00:20<00:04,  1.23it/s, train_loss=0.213]\n",
      "\u001b[Aining Batches:  84%|████████▍ | 26/31 [00:20<00:04,  1.23it/s, train_loss=0.213]\n",
      "\u001b[Aining Batches:  84%|████████▍ | 26/31 [00:21<00:04,  1.23it/s, train_loss=0.101]\n",
      "\u001b[Aining Batches:  87%|████████▋ | 27/31 [00:21<00:03,  1.21it/s, train_loss=0.101]\n",
      "\u001b[Aining Batches:  87%|████████▋ | 27/31 [00:22<00:03,  1.21it/s, train_loss=0.222]\n",
      "\u001b[Aining Batches:  90%|█████████ | 28/31 [00:22<00:02,  1.22it/s, train_loss=0.222]\n",
      "\u001b[Aining Batches:  90%|█████████ | 28/31 [00:23<00:02,  1.22it/s, train_loss=0.277]\n",
      "\u001b[Aining Batches:  94%|█████████▎| 29/31 [00:23<00:01,  1.24it/s, train_loss=0.277]\n",
      "\u001b[Aining Batches:  94%|█████████▎| 29/31 [00:24<00:01,  1.24it/s, train_loss=0.346]\n",
      "\u001b[Aining Batches:  97%|█████████▋| 30/31 [00:24<00:00,  1.24it/s, train_loss=0.346]\n",
      "\u001b[Aining Batches:  97%|█████████▋| 30/31 [00:24<00:00,  1.24it/s, train_loss=0.18] \n",
      "\u001b[Aining Batches: 100%|██████████| 31/31 [00:24<00:00,  1.53it/s, train_loss=0.18]\n",
      "\u001b[A                                                                               "
     ]
    },
    {
     "name": "stdout",
     "output_type": "stream",
     "text": [
      "epoch 40 average loss: 0.2500\n"
     ]
    },
    {
     "name": "stderr",
     "output_type": "stream",
     "text": [
      "Epochs:  57%|█████▋    | 40/70 [16:39<12:26, 24.87s/it]"
     ]
    },
    {
     "name": "stdout",
     "output_type": "stream",
     "text": [
      "1\n",
      "current epoch: 40 current AUC: 0.9922 current accuracy: 0.8820 best AUC: 0.9930 at epoch: 11\n",
      "----------\n",
      "epoch 41/70\n"
     ]
    },
    {
     "name": "stderr",
     "output_type": "stream",
     "text": [
      "\n",
      "\u001b[Aining Batches:   0%|          | 0/31 [00:00<?, ?it/s]\n",
      "\u001b[Aining Batches:   0%|          | 0/31 [00:00<?, ?it/s, train_loss=0.149]\n",
      "\u001b[Aining Batches:   3%|▎         | 1/31 [00:00<00:24,  1.21it/s, train_loss=0.149]\n",
      "\u001b[Aining Batches:   3%|▎         | 1/31 [00:01<00:24,  1.21it/s, train_loss=0.215]\n",
      "\u001b[Aining Batches:   6%|▋         | 2/31 [00:01<00:23,  1.23it/s, train_loss=0.215]\n",
      "\u001b[Aining Batches:   6%|▋         | 2/31 [00:02<00:23,  1.23it/s, train_loss=0.123]\n",
      "\u001b[Aining Batches:  10%|▉         | 3/31 [00:02<00:22,  1.24it/s, train_loss=0.123]\n",
      "\u001b[Aining Batches:  10%|▉         | 3/31 [00:03<00:22,  1.24it/s, train_loss=0.175]\n",
      "\u001b[Aining Batches:  13%|█▎        | 4/31 [00:03<00:21,  1.25it/s, train_loss=0.175]\n",
      "\u001b[Aining Batches:  13%|█▎        | 4/31 [00:04<00:21,  1.25it/s, train_loss=0.333]\n",
      "\u001b[Aining Batches:  16%|█▌        | 5/31 [00:04<00:21,  1.23it/s, train_loss=0.333]\n",
      "\u001b[Aining Batches:  16%|█▌        | 5/31 [00:04<00:21,  1.23it/s, train_loss=0.242]\n",
      "\u001b[Aining Batches:  19%|█▉        | 6/31 [00:04<00:20,  1.22it/s, train_loss=0.242]\n",
      "\u001b[Aining Batches:  19%|█▉        | 6/31 [00:05<00:20,  1.22it/s, train_loss=0.19] \n",
      "\u001b[Aining Batches:  23%|██▎       | 7/31 [00:05<00:19,  1.25it/s, train_loss=0.19]\n",
      "\u001b[Aining Batches:  23%|██▎       | 7/31 [00:06<00:19,  1.25it/s, train_loss=0.195]\n",
      "\u001b[Aining Batches:  26%|██▌       | 8/31 [00:06<00:18,  1.24it/s, train_loss=0.195]\n",
      "\u001b[Aining Batches:  26%|██▌       | 8/31 [00:07<00:18,  1.24it/s, train_loss=0.245]\n",
      "\u001b[Aining Batches:  29%|██▉       | 9/31 [00:07<00:17,  1.24it/s, train_loss=0.245]\n",
      "\u001b[Aining Batches:  29%|██▉       | 9/31 [00:08<00:17,  1.24it/s, train_loss=0.362]\n",
      "\u001b[Aining Batches:  32%|███▏      | 10/31 [00:08<00:16,  1.24it/s, train_loss=0.362]\n",
      "\u001b[Aining Batches:  32%|███▏      | 10/31 [00:08<00:16,  1.24it/s, train_loss=0.452]\n",
      "\u001b[Aining Batches:  35%|███▌      | 11/31 [00:08<00:15,  1.28it/s, train_loss=0.452]\n",
      "\u001b[Aining Batches:  35%|███▌      | 11/31 [00:09<00:15,  1.28it/s, train_loss=0.327]\n",
      "\u001b[Aining Batches:  39%|███▊      | 12/31 [00:09<00:15,  1.26it/s, train_loss=0.327]\n",
      "\u001b[Aining Batches:  39%|███▊      | 12/31 [00:10<00:15,  1.26it/s, train_loss=0.12] \n",
      "\u001b[Aining Batches:  42%|████▏     | 13/31 [00:10<00:14,  1.27it/s, train_loss=0.12]\n",
      "\u001b[Aining Batches:  42%|████▏     | 13/31 [00:11<00:14,  1.27it/s, train_loss=0.291]\n",
      "\u001b[Aining Batches:  45%|████▌     | 14/31 [00:11<00:13,  1.27it/s, train_loss=0.291]\n",
      "\u001b[Aining Batches:  45%|████▌     | 14/31 [00:11<00:13,  1.27it/s, train_loss=0.216]\n",
      "\u001b[Aining Batches:  48%|████▊     | 15/31 [00:11<00:12,  1.26it/s, train_loss=0.216]\n",
      "\u001b[Aining Batches:  48%|████▊     | 15/31 [00:12<00:12,  1.26it/s, train_loss=0.395]\n",
      "\u001b[Aining Batches:  52%|█████▏    | 16/31 [00:12<00:11,  1.28it/s, train_loss=0.395]\n",
      "\u001b[Aining Batches:  52%|█████▏    | 16/31 [00:13<00:11,  1.28it/s, train_loss=0.319]\n",
      "\u001b[Aining Batches:  55%|█████▍    | 17/31 [00:13<00:11,  1.26it/s, train_loss=0.319]\n",
      "\u001b[Aining Batches:  55%|█████▍    | 17/31 [00:14<00:11,  1.26it/s, train_loss=0.143]\n",
      "\u001b[Aining Batches:  58%|█████▊    | 18/31 [00:14<00:10,  1.24it/s, train_loss=0.143]\n",
      "\u001b[Aining Batches:  58%|█████▊    | 18/31 [00:15<00:10,  1.24it/s, train_loss=0.158]\n",
      "\u001b[Aining Batches:  61%|██████▏   | 19/31 [00:15<00:09,  1.24it/s, train_loss=0.158]\n",
      "\u001b[Aining Batches:  61%|██████▏   | 19/31 [00:16<00:09,  1.24it/s, train_loss=0.197]\n",
      "\u001b[Aining Batches:  65%|██████▍   | 20/31 [00:16<00:08,  1.23it/s, train_loss=0.197]\n",
      "\u001b[Aining Batches:  65%|██████▍   | 20/31 [00:16<00:08,  1.23it/s, train_loss=0.242]\n",
      "\u001b[Aining Batches:  68%|██████▊   | 21/31 [00:16<00:08,  1.24it/s, train_loss=0.242]\n",
      "\u001b[Aining Batches:  68%|██████▊   | 21/31 [00:17<00:08,  1.24it/s, train_loss=0.303]\n",
      "\u001b[Aining Batches:  71%|███████   | 22/31 [00:17<00:07,  1.21it/s, train_loss=0.303]\n",
      "\u001b[Aining Batches:  71%|███████   | 22/31 [00:18<00:07,  1.21it/s, train_loss=0.208]\n",
      "\u001b[Aining Batches:  74%|███████▍  | 23/31 [00:18<00:06,  1.22it/s, train_loss=0.208]\n",
      "\u001b[Aining Batches:  74%|███████▍  | 23/31 [00:19<00:06,  1.22it/s, train_loss=0.406]\n",
      "\u001b[Aining Batches:  77%|███████▋  | 24/31 [00:19<00:05,  1.25it/s, train_loss=0.406]\n",
      "\u001b[Aining Batches:  77%|███████▋  | 24/31 [00:20<00:05,  1.25it/s, train_loss=0.272]\n",
      "\u001b[Aining Batches:  81%|████████  | 25/31 [00:20<00:04,  1.23it/s, train_loss=0.272]\n",
      "\u001b[Aining Batches:  81%|████████  | 25/31 [00:20<00:04,  1.23it/s, train_loss=0.169]\n",
      "\u001b[Aining Batches:  84%|████████▍ | 26/31 [00:20<00:04,  1.24it/s, train_loss=0.169]\n",
      "\u001b[Aining Batches:  84%|████████▍ | 26/31 [00:21<00:04,  1.24it/s, train_loss=0.2]  \n",
      "\u001b[Aining Batches:  87%|████████▋ | 27/31 [00:21<00:03,  1.23it/s, train_loss=0.2]\n",
      "\u001b[Aining Batches:  87%|████████▋ | 27/31 [00:22<00:03,  1.23it/s, train_loss=0.236]\n",
      "\u001b[Aining Batches:  90%|█████████ | 28/31 [00:22<00:02,  1.26it/s, train_loss=0.236]\n",
      "\u001b[Aining Batches:  90%|█████████ | 28/31 [00:23<00:02,  1.26it/s, train_loss=0.497]\n",
      "\u001b[Aining Batches:  94%|█████████▎| 29/31 [00:23<00:01,  1.26it/s, train_loss=0.497]\n",
      "\u001b[Aining Batches:  94%|█████████▎| 29/31 [00:24<00:01,  1.26it/s, train_loss=0.282]\n",
      "\u001b[Aining Batches:  97%|█████████▋| 30/31 [00:24<00:00,  1.26it/s, train_loss=0.282]\n",
      "\u001b[Aining Batches:  97%|█████████▋| 30/31 [00:24<00:00,  1.26it/s, train_loss=0.268]\n",
      "\u001b[Aining Batches: 100%|██████████| 31/31 [00:24<00:00,  1.58it/s, train_loss=0.268]\n",
      "\u001b[A                                                                                "
     ]
    },
    {
     "name": "stdout",
     "output_type": "stream",
     "text": [
      "epoch 41 average loss: 0.2559\n"
     ]
    },
    {
     "name": "stderr",
     "output_type": "stream",
     "text": [
      "Epochs:  59%|█████▊    | 41/70 [17:04<12:01, 24.88s/it]"
     ]
    },
    {
     "name": "stdout",
     "output_type": "stream",
     "text": [
      "1\n",
      "current epoch: 41 current AUC: 0.9917 current accuracy: 0.8882 best AUC: 0.9930 at epoch: 11\n",
      "----------\n",
      "epoch 42/70\n"
     ]
    },
    {
     "name": "stderr",
     "output_type": "stream",
     "text": [
      "\n",
      "\u001b[Aining Batches:   0%|          | 0/31 [00:00<?, ?it/s]\n",
      "\u001b[Aining Batches:   0%|          | 0/31 [00:00<?, ?it/s, train_loss=0.15]\n",
      "\u001b[Aining Batches:   3%|▎         | 1/31 [00:00<00:24,  1.23it/s, train_loss=0.15]\n",
      "\u001b[Aining Batches:   3%|▎         | 1/31 [00:01<00:24,  1.23it/s, train_loss=0.21]\n",
      "\u001b[Aining Batches:   6%|▋         | 2/31 [00:01<00:23,  1.22it/s, train_loss=0.21]\n",
      "\u001b[Aining Batches:   6%|▋         | 2/31 [00:02<00:23,  1.22it/s, train_loss=0.213]\n",
      "\u001b[Aining Batches:  10%|▉         | 3/31 [00:02<00:21,  1.28it/s, train_loss=0.213]\n",
      "\u001b[Aining Batches:  10%|▉         | 3/31 [00:03<00:21,  1.28it/s, train_loss=0.295]\n",
      "\u001b[Aining Batches:  13%|█▎        | 4/31 [00:03<00:21,  1.25it/s, train_loss=0.295]\n",
      "\u001b[Aining Batches:  13%|█▎        | 4/31 [00:04<00:21,  1.25it/s, train_loss=0.266]\n",
      "\u001b[Aining Batches:  16%|█▌        | 5/31 [00:04<00:20,  1.24it/s, train_loss=0.266]\n",
      "\u001b[Aining Batches:  16%|█▌        | 5/31 [00:04<00:20,  1.24it/s, train_loss=0.292]\n",
      "\u001b[Aining Batches:  19%|█▉        | 6/31 [00:04<00:20,  1.23it/s, train_loss=0.292]\n",
      "\u001b[Aining Batches:  19%|█▉        | 6/31 [00:05<00:20,  1.23it/s, train_loss=0.144]\n",
      "\u001b[Aining Batches:  23%|██▎       | 7/31 [00:05<00:18,  1.26it/s, train_loss=0.144]\n",
      "\u001b[Aining Batches:  23%|██▎       | 7/31 [00:06<00:18,  1.26it/s, train_loss=0.22] \n",
      "\u001b[Aining Batches:  26%|██▌       | 8/31 [00:06<00:18,  1.26it/s, train_loss=0.22]\n",
      "\u001b[Aining Batches:  26%|██▌       | 8/31 [00:07<00:18,  1.26it/s, train_loss=0.148]\n",
      "\u001b[Aining Batches:  29%|██▉       | 9/31 [00:07<00:17,  1.24it/s, train_loss=0.148]\n",
      "\u001b[Aining Batches:  29%|██▉       | 9/31 [00:08<00:17,  1.24it/s, train_loss=0.179]\n",
      "\u001b[Aining Batches:  32%|███▏      | 10/31 [00:08<00:16,  1.25it/s, train_loss=0.179]\n",
      "\u001b[Aining Batches:  32%|███▏      | 10/31 [00:08<00:16,  1.25it/s, train_loss=0.244]\n",
      "\u001b[Aining Batches:  35%|███▌      | 11/31 [00:08<00:16,  1.25it/s, train_loss=0.244]\n",
      "\u001b[Aining Batches:  35%|███▌      | 11/31 [00:09<00:16,  1.25it/s, train_loss=0.427]\n",
      "\u001b[Aining Batches:  39%|███▊      | 12/31 [00:09<00:15,  1.25it/s, train_loss=0.427]\n",
      "\u001b[Aining Batches:  39%|███▊      | 12/31 [00:10<00:15,  1.25it/s, train_loss=0.195]\n",
      "\u001b[Aining Batches:  42%|████▏     | 13/31 [00:10<00:14,  1.24it/s, train_loss=0.195]\n",
      "\u001b[Aining Batches:  42%|████▏     | 13/31 [00:11<00:14,  1.24it/s, train_loss=0.135]\n",
      "\u001b[Aining Batches:  45%|████▌     | 14/31 [00:11<00:13,  1.24it/s, train_loss=0.135]\n",
      "\u001b[Aining Batches:  45%|████▌     | 14/31 [00:12<00:13,  1.24it/s, train_loss=0.185]\n",
      "\u001b[Aining Batches:  48%|████▊     | 15/31 [00:12<00:12,  1.23it/s, train_loss=0.185]\n",
      "\u001b[Aining Batches:  48%|████▊     | 15/31 [00:12<00:12,  1.23it/s, train_loss=0.391]\n",
      "\u001b[Aining Batches:  52%|█████▏    | 16/31 [00:12<00:12,  1.22it/s, train_loss=0.391]\n",
      "\u001b[Aining Batches:  52%|█████▏    | 16/31 [00:13<00:12,  1.22it/s, train_loss=0.153]\n",
      "\u001b[Aining Batches:  55%|█████▍    | 17/31 [00:13<00:11,  1.22it/s, train_loss=0.153]\n",
      "\u001b[Aining Batches:  55%|█████▍    | 17/31 [00:14<00:11,  1.22it/s, train_loss=0.344]\n",
      "\u001b[Aining Batches:  58%|█████▊    | 18/31 [00:14<00:10,  1.25it/s, train_loss=0.344]\n",
      "\u001b[Aining Batches:  58%|█████▊    | 18/31 [00:15<00:10,  1.25it/s, train_loss=0.245]\n",
      "\u001b[Aining Batches:  61%|██████▏   | 19/31 [00:15<00:09,  1.23it/s, train_loss=0.245]\n",
      "\u001b[Aining Batches:  61%|██████▏   | 19/31 [00:16<00:09,  1.23it/s, train_loss=0.279]\n",
      "\u001b[Aining Batches:  65%|██████▍   | 20/31 [00:16<00:08,  1.22it/s, train_loss=0.279]\n",
      "\u001b[Aining Batches:  65%|██████▍   | 20/31 [00:16<00:08,  1.22it/s, train_loss=0.199]\n",
      "\u001b[Aining Batches:  68%|██████▊   | 21/31 [00:16<00:08,  1.22it/s, train_loss=0.199]\n",
      "\u001b[Aining Batches:  68%|██████▊   | 21/31 [00:17<00:08,  1.22it/s, train_loss=0.24] \n",
      "\u001b[Aining Batches:  71%|███████   | 22/31 [00:17<00:07,  1.24it/s, train_loss=0.24]\n",
      "\u001b[Aining Batches:  71%|███████   | 22/31 [00:18<00:07,  1.24it/s, train_loss=0.212]\n",
      "\u001b[Aining Batches:  74%|███████▍  | 23/31 [00:18<00:06,  1.23it/s, train_loss=0.212]\n",
      "\u001b[Aining Batches:  74%|███████▍  | 23/31 [00:19<00:06,  1.23it/s, train_loss=0.262]\n",
      "\u001b[Aining Batches:  77%|███████▋  | 24/31 [00:19<00:05,  1.24it/s, train_loss=0.262]\n",
      "\u001b[Aining Batches:  77%|███████▋  | 24/31 [00:20<00:05,  1.24it/s, train_loss=0.203]\n",
      "\u001b[Aining Batches:  81%|████████  | 25/31 [00:20<00:04,  1.26it/s, train_loss=0.203]\n",
      "\u001b[Aining Batches:  81%|████████  | 25/31 [00:20<00:04,  1.26it/s, train_loss=0.275]\n",
      "\u001b[Aining Batches:  84%|████████▍ | 26/31 [00:20<00:03,  1.27it/s, train_loss=0.275]\n",
      "\u001b[Aining Batches:  84%|████████▍ | 26/31 [00:21<00:03,  1.27it/s, train_loss=0.212]\n",
      "\u001b[Aining Batches:  87%|████████▋ | 27/31 [00:21<00:03,  1.26it/s, train_loss=0.212]\n",
      "\u001b[Aining Batches:  87%|████████▋ | 27/31 [00:22<00:03,  1.26it/s, train_loss=0.144]\n",
      "\u001b[Aining Batches:  90%|█████████ | 28/31 [00:22<00:02,  1.24it/s, train_loss=0.144]\n",
      "\u001b[Aining Batches:  90%|█████████ | 28/31 [00:23<00:02,  1.24it/s, train_loss=0.191]\n",
      "\u001b[Aining Batches:  94%|█████████▎| 29/31 [00:23<00:01,  1.23it/s, train_loss=0.191]\n",
      "\u001b[Aining Batches:  94%|█████████▎| 29/31 [00:24<00:01,  1.23it/s, train_loss=0.223]\n",
      "\u001b[Aining Batches:  97%|█████████▋| 30/31 [00:24<00:00,  1.24it/s, train_loss=0.223]\n",
      "\u001b[Aining Batches:  97%|█████████▋| 30/31 [00:24<00:00,  1.24it/s, train_loss=0.176]\n",
      "\u001b[Aining Batches: 100%|██████████| 31/31 [00:24<00:00,  1.58it/s, train_loss=0.176]\n",
      "\u001b[A                                                                                "
     ]
    },
    {
     "name": "stdout",
     "output_type": "stream",
     "text": [
      "epoch 42 average loss: 0.2275\n"
     ]
    },
    {
     "name": "stderr",
     "output_type": "stream",
     "text": [
      "Epochs:  60%|██████    | 42/70 [17:29<11:37, 24.91s/it]"
     ]
    },
    {
     "name": "stdout",
     "output_type": "stream",
     "text": [
      "1\n",
      "current epoch: 42 current AUC: 0.9922 current accuracy: 0.8882 best AUC: 0.9930 at epoch: 11\n",
      "----------\n",
      "epoch 43/70\n"
     ]
    },
    {
     "name": "stderr",
     "output_type": "stream",
     "text": [
      "\n",
      "\u001b[Aining Batches:   0%|          | 0/31 [00:00<?, ?it/s]\n",
      "\u001b[Aining Batches:   0%|          | 0/31 [00:00<?, ?it/s, train_loss=0.142]\n",
      "\u001b[Aining Batches:   3%|▎         | 1/31 [00:00<00:23,  1.26it/s, train_loss=0.142]\n",
      "\u001b[Aining Batches:   3%|▎         | 1/31 [00:01<00:23,  1.26it/s, train_loss=0.142]\n",
      "\u001b[Aining Batches:   6%|▋         | 2/31 [00:01<00:22,  1.28it/s, train_loss=0.142]\n",
      "\u001b[Aining Batches:   6%|▋         | 2/31 [00:02<00:22,  1.28it/s, train_loss=0.208]\n",
      "\u001b[Aining Batches:  10%|▉         | 3/31 [00:02<00:22,  1.23it/s, train_loss=0.208]\n",
      "\u001b[Aining Batches:  10%|▉         | 3/31 [00:03<00:22,  1.23it/s, train_loss=0.121]\n",
      "\u001b[Aining Batches:  13%|█▎        | 4/31 [00:03<00:21,  1.24it/s, train_loss=0.121]\n",
      "\u001b[Aining Batches:  13%|█▎        | 4/31 [00:04<00:21,  1.24it/s, train_loss=0.173]\n",
      "\u001b[Aining Batches:  16%|█▌        | 5/31 [00:04<00:21,  1.24it/s, train_loss=0.173]\n",
      "\u001b[Aining Batches:  16%|█▌        | 5/31 [00:04<00:21,  1.24it/s, train_loss=0.174]\n",
      "\u001b[Aining Batches:  19%|█▉        | 6/31 [00:04<00:20,  1.25it/s, train_loss=0.174]\n",
      "\u001b[Aining Batches:  19%|█▉        | 6/31 [00:05<00:20,  1.25it/s, train_loss=0.297]\n",
      "\u001b[Aining Batches:  23%|██▎       | 7/31 [00:05<00:19,  1.25it/s, train_loss=0.297]\n",
      "\u001b[Aining Batches:  23%|██▎       | 7/31 [00:06<00:19,  1.25it/s, train_loss=0.0846]\n",
      "\u001b[Aining Batches:  26%|██▌       | 8/31 [00:06<00:17,  1.31it/s, train_loss=0.0846]\n",
      "\u001b[Aining Batches:  26%|██▌       | 8/31 [00:07<00:17,  1.31it/s, train_loss=0.237] \n",
      "\u001b[Aining Batches:  29%|██▉       | 9/31 [00:07<00:17,  1.28it/s, train_loss=0.237]\n",
      "\u001b[Aining Batches:  29%|██▉       | 9/31 [00:07<00:17,  1.28it/s, train_loss=0.218]\n",
      "\u001b[Aining Batches:  32%|███▏      | 10/31 [00:07<00:16,  1.26it/s, train_loss=0.218]\n",
      "\u001b[Aining Batches:  32%|███▏      | 10/31 [00:08<00:16,  1.26it/s, train_loss=0.196]\n",
      "\u001b[Aining Batches:  35%|███▌      | 11/31 [00:08<00:15,  1.26it/s, train_loss=0.196]\n",
      "\u001b[Aining Batches:  35%|███▌      | 11/31 [00:09<00:15,  1.26it/s, train_loss=0.507]\n",
      "\u001b[Aining Batches:  39%|███▊      | 12/31 [00:09<00:14,  1.27it/s, train_loss=0.507]\n",
      "\u001b[Aining Batches:  39%|███▊      | 12/31 [00:10<00:14,  1.27it/s, train_loss=0.158]\n",
      "\u001b[Aining Batches:  42%|████▏     | 13/31 [00:10<00:14,  1.28it/s, train_loss=0.158]\n",
      "\u001b[Aining Batches:  42%|████▏     | 13/31 [00:11<00:14,  1.28it/s, train_loss=0.144]\n",
      "\u001b[Aining Batches:  45%|████▌     | 14/31 [00:11<00:13,  1.26it/s, train_loss=0.144]\n",
      "\u001b[Aining Batches:  45%|████▌     | 14/31 [00:11<00:13,  1.26it/s, train_loss=0.156]\n",
      "\u001b[Aining Batches:  48%|████▊     | 15/31 [00:11<00:12,  1.27it/s, train_loss=0.156]\n",
      "\u001b[Aining Batches:  48%|████▊     | 15/31 [00:12<00:12,  1.27it/s, train_loss=0.142]\n",
      "\u001b[Aining Batches:  52%|█████▏    | 16/31 [00:12<00:11,  1.26it/s, train_loss=0.142]\n",
      "\u001b[Aining Batches:  52%|█████▏    | 16/31 [00:13<00:11,  1.26it/s, train_loss=0.189]\n",
      "\u001b[Aining Batches:  55%|█████▍    | 17/31 [00:13<00:11,  1.25it/s, train_loss=0.189]\n",
      "\u001b[Aining Batches:  55%|█████▍    | 17/31 [00:14<00:11,  1.25it/s, train_loss=0.32] \n",
      "\u001b[Aining Batches:  58%|█████▊    | 18/31 [00:14<00:10,  1.27it/s, train_loss=0.32]\n",
      "\u001b[Aining Batches:  58%|█████▊    | 18/31 [00:15<00:10,  1.27it/s, train_loss=0.177]\n",
      "\u001b[Aining Batches:  61%|██████▏   | 19/31 [00:15<00:09,  1.26it/s, train_loss=0.177]\n",
      "\u001b[Aining Batches:  61%|██████▏   | 19/31 [00:15<00:09,  1.26it/s, train_loss=0.141]\n",
      "\u001b[Aining Batches:  65%|██████▍   | 20/31 [00:15<00:08,  1.26it/s, train_loss=0.141]\n",
      "\u001b[Aining Batches:  65%|██████▍   | 20/31 [00:16<00:08,  1.26it/s, train_loss=0.371]\n",
      "\u001b[Aining Batches:  68%|██████▊   | 21/31 [00:16<00:07,  1.26it/s, train_loss=0.371]\n",
      "\u001b[Aining Batches:  68%|██████▊   | 21/31 [00:17<00:07,  1.26it/s, train_loss=0.368]\n",
      "\u001b[Aining Batches:  71%|███████   | 22/31 [00:17<00:07,  1.25it/s, train_loss=0.368]\n",
      "\u001b[Aining Batches:  71%|███████   | 22/31 [00:18<00:07,  1.25it/s, train_loss=0.146]\n",
      "\u001b[Aining Batches:  74%|███████▍  | 23/31 [00:18<00:06,  1.24it/s, train_loss=0.146]\n",
      "\u001b[Aining Batches:  74%|███████▍  | 23/31 [00:19<00:06,  1.24it/s, train_loss=0.266]\n",
      "\u001b[Aining Batches:  77%|███████▋  | 24/31 [00:19<00:05,  1.27it/s, train_loss=0.266]\n",
      "\u001b[Aining Batches:  77%|███████▋  | 24/31 [00:19<00:05,  1.27it/s, train_loss=0.281]\n",
      "\u001b[Aining Batches:  81%|████████  | 25/31 [00:19<00:04,  1.27it/s, train_loss=0.281]\n",
      "\u001b[Aining Batches:  81%|████████  | 25/31 [00:20<00:04,  1.27it/s, train_loss=0.116]\n",
      "\u001b[Aining Batches:  84%|████████▍ | 26/31 [00:20<00:03,  1.25it/s, train_loss=0.116]\n",
      "\u001b[Aining Batches:  84%|████████▍ | 26/31 [00:21<00:03,  1.25it/s, train_loss=0.262]\n",
      "\u001b[Aining Batches:  87%|████████▋ | 27/31 [00:21<00:03,  1.25it/s, train_loss=0.262]\n",
      "\u001b[Aining Batches:  87%|████████▋ | 27/31 [00:22<00:03,  1.25it/s, train_loss=0.22] \n",
      "\u001b[Aining Batches:  90%|█████████ | 28/31 [00:22<00:02,  1.27it/s, train_loss=0.22]\n",
      "\u001b[Aining Batches:  90%|█████████ | 28/31 [00:22<00:02,  1.27it/s, train_loss=0.184]\n",
      "\u001b[Aining Batches:  94%|█████████▎| 29/31 [00:22<00:01,  1.28it/s, train_loss=0.184]\n",
      "\u001b[Aining Batches:  94%|█████████▎| 29/31 [00:23<00:01,  1.28it/s, train_loss=0.169]\n",
      "\u001b[Aining Batches:  97%|█████████▋| 30/31 [00:23<00:00,  1.24it/s, train_loss=0.169]\n",
      "\u001b[Aining Batches:  97%|█████████▋| 30/31 [00:24<00:00,  1.24it/s, train_loss=0.165]\n",
      "\u001b[Aining Batches: 100%|██████████| 31/31 [00:24<00:00,  1.56it/s, train_loss=0.165]\n",
      "\u001b[A                                                                                "
     ]
    },
    {
     "name": "stdout",
     "output_type": "stream",
     "text": [
      "epoch 43 average loss: 0.2088\n"
     ]
    },
    {
     "name": "stderr",
     "output_type": "stream",
     "text": [
      "Epochs:  61%|██████▏   | 43/70 [17:54<11:10, 24.85s/it]"
     ]
    },
    {
     "name": "stdout",
     "output_type": "stream",
     "text": [
      "1\n",
      "current epoch: 43 current AUC: 0.9908 current accuracy: 0.8944 best AUC: 0.9930 at epoch: 11\n",
      "----------\n",
      "epoch 44/70\n"
     ]
    },
    {
     "name": "stderr",
     "output_type": "stream",
     "text": [
      "\n",
      "\u001b[Aining Batches:   0%|          | 0/31 [00:00<?, ?it/s]\n",
      "\u001b[Aining Batches:   0%|          | 0/31 [00:00<?, ?it/s, train_loss=0.194]\n",
      "\u001b[Aining Batches:   3%|▎         | 1/31 [00:00<00:24,  1.23it/s, train_loss=0.194]\n",
      "\u001b[Aining Batches:   3%|▎         | 1/31 [00:01<00:24,  1.23it/s, train_loss=0.117]\n",
      "\u001b[Aining Batches:   6%|▋         | 2/31 [00:01<00:23,  1.25it/s, train_loss=0.117]\n",
      "\u001b[Aining Batches:   6%|▋         | 2/31 [00:02<00:23,  1.25it/s, train_loss=0.116]\n",
      "\u001b[Aining Batches:  10%|▉         | 3/31 [00:02<00:21,  1.27it/s, train_loss=0.116]\n",
      "\u001b[Aining Batches:  10%|▉         | 3/31 [00:03<00:21,  1.27it/s, train_loss=0.14] \n",
      "\u001b[Aining Batches:  13%|█▎        | 4/31 [00:03<00:21,  1.24it/s, train_loss=0.14]\n",
      "\u001b[Aining Batches:  13%|█▎        | 4/31 [00:03<00:21,  1.24it/s, train_loss=0.263]\n",
      "\u001b[Aining Batches:  16%|█▌        | 5/31 [00:03<00:20,  1.26it/s, train_loss=0.263]\n",
      "\u001b[Aining Batches:  16%|█▌        | 5/31 [00:04<00:20,  1.26it/s, train_loss=0.23] \n",
      "\u001b[Aining Batches:  19%|█▉        | 6/31 [00:04<00:19,  1.28it/s, train_loss=0.23]\n",
      "\u001b[Aining Batches:  19%|█▉        | 6/31 [00:05<00:19,  1.28it/s, train_loss=0.16]\n",
      "\u001b[Aining Batches:  23%|██▎       | 7/31 [00:05<00:18,  1.28it/s, train_loss=0.16]\n",
      "\u001b[Aining Batches:  23%|██▎       | 7/31 [00:06<00:18,  1.28it/s, train_loss=0.204]\n",
      "\u001b[Aining Batches:  26%|██▌       | 8/31 [00:06<00:18,  1.26it/s, train_loss=0.204]\n",
      "\u001b[Aining Batches:  26%|██▌       | 8/31 [00:07<00:18,  1.26it/s, train_loss=0.368]\n",
      "\u001b[Aining Batches:  29%|██▉       | 9/31 [00:07<00:17,  1.24it/s, train_loss=0.368]\n",
      "\u001b[Aining Batches:  29%|██▉       | 9/31 [00:07<00:17,  1.24it/s, train_loss=0.211]\n",
      "\u001b[Aining Batches:  32%|███▏      | 10/31 [00:07<00:16,  1.24it/s, train_loss=0.211]\n",
      "\u001b[Aining Batches:  32%|███▏      | 10/31 [00:08<00:16,  1.24it/s, train_loss=0.288]\n",
      "\u001b[Aining Batches:  35%|███▌      | 11/31 [00:08<00:15,  1.27it/s, train_loss=0.288]\n",
      "\u001b[Aining Batches:  35%|███▌      | 11/31 [00:09<00:15,  1.27it/s, train_loss=0.176]\n",
      "\u001b[Aining Batches:  39%|███▊      | 12/31 [00:09<00:14,  1.27it/s, train_loss=0.176]\n",
      "\u001b[Aining Batches:  39%|███▊      | 12/31 [00:10<00:14,  1.27it/s, train_loss=0.248]\n",
      "\u001b[Aining Batches:  42%|████▏     | 13/31 [00:10<00:14,  1.27it/s, train_loss=0.248]\n",
      "\u001b[Aining Batches:  42%|████▏     | 13/31 [00:11<00:14,  1.27it/s, train_loss=0.353]\n",
      "\u001b[Aining Batches:  45%|████▌     | 14/31 [00:11<00:13,  1.25it/s, train_loss=0.353]\n",
      "\u001b[Aining Batches:  45%|████▌     | 14/31 [00:11<00:13,  1.25it/s, train_loss=0.188]\n",
      "\u001b[Aining Batches:  48%|████▊     | 15/31 [00:11<00:12,  1.25it/s, train_loss=0.188]\n",
      "\u001b[Aining Batches:  48%|████▊     | 15/31 [00:12<00:12,  1.25it/s, train_loss=0.237]\n",
      "\u001b[Aining Batches:  52%|█████▏    | 16/31 [00:12<00:11,  1.27it/s, train_loss=0.237]\n",
      "\u001b[Aining Batches:  52%|█████▏    | 16/31 [00:13<00:11,  1.27it/s, train_loss=0.265]\n",
      "\u001b[Aining Batches:  55%|█████▍    | 17/31 [00:13<00:10,  1.29it/s, train_loss=0.265]\n",
      "\u001b[Aining Batches:  55%|█████▍    | 17/31 [00:14<00:10,  1.29it/s, train_loss=0.174]\n",
      "\u001b[Aining Batches:  58%|█████▊    | 18/31 [00:14<00:10,  1.29it/s, train_loss=0.174]\n",
      "\u001b[Aining Batches:  58%|█████▊    | 18/31 [00:14<00:10,  1.29it/s, train_loss=0.273]\n",
      "\u001b[Aining Batches:  61%|██████▏   | 19/31 [00:14<00:09,  1.29it/s, train_loss=0.273]\n",
      "\u001b[Aining Batches:  61%|██████▏   | 19/31 [00:15<00:09,  1.29it/s, train_loss=0.338]\n",
      "\u001b[Aining Batches:  65%|██████▍   | 20/31 [00:15<00:08,  1.28it/s, train_loss=0.338]\n",
      "\u001b[Aining Batches:  65%|██████▍   | 20/31 [00:16<00:08,  1.28it/s, train_loss=0.344]\n",
      "\u001b[Aining Batches:  68%|██████▊   | 21/31 [00:16<00:07,  1.28it/s, train_loss=0.344]\n",
      "\u001b[Aining Batches:  68%|██████▊   | 21/31 [00:17<00:07,  1.28it/s, train_loss=0.155]\n",
      "\u001b[Aining Batches:  71%|███████   | 22/31 [00:17<00:07,  1.28it/s, train_loss=0.155]\n",
      "\u001b[Aining Batches:  71%|███████   | 22/31 [00:18<00:07,  1.28it/s, train_loss=0.318]\n",
      "\u001b[Aining Batches:  74%|███████▍  | 23/31 [00:18<00:06,  1.30it/s, train_loss=0.318]\n",
      "\u001b[Aining Batches:  74%|███████▍  | 23/31 [00:18<00:06,  1.30it/s, train_loss=0.385]\n",
      "\u001b[Aining Batches:  77%|███████▋  | 24/31 [00:18<00:05,  1.31it/s, train_loss=0.385]\n",
      "\u001b[Aining Batches:  77%|███████▋  | 24/31 [00:19<00:05,  1.31it/s, train_loss=0.162]\n",
      "\u001b[Aining Batches:  81%|████████  | 25/31 [00:19<00:04,  1.32it/s, train_loss=0.162]\n",
      "\u001b[Aining Batches:  81%|████████  | 25/31 [00:20<00:04,  1.32it/s, train_loss=0.251]\n",
      "\u001b[Aining Batches:  84%|████████▍ | 26/31 [00:20<00:03,  1.30it/s, train_loss=0.251]\n",
      "\u001b[Aining Batches:  84%|████████▍ | 26/31 [00:21<00:03,  1.30it/s, train_loss=0.195]\n",
      "\u001b[Aining Batches:  87%|████████▋ | 27/31 [00:21<00:03,  1.28it/s, train_loss=0.195]\n",
      "\u001b[Aining Batches:  87%|████████▋ | 27/31 [00:21<00:03,  1.28it/s, train_loss=0.163]\n",
      "\u001b[Aining Batches:  90%|█████████ | 28/31 [00:21<00:02,  1.29it/s, train_loss=0.163]\n",
      "\u001b[Aining Batches:  90%|█████████ | 28/31 [00:22<00:02,  1.29it/s, train_loss=0.264]\n",
      "\u001b[Aining Batches:  94%|█████████▎| 29/31 [00:22<00:01,  1.28it/s, train_loss=0.264]\n",
      "\u001b[Aining Batches:  94%|█████████▎| 29/31 [00:23<00:01,  1.28it/s, train_loss=0.167]\n",
      "\u001b[Aining Batches:  97%|█████████▋| 30/31 [00:23<00:00,  1.26it/s, train_loss=0.167]\n",
      "\u001b[Aining Batches:  97%|█████████▋| 30/31 [00:23<00:00,  1.26it/s, train_loss=0.157]\n",
      "\u001b[Aining Batches: 100%|██████████| 31/31 [00:23<00:00,  1.56it/s, train_loss=0.157]\n",
      "\u001b[A                                                                                "
     ]
    },
    {
     "name": "stdout",
     "output_type": "stream",
     "text": [
      "epoch 44 average loss: 0.2291\n"
     ]
    },
    {
     "name": "stderr",
     "output_type": "stream",
     "text": [
      "Epochs:  63%|██████▎   | 44/70 [18:18<10:42, 24.73s/it]"
     ]
    },
    {
     "name": "stdout",
     "output_type": "stream",
     "text": [
      "1\n",
      "current epoch: 44 current AUC: 0.9925 current accuracy: 0.8882 best AUC: 0.9930 at epoch: 11\n",
      "----------\n",
      "epoch 45/70\n"
     ]
    },
    {
     "name": "stderr",
     "output_type": "stream",
     "text": [
      "\n",
      "\u001b[Aining Batches:   0%|          | 0/31 [00:00<?, ?it/s]\n",
      "\u001b[Aining Batches:   0%|          | 0/31 [00:00<?, ?it/s, train_loss=0.228]\n",
      "\u001b[Aining Batches:   3%|▎         | 1/31 [00:00<00:23,  1.29it/s, train_loss=0.228]\n",
      "\u001b[Aining Batches:   3%|▎         | 1/31 [00:01<00:23,  1.29it/s, train_loss=0.371]\n",
      "\u001b[Aining Batches:   6%|▋         | 2/31 [00:01<00:23,  1.24it/s, train_loss=0.371]\n",
      "\u001b[Aining Batches:   6%|▋         | 2/31 [00:02<00:23,  1.24it/s, train_loss=0.219]\n",
      "\u001b[Aining Batches:  10%|▉         | 3/31 [00:02<00:22,  1.26it/s, train_loss=0.219]\n",
      "\u001b[Aining Batches:  10%|▉         | 3/31 [00:03<00:22,  1.26it/s, train_loss=0.1]  \n",
      "\u001b[Aining Batches:  13%|█▎        | 4/31 [00:03<00:21,  1.25it/s, train_loss=0.1]\n",
      "\u001b[Aining Batches:  13%|█▎        | 4/31 [00:03<00:21,  1.25it/s, train_loss=0.237]\n",
      "\u001b[Aining Batches:  16%|█▌        | 5/31 [00:03<00:20,  1.25it/s, train_loss=0.237]\n",
      "\u001b[Aining Batches:  16%|█▌        | 5/31 [00:04<00:20,  1.25it/s, train_loss=0.218]\n",
      "\u001b[Aining Batches:  19%|█▉        | 6/31 [00:04<00:19,  1.26it/s, train_loss=0.218]\n",
      "\u001b[Aining Batches:  19%|█▉        | 6/31 [00:05<00:19,  1.26it/s, train_loss=0.182]\n",
      "\u001b[Aining Batches:  23%|██▎       | 7/31 [00:05<00:18,  1.28it/s, train_loss=0.182]\n",
      "\u001b[Aining Batches:  23%|██▎       | 7/31 [00:06<00:18,  1.28it/s, train_loss=0.567]\n",
      "\u001b[Aining Batches:  26%|██▌       | 8/31 [00:06<00:17,  1.28it/s, train_loss=0.567]\n",
      "\u001b[Aining Batches:  26%|██▌       | 8/31 [00:07<00:17,  1.28it/s, train_loss=0.162]\n",
      "\u001b[Aining Batches:  29%|██▉       | 9/31 [00:07<00:17,  1.26it/s, train_loss=0.162]\n",
      "\u001b[Aining Batches:  29%|██▉       | 9/31 [00:07<00:17,  1.26it/s, train_loss=0.169]\n",
      "\u001b[Aining Batches:  32%|███▏      | 10/31 [00:07<00:16,  1.26it/s, train_loss=0.169]\n",
      "\u001b[Aining Batches:  32%|███▏      | 10/31 [00:08<00:16,  1.26it/s, train_loss=0.252]\n",
      "\u001b[Aining Batches:  35%|███▌      | 11/31 [00:08<00:15,  1.28it/s, train_loss=0.252]\n",
      "\u001b[Aining Batches:  35%|███▌      | 11/31 [00:09<00:15,  1.28it/s, train_loss=0.228]\n",
      "\u001b[Aining Batches:  39%|███▊      | 12/31 [00:09<00:14,  1.28it/s, train_loss=0.228]\n",
      "\u001b[Aining Batches:  39%|███▊      | 12/31 [00:10<00:14,  1.28it/s, train_loss=0.156]\n",
      "\u001b[Aining Batches:  42%|████▏     | 13/31 [00:10<00:14,  1.27it/s, train_loss=0.156]\n",
      "\u001b[Aining Batches:  42%|████▏     | 13/31 [00:11<00:14,  1.27it/s, train_loss=0.224]\n",
      "\u001b[Aining Batches:  45%|████▌     | 14/31 [00:11<00:13,  1.29it/s, train_loss=0.224]\n",
      "\u001b[Aining Batches:  45%|████▌     | 14/31 [00:11<00:13,  1.29it/s, train_loss=0.144]\n",
      "\u001b[Aining Batches:  48%|████▊     | 15/31 [00:11<00:12,  1.28it/s, train_loss=0.144]\n",
      "\u001b[Aining Batches:  48%|████▊     | 15/31 [00:12<00:12,  1.28it/s, train_loss=0.175]\n",
      "\u001b[Aining Batches:  52%|█████▏    | 16/31 [00:12<00:11,  1.27it/s, train_loss=0.175]\n",
      "\u001b[Aining Batches:  52%|█████▏    | 16/31 [00:13<00:11,  1.27it/s, train_loss=0.167]\n",
      "\u001b[Aining Batches:  55%|█████▍    | 17/31 [00:13<00:10,  1.27it/s, train_loss=0.167]\n",
      "\u001b[Aining Batches:  55%|█████▍    | 17/31 [00:14<00:10,  1.27it/s, train_loss=0.205]\n",
      "\u001b[Aining Batches:  58%|█████▊    | 18/31 [00:14<00:10,  1.26it/s, train_loss=0.205]\n",
      "\u001b[Aining Batches:  58%|█████▊    | 18/31 [00:14<00:10,  1.26it/s, train_loss=0.261]\n",
      "\u001b[Aining Batches:  61%|██████▏   | 19/31 [00:14<00:09,  1.26it/s, train_loss=0.261]\n",
      "\u001b[Aining Batches:  61%|██████▏   | 19/31 [00:15<00:09,  1.26it/s, train_loss=0.21] \n",
      "\u001b[Aining Batches:  65%|██████▍   | 20/31 [00:15<00:08,  1.27it/s, train_loss=0.21]\n",
      "\u001b[Aining Batches:  65%|██████▍   | 20/31 [00:16<00:08,  1.27it/s, train_loss=0.188]\n",
      "\u001b[Aining Batches:  68%|██████▊   | 21/31 [00:16<00:08,  1.22it/s, train_loss=0.188]\n",
      "\u001b[Aining Batches:  68%|██████▊   | 21/31 [00:17<00:08,  1.22it/s, train_loss=0.232]\n",
      "\u001b[Aining Batches:  71%|███████   | 22/31 [00:17<00:07,  1.23it/s, train_loss=0.232]\n",
      "\u001b[Aining Batches:  71%|███████   | 22/31 [00:18<00:07,  1.23it/s, train_loss=0.328]\n",
      "\u001b[Aining Batches:  74%|███████▍  | 23/31 [00:18<00:06,  1.23it/s, train_loss=0.328]\n",
      "\u001b[Aining Batches:  74%|███████▍  | 23/31 [00:19<00:06,  1.23it/s, train_loss=0.222]\n",
      "\u001b[Aining Batches:  77%|███████▋  | 24/31 [00:19<00:05,  1.27it/s, train_loss=0.222]\n",
      "\u001b[Aining Batches:  77%|███████▋  | 24/31 [00:19<00:05,  1.27it/s, train_loss=0.213]\n",
      "\u001b[Aining Batches:  81%|████████  | 25/31 [00:19<00:04,  1.29it/s, train_loss=0.213]\n",
      "\u001b[Aining Batches:  81%|████████  | 25/31 [00:20<00:04,  1.29it/s, train_loss=0.137]\n",
      "\u001b[Aining Batches:  84%|████████▍ | 26/31 [00:20<00:03,  1.28it/s, train_loss=0.137]\n",
      "\u001b[Aining Batches:  84%|████████▍ | 26/31 [00:21<00:03,  1.28it/s, train_loss=0.174]\n",
      "\u001b[Aining Batches:  87%|████████▋ | 27/31 [00:21<00:03,  1.27it/s, train_loss=0.174]\n",
      "\u001b[Aining Batches:  87%|████████▋ | 27/31 [00:22<00:03,  1.27it/s, train_loss=0.346]\n",
      "\u001b[Aining Batches:  90%|█████████ | 28/31 [00:22<00:02,  1.25it/s, train_loss=0.346]\n",
      "\u001b[Aining Batches:  90%|█████████ | 28/31 [00:22<00:02,  1.25it/s, train_loss=0.14] \n",
      "\u001b[Aining Batches:  94%|█████████▎| 29/31 [00:22<00:01,  1.28it/s, train_loss=0.14]\n",
      "\u001b[Aining Batches:  94%|█████████▎| 29/31 [00:23<00:01,  1.28it/s, train_loss=0.212]\n",
      "\u001b[Aining Batches:  97%|█████████▋| 30/31 [00:23<00:00,  1.25it/s, train_loss=0.212]\n",
      "\u001b[Aining Batches:  97%|█████████▋| 30/31 [00:24<00:00,  1.25it/s, train_loss=0.303]\n",
      "\u001b[Aining Batches: 100%|██████████| 31/31 [00:24<00:00,  1.57it/s, train_loss=0.303]\n",
      "\u001b[A                                                                                "
     ]
    },
    {
     "name": "stdout",
     "output_type": "stream",
     "text": [
      "epoch 45 average loss: 0.2249\n"
     ]
    },
    {
     "name": "stderr",
     "output_type": "stream",
     "text": [
      "Epochs:  64%|██████▍   | 45/70 [18:43<10:17, 24.70s/it]"
     ]
    },
    {
     "name": "stdout",
     "output_type": "stream",
     "text": [
      "1\n",
      "current epoch: 45 current AUC: 0.9897 current accuracy: 0.8944 best AUC: 0.9930 at epoch: 11\n",
      "----------\n",
      "epoch 46/70\n"
     ]
    },
    {
     "name": "stderr",
     "output_type": "stream",
     "text": [
      "\n",
      "\u001b[Aining Batches:   0%|          | 0/31 [00:00<?, ?it/s]\n",
      "\u001b[Aining Batches:   0%|          | 0/31 [00:00<?, ?it/s, train_loss=0.487]\n",
      "\u001b[Aining Batches:   3%|▎         | 1/31 [00:00<00:22,  1.32it/s, train_loss=0.487]\n",
      "\u001b[Aining Batches:   3%|▎         | 1/31 [00:01<00:22,  1.32it/s, train_loss=0.139]\n",
      "\u001b[Aining Batches:   6%|▋         | 2/31 [00:01<00:22,  1.31it/s, train_loss=0.139]\n",
      "\u001b[Aining Batches:   6%|▋         | 2/31 [00:02<00:22,  1.31it/s, train_loss=0.218]\n",
      "\u001b[Aining Batches:  10%|▉         | 3/31 [00:02<00:21,  1.28it/s, train_loss=0.218]\n",
      "\u001b[Aining Batches:  10%|▉         | 3/31 [00:03<00:21,  1.28it/s, train_loss=0.172]\n",
      "\u001b[Aining Batches:  13%|█▎        | 4/31 [00:03<00:21,  1.28it/s, train_loss=0.172]\n",
      "\u001b[Aining Batches:  13%|█▎        | 4/31 [00:03<00:21,  1.28it/s, train_loss=0.317]\n",
      "\u001b[Aining Batches:  16%|█▌        | 5/31 [00:03<00:20,  1.30it/s, train_loss=0.317]\n",
      "\u001b[Aining Batches:  16%|█▌        | 5/31 [00:04<00:20,  1.30it/s, train_loss=0.255]\n",
      "\u001b[Aining Batches:  19%|█▉        | 6/31 [00:04<00:19,  1.25it/s, train_loss=0.255]\n",
      "\u001b[Aining Batches:  19%|█▉        | 6/31 [00:05<00:19,  1.25it/s, train_loss=0.133]\n",
      "\u001b[Aining Batches:  23%|██▎       | 7/31 [00:05<00:19,  1.25it/s, train_loss=0.133]\n",
      "\u001b[Aining Batches:  23%|██▎       | 7/31 [00:06<00:19,  1.25it/s, train_loss=0.188]\n",
      "\u001b[Aining Batches:  26%|██▌       | 8/31 [00:06<00:18,  1.24it/s, train_loss=0.188]\n",
      "\u001b[Aining Batches:  26%|██▌       | 8/31 [00:07<00:18,  1.24it/s, train_loss=0.251]\n",
      "\u001b[Aining Batches:  29%|██▉       | 9/31 [00:07<00:17,  1.24it/s, train_loss=0.251]\n",
      "\u001b[Aining Batches:  29%|██▉       | 9/31 [00:07<00:17,  1.24it/s, train_loss=0.186]\n",
      "\u001b[Aining Batches:  32%|███▏      | 10/31 [00:07<00:16,  1.26it/s, train_loss=0.186]\n",
      "\u001b[Aining Batches:  32%|███▏      | 10/31 [00:08<00:16,  1.26it/s, train_loss=0.196]\n",
      "\u001b[Aining Batches:  35%|███▌      | 11/31 [00:08<00:16,  1.24it/s, train_loss=0.196]\n",
      "\u001b[Aining Batches:  35%|███▌      | 11/31 [00:09<00:16,  1.24it/s, train_loss=0.26] \n",
      "\u001b[Aining Batches:  39%|███▊      | 12/31 [00:09<00:15,  1.26it/s, train_loss=0.26]\n",
      "\u001b[Aining Batches:  39%|███▊      | 12/31 [00:10<00:15,  1.26it/s, train_loss=0.183]\n",
      "\u001b[Aining Batches:  42%|████▏     | 13/31 [00:10<00:14,  1.25it/s, train_loss=0.183]\n",
      "\u001b[Aining Batches:  42%|████▏     | 13/31 [00:11<00:14,  1.25it/s, train_loss=0.349]\n",
      "\u001b[Aining Batches:  45%|████▌     | 14/31 [00:11<00:13,  1.26it/s, train_loss=0.349]\n",
      "\u001b[Aining Batches:  45%|████▌     | 14/31 [00:11<00:13,  1.26it/s, train_loss=0.233]\n",
      "\u001b[Aining Batches:  48%|████▊     | 15/31 [00:11<00:12,  1.24it/s, train_loss=0.233]\n",
      "\u001b[Aining Batches:  48%|████▊     | 15/31 [00:12<00:12,  1.24it/s, train_loss=0.138]\n",
      "\u001b[Aining Batches:  52%|█████▏    | 16/31 [00:12<00:12,  1.22it/s, train_loss=0.138]\n",
      "\u001b[Aining Batches:  52%|█████▏    | 16/31 [00:13<00:12,  1.22it/s, train_loss=0.238]\n",
      "\u001b[Aining Batches:  55%|█████▍    | 17/31 [00:13<00:11,  1.25it/s, train_loss=0.238]\n",
      "\u001b[Aining Batches:  55%|█████▍    | 17/31 [00:14<00:11,  1.25it/s, train_loss=0.145]\n",
      "\u001b[Aining Batches:  58%|█████▊    | 18/31 [00:14<00:10,  1.26it/s, train_loss=0.145]\n",
      "\u001b[Aining Batches:  58%|█████▊    | 18/31 [00:15<00:10,  1.26it/s, train_loss=0.206]\n",
      "\u001b[Aining Batches:  61%|██████▏   | 19/31 [00:15<00:09,  1.26it/s, train_loss=0.206]\n",
      "\u001b[Aining Batches:  61%|██████▏   | 19/31 [00:15<00:09,  1.26it/s, train_loss=0.151]\n",
      "\u001b[Aining Batches:  65%|██████▍   | 20/31 [00:15<00:08,  1.32it/s, train_loss=0.151]\n",
      "\u001b[Aining Batches:  65%|██████▍   | 20/31 [00:16<00:08,  1.32it/s, train_loss=0.143]\n",
      "\u001b[Aining Batches:  68%|██████▊   | 21/31 [00:16<00:07,  1.30it/s, train_loss=0.143]\n",
      "\u001b[Aining Batches:  68%|██████▊   | 21/31 [00:17<00:07,  1.30it/s, train_loss=0.232]\n",
      "\u001b[Aining Batches:  71%|███████   | 22/31 [00:17<00:06,  1.29it/s, train_loss=0.232]\n",
      "\u001b[Aining Batches:  71%|███████   | 22/31 [00:18<00:06,  1.29it/s, train_loss=0.272]\n",
      "\u001b[Aining Batches:  74%|███████▍  | 23/31 [00:18<00:06,  1.29it/s, train_loss=0.272]\n",
      "\u001b[Aining Batches:  74%|███████▍  | 23/31 [00:18<00:06,  1.29it/s, train_loss=0.356]\n",
      "\u001b[Aining Batches:  77%|███████▋  | 24/31 [00:18<00:05,  1.29it/s, train_loss=0.356]\n",
      "\u001b[Aining Batches:  77%|███████▋  | 24/31 [00:19<00:05,  1.29it/s, train_loss=0.178]\n",
      "\u001b[Aining Batches:  81%|████████  | 25/31 [00:19<00:04,  1.30it/s, train_loss=0.178]\n",
      "\u001b[Aining Batches:  81%|████████  | 25/31 [00:20<00:04,  1.30it/s, train_loss=0.182]\n",
      "\u001b[Aining Batches:  84%|████████▍ | 26/31 [00:20<00:03,  1.30it/s, train_loss=0.182]\n",
      "\u001b[Aining Batches:  84%|████████▍ | 26/31 [00:21<00:03,  1.30it/s, train_loss=0.238]\n",
      "\u001b[Aining Batches:  87%|████████▋ | 27/31 [00:21<00:03,  1.25it/s, train_loss=0.238]\n",
      "\u001b[Aining Batches:  87%|████████▋ | 27/31 [00:22<00:03,  1.25it/s, train_loss=0.128]\n",
      "\u001b[Aining Batches:  90%|█████████ | 28/31 [00:22<00:02,  1.29it/s, train_loss=0.128]\n",
      "\u001b[Aining Batches:  90%|█████████ | 28/31 [00:22<00:02,  1.29it/s, train_loss=0.169]\n",
      "\u001b[Aining Batches:  94%|█████████▎| 29/31 [00:22<00:01,  1.28it/s, train_loss=0.169]\n",
      "\u001b[Aining Batches:  94%|█████████▎| 29/31 [00:23<00:01,  1.28it/s, train_loss=0.237]\n",
      "\u001b[Aining Batches:  97%|█████████▋| 30/31 [00:23<00:00,  1.29it/s, train_loss=0.237]\n",
      "\u001b[Aining Batches:  97%|█████████▋| 30/31 [00:23<00:00,  1.29it/s, train_loss=0.487]\n",
      "\u001b[Aining Batches: 100%|██████████| 31/31 [00:23<00:00,  1.60it/s, train_loss=0.487]\n",
      "\u001b[A                                                                                "
     ]
    },
    {
     "name": "stdout",
     "output_type": "stream",
     "text": [
      "epoch 46 average loss: 0.2279\n"
     ]
    },
    {
     "name": "stderr",
     "output_type": "stream",
     "text": [
      "Epochs:  66%|██████▌   | 46/70 [19:07<09:51, 24.64s/it]"
     ]
    },
    {
     "name": "stdout",
     "output_type": "stream",
     "text": [
      "1\n",
      "current epoch: 46 current AUC: 0.9898 current accuracy: 0.8882 best AUC: 0.9930 at epoch: 11\n",
      "----------\n",
      "epoch 47/70\n"
     ]
    },
    {
     "name": "stderr",
     "output_type": "stream",
     "text": [
      "\n",
      "\u001b[Aining Batches:   0%|          | 0/31 [00:00<?, ?it/s]\n",
      "\u001b[Aining Batches:   0%|          | 0/31 [00:00<?, ?it/s, train_loss=0.203]\n",
      "\u001b[Aining Batches:   3%|▎         | 1/31 [00:00<00:24,  1.24it/s, train_loss=0.203]\n",
      "\u001b[Aining Batches:   3%|▎         | 1/31 [00:01<00:24,  1.24it/s, train_loss=0.255]\n",
      "\u001b[Aining Batches:   6%|▋         | 2/31 [00:01<00:22,  1.27it/s, train_loss=0.255]\n",
      "\u001b[Aining Batches:   6%|▋         | 2/31 [00:02<00:22,  1.27it/s, train_loss=0.109]\n",
      "\u001b[Aining Batches:  10%|▉         | 3/31 [00:02<00:21,  1.28it/s, train_loss=0.109]\n",
      "\u001b[Aining Batches:  10%|▉         | 3/31 [00:03<00:21,  1.28it/s, train_loss=0.281]\n",
      "\u001b[Aining Batches:  13%|█▎        | 4/31 [00:03<00:21,  1.28it/s, train_loss=0.281]\n",
      "\u001b[Aining Batches:  13%|█▎        | 4/31 [00:03<00:21,  1.28it/s, train_loss=0.201]\n",
      "\u001b[Aining Batches:  16%|█▌        | 5/31 [00:03<00:20,  1.24it/s, train_loss=0.201]\n",
      "\u001b[Aining Batches:  16%|█▌        | 5/31 [00:04<00:20,  1.24it/s, train_loss=0.361]\n",
      "\u001b[Aining Batches:  19%|█▉        | 6/31 [00:04<00:20,  1.24it/s, train_loss=0.361]\n",
      "\u001b[Aining Batches:  19%|█▉        | 6/31 [00:05<00:20,  1.24it/s, train_loss=0.281]\n",
      "\u001b[Aining Batches:  23%|██▎       | 7/31 [00:05<00:19,  1.23it/s, train_loss=0.281]\n",
      "\u001b[Aining Batches:  23%|██▎       | 7/31 [00:06<00:19,  1.23it/s, train_loss=0.257]\n",
      "\u001b[Aining Batches:  26%|██▌       | 8/31 [00:06<00:18,  1.27it/s, train_loss=0.257]\n",
      "\u001b[Aining Batches:  26%|██▌       | 8/31 [00:07<00:18,  1.27it/s, train_loss=0.166]\n",
      "\u001b[Aining Batches:  29%|██▉       | 9/31 [00:07<00:16,  1.30it/s, train_loss=0.166]\n",
      "\u001b[Aining Batches:  29%|██▉       | 9/31 [00:07<00:16,  1.30it/s, train_loss=0.0995]\n",
      "\u001b[Aining Batches:  32%|███▏      | 10/31 [00:07<00:16,  1.27it/s, train_loss=0.0995]\n",
      "\u001b[Aining Batches:  32%|███▏      | 10/31 [00:08<00:16,  1.27it/s, train_loss=0.268] \n",
      "\u001b[Aining Batches:  35%|███▌      | 11/31 [00:08<00:15,  1.27it/s, train_loss=0.268]\n",
      "\u001b[Aining Batches:  35%|███▌      | 11/31 [00:09<00:15,  1.27it/s, train_loss=0.307]\n",
      "\u001b[Aining Batches:  39%|███▊      | 12/31 [00:09<00:15,  1.26it/s, train_loss=0.307]\n",
      "\u001b[Aining Batches:  39%|███▊      | 12/31 [00:10<00:15,  1.26it/s, train_loss=0.339]\n",
      "\u001b[Aining Batches:  42%|████▏     | 13/31 [00:10<00:14,  1.26it/s, train_loss=0.339]\n",
      "\u001b[Aining Batches:  42%|████▏     | 13/31 [00:11<00:14,  1.26it/s, train_loss=0.211]\n",
      "\u001b[Aining Batches:  45%|████▌     | 14/31 [00:11<00:13,  1.25it/s, train_loss=0.211]\n",
      "\u001b[Aining Batches:  45%|████▌     | 14/31 [00:11<00:13,  1.25it/s, train_loss=0.307]\n",
      "\u001b[Aining Batches:  48%|████▊     | 15/31 [00:11<00:12,  1.25it/s, train_loss=0.307]\n",
      "\u001b[Aining Batches:  48%|████▊     | 15/31 [00:12<00:12,  1.25it/s, train_loss=0.377]\n",
      "\u001b[Aining Batches:  52%|█████▏    | 16/31 [00:12<00:11,  1.26it/s, train_loss=0.377]\n",
      "\u001b[Aining Batches:  52%|█████▏    | 16/31 [00:13<00:11,  1.26it/s, train_loss=0.194]\n",
      "\u001b[Aining Batches:  55%|█████▍    | 17/31 [00:13<00:10,  1.28it/s, train_loss=0.194]\n",
      "\u001b[Aining Batches:  55%|█████▍    | 17/31 [00:14<00:10,  1.28it/s, train_loss=0.121]\n",
      "\u001b[Aining Batches:  58%|█████▊    | 18/31 [00:14<00:10,  1.28it/s, train_loss=0.121]\n",
      "\u001b[Aining Batches:  58%|█████▊    | 18/31 [00:14<00:10,  1.28it/s, train_loss=0.236]\n",
      "\u001b[Aining Batches:  61%|██████▏   | 19/31 [00:14<00:09,  1.28it/s, train_loss=0.236]\n",
      "\u001b[Aining Batches:  61%|██████▏   | 19/31 [00:15<00:09,  1.28it/s, train_loss=0.189]\n",
      "\u001b[Aining Batches:  65%|██████▍   | 20/31 [00:15<00:08,  1.27it/s, train_loss=0.189]\n",
      "\u001b[Aining Batches:  65%|██████▍   | 20/31 [00:16<00:08,  1.27it/s, train_loss=0.28] \n",
      "\u001b[Aining Batches:  68%|██████▊   | 21/31 [00:16<00:07,  1.25it/s, train_loss=0.28]\n",
      "\u001b[Aining Batches:  68%|██████▊   | 21/31 [00:17<00:07,  1.25it/s, train_loss=0.455]\n",
      "\u001b[Aining Batches:  71%|███████   | 22/31 [00:17<00:07,  1.27it/s, train_loss=0.455]\n",
      "\u001b[Aining Batches:  71%|███████   | 22/31 [00:18<00:07,  1.27it/s, train_loss=0.211]\n",
      "\u001b[Aining Batches:  74%|███████▍  | 23/31 [00:18<00:06,  1.28it/s, train_loss=0.211]\n",
      "\u001b[Aining Batches:  74%|███████▍  | 23/31 [00:18<00:06,  1.28it/s, train_loss=0.205]\n",
      "\u001b[Aining Batches:  77%|███████▋  | 24/31 [00:18<00:05,  1.27it/s, train_loss=0.205]\n",
      "\u001b[Aining Batches:  77%|███████▋  | 24/31 [00:19<00:05,  1.27it/s, train_loss=0.254]\n",
      "\u001b[Aining Batches:  81%|████████  | 25/31 [00:19<00:04,  1.28it/s, train_loss=0.254]\n",
      "\u001b[Aining Batches:  81%|████████  | 25/31 [00:20<00:04,  1.28it/s, train_loss=0.195]\n",
      "\u001b[Aining Batches:  84%|████████▍ | 26/31 [00:20<00:03,  1.27it/s, train_loss=0.195]\n",
      "\u001b[Aining Batches:  84%|████████▍ | 26/31 [00:21<00:03,  1.27it/s, train_loss=0.186]\n",
      "\u001b[Aining Batches:  87%|████████▋ | 27/31 [00:21<00:03,  1.27it/s, train_loss=0.186]\n",
      "\u001b[Aining Batches:  87%|████████▋ | 27/31 [00:22<00:03,  1.27it/s, train_loss=0.156]\n",
      "\u001b[Aining Batches:  90%|█████████ | 28/31 [00:22<00:02,  1.29it/s, train_loss=0.156]\n",
      "\u001b[Aining Batches:  90%|█████████ | 28/31 [00:22<00:02,  1.29it/s, train_loss=0.212]\n",
      "\u001b[Aining Batches:  94%|█████████▎| 29/31 [00:22<00:01,  1.29it/s, train_loss=0.212]\n",
      "\u001b[Aining Batches:  94%|█████████▎| 29/31 [00:23<00:01,  1.29it/s, train_loss=0.162]\n",
      "\u001b[Aining Batches:  97%|█████████▋| 30/31 [00:23<00:00,  1.27it/s, train_loss=0.162]\n",
      "\u001b[Aining Batches:  97%|█████████▋| 30/31 [00:23<00:00,  1.27it/s, train_loss=0.346]\n",
      "\u001b[Aining Batches: 100%|██████████| 31/31 [00:23<00:00,  1.58it/s, train_loss=0.346]\n",
      "\u001b[A                                                                                "
     ]
    },
    {
     "name": "stdout",
     "output_type": "stream",
     "text": [
      "epoch 47 average loss: 0.2395\n"
     ]
    },
    {
     "name": "stderr",
     "output_type": "stream",
     "text": [
      "Epochs:  67%|██████▋   | 47/70 [19:32<09:26, 24.61s/it]"
     ]
    },
    {
     "name": "stdout",
     "output_type": "stream",
     "text": [
      "1\n",
      "current epoch: 47 current AUC: 0.9891 current accuracy: 0.8758 best AUC: 0.9930 at epoch: 11\n",
      "----------\n",
      "epoch 48/70\n"
     ]
    },
    {
     "name": "stderr",
     "output_type": "stream",
     "text": [
      "\n",
      "\u001b[Aining Batches:   0%|          | 0/31 [00:00<?, ?it/s]\n",
      "\u001b[Aining Batches:   0%|          | 0/31 [00:00<?, ?it/s, train_loss=0.129]\n",
      "\u001b[Aining Batches:   3%|▎         | 1/31 [00:00<00:22,  1.31it/s, train_loss=0.129]\n",
      "\u001b[Aining Batches:   3%|▎         | 1/31 [00:01<00:22,  1.31it/s, train_loss=0.248]\n",
      "\u001b[Aining Batches:   6%|▋         | 2/31 [00:01<00:22,  1.27it/s, train_loss=0.248]\n",
      "\u001b[Aining Batches:   6%|▋         | 2/31 [00:02<00:22,  1.27it/s, train_loss=0.293]\n",
      "\u001b[Aining Batches:  10%|▉         | 3/31 [00:02<00:22,  1.27it/s, train_loss=0.293]\n",
      "\u001b[Aining Batches:  10%|▉         | 3/31 [00:03<00:22,  1.27it/s, train_loss=0.139]\n",
      "\u001b[Aining Batches:  13%|█▎        | 4/31 [00:03<00:20,  1.29it/s, train_loss=0.139]\n",
      "\u001b[Aining Batches:  13%|█▎        | 4/31 [00:03<00:20,  1.29it/s, train_loss=0.277]\n",
      "\u001b[Aining Batches:  16%|█▌        | 5/31 [00:03<00:20,  1.25it/s, train_loss=0.277]\n",
      "\u001b[Aining Batches:  16%|█▌        | 5/31 [00:04<00:20,  1.25it/s, train_loss=0.156]\n",
      "\u001b[Aining Batches:  19%|█▉        | 6/31 [00:04<00:19,  1.26it/s, train_loss=0.156]\n",
      "\u001b[Aining Batches:  19%|█▉        | 6/31 [00:05<00:19,  1.26it/s, train_loss=0.107]\n",
      "\u001b[Aining Batches:  23%|██▎       | 7/31 [00:05<00:19,  1.26it/s, train_loss=0.107]\n",
      "\u001b[Aining Batches:  23%|██▎       | 7/31 [00:06<00:19,  1.26it/s, train_loss=0.4]  \n",
      "\u001b[Aining Batches:  26%|██▌       | 8/31 [00:06<00:18,  1.27it/s, train_loss=0.4]\n",
      "\u001b[Aining Batches:  26%|██▌       | 8/31 [00:07<00:18,  1.27it/s, train_loss=0.324]\n",
      "\u001b[Aining Batches:  29%|██▉       | 9/31 [00:07<00:16,  1.30it/s, train_loss=0.324]\n",
      "\u001b[Aining Batches:  29%|██▉       | 9/31 [00:07<00:16,  1.30it/s, train_loss=0.158]\n",
      "\u001b[Aining Batches:  32%|███▏      | 10/31 [00:07<00:16,  1.30it/s, train_loss=0.158]\n",
      "\u001b[Aining Batches:  32%|███▏      | 10/31 [00:08<00:16,  1.30it/s, train_loss=0.328]\n",
      "\u001b[Aining Batches:  35%|███▌      | 11/31 [00:08<00:15,  1.27it/s, train_loss=0.328]\n",
      "\u001b[Aining Batches:  35%|███▌      | 11/31 [00:09<00:15,  1.27it/s, train_loss=0.283]\n",
      "\u001b[Aining Batches:  39%|███▊      | 12/31 [00:09<00:15,  1.25it/s, train_loss=0.283]\n",
      "\u001b[Aining Batches:  39%|███▊      | 12/31 [00:10<00:15,  1.25it/s, train_loss=0.145]\n",
      "\u001b[Aining Batches:  42%|████▏     | 13/31 [00:10<00:14,  1.26it/s, train_loss=0.145]\n",
      "\u001b[Aining Batches:  42%|████▏     | 13/31 [00:11<00:14,  1.26it/s, train_loss=0.118]\n",
      "\u001b[Aining Batches:  45%|████▌     | 14/31 [00:11<00:13,  1.24it/s, train_loss=0.118]\n",
      "\u001b[Aining Batches:  45%|████▌     | 14/31 [00:11<00:13,  1.24it/s, train_loss=0.27] \n",
      "\u001b[Aining Batches:  48%|████▊     | 15/31 [00:11<00:12,  1.26it/s, train_loss=0.27]\n",
      "\u001b[Aining Batches:  48%|████▊     | 15/31 [00:12<00:12,  1.26it/s, train_loss=0.224]\n",
      "\u001b[Aining Batches:  52%|█████▏    | 16/31 [00:12<00:11,  1.27it/s, train_loss=0.224]\n",
      "\u001b[Aining Batches:  52%|█████▏    | 16/31 [00:13<00:11,  1.27it/s, train_loss=0.238]\n",
      "\u001b[Aining Batches:  55%|█████▍    | 17/31 [00:13<00:10,  1.27it/s, train_loss=0.238]\n",
      "\u001b[Aining Batches:  55%|█████▍    | 17/31 [00:14<00:10,  1.27it/s, train_loss=0.219]\n",
      "\u001b[Aining Batches:  58%|█████▊    | 18/31 [00:14<00:10,  1.26it/s, train_loss=0.219]\n",
      "\u001b[Aining Batches:  58%|█████▊    | 18/31 [00:14<00:10,  1.26it/s, train_loss=0.269]\n",
      "\u001b[Aining Batches:  61%|██████▏   | 19/31 [00:14<00:09,  1.28it/s, train_loss=0.269]\n",
      "\u001b[Aining Batches:  61%|██████▏   | 19/31 [00:15<00:09,  1.28it/s, train_loss=0.328]\n",
      "\u001b[Aining Batches:  65%|██████▍   | 20/31 [00:15<00:08,  1.27it/s, train_loss=0.328]\n",
      "\u001b[Aining Batches:  65%|██████▍   | 20/31 [00:16<00:08,  1.27it/s, train_loss=0.366]\n",
      "\u001b[Aining Batches:  68%|██████▊   | 21/31 [00:16<00:08,  1.25it/s, train_loss=0.366]\n",
      "\u001b[Aining Batches:  68%|██████▊   | 21/31 [00:17<00:08,  1.25it/s, train_loss=0.319]\n",
      "\u001b[Aining Batches:  71%|███████   | 22/31 [00:17<00:07,  1.23it/s, train_loss=0.319]\n",
      "\u001b[Aining Batches:  71%|███████   | 22/31 [00:18<00:07,  1.23it/s, train_loss=0.363]\n",
      "\u001b[Aining Batches:  74%|███████▍  | 23/31 [00:18<00:06,  1.23it/s, train_loss=0.363]\n",
      "\u001b[Aining Batches:  74%|███████▍  | 23/31 [00:19<00:06,  1.23it/s, train_loss=0.25] \n",
      "\u001b[Aining Batches:  77%|███████▋  | 24/31 [00:19<00:05,  1.24it/s, train_loss=0.25]\n",
      "\u001b[Aining Batches:  77%|███████▋  | 24/31 [00:19<00:05,  1.24it/s, train_loss=0.227]\n",
      "\u001b[Aining Batches:  81%|████████  | 25/31 [00:19<00:04,  1.27it/s, train_loss=0.227]\n",
      "\u001b[Aining Batches:  81%|████████  | 25/31 [00:20<00:04,  1.27it/s, train_loss=0.289]\n",
      "\u001b[Aining Batches:  84%|████████▍ | 26/31 [00:20<00:04,  1.23it/s, train_loss=0.289]\n",
      "\u001b[Aining Batches:  84%|████████▍ | 26/31 [00:21<00:04,  1.23it/s, train_loss=0.22] \n",
      "\u001b[Aining Batches:  87%|████████▋ | 27/31 [00:21<00:03,  1.22it/s, train_loss=0.22]\n",
      "\u001b[Aining Batches:  87%|████████▋ | 27/31 [00:22<00:03,  1.22it/s, train_loss=0.266]\n",
      "\u001b[Aining Batches:  90%|█████████ | 28/31 [00:22<00:02,  1.27it/s, train_loss=0.266]\n",
      "\u001b[Aining Batches:  90%|█████████ | 28/31 [00:23<00:02,  1.27it/s, train_loss=0.267]\n",
      "\u001b[Aining Batches:  94%|█████████▎| 29/31 [00:23<00:01,  1.26it/s, train_loss=0.267]\n",
      "\u001b[Aining Batches:  94%|█████████▎| 29/31 [00:23<00:01,  1.26it/s, train_loss=0.167]\n",
      "\u001b[Aining Batches:  97%|█████████▋| 30/31 [00:23<00:00,  1.25it/s, train_loss=0.167]\n",
      "\u001b[Aining Batches:  97%|█████████▋| 30/31 [00:24<00:00,  1.25it/s, train_loss=0.632]\n",
      "\u001b[Aining Batches: 100%|██████████| 31/31 [00:24<00:00,  1.55it/s, train_loss=0.632]\n",
      "\u001b[A                                                                                "
     ]
    },
    {
     "name": "stdout",
     "output_type": "stream",
     "text": [
      "epoch 48 average loss: 0.2587\n"
     ]
    },
    {
     "name": "stderr",
     "output_type": "stream",
     "text": [
      "Epochs:  69%|██████▊   | 48/70 [19:56<09:02, 24.64s/it]"
     ]
    },
    {
     "name": "stdout",
     "output_type": "stream",
     "text": [
      "1\n",
      "current epoch: 48 current AUC: 0.9893 current accuracy: 0.8758 best AUC: 0.9930 at epoch: 11\n",
      "----------\n",
      "epoch 49/70\n"
     ]
    },
    {
     "name": "stderr",
     "output_type": "stream",
     "text": [
      "\n",
      "\u001b[Aining Batches:   0%|          | 0/31 [00:00<?, ?it/s]\n",
      "\u001b[Aining Batches:   0%|          | 0/31 [00:00<?, ?it/s, train_loss=0.163]\n",
      "\u001b[Aining Batches:   3%|▎         | 1/31 [00:00<00:23,  1.28it/s, train_loss=0.163]\n",
      "\u001b[Aining Batches:   3%|▎         | 1/31 [00:01<00:23,  1.28it/s, train_loss=0.264]\n",
      "\u001b[Aining Batches:   6%|▋         | 2/31 [00:01<00:23,  1.23it/s, train_loss=0.264]\n",
      "\u001b[Aining Batches:   6%|▋         | 2/31 [00:02<00:23,  1.23it/s, train_loss=0.181]\n",
      "\u001b[Aining Batches:  10%|▉         | 3/31 [00:02<00:22,  1.26it/s, train_loss=0.181]\n",
      "\u001b[Aining Batches:  10%|▉         | 3/31 [00:03<00:22,  1.26it/s, train_loss=0.144]\n",
      "\u001b[Aining Batches:  13%|█▎        | 4/31 [00:03<00:21,  1.26it/s, train_loss=0.144]\n",
      "\u001b[Aining Batches:  13%|█▎        | 4/31 [00:03<00:21,  1.26it/s, train_loss=0.374]\n",
      "\u001b[Aining Batches:  16%|█▌        | 5/31 [00:03<00:20,  1.25it/s, train_loss=0.374]\n",
      "\u001b[Aining Batches:  16%|█▌        | 5/31 [00:04<00:20,  1.25it/s, train_loss=0.174]\n",
      "\u001b[Aining Batches:  19%|█▉        | 6/31 [00:04<00:20,  1.24it/s, train_loss=0.174]\n",
      "\u001b[Aining Batches:  19%|█▉        | 6/31 [00:05<00:20,  1.24it/s, train_loss=0.0996]\n",
      "\u001b[Aining Batches:  23%|██▎       | 7/31 [00:05<00:19,  1.22it/s, train_loss=0.0996]\n",
      "\u001b[Aining Batches:  23%|██▎       | 7/31 [00:06<00:19,  1.22it/s, train_loss=0.264] \n",
      "\u001b[Aining Batches:  26%|██▌       | 8/31 [00:06<00:18,  1.24it/s, train_loss=0.264]\n",
      "\u001b[Aining Batches:  26%|██▌       | 8/31 [00:07<00:18,  1.24it/s, train_loss=0.348]\n",
      "\u001b[Aining Batches:  29%|██▉       | 9/31 [00:07<00:17,  1.25it/s, train_loss=0.348]\n",
      "\u001b[Aining Batches:  29%|██▉       | 9/31 [00:07<00:17,  1.25it/s, train_loss=0.204]\n",
      "\u001b[Aining Batches:  32%|███▏      | 10/31 [00:07<00:16,  1.28it/s, train_loss=0.204]\n",
      "\u001b[Aining Batches:  32%|███▏      | 10/31 [00:08<00:16,  1.28it/s, train_loss=0.196]\n",
      "\u001b[Aining Batches:  35%|███▌      | 11/31 [00:08<00:15,  1.31it/s, train_loss=0.196]\n",
      "\u001b[Aining Batches:  35%|███▌      | 11/31 [00:09<00:15,  1.31it/s, train_loss=0.196]\n",
      "\u001b[Aining Batches:  39%|███▊      | 12/31 [00:09<00:14,  1.31it/s, train_loss=0.196]\n",
      "\u001b[Aining Batches:  39%|███▊      | 12/31 [00:10<00:14,  1.31it/s, train_loss=0.245]\n",
      "\u001b[Aining Batches:  42%|████▏     | 13/31 [00:10<00:13,  1.30it/s, train_loss=0.245]\n",
      "\u001b[Aining Batches:  42%|████▏     | 13/31 [00:11<00:13,  1.30it/s, train_loss=0.403]\n",
      "\u001b[Aining Batches:  45%|████▌     | 14/31 [00:11<00:13,  1.29it/s, train_loss=0.403]\n",
      "\u001b[Aining Batches:  45%|████▌     | 14/31 [00:11<00:13,  1.29it/s, train_loss=0.188]\n",
      "\u001b[Aining Batches:  48%|████▊     | 15/31 [00:11<00:12,  1.30it/s, train_loss=0.188]\n",
      "\u001b[Aining Batches:  48%|████▊     | 15/31 [00:12<00:12,  1.30it/s, train_loss=0.176]\n",
      "\u001b[Aining Batches:  52%|█████▏    | 16/31 [00:12<00:11,  1.30it/s, train_loss=0.176]\n",
      "\u001b[Aining Batches:  52%|█████▏    | 16/31 [00:13<00:11,  1.30it/s, train_loss=0.39] \n",
      "\u001b[Aining Batches:  55%|█████▍    | 17/31 [00:13<00:10,  1.28it/s, train_loss=0.39]\n",
      "\u001b[Aining Batches:  55%|█████▍    | 17/31 [00:14<00:10,  1.28it/s, train_loss=0.311]\n",
      "\u001b[Aining Batches:  58%|█████▊    | 18/31 [00:14<00:10,  1.27it/s, train_loss=0.311]\n",
      "\u001b[Aining Batches:  58%|█████▊    | 18/31 [00:14<00:10,  1.27it/s, train_loss=0.404]\n",
      "\u001b[Aining Batches:  61%|██████▏   | 19/31 [00:14<00:09,  1.25it/s, train_loss=0.404]\n",
      "\u001b[Aining Batches:  61%|██████▏   | 19/31 [00:15<00:09,  1.25it/s, train_loss=0.303]\n",
      "\u001b[Aining Batches:  65%|██████▍   | 20/31 [00:15<00:08,  1.28it/s, train_loss=0.303]\n",
      "\u001b[Aining Batches:  65%|██████▍   | 20/31 [00:16<00:08,  1.28it/s, train_loss=0.124]\n",
      "\u001b[Aining Batches:  68%|██████▊   | 21/31 [00:16<00:07,  1.28it/s, train_loss=0.124]\n",
      "\u001b[Aining Batches:  68%|██████▊   | 21/31 [00:17<00:07,  1.28it/s, train_loss=0.204]\n",
      "\u001b[Aining Batches:  71%|███████   | 22/31 [00:17<00:07,  1.28it/s, train_loss=0.204]\n",
      "\u001b[Aining Batches:  71%|███████   | 22/31 [00:18<00:07,  1.28it/s, train_loss=0.232]\n",
      "\u001b[Aining Batches:  74%|███████▍  | 23/31 [00:18<00:06,  1.27it/s, train_loss=0.232]\n",
      "\u001b[Aining Batches:  74%|███████▍  | 23/31 [00:18<00:06,  1.27it/s, train_loss=0.322]\n",
      "\u001b[Aining Batches:  77%|███████▋  | 24/31 [00:18<00:05,  1.27it/s, train_loss=0.322]\n",
      "\u001b[Aining Batches:  77%|███████▋  | 24/31 [00:19<00:05,  1.27it/s, train_loss=0.25] \n",
      "\u001b[Aining Batches:  81%|████████  | 25/31 [00:19<00:04,  1.24it/s, train_loss=0.25]\n",
      "\u001b[Aining Batches:  81%|████████  | 25/31 [00:20<00:04,  1.24it/s, train_loss=0.239]\n",
      "\u001b[Aining Batches:  84%|████████▍ | 26/31 [00:20<00:03,  1.25it/s, train_loss=0.239]\n",
      "\u001b[Aining Batches:  84%|████████▍ | 26/31 [00:21<00:03,  1.25it/s, train_loss=0.116]\n",
      "\u001b[Aining Batches:  87%|████████▋ | 27/31 [00:21<00:03,  1.26it/s, train_loss=0.116]\n",
      "\u001b[Aining Batches:  87%|████████▋ | 27/31 [00:22<00:03,  1.26it/s, train_loss=0.387]\n",
      "\u001b[Aining Batches:  90%|█████████ | 28/31 [00:22<00:02,  1.26it/s, train_loss=0.387]\n",
      "\u001b[Aining Batches:  90%|█████████ | 28/31 [00:22<00:02,  1.26it/s, train_loss=0.411]\n",
      "\u001b[Aining Batches:  94%|█████████▎| 29/31 [00:22<00:01,  1.24it/s, train_loss=0.411]\n",
      "\u001b[Aining Batches:  94%|█████████▎| 29/31 [00:23<00:01,  1.24it/s, train_loss=0.245]\n",
      "\u001b[Aining Batches:  97%|█████████▋| 30/31 [00:23<00:00,  1.27it/s, train_loss=0.245]\n",
      "\u001b[Aining Batches:  97%|█████████▋| 30/31 [00:23<00:00,  1.27it/s, train_loss=0.276]\n",
      "\u001b[Aining Batches: 100%|██████████| 31/31 [00:23<00:00,  1.59it/s, train_loss=0.276]\n",
      "\u001b[A                                                                                "
     ]
    },
    {
     "name": "stdout",
     "output_type": "stream",
     "text": [
      "epoch 49 average loss: 0.2527\n"
     ]
    },
    {
     "name": "stderr",
     "output_type": "stream",
     "text": [
      "Epochs:  70%|███████   | 49/70 [20:21<08:36, 24.61s/it]"
     ]
    },
    {
     "name": "stdout",
     "output_type": "stream",
     "text": [
      "1\n",
      "current epoch: 49 current AUC: 0.9890 current accuracy: 0.8820 best AUC: 0.9930 at epoch: 11\n",
      "----------\n",
      "epoch 50/70\n"
     ]
    },
    {
     "name": "stderr",
     "output_type": "stream",
     "text": [
      "\n",
      "\u001b[Aining Batches:   0%|          | 0/31 [00:00<?, ?it/s]\n",
      "\u001b[Aining Batches:   0%|          | 0/31 [00:00<?, ?it/s, train_loss=0.175]\n",
      "\u001b[Aining Batches:   3%|▎         | 1/31 [00:00<00:23,  1.27it/s, train_loss=0.175]\n",
      "\u001b[Aining Batches:   3%|▎         | 1/31 [00:01<00:23,  1.27it/s, train_loss=0.22] \n",
      "\u001b[Aining Batches:   6%|▋         | 2/31 [00:01<00:22,  1.28it/s, train_loss=0.22]\n",
      "\u001b[Aining Batches:   6%|▋         | 2/31 [00:02<00:22,  1.28it/s, train_loss=0.228]\n",
      "\u001b[Aining Batches:  10%|▉         | 3/31 [00:02<00:22,  1.26it/s, train_loss=0.228]\n",
      "\u001b[Aining Batches:  10%|▉         | 3/31 [00:03<00:22,  1.26it/s, train_loss=0.306]\n",
      "\u001b[Aining Batches:  13%|█▎        | 4/31 [00:03<00:21,  1.28it/s, train_loss=0.306]\n",
      "\u001b[Aining Batches:  13%|█▎        | 4/31 [00:04<00:21,  1.28it/s, train_loss=0.225]\n",
      "\u001b[Aining Batches:  16%|█▌        | 5/31 [00:04<00:21,  1.23it/s, train_loss=0.225]\n",
      "\u001b[Aining Batches:  16%|█▌        | 5/31 [00:04<00:21,  1.23it/s, train_loss=0.0911]\n",
      "\u001b[Aining Batches:  19%|█▉        | 6/31 [00:04<00:20,  1.23it/s, train_loss=0.0911]\n",
      "\u001b[Aining Batches:  19%|█▉        | 6/31 [00:05<00:20,  1.23it/s, train_loss=0.202] \n",
      "\u001b[Aining Batches:  23%|██▎       | 7/31 [00:05<00:19,  1.23it/s, train_loss=0.202]\n",
      "\u001b[Aining Batches:  23%|██▎       | 7/31 [00:06<00:19,  1.23it/s, train_loss=0.203]\n",
      "\u001b[Aining Batches:  26%|██▌       | 8/31 [00:06<00:18,  1.24it/s, train_loss=0.203]\n",
      "\u001b[Aining Batches:  26%|██▌       | 8/31 [00:07<00:18,  1.24it/s, train_loss=0.353]\n",
      "\u001b[Aining Batches:  29%|██▉       | 9/31 [00:07<00:17,  1.26it/s, train_loss=0.353]\n",
      "\u001b[Aining Batches:  29%|██▉       | 9/31 [00:08<00:17,  1.26it/s, train_loss=0.459]\n",
      "\u001b[Aining Batches:  32%|███▏      | 10/31 [00:08<00:17,  1.23it/s, train_loss=0.459]\n",
      "\u001b[Aining Batches:  32%|███▏      | 10/31 [00:08<00:17,  1.23it/s, train_loss=0.242]\n",
      "\u001b[Aining Batches:  35%|███▌      | 11/31 [00:08<00:16,  1.23it/s, train_loss=0.242]\n",
      "\u001b[Aining Batches:  35%|███▌      | 11/31 [00:09<00:16,  1.23it/s, train_loss=0.182]\n",
      "\u001b[Aining Batches:  39%|███▊      | 12/31 [00:09<00:15,  1.24it/s, train_loss=0.182]\n",
      "\u001b[Aining Batches:  39%|███▊      | 12/31 [00:10<00:15,  1.24it/s, train_loss=0.192]\n",
      "\u001b[Aining Batches:  42%|████▏     | 13/31 [00:10<00:14,  1.22it/s, train_loss=0.192]\n",
      "\u001b[Aining Batches:  42%|████▏     | 13/31 [00:11<00:14,  1.22it/s, train_loss=0.14] \n",
      "\u001b[Aining Batches:  45%|████▌     | 14/31 [00:11<00:13,  1.25it/s, train_loss=0.14]\n",
      "\u001b[Aining Batches:  45%|████▌     | 14/31 [00:12<00:13,  1.25it/s, train_loss=0.342]\n",
      "\u001b[Aining Batches:  48%|████▊     | 15/31 [00:12<00:12,  1.25it/s, train_loss=0.342]\n",
      "\u001b[Aining Batches:  48%|████▊     | 15/31 [00:12<00:12,  1.25it/s, train_loss=0.259]\n",
      "\u001b[Aining Batches:  52%|█████▏    | 16/31 [00:12<00:11,  1.27it/s, train_loss=0.259]\n",
      "\u001b[Aining Batches:  52%|█████▏    | 16/31 [00:13<00:11,  1.27it/s, train_loss=0.0911]\n",
      "\u001b[Aining Batches:  55%|█████▍    | 17/31 [00:13<00:11,  1.27it/s, train_loss=0.0911]\n",
      "\u001b[Aining Batches:  55%|█████▍    | 17/31 [00:14<00:11,  1.27it/s, train_loss=0.193] \n",
      "\u001b[Aining Batches:  58%|█████▊    | 18/31 [00:14<00:10,  1.27it/s, train_loss=0.193]\n",
      "\u001b[Aining Batches:  58%|█████▊    | 18/31 [00:15<00:10,  1.27it/s, train_loss=0.22] \n",
      "\u001b[Aining Batches:  61%|██████▏   | 19/31 [00:15<00:09,  1.27it/s, train_loss=0.22]\n",
      "\u001b[Aining Batches:  61%|██████▏   | 19/31 [00:15<00:09,  1.27it/s, train_loss=0.394]\n",
      "\u001b[Aining Batches:  65%|██████▍   | 20/31 [00:15<00:08,  1.27it/s, train_loss=0.394]\n",
      "\u001b[Aining Batches:  65%|██████▍   | 20/31 [00:16<00:08,  1.27it/s, train_loss=0.253]\n",
      "\u001b[Aining Batches:  68%|██████▊   | 21/31 [00:16<00:07,  1.25it/s, train_loss=0.253]\n",
      "\u001b[Aining Batches:  68%|██████▊   | 21/31 [00:17<00:07,  1.25it/s, train_loss=0.249]\n",
      "\u001b[Aining Batches:  71%|███████   | 22/31 [00:17<00:07,  1.25it/s, train_loss=0.249]\n",
      "\u001b[Aining Batches:  71%|███████   | 22/31 [00:18<00:07,  1.25it/s, train_loss=0.192]\n",
      "\u001b[Aining Batches:  74%|███████▍  | 23/31 [00:18<00:06,  1.26it/s, train_loss=0.192]\n",
      "\u001b[Aining Batches:  74%|███████▍  | 23/31 [00:19<00:06,  1.26it/s, train_loss=0.217]\n",
      "\u001b[Aining Batches:  77%|███████▋  | 24/31 [00:19<00:05,  1.27it/s, train_loss=0.217]\n",
      "\u001b[Aining Batches:  77%|███████▋  | 24/31 [00:19<00:05,  1.27it/s, train_loss=0.193]\n",
      "\u001b[Aining Batches:  81%|████████  | 25/31 [00:19<00:04,  1.29it/s, train_loss=0.193]\n",
      "\u001b[Aining Batches:  81%|████████  | 25/31 [00:20<00:04,  1.29it/s, train_loss=0.326]\n",
      "\u001b[Aining Batches:  84%|████████▍ | 26/31 [00:20<00:03,  1.26it/s, train_loss=0.326]\n",
      "\u001b[Aining Batches:  84%|████████▍ | 26/31 [00:21<00:03,  1.26it/s, train_loss=0.204]\n",
      "\u001b[Aining Batches:  87%|████████▋ | 27/31 [00:21<00:03,  1.27it/s, train_loss=0.204]\n",
      "\u001b[Aining Batches:  87%|████████▋ | 27/31 [00:22<00:03,  1.27it/s, train_loss=0.148]\n",
      "\u001b[Aining Batches:  90%|█████████ | 28/31 [00:22<00:02,  1.25it/s, train_loss=0.148]\n",
      "\u001b[Aining Batches:  90%|█████████ | 28/31 [00:23<00:02,  1.25it/s, train_loss=0.289]\n",
      "\u001b[Aining Batches:  94%|█████████▎| 29/31 [00:23<00:01,  1.23it/s, train_loss=0.289]\n",
      "\u001b[Aining Batches:  94%|█████████▎| 29/31 [00:23<00:01,  1.23it/s, train_loss=0.207]\n",
      "\u001b[Aining Batches:  97%|█████████▋| 30/31 [00:23<00:00,  1.23it/s, train_loss=0.207]\n",
      "\u001b[Aining Batches:  97%|█████████▋| 30/31 [00:24<00:00,  1.23it/s, train_loss=0.269]\n",
      "\u001b[Aining Batches: 100%|██████████| 31/31 [00:24<00:00,  1.56it/s, train_loss=0.269]\n",
      "\u001b[A                                                                                "
     ]
    },
    {
     "name": "stdout",
     "output_type": "stream",
     "text": [
      "epoch 50 average loss: 0.2344\n"
     ]
    },
    {
     "name": "stderr",
     "output_type": "stream",
     "text": [
      "Epochs:  71%|███████▏  | 50/70 [20:46<08:13, 24.68s/it]"
     ]
    },
    {
     "name": "stdout",
     "output_type": "stream",
     "text": [
      "1\n",
      "current epoch: 50 current AUC: 0.9910 current accuracy: 0.8820 best AUC: 0.9930 at epoch: 11\n",
      "----------\n",
      "epoch 51/70\n"
     ]
    },
    {
     "name": "stderr",
     "output_type": "stream",
     "text": [
      "\n",
      "\u001b[Aining Batches:   0%|          | 0/31 [00:00<?, ?it/s]\n",
      "\u001b[Aining Batches:   0%|          | 0/31 [00:00<?, ?it/s, train_loss=0.145]\n",
      "\u001b[Aining Batches:   3%|▎         | 1/31 [00:00<00:25,  1.20it/s, train_loss=0.145]\n",
      "\u001b[Aining Batches:   3%|▎         | 1/31 [00:01<00:25,  1.20it/s, train_loss=0.356]\n",
      "\u001b[Aining Batches:   6%|▋         | 2/31 [00:01<00:22,  1.27it/s, train_loss=0.356]\n",
      "\u001b[Aining Batches:   6%|▋         | 2/31 [00:02<00:22,  1.27it/s, train_loss=0.329]\n",
      "\u001b[Aining Batches:  10%|▉         | 3/31 [00:02<00:22,  1.24it/s, train_loss=0.329]\n",
      "\u001b[Aining Batches:  10%|▉         | 3/31 [00:03<00:22,  1.24it/s, train_loss=0.203]\n",
      "\u001b[Aining Batches:  13%|█▎        | 4/31 [00:03<00:20,  1.30it/s, train_loss=0.203]\n",
      "\u001b[Aining Batches:  13%|█▎        | 4/31 [00:03<00:20,  1.30it/s, train_loss=0.187]\n",
      "\u001b[Aining Batches:  16%|█▌        | 5/31 [00:03<00:20,  1.30it/s, train_loss=0.187]\n",
      "\u001b[Aining Batches:  16%|█▌        | 5/31 [00:04<00:20,  1.30it/s, train_loss=0.148]\n",
      "\u001b[Aining Batches:  19%|█▉        | 6/31 [00:04<00:19,  1.28it/s, train_loss=0.148]\n",
      "\u001b[Aining Batches:  19%|█▉        | 6/31 [00:05<00:19,  1.28it/s, train_loss=0.436]\n",
      "\u001b[Aining Batches:  23%|██▎       | 7/31 [00:05<00:18,  1.28it/s, train_loss=0.436]\n",
      "\u001b[Aining Batches:  23%|██▎       | 7/31 [00:06<00:18,  1.28it/s, train_loss=0.349]\n",
      "\u001b[Aining Batches:  26%|██▌       | 8/31 [00:06<00:18,  1.27it/s, train_loss=0.349]\n",
      "\u001b[Aining Batches:  26%|██▌       | 8/31 [00:07<00:18,  1.27it/s, train_loss=0.16] \n",
      "\u001b[Aining Batches:  29%|██▉       | 9/31 [00:07<00:17,  1.26it/s, train_loss=0.16]\n",
      "\u001b[Aining Batches:  29%|██▉       | 9/31 [00:07<00:17,  1.26it/s, train_loss=0.223]\n",
      "\u001b[Aining Batches:  32%|███▏      | 10/31 [00:07<00:16,  1.24it/s, train_loss=0.223]\n",
      "\u001b[Aining Batches:  32%|███▏      | 10/31 [00:08<00:16,  1.24it/s, train_loss=0.278]\n",
      "\u001b[Aining Batches:  35%|███▌      | 11/31 [00:08<00:16,  1.25it/s, train_loss=0.278]\n",
      "\u001b[Aining Batches:  35%|███▌      | 11/31 [00:09<00:16,  1.25it/s, train_loss=0.256]\n",
      "\u001b[Aining Batches:  39%|███▊      | 12/31 [00:09<00:15,  1.25it/s, train_loss=0.256]\n",
      "\u001b[Aining Batches:  39%|███▊      | 12/31 [00:10<00:15,  1.25it/s, train_loss=0.133]\n",
      "\u001b[Aining Batches:  42%|████▏     | 13/31 [00:10<00:14,  1.24it/s, train_loss=0.133]\n",
      "\u001b[Aining Batches:  42%|████▏     | 13/31 [00:11<00:14,  1.24it/s, train_loss=0.182]\n",
      "\u001b[Aining Batches:  45%|████▌     | 14/31 [00:11<00:13,  1.25it/s, train_loss=0.182]\n",
      "\u001b[Aining Batches:  45%|████▌     | 14/31 [00:11<00:13,  1.25it/s, train_loss=0.146]\n",
      "\u001b[Aining Batches:  48%|████▊     | 15/31 [00:11<00:12,  1.26it/s, train_loss=0.146]\n",
      "\u001b[Aining Batches:  48%|████▊     | 15/31 [00:12<00:12,  1.26it/s, train_loss=0.189]\n",
      "\u001b[Aining Batches:  52%|█████▏    | 16/31 [00:12<00:11,  1.26it/s, train_loss=0.189]\n",
      "\u001b[Aining Batches:  52%|█████▏    | 16/31 [00:13<00:11,  1.26it/s, train_loss=0.39] \n",
      "\u001b[Aining Batches:  55%|█████▍    | 17/31 [00:13<00:11,  1.26it/s, train_loss=0.39]\n",
      "\u001b[Aining Batches:  55%|█████▍    | 17/31 [00:14<00:11,  1.26it/s, train_loss=0.134]\n",
      "\u001b[Aining Batches:  58%|█████▊    | 18/31 [00:14<00:10,  1.26it/s, train_loss=0.134]\n",
      "\u001b[Aining Batches:  58%|█████▊    | 18/31 [00:15<00:10,  1.26it/s, train_loss=0.297]\n",
      "\u001b[Aining Batches:  61%|██████▏   | 19/31 [00:15<00:09,  1.25it/s, train_loss=0.297]\n",
      "\u001b[Aining Batches:  61%|██████▏   | 19/31 [00:15<00:09,  1.25it/s, train_loss=0.149]\n",
      "\u001b[Aining Batches:  65%|██████▍   | 20/31 [00:15<00:08,  1.25it/s, train_loss=0.149]\n",
      "\u001b[Aining Batches:  65%|██████▍   | 20/31 [00:16<00:08,  1.25it/s, train_loss=0.184]\n",
      "\u001b[Aining Batches:  68%|██████▊   | 21/31 [00:16<00:08,  1.23it/s, train_loss=0.184]\n",
      "\u001b[Aining Batches:  68%|██████▊   | 21/31 [00:17<00:08,  1.23it/s, train_loss=0.367]\n",
      "\u001b[Aining Batches:  71%|███████   | 22/31 [00:17<00:07,  1.23it/s, train_loss=0.367]\n",
      "\u001b[Aining Batches:  71%|███████   | 22/31 [00:18<00:07,  1.23it/s, train_loss=0.294]\n",
      "\u001b[Aining Batches:  74%|███████▍  | 23/31 [00:18<00:06,  1.21it/s, train_loss=0.294]\n",
      "\u001b[Aining Batches:  74%|███████▍  | 23/31 [00:19<00:06,  1.21it/s, train_loss=0.18] \n",
      "\u001b[Aining Batches:  77%|███████▋  | 24/31 [00:19<00:05,  1.22it/s, train_loss=0.18]\n",
      "\u001b[Aining Batches:  77%|███████▋  | 24/31 [00:20<00:05,  1.22it/s, train_loss=0.203]\n",
      "\u001b[Aining Batches:  81%|████████  | 25/31 [00:20<00:04,  1.22it/s, train_loss=0.203]\n",
      "\u001b[Aining Batches:  81%|████████  | 25/31 [00:20<00:04,  1.22it/s, train_loss=0.435]\n",
      "\u001b[Aining Batches:  84%|████████▍ | 26/31 [00:20<00:04,  1.22it/s, train_loss=0.435]\n",
      "\u001b[Aining Batches:  84%|████████▍ | 26/31 [00:21<00:04,  1.22it/s, train_loss=0.337]\n",
      "\u001b[Aining Batches:  87%|████████▋ | 27/31 [00:21<00:03,  1.25it/s, train_loss=0.337]\n",
      "\u001b[Aining Batches:  87%|████████▋ | 27/31 [00:22<00:03,  1.25it/s, train_loss=0.179]\n",
      "\u001b[Aining Batches:  90%|█████████ | 28/31 [00:22<00:02,  1.25it/s, train_loss=0.179]\n",
      "\u001b[Aining Batches:  90%|█████████ | 28/31 [00:23<00:02,  1.25it/s, train_loss=0.384]\n",
      "\u001b[Aining Batches:  94%|█████████▎| 29/31 [00:23<00:01,  1.26it/s, train_loss=0.384]\n",
      "\u001b[Aining Batches:  94%|█████████▎| 29/31 [00:24<00:01,  1.26it/s, train_loss=0.292]\n",
      "\u001b[Aining Batches:  97%|█████████▋| 30/31 [00:24<00:00,  1.25it/s, train_loss=0.292]\n",
      "\u001b[Aining Batches:  97%|█████████▋| 30/31 [00:24<00:00,  1.25it/s, train_loss=0.151]\n",
      "\u001b[Aining Batches: 100%|██████████| 31/31 [00:24<00:00,  1.53it/s, train_loss=0.151]\n",
      "\u001b[A                                                                                "
     ]
    },
    {
     "name": "stdout",
     "output_type": "stream",
     "text": [
      "epoch 51 average loss: 0.2483\n"
     ]
    },
    {
     "name": "stderr",
     "output_type": "stream",
     "text": [
      "Epochs:  73%|███████▎  | 51/70 [21:11<07:50, 24.75s/it]"
     ]
    },
    {
     "name": "stdout",
     "output_type": "stream",
     "text": [
      "1\n",
      "current epoch: 51 current AUC: 0.9904 current accuracy: 0.8882 best AUC: 0.9930 at epoch: 11\n",
      "----------\n",
      "epoch 52/70\n"
     ]
    },
    {
     "name": "stderr",
     "output_type": "stream",
     "text": [
      "\n",
      "\u001b[Aining Batches:   0%|          | 0/31 [00:00<?, ?it/s]\n",
      "\u001b[Aining Batches:   0%|          | 0/31 [00:00<?, ?it/s, train_loss=0.185]\n",
      "\u001b[Aining Batches:   3%|▎         | 1/31 [00:00<00:24,  1.25it/s, train_loss=0.185]\n",
      "\u001b[Aining Batches:   3%|▎         | 1/31 [00:01<00:24,  1.25it/s, train_loss=0.191]\n",
      "\u001b[Aining Batches:   6%|▋         | 2/31 [00:01<00:23,  1.22it/s, train_loss=0.191]\n",
      "\u001b[Aining Batches:   6%|▋         | 2/31 [00:02<00:23,  1.22it/s, train_loss=0.165]\n",
      "\u001b[Aining Batches:  10%|▉         | 3/31 [00:02<00:22,  1.22it/s, train_loss=0.165]\n",
      "\u001b[Aining Batches:  10%|▉         | 3/31 [00:03<00:22,  1.22it/s, train_loss=0.237]\n",
      "\u001b[Aining Batches:  13%|█▎        | 4/31 [00:03<00:22,  1.21it/s, train_loss=0.237]\n",
      "\u001b[Aining Batches:  13%|█▎        | 4/31 [00:04<00:22,  1.21it/s, train_loss=0.27] \n",
      "\u001b[Aining Batches:  16%|█▌        | 5/31 [00:04<00:21,  1.22it/s, train_loss=0.27]\n",
      "\u001b[Aining Batches:  16%|█▌        | 5/31 [00:04<00:21,  1.22it/s, train_loss=0.182]\n",
      "\u001b[Aining Batches:  19%|█▉        | 6/31 [00:04<00:20,  1.23it/s, train_loss=0.182]\n",
      "\u001b[Aining Batches:  19%|█▉        | 6/31 [00:05<00:20,  1.23it/s, train_loss=0.153]\n",
      "\u001b[Aining Batches:  23%|██▎       | 7/31 [00:05<00:19,  1.24it/s, train_loss=0.153]\n",
      "\u001b[Aining Batches:  23%|██▎       | 7/31 [00:06<00:19,  1.24it/s, train_loss=0.233]\n",
      "\u001b[Aining Batches:  26%|██▌       | 8/31 [00:06<00:18,  1.26it/s, train_loss=0.233]\n",
      "\u001b[Aining Batches:  26%|██▌       | 8/31 [00:07<00:18,  1.26it/s, train_loss=0.364]\n",
      "\u001b[Aining Batches:  29%|██▉       | 9/31 [00:07<00:17,  1.28it/s, train_loss=0.364]\n",
      "\u001b[Aining Batches:  29%|██▉       | 9/31 [00:08<00:17,  1.28it/s, train_loss=0.228]\n",
      "\u001b[Aining Batches:  32%|███▏      | 10/31 [00:08<00:16,  1.27it/s, train_loss=0.228]\n",
      "\u001b[Aining Batches:  32%|███▏      | 10/31 [00:08<00:16,  1.27it/s, train_loss=0.337]\n",
      "\u001b[Aining Batches:  35%|███▌      | 11/31 [00:08<00:16,  1.23it/s, train_loss=0.337]\n",
      "\u001b[Aining Batches:  35%|███▌      | 11/31 [00:09<00:16,  1.23it/s, train_loss=0.292]\n",
      "\u001b[Aining Batches:  39%|███▊      | 12/31 [00:09<00:15,  1.23it/s, train_loss=0.292]\n",
      "\u001b[Aining Batches:  39%|███▊      | 12/31 [00:10<00:15,  1.23it/s, train_loss=0.271]\n",
      "\u001b[Aining Batches:  42%|████▏     | 13/31 [00:10<00:14,  1.25it/s, train_loss=0.271]\n",
      "\u001b[Aining Batches:  42%|████▏     | 13/31 [00:11<00:14,  1.25it/s, train_loss=0.16] \n",
      "\u001b[Aining Batches:  45%|████▌     | 14/31 [00:11<00:13,  1.25it/s, train_loss=0.16]\n",
      "\u001b[Aining Batches:  45%|████▌     | 14/31 [00:12<00:13,  1.25it/s, train_loss=0.2] \n",
      "\u001b[Aining Batches:  48%|████▊     | 15/31 [00:12<00:12,  1.23it/s, train_loss=0.2]\n",
      "\u001b[Aining Batches:  48%|████▊     | 15/31 [00:12<00:12,  1.23it/s, train_loss=0.302]\n",
      "\u001b[Aining Batches:  52%|█████▏    | 16/31 [00:12<00:12,  1.24it/s, train_loss=0.302]\n",
      "\u001b[Aining Batches:  52%|█████▏    | 16/31 [00:13<00:12,  1.24it/s, train_loss=0.136]\n",
      "\u001b[Aining Batches:  55%|█████▍    | 17/31 [00:13<00:11,  1.26it/s, train_loss=0.136]\n",
      "\u001b[Aining Batches:  55%|█████▍    | 17/31 [00:14<00:11,  1.26it/s, train_loss=0.264]\n",
      "\u001b[Aining Batches:  58%|█████▊    | 18/31 [00:14<00:10,  1.25it/s, train_loss=0.264]\n",
      "\u001b[Aining Batches:  58%|█████▊    | 18/31 [00:15<00:10,  1.25it/s, train_loss=0.132]\n",
      "\u001b[Aining Batches:  61%|██████▏   | 19/31 [00:15<00:09,  1.25it/s, train_loss=0.132]\n",
      "\u001b[Aining Batches:  61%|██████▏   | 19/31 [00:16<00:09,  1.25it/s, train_loss=0.15] \n",
      "\u001b[Aining Batches:  65%|██████▍   | 20/31 [00:16<00:08,  1.24it/s, train_loss=0.15]\n",
      "\u001b[Aining Batches:  65%|██████▍   | 20/31 [00:16<00:08,  1.24it/s, train_loss=0.323]\n",
      "\u001b[Aining Batches:  68%|██████▊   | 21/31 [00:16<00:08,  1.23it/s, train_loss=0.323]\n",
      "\u001b[Aining Batches:  68%|██████▊   | 21/31 [00:17<00:08,  1.23it/s, train_loss=0.198]\n",
      "\u001b[Aining Batches:  71%|███████   | 22/31 [00:17<00:07,  1.23it/s, train_loss=0.198]\n",
      "\u001b[Aining Batches:  71%|███████   | 22/31 [00:18<00:07,  1.23it/s, train_loss=0.241]\n",
      "\u001b[Aining Batches:  74%|███████▍  | 23/31 [00:18<00:06,  1.25it/s, train_loss=0.241]\n",
      "\u001b[Aining Batches:  74%|███████▍  | 23/31 [00:19<00:06,  1.25it/s, train_loss=0.286]\n",
      "\u001b[Aining Batches:  77%|███████▋  | 24/31 [00:19<00:05,  1.24it/s, train_loss=0.286]\n",
      "\u001b[Aining Batches:  77%|███████▋  | 24/31 [00:20<00:05,  1.24it/s, train_loss=0.207]\n",
      "\u001b[Aining Batches:  81%|████████  | 25/31 [00:20<00:04,  1.24it/s, train_loss=0.207]\n",
      "\u001b[Aining Batches:  81%|████████  | 25/31 [00:20<00:04,  1.24it/s, train_loss=0.125]\n",
      "\u001b[Aining Batches:  84%|████████▍ | 26/31 [00:20<00:04,  1.24it/s, train_loss=0.125]\n",
      "\u001b[Aining Batches:  84%|████████▍ | 26/31 [00:21<00:04,  1.24it/s, train_loss=0.259]\n",
      "\u001b[Aining Batches:  87%|████████▋ | 27/31 [00:21<00:03,  1.22it/s, train_loss=0.259]\n",
      "\u001b[Aining Batches:  87%|████████▋ | 27/31 [00:22<00:03,  1.22it/s, train_loss=0.251]\n",
      "\u001b[Aining Batches:  90%|█████████ | 28/31 [00:22<00:02,  1.21it/s, train_loss=0.251]\n",
      "\u001b[Aining Batches:  90%|█████████ | 28/31 [00:23<00:02,  1.21it/s, train_loss=0.161]\n",
      "\u001b[Aining Batches:  94%|█████████▎| 29/31 [00:23<00:01,  1.24it/s, train_loss=0.161]\n",
      "\u001b[Aining Batches:  94%|█████████▎| 29/31 [00:24<00:01,  1.24it/s, train_loss=0.196]\n",
      "\u001b[Aining Batches:  97%|█████████▋| 30/31 [00:24<00:00,  1.26it/s, train_loss=0.196]\n",
      "\u001b[Aining Batches:  97%|█████████▋| 30/31 [00:24<00:00,  1.26it/s, train_loss=0.245]\n",
      "\u001b[Aining Batches: 100%|██████████| 31/31 [00:24<00:00,  1.56it/s, train_loss=0.245]\n",
      "\u001b[A                                                                                "
     ]
    },
    {
     "name": "stdout",
     "output_type": "stream",
     "text": [
      "epoch 52 average loss: 0.2240\n"
     ]
    },
    {
     "name": "stderr",
     "output_type": "stream",
     "text": [
      "Epochs:  74%|███████▍  | 52/70 [21:36<07:27, 24.84s/it]"
     ]
    },
    {
     "name": "stdout",
     "output_type": "stream",
     "text": [
      "1\n",
      "current epoch: 52 current AUC: 0.9920 current accuracy: 0.8820 best AUC: 0.9930 at epoch: 11\n",
      "----------\n",
      "epoch 53/70\n"
     ]
    },
    {
     "name": "stderr",
     "output_type": "stream",
     "text": [
      "\n",
      "\u001b[Aining Batches:   0%|          | 0/31 [00:00<?, ?it/s]\n",
      "\u001b[Aining Batches:   0%|          | 0/31 [00:00<?, ?it/s, train_loss=0.221]\n",
      "\u001b[Aining Batches:   3%|▎         | 1/31 [00:00<00:23,  1.29it/s, train_loss=0.221]\n",
      "\u001b[Aining Batches:   3%|▎         | 1/31 [00:01<00:23,  1.29it/s, train_loss=0.221]\n",
      "\u001b[Aining Batches:   6%|▋         | 2/31 [00:01<00:22,  1.30it/s, train_loss=0.221]\n",
      "\u001b[Aining Batches:   6%|▋         | 2/31 [00:02<00:22,  1.30it/s, train_loss=0.3]  \n",
      "\u001b[Aining Batches:  10%|▉         | 3/31 [00:02<00:21,  1.29it/s, train_loss=0.3]\n",
      "\u001b[Aining Batches:  10%|▉         | 3/31 [00:03<00:21,  1.29it/s, train_loss=0.154]\n",
      "\u001b[Aining Batches:  13%|█▎        | 4/31 [00:03<00:20,  1.30it/s, train_loss=0.154]\n",
      "\u001b[Aining Batches:  13%|█▎        | 4/31 [00:03<00:20,  1.30it/s, train_loss=0.342]\n",
      "\u001b[Aining Batches:  16%|█▌        | 5/31 [00:03<00:20,  1.27it/s, train_loss=0.342]\n",
      "\u001b[Aining Batches:  16%|█▌        | 5/31 [00:04<00:20,  1.27it/s, train_loss=0.156]\n",
      "\u001b[Aining Batches:  19%|█▉        | 6/31 [00:04<00:19,  1.27it/s, train_loss=0.156]\n",
      "\u001b[Aining Batches:  19%|█▉        | 6/31 [00:05<00:19,  1.27it/s, train_loss=0.218]\n",
      "\u001b[Aining Batches:  23%|██▎       | 7/31 [00:05<00:18,  1.29it/s, train_loss=0.218]\n",
      "\u001b[Aining Batches:  23%|██▎       | 7/31 [00:06<00:18,  1.29it/s, train_loss=0.163]\n",
      "\u001b[Aining Batches:  26%|██▌       | 8/31 [00:06<00:18,  1.26it/s, train_loss=0.163]\n",
      "\u001b[Aining Batches:  26%|██▌       | 8/31 [00:07<00:18,  1.26it/s, train_loss=0.305]\n",
      "\u001b[Aining Batches:  29%|██▉       | 9/31 [00:07<00:17,  1.24it/s, train_loss=0.305]\n",
      "\u001b[Aining Batches:  29%|██▉       | 9/31 [00:07<00:17,  1.24it/s, train_loss=0.308]\n",
      "\u001b[Aining Batches:  32%|███▏      | 10/31 [00:07<00:16,  1.27it/s, train_loss=0.308]\n",
      "\u001b[Aining Batches:  32%|███▏      | 10/31 [00:08<00:16,  1.27it/s, train_loss=0.213]\n",
      "\u001b[Aining Batches:  35%|███▌      | 11/31 [00:08<00:15,  1.26it/s, train_loss=0.213]\n",
      "\u001b[Aining Batches:  35%|███▌      | 11/31 [00:09<00:15,  1.26it/s, train_loss=0.134]\n",
      "\u001b[Aining Batches:  39%|███▊      | 12/31 [00:09<00:15,  1.26it/s, train_loss=0.134]\n",
      "\u001b[Aining Batches:  39%|███▊      | 12/31 [00:10<00:15,  1.26it/s, train_loss=0.184]\n",
      "\u001b[Aining Batches:  42%|████▏     | 13/31 [00:10<00:14,  1.24it/s, train_loss=0.184]\n",
      "\u001b[Aining Batches:  42%|████▏     | 13/31 [00:11<00:14,  1.24it/s, train_loss=0.181]\n",
      "\u001b[Aining Batches:  45%|████▌     | 14/31 [00:11<00:13,  1.26it/s, train_loss=0.181]\n",
      "\u001b[Aining Batches:  45%|████▌     | 14/31 [00:11<00:13,  1.26it/s, train_loss=0.134]\n",
      "\u001b[Aining Batches:  48%|████▊     | 15/31 [00:11<00:12,  1.24it/s, train_loss=0.134]\n",
      "\u001b[Aining Batches:  48%|████▊     | 15/31 [00:12<00:12,  1.24it/s, train_loss=0.298]\n",
      "\u001b[Aining Batches:  52%|█████▏    | 16/31 [00:12<00:11,  1.26it/s, train_loss=0.298]\n",
      "\u001b[Aining Batches:  52%|█████▏    | 16/31 [00:13<00:11,  1.26it/s, train_loss=0.326]\n",
      "\u001b[Aining Batches:  55%|█████▍    | 17/31 [00:13<00:11,  1.26it/s, train_loss=0.326]\n",
      "\u001b[Aining Batches:  55%|█████▍    | 17/31 [00:14<00:11,  1.26it/s, train_loss=0.273]\n",
      "\u001b[Aining Batches:  58%|█████▊    | 18/31 [00:14<00:10,  1.26it/s, train_loss=0.273]\n",
      "\u001b[Aining Batches:  58%|█████▊    | 18/31 [00:14<00:10,  1.26it/s, train_loss=0.244]\n",
      "\u001b[Aining Batches:  61%|██████▏   | 19/31 [00:15<00:09,  1.28it/s, train_loss=0.244]\n",
      "\u001b[Aining Batches:  61%|██████▏   | 19/31 [00:15<00:09,  1.28it/s, train_loss=0.259]\n",
      "\u001b[Aining Batches:  65%|██████▍   | 20/31 [00:15<00:08,  1.27it/s, train_loss=0.259]\n",
      "\u001b[Aining Batches:  65%|██████▍   | 20/31 [00:16<00:08,  1.27it/s, train_loss=0.208]\n",
      "\u001b[Aining Batches:  68%|██████▊   | 21/31 [00:16<00:07,  1.26it/s, train_loss=0.208]\n",
      "\u001b[Aining Batches:  68%|██████▊   | 21/31 [00:17<00:07,  1.26it/s, train_loss=0.194]\n",
      "\u001b[Aining Batches:  71%|███████   | 22/31 [00:17<00:07,  1.28it/s, train_loss=0.194]\n",
      "\u001b[Aining Batches:  71%|███████   | 22/31 [00:18<00:07,  1.28it/s, train_loss=0.0901]\n",
      "\u001b[Aining Batches:  74%|███████▍  | 23/31 [00:18<00:06,  1.28it/s, train_loss=0.0901]\n",
      "\u001b[Aining Batches:  74%|███████▍  | 23/31 [00:18<00:06,  1.28it/s, train_loss=0.224] \n",
      "\u001b[Aining Batches:  77%|███████▋  | 24/31 [00:18<00:05,  1.29it/s, train_loss=0.224]\n",
      "\u001b[Aining Batches:  77%|███████▋  | 24/31 [00:19<00:05,  1.29it/s, train_loss=0.234]\n",
      "\u001b[Aining Batches:  81%|████████  | 25/31 [00:19<00:04,  1.29it/s, train_loss=0.234]\n",
      "\u001b[Aining Batches:  81%|████████  | 25/31 [00:20<00:04,  1.29it/s, train_loss=0.246]\n",
      "\u001b[Aining Batches:  84%|████████▍ | 26/31 [00:20<00:03,  1.27it/s, train_loss=0.246]\n",
      "\u001b[Aining Batches:  84%|████████▍ | 26/31 [00:21<00:03,  1.27it/s, train_loss=0.288]\n",
      "\u001b[Aining Batches:  87%|████████▋ | 27/31 [00:21<00:03,  1.25it/s, train_loss=0.288]\n",
      "\u001b[Aining Batches:  87%|████████▋ | 27/31 [00:22<00:03,  1.25it/s, train_loss=0.221]\n",
      "\u001b[Aining Batches:  90%|█████████ | 28/31 [00:22<00:02,  1.26it/s, train_loss=0.221]\n",
      "\u001b[Aining Batches:  90%|█████████ | 28/31 [00:22<00:02,  1.26it/s, train_loss=0.219]\n",
      "\u001b[Aining Batches:  94%|█████████▎| 29/31 [00:22<00:01,  1.23it/s, train_loss=0.219]\n",
      "\u001b[Aining Batches:  94%|█████████▎| 29/31 [00:23<00:01,  1.23it/s, train_loss=0.289]\n",
      "\u001b[Aining Batches:  97%|█████████▋| 30/31 [00:23<00:00,  1.23it/s, train_loss=0.289]\n",
      "\u001b[Aining Batches:  97%|█████████▋| 30/31 [00:24<00:00,  1.23it/s, train_loss=0.736]\n",
      "\u001b[Aining Batches: 100%|██████████| 31/31 [00:24<00:00,  1.52it/s, train_loss=0.736]\n",
      "\u001b[A                                                                                "
     ]
    },
    {
     "name": "stdout",
     "output_type": "stream",
     "text": [
      "epoch 53 average loss: 0.2445\n",
      "1\n"
     ]
    },
    {
     "name": "stderr",
     "output_type": "stream",
     "text": [
      "Epochs:  76%|███████▌  | 53/70 [22:02<07:07, 25.17s/it]"
     ]
    },
    {
     "name": "stdout",
     "output_type": "stream",
     "text": [
      "saved new best metric model\n",
      "current epoch: 53 current AUC: 0.9959 current accuracy: 0.9068 best AUC: 0.9959 at epoch: 53\n",
      "----------\n",
      "epoch 54/70\n"
     ]
    },
    {
     "name": "stderr",
     "output_type": "stream",
     "text": [
      "\n",
      "\u001b[Aining Batches:   0%|          | 0/31 [00:00<?, ?it/s]\n",
      "\u001b[Aining Batches:   0%|          | 0/31 [00:00<?, ?it/s, train_loss=0.181]\n",
      "\u001b[Aining Batches:   3%|▎         | 1/31 [00:00<00:23,  1.27it/s, train_loss=0.181]\n",
      "\u001b[Aining Batches:   3%|▎         | 1/31 [00:01<00:23,  1.27it/s, train_loss=0.227]\n",
      "\u001b[Aining Batches:   6%|▋         | 2/31 [00:01<00:22,  1.27it/s, train_loss=0.227]\n",
      "\u001b[Aining Batches:   6%|▋         | 2/31 [00:02<00:22,  1.27it/s, train_loss=0.359]\n",
      "\u001b[Aining Batches:  10%|▉         | 3/31 [00:02<00:22,  1.26it/s, train_loss=0.359]\n",
      "\u001b[Aining Batches:  10%|▉         | 3/31 [00:03<00:22,  1.26it/s, train_loss=0.192]\n",
      "\u001b[Aining Batches:  13%|█▎        | 4/31 [00:03<00:21,  1.23it/s, train_loss=0.192]\n",
      "\u001b[Aining Batches:  13%|█▎        | 4/31 [00:03<00:21,  1.23it/s, train_loss=0.189]\n",
      "\u001b[Aining Batches:  16%|█▌        | 5/31 [00:03<00:20,  1.25it/s, train_loss=0.189]\n",
      "\u001b[Aining Batches:  16%|█▌        | 5/31 [00:04<00:20,  1.25it/s, train_loss=0.284]\n",
      "\u001b[Aining Batches:  19%|█▉        | 6/31 [00:04<00:19,  1.27it/s, train_loss=0.284]\n",
      "\u001b[Aining Batches:  19%|█▉        | 6/31 [00:05<00:19,  1.27it/s, train_loss=0.321]\n",
      "\u001b[Aining Batches:  23%|██▎       | 7/31 [00:05<00:19,  1.26it/s, train_loss=0.321]\n",
      "\u001b[Aining Batches:  23%|██▎       | 7/31 [00:06<00:19,  1.26it/s, train_loss=0.307]\n",
      "\u001b[Aining Batches:  26%|██▌       | 8/31 [00:06<00:18,  1.26it/s, train_loss=0.307]\n",
      "\u001b[Aining Batches:  26%|██▌       | 8/31 [00:07<00:18,  1.26it/s, train_loss=0.289]\n",
      "\u001b[Aining Batches:  29%|██▉       | 9/31 [00:07<00:17,  1.26it/s, train_loss=0.289]\n",
      "\u001b[Aining Batches:  29%|██▉       | 9/31 [00:07<00:17,  1.26it/s, train_loss=0.187]\n",
      "\u001b[Aining Batches:  32%|███▏      | 10/31 [00:07<00:16,  1.27it/s, train_loss=0.187]\n",
      "\u001b[Aining Batches:  32%|███▏      | 10/31 [00:08<00:16,  1.27it/s, train_loss=0.355]\n",
      "\u001b[Aining Batches:  35%|███▌      | 11/31 [00:08<00:15,  1.28it/s, train_loss=0.355]\n",
      "\u001b[Aining Batches:  35%|███▌      | 11/31 [00:09<00:15,  1.28it/s, train_loss=0.238]\n",
      "\u001b[Aining Batches:  39%|███▊      | 12/31 [00:09<00:15,  1.25it/s, train_loss=0.238]\n",
      "\u001b[Aining Batches:  39%|███▊      | 12/31 [00:10<00:15,  1.25it/s, train_loss=0.365]\n",
      "\u001b[Aining Batches:  42%|████▏     | 13/31 [00:10<00:14,  1.24it/s, train_loss=0.365]\n",
      "\u001b[Aining Batches:  42%|████▏     | 13/31 [00:11<00:14,  1.24it/s, train_loss=0.217]\n",
      "\u001b[Aining Batches:  45%|████▌     | 14/31 [00:11<00:13,  1.23it/s, train_loss=0.217]\n",
      "\u001b[Aining Batches:  45%|████▌     | 14/31 [00:11<00:13,  1.23it/s, train_loss=0.161]\n",
      "\u001b[Aining Batches:  48%|████▊     | 15/31 [00:11<00:12,  1.25it/s, train_loss=0.161]\n",
      "\u001b[Aining Batches:  48%|████▊     | 15/31 [00:12<00:12,  1.25it/s, train_loss=0.316]\n",
      "\u001b[Aining Batches:  52%|█████▏    | 16/31 [00:12<00:12,  1.25it/s, train_loss=0.316]\n",
      "\u001b[Aining Batches:  52%|█████▏    | 16/31 [00:13<00:12,  1.25it/s, train_loss=0.248]\n",
      "\u001b[Aining Batches:  55%|█████▍    | 17/31 [00:13<00:11,  1.26it/s, train_loss=0.248]\n",
      "\u001b[Aining Batches:  55%|█████▍    | 17/31 [00:14<00:11,  1.26it/s, train_loss=0.142]\n",
      "\u001b[Aining Batches:  58%|█████▊    | 18/31 [00:14<00:10,  1.27it/s, train_loss=0.142]\n",
      "\u001b[Aining Batches:  58%|█████▊    | 18/31 [00:15<00:10,  1.27it/s, train_loss=0.151]\n",
      "\u001b[Aining Batches:  61%|██████▏   | 19/31 [00:15<00:09,  1.26it/s, train_loss=0.151]\n",
      "\u001b[Aining Batches:  61%|██████▏   | 19/31 [00:15<00:09,  1.26it/s, train_loss=0.207]\n",
      "\u001b[Aining Batches:  65%|██████▍   | 20/31 [00:15<00:08,  1.28it/s, train_loss=0.207]\n",
      "\u001b[Aining Batches:  65%|██████▍   | 20/31 [00:16<00:08,  1.28it/s, train_loss=0.285]\n",
      "\u001b[Aining Batches:  68%|██████▊   | 21/31 [00:16<00:07,  1.27it/s, train_loss=0.285]\n",
      "\u001b[Aining Batches:  68%|██████▊   | 21/31 [00:17<00:07,  1.27it/s, train_loss=0.237]\n",
      "\u001b[Aining Batches:  71%|███████   | 22/31 [00:17<00:07,  1.26it/s, train_loss=0.237]\n",
      "\u001b[Aining Batches:  71%|███████   | 22/31 [00:18<00:07,  1.26it/s, train_loss=0.253]\n",
      "\u001b[Aining Batches:  74%|███████▍  | 23/31 [00:18<00:06,  1.25it/s, train_loss=0.253]\n",
      "\u001b[Aining Batches:  74%|███████▍  | 23/31 [00:19<00:06,  1.25it/s, train_loss=0.325]\n",
      "\u001b[Aining Batches:  77%|███████▋  | 24/31 [00:19<00:05,  1.24it/s, train_loss=0.325]\n",
      "\u001b[Aining Batches:  77%|███████▋  | 24/31 [00:19<00:05,  1.24it/s, train_loss=0.316]\n",
      "\u001b[Aining Batches:  81%|████████  | 25/31 [00:19<00:04,  1.24it/s, train_loss=0.316]\n",
      "\u001b[Aining Batches:  81%|████████  | 25/31 [00:20<00:04,  1.24it/s, train_loss=0.171]\n",
      "\u001b[Aining Batches:  84%|████████▍ | 26/31 [00:20<00:03,  1.26it/s, train_loss=0.171]\n",
      "\u001b[Aining Batches:  84%|████████▍ | 26/31 [00:21<00:03,  1.26it/s, train_loss=0.17] \n",
      "\u001b[Aining Batches:  87%|████████▋ | 27/31 [00:21<00:03,  1.25it/s, train_loss=0.17]\n",
      "\u001b[Aining Batches:  87%|████████▋ | 27/31 [00:22<00:03,  1.25it/s, train_loss=0.125]\n",
      "\u001b[Aining Batches:  90%|█████████ | 28/31 [00:22<00:02,  1.24it/s, train_loss=0.125]\n",
      "\u001b[Aining Batches:  90%|█████████ | 28/31 [00:23<00:02,  1.24it/s, train_loss=0.14] \n",
      "\u001b[Aining Batches:  94%|█████████▎| 29/31 [00:23<00:01,  1.22it/s, train_loss=0.14]\n",
      "\u001b[Aining Batches:  94%|█████████▎| 29/31 [00:23<00:01,  1.22it/s, train_loss=0.233]\n",
      "\u001b[Aining Batches:  97%|█████████▋| 30/31 [00:23<00:00,  1.25it/s, train_loss=0.233]\n",
      "\u001b[Aining Batches:  97%|█████████▋| 30/31 [00:24<00:00,  1.25it/s, train_loss=0.344]\n",
      "\u001b[Aining Batches: 100%|██████████| 31/31 [00:24<00:00,  1.54it/s, train_loss=0.344]\n",
      "\u001b[A                                                                                "
     ]
    },
    {
     "name": "stdout",
     "output_type": "stream",
     "text": [
      "epoch 54 average loss: 0.2431\n"
     ]
    },
    {
     "name": "stderr",
     "output_type": "stream",
     "text": [
      "Epochs:  77%|███████▋  | 54/70 [22:27<06:41, 25.07s/it]"
     ]
    },
    {
     "name": "stdout",
     "output_type": "stream",
     "text": [
      "1\n",
      "current epoch: 54 current AUC: 0.9910 current accuracy: 0.8634 best AUC: 0.9959 at epoch: 53\n",
      "----------\n",
      "epoch 55/70\n"
     ]
    },
    {
     "name": "stderr",
     "output_type": "stream",
     "text": [
      "\n",
      "\u001b[Aining Batches:   0%|          | 0/31 [00:00<?, ?it/s]\n",
      "\u001b[Aining Batches:   0%|          | 0/31 [00:00<?, ?it/s, train_loss=0.122]\n",
      "\u001b[Aining Batches:   3%|▎         | 1/31 [00:00<00:23,  1.28it/s, train_loss=0.122]\n",
      "\u001b[Aining Batches:   3%|▎         | 1/31 [00:01<00:23,  1.28it/s, train_loss=0.258]\n",
      "\u001b[Aining Batches:   6%|▋         | 2/31 [00:01<00:23,  1.26it/s, train_loss=0.258]\n",
      "\u001b[Aining Batches:   6%|▋         | 2/31 [00:02<00:23,  1.26it/s, train_loss=0.18] \n",
      "\u001b[Aining Batches:  10%|▉         | 3/31 [00:02<00:22,  1.26it/s, train_loss=0.18]\n",
      "\u001b[Aining Batches:  10%|▉         | 3/31 [00:03<00:22,  1.26it/s, train_loss=0.128]\n",
      "\u001b[Aining Batches:  13%|█▎        | 4/31 [00:03<00:21,  1.27it/s, train_loss=0.128]\n",
      "\u001b[Aining Batches:  13%|█▎        | 4/31 [00:03<00:21,  1.27it/s, train_loss=0.102]\n",
      "\u001b[Aining Batches:  16%|█▌        | 5/31 [00:03<00:20,  1.27it/s, train_loss=0.102]\n",
      "\u001b[Aining Batches:  16%|█▌        | 5/31 [00:04<00:20,  1.27it/s, train_loss=0.209]\n",
      "\u001b[Aining Batches:  19%|█▉        | 6/31 [00:04<00:19,  1.26it/s, train_loss=0.209]\n",
      "\u001b[Aining Batches:  19%|█▉        | 6/31 [00:05<00:19,  1.26it/s, train_loss=0.158]\n",
      "\u001b[Aining Batches:  23%|██▎       | 7/31 [00:05<00:19,  1.26it/s, train_loss=0.158]\n",
      "\u001b[Aining Batches:  23%|██▎       | 7/31 [00:06<00:19,  1.26it/s, train_loss=0.172]\n",
      "\u001b[Aining Batches:  26%|██▌       | 8/31 [00:06<00:18,  1.26it/s, train_loss=0.172]\n",
      "\u001b[Aining Batches:  26%|██▌       | 8/31 [00:07<00:18,  1.26it/s, train_loss=0.27] \n",
      "\u001b[Aining Batches:  29%|██▉       | 9/31 [00:07<00:17,  1.25it/s, train_loss=0.27]\n",
      "\u001b[Aining Batches:  29%|██▉       | 9/31 [00:07<00:17,  1.25it/s, train_loss=0.158]\n",
      "\u001b[Aining Batches:  32%|███▏      | 10/31 [00:07<00:17,  1.23it/s, train_loss=0.158]\n",
      "\u001b[Aining Batches:  32%|███▏      | 10/31 [00:08<00:17,  1.23it/s, train_loss=0.166]\n",
      "\u001b[Aining Batches:  35%|███▌      | 11/31 [00:08<00:16,  1.24it/s, train_loss=0.166]\n",
      "\u001b[Aining Batches:  35%|███▌      | 11/31 [00:09<00:16,  1.24it/s, train_loss=0.086]\n",
      "\u001b[Aining Batches:  39%|███▊      | 12/31 [00:09<00:15,  1.25it/s, train_loss=0.086]\n",
      "\u001b[Aining Batches:  39%|███▊      | 12/31 [00:10<00:15,  1.25it/s, train_loss=0.214]\n",
      "\u001b[Aining Batches:  42%|████▏     | 13/31 [00:10<00:14,  1.26it/s, train_loss=0.214]\n",
      "\u001b[Aining Batches:  42%|████▏     | 13/31 [00:11<00:14,  1.26it/s, train_loss=0.182]\n",
      "\u001b[Aining Batches:  45%|████▌     | 14/31 [00:11<00:13,  1.25it/s, train_loss=0.182]\n",
      "\u001b[Aining Batches:  45%|████▌     | 14/31 [00:12<00:13,  1.25it/s, train_loss=0.244]\n",
      "\u001b[Aining Batches:  48%|████▊     | 15/31 [00:12<00:13,  1.22it/s, train_loss=0.244]\n",
      "\u001b[Aining Batches:  48%|████▊     | 15/31 [00:12<00:13,  1.22it/s, train_loss=0.11] \n",
      "\u001b[Aining Batches:  52%|█████▏    | 16/31 [00:12<00:12,  1.24it/s, train_loss=0.11]\n",
      "\u001b[Aining Batches:  52%|█████▏    | 16/31 [00:13<00:12,  1.24it/s, train_loss=0.139]\n",
      "\u001b[Aining Batches:  55%|█████▍    | 17/31 [00:13<00:11,  1.25it/s, train_loss=0.139]\n",
      "\u001b[Aining Batches:  55%|█████▍    | 17/31 [00:14<00:11,  1.25it/s, train_loss=0.333]\n",
      "\u001b[Aining Batches:  58%|█████▊    | 18/31 [00:14<00:10,  1.27it/s, train_loss=0.333]\n",
      "\u001b[Aining Batches:  58%|█████▊    | 18/31 [00:15<00:10,  1.27it/s, train_loss=0.296]\n",
      "\u001b[Aining Batches:  61%|██████▏   | 19/31 [00:15<00:09,  1.27it/s, train_loss=0.296]\n",
      "\u001b[Aining Batches:  61%|██████▏   | 19/31 [00:15<00:09,  1.27it/s, train_loss=0.246]\n",
      "\u001b[Aining Batches:  65%|██████▍   | 20/31 [00:15<00:08,  1.28it/s, train_loss=0.246]\n",
      "\u001b[Aining Batches:  65%|██████▍   | 20/31 [00:16<00:08,  1.28it/s, train_loss=0.118]\n",
      "\u001b[Aining Batches:  68%|██████▊   | 21/31 [00:16<00:07,  1.27it/s, train_loss=0.118]\n",
      "\u001b[Aining Batches:  68%|██████▊   | 21/31 [00:17<00:07,  1.27it/s, train_loss=0.22] \n",
      "\u001b[Aining Batches:  71%|███████   | 22/31 [00:17<00:07,  1.27it/s, train_loss=0.22]\n",
      "\u001b[Aining Batches:  71%|███████   | 22/31 [00:18<00:07,  1.27it/s, train_loss=0.23]\n",
      "\u001b[Aining Batches:  74%|███████▍  | 23/31 [00:18<00:06,  1.26it/s, train_loss=0.23]\n",
      "\u001b[Aining Batches:  74%|███████▍  | 23/31 [00:19<00:06,  1.26it/s, train_loss=0.234]\n",
      "\u001b[Aining Batches:  77%|███████▋  | 24/31 [00:19<00:05,  1.24it/s, train_loss=0.234]\n",
      "\u001b[Aining Batches:  77%|███████▋  | 24/31 [00:19<00:05,  1.24it/s, train_loss=0.307]\n",
      "\u001b[Aining Batches:  81%|████████  | 25/31 [00:19<00:04,  1.23it/s, train_loss=0.307]\n",
      "\u001b[Aining Batches:  81%|████████  | 25/31 [00:20<00:04,  1.23it/s, train_loss=0.264]\n",
      "\u001b[Aining Batches:  84%|████████▍ | 26/31 [00:20<00:04,  1.25it/s, train_loss=0.264]\n",
      "\u001b[Aining Batches:  84%|████████▍ | 26/31 [00:21<00:04,  1.25it/s, train_loss=0.273]\n",
      "\u001b[Aining Batches:  87%|████████▋ | 27/31 [00:21<00:03,  1.27it/s, train_loss=0.273]\n",
      "\u001b[Aining Batches:  87%|████████▋ | 27/31 [00:22<00:03,  1.27it/s, train_loss=0.197]\n",
      "\u001b[Aining Batches:  90%|█████████ | 28/31 [00:22<00:02,  1.25it/s, train_loss=0.197]\n",
      "\u001b[Aining Batches:  90%|█████████ | 28/31 [00:23<00:02,  1.25it/s, train_loss=0.217]\n",
      "\u001b[Aining Batches:  94%|█████████▎| 29/31 [00:23<00:01,  1.25it/s, train_loss=0.217]\n",
      "\u001b[Aining Batches:  94%|█████████▎| 29/31 [00:23<00:01,  1.25it/s, train_loss=0.343]\n",
      "\u001b[Aining Batches:  97%|█████████▋| 30/31 [00:23<00:00,  1.24it/s, train_loss=0.343]\n",
      "\u001b[Aining Batches:  97%|█████████▋| 30/31 [00:24<00:00,  1.24it/s, train_loss=0.434]\n",
      "\u001b[Aining Batches: 100%|██████████| 31/31 [00:24<00:00,  1.55it/s, train_loss=0.434]\n",
      "\u001b[A                                                                                "
     ]
    },
    {
     "name": "stdout",
     "output_type": "stream",
     "text": [
      "epoch 55 average loss: 0.2132\n"
     ]
    },
    {
     "name": "stderr",
     "output_type": "stream",
     "text": [
      "Epochs:  79%|███████▊  | 55/70 [22:51<06:14, 24.99s/it]"
     ]
    },
    {
     "name": "stdout",
     "output_type": "stream",
     "text": [
      "1\n",
      "current epoch: 55 current AUC: 0.9929 current accuracy: 0.8882 best AUC: 0.9959 at epoch: 53\n",
      "----------\n",
      "epoch 56/70\n"
     ]
    },
    {
     "name": "stderr",
     "output_type": "stream",
     "text": [
      "\n",
      "\u001b[Aining Batches:   0%|          | 0/31 [00:00<?, ?it/s]\n",
      "\u001b[Aining Batches:   0%|          | 0/31 [00:00<?, ?it/s, train_loss=0.165]\n",
      "\u001b[Aining Batches:   3%|▎         | 1/31 [00:00<00:23,  1.26it/s, train_loss=0.165]\n",
      "\u001b[Aining Batches:   3%|▎         | 1/31 [00:01<00:23,  1.26it/s, train_loss=0.193]\n",
      "\u001b[Aining Batches:   6%|▋         | 2/31 [00:01<00:23,  1.21it/s, train_loss=0.193]\n",
      "\u001b[Aining Batches:   6%|▋         | 2/31 [00:02<00:23,  1.21it/s, train_loss=0.129]\n",
      "\u001b[Aining Batches:  10%|▉         | 3/31 [00:02<00:22,  1.23it/s, train_loss=0.129]\n",
      "\u001b[Aining Batches:  10%|▉         | 3/31 [00:03<00:22,  1.23it/s, train_loss=0.367]\n",
      "\u001b[Aining Batches:  13%|█▎        | 4/31 [00:03<00:21,  1.26it/s, train_loss=0.367]\n",
      "\u001b[Aining Batches:  13%|█▎        | 4/31 [00:04<00:21,  1.26it/s, train_loss=0.136]\n",
      "\u001b[Aining Batches:  16%|█▌        | 5/31 [00:04<00:20,  1.25it/s, train_loss=0.136]\n",
      "\u001b[Aining Batches:  16%|█▌        | 5/31 [00:04<00:20,  1.25it/s, train_loss=0.304]\n",
      "\u001b[Aining Batches:  19%|█▉        | 6/31 [00:04<00:19,  1.26it/s, train_loss=0.304]\n",
      "\u001b[Aining Batches:  19%|█▉        | 6/31 [00:05<00:19,  1.26it/s, train_loss=0.234]\n",
      "\u001b[Aining Batches:  23%|██▎       | 7/31 [00:05<00:18,  1.28it/s, train_loss=0.234]\n",
      "\u001b[Aining Batches:  23%|██▎       | 7/31 [00:06<00:18,  1.28it/s, train_loss=0.298]\n",
      "\u001b[Aining Batches:  26%|██▌       | 8/31 [00:06<00:18,  1.24it/s, train_loss=0.298]\n",
      "\u001b[Aining Batches:  26%|██▌       | 8/31 [00:07<00:18,  1.24it/s, train_loss=0.271]\n",
      "\u001b[Aining Batches:  29%|██▉       | 9/31 [00:07<00:17,  1.23it/s, train_loss=0.271]\n",
      "\u001b[Aining Batches:  29%|██▉       | 9/31 [00:07<00:17,  1.23it/s, train_loss=0.291]\n",
      "\u001b[Aining Batches:  32%|███▏      | 10/31 [00:07<00:16,  1.27it/s, train_loss=0.291]\n",
      "\u001b[Aining Batches:  32%|███▏      | 10/31 [00:08<00:16,  1.27it/s, train_loss=0.146]\n",
      "\u001b[Aining Batches:  35%|███▌      | 11/31 [00:08<00:15,  1.27it/s, train_loss=0.146]\n",
      "\u001b[Aining Batches:  35%|███▌      | 11/31 [00:09<00:15,  1.27it/s, train_loss=0.211]\n",
      "\u001b[Aining Batches:  39%|███▊      | 12/31 [00:09<00:14,  1.28it/s, train_loss=0.211]\n",
      "\u001b[Aining Batches:  39%|███▊      | 12/31 [00:10<00:14,  1.28it/s, train_loss=0.26] \n",
      "\u001b[Aining Batches:  42%|████▏     | 13/31 [00:10<00:14,  1.27it/s, train_loss=0.26]\n",
      "\u001b[Aining Batches:  42%|████▏     | 13/31 [00:11<00:14,  1.27it/s, train_loss=0.304]\n",
      "\u001b[Aining Batches:  45%|████▌     | 14/31 [00:11<00:13,  1.25it/s, train_loss=0.304]\n",
      "\u001b[Aining Batches:  45%|████▌     | 14/31 [00:11<00:13,  1.25it/s, train_loss=0.151]\n",
      "\u001b[Aining Batches:  48%|████▊     | 15/31 [00:11<00:12,  1.25it/s, train_loss=0.151]\n",
      "\u001b[Aining Batches:  48%|████▊     | 15/31 [00:12<00:12,  1.25it/s, train_loss=0.409]\n",
      "\u001b[Aining Batches:  52%|█████▏    | 16/31 [00:12<00:12,  1.24it/s, train_loss=0.409]\n",
      "\u001b[Aining Batches:  52%|█████▏    | 16/31 [00:13<00:12,  1.24it/s, train_loss=0.194]\n",
      "\u001b[Aining Batches:  55%|█████▍    | 17/31 [00:13<00:11,  1.24it/s, train_loss=0.194]\n",
      "\u001b[Aining Batches:  55%|█████▍    | 17/31 [00:14<00:11,  1.24it/s, train_loss=0.165]\n",
      "\u001b[Aining Batches:  58%|█████▊    | 18/31 [00:14<00:10,  1.25it/s, train_loss=0.165]\n",
      "\u001b[Aining Batches:  58%|█████▊    | 18/31 [00:15<00:10,  1.25it/s, train_loss=0.106]\n",
      "\u001b[Aining Batches:  61%|██████▏   | 19/31 [00:15<00:09,  1.24it/s, train_loss=0.106]\n",
      "\u001b[Aining Batches:  61%|██████▏   | 19/31 [00:15<00:09,  1.24it/s, train_loss=0.132]\n",
      "\u001b[Aining Batches:  65%|██████▍   | 20/31 [00:15<00:08,  1.26it/s, train_loss=0.132]\n",
      "\u001b[Aining Batches:  65%|██████▍   | 20/31 [00:16<00:08,  1.26it/s, train_loss=0.279]\n",
      "\u001b[Aining Batches:  68%|██████▊   | 21/31 [00:16<00:08,  1.24it/s, train_loss=0.279]\n",
      "\u001b[Aining Batches:  68%|██████▊   | 21/31 [00:17<00:08,  1.24it/s, train_loss=0.166]\n",
      "\u001b[Aining Batches:  71%|███████   | 22/31 [00:17<00:07,  1.24it/s, train_loss=0.166]\n",
      "\u001b[Aining Batches:  71%|███████   | 22/31 [00:18<00:07,  1.24it/s, train_loss=0.158]\n",
      "\u001b[Aining Batches:  74%|███████▍  | 23/31 [00:18<00:06,  1.24it/s, train_loss=0.158]\n",
      "\u001b[Aining Batches:  74%|███████▍  | 23/31 [00:19<00:06,  1.24it/s, train_loss=0.227]\n",
      "\u001b[Aining Batches:  77%|███████▋  | 24/31 [00:19<00:05,  1.24it/s, train_loss=0.227]\n",
      "\u001b[Aining Batches:  77%|███████▋  | 24/31 [00:19<00:05,  1.24it/s, train_loss=0.315]\n",
      "\u001b[Aining Batches:  81%|████████  | 25/31 [00:19<00:04,  1.26it/s, train_loss=0.315]\n",
      "\u001b[Aining Batches:  81%|████████  | 25/31 [00:20<00:04,  1.26it/s, train_loss=0.306]\n",
      "\u001b[Aining Batches:  84%|████████▍ | 26/31 [00:20<00:03,  1.27it/s, train_loss=0.306]\n",
      "\u001b[Aining Batches:  84%|████████▍ | 26/31 [00:21<00:03,  1.27it/s, train_loss=0.19] \n",
      "\u001b[Aining Batches:  87%|████████▋ | 27/31 [00:21<00:03,  1.27it/s, train_loss=0.19]\n",
      "\u001b[Aining Batches:  87%|████████▋ | 27/31 [00:22<00:03,  1.27it/s, train_loss=0.176]\n",
      "\u001b[Aining Batches:  90%|█████████ | 28/31 [00:22<00:02,  1.28it/s, train_loss=0.176]\n",
      "\u001b[Aining Batches:  90%|█████████ | 28/31 [00:23<00:02,  1.28it/s, train_loss=0.21] \n",
      "\u001b[Aining Batches:  94%|█████████▎| 29/31 [00:23<00:01,  1.29it/s, train_loss=0.21]\n",
      "\u001b[Aining Batches:  94%|█████████▎| 29/31 [00:23<00:01,  1.29it/s, train_loss=0.2] \n",
      "\u001b[Aining Batches:  97%|█████████▋| 30/31 [00:23<00:00,  1.27it/s, train_loss=0.2]\n",
      "\u001b[Aining Batches:  97%|█████████▋| 30/31 [00:24<00:00,  1.27it/s, train_loss=0.131]\n",
      "\u001b[Aining Batches: 100%|██████████| 31/31 [00:24<00:00,  1.56it/s, train_loss=0.131]\n",
      "\u001b[A                                                                                "
     ]
    },
    {
     "name": "stdout",
     "output_type": "stream",
     "text": [
      "epoch 56 average loss: 0.2202\n"
     ]
    },
    {
     "name": "stderr",
     "output_type": "stream",
     "text": [
      "Epochs:  80%|████████  | 56/70 [23:16<05:49, 24.93s/it]"
     ]
    },
    {
     "name": "stdout",
     "output_type": "stream",
     "text": [
      "1\n",
      "current epoch: 56 current AUC: 0.9911 current accuracy: 0.8758 best AUC: 0.9959 at epoch: 53\n",
      "----------\n",
      "epoch 57/70\n"
     ]
    },
    {
     "name": "stderr",
     "output_type": "stream",
     "text": [
      "\n",
      "\u001b[Aining Batches:   0%|          | 0/31 [00:00<?, ?it/s]\n",
      "\u001b[Aining Batches:   0%|          | 0/31 [00:00<?, ?it/s, train_loss=0.128]\n",
      "\u001b[Aining Batches:   3%|▎         | 1/31 [00:00<00:23,  1.27it/s, train_loss=0.128]\n",
      "\u001b[Aining Batches:   3%|▎         | 1/31 [00:01<00:23,  1.27it/s, train_loss=0.235]\n",
      "\u001b[Aining Batches:   6%|▋         | 2/31 [00:01<00:23,  1.26it/s, train_loss=0.235]\n",
      "\u001b[Aining Batches:   6%|▋         | 2/31 [00:02<00:23,  1.26it/s, train_loss=0.103]\n",
      "\u001b[Aining Batches:  10%|▉         | 3/31 [00:02<00:21,  1.29it/s, train_loss=0.103]\n",
      "\u001b[Aining Batches:  10%|▉         | 3/31 [00:03<00:21,  1.29it/s, train_loss=0.21] \n",
      "\u001b[Aining Batches:  13%|█▎        | 4/31 [00:03<00:20,  1.29it/s, train_loss=0.21]\n",
      "\u001b[Aining Batches:  13%|█▎        | 4/31 [00:03<00:20,  1.29it/s, train_loss=0.118]\n",
      "\u001b[Aining Batches:  16%|█▌        | 5/31 [00:03<00:20,  1.28it/s, train_loss=0.118]\n",
      "\u001b[Aining Batches:  16%|█▌        | 5/31 [00:04<00:20,  1.28it/s, train_loss=0.225]\n",
      "\u001b[Aining Batches:  19%|█▉        | 6/31 [00:04<00:19,  1.26it/s, train_loss=0.225]\n",
      "\u001b[Aining Batches:  19%|█▉        | 6/31 [00:05<00:19,  1.26it/s, train_loss=0.136]\n",
      "\u001b[Aining Batches:  23%|██▎       | 7/31 [00:05<00:18,  1.27it/s, train_loss=0.136]\n",
      "\u001b[Aining Batches:  23%|██▎       | 7/31 [00:06<00:18,  1.27it/s, train_loss=0.194]\n",
      "\u001b[Aining Batches:  26%|██▌       | 8/31 [00:06<00:18,  1.26it/s, train_loss=0.194]\n",
      "\u001b[Aining Batches:  26%|██▌       | 8/31 [00:07<00:18,  1.26it/s, train_loss=0.166]\n",
      "\u001b[Aining Batches:  29%|██▉       | 9/31 [00:07<00:17,  1.28it/s, train_loss=0.166]\n",
      "\u001b[Aining Batches:  29%|██▉       | 9/31 [00:07<00:17,  1.28it/s, train_loss=0.0616]\n",
      "\u001b[Aining Batches:  32%|███▏      | 10/31 [00:07<00:16,  1.27it/s, train_loss=0.0616]\n",
      "\u001b[Aining Batches:  32%|███▏      | 10/31 [00:08<00:16,  1.27it/s, train_loss=0.181] \n",
      "\u001b[Aining Batches:  35%|███▌      | 11/31 [00:08<00:15,  1.26it/s, train_loss=0.181]\n",
      "\u001b[Aining Batches:  35%|███▌      | 11/31 [00:09<00:15,  1.26it/s, train_loss=0.161]\n",
      "\u001b[Aining Batches:  39%|███▊      | 12/31 [00:09<00:14,  1.28it/s, train_loss=0.161]\n",
      "\u001b[Aining Batches:  39%|███▊      | 12/31 [00:10<00:14,  1.28it/s, train_loss=0.238]\n",
      "\u001b[Aining Batches:  42%|████▏     | 13/31 [00:10<00:14,  1.26it/s, train_loss=0.238]\n",
      "\u001b[Aining Batches:  42%|████▏     | 13/31 [00:11<00:14,  1.26it/s, train_loss=0.174]\n",
      "\u001b[Aining Batches:  45%|████▌     | 14/31 [00:11<00:13,  1.24it/s, train_loss=0.174]\n",
      "\u001b[Aining Batches:  45%|████▌     | 14/31 [00:11<00:13,  1.24it/s, train_loss=0.107]\n",
      "\u001b[Aining Batches:  48%|████▊     | 15/31 [00:11<00:13,  1.22it/s, train_loss=0.107]\n",
      "\u001b[Aining Batches:  48%|████▊     | 15/31 [00:12<00:13,  1.22it/s, train_loss=0.406]\n",
      "\u001b[Aining Batches:  52%|█████▏    | 16/31 [00:12<00:12,  1.23it/s, train_loss=0.406]\n",
      "\u001b[Aining Batches:  52%|█████▏    | 16/31 [00:13<00:12,  1.23it/s, train_loss=0.198]\n",
      "\u001b[Aining Batches:  55%|█████▍    | 17/31 [00:13<00:11,  1.25it/s, train_loss=0.198]\n",
      "\u001b[Aining Batches:  55%|█████▍    | 17/31 [00:14<00:11,  1.25it/s, train_loss=0.274]\n",
      "\u001b[Aining Batches:  58%|█████▊    | 18/31 [00:14<00:10,  1.27it/s, train_loss=0.274]\n",
      "\u001b[Aining Batches:  58%|█████▊    | 18/31 [00:15<00:10,  1.27it/s, train_loss=0.215]\n",
      "\u001b[Aining Batches:  61%|██████▏   | 19/31 [00:15<00:09,  1.27it/s, train_loss=0.215]\n",
      "\u001b[Aining Batches:  61%|██████▏   | 19/31 [00:15<00:09,  1.27it/s, train_loss=0.135]\n",
      "\u001b[Aining Batches:  65%|██████▍   | 20/31 [00:15<00:08,  1.29it/s, train_loss=0.135]\n",
      "\u001b[Aining Batches:  65%|██████▍   | 20/31 [00:16<00:08,  1.29it/s, train_loss=0.18] \n",
      "\u001b[Aining Batches:  68%|██████▊   | 21/31 [00:16<00:07,  1.27it/s, train_loss=0.18]\n",
      "\u001b[Aining Batches:  68%|██████▊   | 21/31 [00:17<00:07,  1.27it/s, train_loss=0.159]\n",
      "\u001b[Aining Batches:  71%|███████   | 22/31 [00:17<00:07,  1.28it/s, train_loss=0.159]\n",
      "\u001b[Aining Batches:  71%|███████   | 22/31 [00:18<00:07,  1.28it/s, train_loss=0.245]\n",
      "\u001b[Aining Batches:  74%|███████▍  | 23/31 [00:18<00:06,  1.30it/s, train_loss=0.245]\n",
      "\u001b[Aining Batches:  74%|███████▍  | 23/31 [00:18<00:06,  1.30it/s, train_loss=0.11] \n",
      "\u001b[Aining Batches:  77%|███████▋  | 24/31 [00:18<00:05,  1.28it/s, train_loss=0.11]\n",
      "\u001b[Aining Batches:  77%|███████▋  | 24/31 [00:19<00:05,  1.28it/s, train_loss=0.137]\n",
      "\u001b[Aining Batches:  81%|████████  | 25/31 [00:19<00:04,  1.29it/s, train_loss=0.137]\n",
      "\u001b[Aining Batches:  81%|████████  | 25/31 [00:20<00:04,  1.29it/s, train_loss=0.161]\n",
      "\u001b[Aining Batches:  84%|████████▍ | 26/31 [00:20<00:03,  1.29it/s, train_loss=0.161]\n",
      "\u001b[Aining Batches:  84%|████████▍ | 26/31 [00:21<00:03,  1.29it/s, train_loss=0.143]\n",
      "\u001b[Aining Batches:  87%|████████▋ | 27/31 [00:21<00:03,  1.25it/s, train_loss=0.143]\n",
      "\u001b[Aining Batches:  87%|████████▋ | 27/31 [00:22<00:03,  1.25it/s, train_loss=0.217]\n",
      "\u001b[Aining Batches:  90%|█████████ | 28/31 [00:22<00:02,  1.26it/s, train_loss=0.217]\n",
      "\u001b[Aining Batches:  90%|█████████ | 28/31 [00:22<00:02,  1.26it/s, train_loss=0.246]\n",
      "\u001b[Aining Batches:  94%|█████████▎| 29/31 [00:22<00:01,  1.29it/s, train_loss=0.246]\n",
      "\u001b[Aining Batches:  94%|█████████▎| 29/31 [00:23<00:01,  1.29it/s, train_loss=0.0831]\n",
      "\u001b[Aining Batches:  97%|█████████▋| 30/31 [00:23<00:00,  1.30it/s, train_loss=0.0831]\n",
      "\u001b[Aining Batches:  97%|█████████▋| 30/31 [00:23<00:00,  1.30it/s, train_loss=0.14]  \n",
      "\u001b[Aining Batches: 100%|██████████| 31/31 [00:23<00:00,  1.60it/s, train_loss=0.14]\n",
      "\u001b[A                                                                               "
     ]
    },
    {
     "name": "stdout",
     "output_type": "stream",
     "text": [
      "epoch 57 average loss: 0.1770\n"
     ]
    },
    {
     "name": "stderr",
     "output_type": "stream",
     "text": [
      "Epochs:  81%|████████▏ | 57/70 [23:41<05:22, 24.79s/it]"
     ]
    },
    {
     "name": "stdout",
     "output_type": "stream",
     "text": [
      "1\n",
      "current epoch: 57 current AUC: 0.9902 current accuracy: 0.9068 best AUC: 0.9959 at epoch: 53\n",
      "----------\n",
      "epoch 58/70\n"
     ]
    },
    {
     "name": "stderr",
     "output_type": "stream",
     "text": [
      "\n",
      "\u001b[Aining Batches:   0%|          | 0/31 [00:00<?, ?it/s]\n",
      "\u001b[Aining Batches:   0%|          | 0/31 [00:00<?, ?it/s, train_loss=0.192]\n",
      "\u001b[Aining Batches:   3%|▎         | 1/31 [00:00<00:24,  1.25it/s, train_loss=0.192]\n",
      "\u001b[Aining Batches:   3%|▎         | 1/31 [00:01<00:24,  1.25it/s, train_loss=0.247]\n",
      "\u001b[Aining Batches:   6%|▋         | 2/31 [00:01<00:23,  1.26it/s, train_loss=0.247]\n",
      "\u001b[Aining Batches:   6%|▋         | 2/31 [00:02<00:23,  1.26it/s, train_loss=0.177]\n",
      "\u001b[Aining Batches:  10%|▉         | 3/31 [00:02<00:21,  1.28it/s, train_loss=0.177]\n",
      "\u001b[Aining Batches:  10%|▉         | 3/31 [00:03<00:21,  1.28it/s, train_loss=0.222]\n",
      "\u001b[Aining Batches:  13%|█▎        | 4/31 [00:03<00:21,  1.24it/s, train_loss=0.222]\n",
      "\u001b[Aining Batches:  13%|█▎        | 4/31 [00:03<00:21,  1.24it/s, train_loss=0.19] \n",
      "\u001b[Aining Batches:  16%|█▌        | 5/31 [00:03<00:20,  1.26it/s, train_loss=0.19]\n",
      "\u001b[Aining Batches:  16%|█▌        | 5/31 [00:04<00:20,  1.26it/s, train_loss=0.253]\n",
      "\u001b[Aining Batches:  19%|█▉        | 6/31 [00:04<00:20,  1.24it/s, train_loss=0.253]\n",
      "\u001b[Aining Batches:  19%|█▉        | 6/31 [00:05<00:20,  1.24it/s, train_loss=0.159]\n",
      "\u001b[Aining Batches:  23%|██▎       | 7/31 [00:05<00:19,  1.24it/s, train_loss=0.159]\n",
      "\u001b[Aining Batches:  23%|██▎       | 7/31 [00:06<00:19,  1.24it/s, train_loss=0.112]\n",
      "\u001b[Aining Batches:  26%|██▌       | 8/31 [00:06<00:18,  1.26it/s, train_loss=0.112]\n",
      "\u001b[Aining Batches:  26%|██▌       | 8/31 [00:07<00:18,  1.26it/s, train_loss=0.275]\n",
      "\u001b[Aining Batches:  29%|██▉       | 9/31 [00:07<00:17,  1.28it/s, train_loss=0.275]\n",
      "\u001b[Aining Batches:  29%|██▉       | 9/31 [00:07<00:17,  1.28it/s, train_loss=0.113]\n",
      "\u001b[Aining Batches:  32%|███▏      | 10/31 [00:07<00:16,  1.26it/s, train_loss=0.113]\n",
      "\u001b[Aining Batches:  32%|███▏      | 10/31 [00:08<00:16,  1.26it/s, train_loss=0.157]\n",
      "\u001b[Aining Batches:  35%|███▌      | 11/31 [00:08<00:16,  1.24it/s, train_loss=0.157]\n",
      "\u001b[Aining Batches:  35%|███▌      | 11/31 [00:09<00:16,  1.24it/s, train_loss=0.216]\n",
      "\u001b[Aining Batches:  39%|███▊      | 12/31 [00:09<00:15,  1.25it/s, train_loss=0.216]\n",
      "\u001b[Aining Batches:  39%|███▊      | 12/31 [00:10<00:15,  1.25it/s, train_loss=0.124]\n",
      "\u001b[Aining Batches:  42%|████▏     | 13/31 [00:10<00:14,  1.23it/s, train_loss=0.124]\n",
      "\u001b[Aining Batches:  42%|████▏     | 13/31 [00:11<00:14,  1.23it/s, train_loss=0.148]\n",
      "\u001b[Aining Batches:  45%|████▌     | 14/31 [00:11<00:13,  1.25it/s, train_loss=0.148]\n",
      "\u001b[Aining Batches:  45%|████▌     | 14/31 [00:11<00:13,  1.25it/s, train_loss=0.281]\n",
      "\u001b[Aining Batches:  48%|████▊     | 15/31 [00:11<00:12,  1.30it/s, train_loss=0.281]\n",
      "\u001b[Aining Batches:  48%|████▊     | 15/31 [00:12<00:12,  1.30it/s, train_loss=0.142]\n",
      "\u001b[Aining Batches:  52%|█████▏    | 16/31 [00:12<00:11,  1.30it/s, train_loss=0.142]\n",
      "\u001b[Aining Batches:  52%|█████▏    | 16/31 [00:13<00:11,  1.30it/s, train_loss=0.153]\n",
      "\u001b[Aining Batches:  55%|█████▍    | 17/31 [00:13<00:10,  1.30it/s, train_loss=0.153]\n",
      "\u001b[Aining Batches:  55%|█████▍    | 17/31 [00:14<00:10,  1.30it/s, train_loss=0.153]\n",
      "\u001b[Aining Batches:  58%|█████▊    | 18/31 [00:14<00:10,  1.29it/s, train_loss=0.153]\n",
      "\u001b[Aining Batches:  58%|█████▊    | 18/31 [00:15<00:10,  1.29it/s, train_loss=0.173]\n",
      "\u001b[Aining Batches:  61%|██████▏   | 19/31 [00:15<00:09,  1.28it/s, train_loss=0.173]\n",
      "\u001b[Aining Batches:  61%|██████▏   | 19/31 [00:15<00:09,  1.28it/s, train_loss=0.206]\n",
      "\u001b[Aining Batches:  65%|██████▍   | 20/31 [00:15<00:08,  1.25it/s, train_loss=0.206]\n",
      "\u001b[Aining Batches:  65%|██████▍   | 20/31 [00:16<00:08,  1.25it/s, train_loss=0.153]\n",
      "\u001b[Aining Batches:  68%|██████▊   | 21/31 [00:16<00:08,  1.24it/s, train_loss=0.153]\n",
      "\u001b[Aining Batches:  68%|██████▊   | 21/31 [00:17<00:08,  1.24it/s, train_loss=0.145]\n",
      "\u001b[Aining Batches:  71%|███████   | 22/31 [00:17<00:07,  1.23it/s, train_loss=0.145]\n",
      "\u001b[Aining Batches:  71%|███████   | 22/31 [00:18<00:07,  1.23it/s, train_loss=0.273]\n",
      "\u001b[Aining Batches:  74%|███████▍  | 23/31 [00:18<00:06,  1.25it/s, train_loss=0.273]\n",
      "\u001b[Aining Batches:  74%|███████▍  | 23/31 [00:19<00:06,  1.25it/s, train_loss=0.155]\n",
      "\u001b[Aining Batches:  77%|███████▋  | 24/31 [00:19<00:05,  1.23it/s, train_loss=0.155]\n",
      "\u001b[Aining Batches:  77%|███████▋  | 24/31 [00:19<00:05,  1.23it/s, train_loss=0.183]\n",
      "\u001b[Aining Batches:  81%|████████  | 25/31 [00:19<00:04,  1.26it/s, train_loss=0.183]\n",
      "\u001b[Aining Batches:  81%|████████  | 25/31 [00:20<00:04,  1.26it/s, train_loss=0.164]\n",
      "\u001b[Aining Batches:  84%|████████▍ | 26/31 [00:20<00:03,  1.25it/s, train_loss=0.164]\n",
      "\u001b[Aining Batches:  84%|████████▍ | 26/31 [00:21<00:03,  1.25it/s, train_loss=0.0653]\n",
      "\u001b[Aining Batches:  87%|████████▋ | 27/31 [00:21<00:03,  1.27it/s, train_loss=0.0653]\n",
      "\u001b[Aining Batches:  87%|████████▋ | 27/31 [00:22<00:03,  1.27it/s, train_loss=0.174] \n",
      "\u001b[Aining Batches:  90%|█████████ | 28/31 [00:22<00:02,  1.29it/s, train_loss=0.174]\n",
      "\u001b[Aining Batches:  90%|█████████ | 28/31 [00:22<00:02,  1.29it/s, train_loss=0.148]\n",
      "\u001b[Aining Batches:  94%|█████████▎| 29/31 [00:22<00:01,  1.29it/s, train_loss=0.148]\n",
      "\u001b[Aining Batches:  94%|█████████▎| 29/31 [00:23<00:01,  1.29it/s, train_loss=0.0998]\n",
      "\u001b[Aining Batches:  97%|█████████▋| 30/31 [00:23<00:00,  1.30it/s, train_loss=0.0998]\n",
      "\u001b[Aining Batches:  97%|█████████▋| 30/31 [00:24<00:00,  1.30it/s, train_loss=0.274] \n",
      "\u001b[Aining Batches: 100%|██████████| 31/31 [00:24<00:00,  1.60it/s, train_loss=0.274]\n",
      "\u001b[A                                                                                "
     ]
    },
    {
     "name": "stdout",
     "output_type": "stream",
     "text": [
      "epoch 58 average loss: 0.1783\n"
     ]
    },
    {
     "name": "stderr",
     "output_type": "stream",
     "text": [
      "Epochs:  83%|████████▎ | 58/70 [24:05<04:56, 24.74s/it]"
     ]
    },
    {
     "name": "stdout",
     "output_type": "stream",
     "text": [
      "1\n",
      "current epoch: 58 current AUC: 0.9906 current accuracy: 0.8634 best AUC: 0.9959 at epoch: 53\n",
      "----------\n",
      "epoch 59/70\n"
     ]
    },
    {
     "name": "stderr",
     "output_type": "stream",
     "text": [
      "\n",
      "\u001b[Aining Batches:   0%|          | 0/31 [00:00<?, ?it/s]\n",
      "\u001b[Aining Batches:   0%|          | 0/31 [00:00<?, ?it/s, train_loss=0.139]\n",
      "\u001b[Aining Batches:   3%|▎         | 1/31 [00:00<00:22,  1.31it/s, train_loss=0.139]\n",
      "\u001b[Aining Batches:   3%|▎         | 1/31 [00:01<00:22,  1.31it/s, train_loss=0.297]\n",
      "\u001b[Aining Batches:   6%|▋         | 2/31 [00:01<00:21,  1.33it/s, train_loss=0.297]\n",
      "\u001b[Aining Batches:   6%|▋         | 2/31 [00:02<00:21,  1.33it/s, train_loss=0.167]\n",
      "\u001b[Aining Batches:  10%|▉         | 3/31 [00:02<00:21,  1.30it/s, train_loss=0.167]\n",
      "\u001b[Aining Batches:  10%|▉         | 3/31 [00:03<00:21,  1.30it/s, train_loss=0.106]\n",
      "\u001b[Aining Batches:  13%|█▎        | 4/31 [00:03<00:20,  1.29it/s, train_loss=0.106]\n",
      "\u001b[Aining Batches:  13%|█▎        | 4/31 [00:03<00:20,  1.29it/s, train_loss=0.134]\n",
      "\u001b[Aining Batches:  16%|█▌        | 5/31 [00:03<00:20,  1.28it/s, train_loss=0.134]\n",
      "\u001b[Aining Batches:  16%|█▌        | 5/31 [00:04<00:20,  1.28it/s, train_loss=0.202]\n",
      "\u001b[Aining Batches:  19%|█▉        | 6/31 [00:04<00:19,  1.29it/s, train_loss=0.202]\n",
      "\u001b[Aining Batches:  19%|█▉        | 6/31 [00:05<00:19,  1.29it/s, train_loss=0.213]\n",
      "\u001b[Aining Batches:  23%|██▎       | 7/31 [00:05<00:19,  1.25it/s, train_loss=0.213]\n",
      "\u001b[Aining Batches:  23%|██▎       | 7/31 [00:06<00:19,  1.25it/s, train_loss=0.316]\n",
      "\u001b[Aining Batches:  26%|██▌       | 8/31 [00:06<00:18,  1.26it/s, train_loss=0.316]\n",
      "\u001b[Aining Batches:  26%|██▌       | 8/31 [00:07<00:18,  1.26it/s, train_loss=0.114]\n",
      "\u001b[Aining Batches:  29%|██▉       | 9/31 [00:07<00:17,  1.25it/s, train_loss=0.114]\n",
      "\u001b[Aining Batches:  29%|██▉       | 9/31 [00:07<00:17,  1.25it/s, train_loss=0.111]\n",
      "\u001b[Aining Batches:  32%|███▏      | 10/31 [00:07<00:17,  1.23it/s, train_loss=0.111]\n",
      "\u001b[Aining Batches:  32%|███▏      | 10/31 [00:08<00:17,  1.23it/s, train_loss=0.17] \n",
      "\u001b[Aining Batches:  35%|███▌      | 11/31 [00:08<00:16,  1.23it/s, train_loss=0.17]\n",
      "\u001b[Aining Batches:  35%|███▌      | 11/31 [00:09<00:16,  1.23it/s, train_loss=0.201]\n",
      "\u001b[Aining Batches:  39%|███▊      | 12/31 [00:09<00:15,  1.26it/s, train_loss=0.201]\n",
      "\u001b[Aining Batches:  39%|███▊      | 12/31 [00:10<00:15,  1.26it/s, train_loss=0.21] \n",
      "\u001b[Aining Batches:  42%|████▏     | 13/31 [00:10<00:14,  1.26it/s, train_loss=0.21]\n",
      "\u001b[Aining Batches:  42%|████▏     | 13/31 [00:11<00:14,  1.26it/s, train_loss=0.261]\n",
      "\u001b[Aining Batches:  45%|████▌     | 14/31 [00:11<00:13,  1.25it/s, train_loss=0.261]\n",
      "\u001b[Aining Batches:  45%|████▌     | 14/31 [00:11<00:13,  1.25it/s, train_loss=0.223]\n",
      "\u001b[Aining Batches:  48%|████▊     | 15/31 [00:11<00:12,  1.25it/s, train_loss=0.223]\n",
      "\u001b[Aining Batches:  48%|████▊     | 15/31 [00:12<00:12,  1.25it/s, train_loss=0.2]  \n",
      "\u001b[Aining Batches:  52%|█████▏    | 16/31 [00:12<00:11,  1.26it/s, train_loss=0.2]\n",
      "\u001b[Aining Batches:  52%|█████▏    | 16/31 [00:13<00:11,  1.26it/s, train_loss=0.16]\n",
      "\u001b[Aining Batches:  55%|█████▍    | 17/31 [00:13<00:11,  1.26it/s, train_loss=0.16]\n",
      "\u001b[Aining Batches:  55%|█████▍    | 17/31 [00:14<00:11,  1.26it/s, train_loss=0.216]\n",
      "\u001b[Aining Batches:  58%|█████▊    | 18/31 [00:14<00:10,  1.27it/s, train_loss=0.216]\n",
      "\u001b[Aining Batches:  58%|█████▊    | 18/31 [00:15<00:10,  1.27it/s, train_loss=0.165]\n",
      "\u001b[Aining Batches:  61%|██████▏   | 19/31 [00:15<00:09,  1.27it/s, train_loss=0.165]\n",
      "\u001b[Aining Batches:  61%|██████▏   | 19/31 [00:15<00:09,  1.27it/s, train_loss=0.256]\n",
      "\u001b[Aining Batches:  65%|██████▍   | 20/31 [00:15<00:08,  1.25it/s, train_loss=0.256]\n",
      "\u001b[Aining Batches:  65%|██████▍   | 20/31 [00:16<00:08,  1.25it/s, train_loss=0.109]\n",
      "\u001b[Aining Batches:  68%|██████▊   | 21/31 [00:16<00:08,  1.23it/s, train_loss=0.109]\n",
      "\u001b[Aining Batches:  68%|██████▊   | 21/31 [00:17<00:08,  1.23it/s, train_loss=0.461]\n",
      "\u001b[Aining Batches:  71%|███████   | 22/31 [00:17<00:07,  1.25it/s, train_loss=0.461]\n",
      "\u001b[Aining Batches:  71%|███████   | 22/31 [00:18<00:07,  1.25it/s, train_loss=0.134]\n",
      "\u001b[Aining Batches:  74%|███████▍  | 23/31 [00:18<00:06,  1.26it/s, train_loss=0.134]\n",
      "\u001b[Aining Batches:  74%|███████▍  | 23/31 [00:19<00:06,  1.26it/s, train_loss=0.178]\n",
      "\u001b[Aining Batches:  77%|███████▋  | 24/31 [00:19<00:05,  1.27it/s, train_loss=0.178]\n",
      "\u001b[Aining Batches:  77%|███████▋  | 24/31 [00:19<00:05,  1.27it/s, train_loss=0.19] \n",
      "\u001b[Aining Batches:  81%|████████  | 25/31 [00:19<00:04,  1.27it/s, train_loss=0.19]\n",
      "\u001b[Aining Batches:  81%|████████  | 25/31 [00:20<00:04,  1.27it/s, train_loss=0.221]\n",
      "\u001b[Aining Batches:  84%|████████▍ | 26/31 [00:20<00:04,  1.24it/s, train_loss=0.221]\n",
      "\u001b[Aining Batches:  84%|████████▍ | 26/31 [00:21<00:04,  1.24it/s, train_loss=0.316]\n",
      "\u001b[Aining Batches:  87%|████████▋ | 27/31 [00:21<00:03,  1.24it/s, train_loss=0.316]\n",
      "\u001b[Aining Batches:  87%|████████▋ | 27/31 [00:22<00:03,  1.24it/s, train_loss=0.184]\n",
      "\u001b[Aining Batches:  90%|█████████ | 28/31 [00:22<00:02,  1.25it/s, train_loss=0.184]\n",
      "\u001b[Aining Batches:  90%|█████████ | 28/31 [00:23<00:02,  1.25it/s, train_loss=0.201]\n",
      "\u001b[Aining Batches:  94%|█████████▎| 29/31 [00:23<00:01,  1.24it/s, train_loss=0.201]\n",
      "\u001b[Aining Batches:  94%|█████████▎| 29/31 [00:23<00:01,  1.24it/s, train_loss=0.157]\n",
      "\u001b[Aining Batches:  97%|█████████▋| 30/31 [00:23<00:00,  1.22it/s, train_loss=0.157]\n",
      "\u001b[Aining Batches:  97%|█████████▋| 30/31 [00:24<00:00,  1.22it/s, train_loss=0.206]\n",
      "\u001b[Aining Batches: 100%|██████████| 31/31 [00:24<00:00,  1.52it/s, train_loss=0.206]\n",
      "\u001b[A                                                                                "
     ]
    },
    {
     "name": "stdout",
     "output_type": "stream",
     "text": [
      "epoch 59 average loss: 0.2005\n"
     ]
    },
    {
     "name": "stderr",
     "output_type": "stream",
     "text": [
      "Epochs:  84%|████████▍ | 59/70 [24:30<04:32, 24.76s/it]"
     ]
    },
    {
     "name": "stdout",
     "output_type": "stream",
     "text": [
      "1\n",
      "current epoch: 59 current AUC: 0.9918 current accuracy: 0.8944 best AUC: 0.9959 at epoch: 53\n",
      "----------\n",
      "epoch 60/70\n"
     ]
    },
    {
     "name": "stderr",
     "output_type": "stream",
     "text": [
      "\n",
      "\u001b[Aining Batches:   0%|          | 0/31 [00:00<?, ?it/s]\n",
      "\u001b[Aining Batches:   0%|          | 0/31 [00:00<?, ?it/s, train_loss=0.227]\n",
      "\u001b[Aining Batches:   3%|▎         | 1/31 [00:00<00:23,  1.25it/s, train_loss=0.227]\n",
      "\u001b[Aining Batches:   3%|▎         | 1/31 [00:01<00:23,  1.25it/s, train_loss=0.131]\n",
      "\u001b[Aining Batches:   6%|▋         | 2/31 [00:01<00:23,  1.26it/s, train_loss=0.131]\n",
      "\u001b[Aining Batches:   6%|▋         | 2/31 [00:02<00:23,  1.26it/s, train_loss=0.221]\n",
      "\u001b[Aining Batches:  10%|▉         | 3/31 [00:02<00:22,  1.25it/s, train_loss=0.221]\n",
      "\u001b[Aining Batches:  10%|▉         | 3/31 [00:03<00:22,  1.25it/s, train_loss=0.132]\n",
      "\u001b[Aining Batches:  13%|█▎        | 4/31 [00:03<00:21,  1.25it/s, train_loss=0.132]\n",
      "\u001b[Aining Batches:  13%|█▎        | 4/31 [00:03<00:21,  1.25it/s, train_loss=0.169]\n",
      "\u001b[Aining Batches:  16%|█▌        | 5/31 [00:03<00:20,  1.25it/s, train_loss=0.169]\n",
      "\u001b[Aining Batches:  16%|█▌        | 5/31 [00:04<00:20,  1.25it/s, train_loss=0.195]\n",
      "\u001b[Aining Batches:  19%|█▉        | 6/31 [00:04<00:19,  1.26it/s, train_loss=0.195]\n",
      "\u001b[Aining Batches:  19%|█▉        | 6/31 [00:05<00:19,  1.26it/s, train_loss=0.214]\n",
      "\u001b[Aining Batches:  23%|██▎       | 7/31 [00:05<00:19,  1.26it/s, train_loss=0.214]\n",
      "\u001b[Aining Batches:  23%|██▎       | 7/31 [00:06<00:19,  1.26it/s, train_loss=0.3]  \n",
      "\u001b[Aining Batches:  26%|██▌       | 8/31 [00:06<00:18,  1.25it/s, train_loss=0.3]\n",
      "\u001b[Aining Batches:  26%|██▌       | 8/31 [00:07<00:18,  1.25it/s, train_loss=0.223]\n",
      "\u001b[Aining Batches:  29%|██▉       | 9/31 [00:07<00:17,  1.25it/s, train_loss=0.223]\n",
      "\u001b[Aining Batches:  29%|██▉       | 9/31 [00:07<00:17,  1.25it/s, train_loss=0.129]\n",
      "\u001b[Aining Batches:  32%|███▏      | 10/31 [00:07<00:16,  1.27it/s, train_loss=0.129]\n",
      "\u001b[Aining Batches:  32%|███▏      | 10/31 [00:08<00:16,  1.27it/s, train_loss=0.372]\n",
      "\u001b[Aining Batches:  35%|███▌      | 11/31 [00:08<00:15,  1.28it/s, train_loss=0.372]\n",
      "\u001b[Aining Batches:  35%|███▌      | 11/31 [00:09<00:15,  1.28it/s, train_loss=0.193]\n",
      "\u001b[Aining Batches:  39%|███▊      | 12/31 [00:09<00:14,  1.29it/s, train_loss=0.193]\n",
      "\u001b[Aining Batches:  39%|███▊      | 12/31 [00:10<00:14,  1.29it/s, train_loss=0.135]\n",
      "\u001b[Aining Batches:  42%|████▏     | 13/31 [00:10<00:14,  1.29it/s, train_loss=0.135]\n",
      "\u001b[Aining Batches:  42%|████▏     | 13/31 [00:11<00:14,  1.29it/s, train_loss=0.198]\n",
      "\u001b[Aining Batches:  45%|████▌     | 14/31 [00:11<00:13,  1.27it/s, train_loss=0.198]\n",
      "\u001b[Aining Batches:  45%|████▌     | 14/31 [00:11<00:13,  1.27it/s, train_loss=0.252]\n",
      "\u001b[Aining Batches:  48%|████▊     | 15/31 [00:11<00:12,  1.27it/s, train_loss=0.252]\n",
      "\u001b[Aining Batches:  48%|████▊     | 15/31 [00:12<00:12,  1.27it/s, train_loss=0.203]\n",
      "\u001b[Aining Batches:  52%|█████▏    | 16/31 [00:12<00:11,  1.31it/s, train_loss=0.203]\n",
      "\u001b[Aining Batches:  52%|█████▏    | 16/31 [00:13<00:11,  1.31it/s, train_loss=0.156]\n",
      "\u001b[Aining Batches:  55%|█████▍    | 17/31 [00:13<00:10,  1.29it/s, train_loss=0.156]\n",
      "\u001b[Aining Batches:  55%|█████▍    | 17/31 [00:14<00:10,  1.29it/s, train_loss=0.116]\n",
      "\u001b[Aining Batches:  58%|█████▊    | 18/31 [00:14<00:10,  1.27it/s, train_loss=0.116]\n",
      "\u001b[Aining Batches:  58%|█████▊    | 18/31 [00:14<00:10,  1.27it/s, train_loss=0.257]\n",
      "\u001b[Aining Batches:  61%|██████▏   | 19/31 [00:14<00:09,  1.30it/s, train_loss=0.257]\n",
      "\u001b[Aining Batches:  61%|██████▏   | 19/31 [00:15<00:09,  1.30it/s, train_loss=0.184]\n",
      "\u001b[Aining Batches:  65%|██████▍   | 20/31 [00:15<00:08,  1.32it/s, train_loss=0.184]\n",
      "\u001b[Aining Batches:  65%|██████▍   | 20/31 [00:16<00:08,  1.32it/s, train_loss=0.18] \n",
      "\u001b[Aining Batches:  68%|██████▊   | 21/31 [00:16<00:07,  1.29it/s, train_loss=0.18]\n",
      "\u001b[Aining Batches:  68%|██████▊   | 21/31 [00:17<00:07,  1.29it/s, train_loss=0.2] \n",
      "\u001b[Aining Batches:  71%|███████   | 22/31 [00:17<00:07,  1.28it/s, train_loss=0.2]\n",
      "\u001b[Aining Batches:  71%|███████   | 22/31 [00:18<00:07,  1.28it/s, train_loss=0.128]\n",
      "\u001b[Aining Batches:  74%|███████▍  | 23/31 [00:18<00:06,  1.28it/s, train_loss=0.128]\n",
      "\u001b[Aining Batches:  74%|███████▍  | 23/31 [00:18<00:06,  1.28it/s, train_loss=0.136]\n",
      "\u001b[Aining Batches:  77%|███████▋  | 24/31 [00:18<00:05,  1.27it/s, train_loss=0.136]\n",
      "\u001b[Aining Batches:  77%|███████▋  | 24/31 [00:19<00:05,  1.27it/s, train_loss=0.205]\n",
      "\u001b[Aining Batches:  81%|████████  | 25/31 [00:19<00:04,  1.30it/s, train_loss=0.205]\n",
      "\u001b[Aining Batches:  81%|████████  | 25/31 [00:20<00:04,  1.30it/s, train_loss=0.317]\n",
      "\u001b[Aining Batches:  84%|████████▍ | 26/31 [00:20<00:03,  1.32it/s, train_loss=0.317]\n",
      "\u001b[Aining Batches:  84%|████████▍ | 26/31 [00:21<00:03,  1.32it/s, train_loss=0.157]\n",
      "\u001b[Aining Batches:  87%|████████▋ | 27/31 [00:21<00:03,  1.31it/s, train_loss=0.157]\n",
      "\u001b[Aining Batches:  87%|████████▋ | 27/31 [00:21<00:03,  1.31it/s, train_loss=0.172]\n",
      "\u001b[Aining Batches:  90%|█████████ | 28/31 [00:21<00:02,  1.31it/s, train_loss=0.172]\n",
      "\u001b[Aining Batches:  90%|█████████ | 28/31 [00:22<00:02,  1.31it/s, train_loss=0.16] \n",
      "\u001b[Aining Batches:  94%|█████████▎| 29/31 [00:22<00:01,  1.30it/s, train_loss=0.16]\n",
      "\u001b[Aining Batches:  94%|█████████▎| 29/31 [00:23<00:01,  1.30it/s, train_loss=0.123]\n",
      "\u001b[Aining Batches:  97%|█████████▋| 30/31 [00:23<00:00,  1.29it/s, train_loss=0.123]\n",
      "\u001b[Aining Batches:  97%|█████████▋| 30/31 [00:23<00:00,  1.29it/s, train_loss=0.137]\n",
      "\u001b[Aining Batches: 100%|██████████| 31/31 [00:23<00:00,  1.57it/s, train_loss=0.137]\n",
      "\u001b[A                                                                                "
     ]
    },
    {
     "name": "stdout",
     "output_type": "stream",
     "text": [
      "epoch 60 average loss: 0.1910\n"
     ]
    },
    {
     "name": "stderr",
     "output_type": "stream",
     "text": [
      "Epochs:  86%|████████▌ | 60/70 [24:54<04:06, 24.63s/it]"
     ]
    },
    {
     "name": "stdout",
     "output_type": "stream",
     "text": [
      "1\n",
      "current epoch: 60 current AUC: 0.9916 current accuracy: 0.8882 best AUC: 0.9959 at epoch: 53\n",
      "----------\n",
      "epoch 61/70\n"
     ]
    },
    {
     "name": "stderr",
     "output_type": "stream",
     "text": [
      "\n",
      "\u001b[Aining Batches:   0%|          | 0/31 [00:00<?, ?it/s]\n",
      "\u001b[Aining Batches:   0%|          | 0/31 [00:00<?, ?it/s, train_loss=0.123]\n",
      "\u001b[Aining Batches:   3%|▎         | 1/31 [00:00<00:24,  1.23it/s, train_loss=0.123]\n",
      "\u001b[Aining Batches:   3%|▎         | 1/31 [00:01<00:24,  1.23it/s, train_loss=0.137]\n",
      "\u001b[Aining Batches:   6%|▋         | 2/31 [00:01<00:23,  1.23it/s, train_loss=0.137]\n",
      "\u001b[Aining Batches:   6%|▋         | 2/31 [00:02<00:23,  1.23it/s, train_loss=0.168]\n",
      "\u001b[Aining Batches:  10%|▉         | 3/31 [00:02<00:22,  1.26it/s, train_loss=0.168]\n",
      "\u001b[Aining Batches:  10%|▉         | 3/31 [00:03<00:22,  1.26it/s, train_loss=0.383]\n",
      "\u001b[Aining Batches:  13%|█▎        | 4/31 [00:03<00:22,  1.22it/s, train_loss=0.383]\n",
      "\u001b[Aining Batches:  13%|█▎        | 4/31 [00:04<00:22,  1.22it/s, train_loss=0.145]\n",
      "\u001b[Aining Batches:  16%|█▌        | 5/31 [00:04<00:21,  1.22it/s, train_loss=0.145]\n",
      "\u001b[Aining Batches:  16%|█▌        | 5/31 [00:04<00:21,  1.22it/s, train_loss=0.158]\n",
      "\u001b[Aining Batches:  19%|█▉        | 6/31 [00:04<00:19,  1.26it/s, train_loss=0.158]\n",
      "\u001b[Aining Batches:  19%|█▉        | 6/31 [00:05<00:19,  1.26it/s, train_loss=0.346]\n",
      "\u001b[Aining Batches:  23%|██▎       | 7/31 [00:05<00:19,  1.26it/s, train_loss=0.346]\n",
      "\u001b[Aining Batches:  23%|██▎       | 7/31 [00:06<00:19,  1.26it/s, train_loss=0.119]\n",
      "\u001b[Aining Batches:  26%|██▌       | 8/31 [00:06<00:18,  1.26it/s, train_loss=0.119]\n",
      "\u001b[Aining Batches:  26%|██▌       | 8/31 [00:07<00:18,  1.26it/s, train_loss=0.166]\n",
      "\u001b[Aining Batches:  29%|██▉       | 9/31 [00:07<00:17,  1.27it/s, train_loss=0.166]\n",
      "\u001b[Aining Batches:  29%|██▉       | 9/31 [00:07<00:17,  1.27it/s, train_loss=0.0534]\n",
      "\u001b[Aining Batches:  32%|███▏      | 10/31 [00:07<00:16,  1.26it/s, train_loss=0.0534]\n",
      "\u001b[Aining Batches:  32%|███▏      | 10/31 [00:08<00:16,  1.26it/s, train_loss=0.096] \n",
      "\u001b[Aining Batches:  35%|███▌      | 11/31 [00:08<00:15,  1.28it/s, train_loss=0.096]\n",
      "\u001b[Aining Batches:  35%|███▌      | 11/31 [00:09<00:15,  1.28it/s, train_loss=0.182]\n",
      "\u001b[Aining Batches:  39%|███▊      | 12/31 [00:09<00:15,  1.26it/s, train_loss=0.182]\n",
      "\u001b[Aining Batches:  39%|███▊      | 12/31 [00:10<00:15,  1.26it/s, train_loss=0.439]\n",
      "\u001b[Aining Batches:  42%|████▏     | 13/31 [00:10<00:14,  1.27it/s, train_loss=0.439]\n",
      "\u001b[Aining Batches:  42%|████▏     | 13/31 [00:11<00:14,  1.27it/s, train_loss=0.291]\n",
      "\u001b[Aining Batches:  45%|████▌     | 14/31 [00:11<00:13,  1.26it/s, train_loss=0.291]\n",
      "\u001b[Aining Batches:  45%|████▌     | 14/31 [00:11<00:13,  1.26it/s, train_loss=0.12] \n",
      "\u001b[Aining Batches:  48%|████▊     | 15/31 [00:11<00:12,  1.27it/s, train_loss=0.12]\n",
      "\u001b[Aining Batches:  48%|████▊     | 15/31 [00:12<00:12,  1.27it/s, train_loss=0.39]\n",
      "\u001b[Aining Batches:  52%|█████▏    | 16/31 [00:12<00:12,  1.23it/s, train_loss=0.39]\n",
      "\u001b[Aining Batches:  52%|█████▏    | 16/31 [00:13<00:12,  1.23it/s, train_loss=0.142]\n",
      "\u001b[Aining Batches:  55%|█████▍    | 17/31 [00:13<00:11,  1.25it/s, train_loss=0.142]\n",
      "\u001b[Aining Batches:  55%|█████▍    | 17/31 [00:14<00:11,  1.25it/s, train_loss=0.286]\n",
      "\u001b[Aining Batches:  58%|█████▊    | 18/31 [00:14<00:10,  1.26it/s, train_loss=0.286]\n",
      "\u001b[Aining Batches:  58%|█████▊    | 18/31 [00:15<00:10,  1.26it/s, train_loss=0.138]\n",
      "\u001b[Aining Batches:  61%|██████▏   | 19/31 [00:15<00:09,  1.24it/s, train_loss=0.138]\n",
      "\u001b[Aining Batches:  61%|██████▏   | 19/31 [00:16<00:09,  1.24it/s, train_loss=0.184]\n",
      "\u001b[Aining Batches:  65%|██████▍   | 20/31 [00:16<00:08,  1.23it/s, train_loss=0.184]\n",
      "\u001b[Aining Batches:  65%|██████▍   | 20/31 [00:16<00:08,  1.23it/s, train_loss=0.219]\n",
      "\u001b[Aining Batches:  68%|██████▊   | 21/31 [00:16<00:08,  1.23it/s, train_loss=0.219]\n",
      "\u001b[Aining Batches:  68%|██████▊   | 21/31 [00:17<00:08,  1.23it/s, train_loss=0.232]\n",
      "\u001b[Aining Batches:  71%|███████   | 22/31 [00:17<00:07,  1.24it/s, train_loss=0.232]\n",
      "\u001b[Aining Batches:  71%|███████   | 22/31 [00:18<00:07,  1.24it/s, train_loss=0.179]\n",
      "\u001b[Aining Batches:  74%|███████▍  | 23/31 [00:18<00:06,  1.26it/s, train_loss=0.179]\n",
      "\u001b[Aining Batches:  74%|███████▍  | 23/31 [00:19<00:06,  1.26it/s, train_loss=0.237]\n",
      "\u001b[Aining Batches:  77%|███████▋  | 24/31 [00:19<00:05,  1.24it/s, train_loss=0.237]\n",
      "\u001b[Aining Batches:  77%|███████▋  | 24/31 [00:19<00:05,  1.24it/s, train_loss=0.181]\n",
      "\u001b[Aining Batches:  81%|████████  | 25/31 [00:19<00:04,  1.26it/s, train_loss=0.181]\n",
      "\u001b[Aining Batches:  81%|████████  | 25/31 [00:20<00:04,  1.26it/s, train_loss=0.182]\n",
      "\u001b[Aining Batches:  84%|████████▍ | 26/31 [00:20<00:04,  1.22it/s, train_loss=0.182]\n",
      "\u001b[Aining Batches:  84%|████████▍ | 26/31 [00:21<00:04,  1.22it/s, train_loss=0.2]  \n",
      "\u001b[Aining Batches:  87%|████████▋ | 27/31 [00:21<00:03,  1.21it/s, train_loss=0.2]\n",
      "\u001b[Aining Batches:  87%|████████▋ | 27/31 [00:22<00:03,  1.21it/s, train_loss=0.236]\n",
      "\u001b[Aining Batches:  90%|█████████ | 28/31 [00:22<00:02,  1.22it/s, train_loss=0.236]\n",
      "\u001b[Aining Batches:  90%|█████████ | 28/31 [00:23<00:02,  1.22it/s, train_loss=0.172]\n",
      "\u001b[Aining Batches:  94%|█████████▎| 29/31 [00:23<00:01,  1.24it/s, train_loss=0.172]\n",
      "\u001b[Aining Batches:  94%|█████████▎| 29/31 [00:24<00:01,  1.24it/s, train_loss=0.135]\n",
      "\u001b[Aining Batches:  97%|█████████▋| 30/31 [00:24<00:00,  1.25it/s, train_loss=0.135]\n",
      "\u001b[Aining Batches:  97%|█████████▋| 30/31 [00:24<00:00,  1.25it/s, train_loss=0.439]\n",
      "\u001b[Aining Batches: 100%|██████████| 31/31 [00:24<00:00,  1.58it/s, train_loss=0.439]\n",
      "\u001b[A                                                                                "
     ]
    },
    {
     "name": "stdout",
     "output_type": "stream",
     "text": [
      "epoch 61 average loss: 0.2091\n"
     ]
    },
    {
     "name": "stderr",
     "output_type": "stream",
     "text": [
      "Epochs:  87%|████████▋ | 61/70 [25:19<03:42, 24.72s/it]"
     ]
    },
    {
     "name": "stdout",
     "output_type": "stream",
     "text": [
      "1\n",
      "current epoch: 61 current AUC: 0.9928 current accuracy: 0.8758 best AUC: 0.9959 at epoch: 53\n",
      "----------\n",
      "epoch 62/70\n"
     ]
    },
    {
     "name": "stderr",
     "output_type": "stream",
     "text": [
      "\n",
      "\u001b[Aining Batches:   0%|          | 0/31 [00:00<?, ?it/s]\n",
      "\u001b[Aining Batches:   0%|          | 0/31 [00:00<?, ?it/s, train_loss=0.227]\n",
      "\u001b[Aining Batches:   3%|▎         | 1/31 [00:00<00:23,  1.28it/s, train_loss=0.227]\n",
      "\u001b[Aining Batches:   3%|▎         | 1/31 [00:01<00:23,  1.28it/s, train_loss=0.14] \n",
      "\u001b[Aining Batches:   6%|▋         | 2/31 [00:01<00:23,  1.24it/s, train_loss=0.14]\n",
      "\u001b[Aining Batches:   6%|▋         | 2/31 [00:02<00:23,  1.24it/s, train_loss=0.0919]\n",
      "\u001b[Aining Batches:  10%|▉         | 3/31 [00:02<00:22,  1.26it/s, train_loss=0.0919]\n",
      "\u001b[Aining Batches:  10%|▉         | 3/31 [00:03<00:22,  1.26it/s, train_loss=0.373] \n",
      "\u001b[Aining Batches:  13%|█▎        | 4/31 [00:03<00:21,  1.25it/s, train_loss=0.373]\n",
      "\u001b[Aining Batches:  13%|█▎        | 4/31 [00:03<00:21,  1.25it/s, train_loss=0.13] \n",
      "\u001b[Aining Batches:  16%|█▌        | 5/31 [00:03<00:20,  1.27it/s, train_loss=0.13]\n",
      "\u001b[Aining Batches:  16%|█▌        | 5/31 [00:04<00:20,  1.27it/s, train_loss=0.15]\n",
      "\u001b[Aining Batches:  19%|█▉        | 6/31 [00:04<00:19,  1.26it/s, train_loss=0.15]\n",
      "\u001b[Aining Batches:  19%|█▉        | 6/31 [00:05<00:19,  1.26it/s, train_loss=0.173]\n",
      "\u001b[Aining Batches:  23%|██▎       | 7/31 [00:05<00:19,  1.25it/s, train_loss=0.173]\n",
      "\u001b[Aining Batches:  23%|██▎       | 7/31 [00:06<00:19,  1.25it/s, train_loss=0.332]\n",
      "\u001b[Aining Batches:  26%|██▌       | 8/31 [00:06<00:18,  1.26it/s, train_loss=0.332]\n",
      "\u001b[Aining Batches:  26%|██▌       | 8/31 [00:07<00:18,  1.26it/s, train_loss=0.167]\n",
      "\u001b[Aining Batches:  29%|██▉       | 9/31 [00:07<00:17,  1.29it/s, train_loss=0.167]\n",
      "\u001b[Aining Batches:  29%|██▉       | 9/31 [00:07<00:17,  1.29it/s, train_loss=0.146]\n",
      "\u001b[Aining Batches:  32%|███▏      | 10/31 [00:07<00:16,  1.26it/s, train_loss=0.146]\n",
      "\u001b[Aining Batches:  32%|███▏      | 10/31 [00:08<00:16,  1.26it/s, train_loss=0.0608]\n",
      "\u001b[Aining Batches:  35%|███▌      | 11/31 [00:08<00:16,  1.25it/s, train_loss=0.0608]\n",
      "\u001b[Aining Batches:  35%|███▌      | 11/31 [00:09<00:16,  1.25it/s, train_loss=0.146] \n",
      "\u001b[Aining Batches:  39%|███▊      | 12/31 [00:09<00:15,  1.23it/s, train_loss=0.146]\n",
      "\u001b[Aining Batches:  39%|███▊      | 12/31 [00:10<00:15,  1.23it/s, train_loss=0.245]\n",
      "\u001b[Aining Batches:  42%|████▏     | 13/31 [00:10<00:14,  1.20it/s, train_loss=0.245]\n",
      "\u001b[Aining Batches:  42%|████▏     | 13/31 [00:11<00:14,  1.20it/s, train_loss=0.208]\n",
      "\u001b[Aining Batches:  45%|████▌     | 14/31 [00:11<00:14,  1.20it/s, train_loss=0.208]\n",
      "\u001b[Aining Batches:  45%|████▌     | 14/31 [00:12<00:14,  1.20it/s, train_loss=0.229]\n",
      "\u001b[Aining Batches:  48%|████▊     | 15/31 [00:12<00:13,  1.22it/s, train_loss=0.229]\n",
      "\u001b[Aining Batches:  48%|████▊     | 15/31 [00:12<00:13,  1.22it/s, train_loss=0.266]\n",
      "\u001b[Aining Batches:  52%|█████▏    | 16/31 [00:12<00:12,  1.22it/s, train_loss=0.266]\n",
      "\u001b[Aining Batches:  52%|█████▏    | 16/31 [00:13<00:12,  1.22it/s, train_loss=0.0746]\n",
      "\u001b[Aining Batches:  55%|█████▍    | 17/31 [00:13<00:11,  1.23it/s, train_loss=0.0746]\n",
      "\u001b[Aining Batches:  55%|█████▍    | 17/31 [00:14<00:11,  1.23it/s, train_loss=0.218] \n",
      "\u001b[Aining Batches:  58%|█████▊    | 18/31 [00:14<00:10,  1.24it/s, train_loss=0.218]\n",
      "\u001b[Aining Batches:  58%|█████▊    | 18/31 [00:15<00:10,  1.24it/s, train_loss=0.116]\n",
      "\u001b[Aining Batches:  61%|██████▏   | 19/31 [00:15<00:09,  1.27it/s, train_loss=0.116]\n",
      "\u001b[Aining Batches:  61%|██████▏   | 19/31 [00:16<00:09,  1.27it/s, train_loss=0.159]\n",
      "\u001b[Aining Batches:  65%|██████▍   | 20/31 [00:16<00:08,  1.26it/s, train_loss=0.159]\n",
      "\u001b[Aining Batches:  65%|██████▍   | 20/31 [00:16<00:08,  1.26it/s, train_loss=0.18] \n",
      "\u001b[Aining Batches:  68%|██████▊   | 21/31 [00:16<00:08,  1.25it/s, train_loss=0.18]\n",
      "\u001b[Aining Batches:  68%|██████▊   | 21/31 [00:17<00:08,  1.25it/s, train_loss=0.451]\n",
      "\u001b[Aining Batches:  71%|███████   | 22/31 [00:17<00:07,  1.25it/s, train_loss=0.451]\n",
      "\u001b[Aining Batches:  71%|███████   | 22/31 [00:18<00:07,  1.25it/s, train_loss=0.189]\n",
      "\u001b[Aining Batches:  74%|███████▍  | 23/31 [00:18<00:06,  1.26it/s, train_loss=0.189]\n",
      "\u001b[Aining Batches:  74%|███████▍  | 23/31 [00:19<00:06,  1.26it/s, train_loss=0.156]\n",
      "\u001b[Aining Batches:  77%|███████▋  | 24/31 [00:19<00:05,  1.28it/s, train_loss=0.156]\n",
      "\u001b[Aining Batches:  77%|███████▋  | 24/31 [00:20<00:05,  1.28it/s, train_loss=0.173]\n",
      "\u001b[Aining Batches:  81%|████████  | 25/31 [00:20<00:04,  1.25it/s, train_loss=0.173]\n",
      "\u001b[Aining Batches:  81%|████████  | 25/31 [00:20<00:04,  1.25it/s, train_loss=0.144]\n",
      "\u001b[Aining Batches:  84%|████████▍ | 26/31 [00:20<00:03,  1.26it/s, train_loss=0.144]\n",
      "\u001b[Aining Batches:  84%|████████▍ | 26/31 [00:21<00:03,  1.26it/s, train_loss=0.113]\n",
      "\u001b[Aining Batches:  87%|████████▋ | 27/31 [00:21<00:03,  1.24it/s, train_loss=0.113]\n",
      "\u001b[Aining Batches:  87%|████████▋ | 27/31 [00:22<00:03,  1.24it/s, train_loss=0.139]\n",
      "\u001b[Aining Batches:  90%|█████████ | 28/31 [00:22<00:02,  1.21it/s, train_loss=0.139]\n",
      "\u001b[Aining Batches:  90%|█████████ | 28/31 [00:23<00:02,  1.21it/s, train_loss=0.174]\n",
      "\u001b[Aining Batches:  94%|█████████▎| 29/31 [00:23<00:01,  1.22it/s, train_loss=0.174]\n",
      "\u001b[Aining Batches:  94%|█████████▎| 29/31 [00:24<00:01,  1.22it/s, train_loss=0.163]\n",
      "\u001b[Aining Batches:  97%|█████████▋| 30/31 [00:24<00:00,  1.27it/s, train_loss=0.163]\n",
      "\u001b[Aining Batches:  97%|█████████▋| 30/31 [00:24<00:00,  1.27it/s, train_loss=0.09] \n",
      "\u001b[Aining Batches: 100%|██████████| 31/31 [00:24<00:00,  1.57it/s, train_loss=0.09]\n",
      "\u001b[A                                                                               "
     ]
    },
    {
     "name": "stdout",
     "output_type": "stream",
     "text": [
      "epoch 62 average loss: 0.1814\n"
     ]
    },
    {
     "name": "stderr",
     "output_type": "stream",
     "text": [
      "Epochs:  89%|████████▊ | 62/70 [25:44<03:18, 24.78s/it]"
     ]
    },
    {
     "name": "stdout",
     "output_type": "stream",
     "text": [
      "1\n",
      "current epoch: 62 current AUC: 0.9881 current accuracy: 0.8571 best AUC: 0.9959 at epoch: 53\n",
      "----------\n",
      "epoch 63/70\n"
     ]
    },
    {
     "name": "stderr",
     "output_type": "stream",
     "text": [
      "\n",
      "\u001b[Aining Batches:   0%|          | 0/31 [00:00<?, ?it/s]\n",
      "\u001b[Aining Batches:   0%|          | 0/31 [00:00<?, ?it/s, train_loss=0.158]\n",
      "\u001b[Aining Batches:   3%|▎         | 1/31 [00:00<00:24,  1.24it/s, train_loss=0.158]\n",
      "\u001b[Aining Batches:   3%|▎         | 1/31 [00:01<00:24,  1.24it/s, train_loss=0.174]\n",
      "\u001b[Aining Batches:   6%|▋         | 2/31 [00:01<00:23,  1.23it/s, train_loss=0.174]\n",
      "\u001b[Aining Batches:   6%|▋         | 2/31 [00:02<00:23,  1.23it/s, train_loss=0.131]\n",
      "\u001b[Aining Batches:  10%|▉         | 3/31 [00:02<00:22,  1.22it/s, train_loss=0.131]\n",
      "\u001b[Aining Batches:  10%|▉         | 3/31 [00:03<00:22,  1.22it/s, train_loss=0.156]\n",
      "\u001b[Aining Batches:  13%|█▎        | 4/31 [00:03<00:21,  1.24it/s, train_loss=0.156]\n",
      "\u001b[Aining Batches:  13%|█▎        | 4/31 [00:03<00:21,  1.24it/s, train_loss=0.229]\n",
      "\u001b[Aining Batches:  16%|█▌        | 5/31 [00:03<00:20,  1.27it/s, train_loss=0.229]\n",
      "\u001b[Aining Batches:  16%|█▌        | 5/31 [00:04<00:20,  1.27it/s, train_loss=0.0566]\n",
      "\u001b[Aining Batches:  19%|█▉        | 6/31 [00:04<00:19,  1.27it/s, train_loss=0.0566]\n",
      "\u001b[Aining Batches:  19%|█▉        | 6/31 [00:05<00:19,  1.27it/s, train_loss=0.181] \n",
      "\u001b[Aining Batches:  23%|██▎       | 7/31 [00:05<00:18,  1.28it/s, train_loss=0.181]\n",
      "\u001b[Aining Batches:  23%|██▎       | 7/31 [00:06<00:18,  1.28it/s, train_loss=0.211]\n",
      "\u001b[Aining Batches:  26%|██▌       | 8/31 [00:06<00:17,  1.29it/s, train_loss=0.211]\n",
      "\u001b[Aining Batches:  26%|██▌       | 8/31 [00:07<00:17,  1.29it/s, train_loss=0.123]\n",
      "\u001b[Aining Batches:  29%|██▉       | 9/31 [00:07<00:17,  1.26it/s, train_loss=0.123]\n",
      "\u001b[Aining Batches:  29%|██▉       | 9/31 [00:07<00:17,  1.26it/s, train_loss=0.236]\n",
      "\u001b[Aining Batches:  32%|███▏      | 10/31 [00:07<00:16,  1.26it/s, train_loss=0.236]\n",
      "\u001b[Aining Batches:  32%|███▏      | 10/31 [00:08<00:16,  1.26it/s, train_loss=0.192]\n",
      "\u001b[Aining Batches:  35%|███▌      | 11/31 [00:08<00:15,  1.25it/s, train_loss=0.192]\n",
      "\u001b[Aining Batches:  35%|███▌      | 11/31 [00:09<00:15,  1.25it/s, train_loss=0.218]\n",
      "\u001b[Aining Batches:  39%|███▊      | 12/31 [00:09<00:15,  1.25it/s, train_loss=0.218]\n",
      "\u001b[Aining Batches:  39%|███▊      | 12/31 [00:10<00:15,  1.25it/s, train_loss=0.311]\n",
      "\u001b[Aining Batches:  42%|████▏     | 13/31 [00:10<00:14,  1.25it/s, train_loss=0.311]\n",
      "\u001b[Aining Batches:  42%|████▏     | 13/31 [00:11<00:14,  1.25it/s, train_loss=0.193]\n",
      "\u001b[Aining Batches:  45%|████▌     | 14/31 [00:11<00:13,  1.24it/s, train_loss=0.193]\n",
      "\u001b[Aining Batches:  45%|████▌     | 14/31 [00:11<00:13,  1.24it/s, train_loss=0.115]\n",
      "\u001b[Aining Batches:  48%|████▊     | 15/31 [00:11<00:12,  1.26it/s, train_loss=0.115]\n",
      "\u001b[Aining Batches:  48%|████▊     | 15/31 [00:12<00:12,  1.26it/s, train_loss=0.206]\n",
      "\u001b[Aining Batches:  52%|█████▏    | 16/31 [00:12<00:11,  1.27it/s, train_loss=0.206]\n",
      "\u001b[Aining Batches:  52%|█████▏    | 16/31 [00:13<00:11,  1.27it/s, train_loss=0.291]\n",
      "\u001b[Aining Batches:  55%|█████▍    | 17/31 [00:13<00:11,  1.27it/s, train_loss=0.291]\n",
      "\u001b[Aining Batches:  55%|█████▍    | 17/31 [00:14<00:11,  1.27it/s, train_loss=0.124]\n",
      "\u001b[Aining Batches:  58%|█████▊    | 18/31 [00:14<00:10,  1.28it/s, train_loss=0.124]\n",
      "\u001b[Aining Batches:  58%|█████▊    | 18/31 [00:14<00:10,  1.28it/s, train_loss=0.266]\n",
      "\u001b[Aining Batches:  61%|██████▏   | 19/31 [00:14<00:09,  1.31it/s, train_loss=0.266]\n",
      "\u001b[Aining Batches:  61%|██████▏   | 19/31 [00:15<00:09,  1.31it/s, train_loss=0.0433]\n",
      "\u001b[Aining Batches:  65%|██████▍   | 20/31 [00:15<00:08,  1.27it/s, train_loss=0.0433]\n",
      "\u001b[Aining Batches:  65%|██████▍   | 20/31 [00:16<00:08,  1.27it/s, train_loss=0.255] \n",
      "\u001b[Aining Batches:  68%|██████▊   | 21/31 [00:16<00:07,  1.28it/s, train_loss=0.255]\n",
      "\u001b[Aining Batches:  68%|██████▊   | 21/31 [00:17<00:07,  1.28it/s, train_loss=0.179]\n",
      "\u001b[Aining Batches:  71%|███████   | 22/31 [00:17<00:06,  1.29it/s, train_loss=0.179]\n",
      "\u001b[Aining Batches:  71%|███████   | 22/31 [00:18<00:06,  1.29it/s, train_loss=0.142]\n",
      "\u001b[Aining Batches:  74%|███████▍  | 23/31 [00:18<00:06,  1.28it/s, train_loss=0.142]\n",
      "\u001b[Aining Batches:  74%|███████▍  | 23/31 [00:18<00:06,  1.28it/s, train_loss=0.13] \n",
      "\u001b[Aining Batches:  77%|███████▋  | 24/31 [00:18<00:05,  1.29it/s, train_loss=0.13]\n",
      "\u001b[Aining Batches:  77%|███████▋  | 24/31 [00:19<00:05,  1.29it/s, train_loss=0.152]\n",
      "\u001b[Aining Batches:  81%|████████  | 25/31 [00:19<00:04,  1.30it/s, train_loss=0.152]\n",
      "\u001b[Aining Batches:  81%|████████  | 25/31 [00:20<00:04,  1.30it/s, train_loss=0.16] \n",
      "\u001b[Aining Batches:  84%|████████▍ | 26/31 [00:20<00:03,  1.30it/s, train_loss=0.16]\n",
      "\u001b[Aining Batches:  84%|████████▍ | 26/31 [00:21<00:03,  1.30it/s, train_loss=0.359]\n",
      "\u001b[Aining Batches:  87%|████████▋ | 27/31 [00:21<00:03,  1.28it/s, train_loss=0.359]\n",
      "\u001b[Aining Batches:  87%|████████▋ | 27/31 [00:22<00:03,  1.28it/s, train_loss=0.217]\n",
      "\u001b[Aining Batches:  90%|█████████ | 28/31 [00:22<00:02,  1.28it/s, train_loss=0.217]\n",
      "\u001b[Aining Batches:  90%|█████████ | 28/31 [00:22<00:02,  1.28it/s, train_loss=0.221]\n",
      "\u001b[Aining Batches:  94%|█████████▎| 29/31 [00:22<00:01,  1.31it/s, train_loss=0.221]\n",
      "\u001b[Aining Batches:  94%|█████████▎| 29/31 [00:23<00:01,  1.31it/s, train_loss=0.273]\n",
      "\u001b[Aining Batches:  97%|█████████▋| 30/31 [00:23<00:00,  1.29it/s, train_loss=0.273]\n",
      "\u001b[Aining Batches:  97%|█████████▋| 30/31 [00:23<00:00,  1.29it/s, train_loss=0.04] \n",
      "\u001b[Aining Batches: 100%|██████████| 31/31 [00:23<00:00,  1.62it/s, train_loss=0.04]\n",
      "\u001b[A                                                                               "
     ]
    },
    {
     "name": "stdout",
     "output_type": "stream",
     "text": [
      "epoch 63 average loss: 0.1854\n"
     ]
    },
    {
     "name": "stderr",
     "output_type": "stream",
     "text": [
      "Epochs:  90%|█████████ | 63/70 [26:09<02:52, 24.67s/it]"
     ]
    },
    {
     "name": "stdout",
     "output_type": "stream",
     "text": [
      "1\n",
      "current epoch: 63 current AUC: 0.9906 current accuracy: 0.8820 best AUC: 0.9959 at epoch: 53\n",
      "----------\n",
      "epoch 64/70\n"
     ]
    },
    {
     "name": "stderr",
     "output_type": "stream",
     "text": [
      "\n",
      "\u001b[Aining Batches:   0%|          | 0/31 [00:00<?, ?it/s]\n",
      "\u001b[Aining Batches:   0%|          | 0/31 [00:00<?, ?it/s, train_loss=0.209]\n",
      "\u001b[Aining Batches:   3%|▎         | 1/31 [00:00<00:23,  1.29it/s, train_loss=0.209]\n",
      "\u001b[Aining Batches:   3%|▎         | 1/31 [00:01<00:23,  1.29it/s, train_loss=0.143]\n",
      "\u001b[Aining Batches:   6%|▋         | 2/31 [00:01<00:22,  1.27it/s, train_loss=0.143]\n",
      "\u001b[Aining Batches:   6%|▋         | 2/31 [00:02<00:22,  1.27it/s, train_loss=0.205]\n",
      "\u001b[Aining Batches:  10%|▉         | 3/31 [00:02<00:22,  1.27it/s, train_loss=0.205]\n",
      "\u001b[Aining Batches:  10%|▉         | 3/31 [00:03<00:22,  1.27it/s, train_loss=0.202]\n",
      "\u001b[Aining Batches:  13%|█▎        | 4/31 [00:03<00:21,  1.24it/s, train_loss=0.202]\n",
      "\u001b[Aining Batches:  13%|█▎        | 4/31 [00:03<00:21,  1.24it/s, train_loss=0.406]\n",
      "\u001b[Aining Batches:  16%|█▌        | 5/31 [00:03<00:20,  1.27it/s, train_loss=0.406]\n",
      "\u001b[Aining Batches:  16%|█▌        | 5/31 [00:04<00:20,  1.27it/s, train_loss=0.257]\n",
      "\u001b[Aining Batches:  19%|█▉        | 6/31 [00:04<00:19,  1.27it/s, train_loss=0.257]\n",
      "\u001b[Aining Batches:  19%|█▉        | 6/31 [00:05<00:19,  1.27it/s, train_loss=0.242]\n",
      "\u001b[Aining Batches:  23%|██▎       | 7/31 [00:05<00:18,  1.27it/s, train_loss=0.242]\n",
      "\u001b[Aining Batches:  23%|██▎       | 7/31 [00:06<00:18,  1.27it/s, train_loss=0.128]\n",
      "\u001b[Aining Batches:  26%|██▌       | 8/31 [00:06<00:18,  1.27it/s, train_loss=0.128]\n",
      "\u001b[Aining Batches:  26%|██▌       | 8/31 [00:07<00:18,  1.27it/s, train_loss=0.198]\n",
      "\u001b[Aining Batches:  29%|██▉       | 9/31 [00:07<00:17,  1.26it/s, train_loss=0.198]\n",
      "\u001b[Aining Batches:  29%|██▉       | 9/31 [00:07<00:17,  1.26it/s, train_loss=0.177]\n",
      "\u001b[Aining Batches:  32%|███▏      | 10/31 [00:07<00:16,  1.24it/s, train_loss=0.177]\n",
      "\u001b[Aining Batches:  32%|███▏      | 10/31 [00:08<00:16,  1.24it/s, train_loss=0.0361]\n",
      "\u001b[Aining Batches:  35%|███▌      | 11/31 [00:08<00:15,  1.27it/s, train_loss=0.0361]\n",
      "\u001b[Aining Batches:  35%|███▌      | 11/31 [00:09<00:15,  1.27it/s, train_loss=0.196] \n",
      "\u001b[Aining Batches:  39%|███▊      | 12/31 [00:09<00:15,  1.25it/s, train_loss=0.196]\n",
      "\u001b[Aining Batches:  39%|███▊      | 12/31 [00:10<00:15,  1.25it/s, train_loss=0.211]\n",
      "\u001b[Aining Batches:  42%|████▏     | 13/31 [00:10<00:14,  1.24it/s, train_loss=0.211]\n",
      "\u001b[Aining Batches:  42%|████▏     | 13/31 [00:11<00:14,  1.24it/s, train_loss=0.18] \n",
      "\u001b[Aining Batches:  45%|████▌     | 14/31 [00:11<00:13,  1.28it/s, train_loss=0.18]\n",
      "\u001b[Aining Batches:  45%|████▌     | 14/31 [00:11<00:13,  1.28it/s, train_loss=0.228]\n",
      "\u001b[Aining Batches:  48%|████▊     | 15/31 [00:11<00:12,  1.29it/s, train_loss=0.228]\n",
      "\u001b[Aining Batches:  48%|████▊     | 15/31 [00:12<00:12,  1.29it/s, train_loss=0.169]\n",
      "\u001b[Aining Batches:  52%|█████▏    | 16/31 [00:12<00:11,  1.26it/s, train_loss=0.169]\n",
      "\u001b[Aining Batches:  52%|█████▏    | 16/31 [00:13<00:11,  1.26it/s, train_loss=0.203]\n",
      "\u001b[Aining Batches:  55%|█████▍    | 17/31 [00:13<00:11,  1.25it/s, train_loss=0.203]\n",
      "\u001b[Aining Batches:  55%|█████▍    | 17/31 [00:14<00:11,  1.25it/s, train_loss=0.242]\n",
      "\u001b[Aining Batches:  58%|█████▊    | 18/31 [00:14<00:10,  1.26it/s, train_loss=0.242]\n",
      "\u001b[Aining Batches:  58%|█████▊    | 18/31 [00:14<00:10,  1.26it/s, train_loss=0.123]\n",
      "\u001b[Aining Batches:  61%|██████▏   | 19/31 [00:14<00:09,  1.30it/s, train_loss=0.123]\n",
      "\u001b[Aining Batches:  61%|██████▏   | 19/31 [00:15<00:09,  1.30it/s, train_loss=0.0811]\n",
      "\u001b[Aining Batches:  65%|██████▍   | 20/31 [00:15<00:08,  1.26it/s, train_loss=0.0811]\n",
      "\u001b[Aining Batches:  65%|██████▍   | 20/31 [00:16<00:08,  1.26it/s, train_loss=0.201] \n",
      "\u001b[Aining Batches:  68%|██████▊   | 21/31 [00:16<00:07,  1.26it/s, train_loss=0.201]\n",
      "\u001b[Aining Batches:  68%|██████▊   | 21/31 [00:17<00:07,  1.26it/s, train_loss=0.167]\n",
      "\u001b[Aining Batches:  71%|███████   | 22/31 [00:17<00:07,  1.25it/s, train_loss=0.167]\n",
      "\u001b[Aining Batches:  71%|███████   | 22/31 [00:18<00:07,  1.25it/s, train_loss=0.0682]\n",
      "\u001b[Aining Batches:  74%|███████▍  | 23/31 [00:18<00:06,  1.24it/s, train_loss=0.0682]\n",
      "\u001b[Aining Batches:  74%|███████▍  | 23/31 [00:19<00:06,  1.24it/s, train_loss=0.113] \n",
      "\u001b[Aining Batches:  77%|███████▋  | 24/31 [00:19<00:05,  1.25it/s, train_loss=0.113]\n",
      "\u001b[Aining Batches:  77%|███████▋  | 24/31 [00:19<00:05,  1.25it/s, train_loss=0.131]\n",
      "\u001b[Aining Batches:  81%|████████  | 25/31 [00:19<00:04,  1.27it/s, train_loss=0.131]\n",
      "\u001b[Aining Batches:  81%|████████  | 25/31 [00:20<00:04,  1.27it/s, train_loss=0.327]\n",
      "\u001b[Aining Batches:  84%|████████▍ | 26/31 [00:20<00:04,  1.24it/s, train_loss=0.327]\n",
      "\u001b[Aining Batches:  84%|████████▍ | 26/31 [00:21<00:04,  1.24it/s, train_loss=0.139]\n",
      "\u001b[Aining Batches:  87%|████████▋ | 27/31 [00:21<00:03,  1.25it/s, train_loss=0.139]\n",
      "\u001b[Aining Batches:  87%|████████▋ | 27/31 [00:22<00:03,  1.25it/s, train_loss=0.0766]\n",
      "\u001b[Aining Batches:  90%|█████████ | 28/31 [00:22<00:02,  1.23it/s, train_loss=0.0766]\n",
      "\u001b[Aining Batches:  90%|█████████ | 28/31 [00:23<00:02,  1.23it/s, train_loss=0.106] \n",
      "\u001b[Aining Batches:  94%|█████████▎| 29/31 [00:23<00:01,  1.20it/s, train_loss=0.106]\n",
      "\u001b[Aining Batches:  94%|█████████▎| 29/31 [00:23<00:01,  1.20it/s, train_loss=0.299]\n",
      "\u001b[Aining Batches:  97%|█████████▋| 30/31 [00:23<00:00,  1.22it/s, train_loss=0.299]\n",
      "\u001b[Aining Batches:  97%|█████████▋| 30/31 [00:24<00:00,  1.22it/s, train_loss=0.118]\n",
      "\u001b[Aining Batches: 100%|██████████| 31/31 [00:24<00:00,  1.50it/s, train_loss=0.118]\n",
      "\u001b[A                                                                                "
     ]
    },
    {
     "name": "stdout",
     "output_type": "stream",
     "text": [
      "epoch 64 average loss: 0.1800\n"
     ]
    },
    {
     "name": "stderr",
     "output_type": "stream",
     "text": [
      "Epochs:  91%|█████████▏| 64/70 [26:33<02:28, 24.72s/it]"
     ]
    },
    {
     "name": "stdout",
     "output_type": "stream",
     "text": [
      "1\n",
      "current epoch: 64 current AUC: 0.9891 current accuracy: 0.8820 best AUC: 0.9959 at epoch: 53\n",
      "----------\n",
      "epoch 65/70\n"
     ]
    },
    {
     "name": "stderr",
     "output_type": "stream",
     "text": [
      "\n",
      "\u001b[Aining Batches:   0%|          | 0/31 [00:00<?, ?it/s]\n",
      "\u001b[Aining Batches:   0%|          | 0/31 [00:00<?, ?it/s, train_loss=0.086]\n",
      "\u001b[Aining Batches:   3%|▎         | 1/31 [00:00<00:22,  1.32it/s, train_loss=0.086]\n",
      "\u001b[Aining Batches:   3%|▎         | 1/31 [00:01<00:22,  1.32it/s, train_loss=0.11] \n",
      "\u001b[Aining Batches:   6%|▋         | 2/31 [00:01<00:22,  1.29it/s, train_loss=0.11]\n",
      "\u001b[Aining Batches:   6%|▋         | 2/31 [00:02<00:22,  1.29it/s, train_loss=0.199]\n",
      "\u001b[Aining Batches:  10%|▉         | 3/31 [00:02<00:22,  1.25it/s, train_loss=0.199]\n",
      "\u001b[Aining Batches:  10%|▉         | 3/31 [00:03<00:22,  1.25it/s, train_loss=0.151]\n",
      "\u001b[Aining Batches:  13%|█▎        | 4/31 [00:03<00:21,  1.26it/s, train_loss=0.151]\n",
      "\u001b[Aining Batches:  13%|█▎        | 4/31 [00:03<00:21,  1.26it/s, train_loss=0.068]\n",
      "\u001b[Aining Batches:  16%|█▌        | 5/31 [00:03<00:20,  1.24it/s, train_loss=0.068]\n",
      "\u001b[Aining Batches:  16%|█▌        | 5/31 [00:04<00:20,  1.24it/s, train_loss=0.146]\n",
      "\u001b[Aining Batches:  19%|█▉        | 6/31 [00:04<00:20,  1.24it/s, train_loss=0.146]\n",
      "\u001b[Aining Batches:  19%|█▉        | 6/31 [00:05<00:20,  1.24it/s, train_loss=0.181]\n",
      "\u001b[Aining Batches:  23%|██▎       | 7/31 [00:05<00:19,  1.24it/s, train_loss=0.181]\n",
      "\u001b[Aining Batches:  23%|██▎       | 7/31 [00:06<00:19,  1.24it/s, train_loss=0.138]\n",
      "\u001b[Aining Batches:  26%|██▌       | 8/31 [00:06<00:18,  1.26it/s, train_loss=0.138]\n",
      "\u001b[Aining Batches:  26%|██▌       | 8/31 [00:07<00:18,  1.26it/s, train_loss=0.147]\n",
      "\u001b[Aining Batches:  29%|██▉       | 9/31 [00:07<00:17,  1.26it/s, train_loss=0.147]\n",
      "\u001b[Aining Batches:  29%|██▉       | 9/31 [00:07<00:17,  1.26it/s, train_loss=0.0954]\n",
      "\u001b[Aining Batches:  32%|███▏      | 10/31 [00:07<00:16,  1.25it/s, train_loss=0.0954]\n",
      "\u001b[Aining Batches:  32%|███▏      | 10/31 [00:08<00:16,  1.25it/s, train_loss=0.122] \n",
      "\u001b[Aining Batches:  35%|███▌      | 11/31 [00:08<00:16,  1.24it/s, train_loss=0.122]\n",
      "\u001b[Aining Batches:  35%|███▌      | 11/31 [00:09<00:16,  1.24it/s, train_loss=0.377]\n",
      "\u001b[Aining Batches:  39%|███▊      | 12/31 [00:09<00:15,  1.24it/s, train_loss=0.377]\n",
      "\u001b[Aining Batches:  39%|███▊      | 12/31 [00:10<00:15,  1.24it/s, train_loss=0.0997]\n",
      "\u001b[Aining Batches:  42%|████▏     | 13/31 [00:10<00:14,  1.24it/s, train_loss=0.0997]\n",
      "\u001b[Aining Batches:  42%|████▏     | 13/31 [00:11<00:14,  1.24it/s, train_loss=0.163] \n",
      "\u001b[Aining Batches:  45%|████▌     | 14/31 [00:11<00:13,  1.23it/s, train_loss=0.163]\n",
      "\u001b[Aining Batches:  45%|████▌     | 14/31 [00:12<00:13,  1.23it/s, train_loss=0.147]\n",
      "\u001b[Aining Batches:  48%|████▊     | 15/31 [00:12<00:12,  1.24it/s, train_loss=0.147]\n",
      "\u001b[Aining Batches:  48%|████▊     | 15/31 [00:12<00:12,  1.24it/s, train_loss=0.393]\n",
      "\u001b[Aining Batches:  52%|█████▏    | 16/31 [00:12<00:12,  1.25it/s, train_loss=0.393]\n",
      "\u001b[Aining Batches:  52%|█████▏    | 16/31 [00:13<00:12,  1.25it/s, train_loss=0.158]\n",
      "\u001b[Aining Batches:  55%|█████▍    | 17/31 [00:13<00:11,  1.25it/s, train_loss=0.158]\n",
      "\u001b[Aining Batches:  55%|█████▍    | 17/31 [00:14<00:11,  1.25it/s, train_loss=0.291]\n",
      "\u001b[Aining Batches:  58%|█████▊    | 18/31 [00:14<00:10,  1.24it/s, train_loss=0.291]\n",
      "\u001b[Aining Batches:  58%|█████▊    | 18/31 [00:15<00:10,  1.24it/s, train_loss=0.167]\n",
      "\u001b[Aining Batches:  61%|██████▏   | 19/31 [00:15<00:09,  1.23it/s, train_loss=0.167]\n",
      "\u001b[Aining Batches:  61%|██████▏   | 19/31 [00:16<00:09,  1.23it/s, train_loss=0.313]\n",
      "\u001b[Aining Batches:  65%|██████▍   | 20/31 [00:16<00:08,  1.25it/s, train_loss=0.313]\n",
      "\u001b[Aining Batches:  65%|██████▍   | 20/31 [00:16<00:08,  1.25it/s, train_loss=0.282]\n",
      "\u001b[Aining Batches:  68%|██████▊   | 21/31 [00:16<00:07,  1.27it/s, train_loss=0.282]\n",
      "\u001b[Aining Batches:  68%|██████▊   | 21/31 [00:17<00:07,  1.27it/s, train_loss=0.256]\n",
      "\u001b[Aining Batches:  71%|███████   | 22/31 [00:17<00:07,  1.26it/s, train_loss=0.256]\n",
      "\u001b[Aining Batches:  71%|███████   | 22/31 [00:18<00:07,  1.26it/s, train_loss=0.185]\n",
      "\u001b[Aining Batches:  74%|███████▍  | 23/31 [00:18<00:06,  1.25it/s, train_loss=0.185]\n",
      "\u001b[Aining Batches:  74%|███████▍  | 23/31 [00:19<00:06,  1.25it/s, train_loss=0.287]\n",
      "\u001b[Aining Batches:  77%|███████▋  | 24/31 [00:19<00:05,  1.25it/s, train_loss=0.287]\n",
      "\u001b[Aining Batches:  77%|███████▋  | 24/31 [00:20<00:05,  1.25it/s, train_loss=0.0992]\n",
      "\u001b[Aining Batches:  81%|████████  | 25/31 [00:20<00:04,  1.25it/s, train_loss=0.0992]\n",
      "\u001b[Aining Batches:  81%|████████  | 25/31 [00:20<00:04,  1.25it/s, train_loss=0.185] \n",
      "\u001b[Aining Batches:  84%|████████▍ | 26/31 [00:20<00:03,  1.27it/s, train_loss=0.185]\n",
      "\u001b[Aining Batches:  84%|████████▍ | 26/31 [00:21<00:03,  1.27it/s, train_loss=0.247]\n",
      "\u001b[Aining Batches:  87%|████████▋ | 27/31 [00:21<00:03,  1.27it/s, train_loss=0.247]\n",
      "\u001b[Aining Batches:  87%|████████▋ | 27/31 [00:22<00:03,  1.27it/s, train_loss=0.386]\n",
      "\u001b[Aining Batches:  90%|█████████ | 28/31 [00:22<00:02,  1.25it/s, train_loss=0.386]\n",
      "\u001b[Aining Batches:  90%|█████████ | 28/31 [00:23<00:02,  1.25it/s, train_loss=0.181]\n",
      "\u001b[Aining Batches:  94%|█████████▎| 29/31 [00:23<00:01,  1.25it/s, train_loss=0.181]\n",
      "\u001b[Aining Batches:  94%|█████████▎| 29/31 [00:24<00:01,  1.25it/s, train_loss=0.306]\n",
      "\u001b[Aining Batches:  97%|█████████▋| 30/31 [00:24<00:00,  1.24it/s, train_loss=0.306]\n",
      "\u001b[Aining Batches:  97%|█████████▋| 30/31 [00:24<00:00,  1.24it/s, train_loss=0.592]\n",
      "\u001b[Aining Batches: 100%|██████████| 31/31 [00:24<00:00,  1.55it/s, train_loss=0.592]\n",
      "\u001b[A                                                                                "
     ]
    },
    {
     "name": "stdout",
     "output_type": "stream",
     "text": [
      "epoch 65 average loss: 0.2115\n"
     ]
    },
    {
     "name": "stderr",
     "output_type": "stream",
     "text": [
      "Epochs:  93%|█████████▎| 65/70 [26:58<02:03, 24.77s/it]"
     ]
    },
    {
     "name": "stdout",
     "output_type": "stream",
     "text": [
      "1\n",
      "current epoch: 65 current AUC: 0.9916 current accuracy: 0.8758 best AUC: 0.9959 at epoch: 53\n",
      "----------\n",
      "epoch 66/70\n"
     ]
    },
    {
     "name": "stderr",
     "output_type": "stream",
     "text": [
      "\n",
      "\u001b[Aining Batches:   0%|          | 0/31 [00:00<?, ?it/s]\n",
      "\u001b[Aining Batches:   0%|          | 0/31 [00:00<?, ?it/s, train_loss=0.223]\n",
      "\u001b[Aining Batches:   3%|▎         | 1/31 [00:00<00:23,  1.25it/s, train_loss=0.223]\n",
      "\u001b[Aining Batches:   3%|▎         | 1/31 [00:01<00:23,  1.25it/s, train_loss=0.414]\n",
      "\u001b[Aining Batches:   6%|▋         | 2/31 [00:01<00:23,  1.24it/s, train_loss=0.414]\n",
      "\u001b[Aining Batches:   6%|▋         | 2/31 [00:02<00:23,  1.24it/s, train_loss=0.224]\n",
      "\u001b[Aining Batches:  10%|▉         | 3/31 [00:02<00:21,  1.29it/s, train_loss=0.224]\n",
      "\u001b[Aining Batches:  10%|▉         | 3/31 [00:03<00:21,  1.29it/s, train_loss=0.109]\n",
      "\u001b[Aining Batches:  13%|█▎        | 4/31 [00:03<00:21,  1.24it/s, train_loss=0.109]\n",
      "\u001b[Aining Batches:  13%|█▎        | 4/31 [00:03<00:21,  1.24it/s, train_loss=0.159]\n",
      "\u001b[Aining Batches:  16%|█▌        | 5/31 [00:03<00:20,  1.25it/s, train_loss=0.159]\n",
      "\u001b[Aining Batches:  16%|█▌        | 5/31 [00:04<00:20,  1.25it/s, train_loss=0.38] \n",
      "\u001b[Aining Batches:  19%|█▉        | 6/31 [00:04<00:19,  1.28it/s, train_loss=0.38]\n",
      "\u001b[Aining Batches:  19%|█▉        | 6/31 [00:05<00:19,  1.28it/s, train_loss=0.213]\n",
      "\u001b[Aining Batches:  23%|██▎       | 7/31 [00:05<00:18,  1.29it/s, train_loss=0.213]\n",
      "\u001b[Aining Batches:  23%|██▎       | 7/31 [00:06<00:18,  1.29it/s, train_loss=0.214]\n",
      "\u001b[Aining Batches:  26%|██▌       | 8/31 [00:06<00:17,  1.29it/s, train_loss=0.214]\n",
      "\u001b[Aining Batches:  26%|██▌       | 8/31 [00:07<00:17,  1.29it/s, train_loss=0.431]\n",
      "\u001b[Aining Batches:  29%|██▉       | 9/31 [00:07<00:17,  1.28it/s, train_loss=0.431]\n",
      "\u001b[Aining Batches:  29%|██▉       | 9/31 [00:07<00:17,  1.28it/s, train_loss=0.163]\n",
      "\u001b[Aining Batches:  32%|███▏      | 10/31 [00:07<00:16,  1.28it/s, train_loss=0.163]\n",
      "\u001b[Aining Batches:  32%|███▏      | 10/31 [00:08<00:16,  1.28it/s, train_loss=0.187]\n",
      "\u001b[Aining Batches:  35%|███▌      | 11/31 [00:08<00:15,  1.25it/s, train_loss=0.187]\n",
      "\u001b[Aining Batches:  35%|███▌      | 11/31 [00:09<00:15,  1.25it/s, train_loss=0.267]\n",
      "\u001b[Aining Batches:  39%|███▊      | 12/31 [00:09<00:15,  1.24it/s, train_loss=0.267]\n",
      "\u001b[Aining Batches:  39%|███▊      | 12/31 [00:10<00:15,  1.24it/s, train_loss=0.0917]\n",
      "\u001b[Aining Batches:  42%|████▏     | 13/31 [00:10<00:14,  1.23it/s, train_loss=0.0917]\n",
      "\u001b[Aining Batches:  42%|████▏     | 13/31 [00:11<00:14,  1.23it/s, train_loss=0.133] \n",
      "\u001b[Aining Batches:  45%|████▌     | 14/31 [00:11<00:14,  1.20it/s, train_loss=0.133]\n",
      "\u001b[Aining Batches:  45%|████▌     | 14/31 [00:12<00:14,  1.20it/s, train_loss=0.168]\n",
      "\u001b[Aining Batches:  48%|████▊     | 15/31 [00:12<00:13,  1.22it/s, train_loss=0.168]\n",
      "\u001b[Aining Batches:  48%|████▊     | 15/31 [00:12<00:13,  1.22it/s, train_loss=0.251]\n",
      "\u001b[Aining Batches:  52%|█████▏    | 16/31 [00:12<00:12,  1.22it/s, train_loss=0.251]\n",
      "\u001b[Aining Batches:  52%|█████▏    | 16/31 [00:13<00:12,  1.22it/s, train_loss=0.262]\n",
      "\u001b[Aining Batches:  55%|█████▍    | 17/31 [00:13<00:11,  1.22it/s, train_loss=0.262]\n",
      "\u001b[Aining Batches:  55%|█████▍    | 17/31 [00:14<00:11,  1.22it/s, train_loss=0.26] \n",
      "\u001b[Aining Batches:  58%|█████▊    | 18/31 [00:14<00:10,  1.21it/s, train_loss=0.26]\n",
      "\u001b[Aining Batches:  58%|█████▊    | 18/31 [00:15<00:10,  1.21it/s, train_loss=0.188]\n",
      "\u001b[Aining Batches:  61%|██████▏   | 19/31 [00:15<00:09,  1.22it/s, train_loss=0.188]\n",
      "\u001b[Aining Batches:  61%|██████▏   | 19/31 [00:16<00:09,  1.22it/s, train_loss=0.411]\n",
      "\u001b[Aining Batches:  65%|██████▍   | 20/31 [00:16<00:08,  1.24it/s, train_loss=0.411]\n",
      "\u001b[Aining Batches:  65%|██████▍   | 20/31 [00:16<00:08,  1.24it/s, train_loss=0.181]\n",
      "\u001b[Aining Batches:  68%|██████▊   | 21/31 [00:16<00:08,  1.24it/s, train_loss=0.181]\n",
      "\u001b[Aining Batches:  68%|██████▊   | 21/31 [00:17<00:08,  1.24it/s, train_loss=0.142]\n",
      "\u001b[Aining Batches:  71%|███████   | 22/31 [00:17<00:07,  1.26it/s, train_loss=0.142]\n",
      "\u001b[Aining Batches:  71%|███████   | 22/31 [00:18<00:07,  1.26it/s, train_loss=0.226]\n",
      "\u001b[Aining Batches:  74%|███████▍  | 23/31 [00:18<00:06,  1.26it/s, train_loss=0.226]\n",
      "\u001b[Aining Batches:  74%|███████▍  | 23/31 [00:19<00:06,  1.26it/s, train_loss=0.244]\n",
      "\u001b[Aining Batches:  77%|███████▋  | 24/31 [00:19<00:05,  1.26it/s, train_loss=0.244]\n",
      "\u001b[Aining Batches:  77%|███████▋  | 24/31 [00:20<00:05,  1.26it/s, train_loss=0.165]\n",
      "\u001b[Aining Batches:  81%|████████  | 25/31 [00:20<00:04,  1.24it/s, train_loss=0.165]\n",
      "\u001b[Aining Batches:  81%|████████  | 25/31 [00:20<00:04,  1.24it/s, train_loss=0.288]\n",
      "\u001b[Aining Batches:  84%|████████▍ | 26/31 [00:20<00:04,  1.23it/s, train_loss=0.288]\n",
      "\u001b[Aining Batches:  84%|████████▍ | 26/31 [00:21<00:04,  1.23it/s, train_loss=0.215]\n",
      "\u001b[Aining Batches:  87%|████████▋ | 27/31 [00:21<00:03,  1.24it/s, train_loss=0.215]\n",
      "\u001b[Aining Batches:  87%|████████▋ | 27/31 [00:22<00:03,  1.24it/s, train_loss=0.22] \n",
      "\u001b[Aining Batches:  90%|█████████ | 28/31 [00:22<00:02,  1.24it/s, train_loss=0.22]\n",
      "\u001b[Aining Batches:  90%|█████████ | 28/31 [00:23<00:02,  1.24it/s, train_loss=0.159]\n",
      "\u001b[Aining Batches:  94%|█████████▎| 29/31 [00:23<00:01,  1.27it/s, train_loss=0.159]\n",
      "\u001b[Aining Batches:  94%|█████████▎| 29/31 [00:24<00:01,  1.27it/s, train_loss=0.15] \n",
      "\u001b[Aining Batches:  97%|█████████▋| 30/31 [00:24<00:00,  1.27it/s, train_loss=0.15]\n",
      "\u001b[Aining Batches:  97%|█████████▋| 30/31 [00:24<00:00,  1.27it/s, train_loss=0.191]\n",
      "\u001b[Aining Batches: 100%|██████████| 31/31 [00:24<00:00,  1.56it/s, train_loss=0.191]\n",
      "\u001b[A                                                                                "
     ]
    },
    {
     "name": "stdout",
     "output_type": "stream",
     "text": [
      "epoch 66 average loss: 0.2235\n"
     ]
    },
    {
     "name": "stderr",
     "output_type": "stream",
     "text": [
      "Epochs:  94%|█████████▍| 66/70 [27:23<01:39, 24.82s/it]"
     ]
    },
    {
     "name": "stdout",
     "output_type": "stream",
     "text": [
      "1\n",
      "current epoch: 66 current AUC: 0.9906 current accuracy: 0.8758 best AUC: 0.9959 at epoch: 53\n",
      "----------\n",
      "epoch 67/70\n"
     ]
    },
    {
     "name": "stderr",
     "output_type": "stream",
     "text": [
      "\n",
      "\u001b[Aining Batches:   0%|          | 0/31 [00:00<?, ?it/s]\n",
      "\u001b[Aining Batches:   0%|          | 0/31 [00:00<?, ?it/s, train_loss=0.173]\n",
      "\u001b[Aining Batches:   3%|▎         | 1/31 [00:00<00:23,  1.28it/s, train_loss=0.173]\n",
      "\u001b[Aining Batches:   3%|▎         | 1/31 [00:01<00:23,  1.28it/s, train_loss=0.228]\n",
      "\u001b[Aining Batches:   6%|▋         | 2/31 [00:01<00:23,  1.24it/s, train_loss=0.228]\n",
      "\u001b[Aining Batches:   6%|▋         | 2/31 [00:02<00:23,  1.24it/s, train_loss=0.232]\n",
      "\u001b[Aining Batches:  10%|▉         | 3/31 [00:02<00:22,  1.26it/s, train_loss=0.232]\n",
      "\u001b[Aining Batches:  10%|▉         | 3/31 [00:03<00:22,  1.26it/s, train_loss=0.17] \n",
      "\u001b[Aining Batches:  13%|█▎        | 4/31 [00:03<00:21,  1.23it/s, train_loss=0.17]\n",
      "\u001b[Aining Batches:  13%|█▎        | 4/31 [00:04<00:21,  1.23it/s, train_loss=0.109]\n",
      "\u001b[Aining Batches:  16%|█▌        | 5/31 [00:04<00:21,  1.23it/s, train_loss=0.109]\n",
      "\u001b[Aining Batches:  16%|█▌        | 5/31 [00:04<00:21,  1.23it/s, train_loss=0.101]\n",
      "\u001b[Aining Batches:  19%|█▉        | 6/31 [00:04<00:19,  1.26it/s, train_loss=0.101]\n",
      "\u001b[Aining Batches:  19%|█▉        | 6/31 [00:05<00:19,  1.26it/s, train_loss=0.271]\n",
      "\u001b[Aining Batches:  23%|██▎       | 7/31 [00:05<00:19,  1.26it/s, train_loss=0.271]\n",
      "\u001b[Aining Batches:  23%|██▎       | 7/31 [00:06<00:19,  1.26it/s, train_loss=0.197]\n",
      "\u001b[Aining Batches:  26%|██▌       | 8/31 [00:06<00:18,  1.26it/s, train_loss=0.197]\n",
      "\u001b[Aining Batches:  26%|██▌       | 8/31 [00:07<00:18,  1.26it/s, train_loss=0.291]\n",
      "\u001b[Aining Batches:  29%|██▉       | 9/31 [00:07<00:17,  1.24it/s, train_loss=0.291]\n",
      "\u001b[Aining Batches:  29%|██▉       | 9/31 [00:07<00:17,  1.24it/s, train_loss=0.141]\n",
      "\u001b[Aining Batches:  32%|███▏      | 10/31 [00:07<00:16,  1.25it/s, train_loss=0.141]\n",
      "\u001b[Aining Batches:  32%|███▏      | 10/31 [00:08<00:16,  1.25it/s, train_loss=0.105]\n",
      "\u001b[Aining Batches:  35%|███▌      | 11/31 [00:08<00:16,  1.25it/s, train_loss=0.105]\n",
      "\u001b[Aining Batches:  35%|███▌      | 11/31 [00:09<00:16,  1.25it/s, train_loss=0.133]\n",
      "\u001b[Aining Batches:  39%|███▊      | 12/31 [00:09<00:15,  1.24it/s, train_loss=0.133]\n",
      "\u001b[Aining Batches:  39%|███▊      | 12/31 [00:10<00:15,  1.24it/s, train_loss=0.227]\n",
      "\u001b[Aining Batches:  42%|████▏     | 13/31 [00:10<00:14,  1.24it/s, train_loss=0.227]\n",
      "\u001b[Aining Batches:  42%|████▏     | 13/31 [00:11<00:14,  1.24it/s, train_loss=0.13] \n",
      "\u001b[Aining Batches:  45%|████▌     | 14/31 [00:11<00:13,  1.25it/s, train_loss=0.13]\n",
      "\u001b[Aining Batches:  45%|████▌     | 14/31 [00:12<00:13,  1.25it/s, train_loss=0.118]\n",
      "\u001b[Aining Batches:  48%|████▊     | 15/31 [00:12<00:12,  1.25it/s, train_loss=0.118]\n",
      "\u001b[Aining Batches:  48%|████▊     | 15/31 [00:12<00:12,  1.25it/s, train_loss=0.19] \n",
      "\u001b[Aining Batches:  52%|█████▏    | 16/31 [00:12<00:11,  1.28it/s, train_loss=0.19]\n",
      "\u001b[Aining Batches:  52%|█████▏    | 16/31 [00:13<00:11,  1.28it/s, train_loss=0.174]\n",
      "\u001b[Aining Batches:  55%|█████▍    | 17/31 [00:13<00:11,  1.26it/s, train_loss=0.174]\n",
      "\u001b[Aining Batches:  55%|█████▍    | 17/31 [00:14<00:11,  1.26it/s, train_loss=0.14] \n",
      "\u001b[Aining Batches:  58%|█████▊    | 18/31 [00:14<00:10,  1.25it/s, train_loss=0.14]\n",
      "\u001b[Aining Batches:  58%|█████▊    | 18/31 [00:15<00:10,  1.25it/s, train_loss=0.142]\n",
      "\u001b[Aining Batches:  61%|██████▏   | 19/31 [00:15<00:09,  1.26it/s, train_loss=0.142]\n",
      "\u001b[Aining Batches:  61%|██████▏   | 19/31 [00:15<00:09,  1.26it/s, train_loss=0.154]\n",
      "\u001b[Aining Batches:  65%|██████▍   | 20/31 [00:15<00:08,  1.31it/s, train_loss=0.154]\n",
      "\u001b[Aining Batches:  65%|██████▍   | 20/31 [00:16<00:08,  1.31it/s, train_loss=0.149]\n",
      "\u001b[Aining Batches:  68%|██████▊   | 21/31 [00:16<00:07,  1.31it/s, train_loss=0.149]\n",
      "\u001b[Aining Batches:  68%|██████▊   | 21/31 [00:17<00:07,  1.31it/s, train_loss=0.126]\n",
      "\u001b[Aining Batches:  71%|███████   | 22/31 [00:17<00:06,  1.29it/s, train_loss=0.126]\n",
      "\u001b[Aining Batches:  71%|███████   | 22/31 [00:18<00:06,  1.29it/s, train_loss=0.141]\n",
      "\u001b[Aining Batches:  74%|███████▍  | 23/31 [00:18<00:06,  1.31it/s, train_loss=0.141]\n",
      "\u001b[Aining Batches:  74%|███████▍  | 23/31 [00:18<00:06,  1.31it/s, train_loss=0.0907]\n",
      "\u001b[Aining Batches:  77%|███████▋  | 24/31 [00:18<00:05,  1.28it/s, train_loss=0.0907]\n",
      "\u001b[Aining Batches:  77%|███████▋  | 24/31 [00:19<00:05,  1.28it/s, train_loss=0.277] \n",
      "\u001b[Aining Batches:  81%|████████  | 25/31 [00:19<00:04,  1.27it/s, train_loss=0.277]\n",
      "\u001b[Aining Batches:  81%|████████  | 25/31 [00:20<00:04,  1.27it/s, train_loss=0.136]\n",
      "\u001b[Aining Batches:  84%|████████▍ | 26/31 [00:20<00:03,  1.28it/s, train_loss=0.136]\n",
      "\u001b[Aining Batches:  84%|████████▍ | 26/31 [00:21<00:03,  1.28it/s, train_loss=0.268]\n",
      "\u001b[Aining Batches:  87%|████████▋ | 27/31 [00:21<00:03,  1.29it/s, train_loss=0.268]\n",
      "\u001b[Aining Batches:  87%|████████▋ | 27/31 [00:22<00:03,  1.29it/s, train_loss=0.171]\n",
      "\u001b[Aining Batches:  90%|█████████ | 28/31 [00:22<00:02,  1.30it/s, train_loss=0.171]\n",
      "\u001b[Aining Batches:  90%|█████████ | 28/31 [00:22<00:02,  1.30it/s, train_loss=0.147]\n",
      "\u001b[Aining Batches:  94%|█████████▎| 29/31 [00:22<00:01,  1.25it/s, train_loss=0.147]\n",
      "\u001b[Aining Batches:  94%|█████████▎| 29/31 [00:23<00:01,  1.25it/s, train_loss=0.228]\n",
      "\u001b[Aining Batches:  97%|█████████▋| 30/31 [00:23<00:00,  1.22it/s, train_loss=0.228]\n",
      "\u001b[Aining Batches:  97%|█████████▋| 30/31 [00:24<00:00,  1.22it/s, train_loss=0.634]\n",
      "\u001b[Aining Batches: 100%|██████████| 31/31 [00:24<00:00,  1.51it/s, train_loss=0.634]\n",
      "\u001b[A                                                                                "
     ]
    },
    {
     "name": "stdout",
     "output_type": "stream",
     "text": [
      "epoch 67 average loss: 0.1869\n"
     ]
    },
    {
     "name": "stderr",
     "output_type": "stream",
     "text": [
      "Epochs:  96%|█████████▌| 67/70 [27:48<01:14, 24.79s/it]"
     ]
    },
    {
     "name": "stdout",
     "output_type": "stream",
     "text": [
      "1\n",
      "current epoch: 67 current AUC: 0.9918 current accuracy: 0.8944 best AUC: 0.9959 at epoch: 53\n",
      "----------\n",
      "epoch 68/70\n"
     ]
    },
    {
     "name": "stderr",
     "output_type": "stream",
     "text": [
      "\n",
      "\u001b[Aining Batches:   0%|          | 0/31 [00:00<?, ?it/s]\n",
      "\u001b[Aining Batches:   0%|          | 0/31 [00:00<?, ?it/s, train_loss=0.139]\n",
      "\u001b[Aining Batches:   3%|▎         | 1/31 [00:00<00:23,  1.26it/s, train_loss=0.139]\n",
      "\u001b[Aining Batches:   3%|▎         | 1/31 [00:01<00:23,  1.26it/s, train_loss=0.162]\n",
      "\u001b[Aining Batches:   6%|▋         | 2/31 [00:01<00:23,  1.22it/s, train_loss=0.162]\n",
      "\u001b[Aining Batches:   6%|▋         | 2/31 [00:02<00:23,  1.22it/s, train_loss=0.16] \n",
      "\u001b[Aining Batches:  10%|▉         | 3/31 [00:02<00:22,  1.25it/s, train_loss=0.16]\n",
      "\u001b[Aining Batches:  10%|▉         | 3/31 [00:03<00:22,  1.25it/s, train_loss=0.0814]\n",
      "\u001b[Aining Batches:  13%|█▎        | 4/31 [00:03<00:21,  1.23it/s, train_loss=0.0814]\n",
      "\u001b[Aining Batches:  13%|█▎        | 4/31 [00:04<00:21,  1.23it/s, train_loss=0.207] \n",
      "\u001b[Aining Batches:  16%|█▌        | 5/31 [00:04<00:21,  1.21it/s, train_loss=0.207]\n",
      "\u001b[Aining Batches:  16%|█▌        | 5/31 [00:04<00:21,  1.21it/s, train_loss=0.207]\n",
      "\u001b[Aining Batches:  19%|█▉        | 6/31 [00:04<00:20,  1.24it/s, train_loss=0.207]\n",
      "\u001b[Aining Batches:  19%|█▉        | 6/31 [00:05<00:20,  1.24it/s, train_loss=0.167]\n",
      "\u001b[Aining Batches:  23%|██▎       | 7/31 [00:05<00:19,  1.24it/s, train_loss=0.167]\n",
      "\u001b[Aining Batches:  23%|██▎       | 7/31 [00:06<00:19,  1.24it/s, train_loss=0.113]\n",
      "\u001b[Aining Batches:  26%|██▌       | 8/31 [00:06<00:18,  1.25it/s, train_loss=0.113]\n",
      "\u001b[Aining Batches:  26%|██▌       | 8/31 [00:07<00:18,  1.25it/s, train_loss=0.287]\n",
      "\u001b[Aining Batches:  29%|██▉       | 9/31 [00:07<00:17,  1.22it/s, train_loss=0.287]\n",
      "\u001b[Aining Batches:  29%|██▉       | 9/31 [00:08<00:17,  1.22it/s, train_loss=0.242]\n",
      "\u001b[Aining Batches:  32%|███▏      | 10/31 [00:08<00:17,  1.23it/s, train_loss=0.242]\n",
      "\u001b[Aining Batches:  32%|███▏      | 10/31 [00:08<00:17,  1.23it/s, train_loss=0.149]\n",
      "\u001b[Aining Batches:  35%|███▌      | 11/31 [00:08<00:16,  1.24it/s, train_loss=0.149]\n",
      "\u001b[Aining Batches:  35%|███▌      | 11/31 [00:09<00:16,  1.24it/s, train_loss=0.228]\n",
      "\u001b[Aining Batches:  39%|███▊      | 12/31 [00:09<00:15,  1.25it/s, train_loss=0.228]\n",
      "\u001b[Aining Batches:  39%|███▊      | 12/31 [00:10<00:15,  1.25it/s, train_loss=0.206]\n",
      "\u001b[Aining Batches:  42%|████▏     | 13/31 [00:10<00:14,  1.23it/s, train_loss=0.206]\n",
      "\u001b[Aining Batches:  42%|████▏     | 13/31 [00:11<00:14,  1.23it/s, train_loss=0.236]\n",
      "\u001b[Aining Batches:  45%|████▌     | 14/31 [00:11<00:13,  1.24it/s, train_loss=0.236]\n",
      "\u001b[Aining Batches:  45%|████▌     | 14/31 [00:12<00:13,  1.24it/s, train_loss=0.0762]\n",
      "\u001b[Aining Batches:  48%|████▊     | 15/31 [00:12<00:12,  1.26it/s, train_loss=0.0762]\n",
      "\u001b[Aining Batches:  48%|████▊     | 15/31 [00:12<00:12,  1.26it/s, train_loss=0.274] \n",
      "\u001b[Aining Batches:  52%|█████▏    | 16/31 [00:12<00:11,  1.25it/s, train_loss=0.274]\n",
      "\u001b[Aining Batches:  52%|█████▏    | 16/31 [00:13<00:11,  1.25it/s, train_loss=0.206]\n",
      "\u001b[Aining Batches:  55%|█████▍    | 17/31 [00:13<00:11,  1.25it/s, train_loss=0.206]\n",
      "\u001b[Aining Batches:  55%|█████▍    | 17/31 [00:14<00:11,  1.25it/s, train_loss=0.133]\n",
      "\u001b[Aining Batches:  58%|█████▊    | 18/31 [00:14<00:10,  1.25it/s, train_loss=0.133]\n",
      "\u001b[Aining Batches:  58%|█████▊    | 18/31 [00:15<00:10,  1.25it/s, train_loss=0.114]\n",
      "\u001b[Aining Batches:  61%|██████▏   | 19/31 [00:15<00:09,  1.23it/s, train_loss=0.114]\n",
      "\u001b[Aining Batches:  61%|██████▏   | 19/31 [00:16<00:09,  1.23it/s, train_loss=0.205]\n",
      "\u001b[Aining Batches:  65%|██████▍   | 20/31 [00:16<00:08,  1.25it/s, train_loss=0.205]\n",
      "\u001b[Aining Batches:  65%|██████▍   | 20/31 [00:16<00:08,  1.25it/s, train_loss=0.2]  \n",
      "\u001b[Aining Batches:  68%|██████▊   | 21/31 [00:16<00:08,  1.24it/s, train_loss=0.2]\n",
      "\u001b[Aining Batches:  68%|██████▊   | 21/31 [00:17<00:08,  1.24it/s, train_loss=0.0969]\n",
      "\u001b[Aining Batches:  71%|███████   | 22/31 [00:17<00:07,  1.28it/s, train_loss=0.0969]\n",
      "\u001b[Aining Batches:  71%|███████   | 22/31 [00:18<00:07,  1.28it/s, train_loss=0.202] \n",
      "\u001b[Aining Batches:  74%|███████▍  | 23/31 [00:18<00:06,  1.26it/s, train_loss=0.202]\n",
      "\u001b[Aining Batches:  74%|███████▍  | 23/31 [00:19<00:06,  1.26it/s, train_loss=0.29] \n",
      "\u001b[Aining Batches:  77%|███████▋  | 24/31 [00:19<00:05,  1.26it/s, train_loss=0.29]\n",
      "\u001b[Aining Batches:  77%|███████▋  | 24/31 [00:20<00:05,  1.26it/s, train_loss=0.201]\n",
      "\u001b[Aining Batches:  81%|████████  | 25/31 [00:20<00:04,  1.25it/s, train_loss=0.201]\n",
      "\u001b[Aining Batches:  81%|████████  | 25/31 [00:20<00:04,  1.25it/s, train_loss=0.39] \n",
      "\u001b[Aining Batches:  84%|████████▍ | 26/31 [00:20<00:03,  1.25it/s, train_loss=0.39]\n",
      "\u001b[Aining Batches:  84%|████████▍ | 26/31 [00:21<00:03,  1.25it/s, train_loss=0.204]\n",
      "\u001b[Aining Batches:  87%|████████▋ | 27/31 [00:21<00:03,  1.27it/s, train_loss=0.204]\n",
      "\u001b[Aining Batches:  87%|████████▋ | 27/31 [00:22<00:03,  1.27it/s, train_loss=0.123]\n",
      "\u001b[Aining Batches:  90%|█████████ | 28/31 [00:22<00:02,  1.29it/s, train_loss=0.123]\n",
      "\u001b[Aining Batches:  90%|█████████ | 28/31 [00:23<00:02,  1.29it/s, train_loss=0.184]\n",
      "\u001b[Aining Batches:  94%|█████████▎| 29/31 [00:23<00:01,  1.29it/s, train_loss=0.184]\n",
      "\u001b[Aining Batches:  94%|█████████▎| 29/31 [00:23<00:01,  1.29it/s, train_loss=0.288]\n",
      "\u001b[Aining Batches:  97%|█████████▋| 30/31 [00:23<00:00,  1.28it/s, train_loss=0.288]\n",
      "\u001b[Aining Batches:  97%|█████████▋| 30/31 [00:24<00:00,  1.28it/s, train_loss=0.273]\n",
      "\u001b[Aining Batches: 100%|██████████| 31/31 [00:24<00:00,  1.60it/s, train_loss=0.273]\n",
      "\u001b[A                                                                                "
     ]
    },
    {
     "name": "stdout",
     "output_type": "stream",
     "text": [
      "epoch 68 average loss: 0.1949\n"
     ]
    },
    {
     "name": "stderr",
     "output_type": "stream",
     "text": [
      "Epochs:  97%|█████████▋| 68/70 [28:13<00:49, 24.80s/it]"
     ]
    },
    {
     "name": "stdout",
     "output_type": "stream",
     "text": [
      "1\n",
      "current epoch: 68 current AUC: 0.9952 current accuracy: 0.9068 best AUC: 0.9959 at epoch: 53\n",
      "----------\n",
      "epoch 69/70\n"
     ]
    },
    {
     "name": "stderr",
     "output_type": "stream",
     "text": [
      "\n",
      "\u001b[Aining Batches:   0%|          | 0/31 [00:00<?, ?it/s]\n",
      "\u001b[Aining Batches:   0%|          | 0/31 [00:00<?, ?it/s, train_loss=0.26]\n",
      "\u001b[Aining Batches:   3%|▎         | 1/31 [00:00<00:23,  1.26it/s, train_loss=0.26]\n",
      "\u001b[Aining Batches:   3%|▎         | 1/31 [00:01<00:23,  1.26it/s, train_loss=0.178]\n",
      "\u001b[Aining Batches:   6%|▋         | 2/31 [00:01<00:23,  1.22it/s, train_loss=0.178]\n",
      "\u001b[Aining Batches:   6%|▋         | 2/31 [00:02<00:23,  1.22it/s, train_loss=0.129]\n",
      "\u001b[Aining Batches:  10%|▉         | 3/31 [00:02<00:22,  1.24it/s, train_loss=0.129]\n",
      "\u001b[Aining Batches:  10%|▉         | 3/31 [00:03<00:22,  1.24it/s, train_loss=0.104]\n",
      "\u001b[Aining Batches:  13%|█▎        | 4/31 [00:03<00:21,  1.24it/s, train_loss=0.104]\n",
      "\u001b[Aining Batches:  13%|█▎        | 4/31 [00:04<00:21,  1.24it/s, train_loss=0.123]\n",
      "\u001b[Aining Batches:  16%|█▌        | 5/31 [00:04<00:20,  1.24it/s, train_loss=0.123]\n",
      "\u001b[Aining Batches:  16%|█▌        | 5/31 [00:04<00:20,  1.24it/s, train_loss=0.184]\n",
      "\u001b[Aining Batches:  19%|█▉        | 6/31 [00:04<00:19,  1.26it/s, train_loss=0.184]\n",
      "\u001b[Aining Batches:  19%|█▉        | 6/31 [00:05<00:19,  1.26it/s, train_loss=0.367]\n",
      "\u001b[Aining Batches:  23%|██▎       | 7/31 [00:05<00:19,  1.25it/s, train_loss=0.367]\n",
      "\u001b[Aining Batches:  23%|██▎       | 7/31 [00:06<00:19,  1.25it/s, train_loss=0.137]\n",
      "\u001b[Aining Batches:  26%|██▌       | 8/31 [00:06<00:18,  1.25it/s, train_loss=0.137]\n",
      "\u001b[Aining Batches:  26%|██▌       | 8/31 [00:07<00:18,  1.25it/s, train_loss=0.13] \n",
      "\u001b[Aining Batches:  29%|██▉       | 9/31 [00:07<00:18,  1.22it/s, train_loss=0.13]\n",
      "\u001b[Aining Batches:  29%|██▉       | 9/31 [00:08<00:18,  1.22it/s, train_loss=0.257]\n",
      "\u001b[Aining Batches:  32%|███▏      | 10/31 [00:08<00:16,  1.25it/s, train_loss=0.257]\n",
      "\u001b[Aining Batches:  32%|███▏      | 10/31 [00:08<00:16,  1.25it/s, train_loss=0.185]\n",
      "\u001b[Aining Batches:  35%|███▌      | 11/31 [00:08<00:15,  1.25it/s, train_loss=0.185]\n",
      "\u001b[Aining Batches:  35%|███▌      | 11/31 [00:09<00:15,  1.25it/s, train_loss=0.221]\n",
      "\u001b[Aining Batches:  39%|███▊      | 12/31 [00:09<00:15,  1.25it/s, train_loss=0.221]\n",
      "\u001b[Aining Batches:  39%|███▊      | 12/31 [00:10<00:15,  1.25it/s, train_loss=0.186]\n",
      "\u001b[Aining Batches:  42%|████▏     | 13/31 [00:10<00:14,  1.27it/s, train_loss=0.186]\n",
      "\u001b[Aining Batches:  42%|████▏     | 13/31 [00:11<00:14,  1.27it/s, train_loss=0.146]\n",
      "\u001b[Aining Batches:  45%|████▌     | 14/31 [00:11<00:13,  1.25it/s, train_loss=0.146]\n",
      "\u001b[Aining Batches:  45%|████▌     | 14/31 [00:12<00:13,  1.25it/s, train_loss=0.123]\n",
      "\u001b[Aining Batches:  48%|████▊     | 15/31 [00:12<00:13,  1.22it/s, train_loss=0.123]\n",
      "\u001b[Aining Batches:  48%|████▊     | 15/31 [00:12<00:13,  1.22it/s, train_loss=0.101]\n",
      "\u001b[Aining Batches:  52%|█████▏    | 16/31 [00:12<00:12,  1.22it/s, train_loss=0.101]\n",
      "\u001b[Aining Batches:  52%|█████▏    | 16/31 [00:13<00:12,  1.22it/s, train_loss=0.17] \n",
      "\u001b[Aining Batches:  55%|█████▍    | 17/31 [00:13<00:11,  1.22it/s, train_loss=0.17]\n",
      "\u001b[Aining Batches:  55%|█████▍    | 17/31 [00:14<00:11,  1.22it/s, train_loss=0.297]\n",
      "\u001b[Aining Batches:  58%|█████▊    | 18/31 [00:14<00:10,  1.23it/s, train_loss=0.297]\n",
      "\u001b[Aining Batches:  58%|█████▊    | 18/31 [00:15<00:10,  1.23it/s, train_loss=0.197]\n",
      "\u001b[Aining Batches:  61%|██████▏   | 19/31 [00:15<00:09,  1.25it/s, train_loss=0.197]\n",
      "\u001b[Aining Batches:  61%|██████▏   | 19/31 [00:16<00:09,  1.25it/s, train_loss=0.288]\n",
      "\u001b[Aining Batches:  65%|██████▍   | 20/31 [00:16<00:08,  1.24it/s, train_loss=0.288]\n",
      "\u001b[Aining Batches:  65%|██████▍   | 20/31 [00:16<00:08,  1.24it/s, train_loss=0.202]\n",
      "\u001b[Aining Batches:  68%|██████▊   | 21/31 [00:16<00:07,  1.25it/s, train_loss=0.202]\n",
      "\u001b[Aining Batches:  68%|██████▊   | 21/31 [00:17<00:07,  1.25it/s, train_loss=0.224]\n",
      "\u001b[Aining Batches:  71%|███████   | 22/31 [00:17<00:07,  1.26it/s, train_loss=0.224]\n",
      "\u001b[Aining Batches:  71%|███████   | 22/31 [00:18<00:07,  1.26it/s, train_loss=0.196]\n",
      "\u001b[Aining Batches:  74%|███████▍  | 23/31 [00:18<00:06,  1.24it/s, train_loss=0.196]\n",
      "\u001b[Aining Batches:  74%|███████▍  | 23/31 [00:19<00:06,  1.24it/s, train_loss=0.188]\n",
      "\u001b[Aining Batches:  77%|███████▋  | 24/31 [00:19<00:05,  1.25it/s, train_loss=0.188]\n",
      "\u001b[Aining Batches:  77%|███████▋  | 24/31 [00:20<00:05,  1.25it/s, train_loss=0.175]\n",
      "\u001b[Aining Batches:  81%|████████  | 25/31 [00:20<00:04,  1.27it/s, train_loss=0.175]\n",
      "\u001b[Aining Batches:  81%|████████  | 25/31 [00:20<00:04,  1.27it/s, train_loss=0.14] \n",
      "\u001b[Aining Batches:  84%|████████▍ | 26/31 [00:20<00:03,  1.28it/s, train_loss=0.14]\n",
      "\u001b[Aining Batches:  84%|████████▍ | 26/31 [00:21<00:03,  1.28it/s, train_loss=0.26]\n",
      "\u001b[Aining Batches:  87%|████████▋ | 27/31 [00:21<00:03,  1.26it/s, train_loss=0.26]\n",
      "\u001b[Aining Batches:  87%|████████▋ | 27/31 [00:22<00:03,  1.26it/s, train_loss=0.165]\n",
      "\u001b[Aining Batches:  90%|█████████ | 28/31 [00:22<00:02,  1.29it/s, train_loss=0.165]\n",
      "\u001b[Aining Batches:  90%|█████████ | 28/31 [00:23<00:02,  1.29it/s, train_loss=0.129]\n",
      "\u001b[Aining Batches:  94%|█████████▎| 29/31 [00:23<00:01,  1.29it/s, train_loss=0.129]\n",
      "\u001b[Aining Batches:  94%|█████████▎| 29/31 [00:23<00:01,  1.29it/s, train_loss=0.148]\n",
      "\u001b[Aining Batches:  97%|█████████▋| 30/31 [00:23<00:00,  1.29it/s, train_loss=0.148]\n",
      "\u001b[Aining Batches:  97%|█████████▋| 30/31 [00:24<00:00,  1.29it/s, train_loss=0.165]\n",
      "\u001b[Aining Batches: 100%|██████████| 31/31 [00:24<00:00,  1.61it/s, train_loss=0.165]\n",
      "\u001b[A                                                                                "
     ]
    },
    {
     "name": "stdout",
     "output_type": "stream",
     "text": [
      "epoch 69 average loss: 0.1863\n"
     ]
    },
    {
     "name": "stderr",
     "output_type": "stream",
     "text": [
      "Epochs:  99%|█████████▊| 69/70 [28:38<00:24, 24.81s/it]"
     ]
    },
    {
     "name": "stdout",
     "output_type": "stream",
     "text": [
      "1\n",
      "current epoch: 69 current AUC: 0.9918 current accuracy: 0.8944 best AUC: 0.9959 at epoch: 53\n",
      "----------\n",
      "epoch 70/70\n"
     ]
    },
    {
     "name": "stderr",
     "output_type": "stream",
     "text": [
      "\n",
      "\u001b[Aining Batches:   0%|          | 0/31 [00:00<?, ?it/s]\n",
      "\u001b[Aining Batches:   0%|          | 0/31 [00:00<?, ?it/s, train_loss=0.136]\n",
      "\u001b[Aining Batches:   3%|▎         | 1/31 [00:00<00:24,  1.22it/s, train_loss=0.136]\n",
      "\u001b[Aining Batches:   3%|▎         | 1/31 [00:01<00:24,  1.22it/s, train_loss=0.227]\n",
      "\u001b[Aining Batches:   6%|▋         | 2/31 [00:01<00:23,  1.26it/s, train_loss=0.227]\n",
      "\u001b[Aining Batches:   6%|▋         | 2/31 [00:02<00:23,  1.26it/s, train_loss=0.0875]\n",
      "\u001b[Aining Batches:  10%|▉         | 3/31 [00:02<00:21,  1.29it/s, train_loss=0.0875]\n",
      "\u001b[Aining Batches:  10%|▉         | 3/31 [00:03<00:21,  1.29it/s, train_loss=0.12]  \n",
      "\u001b[Aining Batches:  13%|█▎        | 4/31 [00:03<00:21,  1.28it/s, train_loss=0.12]\n",
      "\u001b[Aining Batches:  13%|█▎        | 4/31 [00:03<00:21,  1.28it/s, train_loss=0.134]\n",
      "\u001b[Aining Batches:  16%|█▌        | 5/31 [00:03<00:20,  1.26it/s, train_loss=0.134]\n",
      "\u001b[Aining Batches:  16%|█▌        | 5/31 [00:04<00:20,  1.26it/s, train_loss=0.126]\n",
      "\u001b[Aining Batches:  19%|█▉        | 6/31 [00:04<00:19,  1.26it/s, train_loss=0.126]\n",
      "\u001b[Aining Batches:  19%|█▉        | 6/31 [00:05<00:19,  1.26it/s, train_loss=0.118]\n",
      "\u001b[Aining Batches:  23%|██▎       | 7/31 [00:05<00:19,  1.26it/s, train_loss=0.118]\n",
      "\u001b[Aining Batches:  23%|██▎       | 7/31 [00:06<00:19,  1.26it/s, train_loss=0.192]\n",
      "\u001b[Aining Batches:  26%|██▌       | 8/31 [00:06<00:17,  1.28it/s, train_loss=0.192]\n",
      "\u001b[Aining Batches:  26%|██▌       | 8/31 [00:07<00:17,  1.28it/s, train_loss=0.709]\n",
      "\u001b[Aining Batches:  29%|██▉       | 9/31 [00:07<00:17,  1.27it/s, train_loss=0.709]\n",
      "\u001b[Aining Batches:  29%|██▉       | 9/31 [00:07<00:17,  1.27it/s, train_loss=0.194]\n",
      "\u001b[Aining Batches:  32%|███▏      | 10/31 [00:07<00:16,  1.24it/s, train_loss=0.194]\n",
      "\u001b[Aining Batches:  32%|███▏      | 10/31 [00:08<00:16,  1.24it/s, train_loss=0.176]\n",
      "\u001b[Aining Batches:  35%|███▌      | 11/31 [00:08<00:16,  1.24it/s, train_loss=0.176]\n",
      "\u001b[Aining Batches:  35%|███▌      | 11/31 [00:09<00:16,  1.24it/s, train_loss=0.173]\n",
      "\u001b[Aining Batches:  39%|███▊      | 12/31 [00:09<00:15,  1.24it/s, train_loss=0.173]\n",
      "\u001b[Aining Batches:  39%|███▊      | 12/31 [00:10<00:15,  1.24it/s, train_loss=0.212]\n",
      "\u001b[Aining Batches:  42%|████▏     | 13/31 [00:10<00:14,  1.25it/s, train_loss=0.212]\n",
      "\u001b[Aining Batches:  42%|████▏     | 13/31 [00:11<00:14,  1.25it/s, train_loss=0.0713]\n",
      "\u001b[Aining Batches:  45%|████▌     | 14/31 [00:11<00:13,  1.25it/s, train_loss=0.0713]\n",
      "\u001b[Aining Batches:  45%|████▌     | 14/31 [00:11<00:13,  1.25it/s, train_loss=0.114] \n",
      "\u001b[Aining Batches:  48%|████▊     | 15/31 [00:11<00:12,  1.26it/s, train_loss=0.114]\n",
      "\u001b[Aining Batches:  48%|████▊     | 15/31 [00:12<00:12,  1.26it/s, train_loss=0.157]\n",
      "\u001b[Aining Batches:  52%|█████▏    | 16/31 [00:12<00:11,  1.27it/s, train_loss=0.157]\n",
      "\u001b[Aining Batches:  52%|█████▏    | 16/31 [00:13<00:11,  1.27it/s, train_loss=0.151]\n",
      "\u001b[Aining Batches:  55%|█████▍    | 17/31 [00:13<00:10,  1.28it/s, train_loss=0.151]\n",
      "\u001b[Aining Batches:  55%|█████▍    | 17/31 [00:14<00:10,  1.28it/s, train_loss=0.154]\n",
      "\u001b[Aining Batches:  58%|█████▊    | 18/31 [00:14<00:10,  1.27it/s, train_loss=0.154]\n",
      "\u001b[Aining Batches:  58%|█████▊    | 18/31 [00:15<00:10,  1.27it/s, train_loss=0.0872]\n",
      "\u001b[Aining Batches:  61%|██████▏   | 19/31 [00:15<00:09,  1.26it/s, train_loss=0.0872]\n",
      "\u001b[Aining Batches:  61%|██████▏   | 19/31 [00:15<00:09,  1.26it/s, train_loss=0.0998]\n",
      "\u001b[Aining Batches:  65%|██████▍   | 20/31 [00:15<00:08,  1.23it/s, train_loss=0.0998]\n",
      "\u001b[Aining Batches:  65%|██████▍   | 20/31 [00:16<00:08,  1.23it/s, train_loss=0.123] \n",
      "\u001b[Aining Batches:  68%|██████▊   | 21/31 [00:16<00:08,  1.24it/s, train_loss=0.123]\n",
      "\u001b[Aining Batches:  68%|██████▊   | 21/31 [00:17<00:08,  1.24it/s, train_loss=0.18] \n",
      "\u001b[Aining Batches:  71%|███████   | 22/31 [00:17<00:07,  1.24it/s, train_loss=0.18]\n",
      "\u001b[Aining Batches:  71%|███████   | 22/31 [00:18<00:07,  1.24it/s, train_loss=0.109]\n",
      "\u001b[Aining Batches:  74%|███████▍  | 23/31 [00:18<00:06,  1.28it/s, train_loss=0.109]\n",
      "\u001b[Aining Batches:  74%|███████▍  | 23/31 [00:18<00:06,  1.28it/s, train_loss=0.116]\n",
      "\u001b[Aining Batches:  77%|███████▋  | 24/31 [00:18<00:05,  1.30it/s, train_loss=0.116]\n",
      "\u001b[Aining Batches:  77%|███████▋  | 24/31 [00:19<00:05,  1.30it/s, train_loss=0.166]\n",
      "\u001b[Aining Batches:  81%|████████  | 25/31 [00:19<00:04,  1.27it/s, train_loss=0.166]\n",
      "\u001b[Aining Batches:  81%|████████  | 25/31 [00:20<00:04,  1.27it/s, train_loss=0.116]\n",
      "\u001b[Aining Batches:  84%|████████▍ | 26/31 [00:20<00:03,  1.30it/s, train_loss=0.116]\n",
      "\u001b[Aining Batches:  84%|████████▍ | 26/31 [00:21<00:03,  1.30it/s, train_loss=0.215]\n",
      "\u001b[Aining Batches:  87%|████████▋ | 27/31 [00:21<00:03,  1.27it/s, train_loss=0.215]\n",
      "\u001b[Aining Batches:  87%|████████▋ | 27/31 [00:22<00:03,  1.27it/s, train_loss=0.243]\n",
      "\u001b[Aining Batches:  90%|█████████ | 28/31 [00:22<00:02,  1.25it/s, train_loss=0.243]\n",
      "\u001b[Aining Batches:  90%|█████████ | 28/31 [00:23<00:02,  1.25it/s, train_loss=0.151]\n",
      "\u001b[Aining Batches:  94%|█████████▎| 29/31 [00:23<00:01,  1.23it/s, train_loss=0.151]\n",
      "\u001b[Aining Batches:  94%|█████████▎| 29/31 [00:23<00:01,  1.23it/s, train_loss=0.101]\n",
      "\u001b[Aining Batches:  97%|█████████▋| 30/31 [00:23<00:00,  1.23it/s, train_loss=0.101]\n",
      "\u001b[Aining Batches:  97%|█████████▋| 30/31 [00:24<00:00,  1.23it/s, train_loss=0.605]\n",
      "\u001b[Aining Batches: 100%|██████████| 31/31 [00:24<00:00,  1.53it/s, train_loss=0.605]\n",
      "\u001b[A                                                                                "
     ]
    },
    {
     "name": "stdout",
     "output_type": "stream",
     "text": [
      "epoch 70 average loss: 0.1794\n"
     ]
    },
    {
     "name": "stderr",
     "output_type": "stream",
     "text": [
      "Epochs: 100%|██████████| 70/70 [29:02<00:00, 24.90s/it]"
     ]
    },
    {
     "name": "stdout",
     "output_type": "stream",
     "text": [
      "1\n",
      "current epoch: 70 current AUC: 0.9917 current accuracy: 0.8758 best AUC: 0.9959 at epoch: 53\n",
      "train completed, best_metric: 0.9959 at epoch: 53\n"
     ]
    },
    {
     "name": "stderr",
     "output_type": "stream",
     "text": [
      "\n"
     ]
    }
   ],
   "source": [
    "best_metric = -1\n",
    "best_metric_epoch = -1\n",
    "epoch_loss_values = []\n",
    "metric_values = []\n",
    "writer = SummaryWriter()\n",
    "\n",
    "start_time = time.time()\n",
    "process = psutil.Process()\n",
    "start_cpu = process.cpu_times()\n",
    "start_mem = process.memory_info().rss / 1024**2  # В MB\n",
    "\n",
    "if device.type == \"cuda\":\n",
    "    torch.cuda.synchronize()\n",
    "    torch.cuda.reset_peak_memory_stats()\n",
    "\n",
    "for epoch in tqdm(range(max_epochs), desc=\"Epochs\"):\n",
    "    print(\"-\" * 10)\n",
    "    print(f\"epoch {epoch + 1}/{max_epochs}\")\n",
    "    model.train()\n",
    "    epoch_loss = 0\n",
    "    step = 0\n",
    "    batch_iter = tqdm(train_loader, desc=\"Training Batches\", leave=False)\n",
    "    \n",
    "    for batch_data in batch_iter:\n",
    "        step += 1\n",
    "        images, labels = batch_data['images'].to(device), batch_data['label'][:, 0].type(torch.LongTensor).to(device)\n",
    "        optimizer.zero_grad()\n",
    "        outputs = model(images)\n",
    "        loss = loss_function(outputs, labels)\n",
    "        loss.backward()\n",
    "        optimizer.step()\n",
    "        epoch_loss += loss.item()\n",
    "        epoch_len = len(train_dataset) // train_loader.batch_size\n",
    "        writer.add_scalar(\"train_loss\", loss.item(), epoch_len * epoch + step)\n",
    "        batch_iter.set_postfix(train_loss=loss.item())\n",
    "        \n",
    "    epoch_loss /= step\n",
    "    epoch_loss_values.append(epoch_loss)\n",
    "    print(f\"epoch {epoch + 1} average loss: {epoch_loss:.4f}\")\n",
    "\n",
    "    if (epoch + 1) % val_interval == 0:\n",
    "        model.eval()\n",
    "        with torch.no_grad():\n",
    "            y_pred = torch.tensor([], dtype=torch.float32, device=device)\n",
    "            y = torch.tensor([], dtype=torch.long, device=device)\n",
    "            for val_data in val_loader:\n",
    "                val_images, val_labels = (\n",
    "                    val_data['images'].to(device),\n",
    "                    val_data['label'][:, 0].type(torch.LongTensor).to(device),\n",
    "                )\n",
    "                y_pred = torch.cat([y_pred, model(val_images)], dim=0)\n",
    "                y = torch.cat([y, val_labels], dim=0)\n",
    "            y_onehot = [y_trans(i) for i in decollate_batch(y, detach=False)]\n",
    "            print('1')\n",
    "            y_pred_act = [y_pred_trans(i) for i in decollate_batch(y_pred)]\n",
    "            auc_metric(y_pred_act, y_onehot)\n",
    "            result = auc_metric.aggregate()\n",
    "            auc_metric.reset()\n",
    "            del y_pred_act, y_onehot\n",
    "            metric_values.append(result)\n",
    "            acc_value = torch.eq(y_pred.argmax(dim=1), y)\n",
    "            acc_metric = acc_value.sum().item() / len(acc_value)\n",
    "            if result > best_metric:\n",
    "                best_metric = result\n",
    "                best_metric_epoch = epoch + 1\n",
    "                torch.save(model.state_dict(), os.path.join(root_dir, \"best_metric_model_3d_pretrained.pth\"))\n",
    "                print(\"saved new best metric model\")\n",
    "            print(\n",
    "                f\"current epoch: {epoch + 1} current AUC: {result:.4f}\"\n",
    "                f\" current accuracy: {acc_metric:.4f}\"\n",
    "                f\" best AUC: {best_metric:.4f}\"\n",
    "                f\" at epoch: {best_metric_epoch}\"\n",
    "            )\n",
    "            writer.add_scalar(\"val_accuracy\", acc_metric, epoch + 1)\n",
    "\n",
    "print(f\"train completed, best_metric: {best_metric:.4f} \" f\"at epoch: {best_metric_epoch}\")\n",
    "writer.close()"
   ]
  },
  {
   "cell_type": "code",
   "execution_count": 30,
   "metadata": {},
   "outputs": [
    {
     "name": "stdout",
     "output_type": "stream",
     "text": [
      "Training time: 1742.94 seconds\n",
      "CPU time used: 14937.51 seconds\n",
      "Memory used: 391.32 MB\n",
      "GPU Memory Used: 793.94 MB\n",
      "Max GPU Memory Used: 13104.66 MB\n"
     ]
    }
   ],
   "source": [
    "end_time = time.time()\n",
    "end_cpu = process.cpu_times()\n",
    "end_mem = process.memory_info().rss / 1024**2\n",
    "\n",
    "cpu_time = (end_cpu.user + end_cpu.system) - (start_cpu.user + start_cpu.system)\n",
    "memory_used = end_mem - start_mem\n",
    "\n",
    "print(f\"Training time: {end_time - start_time:.2f} seconds\")\n",
    "print(f\"CPU time used: {cpu_time:.2f} seconds\")\n",
    "print(f\"Memory used: {memory_used:.2f} MB\")\n",
    "\n",
    "if device.type == \"cuda\":\n",
    "    torch.cuda.synchronize()\n",
    "    print(f\"GPU Memory Used: {torch.cuda.memory_allocated() / 1024**2:.2f} MB\")\n",
    "    print(f\"Max GPU Memory Used: {torch.cuda.max_memory_allocated() / 1024**2:.2f} MB\")\n"
   ]
  },
  {
   "cell_type": "code",
   "execution_count": 31,
   "metadata": {},
   "outputs": [
    {
     "data": {
      "image/png": "[encoded data removed]",
      "text/plain": [
       "<Figure size 1200x600 with 2 Axes>"
      ]
     },
     "metadata": {},
     "output_type": "display_data"
    }
   ],
   "source": [
    "plt.figure(\"train\", (12, 6))\n",
    "plt.subplot(1, 2, 1)\n",
    "plt.title(\"Epoch Average Loss\")\n",
    "x = [i + 1 for i in range(len(epoch_loss_values))]\n",
    "y = epoch_loss_values\n",
    "plt.xlabel(\"epoch\")\n",
    "plt.plot(x, y)\n",
    "plt.subplot(1, 2, 2)\n",
    "plt.title(\"Val AUC\")\n",
    "x = [val_interval * (i + 1) for i in range(len(metric_values))]\n",
    "y = metric_values\n",
    "plt.xlabel(\"epoch\")\n",
    "plt.plot(x, y)\n",
    "plt.show()"
   ]
  },
  {
   "cell_type": "code",
   "execution_count": 32,
   "metadata": {},
   "outputs": [
    {
     "name": "stdout",
     "output_type": "stream",
     "text": [
      "VRAM currently used: 793.94 MB\n",
      "Max VRAM used during training: 13104.66 MB\n"
     ]
    }
   ],
   "source": [
    "if device.type == \"cuda\":\n",
    "    torch.cuda.synchronize()\n",
    "    vram_used = torch.cuda.memory_allocated() / 1024**2\n",
    "    vram_max_used = torch.cuda.max_memory_allocated() / 1024**2\n",
    "\n",
    "    print(f\"VRAM currently used: {vram_used:.2f} MB\")\n",
    "    print(f\"Max VRAM used during training: {vram_max_used:.2f} MB\")\n"
   ]
  },
  {
   "cell_type": "markdown",
   "metadata": {},
   "source": [
    "### Evaluate the model on test dataset"
   ]
  },
  {
   "cell_type": "code",
   "execution_count": 33,
   "metadata": {},
   "outputs": [
    {
     "name": "stdout",
     "output_type": "stream",
     "text": [
      "Validation AUC: 0.9838\n"
     ]
    }
   ],
   "source": [
    "model.load_state_dict(torch.load(os.path.join(root_dir, \"best_metric_model_3d_pretrained.pth\"), weights_only=True))\n",
    "model.eval()\n",
    "\n",
    "y_true = []\n",
    "y_predicted = []\n",
    "\n",
    "with torch.no_grad():\n",
    "    y_pred = torch.tensor([], dtype=torch.float32, device=device)\n",
    "    y = torch.tensor([], dtype=torch.long, device=device)\n",
    "    for test_data in test_loader:\n",
    "        test_images, test_labels = (\n",
    "            test_data['images'],\n",
    "            test_data['label'][:, 0].type(torch.LongTensor),\n",
    "        )\n",
    "\n",
    "        output = model(test_images.to(device))\n",
    "        pred = output.argmax(dim=1)\n",
    "        \n",
    "        for i in range(len(pred)):\n",
    "            y_true.append(test_labels[i].item())\n",
    "            y_predicted.append(pred[i].item())\n",
    "\n",
    "        y_pred = torch.cat([y_pred, output], dim=0)\n",
    "        y = torch.cat([y, test_labels.to(device)], dim=0)\n",
    "\n",
    "    # Evaluate AUC and accuracy\n",
    "    y_onehot = [y_trans(i) for i in decollate_batch(y, detach=False)]\n",
    "    y_pred_act = [y_pred_trans(i) for i in decollate_batch(y_pred)]\n",
    "    auc_metric(y_pred_act, y_onehot)\n",
    "    result = auc_metric.aggregate()\n",
    "    auc_metric.reset()\n",
    "\n",
    "    print(f\"Validation AUC: {result:.4f}\")"
   ]
  },
  {
   "cell_type": "code",
   "execution_count": 34,
   "metadata": {},
   "outputs": [
    {
     "name": "stdout",
     "output_type": "stream",
     "text": [
      "              precision    recall  f1-score   support\n",
      "\n",
      "           0     0.9857    1.0000    0.9928        69\n",
      "           1     0.7069    0.6029    0.6508        68\n",
      "           2     0.6329    0.7246    0.6757        69\n",
      "           3     0.7115    0.5692    0.6325        65\n",
      "           4     0.6429    0.6923    0.6667        65\n",
      "           5     0.9394    0.9394    0.9394        66\n",
      "           6     1.0000    0.8214    0.9020        28\n",
      "           7     1.0000    1.0000    1.0000        21\n",
      "           8     1.0000    1.0000    1.0000        21\n",
      "           9     0.9041    0.9565    0.9296        69\n",
      "          10     0.8961    1.0000    0.9452        69\n",
      "\n",
      "    accuracy                         0.8262       610\n",
      "   macro avg     0.8563    0.8460    0.8486       610\n",
      "weighted avg     0.8262    0.8262    0.8237       610\n",
      "\n"
     ]
    }
   ],
   "source": [
    "print(classification_report(y_true, y_predicted, target_names=info['label'], digits=4))"
   ]
  },
  {
   "cell_type": "code",
   "execution_count": 35,
   "metadata": {},
   "outputs": [
    {
     "name": "stdout",
     "output_type": "stream",
     "text": [
      "VRAM currently used: 540.74 MB\n",
      "Max VRAM used during training: 13104.66 MB\n"
     ]
    }
   ],
   "source": [
    "if device.type == \"cuda\":\n",
    "    torch.cuda.synchronize()\n",
    "    vram_used = torch.cuda.memory_allocated() / 1024**2\n",
    "    vram_max_used = torch.cuda.max_memory_allocated() / 1024**2\n",
    "\n",
    "    print(f\"VRAM currently used: {vram_used:.2f} MB\")\n",
    "    print(f\"Max VRAM used during training: {vram_max_used:.2f} MB\")\n"
   ]
  },
  {
   "cell_type": "code",
   "execution_count": null,
   "metadata": {},
   "outputs": [],
   "source": []
  }
 ],
 "metadata": {
  "colab": {
   "provenance": []
  },
  "kernelspec": {
   "display_name": "Python 3 (ipykernel)",
   "language": "python",
   "name": "python3"
  },
  "language_info": {
   "codemirror_mode": {
    "name": "ipython",
    "version": 3
   },
   "file_extension": ".py",
   "mimetype": "text/x-python",
   "name": "python",
   "nbconvert_exporter": "python",
   "pygments_lexer": "ipython3",
   "version": "3.10.13"
  }
 },
 "nbformat": 4,
 "nbformat_minor": 4
}
